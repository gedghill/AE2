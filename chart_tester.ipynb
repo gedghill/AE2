{
 "cells": [
  {
   "cell_type": "code",
   "execution_count": 8,
   "id": "a1287bd5",
   "metadata": {},
   "outputs": [],
   "source": [
    "import yfinance as yf\n",
    "import pandas as pd\n",
    "#from prophet import Prophet\n",
    "#from prophet.plot import plot_plotly\n",
    "#from sklearn.metrics import mean_absolute_percentage_error\n",
    "#from statsmodels.tsa.arima.model import ARIMA\n",
    "from datetime import datetime, timedelta\n",
    "import plotly.graph_objects as go\n",
    "from plotly.offline import iplot\n",
    "from fetch_data import fetch_data\n"
   ]
  },
  {
   "cell_type": "code",
   "execution_count": 10,
   "id": "3ae3f5b4",
   "metadata": {},
   "outputs": [
    {
     "name": "stderr",
     "output_type": "stream",
     "text": [
      "[*********************100%***********************]  30 of 30 completed\n"
     ]
    }
   ],
   "source": [
    "# Fetch Data\n",
    "crypto_list = [\n",
    "        'BTC-USD', 'ETH-USD', 'XRP-USD', 'LTC-USD', 'BCH-USD', 'ADA-USD', 'DOT-USD',\n",
    "        'BNB-USD', 'LINK-USD', 'XLM-USD', 'DOGE-USD', 'UNI-USD', 'AAVE-USD', 'ATOM-USD',\n",
    "        'AVAX-USD', 'PEPE24478-USD', 'SOL-USD', 'CHR-USD', 'ALGO-USD', 'FTT-USD', 'VET-USD',\n",
    "        'USDT-USD', 'TRX-USD', 'ETC-USD', 'XMR-USD', 'EOS-USD', 'THETA-USD', 'NEO-USD',\n",
    "        'DASH-USD', 'WIF-USD'\n",
    "    ]\n",
    "def download_data(cryptos, duration):\n",
    "    end_date = datetime.now()\n",
    "    start_date = end_date - timedelta(days=int(duration-1))\n",
    "\n",
    "    #initialize empty data frame\n",
    "    data=pd.DataFrame()\n",
    "\n",
    "    data = yf.download(cryptos, start=start_date, end=end_date)\n",
    "    return data\n",
    "\n",
    "df = download_data(crypto_list, 365) "
   ]
  },
  {
   "cell_type": "code",
   "execution_count": 11,
   "id": "684cc0d7",
   "metadata": {},
   "outputs": [
    {
     "data": {
      "text/html": [
       "<div>\n",
       "<style scoped>\n",
       "    .dataframe tbody tr th:only-of-type {\n",
       "        vertical-align: middle;\n",
       "    }\n",
       "\n",
       "    .dataframe tbody tr th {\n",
       "        vertical-align: top;\n",
       "    }\n",
       "\n",
       "    .dataframe thead tr th {\n",
       "        text-align: left;\n",
       "    }\n",
       "\n",
       "    .dataframe thead tr:last-of-type th {\n",
       "        text-align: right;\n",
       "    }\n",
       "</style>\n",
       "<table border=\"1\" class=\"dataframe\">\n",
       "  <thead>\n",
       "    <tr>\n",
       "      <th>Price</th>\n",
       "      <th colspan=\"10\" halign=\"left\">Close</th>\n",
       "      <th>...</th>\n",
       "      <th colspan=\"10\" halign=\"left\">Volume</th>\n",
       "    </tr>\n",
       "    <tr>\n",
       "      <th>Ticker</th>\n",
       "      <th>AAVE-USD</th>\n",
       "      <th>ADA-USD</th>\n",
       "      <th>ALGO-USD</th>\n",
       "      <th>ATOM-USD</th>\n",
       "      <th>AVAX-USD</th>\n",
       "      <th>BCH-USD</th>\n",
       "      <th>BNB-USD</th>\n",
       "      <th>BTC-USD</th>\n",
       "      <th>CHR-USD</th>\n",
       "      <th>DASH-USD</th>\n",
       "      <th>...</th>\n",
       "      <th>SOL-USD</th>\n",
       "      <th>THETA-USD</th>\n",
       "      <th>TRX-USD</th>\n",
       "      <th>UNI-USD</th>\n",
       "      <th>USDT-USD</th>\n",
       "      <th>VET-USD</th>\n",
       "      <th>WIF-USD</th>\n",
       "      <th>XLM-USD</th>\n",
       "      <th>XMR-USD</th>\n",
       "      <th>XRP-USD</th>\n",
       "    </tr>\n",
       "    <tr>\n",
       "      <th>Date</th>\n",
       "      <th></th>\n",
       "      <th></th>\n",
       "      <th></th>\n",
       "      <th></th>\n",
       "      <th></th>\n",
       "      <th></th>\n",
       "      <th></th>\n",
       "      <th></th>\n",
       "      <th></th>\n",
       "      <th></th>\n",
       "      <th></th>\n",
       "      <th></th>\n",
       "      <th></th>\n",
       "      <th></th>\n",
       "      <th></th>\n",
       "      <th></th>\n",
       "      <th></th>\n",
       "      <th></th>\n",
       "      <th></th>\n",
       "      <th></th>\n",
       "      <th></th>\n",
       "    </tr>\n",
       "  </thead>\n",
       "  <tbody>\n",
       "    <tr>\n",
       "      <th>2024-04-30</th>\n",
       "      <td>83.363312</td>\n",
       "      <td>0.440812</td>\n",
       "      <td>0.177978</td>\n",
       "      <td>8.466941</td>\n",
       "      <td>32.706425</td>\n",
       "      <td>434.157166</td>\n",
       "      <td>578.488037</td>\n",
       "      <td>60636.855469</td>\n",
       "      <td>0.266168</td>\n",
       "      <td>28.080332</td>\n",
       "      <td>...</td>\n",
       "      <td>3407320371</td>\n",
       "      <td>73061045</td>\n",
       "      <td>496122483</td>\n",
       "      <td>33.0</td>\n",
       "      <td>66092463422</td>\n",
       "      <td>69466807</td>\n",
       "      <td>399173479</td>\n",
       "      <td>91934242</td>\n",
       "      <td>54513579</td>\n",
       "      <td>1347490379</td>\n",
       "    </tr>\n",
       "    <tr>\n",
       "      <th>2024-05-01</th>\n",
       "      <td>83.748108</td>\n",
       "      <td>0.449866</td>\n",
       "      <td>0.180666</td>\n",
       "      <td>8.742611</td>\n",
       "      <td>33.288101</td>\n",
       "      <td>424.038635</td>\n",
       "      <td>561.408203</td>\n",
       "      <td>58254.011719</td>\n",
       "      <td>0.268329</td>\n",
       "      <td>28.584440</td>\n",
       "      <td>...</td>\n",
       "      <td>4136407963</td>\n",
       "      <td>67062567</td>\n",
       "      <td>482118834</td>\n",
       "      <td>32.0</td>\n",
       "      <td>76859530069</td>\n",
       "      <td>77079462</td>\n",
       "      <td>539683830</td>\n",
       "      <td>99567176</td>\n",
       "      <td>44685650</td>\n",
       "      <td>1720060134</td>\n",
       "    </tr>\n",
       "    <tr>\n",
       "      <th>2024-05-02</th>\n",
       "      <td>84.980095</td>\n",
       "      <td>0.458282</td>\n",
       "      <td>0.181256</td>\n",
       "      <td>8.651612</td>\n",
       "      <td>33.612564</td>\n",
       "      <td>429.969849</td>\n",
       "      <td>560.526733</td>\n",
       "      <td>59123.433594</td>\n",
       "      <td>0.270306</td>\n",
       "      <td>29.152054</td>\n",
       "      <td>...</td>\n",
       "      <td>3380078368</td>\n",
       "      <td>49140176</td>\n",
       "      <td>352230934</td>\n",
       "      <td>32.0</td>\n",
       "      <td>54769809487</td>\n",
       "      <td>47564282</td>\n",
       "      <td>431302208</td>\n",
       "      <td>74766755</td>\n",
       "      <td>47242005</td>\n",
       "      <td>1118497654</td>\n",
       "    </tr>\n",
       "    <tr>\n",
       "      <th>2024-05-03</th>\n",
       "      <td>88.814995</td>\n",
       "      <td>0.467544</td>\n",
       "      <td>0.191979</td>\n",
       "      <td>8.768824</td>\n",
       "      <td>35.584896</td>\n",
       "      <td>453.345551</td>\n",
       "      <td>587.010437</td>\n",
       "      <td>62889.835938</td>\n",
       "      <td>0.282321</td>\n",
       "      <td>29.759146</td>\n",
       "      <td>...</td>\n",
       "      <td>3216962298</td>\n",
       "      <td>39098980</td>\n",
       "      <td>275034834</td>\n",
       "      <td>34.0</td>\n",
       "      <td>53871028495</td>\n",
       "      <td>56741257</td>\n",
       "      <td>444766260</td>\n",
       "      <td>62383004</td>\n",
       "      <td>52444310</td>\n",
       "      <td>1138445190</td>\n",
       "    </tr>\n",
       "    <tr>\n",
       "      <th>2024-05-04</th>\n",
       "      <td>89.053757</td>\n",
       "      <td>0.463577</td>\n",
       "      <td>0.192794</td>\n",
       "      <td>8.694795</td>\n",
       "      <td>37.361832</td>\n",
       "      <td>463.508820</td>\n",
       "      <td>585.846558</td>\n",
       "      <td>63891.472656</td>\n",
       "      <td>0.277544</td>\n",
       "      <td>29.241491</td>\n",
       "      <td>...</td>\n",
       "      <td>3050187811</td>\n",
       "      <td>33466740</td>\n",
       "      <td>224837130</td>\n",
       "      <td>35.0</td>\n",
       "      <td>39527945715</td>\n",
       "      <td>44470807</td>\n",
       "      <td>546978472</td>\n",
       "      <td>49329923</td>\n",
       "      <td>59402585</td>\n",
       "      <td>686389982</td>\n",
       "    </tr>\n",
       "  </tbody>\n",
       "</table>\n",
       "<p>5 rows × 150 columns</p>\n",
       "</div>"
      ],
      "text/plain": [
       "Price           Close                                                       \\\n",
       "Ticker       AAVE-USD   ADA-USD  ALGO-USD  ATOM-USD   AVAX-USD     BCH-USD   \n",
       "Date                                                                         \n",
       "2024-04-30  83.363312  0.440812  0.177978  8.466941  32.706425  434.157166   \n",
       "2024-05-01  83.748108  0.449866  0.180666  8.742611  33.288101  424.038635   \n",
       "2024-05-02  84.980095  0.458282  0.181256  8.651612  33.612564  429.969849   \n",
       "2024-05-03  88.814995  0.467544  0.191979  8.768824  35.584896  453.345551   \n",
       "2024-05-04  89.053757  0.463577  0.192794  8.694795  37.361832  463.508820   \n",
       "\n",
       "Price                                                      ...      Volume  \\\n",
       "Ticker         BNB-USD       BTC-USD   CHR-USD   DASH-USD  ...     SOL-USD   \n",
       "Date                                                       ...               \n",
       "2024-04-30  578.488037  60636.855469  0.266168  28.080332  ...  3407320371   \n",
       "2024-05-01  561.408203  58254.011719  0.268329  28.584440  ...  4136407963   \n",
       "2024-05-02  560.526733  59123.433594  0.270306  29.152054  ...  3380078368   \n",
       "2024-05-03  587.010437  62889.835938  0.282321  29.759146  ...  3216962298   \n",
       "2024-05-04  585.846558  63891.472656  0.277544  29.241491  ...  3050187811   \n",
       "\n",
       "Price                                                                      \\\n",
       "Ticker     THETA-USD    TRX-USD UNI-USD     USDT-USD   VET-USD    WIF-USD   \n",
       "Date                                                                        \n",
       "2024-04-30  73061045  496122483    33.0  66092463422  69466807  399173479   \n",
       "2024-05-01  67062567  482118834    32.0  76859530069  77079462  539683830   \n",
       "2024-05-02  49140176  352230934    32.0  54769809487  47564282  431302208   \n",
       "2024-05-03  39098980  275034834    34.0  53871028495  56741257  444766260   \n",
       "2024-05-04  33466740  224837130    35.0  39527945715  44470807  546978472   \n",
       "\n",
       "Price                                       \n",
       "Ticker       XLM-USD   XMR-USD     XRP-USD  \n",
       "Date                                        \n",
       "2024-04-30  91934242  54513579  1347490379  \n",
       "2024-05-01  99567176  44685650  1720060134  \n",
       "2024-05-02  74766755  47242005  1118497654  \n",
       "2024-05-03  62383004  52444310  1138445190  \n",
       "2024-05-04  49329923  59402585   686389982  \n",
       "\n",
       "[5 rows x 150 columns]"
      ]
     },
     "execution_count": 11,
     "metadata": {},
     "output_type": "execute_result"
    }
   ],
   "source": [
    "df.head()"
   ]
  },
  {
   "cell_type": "code",
   "execution_count": 15,
   "id": "6553c243",
   "metadata": {},
   "outputs": [],
   "source": [
    "# Assuming you already have your dataframe loaded (e.g., df = pd.read_csv('your_file.csv', header=[0,1]))\n",
    "\n",
    "# 1. Flatten the MultiIndex columns\n",
    "df.columns = ['_'.join(col).strip() for col in df.columns.values]\n",
    "\n",
    "# 2. Reset index if date is part of the index and move it to a column\n",
    "if isinstance(df.index, pd.DatetimeIndex) or df.index.name == 'Date':\n",
    "    df = df.reset_index()\n",
    "\n",
    "# 3. Convert 'Date' column to datetime if not already\n",
    "df['Date'] = pd.to_datetime(df['Date'])\n",
    "\n",
    "# 4. Sort by date if needed\n",
    "df = df.sort_values(by='Date')\n",
    "\n",
    "# ✅ Now your columns look like:\n",
    "# ['Date', 'Close_BTC-USD', 'Open_BTC-USD', ..., 'Volume_BTC-USD', ...]\n",
    "\n",
    "\n"
   ]
  },
  {
   "cell_type": "code",
   "execution_count": 16,
   "id": "23ecc62e",
   "metadata": {},
   "outputs": [
    {
     "data": {
      "text/html": [
       "<div>\n",
       "<style scoped>\n",
       "    .dataframe tbody tr th:only-of-type {\n",
       "        vertical-align: middle;\n",
       "    }\n",
       "\n",
       "    .dataframe tbody tr th {\n",
       "        vertical-align: top;\n",
       "    }\n",
       "\n",
       "    .dataframe thead th {\n",
       "        text-align: right;\n",
       "    }\n",
       "</style>\n",
       "<table border=\"1\" class=\"dataframe\">\n",
       "  <thead>\n",
       "    <tr style=\"text-align: right;\">\n",
       "      <th></th>\n",
       "      <th>Date</th>\n",
       "      <th>Close_AAVE-USD</th>\n",
       "      <th>Close_ADA-USD</th>\n",
       "      <th>Close_ALGO-USD</th>\n",
       "      <th>Close_ATOM-USD</th>\n",
       "      <th>Close_AVAX-USD</th>\n",
       "      <th>Close_BCH-USD</th>\n",
       "      <th>Close_BNB-USD</th>\n",
       "      <th>Close_BTC-USD</th>\n",
       "      <th>Close_CHR-USD</th>\n",
       "      <th>...</th>\n",
       "      <th>Volume_SOL-USD</th>\n",
       "      <th>Volume_THETA-USD</th>\n",
       "      <th>Volume_TRX-USD</th>\n",
       "      <th>Volume_UNI-USD</th>\n",
       "      <th>Volume_USDT-USD</th>\n",
       "      <th>Volume_VET-USD</th>\n",
       "      <th>Volume_WIF-USD</th>\n",
       "      <th>Volume_XLM-USD</th>\n",
       "      <th>Volume_XMR-USD</th>\n",
       "      <th>Volume_XRP-USD</th>\n",
       "    </tr>\n",
       "  </thead>\n",
       "  <tbody>\n",
       "    <tr>\n",
       "      <th>0</th>\n",
       "      <td>2024-04-30</td>\n",
       "      <td>83.363312</td>\n",
       "      <td>0.440812</td>\n",
       "      <td>0.177978</td>\n",
       "      <td>8.466941</td>\n",
       "      <td>32.706425</td>\n",
       "      <td>434.157166</td>\n",
       "      <td>578.488037</td>\n",
       "      <td>60636.855469</td>\n",
       "      <td>0.266168</td>\n",
       "      <td>...</td>\n",
       "      <td>3407320371</td>\n",
       "      <td>73061045</td>\n",
       "      <td>496122483</td>\n",
       "      <td>33.0</td>\n",
       "      <td>66092463422</td>\n",
       "      <td>69466807</td>\n",
       "      <td>399173479</td>\n",
       "      <td>91934242</td>\n",
       "      <td>54513579</td>\n",
       "      <td>1347490379</td>\n",
       "    </tr>\n",
       "    <tr>\n",
       "      <th>1</th>\n",
       "      <td>2024-05-01</td>\n",
       "      <td>83.748108</td>\n",
       "      <td>0.449866</td>\n",
       "      <td>0.180666</td>\n",
       "      <td>8.742611</td>\n",
       "      <td>33.288101</td>\n",
       "      <td>424.038635</td>\n",
       "      <td>561.408203</td>\n",
       "      <td>58254.011719</td>\n",
       "      <td>0.268329</td>\n",
       "      <td>...</td>\n",
       "      <td>4136407963</td>\n",
       "      <td>67062567</td>\n",
       "      <td>482118834</td>\n",
       "      <td>32.0</td>\n",
       "      <td>76859530069</td>\n",
       "      <td>77079462</td>\n",
       "      <td>539683830</td>\n",
       "      <td>99567176</td>\n",
       "      <td>44685650</td>\n",
       "      <td>1720060134</td>\n",
       "    </tr>\n",
       "    <tr>\n",
       "      <th>2</th>\n",
       "      <td>2024-05-02</td>\n",
       "      <td>84.980095</td>\n",
       "      <td>0.458282</td>\n",
       "      <td>0.181256</td>\n",
       "      <td>8.651612</td>\n",
       "      <td>33.612564</td>\n",
       "      <td>429.969849</td>\n",
       "      <td>560.526733</td>\n",
       "      <td>59123.433594</td>\n",
       "      <td>0.270306</td>\n",
       "      <td>...</td>\n",
       "      <td>3380078368</td>\n",
       "      <td>49140176</td>\n",
       "      <td>352230934</td>\n",
       "      <td>32.0</td>\n",
       "      <td>54769809487</td>\n",
       "      <td>47564282</td>\n",
       "      <td>431302208</td>\n",
       "      <td>74766755</td>\n",
       "      <td>47242005</td>\n",
       "      <td>1118497654</td>\n",
       "    </tr>\n",
       "    <tr>\n",
       "      <th>3</th>\n",
       "      <td>2024-05-03</td>\n",
       "      <td>88.814995</td>\n",
       "      <td>0.467544</td>\n",
       "      <td>0.191979</td>\n",
       "      <td>8.768824</td>\n",
       "      <td>35.584896</td>\n",
       "      <td>453.345551</td>\n",
       "      <td>587.010437</td>\n",
       "      <td>62889.835938</td>\n",
       "      <td>0.282321</td>\n",
       "      <td>...</td>\n",
       "      <td>3216962298</td>\n",
       "      <td>39098980</td>\n",
       "      <td>275034834</td>\n",
       "      <td>34.0</td>\n",
       "      <td>53871028495</td>\n",
       "      <td>56741257</td>\n",
       "      <td>444766260</td>\n",
       "      <td>62383004</td>\n",
       "      <td>52444310</td>\n",
       "      <td>1138445190</td>\n",
       "    </tr>\n",
       "    <tr>\n",
       "      <th>4</th>\n",
       "      <td>2024-05-04</td>\n",
       "      <td>89.053757</td>\n",
       "      <td>0.463577</td>\n",
       "      <td>0.192794</td>\n",
       "      <td>8.694795</td>\n",
       "      <td>37.361832</td>\n",
       "      <td>463.508820</td>\n",
       "      <td>585.846558</td>\n",
       "      <td>63891.472656</td>\n",
       "      <td>0.277544</td>\n",
       "      <td>...</td>\n",
       "      <td>3050187811</td>\n",
       "      <td>33466740</td>\n",
       "      <td>224837130</td>\n",
       "      <td>35.0</td>\n",
       "      <td>39527945715</td>\n",
       "      <td>44470807</td>\n",
       "      <td>546978472</td>\n",
       "      <td>49329923</td>\n",
       "      <td>59402585</td>\n",
       "      <td>686389982</td>\n",
       "    </tr>\n",
       "  </tbody>\n",
       "</table>\n",
       "<p>5 rows × 151 columns</p>\n",
       "</div>"
      ],
      "text/plain": [
       "        Date  Close_AAVE-USD  Close_ADA-USD  Close_ALGO-USD  Close_ATOM-USD  \\\n",
       "0 2024-04-30       83.363312       0.440812        0.177978        8.466941   \n",
       "1 2024-05-01       83.748108       0.449866        0.180666        8.742611   \n",
       "2 2024-05-02       84.980095       0.458282        0.181256        8.651612   \n",
       "3 2024-05-03       88.814995       0.467544        0.191979        8.768824   \n",
       "4 2024-05-04       89.053757       0.463577        0.192794        8.694795   \n",
       "\n",
       "   Close_AVAX-USD  Close_BCH-USD  Close_BNB-USD  Close_BTC-USD  Close_CHR-USD  \\\n",
       "0       32.706425     434.157166     578.488037   60636.855469       0.266168   \n",
       "1       33.288101     424.038635     561.408203   58254.011719       0.268329   \n",
       "2       33.612564     429.969849     560.526733   59123.433594       0.270306   \n",
       "3       35.584896     453.345551     587.010437   62889.835938       0.282321   \n",
       "4       37.361832     463.508820     585.846558   63891.472656       0.277544   \n",
       "\n",
       "   ...  Volume_SOL-USD  Volume_THETA-USD  Volume_TRX-USD  Volume_UNI-USD  \\\n",
       "0  ...      3407320371          73061045       496122483            33.0   \n",
       "1  ...      4136407963          67062567       482118834            32.0   \n",
       "2  ...      3380078368          49140176       352230934            32.0   \n",
       "3  ...      3216962298          39098980       275034834            34.0   \n",
       "4  ...      3050187811          33466740       224837130            35.0   \n",
       "\n",
       "   Volume_USDT-USD  Volume_VET-USD  Volume_WIF-USD  Volume_XLM-USD  \\\n",
       "0      66092463422        69466807       399173479        91934242   \n",
       "1      76859530069        77079462       539683830        99567176   \n",
       "2      54769809487        47564282       431302208        74766755   \n",
       "3      53871028495        56741257       444766260        62383004   \n",
       "4      39527945715        44470807       546978472        49329923   \n",
       "\n",
       "   Volume_XMR-USD  Volume_XRP-USD  \n",
       "0        54513579      1347490379  \n",
       "1        44685650      1720060134  \n",
       "2        47242005      1118497654  \n",
       "3        52444310      1138445190  \n",
       "4        59402585       686389982  \n",
       "\n",
       "[5 rows x 151 columns]"
      ]
     },
     "execution_count": 16,
     "metadata": {},
     "output_type": "execute_result"
    }
   ],
   "source": [
    "df.head()"
   ]
  },
  {
   "cell_type": "code",
   "execution_count": 18,
   "id": "99df7e57",
   "metadata": {},
   "outputs": [],
   "source": [
    "# 🔍 Example: Access Close prices for a selected coin\n",
    "selected_coin = 'BTC-USD'\n",
    "close_col = f'Close_{selected_coin}'\n",
    "open_col = f'Open_{selected_coin}'\n",
    "high_col = f'High_{selected_coin}'\n",
    "low_col = f'Low_{selected_coin}'\n"
   ]
  },
  {
   "cell_type": "code",
   "execution_count": 21,
   "id": "c933ccc0",
   "metadata": {},
   "outputs": [
    {
     "data": {
      "application/vnd.plotly.v1+json": {
       "config": {
        "plotlyServerURL": "https://plot.ly"
       },
       "data": [
        {
         "close": {
          "bdata": "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",
          "dtype": "f8"
         },
         "decreasing": {
          "line": {
           "color": "red"
          }
         },
         "high": {
          "bdata": "AAAAoOqX70AAAAAAkK3tQAAAAIBJGu1AAAAAIBDr7kAAAACg3n3vQAAAAIBcjO9AAAAA4Nz670AAAACgznDvQAAAAMBCwe5AAAAAQJ317kAAAADA1/ruQAAAAOBkAe5AAAAAAEUv7kAAAAAg1ffuQAAAAACEzu5AAAAAQGc58EAAAADghknwQAAAAGA3ePBAAAAAQLVz8EAAAADA5IbwQAAAAAC5c/FAAAAAYKeQ8UAAAAAg+z3xQAAAAGCUGfFAAAAAwETm8EAAAAAgtfzwQAAAAKAj+PBAAAAAIF488UAAAABAqvjwQAAAAGBHz/BAAAAAoMj38EAAAAAAedjwQAAAAED8j/BAAAAAoJKz8EAAAAAgbSXxQAAAAIB2WPFAAAAAoHaD8UAAAADAm3zxQAAAAKA9jvFAAAAAINX58EAAAABgmAvxQAAAACAhIPFAAAAAoNb68EAAAABAnhXxQAAAAIDcsPBAAAAAYOpt8EAAAAAAIzbwQAAAAIDtVPBAAAAAIEVn8EAAAABAyz/wQAAAAKD1CfBAAAAAYG848EAAAACA8b3vQAAAAABve+9AAAAAgHZ970AAAADgkOfuQAAAAGBIZu5AAAAAYER87kAAAACgu2ruQAAAACDDVe5AAAAA4DPV7UAAAACAmrXuQAAAAEAnJO9AAAAAgGvc7kAAAACAdl3uQAAAAKD1fe1AAAAA4CQT7EAAAACAEY3sQAAAAOBjgOxAAAAAwGpi7EAAAABA5m/sQAAAAODt++xAAAAA4G307EAAAADAkZTsQAAAAIBiMe1AAAAA4DDy7UAAAADgxKzvQAAAAOBK6e9AAAAAwCsh8EAAAAAgFcrvQAAAAEAqd/BAAAAAwKuB8EAAAACATrHwQAAAAAABuPBAAAAAQDCM8EAAAADAn2LwQAAAAMAGJPBAAAAAoPmm8EAAAAAgaPHwQAAAAKDdrPBAAAAAoDgW8UAAAADAulrwQAAAAGCjT/BAAAAA4JMD8EAAAAAgZ/7vQAAAAOCLWO5AAAAAoN/Q7UAAAACAmnPsQAAAAGB93OtAAAAAQNwv7EAAAACAOJruQAAAAKD7Ju5AAAAAYBAD7kAAAAAgVSruQAAAAKAKoe1AAAAAwIwQ7kAAAABA+B7uQAAAAMDUN+1AAAAAgOs47UAAAABg1SXtQAAAAADXbO1AAAAAIJUb7UAAAACAivrtQAAAAEBLMe5AAAAAgAP87UAAAAAAYrbvQAAAAEA5gO9AAAAAgI2870AAAACgNn3vQAAAAIBZ3e5AAAAAYI5p7UAAAACgAuDtQAAAAGAcP+1AAAAAABMF7UAAAABAwtbsQAAAAEBiAe1AAAAA4OE07UAAAABA8pHsQAAAAKCSd+xAAAAAgAPS60AAAACgxMbqQAAAAICbAOtAAAAAACRX7EAAAABAv1XsQAAAAEDqUOxAAAAAgMuU7EAAAADAAJ3tQAAAACAXnu1AAAAAYL177UAAAABgsOjsQAAAAOCC8O1AAAAAIAIc7kAAAAAgDjDvQAAAAADxTu9AAAAAgOsG70AAAACALT/vQAAAAOCxm+9AAAAA4OaW70AAAAAgkKTvQAAAAMDsD/BAAAAAIAs78EAAAACA+CzwQAAAAIBVIfBAAAAA4DAG8EAAAABg303vQAAAAAC2cu5AAAAAQKED7kAAAADAP4DuQAAAAMBgdO5AAAAAQPK97kAAAACgdnfvQAAAAMDJ2O5AAAAAwJqF7kAAAAAgl+btQAAAAOAb9e5AAAAAIBn77kAAAADgFOXuQAAAAOAnO/BAAAAA4JqS8EAAAACgdLHwQAAAAGCDlPBAAAAAAJzW8EAAAAAgwMPwQAAAACDw7vBAAAAAwGv18EAAAABAmY3wQAAAAOCrdPBAAAAAYO/L8EAAAACAIsfwQAAAAMBeb/BAAAAAANWn8EAAAABARCTxQAAAAGCT9vFAAAAAwJTM8UAAAAAAZb3xQAAAAEBwePFAAAAAoLUO8UAAAACAGu/wQAAAAOCS8/BAAAAAoKw38UAAAACAwqryQAAAAODxyPJAAAAAAEzc8kAAAABATMjyQAAAAMAm5PNAAAAAAEjg9UAAAAAgTvb1QAAAAKClz/ZAAAAAgFNn9kAAAADgy232QAAAACA/Z/ZAAAAAoJBS9kAAAACgTJv2QAAAAOAt8/ZAAAAAYGAr90AAAACAYyz4QAAAAAB4VPhAAAAA4Gos+EAAAADgchX4QAAAAIBwJ/hAAAAAAPww90AAAADgEsX3QAAAAECjmPdAAAAAwFIY+EAAAACAtc33QAAAAAAC5vdAAAAAoIn290AAAABAk4L3QAAAAEB1OPhAAAAAgMdd+UAAAAAgfun4QAAAACA2jfhAAAAA4H/B+EAAAAAgiLn4QAAAAIDi/fdAAAAAwJXh+EAAAACgzgf5QAAAAOAM4PhAAAAAIK4N+UAAAACgeKX5QAAAAEBJUPpAAAAAIMdu+kAAAADAaf75QAAAAGDCFflAAAAAoC7z90AAAACgMUv4QAAAAEAExfdAAAAAYAOK90AAAAAAwUT4QAAAAABsSfhAAAAAIMli+EAAAACA7cD3QAAAAGBeUvdAAAAAAG4890AAAAAgdSv3QAAAAKCpdfdAAAAA4B0t90AAAAAgvdz3QAAAAKDOKPhAAAAA4OYa+EAAAADg1B/4QAAAAAAuBflAAAAAwIcT+UAAAAAgpb73QAAAAIBbR/dAAAAAwKlh90AAAAAAGzD3QAAAAKB4SPdAAAAAANBl90AAAACgisT3QAAAAMCTlfhAAAAAYNma+EAAAACgw9n5QAAAAEATnflAAAAAwLzz+UAAAAAgrqP6QAAAAMDOKvpAAAAAgGXz+UAAAABARRT6QAAAAMCoJfpAAAAAoLyx+UAAAABg6r35QAAAAMDhMvlAAAAAIC1T+UAAAADg7JL5QAAAAEAs+/lAAAAAoKXi+UAAAACgOxb5QAAAAKBqw/hAAAAAwCIH+UAAAADgGdf4QAAAAGCTMvhAAAAAwAk2+EAAAABAonP4QAAAAODcpvdAAAAAgNTC90AAAACA0wH4QAAAAGDOC/hAAAAAYHD290AAAABg8fP3QAAAAIA3IPhAAAAAoHDr90AAAACA2dv3QAAAAMCDsPdAAAAAAHab90AAAACAeaX3QAAAACDzHPhAAAAAgJ9K+EAAAACAYqv3QAAAAAD+mfdAAAAAQHeP90AAAABA8ZX2QAAAAABkzPVAAAAAgIw99UAAAAAgxcL0QAAAAOCkH/VAAAAAADc090AAAAAA3A33QAAAAGD0tPVAAAAA4GM39kAAAAAAT6j2QAAAAMBwQ/ZAAAAAQPQz9UAAAAAgchz1QAAAAOA+f/RAAAAAIJxn9EAAAABAaZj0QAAAACDblPRAAAAAoPTQ9EAAAADACqz0QAAAAKC5w/RAAAAAQFWv9EAAAACAu4b0QAAAAADTPvVAAAAAQDRZ9UAAAABg5LL0QAAAAAAeovRAAAAAgOwE9UAAAACga6v1QAAAAGDmnfVAAAAAgEKO9UAAAACgq271QAAAAMAdXPVAAAAAYHWl9EAAAAAAEGP0QAAAAADiefRAAAAA4PXe9EAAAABAL5n1QAAAAMBUfPRAAAAAYIKt9EAAAABA8I70QAAAAICLb/RAAAAAAPHN80AAAABAfrvzQAAAAABQZfRAAAAA4M4w9EAAAACgd5H0QAAAAAAD9vRAAAAAAPP/9EAAAAAAkPH0QAAAAKDVGfVAAAAAgETb9EAAAAAgkdz0QAAAAMBwxvRAAAAAQNvl9EAAAAAgptP0QAAAAIDBmPVAAAAAIJbn9kAAAADAexT3QAAAACAD9PZAAAAAQIZh90AAAADANUH3QAAAAEBTRPdAAAAA4OdW90AAAADgAEb3QA==",
          "dtype": "f8"
         },
         "increasing": {
          "line": {
           "color": "green"
          }
         },
         "low": {
          "bdata": "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",
          "dtype": "f8"
         },
         "open": {
          "bdata": "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",
          "dtype": "f8"
         },
         "type": "candlestick",
         "x": [
          "2024-04-30T00:00:00",
          "2024-05-01T00:00:00",
          "2024-05-02T00:00:00",
          "2024-05-03T00:00:00",
          "2024-05-04T00:00:00",
          "2024-05-05T00:00:00",
          "2024-05-06T00:00:00",
          "2024-05-07T00:00:00",
          "2024-05-08T00:00:00",
          "2024-05-09T00:00:00",
          "2024-05-10T00:00:00",
          "2024-05-11T00:00:00",
          "2024-05-12T00:00:00",
          "2024-05-13T00:00:00",
          "2024-05-14T00:00:00",
          "2024-05-15T00:00:00",
          "2024-05-16T00:00:00",
          "2024-05-17T00:00:00",
          "2024-05-18T00:00:00",
          "2024-05-19T00:00:00",
          "2024-05-20T00:00:00",
          "2024-05-21T00:00:00",
          "2024-05-22T00:00:00",
          "2024-05-23T00:00:00",
          "2024-05-24T00:00:00",
          "2024-05-25T00:00:00",
          "2024-05-26T00:00:00",
          "2024-05-27T00:00:00",
          "2024-05-28T00:00:00",
          "2024-05-29T00:00:00",
          "2024-05-30T00:00:00",
          "2024-05-31T00:00:00",
          "2024-06-01T00:00:00",
          "2024-06-02T00:00:00",
          "2024-06-03T00:00:00",
          "2024-06-04T00:00:00",
          "2024-06-05T00:00:00",
          "2024-06-06T00:00:00",
          "2024-06-07T00:00:00",
          "2024-06-08T00:00:00",
          "2024-06-09T00:00:00",
          "2024-06-10T00:00:00",
          "2024-06-11T00:00:00",
          "2024-06-12T00:00:00",
          "2024-06-13T00:00:00",
          "2024-06-14T00:00:00",
          "2024-06-15T00:00:00",
          "2024-06-16T00:00:00",
          "2024-06-17T00:00:00",
          "2024-06-18T00:00:00",
          "2024-06-19T00:00:00",
          "2024-06-20T00:00:00",
          "2024-06-21T00:00:00",
          "2024-06-22T00:00:00",
          "2024-06-23T00:00:00",
          "2024-06-24T00:00:00",
          "2024-06-25T00:00:00",
          "2024-06-26T00:00:00",
          "2024-06-27T00:00:00",
          "2024-06-28T00:00:00",
          "2024-06-29T00:00:00",
          "2024-06-30T00:00:00",
          "2024-07-01T00:00:00",
          "2024-07-02T00:00:00",
          "2024-07-03T00:00:00",
          "2024-07-04T00:00:00",
          "2024-07-05T00:00:00",
          "2024-07-06T00:00:00",
          "2024-07-07T00:00:00",
          "2024-07-08T00:00:00",
          "2024-07-09T00:00:00",
          "2024-07-10T00:00:00",
          "2024-07-11T00:00:00",
          "2024-07-12T00:00:00",
          "2024-07-13T00:00:00",
          "2024-07-14T00:00:00",
          "2024-07-15T00:00:00",
          "2024-07-16T00:00:00",
          "2024-07-17T00:00:00",
          "2024-07-18T00:00:00",
          "2024-07-19T00:00:00",
          "2024-07-20T00:00:00",
          "2024-07-21T00:00:00",
          "2024-07-22T00:00:00",
          "2024-07-23T00:00:00",
          "2024-07-24T00:00:00",
          "2024-07-25T00:00:00",
          "2024-07-26T00:00:00",
          "2024-07-27T00:00:00",
          "2024-07-28T00:00:00",
          "2024-07-29T00:00:00",
          "2024-07-30T00:00:00",
          "2024-07-31T00:00:00",
          "2024-08-01T00:00:00",
          "2024-08-02T00:00:00",
          "2024-08-03T00:00:00",
          "2024-08-04T00:00:00",
          "2024-08-05T00:00:00",
          "2024-08-06T00:00:00",
          "2024-08-07T00:00:00",
          "2024-08-08T00:00:00",
          "2024-08-09T00:00:00",
          "2024-08-10T00:00:00",
          "2024-08-11T00:00:00",
          "2024-08-12T00:00:00",
          "2024-08-13T00:00:00",
          "2024-08-14T00:00:00",
          "2024-08-15T00:00:00",
          "2024-08-16T00:00:00",
          "2024-08-17T00:00:00",
          "2024-08-18T00:00:00",
          "2024-08-19T00:00:00",
          "2024-08-20T00:00:00",
          "2024-08-21T00:00:00",
          "2024-08-22T00:00:00",
          "2024-08-23T00:00:00",
          "2024-08-24T00:00:00",
          "2024-08-25T00:00:00",
          "2024-08-26T00:00:00",
          "2024-08-27T00:00:00",
          "2024-08-28T00:00:00",
          "2024-08-29T00:00:00",
          "2024-08-30T00:00:00",
          "2024-08-31T00:00:00",
          "2024-09-01T00:00:00",
          "2024-09-02T00:00:00",
          "2024-09-03T00:00:00",
          "2024-09-04T00:00:00",
          "2024-09-05T00:00:00",
          "2024-09-06T00:00:00",
          "2024-09-07T00:00:00",
          "2024-09-08T00:00:00",
          "2024-09-09T00:00:00",
          "2024-09-10T00:00:00",
          "2024-09-11T00:00:00",
          "2024-09-12T00:00:00",
          "2024-09-13T00:00:00",
          "2024-09-14T00:00:00",
          "2024-09-15T00:00:00",
          "2024-09-16T00:00:00",
          "2024-09-17T00:00:00",
          "2024-09-18T00:00:00",
          "2024-09-19T00:00:00",
          "2024-09-20T00:00:00",
          "2024-09-21T00:00:00",
          "2024-09-22T00:00:00",
          "2024-09-23T00:00:00",
          "2024-09-24T00:00:00",
          "2024-09-25T00:00:00",
          "2024-09-26T00:00:00",
          "2024-09-27T00:00:00",
          "2024-09-28T00:00:00",
          "2024-09-29T00:00:00",
          "2024-09-30T00:00:00",
          "2024-10-01T00:00:00",
          "2024-10-02T00:00:00",
          "2024-10-03T00:00:00",
          "2024-10-04T00:00:00",
          "2024-10-05T00:00:00",
          "2024-10-06T00:00:00",
          "2024-10-07T00:00:00",
          "2024-10-08T00:00:00",
          "2024-10-09T00:00:00",
          "2024-10-10T00:00:00",
          "2024-10-11T00:00:00",
          "2024-10-12T00:00:00",
          "2024-10-13T00:00:00",
          "2024-10-14T00:00:00",
          "2024-10-15T00:00:00",
          "2024-10-16T00:00:00",
          "2024-10-17T00:00:00",
          "2024-10-18T00:00:00",
          "2024-10-19T00:00:00",
          "2024-10-20T00:00:00",
          "2024-10-21T00:00:00",
          "2024-10-22T00:00:00",
          "2024-10-23T00:00:00",
          "2024-10-24T00:00:00",
          "2024-10-25T00:00:00",
          "2024-10-26T00:00:00",
          "2024-10-27T00:00:00",
          "2024-10-28T00:00:00",
          "2024-10-29T00:00:00",
          "2024-10-30T00:00:00",
          "2024-10-31T00:00:00",
          "2024-11-01T00:00:00",
          "2024-11-02T00:00:00",
          "2024-11-03T00:00:00",
          "2024-11-04T00:00:00",
          "2024-11-05T00:00:00",
          "2024-11-06T00:00:00",
          "2024-11-07T00:00:00",
          "2024-11-08T00:00:00",
          "2024-11-09T00:00:00",
          "2024-11-10T00:00:00",
          "2024-11-11T00:00:00",
          "2024-11-12T00:00:00",
          "2024-11-13T00:00:00",
          "2024-11-14T00:00:00",
          "2024-11-15T00:00:00",
          "2024-11-16T00:00:00",
          "2024-11-17T00:00:00",
          "2024-11-18T00:00:00",
          "2024-11-19T00:00:00",
          "2024-11-20T00:00:00",
          "2024-11-21T00:00:00",
          "2024-11-22T00:00:00",
          "2024-11-23T00:00:00",
          "2024-11-24T00:00:00",
          "2024-11-25T00:00:00",
          "2024-11-26T00:00:00",
          "2024-11-27T00:00:00",
          "2024-11-28T00:00:00",
          "2024-11-29T00:00:00",
          "2024-11-30T00:00:00",
          "2024-12-01T00:00:00",
          "2024-12-02T00:00:00",
          "2024-12-03T00:00:00",
          "2024-12-04T00:00:00",
          "2024-12-05T00:00:00",
          "2024-12-06T00:00:00",
          "2024-12-07T00:00:00",
          "2024-12-08T00:00:00",
          "2024-12-09T00:00:00",
          "2024-12-10T00:00:00",
          "2024-12-11T00:00:00",
          "2024-12-12T00:00:00",
          "2024-12-13T00:00:00",
          "2024-12-14T00:00:00",
          "2024-12-15T00:00:00",
          "2024-12-16T00:00:00",
          "2024-12-17T00:00:00",
          "2024-12-18T00:00:00",
          "2024-12-19T00:00:00",
          "2024-12-20T00:00:00",
          "2024-12-21T00:00:00",
          "2024-12-22T00:00:00",
          "2024-12-23T00:00:00",
          "2024-12-24T00:00:00",
          "2024-12-25T00:00:00",
          "2024-12-26T00:00:00",
          "2024-12-27T00:00:00",
          "2024-12-28T00:00:00",
          "2024-12-29T00:00:00",
          "2024-12-30T00:00:00",
          "2024-12-31T00:00:00",
          "2025-01-01T00:00:00",
          "2025-01-02T00:00:00",
          "2025-01-03T00:00:00",
          "2025-01-04T00:00:00",
          "2025-01-05T00:00:00",
          "2025-01-06T00:00:00",
          "2025-01-07T00:00:00",
          "2025-01-08T00:00:00",
          "2025-01-09T00:00:00",
          "2025-01-10T00:00:00",
          "2025-01-11T00:00:00",
          "2025-01-12T00:00:00",
          "2025-01-13T00:00:00",
          "2025-01-14T00:00:00",
          "2025-01-15T00:00:00",
          "2025-01-16T00:00:00",
          "2025-01-17T00:00:00",
          "2025-01-18T00:00:00",
          "2025-01-19T00:00:00",
          "2025-01-20T00:00:00",
          "2025-01-21T00:00:00",
          "2025-01-22T00:00:00",
          "2025-01-23T00:00:00",
          "2025-01-24T00:00:00",
          "2025-01-25T00:00:00",
          "2025-01-26T00:00:00",
          "2025-01-27T00:00:00",
          "2025-01-28T00:00:00",
          "2025-01-29T00:00:00",
          "2025-01-30T00:00:00",
          "2025-01-31T00:00:00",
          "2025-02-01T00:00:00",
          "2025-02-02T00:00:00",
          "2025-02-03T00:00:00",
          "2025-02-04T00:00:00",
          "2025-02-05T00:00:00",
          "2025-02-06T00:00:00",
          "2025-02-07T00:00:00",
          "2025-02-08T00:00:00",
          "2025-02-09T00:00:00",
          "2025-02-10T00:00:00",
          "2025-02-11T00:00:00",
          "2025-02-12T00:00:00",
          "2025-02-13T00:00:00",
          "2025-02-14T00:00:00",
          "2025-02-15T00:00:00",
          "2025-02-16T00:00:00",
          "2025-02-17T00:00:00",
          "2025-02-18T00:00:00",
          "2025-02-19T00:00:00",
          "2025-02-20T00:00:00",
          "2025-02-21T00:00:00",
          "2025-02-22T00:00:00",
          "2025-02-23T00:00:00",
          "2025-02-24T00:00:00",
          "2025-02-25T00:00:00",
          "2025-02-26T00:00:00",
          "2025-02-27T00:00:00",
          "2025-02-28T00:00:00",
          "2025-03-01T00:00:00",
          "2025-03-02T00:00:00",
          "2025-03-03T00:00:00",
          "2025-03-04T00:00:00",
          "2025-03-05T00:00:00",
          "2025-03-06T00:00:00",
          "2025-03-07T00:00:00",
          "2025-03-08T00:00:00",
          "2025-03-09T00:00:00",
          "2025-03-10T00:00:00",
          "2025-03-11T00:00:00",
          "2025-03-12T00:00:00",
          "2025-03-13T00:00:00",
          "2025-03-14T00:00:00",
          "2025-03-15T00:00:00",
          "2025-03-16T00:00:00",
          "2025-03-17T00:00:00",
          "2025-03-18T00:00:00",
          "2025-03-19T00:00:00",
          "2025-03-20T00:00:00",
          "2025-03-21T00:00:00",
          "2025-03-22T00:00:00",
          "2025-03-23T00:00:00",
          "2025-03-24T00:00:00",
          "2025-03-25T00:00:00",
          "2025-03-26T00:00:00",
          "2025-03-27T00:00:00",
          "2025-03-28T00:00:00",
          "2025-03-29T00:00:00",
          "2025-03-30T00:00:00",
          "2025-03-31T00:00:00",
          "2025-04-01T00:00:00",
          "2025-04-02T00:00:00",
          "2025-04-03T00:00:00",
          "2025-04-04T00:00:00",
          "2025-04-05T00:00:00",
          "2025-04-06T00:00:00",
          "2025-04-07T00:00:00",
          "2025-04-08T00:00:00",
          "2025-04-09T00:00:00",
          "2025-04-10T00:00:00",
          "2025-04-11T00:00:00",
          "2025-04-12T00:00:00",
          "2025-04-13T00:00:00",
          "2025-04-14T00:00:00",
          "2025-04-15T00:00:00",
          "2025-04-16T00:00:00",
          "2025-04-17T00:00:00",
          "2025-04-18T00:00:00",
          "2025-04-19T00:00:00",
          "2025-04-20T00:00:00",
          "2025-04-21T00:00:00",
          "2025-04-22T00:00:00",
          "2025-04-23T00:00:00",
          "2025-04-24T00:00:00",
          "2025-04-25T00:00:00",
          "2025-04-26T00:00:00",
          "2025-04-27T00:00:00",
          "2025-04-28T00:00:00",
          "2025-04-29T00:00:00"
         ]
        }
       ],
       "layout": {
        "template": {
         "data": {
          "bar": [
           {
            "error_x": {
             "color": "#2a3f5f"
            },
            "error_y": {
             "color": "#2a3f5f"
            },
            "marker": {
             "line": {
              "color": "#E5ECF6",
              "width": 0.5
             },
             "pattern": {
              "fillmode": "overlay",
              "size": 10,
              "solidity": 0.2
             }
            },
            "type": "bar"
           }
          ],
          "barpolar": [
           {
            "marker": {
             "line": {
              "color": "#E5ECF6",
              "width": 0.5
             },
             "pattern": {
              "fillmode": "overlay",
              "size": 10,
              "solidity": 0.2
             }
            },
            "type": "barpolar"
           }
          ],
          "carpet": [
           {
            "aaxis": {
             "endlinecolor": "#2a3f5f",
             "gridcolor": "white",
             "linecolor": "white",
             "minorgridcolor": "white",
             "startlinecolor": "#2a3f5f"
            },
            "baxis": {
             "endlinecolor": "#2a3f5f",
             "gridcolor": "white",
             "linecolor": "white",
             "minorgridcolor": "white",
             "startlinecolor": "#2a3f5f"
            },
            "type": "carpet"
           }
          ],
          "choropleth": [
           {
            "colorbar": {
             "outlinewidth": 0,
             "ticks": ""
            },
            "type": "choropleth"
           }
          ],
          "contour": [
           {
            "colorbar": {
             "outlinewidth": 0,
             "ticks": ""
            },
            "colorscale": [
             [
              0,
              "#0d0887"
             ],
             [
              0.1111111111111111,
              "#46039f"
             ],
             [
              0.2222222222222222,
              "#7201a8"
             ],
             [
              0.3333333333333333,
              "#9c179e"
             ],
             [
              0.4444444444444444,
              "#bd3786"
             ],
             [
              0.5555555555555556,
              "#d8576b"
             ],
             [
              0.6666666666666666,
              "#ed7953"
             ],
             [
              0.7777777777777778,
              "#fb9f3a"
             ],
             [
              0.8888888888888888,
              "#fdca26"
             ],
             [
              1,
              "#f0f921"
             ]
            ],
            "type": "contour"
           }
          ],
          "contourcarpet": [
           {
            "colorbar": {
             "outlinewidth": 0,
             "ticks": ""
            },
            "type": "contourcarpet"
           }
          ],
          "heatmap": [
           {
            "colorbar": {
             "outlinewidth": 0,
             "ticks": ""
            },
            "colorscale": [
             [
              0,
              "#0d0887"
             ],
             [
              0.1111111111111111,
              "#46039f"
             ],
             [
              0.2222222222222222,
              "#7201a8"
             ],
             [
              0.3333333333333333,
              "#9c179e"
             ],
             [
              0.4444444444444444,
              "#bd3786"
             ],
             [
              0.5555555555555556,
              "#d8576b"
             ],
             [
              0.6666666666666666,
              "#ed7953"
             ],
             [
              0.7777777777777778,
              "#fb9f3a"
             ],
             [
              0.8888888888888888,
              "#fdca26"
             ],
             [
              1,
              "#f0f921"
             ]
            ],
            "type": "heatmap"
           }
          ],
          "histogram": [
           {
            "marker": {
             "pattern": {
              "fillmode": "overlay",
              "size": 10,
              "solidity": 0.2
             }
            },
            "type": "histogram"
           }
          ],
          "histogram2d": [
           {
            "colorbar": {
             "outlinewidth": 0,
             "ticks": ""
            },
            "colorscale": [
             [
              0,
              "#0d0887"
             ],
             [
              0.1111111111111111,
              "#46039f"
             ],
             [
              0.2222222222222222,
              "#7201a8"
             ],
             [
              0.3333333333333333,
              "#9c179e"
             ],
             [
              0.4444444444444444,
              "#bd3786"
             ],
             [
              0.5555555555555556,
              "#d8576b"
             ],
             [
              0.6666666666666666,
              "#ed7953"
             ],
             [
              0.7777777777777778,
              "#fb9f3a"
             ],
             [
              0.8888888888888888,
              "#fdca26"
             ],
             [
              1,
              "#f0f921"
             ]
            ],
            "type": "histogram2d"
           }
          ],
          "histogram2dcontour": [
           {
            "colorbar": {
             "outlinewidth": 0,
             "ticks": ""
            },
            "colorscale": [
             [
              0,
              "#0d0887"
             ],
             [
              0.1111111111111111,
              "#46039f"
             ],
             [
              0.2222222222222222,
              "#7201a8"
             ],
             [
              0.3333333333333333,
              "#9c179e"
             ],
             [
              0.4444444444444444,
              "#bd3786"
             ],
             [
              0.5555555555555556,
              "#d8576b"
             ],
             [
              0.6666666666666666,
              "#ed7953"
             ],
             [
              0.7777777777777778,
              "#fb9f3a"
             ],
             [
              0.8888888888888888,
              "#fdca26"
             ],
             [
              1,
              "#f0f921"
             ]
            ],
            "type": "histogram2dcontour"
           }
          ],
          "mesh3d": [
           {
            "colorbar": {
             "outlinewidth": 0,
             "ticks": ""
            },
            "type": "mesh3d"
           }
          ],
          "parcoords": [
           {
            "line": {
             "colorbar": {
              "outlinewidth": 0,
              "ticks": ""
             }
            },
            "type": "parcoords"
           }
          ],
          "pie": [
           {
            "automargin": true,
            "type": "pie"
           }
          ],
          "scatter": [
           {
            "fillpattern": {
             "fillmode": "overlay",
             "size": 10,
             "solidity": 0.2
            },
            "type": "scatter"
           }
          ],
          "scatter3d": [
           {
            "line": {
             "colorbar": {
              "outlinewidth": 0,
              "ticks": ""
             }
            },
            "marker": {
             "colorbar": {
              "outlinewidth": 0,
              "ticks": ""
             }
            },
            "type": "scatter3d"
           }
          ],
          "scattercarpet": [
           {
            "marker": {
             "colorbar": {
              "outlinewidth": 0,
              "ticks": ""
             }
            },
            "type": "scattercarpet"
           }
          ],
          "scattergeo": [
           {
            "marker": {
             "colorbar": {
              "outlinewidth": 0,
              "ticks": ""
             }
            },
            "type": "scattergeo"
           }
          ],
          "scattergl": [
           {
            "marker": {
             "colorbar": {
              "outlinewidth": 0,
              "ticks": ""
             }
            },
            "type": "scattergl"
           }
          ],
          "scattermap": [
           {
            "marker": {
             "colorbar": {
              "outlinewidth": 0,
              "ticks": ""
             }
            },
            "type": "scattermap"
           }
          ],
          "scattermapbox": [
           {
            "marker": {
             "colorbar": {
              "outlinewidth": 0,
              "ticks": ""
             }
            },
            "type": "scattermapbox"
           }
          ],
          "scatterpolar": [
           {
            "marker": {
             "colorbar": {
              "outlinewidth": 0,
              "ticks": ""
             }
            },
            "type": "scatterpolar"
           }
          ],
          "scatterpolargl": [
           {
            "marker": {
             "colorbar": {
              "outlinewidth": 0,
              "ticks": ""
             }
            },
            "type": "scatterpolargl"
           }
          ],
          "scatterternary": [
           {
            "marker": {
             "colorbar": {
              "outlinewidth": 0,
              "ticks": ""
             }
            },
            "type": "scatterternary"
           }
          ],
          "surface": [
           {
            "colorbar": {
             "outlinewidth": 0,
             "ticks": ""
            },
            "colorscale": [
             [
              0,
              "#0d0887"
             ],
             [
              0.1111111111111111,
              "#46039f"
             ],
             [
              0.2222222222222222,
              "#7201a8"
             ],
             [
              0.3333333333333333,
              "#9c179e"
             ],
             [
              0.4444444444444444,
              "#bd3786"
             ],
             [
              0.5555555555555556,
              "#d8576b"
             ],
             [
              0.6666666666666666,
              "#ed7953"
             ],
             [
              0.7777777777777778,
              "#fb9f3a"
             ],
             [
              0.8888888888888888,
              "#fdca26"
             ],
             [
              1,
              "#f0f921"
             ]
            ],
            "type": "surface"
           }
          ],
          "table": [
           {
            "cells": {
             "fill": {
              "color": "#EBF0F8"
             },
             "line": {
              "color": "white"
             }
            },
            "header": {
             "fill": {
              "color": "#C8D4E3"
             },
             "line": {
              "color": "white"
             }
            },
            "type": "table"
           }
          ]
         },
         "layout": {
          "annotationdefaults": {
           "arrowcolor": "#2a3f5f",
           "arrowhead": 0,
           "arrowwidth": 1
          },
          "autotypenumbers": "strict",
          "coloraxis": {
           "colorbar": {
            "outlinewidth": 0,
            "ticks": ""
           }
          },
          "colorscale": {
           "diverging": [
            [
             0,
             "#8e0152"
            ],
            [
             0.1,
             "#c51b7d"
            ],
            [
             0.2,
             "#de77ae"
            ],
            [
             0.3,
             "#f1b6da"
            ],
            [
             0.4,
             "#fde0ef"
            ],
            [
             0.5,
             "#f7f7f7"
            ],
            [
             0.6,
             "#e6f5d0"
            ],
            [
             0.7,
             "#b8e186"
            ],
            [
             0.8,
             "#7fbc41"
            ],
            [
             0.9,
             "#4d9221"
            ],
            [
             1,
             "#276419"
            ]
           ],
           "sequential": [
            [
             0,
             "#0d0887"
            ],
            [
             0.1111111111111111,
             "#46039f"
            ],
            [
             0.2222222222222222,
             "#7201a8"
            ],
            [
             0.3333333333333333,
             "#9c179e"
            ],
            [
             0.4444444444444444,
             "#bd3786"
            ],
            [
             0.5555555555555556,
             "#d8576b"
            ],
            [
             0.6666666666666666,
             "#ed7953"
            ],
            [
             0.7777777777777778,
             "#fb9f3a"
            ],
            [
             0.8888888888888888,
             "#fdca26"
            ],
            [
             1,
             "#f0f921"
            ]
           ],
           "sequentialminus": [
            [
             0,
             "#0d0887"
            ],
            [
             0.1111111111111111,
             "#46039f"
            ],
            [
             0.2222222222222222,
             "#7201a8"
            ],
            [
             0.3333333333333333,
             "#9c179e"
            ],
            [
             0.4444444444444444,
             "#bd3786"
            ],
            [
             0.5555555555555556,
             "#d8576b"
            ],
            [
             0.6666666666666666,
             "#ed7953"
            ],
            [
             0.7777777777777778,
             "#fb9f3a"
            ],
            [
             0.8888888888888888,
             "#fdca26"
            ],
            [
             1,
             "#f0f921"
            ]
           ]
          },
          "colorway": [
           "#636efa",
           "#EF553B",
           "#00cc96",
           "#ab63fa",
           "#FFA15A",
           "#19d3f3",
           "#FF6692",
           "#B6E880",
           "#FF97FF",
           "#FECB52"
          ],
          "font": {
           "color": "#2a3f5f"
          },
          "geo": {
           "bgcolor": "white",
           "lakecolor": "white",
           "landcolor": "#E5ECF6",
           "showlakes": true,
           "showland": true,
           "subunitcolor": "white"
          },
          "hoverlabel": {
           "align": "left"
          },
          "hovermode": "closest",
          "mapbox": {
           "style": "light"
          },
          "paper_bgcolor": "white",
          "plot_bgcolor": "#E5ECF6",
          "polar": {
           "angularaxis": {
            "gridcolor": "white",
            "linecolor": "white",
            "ticks": ""
           },
           "bgcolor": "#E5ECF6",
           "radialaxis": {
            "gridcolor": "white",
            "linecolor": "white",
            "ticks": ""
           }
          },
          "scene": {
           "xaxis": {
            "backgroundcolor": "#E5ECF6",
            "gridcolor": "white",
            "gridwidth": 2,
            "linecolor": "white",
            "showbackground": true,
            "ticks": "",
            "zerolinecolor": "white"
           },
           "yaxis": {
            "backgroundcolor": "#E5ECF6",
            "gridcolor": "white",
            "gridwidth": 2,
            "linecolor": "white",
            "showbackground": true,
            "ticks": "",
            "zerolinecolor": "white"
           },
           "zaxis": {
            "backgroundcolor": "#E5ECF6",
            "gridcolor": "white",
            "gridwidth": 2,
            "linecolor": "white",
            "showbackground": true,
            "ticks": "",
            "zerolinecolor": "white"
           }
          },
          "shapedefaults": {
           "line": {
            "color": "#2a3f5f"
           }
          },
          "ternary": {
           "aaxis": {
            "gridcolor": "white",
            "linecolor": "white",
            "ticks": ""
           },
           "baxis": {
            "gridcolor": "white",
            "linecolor": "white",
            "ticks": ""
           },
           "bgcolor": "#E5ECF6",
           "caxis": {
            "gridcolor": "white",
            "linecolor": "white",
            "ticks": ""
           }
          },
          "title": {
           "x": 0.05
          },
          "xaxis": {
           "automargin": true,
           "gridcolor": "white",
           "linecolor": "white",
           "ticks": "",
           "title": {
            "standoff": 15
           },
           "zerolinecolor": "white",
           "zerolinewidth": 2
          },
          "yaxis": {
           "automargin": true,
           "gridcolor": "white",
           "linecolor": "white",
           "ticks": "",
           "title": {
            "standoff": 15
           },
           "zerolinecolor": "white",
           "zerolinewidth": 2
          }
         }
        },
        "title": {
         "text": "BTC-USD - 1 Year Candlestick Chart"
        },
        "xaxis": {
         "title": {
          "text": "Date"
         }
        },
        "yaxis": {
         "title": {
          "text": "Price (USD)"
         }
        }
       }
      }
     },
     "metadata": {},
     "output_type": "display_data"
    }
   ],
   "source": [
    "fig = go.Figure(data=[go.Candlestick(\n",
    "        x=df['Date'],\n",
    "        open=df[f'Open_{selected_coin}'],\n",
    "        high=df[f'High_{selected_coin}'],\n",
    "        low=df[f'Low_{selected_coin}'],\n",
    "        close=df[f'Close_{selected_coin}'],\n",
    "        increasing_line_color='green',\n",
    "        decreasing_line_color='red'\n",
    "    )])\n",
    "fig.update_layout(\n",
    "    title= f'{selected_coin} - 1 Year Candlestick Chart',\n",
    "    xaxis_title='Date',\n",
    "    yaxis_title='Price (USD)',\n",
    ")"
   ]
  },
  {
   "cell_type": "code",
   "execution_count": 36,
   "id": "9cbe6749",
   "metadata": {},
   "outputs": [],
   "source": [
    "def get_price_trend(df: pd.DataFrame, selected_coin):\n",
    "    import plotly.graph_objects as go\n",
    "    # PLOT BNB TREND\n",
    "    price_trend = go.Figure()\n",
    "    # Compute moving averages\n",
    "    df['MA_50'] = df[f'Close_{selected_coin}'].rolling(window=50, min_periods=1).mean()\n",
    "    df['MA_200'] = df[f'Close_{selected_coin}'].rolling(window=200,min_periods=1).mean()\n",
    "\n",
    "    price_trend.add_trace(go.Scatter(\n",
    "        x=df['Date'],\n",
    "        y=df[f'Close_{selected_coin}'],\n",
    "        name=f'{selected_coin}',\n",
    "        line=dict(color='#766CDB', width=2)\n",
    "    ))\n",
    "    # 50-day Moving Average\n",
    "    price_trend.add_trace(go.Scatter(\n",
    "        x=df['Date'],\n",
    "        y=df['MA_50'],\n",
    "        name='50-Day MA',\n",
    "        line=dict(color='orange', width=2, dash='dash')\n",
    "    ))\n",
    "\n",
    "    # 200-day Moving Average\n",
    "    price_trend.add_trace(go.Scatter(\n",
    "        x=df['Date'],\n",
    "        y=df['MA_200'],\n",
    "        name='200-Day MA',\n",
    "        line=dict(color='green', width=2, dash='dot')\n",
    "    ))\n",
    "    # Update layout\n",
    "    price_trend.update_layout(\n",
    "        title=dict(\n",
    "            text=f'{selected_coin} Price Trend',\n",
    "            font=dict(size=20, color='#222222'),\n",
    "            x=0.5,\n",
    "            y=0.95\n",
    "        ),\n",
    "        xaxis=dict(\n",
    "            rangeselector=dict(\n",
    "                buttons=list([\n",
    "                    dict(count=3, label=\"3m\", step=\"month\", stepmode=\"backward\"),\n",
    "                    dict(count=6, label=\"6m\", step=\"month\", stepmode=\"backward\"),\n",
    "                    dict(count=12, label=\"1y\", step=\"month\", stepmode=\"backward\")\n",
    "                ])\n",
    "            ),\n",
    "            rangeslider=dict(visible=True),\n",
    "            type=\"date\",\n",
    "            title=dict(\n",
    "                text='Date',\n",
    "                font=dict(size=16, color='#000000')  # Black color for x-axis title\n",
    "            ),\n",
    "            tickfont=dict(size=14, color='#333333')\n",
    "        ),\n",
    "        yaxis=dict(\n",
    "            title=dict(\n",
    "                text='Price (USD)',\n",
    "                font=dict(size=16, color='#000000')  # Black color for y-axis title\n",
    "            ),\n",
    "            tickfont=dict(size=14, color='#333333')\n",
    "        ),\n",
    "        plot_bgcolor='white',\n",
    "        paper_bgcolor='white',\n",
    "        hovermode='x unified',\n",
    "        #width=1000,\n",
    "        height=600,\n",
    "        margin=dict(l=50, r=50, b=50, t=80)  # Adjusted margins\n",
    "    )\n",
    "    return price_trend"
   ]
  },
  {
   "cell_type": "code",
   "execution_count": 37,
   "id": "2aa84f91",
   "metadata": {},
   "outputs": [
    {
     "data": {
      "application/vnd.plotly.v1+json": {
       "config": {
        "plotlyServerURL": "https://plot.ly"
       },
       "data": [
        {
         "line": {
          "color": "#766CDB",
          "width": 2
         },
         "name": "BTC-USD",
         "type": "scatter",
         "x": [
          "2024-04-30T00:00:00",
          "2024-05-01T00:00:00",
          "2024-05-02T00:00:00",
          "2024-05-03T00:00:00",
          "2024-05-04T00:00:00",
          "2024-05-05T00:00:00",
          "2024-05-06T00:00:00",
          "2024-05-07T00:00:00",
          "2024-05-08T00:00:00",
          "2024-05-09T00:00:00",
          "2024-05-10T00:00:00",
          "2024-05-11T00:00:00",
          "2024-05-12T00:00:00",
          "2024-05-13T00:00:00",
          "2024-05-14T00:00:00",
          "2024-05-15T00:00:00",
          "2024-05-16T00:00:00",
          "2024-05-17T00:00:00",
          "2024-05-18T00:00:00",
          "2024-05-19T00:00:00",
          "2024-05-20T00:00:00",
          "2024-05-21T00:00:00",
          "2024-05-22T00:00:00",
          "2024-05-23T00:00:00",
          "2024-05-24T00:00:00",
          "2024-05-25T00:00:00",
          "2024-05-26T00:00:00",
          "2024-05-27T00:00:00",
          "2024-05-28T00:00:00",
          "2024-05-29T00:00:00",
          "2024-05-30T00:00:00",
          "2024-05-31T00:00:00",
          "2024-06-01T00:00:00",
          "2024-06-02T00:00:00",
          "2024-06-03T00:00:00",
          "2024-06-04T00:00:00",
          "2024-06-05T00:00:00",
          "2024-06-06T00:00:00",
          "2024-06-07T00:00:00",
          "2024-06-08T00:00:00",
          "2024-06-09T00:00:00",
          "2024-06-10T00:00:00",
          "2024-06-11T00:00:00",
          "2024-06-12T00:00:00",
          "2024-06-13T00:00:00",
          "2024-06-14T00:00:00",
          "2024-06-15T00:00:00",
          "2024-06-16T00:00:00",
          "2024-06-17T00:00:00",
          "2024-06-18T00:00:00",
          "2024-06-19T00:00:00",
          "2024-06-20T00:00:00",
          "2024-06-21T00:00:00",
          "2024-06-22T00:00:00",
          "2024-06-23T00:00:00",
          "2024-06-24T00:00:00",
          "2024-06-25T00:00:00",
          "2024-06-26T00:00:00",
          "2024-06-27T00:00:00",
          "2024-06-28T00:00:00",
          "2024-06-29T00:00:00",
          "2024-06-30T00:00:00",
          "2024-07-01T00:00:00",
          "2024-07-02T00:00:00",
          "2024-07-03T00:00:00",
          "2024-07-04T00:00:00",
          "2024-07-05T00:00:00",
          "2024-07-06T00:00:00",
          "2024-07-07T00:00:00",
          "2024-07-08T00:00:00",
          "2024-07-09T00:00:00",
          "2024-07-10T00:00:00",
          "2024-07-11T00:00:00",
          "2024-07-12T00:00:00",
          "2024-07-13T00:00:00",
          "2024-07-14T00:00:00",
          "2024-07-15T00:00:00",
          "2024-07-16T00:00:00",
          "2024-07-17T00:00:00",
          "2024-07-18T00:00:00",
          "2024-07-19T00:00:00",
          "2024-07-20T00:00:00",
          "2024-07-21T00:00:00",
          "2024-07-22T00:00:00",
          "2024-07-23T00:00:00",
          "2024-07-24T00:00:00",
          "2024-07-25T00:00:00",
          "2024-07-26T00:00:00",
          "2024-07-27T00:00:00",
          "2024-07-28T00:00:00",
          "2024-07-29T00:00:00",
          "2024-07-30T00:00:00",
          "2024-07-31T00:00:00",
          "2024-08-01T00:00:00",
          "2024-08-02T00:00:00",
          "2024-08-03T00:00:00",
          "2024-08-04T00:00:00",
          "2024-08-05T00:00:00",
          "2024-08-06T00:00:00",
          "2024-08-07T00:00:00",
          "2024-08-08T00:00:00",
          "2024-08-09T00:00:00",
          "2024-08-10T00:00:00",
          "2024-08-11T00:00:00",
          "2024-08-12T00:00:00",
          "2024-08-13T00:00:00",
          "2024-08-14T00:00:00",
          "2024-08-15T00:00:00",
          "2024-08-16T00:00:00",
          "2024-08-17T00:00:00",
          "2024-08-18T00:00:00",
          "2024-08-19T00:00:00",
          "2024-08-20T00:00:00",
          "2024-08-21T00:00:00",
          "2024-08-22T00:00:00",
          "2024-08-23T00:00:00",
          "2024-08-24T00:00:00",
          "2024-08-25T00:00:00",
          "2024-08-26T00:00:00",
          "2024-08-27T00:00:00",
          "2024-08-28T00:00:00",
          "2024-08-29T00:00:00",
          "2024-08-30T00:00:00",
          "2024-08-31T00:00:00",
          "2024-09-01T00:00:00",
          "2024-09-02T00:00:00",
          "2024-09-03T00:00:00",
          "2024-09-04T00:00:00",
          "2024-09-05T00:00:00",
          "2024-09-06T00:00:00",
          "2024-09-07T00:00:00",
          "2024-09-08T00:00:00",
          "2024-09-09T00:00:00",
          "2024-09-10T00:00:00",
          "2024-09-11T00:00:00",
          "2024-09-12T00:00:00",
          "2024-09-13T00:00:00",
          "2024-09-14T00:00:00",
          "2024-09-15T00:00:00",
          "2024-09-16T00:00:00",
          "2024-09-17T00:00:00",
          "2024-09-18T00:00:00",
          "2024-09-19T00:00:00",
          "2024-09-20T00:00:00",
          "2024-09-21T00:00:00",
          "2024-09-22T00:00:00",
          "2024-09-23T00:00:00",
          "2024-09-24T00:00:00",
          "2024-09-25T00:00:00",
          "2024-09-26T00:00:00",
          "2024-09-27T00:00:00",
          "2024-09-28T00:00:00",
          "2024-09-29T00:00:00",
          "2024-09-30T00:00:00",
          "2024-10-01T00:00:00",
          "2024-10-02T00:00:00",
          "2024-10-03T00:00:00",
          "2024-10-04T00:00:00",
          "2024-10-05T00:00:00",
          "2024-10-06T00:00:00",
          "2024-10-07T00:00:00",
          "2024-10-08T00:00:00",
          "2024-10-09T00:00:00",
          "2024-10-10T00:00:00",
          "2024-10-11T00:00:00",
          "2024-10-12T00:00:00",
          "2024-10-13T00:00:00",
          "2024-10-14T00:00:00",
          "2024-10-15T00:00:00",
          "2024-10-16T00:00:00",
          "2024-10-17T00:00:00",
          "2024-10-18T00:00:00",
          "2024-10-19T00:00:00",
          "2024-10-20T00:00:00",
          "2024-10-21T00:00:00",
          "2024-10-22T00:00:00",
          "2024-10-23T00:00:00",
          "2024-10-24T00:00:00",
          "2024-10-25T00:00:00",
          "2024-10-26T00:00:00",
          "2024-10-27T00:00:00",
          "2024-10-28T00:00:00",
          "2024-10-29T00:00:00",
          "2024-10-30T00:00:00",
          "2024-10-31T00:00:00",
          "2024-11-01T00:00:00",
          "2024-11-02T00:00:00",
          "2024-11-03T00:00:00",
          "2024-11-04T00:00:00",
          "2024-11-05T00:00:00",
          "2024-11-06T00:00:00",
          "2024-11-07T00:00:00",
          "2024-11-08T00:00:00",
          "2024-11-09T00:00:00",
          "2024-11-10T00:00:00",
          "2024-11-11T00:00:00",
          "2024-11-12T00:00:00",
          "2024-11-13T00:00:00",
          "2024-11-14T00:00:00",
          "2024-11-15T00:00:00",
          "2024-11-16T00:00:00",
          "2024-11-17T00:00:00",
          "2024-11-18T00:00:00",
          "2024-11-19T00:00:00",
          "2024-11-20T00:00:00",
          "2024-11-21T00:00:00",
          "2024-11-22T00:00:00",
          "2024-11-23T00:00:00",
          "2024-11-24T00:00:00",
          "2024-11-25T00:00:00",
          "2024-11-26T00:00:00",
          "2024-11-27T00:00:00",
          "2024-11-28T00:00:00",
          "2024-11-29T00:00:00",
          "2024-11-30T00:00:00",
          "2024-12-01T00:00:00",
          "2024-12-02T00:00:00",
          "2024-12-03T00:00:00",
          "2024-12-04T00:00:00",
          "2024-12-05T00:00:00",
          "2024-12-06T00:00:00",
          "2024-12-07T00:00:00",
          "2024-12-08T00:00:00",
          "2024-12-09T00:00:00",
          "2024-12-10T00:00:00",
          "2024-12-11T00:00:00",
          "2024-12-12T00:00:00",
          "2024-12-13T00:00:00",
          "2024-12-14T00:00:00",
          "2024-12-15T00:00:00",
          "2024-12-16T00:00:00",
          "2024-12-17T00:00:00",
          "2024-12-18T00:00:00",
          "2024-12-19T00:00:00",
          "2024-12-20T00:00:00",
          "2024-12-21T00:00:00",
          "2024-12-22T00:00:00",
          "2024-12-23T00:00:00",
          "2024-12-24T00:00:00",
          "2024-12-25T00:00:00",
          "2024-12-26T00:00:00",
          "2024-12-27T00:00:00",
          "2024-12-28T00:00:00",
          "2024-12-29T00:00:00",
          "2024-12-30T00:00:00",
          "2024-12-31T00:00:00",
          "2025-01-01T00:00:00",
          "2025-01-02T00:00:00",
          "2025-01-03T00:00:00",
          "2025-01-04T00:00:00",
          "2025-01-05T00:00:00",
          "2025-01-06T00:00:00",
          "2025-01-07T00:00:00",
          "2025-01-08T00:00:00",
          "2025-01-09T00:00:00",
          "2025-01-10T00:00:00",
          "2025-01-11T00:00:00",
          "2025-01-12T00:00:00",
          "2025-01-13T00:00:00",
          "2025-01-14T00:00:00",
          "2025-01-15T00:00:00",
          "2025-01-16T00:00:00",
          "2025-01-17T00:00:00",
          "2025-01-18T00:00:00",
          "2025-01-19T00:00:00",
          "2025-01-20T00:00:00",
          "2025-01-21T00:00:00",
          "2025-01-22T00:00:00",
          "2025-01-23T00:00:00",
          "2025-01-24T00:00:00",
          "2025-01-25T00:00:00",
          "2025-01-26T00:00:00",
          "2025-01-27T00:00:00",
          "2025-01-28T00:00:00",
          "2025-01-29T00:00:00",
          "2025-01-30T00:00:00",
          "2025-01-31T00:00:00",
          "2025-02-01T00:00:00",
          "2025-02-02T00:00:00",
          "2025-02-03T00:00:00",
          "2025-02-04T00:00:00",
          "2025-02-05T00:00:00",
          "2025-02-06T00:00:00",
          "2025-02-07T00:00:00",
          "2025-02-08T00:00:00",
          "2025-02-09T00:00:00",
          "2025-02-10T00:00:00",
          "2025-02-11T00:00:00",
          "2025-02-12T00:00:00",
          "2025-02-13T00:00:00",
          "2025-02-14T00:00:00",
          "2025-02-15T00:00:00",
          "2025-02-16T00:00:00",
          "2025-02-17T00:00:00",
          "2025-02-18T00:00:00",
          "2025-02-19T00:00:00",
          "2025-02-20T00:00:00",
          "2025-02-21T00:00:00",
          "2025-02-22T00:00:00",
          "2025-02-23T00:00:00",
          "2025-02-24T00:00:00",
          "2025-02-25T00:00:00",
          "2025-02-26T00:00:00",
          "2025-02-27T00:00:00",
          "2025-02-28T00:00:00",
          "2025-03-01T00:00:00",
          "2025-03-02T00:00:00",
          "2025-03-03T00:00:00",
          "2025-03-04T00:00:00",
          "2025-03-05T00:00:00",
          "2025-03-06T00:00:00",
          "2025-03-07T00:00:00",
          "2025-03-08T00:00:00",
          "2025-03-09T00:00:00",
          "2025-03-10T00:00:00",
          "2025-03-11T00:00:00",
          "2025-03-12T00:00:00",
          "2025-03-13T00:00:00",
          "2025-03-14T00:00:00",
          "2025-03-15T00:00:00",
          "2025-03-16T00:00:00",
          "2025-03-17T00:00:00",
          "2025-03-18T00:00:00",
          "2025-03-19T00:00:00",
          "2025-03-20T00:00:00",
          "2025-03-21T00:00:00",
          "2025-03-22T00:00:00",
          "2025-03-23T00:00:00",
          "2025-03-24T00:00:00",
          "2025-03-25T00:00:00",
          "2025-03-26T00:00:00",
          "2025-03-27T00:00:00",
          "2025-03-28T00:00:00",
          "2025-03-29T00:00:00",
          "2025-03-30T00:00:00",
          "2025-03-31T00:00:00",
          "2025-04-01T00:00:00",
          "2025-04-02T00:00:00",
          "2025-04-03T00:00:00",
          "2025-04-04T00:00:00",
          "2025-04-05T00:00:00",
          "2025-04-06T00:00:00",
          "2025-04-07T00:00:00",
          "2025-04-08T00:00:00",
          "2025-04-09T00:00:00",
          "2025-04-10T00:00:00",
          "2025-04-11T00:00:00",
          "2025-04-12T00:00:00",
          "2025-04-13T00:00:00",
          "2025-04-14T00:00:00",
          "2025-04-15T00:00:00",
          "2025-04-16T00:00:00",
          "2025-04-17T00:00:00",
          "2025-04-18T00:00:00",
          "2025-04-19T00:00:00",
          "2025-04-20T00:00:00",
          "2025-04-21T00:00:00",
          "2025-04-22T00:00:00",
          "2025-04-23T00:00:00",
          "2025-04-24T00:00:00",
          "2025-04-25T00:00:00",
          "2025-04-26T00:00:00",
          "2025-04-27T00:00:00",
          "2025-04-28T00:00:00",
          "2025-04-29T00:00:00"
         ],
         "y": {
          "bdata": "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",
          "dtype": "f8"
         }
        },
        {
         "line": {
          "color": "orange",
          "dash": "dash",
          "width": 2
         },
         "name": "50-Day MA",
         "type": "scatter",
         "x": [
          "2024-04-30T00:00:00",
          "2024-05-01T00:00:00",
          "2024-05-02T00:00:00",
          "2024-05-03T00:00:00",
          "2024-05-04T00:00:00",
          "2024-05-05T00:00:00",
          "2024-05-06T00:00:00",
          "2024-05-07T00:00:00",
          "2024-05-08T00:00:00",
          "2024-05-09T00:00:00",
          "2024-05-10T00:00:00",
          "2024-05-11T00:00:00",
          "2024-05-12T00:00:00",
          "2024-05-13T00:00:00",
          "2024-05-14T00:00:00",
          "2024-05-15T00:00:00",
          "2024-05-16T00:00:00",
          "2024-05-17T00:00:00",
          "2024-05-18T00:00:00",
          "2024-05-19T00:00:00",
          "2024-05-20T00:00:00",
          "2024-05-21T00:00:00",
          "2024-05-22T00:00:00",
          "2024-05-23T00:00:00",
          "2024-05-24T00:00:00",
          "2024-05-25T00:00:00",
          "2024-05-26T00:00:00",
          "2024-05-27T00:00:00",
          "2024-05-28T00:00:00",
          "2024-05-29T00:00:00",
          "2024-05-30T00:00:00",
          "2024-05-31T00:00:00",
          "2024-06-01T00:00:00",
          "2024-06-02T00:00:00",
          "2024-06-03T00:00:00",
          "2024-06-04T00:00:00",
          "2024-06-05T00:00:00",
          "2024-06-06T00:00:00",
          "2024-06-07T00:00:00",
          "2024-06-08T00:00:00",
          "2024-06-09T00:00:00",
          "2024-06-10T00:00:00",
          "2024-06-11T00:00:00",
          "2024-06-12T00:00:00",
          "2024-06-13T00:00:00",
          "2024-06-14T00:00:00",
          "2024-06-15T00:00:00",
          "2024-06-16T00:00:00",
          "2024-06-17T00:00:00",
          "2024-06-18T00:00:00",
          "2024-06-19T00:00:00",
          "2024-06-20T00:00:00",
          "2024-06-21T00:00:00",
          "2024-06-22T00:00:00",
          "2024-06-23T00:00:00",
          "2024-06-24T00:00:00",
          "2024-06-25T00:00:00",
          "2024-06-26T00:00:00",
          "2024-06-27T00:00:00",
          "2024-06-28T00:00:00",
          "2024-06-29T00:00:00",
          "2024-06-30T00:00:00",
          "2024-07-01T00:00:00",
          "2024-07-02T00:00:00",
          "2024-07-03T00:00:00",
          "2024-07-04T00:00:00",
          "2024-07-05T00:00:00",
          "2024-07-06T00:00:00",
          "2024-07-07T00:00:00",
          "2024-07-08T00:00:00",
          "2024-07-09T00:00:00",
          "2024-07-10T00:00:00",
          "2024-07-11T00:00:00",
          "2024-07-12T00:00:00",
          "2024-07-13T00:00:00",
          "2024-07-14T00:00:00",
          "2024-07-15T00:00:00",
          "2024-07-16T00:00:00",
          "2024-07-17T00:00:00",
          "2024-07-18T00:00:00",
          "2024-07-19T00:00:00",
          "2024-07-20T00:00:00",
          "2024-07-21T00:00:00",
          "2024-07-22T00:00:00",
          "2024-07-23T00:00:00",
          "2024-07-24T00:00:00",
          "2024-07-25T00:00:00",
          "2024-07-26T00:00:00",
          "2024-07-27T00:00:00",
          "2024-07-28T00:00:00",
          "2024-07-29T00:00:00",
          "2024-07-30T00:00:00",
          "2024-07-31T00:00:00",
          "2024-08-01T00:00:00",
          "2024-08-02T00:00:00",
          "2024-08-03T00:00:00",
          "2024-08-04T00:00:00",
          "2024-08-05T00:00:00",
          "2024-08-06T00:00:00",
          "2024-08-07T00:00:00",
          "2024-08-08T00:00:00",
          "2024-08-09T00:00:00",
          "2024-08-10T00:00:00",
          "2024-08-11T00:00:00",
          "2024-08-12T00:00:00",
          "2024-08-13T00:00:00",
          "2024-08-14T00:00:00",
          "2024-08-15T00:00:00",
          "2024-08-16T00:00:00",
          "2024-08-17T00:00:00",
          "2024-08-18T00:00:00",
          "2024-08-19T00:00:00",
          "2024-08-20T00:00:00",
          "2024-08-21T00:00:00",
          "2024-08-22T00:00:00",
          "2024-08-23T00:00:00",
          "2024-08-24T00:00:00",
          "2024-08-25T00:00:00",
          "2024-08-26T00:00:00",
          "2024-08-27T00:00:00",
          "2024-08-28T00:00:00",
          "2024-08-29T00:00:00",
          "2024-08-30T00:00:00",
          "2024-08-31T00:00:00",
          "2024-09-01T00:00:00",
          "2024-09-02T00:00:00",
          "2024-09-03T00:00:00",
          "2024-09-04T00:00:00",
          "2024-09-05T00:00:00",
          "2024-09-06T00:00:00",
          "2024-09-07T00:00:00",
          "2024-09-08T00:00:00",
          "2024-09-09T00:00:00",
          "2024-09-10T00:00:00",
          "2024-09-11T00:00:00",
          "2024-09-12T00:00:00",
          "2024-09-13T00:00:00",
          "2024-09-14T00:00:00",
          "2024-09-15T00:00:00",
          "2024-09-16T00:00:00",
          "2024-09-17T00:00:00",
          "2024-09-18T00:00:00",
          "2024-09-19T00:00:00",
          "2024-09-20T00:00:00",
          "2024-09-21T00:00:00",
          "2024-09-22T00:00:00",
          "2024-09-23T00:00:00",
          "2024-09-24T00:00:00",
          "2024-09-25T00:00:00",
          "2024-09-26T00:00:00",
          "2024-09-27T00:00:00",
          "2024-09-28T00:00:00",
          "2024-09-29T00:00:00",
          "2024-09-30T00:00:00",
          "2024-10-01T00:00:00",
          "2024-10-02T00:00:00",
          "2024-10-03T00:00:00",
          "2024-10-04T00:00:00",
          "2024-10-05T00:00:00",
          "2024-10-06T00:00:00",
          "2024-10-07T00:00:00",
          "2024-10-08T00:00:00",
          "2024-10-09T00:00:00",
          "2024-10-10T00:00:00",
          "2024-10-11T00:00:00",
          "2024-10-12T00:00:00",
          "2024-10-13T00:00:00",
          "2024-10-14T00:00:00",
          "2024-10-15T00:00:00",
          "2024-10-16T00:00:00",
          "2024-10-17T00:00:00",
          "2024-10-18T00:00:00",
          "2024-10-19T00:00:00",
          "2024-10-20T00:00:00",
          "2024-10-21T00:00:00",
          "2024-10-22T00:00:00",
          "2024-10-23T00:00:00",
          "2024-10-24T00:00:00",
          "2024-10-25T00:00:00",
          "2024-10-26T00:00:00",
          "2024-10-27T00:00:00",
          "2024-10-28T00:00:00",
          "2024-10-29T00:00:00",
          "2024-10-30T00:00:00",
          "2024-10-31T00:00:00",
          "2024-11-01T00:00:00",
          "2024-11-02T00:00:00",
          "2024-11-03T00:00:00",
          "2024-11-04T00:00:00",
          "2024-11-05T00:00:00",
          "2024-11-06T00:00:00",
          "2024-11-07T00:00:00",
          "2024-11-08T00:00:00",
          "2024-11-09T00:00:00",
          "2024-11-10T00:00:00",
          "2024-11-11T00:00:00",
          "2024-11-12T00:00:00",
          "2024-11-13T00:00:00",
          "2024-11-14T00:00:00",
          "2024-11-15T00:00:00",
          "2024-11-16T00:00:00",
          "2024-11-17T00:00:00",
          "2024-11-18T00:00:00",
          "2024-11-19T00:00:00",
          "2024-11-20T00:00:00",
          "2024-11-21T00:00:00",
          "2024-11-22T00:00:00",
          "2024-11-23T00:00:00",
          "2024-11-24T00:00:00",
          "2024-11-25T00:00:00",
          "2024-11-26T00:00:00",
          "2024-11-27T00:00:00",
          "2024-11-28T00:00:00",
          "2024-11-29T00:00:00",
          "2024-11-30T00:00:00",
          "2024-12-01T00:00:00",
          "2024-12-02T00:00:00",
          "2024-12-03T00:00:00",
          "2024-12-04T00:00:00",
          "2024-12-05T00:00:00",
          "2024-12-06T00:00:00",
          "2024-12-07T00:00:00",
          "2024-12-08T00:00:00",
          "2024-12-09T00:00:00",
          "2024-12-10T00:00:00",
          "2024-12-11T00:00:00",
          "2024-12-12T00:00:00",
          "2024-12-13T00:00:00",
          "2024-12-14T00:00:00",
          "2024-12-15T00:00:00",
          "2024-12-16T00:00:00",
          "2024-12-17T00:00:00",
          "2024-12-18T00:00:00",
          "2024-12-19T00:00:00",
          "2024-12-20T00:00:00",
          "2024-12-21T00:00:00",
          "2024-12-22T00:00:00",
          "2024-12-23T00:00:00",
          "2024-12-24T00:00:00",
          "2024-12-25T00:00:00",
          "2024-12-26T00:00:00",
          "2024-12-27T00:00:00",
          "2024-12-28T00:00:00",
          "2024-12-29T00:00:00",
          "2024-12-30T00:00:00",
          "2024-12-31T00:00:00",
          "2025-01-01T00:00:00",
          "2025-01-02T00:00:00",
          "2025-01-03T00:00:00",
          "2025-01-04T00:00:00",
          "2025-01-05T00:00:00",
          "2025-01-06T00:00:00",
          "2025-01-07T00:00:00",
          "2025-01-08T00:00:00",
          "2025-01-09T00:00:00",
          "2025-01-10T00:00:00",
          "2025-01-11T00:00:00",
          "2025-01-12T00:00:00",
          "2025-01-13T00:00:00",
          "2025-01-14T00:00:00",
          "2025-01-15T00:00:00",
          "2025-01-16T00:00:00",
          "2025-01-17T00:00:00",
          "2025-01-18T00:00:00",
          "2025-01-19T00:00:00",
          "2025-01-20T00:00:00",
          "2025-01-21T00:00:00",
          "2025-01-22T00:00:00",
          "2025-01-23T00:00:00",
          "2025-01-24T00:00:00",
          "2025-01-25T00:00:00",
          "2025-01-26T00:00:00",
          "2025-01-27T00:00:00",
          "2025-01-28T00:00:00",
          "2025-01-29T00:00:00",
          "2025-01-30T00:00:00",
          "2025-01-31T00:00:00",
          "2025-02-01T00:00:00",
          "2025-02-02T00:00:00",
          "2025-02-03T00:00:00",
          "2025-02-04T00:00:00",
          "2025-02-05T00:00:00",
          "2025-02-06T00:00:00",
          "2025-02-07T00:00:00",
          "2025-02-08T00:00:00",
          "2025-02-09T00:00:00",
          "2025-02-10T00:00:00",
          "2025-02-11T00:00:00",
          "2025-02-12T00:00:00",
          "2025-02-13T00:00:00",
          "2025-02-14T00:00:00",
          "2025-02-15T00:00:00",
          "2025-02-16T00:00:00",
          "2025-02-17T00:00:00",
          "2025-02-18T00:00:00",
          "2025-02-19T00:00:00",
          "2025-02-20T00:00:00",
          "2025-02-21T00:00:00",
          "2025-02-22T00:00:00",
          "2025-02-23T00:00:00",
          "2025-02-24T00:00:00",
          "2025-02-25T00:00:00",
          "2025-02-26T00:00:00",
          "2025-02-27T00:00:00",
          "2025-02-28T00:00:00",
          "2025-03-01T00:00:00",
          "2025-03-02T00:00:00",
          "2025-03-03T00:00:00",
          "2025-03-04T00:00:00",
          "2025-03-05T00:00:00",
          "2025-03-06T00:00:00",
          "2025-03-07T00:00:00",
          "2025-03-08T00:00:00",
          "2025-03-09T00:00:00",
          "2025-03-10T00:00:00",
          "2025-03-11T00:00:00",
          "2025-03-12T00:00:00",
          "2025-03-13T00:00:00",
          "2025-03-14T00:00:00",
          "2025-03-15T00:00:00",
          "2025-03-16T00:00:00",
          "2025-03-17T00:00:00",
          "2025-03-18T00:00:00",
          "2025-03-19T00:00:00",
          "2025-03-20T00:00:00",
          "2025-03-21T00:00:00",
          "2025-03-22T00:00:00",
          "2025-03-23T00:00:00",
          "2025-03-24T00:00:00",
          "2025-03-25T00:00:00",
          "2025-03-26T00:00:00",
          "2025-03-27T00:00:00",
          "2025-03-28T00:00:00",
          "2025-03-29T00:00:00",
          "2025-03-30T00:00:00",
          "2025-03-31T00:00:00",
          "2025-04-01T00:00:00",
          "2025-04-02T00:00:00",
          "2025-04-03T00:00:00",
          "2025-04-04T00:00:00",
          "2025-04-05T00:00:00",
          "2025-04-06T00:00:00",
          "2025-04-07T00:00:00",
          "2025-04-08T00:00:00",
          "2025-04-09T00:00:00",
          "2025-04-10T00:00:00",
          "2025-04-11T00:00:00",
          "2025-04-12T00:00:00",
          "2025-04-13T00:00:00",
          "2025-04-14T00:00:00",
          "2025-04-15T00:00:00",
          "2025-04-16T00:00:00",
          "2025-04-17T00:00:00",
          "2025-04-18T00:00:00",
          "2025-04-19T00:00:00",
          "2025-04-20T00:00:00",
          "2025-04-21T00:00:00",
          "2025-04-22T00:00:00",
          "2025-04-23T00:00:00",
          "2025-04-24T00:00:00",
          "2025-04-25T00:00:00",
          "2025-04-26T00:00:00",
          "2025-04-27T00:00:00",
          "2025-04-28T00:00:00",
          "2025-04-29T00:00:00"
         ],
         "y": {
          "bdata": "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",
          "dtype": "f8"
         }
        },
        {
         "line": {
          "color": "green",
          "dash": "dot",
          "width": 2
         },
         "name": "200-Day MA",
         "type": "scatter",
         "x": [
          "2024-04-30T00:00:00",
          "2024-05-01T00:00:00",
          "2024-05-02T00:00:00",
          "2024-05-03T00:00:00",
          "2024-05-04T00:00:00",
          "2024-05-05T00:00:00",
          "2024-05-06T00:00:00",
          "2024-05-07T00:00:00",
          "2024-05-08T00:00:00",
          "2024-05-09T00:00:00",
          "2024-05-10T00:00:00",
          "2024-05-11T00:00:00",
          "2024-05-12T00:00:00",
          "2024-05-13T00:00:00",
          "2024-05-14T00:00:00",
          "2024-05-15T00:00:00",
          "2024-05-16T00:00:00",
          "2024-05-17T00:00:00",
          "2024-05-18T00:00:00",
          "2024-05-19T00:00:00",
          "2024-05-20T00:00:00",
          "2024-05-21T00:00:00",
          "2024-05-22T00:00:00",
          "2024-05-23T00:00:00",
          "2024-05-24T00:00:00",
          "2024-05-25T00:00:00",
          "2024-05-26T00:00:00",
          "2024-05-27T00:00:00",
          "2024-05-28T00:00:00",
          "2024-05-29T00:00:00",
          "2024-05-30T00:00:00",
          "2024-05-31T00:00:00",
          "2024-06-01T00:00:00",
          "2024-06-02T00:00:00",
          "2024-06-03T00:00:00",
          "2024-06-04T00:00:00",
          "2024-06-05T00:00:00",
          "2024-06-06T00:00:00",
          "2024-06-07T00:00:00",
          "2024-06-08T00:00:00",
          "2024-06-09T00:00:00",
          "2024-06-10T00:00:00",
          "2024-06-11T00:00:00",
          "2024-06-12T00:00:00",
          "2024-06-13T00:00:00",
          "2024-06-14T00:00:00",
          "2024-06-15T00:00:00",
          "2024-06-16T00:00:00",
          "2024-06-17T00:00:00",
          "2024-06-18T00:00:00",
          "2024-06-19T00:00:00",
          "2024-06-20T00:00:00",
          "2024-06-21T00:00:00",
          "2024-06-22T00:00:00",
          "2024-06-23T00:00:00",
          "2024-06-24T00:00:00",
          "2024-06-25T00:00:00",
          "2024-06-26T00:00:00",
          "2024-06-27T00:00:00",
          "2024-06-28T00:00:00",
          "2024-06-29T00:00:00",
          "2024-06-30T00:00:00",
          "2024-07-01T00:00:00",
          "2024-07-02T00:00:00",
          "2024-07-03T00:00:00",
          "2024-07-04T00:00:00",
          "2024-07-05T00:00:00",
          "2024-07-06T00:00:00",
          "2024-07-07T00:00:00",
          "2024-07-08T00:00:00",
          "2024-07-09T00:00:00",
          "2024-07-10T00:00:00",
          "2024-07-11T00:00:00",
          "2024-07-12T00:00:00",
          "2024-07-13T00:00:00",
          "2024-07-14T00:00:00",
          "2024-07-15T00:00:00",
          "2024-07-16T00:00:00",
          "2024-07-17T00:00:00",
          "2024-07-18T00:00:00",
          "2024-07-19T00:00:00",
          "2024-07-20T00:00:00",
          "2024-07-21T00:00:00",
          "2024-07-22T00:00:00",
          "2024-07-23T00:00:00",
          "2024-07-24T00:00:00",
          "2024-07-25T00:00:00",
          "2024-07-26T00:00:00",
          "2024-07-27T00:00:00",
          "2024-07-28T00:00:00",
          "2024-07-29T00:00:00",
          "2024-07-30T00:00:00",
          "2024-07-31T00:00:00",
          "2024-08-01T00:00:00",
          "2024-08-02T00:00:00",
          "2024-08-03T00:00:00",
          "2024-08-04T00:00:00",
          "2024-08-05T00:00:00",
          "2024-08-06T00:00:00",
          "2024-08-07T00:00:00",
          "2024-08-08T00:00:00",
          "2024-08-09T00:00:00",
          "2024-08-10T00:00:00",
          "2024-08-11T00:00:00",
          "2024-08-12T00:00:00",
          "2024-08-13T00:00:00",
          "2024-08-14T00:00:00",
          "2024-08-15T00:00:00",
          "2024-08-16T00:00:00",
          "2024-08-17T00:00:00",
          "2024-08-18T00:00:00",
          "2024-08-19T00:00:00",
          "2024-08-20T00:00:00",
          "2024-08-21T00:00:00",
          "2024-08-22T00:00:00",
          "2024-08-23T00:00:00",
          "2024-08-24T00:00:00",
          "2024-08-25T00:00:00",
          "2024-08-26T00:00:00",
          "2024-08-27T00:00:00",
          "2024-08-28T00:00:00",
          "2024-08-29T00:00:00",
          "2024-08-30T00:00:00",
          "2024-08-31T00:00:00",
          "2024-09-01T00:00:00",
          "2024-09-02T00:00:00",
          "2024-09-03T00:00:00",
          "2024-09-04T00:00:00",
          "2024-09-05T00:00:00",
          "2024-09-06T00:00:00",
          "2024-09-07T00:00:00",
          "2024-09-08T00:00:00",
          "2024-09-09T00:00:00",
          "2024-09-10T00:00:00",
          "2024-09-11T00:00:00",
          "2024-09-12T00:00:00",
          "2024-09-13T00:00:00",
          "2024-09-14T00:00:00",
          "2024-09-15T00:00:00",
          "2024-09-16T00:00:00",
          "2024-09-17T00:00:00",
          "2024-09-18T00:00:00",
          "2024-09-19T00:00:00",
          "2024-09-20T00:00:00",
          "2024-09-21T00:00:00",
          "2024-09-22T00:00:00",
          "2024-09-23T00:00:00",
          "2024-09-24T00:00:00",
          "2024-09-25T00:00:00",
          "2024-09-26T00:00:00",
          "2024-09-27T00:00:00",
          "2024-09-28T00:00:00",
          "2024-09-29T00:00:00",
          "2024-09-30T00:00:00",
          "2024-10-01T00:00:00",
          "2024-10-02T00:00:00",
          "2024-10-03T00:00:00",
          "2024-10-04T00:00:00",
          "2024-10-05T00:00:00",
          "2024-10-06T00:00:00",
          "2024-10-07T00:00:00",
          "2024-10-08T00:00:00",
          "2024-10-09T00:00:00",
          "2024-10-10T00:00:00",
          "2024-10-11T00:00:00",
          "2024-10-12T00:00:00",
          "2024-10-13T00:00:00",
          "2024-10-14T00:00:00",
          "2024-10-15T00:00:00",
          "2024-10-16T00:00:00",
          "2024-10-17T00:00:00",
          "2024-10-18T00:00:00",
          "2024-10-19T00:00:00",
          "2024-10-20T00:00:00",
          "2024-10-21T00:00:00",
          "2024-10-22T00:00:00",
          "2024-10-23T00:00:00",
          "2024-10-24T00:00:00",
          "2024-10-25T00:00:00",
          "2024-10-26T00:00:00",
          "2024-10-27T00:00:00",
          "2024-10-28T00:00:00",
          "2024-10-29T00:00:00",
          "2024-10-30T00:00:00",
          "2024-10-31T00:00:00",
          "2024-11-01T00:00:00",
          "2024-11-02T00:00:00",
          "2024-11-03T00:00:00",
          "2024-11-04T00:00:00",
          "2024-11-05T00:00:00",
          "2024-11-06T00:00:00",
          "2024-11-07T00:00:00",
          "2024-11-08T00:00:00",
          "2024-11-09T00:00:00",
          "2024-11-10T00:00:00",
          "2024-11-11T00:00:00",
          "2024-11-12T00:00:00",
          "2024-11-13T00:00:00",
          "2024-11-14T00:00:00",
          "2024-11-15T00:00:00",
          "2024-11-16T00:00:00",
          "2024-11-17T00:00:00",
          "2024-11-18T00:00:00",
          "2024-11-19T00:00:00",
          "2024-11-20T00:00:00",
          "2024-11-21T00:00:00",
          "2024-11-22T00:00:00",
          "2024-11-23T00:00:00",
          "2024-11-24T00:00:00",
          "2024-11-25T00:00:00",
          "2024-11-26T00:00:00",
          "2024-11-27T00:00:00",
          "2024-11-28T00:00:00",
          "2024-11-29T00:00:00",
          "2024-11-30T00:00:00",
          "2024-12-01T00:00:00",
          "2024-12-02T00:00:00",
          "2024-12-03T00:00:00",
          "2024-12-04T00:00:00",
          "2024-12-05T00:00:00",
          "2024-12-06T00:00:00",
          "2024-12-07T00:00:00",
          "2024-12-08T00:00:00",
          "2024-12-09T00:00:00",
          "2024-12-10T00:00:00",
          "2024-12-11T00:00:00",
          "2024-12-12T00:00:00",
          "2024-12-13T00:00:00",
          "2024-12-14T00:00:00",
          "2024-12-15T00:00:00",
          "2024-12-16T00:00:00",
          "2024-12-17T00:00:00",
          "2024-12-18T00:00:00",
          "2024-12-19T00:00:00",
          "2024-12-20T00:00:00",
          "2024-12-21T00:00:00",
          "2024-12-22T00:00:00",
          "2024-12-23T00:00:00",
          "2024-12-24T00:00:00",
          "2024-12-25T00:00:00",
          "2024-12-26T00:00:00",
          "2024-12-27T00:00:00",
          "2024-12-28T00:00:00",
          "2024-12-29T00:00:00",
          "2024-12-30T00:00:00",
          "2024-12-31T00:00:00",
          "2025-01-01T00:00:00",
          "2025-01-02T00:00:00",
          "2025-01-03T00:00:00",
          "2025-01-04T00:00:00",
          "2025-01-05T00:00:00",
          "2025-01-06T00:00:00",
          "2025-01-07T00:00:00",
          "2025-01-08T00:00:00",
          "2025-01-09T00:00:00",
          "2025-01-10T00:00:00",
          "2025-01-11T00:00:00",
          "2025-01-12T00:00:00",
          "2025-01-13T00:00:00",
          "2025-01-14T00:00:00",
          "2025-01-15T00:00:00",
          "2025-01-16T00:00:00",
          "2025-01-17T00:00:00",
          "2025-01-18T00:00:00",
          "2025-01-19T00:00:00",
          "2025-01-20T00:00:00",
          "2025-01-21T00:00:00",
          "2025-01-22T00:00:00",
          "2025-01-23T00:00:00",
          "2025-01-24T00:00:00",
          "2025-01-25T00:00:00",
          "2025-01-26T00:00:00",
          "2025-01-27T00:00:00",
          "2025-01-28T00:00:00",
          "2025-01-29T00:00:00",
          "2025-01-30T00:00:00",
          "2025-01-31T00:00:00",
          "2025-02-01T00:00:00",
          "2025-02-02T00:00:00",
          "2025-02-03T00:00:00",
          "2025-02-04T00:00:00",
          "2025-02-05T00:00:00",
          "2025-02-06T00:00:00",
          "2025-02-07T00:00:00",
          "2025-02-08T00:00:00",
          "2025-02-09T00:00:00",
          "2025-02-10T00:00:00",
          "2025-02-11T00:00:00",
          "2025-02-12T00:00:00",
          "2025-02-13T00:00:00",
          "2025-02-14T00:00:00",
          "2025-02-15T00:00:00",
          "2025-02-16T00:00:00",
          "2025-02-17T00:00:00",
          "2025-02-18T00:00:00",
          "2025-02-19T00:00:00",
          "2025-02-20T00:00:00",
          "2025-02-21T00:00:00",
          "2025-02-22T00:00:00",
          "2025-02-23T00:00:00",
          "2025-02-24T00:00:00",
          "2025-02-25T00:00:00",
          "2025-02-26T00:00:00",
          "2025-02-27T00:00:00",
          "2025-02-28T00:00:00",
          "2025-03-01T00:00:00",
          "2025-03-02T00:00:00",
          "2025-03-03T00:00:00",
          "2025-03-04T00:00:00",
          "2025-03-05T00:00:00",
          "2025-03-06T00:00:00",
          "2025-03-07T00:00:00",
          "2025-03-08T00:00:00",
          "2025-03-09T00:00:00",
          "2025-03-10T00:00:00",
          "2025-03-11T00:00:00",
          "2025-03-12T00:00:00",
          "2025-03-13T00:00:00",
          "2025-03-14T00:00:00",
          "2025-03-15T00:00:00",
          "2025-03-16T00:00:00",
          "2025-03-17T00:00:00",
          "2025-03-18T00:00:00",
          "2025-03-19T00:00:00",
          "2025-03-20T00:00:00",
          "2025-03-21T00:00:00",
          "2025-03-22T00:00:00",
          "2025-03-23T00:00:00",
          "2025-03-24T00:00:00",
          "2025-03-25T00:00:00",
          "2025-03-26T00:00:00",
          "2025-03-27T00:00:00",
          "2025-03-28T00:00:00",
          "2025-03-29T00:00:00",
          "2025-03-30T00:00:00",
          "2025-03-31T00:00:00",
          "2025-04-01T00:00:00",
          "2025-04-02T00:00:00",
          "2025-04-03T00:00:00",
          "2025-04-04T00:00:00",
          "2025-04-05T00:00:00",
          "2025-04-06T00:00:00",
          "2025-04-07T00:00:00",
          "2025-04-08T00:00:00",
          "2025-04-09T00:00:00",
          "2025-04-10T00:00:00",
          "2025-04-11T00:00:00",
          "2025-04-12T00:00:00",
          "2025-04-13T00:00:00",
          "2025-04-14T00:00:00",
          "2025-04-15T00:00:00",
          "2025-04-16T00:00:00",
          "2025-04-17T00:00:00",
          "2025-04-18T00:00:00",
          "2025-04-19T00:00:00",
          "2025-04-20T00:00:00",
          "2025-04-21T00:00:00",
          "2025-04-22T00:00:00",
          "2025-04-23T00:00:00",
          "2025-04-24T00:00:00",
          "2025-04-25T00:00:00",
          "2025-04-26T00:00:00",
          "2025-04-27T00:00:00",
          "2025-04-28T00:00:00",
          "2025-04-29T00:00:00"
         ],
         "y": {
          "bdata": "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",
          "dtype": "f8"
         }
        }
       ],
       "layout": {
        "height": 600,
        "hovermode": "x unified",
        "margin": {
         "b": 50,
         "l": 50,
         "r": 50,
         "t": 80
        },
        "paper_bgcolor": "white",
        "plot_bgcolor": "white",
        "template": {
         "data": {
          "bar": [
           {
            "error_x": {
             "color": "#2a3f5f"
            },
            "error_y": {
             "color": "#2a3f5f"
            },
            "marker": {
             "line": {
              "color": "#E5ECF6",
              "width": 0.5
             },
             "pattern": {
              "fillmode": "overlay",
              "size": 10,
              "solidity": 0.2
             }
            },
            "type": "bar"
           }
          ],
          "barpolar": [
           {
            "marker": {
             "line": {
              "color": "#E5ECF6",
              "width": 0.5
             },
             "pattern": {
              "fillmode": "overlay",
              "size": 10,
              "solidity": 0.2
             }
            },
            "type": "barpolar"
           }
          ],
          "carpet": [
           {
            "aaxis": {
             "endlinecolor": "#2a3f5f",
             "gridcolor": "white",
             "linecolor": "white",
             "minorgridcolor": "white",
             "startlinecolor": "#2a3f5f"
            },
            "baxis": {
             "endlinecolor": "#2a3f5f",
             "gridcolor": "white",
             "linecolor": "white",
             "minorgridcolor": "white",
             "startlinecolor": "#2a3f5f"
            },
            "type": "carpet"
           }
          ],
          "choropleth": [
           {
            "colorbar": {
             "outlinewidth": 0,
             "ticks": ""
            },
            "type": "choropleth"
           }
          ],
          "contour": [
           {
            "colorbar": {
             "outlinewidth": 0,
             "ticks": ""
            },
            "colorscale": [
             [
              0,
              "#0d0887"
             ],
             [
              0.1111111111111111,
              "#46039f"
             ],
             [
              0.2222222222222222,
              "#7201a8"
             ],
             [
              0.3333333333333333,
              "#9c179e"
             ],
             [
              0.4444444444444444,
              "#bd3786"
             ],
             [
              0.5555555555555556,
              "#d8576b"
             ],
             [
              0.6666666666666666,
              "#ed7953"
             ],
             [
              0.7777777777777778,
              "#fb9f3a"
             ],
             [
              0.8888888888888888,
              "#fdca26"
             ],
             [
              1,
              "#f0f921"
             ]
            ],
            "type": "contour"
           }
          ],
          "contourcarpet": [
           {
            "colorbar": {
             "outlinewidth": 0,
             "ticks": ""
            },
            "type": "contourcarpet"
           }
          ],
          "heatmap": [
           {
            "colorbar": {
             "outlinewidth": 0,
             "ticks": ""
            },
            "colorscale": [
             [
              0,
              "#0d0887"
             ],
             [
              0.1111111111111111,
              "#46039f"
             ],
             [
              0.2222222222222222,
              "#7201a8"
             ],
             [
              0.3333333333333333,
              "#9c179e"
             ],
             [
              0.4444444444444444,
              "#bd3786"
             ],
             [
              0.5555555555555556,
              "#d8576b"
             ],
             [
              0.6666666666666666,
              "#ed7953"
             ],
             [
              0.7777777777777778,
              "#fb9f3a"
             ],
             [
              0.8888888888888888,
              "#fdca26"
             ],
             [
              1,
              "#f0f921"
             ]
            ],
            "type": "heatmap"
           }
          ],
          "histogram": [
           {
            "marker": {
             "pattern": {
              "fillmode": "overlay",
              "size": 10,
              "solidity": 0.2
             }
            },
            "type": "histogram"
           }
          ],
          "histogram2d": [
           {
            "colorbar": {
             "outlinewidth": 0,
             "ticks": ""
            },
            "colorscale": [
             [
              0,
              "#0d0887"
             ],
             [
              0.1111111111111111,
              "#46039f"
             ],
             [
              0.2222222222222222,
              "#7201a8"
             ],
             [
              0.3333333333333333,
              "#9c179e"
             ],
             [
              0.4444444444444444,
              "#bd3786"
             ],
             [
              0.5555555555555556,
              "#d8576b"
             ],
             [
              0.6666666666666666,
              "#ed7953"
             ],
             [
              0.7777777777777778,
              "#fb9f3a"
             ],
             [
              0.8888888888888888,
              "#fdca26"
             ],
             [
              1,
              "#f0f921"
             ]
            ],
            "type": "histogram2d"
           }
          ],
          "histogram2dcontour": [
           {
            "colorbar": {
             "outlinewidth": 0,
             "ticks": ""
            },
            "colorscale": [
             [
              0,
              "#0d0887"
             ],
             [
              0.1111111111111111,
              "#46039f"
             ],
             [
              0.2222222222222222,
              "#7201a8"
             ],
             [
              0.3333333333333333,
              "#9c179e"
             ],
             [
              0.4444444444444444,
              "#bd3786"
             ],
             [
              0.5555555555555556,
              "#d8576b"
             ],
             [
              0.6666666666666666,
              "#ed7953"
             ],
             [
              0.7777777777777778,
              "#fb9f3a"
             ],
             [
              0.8888888888888888,
              "#fdca26"
             ],
             [
              1,
              "#f0f921"
             ]
            ],
            "type": "histogram2dcontour"
           }
          ],
          "mesh3d": [
           {
            "colorbar": {
             "outlinewidth": 0,
             "ticks": ""
            },
            "type": "mesh3d"
           }
          ],
          "parcoords": [
           {
            "line": {
             "colorbar": {
              "outlinewidth": 0,
              "ticks": ""
             }
            },
            "type": "parcoords"
           }
          ],
          "pie": [
           {
            "automargin": true,
            "type": "pie"
           }
          ],
          "scatter": [
           {
            "fillpattern": {
             "fillmode": "overlay",
             "size": 10,
             "solidity": 0.2
            },
            "type": "scatter"
           }
          ],
          "scatter3d": [
           {
            "line": {
             "colorbar": {
              "outlinewidth": 0,
              "ticks": ""
             }
            },
            "marker": {
             "colorbar": {
              "outlinewidth": 0,
              "ticks": ""
             }
            },
            "type": "scatter3d"
           }
          ],
          "scattercarpet": [
           {
            "marker": {
             "colorbar": {
              "outlinewidth": 0,
              "ticks": ""
             }
            },
            "type": "scattercarpet"
           }
          ],
          "scattergeo": [
           {
            "marker": {
             "colorbar": {
              "outlinewidth": 0,
              "ticks": ""
             }
            },
            "type": "scattergeo"
           }
          ],
          "scattergl": [
           {
            "marker": {
             "colorbar": {
              "outlinewidth": 0,
              "ticks": ""
             }
            },
            "type": "scattergl"
           }
          ],
          "scattermap": [
           {
            "marker": {
             "colorbar": {
              "outlinewidth": 0,
              "ticks": ""
             }
            },
            "type": "scattermap"
           }
          ],
          "scattermapbox": [
           {
            "marker": {
             "colorbar": {
              "outlinewidth": 0,
              "ticks": ""
             }
            },
            "type": "scattermapbox"
           }
          ],
          "scatterpolar": [
           {
            "marker": {
             "colorbar": {
              "outlinewidth": 0,
              "ticks": ""
             }
            },
            "type": "scatterpolar"
           }
          ],
          "scatterpolargl": [
           {
            "marker": {
             "colorbar": {
              "outlinewidth": 0,
              "ticks": ""
             }
            },
            "type": "scatterpolargl"
           }
          ],
          "scatterternary": [
           {
            "marker": {
             "colorbar": {
              "outlinewidth": 0,
              "ticks": ""
             }
            },
            "type": "scatterternary"
           }
          ],
          "surface": [
           {
            "colorbar": {
             "outlinewidth": 0,
             "ticks": ""
            },
            "colorscale": [
             [
              0,
              "#0d0887"
             ],
             [
              0.1111111111111111,
              "#46039f"
             ],
             [
              0.2222222222222222,
              "#7201a8"
             ],
             [
              0.3333333333333333,
              "#9c179e"
             ],
             [
              0.4444444444444444,
              "#bd3786"
             ],
             [
              0.5555555555555556,
              "#d8576b"
             ],
             [
              0.6666666666666666,
              "#ed7953"
             ],
             [
              0.7777777777777778,
              "#fb9f3a"
             ],
             [
              0.8888888888888888,
              "#fdca26"
             ],
             [
              1,
              "#f0f921"
             ]
            ],
            "type": "surface"
           }
          ],
          "table": [
           {
            "cells": {
             "fill": {
              "color": "#EBF0F8"
             },
             "line": {
              "color": "white"
             }
            },
            "header": {
             "fill": {
              "color": "#C8D4E3"
             },
             "line": {
              "color": "white"
             }
            },
            "type": "table"
           }
          ]
         },
         "layout": {
          "annotationdefaults": {
           "arrowcolor": "#2a3f5f",
           "arrowhead": 0,
           "arrowwidth": 1
          },
          "autotypenumbers": "strict",
          "coloraxis": {
           "colorbar": {
            "outlinewidth": 0,
            "ticks": ""
           }
          },
          "colorscale": {
           "diverging": [
            [
             0,
             "#8e0152"
            ],
            [
             0.1,
             "#c51b7d"
            ],
            [
             0.2,
             "#de77ae"
            ],
            [
             0.3,
             "#f1b6da"
            ],
            [
             0.4,
             "#fde0ef"
            ],
            [
             0.5,
             "#f7f7f7"
            ],
            [
             0.6,
             "#e6f5d0"
            ],
            [
             0.7,
             "#b8e186"
            ],
            [
             0.8,
             "#7fbc41"
            ],
            [
             0.9,
             "#4d9221"
            ],
            [
             1,
             "#276419"
            ]
           ],
           "sequential": [
            [
             0,
             "#0d0887"
            ],
            [
             0.1111111111111111,
             "#46039f"
            ],
            [
             0.2222222222222222,
             "#7201a8"
            ],
            [
             0.3333333333333333,
             "#9c179e"
            ],
            [
             0.4444444444444444,
             "#bd3786"
            ],
            [
             0.5555555555555556,
             "#d8576b"
            ],
            [
             0.6666666666666666,
             "#ed7953"
            ],
            [
             0.7777777777777778,
             "#fb9f3a"
            ],
            [
             0.8888888888888888,
             "#fdca26"
            ],
            [
             1,
             "#f0f921"
            ]
           ],
           "sequentialminus": [
            [
             0,
             "#0d0887"
            ],
            [
             0.1111111111111111,
             "#46039f"
            ],
            [
             0.2222222222222222,
             "#7201a8"
            ],
            [
             0.3333333333333333,
             "#9c179e"
            ],
            [
             0.4444444444444444,
             "#bd3786"
            ],
            [
             0.5555555555555556,
             "#d8576b"
            ],
            [
             0.6666666666666666,
             "#ed7953"
            ],
            [
             0.7777777777777778,
             "#fb9f3a"
            ],
            [
             0.8888888888888888,
             "#fdca26"
            ],
            [
             1,
             "#f0f921"
            ]
           ]
          },
          "colorway": [
           "#636efa",
           "#EF553B",
           "#00cc96",
           "#ab63fa",
           "#FFA15A",
           "#19d3f3",
           "#FF6692",
           "#B6E880",
           "#FF97FF",
           "#FECB52"
          ],
          "font": {
           "color": "#2a3f5f"
          },
          "geo": {
           "bgcolor": "white",
           "lakecolor": "white",
           "landcolor": "#E5ECF6",
           "showlakes": true,
           "showland": true,
           "subunitcolor": "white"
          },
          "hoverlabel": {
           "align": "left"
          },
          "hovermode": "closest",
          "mapbox": {
           "style": "light"
          },
          "paper_bgcolor": "white",
          "plot_bgcolor": "#E5ECF6",
          "polar": {
           "angularaxis": {
            "gridcolor": "white",
            "linecolor": "white",
            "ticks": ""
           },
           "bgcolor": "#E5ECF6",
           "radialaxis": {
            "gridcolor": "white",
            "linecolor": "white",
            "ticks": ""
           }
          },
          "scene": {
           "xaxis": {
            "backgroundcolor": "#E5ECF6",
            "gridcolor": "white",
            "gridwidth": 2,
            "linecolor": "white",
            "showbackground": true,
            "ticks": "",
            "zerolinecolor": "white"
           },
           "yaxis": {
            "backgroundcolor": "#E5ECF6",
            "gridcolor": "white",
            "gridwidth": 2,
            "linecolor": "white",
            "showbackground": true,
            "ticks": "",
            "zerolinecolor": "white"
           },
           "zaxis": {
            "backgroundcolor": "#E5ECF6",
            "gridcolor": "white",
            "gridwidth": 2,
            "linecolor": "white",
            "showbackground": true,
            "ticks": "",
            "zerolinecolor": "white"
           }
          },
          "shapedefaults": {
           "line": {
            "color": "#2a3f5f"
           }
          },
          "ternary": {
           "aaxis": {
            "gridcolor": "white",
            "linecolor": "white",
            "ticks": ""
           },
           "baxis": {
            "gridcolor": "white",
            "linecolor": "white",
            "ticks": ""
           },
           "bgcolor": "#E5ECF6",
           "caxis": {
            "gridcolor": "white",
            "linecolor": "white",
            "ticks": ""
           }
          },
          "title": {
           "x": 0.05
          },
          "xaxis": {
           "automargin": true,
           "gridcolor": "white",
           "linecolor": "white",
           "ticks": "",
           "title": {
            "standoff": 15
           },
           "zerolinecolor": "white",
           "zerolinewidth": 2
          },
          "yaxis": {
           "automargin": true,
           "gridcolor": "white",
           "linecolor": "white",
           "ticks": "",
           "title": {
            "standoff": 15
           },
           "zerolinecolor": "white",
           "zerolinewidth": 2
          }
         }
        },
        "title": {
         "font": {
          "color": "#222222",
          "size": 20
         },
         "text": "BTC-USD Price Trend",
         "x": 0.5,
         "y": 0.95
        },
        "xaxis": {
         "rangeselector": {
          "buttons": [
           {
            "count": 3,
            "label": "3m",
            "step": "month",
            "stepmode": "backward"
           },
           {
            "count": 6,
            "label": "6m",
            "step": "month",
            "stepmode": "backward"
           },
           {
            "count": 12,
            "label": "1y",
            "step": "month",
            "stepmode": "backward"
           }
          ]
         },
         "rangeslider": {
          "visible": true
         },
         "tickfont": {
          "color": "#333333",
          "size": 14
         },
         "title": {
          "font": {
           "color": "#000000",
           "size": 16
          },
          "text": "Date"
         },
         "type": "date"
        },
        "yaxis": {
         "tickfont": {
          "color": "#333333",
          "size": 14
         },
         "title": {
          "font": {
           "color": "#000000",
           "size": 16
          },
          "text": "Price (USD)"
         }
        }
       }
      }
     },
     "metadata": {},
     "output_type": "display_data"
    }
   ],
   "source": [
    "selected_coin = 'BTC-USD'\n",
    "close_col = f'Close_{selected_coin}'\n",
    "open_col = f'Open_{selected_coin}'\n",
    "high_col = f'High_{selected_coin}'\n",
    "low_col = f'Low_{selected_coin}'\n",
    "get_price_trend(df, selected_coin)"
   ]
  },
  {
   "cell_type": "code",
   "execution_count": 2,
   "id": "2e2c5938",
   "metadata": {},
   "outputs": [
    {
     "name": "stdout",
     "output_type": "stream",
     "text": [
      "YF.download() has changed argument auto_adjust default to True\n"
     ]
    },
    {
     "name": "stderr",
     "output_type": "stream",
     "text": [
      "[*********************100%***********************]  30 of 30 completed\n"
     ]
    }
   ],
   "source": [
    "from candlestick import fetch_all_data"
   ]
  },
  {
   "cell_type": "code",
   "execution_count": 3,
   "id": "c1b0e29c",
   "metadata": {},
   "outputs": [
    {
     "name": "stderr",
     "output_type": "stream",
     "text": [
      "[*********************100%***********************]  30 of 30 completed\n"
     ]
    }
   ],
   "source": [
    "all_data_df = fetch_all_data()"
   ]
  },
  {
   "cell_type": "code",
   "execution_count": null,
   "id": "4309a504",
   "metadata": {},
   "outputs": [
    {
     "data": {
      "text/html": [
       "<div>\n",
       "<style scoped>\n",
       "    .dataframe tbody tr th:only-of-type {\n",
       "        vertical-align: middle;\n",
       "    }\n",
       "\n",
       "    .dataframe tbody tr th {\n",
       "        vertical-align: top;\n",
       "    }\n",
       "\n",
       "    .dataframe thead th {\n",
       "        text-align: right;\n",
       "    }\n",
       "</style>\n",
       "<table border=\"1\" class=\"dataframe\">\n",
       "  <thead>\n",
       "    <tr style=\"text-align: right;\">\n",
       "      <th></th>\n",
       "      <th>Date</th>\n",
       "      <th>Close_AAVE-USD</th>\n",
       "      <th>Close_ADA-USD</th>\n",
       "      <th>Close_ALGO-USD</th>\n",
       "      <th>Close_ATOM-USD</th>\n",
       "      <th>Close_AVAX-USD</th>\n",
       "      <th>Close_BCH-USD</th>\n",
       "      <th>Close_BNB-USD</th>\n",
       "      <th>Close_BTC-USD</th>\n",
       "      <th>Close_CHR-USD</th>\n",
       "      <th>...</th>\n",
       "      <th>Volume_SOL-USD</th>\n",
       "      <th>Volume_THETA-USD</th>\n",
       "      <th>Volume_TRX-USD</th>\n",
       "      <th>Volume_UNI-USD</th>\n",
       "      <th>Volume_USDT-USD</th>\n",
       "      <th>Volume_VET-USD</th>\n",
       "      <th>Volume_WIF-USD</th>\n",
       "      <th>Volume_XLM-USD</th>\n",
       "      <th>Volume_XMR-USD</th>\n",
       "      <th>Volume_XRP-USD</th>\n",
       "    </tr>\n",
       "  </thead>\n",
       "  <tbody>\n",
       "    <tr>\n",
       "      <th>0</th>\n",
       "      <td>2024-05-01</td>\n",
       "      <td>83.748108</td>\n",
       "      <td>0.449866</td>\n",
       "      <td>0.180666</td>\n",
       "      <td>8.742611</td>\n",
       "      <td>33.288101</td>\n",
       "      <td>424.038635</td>\n",
       "      <td>561.408203</td>\n",
       "      <td>58254.011719</td>\n",
       "      <td>0.268329</td>\n",
       "      <td>...</td>\n",
       "      <td>4136407963</td>\n",
       "      <td>67062567</td>\n",
       "      <td>482118834</td>\n",
       "      <td>32.0</td>\n",
       "      <td>76859530069</td>\n",
       "      <td>77079462</td>\n",
       "      <td>539683830</td>\n",
       "      <td>99567176</td>\n",
       "      <td>44685650</td>\n",
       "      <td>1720060134</td>\n",
       "    </tr>\n",
       "    <tr>\n",
       "      <th>1</th>\n",
       "      <td>2024-05-02</td>\n",
       "      <td>84.980095</td>\n",
       "      <td>0.458282</td>\n",
       "      <td>0.181256</td>\n",
       "      <td>8.651612</td>\n",
       "      <td>33.612564</td>\n",
       "      <td>429.969849</td>\n",
       "      <td>560.526733</td>\n",
       "      <td>59123.433594</td>\n",
       "      <td>0.270306</td>\n",
       "      <td>...</td>\n",
       "      <td>3380078368</td>\n",
       "      <td>49140176</td>\n",
       "      <td>352230934</td>\n",
       "      <td>32.0</td>\n",
       "      <td>54769809487</td>\n",
       "      <td>47564282</td>\n",
       "      <td>431302208</td>\n",
       "      <td>74766755</td>\n",
       "      <td>47242005</td>\n",
       "      <td>1118497654</td>\n",
       "    </tr>\n",
       "    <tr>\n",
       "      <th>2</th>\n",
       "      <td>2024-05-03</td>\n",
       "      <td>88.814995</td>\n",
       "      <td>0.467544</td>\n",
       "      <td>0.191979</td>\n",
       "      <td>8.768824</td>\n",
       "      <td>35.584896</td>\n",
       "      <td>453.345551</td>\n",
       "      <td>587.010437</td>\n",
       "      <td>62889.835938</td>\n",
       "      <td>0.282321</td>\n",
       "      <td>...</td>\n",
       "      <td>3216962298</td>\n",
       "      <td>39098980</td>\n",
       "      <td>275034834</td>\n",
       "      <td>34.0</td>\n",
       "      <td>53871028495</td>\n",
       "      <td>56741257</td>\n",
       "      <td>444766260</td>\n",
       "      <td>62383004</td>\n",
       "      <td>52444310</td>\n",
       "      <td>1138445190</td>\n",
       "    </tr>\n",
       "    <tr>\n",
       "      <th>3</th>\n",
       "      <td>2024-05-04</td>\n",
       "      <td>89.053757</td>\n",
       "      <td>0.463577</td>\n",
       "      <td>0.192794</td>\n",
       "      <td>8.694795</td>\n",
       "      <td>37.361832</td>\n",
       "      <td>463.508820</td>\n",
       "      <td>585.846558</td>\n",
       "      <td>63891.472656</td>\n",
       "      <td>0.277544</td>\n",
       "      <td>...</td>\n",
       "      <td>3050187811</td>\n",
       "      <td>33466740</td>\n",
       "      <td>224837130</td>\n",
       "      <td>35.0</td>\n",
       "      <td>39527945715</td>\n",
       "      <td>44470807</td>\n",
       "      <td>546978472</td>\n",
       "      <td>49329923</td>\n",
       "      <td>59402585</td>\n",
       "      <td>686389982</td>\n",
       "    </tr>\n",
       "    <tr>\n",
       "      <th>4</th>\n",
       "      <td>2024-05-05</td>\n",
       "      <td>90.078110</td>\n",
       "      <td>0.458334</td>\n",
       "      <td>0.196579</td>\n",
       "      <td>9.336216</td>\n",
       "      <td>37.401939</td>\n",
       "      <td>469.264282</td>\n",
       "      <td>592.140381</td>\n",
       "      <td>64031.132812</td>\n",
       "      <td>0.276074</td>\n",
       "      <td>...</td>\n",
       "      <td>2034794725</td>\n",
       "      <td>35391257</td>\n",
       "      <td>196753191</td>\n",
       "      <td>35.0</td>\n",
       "      <td>36224596673</td>\n",
       "      <td>39574801</td>\n",
       "      <td>388774584</td>\n",
       "      <td>44733799</td>\n",
       "      <td>68420933</td>\n",
       "      <td>535784827</td>\n",
       "    </tr>\n",
       "  </tbody>\n",
       "</table>\n",
       "<p>5 rows × 151 columns</p>\n",
       "</div>"
      ],
      "text/plain": [
       "        Date  Close_AAVE-USD  Close_ADA-USD  Close_ALGO-USD  Close_ATOM-USD  \\\n",
       "0 2024-05-01       83.748108       0.449866        0.180666        8.742611   \n",
       "1 2024-05-02       84.980095       0.458282        0.181256        8.651612   \n",
       "2 2024-05-03       88.814995       0.467544        0.191979        8.768824   \n",
       "3 2024-05-04       89.053757       0.463577        0.192794        8.694795   \n",
       "4 2024-05-05       90.078110       0.458334        0.196579        9.336216   \n",
       "\n",
       "   Close_AVAX-USD  Close_BCH-USD  Close_BNB-USD  Close_BTC-USD  Close_CHR-USD  \\\n",
       "0       33.288101     424.038635     561.408203   58254.011719       0.268329   \n",
       "1       33.612564     429.969849     560.526733   59123.433594       0.270306   \n",
       "2       35.584896     453.345551     587.010437   62889.835938       0.282321   \n",
       "3       37.361832     463.508820     585.846558   63891.472656       0.277544   \n",
       "4       37.401939     469.264282     592.140381   64031.132812       0.276074   \n",
       "\n",
       "   ...  Volume_SOL-USD  Volume_THETA-USD  Volume_TRX-USD  Volume_UNI-USD  \\\n",
       "0  ...      4136407963          67062567       482118834            32.0   \n",
       "1  ...      3380078368          49140176       352230934            32.0   \n",
       "2  ...      3216962298          39098980       275034834            34.0   \n",
       "3  ...      3050187811          33466740       224837130            35.0   \n",
       "4  ...      2034794725          35391257       196753191            35.0   \n",
       "\n",
       "   Volume_USDT-USD  Volume_VET-USD  Volume_WIF-USD  Volume_XLM-USD  \\\n",
       "0      76859530069        77079462       539683830        99567176   \n",
       "1      54769809487        47564282       431302208        74766755   \n",
       "2      53871028495        56741257       444766260        62383004   \n",
       "3      39527945715        44470807       546978472        49329923   \n",
       "4      36224596673        39574801       388774584        44733799   \n",
       "\n",
       "   Volume_XMR-USD  Volume_XRP-USD  \n",
       "0        44685650      1720060134  \n",
       "1        47242005      1118497654  \n",
       "2        52444310      1138445190  \n",
       "3        59402585       686389982  \n",
       "4        68420933       535784827  \n",
       "\n",
       "[5 rows x 151 columns]"
      ]
     },
     "execution_count": 5,
     "metadata": {},
     "output_type": "execute_result"
    }
   ],
   "source": []
  },
  {
   "cell_type": "code",
   "execution_count": 9,
   "id": "9b514f9e",
   "metadata": {},
   "outputs": [],
   "source": [
    "import pandas as pd"
   ]
  },
  {
   "cell_type": "code",
   "execution_count": 10,
   "id": "41c0da3e",
   "metadata": {},
   "outputs": [],
   "source": [
    "\n",
    "selected_symbol= 'BTC-USD'\n",
    "# First get all columns with the selected symbol\n",
    "symbol_columns = all_data_df.filter(like=selected_symbol)\n",
    "filtered_df = pd.concat([all_data_df['Date'], symbol_columns], axis=1)\n",
    "#filtered_df = all_data_df.filter(like=selected_symbol)"
   ]
  },
  {
   "cell_type": "code",
   "execution_count": 11,
   "id": "6fd57686",
   "metadata": {},
   "outputs": [
    {
     "data": {
      "text/html": [
       "<div>\n",
       "<style scoped>\n",
       "    .dataframe tbody tr th:only-of-type {\n",
       "        vertical-align: middle;\n",
       "    }\n",
       "\n",
       "    .dataframe tbody tr th {\n",
       "        vertical-align: top;\n",
       "    }\n",
       "\n",
       "    .dataframe thead th {\n",
       "        text-align: right;\n",
       "    }\n",
       "</style>\n",
       "<table border=\"1\" class=\"dataframe\">\n",
       "  <thead>\n",
       "    <tr style=\"text-align: right;\">\n",
       "      <th></th>\n",
       "      <th>Date</th>\n",
       "      <th>Close_BTC-USD</th>\n",
       "      <th>High_BTC-USD</th>\n",
       "      <th>Low_BTC-USD</th>\n",
       "      <th>Open_BTC-USD</th>\n",
       "      <th>Volume_BTC-USD</th>\n",
       "    </tr>\n",
       "  </thead>\n",
       "  <tbody>\n",
       "    <tr>\n",
       "      <th>0</th>\n",
       "      <td>2024-05-01</td>\n",
       "      <td>58254.011719</td>\n",
       "      <td>60780.500000</td>\n",
       "      <td>56555.292969</td>\n",
       "      <td>60609.496094</td>\n",
       "      <td>48439780271</td>\n",
       "    </tr>\n",
       "    <tr>\n",
       "      <th>1</th>\n",
       "      <td>2024-05-02</td>\n",
       "      <td>59123.433594</td>\n",
       "      <td>59602.296875</td>\n",
       "      <td>56937.203125</td>\n",
       "      <td>58253.703125</td>\n",
       "      <td>32711813559</td>\n",
       "    </tr>\n",
       "    <tr>\n",
       "      <th>2</th>\n",
       "      <td>2024-05-03</td>\n",
       "      <td>62889.835938</td>\n",
       "      <td>63320.503906</td>\n",
       "      <td>58848.312500</td>\n",
       "      <td>59122.300781</td>\n",
       "      <td>33172023048</td>\n",
       "    </tr>\n",
       "    <tr>\n",
       "      <th>3</th>\n",
       "      <td>2024-05-04</td>\n",
       "      <td>63891.472656</td>\n",
       "      <td>64494.957031</td>\n",
       "      <td>62599.351562</td>\n",
       "      <td>62891.031250</td>\n",
       "      <td>20620477992</td>\n",
       "    </tr>\n",
       "    <tr>\n",
       "      <th>4</th>\n",
       "      <td>2024-05-05</td>\n",
       "      <td>64031.132812</td>\n",
       "      <td>64610.890625</td>\n",
       "      <td>62955.304688</td>\n",
       "      <td>63892.453125</td>\n",
       "      <td>18296164805</td>\n",
       "    </tr>\n",
       "  </tbody>\n",
       "</table>\n",
       "</div>"
      ],
      "text/plain": [
       "        Date  Close_BTC-USD  High_BTC-USD   Low_BTC-USD  Open_BTC-USD  \\\n",
       "0 2024-05-01   58254.011719  60780.500000  56555.292969  60609.496094   \n",
       "1 2024-05-02   59123.433594  59602.296875  56937.203125  58253.703125   \n",
       "2 2024-05-03   62889.835938  63320.503906  58848.312500  59122.300781   \n",
       "3 2024-05-04   63891.472656  64494.957031  62599.351562  62891.031250   \n",
       "4 2024-05-05   64031.132812  64610.890625  62955.304688  63892.453125   \n",
       "\n",
       "   Volume_BTC-USD  \n",
       "0     48439780271  \n",
       "1     32711813559  \n",
       "2     33172023048  \n",
       "3     20620477992  \n",
       "4     18296164805  "
      ]
     },
     "execution_count": 11,
     "metadata": {},
     "output_type": "execute_result"
    }
   ],
   "source": [
    "filtered_df.head()"
   ]
  },
  {
   "cell_type": "code",
   "execution_count": null,
   "id": "39545e5c",
   "metadata": {},
   "outputs": [],
   "source": []
  }
 ],
 "metadata": {
  "kernelspec": {
   "display_name": "crypto",
   "language": "python",
   "name": "python3"
  },
  "language_info": {
   "codemirror_mode": {
    "name": "ipython",
    "version": 3
   },
   "file_extension": ".py",
   "mimetype": "text/x-python",
   "name": "python",
   "nbconvert_exporter": "python",
   "pygments_lexer": "ipython3",
   "version": "3.9.21"
  }
 },
 "nbformat": 4,
 "nbformat_minor": 5
}
