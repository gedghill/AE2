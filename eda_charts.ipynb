{
 "cells": [
  {
   "cell_type": "code",
   "execution_count": 15,
   "id": "34359aa4",
   "metadata": {},
   "outputs": [],
   "source": [
    "from fetch_data import fetch_data\n",
    "from candlestick import fetch_all_data\n",
    "import pandas as pd\n",
    "import plotly.express as px\n"
   ]
  },
  {
   "cell_type": "code",
   "execution_count": 16,
   "id": "ea356535",
   "metadata": {},
   "outputs": [
    {
     "name": "stderr",
     "output_type": "stream",
     "text": [
      "[*********************100%***********************]  30 of 30 completed\n"
     ]
    }
   ],
   "source": [
    "df = fetch_all_data()"
   ]
  },
  {
   "cell_type": "code",
   "execution_count": 3,
   "id": "6f4ba956",
   "metadata": {},
   "outputs": [
    {
     "data": {
      "text/html": [
       "<div>\n",
       "<style scoped>\n",
       "    .dataframe tbody tr th:only-of-type {\n",
       "        vertical-align: middle;\n",
       "    }\n",
       "\n",
       "    .dataframe tbody tr th {\n",
       "        vertical-align: top;\n",
       "    }\n",
       "\n",
       "    .dataframe thead th {\n",
       "        text-align: right;\n",
       "    }\n",
       "</style>\n",
       "<table border=\"1\" class=\"dataframe\">\n",
       "  <thead>\n",
       "    <tr style=\"text-align: right;\">\n",
       "      <th></th>\n",
       "      <th>Date</th>\n",
       "      <th>Close_AAVE-USD</th>\n",
       "      <th>Close_ADA-USD</th>\n",
       "      <th>Close_ALGO-USD</th>\n",
       "      <th>Close_ATOM-USD</th>\n",
       "      <th>Close_AVAX-USD</th>\n",
       "      <th>Close_BCH-USD</th>\n",
       "      <th>Close_BNB-USD</th>\n",
       "      <th>Close_BTC-USD</th>\n",
       "      <th>Close_CHR-USD</th>\n",
       "      <th>Close_DASH-USD</th>\n",
       "      <th>Close_DOGE-USD</th>\n",
       "      <th>Close_DOT-USD</th>\n",
       "      <th>Close_EOS-USD</th>\n",
       "      <th>Close_ETC-USD</th>\n",
       "      <th>Close_ETH-USD</th>\n",
       "      <th>Close_FTT-USD</th>\n",
       "      <th>Close_LINK-USD</th>\n",
       "      <th>Close_LTC-USD</th>\n",
       "      <th>Close_NEO-USD</th>\n",
       "      <th>Close_PEPE24478-USD</th>\n",
       "      <th>Close_SOL-USD</th>\n",
       "      <th>Close_THETA-USD</th>\n",
       "      <th>Close_TRX-USD</th>\n",
       "      <th>Close_UNI-USD</th>\n",
       "      <th>Close_USDT-USD</th>\n",
       "      <th>Close_VET-USD</th>\n",
       "      <th>Close_WIF-USD</th>\n",
       "      <th>Close_XLM-USD</th>\n",
       "      <th>Close_XMR-USD</th>\n",
       "      <th>Close_XRP-USD</th>\n",
       "      <th>High_AAVE-USD</th>\n",
       "      <th>High_ADA-USD</th>\n",
       "      <th>High_ALGO-USD</th>\n",
       "      <th>High_ATOM-USD</th>\n",
       "      <th>High_AVAX-USD</th>\n",
       "      <th>High_BCH-USD</th>\n",
       "      <th>High_BNB-USD</th>\n",
       "      <th>High_BTC-USD</th>\n",
       "      <th>High_CHR-USD</th>\n",
       "      <th>...</th>\n",
       "      <th>Open_SOL-USD</th>\n",
       "      <th>Open_THETA-USD</th>\n",
       "      <th>Open_TRX-USD</th>\n",
       "      <th>Open_UNI-USD</th>\n",
       "      <th>Open_USDT-USD</th>\n",
       "      <th>Open_VET-USD</th>\n",
       "      <th>Open_WIF-USD</th>\n",
       "      <th>Open_XLM-USD</th>\n",
       "      <th>Open_XMR-USD</th>\n",
       "      <th>Open_XRP-USD</th>\n",
       "      <th>Volume_AAVE-USD</th>\n",
       "      <th>Volume_ADA-USD</th>\n",
       "      <th>Volume_ALGO-USD</th>\n",
       "      <th>Volume_ATOM-USD</th>\n",
       "      <th>Volume_AVAX-USD</th>\n",
       "      <th>Volume_BCH-USD</th>\n",
       "      <th>Volume_BNB-USD</th>\n",
       "      <th>Volume_BTC-USD</th>\n",
       "      <th>Volume_CHR-USD</th>\n",
       "      <th>Volume_DASH-USD</th>\n",
       "      <th>Volume_DOGE-USD</th>\n",
       "      <th>Volume_DOT-USD</th>\n",
       "      <th>Volume_EOS-USD</th>\n",
       "      <th>Volume_ETC-USD</th>\n",
       "      <th>Volume_ETH-USD</th>\n",
       "      <th>Volume_FTT-USD</th>\n",
       "      <th>Volume_LINK-USD</th>\n",
       "      <th>Volume_LTC-USD</th>\n",
       "      <th>Volume_NEO-USD</th>\n",
       "      <th>Volume_PEPE24478-USD</th>\n",
       "      <th>Volume_SOL-USD</th>\n",
       "      <th>Volume_THETA-USD</th>\n",
       "      <th>Volume_TRX-USD</th>\n",
       "      <th>Volume_UNI-USD</th>\n",
       "      <th>Volume_USDT-USD</th>\n",
       "      <th>Volume_VET-USD</th>\n",
       "      <th>Volume_WIF-USD</th>\n",
       "      <th>Volume_XLM-USD</th>\n",
       "      <th>Volume_XMR-USD</th>\n",
       "      <th>Volume_XRP-USD</th>\n",
       "    </tr>\n",
       "  </thead>\n",
       "  <tbody>\n",
       "    <tr>\n",
       "      <th>0</th>\n",
       "      <td>2024-05-02</td>\n",
       "      <td>84.980095</td>\n",
       "      <td>0.458282</td>\n",
       "      <td>0.181256</td>\n",
       "      <td>8.651612</td>\n",
       "      <td>33.612564</td>\n",
       "      <td>429.969849</td>\n",
       "      <td>560.526733</td>\n",
       "      <td>59123.433594</td>\n",
       "      <td>0.270306</td>\n",
       "      <td>29.152054</td>\n",
       "      <td>0.132106</td>\n",
       "      <td>7.285116</td>\n",
       "      <td>0.817173</td>\n",
       "      <td>25.679646</td>\n",
       "      <td>2988.168457</td>\n",
       "      <td>1.493467</td>\n",
       "      <td>13.595815</td>\n",
       "      <td>80.122772</td>\n",
       "      <td>15.933504</td>\n",
       "      <td>0.000008</td>\n",
       "      <td>137.814484</td>\n",
       "      <td>2.045676</td>\n",
       "      <td>0.122292</td>\n",
       "      <td>0.000177</td>\n",
       "      <td>1.000053</td>\n",
       "      <td>0.035155</td>\n",
       "      <td>2.734267</td>\n",
       "      <td>0.110360</td>\n",
       "      <td>123.167778</td>\n",
       "      <td>0.518329</td>\n",
       "      <td>85.901871</td>\n",
       "      <td>0.461007</td>\n",
       "      <td>0.184157</td>\n",
       "      <td>9.041765</td>\n",
       "      <td>34.086025</td>\n",
       "      <td>434.045013</td>\n",
       "      <td>565.457397</td>\n",
       "      <td>59602.296875</td>\n",
       "      <td>0.275013</td>\n",
       "      <td>...</td>\n",
       "      <td>134.627975</td>\n",
       "      <td>2.037342</td>\n",
       "      <td>0.120330</td>\n",
       "      <td>0.000175</td>\n",
       "      <td>0.998584</td>\n",
       "      <td>0.035232</td>\n",
       "      <td>2.615513</td>\n",
       "      <td>0.111035</td>\n",
       "      <td>123.546432</td>\n",
       "      <td>0.516997</td>\n",
       "      <td>71496062</td>\n",
       "      <td>357372995</td>\n",
       "      <td>57425956</td>\n",
       "      <td>196329194</td>\n",
       "      <td>352653461</td>\n",
       "      <td>308029753</td>\n",
       "      <td>877449354</td>\n",
       "      <td>32711813559</td>\n",
       "      <td>8830091</td>\n",
       "      <td>35049366</td>\n",
       "      <td>1308884973</td>\n",
       "      <td>268770098</td>\n",
       "      <td>132851475</td>\n",
       "      <td>189463250</td>\n",
       "      <td>13163903903</td>\n",
       "      <td>19446594</td>\n",
       "      <td>267992086</td>\n",
       "      <td>313083456</td>\n",
       "      <td>81503748</td>\n",
       "      <td>1175780588</td>\n",
       "      <td>3380078368</td>\n",
       "      <td>49140176</td>\n",
       "      <td>352230934</td>\n",
       "      <td>32.0</td>\n",
       "      <td>54769809487</td>\n",
       "      <td>47564282</td>\n",
       "      <td>431302208</td>\n",
       "      <td>74766755</td>\n",
       "      <td>47242005</td>\n",
       "      <td>1118497654</td>\n",
       "    </tr>\n",
       "    <tr>\n",
       "      <th>1</th>\n",
       "      <td>2024-05-03</td>\n",
       "      <td>88.814995</td>\n",
       "      <td>0.467544</td>\n",
       "      <td>0.191979</td>\n",
       "      <td>8.768824</td>\n",
       "      <td>35.584896</td>\n",
       "      <td>453.345551</td>\n",
       "      <td>587.010437</td>\n",
       "      <td>62889.835938</td>\n",
       "      <td>0.282321</td>\n",
       "      <td>29.759146</td>\n",
       "      <td>0.146146</td>\n",
       "      <td>7.255101</td>\n",
       "      <td>0.828985</td>\n",
       "      <td>26.923174</td>\n",
       "      <td>3103.541992</td>\n",
       "      <td>1.512717</td>\n",
       "      <td>14.109475</td>\n",
       "      <td>81.930138</td>\n",
       "      <td>16.583763</td>\n",
       "      <td>0.000008</td>\n",
       "      <td>143.772552</td>\n",
       "      <td>2.184779</td>\n",
       "      <td>0.122766</td>\n",
       "      <td>0.000189</td>\n",
       "      <td>1.000547</td>\n",
       "      <td>0.037256</td>\n",
       "      <td>3.107465</td>\n",
       "      <td>0.111782</td>\n",
       "      <td>124.982780</td>\n",
       "      <td>0.531894</td>\n",
       "      <td>89.187347</td>\n",
       "      <td>0.472815</td>\n",
       "      <td>0.194279</td>\n",
       "      <td>8.915954</td>\n",
       "      <td>35.867378</td>\n",
       "      <td>457.933502</td>\n",
       "      <td>590.244812</td>\n",
       "      <td>63320.503906</td>\n",
       "      <td>0.286322</td>\n",
       "      <td>...</td>\n",
       "      <td>137.814484</td>\n",
       "      <td>2.045676</td>\n",
       "      <td>0.122292</td>\n",
       "      <td>0.000177</td>\n",
       "      <td>1.000053</td>\n",
       "      <td>0.035155</td>\n",
       "      <td>2.734267</td>\n",
       "      <td>0.110360</td>\n",
       "      <td>123.167778</td>\n",
       "      <td>0.518329</td>\n",
       "      <td>69381007</td>\n",
       "      <td>331867585</td>\n",
       "      <td>51707267</td>\n",
       "      <td>120970509</td>\n",
       "      <td>314837755</td>\n",
       "      <td>349672737</td>\n",
       "      <td>854728192</td>\n",
       "      <td>33172023048</td>\n",
       "      <td>7495790</td>\n",
       "      <td>38497181</td>\n",
       "      <td>1266276714</td>\n",
       "      <td>258847903</td>\n",
       "      <td>111764541</td>\n",
       "      <td>200281481</td>\n",
       "      <td>12862183229</td>\n",
       "      <td>12791556</td>\n",
       "      <td>259541877</td>\n",
       "      <td>306780202</td>\n",
       "      <td>65944875</td>\n",
       "      <td>1121183691</td>\n",
       "      <td>3216962298</td>\n",
       "      <td>39098980</td>\n",
       "      <td>275034834</td>\n",
       "      <td>34.0</td>\n",
       "      <td>53871028495</td>\n",
       "      <td>56741257</td>\n",
       "      <td>444766260</td>\n",
       "      <td>62383004</td>\n",
       "      <td>52444310</td>\n",
       "      <td>1138445190</td>\n",
       "    </tr>\n",
       "    <tr>\n",
       "      <th>2</th>\n",
       "      <td>2024-05-04</td>\n",
       "      <td>89.053757</td>\n",
       "      <td>0.463577</td>\n",
       "      <td>0.192794</td>\n",
       "      <td>8.694795</td>\n",
       "      <td>37.361832</td>\n",
       "      <td>463.508820</td>\n",
       "      <td>585.846558</td>\n",
       "      <td>63891.472656</td>\n",
       "      <td>0.277544</td>\n",
       "      <td>29.241491</td>\n",
       "      <td>0.160157</td>\n",
       "      <td>7.127060</td>\n",
       "      <td>0.817015</td>\n",
       "      <td>26.957998</td>\n",
       "      <td>3117.576416</td>\n",
       "      <td>1.495756</td>\n",
       "      <td>14.318272</td>\n",
       "      <td>81.687035</td>\n",
       "      <td>16.663961</td>\n",
       "      <td>0.000009</td>\n",
       "      <td>146.135056</td>\n",
       "      <td>2.174970</td>\n",
       "      <td>0.122322</td>\n",
       "      <td>0.000192</td>\n",
       "      <td>1.000148</td>\n",
       "      <td>0.037110</td>\n",
       "      <td>3.393611</td>\n",
       "      <td>0.111008</td>\n",
       "      <td>123.332260</td>\n",
       "      <td>0.530405</td>\n",
       "      <td>89.846954</td>\n",
       "      <td>0.474552</td>\n",
       "      <td>0.195946</td>\n",
       "      <td>8.836465</td>\n",
       "      <td>37.617813</td>\n",
       "      <td>478.906433</td>\n",
       "      <td>593.193420</td>\n",
       "      <td>64494.957031</td>\n",
       "      <td>0.285394</td>\n",
       "      <td>...</td>\n",
       "      <td>143.772202</td>\n",
       "      <td>2.184779</td>\n",
       "      <td>0.122765</td>\n",
       "      <td>0.000189</td>\n",
       "      <td>1.000555</td>\n",
       "      <td>0.037256</td>\n",
       "      <td>3.107465</td>\n",
       "      <td>0.111782</td>\n",
       "      <td>124.982780</td>\n",
       "      <td>0.531893</td>\n",
       "      <td>54854430</td>\n",
       "      <td>245730966</td>\n",
       "      <td>39991569</td>\n",
       "      <td>89993952</td>\n",
       "      <td>376360200</td>\n",
       "      <td>358128520</td>\n",
       "      <td>582273374</td>\n",
       "      <td>20620477992</td>\n",
       "      <td>6220999</td>\n",
       "      <td>31501022</td>\n",
       "      <td>2791346636</td>\n",
       "      <td>161650387</td>\n",
       "      <td>88862294</td>\n",
       "      <td>166307076</td>\n",
       "      <td>8283229638</td>\n",
       "      <td>8872285</td>\n",
       "      <td>235116388</td>\n",
       "      <td>252821970</td>\n",
       "      <td>61959548</td>\n",
       "      <td>1088251003</td>\n",
       "      <td>3050187811</td>\n",
       "      <td>33466740</td>\n",
       "      <td>224837130</td>\n",
       "      <td>35.0</td>\n",
       "      <td>39527945715</td>\n",
       "      <td>44470807</td>\n",
       "      <td>546978472</td>\n",
       "      <td>49329923</td>\n",
       "      <td>59402585</td>\n",
       "      <td>686389982</td>\n",
       "    </tr>\n",
       "    <tr>\n",
       "      <th>3</th>\n",
       "      <td>2024-05-05</td>\n",
       "      <td>90.078110</td>\n",
       "      <td>0.458334</td>\n",
       "      <td>0.196579</td>\n",
       "      <td>9.336216</td>\n",
       "      <td>37.401939</td>\n",
       "      <td>469.264282</td>\n",
       "      <td>592.140381</td>\n",
       "      <td>64031.132812</td>\n",
       "      <td>0.276074</td>\n",
       "      <td>29.196766</td>\n",
       "      <td>0.161068</td>\n",
       "      <td>7.306784</td>\n",
       "      <td>0.822861</td>\n",
       "      <td>27.681726</td>\n",
       "      <td>3137.249023</td>\n",
       "      <td>1.495151</td>\n",
       "      <td>14.375482</td>\n",
       "      <td>81.375572</td>\n",
       "      <td>16.716644</td>\n",
       "      <td>0.000009</td>\n",
       "      <td>145.713028</td>\n",
       "      <td>2.243965</td>\n",
       "      <td>0.121111</td>\n",
       "      <td>0.000192</td>\n",
       "      <td>1.000254</td>\n",
       "      <td>0.037347</td>\n",
       "      <td>3.217128</td>\n",
       "      <td>0.110962</td>\n",
       "      <td>134.418472</td>\n",
       "      <td>0.529784</td>\n",
       "      <td>90.192780</td>\n",
       "      <td>0.465201</td>\n",
       "      <td>0.199963</td>\n",
       "      <td>9.400411</td>\n",
       "      <td>37.934868</td>\n",
       "      <td>472.188507</td>\n",
       "      <td>594.995300</td>\n",
       "      <td>64610.890625</td>\n",
       "      <td>0.283930</td>\n",
       "      <td>...</td>\n",
       "      <td>146.135056</td>\n",
       "      <td>2.174970</td>\n",
       "      <td>0.122322</td>\n",
       "      <td>0.000192</td>\n",
       "      <td>1.000151</td>\n",
       "      <td>0.037110</td>\n",
       "      <td>3.393611</td>\n",
       "      <td>0.111008</td>\n",
       "      <td>123.332100</td>\n",
       "      <td>0.530405</td>\n",
       "      <td>56643196</td>\n",
       "      <td>239700527</td>\n",
       "      <td>52737076</td>\n",
       "      <td>133482282</td>\n",
       "      <td>338713061</td>\n",
       "      <td>231293769</td>\n",
       "      <td>531182053</td>\n",
       "      <td>18296164805</td>\n",
       "      <td>8358536</td>\n",
       "      <td>34684888</td>\n",
       "      <td>1506950274</td>\n",
       "      <td>177269447</td>\n",
       "      <td>78353096</td>\n",
       "      <td>164557962</td>\n",
       "      <td>8783447639</td>\n",
       "      <td>9368247</td>\n",
       "      <td>190221873</td>\n",
       "      <td>266211647</td>\n",
       "      <td>58277745</td>\n",
       "      <td>716177870</td>\n",
       "      <td>2034794725</td>\n",
       "      <td>35391257</td>\n",
       "      <td>196753191</td>\n",
       "      <td>35.0</td>\n",
       "      <td>36224596673</td>\n",
       "      <td>39574801</td>\n",
       "      <td>388774584</td>\n",
       "      <td>44733799</td>\n",
       "      <td>68420933</td>\n",
       "      <td>535784827</td>\n",
       "    </tr>\n",
       "    <tr>\n",
       "      <th>4</th>\n",
       "      <td>2024-05-06</td>\n",
       "      <td>87.948013</td>\n",
       "      <td>0.454288</td>\n",
       "      <td>0.193962</td>\n",
       "      <td>9.204680</td>\n",
       "      <td>37.138363</td>\n",
       "      <td>473.358856</td>\n",
       "      <td>588.475952</td>\n",
       "      <td>63161.949219</td>\n",
       "      <td>0.270579</td>\n",
       "      <td>29.094463</td>\n",
       "      <td>0.156608</td>\n",
       "      <td>7.122262</td>\n",
       "      <td>0.816943</td>\n",
       "      <td>27.004684</td>\n",
       "      <td>3062.728760</td>\n",
       "      <td>1.640370</td>\n",
       "      <td>14.501929</td>\n",
       "      <td>80.787651</td>\n",
       "      <td>16.028625</td>\n",
       "      <td>0.000008</td>\n",
       "      <td>152.802399</td>\n",
       "      <td>2.238280</td>\n",
       "      <td>0.118674</td>\n",
       "      <td>0.000190</td>\n",
       "      <td>1.000038</td>\n",
       "      <td>0.035966</td>\n",
       "      <td>3.360083</td>\n",
       "      <td>0.109849</td>\n",
       "      <td>130.511536</td>\n",
       "      <td>0.540547</td>\n",
       "      <td>92.676376</td>\n",
       "      <td>0.474644</td>\n",
       "      <td>0.202377</td>\n",
       "      <td>9.500984</td>\n",
       "      <td>39.767414</td>\n",
       "      <td>483.949280</td>\n",
       "      <td>601.886719</td>\n",
       "      <td>65494.902344</td>\n",
       "      <td>0.288365</td>\n",
       "      <td>...</td>\n",
       "      <td>145.712051</td>\n",
       "      <td>2.243968</td>\n",
       "      <td>0.121111</td>\n",
       "      <td>0.000192</td>\n",
       "      <td>1.000329</td>\n",
       "      <td>0.037348</td>\n",
       "      <td>3.217126</td>\n",
       "      <td>0.110962</td>\n",
       "      <td>134.418167</td>\n",
       "      <td>0.529789</td>\n",
       "      <td>75533294</td>\n",
       "      <td>351154325</td>\n",
       "      <td>64732662</td>\n",
       "      <td>168616376</td>\n",
       "      <td>552983720</td>\n",
       "      <td>337432461</td>\n",
       "      <td>1522319999</td>\n",
       "      <td>28697928697</td>\n",
       "      <td>11738975</td>\n",
       "      <td>41607741</td>\n",
       "      <td>1747675308</td>\n",
       "      <td>225357675</td>\n",
       "      <td>114857993</td>\n",
       "      <td>249983845</td>\n",
       "      <td>13008587255</td>\n",
       "      <td>31084561</td>\n",
       "      <td>327871724</td>\n",
       "      <td>401251818</td>\n",
       "      <td>68185067</td>\n",
       "      <td>986405808</td>\n",
       "      <td>2926902880</td>\n",
       "      <td>50986741</td>\n",
       "      <td>297737882</td>\n",
       "      <td>35.0</td>\n",
       "      <td>52931405950</td>\n",
       "      <td>54998416</td>\n",
       "      <td>621767557</td>\n",
       "      <td>90614457</td>\n",
       "      <td>48230919</td>\n",
       "      <td>1774389100</td>\n",
       "    </tr>\n",
       "  </tbody>\n",
       "</table>\n",
       "<p>5 rows × 151 columns</p>\n",
       "</div>"
      ],
      "text/plain": [
       "        Date  Close_AAVE-USD  ...  Volume_XMR-USD  Volume_XRP-USD\n",
       "0 2024-05-02       84.980095  ...        47242005      1118497654\n",
       "1 2024-05-03       88.814995  ...        52444310      1138445190\n",
       "2 2024-05-04       89.053757  ...        59402585       686389982\n",
       "3 2024-05-05       90.078110  ...        68420933       535784827\n",
       "4 2024-05-06       87.948013  ...        48230919      1774389100\n",
       "\n",
       "[5 rows x 151 columns]"
      ]
     },
     "execution_count": 3,
     "metadata": {},
     "output_type": "execute_result"
    }
   ],
   "source": [
    "df.head()"
   ]
  },
  {
   "cell_type": "code",
   "execution_count": 6,
   "id": "a44ec981",
   "metadata": {},
   "outputs": [],
   "source": [
    "symbol_1 = 'BTC-USD'\n",
    "symbol_2 = 'ETH-USD'\n",
    "# Create column names for closing prices\n",
    "col1 = f'Close_{symbol_1}'\n",
    "col2 = f'Close_{symbol_2}'\n"
   ]
  },
  {
   "cell_type": "code",
   "execution_count": null,
   "id": "8e090110",
   "metadata": {},
   "outputs": [
    {
     "data": {
      "application/vnd.plotly.v1+json": {
       "config": {
        "plotlyServerURL": "https://plot.ly"
       },
       "data": [
        {
         "hovertemplate": "ETH-USD Close Price=%{x}<br>BTC-USD Close Price=%{y}<extra></extra>",
         "legendgroup": "",
         "marker": {
          "color": "blue",
          "symbol": "circle"
         },
         "mode": "markers",
         "name": "",
         "orientation": "v",
         "showlegend": false,
         "type": "scatter",
         "x": {
          "bdata": "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",
          "dtype": "f8"
         },
         "xaxis": "x",
         "y": {
          "bdata": "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",
          "dtype": "f8"
         },
         "yaxis": "y"
        },
        {
         "hovertemplate": "<b>OLS trendline</b><br>Close_BTC-USD = 2.63788 * Close_ETH-USD + 70082.3<br>R<sup>2</sup>=0.011190<br><br>ETH-USD Close Price=%{x}<br>BTC-USD Close Price=%{y} <b>(trend)</b><extra></extra>",
         "legendgroup": "",
         "line": {
          "color": "red"
         },
         "marker": {
          "color": "#000001",
          "symbol": "circle"
         },
         "mode": "lines",
         "name": "",
         "showlegend": false,
         "type": "scatter",
         "x": {
          "bdata": "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",
          "dtype": "f8"
         },
         "xaxis": "x",
         "y": {
          "bdata": "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",
          "dtype": "f8"
         },
         "yaxis": "y"
        }
       ],
       "layout": {
        "legend": {
         "tracegroupgap": 0
        },
        "template": {
         "data": {
          "candlestick": [
           {
            "decreasing": {
             "line": {
              "color": "#000033"
             }
            },
            "increasing": {
             "line": {
              "color": "#000032"
             }
            },
            "type": "candlestick"
           }
          ],
          "contour": [
           {
            "colorscale": [
             [
              0,
              "#000011"
             ],
             [
              0.1111111111111111,
              "#000012"
             ],
             [
              0.2222222222222222,
              "#000013"
             ],
             [
              0.3333333333333333,
              "#000014"
             ],
             [
              0.4444444444444444,
              "#000015"
             ],
             [
              0.5555555555555556,
              "#000016"
             ],
             [
              0.6666666666666666,
              "#000017"
             ],
             [
              0.7777777777777778,
              "#000018"
             ],
             [
              0.8888888888888888,
              "#000019"
             ],
             [
              1,
              "#000020"
             ]
            ],
            "type": "contour"
           }
          ],
          "contourcarpet": [
           {
            "colorscale": [
             [
              0,
              "#000011"
             ],
             [
              0.1111111111111111,
              "#000012"
             ],
             [
              0.2222222222222222,
              "#000013"
             ],
             [
              0.3333333333333333,
              "#000014"
             ],
             [
              0.4444444444444444,
              "#000015"
             ],
             [
              0.5555555555555556,
              "#000016"
             ],
             [
              0.6666666666666666,
              "#000017"
             ],
             [
              0.7777777777777778,
              "#000018"
             ],
             [
              0.8888888888888888,
              "#000019"
             ],
             [
              1,
              "#000020"
             ]
            ],
            "type": "contourcarpet"
           }
          ],
          "heatmap": [
           {
            "colorscale": [
             [
              0,
              "#000011"
             ],
             [
              0.1111111111111111,
              "#000012"
             ],
             [
              0.2222222222222222,
              "#000013"
             ],
             [
              0.3333333333333333,
              "#000014"
             ],
             [
              0.4444444444444444,
              "#000015"
             ],
             [
              0.5555555555555556,
              "#000016"
             ],
             [
              0.6666666666666666,
              "#000017"
             ],
             [
              0.7777777777777778,
              "#000018"
             ],
             [
              0.8888888888888888,
              "#000019"
             ],
             [
              1,
              "#000020"
             ]
            ],
            "type": "heatmap"
           }
          ],
          "histogram2d": [
           {
            "colorscale": [
             [
              0,
              "#000011"
             ],
             [
              0.1111111111111111,
              "#000012"
             ],
             [
              0.2222222222222222,
              "#000013"
             ],
             [
              0.3333333333333333,
              "#000014"
             ],
             [
              0.4444444444444444,
              "#000015"
             ],
             [
              0.5555555555555556,
              "#000016"
             ],
             [
              0.6666666666666666,
              "#000017"
             ],
             [
              0.7777777777777778,
              "#000018"
             ],
             [
              0.8888888888888888,
              "#000019"
             ],
             [
              1,
              "#000020"
             ]
            ],
            "type": "histogram2d"
           }
          ],
          "icicle": [
           {
            "textfont": {
             "color": "white"
            },
            "type": "icicle"
           }
          ],
          "sankey": [
           {
            "textfont": {
             "color": "#000036"
            },
            "type": "sankey"
           }
          ],
          "scatter": [
           {
            "marker": {
             "line": {
              "width": 0
             }
            },
            "type": "scatter"
           }
          ],
          "table": [
           {
            "cells": {
             "fill": {
              "color": "#000038"
             },
             "font": {
              "color": "#000037"
             },
             "line": {
              "color": "#000039"
             }
            },
            "header": {
             "fill": {
              "color": "#000040"
             },
             "font": {
              "color": "#000036"
             },
             "line": {
              "color": "#000039"
             }
            },
            "type": "table"
           }
          ],
          "waterfall": [
           {
            "connector": {
             "line": {
              "color": "#000036",
              "width": 2
             }
            },
            "decreasing": {
             "marker": {
              "color": "#000033"
             }
            },
            "increasing": {
             "marker": {
              "color": "#000032"
             }
            },
            "totals": {
             "marker": {
              "color": "#000034"
             }
            },
            "type": "waterfall"
           }
          ]
         },
         "layout": {
          "coloraxis": {
           "colorscale": [
            [
             0,
             "#000011"
            ],
            [
             0.1111111111111111,
             "#000012"
            ],
            [
             0.2222222222222222,
             "#000013"
            ],
            [
             0.3333333333333333,
             "#000014"
            ],
            [
             0.4444444444444444,
             "#000015"
            ],
            [
             0.5555555555555556,
             "#000016"
            ],
            [
             0.6666666666666666,
             "#000017"
            ],
            [
             0.7777777777777778,
             "#000018"
            ],
            [
             0.8888888888888888,
             "#000019"
            ],
            [
             1,
             "#000020"
            ]
           ]
          },
          "colorscale": {
           "diverging": [
            [
             0,
             "#000021"
            ],
            [
             0.1,
             "#000022"
            ],
            [
             0.2,
             "#000023"
            ],
            [
             0.3,
             "#000024"
            ],
            [
             0.4,
             "#000025"
            ],
            [
             0.5,
             "#000026"
            ],
            [
             0.6,
             "#000027"
            ],
            [
             0.7,
             "#000028"
            ],
            [
             0.8,
             "#000029"
            ],
            [
             0.9,
             "#000030"
            ],
            [
             1,
             "#000031"
            ]
           ],
           "sequential": [
            [
             0,
             "#000011"
            ],
            [
             0.1111111111111111,
             "#000012"
            ],
            [
             0.2222222222222222,
             "#000013"
            ],
            [
             0.3333333333333333,
             "#000014"
            ],
            [
             0.4444444444444444,
             "#000015"
            ],
            [
             0.5555555555555556,
             "#000016"
            ],
            [
             0.6666666666666666,
             "#000017"
            ],
            [
             0.7777777777777778,
             "#000018"
            ],
            [
             0.8888888888888888,
             "#000019"
            ],
            [
             1,
             "#000020"
            ]
           ],
           "sequentialminus": [
            [
             0,
             "#000011"
            ],
            [
             0.1111111111111111,
             "#000012"
            ],
            [
             0.2222222222222222,
             "#000013"
            ],
            [
             0.3333333333333333,
             "#000014"
            ],
            [
             0.4444444444444444,
             "#000015"
            ],
            [
             0.5555555555555556,
             "#000016"
            ],
            [
             0.6666666666666666,
             "#000017"
            ],
            [
             0.7777777777777778,
             "#000018"
            ],
            [
             0.8888888888888888,
             "#000019"
            ],
            [
             1,
             "#000020"
            ]
           ]
          },
          "colorway": [
           "#000001",
           "#000002",
           "#000003",
           "#000004",
           "#000005",
           "#000006",
           "#000007",
           "#000008",
           "#000009",
           "#000010"
          ]
         }
        },
        "title": {
         "text": "BTC-USD vs ETH-USD Closing Prices"
        },
        "xaxis": {
         "anchor": "y",
         "domain": [
          0,
          1
         ],
         "title": {
          "text": "ETH-USD Close Price"
         }
        },
        "yaxis": {
         "anchor": "x",
         "domain": [
          0,
          1
         ],
         "title": {
          "text": "BTC-USD Close Price"
         }
        }
       }
      }
     },
     "metadata": {},
     "output_type": "display_data"
    }
   ],
   "source": [
    "def get_scatter(all_data_df: pd.DataFrame, symbol:str):\n",
    "    symbol_1 = 'BTC-USD'\n",
    "    symbol_2 = 'ETH-USD'\n",
    "    # Create column names for closing prices\n",
    "    col1 = f'Close_{symbol_1}'\n",
    "    col2 = f'Close_{symbol_2}'\n",
    "    # Create a scatter plot with trendline\n",
    "    fig = px.scatter(\n",
    "        df,\n",
    "        x=col2,\n",
    "        y=col1,\n",
    "        title=f\"{symbol_1} vs {symbol_2} Closing Prices\",\n",
    "        labels={col1: f\"{symbol_1} Close Price\", col2: f\"{symbol_2} Close Price\"},\n",
    "        trendline=\"ols\"  # Ordinary Least Squares trendline\n",
    "    )\n",
    "    fig.data[0].marker.color = 'blue'      # Points\n",
    "    fig.data[1].line.color = 'red'         # Trendline\n",
    "    fig.show()"
   ]
  },
  {
   "cell_type": "code",
   "execution_count": 12,
   "id": "b2a0abc6",
   "metadata": {},
   "outputs": [
    {
     "data": {
      "application/vnd.plotly.v1+json": {
       "config": {
        "plotlyServerURL": "https://plot.ly"
       },
       "data": [
        {
         "bingroup": "x",
         "hovertemplate": "BTC-USD Close Price=%{x}<br>count=%{y}<extra></extra>",
         "legendgroup": "",
         "marker": {
          "color": "blue",
          "pattern": {
           "shape": ""
          }
         },
         "name": "",
         "nbinsx": 50,
         "orientation": "v",
         "showlegend": false,
         "type": "histogram",
         "x": {
          "bdata": "AAAA4G3e7EAAAADAOrXuQAAAACBvMu9AAAAAQORD70AAAABgPtfuQAAAACDab+5AAAAAIH7g7UAAAADAPsnuQAAAAOAYr+1AAAAAwDav7UAAAACgDAHuQAAAAGCutu5AAAAAQBkO7kAAAADgty3wQAAAAKDy2e9AAAAAAL5e8EAAAADgzFfwQAAAAOBlLvBAAAAAIINx8UAAAACAiB/xQAAAAGAl4PBAAAAAAJmV8EAAAACg4brwQAAAACAf6fBAAAAAgGG68EAAAADgKPHwQAAAAICDrPBAAAAAgKF/8EAAAADgz7DwQAAAAKA2evBAAAAAAK+H8EAAAACgeYrwQAAAAIBMzPBAAAAAQHw68UAAAAAgrVrxQAAAAKBSRvFAAAAAYOnt8EAAAABgnOvwQAAAAOD/APFAAAAAgIT48EAAAACAQHDwQAAAAAATqfBAAAAAYEZM8EAAAACAsR3wQAAAAADwKPBAAAAAwPBE8EAAAADApDvwQAAAAOCXzu9AAAAAgAm470AAAAAAlafvQAAAAGAGTO9AAAAAgJJf70AAAACAmdnuQAAAAECtbu1AAAAAgJQt7kAAAADgaLHtQAAAAKCZFO5AAAAAYAR07UAAAAAg7LrtQAAAAGDJmu5AAAAAYH+w7kAAAACAoEnuQAAAAIC9Ye1AAAAAgDbS60AAAAAAzKrrQAAAAEDxd+xAAAAAgCNF60AAAAAgI7DrQAAAAEAnU+xAAAAA4M8x7EAAAABAHQDsQAAAAOBuRexAAAAAgP7r7EAAAABgea7tQAAAAODErO9AAAAAwCTJ70AAAABg2U7vQAAAACDCPO9AAAAAgGJJ8EAAAABgumXwQAAAAGCoo/BAAAAAABSA8EAAAADAehjwQAAAAECE6+9AAAAAoBMP8EAAAAAAgZTwQAAAAGBVjvBAAAAA4P2p8EAAAACgPlDwQAAAAECQKfBAAAAAAGiN70AAAAAAsOnvQAAAACDi/O1AAAAAAAOh7UAAAABAn2DsQAAAAKDuXOpAAAAAIEpc60AAAADAbt7qQAAAAGDEIe5AAAAAoAO67UAAAAAAOsLtQAAAAIDvq+xAAAAAgFD77EAAAAAgMpjtQAAAAKAoruxAAAAAIAMb7EAAAABgw8HsQAAAACDfCu1AAAAA4H6O7EAAAACArgztQAAAAGCZ0OxAAAAAIObe7UAAAABAvXvtQAAAAGDLS+9AAAAAwF9W70AAAABgsWnvQAAAACAVtO5AAAAAQAQO7UAAAAAAdNLsQAAAAMCF/+xAAAAAQO/d7EAAAADAPMvsQAAAAKCv/etAAAAAYA/d7EAAAADA4ArsQAAAAEBxTuxAAAAAoA9s60AAAAAgmFfqQAAAAAB2b+pAAAAAIDLH6kAAAAAgcdfrQAAAAMAWJuxAAAAAgOX/60AAAABg4GHsQAAAAKBpk+1AAAAA4KNM7UAAAADA2uXsQAAAAEAQauxAAAAAQJFy7UAAAADANRruQAAAAKCOu+5AAAAAQB/b7kAAAADgWvTuQAAAAMAWFO9AAAAAoDns7kAAAAAAv2XvQAAAAKDk1O5AAAAAoKDT70AAAACg6g/wQAAAAGD6FfBAAAAA4DQG8EAAAAAAMOzuQAAAAECgtO1AAAAAIBmb7UAAAADg7KrtQAAAAEBvTu5AAAAAYD5R7kAAAACAXqzuQAAAACCVY+5AAAAAAH9W7kAAAABAw5TtQAAAAABQbu1AAAAA4KJ97kAAAADAINvuQAAAAABssO5AAAAAAOIf8EAAAADAEV7wQAAAAIDLgfBAAAAAYH108EAAAACgLLTwQAAAAMCrsPBAAAAAQJvY8EAAAACgfXLwQAAAAIAWcvBAAAAAIAM48EAAAADgEKTwQAAAAKAmRfBAAAAAIGtc8EAAAADAlJXwQAAAACA8EfFAAAAA4AfB8UAAAACgOKnxQAAAAABzJPFAAAAAgKf28EAAAABglOrwQAAAAOBRyPBAAAAAIDiO8EAAAAAA+e7wQAAAAEBxd/JAAAAAwA2I8kAAAACgF7DyQAAAAOCtvvJAAAAAAKOl80AAAADA16f1QAAAAAA9efVAAAAAoIId9kAAAADgJk31QAAAACCgO/ZAAAAAoOcb9kAAAACgXe/1QAAAAEDqGvZAAAAAoHyL9kAAAADgNwj3QAAAAKCLDPhAAAAAoFor+EAAAACAFN/3QAAAACDd7fdAAAAAwOS69kAAAAAgFXX2QAAAAICobfdAAAAAgEda90AAAABgWMv3QAAAAOAQjPdAAAAAoPy/90AAAADglGf3QAAAAKAicPdAAAAAgAgd+EAAAAAgGZX3QAAAAGALZfhAAAAAYDVl+EAAAABAQLf4QAAAAICLyfdAAAAA4Daa90AAAACAULP4QAAAAACwbPhAAAAAIDTF+EAAAACAz7/4QAAAACCrdvlAAAAAgNvi+UAAAACgyen5QAAAAKCYbPhAAAAAQC/N90AAAADgvt33QAAAAKCLvPdAAAAAAA8490AAAADg4x33QAAAAIBBF/hAAAAAIDM++EAAAABAOGP3QAAAAMBN/fZAAAAA4L4790AAAACgo9X2QAAAAGAznvZAAAAAQFPP9kAAAAAgPA33QAAAAABup/dAAAAA4Lbz90AAAACgw/v3QAAAAGCvAPhAAAAAYOHr+EAAAABAq6n3QAAAAGA4NPdAAAAAoECU9kAAAABA1x73QAAAAIBpFvdAAAAAAIcR90AAAABgSBP3QAAAAMBgkfdAAAAA4IeJ+EAAAACAzlr4QAAAAKDggPlAAAAAIIF9+UAAAADAGa74QAAAAKAK6PhAAAAAQCTq+UAAAAAgUU75QAAAAMCCYflAAAAAwDeX+UAAAABgqpD5QAAAAACoEflAAAAAAHvs+EAAAACgR734QAAAAGBzUflAAAAA4PSR+UAAAABgUAD5QAAAAID+kvhAAAAAoI/Z90AAAADA1sH4QAAAACD95PdAAAAAIHeW90AAAADAFJX3QAAAAGARkfdAAAAAQCeO90AAAACAQY/3QAAAAODYyfdAAAAA4DZg90AAAADA3eX3QAAAAOD9lvdAAAAAgE/O90AAAACgxdL3QAAAAIDwevdAAAAAINZh90AAAADAOFP3QAAAAMC5l/dAAAAAAN8B+EAAAADA2Hf3QAAAACAclPdAAAAAwB6B90AAAADAolH2QAAAAMACqvVAAAAAYLCX9EAAAACgA670QAAAACBQmfRAAAAAoP4A9UAAAACghQL3QAAAAMAaA/VAAAAAIGNL9UAAAAAA+R/2QAAAAKCb9vVAAAAAwGot9UAAAACAqQj1QAAAAKCQrfNAAAAAAEAs80AAAABg4zr0QAAAAMClcPRAAAAAQKvK80AAAACgEYD0QAAAAMBxl/RAAAAAADsp9EAAAAAAu4b0QAAAAADoMfRAAAAAoGM09UAAAAAgc4z0QAAAAOCzhPRAAAAAwId39EAAAAAAZgL1QAAAAKCuXPVAAAAAQPta9UAAAAAgTjf1QAAAAKCRSPVAAAAAYBKY9EAAAABgWSr0QAAAAGDoGfRAAAAAoE4n9EAAAADAEsv0QAAAAGBbI/RAAAAAQO1J9EAAAADgPHj0QAAAAMAMY/RAAAAAwGcY80AAAABgNVjzQAAAAED/nvJAAAAAQN8o9EAAAABAonDzQAAAAGDNXPRAAAAAwHHS9EAAAACgT270QAAAAEDmo/RAAAAA4E9t9EAAAADgHYT0QAAAAAD8ufRAAAAA4Cye9EAAAACgdsT0QAAAAOBky/RAAAAAgO5d9UAAAABAHtD2QAAAAMAx4PZAAAAAwHzv9kAAAAAACCD3QAAAAOBuG/dAAAAAgK3j9kAAAAAALDD3QAAAAKDMBPdAAAAAAPX/9kAAAADAdEX3QA==",
          "dtype": "f8"
         },
         "xaxis": "x",
         "yaxis": "y"
        }
       ],
       "layout": {
        "barmode": "relative",
        "legend": {
         "tracegroupgap": 0
        },
        "template": {
         "data": {
          "candlestick": [
           {
            "decreasing": {
             "line": {
              "color": "#000033"
             }
            },
            "increasing": {
             "line": {
              "color": "#000032"
             }
            },
            "type": "candlestick"
           }
          ],
          "contour": [
           {
            "colorscale": [
             [
              0,
              "#000011"
             ],
             [
              0.1111111111111111,
              "#000012"
             ],
             [
              0.2222222222222222,
              "#000013"
             ],
             [
              0.3333333333333333,
              "#000014"
             ],
             [
              0.4444444444444444,
              "#000015"
             ],
             [
              0.5555555555555556,
              "#000016"
             ],
             [
              0.6666666666666666,
              "#000017"
             ],
             [
              0.7777777777777778,
              "#000018"
             ],
             [
              0.8888888888888888,
              "#000019"
             ],
             [
              1,
              "#000020"
             ]
            ],
            "type": "contour"
           }
          ],
          "contourcarpet": [
           {
            "colorscale": [
             [
              0,
              "#000011"
             ],
             [
              0.1111111111111111,
              "#000012"
             ],
             [
              0.2222222222222222,
              "#000013"
             ],
             [
              0.3333333333333333,
              "#000014"
             ],
             [
              0.4444444444444444,
              "#000015"
             ],
             [
              0.5555555555555556,
              "#000016"
             ],
             [
              0.6666666666666666,
              "#000017"
             ],
             [
              0.7777777777777778,
              "#000018"
             ],
             [
              0.8888888888888888,
              "#000019"
             ],
             [
              1,
              "#000020"
             ]
            ],
            "type": "contourcarpet"
           }
          ],
          "heatmap": [
           {
            "colorscale": [
             [
              0,
              "#000011"
             ],
             [
              0.1111111111111111,
              "#000012"
             ],
             [
              0.2222222222222222,
              "#000013"
             ],
             [
              0.3333333333333333,
              "#000014"
             ],
             [
              0.4444444444444444,
              "#000015"
             ],
             [
              0.5555555555555556,
              "#000016"
             ],
             [
              0.6666666666666666,
              "#000017"
             ],
             [
              0.7777777777777778,
              "#000018"
             ],
             [
              0.8888888888888888,
              "#000019"
             ],
             [
              1,
              "#000020"
             ]
            ],
            "type": "heatmap"
           }
          ],
          "histogram2d": [
           {
            "colorscale": [
             [
              0,
              "#000011"
             ],
             [
              0.1111111111111111,
              "#000012"
             ],
             [
              0.2222222222222222,
              "#000013"
             ],
             [
              0.3333333333333333,
              "#000014"
             ],
             [
              0.4444444444444444,
              "#000015"
             ],
             [
              0.5555555555555556,
              "#000016"
             ],
             [
              0.6666666666666666,
              "#000017"
             ],
             [
              0.7777777777777778,
              "#000018"
             ],
             [
              0.8888888888888888,
              "#000019"
             ],
             [
              1,
              "#000020"
             ]
            ],
            "type": "histogram2d"
           }
          ],
          "icicle": [
           {
            "textfont": {
             "color": "white"
            },
            "type": "icicle"
           }
          ],
          "sankey": [
           {
            "textfont": {
             "color": "#000036"
            },
            "type": "sankey"
           }
          ],
          "scatter": [
           {
            "marker": {
             "line": {
              "width": 0
             }
            },
            "type": "scatter"
           }
          ],
          "table": [
           {
            "cells": {
             "fill": {
              "color": "#000038"
             },
             "font": {
              "color": "#000037"
             },
             "line": {
              "color": "#000039"
             }
            },
            "header": {
             "fill": {
              "color": "#000040"
             },
             "font": {
              "color": "#000036"
             },
             "line": {
              "color": "#000039"
             }
            },
            "type": "table"
           }
          ],
          "waterfall": [
           {
            "connector": {
             "line": {
              "color": "#000036",
              "width": 2
             }
            },
            "decreasing": {
             "marker": {
              "color": "#000033"
             }
            },
            "increasing": {
             "marker": {
              "color": "#000032"
             }
            },
            "totals": {
             "marker": {
              "color": "#000034"
             }
            },
            "type": "waterfall"
           }
          ]
         },
         "layout": {
          "coloraxis": {
           "colorscale": [
            [
             0,
             "#000011"
            ],
            [
             0.1111111111111111,
             "#000012"
            ],
            [
             0.2222222222222222,
             "#000013"
            ],
            [
             0.3333333333333333,
             "#000014"
            ],
            [
             0.4444444444444444,
             "#000015"
            ],
            [
             0.5555555555555556,
             "#000016"
            ],
            [
             0.6666666666666666,
             "#000017"
            ],
            [
             0.7777777777777778,
             "#000018"
            ],
            [
             0.8888888888888888,
             "#000019"
            ],
            [
             1,
             "#000020"
            ]
           ]
          },
          "colorscale": {
           "diverging": [
            [
             0,
             "#000021"
            ],
            [
             0.1,
             "#000022"
            ],
            [
             0.2,
             "#000023"
            ],
            [
             0.3,
             "#000024"
            ],
            [
             0.4,
             "#000025"
            ],
            [
             0.5,
             "#000026"
            ],
            [
             0.6,
             "#000027"
            ],
            [
             0.7,
             "#000028"
            ],
            [
             0.8,
             "#000029"
            ],
            [
             0.9,
             "#000030"
            ],
            [
             1,
             "#000031"
            ]
           ],
           "sequential": [
            [
             0,
             "#000011"
            ],
            [
             0.1111111111111111,
             "#000012"
            ],
            [
             0.2222222222222222,
             "#000013"
            ],
            [
             0.3333333333333333,
             "#000014"
            ],
            [
             0.4444444444444444,
             "#000015"
            ],
            [
             0.5555555555555556,
             "#000016"
            ],
            [
             0.6666666666666666,
             "#000017"
            ],
            [
             0.7777777777777778,
             "#000018"
            ],
            [
             0.8888888888888888,
             "#000019"
            ],
            [
             1,
             "#000020"
            ]
           ],
           "sequentialminus": [
            [
             0,
             "#000011"
            ],
            [
             0.1111111111111111,
             "#000012"
            ],
            [
             0.2222222222222222,
             "#000013"
            ],
            [
             0.3333333333333333,
             "#000014"
            ],
            [
             0.4444444444444444,
             "#000015"
            ],
            [
             0.5555555555555556,
             "#000016"
            ],
            [
             0.6666666666666666,
             "#000017"
            ],
            [
             0.7777777777777778,
             "#000018"
            ],
            [
             0.8888888888888888,
             "#000019"
            ],
            [
             1,
             "#000020"
            ]
           ]
          },
          "colorway": [
           "#000001",
           "#000002",
           "#000003",
           "#000004",
           "#000005",
           "#000006",
           "#000007",
           "#000008",
           "#000009",
           "#000010"
          ]
         }
        },
        "title": {
         "text": "Histogram of BTC-USD Close Prices"
        },
        "xaxis": {
         "anchor": "y",
         "domain": [
          0,
          1
         ],
         "title": {
          "text": "BTC-USD Close Price"
         }
        },
        "yaxis": {
         "anchor": "x",
         "domain": [
          0,
          1
         ],
         "title": {
          "text": "count"
         }
        }
       }
      }
     },
     "metadata": {},
     "output_type": "display_data"
    }
   ],
   "source": [
    "# Create a function to filter crypto list and create close price histogram for selected coin\n",
    "fig = px.histogram(\n",
    "    df,\n",
    "    x='Close_BTC-USD',\n",
    "    nbins=50,  # You can adjust the number of bins\n",
    "    title='Histogram of BTC-USD Close Prices',\n",
    "    labels={'Close_BTC-USD': 'BTC-USD Close Price'},\n",
    "    color_discrete_sequence=['blue'],  # Set bin color\n",
    ")\n",
    "\n",
    "fig.show()"
   ]
  },
  {
   "cell_type": "code",
   "execution_count": 14,
   "id": "e68eb465",
   "metadata": {},
   "outputs": [
    {
     "data": {
      "application/vnd.plotly.v1+json": {
       "config": {
        "plotlyServerURL": "https://plot.ly"
       },
       "data": [
        {
         "hovertemplate": "Date=%{x}<br>Volume=%{y}<extra></extra>",
         "legendgroup": "",
         "marker": {
          "color": "blue",
          "pattern": {
           "shape": ""
          }
         },
         "name": "",
         "orientation": "v",
         "showlegend": false,
         "textposition": "auto",
         "type": "bar",
         "x": [
          "2024-05-02T00:00:00",
          "2024-05-03T00:00:00",
          "2024-05-04T00:00:00",
          "2024-05-05T00:00:00",
          "2024-05-06T00:00:00",
          "2024-05-07T00:00:00",
          "2024-05-08T00:00:00",
          "2024-05-09T00:00:00",
          "2024-05-10T00:00:00",
          "2024-05-11T00:00:00",
          "2024-05-12T00:00:00",
          "2024-05-13T00:00:00",
          "2024-05-14T00:00:00",
          "2024-05-15T00:00:00",
          "2024-05-16T00:00:00",
          "2024-05-17T00:00:00",
          "2024-05-18T00:00:00",
          "2024-05-19T00:00:00",
          "2024-05-20T00:00:00",
          "2024-05-21T00:00:00",
          "2024-05-22T00:00:00",
          "2024-05-23T00:00:00",
          "2024-05-24T00:00:00",
          "2024-05-25T00:00:00",
          "2024-05-26T00:00:00",
          "2024-05-27T00:00:00",
          "2024-05-28T00:00:00",
          "2024-05-29T00:00:00",
          "2024-05-30T00:00:00",
          "2024-05-31T00:00:00",
          "2024-06-01T00:00:00",
          "2024-06-02T00:00:00",
          "2024-06-03T00:00:00",
          "2024-06-04T00:00:00",
          "2024-06-05T00:00:00",
          "2024-06-06T00:00:00",
          "2024-06-07T00:00:00",
          "2024-06-08T00:00:00",
          "2024-06-09T00:00:00",
          "2024-06-10T00:00:00",
          "2024-06-11T00:00:00",
          "2024-06-12T00:00:00",
          "2024-06-13T00:00:00",
          "2024-06-14T00:00:00",
          "2024-06-15T00:00:00",
          "2024-06-16T00:00:00",
          "2024-06-17T00:00:00",
          "2024-06-18T00:00:00",
          "2024-06-19T00:00:00",
          "2024-06-20T00:00:00",
          "2024-06-21T00:00:00",
          "2024-06-22T00:00:00",
          "2024-06-23T00:00:00",
          "2024-06-24T00:00:00",
          "2024-06-25T00:00:00",
          "2024-06-26T00:00:00",
          "2024-06-27T00:00:00",
          "2024-06-28T00:00:00",
          "2024-06-29T00:00:00",
          "2024-06-30T00:00:00",
          "2024-07-01T00:00:00",
          "2024-07-02T00:00:00",
          "2024-07-03T00:00:00",
          "2024-07-04T00:00:00",
          "2024-07-05T00:00:00",
          "2024-07-06T00:00:00",
          "2024-07-07T00:00:00",
          "2024-07-08T00:00:00",
          "2024-07-09T00:00:00",
          "2024-07-10T00:00:00",
          "2024-07-11T00:00:00",
          "2024-07-12T00:00:00",
          "2024-07-13T00:00:00",
          "2024-07-14T00:00:00",
          "2024-07-15T00:00:00",
          "2024-07-16T00:00:00",
          "2024-07-17T00:00:00",
          "2024-07-18T00:00:00",
          "2024-07-19T00:00:00",
          "2024-07-20T00:00:00",
          "2024-07-21T00:00:00",
          "2024-07-22T00:00:00",
          "2024-07-23T00:00:00",
          "2024-07-24T00:00:00",
          "2024-07-25T00:00:00",
          "2024-07-26T00:00:00",
          "2024-07-27T00:00:00",
          "2024-07-28T00:00:00",
          "2024-07-29T00:00:00",
          "2024-07-30T00:00:00",
          "2024-07-31T00:00:00",
          "2024-08-01T00:00:00",
          "2024-08-02T00:00:00",
          "2024-08-03T00:00:00",
          "2024-08-04T00:00:00",
          "2024-08-05T00:00:00",
          "2024-08-06T00:00:00",
          "2024-08-07T00:00:00",
          "2024-08-08T00:00:00",
          "2024-08-09T00:00:00",
          "2024-08-10T00:00:00",
          "2024-08-11T00:00:00",
          "2024-08-12T00:00:00",
          "2024-08-13T00:00:00",
          "2024-08-14T00:00:00",
          "2024-08-15T00:00:00",
          "2024-08-16T00:00:00",
          "2024-08-17T00:00:00",
          "2024-08-18T00:00:00",
          "2024-08-19T00:00:00",
          "2024-08-20T00:00:00",
          "2024-08-21T00:00:00",
          "2024-08-22T00:00:00",
          "2024-08-23T00:00:00",
          "2024-08-24T00:00:00",
          "2024-08-25T00:00:00",
          "2024-08-26T00:00:00",
          "2024-08-27T00:00:00",
          "2024-08-28T00:00:00",
          "2024-08-29T00:00:00",
          "2024-08-30T00:00:00",
          "2024-08-31T00:00:00",
          "2024-09-01T00:00:00",
          "2024-09-02T00:00:00",
          "2024-09-03T00:00:00",
          "2024-09-04T00:00:00",
          "2024-09-05T00:00:00",
          "2024-09-06T00:00:00",
          "2024-09-07T00:00:00",
          "2024-09-08T00:00:00",
          "2024-09-09T00:00:00",
          "2024-09-10T00:00:00",
          "2024-09-11T00:00:00",
          "2024-09-12T00:00:00",
          "2024-09-13T00:00:00",
          "2024-09-14T00:00:00",
          "2024-09-15T00:00:00",
          "2024-09-16T00:00:00",
          "2024-09-17T00:00:00",
          "2024-09-18T00:00:00",
          "2024-09-19T00:00:00",
          "2024-09-20T00:00:00",
          "2024-09-21T00:00:00",
          "2024-09-22T00:00:00",
          "2024-09-23T00:00:00",
          "2024-09-24T00:00:00",
          "2024-09-25T00:00:00",
          "2024-09-26T00:00:00",
          "2024-09-27T00:00:00",
          "2024-09-28T00:00:00",
          "2024-09-29T00:00:00",
          "2024-09-30T00:00:00",
          "2024-10-01T00:00:00",
          "2024-10-02T00:00:00",
          "2024-10-03T00:00:00",
          "2024-10-04T00:00:00",
          "2024-10-05T00:00:00",
          "2024-10-06T00:00:00",
          "2024-10-07T00:00:00",
          "2024-10-08T00:00:00",
          "2024-10-09T00:00:00",
          "2024-10-10T00:00:00",
          "2024-10-11T00:00:00",
          "2024-10-12T00:00:00",
          "2024-10-13T00:00:00",
          "2024-10-14T00:00:00",
          "2024-10-15T00:00:00",
          "2024-10-16T00:00:00",
          "2024-10-17T00:00:00",
          "2024-10-18T00:00:00",
          "2024-10-19T00:00:00",
          "2024-10-20T00:00:00",
          "2024-10-21T00:00:00",
          "2024-10-22T00:00:00",
          "2024-10-23T00:00:00",
          "2024-10-24T00:00:00",
          "2024-10-25T00:00:00",
          "2024-10-26T00:00:00",
          "2024-10-27T00:00:00",
          "2024-10-28T00:00:00",
          "2024-10-29T00:00:00",
          "2024-10-30T00:00:00",
          "2024-10-31T00:00:00",
          "2024-11-01T00:00:00",
          "2024-11-02T00:00:00",
          "2024-11-03T00:00:00",
          "2024-11-04T00:00:00",
          "2024-11-05T00:00:00",
          "2024-11-06T00:00:00",
          "2024-11-07T00:00:00",
          "2024-11-08T00:00:00",
          "2024-11-09T00:00:00",
          "2024-11-10T00:00:00",
          "2024-11-11T00:00:00",
          "2024-11-12T00:00:00",
          "2024-11-13T00:00:00",
          "2024-11-14T00:00:00",
          "2024-11-15T00:00:00",
          "2024-11-16T00:00:00",
          "2024-11-17T00:00:00",
          "2024-11-18T00:00:00",
          "2024-11-19T00:00:00",
          "2024-11-20T00:00:00",
          "2024-11-21T00:00:00",
          "2024-11-22T00:00:00",
          "2024-11-23T00:00:00",
          "2024-11-24T00:00:00",
          "2024-11-25T00:00:00",
          "2024-11-26T00:00:00",
          "2024-11-27T00:00:00",
          "2024-11-28T00:00:00",
          "2024-11-29T00:00:00",
          "2024-11-30T00:00:00",
          "2024-12-01T00:00:00",
          "2024-12-02T00:00:00",
          "2024-12-03T00:00:00",
          "2024-12-04T00:00:00",
          "2024-12-05T00:00:00",
          "2024-12-06T00:00:00",
          "2024-12-07T00:00:00",
          "2024-12-08T00:00:00",
          "2024-12-09T00:00:00",
          "2024-12-10T00:00:00",
          "2024-12-11T00:00:00",
          "2024-12-12T00:00:00",
          "2024-12-13T00:00:00",
          "2024-12-14T00:00:00",
          "2024-12-15T00:00:00",
          "2024-12-16T00:00:00",
          "2024-12-17T00:00:00",
          "2024-12-18T00:00:00",
          "2024-12-19T00:00:00",
          "2024-12-20T00:00:00",
          "2024-12-21T00:00:00",
          "2024-12-22T00:00:00",
          "2024-12-23T00:00:00",
          "2024-12-24T00:00:00",
          "2024-12-25T00:00:00",
          "2024-12-26T00:00:00",
          "2024-12-27T00:00:00",
          "2024-12-28T00:00:00",
          "2024-12-29T00:00:00",
          "2024-12-30T00:00:00",
          "2024-12-31T00:00:00",
          "2025-01-01T00:00:00",
          "2025-01-02T00:00:00",
          "2025-01-03T00:00:00",
          "2025-01-04T00:00:00",
          "2025-01-05T00:00:00",
          "2025-01-06T00:00:00",
          "2025-01-07T00:00:00",
          "2025-01-08T00:00:00",
          "2025-01-09T00:00:00",
          "2025-01-10T00:00:00",
          "2025-01-11T00:00:00",
          "2025-01-12T00:00:00",
          "2025-01-13T00:00:00",
          "2025-01-14T00:00:00",
          "2025-01-15T00:00:00",
          "2025-01-16T00:00:00",
          "2025-01-17T00:00:00",
          "2025-01-18T00:00:00",
          "2025-01-19T00:00:00",
          "2025-01-20T00:00:00",
          "2025-01-21T00:00:00",
          "2025-01-22T00:00:00",
          "2025-01-23T00:00:00",
          "2025-01-24T00:00:00",
          "2025-01-25T00:00:00",
          "2025-01-26T00:00:00",
          "2025-01-27T00:00:00",
          "2025-01-28T00:00:00",
          "2025-01-29T00:00:00",
          "2025-01-30T00:00:00",
          "2025-01-31T00:00:00",
          "2025-02-01T00:00:00",
          "2025-02-02T00:00:00",
          "2025-02-03T00:00:00",
          "2025-02-04T00:00:00",
          "2025-02-05T00:00:00",
          "2025-02-06T00:00:00",
          "2025-02-07T00:00:00",
          "2025-02-08T00:00:00",
          "2025-02-09T00:00:00",
          "2025-02-10T00:00:00",
          "2025-02-11T00:00:00",
          "2025-02-12T00:00:00",
          "2025-02-13T00:00:00",
          "2025-02-14T00:00:00",
          "2025-02-15T00:00:00",
          "2025-02-16T00:00:00",
          "2025-02-17T00:00:00",
          "2025-02-18T00:00:00",
          "2025-02-19T00:00:00",
          "2025-02-20T00:00:00",
          "2025-02-21T00:00:00",
          "2025-02-22T00:00:00",
          "2025-02-23T00:00:00",
          "2025-02-24T00:00:00",
          "2025-02-25T00:00:00",
          "2025-02-26T00:00:00",
          "2025-02-27T00:00:00",
          "2025-02-28T00:00:00",
          "2025-03-01T00:00:00",
          "2025-03-02T00:00:00",
          "2025-03-03T00:00:00",
          "2025-03-04T00:00:00",
          "2025-03-05T00:00:00",
          "2025-03-06T00:00:00",
          "2025-03-07T00:00:00",
          "2025-03-08T00:00:00",
          "2025-03-09T00:00:00",
          "2025-03-10T00:00:00",
          "2025-03-11T00:00:00",
          "2025-03-12T00:00:00",
          "2025-03-13T00:00:00",
          "2025-03-14T00:00:00",
          "2025-03-15T00:00:00",
          "2025-03-16T00:00:00",
          "2025-03-17T00:00:00",
          "2025-03-18T00:00:00",
          "2025-03-19T00:00:00",
          "2025-03-20T00:00:00",
          "2025-03-21T00:00:00",
          "2025-03-22T00:00:00",
          "2025-03-23T00:00:00",
          "2025-03-24T00:00:00",
          "2025-03-25T00:00:00",
          "2025-03-26T00:00:00",
          "2025-03-27T00:00:00",
          "2025-03-28T00:00:00",
          "2025-03-29T00:00:00",
          "2025-03-30T00:00:00",
          "2025-03-31T00:00:00",
          "2025-04-01T00:00:00",
          "2025-04-02T00:00:00",
          "2025-04-03T00:00:00",
          "2025-04-04T00:00:00",
          "2025-04-05T00:00:00",
          "2025-04-06T00:00:00",
          "2025-04-07T00:00:00",
          "2025-04-08T00:00:00",
          "2025-04-09T00:00:00",
          "2025-04-10T00:00:00",
          "2025-04-11T00:00:00",
          "2025-04-12T00:00:00",
          "2025-04-13T00:00:00",
          "2025-04-14T00:00:00",
          "2025-04-15T00:00:00",
          "2025-04-16T00:00:00",
          "2025-04-17T00:00:00",
          "2025-04-18T00:00:00",
          "2025-04-19T00:00:00",
          "2025-04-20T00:00:00",
          "2025-04-21T00:00:00",
          "2025-04-22T00:00:00",
          "2025-04-23T00:00:00",
          "2025-04-24T00:00:00",
          "2025-04-25T00:00:00",
          "2025-04-26T00:00:00",
          "2025-04-27T00:00:00",
          "2025-04-28T00:00:00",
          "2025-04-29T00:00:00",
          "2025-04-30T00:00:00",
          "2025-05-01T00:00:00"
         ],
         "xaxis": "x",
         "y": [
          32711813559,
          33172023048,
          20620477992,
          18296164805,
          28697928697,
          25930730982,
          26088172222,
          25453338161,
          27804954694,
          13842272968,
          13800459405,
          27889181179,
          28186271527,
          39815167074,
          31573077994,
          28031279310,
          16712277406,
          19249094538,
          43850655717,
          46932005990,
          32802561717,
          41895680979,
          29197308153,
          15473071741,
          15628433737,
          25870990717,
          32722265965,
          26707072906,
          29509712534,
          27387283769,
          11641495604,
          17110588415,
          32401285324,
          33149696545,
          32810771409,
          25223152007,
          36188381096,
          14262185861,
          13534028500,
          20597699541,
          37116136345,
          34497940694,
          28955204146,
          27403884779,
          14121265576,
          13281140541,
          30006354476,
          39481285950,
          21103423504,
          25641109124,
          26188171739,
          9858198793,
          11170471802,
          43152133651,
          29201215431,
          22506003064,
          21231745045,
          24952866877,
          12652903396,
          17333226409,
          25468379421,
          20151616992,
          29756701685,
          41149609230,
          55417544033,
          20610320577,
          20553359505,
          39766159899,
          27849512607,
          26175260526,
          28707803842,
          25604805221,
          17080061806,
          22223416061,
          38094526099,
          41617346768,
          32525071311,
          27239305337,
          37003855410,
          19029581250,
          26652190004,
          42649109453,
          35605668666,
          27470942309,
          38315761670,
          30488630457,
          34691905492,
          18043166945,
          40780682628,
          31380492109,
          31292785994,
          40975554494,
          43060875727,
          31753030589,
          31758917219,
          108991085584,
          49300484106,
          41637562185,
          45298472567,
          33425553115,
          15745822278,
          22759754812,
          37078637820,
          30327698167,
          29961696180,
          35682112440,
          29350938673,
          13589684021,
          17740625837,
          25911207712,
          31613400008,
          32731154072,
          27625734377,
          42530509233,
          21430585163,
          18827683555,
          27682040631,
          39103882198,
          40289564698,
          32224990582,
          32292756405,
          12403470760,
          24592449997,
          27036454524,
          26666961053,
          35627680312,
          31030280656,
          49361693566,
          19061486526,
          18268287531,
          34618096173,
          28857630507,
          37049062672,
          33835707949,
          32490528356,
          16428405496,
          18120960867,
          32032822113,
          38075570118,
          40990702891,
          42710252573,
          35177164222,
          14408616220,
          20183348802,
          31400285425,
          29938335243,
          25078377700,
          36873129847,
          32058813449,
          15243637984,
          14788214575,
          37112957475,
          50220923500,
          40762722398,
          36106447279,
          29585472513,
          13305410749,
          14776233667,
          34253562610,
          28134475157,
          27670982363,
          30452813570,
          30327141594,
          16744110886,
          18177529690,
          43706958056,
          48863870879,
          38195189534,
          32790898511,
          36857165014,
          14443497908,
          18975847518,
          37498611780,
          31808472566,
          32263980353,
          31414428647,
          41469984306,
          19588098156,
          16721307878,
          38799856657,
          58541874402,
          40646637831,
          40627912076,
          49989795365,
          18184612091,
          34868307655,
          41184819348,
          46046889204,
          118592653963,
          63467654989,
          55176858003,
          29009480361,
          82570594495,
          117966845037,
          133673285375,
          123559027869,
          87616705248,
          78243109518,
          44333192814,
          46350159305,
          75535775084,
          74521048295,
          71730956426,
          106024505582,
          78473580551,
          44414644677,
          51712020623,
          80909462490,
          91656519855,
          71133452438,
          52260008261,
          54968682476,
          31634227866,
          36590695296,
          72680784305,
          67067810961,
          77199817112,
          149218945580,
          94534772658,
          44177510897,
          44125751925,
          110676473908,
          104823780634,
          85391409936,
          72073983533,
          56894751583,
          40422968793,
          51145914137,
          91020417816,
          68589364868,
          93865656139,
          97221662392,
          105634083408,
          51765334294,
          43147981314,
          65239002919,
          47114953674,
          33700394629,
          47054980873,
          52419934565,
          24107436185,
          29635885267,
          56188003691,
          43625106843,
          24519888919,
          46009564411,
          35611391163,
          22342608078,
          20525254825,
          51823432705,
          58685738547,
          63875859171,
          62777261693,
          62058693684,
          18860894100,
          20885130965,
          72978998252,
          53769675818,
          57805923627,
          54103781805,
          71888972663,
          50445655726,
          76789928525,
          126279678351,
          88733878242,
          53878181052,
          104104515428,
          52388229265,
          23888996502,
          22543395879,
          89006608428,
          47180685494,
          47432049818,
          41915744521,
          45732764360,
          27757944848,
          63091816853,
          115400897748,
          73002130211,
          49125911241,
          45302471947,
          55741290456,
          22447526395,
          27732901800,
          40078962391,
          37488783272,
          49340445530,
          37147280860,
          32697987277,
          17047266288,
          16536755396,
          27336550690,
          37325720482,
          28990872862,
          31668022771,
          49608706470,
          18353824477,
          16999478976,
          44046480529,
          92139104128,
          64597492134,
          52659591954,
          83610570576,
          29190628396,
          58398341092,
          70072228536,
          68095241474,
          50498988027,
          47749810486,
          65945677657,
          18206118081,
          30899345977,
          54061099422,
          54702837196,
          40353484454,
          31412940153,
          29588112414,
          13650491277,
          21330270174,
          25092785558,
          24095774594,
          34931960257,
          29028988961,
          19030452299,
          9863214091,
          12594615537,
          34582604933,
          30005840049,
          26704046038,
          24413471941,
          34198619509,
          16969396135,
          14763760943,
          29004228247,
          28175650319,
          47584398470,
          36852112080,
          45157640207,
          14380803631,
          36294853736,
          91262424987,
          48314590749,
          84213627038,
          44718000633,
          41656778779,
          24258059104,
          28796984817,
          34090769777,
          28040322885,
          29617804112,
          21276866029,
          12728372364,
          15259300427,
          14664050812,
          41396190190,
          55899038456,
          41719568821,
          31483175315,
          40915232364,
          17612825123,
          18090367764,
          32363449569,
          25806129921,
          28344679831,
          29107642368
         ],
         "yaxis": "y"
        }
       ],
       "layout": {
        "barmode": "relative",
        "legend": {
         "tracegroupgap": 0
        },
        "template": {
         "data": {
          "candlestick": [
           {
            "decreasing": {
             "line": {
              "color": "#000033"
             }
            },
            "increasing": {
             "line": {
              "color": "#000032"
             }
            },
            "type": "candlestick"
           }
          ],
          "contour": [
           {
            "colorscale": [
             [
              0,
              "#000011"
             ],
             [
              0.1111111111111111,
              "#000012"
             ],
             [
              0.2222222222222222,
              "#000013"
             ],
             [
              0.3333333333333333,
              "#000014"
             ],
             [
              0.4444444444444444,
              "#000015"
             ],
             [
              0.5555555555555556,
              "#000016"
             ],
             [
              0.6666666666666666,
              "#000017"
             ],
             [
              0.7777777777777778,
              "#000018"
             ],
             [
              0.8888888888888888,
              "#000019"
             ],
             [
              1,
              "#000020"
             ]
            ],
            "type": "contour"
           }
          ],
          "contourcarpet": [
           {
            "colorscale": [
             [
              0,
              "#000011"
             ],
             [
              0.1111111111111111,
              "#000012"
             ],
             [
              0.2222222222222222,
              "#000013"
             ],
             [
              0.3333333333333333,
              "#000014"
             ],
             [
              0.4444444444444444,
              "#000015"
             ],
             [
              0.5555555555555556,
              "#000016"
             ],
             [
              0.6666666666666666,
              "#000017"
             ],
             [
              0.7777777777777778,
              "#000018"
             ],
             [
              0.8888888888888888,
              "#000019"
             ],
             [
              1,
              "#000020"
             ]
            ],
            "type": "contourcarpet"
           }
          ],
          "heatmap": [
           {
            "colorscale": [
             [
              0,
              "#000011"
             ],
             [
              0.1111111111111111,
              "#000012"
             ],
             [
              0.2222222222222222,
              "#000013"
             ],
             [
              0.3333333333333333,
              "#000014"
             ],
             [
              0.4444444444444444,
              "#000015"
             ],
             [
              0.5555555555555556,
              "#000016"
             ],
             [
              0.6666666666666666,
              "#000017"
             ],
             [
              0.7777777777777778,
              "#000018"
             ],
             [
              0.8888888888888888,
              "#000019"
             ],
             [
              1,
              "#000020"
             ]
            ],
            "type": "heatmap"
           }
          ],
          "histogram2d": [
           {
            "colorscale": [
             [
              0,
              "#000011"
             ],
             [
              0.1111111111111111,
              "#000012"
             ],
             [
              0.2222222222222222,
              "#000013"
             ],
             [
              0.3333333333333333,
              "#000014"
             ],
             [
              0.4444444444444444,
              "#000015"
             ],
             [
              0.5555555555555556,
              "#000016"
             ],
             [
              0.6666666666666666,
              "#000017"
             ],
             [
              0.7777777777777778,
              "#000018"
             ],
             [
              0.8888888888888888,
              "#000019"
             ],
             [
              1,
              "#000020"
             ]
            ],
            "type": "histogram2d"
           }
          ],
          "icicle": [
           {
            "textfont": {
             "color": "white"
            },
            "type": "icicle"
           }
          ],
          "sankey": [
           {
            "textfont": {
             "color": "#000036"
            },
            "type": "sankey"
           }
          ],
          "scatter": [
           {
            "marker": {
             "line": {
              "width": 0
             }
            },
            "type": "scatter"
           }
          ],
          "table": [
           {
            "cells": {
             "fill": {
              "color": "#000038"
             },
             "font": {
              "color": "#000037"
             },
             "line": {
              "color": "#000039"
             }
            },
            "header": {
             "fill": {
              "color": "#000040"
             },
             "font": {
              "color": "#000036"
             },
             "line": {
              "color": "#000039"
             }
            },
            "type": "table"
           }
          ],
          "waterfall": [
           {
            "connector": {
             "line": {
              "color": "#000036",
              "width": 2
             }
            },
            "decreasing": {
             "marker": {
              "color": "#000033"
             }
            },
            "increasing": {
             "marker": {
              "color": "#000032"
             }
            },
            "totals": {
             "marker": {
              "color": "#000034"
             }
            },
            "type": "waterfall"
           }
          ]
         },
         "layout": {
          "coloraxis": {
           "colorscale": [
            [
             0,
             "#000011"
            ],
            [
             0.1111111111111111,
             "#000012"
            ],
            [
             0.2222222222222222,
             "#000013"
            ],
            [
             0.3333333333333333,
             "#000014"
            ],
            [
             0.4444444444444444,
             "#000015"
            ],
            [
             0.5555555555555556,
             "#000016"
            ],
            [
             0.6666666666666666,
             "#000017"
            ],
            [
             0.7777777777777778,
             "#000018"
            ],
            [
             0.8888888888888888,
             "#000019"
            ],
            [
             1,
             "#000020"
            ]
           ]
          },
          "colorscale": {
           "diverging": [
            [
             0,
             "#000021"
            ],
            [
             0.1,
             "#000022"
            ],
            [
             0.2,
             "#000023"
            ],
            [
             0.3,
             "#000024"
            ],
            [
             0.4,
             "#000025"
            ],
            [
             0.5,
             "#000026"
            ],
            [
             0.6,
             "#000027"
            ],
            [
             0.7,
             "#000028"
            ],
            [
             0.8,
             "#000029"
            ],
            [
             0.9,
             "#000030"
            ],
            [
             1,
             "#000031"
            ]
           ],
           "sequential": [
            [
             0,
             "#000011"
            ],
            [
             0.1111111111111111,
             "#000012"
            ],
            [
             0.2222222222222222,
             "#000013"
            ],
            [
             0.3333333333333333,
             "#000014"
            ],
            [
             0.4444444444444444,
             "#000015"
            ],
            [
             0.5555555555555556,
             "#000016"
            ],
            [
             0.6666666666666666,
             "#000017"
            ],
            [
             0.7777777777777778,
             "#000018"
            ],
            [
             0.8888888888888888,
             "#000019"
            ],
            [
             1,
             "#000020"
            ]
           ],
           "sequentialminus": [
            [
             0,
             "#000011"
            ],
            [
             0.1111111111111111,
             "#000012"
            ],
            [
             0.2222222222222222,
             "#000013"
            ],
            [
             0.3333333333333333,
             "#000014"
            ],
            [
             0.4444444444444444,
             "#000015"
            ],
            [
             0.5555555555555556,
             "#000016"
            ],
            [
             0.6666666666666666,
             "#000017"
            ],
            [
             0.7777777777777778,
             "#000018"
            ],
            [
             0.8888888888888888,
             "#000019"
            ],
            [
             1,
             "#000020"
            ]
           ]
          },
          "colorway": [
           "#000001",
           "#000002",
           "#000003",
           "#000004",
           "#000005",
           "#000006",
           "#000007",
           "#000008",
           "#000009",
           "#000010"
          ]
         }
        },
        "title": {
         "text": "BTC-USD Volume Over Time"
        },
        "xaxis": {
         "anchor": "y",
         "domain": [
          0,
          1
         ],
         "title": {
          "text": "Date"
         }
        },
        "yaxis": {
         "anchor": "x",
         "domain": [
          0,
          1
         ],
         "title": {
          "text": "Volume"
         }
        }
       }
      }
     },
     "metadata": {},
     "output_type": "display_data"
    }
   ],
   "source": [
    "# Create a bar chart of volume over time\n",
    "import plotly.express as px\n",
    "\n",
    "fig = px.bar(\n",
    "    df,\n",
    "    x='Date',\n",
    "    y='Volume_BTC-USD',\n",
    "    title='BTC-USD Volume Over Time',\n",
    "    labels={'Volume_BTC-USD': 'Volume', 'Date': 'Date'},\n",
    "    color_discrete_sequence=['blue']  # Bar color\n",
    ")\n",
    "\n",
    "fig.show()"
   ]
  },
  {
   "cell_type": "code",
   "execution_count": 21,
   "id": "da7f4dcd",
   "metadata": {},
   "outputs": [
    {
     "data": {
      "image/png": "[encoded data removed]",
      "text/plain": [
       "<Figure size 1000x800 with 4 Axes>"
      ]
     },
     "metadata": {},
     "output_type": "display_data"
    }
   ],
   "source": [
    "import pandas as pd\n",
    "from statsmodels.tsa.seasonal import seasonal_decompose\n",
    "import matplotlib.pyplot as plt\n",
    "%matplotlib inline\n",
    "\n",
    "\n",
    "# Decompose BTC-USD series\n",
    "result = seasonal_decompose(df['Close_BTC-USD'], model='additive', period=30)  # assuming weekly seasonality\n",
    "\n",
    "# Plot the decomposition\n",
    "fig = result.plot()\n",
    "fig.set_size_inches(10, 8)\n",
    "#plt.tight_layout()\n",
    "plt.show()"
   ]
  }
 ],
 "metadata": {
  "kernelspec": {
   "display_name": "crypto",
   "language": "python",
   "name": "python3"
  },
  "language_info": {
   "codemirror_mode": {
    "name": "ipython",
    "version": 3
   },
   "file_extension": ".py",
   "mimetype": "text/x-python",
   "name": "python",
   "nbconvert_exporter": "python",
   "pygments_lexer": "ipython3",
   "version": "3.9.21"
  }
 },
 "nbformat": 4,
 "nbformat_minor": 5
}
