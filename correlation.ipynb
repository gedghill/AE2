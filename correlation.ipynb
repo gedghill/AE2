{
 "cells": [
  {
   "cell_type": "code",
   "execution_count": 1,
   "id": "351c02c6",
   "metadata": {},
   "outputs": [],
   "source": [
    "import pandas as pd\n",
    "from sklearn.cluster import KMeans\n",
    "import plotly.express as px\n",
    "from sklearn.preprocessing import StandardScaler\n",
    "from sklearn.decomposition import PCA\n",
    "from fetch_data import fetch_data"
   ]
  },
  {
   "cell_type": "code",
   "execution_count": 2,
   "id": "593de676",
   "metadata": {},
   "outputs": [
    {
     "name": "stdout",
     "output_type": "stream",
     "text": [
      "YF.download() has changed argument auto_adjust default to True\n"
     ]
    },
    {
     "name": "stderr",
     "output_type": "stream",
     "text": [
      "[*********************100%***********************]  30 of 30 completed\n"
     ]
    }
   ],
   "source": [
    "df = fetch_data()"
   ]
  },
  {
   "cell_type": "code",
   "execution_count": 6,
   "id": "c200b9f2",
   "metadata": {},
   "outputs": [],
   "source": [
    "# Calculate the correlation matrix for the 'Close' prices of all cryptocurrencies\n",
    "correlation_matrix = df.corr()\n"
   ]
  },
  {
   "cell_type": "code",
   "execution_count": 7,
   "id": "0666ade3",
   "metadata": {},
   "outputs": [
    {
     "data": {
      "application/vnd.plotly.v1+json": {
       "config": {
        "plotlyServerURL": "https://plot.ly"
       },
       "data": [
        {
         "coloraxis": "coloraxis",
         "hovertemplate": "Cryptocurrency: %{x}<br>Cryptocurrency: %{y}<br>Correlation: %{z}<extra></extra>",
         "name": "0",
         "type": "heatmap",
         "x": [
          "AAVE-USD",
          "ADA-USD",
          "ALGO-USD",
          "ATOM-USD",
          "AVAX-USD",
          "BCH-USD",
          "BNB-USD",
          "BTC-USD",
          "CHR-USD",
          "DASH-USD",
          "DOGE-USD",
          "DOT-USD",
          "EOS-USD",
          "ETC-USD",
          "ETH-USD",
          "FTT-USD",
          "LINK-USD",
          "LTC-USD",
          "NEO-USD",
          "PEPE24478-USD",
          "SOL-USD",
          "THETA-USD",
          "TRX-USD",
          "UNI-USD",
          "USDT-USD",
          "VET-USD",
          "WIF-USD",
          "XLM-USD",
          "XMR-USD",
          "XRP-USD"
         ],
         "xaxis": "x",
         "y": [
          "AAVE-USD",
          "ADA-USD",
          "ALGO-USD",
          "ATOM-USD",
          "AVAX-USD",
          "BCH-USD",
          "BNB-USD",
          "BTC-USD",
          "CHR-USD",
          "DASH-USD",
          "DOGE-USD",
          "DOT-USD",
          "EOS-USD",
          "ETC-USD",
          "ETH-USD",
          "FTT-USD",
          "LINK-USD",
          "LTC-USD",
          "NEO-USD",
          "PEPE24478-USD",
          "SOL-USD",
          "THETA-USD",
          "TRX-USD",
          "UNI-USD",
          "USDT-USD",
          "VET-USD",
          "WIF-USD",
          "XLM-USD",
          "XMR-USD",
          "XRP-USD"
         ],
         "yaxis": "y",
         "z": {
          "bdata": "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",
          "dtype": "f8",
          "shape": "30, 30"
         }
        }
       ],
       "layout": {
        "coloraxis": {
         "colorbar": {
          "title": {
           "text": "Correlation"
          }
         },
         "colorscale": [
          [
           0,
           "rgb(103,0,31)"
          ],
          [
           0.1,
           "rgb(178,24,43)"
          ],
          [
           0.2,
           "rgb(214,96,77)"
          ],
          [
           0.3,
           "rgb(244,165,130)"
          ],
          [
           0.4,
           "rgb(253,219,199)"
          ],
          [
           0.5,
           "rgb(247,247,247)"
          ],
          [
           0.6,
           "rgb(209,229,240)"
          ],
          [
           0.7,
           "rgb(146,197,222)"
          ],
          [
           0.8,
           "rgb(67,147,195)"
          ],
          [
           0.9,
           "rgb(33,102,172)"
          ],
          [
           1,
           "rgb(5,48,97)"
          ]
         ]
        },
        "height": 800,
        "template": {
         "data": {
          "bar": [
           {
            "error_x": {
             "color": "#2a3f5f"
            },
            "error_y": {
             "color": "#2a3f5f"
            },
            "marker": {
             "line": {
              "color": "#E5ECF6",
              "width": 0.5
             },
             "pattern": {
              "fillmode": "overlay",
              "size": 10,
              "solidity": 0.2
             }
            },
            "type": "bar"
           }
          ],
          "barpolar": [
           {
            "marker": {
             "line": {
              "color": "#E5ECF6",
              "width": 0.5
             },
             "pattern": {
              "fillmode": "overlay",
              "size": 10,
              "solidity": 0.2
             }
            },
            "type": "barpolar"
           }
          ],
          "carpet": [
           {
            "aaxis": {
             "endlinecolor": "#2a3f5f",
             "gridcolor": "white",
             "linecolor": "white",
             "minorgridcolor": "white",
             "startlinecolor": "#2a3f5f"
            },
            "baxis": {
             "endlinecolor": "#2a3f5f",
             "gridcolor": "white",
             "linecolor": "white",
             "minorgridcolor": "white",
             "startlinecolor": "#2a3f5f"
            },
            "type": "carpet"
           }
          ],
          "choropleth": [
           {
            "colorbar": {
             "outlinewidth": 0,
             "ticks": ""
            },
            "type": "choropleth"
           }
          ],
          "contour": [
           {
            "colorbar": {
             "outlinewidth": 0,
             "ticks": ""
            },
            "colorscale": [
             [
              0,
              "#0d0887"
             ],
             [
              0.1111111111111111,
              "#46039f"
             ],
             [
              0.2222222222222222,
              "#7201a8"
             ],
             [
              0.3333333333333333,
              "#9c179e"
             ],
             [
              0.4444444444444444,
              "#bd3786"
             ],
             [
              0.5555555555555556,
              "#d8576b"
             ],
             [
              0.6666666666666666,
              "#ed7953"
             ],
             [
              0.7777777777777778,
              "#fb9f3a"
             ],
             [
              0.8888888888888888,
              "#fdca26"
             ],
             [
              1,
              "#f0f921"
             ]
            ],
            "type": "contour"
           }
          ],
          "contourcarpet": [
           {
            "colorbar": {
             "outlinewidth": 0,
             "ticks": ""
            },
            "type": "contourcarpet"
           }
          ],
          "heatmap": [
           {
            "colorbar": {
             "outlinewidth": 0,
             "ticks": ""
            },
            "colorscale": [
             [
              0,
              "#0d0887"
             ],
             [
              0.1111111111111111,
              "#46039f"
             ],
             [
              0.2222222222222222,
              "#7201a8"
             ],
             [
              0.3333333333333333,
              "#9c179e"
             ],
             [
              0.4444444444444444,
              "#bd3786"
             ],
             [
              0.5555555555555556,
              "#d8576b"
             ],
             [
              0.6666666666666666,
              "#ed7953"
             ],
             [
              0.7777777777777778,
              "#fb9f3a"
             ],
             [
              0.8888888888888888,
              "#fdca26"
             ],
             [
              1,
              "#f0f921"
             ]
            ],
            "type": "heatmap"
           }
          ],
          "histogram": [
           {
            "marker": {
             "pattern": {
              "fillmode": "overlay",
              "size": 10,
              "solidity": 0.2
             }
            },
            "type": "histogram"
           }
          ],
          "histogram2d": [
           {
            "colorbar": {
             "outlinewidth": 0,
             "ticks": ""
            },
            "colorscale": [
             [
              0,
              "#0d0887"
             ],
             [
              0.1111111111111111,
              "#46039f"
             ],
             [
              0.2222222222222222,
              "#7201a8"
             ],
             [
              0.3333333333333333,
              "#9c179e"
             ],
             [
              0.4444444444444444,
              "#bd3786"
             ],
             [
              0.5555555555555556,
              "#d8576b"
             ],
             [
              0.6666666666666666,
              "#ed7953"
             ],
             [
              0.7777777777777778,
              "#fb9f3a"
             ],
             [
              0.8888888888888888,
              "#fdca26"
             ],
             [
              1,
              "#f0f921"
             ]
            ],
            "type": "histogram2d"
           }
          ],
          "histogram2dcontour": [
           {
            "colorbar": {
             "outlinewidth": 0,
             "ticks": ""
            },
            "colorscale": [
             [
              0,
              "#0d0887"
             ],
             [
              0.1111111111111111,
              "#46039f"
             ],
             [
              0.2222222222222222,
              "#7201a8"
             ],
             [
              0.3333333333333333,
              "#9c179e"
             ],
             [
              0.4444444444444444,
              "#bd3786"
             ],
             [
              0.5555555555555556,
              "#d8576b"
             ],
             [
              0.6666666666666666,
              "#ed7953"
             ],
             [
              0.7777777777777778,
              "#fb9f3a"
             ],
             [
              0.8888888888888888,
              "#fdca26"
             ],
             [
              1,
              "#f0f921"
             ]
            ],
            "type": "histogram2dcontour"
           }
          ],
          "mesh3d": [
           {
            "colorbar": {
             "outlinewidth": 0,
             "ticks": ""
            },
            "type": "mesh3d"
           }
          ],
          "parcoords": [
           {
            "line": {
             "colorbar": {
              "outlinewidth": 0,
              "ticks": ""
             }
            },
            "type": "parcoords"
           }
          ],
          "pie": [
           {
            "automargin": true,
            "type": "pie"
           }
          ],
          "scatter": [
           {
            "fillpattern": {
             "fillmode": "overlay",
             "size": 10,
             "solidity": 0.2
            },
            "type": "scatter"
           }
          ],
          "scatter3d": [
           {
            "line": {
             "colorbar": {
              "outlinewidth": 0,
              "ticks": ""
             }
            },
            "marker": {
             "colorbar": {
              "outlinewidth": 0,
              "ticks": ""
             }
            },
            "type": "scatter3d"
           }
          ],
          "scattercarpet": [
           {
            "marker": {
             "colorbar": {
              "outlinewidth": 0,
              "ticks": ""
             }
            },
            "type": "scattercarpet"
           }
          ],
          "scattergeo": [
           {
            "marker": {
             "colorbar": {
              "outlinewidth": 0,
              "ticks": ""
             }
            },
            "type": "scattergeo"
           }
          ],
          "scattergl": [
           {
            "marker": {
             "colorbar": {
              "outlinewidth": 0,
              "ticks": ""
             }
            },
            "type": "scattergl"
           }
          ],
          "scattermap": [
           {
            "marker": {
             "colorbar": {
              "outlinewidth": 0,
              "ticks": ""
             }
            },
            "type": "scattermap"
           }
          ],
          "scattermapbox": [
           {
            "marker": {
             "colorbar": {
              "outlinewidth": 0,
              "ticks": ""
             }
            },
            "type": "scattermapbox"
           }
          ],
          "scatterpolar": [
           {
            "marker": {
             "colorbar": {
              "outlinewidth": 0,
              "ticks": ""
             }
            },
            "type": "scatterpolar"
           }
          ],
          "scatterpolargl": [
           {
            "marker": {
             "colorbar": {
              "outlinewidth": 0,
              "ticks": ""
             }
            },
            "type": "scatterpolargl"
           }
          ],
          "scatterternary": [
           {
            "marker": {
             "colorbar": {
              "outlinewidth": 0,
              "ticks": ""
             }
            },
            "type": "scatterternary"
           }
          ],
          "surface": [
           {
            "colorbar": {
             "outlinewidth": 0,
             "ticks": ""
            },
            "colorscale": [
             [
              0,
              "#0d0887"
             ],
             [
              0.1111111111111111,
              "#46039f"
             ],
             [
              0.2222222222222222,
              "#7201a8"
             ],
             [
              0.3333333333333333,
              "#9c179e"
             ],
             [
              0.4444444444444444,
              "#bd3786"
             ],
             [
              0.5555555555555556,
              "#d8576b"
             ],
             [
              0.6666666666666666,
              "#ed7953"
             ],
             [
              0.7777777777777778,
              "#fb9f3a"
             ],
             [
              0.8888888888888888,
              "#fdca26"
             ],
             [
              1,
              "#f0f921"
             ]
            ],
            "type": "surface"
           }
          ],
          "table": [
           {
            "cells": {
             "fill": {
              "color": "#EBF0F8"
             },
             "line": {
              "color": "white"
             }
            },
            "header": {
             "fill": {
              "color": "#C8D4E3"
             },
             "line": {
              "color": "white"
             }
            },
            "type": "table"
           }
          ]
         },
         "layout": {
          "annotationdefaults": {
           "arrowcolor": "#2a3f5f",
           "arrowhead": 0,
           "arrowwidth": 1
          },
          "autotypenumbers": "strict",
          "coloraxis": {
           "colorbar": {
            "outlinewidth": 0,
            "ticks": ""
           }
          },
          "colorscale": {
           "diverging": [
            [
             0,
             "#8e0152"
            ],
            [
             0.1,
             "#c51b7d"
            ],
            [
             0.2,
             "#de77ae"
            ],
            [
             0.3,
             "#f1b6da"
            ],
            [
             0.4,
             "#fde0ef"
            ],
            [
             0.5,
             "#f7f7f7"
            ],
            [
             0.6,
             "#e6f5d0"
            ],
            [
             0.7,
             "#b8e186"
            ],
            [
             0.8,
             "#7fbc41"
            ],
            [
             0.9,
             "#4d9221"
            ],
            [
             1,
             "#276419"
            ]
           ],
           "sequential": [
            [
             0,
             "#0d0887"
            ],
            [
             0.1111111111111111,
             "#46039f"
            ],
            [
             0.2222222222222222,
             "#7201a8"
            ],
            [
             0.3333333333333333,
             "#9c179e"
            ],
            [
             0.4444444444444444,
             "#bd3786"
            ],
            [
             0.5555555555555556,
             "#d8576b"
            ],
            [
             0.6666666666666666,
             "#ed7953"
            ],
            [
             0.7777777777777778,
             "#fb9f3a"
            ],
            [
             0.8888888888888888,
             "#fdca26"
            ],
            [
             1,
             "#f0f921"
            ]
           ],
           "sequentialminus": [
            [
             0,
             "#0d0887"
            ],
            [
             0.1111111111111111,
             "#46039f"
            ],
            [
             0.2222222222222222,
             "#7201a8"
            ],
            [
             0.3333333333333333,
             "#9c179e"
            ],
            [
             0.4444444444444444,
             "#bd3786"
            ],
            [
             0.5555555555555556,
             "#d8576b"
            ],
            [
             0.6666666666666666,
             "#ed7953"
            ],
            [
             0.7777777777777778,
             "#fb9f3a"
            ],
            [
             0.8888888888888888,
             "#fdca26"
            ],
            [
             1,
             "#f0f921"
            ]
           ]
          },
          "colorway": [
           "#636efa",
           "#EF553B",
           "#00cc96",
           "#ab63fa",
           "#FFA15A",
           "#19d3f3",
           "#FF6692",
           "#B6E880",
           "#FF97FF",
           "#FECB52"
          ],
          "font": {
           "color": "#2a3f5f"
          },
          "geo": {
           "bgcolor": "white",
           "lakecolor": "white",
           "landcolor": "#E5ECF6",
           "showlakes": true,
           "showland": true,
           "subunitcolor": "white"
          },
          "hoverlabel": {
           "align": "left"
          },
          "hovermode": "closest",
          "mapbox": {
           "style": "light"
          },
          "paper_bgcolor": "white",
          "plot_bgcolor": "#E5ECF6",
          "polar": {
           "angularaxis": {
            "gridcolor": "white",
            "linecolor": "white",
            "ticks": ""
           },
           "bgcolor": "#E5ECF6",
           "radialaxis": {
            "gridcolor": "white",
            "linecolor": "white",
            "ticks": ""
           }
          },
          "scene": {
           "xaxis": {
            "backgroundcolor": "#E5ECF6",
            "gridcolor": "white",
            "gridwidth": 2,
            "linecolor": "white",
            "showbackground": true,
            "ticks": "",
            "zerolinecolor": "white"
           },
           "yaxis": {
            "backgroundcolor": "#E5ECF6",
            "gridcolor": "white",
            "gridwidth": 2,
            "linecolor": "white",
            "showbackground": true,
            "ticks": "",
            "zerolinecolor": "white"
           },
           "zaxis": {
            "backgroundcolor": "#E5ECF6",
            "gridcolor": "white",
            "gridwidth": 2,
            "linecolor": "white",
            "showbackground": true,
            "ticks": "",
            "zerolinecolor": "white"
           }
          },
          "shapedefaults": {
           "line": {
            "color": "#2a3f5f"
           }
          },
          "ternary": {
           "aaxis": {
            "gridcolor": "white",
            "linecolor": "white",
            "ticks": ""
           },
           "baxis": {
            "gridcolor": "white",
            "linecolor": "white",
            "ticks": ""
           },
           "bgcolor": "#E5ECF6",
           "caxis": {
            "gridcolor": "white",
            "linecolor": "white",
            "ticks": ""
           }
          },
          "title": {
           "x": 0.05
          },
          "xaxis": {
           "automargin": true,
           "gridcolor": "white",
           "linecolor": "white",
           "ticks": "",
           "title": {
            "standoff": 15
           },
           "zerolinecolor": "white",
           "zerolinewidth": 2
          },
          "yaxis": {
           "automargin": true,
           "gridcolor": "white",
           "linecolor": "white",
           "ticks": "",
           "title": {
            "standoff": 15
           },
           "zerolinecolor": "white",
           "zerolinewidth": 2
          }
         }
        },
        "title": {
         "text": "Cryptocurrency Correlation Matrix"
        },
        "width": 800,
        "xaxis": {
         "anchor": "y",
         "constrain": "domain",
         "domain": [
          0,
          1
         ],
         "scaleanchor": "y",
         "title": {
          "text": "Cryptocurrency"
         }
        },
        "yaxis": {
         "anchor": "x",
         "autorange": "reversed",
         "constrain": "domain",
         "domain": [
          0,
          1
         ],
         "title": {
          "text": "Cryptocurrency"
         }
        }
       }
      }
     },
     "metadata": {},
     "output_type": "display_data"
    }
   ],
   "source": [
    "# Create the heatmap\n",
    "fig = px.imshow(\n",
    "    correlation_matrix,  # The correlation matrix\n",
    "    labels=dict(x=\"Cryptocurrency\", y=\"Cryptocurrency\", color=\"Correlation\"),  # Axis labels\n",
    "    x=correlation_matrix.columns,  # X-axis labels (cryptocurrencies)\n",
    "    y=correlation_matrix.index,    # Y-axis labels (cryptocurrencies)\n",
    "    #text_auto=True,  # Display correlation values on the heatmap\n",
    "    color_continuous_scale='RdBu',  # Color scale\n",
    "    title=\"Cryptocurrency Correlation Matrix\"  # Title of the plot\n",
    ")\n",
    "\n",
    "# Update layout for better readability\n",
    "fig.update_layout(\n",
    "    xaxis_title=\"Cryptocurrency\",\n",
    "    yaxis_title=\"Cryptocurrency\",\n",
    "    width=800,  # Width of the plot\n",
    "    height=800,  # Height of the plot\n",
    ")\n",
    "\n",
    "# Show the plot\n",
    "fig.show()"
   ]
  },
  {
   "cell_type": "code",
   "execution_count": null,
   "id": "8583fbe8",
   "metadata": {},
   "outputs": [],
   "source": []
  }
 ],
 "metadata": {
  "kernelspec": {
   "display_name": "crypto",
   "language": "python",
   "name": "python3"
  },
  "language_info": {
   "codemirror_mode": {
    "name": "ipython",
    "version": 3
   },
   "file_extension": ".py",
   "mimetype": "text/x-python",
   "name": "python",
   "nbconvert_exporter": "python",
   "pygments_lexer": "ipython3",
   "version": "3.9.21"
  }
 },
 "nbformat": 4,
 "nbformat_minor": 5
}
