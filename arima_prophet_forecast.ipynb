{
 "cells": [
  {
   "cell_type": "code",
   "execution_count": 39,
   "id": "e5ed26bf",
   "metadata": {},
   "outputs": [],
   "source": [
    "import pandas as pd\n",
    "from pycaret.time_series import *\n",
    "import matplotlib.pyplot as plt\n",
    "from fetch_data import fetch_data"
   ]
  },
  {
   "cell_type": "code",
   "execution_count": 53,
   "id": "f872554e",
   "metadata": {},
   "outputs": [
    {
     "name": "stderr",
     "output_type": "stream",
     "text": [
      "[*********************100%***********************]  30 of 30 completed\n"
     ]
    }
   ],
   "source": [
    "df = fetch_data()"
   ]
  },
  {
   "cell_type": "code",
   "execution_count": 54,
   "id": "811ccd1b",
   "metadata": {},
   "outputs": [],
   "source": [
    "df.index = pd.to_datetime(df.index)\n",
    "df = df.sort_index()"
   ]
  },
  {
   "cell_type": "code",
   "execution_count": 55,
   "id": "5348b02a",
   "metadata": {},
   "outputs": [
    {
     "data": {
      "text/html": [
       "<div>\n",
       "<style scoped>\n",
       "    .dataframe tbody tr th:only-of-type {\n",
       "        vertical-align: middle;\n",
       "    }\n",
       "\n",
       "    .dataframe tbody tr th {\n",
       "        vertical-align: top;\n",
       "    }\n",
       "\n",
       "    .dataframe thead th {\n",
       "        text-align: right;\n",
       "    }\n",
       "</style>\n",
       "<table border=\"1\" class=\"dataframe\">\n",
       "  <thead>\n",
       "    <tr style=\"text-align: right;\">\n",
       "      <th></th>\n",
       "      <th>AAVE-USD</th>\n",
       "      <th>ADA-USD</th>\n",
       "      <th>ALGO-USD</th>\n",
       "      <th>ATOM-USD</th>\n",
       "      <th>AVAX-USD</th>\n",
       "      <th>BCH-USD</th>\n",
       "      <th>BNB-USD</th>\n",
       "      <th>BTC-USD</th>\n",
       "      <th>CHR-USD</th>\n",
       "      <th>DASH-USD</th>\n",
       "      <th>...</th>\n",
       "      <th>SOL-USD</th>\n",
       "      <th>THETA-USD</th>\n",
       "      <th>TRX-USD</th>\n",
       "      <th>UNI-USD</th>\n",
       "      <th>USDT-USD</th>\n",
       "      <th>VET-USD</th>\n",
       "      <th>WIF-USD</th>\n",
       "      <th>XLM-USD</th>\n",
       "      <th>XMR-USD</th>\n",
       "      <th>XRP-USD</th>\n",
       "    </tr>\n",
       "    <tr>\n",
       "      <th>Date</th>\n",
       "      <th></th>\n",
       "      <th></th>\n",
       "      <th></th>\n",
       "      <th></th>\n",
       "      <th></th>\n",
       "      <th></th>\n",
       "      <th></th>\n",
       "      <th></th>\n",
       "      <th></th>\n",
       "      <th></th>\n",
       "      <th></th>\n",
       "      <th></th>\n",
       "      <th></th>\n",
       "      <th></th>\n",
       "      <th></th>\n",
       "      <th></th>\n",
       "      <th></th>\n",
       "      <th></th>\n",
       "      <th></th>\n",
       "      <th></th>\n",
       "      <th></th>\n",
       "    </tr>\n",
       "  </thead>\n",
       "  <tbody>\n",
       "    <tr>\n",
       "      <th>2024-04-09</th>\n",
       "      <td>126.033913</td>\n",
       "      <td>0.591893</td>\n",
       "      <td>0.231800</td>\n",
       "      <td>10.835424</td>\n",
       "      <td>46.470196</td>\n",
       "      <td>672.589905</td>\n",
       "      <td>580.830322</td>\n",
       "      <td>69139.015625</td>\n",
       "      <td>0.398988</td>\n",
       "      <td>37.014671</td>\n",
       "      <td>...</td>\n",
       "      <td>172.413620</td>\n",
       "      <td>2.868446</td>\n",
       "      <td>0.121078</td>\n",
       "      <td>0.000208</td>\n",
       "      <td>0.999763</td>\n",
       "      <td>0.043554</td>\n",
       "      <td>3.588037</td>\n",
       "      <td>0.132163</td>\n",
       "      <td>133.521011</td>\n",
       "      <td>0.613817</td>\n",
       "    </tr>\n",
       "    <tr>\n",
       "      <th>2024-04-10</th>\n",
       "      <td>128.232162</td>\n",
       "      <td>0.586255</td>\n",
       "      <td>0.230523</td>\n",
       "      <td>10.810778</td>\n",
       "      <td>47.311695</td>\n",
       "      <td>629.482422</td>\n",
       "      <td>610.083923</td>\n",
       "      <td>70587.882812</td>\n",
       "      <td>0.394212</td>\n",
       "      <td>36.969437</td>\n",
       "      <td>...</td>\n",
       "      <td>173.437363</td>\n",
       "      <td>3.035096</td>\n",
       "      <td>0.119206</td>\n",
       "      <td>0.000212</td>\n",
       "      <td>1.000117</td>\n",
       "      <td>0.046501</td>\n",
       "      <td>3.624916</td>\n",
       "      <td>0.129653</td>\n",
       "      <td>133.582016</td>\n",
       "      <td>0.617561</td>\n",
       "    </tr>\n",
       "    <tr>\n",
       "      <th>2024-04-11</th>\n",
       "      <td>117.844589</td>\n",
       "      <td>0.586191</td>\n",
       "      <td>0.227998</td>\n",
       "      <td>10.755186</td>\n",
       "      <td>46.057598</td>\n",
       "      <td>614.317261</td>\n",
       "      <td>604.893799</td>\n",
       "      <td>70060.609375</td>\n",
       "      <td>0.392901</td>\n",
       "      <td>36.866966</td>\n",
       "      <td>...</td>\n",
       "      <td>172.576370</td>\n",
       "      <td>2.901548</td>\n",
       "      <td>0.120403</td>\n",
       "      <td>0.000210</td>\n",
       "      <td>1.000550</td>\n",
       "      <td>0.048192</td>\n",
       "      <td>3.459283</td>\n",
       "      <td>0.130300</td>\n",
       "      <td>133.369156</td>\n",
       "      <td>0.608880</td>\n",
       "    </tr>\n",
       "    <tr>\n",
       "      <th>2024-04-12</th>\n",
       "      <td>100.094933</td>\n",
       "      <td>0.503575</td>\n",
       "      <td>0.194067</td>\n",
       "      <td>9.387263</td>\n",
       "      <td>39.417744</td>\n",
       "      <td>534.766052</td>\n",
       "      <td>596.380127</td>\n",
       "      <td>67195.867188</td>\n",
       "      <td>0.334552</td>\n",
       "      <td>31.887470</td>\n",
       "      <td>...</td>\n",
       "      <td>153.635468</td>\n",
       "      <td>2.439062</td>\n",
       "      <td>0.114880</td>\n",
       "      <td>0.000202</td>\n",
       "      <td>1.000448</td>\n",
       "      <td>0.043033</td>\n",
       "      <td>2.672439</td>\n",
       "      <td>0.115299</td>\n",
       "      <td>122.996651</td>\n",
       "      <td>0.548414</td>\n",
       "    </tr>\n",
       "    <tr>\n",
       "      <th>2024-04-13</th>\n",
       "      <td>82.869781</td>\n",
       "      <td>0.447908</td>\n",
       "      <td>0.168352</td>\n",
       "      <td>8.092050</td>\n",
       "      <td>34.078411</td>\n",
       "      <td>481.483765</td>\n",
       "      <td>554.299805</td>\n",
       "      <td>63821.472656</td>\n",
       "      <td>0.326007</td>\n",
       "      <td>28.300234</td>\n",
       "      <td>...</td>\n",
       "      <td>139.341690</td>\n",
       "      <td>1.995765</td>\n",
       "      <td>0.110303</td>\n",
       "      <td>0.000192</td>\n",
       "      <td>1.001213</td>\n",
       "      <td>0.040311</td>\n",
       "      <td>2.345739</td>\n",
       "      <td>0.105686</td>\n",
       "      <td>115.678329</td>\n",
       "      <td>0.480819</td>\n",
       "    </tr>\n",
       "  </tbody>\n",
       "</table>\n",
       "<p>5 rows × 30 columns</p>\n",
       "</div>"
      ],
      "text/plain": [
       "              AAVE-USD   ADA-USD  ALGO-USD   ATOM-USD   AVAX-USD     BCH-USD  \\\n",
       "Date                                                                           \n",
       "2024-04-09  126.033913  0.591893  0.231800  10.835424  46.470196  672.589905   \n",
       "2024-04-10  128.232162  0.586255  0.230523  10.810778  47.311695  629.482422   \n",
       "2024-04-11  117.844589  0.586191  0.227998  10.755186  46.057598  614.317261   \n",
       "2024-04-12  100.094933  0.503575  0.194067   9.387263  39.417744  534.766052   \n",
       "2024-04-13   82.869781  0.447908  0.168352   8.092050  34.078411  481.483765   \n",
       "\n",
       "               BNB-USD       BTC-USD   CHR-USD   DASH-USD  ...     SOL-USD  \\\n",
       "Date                                                       ...               \n",
       "2024-04-09  580.830322  69139.015625  0.398988  37.014671  ...  172.413620   \n",
       "2024-04-10  610.083923  70587.882812  0.394212  36.969437  ...  173.437363   \n",
       "2024-04-11  604.893799  70060.609375  0.392901  36.866966  ...  172.576370   \n",
       "2024-04-12  596.380127  67195.867188  0.334552  31.887470  ...  153.635468   \n",
       "2024-04-13  554.299805  63821.472656  0.326007  28.300234  ...  139.341690   \n",
       "\n",
       "            THETA-USD   TRX-USD   UNI-USD  USDT-USD   VET-USD   WIF-USD  \\\n",
       "Date                                                                      \n",
       "2024-04-09   2.868446  0.121078  0.000208  0.999763  0.043554  3.588037   \n",
       "2024-04-10   3.035096  0.119206  0.000212  1.000117  0.046501  3.624916   \n",
       "2024-04-11   2.901548  0.120403  0.000210  1.000550  0.048192  3.459283   \n",
       "2024-04-12   2.439062  0.114880  0.000202  1.000448  0.043033  2.672439   \n",
       "2024-04-13   1.995765  0.110303  0.000192  1.001213  0.040311  2.345739   \n",
       "\n",
       "             XLM-USD     XMR-USD   XRP-USD  \n",
       "Date                                        \n",
       "2024-04-09  0.132163  133.521011  0.613817  \n",
       "2024-04-10  0.129653  133.582016  0.617561  \n",
       "2024-04-11  0.130300  133.369156  0.608880  \n",
       "2024-04-12  0.115299  122.996651  0.548414  \n",
       "2024-04-13  0.105686  115.678329  0.480819  \n",
       "\n",
       "[5 rows x 30 columns]"
      ]
     },
     "execution_count": 55,
     "metadata": {},
     "output_type": "execute_result"
    }
   ],
   "source": [
    "df.head()"
   ]
  },
  {
   "cell_type": "code",
   "execution_count": 76,
   "id": "896ba889",
   "metadata": {},
   "outputs": [
    {
     "name": "stdout",
     "output_type": "stream",
     "text": [
      "<class 'pandas.core.series.Series'>\n",
      "DatetimeIndex: 365 entries, 2024-04-09 to 2025-04-08\n",
      "Series name: BTC-USD\n",
      "Non-Null Count  Dtype  \n",
      "--------------  -----  \n",
      "365 non-null    float64\n",
      "dtypes: float64(1)\n",
      "memory usage: 5.7 KB\n"
     ]
    }
   ],
   "source": [
    "btc = df.loc[:,'BTC-USD']\n",
    "btc.info()"
   ]
  },
  {
   "cell_type": "code",
   "execution_count": 87,
   "id": "9956986e",
   "metadata": {},
   "outputs": [
    {
     "data": {
      "text/html": [
       "<style type=\"text/css\">\n",
       "#T_67d53_row25_col1, #T_67d53_row31_col1 {\n",
       "  background-color: lightgreen;\n",
       "}\n",
       "</style>\n",
       "<table id=\"T_67d53\">\n",
       "  <thead>\n",
       "    <tr>\n",
       "      <th class=\"blank level0\" >&nbsp;</th>\n",
       "      <th id=\"T_67d53_level0_col0\" class=\"col_heading level0 col0\" >Description</th>\n",
       "      <th id=\"T_67d53_level0_col1\" class=\"col_heading level0 col1\" >Value</th>\n",
       "    </tr>\n",
       "  </thead>\n",
       "  <tbody>\n",
       "    <tr>\n",
       "      <th id=\"T_67d53_level0_row0\" class=\"row_heading level0 row0\" >0</th>\n",
       "      <td id=\"T_67d53_row0_col0\" class=\"data row0 col0\" >session_id</td>\n",
       "      <td id=\"T_67d53_row0_col1\" class=\"data row0 col1\" >123</td>\n",
       "    </tr>\n",
       "    <tr>\n",
       "      <th id=\"T_67d53_level0_row1\" class=\"row_heading level0 row1\" >1</th>\n",
       "      <td id=\"T_67d53_row1_col0\" class=\"data row1 col0\" >Target</td>\n",
       "      <td id=\"T_67d53_row1_col1\" class=\"data row1 col1\" >BTC-USD</td>\n",
       "    </tr>\n",
       "    <tr>\n",
       "      <th id=\"T_67d53_level0_row2\" class=\"row_heading level0 row2\" >2</th>\n",
       "      <td id=\"T_67d53_row2_col0\" class=\"data row2 col0\" >Approach</td>\n",
       "      <td id=\"T_67d53_row2_col1\" class=\"data row2 col1\" >Univariate</td>\n",
       "    </tr>\n",
       "    <tr>\n",
       "      <th id=\"T_67d53_level0_row3\" class=\"row_heading level0 row3\" >3</th>\n",
       "      <td id=\"T_67d53_row3_col0\" class=\"data row3 col0\" >Exogenous Variables</td>\n",
       "      <td id=\"T_67d53_row3_col1\" class=\"data row3 col1\" >Not Present</td>\n",
       "    </tr>\n",
       "    <tr>\n",
       "      <th id=\"T_67d53_level0_row4\" class=\"row_heading level0 row4\" >4</th>\n",
       "      <td id=\"T_67d53_row4_col0\" class=\"data row4 col0\" >Original data shape</td>\n",
       "      <td id=\"T_67d53_row4_col1\" class=\"data row4 col1\" >(365, 1)</td>\n",
       "    </tr>\n",
       "    <tr>\n",
       "      <th id=\"T_67d53_level0_row5\" class=\"row_heading level0 row5\" >5</th>\n",
       "      <td id=\"T_67d53_row5_col0\" class=\"data row5 col0\" >Transformed data shape</td>\n",
       "      <td id=\"T_67d53_row5_col1\" class=\"data row5 col1\" >(365, 1)</td>\n",
       "    </tr>\n",
       "    <tr>\n",
       "      <th id=\"T_67d53_level0_row6\" class=\"row_heading level0 row6\" >6</th>\n",
       "      <td id=\"T_67d53_row6_col0\" class=\"data row6 col0\" >Transformed train set shape</td>\n",
       "      <td id=\"T_67d53_row6_col1\" class=\"data row6 col1\" >(335, 1)</td>\n",
       "    </tr>\n",
       "    <tr>\n",
       "      <th id=\"T_67d53_level0_row7\" class=\"row_heading level0 row7\" >7</th>\n",
       "      <td id=\"T_67d53_row7_col0\" class=\"data row7 col0\" >Transformed test set shape</td>\n",
       "      <td id=\"T_67d53_row7_col1\" class=\"data row7 col1\" >(30, 1)</td>\n",
       "    </tr>\n",
       "    <tr>\n",
       "      <th id=\"T_67d53_level0_row8\" class=\"row_heading level0 row8\" >8</th>\n",
       "      <td id=\"T_67d53_row8_col0\" class=\"data row8 col0\" >Rows with missing values</td>\n",
       "      <td id=\"T_67d53_row8_col1\" class=\"data row8 col1\" >0.0%</td>\n",
       "    </tr>\n",
       "    <tr>\n",
       "      <th id=\"T_67d53_level0_row9\" class=\"row_heading level0 row9\" >9</th>\n",
       "      <td id=\"T_67d53_row9_col0\" class=\"data row9 col0\" >Fold Generator</td>\n",
       "      <td id=\"T_67d53_row9_col1\" class=\"data row9 col1\" >ExpandingWindowSplitter</td>\n",
       "    </tr>\n",
       "    <tr>\n",
       "      <th id=\"T_67d53_level0_row10\" class=\"row_heading level0 row10\" >10</th>\n",
       "      <td id=\"T_67d53_row10_col0\" class=\"data row10 col0\" >Fold Number</td>\n",
       "      <td id=\"T_67d53_row10_col1\" class=\"data row10 col1\" >3</td>\n",
       "    </tr>\n",
       "    <tr>\n",
       "      <th id=\"T_67d53_level0_row11\" class=\"row_heading level0 row11\" >11</th>\n",
       "      <td id=\"T_67d53_row11_col0\" class=\"data row11 col0\" >Enforce Prediction Interval</td>\n",
       "      <td id=\"T_67d53_row11_col1\" class=\"data row11 col1\" >False</td>\n",
       "    </tr>\n",
       "    <tr>\n",
       "      <th id=\"T_67d53_level0_row12\" class=\"row_heading level0 row12\" >12</th>\n",
       "      <td id=\"T_67d53_row12_col0\" class=\"data row12 col0\" >Splits used for hyperparameters</td>\n",
       "      <td id=\"T_67d53_row12_col1\" class=\"data row12 col1\" >all</td>\n",
       "    </tr>\n",
       "    <tr>\n",
       "      <th id=\"T_67d53_level0_row13\" class=\"row_heading level0 row13\" >13</th>\n",
       "      <td id=\"T_67d53_row13_col0\" class=\"data row13 col0\" >User Defined Seasonal Period(s)</td>\n",
       "      <td id=\"T_67d53_row13_col1\" class=\"data row13 col1\" >D</td>\n",
       "    </tr>\n",
       "    <tr>\n",
       "      <th id=\"T_67d53_level0_row14\" class=\"row_heading level0 row14\" >14</th>\n",
       "      <td id=\"T_67d53_row14_col0\" class=\"data row14 col0\" >Ignore Seasonality Test</td>\n",
       "      <td id=\"T_67d53_row14_col1\" class=\"data row14 col1\" >False</td>\n",
       "    </tr>\n",
       "    <tr>\n",
       "      <th id=\"T_67d53_level0_row15\" class=\"row_heading level0 row15\" >15</th>\n",
       "      <td id=\"T_67d53_row15_col0\" class=\"data row15 col0\" >Seasonality Detection Algo</td>\n",
       "      <td id=\"T_67d53_row15_col1\" class=\"data row15 col1\" >user_defined</td>\n",
       "    </tr>\n",
       "    <tr>\n",
       "      <th id=\"T_67d53_level0_row16\" class=\"row_heading level0 row16\" >16</th>\n",
       "      <td id=\"T_67d53_row16_col0\" class=\"data row16 col0\" >Max Period to Consider</td>\n",
       "      <td id=\"T_67d53_row16_col1\" class=\"data row16 col1\" >60</td>\n",
       "    </tr>\n",
       "    <tr>\n",
       "      <th id=\"T_67d53_level0_row17\" class=\"row_heading level0 row17\" >17</th>\n",
       "      <td id=\"T_67d53_row17_col0\" class=\"data row17 col0\" >Seasonal Period(s) Tested</td>\n",
       "      <td id=\"T_67d53_row17_col1\" class=\"data row17 col1\" >[7]</td>\n",
       "    </tr>\n",
       "    <tr>\n",
       "      <th id=\"T_67d53_level0_row18\" class=\"row_heading level0 row18\" >18</th>\n",
       "      <td id=\"T_67d53_row18_col0\" class=\"data row18 col0\" >Significant Seasonal Period(s)</td>\n",
       "      <td id=\"T_67d53_row18_col1\" class=\"data row18 col1\" >[7]</td>\n",
       "    </tr>\n",
       "    <tr>\n",
       "      <th id=\"T_67d53_level0_row19\" class=\"row_heading level0 row19\" >19</th>\n",
       "      <td id=\"T_67d53_row19_col0\" class=\"data row19 col0\" >Significant Seasonal Period(s) without Harmonics</td>\n",
       "      <td id=\"T_67d53_row19_col1\" class=\"data row19 col1\" >[7]</td>\n",
       "    </tr>\n",
       "    <tr>\n",
       "      <th id=\"T_67d53_level0_row20\" class=\"row_heading level0 row20\" >20</th>\n",
       "      <td id=\"T_67d53_row20_col0\" class=\"data row20 col0\" >Remove Harmonics</td>\n",
       "      <td id=\"T_67d53_row20_col1\" class=\"data row20 col1\" >False</td>\n",
       "    </tr>\n",
       "    <tr>\n",
       "      <th id=\"T_67d53_level0_row21\" class=\"row_heading level0 row21\" >21</th>\n",
       "      <td id=\"T_67d53_row21_col0\" class=\"data row21 col0\" >Harmonics Order Method</td>\n",
       "      <td id=\"T_67d53_row21_col1\" class=\"data row21 col1\" >harmonic_max</td>\n",
       "    </tr>\n",
       "    <tr>\n",
       "      <th id=\"T_67d53_level0_row22\" class=\"row_heading level0 row22\" >22</th>\n",
       "      <td id=\"T_67d53_row22_col0\" class=\"data row22 col0\" >Num Seasonalities to Use</td>\n",
       "      <td id=\"T_67d53_row22_col1\" class=\"data row22 col1\" >1</td>\n",
       "    </tr>\n",
       "    <tr>\n",
       "      <th id=\"T_67d53_level0_row23\" class=\"row_heading level0 row23\" >23</th>\n",
       "      <td id=\"T_67d53_row23_col0\" class=\"data row23 col0\" >All Seasonalities to Use</td>\n",
       "      <td id=\"T_67d53_row23_col1\" class=\"data row23 col1\" >[7]</td>\n",
       "    </tr>\n",
       "    <tr>\n",
       "      <th id=\"T_67d53_level0_row24\" class=\"row_heading level0 row24\" >24</th>\n",
       "      <td id=\"T_67d53_row24_col0\" class=\"data row24 col0\" >Primary Seasonality</td>\n",
       "      <td id=\"T_67d53_row24_col1\" class=\"data row24 col1\" >7</td>\n",
       "    </tr>\n",
       "    <tr>\n",
       "      <th id=\"T_67d53_level0_row25\" class=\"row_heading level0 row25\" >25</th>\n",
       "      <td id=\"T_67d53_row25_col0\" class=\"data row25 col0\" >Seasonality Present</td>\n",
       "      <td id=\"T_67d53_row25_col1\" class=\"data row25 col1\" >True</td>\n",
       "    </tr>\n",
       "    <tr>\n",
       "      <th id=\"T_67d53_level0_row26\" class=\"row_heading level0 row26\" >26</th>\n",
       "      <td id=\"T_67d53_row26_col0\" class=\"data row26 col0\" >Seasonality Type</td>\n",
       "      <td id=\"T_67d53_row26_col1\" class=\"data row26 col1\" >mul</td>\n",
       "    </tr>\n",
       "    <tr>\n",
       "      <th id=\"T_67d53_level0_row27\" class=\"row_heading level0 row27\" >27</th>\n",
       "      <td id=\"T_67d53_row27_col0\" class=\"data row27 col0\" >Target Strictly Positive</td>\n",
       "      <td id=\"T_67d53_row27_col1\" class=\"data row27 col1\" >True</td>\n",
       "    </tr>\n",
       "    <tr>\n",
       "      <th id=\"T_67d53_level0_row28\" class=\"row_heading level0 row28\" >28</th>\n",
       "      <td id=\"T_67d53_row28_col0\" class=\"data row28 col0\" >Target White Noise</td>\n",
       "      <td id=\"T_67d53_row28_col1\" class=\"data row28 col1\" >No</td>\n",
       "    </tr>\n",
       "    <tr>\n",
       "      <th id=\"T_67d53_level0_row29\" class=\"row_heading level0 row29\" >29</th>\n",
       "      <td id=\"T_67d53_row29_col0\" class=\"data row29 col0\" >Recommended d</td>\n",
       "      <td id=\"T_67d53_row29_col1\" class=\"data row29 col1\" >1</td>\n",
       "    </tr>\n",
       "    <tr>\n",
       "      <th id=\"T_67d53_level0_row30\" class=\"row_heading level0 row30\" >30</th>\n",
       "      <td id=\"T_67d53_row30_col0\" class=\"data row30 col0\" >Recommended Seasonal D</td>\n",
       "      <td id=\"T_67d53_row30_col1\" class=\"data row30 col1\" >0</td>\n",
       "    </tr>\n",
       "    <tr>\n",
       "      <th id=\"T_67d53_level0_row31\" class=\"row_heading level0 row31\" >31</th>\n",
       "      <td id=\"T_67d53_row31_col0\" class=\"data row31 col0\" >Preprocess</td>\n",
       "      <td id=\"T_67d53_row31_col1\" class=\"data row31 col1\" >True</td>\n",
       "    </tr>\n",
       "    <tr>\n",
       "      <th id=\"T_67d53_level0_row32\" class=\"row_heading level0 row32\" >32</th>\n",
       "      <td id=\"T_67d53_row32_col0\" class=\"data row32 col0\" >Numerical Imputation (Target)</td>\n",
       "      <td id=\"T_67d53_row32_col1\" class=\"data row32 col1\" >drift</td>\n",
       "    </tr>\n",
       "    <tr>\n",
       "      <th id=\"T_67d53_level0_row33\" class=\"row_heading level0 row33\" >33</th>\n",
       "      <td id=\"T_67d53_row33_col0\" class=\"data row33 col0\" >Transformation (Target)</td>\n",
       "      <td id=\"T_67d53_row33_col1\" class=\"data row33 col1\" >log</td>\n",
       "    </tr>\n",
       "    <tr>\n",
       "      <th id=\"T_67d53_level0_row34\" class=\"row_heading level0 row34\" >34</th>\n",
       "      <td id=\"T_67d53_row34_col0\" class=\"data row34 col0\" >Scaling (Target)</td>\n",
       "      <td id=\"T_67d53_row34_col1\" class=\"data row34 col1\" >None</td>\n",
       "    </tr>\n",
       "    <tr>\n",
       "      <th id=\"T_67d53_level0_row35\" class=\"row_heading level0 row35\" >35</th>\n",
       "      <td id=\"T_67d53_row35_col0\" class=\"data row35 col0\" >Feature Engineering (Target) - Reduced Regression</td>\n",
       "      <td id=\"T_67d53_row35_col1\" class=\"data row35 col1\" >False</td>\n",
       "    </tr>\n",
       "    <tr>\n",
       "      <th id=\"T_67d53_level0_row36\" class=\"row_heading level0 row36\" >36</th>\n",
       "      <td id=\"T_67d53_row36_col0\" class=\"data row36 col0\" >CPU Jobs</td>\n",
       "      <td id=\"T_67d53_row36_col1\" class=\"data row36 col1\" >-1</td>\n",
       "    </tr>\n",
       "    <tr>\n",
       "      <th id=\"T_67d53_level0_row37\" class=\"row_heading level0 row37\" >37</th>\n",
       "      <td id=\"T_67d53_row37_col0\" class=\"data row37 col0\" >Use GPU</td>\n",
       "      <td id=\"T_67d53_row37_col1\" class=\"data row37 col1\" >False</td>\n",
       "    </tr>\n",
       "    <tr>\n",
       "      <th id=\"T_67d53_level0_row38\" class=\"row_heading level0 row38\" >38</th>\n",
       "      <td id=\"T_67d53_row38_col0\" class=\"data row38 col0\" >Log Experiment</td>\n",
       "      <td id=\"T_67d53_row38_col1\" class=\"data row38 col1\" >False</td>\n",
       "    </tr>\n",
       "    <tr>\n",
       "      <th id=\"T_67d53_level0_row39\" class=\"row_heading level0 row39\" >39</th>\n",
       "      <td id=\"T_67d53_row39_col0\" class=\"data row39 col0\" >Experiment Name</td>\n",
       "      <td id=\"T_67d53_row39_col1\" class=\"data row39 col1\" >ts-default-name</td>\n",
       "    </tr>\n",
       "    <tr>\n",
       "      <th id=\"T_67d53_level0_row40\" class=\"row_heading level0 row40\" >40</th>\n",
       "      <td id=\"T_67d53_row40_col0\" class=\"data row40 col0\" >USI</td>\n",
       "      <td id=\"T_67d53_row40_col1\" class=\"data row40 col1\" >b8b9</td>\n",
       "    </tr>\n",
       "  </tbody>\n",
       "</table>\n"
      ],
      "text/plain": [
       "<pandas.io.formats.style.Styler at 0x198743f6250>"
      ]
     },
     "metadata": {},
     "output_type": "display_data"
    }
   ],
   "source": [
    "# Set up PyCaret environment\n",
    "s = setup(data=btc, \n",
    "          target = 'BTC-USD',\n",
    "          transform_target='log',\n",
    "          fh=30,  # Forecast horizon\n",
    "          session_id=123,\n",
    "          fold_strategy='expanding',\n",
    "          seasonal_period='D',\n",
    "          #fold_spans=\"adaptive\",\n",
    "          numeric_imputation_target = 'drift')"
   ]
  },
  {
   "cell_type": "code",
   "execution_count": 78,
   "id": "d7fd741c",
   "metadata": {},
   "outputs": [
    {
     "data": {
      "text/html": [],
      "text/plain": [
       "<IPython.core.display.HTML object>"
      ]
     },
     "metadata": {},
     "output_type": "display_data"
    },
    {
     "data": {
      "text/html": [],
      "text/plain": [
       "<IPython.core.display.HTML object>"
      ]
     },
     "metadata": {},
     "output_type": "display_data"
    },
    {
     "data": {
      "text/html": [],
      "text/plain": [
       "<IPython.core.display.HTML object>"
      ]
     },
     "metadata": {},
     "output_type": "display_data"
    }
   ],
   "source": [
    "prophet = create_model('prophet')\n",
    "#arima = create_model('arima')"
   ]
  },
  {
   "cell_type": "code",
   "execution_count": 79,
   "id": "2ab863b1",
   "metadata": {},
   "outputs": [
    {
     "data": {
      "text/html": [],
      "text/plain": [
       "<IPython.core.display.HTML object>"
      ]
     },
     "metadata": {},
     "output_type": "display_data"
    },
    {
     "data": {
      "text/html": [
       "<style type=\"text/css\">\n",
       "#T_ea086_row3_col0, #T_ea086_row3_col1, #T_ea086_row3_col2, #T_ea086_row3_col3, #T_ea086_row3_col4, #T_ea086_row3_col5, #T_ea086_row3_col6, #T_ea086_row3_col7 {\n",
       "  background: yellow;\n",
       "}\n",
       "</style>\n",
       "<table id=\"T_ea086\">\n",
       "  <thead>\n",
       "    <tr>\n",
       "      <th class=\"blank level0\" >&nbsp;</th>\n",
       "      <th id=\"T_ea086_level0_col0\" class=\"col_heading level0 col0\" >cutoff</th>\n",
       "      <th id=\"T_ea086_level0_col1\" class=\"col_heading level0 col1\" >MASE</th>\n",
       "      <th id=\"T_ea086_level0_col2\" class=\"col_heading level0 col2\" >RMSSE</th>\n",
       "      <th id=\"T_ea086_level0_col3\" class=\"col_heading level0 col3\" >MAE</th>\n",
       "      <th id=\"T_ea086_level0_col4\" class=\"col_heading level0 col4\" >RMSE</th>\n",
       "      <th id=\"T_ea086_level0_col5\" class=\"col_heading level0 col5\" >MAPE</th>\n",
       "      <th id=\"T_ea086_level0_col6\" class=\"col_heading level0 col6\" >SMAPE</th>\n",
       "      <th id=\"T_ea086_level0_col7\" class=\"col_heading level0 col7\" >R2</th>\n",
       "    </tr>\n",
       "  </thead>\n",
       "  <tbody>\n",
       "    <tr>\n",
       "      <th id=\"T_ea086_level0_row0\" class=\"row_heading level0 row0\" >0</th>\n",
       "      <td id=\"T_ea086_row0_col0\" class=\"data row0 col0\" >2024-12-09</td>\n",
       "      <td id=\"T_ea086_row0_col1\" class=\"data row0 col1\" >4.9714</td>\n",
       "      <td id=\"T_ea086_row0_col2\" class=\"data row0 col2\" >4.1599</td>\n",
       "      <td id=\"T_ea086_row0_col3\" class=\"data row0 col3\" >17923.4752</td>\n",
       "      <td id=\"T_ea086_row0_col4\" class=\"data row0 col4\" >20043.7950</td>\n",
       "      <td id=\"T_ea086_row0_col5\" class=\"data row0 col5\" >0.1854</td>\n",
       "      <td id=\"T_ea086_row0_col6\" class=\"data row0 col6\" >0.1662</td>\n",
       "      <td id=\"T_ea086_row0_col7\" class=\"data row0 col7\" >-31.2155</td>\n",
       "    </tr>\n",
       "    <tr>\n",
       "      <th id=\"T_ea086_level0_row1\" class=\"row_heading level0 row1\" >1</th>\n",
       "      <td id=\"T_ea086_row1_col0\" class=\"data row1 col0\" >2025-01-08</td>\n",
       "      <td id=\"T_ea086_row1_col1\" class=\"data row1 col1\" >0.9293</td>\n",
       "      <td id=\"T_ea086_row1_col2\" class=\"data row1 col2\" >0.8667</td>\n",
       "      <td id=\"T_ea086_row1_col3\" class=\"data row1 col3\" >3386.0958</td>\n",
       "      <td id=\"T_ea086_row1_col4\" class=\"data row1 col4\" >4188.1435</td>\n",
       "      <td id=\"T_ea086_row1_col5\" class=\"data row1 col5\" >0.0346</td>\n",
       "      <td id=\"T_ea086_row1_col6\" class=\"data row1 col6\" >0.0338</td>\n",
       "      <td id=\"T_ea086_row1_col7\" class=\"data row1 col7\" >-0.1834</td>\n",
       "    </tr>\n",
       "    <tr>\n",
       "      <th id=\"T_ea086_level0_row2\" class=\"row_heading level0 row2\" >2</th>\n",
       "      <td id=\"T_ea086_row2_col0\" class=\"data row2 col0\" >2025-02-07</td>\n",
       "      <td id=\"T_ea086_row2_col1\" class=\"data row2 col1\" >2.3485</td>\n",
       "      <td id=\"T_ea086_row2_col2\" class=\"data row2 col2\" >2.1208</td>\n",
       "      <td id=\"T_ea086_row2_col3\" class=\"data row2 col3\" >8730.9984</td>\n",
       "      <td id=\"T_ea086_row2_col4\" class=\"data row2 col4\" >10356.5841</td>\n",
       "      <td id=\"T_ea086_row2_col5\" class=\"data row2 col5\" >0.0985</td>\n",
       "      <td id=\"T_ea086_row2_col6\" class=\"data row2 col6\" >0.0919</td>\n",
       "      <td id=\"T_ea086_row2_col7\" class=\"data row2 col7\" >-2.8370</td>\n",
       "    </tr>\n",
       "    <tr>\n",
       "      <th id=\"T_ea086_level0_row3\" class=\"row_heading level0 row3\" >Mean</th>\n",
       "      <td id=\"T_ea086_row3_col0\" class=\"data row3 col0\" >NaT</td>\n",
       "      <td id=\"T_ea086_row3_col1\" class=\"data row3 col1\" >2.7498</td>\n",
       "      <td id=\"T_ea086_row3_col2\" class=\"data row3 col2\" >2.3825</td>\n",
       "      <td id=\"T_ea086_row3_col3\" class=\"data row3 col3\" >10013.5232</td>\n",
       "      <td id=\"T_ea086_row3_col4\" class=\"data row3 col4\" >11529.5075</td>\n",
       "      <td id=\"T_ea086_row3_col5\" class=\"data row3 col5\" >0.1062</td>\n",
       "      <td id=\"T_ea086_row3_col6\" class=\"data row3 col6\" >0.0973</td>\n",
       "      <td id=\"T_ea086_row3_col7\" class=\"data row3 col7\" >-11.4120</td>\n",
       "    </tr>\n",
       "    <tr>\n",
       "      <th id=\"T_ea086_level0_row4\" class=\"row_heading level0 row4\" >SD</th>\n",
       "      <td id=\"T_ea086_row4_col0\" class=\"data row4 col0\" >NaT</td>\n",
       "      <td id=\"T_ea086_row4_col1\" class=\"data row4 col1\" >1.6744</td>\n",
       "      <td id=\"T_ea086_row4_col2\" class=\"data row4 col2\" >1.3571</td>\n",
       "      <td id=\"T_ea086_row4_col3\" class=\"data row4 col3\" >6003.7489</td>\n",
       "      <td id=\"T_ea086_row4_col4\" class=\"data row4 col4\" >6525.9601</td>\n",
       "      <td id=\"T_ea086_row4_col5\" class=\"data row4 col5\" >0.0618</td>\n",
       "      <td id=\"T_ea086_row4_col6\" class=\"data row4 col6\" >0.0542</td>\n",
       "      <td id=\"T_ea086_row4_col7\" class=\"data row4 col7\" >14.0450</td>\n",
       "    </tr>\n",
       "  </tbody>\n",
       "</table>\n"
      ],
      "text/plain": [
       "<pandas.io.formats.style.Styler at 0x198025b2b80>"
      ]
     },
     "metadata": {},
     "output_type": "display_data"
    },
    {
     "data": {
      "text/html": [],
      "text/plain": [
       "<IPython.core.display.HTML object>"
      ]
     },
     "metadata": {},
     "output_type": "display_data"
    },
    {
     "name": "stdout",
     "output_type": "stream",
     "text": [
      "Fitting 3 folds for each of 10 candidates, totalling 30 fits\n"
     ]
    },
    {
     "name": "stderr",
     "output_type": "stream",
     "text": [
      "[Parallel(n_jobs=-1)]: Using backend LokyBackend with 8 concurrent workers.\n",
      "[Parallel(n_jobs=-1)]: Done  30 out of  30 | elapsed:   15.2s finished\n"
     ]
    }
   ],
   "source": [
    "tuned_prophet = tune_model(prophet)\n",
    "#tuned_arima = tune_model(arima)"
   ]
  },
  {
   "cell_type": "code",
   "execution_count": 74,
   "id": "fa2f64a5",
   "metadata": {},
   "outputs": [
    {
     "name": "stdout",
     "output_type": "stream",
     "text": [
      "ProphetPeriodPatched(changepoint_prior_scale=0.19615118354865432,\n",
      "                     holidays_prior_scale=1.4906166728108328,\n",
      "                     seasonality_prior_scale=0.11835503996887899)\n"
     ]
    }
   ],
   "source": [
    "print(tuned_prophet)"
   ]
  },
  {
   "cell_type": "code",
   "execution_count": 80,
   "id": "279aaf67",
   "metadata": {},
   "outputs": [],
   "source": [
    "# Predictions\n",
    "final_prophet = finalize_model(tuned_prophet)\n",
    "#future_dates = pd.date_range(df.index[-1], periods=30, freq='D')\n",
    "prophet_predictions = predict_model(final_prophet)\n",
    "#arima_predictions = predict_model(tuned_arima, fh=30)"
   ]
  },
  {
   "cell_type": "code",
   "execution_count": 82,
   "id": "0937769b",
   "metadata": {},
   "outputs": [
    {
     "data": {
      "application/vnd.plotly.v1+json": {
       "config": {
        "plotlyServerURL": "https://plot.ly"
       },
       "data": [
        {
         "line": {
          "color": "#1f77b4"
         },
         "marker": {
          "size": 5
         },
         "mode": "lines+markers",
         "name": "Forecast | Prophet",
         "showlegend": true,
         "type": "scatter",
         "x": [
          "2025-04-09T00:00:00",
          "2025-04-10T00:00:00",
          "2025-04-11T00:00:00",
          "2025-04-12T00:00:00",
          "2025-04-13T00:00:00",
          "2025-04-14T00:00:00",
          "2025-04-15T00:00:00",
          "2025-04-16T00:00:00",
          "2025-04-17T00:00:00",
          "2025-04-18T00:00:00",
          "2025-04-19T00:00:00",
          "2025-04-20T00:00:00",
          "2025-04-21T00:00:00",
          "2025-04-22T00:00:00",
          "2025-04-23T00:00:00",
          "2025-04-24T00:00:00",
          "2025-04-25T00:00:00",
          "2025-04-26T00:00:00",
          "2025-04-27T00:00:00",
          "2025-04-28T00:00:00",
          "2025-04-29T00:00:00",
          "2025-04-30T00:00:00",
          "2025-05-01T00:00:00",
          "2025-05-02T00:00:00",
          "2025-05-03T00:00:00",
          "2025-05-04T00:00:00",
          "2025-05-05T00:00:00",
          "2025-05-06T00:00:00",
          "2025-05-07T00:00:00",
          "2025-05-08T00:00:00"
         ],
         "y": {
          "bdata": "lrIMcSo680Di6ZWyCx3zQHctIR9VG/NA6Nms+k4F80DCFyZTneLyQA4tsp3J0PJATtGRXDe98kCASL99L7PyQFdbsb8QlvJAYcPTK1qU8kBeS8gHVH7yQKyt2F+iW/JAhJ7Nqs5J8kA4Z0RpPDbyQPW52oo0LPJAQfFjzBUP8kBLWYY4Xw3yQEjhehRZ9/FAIR/0bKfU8UBuNIC308LxQK7YX3ZBr/FA30+Nlzml8UArhxbZGojxQMHKoUVkhvFAMnctIV5w8UALtaZ5rE3xQFjKMsTYO/FAmG4Sg0Yo8UDJ5T+kPh7xQKH4MeYfAfFA",
          "dtype": "f8"
         }
        },
        {
         "line": {
          "width": 0
         },
         "marker": {
          "color": "#68BBE3"
         },
         "mode": "lines",
         "name": "Lower Interval",
         "showlegend": false,
         "type": "scatter",
         "x": [
          "2025-04-09T00:00:00",
          "2025-04-10T00:00:00",
          "2025-04-11T00:00:00",
          "2025-04-12T00:00:00",
          "2025-04-13T00:00:00",
          "2025-04-14T00:00:00",
          "2025-04-15T00:00:00",
          "2025-04-16T00:00:00",
          "2025-04-17T00:00:00",
          "2025-04-18T00:00:00",
          "2025-04-19T00:00:00",
          "2025-04-20T00:00:00",
          "2025-04-21T00:00:00",
          "2025-04-22T00:00:00",
          "2025-04-23T00:00:00",
          "2025-04-24T00:00:00",
          "2025-04-25T00:00:00",
          "2025-04-26T00:00:00",
          "2025-04-27T00:00:00",
          "2025-04-28T00:00:00",
          "2025-04-29T00:00:00",
          "2025-04-30T00:00:00",
          "2025-05-01T00:00:00",
          "2025-05-02T00:00:00",
          "2025-05-03T00:00:00",
          "2025-05-04T00:00:00",
          "2025-05-05T00:00:00",
          "2025-05-06T00:00:00",
          "2025-05-07T00:00:00",
          "2025-05-08T00:00:00"
         ],
         "y": {
          "bdata": "Ne84RfoT8kAjSnuDa/fxQIMvTKbD7PFA7zhFR9XH8UCKjuTy0qTxQF66SQymovFAoWez6ieM8UBSSZ2Aa5jxQH/7OnD4R/FAUiegiXBW8UCRD3o2SDXxQHgLJCgUE/FAU5Yhjtrx8EDV52orp8zwQCKOdXGAs/BAf9k9ebqR8EBrmnecop3wQOjZrPpKQPBAtMh2vrUn8ECcM6K0AyTwQERpb/CrEPBAukkMAonM70AijnVxhSLvQGKh1jRtAe9Asi5uo+W57kB56SYxdDruQLMMcazZ+O1Aat5xiur47UCt+lxtYZLtQA3gLZDS1uxA",
          "dtype": "f8"
         }
        },
        {
         "fill": "tonexty",
         "fillcolor": "rgba(104,187,227,0.5)",
         "line": {
          "width": 0
         },
         "marker": {
          "color": "#68BBE3"
         },
         "mode": "lines",
         "name": "Prediction Interval | Prophet",
         "showlegend": true,
         "type": "scatter",
         "x": [
          "2025-04-09T00:00:00",
          "2025-04-10T00:00:00",
          "2025-04-11T00:00:00",
          "2025-04-12T00:00:00",
          "2025-04-13T00:00:00",
          "2025-04-14T00:00:00",
          "2025-04-15T00:00:00",
          "2025-04-16T00:00:00",
          "2025-04-17T00:00:00",
          "2025-04-18T00:00:00",
          "2025-04-19T00:00:00",
          "2025-04-20T00:00:00",
          "2025-04-21T00:00:00",
          "2025-04-22T00:00:00",
          "2025-04-23T00:00:00",
          "2025-04-24T00:00:00",
          "2025-04-25T00:00:00",
          "2025-04-26T00:00:00",
          "2025-04-27T00:00:00",
          "2025-04-28T00:00:00",
          "2025-04-29T00:00:00",
          "2025-04-30T00:00:00",
          "2025-05-01T00:00:00",
          "2025-05-02T00:00:00",
          "2025-05-03T00:00:00",
          "2025-05-04T00:00:00",
          "2025-05-05T00:00:00",
          "2025-05-06T00:00:00",
          "2025-05-07T00:00:00",
          "2025-05-08T00:00:00"
         ],
         "y": {
          "bdata": "INJvXzll9EDswDkjSlD0QN6Th4WUMvRASS7/IcQ09EBiEFg5VR70QJyiI7lS/vNA+THmrqr080Atsp3v/vjzQKmkTkC0w/NAcM6I0rjM80DqlbIMarvzQP+ye/Jpv/NAsAPnjNOi80ALRiV1+K7zQL4wmSrbl/NANs07Tm+K80BR2ht8pI3zQLAD54xxb/NAw9MrZQGF80AhH/Rsem/zQCntDb7GfvNAbHh6pS5t80AdOGdEEXvzQOCcEaVdh/NAMZkqGN5980A0ETY8XGHzQBWMSuqlffNAKA8LtRiL80AgY+5ao4nzQKrx0k1Lc/NA",
          "dtype": "f8"
         }
        },
        {
         "marker": {
          "color": "#3f3f3f",
          "size": 5
         },
         "mode": "lines+markers",
         "name": "Original",
         "showlegend": true,
         "type": "scatter",
         "x": [
          "2024-04-09T00:00:00",
          "2024-04-10T00:00:00",
          "2024-04-11T00:00:00",
          "2024-04-12T00:00:00",
          "2024-04-13T00:00:00",
          "2024-04-14T00:00:00",
          "2024-04-15T00:00:00",
          "2024-04-16T00:00:00",
          "2024-04-17T00:00:00",
          "2024-04-18T00:00:00",
          "2024-04-19T00:00:00",
          "2024-04-20T00:00:00",
          "2024-04-21T00:00:00",
          "2024-04-22T00:00:00",
          "2024-04-23T00:00:00",
          "2024-04-24T00:00:00",
          "2024-04-25T00:00:00",
          "2024-04-26T00:00:00",
          "2024-04-27T00:00:00",
          "2024-04-28T00:00:00",
          "2024-04-29T00:00:00",
          "2024-04-30T00:00:00",
          "2024-05-01T00:00:00",
          "2024-05-02T00:00:00",
          "2024-05-03T00:00:00",
          "2024-05-04T00:00:00",
          "2024-05-05T00:00:00",
          "2024-05-06T00:00:00",
          "2024-05-07T00:00:00",
          "2024-05-08T00:00:00",
          "2024-05-09T00:00:00",
          "2024-05-10T00:00:00",
          "2024-05-11T00:00:00",
          "2024-05-12T00:00:00",
          "2024-05-13T00:00:00",
          "2024-05-14T00:00:00",
          "2024-05-15T00:00:00",
          "2024-05-16T00:00:00",
          "2024-05-17T00:00:00",
          "2024-05-18T00:00:00",
          "2024-05-19T00:00:00",
          "2024-05-20T00:00:00",
          "2024-05-21T00:00:00",
          "2024-05-22T00:00:00",
          "2024-05-23T00:00:00",
          "2024-05-24T00:00:00",
          "2024-05-25T00:00:00",
          "2024-05-26T00:00:00",
          "2024-05-27T00:00:00",
          "2024-05-28T00:00:00",
          "2024-05-29T00:00:00",
          "2024-05-30T00:00:00",
          "2024-05-31T00:00:00",
          "2024-06-01T00:00:00",
          "2024-06-02T00:00:00",
          "2024-06-03T00:00:00",
          "2024-06-04T00:00:00",
          "2024-06-05T00:00:00",
          "2024-06-06T00:00:00",
          "2024-06-07T00:00:00",
          "2024-06-08T00:00:00",
          "2024-06-09T00:00:00",
          "2024-06-10T00:00:00",
          "2024-06-11T00:00:00",
          "2024-06-12T00:00:00",
          "2024-06-13T00:00:00",
          "2024-06-14T00:00:00",
          "2024-06-15T00:00:00",
          "2024-06-16T00:00:00",
          "2024-06-17T00:00:00",
          "2024-06-18T00:00:00",
          "2024-06-19T00:00:00",
          "2024-06-20T00:00:00",
          "2024-06-21T00:00:00",
          "2024-06-22T00:00:00",
          "2024-06-23T00:00:00",
          "2024-06-24T00:00:00",
          "2024-06-25T00:00:00",
          "2024-06-26T00:00:00",
          "2024-06-27T00:00:00",
          "2024-06-28T00:00:00",
          "2024-06-29T00:00:00",
          "2024-06-30T00:00:00",
          "2024-07-01T00:00:00",
          "2024-07-02T00:00:00",
          "2024-07-03T00:00:00",
          "2024-07-04T00:00:00",
          "2024-07-05T00:00:00",
          "2024-07-06T00:00:00",
          "2024-07-07T00:00:00",
          "2024-07-08T00:00:00",
          "2024-07-09T00:00:00",
          "2024-07-10T00:00:00",
          "2024-07-11T00:00:00",
          "2024-07-12T00:00:00",
          "2024-07-13T00:00:00",
          "2024-07-14T00:00:00",
          "2024-07-15T00:00:00",
          "2024-07-16T00:00:00",
          "2024-07-17T00:00:00",
          "2024-07-18T00:00:00",
          "2024-07-19T00:00:00",
          "2024-07-20T00:00:00",
          "2024-07-21T00:00:00",
          "2024-07-22T00:00:00",
          "2024-07-23T00:00:00",
          "2024-07-24T00:00:00",
          "2024-07-25T00:00:00",
          "2024-07-26T00:00:00",
          "2024-07-27T00:00:00",
          "2024-07-28T00:00:00",
          "2024-07-29T00:00:00",
          "2024-07-30T00:00:00",
          "2024-07-31T00:00:00",
          "2024-08-01T00:00:00",
          "2024-08-02T00:00:00",
          "2024-08-03T00:00:00",
          "2024-08-04T00:00:00",
          "2024-08-05T00:00:00",
          "2024-08-06T00:00:00",
          "2024-08-07T00:00:00",
          "2024-08-08T00:00:00",
          "2024-08-09T00:00:00",
          "2024-08-10T00:00:00",
          "2024-08-11T00:00:00",
          "2024-08-12T00:00:00",
          "2024-08-13T00:00:00",
          "2024-08-14T00:00:00",
          "2024-08-15T00:00:00",
          "2024-08-16T00:00:00",
          "2024-08-17T00:00:00",
          "2024-08-18T00:00:00",
          "2024-08-19T00:00:00",
          "2024-08-20T00:00:00",
          "2024-08-21T00:00:00",
          "2024-08-22T00:00:00",
          "2024-08-23T00:00:00",
          "2024-08-24T00:00:00",
          "2024-08-25T00:00:00",
          "2024-08-26T00:00:00",
          "2024-08-27T00:00:00",
          "2024-08-28T00:00:00",
          "2024-08-29T00:00:00",
          "2024-08-30T00:00:00",
          "2024-08-31T00:00:00",
          "2024-09-01T00:00:00",
          "2024-09-02T00:00:00",
          "2024-09-03T00:00:00",
          "2024-09-04T00:00:00",
          "2024-09-05T00:00:00",
          "2024-09-06T00:00:00",
          "2024-09-07T00:00:00",
          "2024-09-08T00:00:00",
          "2024-09-09T00:00:00",
          "2024-09-10T00:00:00",
          "2024-09-11T00:00:00",
          "2024-09-12T00:00:00",
          "2024-09-13T00:00:00",
          "2024-09-14T00:00:00",
          "2024-09-15T00:00:00",
          "2024-09-16T00:00:00",
          "2024-09-17T00:00:00",
          "2024-09-18T00:00:00",
          "2024-09-19T00:00:00",
          "2024-09-20T00:00:00",
          "2024-09-21T00:00:00",
          "2024-09-22T00:00:00",
          "2024-09-23T00:00:00",
          "2024-09-24T00:00:00",
          "2024-09-25T00:00:00",
          "2024-09-26T00:00:00",
          "2024-09-27T00:00:00",
          "2024-09-28T00:00:00",
          "2024-09-29T00:00:00",
          "2024-09-30T00:00:00",
          "2024-10-01T00:00:00",
          "2024-10-02T00:00:00",
          "2024-10-03T00:00:00",
          "2024-10-04T00:00:00",
          "2024-10-05T00:00:00",
          "2024-10-06T00:00:00",
          "2024-10-07T00:00:00",
          "2024-10-08T00:00:00",
          "2024-10-09T00:00:00",
          "2024-10-10T00:00:00",
          "2024-10-11T00:00:00",
          "2024-10-12T00:00:00",
          "2024-10-13T00:00:00",
          "2024-10-14T00:00:00",
          "2024-10-15T00:00:00",
          "2024-10-16T00:00:00",
          "2024-10-17T00:00:00",
          "2024-10-18T00:00:00",
          "2024-10-19T00:00:00",
          "2024-10-20T00:00:00",
          "2024-10-21T00:00:00",
          "2024-10-22T00:00:00",
          "2024-10-23T00:00:00",
          "2024-10-24T00:00:00",
          "2024-10-25T00:00:00",
          "2024-10-26T00:00:00",
          "2024-10-27T00:00:00",
          "2024-10-28T00:00:00",
          "2024-10-29T00:00:00",
          "2024-10-30T00:00:00",
          "2024-10-31T00:00:00",
          "2024-11-01T00:00:00",
          "2024-11-02T00:00:00",
          "2024-11-03T00:00:00",
          "2024-11-04T00:00:00",
          "2024-11-05T00:00:00",
          "2024-11-06T00:00:00",
          "2024-11-07T00:00:00",
          "2024-11-08T00:00:00",
          "2024-11-09T00:00:00",
          "2024-11-10T00:00:00",
          "2024-11-11T00:00:00",
          "2024-11-12T00:00:00",
          "2024-11-13T00:00:00",
          "2024-11-14T00:00:00",
          "2024-11-15T00:00:00",
          "2024-11-16T00:00:00",
          "2024-11-17T00:00:00",
          "2024-11-18T00:00:00",
          "2024-11-19T00:00:00",
          "2024-11-20T00:00:00",
          "2024-11-21T00:00:00",
          "2024-11-22T00:00:00",
          "2024-11-23T00:00:00",
          "2024-11-24T00:00:00",
          "2024-11-25T00:00:00",
          "2024-11-26T00:00:00",
          "2024-11-27T00:00:00",
          "2024-11-28T00:00:00",
          "2024-11-29T00:00:00",
          "2024-11-30T00:00:00",
          "2024-12-01T00:00:00",
          "2024-12-02T00:00:00",
          "2024-12-03T00:00:00",
          "2024-12-04T00:00:00",
          "2024-12-05T00:00:00",
          "2024-12-06T00:00:00",
          "2024-12-07T00:00:00",
          "2024-12-08T00:00:00",
          "2024-12-09T00:00:00",
          "2024-12-10T00:00:00",
          "2024-12-11T00:00:00",
          "2024-12-12T00:00:00",
          "2024-12-13T00:00:00",
          "2024-12-14T00:00:00",
          "2024-12-15T00:00:00",
          "2024-12-16T00:00:00",
          "2024-12-17T00:00:00",
          "2024-12-18T00:00:00",
          "2024-12-19T00:00:00",
          "2024-12-20T00:00:00",
          "2024-12-21T00:00:00",
          "2024-12-22T00:00:00",
          "2024-12-23T00:00:00",
          "2024-12-24T00:00:00",
          "2024-12-25T00:00:00",
          "2024-12-26T00:00:00",
          "2024-12-27T00:00:00",
          "2024-12-28T00:00:00",
          "2024-12-29T00:00:00",
          "2024-12-30T00:00:00",
          "2024-12-31T00:00:00",
          "2025-01-01T00:00:00",
          "2025-01-02T00:00:00",
          "2025-01-03T00:00:00",
          "2025-01-04T00:00:00",
          "2025-01-05T00:00:00",
          "2025-01-06T00:00:00",
          "2025-01-07T00:00:00",
          "2025-01-08T00:00:00",
          "2025-01-09T00:00:00",
          "2025-01-10T00:00:00",
          "2025-01-11T00:00:00",
          "2025-01-12T00:00:00",
          "2025-01-13T00:00:00",
          "2025-01-14T00:00:00",
          "2025-01-15T00:00:00",
          "2025-01-16T00:00:00",
          "2025-01-17T00:00:00",
          "2025-01-18T00:00:00",
          "2025-01-19T00:00:00",
          "2025-01-20T00:00:00",
          "2025-01-21T00:00:00",
          "2025-01-22T00:00:00",
          "2025-01-23T00:00:00",
          "2025-01-24T00:00:00",
          "2025-01-25T00:00:00",
          "2025-01-26T00:00:00",
          "2025-01-27T00:00:00",
          "2025-01-28T00:00:00",
          "2025-01-29T00:00:00",
          "2025-01-30T00:00:00",
          "2025-01-31T00:00:00",
          "2025-02-01T00:00:00",
          "2025-02-02T00:00:00",
          "2025-02-03T00:00:00",
          "2025-02-04T00:00:00",
          "2025-02-05T00:00:00",
          "2025-02-06T00:00:00",
          "2025-02-07T00:00:00",
          "2025-02-08T00:00:00",
          "2025-02-09T00:00:00",
          "2025-02-10T00:00:00",
          "2025-02-11T00:00:00",
          "2025-02-12T00:00:00",
          "2025-02-13T00:00:00",
          "2025-02-14T00:00:00",
          "2025-02-15T00:00:00",
          "2025-02-16T00:00:00",
          "2025-02-17T00:00:00",
          "2025-02-18T00:00:00",
          "2025-02-19T00:00:00",
          "2025-02-20T00:00:00",
          "2025-02-21T00:00:00",
          "2025-02-22T00:00:00",
          "2025-02-23T00:00:00",
          "2025-02-24T00:00:00",
          "2025-02-25T00:00:00",
          "2025-02-26T00:00:00",
          "2025-02-27T00:00:00",
          "2025-02-28T00:00:00",
          "2025-03-01T00:00:00",
          "2025-03-02T00:00:00",
          "2025-03-03T00:00:00",
          "2025-03-04T00:00:00",
          "2025-03-05T00:00:00",
          "2025-03-06T00:00:00",
          "2025-03-07T00:00:00",
          "2025-03-08T00:00:00",
          "2025-03-09T00:00:00",
          "2025-03-10T00:00:00",
          "2025-03-11T00:00:00",
          "2025-03-12T00:00:00",
          "2025-03-13T00:00:00",
          "2025-03-14T00:00:00",
          "2025-03-15T00:00:00",
          "2025-03-16T00:00:00",
          "2025-03-17T00:00:00",
          "2025-03-18T00:00:00",
          "2025-03-19T00:00:00",
          "2025-03-20T00:00:00",
          "2025-03-21T00:00:00",
          "2025-03-22T00:00:00",
          "2025-03-23T00:00:00",
          "2025-03-24T00:00:00",
          "2025-03-25T00:00:00",
          "2025-03-26T00:00:00",
          "2025-03-27T00:00:00",
          "2025-03-28T00:00:00",
          "2025-03-29T00:00:00",
          "2025-03-30T00:00:00",
          "2025-03-31T00:00:00",
          "2025-04-01T00:00:00",
          "2025-04-02T00:00:00",
          "2025-04-03T00:00:00",
          "2025-04-04T00:00:00",
          "2025-04-05T00:00:00",
          "2025-04-06T00:00:00",
          "2025-04-07T00:00:00",
          "2025-04-08T00:00:00"
         ],
         "y": {
          "bdata": "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",
          "dtype": "f8"
         }
        }
       ],
       "layout": {
        "showlegend": true,
        "template": {
         "data": {
          "bar": [
           {
            "error_x": {
             "color": "rgb(51,51,51)"
            },
            "error_y": {
             "color": "rgb(51,51,51)"
            },
            "marker": {
             "line": {
              "color": "rgb(237,237,237)",
              "width": 0.5
             },
             "pattern": {
              "fillmode": "overlay",
              "size": 10,
              "solidity": 0.2
             }
            },
            "type": "bar"
           }
          ],
          "barpolar": [
           {
            "marker": {
             "line": {
              "color": "rgb(237,237,237)",
              "width": 0.5
             },
             "pattern": {
              "fillmode": "overlay",
              "size": 10,
              "solidity": 0.2
             }
            },
            "type": "barpolar"
           }
          ],
          "carpet": [
           {
            "aaxis": {
             "endlinecolor": "rgb(51,51,51)",
             "gridcolor": "white",
             "linecolor": "white",
             "minorgridcolor": "white",
             "startlinecolor": "rgb(51,51,51)"
            },
            "baxis": {
             "endlinecolor": "rgb(51,51,51)",
             "gridcolor": "white",
             "linecolor": "white",
             "minorgridcolor": "white",
             "startlinecolor": "rgb(51,51,51)"
            },
            "type": "carpet"
           }
          ],
          "choropleth": [
           {
            "colorbar": {
             "outlinewidth": 0,
             "tickcolor": "rgb(237,237,237)",
             "ticklen": 6,
             "ticks": "inside"
            },
            "type": "choropleth"
           }
          ],
          "contour": [
           {
            "colorbar": {
             "outlinewidth": 0,
             "tickcolor": "rgb(237,237,237)",
             "ticklen": 6,
             "ticks": "inside"
            },
            "colorscale": [
             [
              0,
              "rgb(20,44,66)"
             ],
             [
              1,
              "rgb(90,179,244)"
             ]
            ],
            "type": "contour"
           }
          ],
          "contourcarpet": [
           {
            "colorbar": {
             "outlinewidth": 0,
             "tickcolor": "rgb(237,237,237)",
             "ticklen": 6,
             "ticks": "inside"
            },
            "type": "contourcarpet"
           }
          ],
          "heatmap": [
           {
            "colorbar": {
             "outlinewidth": 0,
             "tickcolor": "rgb(237,237,237)",
             "ticklen": 6,
             "ticks": "inside"
            },
            "colorscale": [
             [
              0,
              "rgb(20,44,66)"
             ],
             [
              1,
              "rgb(90,179,244)"
             ]
            ],
            "type": "heatmap"
           }
          ],
          "histogram": [
           {
            "marker": {
             "pattern": {
              "fillmode": "overlay",
              "size": 10,
              "solidity": 0.2
             }
            },
            "type": "histogram"
           }
          ],
          "histogram2d": [
           {
            "colorbar": {
             "outlinewidth": 0,
             "tickcolor": "rgb(237,237,237)",
             "ticklen": 6,
             "ticks": "inside"
            },
            "colorscale": [
             [
              0,
              "rgb(20,44,66)"
             ],
             [
              1,
              "rgb(90,179,244)"
             ]
            ],
            "type": "histogram2d"
           }
          ],
          "histogram2dcontour": [
           {
            "colorbar": {
             "outlinewidth": 0,
             "tickcolor": "rgb(237,237,237)",
             "ticklen": 6,
             "ticks": "inside"
            },
            "colorscale": [
             [
              0,
              "rgb(20,44,66)"
             ],
             [
              1,
              "rgb(90,179,244)"
             ]
            ],
            "type": "histogram2dcontour"
           }
          ],
          "mesh3d": [
           {
            "colorbar": {
             "outlinewidth": 0,
             "tickcolor": "rgb(237,237,237)",
             "ticklen": 6,
             "ticks": "inside"
            },
            "type": "mesh3d"
           }
          ],
          "parcoords": [
           {
            "line": {
             "colorbar": {
              "outlinewidth": 0,
              "tickcolor": "rgb(237,237,237)",
              "ticklen": 6,
              "ticks": "inside"
             }
            },
            "type": "parcoords"
           }
          ],
          "pie": [
           {
            "automargin": true,
            "type": "pie"
           }
          ],
          "scatter": [
           {
            "fillpattern": {
             "fillmode": "overlay",
             "size": 10,
             "solidity": 0.2
            },
            "type": "scatter"
           }
          ],
          "scatter3d": [
           {
            "line": {
             "colorbar": {
              "outlinewidth": 0,
              "tickcolor": "rgb(237,237,237)",
              "ticklen": 6,
              "ticks": "inside"
             }
            },
            "marker": {
             "colorbar": {
              "outlinewidth": 0,
              "tickcolor": "rgb(237,237,237)",
              "ticklen": 6,
              "ticks": "inside"
             }
            },
            "type": "scatter3d"
           }
          ],
          "scattercarpet": [
           {
            "marker": {
             "colorbar": {
              "outlinewidth": 0,
              "tickcolor": "rgb(237,237,237)",
              "ticklen": 6,
              "ticks": "inside"
             }
            },
            "type": "scattercarpet"
           }
          ],
          "scattergeo": [
           {
            "marker": {
             "colorbar": {
              "outlinewidth": 0,
              "tickcolor": "rgb(237,237,237)",
              "ticklen": 6,
              "ticks": "inside"
             }
            },
            "type": "scattergeo"
           }
          ],
          "scattergl": [
           {
            "marker": {
             "colorbar": {
              "outlinewidth": 0,
              "tickcolor": "rgb(237,237,237)",
              "ticklen": 6,
              "ticks": "inside"
             }
            },
            "type": "scattergl"
           }
          ],
          "scattermap": [
           {
            "marker": {
             "colorbar": {
              "outlinewidth": 0,
              "tickcolor": "rgb(237,237,237)",
              "ticklen": 6,
              "ticks": "inside"
             }
            },
            "type": "scattermap"
           }
          ],
          "scattermapbox": [
           {
            "marker": {
             "colorbar": {
              "outlinewidth": 0,
              "tickcolor": "rgb(237,237,237)",
              "ticklen": 6,
              "ticks": "inside"
             }
            },
            "type": "scattermapbox"
           }
          ],
          "scatterpolar": [
           {
            "marker": {
             "colorbar": {
              "outlinewidth": 0,
              "tickcolor": "rgb(237,237,237)",
              "ticklen": 6,
              "ticks": "inside"
             }
            },
            "type": "scatterpolar"
           }
          ],
          "scatterpolargl": [
           {
            "marker": {
             "colorbar": {
              "outlinewidth": 0,
              "tickcolor": "rgb(237,237,237)",
              "ticklen": 6,
              "ticks": "inside"
             }
            },
            "type": "scatterpolargl"
           }
          ],
          "scatterternary": [
           {
            "marker": {
             "colorbar": {
              "outlinewidth": 0,
              "tickcolor": "rgb(237,237,237)",
              "ticklen": 6,
              "ticks": "inside"
             }
            },
            "type": "scatterternary"
           }
          ],
          "surface": [
           {
            "colorbar": {
             "outlinewidth": 0,
             "tickcolor": "rgb(237,237,237)",
             "ticklen": 6,
             "ticks": "inside"
            },
            "colorscale": [
             [
              0,
              "rgb(20,44,66)"
             ],
             [
              1,
              "rgb(90,179,244)"
             ]
            ],
            "type": "surface"
           }
          ],
          "table": [
           {
            "cells": {
             "fill": {
              "color": "rgb(237,237,237)"
             },
             "line": {
              "color": "white"
             }
            },
            "header": {
             "fill": {
              "color": "rgb(217,217,217)"
             },
             "line": {
              "color": "white"
             }
            },
            "type": "table"
           }
          ]
         },
         "layout": {
          "annotationdefaults": {
           "arrowhead": 0,
           "arrowwidth": 1
          },
          "autotypenumbers": "strict",
          "coloraxis": {
           "colorbar": {
            "outlinewidth": 0,
            "tickcolor": "rgb(237,237,237)",
            "ticklen": 6,
            "ticks": "inside"
           }
          },
          "colorscale": {
           "sequential": [
            [
             0,
             "rgb(20,44,66)"
            ],
            [
             1,
             "rgb(90,179,244)"
            ]
           ],
           "sequentialminus": [
            [
             0,
             "rgb(20,44,66)"
            ],
            [
             1,
             "rgb(90,179,244)"
            ]
           ]
          },
          "colorway": [
           "#F8766D",
           "#A3A500",
           "#00BF7D",
           "#00B0F6",
           "#E76BF3"
          ],
          "font": {
           "color": "rgb(51,51,51)"
          },
          "geo": {
           "bgcolor": "white",
           "lakecolor": "white",
           "landcolor": "rgb(237,237,237)",
           "showlakes": true,
           "showland": true,
           "subunitcolor": "white"
          },
          "hoverlabel": {
           "align": "left"
          },
          "hovermode": "closest",
          "paper_bgcolor": "white",
          "plot_bgcolor": "rgb(237,237,237)",
          "polar": {
           "angularaxis": {
            "gridcolor": "white",
            "linecolor": "white",
            "showgrid": true,
            "tickcolor": "rgb(51,51,51)",
            "ticks": "outside"
           },
           "bgcolor": "rgb(237,237,237)",
           "radialaxis": {
            "gridcolor": "white",
            "linecolor": "white",
            "showgrid": true,
            "tickcolor": "rgb(51,51,51)",
            "ticks": "outside"
           }
          },
          "scene": {
           "xaxis": {
            "backgroundcolor": "rgb(237,237,237)",
            "gridcolor": "white",
            "gridwidth": 2,
            "linecolor": "white",
            "showbackground": true,
            "showgrid": true,
            "tickcolor": "rgb(51,51,51)",
            "ticks": "outside",
            "zerolinecolor": "white"
           },
           "yaxis": {
            "backgroundcolor": "rgb(237,237,237)",
            "gridcolor": "white",
            "gridwidth": 2,
            "linecolor": "white",
            "showbackground": true,
            "showgrid": true,
            "tickcolor": "rgb(51,51,51)",
            "ticks": "outside",
            "zerolinecolor": "white"
           },
           "zaxis": {
            "backgroundcolor": "rgb(237,237,237)",
            "gridcolor": "white",
            "gridwidth": 2,
            "linecolor": "white",
            "showbackground": true,
            "showgrid": true,
            "tickcolor": "rgb(51,51,51)",
            "ticks": "outside",
            "zerolinecolor": "white"
           }
          },
          "shapedefaults": {
           "fillcolor": "black",
           "line": {
            "width": 0
           },
           "opacity": 0.3
          },
          "ternary": {
           "aaxis": {
            "gridcolor": "white",
            "linecolor": "white",
            "showgrid": true,
            "tickcolor": "rgb(51,51,51)",
            "ticks": "outside"
           },
           "baxis": {
            "gridcolor": "white",
            "linecolor": "white",
            "showgrid": true,
            "tickcolor": "rgb(51,51,51)",
            "ticks": "outside"
           },
           "bgcolor": "rgb(237,237,237)",
           "caxis": {
            "gridcolor": "white",
            "linecolor": "white",
            "showgrid": true,
            "tickcolor": "rgb(51,51,51)",
            "ticks": "outside"
           }
          },
          "xaxis": {
           "automargin": true,
           "gridcolor": "white",
           "linecolor": "white",
           "showgrid": true,
           "tickcolor": "rgb(51,51,51)",
           "ticks": "outside",
           "title": {
            "standoff": 15
           },
           "zerolinecolor": "white"
          },
          "yaxis": {
           "automargin": true,
           "gridcolor": "white",
           "linecolor": "white",
           "showgrid": true,
           "tickcolor": "rgb(51,51,51)",
           "ticks": "outside",
           "title": {
            "standoff": 15
           },
           "zerolinecolor": "white"
          }
         }
        },
        "title": {
         "text": "Actual vs. 'Out-of-Sample' Forecast | BTC-USD"
        },
        "xaxis": {
         "title": {
          "text": "Time"
         }
        },
        "yaxis": {
         "title": {
          "text": "Values"
         }
        }
       }
      }
     },
     "metadata": {},
     "output_type": "display_data"
    }
   ],
   "source": [
    "#Plot prophet model forecast\n",
    "plot_model(final_prophet, plot='forecast')\n",
    "\n"
   ]
  },
  {
   "cell_type": "code",
   "execution_count": 88,
   "id": "8cb482c9",
   "metadata": {},
   "outputs": [
    {
     "data": {
      "text/html": [],
      "text/plain": [
       "<IPython.core.display.HTML object>"
      ]
     },
     "metadata": {},
     "output_type": "display_data"
    },
    {
     "data": {
      "text/html": [
       "<style type=\"text/css\">\n",
       "#T_430a6_row3_col0, #T_430a6_row3_col1, #T_430a6_row3_col2, #T_430a6_row3_col3, #T_430a6_row3_col4, #T_430a6_row3_col5, #T_430a6_row3_col6, #T_430a6_row3_col7 {\n",
       "  background: yellow;\n",
       "}\n",
       "</style>\n",
       "<table id=\"T_430a6\">\n",
       "  <thead>\n",
       "    <tr>\n",
       "      <th class=\"blank level0\" >&nbsp;</th>\n",
       "      <th id=\"T_430a6_level0_col0\" class=\"col_heading level0 col0\" >cutoff</th>\n",
       "      <th id=\"T_430a6_level0_col1\" class=\"col_heading level0 col1\" >MASE</th>\n",
       "      <th id=\"T_430a6_level0_col2\" class=\"col_heading level0 col2\" >RMSSE</th>\n",
       "      <th id=\"T_430a6_level0_col3\" class=\"col_heading level0 col3\" >MAE</th>\n",
       "      <th id=\"T_430a6_level0_col4\" class=\"col_heading level0 col4\" >RMSE</th>\n",
       "      <th id=\"T_430a6_level0_col5\" class=\"col_heading level0 col5\" >MAPE</th>\n",
       "      <th id=\"T_430a6_level0_col6\" class=\"col_heading level0 col6\" >SMAPE</th>\n",
       "      <th id=\"T_430a6_level0_col7\" class=\"col_heading level0 col7\" >R2</th>\n",
       "    </tr>\n",
       "  </thead>\n",
       "  <tbody>\n",
       "    <tr>\n",
       "      <th id=\"T_430a6_level0_row0\" class=\"row_heading level0 row0\" >0</th>\n",
       "      <td id=\"T_430a6_row0_col0\" class=\"data row0 col0\" >2024-12-09</td>\n",
       "      <td id=\"T_430a6_row0_col1\" class=\"data row0 col1\" >1.3333</td>\n",
       "      <td id=\"T_430a6_row0_col2\" class=\"data row0 col2\" >1.1959</td>\n",
       "      <td id=\"T_430a6_row0_col3\" class=\"data row0 col3\" >4806.9143</td>\n",
       "      <td id=\"T_430a6_row0_col4\" class=\"data row0 col4\" >5762.3896</td>\n",
       "      <td id=\"T_430a6_row0_col5\" class=\"data row0 col5\" >0.0496</td>\n",
       "      <td id=\"T_430a6_row0_col6\" class=\"data row0 col6\" >0.0483</td>\n",
       "      <td id=\"T_430a6_row0_col7\" class=\"data row0 col7\" >-1.6626</td>\n",
       "    </tr>\n",
       "    <tr>\n",
       "      <th id=\"T_430a6_level0_row1\" class=\"row_heading level0 row1\" >1</th>\n",
       "      <td id=\"T_430a6_row1_col0\" class=\"data row1 col0\" >2025-01-08</td>\n",
       "      <td id=\"T_430a6_row1_col1\" class=\"data row1 col1\" >1.0532</td>\n",
       "      <td id=\"T_430a6_row1_col2\" class=\"data row1 col2\" >0.8966</td>\n",
       "      <td id=\"T_430a6_row1_col3\" class=\"data row1 col3\" >3837.7182</td>\n",
       "      <td id=\"T_430a6_row1_col4\" class=\"data row1 col4\" >4332.6144</td>\n",
       "      <td id=\"T_430a6_row1_col5\" class=\"data row1 col5\" >0.0383</td>\n",
       "      <td id=\"T_430a6_row1_col6\" class=\"data row1 col6\" >0.0384</td>\n",
       "      <td id=\"T_430a6_row1_col7\" class=\"data row1 col7\" >-0.2665</td>\n",
       "    </tr>\n",
       "    <tr>\n",
       "      <th id=\"T_430a6_level0_row2\" class=\"row_heading level0 row2\" >2</th>\n",
       "      <td id=\"T_430a6_row2_col0\" class=\"data row2 col0\" >2025-02-07</td>\n",
       "      <td id=\"T_430a6_row2_col1\" class=\"data row2 col1\" >1.3397</td>\n",
       "      <td id=\"T_430a6_row2_col2\" class=\"data row2 col2\" >1.3018</td>\n",
       "      <td id=\"T_430a6_row2_col3\" class=\"data row2 col3\" >4980.6148</td>\n",
       "      <td id=\"T_430a6_row2_col4\" class=\"data row2 col4\" >6356.8002</td>\n",
       "      <td id=\"T_430a6_row2_col5\" class=\"data row2 col5\" >0.0566</td>\n",
       "      <td id=\"T_430a6_row2_col6\" class=\"data row2 col6\" >0.0543</td>\n",
       "      <td id=\"T_430a6_row2_col7\" class=\"data row2 col7\" >-0.4456</td>\n",
       "    </tr>\n",
       "    <tr>\n",
       "      <th id=\"T_430a6_level0_row3\" class=\"row_heading level0 row3\" >Mean</th>\n",
       "      <td id=\"T_430a6_row3_col0\" class=\"data row3 col0\" >NaT</td>\n",
       "      <td id=\"T_430a6_row3_col1\" class=\"data row3 col1\" >1.2421</td>\n",
       "      <td id=\"T_430a6_row3_col2\" class=\"data row3 col2\" >1.1314</td>\n",
       "      <td id=\"T_430a6_row3_col3\" class=\"data row3 col3\" >4541.7491</td>\n",
       "      <td id=\"T_430a6_row3_col4\" class=\"data row3 col4\" >5483.9347</td>\n",
       "      <td id=\"T_430a6_row3_col5\" class=\"data row3 col5\" >0.0482</td>\n",
       "      <td id=\"T_430a6_row3_col6\" class=\"data row3 col6\" >0.0470</td>\n",
       "      <td id=\"T_430a6_row3_col7\" class=\"data row3 col7\" >-0.7916</td>\n",
       "    </tr>\n",
       "    <tr>\n",
       "      <th id=\"T_430a6_level0_row4\" class=\"row_heading level0 row4\" >SD</th>\n",
       "      <td id=\"T_430a6_row4_col0\" class=\"data row4 col0\" >NaT</td>\n",
       "      <td id=\"T_430a6_row4_col1\" class=\"data row4 col1\" >0.1336</td>\n",
       "      <td id=\"T_430a6_row4_col2\" class=\"data row4 col2\" >0.1716</td>\n",
       "      <td id=\"T_430a6_row4_col3\" class=\"data row4 col3\" >502.8503</td>\n",
       "      <td id=\"T_430a6_row4_col4\" class=\"data row4 col4\" >849.5037</td>\n",
       "      <td id=\"T_430a6_row4_col5\" class=\"data row4 col5\" >0.0075</td>\n",
       "      <td id=\"T_430a6_row4_col6\" class=\"data row4 col6\" >0.0065</td>\n",
       "      <td id=\"T_430a6_row4_col7\" class=\"data row4 col7\" >0.6203</td>\n",
       "    </tr>\n",
       "  </tbody>\n",
       "</table>\n"
      ],
      "text/plain": [
       "<pandas.io.formats.style.Styler at 0x198741e9df0>"
      ]
     },
     "metadata": {},
     "output_type": "display_data"
    },
    {
     "data": {
      "text/html": [],
      "text/plain": [
       "<IPython.core.display.HTML object>"
      ]
     },
     "metadata": {},
     "output_type": "display_data"
    }
   ],
   "source": [
    "arima = create_model('arima')"
   ]
  },
  {
   "cell_type": "code",
   "execution_count": 89,
   "id": "bc6232f4",
   "metadata": {},
   "outputs": [
    {
     "data": {
      "text/html": [],
      "text/plain": [
       "<IPython.core.display.HTML object>"
      ]
     },
     "metadata": {},
     "output_type": "display_data"
    },
    {
     "data": {
      "text/html": [
       "<style type=\"text/css\">\n",
       "#T_10ec8_row3_col0, #T_10ec8_row3_col1, #T_10ec8_row3_col2, #T_10ec8_row3_col3, #T_10ec8_row3_col4, #T_10ec8_row3_col5, #T_10ec8_row3_col6, #T_10ec8_row3_col7 {\n",
       "  background: yellow;\n",
       "}\n",
       "</style>\n",
       "<table id=\"T_10ec8\">\n",
       "  <thead>\n",
       "    <tr>\n",
       "      <th class=\"blank level0\" >&nbsp;</th>\n",
       "      <th id=\"T_10ec8_level0_col0\" class=\"col_heading level0 col0\" >cutoff</th>\n",
       "      <th id=\"T_10ec8_level0_col1\" class=\"col_heading level0 col1\" >MASE</th>\n",
       "      <th id=\"T_10ec8_level0_col2\" class=\"col_heading level0 col2\" >RMSSE</th>\n",
       "      <th id=\"T_10ec8_level0_col3\" class=\"col_heading level0 col3\" >MAE</th>\n",
       "      <th id=\"T_10ec8_level0_col4\" class=\"col_heading level0 col4\" >RMSE</th>\n",
       "      <th id=\"T_10ec8_level0_col5\" class=\"col_heading level0 col5\" >MAPE</th>\n",
       "      <th id=\"T_10ec8_level0_col6\" class=\"col_heading level0 col6\" >SMAPE</th>\n",
       "      <th id=\"T_10ec8_level0_col7\" class=\"col_heading level0 col7\" >R2</th>\n",
       "    </tr>\n",
       "  </thead>\n",
       "  <tbody>\n",
       "    <tr>\n",
       "      <th id=\"T_10ec8_level0_row0\" class=\"row_heading level0 row0\" >0</th>\n",
       "      <td id=\"T_10ec8_row0_col0\" class=\"data row0 col0\" >2024-12-09</td>\n",
       "      <td id=\"T_10ec8_row0_col1\" class=\"data row0 col1\" >0.7755</td>\n",
       "      <td id=\"T_10ec8_row0_col2\" class=\"data row0 col2\" >0.7433</td>\n",
       "      <td id=\"T_10ec8_row0_col3\" class=\"data row0 col3\" >2795.7505</td>\n",
       "      <td id=\"T_10ec8_row0_col4\" class=\"data row0 col4\" >3581.4082</td>\n",
       "      <td id=\"T_10ec8_row0_col5\" class=\"data row0 col5\" >0.0281</td>\n",
       "      <td id=\"T_10ec8_row0_col6\" class=\"data row0 col6\" >0.0284</td>\n",
       "      <td id=\"T_10ec8_row0_col7\" class=\"data row0 col7\" >-0.0285</td>\n",
       "    </tr>\n",
       "    <tr>\n",
       "      <th id=\"T_10ec8_level0_row1\" class=\"row_heading level0 row1\" >1</th>\n",
       "      <td id=\"T_10ec8_row1_col0\" class=\"data row1 col0\" >2025-01-08</td>\n",
       "      <td id=\"T_10ec8_row1_col1\" class=\"data row1 col1\" >1.5058</td>\n",
       "      <td id=\"T_10ec8_row1_col2\" class=\"data row1 col2\" >1.3368</td>\n",
       "      <td id=\"T_10ec8_row1_col3\" class=\"data row1 col3\" >5486.6403</td>\n",
       "      <td id=\"T_10ec8_row1_col4\" class=\"data row1 col4\" >6459.5071</td>\n",
       "      <td id=\"T_10ec8_row1_col5\" class=\"data row1 col5\" >0.0535</td>\n",
       "      <td id=\"T_10ec8_row1_col6\" class=\"data row1 col6\" >0.0555</td>\n",
       "      <td id=\"T_10ec8_row1_col7\" class=\"data row1 col7\" >-1.8151</td>\n",
       "    </tr>\n",
       "    <tr>\n",
       "      <th id=\"T_10ec8_level0_row2\" class=\"row_heading level0 row2\" >2</th>\n",
       "      <td id=\"T_10ec8_row2_col0\" class=\"data row2 col0\" >2025-02-07</td>\n",
       "      <td id=\"T_10ec8_row2_col1\" class=\"data row2 col1\" >1.2567</td>\n",
       "      <td id=\"T_10ec8_row2_col2\" class=\"data row2 col2\" >1.3890</td>\n",
       "      <td id=\"T_10ec8_row2_col3\" class=\"data row2 col3\" >4671.8353</td>\n",
       "      <td id=\"T_10ec8_row2_col4\" class=\"data row2 col4\" >6782.8181</td>\n",
       "      <td id=\"T_10ec8_row2_col5\" class=\"data row2 col5\" >0.0539</td>\n",
       "      <td id=\"T_10ec8_row2_col6\" class=\"data row2 col6\" >0.0510</td>\n",
       "      <td id=\"T_10ec8_row2_col7\" class=\"data row2 col7\" >-0.6458</td>\n",
       "    </tr>\n",
       "    <tr>\n",
       "      <th id=\"T_10ec8_level0_row3\" class=\"row_heading level0 row3\" >Mean</th>\n",
       "      <td id=\"T_10ec8_row3_col0\" class=\"data row3 col0\" >NaT</td>\n",
       "      <td id=\"T_10ec8_row3_col1\" class=\"data row3 col1\" >1.1793</td>\n",
       "      <td id=\"T_10ec8_row3_col2\" class=\"data row3 col2\" >1.1564</td>\n",
       "      <td id=\"T_10ec8_row3_col3\" class=\"data row3 col3\" >4318.0754</td>\n",
       "      <td id=\"T_10ec8_row3_col4\" class=\"data row3 col4\" >5607.9111</td>\n",
       "      <td id=\"T_10ec8_row3_col5\" class=\"data row3 col5\" >0.0452</td>\n",
       "      <td id=\"T_10ec8_row3_col6\" class=\"data row3 col6\" >0.0450</td>\n",
       "      <td id=\"T_10ec8_row3_col7\" class=\"data row3 col7\" >-0.8298</td>\n",
       "    </tr>\n",
       "    <tr>\n",
       "      <th id=\"T_10ec8_level0_row4\" class=\"row_heading level0 row4\" >SD</th>\n",
       "      <td id=\"T_10ec8_row4_col0\" class=\"data row4 col0\" >NaT</td>\n",
       "      <td id=\"T_10ec8_row4_col1\" class=\"data row4 col1\" >0.3031</td>\n",
       "      <td id=\"T_10ec8_row4_col2\" class=\"data row4 col2\" >0.2929</td>\n",
       "      <td id=\"T_10ec8_row4_col3\" class=\"data row4 col3\" >1126.6711</td>\n",
       "      <td id=\"T_10ec8_row4_col4\" class=\"data row4 col4\" >1439.0200</td>\n",
       "      <td id=\"T_10ec8_row4_col5\" class=\"data row4 col5\" >0.0121</td>\n",
       "      <td id=\"T_10ec8_row4_col6\" class=\"data row4 col6\" >0.0119</td>\n",
       "      <td id=\"T_10ec8_row4_col7\" class=\"data row4 col7\" >0.7409</td>\n",
       "    </tr>\n",
       "  </tbody>\n",
       "</table>\n"
      ],
      "text/plain": [
       "<pandas.io.formats.style.Styler at 0x198025afd30>"
      ]
     },
     "metadata": {},
     "output_type": "display_data"
    },
    {
     "data": {
      "text/html": [],
      "text/plain": [
       "<IPython.core.display.HTML object>"
      ]
     },
     "metadata": {},
     "output_type": "display_data"
    },
    {
     "name": "stdout",
     "output_type": "stream",
     "text": [
      "Fitting 3 folds for each of 10 candidates, totalling 30 fits\n"
     ]
    },
    {
     "name": "stderr",
     "output_type": "stream",
     "text": [
      "[Parallel(n_jobs=-1)]: Using backend LokyBackend with 8 concurrent workers.\n",
      "[Parallel(n_jobs=-1)]: Done  30 out of  30 | elapsed:   19.2s finished\n"
     ]
    }
   ],
   "source": [
    "tuned_arima = tune_model(arima)"
   ]
  },
  {
   "cell_type": "code",
   "execution_count": 90,
   "id": "e00f67dd",
   "metadata": {},
   "outputs": [],
   "source": [
    "final_arima = finalize_model(tuned_arima)\n",
    "#future_dates = pd.date_range(df.index[-1], periods=30, freq='D')\n",
    "arima_predictions = predict_model(final_arima)"
   ]
  },
  {
   "cell_type": "code",
   "execution_count": 91,
   "id": "295e488c",
   "metadata": {},
   "outputs": [
    {
     "data": {
      "application/vnd.plotly.v1+json": {
       "config": {
        "plotlyServerURL": "https://plot.ly"
       },
       "data": [
        {
         "line": {
          "color": "#1f77b4"
         },
         "marker": {
          "size": 5
         },
         "mode": "lines+markers",
         "name": "Forecast | ARIMA",
         "showlegend": true,
         "type": "scatter",
         "x": [
          "2025-04-09T00:00:00",
          "2025-04-10T00:00:00",
          "2025-04-11T00:00:00",
          "2025-04-12T00:00:00",
          "2025-04-13T00:00:00",
          "2025-04-14T00:00:00",
          "2025-04-15T00:00:00",
          "2025-04-16T00:00:00",
          "2025-04-17T00:00:00",
          "2025-04-18T00:00:00",
          "2025-04-19T00:00:00",
          "2025-04-20T00:00:00",
          "2025-04-21T00:00:00",
          "2025-04-22T00:00:00",
          "2025-04-23T00:00:00",
          "2025-04-24T00:00:00",
          "2025-04-25T00:00:00",
          "2025-04-26T00:00:00",
          "2025-04-27T00:00:00",
          "2025-04-28T00:00:00",
          "2025-04-29T00:00:00",
          "2025-04-30T00:00:00",
          "2025-05-01T00:00:00",
          "2025-05-02T00:00:00",
          "2025-05-03T00:00:00",
          "2025-05-04T00:00:00",
          "2025-05-05T00:00:00",
          "2025-05-06T00:00:00",
          "2025-05-07T00:00:00",
          "2025-05-08T00:00:00"
         ],
         "y": {
          "bdata": "rK3YX11280AyVTAqbnbzQPJBz2ZtdvNA8x/Sb21280BnRGlvbXbzQGdEaW9tdvNAZ0Rpb21280BnRGlvbXbzQGdEaW9tdvNAZ0Rpb21280BnRGlvbXbzQGdEaW9tdvNAZ0Rpb21280BnRGlvbXbzQGdEaW9tdvNAZ0Rpb21280BnRGlvbXbzQGdEaW9tdvNAZ0Rpb21280BnRGlvbXbzQGdEaW9tdvNAZ0Rpb21280BnRGlvbXbzQGdEaW9tdvNAZ0Rpb21280BnRGlvbXbzQGdEaW9tdvNAZ0Rpb21280BnRGlvbXbzQGdEaW9tdvNA",
          "dtype": "f8"
         }
        },
        {
         "line": {
          "width": 0
         },
         "marker": {
          "color": "#68BBE3"
         },
         "mode": "lines",
         "name": "Lower Interval",
         "showlegend": false,
         "type": "scatter",
         "x": [
          "2025-04-09T00:00:00",
          "2025-04-10T00:00:00",
          "2025-04-11T00:00:00",
          "2025-04-12T00:00:00",
          "2025-04-13T00:00:00",
          "2025-04-14T00:00:00",
          "2025-04-15T00:00:00",
          "2025-04-16T00:00:00",
          "2025-04-17T00:00:00",
          "2025-04-18T00:00:00",
          "2025-04-19T00:00:00",
          "2025-04-20T00:00:00",
          "2025-04-21T00:00:00",
          "2025-04-22T00:00:00",
          "2025-04-23T00:00:00",
          "2025-04-24T00:00:00",
          "2025-04-25T00:00:00",
          "2025-04-26T00:00:00",
          "2025-04-27T00:00:00",
          "2025-04-28T00:00:00",
          "2025-04-29T00:00:00",
          "2025-04-30T00:00:00",
          "2025-05-01T00:00:00",
          "2025-05-02T00:00:00",
          "2025-05-03T00:00:00",
          "2025-05-04T00:00:00",
          "2025-05-05T00:00:00",
          "2025-05-06T00:00:00",
          "2025-05-07T00:00:00",
          "2025-05-08T00:00:00"
         ],
         "y": {
          "bdata": "4umVsiei8kA51sVteVPyQOSDns3fFvJARIts5yXk8UDPZtXnyrfxQLN78rD9j/FA1lbsL6dr8UDEQq1pEErxQPmgZ7O5KvFA5BQdyUUN8UBfmEwVbvHwQPhT46X71vBA4lgXt8K98EBvEoPAn6XwQFD8GHN1jvBAqoJRSSt48ECYbhKDrGLwQJT2Bl/nTfBA9bnaisw58ECcxCCwTibwQEi/fR1iE/BAaQBvgfwA8EDbiv1lKd7vQNPe4AtFu+9Akst/SD2Z70Ch+DHmBHjvQC2yne+PV+9Ax0s3idM370BwXwfOxRjvQBDpt69d+u5A",
          "dtype": "f8"
         }
        },
        {
         "fill": "tonexty",
         "fillcolor": "rgba(104,187,227,0.5)",
         "line": {
          "width": 0
         },
         "marker": {
          "color": "#68BBE3"
         },
         "mode": "lines",
         "name": "Prediction Interval | ARIMA",
         "showlegend": true,
         "type": "scatter",
         "x": [
          "2025-04-09T00:00:00",
          "2025-04-10T00:00:00",
          "2025-04-11T00:00:00",
          "2025-04-12T00:00:00",
          "2025-04-13T00:00:00",
          "2025-04-14T00:00:00",
          "2025-04-15T00:00:00",
          "2025-04-16T00:00:00",
          "2025-04-17T00:00:00",
          "2025-04-18T00:00:00",
          "2025-04-19T00:00:00",
          "2025-04-20T00:00:00",
          "2025-04-21T00:00:00",
          "2025-04-22T00:00:00",
          "2025-04-23T00:00:00",
          "2025-04-24T00:00:00",
          "2025-04-25T00:00:00",
          "2025-04-26T00:00:00",
          "2025-04-27T00:00:00",
          "2025-04-28T00:00:00",
          "2025-04-29T00:00:00",
          "2025-04-30T00:00:00",
          "2025-05-01T00:00:00",
          "2025-05-02T00:00:00",
          "2025-05-03T00:00:00",
          "2025-05-04T00:00:00",
          "2025-05-05T00:00:00",
          "2025-05-06T00:00:00",
          "2025-05-07T00:00:00",
          "2025-05-08T00:00:00"
         ],
         "y": {
          "bdata": "WYY41gNU9EB7gy9Mbqv0QO2ePCyr8PRAGsBbIAos9UC1N/jCCmH1QNcS8kF+kfVAbVZ9rnu+9UDpt68Duuj1QFuxv+y4EPZAysNCrdU29kBxrIvbVlv2QKyL22hzfvZAXwfOGVeg9kAi/fZ1JcH2QFioNc374PZAyeU/pPL/9kBuowG8Hh73QELPZtWRO/dAeqUsQ1tY90CrPldbiHT3QJ/Nqs8kkPdAXCBB8Tqr90By+Q/p08X3QHKKjuT33/dAv30dOK7590CutmJ//RL4QCgPC7XrK/hAZF3cRn5E+EDsL7snulz4QLfRAN6jdPhA",
          "dtype": "f8"
         }
        },
        {
         "marker": {
          "color": "#3f3f3f",
          "size": 5
         },
         "mode": "lines+markers",
         "name": "Original",
         "showlegend": true,
         "type": "scatter",
         "x": [
          "2024-04-09T00:00:00",
          "2024-04-10T00:00:00",
          "2024-04-11T00:00:00",
          "2024-04-12T00:00:00",
          "2024-04-13T00:00:00",
          "2024-04-14T00:00:00",
          "2024-04-15T00:00:00",
          "2024-04-16T00:00:00",
          "2024-04-17T00:00:00",
          "2024-04-18T00:00:00",
          "2024-04-19T00:00:00",
          "2024-04-20T00:00:00",
          "2024-04-21T00:00:00",
          "2024-04-22T00:00:00",
          "2024-04-23T00:00:00",
          "2024-04-24T00:00:00",
          "2024-04-25T00:00:00",
          "2024-04-26T00:00:00",
          "2024-04-27T00:00:00",
          "2024-04-28T00:00:00",
          "2024-04-29T00:00:00",
          "2024-04-30T00:00:00",
          "2024-05-01T00:00:00",
          "2024-05-02T00:00:00",
          "2024-05-03T00:00:00",
          "2024-05-04T00:00:00",
          "2024-05-05T00:00:00",
          "2024-05-06T00:00:00",
          "2024-05-07T00:00:00",
          "2024-05-08T00:00:00",
          "2024-05-09T00:00:00",
          "2024-05-10T00:00:00",
          "2024-05-11T00:00:00",
          "2024-05-12T00:00:00",
          "2024-05-13T00:00:00",
          "2024-05-14T00:00:00",
          "2024-05-15T00:00:00",
          "2024-05-16T00:00:00",
          "2024-05-17T00:00:00",
          "2024-05-18T00:00:00",
          "2024-05-19T00:00:00",
          "2024-05-20T00:00:00",
          "2024-05-21T00:00:00",
          "2024-05-22T00:00:00",
          "2024-05-23T00:00:00",
          "2024-05-24T00:00:00",
          "2024-05-25T00:00:00",
          "2024-05-26T00:00:00",
          "2024-05-27T00:00:00",
          "2024-05-28T00:00:00",
          "2024-05-29T00:00:00",
          "2024-05-30T00:00:00",
          "2024-05-31T00:00:00",
          "2024-06-01T00:00:00",
          "2024-06-02T00:00:00",
          "2024-06-03T00:00:00",
          "2024-06-04T00:00:00",
          "2024-06-05T00:00:00",
          "2024-06-06T00:00:00",
          "2024-06-07T00:00:00",
          "2024-06-08T00:00:00",
          "2024-06-09T00:00:00",
          "2024-06-10T00:00:00",
          "2024-06-11T00:00:00",
          "2024-06-12T00:00:00",
          "2024-06-13T00:00:00",
          "2024-06-14T00:00:00",
          "2024-06-15T00:00:00",
          "2024-06-16T00:00:00",
          "2024-06-17T00:00:00",
          "2024-06-18T00:00:00",
          "2024-06-19T00:00:00",
          "2024-06-20T00:00:00",
          "2024-06-21T00:00:00",
          "2024-06-22T00:00:00",
          "2024-06-23T00:00:00",
          "2024-06-24T00:00:00",
          "2024-06-25T00:00:00",
          "2024-06-26T00:00:00",
          "2024-06-27T00:00:00",
          "2024-06-28T00:00:00",
          "2024-06-29T00:00:00",
          "2024-06-30T00:00:00",
          "2024-07-01T00:00:00",
          "2024-07-02T00:00:00",
          "2024-07-03T00:00:00",
          "2024-07-04T00:00:00",
          "2024-07-05T00:00:00",
          "2024-07-06T00:00:00",
          "2024-07-07T00:00:00",
          "2024-07-08T00:00:00",
          "2024-07-09T00:00:00",
          "2024-07-10T00:00:00",
          "2024-07-11T00:00:00",
          "2024-07-12T00:00:00",
          "2024-07-13T00:00:00",
          "2024-07-14T00:00:00",
          "2024-07-15T00:00:00",
          "2024-07-16T00:00:00",
          "2024-07-17T00:00:00",
          "2024-07-18T00:00:00",
          "2024-07-19T00:00:00",
          "2024-07-20T00:00:00",
          "2024-07-21T00:00:00",
          "2024-07-22T00:00:00",
          "2024-07-23T00:00:00",
          "2024-07-24T00:00:00",
          "2024-07-25T00:00:00",
          "2024-07-26T00:00:00",
          "2024-07-27T00:00:00",
          "2024-07-28T00:00:00",
          "2024-07-29T00:00:00",
          "2024-07-30T00:00:00",
          "2024-07-31T00:00:00",
          "2024-08-01T00:00:00",
          "2024-08-02T00:00:00",
          "2024-08-03T00:00:00",
          "2024-08-04T00:00:00",
          "2024-08-05T00:00:00",
          "2024-08-06T00:00:00",
          "2024-08-07T00:00:00",
          "2024-08-08T00:00:00",
          "2024-08-09T00:00:00",
          "2024-08-10T00:00:00",
          "2024-08-11T00:00:00",
          "2024-08-12T00:00:00",
          "2024-08-13T00:00:00",
          "2024-08-14T00:00:00",
          "2024-08-15T00:00:00",
          "2024-08-16T00:00:00",
          "2024-08-17T00:00:00",
          "2024-08-18T00:00:00",
          "2024-08-19T00:00:00",
          "2024-08-20T00:00:00",
          "2024-08-21T00:00:00",
          "2024-08-22T00:00:00",
          "2024-08-23T00:00:00",
          "2024-08-24T00:00:00",
          "2024-08-25T00:00:00",
          "2024-08-26T00:00:00",
          "2024-08-27T00:00:00",
          "2024-08-28T00:00:00",
          "2024-08-29T00:00:00",
          "2024-08-30T00:00:00",
          "2024-08-31T00:00:00",
          "2024-09-01T00:00:00",
          "2024-09-02T00:00:00",
          "2024-09-03T00:00:00",
          "2024-09-04T00:00:00",
          "2024-09-05T00:00:00",
          "2024-09-06T00:00:00",
          "2024-09-07T00:00:00",
          "2024-09-08T00:00:00",
          "2024-09-09T00:00:00",
          "2024-09-10T00:00:00",
          "2024-09-11T00:00:00",
          "2024-09-12T00:00:00",
          "2024-09-13T00:00:00",
          "2024-09-14T00:00:00",
          "2024-09-15T00:00:00",
          "2024-09-16T00:00:00",
          "2024-09-17T00:00:00",
          "2024-09-18T00:00:00",
          "2024-09-19T00:00:00",
          "2024-09-20T00:00:00",
          "2024-09-21T00:00:00",
          "2024-09-22T00:00:00",
          "2024-09-23T00:00:00",
          "2024-09-24T00:00:00",
          "2024-09-25T00:00:00",
          "2024-09-26T00:00:00",
          "2024-09-27T00:00:00",
          "2024-09-28T00:00:00",
          "2024-09-29T00:00:00",
          "2024-09-30T00:00:00",
          "2024-10-01T00:00:00",
          "2024-10-02T00:00:00",
          "2024-10-03T00:00:00",
          "2024-10-04T00:00:00",
          "2024-10-05T00:00:00",
          "2024-10-06T00:00:00",
          "2024-10-07T00:00:00",
          "2024-10-08T00:00:00",
          "2024-10-09T00:00:00",
          "2024-10-10T00:00:00",
          "2024-10-11T00:00:00",
          "2024-10-12T00:00:00",
          "2024-10-13T00:00:00",
          "2024-10-14T00:00:00",
          "2024-10-15T00:00:00",
          "2024-10-16T00:00:00",
          "2024-10-17T00:00:00",
          "2024-10-18T00:00:00",
          "2024-10-19T00:00:00",
          "2024-10-20T00:00:00",
          "2024-10-21T00:00:00",
          "2024-10-22T00:00:00",
          "2024-10-23T00:00:00",
          "2024-10-24T00:00:00",
          "2024-10-25T00:00:00",
          "2024-10-26T00:00:00",
          "2024-10-27T00:00:00",
          "2024-10-28T00:00:00",
          "2024-10-29T00:00:00",
          "2024-10-30T00:00:00",
          "2024-10-31T00:00:00",
          "2024-11-01T00:00:00",
          "2024-11-02T00:00:00",
          "2024-11-03T00:00:00",
          "2024-11-04T00:00:00",
          "2024-11-05T00:00:00",
          "2024-11-06T00:00:00",
          "2024-11-07T00:00:00",
          "2024-11-08T00:00:00",
          "2024-11-09T00:00:00",
          "2024-11-10T00:00:00",
          "2024-11-11T00:00:00",
          "2024-11-12T00:00:00",
          "2024-11-13T00:00:00",
          "2024-11-14T00:00:00",
          "2024-11-15T00:00:00",
          "2024-11-16T00:00:00",
          "2024-11-17T00:00:00",
          "2024-11-18T00:00:00",
          "2024-11-19T00:00:00",
          "2024-11-20T00:00:00",
          "2024-11-21T00:00:00",
          "2024-11-22T00:00:00",
          "2024-11-23T00:00:00",
          "2024-11-24T00:00:00",
          "2024-11-25T00:00:00",
          "2024-11-26T00:00:00",
          "2024-11-27T00:00:00",
          "2024-11-28T00:00:00",
          "2024-11-29T00:00:00",
          "2024-11-30T00:00:00",
          "2024-12-01T00:00:00",
          "2024-12-02T00:00:00",
          "2024-12-03T00:00:00",
          "2024-12-04T00:00:00",
          "2024-12-05T00:00:00",
          "2024-12-06T00:00:00",
          "2024-12-07T00:00:00",
          "2024-12-08T00:00:00",
          "2024-12-09T00:00:00",
          "2024-12-10T00:00:00",
          "2024-12-11T00:00:00",
          "2024-12-12T00:00:00",
          "2024-12-13T00:00:00",
          "2024-12-14T00:00:00",
          "2024-12-15T00:00:00",
          "2024-12-16T00:00:00",
          "2024-12-17T00:00:00",
          "2024-12-18T00:00:00",
          "2024-12-19T00:00:00",
          "2024-12-20T00:00:00",
          "2024-12-21T00:00:00",
          "2024-12-22T00:00:00",
          "2024-12-23T00:00:00",
          "2024-12-24T00:00:00",
          "2024-12-25T00:00:00",
          "2024-12-26T00:00:00",
          "2024-12-27T00:00:00",
          "2024-12-28T00:00:00",
          "2024-12-29T00:00:00",
          "2024-12-30T00:00:00",
          "2024-12-31T00:00:00",
          "2025-01-01T00:00:00",
          "2025-01-02T00:00:00",
          "2025-01-03T00:00:00",
          "2025-01-04T00:00:00",
          "2025-01-05T00:00:00",
          "2025-01-06T00:00:00",
          "2025-01-07T00:00:00",
          "2025-01-08T00:00:00",
          "2025-01-09T00:00:00",
          "2025-01-10T00:00:00",
          "2025-01-11T00:00:00",
          "2025-01-12T00:00:00",
          "2025-01-13T00:00:00",
          "2025-01-14T00:00:00",
          "2025-01-15T00:00:00",
          "2025-01-16T00:00:00",
          "2025-01-17T00:00:00",
          "2025-01-18T00:00:00",
          "2025-01-19T00:00:00",
          "2025-01-20T00:00:00",
          "2025-01-21T00:00:00",
          "2025-01-22T00:00:00",
          "2025-01-23T00:00:00",
          "2025-01-24T00:00:00",
          "2025-01-25T00:00:00",
          "2025-01-26T00:00:00",
          "2025-01-27T00:00:00",
          "2025-01-28T00:00:00",
          "2025-01-29T00:00:00",
          "2025-01-30T00:00:00",
          "2025-01-31T00:00:00",
          "2025-02-01T00:00:00",
          "2025-02-02T00:00:00",
          "2025-02-03T00:00:00",
          "2025-02-04T00:00:00",
          "2025-02-05T00:00:00",
          "2025-02-06T00:00:00",
          "2025-02-07T00:00:00",
          "2025-02-08T00:00:00",
          "2025-02-09T00:00:00",
          "2025-02-10T00:00:00",
          "2025-02-11T00:00:00",
          "2025-02-12T00:00:00",
          "2025-02-13T00:00:00",
          "2025-02-14T00:00:00",
          "2025-02-15T00:00:00",
          "2025-02-16T00:00:00",
          "2025-02-17T00:00:00",
          "2025-02-18T00:00:00",
          "2025-02-19T00:00:00",
          "2025-02-20T00:00:00",
          "2025-02-21T00:00:00",
          "2025-02-22T00:00:00",
          "2025-02-23T00:00:00",
          "2025-02-24T00:00:00",
          "2025-02-25T00:00:00",
          "2025-02-26T00:00:00",
          "2025-02-27T00:00:00",
          "2025-02-28T00:00:00",
          "2025-03-01T00:00:00",
          "2025-03-02T00:00:00",
          "2025-03-03T00:00:00",
          "2025-03-04T00:00:00",
          "2025-03-05T00:00:00",
          "2025-03-06T00:00:00",
          "2025-03-07T00:00:00",
          "2025-03-08T00:00:00",
          "2025-03-09T00:00:00",
          "2025-03-10T00:00:00",
          "2025-03-11T00:00:00",
          "2025-03-12T00:00:00",
          "2025-03-13T00:00:00",
          "2025-03-14T00:00:00",
          "2025-03-15T00:00:00",
          "2025-03-16T00:00:00",
          "2025-03-17T00:00:00",
          "2025-03-18T00:00:00",
          "2025-03-19T00:00:00",
          "2025-03-20T00:00:00",
          "2025-03-21T00:00:00",
          "2025-03-22T00:00:00",
          "2025-03-23T00:00:00",
          "2025-03-24T00:00:00",
          "2025-03-25T00:00:00",
          "2025-03-26T00:00:00",
          "2025-03-27T00:00:00",
          "2025-03-28T00:00:00",
          "2025-03-29T00:00:00",
          "2025-03-30T00:00:00",
          "2025-03-31T00:00:00",
          "2025-04-01T00:00:00",
          "2025-04-02T00:00:00",
          "2025-04-03T00:00:00",
          "2025-04-04T00:00:00",
          "2025-04-05T00:00:00",
          "2025-04-06T00:00:00",
          "2025-04-07T00:00:00",
          "2025-04-08T00:00:00"
         ],
         "y": {
          "bdata": "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",
          "dtype": "f8"
         }
        }
       ],
       "layout": {
        "showlegend": true,
        "template": {
         "data": {
          "bar": [
           {
            "error_x": {
             "color": "rgb(51,51,51)"
            },
            "error_y": {
             "color": "rgb(51,51,51)"
            },
            "marker": {
             "line": {
              "color": "rgb(237,237,237)",
              "width": 0.5
             },
             "pattern": {
              "fillmode": "overlay",
              "size": 10,
              "solidity": 0.2
             }
            },
            "type": "bar"
           }
          ],
          "barpolar": [
           {
            "marker": {
             "line": {
              "color": "rgb(237,237,237)",
              "width": 0.5
             },
             "pattern": {
              "fillmode": "overlay",
              "size": 10,
              "solidity": 0.2
             }
            },
            "type": "barpolar"
           }
          ],
          "carpet": [
           {
            "aaxis": {
             "endlinecolor": "rgb(51,51,51)",
             "gridcolor": "white",
             "linecolor": "white",
             "minorgridcolor": "white",
             "startlinecolor": "rgb(51,51,51)"
            },
            "baxis": {
             "endlinecolor": "rgb(51,51,51)",
             "gridcolor": "white",
             "linecolor": "white",
             "minorgridcolor": "white",
             "startlinecolor": "rgb(51,51,51)"
            },
            "type": "carpet"
           }
          ],
          "choropleth": [
           {
            "colorbar": {
             "outlinewidth": 0,
             "tickcolor": "rgb(237,237,237)",
             "ticklen": 6,
             "ticks": "inside"
            },
            "type": "choropleth"
           }
          ],
          "contour": [
           {
            "colorbar": {
             "outlinewidth": 0,
             "tickcolor": "rgb(237,237,237)",
             "ticklen": 6,
             "ticks": "inside"
            },
            "colorscale": [
             [
              0,
              "rgb(20,44,66)"
             ],
             [
              1,
              "rgb(90,179,244)"
             ]
            ],
            "type": "contour"
           }
          ],
          "contourcarpet": [
           {
            "colorbar": {
             "outlinewidth": 0,
             "tickcolor": "rgb(237,237,237)",
             "ticklen": 6,
             "ticks": "inside"
            },
            "type": "contourcarpet"
           }
          ],
          "heatmap": [
           {
            "colorbar": {
             "outlinewidth": 0,
             "tickcolor": "rgb(237,237,237)",
             "ticklen": 6,
             "ticks": "inside"
            },
            "colorscale": [
             [
              0,
              "rgb(20,44,66)"
             ],
             [
              1,
              "rgb(90,179,244)"
             ]
            ],
            "type": "heatmap"
           }
          ],
          "histogram": [
           {
            "marker": {
             "pattern": {
              "fillmode": "overlay",
              "size": 10,
              "solidity": 0.2
             }
            },
            "type": "histogram"
           }
          ],
          "histogram2d": [
           {
            "colorbar": {
             "outlinewidth": 0,
             "tickcolor": "rgb(237,237,237)",
             "ticklen": 6,
             "ticks": "inside"
            },
            "colorscale": [
             [
              0,
              "rgb(20,44,66)"
             ],
             [
              1,
              "rgb(90,179,244)"
             ]
            ],
            "type": "histogram2d"
           }
          ],
          "histogram2dcontour": [
           {
            "colorbar": {
             "outlinewidth": 0,
             "tickcolor": "rgb(237,237,237)",
             "ticklen": 6,
             "ticks": "inside"
            },
            "colorscale": [
             [
              0,
              "rgb(20,44,66)"
             ],
             [
              1,
              "rgb(90,179,244)"
             ]
            ],
            "type": "histogram2dcontour"
           }
          ],
          "mesh3d": [
           {
            "colorbar": {
             "outlinewidth": 0,
             "tickcolor": "rgb(237,237,237)",
             "ticklen": 6,
             "ticks": "inside"
            },
            "type": "mesh3d"
           }
          ],
          "parcoords": [
           {
            "line": {
             "colorbar": {
              "outlinewidth": 0,
              "tickcolor": "rgb(237,237,237)",
              "ticklen": 6,
              "ticks": "inside"
             }
            },
            "type": "parcoords"
           }
          ],
          "pie": [
           {
            "automargin": true,
            "type": "pie"
           }
          ],
          "scatter": [
           {
            "fillpattern": {
             "fillmode": "overlay",
             "size": 10,
             "solidity": 0.2
            },
            "type": "scatter"
           }
          ],
          "scatter3d": [
           {
            "line": {
             "colorbar": {
              "outlinewidth": 0,
              "tickcolor": "rgb(237,237,237)",
              "ticklen": 6,
              "ticks": "inside"
             }
            },
            "marker": {
             "colorbar": {
              "outlinewidth": 0,
              "tickcolor": "rgb(237,237,237)",
              "ticklen": 6,
              "ticks": "inside"
             }
            },
            "type": "scatter3d"
           }
          ],
          "scattercarpet": [
           {
            "marker": {
             "colorbar": {
              "outlinewidth": 0,
              "tickcolor": "rgb(237,237,237)",
              "ticklen": 6,
              "ticks": "inside"
             }
            },
            "type": "scattercarpet"
           }
          ],
          "scattergeo": [
           {
            "marker": {
             "colorbar": {
              "outlinewidth": 0,
              "tickcolor": "rgb(237,237,237)",
              "ticklen": 6,
              "ticks": "inside"
             }
            },
            "type": "scattergeo"
           }
          ],
          "scattergl": [
           {
            "marker": {
             "colorbar": {
              "outlinewidth": 0,
              "tickcolor": "rgb(237,237,237)",
              "ticklen": 6,
              "ticks": "inside"
             }
            },
            "type": "scattergl"
           }
          ],
          "scattermap": [
           {
            "marker": {
             "colorbar": {
              "outlinewidth": 0,
              "tickcolor": "rgb(237,237,237)",
              "ticklen": 6,
              "ticks": "inside"
             }
            },
            "type": "scattermap"
           }
          ],
          "scattermapbox": [
           {
            "marker": {
             "colorbar": {
              "outlinewidth": 0,
              "tickcolor": "rgb(237,237,237)",
              "ticklen": 6,
              "ticks": "inside"
             }
            },
            "type": "scattermapbox"
           }
          ],
          "scatterpolar": [
           {
            "marker": {
             "colorbar": {
              "outlinewidth": 0,
              "tickcolor": "rgb(237,237,237)",
              "ticklen": 6,
              "ticks": "inside"
             }
            },
            "type": "scatterpolar"
           }
          ],
          "scatterpolargl": [
           {
            "marker": {
             "colorbar": {
              "outlinewidth": 0,
              "tickcolor": "rgb(237,237,237)",
              "ticklen": 6,
              "ticks": "inside"
             }
            },
            "type": "scatterpolargl"
           }
          ],
          "scatterternary": [
           {
            "marker": {
             "colorbar": {
              "outlinewidth": 0,
              "tickcolor": "rgb(237,237,237)",
              "ticklen": 6,
              "ticks": "inside"
             }
            },
            "type": "scatterternary"
           }
          ],
          "surface": [
           {
            "colorbar": {
             "outlinewidth": 0,
             "tickcolor": "rgb(237,237,237)",
             "ticklen": 6,
             "ticks": "inside"
            },
            "colorscale": [
             [
              0,
              "rgb(20,44,66)"
             ],
             [
              1,
              "rgb(90,179,244)"
             ]
            ],
            "type": "surface"
           }
          ],
          "table": [
           {
            "cells": {
             "fill": {
              "color": "rgb(237,237,237)"
             },
             "line": {
              "color": "white"
             }
            },
            "header": {
             "fill": {
              "color": "rgb(217,217,217)"
             },
             "line": {
              "color": "white"
             }
            },
            "type": "table"
           }
          ]
         },
         "layout": {
          "annotationdefaults": {
           "arrowhead": 0,
           "arrowwidth": 1
          },
          "autotypenumbers": "strict",
          "coloraxis": {
           "colorbar": {
            "outlinewidth": 0,
            "tickcolor": "rgb(237,237,237)",
            "ticklen": 6,
            "ticks": "inside"
           }
          },
          "colorscale": {
           "sequential": [
            [
             0,
             "rgb(20,44,66)"
            ],
            [
             1,
             "rgb(90,179,244)"
            ]
           ],
           "sequentialminus": [
            [
             0,
             "rgb(20,44,66)"
            ],
            [
             1,
             "rgb(90,179,244)"
            ]
           ]
          },
          "colorway": [
           "#F8766D",
           "#A3A500",
           "#00BF7D",
           "#00B0F6",
           "#E76BF3"
          ],
          "font": {
           "color": "rgb(51,51,51)"
          },
          "geo": {
           "bgcolor": "white",
           "lakecolor": "white",
           "landcolor": "rgb(237,237,237)",
           "showlakes": true,
           "showland": true,
           "subunitcolor": "white"
          },
          "hoverlabel": {
           "align": "left"
          },
          "hovermode": "closest",
          "paper_bgcolor": "white",
          "plot_bgcolor": "rgb(237,237,237)",
          "polar": {
           "angularaxis": {
            "gridcolor": "white",
            "linecolor": "white",
            "showgrid": true,
            "tickcolor": "rgb(51,51,51)",
            "ticks": "outside"
           },
           "bgcolor": "rgb(237,237,237)",
           "radialaxis": {
            "gridcolor": "white",
            "linecolor": "white",
            "showgrid": true,
            "tickcolor": "rgb(51,51,51)",
            "ticks": "outside"
           }
          },
          "scene": {
           "xaxis": {
            "backgroundcolor": "rgb(237,237,237)",
            "gridcolor": "white",
            "gridwidth": 2,
            "linecolor": "white",
            "showbackground": true,
            "showgrid": true,
            "tickcolor": "rgb(51,51,51)",
            "ticks": "outside",
            "zerolinecolor": "white"
           },
           "yaxis": {
            "backgroundcolor": "rgb(237,237,237)",
            "gridcolor": "white",
            "gridwidth": 2,
            "linecolor": "white",
            "showbackground": true,
            "showgrid": true,
            "tickcolor": "rgb(51,51,51)",
            "ticks": "outside",
            "zerolinecolor": "white"
           },
           "zaxis": {
            "backgroundcolor": "rgb(237,237,237)",
            "gridcolor": "white",
            "gridwidth": 2,
            "linecolor": "white",
            "showbackground": true,
            "showgrid": true,
            "tickcolor": "rgb(51,51,51)",
            "ticks": "outside",
            "zerolinecolor": "white"
           }
          },
          "shapedefaults": {
           "fillcolor": "black",
           "line": {
            "width": 0
           },
           "opacity": 0.3
          },
          "ternary": {
           "aaxis": {
            "gridcolor": "white",
            "linecolor": "white",
            "showgrid": true,
            "tickcolor": "rgb(51,51,51)",
            "ticks": "outside"
           },
           "baxis": {
            "gridcolor": "white",
            "linecolor": "white",
            "showgrid": true,
            "tickcolor": "rgb(51,51,51)",
            "ticks": "outside"
           },
           "bgcolor": "rgb(237,237,237)",
           "caxis": {
            "gridcolor": "white",
            "linecolor": "white",
            "showgrid": true,
            "tickcolor": "rgb(51,51,51)",
            "ticks": "outside"
           }
          },
          "xaxis": {
           "automargin": true,
           "gridcolor": "white",
           "linecolor": "white",
           "showgrid": true,
           "tickcolor": "rgb(51,51,51)",
           "ticks": "outside",
           "title": {
            "standoff": 15
           },
           "zerolinecolor": "white"
          },
          "yaxis": {
           "automargin": true,
           "gridcolor": "white",
           "linecolor": "white",
           "showgrid": true,
           "tickcolor": "rgb(51,51,51)",
           "ticks": "outside",
           "title": {
            "standoff": 15
           },
           "zerolinecolor": "white"
          }
         }
        },
        "title": {
         "text": "Actual vs. 'Out-of-Sample' Forecast | BTC-USD"
        },
        "xaxis": {
         "title": {
          "text": "Time"
         }
        },
        "yaxis": {
         "title": {
          "text": "Values"
         }
        }
       }
      }
     },
     "metadata": {},
     "output_type": "display_data"
    }
   ],
   "source": [
    "#Plot prophet model forecast\n",
    "plot_model(final_arima, plot='forecast')"
   ]
  },
  {
   "cell_type": "code",
   "execution_count": 92,
   "id": "f37eb818",
   "metadata": {},
   "outputs": [
    {
     "name": "stdout",
     "output_type": "stream",
     "text": [
      "<class 'pandas.core.series.Series'>\n",
      "DatetimeIndex: 365 entries, 2024-04-09 to 2025-04-08\n",
      "Series name: BNB-USD\n",
      "Non-Null Count  Dtype  \n",
      "--------------  -----  \n",
      "365 non-null    float64\n",
      "dtypes: float64(1)\n",
      "memory usage: 5.7 KB\n"
     ]
    }
   ],
   "source": [
    "bnb = df.loc[:,'BNB-USD']\n",
    "bnb.info()"
   ]
  },
  {
   "cell_type": "code",
   "execution_count": 103,
   "id": "955c8ff7",
   "metadata": {},
   "outputs": [
    {
     "data": {
      "text/html": [
       "<style type=\"text/css\">\n",
       "#T_7eb91_row25_col1, #T_7eb91_row31_col1 {\n",
       "  background-color: lightgreen;\n",
       "}\n",
       "</style>\n",
       "<table id=\"T_7eb91\">\n",
       "  <thead>\n",
       "    <tr>\n",
       "      <th class=\"blank level0\" >&nbsp;</th>\n",
       "      <th id=\"T_7eb91_level0_col0\" class=\"col_heading level0 col0\" >Description</th>\n",
       "      <th id=\"T_7eb91_level0_col1\" class=\"col_heading level0 col1\" >Value</th>\n",
       "    </tr>\n",
       "  </thead>\n",
       "  <tbody>\n",
       "    <tr>\n",
       "      <th id=\"T_7eb91_level0_row0\" class=\"row_heading level0 row0\" >0</th>\n",
       "      <td id=\"T_7eb91_row0_col0\" class=\"data row0 col0\" >session_id</td>\n",
       "      <td id=\"T_7eb91_row0_col1\" class=\"data row0 col1\" >123</td>\n",
       "    </tr>\n",
       "    <tr>\n",
       "      <th id=\"T_7eb91_level0_row1\" class=\"row_heading level0 row1\" >1</th>\n",
       "      <td id=\"T_7eb91_row1_col0\" class=\"data row1 col0\" >Target</td>\n",
       "      <td id=\"T_7eb91_row1_col1\" class=\"data row1 col1\" >BNB-USD</td>\n",
       "    </tr>\n",
       "    <tr>\n",
       "      <th id=\"T_7eb91_level0_row2\" class=\"row_heading level0 row2\" >2</th>\n",
       "      <td id=\"T_7eb91_row2_col0\" class=\"data row2 col0\" >Approach</td>\n",
       "      <td id=\"T_7eb91_row2_col1\" class=\"data row2 col1\" >Univariate</td>\n",
       "    </tr>\n",
       "    <tr>\n",
       "      <th id=\"T_7eb91_level0_row3\" class=\"row_heading level0 row3\" >3</th>\n",
       "      <td id=\"T_7eb91_row3_col0\" class=\"data row3 col0\" >Exogenous Variables</td>\n",
       "      <td id=\"T_7eb91_row3_col1\" class=\"data row3 col1\" >Not Present</td>\n",
       "    </tr>\n",
       "    <tr>\n",
       "      <th id=\"T_7eb91_level0_row4\" class=\"row_heading level0 row4\" >4</th>\n",
       "      <td id=\"T_7eb91_row4_col0\" class=\"data row4 col0\" >Original data shape</td>\n",
       "      <td id=\"T_7eb91_row4_col1\" class=\"data row4 col1\" >(365, 1)</td>\n",
       "    </tr>\n",
       "    <tr>\n",
       "      <th id=\"T_7eb91_level0_row5\" class=\"row_heading level0 row5\" >5</th>\n",
       "      <td id=\"T_7eb91_row5_col0\" class=\"data row5 col0\" >Transformed data shape</td>\n",
       "      <td id=\"T_7eb91_row5_col1\" class=\"data row5 col1\" >(365, 1)</td>\n",
       "    </tr>\n",
       "    <tr>\n",
       "      <th id=\"T_7eb91_level0_row6\" class=\"row_heading level0 row6\" >6</th>\n",
       "      <td id=\"T_7eb91_row6_col0\" class=\"data row6 col0\" >Transformed train set shape</td>\n",
       "      <td id=\"T_7eb91_row6_col1\" class=\"data row6 col1\" >(335, 1)</td>\n",
       "    </tr>\n",
       "    <tr>\n",
       "      <th id=\"T_7eb91_level0_row7\" class=\"row_heading level0 row7\" >7</th>\n",
       "      <td id=\"T_7eb91_row7_col0\" class=\"data row7 col0\" >Transformed test set shape</td>\n",
       "      <td id=\"T_7eb91_row7_col1\" class=\"data row7 col1\" >(30, 1)</td>\n",
       "    </tr>\n",
       "    <tr>\n",
       "      <th id=\"T_7eb91_level0_row8\" class=\"row_heading level0 row8\" >8</th>\n",
       "      <td id=\"T_7eb91_row8_col0\" class=\"data row8 col0\" >Rows with missing values</td>\n",
       "      <td id=\"T_7eb91_row8_col1\" class=\"data row8 col1\" >0.0%</td>\n",
       "    </tr>\n",
       "    <tr>\n",
       "      <th id=\"T_7eb91_level0_row9\" class=\"row_heading level0 row9\" >9</th>\n",
       "      <td id=\"T_7eb91_row9_col0\" class=\"data row9 col0\" >Fold Generator</td>\n",
       "      <td id=\"T_7eb91_row9_col1\" class=\"data row9 col1\" >ExpandingWindowSplitter</td>\n",
       "    </tr>\n",
       "    <tr>\n",
       "      <th id=\"T_7eb91_level0_row10\" class=\"row_heading level0 row10\" >10</th>\n",
       "      <td id=\"T_7eb91_row10_col0\" class=\"data row10 col0\" >Fold Number</td>\n",
       "      <td id=\"T_7eb91_row10_col1\" class=\"data row10 col1\" >3</td>\n",
       "    </tr>\n",
       "    <tr>\n",
       "      <th id=\"T_7eb91_level0_row11\" class=\"row_heading level0 row11\" >11</th>\n",
       "      <td id=\"T_7eb91_row11_col0\" class=\"data row11 col0\" >Enforce Prediction Interval</td>\n",
       "      <td id=\"T_7eb91_row11_col1\" class=\"data row11 col1\" >False</td>\n",
       "    </tr>\n",
       "    <tr>\n",
       "      <th id=\"T_7eb91_level0_row12\" class=\"row_heading level0 row12\" >12</th>\n",
       "      <td id=\"T_7eb91_row12_col0\" class=\"data row12 col0\" >Splits used for hyperparameters</td>\n",
       "      <td id=\"T_7eb91_row12_col1\" class=\"data row12 col1\" >all</td>\n",
       "    </tr>\n",
       "    <tr>\n",
       "      <th id=\"T_7eb91_level0_row13\" class=\"row_heading level0 row13\" >13</th>\n",
       "      <td id=\"T_7eb91_row13_col0\" class=\"data row13 col0\" >User Defined Seasonal Period(s)</td>\n",
       "      <td id=\"T_7eb91_row13_col1\" class=\"data row13 col1\" >D</td>\n",
       "    </tr>\n",
       "    <tr>\n",
       "      <th id=\"T_7eb91_level0_row14\" class=\"row_heading level0 row14\" >14</th>\n",
       "      <td id=\"T_7eb91_row14_col0\" class=\"data row14 col0\" >Ignore Seasonality Test</td>\n",
       "      <td id=\"T_7eb91_row14_col1\" class=\"data row14 col1\" >False</td>\n",
       "    </tr>\n",
       "    <tr>\n",
       "      <th id=\"T_7eb91_level0_row15\" class=\"row_heading level0 row15\" >15</th>\n",
       "      <td id=\"T_7eb91_row15_col0\" class=\"data row15 col0\" >Seasonality Detection Algo</td>\n",
       "      <td id=\"T_7eb91_row15_col1\" class=\"data row15 col1\" >user_defined</td>\n",
       "    </tr>\n",
       "    <tr>\n",
       "      <th id=\"T_7eb91_level0_row16\" class=\"row_heading level0 row16\" >16</th>\n",
       "      <td id=\"T_7eb91_row16_col0\" class=\"data row16 col0\" >Max Period to Consider</td>\n",
       "      <td id=\"T_7eb91_row16_col1\" class=\"data row16 col1\" >60</td>\n",
       "    </tr>\n",
       "    <tr>\n",
       "      <th id=\"T_7eb91_level0_row17\" class=\"row_heading level0 row17\" >17</th>\n",
       "      <td id=\"T_7eb91_row17_col0\" class=\"data row17 col0\" >Seasonal Period(s) Tested</td>\n",
       "      <td id=\"T_7eb91_row17_col1\" class=\"data row17 col1\" >[7]</td>\n",
       "    </tr>\n",
       "    <tr>\n",
       "      <th id=\"T_7eb91_level0_row18\" class=\"row_heading level0 row18\" >18</th>\n",
       "      <td id=\"T_7eb91_row18_col0\" class=\"data row18 col0\" >Significant Seasonal Period(s)</td>\n",
       "      <td id=\"T_7eb91_row18_col1\" class=\"data row18 col1\" >[7]</td>\n",
       "    </tr>\n",
       "    <tr>\n",
       "      <th id=\"T_7eb91_level0_row19\" class=\"row_heading level0 row19\" >19</th>\n",
       "      <td id=\"T_7eb91_row19_col0\" class=\"data row19 col0\" >Significant Seasonal Period(s) without Harmonics</td>\n",
       "      <td id=\"T_7eb91_row19_col1\" class=\"data row19 col1\" >[7]</td>\n",
       "    </tr>\n",
       "    <tr>\n",
       "      <th id=\"T_7eb91_level0_row20\" class=\"row_heading level0 row20\" >20</th>\n",
       "      <td id=\"T_7eb91_row20_col0\" class=\"data row20 col0\" >Remove Harmonics</td>\n",
       "      <td id=\"T_7eb91_row20_col1\" class=\"data row20 col1\" >False</td>\n",
       "    </tr>\n",
       "    <tr>\n",
       "      <th id=\"T_7eb91_level0_row21\" class=\"row_heading level0 row21\" >21</th>\n",
       "      <td id=\"T_7eb91_row21_col0\" class=\"data row21 col0\" >Harmonics Order Method</td>\n",
       "      <td id=\"T_7eb91_row21_col1\" class=\"data row21 col1\" >harmonic_max</td>\n",
       "    </tr>\n",
       "    <tr>\n",
       "      <th id=\"T_7eb91_level0_row22\" class=\"row_heading level0 row22\" >22</th>\n",
       "      <td id=\"T_7eb91_row22_col0\" class=\"data row22 col0\" >Num Seasonalities to Use</td>\n",
       "      <td id=\"T_7eb91_row22_col1\" class=\"data row22 col1\" >1</td>\n",
       "    </tr>\n",
       "    <tr>\n",
       "      <th id=\"T_7eb91_level0_row23\" class=\"row_heading level0 row23\" >23</th>\n",
       "      <td id=\"T_7eb91_row23_col0\" class=\"data row23 col0\" >All Seasonalities to Use</td>\n",
       "      <td id=\"T_7eb91_row23_col1\" class=\"data row23 col1\" >[7]</td>\n",
       "    </tr>\n",
       "    <tr>\n",
       "      <th id=\"T_7eb91_level0_row24\" class=\"row_heading level0 row24\" >24</th>\n",
       "      <td id=\"T_7eb91_row24_col0\" class=\"data row24 col0\" >Primary Seasonality</td>\n",
       "      <td id=\"T_7eb91_row24_col1\" class=\"data row24 col1\" >7</td>\n",
       "    </tr>\n",
       "    <tr>\n",
       "      <th id=\"T_7eb91_level0_row25\" class=\"row_heading level0 row25\" >25</th>\n",
       "      <td id=\"T_7eb91_row25_col0\" class=\"data row25 col0\" >Seasonality Present</td>\n",
       "      <td id=\"T_7eb91_row25_col1\" class=\"data row25 col1\" >True</td>\n",
       "    </tr>\n",
       "    <tr>\n",
       "      <th id=\"T_7eb91_level0_row26\" class=\"row_heading level0 row26\" >26</th>\n",
       "      <td id=\"T_7eb91_row26_col0\" class=\"data row26 col0\" >Seasonality Type</td>\n",
       "      <td id=\"T_7eb91_row26_col1\" class=\"data row26 col1\" >mul</td>\n",
       "    </tr>\n",
       "    <tr>\n",
       "      <th id=\"T_7eb91_level0_row27\" class=\"row_heading level0 row27\" >27</th>\n",
       "      <td id=\"T_7eb91_row27_col0\" class=\"data row27 col0\" >Target Strictly Positive</td>\n",
       "      <td id=\"T_7eb91_row27_col1\" class=\"data row27 col1\" >True</td>\n",
       "    </tr>\n",
       "    <tr>\n",
       "      <th id=\"T_7eb91_level0_row28\" class=\"row_heading level0 row28\" >28</th>\n",
       "      <td id=\"T_7eb91_row28_col0\" class=\"data row28 col0\" >Target White Noise</td>\n",
       "      <td id=\"T_7eb91_row28_col1\" class=\"data row28 col1\" >No</td>\n",
       "    </tr>\n",
       "    <tr>\n",
       "      <th id=\"T_7eb91_level0_row29\" class=\"row_heading level0 row29\" >29</th>\n",
       "      <td id=\"T_7eb91_row29_col0\" class=\"data row29 col0\" >Recommended d</td>\n",
       "      <td id=\"T_7eb91_row29_col1\" class=\"data row29 col1\" >1</td>\n",
       "    </tr>\n",
       "    <tr>\n",
       "      <th id=\"T_7eb91_level0_row30\" class=\"row_heading level0 row30\" >30</th>\n",
       "      <td id=\"T_7eb91_row30_col0\" class=\"data row30 col0\" >Recommended Seasonal D</td>\n",
       "      <td id=\"T_7eb91_row30_col1\" class=\"data row30 col1\" >0</td>\n",
       "    </tr>\n",
       "    <tr>\n",
       "      <th id=\"T_7eb91_level0_row31\" class=\"row_heading level0 row31\" >31</th>\n",
       "      <td id=\"T_7eb91_row31_col0\" class=\"data row31 col0\" >Preprocess</td>\n",
       "      <td id=\"T_7eb91_row31_col1\" class=\"data row31 col1\" >True</td>\n",
       "    </tr>\n",
       "    <tr>\n",
       "      <th id=\"T_7eb91_level0_row32\" class=\"row_heading level0 row32\" >32</th>\n",
       "      <td id=\"T_7eb91_row32_col0\" class=\"data row32 col0\" >Numerical Imputation (Target)</td>\n",
       "      <td id=\"T_7eb91_row32_col1\" class=\"data row32 col1\" >drift</td>\n",
       "    </tr>\n",
       "    <tr>\n",
       "      <th id=\"T_7eb91_level0_row33\" class=\"row_heading level0 row33\" >33</th>\n",
       "      <td id=\"T_7eb91_row33_col0\" class=\"data row33 col0\" >Transformation (Target)</td>\n",
       "      <td id=\"T_7eb91_row33_col1\" class=\"data row33 col1\" >None</td>\n",
       "    </tr>\n",
       "    <tr>\n",
       "      <th id=\"T_7eb91_level0_row34\" class=\"row_heading level0 row34\" >34</th>\n",
       "      <td id=\"T_7eb91_row34_col0\" class=\"data row34 col0\" >Scaling (Target)</td>\n",
       "      <td id=\"T_7eb91_row34_col1\" class=\"data row34 col1\" >None</td>\n",
       "    </tr>\n",
       "    <tr>\n",
       "      <th id=\"T_7eb91_level0_row35\" class=\"row_heading level0 row35\" >35</th>\n",
       "      <td id=\"T_7eb91_row35_col0\" class=\"data row35 col0\" >Feature Engineering (Target) - Reduced Regression</td>\n",
       "      <td id=\"T_7eb91_row35_col1\" class=\"data row35 col1\" >False</td>\n",
       "    </tr>\n",
       "    <tr>\n",
       "      <th id=\"T_7eb91_level0_row36\" class=\"row_heading level0 row36\" >36</th>\n",
       "      <td id=\"T_7eb91_row36_col0\" class=\"data row36 col0\" >CPU Jobs</td>\n",
       "      <td id=\"T_7eb91_row36_col1\" class=\"data row36 col1\" >-1</td>\n",
       "    </tr>\n",
       "    <tr>\n",
       "      <th id=\"T_7eb91_level0_row37\" class=\"row_heading level0 row37\" >37</th>\n",
       "      <td id=\"T_7eb91_row37_col0\" class=\"data row37 col0\" >Use GPU</td>\n",
       "      <td id=\"T_7eb91_row37_col1\" class=\"data row37 col1\" >False</td>\n",
       "    </tr>\n",
       "    <tr>\n",
       "      <th id=\"T_7eb91_level0_row38\" class=\"row_heading level0 row38\" >38</th>\n",
       "      <td id=\"T_7eb91_row38_col0\" class=\"data row38 col0\" >Log Experiment</td>\n",
       "      <td id=\"T_7eb91_row38_col1\" class=\"data row38 col1\" >False</td>\n",
       "    </tr>\n",
       "    <tr>\n",
       "      <th id=\"T_7eb91_level0_row39\" class=\"row_heading level0 row39\" >39</th>\n",
       "      <td id=\"T_7eb91_row39_col0\" class=\"data row39 col0\" >Experiment Name</td>\n",
       "      <td id=\"T_7eb91_row39_col1\" class=\"data row39 col1\" >ts-default-name</td>\n",
       "    </tr>\n",
       "    <tr>\n",
       "      <th id=\"T_7eb91_level0_row40\" class=\"row_heading level0 row40\" >40</th>\n",
       "      <td id=\"T_7eb91_row40_col0\" class=\"data row40 col0\" >USI</td>\n",
       "      <td id=\"T_7eb91_row40_col1\" class=\"data row40 col1\" >53d1</td>\n",
       "    </tr>\n",
       "  </tbody>\n",
       "</table>\n"
      ],
      "text/plain": [
       "<pandas.io.formats.style.Styler at 0x198033470a0>"
      ]
     },
     "metadata": {},
     "output_type": "display_data"
    }
   ],
   "source": [
    "# Set up PyCaret environment\n",
    "s = setup(data=bnb, \n",
    "          target = 'BNB-USD',\n",
    "          #transform_target='log',\n",
    "          fh=30,  # Forecast horizon\n",
    "          session_id=123,\n",
    "          fold_strategy='expanding',\n",
    "          seasonal_period='D',\n",
    "          #fold_spans=\"adaptive\",\n",
    "          numeric_imputation_target = 'drift')"
   ]
  },
  {
   "cell_type": "code",
   "execution_count": 104,
   "id": "dcc8a6d1",
   "metadata": {},
   "outputs": [
    {
     "data": {
      "text/html": [],
      "text/plain": [
       "<IPython.core.display.HTML object>"
      ]
     },
     "metadata": {},
     "output_type": "display_data"
    },
    {
     "data": {
      "text/html": [
       "<style type=\"text/css\">\n",
       "#T_48d60_row3_col0, #T_48d60_row3_col1, #T_48d60_row3_col2, #T_48d60_row3_col3, #T_48d60_row3_col4, #T_48d60_row3_col5, #T_48d60_row3_col6, #T_48d60_row3_col7 {\n",
       "  background: yellow;\n",
       "}\n",
       "</style>\n",
       "<table id=\"T_48d60\">\n",
       "  <thead>\n",
       "    <tr>\n",
       "      <th class=\"blank level0\" >&nbsp;</th>\n",
       "      <th id=\"T_48d60_level0_col0\" class=\"col_heading level0 col0\" >cutoff</th>\n",
       "      <th id=\"T_48d60_level0_col1\" class=\"col_heading level0 col1\" >MASE</th>\n",
       "      <th id=\"T_48d60_level0_col2\" class=\"col_heading level0 col2\" >RMSSE</th>\n",
       "      <th id=\"T_48d60_level0_col3\" class=\"col_heading level0 col3\" >MAE</th>\n",
       "      <th id=\"T_48d60_level0_col4\" class=\"col_heading level0 col4\" >RMSE</th>\n",
       "      <th id=\"T_48d60_level0_col5\" class=\"col_heading level0 col5\" >MAPE</th>\n",
       "      <th id=\"T_48d60_level0_col6\" class=\"col_heading level0 col6\" >SMAPE</th>\n",
       "      <th id=\"T_48d60_level0_col7\" class=\"col_heading level0 col7\" >R2</th>\n",
       "    </tr>\n",
       "  </thead>\n",
       "  <tbody>\n",
       "    <tr>\n",
       "      <th id=\"T_48d60_level0_row0\" class=\"row_heading level0 row0\" >0</th>\n",
       "      <td id=\"T_48d60_row0_col0\" class=\"data row0 col0\" >2024-12-09</td>\n",
       "      <td id=\"T_48d60_row0_col1\" class=\"data row0 col1\" >2.0868</td>\n",
       "      <td id=\"T_48d60_row0_col2\" class=\"data row0 col2\" >1.7670</td>\n",
       "      <td id=\"T_48d60_row0_col3\" class=\"data row0 col3\" >70.3869</td>\n",
       "      <td id=\"T_48d60_row0_col4\" class=\"data row0 col4\" >76.9236</td>\n",
       "      <td id=\"T_48d60_row0_col5\" class=\"data row0 col5\" >0.1014</td>\n",
       "      <td id=\"T_48d60_row0_col6\" class=\"data row0 col6\" >0.0956</td>\n",
       "      <td id=\"T_48d60_row0_col7\" class=\"data row0 col7\" >-15.6781</td>\n",
       "    </tr>\n",
       "    <tr>\n",
       "      <th id=\"T_48d60_level0_row1\" class=\"row_heading level0 row1\" >1</th>\n",
       "      <td id=\"T_48d60_row1_col0\" class=\"data row1 col0\" >2025-01-08</td>\n",
       "      <td id=\"T_48d60_row1_col1\" class=\"data row1 col1\" >1.2924</td>\n",
       "      <td id=\"T_48d60_row1_col2\" class=\"data row1 col2\" >1.4175</td>\n",
       "      <td id=\"T_48d60_row1_col3\" class=\"data row1 col3\" >42.5068</td>\n",
       "      <td id=\"T_48d60_row1_col4\" class=\"data row1 col4\" >60.0780</td>\n",
       "      <td id=\"T_48d60_row1_col5\" class=\"data row1 col5\" >0.0683</td>\n",
       "      <td id=\"T_48d60_row1_col6\" class=\"data row1 col6\" >0.0637</td>\n",
       "      <td id=\"T_48d60_row1_col7\" class=\"data row1 col7\" >-0.9224</td>\n",
       "    </tr>\n",
       "    <tr>\n",
       "      <th id=\"T_48d60_level0_row2\" class=\"row_heading level0 row2\" >2</th>\n",
       "      <td id=\"T_48d60_row2_col0\" class=\"data row2 col0\" >2025-02-07</td>\n",
       "      <td id=\"T_48d60_row2_col1\" class=\"data row2 col1\" >3.1391</td>\n",
       "      <td id=\"T_48d60_row2_col2\" class=\"data row2 col2\" >2.5541</td>\n",
       "      <td id=\"T_48d60_row2_col3\" class=\"data row2 col3\" >102.8631</td>\n",
       "      <td id=\"T_48d60_row2_col4\" class=\"data row2 col4\" >108.4514</td>\n",
       "      <td id=\"T_48d60_row2_col5\" class=\"data row2 col5\" >0.1619</td>\n",
       "      <td id=\"T_48d60_row2_col6\" class=\"data row2 col6\" >0.1776</td>\n",
       "      <td id=\"T_48d60_row2_col7\" class=\"data row2 col7\" >-9.0154</td>\n",
       "    </tr>\n",
       "    <tr>\n",
       "      <th id=\"T_48d60_level0_row3\" class=\"row_heading level0 row3\" >Mean</th>\n",
       "      <td id=\"T_48d60_row3_col0\" class=\"data row3 col0\" >NaT</td>\n",
       "      <td id=\"T_48d60_row3_col1\" class=\"data row3 col1\" >2.1727</td>\n",
       "      <td id=\"T_48d60_row3_col2\" class=\"data row3 col2\" >1.9128</td>\n",
       "      <td id=\"T_48d60_row3_col3\" class=\"data row3 col3\" >71.9189</td>\n",
       "      <td id=\"T_48d60_row3_col4\" class=\"data row3 col4\" >81.8176</td>\n",
       "      <td id=\"T_48d60_row3_col5\" class=\"data row3 col5\" >0.1105</td>\n",
       "      <td id=\"T_48d60_row3_col6\" class=\"data row3 col6\" >0.1123</td>\n",
       "      <td id=\"T_48d60_row3_col7\" class=\"data row3 col7\" >-8.5386</td>\n",
       "    </tr>\n",
       "    <tr>\n",
       "      <th id=\"T_48d60_level0_row4\" class=\"row_heading level0 row4\" >SD</th>\n",
       "      <td id=\"T_48d60_row4_col0\" class=\"data row4 col0\" >NaT</td>\n",
       "      <td id=\"T_48d60_row4_col1\" class=\"data row4 col1\" >0.7564</td>\n",
       "      <td id=\"T_48d60_row4_col2\" class=\"data row4 col2\" >0.4753</td>\n",
       "      <td id=\"T_48d60_row4_col3\" class=\"data row4 col3\" >24.6642</td>\n",
       "      <td id=\"T_48d60_row4_col4\" class=\"data row4 col4\" >20.0493</td>\n",
       "      <td id=\"T_48d60_row4_col5\" class=\"data row4 col5\" >0.0387</td>\n",
       "      <td id=\"T_48d60_row4_col6\" class=\"data row4 col6\" >0.0479</td>\n",
       "      <td id=\"T_48d60_row4_col7\" class=\"data row4 col7\" >6.0334</td>\n",
       "    </tr>\n",
       "  </tbody>\n",
       "</table>\n"
      ],
      "text/plain": [
       "<pandas.io.formats.style.Styler at 0x1987c624100>"
      ]
     },
     "metadata": {},
     "output_type": "display_data"
    },
    {
     "data": {
      "text/html": [],
      "text/plain": [
       "<IPython.core.display.HTML object>"
      ]
     },
     "metadata": {},
     "output_type": "display_data"
    }
   ],
   "source": [
    "arima = create_model('arima')"
   ]
  },
  {
   "cell_type": "code",
   "execution_count": 105,
   "id": "bb18adff",
   "metadata": {},
   "outputs": [
    {
     "data": {
      "text/html": [
       "<div>\n",
       "<style scoped>\n",
       "    .dataframe tbody tr th:only-of-type {\n",
       "        vertical-align: middle;\n",
       "    }\n",
       "\n",
       "    .dataframe tbody tr th {\n",
       "        vertical-align: top;\n",
       "    }\n",
       "\n",
       "    .dataframe thead th {\n",
       "        text-align: right;\n",
       "    }\n",
       "</style>\n",
       "<table border=\"1\" class=\"dataframe\">\n",
       "  <thead>\n",
       "    <tr style=\"text-align: right;\">\n",
       "      <th></th>\n",
       "      <th></th>\n",
       "      <th></th>\n",
       "    </tr>\n",
       "    <tr>\n",
       "      <th></th>\n",
       "      <th></th>\n",
       "      <th></th>\n",
       "    </tr>\n",
       "  </thead>\n",
       "  <tbody>\n",
       "    <tr>\n",
       "      <th>Initiated</th>\n",
       "      <td>. . . . . . . . . . . . . . . . . .</td>\n",
       "      <td>14:35:09</td>\n",
       "    </tr>\n",
       "    <tr>\n",
       "      <th>Status</th>\n",
       "      <td>. . . . . . . . . . . . . . . . . .</td>\n",
       "      <td>Loading Dependencies</td>\n",
       "    </tr>\n",
       "    <tr>\n",
       "      <th>Estimator</th>\n",
       "      <td>. . . . . . . . . . . . . . . . . .</td>\n",
       "      <td>Compiling Library</td>\n",
       "    </tr>\n",
       "  </tbody>\n",
       "</table>\n",
       "</div>"
      ],
      "text/plain": [
       "                                                                    \n",
       "                                                                    \n",
       "Initiated  . . . . . . . . . . . . . . . . . .              14:35:09\n",
       "Status     . . . . . . . . . . . . . . . . . .  Loading Dependencies\n",
       "Estimator  . . . . . . . . . . . . . . . . . .     Compiling Library"
      ]
     },
     "metadata": {},
     "output_type": "display_data"
    },
    {
     "data": {
      "text/html": [
       "<style type=\"text/css\">\n",
       "#T_e0787_row3_col0, #T_e0787_row3_col1, #T_e0787_row3_col2, #T_e0787_row3_col3, #T_e0787_row3_col4, #T_e0787_row3_col5, #T_e0787_row3_col6, #T_e0787_row3_col7 {\n",
       "  background: yellow;\n",
       "}\n",
       "</style>\n",
       "<table id=\"T_e0787\">\n",
       "  <thead>\n",
       "    <tr>\n",
       "      <th class=\"blank level0\" >&nbsp;</th>\n",
       "      <th id=\"T_e0787_level0_col0\" class=\"col_heading level0 col0\" >cutoff</th>\n",
       "      <th id=\"T_e0787_level0_col1\" class=\"col_heading level0 col1\" >MASE</th>\n",
       "      <th id=\"T_e0787_level0_col2\" class=\"col_heading level0 col2\" >RMSSE</th>\n",
       "      <th id=\"T_e0787_level0_col3\" class=\"col_heading level0 col3\" >MAE</th>\n",
       "      <th id=\"T_e0787_level0_col4\" class=\"col_heading level0 col4\" >RMSE</th>\n",
       "      <th id=\"T_e0787_level0_col5\" class=\"col_heading level0 col5\" >MAPE</th>\n",
       "      <th id=\"T_e0787_level0_col6\" class=\"col_heading level0 col6\" >SMAPE</th>\n",
       "      <th id=\"T_e0787_level0_col7\" class=\"col_heading level0 col7\" >R2</th>\n",
       "    </tr>\n",
       "  </thead>\n",
       "  <tbody>\n",
       "    <tr>\n",
       "      <th id=\"T_e0787_level0_row0\" class=\"row_heading level0 row0\" >0</th>\n",
       "      <td id=\"T_e0787_row0_col0\" class=\"data row0 col0\" >2024-12-09</td>\n",
       "      <td id=\"T_e0787_row0_col1\" class=\"data row0 col1\" >0.6111</td>\n",
       "      <td id=\"T_e0787_row0_col2\" class=\"data row0 col2\" >0.5861</td>\n",
       "      <td id=\"T_e0787_row0_col3\" class=\"data row0 col3\" >20.6116</td>\n",
       "      <td id=\"T_e0787_row0_col4\" class=\"data row0 col4\" >25.5135</td>\n",
       "      <td id=\"T_e0787_row0_col5\" class=\"data row0 col5\" >0.0293</td>\n",
       "      <td id=\"T_e0787_row0_col6\" class=\"data row0 col6\" >0.0297</td>\n",
       "      <td id=\"T_e0787_row0_col7\" class=\"data row0 col7\" >-0.8347</td>\n",
       "    </tr>\n",
       "    <tr>\n",
       "      <th id=\"T_e0787_level0_row1\" class=\"row_heading level0 row1\" >1</th>\n",
       "      <td id=\"T_e0787_row1_col0\" class=\"data row1 col0\" >2025-01-08</td>\n",
       "      <td id=\"T_e0787_row1_col1\" class=\"data row1 col1\" >1.4359</td>\n",
       "      <td id=\"T_e0787_row1_col2\" class=\"data row1 col2\" >1.5386</td>\n",
       "      <td id=\"T_e0787_row1_col3\" class=\"data row1 col3\" >47.2284</td>\n",
       "      <td id=\"T_e0787_row1_col4\" class=\"data row1 col4\" >65.2113</td>\n",
       "      <td id=\"T_e0787_row1_col5\" class=\"data row1 col5\" >0.0758</td>\n",
       "      <td id=\"T_e0787_row1_col6\" class=\"data row1 col6\" >0.0704</td>\n",
       "      <td id=\"T_e0787_row1_col7\" class=\"data row1 col7\" >-1.2650</td>\n",
       "    </tr>\n",
       "    <tr>\n",
       "      <th id=\"T_e0787_level0_row2\" class=\"row_heading level0 row2\" >2</th>\n",
       "      <td id=\"T_e0787_row2_col0\" class=\"data row2 col0\" >2025-02-07</td>\n",
       "      <td id=\"T_e0787_row2_col1\" class=\"data row2 col1\" >1.0480</td>\n",
       "      <td id=\"T_e0787_row2_col2\" class=\"data row2 col2\" >0.9909</td>\n",
       "      <td id=\"T_e0787_row2_col3\" class=\"data row2 col3\" >34.3411</td>\n",
       "      <td id=\"T_e0787_row2_col4\" class=\"data row2 col4\" >42.0739</td>\n",
       "      <td id=\"T_e0787_row2_col5\" class=\"data row2 col5\" >0.0564</td>\n",
       "      <td id=\"T_e0787_row2_col6\" class=\"data row2 col6\" >0.0546</td>\n",
       "      <td id=\"T_e0787_row2_col7\" class=\"data row2 col7\" >-0.5074</td>\n",
       "    </tr>\n",
       "    <tr>\n",
       "      <th id=\"T_e0787_level0_row3\" class=\"row_heading level0 row3\" >Mean</th>\n",
       "      <td id=\"T_e0787_row3_col0\" class=\"data row3 col0\" >NaT</td>\n",
       "      <td id=\"T_e0787_row3_col1\" class=\"data row3 col1\" >1.0317</td>\n",
       "      <td id=\"T_e0787_row3_col2\" class=\"data row3 col2\" >1.0385</td>\n",
       "      <td id=\"T_e0787_row3_col3\" class=\"data row3 col3\" >34.0604</td>\n",
       "      <td id=\"T_e0787_row3_col4\" class=\"data row3 col4\" >44.2662</td>\n",
       "      <td id=\"T_e0787_row3_col5\" class=\"data row3 col5\" >0.0539</td>\n",
       "      <td id=\"T_e0787_row3_col6\" class=\"data row3 col6\" >0.0516</td>\n",
       "      <td id=\"T_e0787_row3_col7\" class=\"data row3 col7\" >-0.8690</td>\n",
       "    </tr>\n",
       "    <tr>\n",
       "      <th id=\"T_e0787_level0_row4\" class=\"row_heading level0 row4\" >SD</th>\n",
       "      <td id=\"T_e0787_row4_col0\" class=\"data row4 col0\" >NaT</td>\n",
       "      <td id=\"T_e0787_row4_col1\" class=\"data row4 col1\" >0.3369</td>\n",
       "      <td id=\"T_e0787_row4_col2\" class=\"data row4 col2\" >0.3903</td>\n",
       "      <td id=\"T_e0787_row4_col3\" class=\"data row4 col3\" >10.8681</td>\n",
       "      <td id=\"T_e0787_row4_col4\" class=\"data row4 col4\" >16.2805</td>\n",
       "      <td id=\"T_e0787_row4_col5\" class=\"data row4 col5\" >0.0191</td>\n",
       "      <td id=\"T_e0787_row4_col6\" class=\"data row4 col6\" >0.0167</td>\n",
       "      <td id=\"T_e0787_row4_col7\" class=\"data row4 col7\" >0.3102</td>\n",
       "    </tr>\n",
       "  </tbody>\n",
       "</table>\n"
      ],
      "text/plain": [
       "<pandas.io.formats.style.Styler at 0x1980284de50>"
      ]
     },
     "metadata": {},
     "output_type": "display_data"
    },
    {
     "data": {
      "text/html": [],
      "text/plain": [
       "<IPython.core.display.HTML object>"
      ]
     },
     "metadata": {},
     "output_type": "display_data"
    },
    {
     "name": "stdout",
     "output_type": "stream",
     "text": [
      "Fitting 3 folds for each of 10 candidates, totalling 30 fits\n"
     ]
    },
    {
     "name": "stderr",
     "output_type": "stream",
     "text": [
      "[Parallel(n_jobs=-1)]: Using backend LokyBackend with 8 concurrent workers.\n",
      "[Parallel(n_jobs=-1)]: Done  30 out of  30 | elapsed:    7.9s finished\n"
     ]
    }
   ],
   "source": [
    "tuned_arima = tune_model(arima)"
   ]
  },
  {
   "cell_type": "code",
   "execution_count": 106,
   "id": "1c202a9f",
   "metadata": {},
   "outputs": [],
   "source": [
    "final_arima = finalize_model(tuned_arima)\n",
    "#future_dates = pd.date_range(df.index[-1], periods=30, freq='D')\n",
    "arima_predictions = predict_model(final_arima)"
   ]
  },
  {
   "cell_type": "code",
   "execution_count": 107,
   "id": "38e7ebce",
   "metadata": {},
   "outputs": [
    {
     "data": {
      "application/vnd.plotly.v1+json": {
       "config": {
        "plotlyServerURL": "https://plot.ly"
       },
       "data": [
        {
         "line": {
          "color": "#1f77b4"
         },
         "marker": {
          "size": 5
         },
         "mode": "lines+markers",
         "name": "Forecast | ARIMA",
         "showlegend": true,
         "type": "scatter",
         "x": [
          "2025-04-09T00:00:00",
          "2025-04-10T00:00:00",
          "2025-04-11T00:00:00",
          "2025-04-12T00:00:00",
          "2025-04-13T00:00:00",
          "2025-04-14T00:00:00",
          "2025-04-15T00:00:00",
          "2025-04-16T00:00:00",
          "2025-04-17T00:00:00",
          "2025-04-18T00:00:00",
          "2025-04-19T00:00:00",
          "2025-04-20T00:00:00",
          "2025-04-21T00:00:00",
          "2025-04-22T00:00:00",
          "2025-04-23T00:00:00",
          "2025-04-24T00:00:00",
          "2025-04-25T00:00:00",
          "2025-04-26T00:00:00",
          "2025-04-27T00:00:00",
          "2025-04-28T00:00:00",
          "2025-04-29T00:00:00",
          "2025-04-30T00:00:00",
          "2025-05-01T00:00:00",
          "2025-05-02T00:00:00",
          "2025-05-03T00:00:00",
          "2025-05-04T00:00:00",
          "2025-05-05T00:00:00",
          "2025-05-06T00:00:00",
          "2025-05-07T00:00:00",
          "2025-05-08T00:00:00"
         ],
         "y": {
          "bdata": "woanV0ofgkBhw9Mr5Q6DQEHxY8zdBINAppvEIDDigkAMAiuHljaCQO/Jw0ItSYJAiIVa0zx4gkD1SlmGOIGCQP7UeOmmEYNA3gIJip8Hg0BDrWne8eSCQKkT0ERYOYJAjNtoAO9LgkAkl/+Q/nqCQJJc/kP6g4JAm+Ydp2gUg0B7FK5HYQqDQOC+Dpyz54JARiV1Aho8gkAp7Q2+sE6CQMGopE7AfYJAL26jAbyGgkA4+MJkKheDQBgmUwUjDYNAfdCzWXXqgkDjNhrA2z6CQMX+sntyUYJAXrpJDIKAgkDMf0i/fYmCQNUJaCLsGYNA",
          "dtype": "f8"
         }
        },
        {
         "line": {
          "width": 0
         },
         "marker": {
          "color": "#68BBE3"
         },
         "mode": "lines",
         "name": "Lower Interval",
         "showlegend": false,
         "type": "scatter",
         "x": [
          "2025-04-09T00:00:00",
          "2025-04-10T00:00:00",
          "2025-04-11T00:00:00",
          "2025-04-12T00:00:00",
          "2025-04-13T00:00:00",
          "2025-04-14T00:00:00",
          "2025-04-15T00:00:00",
          "2025-04-16T00:00:00",
          "2025-04-17T00:00:00",
          "2025-04-18T00:00:00",
          "2025-04-19T00:00:00",
          "2025-04-20T00:00:00",
          "2025-04-21T00:00:00",
          "2025-04-22T00:00:00",
          "2025-04-23T00:00:00",
          "2025-04-24T00:00:00",
          "2025-04-25T00:00:00",
          "2025-04-26T00:00:00",
          "2025-04-27T00:00:00",
          "2025-04-28T00:00:00",
          "2025-04-29T00:00:00",
          "2025-04-30T00:00:00",
          "2025-05-01T00:00:00",
          "2025-05-02T00:00:00",
          "2025-05-03T00:00:00",
          "2025-05-04T00:00:00",
          "2025-05-05T00:00:00",
          "2025-05-06T00:00:00",
          "2025-05-07T00:00:00",
          "2025-05-08T00:00:00"
         ],
         "y": {
          "bdata": "z/dT46W9gECDwMqhRVmBQI0o7Q0+T4FA8tJNYpAsgUAu/yH99oCAQDsBTYSNk4BAqoJRSZ3CgEBvgQTFj6yAQISezapPLYFAZMxdS0gjgUDysFBrmgCBQC/dJAYBVYBAEqW9wZdngECqYFRSp5aAQP5D+u1rg4BA5dAi23kFgUDF/rJ7cvuAQCqpE9DE2IBAZ9XnaistgEBz1xLywT+AQOJYF7fRboBAx0s3icFdgEB1kxgE1uCAQH/7OnDO1oBA46WbxCC0gEAg0m9fhwiAQCzUmuYdG4BAm1Wfqy1KgECFfNCz2TqAQE9AE2HDvoBA",
          "dtype": "f8"
         }
        },
        {
         "fill": "tonexty",
         "fillcolor": "rgba(104,187,227,0.5)",
         "line": {
          "width": 0
         },
         "marker": {
          "color": "#68BBE3"
         },
         "mode": "lines",
         "name": "Prediction Interval | ARIMA",
         "showlegend": true,
         "type": "scatter",
         "x": [
          "2025-04-09T00:00:00",
          "2025-04-10T00:00:00",
          "2025-04-11T00:00:00",
          "2025-04-12T00:00:00",
          "2025-04-13T00:00:00",
          "2025-04-14T00:00:00",
          "2025-04-15T00:00:00",
          "2025-04-16T00:00:00",
          "2025-04-17T00:00:00",
          "2025-04-18T00:00:00",
          "2025-04-19T00:00:00",
          "2025-04-20T00:00:00",
          "2025-04-21T00:00:00",
          "2025-04-22T00:00:00",
          "2025-04-23T00:00:00",
          "2025-04-24T00:00:00",
          "2025-04-25T00:00:00",
          "2025-04-26T00:00:00",
          "2025-04-27T00:00:00",
          "2025-04-28T00:00:00",
          "2025-04-29T00:00:00",
          "2025-04-30T00:00:00",
          "2025-05-01T00:00:00",
          "2025-05-02T00:00:00",
          "2025-05-03T00:00:00",
          "2025-05-04T00:00:00",
          "2025-05-05T00:00:00",
          "2025-05-06T00:00:00",
          "2025-05-07T00:00:00",
          "2025-05-08T00:00:00"
         ],
         "y": {
          "bdata": "tRX7y+6Ag0AVjErqhMSEQB/0bFZ9uoRAhJ7Nqs+XhEDByqFFNuyDQM3MzMzM/oNAPE7RkdwthEClTkAT4VWEQHgLJCj+9YRAWDm0yPbrhEC94xQdScmEQPkP6bevHYRABhIUP0YwhEB1kxgEVl+EQE+vlGWIhIRAUPwYc1cjhUAwKqkTUBmFQL8OnDOi9oRA+zpwzghLhEDeAgmKn12EQHe+nxqvjIRAwcqhRbavhEDRItv5fk2FQNuK/WV3Q4VAPzVeuskghUB8YTJVMHWEQIhjXdzGh4RA9+Rhoda2hEA8vVKWIdiEQFvTvOMUdYVA",
          "dtype": "f8"
         }
        },
        {
         "marker": {
          "color": "#3f3f3f",
          "size": 5
         },
         "mode": "lines+markers",
         "name": "Original",
         "showlegend": true,
         "type": "scatter",
         "x": [
          "2024-04-09T00:00:00",
          "2024-04-10T00:00:00",
          "2024-04-11T00:00:00",
          "2024-04-12T00:00:00",
          "2024-04-13T00:00:00",
          "2024-04-14T00:00:00",
          "2024-04-15T00:00:00",
          "2024-04-16T00:00:00",
          "2024-04-17T00:00:00",
          "2024-04-18T00:00:00",
          "2024-04-19T00:00:00",
          "2024-04-20T00:00:00",
          "2024-04-21T00:00:00",
          "2024-04-22T00:00:00",
          "2024-04-23T00:00:00",
          "2024-04-24T00:00:00",
          "2024-04-25T00:00:00",
          "2024-04-26T00:00:00",
          "2024-04-27T00:00:00",
          "2024-04-28T00:00:00",
          "2024-04-29T00:00:00",
          "2024-04-30T00:00:00",
          "2024-05-01T00:00:00",
          "2024-05-02T00:00:00",
          "2024-05-03T00:00:00",
          "2024-05-04T00:00:00",
          "2024-05-05T00:00:00",
          "2024-05-06T00:00:00",
          "2024-05-07T00:00:00",
          "2024-05-08T00:00:00",
          "2024-05-09T00:00:00",
          "2024-05-10T00:00:00",
          "2024-05-11T00:00:00",
          "2024-05-12T00:00:00",
          "2024-05-13T00:00:00",
          "2024-05-14T00:00:00",
          "2024-05-15T00:00:00",
          "2024-05-16T00:00:00",
          "2024-05-17T00:00:00",
          "2024-05-18T00:00:00",
          "2024-05-19T00:00:00",
          "2024-05-20T00:00:00",
          "2024-05-21T00:00:00",
          "2024-05-22T00:00:00",
          "2024-05-23T00:00:00",
          "2024-05-24T00:00:00",
          "2024-05-25T00:00:00",
          "2024-05-26T00:00:00",
          "2024-05-27T00:00:00",
          "2024-05-28T00:00:00",
          "2024-05-29T00:00:00",
          "2024-05-30T00:00:00",
          "2024-05-31T00:00:00",
          "2024-06-01T00:00:00",
          "2024-06-02T00:00:00",
          "2024-06-03T00:00:00",
          "2024-06-04T00:00:00",
          "2024-06-05T00:00:00",
          "2024-06-06T00:00:00",
          "2024-06-07T00:00:00",
          "2024-06-08T00:00:00",
          "2024-06-09T00:00:00",
          "2024-06-10T00:00:00",
          "2024-06-11T00:00:00",
          "2024-06-12T00:00:00",
          "2024-06-13T00:00:00",
          "2024-06-14T00:00:00",
          "2024-06-15T00:00:00",
          "2024-06-16T00:00:00",
          "2024-06-17T00:00:00",
          "2024-06-18T00:00:00",
          "2024-06-19T00:00:00",
          "2024-06-20T00:00:00",
          "2024-06-21T00:00:00",
          "2024-06-22T00:00:00",
          "2024-06-23T00:00:00",
          "2024-06-24T00:00:00",
          "2024-06-25T00:00:00",
          "2024-06-26T00:00:00",
          "2024-06-27T00:00:00",
          "2024-06-28T00:00:00",
          "2024-06-29T00:00:00",
          "2024-06-30T00:00:00",
          "2024-07-01T00:00:00",
          "2024-07-02T00:00:00",
          "2024-07-03T00:00:00",
          "2024-07-04T00:00:00",
          "2024-07-05T00:00:00",
          "2024-07-06T00:00:00",
          "2024-07-07T00:00:00",
          "2024-07-08T00:00:00",
          "2024-07-09T00:00:00",
          "2024-07-10T00:00:00",
          "2024-07-11T00:00:00",
          "2024-07-12T00:00:00",
          "2024-07-13T00:00:00",
          "2024-07-14T00:00:00",
          "2024-07-15T00:00:00",
          "2024-07-16T00:00:00",
          "2024-07-17T00:00:00",
          "2024-07-18T00:00:00",
          "2024-07-19T00:00:00",
          "2024-07-20T00:00:00",
          "2024-07-21T00:00:00",
          "2024-07-22T00:00:00",
          "2024-07-23T00:00:00",
          "2024-07-24T00:00:00",
          "2024-07-25T00:00:00",
          "2024-07-26T00:00:00",
          "2024-07-27T00:00:00",
          "2024-07-28T00:00:00",
          "2024-07-29T00:00:00",
          "2024-07-30T00:00:00",
          "2024-07-31T00:00:00",
          "2024-08-01T00:00:00",
          "2024-08-02T00:00:00",
          "2024-08-03T00:00:00",
          "2024-08-04T00:00:00",
          "2024-08-05T00:00:00",
          "2024-08-06T00:00:00",
          "2024-08-07T00:00:00",
          "2024-08-08T00:00:00",
          "2024-08-09T00:00:00",
          "2024-08-10T00:00:00",
          "2024-08-11T00:00:00",
          "2024-08-12T00:00:00",
          "2024-08-13T00:00:00",
          "2024-08-14T00:00:00",
          "2024-08-15T00:00:00",
          "2024-08-16T00:00:00",
          "2024-08-17T00:00:00",
          "2024-08-18T00:00:00",
          "2024-08-19T00:00:00",
          "2024-08-20T00:00:00",
          "2024-08-21T00:00:00",
          "2024-08-22T00:00:00",
          "2024-08-23T00:00:00",
          "2024-08-24T00:00:00",
          "2024-08-25T00:00:00",
          "2024-08-26T00:00:00",
          "2024-08-27T00:00:00",
          "2024-08-28T00:00:00",
          "2024-08-29T00:00:00",
          "2024-08-30T00:00:00",
          "2024-08-31T00:00:00",
          "2024-09-01T00:00:00",
          "2024-09-02T00:00:00",
          "2024-09-03T00:00:00",
          "2024-09-04T00:00:00",
          "2024-09-05T00:00:00",
          "2024-09-06T00:00:00",
          "2024-09-07T00:00:00",
          "2024-09-08T00:00:00",
          "2024-09-09T00:00:00",
          "2024-09-10T00:00:00",
          "2024-09-11T00:00:00",
          "2024-09-12T00:00:00",
          "2024-09-13T00:00:00",
          "2024-09-14T00:00:00",
          "2024-09-15T00:00:00",
          "2024-09-16T00:00:00",
          "2024-09-17T00:00:00",
          "2024-09-18T00:00:00",
          "2024-09-19T00:00:00",
          "2024-09-20T00:00:00",
          "2024-09-21T00:00:00",
          "2024-09-22T00:00:00",
          "2024-09-23T00:00:00",
          "2024-09-24T00:00:00",
          "2024-09-25T00:00:00",
          "2024-09-26T00:00:00",
          "2024-09-27T00:00:00",
          "2024-09-28T00:00:00",
          "2024-09-29T00:00:00",
          "2024-09-30T00:00:00",
          "2024-10-01T00:00:00",
          "2024-10-02T00:00:00",
          "2024-10-03T00:00:00",
          "2024-10-04T00:00:00",
          "2024-10-05T00:00:00",
          "2024-10-06T00:00:00",
          "2024-10-07T00:00:00",
          "2024-10-08T00:00:00",
          "2024-10-09T00:00:00",
          "2024-10-10T00:00:00",
          "2024-10-11T00:00:00",
          "2024-10-12T00:00:00",
          "2024-10-13T00:00:00",
          "2024-10-14T00:00:00",
          "2024-10-15T00:00:00",
          "2024-10-16T00:00:00",
          "2024-10-17T00:00:00",
          "2024-10-18T00:00:00",
          "2024-10-19T00:00:00",
          "2024-10-20T00:00:00",
          "2024-10-21T00:00:00",
          "2024-10-22T00:00:00",
          "2024-10-23T00:00:00",
          "2024-10-24T00:00:00",
          "2024-10-25T00:00:00",
          "2024-10-26T00:00:00",
          "2024-10-27T00:00:00",
          "2024-10-28T00:00:00",
          "2024-10-29T00:00:00",
          "2024-10-30T00:00:00",
          "2024-10-31T00:00:00",
          "2024-11-01T00:00:00",
          "2024-11-02T00:00:00",
          "2024-11-03T00:00:00",
          "2024-11-04T00:00:00",
          "2024-11-05T00:00:00",
          "2024-11-06T00:00:00",
          "2024-11-07T00:00:00",
          "2024-11-08T00:00:00",
          "2024-11-09T00:00:00",
          "2024-11-10T00:00:00",
          "2024-11-11T00:00:00",
          "2024-11-12T00:00:00",
          "2024-11-13T00:00:00",
          "2024-11-14T00:00:00",
          "2024-11-15T00:00:00",
          "2024-11-16T00:00:00",
          "2024-11-17T00:00:00",
          "2024-11-18T00:00:00",
          "2024-11-19T00:00:00",
          "2024-11-20T00:00:00",
          "2024-11-21T00:00:00",
          "2024-11-22T00:00:00",
          "2024-11-23T00:00:00",
          "2024-11-24T00:00:00",
          "2024-11-25T00:00:00",
          "2024-11-26T00:00:00",
          "2024-11-27T00:00:00",
          "2024-11-28T00:00:00",
          "2024-11-29T00:00:00",
          "2024-11-30T00:00:00",
          "2024-12-01T00:00:00",
          "2024-12-02T00:00:00",
          "2024-12-03T00:00:00",
          "2024-12-04T00:00:00",
          "2024-12-05T00:00:00",
          "2024-12-06T00:00:00",
          "2024-12-07T00:00:00",
          "2024-12-08T00:00:00",
          "2024-12-09T00:00:00",
          "2024-12-10T00:00:00",
          "2024-12-11T00:00:00",
          "2024-12-12T00:00:00",
          "2024-12-13T00:00:00",
          "2024-12-14T00:00:00",
          "2024-12-15T00:00:00",
          "2024-12-16T00:00:00",
          "2024-12-17T00:00:00",
          "2024-12-18T00:00:00",
          "2024-12-19T00:00:00",
          "2024-12-20T00:00:00",
          "2024-12-21T00:00:00",
          "2024-12-22T00:00:00",
          "2024-12-23T00:00:00",
          "2024-12-24T00:00:00",
          "2024-12-25T00:00:00",
          "2024-12-26T00:00:00",
          "2024-12-27T00:00:00",
          "2024-12-28T00:00:00",
          "2024-12-29T00:00:00",
          "2024-12-30T00:00:00",
          "2024-12-31T00:00:00",
          "2025-01-01T00:00:00",
          "2025-01-02T00:00:00",
          "2025-01-03T00:00:00",
          "2025-01-04T00:00:00",
          "2025-01-05T00:00:00",
          "2025-01-06T00:00:00",
          "2025-01-07T00:00:00",
          "2025-01-08T00:00:00",
          "2025-01-09T00:00:00",
          "2025-01-10T00:00:00",
          "2025-01-11T00:00:00",
          "2025-01-12T00:00:00",
          "2025-01-13T00:00:00",
          "2025-01-14T00:00:00",
          "2025-01-15T00:00:00",
          "2025-01-16T00:00:00",
          "2025-01-17T00:00:00",
          "2025-01-18T00:00:00",
          "2025-01-19T00:00:00",
          "2025-01-20T00:00:00",
          "2025-01-21T00:00:00",
          "2025-01-22T00:00:00",
          "2025-01-23T00:00:00",
          "2025-01-24T00:00:00",
          "2025-01-25T00:00:00",
          "2025-01-26T00:00:00",
          "2025-01-27T00:00:00",
          "2025-01-28T00:00:00",
          "2025-01-29T00:00:00",
          "2025-01-30T00:00:00",
          "2025-01-31T00:00:00",
          "2025-02-01T00:00:00",
          "2025-02-02T00:00:00",
          "2025-02-03T00:00:00",
          "2025-02-04T00:00:00",
          "2025-02-05T00:00:00",
          "2025-02-06T00:00:00",
          "2025-02-07T00:00:00",
          "2025-02-08T00:00:00",
          "2025-02-09T00:00:00",
          "2025-02-10T00:00:00",
          "2025-02-11T00:00:00",
          "2025-02-12T00:00:00",
          "2025-02-13T00:00:00",
          "2025-02-14T00:00:00",
          "2025-02-15T00:00:00",
          "2025-02-16T00:00:00",
          "2025-02-17T00:00:00",
          "2025-02-18T00:00:00",
          "2025-02-19T00:00:00",
          "2025-02-20T00:00:00",
          "2025-02-21T00:00:00",
          "2025-02-22T00:00:00",
          "2025-02-23T00:00:00",
          "2025-02-24T00:00:00",
          "2025-02-25T00:00:00",
          "2025-02-26T00:00:00",
          "2025-02-27T00:00:00",
          "2025-02-28T00:00:00",
          "2025-03-01T00:00:00",
          "2025-03-02T00:00:00",
          "2025-03-03T00:00:00",
          "2025-03-04T00:00:00",
          "2025-03-05T00:00:00",
          "2025-03-06T00:00:00",
          "2025-03-07T00:00:00",
          "2025-03-08T00:00:00",
          "2025-03-09T00:00:00",
          "2025-03-10T00:00:00",
          "2025-03-11T00:00:00",
          "2025-03-12T00:00:00",
          "2025-03-13T00:00:00",
          "2025-03-14T00:00:00",
          "2025-03-15T00:00:00",
          "2025-03-16T00:00:00",
          "2025-03-17T00:00:00",
          "2025-03-18T00:00:00",
          "2025-03-19T00:00:00",
          "2025-03-20T00:00:00",
          "2025-03-21T00:00:00",
          "2025-03-22T00:00:00",
          "2025-03-23T00:00:00",
          "2025-03-24T00:00:00",
          "2025-03-25T00:00:00",
          "2025-03-26T00:00:00",
          "2025-03-27T00:00:00",
          "2025-03-28T00:00:00",
          "2025-03-29T00:00:00",
          "2025-03-30T00:00:00",
          "2025-03-31T00:00:00",
          "2025-04-01T00:00:00",
          "2025-04-02T00:00:00",
          "2025-04-03T00:00:00",
          "2025-04-04T00:00:00",
          "2025-04-05T00:00:00",
          "2025-04-06T00:00:00",
          "2025-04-07T00:00:00",
          "2025-04-08T00:00:00"
         ],
         "y": {
          "bdata": "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",
          "dtype": "f8"
         }
        }
       ],
       "layout": {
        "showlegend": true,
        "template": {
         "data": {
          "bar": [
           {
            "error_x": {
             "color": "rgb(51,51,51)"
            },
            "error_y": {
             "color": "rgb(51,51,51)"
            },
            "marker": {
             "line": {
              "color": "rgb(237,237,237)",
              "width": 0.5
             },
             "pattern": {
              "fillmode": "overlay",
              "size": 10,
              "solidity": 0.2
             }
            },
            "type": "bar"
           }
          ],
          "barpolar": [
           {
            "marker": {
             "line": {
              "color": "rgb(237,237,237)",
              "width": 0.5
             },
             "pattern": {
              "fillmode": "overlay",
              "size": 10,
              "solidity": 0.2
             }
            },
            "type": "barpolar"
           }
          ],
          "carpet": [
           {
            "aaxis": {
             "endlinecolor": "rgb(51,51,51)",
             "gridcolor": "white",
             "linecolor": "white",
             "minorgridcolor": "white",
             "startlinecolor": "rgb(51,51,51)"
            },
            "baxis": {
             "endlinecolor": "rgb(51,51,51)",
             "gridcolor": "white",
             "linecolor": "white",
             "minorgridcolor": "white",
             "startlinecolor": "rgb(51,51,51)"
            },
            "type": "carpet"
           }
          ],
          "choropleth": [
           {
            "colorbar": {
             "outlinewidth": 0,
             "tickcolor": "rgb(237,237,237)",
             "ticklen": 6,
             "ticks": "inside"
            },
            "type": "choropleth"
           }
          ],
          "contour": [
           {
            "colorbar": {
             "outlinewidth": 0,
             "tickcolor": "rgb(237,237,237)",
             "ticklen": 6,
             "ticks": "inside"
            },
            "colorscale": [
             [
              0,
              "rgb(20,44,66)"
             ],
             [
              1,
              "rgb(90,179,244)"
             ]
            ],
            "type": "contour"
           }
          ],
          "contourcarpet": [
           {
            "colorbar": {
             "outlinewidth": 0,
             "tickcolor": "rgb(237,237,237)",
             "ticklen": 6,
             "ticks": "inside"
            },
            "type": "contourcarpet"
           }
          ],
          "heatmap": [
           {
            "colorbar": {
             "outlinewidth": 0,
             "tickcolor": "rgb(237,237,237)",
             "ticklen": 6,
             "ticks": "inside"
            },
            "colorscale": [
             [
              0,
              "rgb(20,44,66)"
             ],
             [
              1,
              "rgb(90,179,244)"
             ]
            ],
            "type": "heatmap"
           }
          ],
          "histogram": [
           {
            "marker": {
             "pattern": {
              "fillmode": "overlay",
              "size": 10,
              "solidity": 0.2
             }
            },
            "type": "histogram"
           }
          ],
          "histogram2d": [
           {
            "colorbar": {
             "outlinewidth": 0,
             "tickcolor": "rgb(237,237,237)",
             "ticklen": 6,
             "ticks": "inside"
            },
            "colorscale": [
             [
              0,
              "rgb(20,44,66)"
             ],
             [
              1,
              "rgb(90,179,244)"
             ]
            ],
            "type": "histogram2d"
           }
          ],
          "histogram2dcontour": [
           {
            "colorbar": {
             "outlinewidth": 0,
             "tickcolor": "rgb(237,237,237)",
             "ticklen": 6,
             "ticks": "inside"
            },
            "colorscale": [
             [
              0,
              "rgb(20,44,66)"
             ],
             [
              1,
              "rgb(90,179,244)"
             ]
            ],
            "type": "histogram2dcontour"
           }
          ],
          "mesh3d": [
           {
            "colorbar": {
             "outlinewidth": 0,
             "tickcolor": "rgb(237,237,237)",
             "ticklen": 6,
             "ticks": "inside"
            },
            "type": "mesh3d"
           }
          ],
          "parcoords": [
           {
            "line": {
             "colorbar": {
              "outlinewidth": 0,
              "tickcolor": "rgb(237,237,237)",
              "ticklen": 6,
              "ticks": "inside"
             }
            },
            "type": "parcoords"
           }
          ],
          "pie": [
           {
            "automargin": true,
            "type": "pie"
           }
          ],
          "scatter": [
           {
            "fillpattern": {
             "fillmode": "overlay",
             "size": 10,
             "solidity": 0.2
            },
            "type": "scatter"
           }
          ],
          "scatter3d": [
           {
            "line": {
             "colorbar": {
              "outlinewidth": 0,
              "tickcolor": "rgb(237,237,237)",
              "ticklen": 6,
              "ticks": "inside"
             }
            },
            "marker": {
             "colorbar": {
              "outlinewidth": 0,
              "tickcolor": "rgb(237,237,237)",
              "ticklen": 6,
              "ticks": "inside"
             }
            },
            "type": "scatter3d"
           }
          ],
          "scattercarpet": [
           {
            "marker": {
             "colorbar": {
              "outlinewidth": 0,
              "tickcolor": "rgb(237,237,237)",
              "ticklen": 6,
              "ticks": "inside"
             }
            },
            "type": "scattercarpet"
           }
          ],
          "scattergeo": [
           {
            "marker": {
             "colorbar": {
              "outlinewidth": 0,
              "tickcolor": "rgb(237,237,237)",
              "ticklen": 6,
              "ticks": "inside"
             }
            },
            "type": "scattergeo"
           }
          ],
          "scattergl": [
           {
            "marker": {
             "colorbar": {
              "outlinewidth": 0,
              "tickcolor": "rgb(237,237,237)",
              "ticklen": 6,
              "ticks": "inside"
             }
            },
            "type": "scattergl"
           }
          ],
          "scattermap": [
           {
            "marker": {
             "colorbar": {
              "outlinewidth": 0,
              "tickcolor": "rgb(237,237,237)",
              "ticklen": 6,
              "ticks": "inside"
             }
            },
            "type": "scattermap"
           }
          ],
          "scattermapbox": [
           {
            "marker": {
             "colorbar": {
              "outlinewidth": 0,
              "tickcolor": "rgb(237,237,237)",
              "ticklen": 6,
              "ticks": "inside"
             }
            },
            "type": "scattermapbox"
           }
          ],
          "scatterpolar": [
           {
            "marker": {
             "colorbar": {
              "outlinewidth": 0,
              "tickcolor": "rgb(237,237,237)",
              "ticklen": 6,
              "ticks": "inside"
             }
            },
            "type": "scatterpolar"
           }
          ],
          "scatterpolargl": [
           {
            "marker": {
             "colorbar": {
              "outlinewidth": 0,
              "tickcolor": "rgb(237,237,237)",
              "ticklen": 6,
              "ticks": "inside"
             }
            },
            "type": "scatterpolargl"
           }
          ],
          "scatterternary": [
           {
            "marker": {
             "colorbar": {
              "outlinewidth": 0,
              "tickcolor": "rgb(237,237,237)",
              "ticklen": 6,
              "ticks": "inside"
             }
            },
            "type": "scatterternary"
           }
          ],
          "surface": [
           {
            "colorbar": {
             "outlinewidth": 0,
             "tickcolor": "rgb(237,237,237)",
             "ticklen": 6,
             "ticks": "inside"
            },
            "colorscale": [
             [
              0,
              "rgb(20,44,66)"
             ],
             [
              1,
              "rgb(90,179,244)"
             ]
            ],
            "type": "surface"
           }
          ],
          "table": [
           {
            "cells": {
             "fill": {
              "color": "rgb(237,237,237)"
             },
             "line": {
              "color": "white"
             }
            },
            "header": {
             "fill": {
              "color": "rgb(217,217,217)"
             },
             "line": {
              "color": "white"
             }
            },
            "type": "table"
           }
          ]
         },
         "layout": {
          "annotationdefaults": {
           "arrowhead": 0,
           "arrowwidth": 1
          },
          "autotypenumbers": "strict",
          "coloraxis": {
           "colorbar": {
            "outlinewidth": 0,
            "tickcolor": "rgb(237,237,237)",
            "ticklen": 6,
            "ticks": "inside"
           }
          },
          "colorscale": {
           "sequential": [
            [
             0,
             "rgb(20,44,66)"
            ],
            [
             1,
             "rgb(90,179,244)"
            ]
           ],
           "sequentialminus": [
            [
             0,
             "rgb(20,44,66)"
            ],
            [
             1,
             "rgb(90,179,244)"
            ]
           ]
          },
          "colorway": [
           "#F8766D",
           "#A3A500",
           "#00BF7D",
           "#00B0F6",
           "#E76BF3"
          ],
          "font": {
           "color": "rgb(51,51,51)"
          },
          "geo": {
           "bgcolor": "white",
           "lakecolor": "white",
           "landcolor": "rgb(237,237,237)",
           "showlakes": true,
           "showland": true,
           "subunitcolor": "white"
          },
          "hoverlabel": {
           "align": "left"
          },
          "hovermode": "closest",
          "paper_bgcolor": "white",
          "plot_bgcolor": "rgb(237,237,237)",
          "polar": {
           "angularaxis": {
            "gridcolor": "white",
            "linecolor": "white",
            "showgrid": true,
            "tickcolor": "rgb(51,51,51)",
            "ticks": "outside"
           },
           "bgcolor": "rgb(237,237,237)",
           "radialaxis": {
            "gridcolor": "white",
            "linecolor": "white",
            "showgrid": true,
            "tickcolor": "rgb(51,51,51)",
            "ticks": "outside"
           }
          },
          "scene": {
           "xaxis": {
            "backgroundcolor": "rgb(237,237,237)",
            "gridcolor": "white",
            "gridwidth": 2,
            "linecolor": "white",
            "showbackground": true,
            "showgrid": true,
            "tickcolor": "rgb(51,51,51)",
            "ticks": "outside",
            "zerolinecolor": "white"
           },
           "yaxis": {
            "backgroundcolor": "rgb(237,237,237)",
            "gridcolor": "white",
            "gridwidth": 2,
            "linecolor": "white",
            "showbackground": true,
            "showgrid": true,
            "tickcolor": "rgb(51,51,51)",
            "ticks": "outside",
            "zerolinecolor": "white"
           },
           "zaxis": {
            "backgroundcolor": "rgb(237,237,237)",
            "gridcolor": "white",
            "gridwidth": 2,
            "linecolor": "white",
            "showbackground": true,
            "showgrid": true,
            "tickcolor": "rgb(51,51,51)",
            "ticks": "outside",
            "zerolinecolor": "white"
           }
          },
          "shapedefaults": {
           "fillcolor": "black",
           "line": {
            "width": 0
           },
           "opacity": 0.3
          },
          "ternary": {
           "aaxis": {
            "gridcolor": "white",
            "linecolor": "white",
            "showgrid": true,
            "tickcolor": "rgb(51,51,51)",
            "ticks": "outside"
           },
           "baxis": {
            "gridcolor": "white",
            "linecolor": "white",
            "showgrid": true,
            "tickcolor": "rgb(51,51,51)",
            "ticks": "outside"
           },
           "bgcolor": "rgb(237,237,237)",
           "caxis": {
            "gridcolor": "white",
            "linecolor": "white",
            "showgrid": true,
            "tickcolor": "rgb(51,51,51)",
            "ticks": "outside"
           }
          },
          "xaxis": {
           "automargin": true,
           "gridcolor": "white",
           "linecolor": "white",
           "showgrid": true,
           "tickcolor": "rgb(51,51,51)",
           "ticks": "outside",
           "title": {
            "standoff": 15
           },
           "zerolinecolor": "white"
          },
          "yaxis": {
           "automargin": true,
           "gridcolor": "white",
           "linecolor": "white",
           "showgrid": true,
           "tickcolor": "rgb(51,51,51)",
           "ticks": "outside",
           "title": {
            "standoff": 15
           },
           "zerolinecolor": "white"
          }
         }
        },
        "title": {
         "text": "Actual vs. 'Out-of-Sample' Forecast | BNB-USD"
        },
        "xaxis": {
         "title": {
          "text": "Time"
         }
        },
        "yaxis": {
         "title": {
          "text": "Values"
         }
        }
       }
      }
     },
     "metadata": {},
     "output_type": "display_data"
    }
   ],
   "source": [
    "#Plot prophet model forecast\n",
    "plot_model(final_arima, plot='forecast')"
   ]
  }
 ],
 "metadata": {
  "kernelspec": {
   "display_name": "crypto",
   "language": "python",
   "name": "python3"
  },
  "language_info": {
   "codemirror_mode": {
    "name": "ipython",
    "version": 3
   },
   "file_extension": ".py",
   "mimetype": "text/x-python",
   "name": "python",
   "nbconvert_exporter": "python",
   "pygments_lexer": "ipython3",
   "version": "3.9.21"
  }
 },
 "nbformat": 4,
 "nbformat_minor": 5
}
