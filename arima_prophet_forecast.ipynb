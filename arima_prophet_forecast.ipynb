{
 "cells": [
  {
   "cell_type": "markdown",
   "id": "f1e0393f",
   "metadata": {},
   "source": [
    "Fetch Data"
   ]
  },
  {
   "cell_type": "code",
   "execution_count": 44,
   "id": "e5ed26bf",
   "metadata": {},
   "outputs": [],
   "source": [
    "import pandas as pd\n",
    "from pycaret.time_series import *\n",
    "import matplotlib.pyplot as plt\n",
    "from fetch_data import fetch_data"
   ]
  },
  {
   "cell_type": "code",
   "execution_count": 45,
   "id": "f872554e",
   "metadata": {},
   "outputs": [
    {
     "name": "stderr",
     "output_type": "stream",
     "text": [
      "[*********************100%***********************]  30 of 30 completed\n"
     ]
    }
   ],
   "source": [
    "df = fetch_data()"
   ]
  },
  {
   "cell_type": "code",
   "execution_count": 46,
   "id": "811ccd1b",
   "metadata": {},
   "outputs": [],
   "source": [
    "df.index = pd.to_datetime(df.index)\n",
    "df = df.sort_index()"
   ]
  },
  {
   "cell_type": "code",
   "execution_count": 47,
   "id": "5348b02a",
   "metadata": {},
   "outputs": [
    {
     "data": {
      "text/html": [
       "<div>\n",
       "<style scoped>\n",
       "    .dataframe tbody tr th:only-of-type {\n",
       "        vertical-align: middle;\n",
       "    }\n",
       "\n",
       "    .dataframe tbody tr th {\n",
       "        vertical-align: top;\n",
       "    }\n",
       "\n",
       "    .dataframe thead th {\n",
       "        text-align: right;\n",
       "    }\n",
       "</style>\n",
       "<table border=\"1\" class=\"dataframe\">\n",
       "  <thead>\n",
       "    <tr style=\"text-align: right;\">\n",
       "      <th></th>\n",
       "      <th>AAVE-USD</th>\n",
       "      <th>ADA-USD</th>\n",
       "      <th>ALGO-USD</th>\n",
       "      <th>ATOM-USD</th>\n",
       "      <th>AVAX-USD</th>\n",
       "      <th>BCH-USD</th>\n",
       "      <th>BNB-USD</th>\n",
       "      <th>BTC-USD</th>\n",
       "      <th>CHR-USD</th>\n",
       "      <th>DASH-USD</th>\n",
       "      <th>...</th>\n",
       "      <th>SOL-USD</th>\n",
       "      <th>THETA-USD</th>\n",
       "      <th>TRX-USD</th>\n",
       "      <th>UNI-USD</th>\n",
       "      <th>USDT-USD</th>\n",
       "      <th>VET-USD</th>\n",
       "      <th>WIF-USD</th>\n",
       "      <th>XLM-USD</th>\n",
       "      <th>XMR-USD</th>\n",
       "      <th>XRP-USD</th>\n",
       "    </tr>\n",
       "    <tr>\n",
       "      <th>Date</th>\n",
       "      <th></th>\n",
       "      <th></th>\n",
       "      <th></th>\n",
       "      <th></th>\n",
       "      <th></th>\n",
       "      <th></th>\n",
       "      <th></th>\n",
       "      <th></th>\n",
       "      <th></th>\n",
       "      <th></th>\n",
       "      <th></th>\n",
       "      <th></th>\n",
       "      <th></th>\n",
       "      <th></th>\n",
       "      <th></th>\n",
       "      <th></th>\n",
       "      <th></th>\n",
       "      <th></th>\n",
       "      <th></th>\n",
       "      <th></th>\n",
       "      <th></th>\n",
       "    </tr>\n",
       "  </thead>\n",
       "  <tbody>\n",
       "    <tr>\n",
       "      <th>2024-04-30</th>\n",
       "      <td>83.363312</td>\n",
       "      <td>0.440812</td>\n",
       "      <td>0.177978</td>\n",
       "      <td>8.466941</td>\n",
       "      <td>32.706425</td>\n",
       "      <td>434.157166</td>\n",
       "      <td>578.488037</td>\n",
       "      <td>60636.855469</td>\n",
       "      <td>0.266168</td>\n",
       "      <td>28.080332</td>\n",
       "      <td>...</td>\n",
       "      <td>126.962708</td>\n",
       "      <td>2.018428</td>\n",
       "      <td>0.119467</td>\n",
       "      <td>0.000182</td>\n",
       "      <td>0.999162</td>\n",
       "      <td>0.036046</td>\n",
       "      <td>2.502736</td>\n",
       "      <td>0.107715</td>\n",
       "      <td>119.372482</td>\n",
       "      <td>0.500065</td>\n",
       "    </tr>\n",
       "    <tr>\n",
       "      <th>2024-05-01</th>\n",
       "      <td>83.748108</td>\n",
       "      <td>0.449866</td>\n",
       "      <td>0.180666</td>\n",
       "      <td>8.742611</td>\n",
       "      <td>33.288101</td>\n",
       "      <td>424.038635</td>\n",
       "      <td>561.408203</td>\n",
       "      <td>58254.011719</td>\n",
       "      <td>0.268329</td>\n",
       "      <td>28.584440</td>\n",
       "      <td>...</td>\n",
       "      <td>134.627975</td>\n",
       "      <td>2.037342</td>\n",
       "      <td>0.120330</td>\n",
       "      <td>0.000175</td>\n",
       "      <td>0.998557</td>\n",
       "      <td>0.035232</td>\n",
       "      <td>2.615513</td>\n",
       "      <td>0.111035</td>\n",
       "      <td>123.546432</td>\n",
       "      <td>0.517000</td>\n",
       "    </tr>\n",
       "    <tr>\n",
       "      <th>2024-05-02</th>\n",
       "      <td>84.980095</td>\n",
       "      <td>0.458282</td>\n",
       "      <td>0.181256</td>\n",
       "      <td>8.651612</td>\n",
       "      <td>33.612564</td>\n",
       "      <td>429.969849</td>\n",
       "      <td>560.526733</td>\n",
       "      <td>59123.433594</td>\n",
       "      <td>0.270306</td>\n",
       "      <td>29.152054</td>\n",
       "      <td>...</td>\n",
       "      <td>137.814484</td>\n",
       "      <td>2.045676</td>\n",
       "      <td>0.122292</td>\n",
       "      <td>0.000177</td>\n",
       "      <td>1.000053</td>\n",
       "      <td>0.035155</td>\n",
       "      <td>2.734267</td>\n",
       "      <td>0.110360</td>\n",
       "      <td>123.167778</td>\n",
       "      <td>0.518329</td>\n",
       "    </tr>\n",
       "    <tr>\n",
       "      <th>2024-05-03</th>\n",
       "      <td>88.814995</td>\n",
       "      <td>0.467544</td>\n",
       "      <td>0.191979</td>\n",
       "      <td>8.768824</td>\n",
       "      <td>35.584896</td>\n",
       "      <td>453.345551</td>\n",
       "      <td>587.010437</td>\n",
       "      <td>62889.835938</td>\n",
       "      <td>0.282321</td>\n",
       "      <td>29.759146</td>\n",
       "      <td>...</td>\n",
       "      <td>143.772552</td>\n",
       "      <td>2.184779</td>\n",
       "      <td>0.122766</td>\n",
       "      <td>0.000189</td>\n",
       "      <td>1.000547</td>\n",
       "      <td>0.037256</td>\n",
       "      <td>3.107465</td>\n",
       "      <td>0.111782</td>\n",
       "      <td>124.982780</td>\n",
       "      <td>0.531894</td>\n",
       "    </tr>\n",
       "    <tr>\n",
       "      <th>2024-05-04</th>\n",
       "      <td>89.053757</td>\n",
       "      <td>0.463577</td>\n",
       "      <td>0.192794</td>\n",
       "      <td>8.694795</td>\n",
       "      <td>37.361832</td>\n",
       "      <td>463.508820</td>\n",
       "      <td>585.846558</td>\n",
       "      <td>63891.472656</td>\n",
       "      <td>0.277544</td>\n",
       "      <td>29.241491</td>\n",
       "      <td>...</td>\n",
       "      <td>146.135056</td>\n",
       "      <td>2.174970</td>\n",
       "      <td>0.122322</td>\n",
       "      <td>0.000192</td>\n",
       "      <td>1.000148</td>\n",
       "      <td>0.037110</td>\n",
       "      <td>3.393611</td>\n",
       "      <td>0.111008</td>\n",
       "      <td>123.332260</td>\n",
       "      <td>0.530405</td>\n",
       "    </tr>\n",
       "  </tbody>\n",
       "</table>\n",
       "<p>5 rows × 30 columns</p>\n",
       "</div>"
      ],
      "text/plain": [
       "             AAVE-USD   ADA-USD  ALGO-USD  ATOM-USD   AVAX-USD     BCH-USD  \\\n",
       "Date                                                                         \n",
       "2024-04-30  83.363312  0.440812  0.177978  8.466941  32.706425  434.157166   \n",
       "2024-05-01  83.748108  0.449866  0.180666  8.742611  33.288101  424.038635   \n",
       "2024-05-02  84.980095  0.458282  0.181256  8.651612  33.612564  429.969849   \n",
       "2024-05-03  88.814995  0.467544  0.191979  8.768824  35.584896  453.345551   \n",
       "2024-05-04  89.053757  0.463577  0.192794  8.694795  37.361832  463.508820   \n",
       "\n",
       "               BNB-USD       BTC-USD   CHR-USD   DASH-USD  ...     SOL-USD  \\\n",
       "Date                                                       ...               \n",
       "2024-04-30  578.488037  60636.855469  0.266168  28.080332  ...  126.962708   \n",
       "2024-05-01  561.408203  58254.011719  0.268329  28.584440  ...  134.627975   \n",
       "2024-05-02  560.526733  59123.433594  0.270306  29.152054  ...  137.814484   \n",
       "2024-05-03  587.010437  62889.835938  0.282321  29.759146  ...  143.772552   \n",
       "2024-05-04  585.846558  63891.472656  0.277544  29.241491  ...  146.135056   \n",
       "\n",
       "            THETA-USD   TRX-USD   UNI-USD  USDT-USD   VET-USD   WIF-USD  \\\n",
       "Date                                                                      \n",
       "2024-04-30   2.018428  0.119467  0.000182  0.999162  0.036046  2.502736   \n",
       "2024-05-01   2.037342  0.120330  0.000175  0.998557  0.035232  2.615513   \n",
       "2024-05-02   2.045676  0.122292  0.000177  1.000053  0.035155  2.734267   \n",
       "2024-05-03   2.184779  0.122766  0.000189  1.000547  0.037256  3.107465   \n",
       "2024-05-04   2.174970  0.122322  0.000192  1.000148  0.037110  3.393611   \n",
       "\n",
       "             XLM-USD     XMR-USD   XRP-USD  \n",
       "Date                                        \n",
       "2024-04-30  0.107715  119.372482  0.500065  \n",
       "2024-05-01  0.111035  123.546432  0.517000  \n",
       "2024-05-02  0.110360  123.167778  0.518329  \n",
       "2024-05-03  0.111782  124.982780  0.531894  \n",
       "2024-05-04  0.111008  123.332260  0.530405  \n",
       "\n",
       "[5 rows x 30 columns]"
      ]
     },
     "execution_count": 47,
     "metadata": {},
     "output_type": "execute_result"
    }
   ],
   "source": [
    "df.head()"
   ]
  },
  {
   "cell_type": "markdown",
   "id": "2676d696",
   "metadata": {},
   "source": [
    "BTC-USD Prophet Model"
   ]
  },
  {
   "cell_type": "code",
   "execution_count": 48,
   "id": "896ba889",
   "metadata": {},
   "outputs": [
    {
     "name": "stdout",
     "output_type": "stream",
     "text": [
      "<class 'pandas.core.series.Series'>\n",
      "DatetimeIndex: 365 entries, 2024-04-30 to 2025-04-29\n",
      "Series name: BTC-USD\n",
      "Non-Null Count  Dtype  \n",
      "--------------  -----  \n",
      "365 non-null    float64\n",
      "dtypes: float64(1)\n",
      "memory usage: 5.7 KB\n"
     ]
    }
   ],
   "source": [
    "btc = df.loc[:,'BTC-USD']\n",
    "btc.info()"
   ]
  },
  {
   "cell_type": "code",
   "execution_count": 18,
   "id": "9956986e",
   "metadata": {},
   "outputs": [
    {
     "data": {
      "text/html": [
       "<style type=\"text/css\">\n",
       "#T_bb1e8_row25_col1, #T_bb1e8_row31_col1 {\n",
       "  background-color: lightgreen;\n",
       "}\n",
       "</style>\n",
       "<table id=\"T_bb1e8\">\n",
       "  <thead>\n",
       "    <tr>\n",
       "      <th class=\"blank level0\" >&nbsp;</th>\n",
       "      <th id=\"T_bb1e8_level0_col0\" class=\"col_heading level0 col0\" >Description</th>\n",
       "      <th id=\"T_bb1e8_level0_col1\" class=\"col_heading level0 col1\" >Value</th>\n",
       "    </tr>\n",
       "  </thead>\n",
       "  <tbody>\n",
       "    <tr>\n",
       "      <th id=\"T_bb1e8_level0_row0\" class=\"row_heading level0 row0\" >0</th>\n",
       "      <td id=\"T_bb1e8_row0_col0\" class=\"data row0 col0\" >session_id</td>\n",
       "      <td id=\"T_bb1e8_row0_col1\" class=\"data row0 col1\" >123</td>\n",
       "    </tr>\n",
       "    <tr>\n",
       "      <th id=\"T_bb1e8_level0_row1\" class=\"row_heading level0 row1\" >1</th>\n",
       "      <td id=\"T_bb1e8_row1_col0\" class=\"data row1 col0\" >Target</td>\n",
       "      <td id=\"T_bb1e8_row1_col1\" class=\"data row1 col1\" >BTC-USD</td>\n",
       "    </tr>\n",
       "    <tr>\n",
       "      <th id=\"T_bb1e8_level0_row2\" class=\"row_heading level0 row2\" >2</th>\n",
       "      <td id=\"T_bb1e8_row2_col0\" class=\"data row2 col0\" >Approach</td>\n",
       "      <td id=\"T_bb1e8_row2_col1\" class=\"data row2 col1\" >Univariate</td>\n",
       "    </tr>\n",
       "    <tr>\n",
       "      <th id=\"T_bb1e8_level0_row3\" class=\"row_heading level0 row3\" >3</th>\n",
       "      <td id=\"T_bb1e8_row3_col0\" class=\"data row3 col0\" >Exogenous Variables</td>\n",
       "      <td id=\"T_bb1e8_row3_col1\" class=\"data row3 col1\" >Not Present</td>\n",
       "    </tr>\n",
       "    <tr>\n",
       "      <th id=\"T_bb1e8_level0_row4\" class=\"row_heading level0 row4\" >4</th>\n",
       "      <td id=\"T_bb1e8_row4_col0\" class=\"data row4 col0\" >Original data shape</td>\n",
       "      <td id=\"T_bb1e8_row4_col1\" class=\"data row4 col1\" >(365, 1)</td>\n",
       "    </tr>\n",
       "    <tr>\n",
       "      <th id=\"T_bb1e8_level0_row5\" class=\"row_heading level0 row5\" >5</th>\n",
       "      <td id=\"T_bb1e8_row5_col0\" class=\"data row5 col0\" >Transformed data shape</td>\n",
       "      <td id=\"T_bb1e8_row5_col1\" class=\"data row5 col1\" >(365, 1)</td>\n",
       "    </tr>\n",
       "    <tr>\n",
       "      <th id=\"T_bb1e8_level0_row6\" class=\"row_heading level0 row6\" >6</th>\n",
       "      <td id=\"T_bb1e8_row6_col0\" class=\"data row6 col0\" >Transformed train set shape</td>\n",
       "      <td id=\"T_bb1e8_row6_col1\" class=\"data row6 col1\" >(335, 1)</td>\n",
       "    </tr>\n",
       "    <tr>\n",
       "      <th id=\"T_bb1e8_level0_row7\" class=\"row_heading level0 row7\" >7</th>\n",
       "      <td id=\"T_bb1e8_row7_col0\" class=\"data row7 col0\" >Transformed test set shape</td>\n",
       "      <td id=\"T_bb1e8_row7_col1\" class=\"data row7 col1\" >(30, 1)</td>\n",
       "    </tr>\n",
       "    <tr>\n",
       "      <th id=\"T_bb1e8_level0_row8\" class=\"row_heading level0 row8\" >8</th>\n",
       "      <td id=\"T_bb1e8_row8_col0\" class=\"data row8 col0\" >Rows with missing values</td>\n",
       "      <td id=\"T_bb1e8_row8_col1\" class=\"data row8 col1\" >0.0%</td>\n",
       "    </tr>\n",
       "    <tr>\n",
       "      <th id=\"T_bb1e8_level0_row9\" class=\"row_heading level0 row9\" >9</th>\n",
       "      <td id=\"T_bb1e8_row9_col0\" class=\"data row9 col0\" >Fold Generator</td>\n",
       "      <td id=\"T_bb1e8_row9_col1\" class=\"data row9 col1\" >ExpandingWindowSplitter</td>\n",
       "    </tr>\n",
       "    <tr>\n",
       "      <th id=\"T_bb1e8_level0_row10\" class=\"row_heading level0 row10\" >10</th>\n",
       "      <td id=\"T_bb1e8_row10_col0\" class=\"data row10 col0\" >Fold Number</td>\n",
       "      <td id=\"T_bb1e8_row10_col1\" class=\"data row10 col1\" >3</td>\n",
       "    </tr>\n",
       "    <tr>\n",
       "      <th id=\"T_bb1e8_level0_row11\" class=\"row_heading level0 row11\" >11</th>\n",
       "      <td id=\"T_bb1e8_row11_col0\" class=\"data row11 col0\" >Enforce Prediction Interval</td>\n",
       "      <td id=\"T_bb1e8_row11_col1\" class=\"data row11 col1\" >False</td>\n",
       "    </tr>\n",
       "    <tr>\n",
       "      <th id=\"T_bb1e8_level0_row12\" class=\"row_heading level0 row12\" >12</th>\n",
       "      <td id=\"T_bb1e8_row12_col0\" class=\"data row12 col0\" >Splits used for hyperparameters</td>\n",
       "      <td id=\"T_bb1e8_row12_col1\" class=\"data row12 col1\" >all</td>\n",
       "    </tr>\n",
       "    <tr>\n",
       "      <th id=\"T_bb1e8_level0_row13\" class=\"row_heading level0 row13\" >13</th>\n",
       "      <td id=\"T_bb1e8_row13_col0\" class=\"data row13 col0\" >User Defined Seasonal Period(s)</td>\n",
       "      <td id=\"T_bb1e8_row13_col1\" class=\"data row13 col1\" >D</td>\n",
       "    </tr>\n",
       "    <tr>\n",
       "      <th id=\"T_bb1e8_level0_row14\" class=\"row_heading level0 row14\" >14</th>\n",
       "      <td id=\"T_bb1e8_row14_col0\" class=\"data row14 col0\" >Ignore Seasonality Test</td>\n",
       "      <td id=\"T_bb1e8_row14_col1\" class=\"data row14 col1\" >False</td>\n",
       "    </tr>\n",
       "    <tr>\n",
       "      <th id=\"T_bb1e8_level0_row15\" class=\"row_heading level0 row15\" >15</th>\n",
       "      <td id=\"T_bb1e8_row15_col0\" class=\"data row15 col0\" >Seasonality Detection Algo</td>\n",
       "      <td id=\"T_bb1e8_row15_col1\" class=\"data row15 col1\" >user_defined</td>\n",
       "    </tr>\n",
       "    <tr>\n",
       "      <th id=\"T_bb1e8_level0_row16\" class=\"row_heading level0 row16\" >16</th>\n",
       "      <td id=\"T_bb1e8_row16_col0\" class=\"data row16 col0\" >Max Period to Consider</td>\n",
       "      <td id=\"T_bb1e8_row16_col1\" class=\"data row16 col1\" >60</td>\n",
       "    </tr>\n",
       "    <tr>\n",
       "      <th id=\"T_bb1e8_level0_row17\" class=\"row_heading level0 row17\" >17</th>\n",
       "      <td id=\"T_bb1e8_row17_col0\" class=\"data row17 col0\" >Seasonal Period(s) Tested</td>\n",
       "      <td id=\"T_bb1e8_row17_col1\" class=\"data row17 col1\" >[7]</td>\n",
       "    </tr>\n",
       "    <tr>\n",
       "      <th id=\"T_bb1e8_level0_row18\" class=\"row_heading level0 row18\" >18</th>\n",
       "      <td id=\"T_bb1e8_row18_col0\" class=\"data row18 col0\" >Significant Seasonal Period(s)</td>\n",
       "      <td id=\"T_bb1e8_row18_col1\" class=\"data row18 col1\" >[7]</td>\n",
       "    </tr>\n",
       "    <tr>\n",
       "      <th id=\"T_bb1e8_level0_row19\" class=\"row_heading level0 row19\" >19</th>\n",
       "      <td id=\"T_bb1e8_row19_col0\" class=\"data row19 col0\" >Significant Seasonal Period(s) without Harmonics</td>\n",
       "      <td id=\"T_bb1e8_row19_col1\" class=\"data row19 col1\" >[7]</td>\n",
       "    </tr>\n",
       "    <tr>\n",
       "      <th id=\"T_bb1e8_level0_row20\" class=\"row_heading level0 row20\" >20</th>\n",
       "      <td id=\"T_bb1e8_row20_col0\" class=\"data row20 col0\" >Remove Harmonics</td>\n",
       "      <td id=\"T_bb1e8_row20_col1\" class=\"data row20 col1\" >False</td>\n",
       "    </tr>\n",
       "    <tr>\n",
       "      <th id=\"T_bb1e8_level0_row21\" class=\"row_heading level0 row21\" >21</th>\n",
       "      <td id=\"T_bb1e8_row21_col0\" class=\"data row21 col0\" >Harmonics Order Method</td>\n",
       "      <td id=\"T_bb1e8_row21_col1\" class=\"data row21 col1\" >harmonic_max</td>\n",
       "    </tr>\n",
       "    <tr>\n",
       "      <th id=\"T_bb1e8_level0_row22\" class=\"row_heading level0 row22\" >22</th>\n",
       "      <td id=\"T_bb1e8_row22_col0\" class=\"data row22 col0\" >Num Seasonalities to Use</td>\n",
       "      <td id=\"T_bb1e8_row22_col1\" class=\"data row22 col1\" >1</td>\n",
       "    </tr>\n",
       "    <tr>\n",
       "      <th id=\"T_bb1e8_level0_row23\" class=\"row_heading level0 row23\" >23</th>\n",
       "      <td id=\"T_bb1e8_row23_col0\" class=\"data row23 col0\" >All Seasonalities to Use</td>\n",
       "      <td id=\"T_bb1e8_row23_col1\" class=\"data row23 col1\" >[7]</td>\n",
       "    </tr>\n",
       "    <tr>\n",
       "      <th id=\"T_bb1e8_level0_row24\" class=\"row_heading level0 row24\" >24</th>\n",
       "      <td id=\"T_bb1e8_row24_col0\" class=\"data row24 col0\" >Primary Seasonality</td>\n",
       "      <td id=\"T_bb1e8_row24_col1\" class=\"data row24 col1\" >7</td>\n",
       "    </tr>\n",
       "    <tr>\n",
       "      <th id=\"T_bb1e8_level0_row25\" class=\"row_heading level0 row25\" >25</th>\n",
       "      <td id=\"T_bb1e8_row25_col0\" class=\"data row25 col0\" >Seasonality Present</td>\n",
       "      <td id=\"T_bb1e8_row25_col1\" class=\"data row25 col1\" >True</td>\n",
       "    </tr>\n",
       "    <tr>\n",
       "      <th id=\"T_bb1e8_level0_row26\" class=\"row_heading level0 row26\" >26</th>\n",
       "      <td id=\"T_bb1e8_row26_col0\" class=\"data row26 col0\" >Seasonality Type</td>\n",
       "      <td id=\"T_bb1e8_row26_col1\" class=\"data row26 col1\" >mul</td>\n",
       "    </tr>\n",
       "    <tr>\n",
       "      <th id=\"T_bb1e8_level0_row27\" class=\"row_heading level0 row27\" >27</th>\n",
       "      <td id=\"T_bb1e8_row27_col0\" class=\"data row27 col0\" >Target Strictly Positive</td>\n",
       "      <td id=\"T_bb1e8_row27_col1\" class=\"data row27 col1\" >True</td>\n",
       "    </tr>\n",
       "    <tr>\n",
       "      <th id=\"T_bb1e8_level0_row28\" class=\"row_heading level0 row28\" >28</th>\n",
       "      <td id=\"T_bb1e8_row28_col0\" class=\"data row28 col0\" >Target White Noise</td>\n",
       "      <td id=\"T_bb1e8_row28_col1\" class=\"data row28 col1\" >No</td>\n",
       "    </tr>\n",
       "    <tr>\n",
       "      <th id=\"T_bb1e8_level0_row29\" class=\"row_heading level0 row29\" >29</th>\n",
       "      <td id=\"T_bb1e8_row29_col0\" class=\"data row29 col0\" >Recommended d</td>\n",
       "      <td id=\"T_bb1e8_row29_col1\" class=\"data row29 col1\" >1</td>\n",
       "    </tr>\n",
       "    <tr>\n",
       "      <th id=\"T_bb1e8_level0_row30\" class=\"row_heading level0 row30\" >30</th>\n",
       "      <td id=\"T_bb1e8_row30_col0\" class=\"data row30 col0\" >Recommended Seasonal D</td>\n",
       "      <td id=\"T_bb1e8_row30_col1\" class=\"data row30 col1\" >0</td>\n",
       "    </tr>\n",
       "    <tr>\n",
       "      <th id=\"T_bb1e8_level0_row31\" class=\"row_heading level0 row31\" >31</th>\n",
       "      <td id=\"T_bb1e8_row31_col0\" class=\"data row31 col0\" >Preprocess</td>\n",
       "      <td id=\"T_bb1e8_row31_col1\" class=\"data row31 col1\" >True</td>\n",
       "    </tr>\n",
       "    <tr>\n",
       "      <th id=\"T_bb1e8_level0_row32\" class=\"row_heading level0 row32\" >32</th>\n",
       "      <td id=\"T_bb1e8_row32_col0\" class=\"data row32 col0\" >Numerical Imputation (Target)</td>\n",
       "      <td id=\"T_bb1e8_row32_col1\" class=\"data row32 col1\" >drift</td>\n",
       "    </tr>\n",
       "    <tr>\n",
       "      <th id=\"T_bb1e8_level0_row33\" class=\"row_heading level0 row33\" >33</th>\n",
       "      <td id=\"T_bb1e8_row33_col0\" class=\"data row33 col0\" >Transformation (Target)</td>\n",
       "      <td id=\"T_bb1e8_row33_col1\" class=\"data row33 col1\" >None</td>\n",
       "    </tr>\n",
       "    <tr>\n",
       "      <th id=\"T_bb1e8_level0_row34\" class=\"row_heading level0 row34\" >34</th>\n",
       "      <td id=\"T_bb1e8_row34_col0\" class=\"data row34 col0\" >Scaling (Target)</td>\n",
       "      <td id=\"T_bb1e8_row34_col1\" class=\"data row34 col1\" >None</td>\n",
       "    </tr>\n",
       "    <tr>\n",
       "      <th id=\"T_bb1e8_level0_row35\" class=\"row_heading level0 row35\" >35</th>\n",
       "      <td id=\"T_bb1e8_row35_col0\" class=\"data row35 col0\" >Feature Engineering (Target) - Reduced Regression</td>\n",
       "      <td id=\"T_bb1e8_row35_col1\" class=\"data row35 col1\" >False</td>\n",
       "    </tr>\n",
       "    <tr>\n",
       "      <th id=\"T_bb1e8_level0_row36\" class=\"row_heading level0 row36\" >36</th>\n",
       "      <td id=\"T_bb1e8_row36_col0\" class=\"data row36 col0\" >CPU Jobs</td>\n",
       "      <td id=\"T_bb1e8_row36_col1\" class=\"data row36 col1\" >-1</td>\n",
       "    </tr>\n",
       "    <tr>\n",
       "      <th id=\"T_bb1e8_level0_row37\" class=\"row_heading level0 row37\" >37</th>\n",
       "      <td id=\"T_bb1e8_row37_col0\" class=\"data row37 col0\" >Use GPU</td>\n",
       "      <td id=\"T_bb1e8_row37_col1\" class=\"data row37 col1\" >False</td>\n",
       "    </tr>\n",
       "    <tr>\n",
       "      <th id=\"T_bb1e8_level0_row38\" class=\"row_heading level0 row38\" >38</th>\n",
       "      <td id=\"T_bb1e8_row38_col0\" class=\"data row38 col0\" >Log Experiment</td>\n",
       "      <td id=\"T_bb1e8_row38_col1\" class=\"data row38 col1\" >False</td>\n",
       "    </tr>\n",
       "    <tr>\n",
       "      <th id=\"T_bb1e8_level0_row39\" class=\"row_heading level0 row39\" >39</th>\n",
       "      <td id=\"T_bb1e8_row39_col0\" class=\"data row39 col0\" >Experiment Name</td>\n",
       "      <td id=\"T_bb1e8_row39_col1\" class=\"data row39 col1\" >ts-default-name</td>\n",
       "    </tr>\n",
       "    <tr>\n",
       "      <th id=\"T_bb1e8_level0_row40\" class=\"row_heading level0 row40\" >40</th>\n",
       "      <td id=\"T_bb1e8_row40_col0\" class=\"data row40 col0\" >USI</td>\n",
       "      <td id=\"T_bb1e8_row40_col1\" class=\"data row40 col1\" >7fbb</td>\n",
       "    </tr>\n",
       "  </tbody>\n",
       "</table>\n"
      ],
      "text/plain": [
       "<pandas.io.formats.style.Styler at 0x1b9c670ba90>"
      ]
     },
     "metadata": {},
     "output_type": "display_data"
    }
   ],
   "source": [
    "# Set up PyCaret environment\n",
    "s = setup(data=btc, \n",
    "          target = 'BTC-USD',\n",
    "          #transform_target='log',\n",
    "          fh=30,  # Forecast horizon\n",
    "          session_id=123,\n",
    "          fold_strategy='expanding',\n",
    "          seasonal_period='D',\n",
    "          #fold_spans=\"adaptive\",\n",
    "          numeric_imputation_target = 'drift')"
   ]
  },
  {
   "cell_type": "code",
   "execution_count": 74,
   "id": "ccca89ac",
   "metadata": {},
   "outputs": [
    {
     "data": {
      "text/html": [],
      "text/plain": [
       "<IPython.core.display.HTML object>"
      ]
     },
     "metadata": {},
     "output_type": "display_data"
    },
    {
     "data": {
      "text/html": [
       "<style type=\"text/css\">\n",
       "#T_be97d th {\n",
       "  text-align: left;\n",
       "}\n",
       "#T_be97d_row0_col0, #T_be97d_row1_col0, #T_be97d_row1_col1, #T_be97d_row1_col2, #T_be97d_row1_col3, #T_be97d_row1_col4, #T_be97d_row1_col5, #T_be97d_row1_col6, #T_be97d_row1_col7, #T_be97d_row2_col0, #T_be97d_row2_col1, #T_be97d_row2_col2, #T_be97d_row2_col3, #T_be97d_row2_col4, #T_be97d_row2_col5, #T_be97d_row2_col6, #T_be97d_row2_col7, #T_be97d_row3_col0, #T_be97d_row3_col1, #T_be97d_row3_col2, #T_be97d_row3_col3, #T_be97d_row3_col4, #T_be97d_row3_col5, #T_be97d_row3_col6, #T_be97d_row3_col7, #T_be97d_row4_col0, #T_be97d_row4_col1, #T_be97d_row4_col2, #T_be97d_row4_col3, #T_be97d_row4_col4, #T_be97d_row4_col5, #T_be97d_row4_col6, #T_be97d_row4_col7, #T_be97d_row5_col0, #T_be97d_row5_col1, #T_be97d_row5_col2, #T_be97d_row5_col3, #T_be97d_row5_col4, #T_be97d_row5_col5, #T_be97d_row5_col6, #T_be97d_row5_col7, #T_be97d_row6_col0, #T_be97d_row6_col1, #T_be97d_row6_col2, #T_be97d_row6_col3, #T_be97d_row6_col4, #T_be97d_row6_col5, #T_be97d_row6_col6, #T_be97d_row6_col7, #T_be97d_row7_col0, #T_be97d_row7_col1, #T_be97d_row7_col2, #T_be97d_row7_col3, #T_be97d_row7_col4, #T_be97d_row7_col5, #T_be97d_row7_col6, #T_be97d_row7_col7, #T_be97d_row8_col0, #T_be97d_row8_col1, #T_be97d_row8_col2, #T_be97d_row8_col3, #T_be97d_row8_col4, #T_be97d_row8_col5, #T_be97d_row8_col6, #T_be97d_row8_col7, #T_be97d_row9_col0, #T_be97d_row9_col1, #T_be97d_row9_col2, #T_be97d_row9_col3, #T_be97d_row9_col4, #T_be97d_row9_col5, #T_be97d_row9_col6, #T_be97d_row9_col7, #T_be97d_row10_col0, #T_be97d_row10_col1, #T_be97d_row10_col2, #T_be97d_row10_col3, #T_be97d_row10_col4, #T_be97d_row10_col5, #T_be97d_row10_col6, #T_be97d_row10_col7, #T_be97d_row11_col0, #T_be97d_row11_col1, #T_be97d_row11_col2, #T_be97d_row11_col3, #T_be97d_row11_col4, #T_be97d_row11_col5, #T_be97d_row11_col6, #T_be97d_row11_col7, #T_be97d_row12_col0, #T_be97d_row12_col1, #T_be97d_row12_col2, #T_be97d_row12_col3, #T_be97d_row12_col4, #T_be97d_row12_col5, #T_be97d_row12_col6, #T_be97d_row12_col7, #T_be97d_row13_col0, #T_be97d_row13_col1, #T_be97d_row13_col2, #T_be97d_row13_col3, #T_be97d_row13_col4, #T_be97d_row13_col5, #T_be97d_row13_col6, #T_be97d_row13_col7, #T_be97d_row14_col0, #T_be97d_row14_col1, #T_be97d_row14_col2, #T_be97d_row14_col3, #T_be97d_row14_col4, #T_be97d_row14_col5, #T_be97d_row14_col6, #T_be97d_row14_col7, #T_be97d_row15_col0, #T_be97d_row15_col1, #T_be97d_row15_col2, #T_be97d_row15_col3, #T_be97d_row15_col4, #T_be97d_row15_col5, #T_be97d_row15_col6, #T_be97d_row15_col7, #T_be97d_row16_col0, #T_be97d_row16_col1, #T_be97d_row16_col2, #T_be97d_row16_col3, #T_be97d_row16_col4, #T_be97d_row16_col5, #T_be97d_row16_col6, #T_be97d_row16_col7, #T_be97d_row17_col0, #T_be97d_row17_col1, #T_be97d_row17_col2, #T_be97d_row17_col3, #T_be97d_row17_col4, #T_be97d_row17_col5, #T_be97d_row17_col6, #T_be97d_row17_col7, #T_be97d_row18_col0, #T_be97d_row18_col1, #T_be97d_row18_col2, #T_be97d_row18_col3, #T_be97d_row18_col4, #T_be97d_row18_col5, #T_be97d_row18_col6, #T_be97d_row18_col7, #T_be97d_row19_col0, #T_be97d_row19_col1, #T_be97d_row19_col2, #T_be97d_row19_col3, #T_be97d_row19_col4, #T_be97d_row19_col5, #T_be97d_row19_col6, #T_be97d_row19_col7, #T_be97d_row20_col0, #T_be97d_row20_col1, #T_be97d_row20_col2, #T_be97d_row20_col3, #T_be97d_row20_col4, #T_be97d_row20_col5, #T_be97d_row20_col6, #T_be97d_row20_col7, #T_be97d_row21_col0, #T_be97d_row21_col1, #T_be97d_row21_col2, #T_be97d_row21_col3, #T_be97d_row21_col4, #T_be97d_row21_col5, #T_be97d_row21_col6, #T_be97d_row21_col7, #T_be97d_row22_col0, #T_be97d_row22_col1, #T_be97d_row22_col2, #T_be97d_row22_col3, #T_be97d_row22_col4, #T_be97d_row22_col5, #T_be97d_row22_col6, #T_be97d_row22_col7, #T_be97d_row23_col0, #T_be97d_row23_col1, #T_be97d_row23_col2, #T_be97d_row23_col3, #T_be97d_row23_col4, #T_be97d_row23_col5, #T_be97d_row23_col6, #T_be97d_row23_col7, #T_be97d_row24_col0, #T_be97d_row24_col1, #T_be97d_row24_col2, #T_be97d_row24_col3, #T_be97d_row24_col4, #T_be97d_row24_col5, #T_be97d_row24_col6, #T_be97d_row24_col7, #T_be97d_row25_col0, #T_be97d_row25_col1, #T_be97d_row25_col2, #T_be97d_row25_col3, #T_be97d_row25_col4, #T_be97d_row25_col5, #T_be97d_row25_col6, #T_be97d_row25_col7 {\n",
       "  text-align: left;\n",
       "}\n",
       "#T_be97d_row0_col1, #T_be97d_row0_col2, #T_be97d_row0_col3, #T_be97d_row0_col4, #T_be97d_row0_col5, #T_be97d_row0_col6, #T_be97d_row0_col7 {\n",
       "  text-align: left;\n",
       "  background-color: yellow;\n",
       "}\n",
       "#T_be97d_row0_col8, #T_be97d_row1_col8, #T_be97d_row2_col8, #T_be97d_row3_col8, #T_be97d_row4_col8, #T_be97d_row5_col8, #T_be97d_row6_col8, #T_be97d_row7_col8, #T_be97d_row8_col8, #T_be97d_row9_col8, #T_be97d_row10_col8, #T_be97d_row11_col8, #T_be97d_row12_col8, #T_be97d_row13_col8, #T_be97d_row14_col8, #T_be97d_row15_col8, #T_be97d_row16_col8, #T_be97d_row17_col8, #T_be97d_row18_col8, #T_be97d_row19_col8, #T_be97d_row20_col8, #T_be97d_row21_col8, #T_be97d_row23_col8, #T_be97d_row24_col8, #T_be97d_row25_col8 {\n",
       "  text-align: left;\n",
       "  background-color: lightgrey;\n",
       "}\n",
       "#T_be97d_row22_col8 {\n",
       "  text-align: left;\n",
       "  background-color: yellow;\n",
       "  background-color: lightgrey;\n",
       "}\n",
       "</style>\n",
       "<table id=\"T_be97d\">\n",
       "  <thead>\n",
       "    <tr>\n",
       "      <th class=\"blank level0\" >&nbsp;</th>\n",
       "      <th id=\"T_be97d_level0_col0\" class=\"col_heading level0 col0\" >Model</th>\n",
       "      <th id=\"T_be97d_level0_col1\" class=\"col_heading level0 col1\" >MASE</th>\n",
       "      <th id=\"T_be97d_level0_col2\" class=\"col_heading level0 col2\" >RMSSE</th>\n",
       "      <th id=\"T_be97d_level0_col3\" class=\"col_heading level0 col3\" >MAE</th>\n",
       "      <th id=\"T_be97d_level0_col4\" class=\"col_heading level0 col4\" >RMSE</th>\n",
       "      <th id=\"T_be97d_level0_col5\" class=\"col_heading level0 col5\" >MAPE</th>\n",
       "      <th id=\"T_be97d_level0_col6\" class=\"col_heading level0 col6\" >SMAPE</th>\n",
       "      <th id=\"T_be97d_level0_col7\" class=\"col_heading level0 col7\" >R2</th>\n",
       "      <th id=\"T_be97d_level0_col8\" class=\"col_heading level0 col8\" >TT (Sec)</th>\n",
       "    </tr>\n",
       "  </thead>\n",
       "  <tbody>\n",
       "    <tr>\n",
       "      <th id=\"T_be97d_level0_row0\" class=\"row_heading level0 row0\" >exp_smooth</th>\n",
       "      <td id=\"T_be97d_row0_col0\" class=\"data row0 col0\" >Exponential Smoothing</td>\n",
       "      <td id=\"T_be97d_row0_col1\" class=\"data row0 col1\" >0.6522</td>\n",
       "      <td id=\"T_be97d_row0_col2\" class=\"data row0 col2\" >0.5887</td>\n",
       "      <td id=\"T_be97d_row0_col3\" class=\"data row0 col3\" >136.6378</td>\n",
       "      <td id=\"T_be97d_row0_col4\" class=\"data row0 col4\" >166.7971</td>\n",
       "      <td id=\"T_be97d_row0_col5\" class=\"data row0 col5\" >0.0529</td>\n",
       "      <td id=\"T_be97d_row0_col6\" class=\"data row0 col6\" >0.0522</td>\n",
       "      <td id=\"T_be97d_row0_col7\" class=\"data row0 col7\" >0.1251</td>\n",
       "      <td id=\"T_be97d_row0_col8\" class=\"data row0 col8\" >0.1033</td>\n",
       "    </tr>\n",
       "    <tr>\n",
       "      <th id=\"T_be97d_level0_row1\" class=\"row_heading level0 row1\" >ets</th>\n",
       "      <td id=\"T_be97d_row1_col0\" class=\"data row1 col0\" >ETS</td>\n",
       "      <td id=\"T_be97d_row1_col1\" class=\"data row1 col1\" >1.0164</td>\n",
       "      <td id=\"T_be97d_row1_col2\" class=\"data row1 col2\" >0.8720</td>\n",
       "      <td id=\"T_be97d_row1_col3\" class=\"data row1 col3\" >212.6287</td>\n",
       "      <td id=\"T_be97d_row1_col4\" class=\"data row1 col4\" >246.5809</td>\n",
       "      <td id=\"T_be97d_row1_col5\" class=\"data row1 col5\" >0.0836</td>\n",
       "      <td id=\"T_be97d_row1_col6\" class=\"data row1 col6\" >0.0785</td>\n",
       "      <td id=\"T_be97d_row1_col7\" class=\"data row1 col7\" >-0.8882</td>\n",
       "      <td id=\"T_be97d_row1_col8\" class=\"data row1 col8\" >0.1067</td>\n",
       "    </tr>\n",
       "    <tr>\n",
       "      <th id=\"T_be97d_level0_row2\" class=\"row_heading level0 row2\" >arima</th>\n",
       "      <td id=\"T_be97d_row2_col0\" class=\"data row2 col0\" >ARIMA</td>\n",
       "      <td id=\"T_be97d_row2_col1\" class=\"data row2 col1\" >1.1009</td>\n",
       "      <td id=\"T_be97d_row2_col2\" class=\"data row2 col2\" >0.9622</td>\n",
       "      <td id=\"T_be97d_row2_col3\" class=\"data row2 col3\" >230.3140</td>\n",
       "      <td id=\"T_be97d_row2_col4\" class=\"data row2 col4\" >272.0233</td>\n",
       "      <td id=\"T_be97d_row2_col5\" class=\"data row2 col5\" >0.0916</td>\n",
       "      <td id=\"T_be97d_row2_col6\" class=\"data row2 col6\" >0.0852</td>\n",
       "      <td id=\"T_be97d_row2_col7\" class=\"data row2 col7\" >-1.2898</td>\n",
       "      <td id=\"T_be97d_row2_col8\" class=\"data row2 col8\" >0.1500</td>\n",
       "    </tr>\n",
       "    <tr>\n",
       "      <th id=\"T_be97d_level0_row3\" class=\"row_heading level0 row3\" >theta</th>\n",
       "      <td id=\"T_be97d_row3_col0\" class=\"data row3 col0\" >Theta Forecaster</td>\n",
       "      <td id=\"T_be97d_row3_col1\" class=\"data row3 col1\" >1.2312</td>\n",
       "      <td id=\"T_be97d_row3_col2\" class=\"data row3 col2\" >1.0335</td>\n",
       "      <td id=\"T_be97d_row3_col3\" class=\"data row3 col3\" >257.4473</td>\n",
       "      <td id=\"T_be97d_row3_col4\" class=\"data row3 col4\" >291.9464</td>\n",
       "      <td id=\"T_be97d_row3_col5\" class=\"data row3 col5\" >0.1052</td>\n",
       "      <td id=\"T_be97d_row3_col6\" class=\"data row3 col6\" >0.0977</td>\n",
       "      <td id=\"T_be97d_row3_col7\" class=\"data row3 col7\" >-1.7004</td>\n",
       "      <td id=\"T_be97d_row3_col8\" class=\"data row3 col8\" >0.0700</td>\n",
       "    </tr>\n",
       "    <tr>\n",
       "      <th id=\"T_be97d_level0_row4\" class=\"row_heading level0 row4\" >naive</th>\n",
       "      <td id=\"T_be97d_row4_col0\" class=\"data row4 col0\" >Naive Forecaster</td>\n",
       "      <td id=\"T_be97d_row4_col1\" class=\"data row4 col1\" >1.2483</td>\n",
       "      <td id=\"T_be97d_row4_col2\" class=\"data row4 col2\" >1.0399</td>\n",
       "      <td id=\"T_be97d_row4_col3\" class=\"data row4 col3\" >261.0802</td>\n",
       "      <td id=\"T_be97d_row4_col4\" class=\"data row4 col4\" >293.7721</td>\n",
       "      <td id=\"T_be97d_row4_col5\" class=\"data row4 col5\" >0.1068</td>\n",
       "      <td id=\"T_be97d_row4_col6\" class=\"data row4 col6\" >0.0991</td>\n",
       "      <td id=\"T_be97d_row4_col7\" class=\"data row4 col7\" >-1.7372</td>\n",
       "      <td id=\"T_be97d_row4_col8\" class=\"data row4 col8\" >1.5900</td>\n",
       "    </tr>\n",
       "    <tr>\n",
       "      <th id=\"T_be97d_level0_row5\" class=\"row_heading level0 row5\" >auto_arima</th>\n",
       "      <td id=\"T_be97d_row5_col0\" class=\"data row5 col0\" >Auto ARIMA</td>\n",
       "      <td id=\"T_be97d_row5_col1\" class=\"data row5 col1\" >1.2483</td>\n",
       "      <td id=\"T_be97d_row5_col2\" class=\"data row5 col2\" >1.0399</td>\n",
       "      <td id=\"T_be97d_row5_col3\" class=\"data row5 col3\" >261.0802</td>\n",
       "      <td id=\"T_be97d_row5_col4\" class=\"data row5 col4\" >293.7721</td>\n",
       "      <td id=\"T_be97d_row5_col5\" class=\"data row5 col5\" >0.1068</td>\n",
       "      <td id=\"T_be97d_row5_col6\" class=\"data row5 col6\" >0.0991</td>\n",
       "      <td id=\"T_be97d_row5_col7\" class=\"data row5 col7\" >-1.7372</td>\n",
       "      <td id=\"T_be97d_row5_col8\" class=\"data row5 col8\" >0.9933</td>\n",
       "    </tr>\n",
       "    <tr>\n",
       "      <th id=\"T_be97d_level0_row6\" class=\"row_heading level0 row6\" >rf_cds_dt</th>\n",
       "      <td id=\"T_be97d_row6_col0\" class=\"data row6 col0\" >Random Forest w/ Cond. Deseasonalize & Detrending</td>\n",
       "      <td id=\"T_be97d_row6_col1\" class=\"data row6 col1\" >1.3970</td>\n",
       "      <td id=\"T_be97d_row6_col2\" class=\"data row6 col2\" >1.1522</td>\n",
       "      <td id=\"T_be97d_row6_col3\" class=\"data row6 col3\" >292.0257</td>\n",
       "      <td id=\"T_be97d_row6_col4\" class=\"data row6 col4\" >325.3238</td>\n",
       "      <td id=\"T_be97d_row6_col5\" class=\"data row6 col5\" >0.1202</td>\n",
       "      <td id=\"T_be97d_row6_col6\" class=\"data row6 col6\" >0.1104</td>\n",
       "      <td id=\"T_be97d_row6_col7\" class=\"data row6 col7\" >-2.4133</td>\n",
       "      <td id=\"T_be97d_row6_col8\" class=\"data row6 col8\" >0.9633</td>\n",
       "    </tr>\n",
       "    <tr>\n",
       "      <th id=\"T_be97d_level0_row7\" class=\"row_heading level0 row7\" >ada_cds_dt</th>\n",
       "      <td id=\"T_be97d_row7_col0\" class=\"data row7 col0\" >AdaBoost w/ Cond. Deseasonalize & Detrending</td>\n",
       "      <td id=\"T_be97d_row7_col1\" class=\"data row7 col1\" >1.4459</td>\n",
       "      <td id=\"T_be97d_row7_col2\" class=\"data row7 col2\" >1.1712</td>\n",
       "      <td id=\"T_be97d_row7_col3\" class=\"data row7 col3\" >302.5953</td>\n",
       "      <td id=\"T_be97d_row7_col4\" class=\"data row7 col4\" >331.0876</td>\n",
       "      <td id=\"T_be97d_row7_col5\" class=\"data row7 col5\" >0.1219</td>\n",
       "      <td id=\"T_be97d_row7_col6\" class=\"data row7 col6\" >0.1122</td>\n",
       "      <td id=\"T_be97d_row7_col7\" class=\"data row7 col7\" >-2.4031</td>\n",
       "      <td id=\"T_be97d_row7_col8\" class=\"data row7 col8\" >0.5967</td>\n",
       "    </tr>\n",
       "    <tr>\n",
       "      <th id=\"T_be97d_level0_row8\" class=\"row_heading level0 row8\" >omp_cds_dt</th>\n",
       "      <td id=\"T_be97d_row8_col0\" class=\"data row8 col0\" >Orthogonal Matching Pursuit w/ Cond. Deseasonalize & Detrending</td>\n",
       "      <td id=\"T_be97d_row8_col1\" class=\"data row8 col1\" >1.4592</td>\n",
       "      <td id=\"T_be97d_row8_col2\" class=\"data row8 col2\" >1.2201</td>\n",
       "      <td id=\"T_be97d_row8_col3\" class=\"data row8 col3\" >305.0520</td>\n",
       "      <td id=\"T_be97d_row8_col4\" class=\"data row8 col4\" >344.3882</td>\n",
       "      <td id=\"T_be97d_row8_col5\" class=\"data row8 col5\" >0.1297</td>\n",
       "      <td id=\"T_be97d_row8_col6\" class=\"data row8 col6\" >0.1183</td>\n",
       "      <td id=\"T_be97d_row8_col7\" class=\"data row8 col7\" >-3.2271</td>\n",
       "      <td id=\"T_be97d_row8_col8\" class=\"data row8 col8\" >0.4933</td>\n",
       "    </tr>\n",
       "    <tr>\n",
       "      <th id=\"T_be97d_level0_row9\" class=\"row_heading level0 row9\" >stlf</th>\n",
       "      <td id=\"T_be97d_row9_col0\" class=\"data row9 col0\" >STLF</td>\n",
       "      <td id=\"T_be97d_row9_col1\" class=\"data row9 col1\" >1.4798</td>\n",
       "      <td id=\"T_be97d_row9_col2\" class=\"data row9 col2\" >1.2344</td>\n",
       "      <td id=\"T_be97d_row9_col3\" class=\"data row9 col3\" >309.6086</td>\n",
       "      <td id=\"T_be97d_row9_col4\" class=\"data row9 col4\" >348.8524</td>\n",
       "      <td id=\"T_be97d_row9_col5\" class=\"data row9 col5\" >0.1270</td>\n",
       "      <td id=\"T_be97d_row9_col6\" class=\"data row9 col6\" >0.1162</td>\n",
       "      <td id=\"T_be97d_row9_col7\" class=\"data row9 col7\" >-2.8640</td>\n",
       "      <td id=\"T_be97d_row9_col8\" class=\"data row9 col8\" >0.0633</td>\n",
       "    </tr>\n",
       "    <tr>\n",
       "      <th id=\"T_be97d_level0_row10\" class=\"row_heading level0 row10\" >huber_cds_dt</th>\n",
       "      <td id=\"T_be97d_row10_col0\" class=\"data row10 col0\" >Huber w/ Cond. Deseasonalize & Detrending</td>\n",
       "      <td id=\"T_be97d_row10_col1\" class=\"data row10 col1\" >1.4840</td>\n",
       "      <td id=\"T_be97d_row10_col2\" class=\"data row10 col2\" >1.2400</td>\n",
       "      <td id=\"T_be97d_row10_col3\" class=\"data row10 col3\" >310.2305</td>\n",
       "      <td id=\"T_be97d_row10_col4\" class=\"data row10 col4\" >350.0189</td>\n",
       "      <td id=\"T_be97d_row10_col5\" class=\"data row10 col5\" >0.1317</td>\n",
       "      <td id=\"T_be97d_row10_col6\" class=\"data row10 col6\" >0.1200</td>\n",
       "      <td id=\"T_be97d_row10_col7\" class=\"data row10 col7\" >-3.3535</td>\n",
       "      <td id=\"T_be97d_row10_col8\" class=\"data row10 col8\" >0.4633</td>\n",
       "    </tr>\n",
       "    <tr>\n",
       "      <th id=\"T_be97d_level0_row11\" class=\"row_heading level0 row11\" >lr_cds_dt</th>\n",
       "      <td id=\"T_be97d_row11_col0\" class=\"data row11 col0\" >Linear w/ Cond. Deseasonalize & Detrending</td>\n",
       "      <td id=\"T_be97d_row11_col1\" class=\"data row11 col1\" >1.5268</td>\n",
       "      <td id=\"T_be97d_row11_col2\" class=\"data row11 col2\" >1.2755</td>\n",
       "      <td id=\"T_be97d_row11_col3\" class=\"data row11 col3\" >319.2331</td>\n",
       "      <td id=\"T_be97d_row11_col4\" class=\"data row11 col4\" >360.0509</td>\n",
       "      <td id=\"T_be97d_row11_col5\" class=\"data row11 col5\" >0.1361</td>\n",
       "      <td id=\"T_be97d_row11_col6\" class=\"data row11 col6\" >0.1236</td>\n",
       "      <td id=\"T_be97d_row11_col7\" class=\"data row11 col7\" >-3.7321</td>\n",
       "      <td id=\"T_be97d_row11_col8\" class=\"data row11 col8\" >0.8367</td>\n",
       "    </tr>\n",
       "    <tr>\n",
       "      <th id=\"T_be97d_level0_row12\" class=\"row_heading level0 row12\" >ridge_cds_dt</th>\n",
       "      <td id=\"T_be97d_row12_col0\" class=\"data row12 col0\" >Ridge w/ Cond. Deseasonalize & Detrending</td>\n",
       "      <td id=\"T_be97d_row12_col1\" class=\"data row12 col1\" >1.5268</td>\n",
       "      <td id=\"T_be97d_row12_col2\" class=\"data row12 col2\" >1.2755</td>\n",
       "      <td id=\"T_be97d_row12_col3\" class=\"data row12 col3\" >319.2331</td>\n",
       "      <td id=\"T_be97d_row12_col4\" class=\"data row12 col4\" >360.0509</td>\n",
       "      <td id=\"T_be97d_row12_col5\" class=\"data row12 col5\" >0.1361</td>\n",
       "      <td id=\"T_be97d_row12_col6\" class=\"data row12 col6\" >0.1236</td>\n",
       "      <td id=\"T_be97d_row12_col7\" class=\"data row12 col7\" >-3.7321</td>\n",
       "      <td id=\"T_be97d_row12_col8\" class=\"data row12 col8\" >0.8800</td>\n",
       "    </tr>\n",
       "    <tr>\n",
       "      <th id=\"T_be97d_level0_row13\" class=\"row_heading level0 row13\" >llar_cds_dt</th>\n",
       "      <td id=\"T_be97d_row13_col0\" class=\"data row13 col0\" >Lasso Least Angular Regressor w/ Cond. Deseasonalize & Detrending</td>\n",
       "      <td id=\"T_be97d_row13_col1\" class=\"data row13 col1\" >1.5269</td>\n",
       "      <td id=\"T_be97d_row13_col2\" class=\"data row13 col2\" >1.2756</td>\n",
       "      <td id=\"T_be97d_row13_col3\" class=\"data row13 col3\" >319.2519</td>\n",
       "      <td id=\"T_be97d_row13_col4\" class=\"data row13 col4\" >360.0667</td>\n",
       "      <td id=\"T_be97d_row13_col5\" class=\"data row13 col5\" >0.1361</td>\n",
       "      <td id=\"T_be97d_row13_col6\" class=\"data row13 col6\" >0.1236</td>\n",
       "      <td id=\"T_be97d_row13_col7\" class=\"data row13 col7\" >-3.7325</td>\n",
       "      <td id=\"T_be97d_row13_col8\" class=\"data row13 col8\" >0.6067</td>\n",
       "    </tr>\n",
       "    <tr>\n",
       "      <th id=\"T_be97d_level0_row14\" class=\"row_heading level0 row14\" >en_cds_dt</th>\n",
       "      <td id=\"T_be97d_row14_col0\" class=\"data row14 col0\" >Elastic Net w/ Cond. Deseasonalize & Detrending</td>\n",
       "      <td id=\"T_be97d_row14_col1\" class=\"data row14 col1\" >1.5269</td>\n",
       "      <td id=\"T_be97d_row14_col2\" class=\"data row14 col2\" >1.2755</td>\n",
       "      <td id=\"T_be97d_row14_col3\" class=\"data row14 col3\" >319.2425</td>\n",
       "      <td id=\"T_be97d_row14_col4\" class=\"data row14 col4\" >360.0588</td>\n",
       "      <td id=\"T_be97d_row14_col5\" class=\"data row14 col5\" >0.1361</td>\n",
       "      <td id=\"T_be97d_row14_col6\" class=\"data row14 col6\" >0.1236</td>\n",
       "      <td id=\"T_be97d_row14_col7\" class=\"data row14 col7\" >-3.7323</td>\n",
       "      <td id=\"T_be97d_row14_col8\" class=\"data row14 col8\" >0.9100</td>\n",
       "    </tr>\n",
       "    <tr>\n",
       "      <th id=\"T_be97d_level0_row15\" class=\"row_heading level0 row15\" >lasso_cds_dt</th>\n",
       "      <td id=\"T_be97d_row15_col0\" class=\"data row15 col0\" >Lasso w/ Cond. Deseasonalize & Detrending</td>\n",
       "      <td id=\"T_be97d_row15_col1\" class=\"data row15 col1\" >1.5269</td>\n",
       "      <td id=\"T_be97d_row15_col2\" class=\"data row15 col2\" >1.2756</td>\n",
       "      <td id=\"T_be97d_row15_col3\" class=\"data row15 col3\" >319.2526</td>\n",
       "      <td id=\"T_be97d_row15_col4\" class=\"data row15 col4\" >360.0675</td>\n",
       "      <td id=\"T_be97d_row15_col5\" class=\"data row15 col5\" >0.1361</td>\n",
       "      <td id=\"T_be97d_row15_col6\" class=\"data row15 col6\" >0.1236</td>\n",
       "      <td id=\"T_be97d_row15_col7\" class=\"data row15 col7\" >-3.7325</td>\n",
       "      <td id=\"T_be97d_row15_col8\" class=\"data row15 col8\" >0.6533</td>\n",
       "    </tr>\n",
       "    <tr>\n",
       "      <th id=\"T_be97d_level0_row16\" class=\"row_heading level0 row16\" >et_cds_dt</th>\n",
       "      <td id=\"T_be97d_row16_col0\" class=\"data row16 col0\" >Extra Trees w/ Cond. Deseasonalize & Detrending</td>\n",
       "      <td id=\"T_be97d_row16_col1\" class=\"data row16 col1\" >1.5272</td>\n",
       "      <td id=\"T_be97d_row16_col2\" class=\"data row16 col2\" >1.2420</td>\n",
       "      <td id=\"T_be97d_row16_col3\" class=\"data row16 col3\" >319.3017</td>\n",
       "      <td id=\"T_be97d_row16_col4\" class=\"data row16 col4\" >350.4841</td>\n",
       "      <td id=\"T_be97d_row16_col5\" class=\"data row16 col5\" >0.1381</td>\n",
       "      <td id=\"T_be97d_row16_col6\" class=\"data row16 col6\" >0.1251</td>\n",
       "      <td id=\"T_be97d_row16_col7\" class=\"data row16 col7\" >-3.8123</td>\n",
       "      <td id=\"T_be97d_row16_col8\" class=\"data row16 col8\" >0.8933</td>\n",
       "    </tr>\n",
       "    <tr>\n",
       "      <th id=\"T_be97d_level0_row17\" class=\"row_heading level0 row17\" >br_cds_dt</th>\n",
       "      <td id=\"T_be97d_row17_col0\" class=\"data row17 col0\" >Bayesian Ridge w/ Cond. Deseasonalize & Detrending</td>\n",
       "      <td id=\"T_be97d_row17_col1\" class=\"data row17 col1\" >1.5284</td>\n",
       "      <td id=\"T_be97d_row17_col2\" class=\"data row17 col2\" >1.2763</td>\n",
       "      <td id=\"T_be97d_row17_col3\" class=\"data row17 col3\" >319.5563</td>\n",
       "      <td id=\"T_be97d_row17_col4\" class=\"data row17 col4\" >360.2784</td>\n",
       "      <td id=\"T_be97d_row17_col5\" class=\"data row17 col5\" >0.1363</td>\n",
       "      <td id=\"T_be97d_row17_col6\" class=\"data row17 col6\" >0.1238</td>\n",
       "      <td id=\"T_be97d_row17_col7\" class=\"data row17 col7\" >-3.7453</td>\n",
       "      <td id=\"T_be97d_row17_col8\" class=\"data row17 col8\" >0.5600</td>\n",
       "    </tr>\n",
       "    <tr>\n",
       "      <th id=\"T_be97d_level0_row18\" class=\"row_heading level0 row18\" >knn_cds_dt</th>\n",
       "      <td id=\"T_be97d_row18_col0\" class=\"data row18 col0\" >K Neighbors w/ Cond. Deseasonalize & Detrending</td>\n",
       "      <td id=\"T_be97d_row18_col1\" class=\"data row18 col1\" >1.6158</td>\n",
       "      <td id=\"T_be97d_row18_col2\" class=\"data row18 col2\" >1.3444</td>\n",
       "      <td id=\"T_be97d_row18_col3\" class=\"data row18 col3\" >338.0619</td>\n",
       "      <td id=\"T_be97d_row18_col4\" class=\"data row18 col4\" >380.0829</td>\n",
       "      <td id=\"T_be97d_row18_col5\" class=\"data row18 col5\" >0.1377</td>\n",
       "      <td id=\"T_be97d_row18_col6\" class=\"data row18 col6\" >0.1264</td>\n",
       "      <td id=\"T_be97d_row18_col7\" class=\"data row18 col7\" >-3.5342</td>\n",
       "      <td id=\"T_be97d_row18_col8\" class=\"data row18 col8\" >0.6533</td>\n",
       "    </tr>\n",
       "    <tr>\n",
       "      <th id=\"T_be97d_level0_row19\" class=\"row_heading level0 row19\" >gbr_cds_dt</th>\n",
       "      <td id=\"T_be97d_row19_col0\" class=\"data row19 col0\" >Gradient Boosting w/ Cond. Deseasonalize & Detrending</td>\n",
       "      <td id=\"T_be97d_row19_col1\" class=\"data row19 col1\" >1.6328</td>\n",
       "      <td id=\"T_be97d_row19_col2\" class=\"data row19 col2\" >1.3179</td>\n",
       "      <td id=\"T_be97d_row19_col3\" class=\"data row19 col3\" >341.2797</td>\n",
       "      <td id=\"T_be97d_row19_col4\" class=\"data row19 col4\" >371.8728</td>\n",
       "      <td id=\"T_be97d_row19_col5\" class=\"data row19 col5\" >0.1456</td>\n",
       "      <td id=\"T_be97d_row19_col6\" class=\"data row19 col6\" >0.1316</td>\n",
       "      <td id=\"T_be97d_row19_col7\" class=\"data row19 col7\" >-4.0089</td>\n",
       "      <td id=\"T_be97d_row19_col8\" class=\"data row19 col8\" >0.6500</td>\n",
       "    </tr>\n",
       "    <tr>\n",
       "      <th id=\"T_be97d_level0_row20\" class=\"row_heading level0 row20\" >lightgbm_cds_dt</th>\n",
       "      <td id=\"T_be97d_row20_col0\" class=\"data row20 col0\" >Light Gradient Boosting w/ Cond. Deseasonalize & Detrending</td>\n",
       "      <td id=\"T_be97d_row20_col1\" class=\"data row20 col1\" >1.6802</td>\n",
       "      <td id=\"T_be97d_row20_col2\" class=\"data row20 col2\" >1.3530</td>\n",
       "      <td id=\"T_be97d_row20_col3\" class=\"data row20 col3\" >351.2428</td>\n",
       "      <td id=\"T_be97d_row20_col4\" class=\"data row20 col4\" >381.8071</td>\n",
       "      <td id=\"T_be97d_row20_col5\" class=\"data row20 col5\" >0.1502</td>\n",
       "      <td id=\"T_be97d_row20_col6\" class=\"data row20 col6\" >0.1354</td>\n",
       "      <td id=\"T_be97d_row20_col7\" class=\"data row20 col7\" >-4.3723</td>\n",
       "      <td id=\"T_be97d_row20_col8\" class=\"data row20 col8\" >0.8033</td>\n",
       "    </tr>\n",
       "    <tr>\n",
       "      <th id=\"T_be97d_level0_row21\" class=\"row_heading level0 row21\" >snaive</th>\n",
       "      <td id=\"T_be97d_row21_col0\" class=\"data row21 col0\" >Seasonal Naive Forecaster</td>\n",
       "      <td id=\"T_be97d_row21_col1\" class=\"data row21 col1\" >1.8737</td>\n",
       "      <td id=\"T_be97d_row21_col2\" class=\"data row21 col2\" >1.5533</td>\n",
       "      <td id=\"T_be97d_row21_col3\" class=\"data row21 col3\" >391.8241</td>\n",
       "      <td id=\"T_be97d_row21_col4\" class=\"data row21 col4\" >438.4091</td>\n",
       "      <td id=\"T_be97d_row21_col5\" class=\"data row21 col5\" >0.1662</td>\n",
       "      <td id=\"T_be97d_row21_col6\" class=\"data row21 col6\" >0.1472</td>\n",
       "      <td id=\"T_be97d_row21_col7\" class=\"data row21 col7\" >-6.0565</td>\n",
       "      <td id=\"T_be97d_row21_col8\" class=\"data row21 col8\" >1.0800</td>\n",
       "    </tr>\n",
       "    <tr>\n",
       "      <th id=\"T_be97d_level0_row22\" class=\"row_heading level0 row22\" >croston</th>\n",
       "      <td id=\"T_be97d_row22_col0\" class=\"data row22 col0\" >Croston</td>\n",
       "      <td id=\"T_be97d_row22_col1\" class=\"data row22 col1\" >2.1360</td>\n",
       "      <td id=\"T_be97d_row22_col2\" class=\"data row22 col2\" >1.6794</td>\n",
       "      <td id=\"T_be97d_row22_col3\" class=\"data row22 col3\" >446.7845</td>\n",
       "      <td id=\"T_be97d_row22_col4\" class=\"data row22 col4\" >474.0936</td>\n",
       "      <td id=\"T_be97d_row22_col5\" class=\"data row22 col5\" >0.1899</td>\n",
       "      <td id=\"T_be97d_row22_col6\" class=\"data row22 col6\" >0.1676</td>\n",
       "      <td id=\"T_be97d_row22_col7\" class=\"data row22 col7\" >-7.2392</td>\n",
       "      <td id=\"T_be97d_row22_col8\" class=\"data row22 col8\" >0.0367</td>\n",
       "    </tr>\n",
       "    <tr>\n",
       "      <th id=\"T_be97d_level0_row23\" class=\"row_heading level0 row23\" >dt_cds_dt</th>\n",
       "      <td id=\"T_be97d_row23_col0\" class=\"data row23 col0\" >Decision Tree w/ Cond. Deseasonalize & Detrending</td>\n",
       "      <td id=\"T_be97d_row23_col1\" class=\"data row23 col1\" >2.5047</td>\n",
       "      <td id=\"T_be97d_row23_col2\" class=\"data row23 col2\" >2.0921</td>\n",
       "      <td id=\"T_be97d_row23_col3\" class=\"data row23 col3\" >523.7563</td>\n",
       "      <td id=\"T_be97d_row23_col4\" class=\"data row23 col4\" >590.9683</td>\n",
       "      <td id=\"T_be97d_row23_col5\" class=\"data row23 col5\" >0.2109</td>\n",
       "      <td id=\"T_be97d_row23_col6\" class=\"data row23 col6\" >0.1829</td>\n",
       "      <td id=\"T_be97d_row23_col7\" class=\"data row23 col7\" >-10.0184</td>\n",
       "      <td id=\"T_be97d_row23_col8\" class=\"data row23 col8\" >0.4500</td>\n",
       "    </tr>\n",
       "    <tr>\n",
       "      <th id=\"T_be97d_level0_row24\" class=\"row_heading level0 row24\" >polytrend</th>\n",
       "      <td id=\"T_be97d_row24_col0\" class=\"data row24 col0\" >Polynomial Trend Forecaster</td>\n",
       "      <td id=\"T_be97d_row24_col1\" class=\"data row24 col1\" >2.7114</td>\n",
       "      <td id=\"T_be97d_row24_col2\" class=\"data row24 col2\" >2.0989</td>\n",
       "      <td id=\"T_be97d_row24_col3\" class=\"data row24 col3\" >568.0181</td>\n",
       "      <td id=\"T_be97d_row24_col4\" class=\"data row24 col4\" >593.4643</td>\n",
       "      <td id=\"T_be97d_row24_col5\" class=\"data row24 col5\" >0.2433</td>\n",
       "      <td id=\"T_be97d_row24_col6\" class=\"data row24 col6\" >0.2115</td>\n",
       "      <td id=\"T_be97d_row24_col7\" class=\"data row24 col7\" >-15.0956</td>\n",
       "      <td id=\"T_be97d_row24_col8\" class=\"data row24 col8\" >0.0700</td>\n",
       "    </tr>\n",
       "    <tr>\n",
       "      <th id=\"T_be97d_level0_row25\" class=\"row_heading level0 row25\" >grand_means</th>\n",
       "      <td id=\"T_be97d_row25_col0\" class=\"data row25 col0\" >Grand Means Forecaster</td>\n",
       "      <td id=\"T_be97d_row25_col1\" class=\"data row25 col1\" >2.7277</td>\n",
       "      <td id=\"T_be97d_row25_col2\" class=\"data row25 col2\" >2.1256</td>\n",
       "      <td id=\"T_be97d_row25_col3\" class=\"data row25 col3\" >570.8401</td>\n",
       "      <td id=\"T_be97d_row25_col4\" class=\"data row25 col4\" >600.1129</td>\n",
       "      <td id=\"T_be97d_row25_col5\" class=\"data row25 col5\" >0.2519</td>\n",
       "      <td id=\"T_be97d_row25_col6\" class=\"data row25 col6\" >0.2120</td>\n",
       "      <td id=\"T_be97d_row25_col7\" class=\"data row25 col7\" >-17.4102</td>\n",
       "      <td id=\"T_be97d_row25_col8\" class=\"data row25 col8\" >1.0867</td>\n",
       "    </tr>\n",
       "  </tbody>\n",
       "</table>\n"
      ],
      "text/plain": [
       "<pandas.io.formats.style.Styler at 0x1b9c862a8b0>"
      ]
     },
     "metadata": {},
     "output_type": "display_data"
    },
    {
     "data": {
      "text/html": [],
      "text/plain": [
       "<IPython.core.display.HTML object>"
      ]
     },
     "metadata": {},
     "output_type": "display_data"
    }
   ],
   "source": [
    "best = compare_models()"
   ]
  },
  {
   "cell_type": "code",
   "execution_count": null,
   "id": "d7fd741c",
   "metadata": {},
   "outputs": [
    {
     "data": {
      "text/html": [],
      "text/plain": [
       "<IPython.core.display.HTML object>"
      ]
     },
     "metadata": {},
     "output_type": "display_data"
    },
    {
     "data": {
      "text/html": [
       "<style type=\"text/css\">\n",
       "#T_306e3_row3_col0, #T_306e3_row3_col1, #T_306e3_row3_col2, #T_306e3_row3_col3, #T_306e3_row3_col4, #T_306e3_row3_col5, #T_306e3_row3_col6, #T_306e3_row3_col7 {\n",
       "  background: yellow;\n",
       "}\n",
       "</style>\n",
       "<table id=\"T_306e3\">\n",
       "  <thead>\n",
       "    <tr>\n",
       "      <th class=\"blank level0\" >&nbsp;</th>\n",
       "      <th id=\"T_306e3_level0_col0\" class=\"col_heading level0 col0\" >cutoff</th>\n",
       "      <th id=\"T_306e3_level0_col1\" class=\"col_heading level0 col1\" >MASE</th>\n",
       "      <th id=\"T_306e3_level0_col2\" class=\"col_heading level0 col2\" >RMSSE</th>\n",
       "      <th id=\"T_306e3_level0_col3\" class=\"col_heading level0 col3\" >MAE</th>\n",
       "      <th id=\"T_306e3_level0_col4\" class=\"col_heading level0 col4\" >RMSE</th>\n",
       "      <th id=\"T_306e3_level0_col5\" class=\"col_heading level0 col5\" >MAPE</th>\n",
       "      <th id=\"T_306e3_level0_col6\" class=\"col_heading level0 col6\" >SMAPE</th>\n",
       "      <th id=\"T_306e3_level0_col7\" class=\"col_heading level0 col7\" >R2</th>\n",
       "    </tr>\n",
       "  </thead>\n",
       "  <tbody>\n",
       "    <tr>\n",
       "      <th id=\"T_306e3_level0_row0\" class=\"row_heading level0 row0\" >0</th>\n",
       "      <td id=\"T_306e3_row0_col0\" class=\"data row0 col0\" >2024-12-29</td>\n",
       "      <td id=\"T_306e3_row0_col1\" class=\"data row0 col1\" >4.3335</td>\n",
       "      <td id=\"T_306e3_row0_col2\" class=\"data row0 col2\" >3.3083</td>\n",
       "      <td id=\"T_306e3_row0_col3\" class=\"data row0 col3\" >15941.5152</td>\n",
       "      <td id=\"T_306e3_row0_col4\" class=\"data row0 col4\" >16243.0916</td>\n",
       "      <td id=\"T_306e3_row0_col5\" class=\"data row0 col5\" >0.1613</td>\n",
       "      <td id=\"T_306e3_row0_col6\" class=\"data row0 col6\" >0.1488</td>\n",
       "      <td id=\"T_306e3_row0_col7\" class=\"data row0 col7\" >-14.1562</td>\n",
       "    </tr>\n",
       "    <tr>\n",
       "      <th id=\"T_306e3_level0_row1\" class=\"row_heading level0 row1\" >1</th>\n",
       "      <td id=\"T_306e3_row1_col0\" class=\"data row1 col0\" >2025-01-28</td>\n",
       "      <td id=\"T_306e3_row1_col1\" class=\"data row1 col1\" >1.7729</td>\n",
       "      <td id=\"T_306e3_row1_col2\" class=\"data row1 col2\" >1.6145</td>\n",
       "      <td id=\"T_306e3_row1_col3\" class=\"data row1 col3\" >6667.6259</td>\n",
       "      <td id=\"T_306e3_row1_col4\" class=\"data row1 col4\" >7999.9335</td>\n",
       "      <td id=\"T_306e3_row1_col5\" class=\"data row1 col5\" >0.0714</td>\n",
       "      <td id=\"T_306e3_row1_col6\" class=\"data row1 col6\" >0.0678</td>\n",
       "      <td id=\"T_306e3_row1_col7\" class=\"data row1 col7\" >-2.2940</td>\n",
       "    </tr>\n",
       "    <tr>\n",
       "      <th id=\"T_306e3_level0_row2\" class=\"row_heading level0 row2\" >2</th>\n",
       "      <td id=\"T_306e3_row2_col0\" class=\"data row2 col0\" >2025-02-27</td>\n",
       "      <td id=\"T_306e3_row2_col1\" class=\"data row2 col1\" >2.9461</td>\n",
       "      <td id=\"T_306e3_row2_col2\" class=\"data row2 col2\" >2.3014</td>\n",
       "      <td id=\"T_306e3_row2_col3\" class=\"data row2 col3\" >10924.6281</td>\n",
       "      <td id=\"T_306e3_row2_col4\" class=\"data row2 col4\" >11348.9504</td>\n",
       "      <td id=\"T_306e3_row2_col5\" class=\"data row2 col5\" >0.1296</td>\n",
       "      <td id=\"T_306e3_row2_col6\" class=\"data row2 col6\" >0.1211</td>\n",
       "      <td id=\"T_306e3_row2_col7\" class=\"data row2 col7\" >-12.6630</td>\n",
       "    </tr>\n",
       "    <tr>\n",
       "      <th id=\"T_306e3_level0_row3\" class=\"row_heading level0 row3\" >Mean</th>\n",
       "      <td id=\"T_306e3_row3_col0\" class=\"data row3 col0\" >NaT</td>\n",
       "      <td id=\"T_306e3_row3_col1\" class=\"data row3 col1\" >3.0175</td>\n",
       "      <td id=\"T_306e3_row3_col2\" class=\"data row3 col2\" >2.4081</td>\n",
       "      <td id=\"T_306e3_row3_col3\" class=\"data row3 col3\" >11177.9231</td>\n",
       "      <td id=\"T_306e3_row3_col4\" class=\"data row3 col4\" >11863.9918</td>\n",
       "      <td id=\"T_306e3_row3_col5\" class=\"data row3 col5\" >0.1208</td>\n",
       "      <td id=\"T_306e3_row3_col6\" class=\"data row3 col6\" >0.1126</td>\n",
       "      <td id=\"T_306e3_row3_col7\" class=\"data row3 col7\" >-9.7044</td>\n",
       "    </tr>\n",
       "    <tr>\n",
       "      <th id=\"T_306e3_level0_row4\" class=\"row_heading level0 row4\" >SD</th>\n",
       "      <td id=\"T_306e3_row4_col0\" class=\"data row4 col0\" >NaT</td>\n",
       "      <td id=\"T_306e3_row4_col1\" class=\"data row4 col1\" >1.0466</td>\n",
       "      <td id=\"T_306e3_row4_col2\" class=\"data row4 col2\" >0.6956</td>\n",
       "      <td id=\"T_306e3_row4_col3\" class=\"data row4 col3\" >3790.2836</td>\n",
       "      <td id=\"T_306e3_row4_col4\" class=\"data row4 col4\" >3384.9042</td>\n",
       "      <td id=\"T_306e3_row4_col5\" class=\"data row4 col5\" >0.0372</td>\n",
       "      <td id=\"T_306e3_row4_col6\" class=\"data row4 col6\" >0.0336</td>\n",
       "      <td id=\"T_306e3_row4_col7\" class=\"data row4 col7\" >5.2753</td>\n",
       "    </tr>\n",
       "  </tbody>\n",
       "</table>\n"
      ],
      "text/plain": [
       "<pandas.io.formats.style.Styler at 0x1b9c3c96df0>"
      ]
     },
     "metadata": {},
     "output_type": "display_data"
    },
    {
     "data": {
      "text/html": [],
      "text/plain": [
       "<IPython.core.display.HTML object>"
      ]
     },
     "metadata": {},
     "output_type": "display_data"
    }
   ],
   "source": [
    "prophet = create_model('prophet')\n"
   ]
  },
  {
   "cell_type": "code",
   "execution_count": null,
   "id": "2ab863b1",
   "metadata": {},
   "outputs": [
    {
     "data": {
      "text/html": [],
      "text/plain": [
       "<IPython.core.display.HTML object>"
      ]
     },
     "metadata": {},
     "output_type": "display_data"
    },
    {
     "data": {
      "text/html": [
       "<style type=\"text/css\">\n",
       "#T_a0dcb_row3_col0, #T_a0dcb_row3_col1, #T_a0dcb_row3_col2, #T_a0dcb_row3_col3, #T_a0dcb_row3_col4, #T_a0dcb_row3_col5, #T_a0dcb_row3_col6, #T_a0dcb_row3_col7 {\n",
       "  background: yellow;\n",
       "}\n",
       "</style>\n",
       "<table id=\"T_a0dcb\">\n",
       "  <thead>\n",
       "    <tr>\n",
       "      <th class=\"blank level0\" >&nbsp;</th>\n",
       "      <th id=\"T_a0dcb_level0_col0\" class=\"col_heading level0 col0\" >cutoff</th>\n",
       "      <th id=\"T_a0dcb_level0_col1\" class=\"col_heading level0 col1\" >MASE</th>\n",
       "      <th id=\"T_a0dcb_level0_col2\" class=\"col_heading level0 col2\" >RMSSE</th>\n",
       "      <th id=\"T_a0dcb_level0_col3\" class=\"col_heading level0 col3\" >MAE</th>\n",
       "      <th id=\"T_a0dcb_level0_col4\" class=\"col_heading level0 col4\" >RMSE</th>\n",
       "      <th id=\"T_a0dcb_level0_col5\" class=\"col_heading level0 col5\" >MAPE</th>\n",
       "      <th id=\"T_a0dcb_level0_col6\" class=\"col_heading level0 col6\" >SMAPE</th>\n",
       "      <th id=\"T_a0dcb_level0_col7\" class=\"col_heading level0 col7\" >R2</th>\n",
       "    </tr>\n",
       "  </thead>\n",
       "  <tbody>\n",
       "    <tr>\n",
       "      <th id=\"T_a0dcb_level0_row0\" class=\"row_heading level0 row0\" >0</th>\n",
       "      <td id=\"T_a0dcb_row0_col0\" class=\"data row0 col0\" >2024-12-29</td>\n",
       "      <td id=\"T_a0dcb_row0_col1\" class=\"data row0 col1\" >3.6340</td>\n",
       "      <td id=\"T_a0dcb_row0_col2\" class=\"data row0 col2\" >2.8134</td>\n",
       "      <td id=\"T_a0dcb_row0_col3\" class=\"data row0 col3\" >13368.3500</td>\n",
       "      <td id=\"T_a0dcb_row0_col4\" class=\"data row0 col4\" >13813.2582</td>\n",
       "      <td id=\"T_a0dcb_row0_col5\" class=\"data row0 col5\" >0.1336</td>\n",
       "      <td id=\"T_a0dcb_row0_col6\" class=\"data row0 col6\" >0.1437</td>\n",
       "      <td id=\"T_a0dcb_row0_col7\" class=\"data row0 col7\" >-9.9609</td>\n",
       "    </tr>\n",
       "    <tr>\n",
       "      <th id=\"T_a0dcb_level0_row1\" class=\"row_heading level0 row1\" >1</th>\n",
       "      <td id=\"T_a0dcb_row1_col0\" class=\"data row1 col0\" >2025-01-28</td>\n",
       "      <td id=\"T_a0dcb_row1_col1\" class=\"data row1 col1\" >1.3519</td>\n",
       "      <td id=\"T_a0dcb_row1_col2\" class=\"data row1 col2\" >1.2338</td>\n",
       "      <td id=\"T_a0dcb_row1_col3\" class=\"data row1 col3\" >5084.2460</td>\n",
       "      <td id=\"T_a0dcb_row1_col4\" class=\"data row1 col4\" >6113.6881</td>\n",
       "      <td id=\"T_a0dcb_row1_col5\" class=\"data row1 col5\" >0.0527</td>\n",
       "      <td id=\"T_a0dcb_row1_col6\" class=\"data row1 col6\" >0.0536</td>\n",
       "      <td id=\"T_a0dcb_row1_col7\" class=\"data row1 col7\" >-0.9238</td>\n",
       "    </tr>\n",
       "    <tr>\n",
       "      <th id=\"T_a0dcb_level0_row2\" class=\"row_heading level0 row2\" >2</th>\n",
       "      <td id=\"T_a0dcb_row2_col0\" class=\"data row2 col0\" >2025-02-27</td>\n",
       "      <td id=\"T_a0dcb_row2_col1\" class=\"data row2 col1\" >1.6794</td>\n",
       "      <td id=\"T_a0dcb_row2_col2\" class=\"data row2 col2\" >1.3778</td>\n",
       "      <td id=\"T_a0dcb_row2_col3\" class=\"data row2 col3\" >6227.2964</td>\n",
       "      <td id=\"T_a0dcb_row2_col4\" class=\"data row2 col4\" >6794.6910</td>\n",
       "      <td id=\"T_a0dcb_row2_col5\" class=\"data row2 col5\" >0.0742</td>\n",
       "      <td id=\"T_a0dcb_row2_col6\" class=\"data row2 col6\" >0.0711</td>\n",
       "      <td id=\"T_a0dcb_row2_col7\" class=\"data row2 col7\" >-3.8975</td>\n",
       "    </tr>\n",
       "    <tr>\n",
       "      <th id=\"T_a0dcb_level0_row3\" class=\"row_heading level0 row3\" >Mean</th>\n",
       "      <td id=\"T_a0dcb_row3_col0\" class=\"data row3 col0\" >NaT</td>\n",
       "      <td id=\"T_a0dcb_row3_col1\" class=\"data row3 col1\" >2.2217</td>\n",
       "      <td id=\"T_a0dcb_row3_col2\" class=\"data row3 col2\" >1.8084</td>\n",
       "      <td id=\"T_a0dcb_row3_col3\" class=\"data row3 col3\" >8226.6308</td>\n",
       "      <td id=\"T_a0dcb_row3_col4\" class=\"data row3 col4\" >8907.2124</td>\n",
       "      <td id=\"T_a0dcb_row3_col5\" class=\"data row3 col5\" >0.0868</td>\n",
       "      <td id=\"T_a0dcb_row3_col6\" class=\"data row3 col6\" >0.0894</td>\n",
       "      <td id=\"T_a0dcb_row3_col7\" class=\"data row3 col7\" >-4.9274</td>\n",
       "    </tr>\n",
       "    <tr>\n",
       "      <th id=\"T_a0dcb_level0_row4\" class=\"row_heading level0 row4\" >SD</th>\n",
       "      <td id=\"T_a0dcb_row4_col0\" class=\"data row4 col0\" >NaT</td>\n",
       "      <td id=\"T_a0dcb_row4_col1\" class=\"data row4 col1\" >1.0075</td>\n",
       "      <td id=\"T_a0dcb_row4_col2\" class=\"data row4 col2\" >0.7131</td>\n",
       "      <td id=\"T_a0dcb_row4_col3\" class=\"data row4 col3\" >3665.5694</td>\n",
       "      <td id=\"T_a0dcb_row4_col4\" class=\"data row4 col4\" >3480.2208</td>\n",
       "      <td id=\"T_a0dcb_row4_col5\" class=\"data row4 col5\" >0.0342</td>\n",
       "      <td id=\"T_a0dcb_row4_col6\" class=\"data row4 col6\" >0.0390</td>\n",
       "      <td id=\"T_a0dcb_row4_col7\" class=\"data row4 col7\" >3.7606</td>\n",
       "    </tr>\n",
       "  </tbody>\n",
       "</table>\n"
      ],
      "text/plain": [
       "<pandas.io.formats.style.Styler at 0x1b9c682a130>"
      ]
     },
     "metadata": {},
     "output_type": "display_data"
    },
    {
     "data": {
      "text/html": [],
      "text/plain": [
       "<IPython.core.display.HTML object>"
      ]
     },
     "metadata": {},
     "output_type": "display_data"
    },
    {
     "name": "stdout",
     "output_type": "stream",
     "text": [
      "Fitting 3 folds for each of 10 candidates, totalling 30 fits\n"
     ]
    },
    {
     "name": "stderr",
     "output_type": "stream",
     "text": [
      "[Parallel(n_jobs=-1)]: Using backend LokyBackend with 8 concurrent workers.\n",
      "[Parallel(n_jobs=-1)]: Done  30 out of  30 | elapsed:   13.0s finished\n"
     ]
    }
   ],
   "source": [
    "tuned_prophet = tune_model(prophet)\n"
   ]
  },
  {
   "cell_type": "code",
   "execution_count": 21,
   "id": "fa2f64a5",
   "metadata": {},
   "outputs": [
    {
     "name": "stdout",
     "output_type": "stream",
     "text": [
      "ProphetPeriodPatched(changepoint_prior_scale=0.0016825782489797436,\n",
      "                     holidays_prior_scale=1.370851918470622,\n",
      "                     seasonality_mode='multiplicative',\n",
      "                     seasonality_prior_scale=0.8002079756292475)\n"
     ]
    }
   ],
   "source": [
    "print(tuned_prophet)"
   ]
  },
  {
   "cell_type": "code",
   "execution_count": 22,
   "id": "279aaf67",
   "metadata": {},
   "outputs": [],
   "source": [
    "# Predictions\n",
    "final_prophet = finalize_model(tuned_prophet)\n",
    "#future_dates = pd.date_range(df.index[-1], periods=30, freq='D')\n",
    "prophet_predictions = predict_model(final_prophet)\n",
    "#arima_predictions = predict_model(tuned_arima, fh=30)"
   ]
  },
  {
   "cell_type": "code",
   "execution_count": 80,
   "id": "36de9347",
   "metadata": {},
   "outputs": [],
   "source": [
    "import plotly.io as pio"
   ]
  },
  {
   "cell_type": "code",
   "execution_count": 27,
   "id": "0937769b",
   "metadata": {},
   "outputs": [],
   "source": [
    "#Plot prophet model forecast\n",
    "fig = plot_model(final_prophet, plot='forecast', return_fig=True)\n",
    "\n",
    "# Save it as an HTML file\n",
    "pio.write_html(fig, file='forecast_chart.html', auto_open=False)\n",
    "\n"
   ]
  },
  {
   "cell_type": "markdown",
   "id": "33b8ae3a",
   "metadata": {},
   "source": [
    "BTC-USD Exponential Smoothing Model"
   ]
  },
  {
   "cell_type": "code",
   "execution_count": 77,
   "id": "6f5da23a",
   "metadata": {},
   "outputs": [
    {
     "data": {
      "text/html": [
       "<style type=\"text/css\">\n",
       "#T_2b98f_row25_col1, #T_2b98f_row31_col1 {\n",
       "  background-color: lightgreen;\n",
       "}\n",
       "</style>\n",
       "<table id=\"T_2b98f\">\n",
       "  <thead>\n",
       "    <tr>\n",
       "      <th class=\"blank level0\" >&nbsp;</th>\n",
       "      <th id=\"T_2b98f_level0_col0\" class=\"col_heading level0 col0\" >Description</th>\n",
       "      <th id=\"T_2b98f_level0_col1\" class=\"col_heading level0 col1\" >Value</th>\n",
       "    </tr>\n",
       "  </thead>\n",
       "  <tbody>\n",
       "    <tr>\n",
       "      <th id=\"T_2b98f_level0_row0\" class=\"row_heading level0 row0\" >0</th>\n",
       "      <td id=\"T_2b98f_row0_col0\" class=\"data row0 col0\" >session_id</td>\n",
       "      <td id=\"T_2b98f_row0_col1\" class=\"data row0 col1\" >123</td>\n",
       "    </tr>\n",
       "    <tr>\n",
       "      <th id=\"T_2b98f_level0_row1\" class=\"row_heading level0 row1\" >1</th>\n",
       "      <td id=\"T_2b98f_row1_col0\" class=\"data row1 col0\" >Target</td>\n",
       "      <td id=\"T_2b98f_row1_col1\" class=\"data row1 col1\" >BTC-USD</td>\n",
       "    </tr>\n",
       "    <tr>\n",
       "      <th id=\"T_2b98f_level0_row2\" class=\"row_heading level0 row2\" >2</th>\n",
       "      <td id=\"T_2b98f_row2_col0\" class=\"data row2 col0\" >Approach</td>\n",
       "      <td id=\"T_2b98f_row2_col1\" class=\"data row2 col1\" >Univariate</td>\n",
       "    </tr>\n",
       "    <tr>\n",
       "      <th id=\"T_2b98f_level0_row3\" class=\"row_heading level0 row3\" >3</th>\n",
       "      <td id=\"T_2b98f_row3_col0\" class=\"data row3 col0\" >Exogenous Variables</td>\n",
       "      <td id=\"T_2b98f_row3_col1\" class=\"data row3 col1\" >Not Present</td>\n",
       "    </tr>\n",
       "    <tr>\n",
       "      <th id=\"T_2b98f_level0_row4\" class=\"row_heading level0 row4\" >4</th>\n",
       "      <td id=\"T_2b98f_row4_col0\" class=\"data row4 col0\" >Original data shape</td>\n",
       "      <td id=\"T_2b98f_row4_col1\" class=\"data row4 col1\" >(365, 1)</td>\n",
       "    </tr>\n",
       "    <tr>\n",
       "      <th id=\"T_2b98f_level0_row5\" class=\"row_heading level0 row5\" >5</th>\n",
       "      <td id=\"T_2b98f_row5_col0\" class=\"data row5 col0\" >Transformed data shape</td>\n",
       "      <td id=\"T_2b98f_row5_col1\" class=\"data row5 col1\" >(365, 1)</td>\n",
       "    </tr>\n",
       "    <tr>\n",
       "      <th id=\"T_2b98f_level0_row6\" class=\"row_heading level0 row6\" >6</th>\n",
       "      <td id=\"T_2b98f_row6_col0\" class=\"data row6 col0\" >Transformed train set shape</td>\n",
       "      <td id=\"T_2b98f_row6_col1\" class=\"data row6 col1\" >(335, 1)</td>\n",
       "    </tr>\n",
       "    <tr>\n",
       "      <th id=\"T_2b98f_level0_row7\" class=\"row_heading level0 row7\" >7</th>\n",
       "      <td id=\"T_2b98f_row7_col0\" class=\"data row7 col0\" >Transformed test set shape</td>\n",
       "      <td id=\"T_2b98f_row7_col1\" class=\"data row7 col1\" >(30, 1)</td>\n",
       "    </tr>\n",
       "    <tr>\n",
       "      <th id=\"T_2b98f_level0_row8\" class=\"row_heading level0 row8\" >8</th>\n",
       "      <td id=\"T_2b98f_row8_col0\" class=\"data row8 col0\" >Rows with missing values</td>\n",
       "      <td id=\"T_2b98f_row8_col1\" class=\"data row8 col1\" >0.0%</td>\n",
       "    </tr>\n",
       "    <tr>\n",
       "      <th id=\"T_2b98f_level0_row9\" class=\"row_heading level0 row9\" >9</th>\n",
       "      <td id=\"T_2b98f_row9_col0\" class=\"data row9 col0\" >Fold Generator</td>\n",
       "      <td id=\"T_2b98f_row9_col1\" class=\"data row9 col1\" >ExpandingWindowSplitter</td>\n",
       "    </tr>\n",
       "    <tr>\n",
       "      <th id=\"T_2b98f_level0_row10\" class=\"row_heading level0 row10\" >10</th>\n",
       "      <td id=\"T_2b98f_row10_col0\" class=\"data row10 col0\" >Fold Number</td>\n",
       "      <td id=\"T_2b98f_row10_col1\" class=\"data row10 col1\" >3</td>\n",
       "    </tr>\n",
       "    <tr>\n",
       "      <th id=\"T_2b98f_level0_row11\" class=\"row_heading level0 row11\" >11</th>\n",
       "      <td id=\"T_2b98f_row11_col0\" class=\"data row11 col0\" >Enforce Prediction Interval</td>\n",
       "      <td id=\"T_2b98f_row11_col1\" class=\"data row11 col1\" >False</td>\n",
       "    </tr>\n",
       "    <tr>\n",
       "      <th id=\"T_2b98f_level0_row12\" class=\"row_heading level0 row12\" >12</th>\n",
       "      <td id=\"T_2b98f_row12_col0\" class=\"data row12 col0\" >Splits used for hyperparameters</td>\n",
       "      <td id=\"T_2b98f_row12_col1\" class=\"data row12 col1\" >all</td>\n",
       "    </tr>\n",
       "    <tr>\n",
       "      <th id=\"T_2b98f_level0_row13\" class=\"row_heading level0 row13\" >13</th>\n",
       "      <td id=\"T_2b98f_row13_col0\" class=\"data row13 col0\" >User Defined Seasonal Period(s)</td>\n",
       "      <td id=\"T_2b98f_row13_col1\" class=\"data row13 col1\" >D</td>\n",
       "    </tr>\n",
       "    <tr>\n",
       "      <th id=\"T_2b98f_level0_row14\" class=\"row_heading level0 row14\" >14</th>\n",
       "      <td id=\"T_2b98f_row14_col0\" class=\"data row14 col0\" >Ignore Seasonality Test</td>\n",
       "      <td id=\"T_2b98f_row14_col1\" class=\"data row14 col1\" >False</td>\n",
       "    </tr>\n",
       "    <tr>\n",
       "      <th id=\"T_2b98f_level0_row15\" class=\"row_heading level0 row15\" >15</th>\n",
       "      <td id=\"T_2b98f_row15_col0\" class=\"data row15 col0\" >Seasonality Detection Algo</td>\n",
       "      <td id=\"T_2b98f_row15_col1\" class=\"data row15 col1\" >user_defined</td>\n",
       "    </tr>\n",
       "    <tr>\n",
       "      <th id=\"T_2b98f_level0_row16\" class=\"row_heading level0 row16\" >16</th>\n",
       "      <td id=\"T_2b98f_row16_col0\" class=\"data row16 col0\" >Max Period to Consider</td>\n",
       "      <td id=\"T_2b98f_row16_col1\" class=\"data row16 col1\" >60</td>\n",
       "    </tr>\n",
       "    <tr>\n",
       "      <th id=\"T_2b98f_level0_row17\" class=\"row_heading level0 row17\" >17</th>\n",
       "      <td id=\"T_2b98f_row17_col0\" class=\"data row17 col0\" >Seasonal Period(s) Tested</td>\n",
       "      <td id=\"T_2b98f_row17_col1\" class=\"data row17 col1\" >[7]</td>\n",
       "    </tr>\n",
       "    <tr>\n",
       "      <th id=\"T_2b98f_level0_row18\" class=\"row_heading level0 row18\" >18</th>\n",
       "      <td id=\"T_2b98f_row18_col0\" class=\"data row18 col0\" >Significant Seasonal Period(s)</td>\n",
       "      <td id=\"T_2b98f_row18_col1\" class=\"data row18 col1\" >[7]</td>\n",
       "    </tr>\n",
       "    <tr>\n",
       "      <th id=\"T_2b98f_level0_row19\" class=\"row_heading level0 row19\" >19</th>\n",
       "      <td id=\"T_2b98f_row19_col0\" class=\"data row19 col0\" >Significant Seasonal Period(s) without Harmonics</td>\n",
       "      <td id=\"T_2b98f_row19_col1\" class=\"data row19 col1\" >[7]</td>\n",
       "    </tr>\n",
       "    <tr>\n",
       "      <th id=\"T_2b98f_level0_row20\" class=\"row_heading level0 row20\" >20</th>\n",
       "      <td id=\"T_2b98f_row20_col0\" class=\"data row20 col0\" >Remove Harmonics</td>\n",
       "      <td id=\"T_2b98f_row20_col1\" class=\"data row20 col1\" >False</td>\n",
       "    </tr>\n",
       "    <tr>\n",
       "      <th id=\"T_2b98f_level0_row21\" class=\"row_heading level0 row21\" >21</th>\n",
       "      <td id=\"T_2b98f_row21_col0\" class=\"data row21 col0\" >Harmonics Order Method</td>\n",
       "      <td id=\"T_2b98f_row21_col1\" class=\"data row21 col1\" >harmonic_max</td>\n",
       "    </tr>\n",
       "    <tr>\n",
       "      <th id=\"T_2b98f_level0_row22\" class=\"row_heading level0 row22\" >22</th>\n",
       "      <td id=\"T_2b98f_row22_col0\" class=\"data row22 col0\" >Num Seasonalities to Use</td>\n",
       "      <td id=\"T_2b98f_row22_col1\" class=\"data row22 col1\" >1</td>\n",
       "    </tr>\n",
       "    <tr>\n",
       "      <th id=\"T_2b98f_level0_row23\" class=\"row_heading level0 row23\" >23</th>\n",
       "      <td id=\"T_2b98f_row23_col0\" class=\"data row23 col0\" >All Seasonalities to Use</td>\n",
       "      <td id=\"T_2b98f_row23_col1\" class=\"data row23 col1\" >[7]</td>\n",
       "    </tr>\n",
       "    <tr>\n",
       "      <th id=\"T_2b98f_level0_row24\" class=\"row_heading level0 row24\" >24</th>\n",
       "      <td id=\"T_2b98f_row24_col0\" class=\"data row24 col0\" >Primary Seasonality</td>\n",
       "      <td id=\"T_2b98f_row24_col1\" class=\"data row24 col1\" >7</td>\n",
       "    </tr>\n",
       "    <tr>\n",
       "      <th id=\"T_2b98f_level0_row25\" class=\"row_heading level0 row25\" >25</th>\n",
       "      <td id=\"T_2b98f_row25_col0\" class=\"data row25 col0\" >Seasonality Present</td>\n",
       "      <td id=\"T_2b98f_row25_col1\" class=\"data row25 col1\" >True</td>\n",
       "    </tr>\n",
       "    <tr>\n",
       "      <th id=\"T_2b98f_level0_row26\" class=\"row_heading level0 row26\" >26</th>\n",
       "      <td id=\"T_2b98f_row26_col0\" class=\"data row26 col0\" >Seasonality Type</td>\n",
       "      <td id=\"T_2b98f_row26_col1\" class=\"data row26 col1\" >mul</td>\n",
       "    </tr>\n",
       "    <tr>\n",
       "      <th id=\"T_2b98f_level0_row27\" class=\"row_heading level0 row27\" >27</th>\n",
       "      <td id=\"T_2b98f_row27_col0\" class=\"data row27 col0\" >Target Strictly Positive</td>\n",
       "      <td id=\"T_2b98f_row27_col1\" class=\"data row27 col1\" >True</td>\n",
       "    </tr>\n",
       "    <tr>\n",
       "      <th id=\"T_2b98f_level0_row28\" class=\"row_heading level0 row28\" >28</th>\n",
       "      <td id=\"T_2b98f_row28_col0\" class=\"data row28 col0\" >Target White Noise</td>\n",
       "      <td id=\"T_2b98f_row28_col1\" class=\"data row28 col1\" >No</td>\n",
       "    </tr>\n",
       "    <tr>\n",
       "      <th id=\"T_2b98f_level0_row29\" class=\"row_heading level0 row29\" >29</th>\n",
       "      <td id=\"T_2b98f_row29_col0\" class=\"data row29 col0\" >Recommended d</td>\n",
       "      <td id=\"T_2b98f_row29_col1\" class=\"data row29 col1\" >1</td>\n",
       "    </tr>\n",
       "    <tr>\n",
       "      <th id=\"T_2b98f_level0_row30\" class=\"row_heading level0 row30\" >30</th>\n",
       "      <td id=\"T_2b98f_row30_col0\" class=\"data row30 col0\" >Recommended Seasonal D</td>\n",
       "      <td id=\"T_2b98f_row30_col1\" class=\"data row30 col1\" >0</td>\n",
       "    </tr>\n",
       "    <tr>\n",
       "      <th id=\"T_2b98f_level0_row31\" class=\"row_heading level0 row31\" >31</th>\n",
       "      <td id=\"T_2b98f_row31_col0\" class=\"data row31 col0\" >Preprocess</td>\n",
       "      <td id=\"T_2b98f_row31_col1\" class=\"data row31 col1\" >True</td>\n",
       "    </tr>\n",
       "    <tr>\n",
       "      <th id=\"T_2b98f_level0_row32\" class=\"row_heading level0 row32\" >32</th>\n",
       "      <td id=\"T_2b98f_row32_col0\" class=\"data row32 col0\" >Numerical Imputation (Target)</td>\n",
       "      <td id=\"T_2b98f_row32_col1\" class=\"data row32 col1\" >drift</td>\n",
       "    </tr>\n",
       "    <tr>\n",
       "      <th id=\"T_2b98f_level0_row33\" class=\"row_heading level0 row33\" >33</th>\n",
       "      <td id=\"T_2b98f_row33_col0\" class=\"data row33 col0\" >Transformation (Target)</td>\n",
       "      <td id=\"T_2b98f_row33_col1\" class=\"data row33 col1\" >None</td>\n",
       "    </tr>\n",
       "    <tr>\n",
       "      <th id=\"T_2b98f_level0_row34\" class=\"row_heading level0 row34\" >34</th>\n",
       "      <td id=\"T_2b98f_row34_col0\" class=\"data row34 col0\" >Scaling (Target)</td>\n",
       "      <td id=\"T_2b98f_row34_col1\" class=\"data row34 col1\" >None</td>\n",
       "    </tr>\n",
       "    <tr>\n",
       "      <th id=\"T_2b98f_level0_row35\" class=\"row_heading level0 row35\" >35</th>\n",
       "      <td id=\"T_2b98f_row35_col0\" class=\"data row35 col0\" >Feature Engineering (Target) - Reduced Regression</td>\n",
       "      <td id=\"T_2b98f_row35_col1\" class=\"data row35 col1\" >False</td>\n",
       "    </tr>\n",
       "    <tr>\n",
       "      <th id=\"T_2b98f_level0_row36\" class=\"row_heading level0 row36\" >36</th>\n",
       "      <td id=\"T_2b98f_row36_col0\" class=\"data row36 col0\" >CPU Jobs</td>\n",
       "      <td id=\"T_2b98f_row36_col1\" class=\"data row36 col1\" >-1</td>\n",
       "    </tr>\n",
       "    <tr>\n",
       "      <th id=\"T_2b98f_level0_row37\" class=\"row_heading level0 row37\" >37</th>\n",
       "      <td id=\"T_2b98f_row37_col0\" class=\"data row37 col0\" >Use GPU</td>\n",
       "      <td id=\"T_2b98f_row37_col1\" class=\"data row37 col1\" >False</td>\n",
       "    </tr>\n",
       "    <tr>\n",
       "      <th id=\"T_2b98f_level0_row38\" class=\"row_heading level0 row38\" >38</th>\n",
       "      <td id=\"T_2b98f_row38_col0\" class=\"data row38 col0\" >Log Experiment</td>\n",
       "      <td id=\"T_2b98f_row38_col1\" class=\"data row38 col1\" >False</td>\n",
       "    </tr>\n",
       "    <tr>\n",
       "      <th id=\"T_2b98f_level0_row39\" class=\"row_heading level0 row39\" >39</th>\n",
       "      <td id=\"T_2b98f_row39_col0\" class=\"data row39 col0\" >Experiment Name</td>\n",
       "      <td id=\"T_2b98f_row39_col1\" class=\"data row39 col1\" >ts-default-name</td>\n",
       "    </tr>\n",
       "    <tr>\n",
       "      <th id=\"T_2b98f_level0_row40\" class=\"row_heading level0 row40\" >40</th>\n",
       "      <td id=\"T_2b98f_row40_col0\" class=\"data row40 col0\" >USI</td>\n",
       "      <td id=\"T_2b98f_row40_col1\" class=\"data row40 col1\" >e83e</td>\n",
       "    </tr>\n",
       "  </tbody>\n",
       "</table>\n"
      ],
      "text/plain": [
       "<pandas.io.formats.style.Styler at 0x1b9c5f2ea60>"
      ]
     },
     "metadata": {},
     "output_type": "display_data"
    },
    {
     "data": {
      "text/html": [],
      "text/plain": [
       "<IPython.core.display.HTML object>"
      ]
     },
     "metadata": {},
     "output_type": "display_data"
    },
    {
     "data": {
      "text/html": [
       "<style type=\"text/css\">\n",
       "#T_dd7b3_row3_col0, #T_dd7b3_row3_col1, #T_dd7b3_row3_col2, #T_dd7b3_row3_col3, #T_dd7b3_row3_col4, #T_dd7b3_row3_col5, #T_dd7b3_row3_col6, #T_dd7b3_row3_col7 {\n",
       "  background: yellow;\n",
       "}\n",
       "</style>\n",
       "<table id=\"T_dd7b3\">\n",
       "  <thead>\n",
       "    <tr>\n",
       "      <th class=\"blank level0\" >&nbsp;</th>\n",
       "      <th id=\"T_dd7b3_level0_col0\" class=\"col_heading level0 col0\" >cutoff</th>\n",
       "      <th id=\"T_dd7b3_level0_col1\" class=\"col_heading level0 col1\" >MASE</th>\n",
       "      <th id=\"T_dd7b3_level0_col2\" class=\"col_heading level0 col2\" >RMSSE</th>\n",
       "      <th id=\"T_dd7b3_level0_col3\" class=\"col_heading level0 col3\" >MAE</th>\n",
       "      <th id=\"T_dd7b3_level0_col4\" class=\"col_heading level0 col4\" >RMSE</th>\n",
       "      <th id=\"T_dd7b3_level0_col5\" class=\"col_heading level0 col5\" >MAPE</th>\n",
       "      <th id=\"T_dd7b3_level0_col6\" class=\"col_heading level0 col6\" >SMAPE</th>\n",
       "      <th id=\"T_dd7b3_level0_col7\" class=\"col_heading level0 col7\" >R2</th>\n",
       "    </tr>\n",
       "  </thead>\n",
       "  <tbody>\n",
       "    <tr>\n",
       "      <th id=\"T_dd7b3_level0_row0\" class=\"row_heading level0 row0\" >0</th>\n",
       "      <td id=\"T_dd7b3_row0_col0\" class=\"data row0 col0\" >2024-12-30</td>\n",
       "      <td id=\"T_dd7b3_row0_col1\" class=\"data row0 col1\" >1.9228</td>\n",
       "      <td id=\"T_dd7b3_row0_col2\" class=\"data row0 col2\" >1.6692</td>\n",
       "      <td id=\"T_dd7b3_row0_col3\" class=\"data row0 col3\" >7084.3483</td>\n",
       "      <td id=\"T_dd7b3_row0_col4\" class=\"data row0 col4\" >8197.9740</td>\n",
       "      <td id=\"T_dd7b3_row0_col5\" class=\"data row0 col5\" >0.0696</td>\n",
       "      <td id=\"T_dd7b3_row0_col6\" class=\"data row0 col6\" >0.0729</td>\n",
       "      <td id=\"T_dd7b3_row0_col7\" class=\"data row0 col7\" >-3.0635</td>\n",
       "    </tr>\n",
       "    <tr>\n",
       "      <th id=\"T_dd7b3_level0_row1\" class=\"row_heading level0 row1\" >1</th>\n",
       "      <td id=\"T_dd7b3_row1_col0\" class=\"data row1 col0\" >2025-01-29</td>\n",
       "      <td id=\"T_dd7b3_row1_col1\" class=\"data row1 col1\" >2.0080</td>\n",
       "      <td id=\"T_dd7b3_row1_col2\" class=\"data row1 col2\" >1.7721</td>\n",
       "      <td id=\"T_dd7b3_row1_col3\" class=\"data row1 col3\" >7547.2148</td>\n",
       "      <td id=\"T_dd7b3_row1_col4\" class=\"data row1 col4\" >8780.8794</td>\n",
       "      <td id=\"T_dd7b3_row1_col5\" class=\"data row1 col5\" >0.0814</td>\n",
       "      <td id=\"T_dd7b3_row1_col6\" class=\"data row1 col6\" >0.0769</td>\n",
       "      <td id=\"T_dd7b3_row1_col7\" class=\"data row1 col7\" >-2.4779</td>\n",
       "    </tr>\n",
       "    <tr>\n",
       "      <th id=\"T_dd7b3_level0_row2\" class=\"row_heading level0 row2\" >2</th>\n",
       "      <td id=\"T_dd7b3_row2_col0\" class=\"data row2 col0\" >2025-02-28</td>\n",
       "      <td id=\"T_dd7b3_row2_col1\" class=\"data row2 col1\" >0.6415</td>\n",
       "      <td id=\"T_dd7b3_row2_col2\" class=\"data row2 col2\" >0.6627</td>\n",
       "      <td id=\"T_dd7b3_row2_col3\" class=\"data row2 col3\" >2402.6792</td>\n",
       "      <td id=\"T_dd7b3_row2_col4\" class=\"data row2 col4\" >3298.8551</td>\n",
       "      <td id=\"T_dd7b3_row2_col5\" class=\"data row2 col5\" >0.0277</td>\n",
       "      <td id=\"T_dd7b3_row2_col6\" class=\"data row2 col6\" >0.0281</td>\n",
       "      <td id=\"T_dd7b3_row2_col7\" class=\"data row2 col7\" >-0.1246</td>\n",
       "    </tr>\n",
       "    <tr>\n",
       "      <th id=\"T_dd7b3_level0_row3\" class=\"row_heading level0 row3\" >Mean</th>\n",
       "      <td id=\"T_dd7b3_row3_col0\" class=\"data row3 col0\" >NaT</td>\n",
       "      <td id=\"T_dd7b3_row3_col1\" class=\"data row3 col1\" >1.5241</td>\n",
       "      <td id=\"T_dd7b3_row3_col2\" class=\"data row3 col2\" >1.3680</td>\n",
       "      <td id=\"T_dd7b3_row3_col3\" class=\"data row3 col3\" >5678.0808</td>\n",
       "      <td id=\"T_dd7b3_row3_col4\" class=\"data row3 col4\" >6759.2361</td>\n",
       "      <td id=\"T_dd7b3_row3_col5\" class=\"data row3 col5\" >0.0596</td>\n",
       "      <td id=\"T_dd7b3_row3_col6\" class=\"data row3 col6\" >0.0593</td>\n",
       "      <td id=\"T_dd7b3_row3_col7\" class=\"data row3 col7\" >-1.8887</td>\n",
       "    </tr>\n",
       "    <tr>\n",
       "      <th id=\"T_dd7b3_level0_row4\" class=\"row_heading level0 row4\" >SD</th>\n",
       "      <td id=\"T_dd7b3_row4_col0\" class=\"data row4 col0\" >NaT</td>\n",
       "      <td id=\"T_dd7b3_row4_col1\" class=\"data row4 col1\" >0.6250</td>\n",
       "      <td id=\"T_dd7b3_row4_col2\" class=\"data row4 col2\" >0.5005</td>\n",
       "      <td id=\"T_dd7b3_row4_col3\" class=\"data row4 col3\" >2323.7546</td>\n",
       "      <td id=\"T_dd7b3_row4_col4\" class=\"data row4 col4\" >2458.4036</td>\n",
       "      <td id=\"T_dd7b3_row4_col5\" class=\"data row4 col5\" >0.0230</td>\n",
       "      <td id=\"T_dd7b3_row4_col6\" class=\"data row4 col6\" >0.0221</td>\n",
       "      <td id=\"T_dd7b3_row4_col7\" class=\"data row4 col7\" >1.2701</td>\n",
       "    </tr>\n",
       "  </tbody>\n",
       "</table>\n"
      ],
      "text/plain": [
       "<pandas.io.formats.style.Styler at 0x1b9d16770d0>"
      ]
     },
     "metadata": {},
     "output_type": "display_data"
    },
    {
     "data": {
      "text/html": [],
      "text/plain": [
       "<IPython.core.display.HTML object>"
      ]
     },
     "metadata": {},
     "output_type": "display_data"
    },
    {
     "data": {
      "text/html": [],
      "text/plain": [
       "<IPython.core.display.HTML object>"
      ]
     },
     "metadata": {},
     "output_type": "display_data"
    },
    {
     "data": {
      "text/html": [
       "<style type=\"text/css\">\n",
       "#T_94596_row3_col0, #T_94596_row3_col1, #T_94596_row3_col2, #T_94596_row3_col3, #T_94596_row3_col4, #T_94596_row3_col5, #T_94596_row3_col6, #T_94596_row3_col7 {\n",
       "  background: yellow;\n",
       "}\n",
       "</style>\n",
       "<table id=\"T_94596\">\n",
       "  <thead>\n",
       "    <tr>\n",
       "      <th class=\"blank level0\" >&nbsp;</th>\n",
       "      <th id=\"T_94596_level0_col0\" class=\"col_heading level0 col0\" >cutoff</th>\n",
       "      <th id=\"T_94596_level0_col1\" class=\"col_heading level0 col1\" >MASE</th>\n",
       "      <th id=\"T_94596_level0_col2\" class=\"col_heading level0 col2\" >RMSSE</th>\n",
       "      <th id=\"T_94596_level0_col3\" class=\"col_heading level0 col3\" >MAE</th>\n",
       "      <th id=\"T_94596_level0_col4\" class=\"col_heading level0 col4\" >RMSE</th>\n",
       "      <th id=\"T_94596_level0_col5\" class=\"col_heading level0 col5\" >MAPE</th>\n",
       "      <th id=\"T_94596_level0_col6\" class=\"col_heading level0 col6\" >SMAPE</th>\n",
       "      <th id=\"T_94596_level0_col7\" class=\"col_heading level0 col7\" >R2</th>\n",
       "    </tr>\n",
       "  </thead>\n",
       "  <tbody>\n",
       "    <tr>\n",
       "      <th id=\"T_94596_level0_row0\" class=\"row_heading level0 row0\" >0</th>\n",
       "      <td id=\"T_94596_row0_col0\" class=\"data row0 col0\" >2024-12-30</td>\n",
       "      <td id=\"T_94596_row0_col1\" class=\"data row0 col1\" >1.7991</td>\n",
       "      <td id=\"T_94596_row0_col2\" class=\"data row0 col2\" >1.5826</td>\n",
       "      <td id=\"T_94596_row0_col3\" class=\"data row0 col3\" >6628.7505</td>\n",
       "      <td id=\"T_94596_row0_col4\" class=\"data row0 col4\" >7772.5482</td>\n",
       "      <td id=\"T_94596_row0_col5\" class=\"data row0 col5\" >0.0650</td>\n",
       "      <td id=\"T_94596_row0_col6\" class=\"data row0 col6\" >0.0680</td>\n",
       "      <td id=\"T_94596_row0_col7\" class=\"data row0 col7\" >-2.6527</td>\n",
       "    </tr>\n",
       "    <tr>\n",
       "      <th id=\"T_94596_level0_row1\" class=\"row_heading level0 row1\" >1</th>\n",
       "      <td id=\"T_94596_row1_col0\" class=\"data row1 col0\" >2025-01-29</td>\n",
       "      <td id=\"T_94596_row1_col1\" class=\"data row1 col1\" >2.0234</td>\n",
       "      <td id=\"T_94596_row1_col2\" class=\"data row1 col2\" >1.7900</td>\n",
       "      <td id=\"T_94596_row1_col3\" class=\"data row1 col3\" >7605.1908</td>\n",
       "      <td id=\"T_94596_row1_col4\" class=\"data row1 col4\" >8869.4623</td>\n",
       "      <td id=\"T_94596_row1_col5\" class=\"data row1 col5\" >0.0820</td>\n",
       "      <td id=\"T_94596_row1_col6\" class=\"data row1 col6\" >0.0775</td>\n",
       "      <td id=\"T_94596_row1_col7\" class=\"data row1 col7\" >-2.5485</td>\n",
       "    </tr>\n",
       "    <tr>\n",
       "      <th id=\"T_94596_level0_row2\" class=\"row_heading level0 row2\" >2</th>\n",
       "      <td id=\"T_94596_row2_col0\" class=\"data row2 col0\" >2025-02-28</td>\n",
       "      <td id=\"T_94596_row2_col1\" class=\"data row2 col1\" >0.6386</td>\n",
       "      <td id=\"T_94596_row2_col2\" class=\"data row2 col2\" >0.6561</td>\n",
       "      <td id=\"T_94596_row2_col3\" class=\"data row2 col3\" >2391.8381</td>\n",
       "      <td id=\"T_94596_row2_col4\" class=\"data row2 col4\" >3266.2645</td>\n",
       "      <td id=\"T_94596_row2_col5\" class=\"data row2 col5\" >0.0276</td>\n",
       "      <td id=\"T_94596_row2_col6\" class=\"data row2 col6\" >0.0280</td>\n",
       "      <td id=\"T_94596_row2_col7\" class=\"data row2 col7\" >-0.1025</td>\n",
       "    </tr>\n",
       "    <tr>\n",
       "      <th id=\"T_94596_level0_row3\" class=\"row_heading level0 row3\" >Mean</th>\n",
       "      <td id=\"T_94596_row3_col0\" class=\"data row3 col0\" >NaT</td>\n",
       "      <td id=\"T_94596_row3_col1\" class=\"data row3 col1\" >1.4871</td>\n",
       "      <td id=\"T_94596_row3_col2\" class=\"data row3 col2\" >1.3429</td>\n",
       "      <td id=\"T_94596_row3_col3\" class=\"data row3 col3\" >5541.9265</td>\n",
       "      <td id=\"T_94596_row3_col4\" class=\"data row3 col4\" >6636.0917</td>\n",
       "      <td id=\"T_94596_row3_col5\" class=\"data row3 col5\" >0.0582</td>\n",
       "      <td id=\"T_94596_row3_col6\" class=\"data row3 col6\" >0.0578</td>\n",
       "      <td id=\"T_94596_row3_col7\" class=\"data row3 col7\" >-1.7679</td>\n",
       "    </tr>\n",
       "    <tr>\n",
       "      <th id=\"T_94596_level0_row4\" class=\"row_heading level0 row4\" >SD</th>\n",
       "      <td id=\"T_94596_row4_col0\" class=\"data row4 col0\" >NaT</td>\n",
       "      <td id=\"T_94596_row4_col1\" class=\"data row4 col1\" >0.6069</td>\n",
       "      <td id=\"T_94596_row4_col2\" class=\"data row4 col2\" >0.4929</td>\n",
       "      <td id=\"T_94596_row4_col3\" class=\"data row4 col3\" >2262.8377</td>\n",
       "      <td id=\"T_94596_row4_col4\" class=\"data row4 col4\" >2424.5421</td>\n",
       "      <td id=\"T_94596_row4_col5\" class=\"data row4 col5\" >0.0227</td>\n",
       "      <td id=\"T_94596_row4_col6\" class=\"data row4 col6\" >0.0215</td>\n",
       "      <td id=\"T_94596_row4_col7\" class=\"data row4 col7\" >1.1784</td>\n",
       "    </tr>\n",
       "  </tbody>\n",
       "</table>\n"
      ],
      "text/plain": [
       "<pandas.io.formats.style.Styler at 0x1b9d13b24f0>"
      ]
     },
     "metadata": {},
     "output_type": "display_data"
    },
    {
     "data": {
      "text/html": [],
      "text/plain": [
       "<IPython.core.display.HTML object>"
      ]
     },
     "metadata": {},
     "output_type": "display_data"
    },
    {
     "name": "stdout",
     "output_type": "stream",
     "text": [
      "Fitting 3 folds for each of 10 candidates, totalling 30 fits\n"
     ]
    },
    {
     "name": "stderr",
     "output_type": "stream",
     "text": [
      "[Parallel(n_jobs=-1)]: Using backend LokyBackend with 8 concurrent workers.\n",
      "[Parallel(n_jobs=-1)]: Done  30 out of  30 | elapsed:    9.2s finished\n"
     ]
    }
   ],
   "source": [
    "# Set up PyCaret environment\n",
    "s = setup(data=btc, \n",
    "          target = 'BTC-USD',\n",
    "          #transform_target='log',\n",
    "          fh=30,  # Forecast horizon\n",
    "          session_id=123,\n",
    "          fold_strategy='expanding',\n",
    "          seasonal_period='D',\n",
    "          #fold_spans=\"adaptive\",\n",
    "          numeric_imputation_target = 'drift')\n",
    "\n",
    "exp = create_model('exp_smooth')\n",
    "tuned_exp = tune_model(exp)\n",
    "final_exp = finalize_model(tuned_exp)\n",
    "exp_prediction = predict_model(final_exp)"
   ]
  },
  {
   "cell_type": "code",
   "execution_count": 78,
   "id": "c2ee84da",
   "metadata": {},
   "outputs": [
    {
     "data": {
      "application/vnd.plotly.v1+json": {
       "config": {
        "plotlyServerURL": "https://plot.ly"
       },
       "data": [
        {
         "line": {
          "color": "rgb(31, 119, 180)",
          "width": 2
         },
         "marker": {
          "color": "rgb(31, 119, 180)",
          "size": 5
         },
         "mode": "lines+markers",
         "name": "BTC-USD",
         "type": "scattergl",
         "x": [
          "2024-04-30T00:00:00",
          "2024-05-01T00:00:00",
          "2024-05-02T00:00:00",
          "2024-05-03T00:00:00",
          "2024-05-04T00:00:00",
          "2024-05-05T00:00:00",
          "2024-05-06T00:00:00",
          "2024-05-07T00:00:00",
          "2024-05-08T00:00:00",
          "2024-05-09T00:00:00",
          "2024-05-10T00:00:00",
          "2024-05-11T00:00:00",
          "2024-05-12T00:00:00",
          "2024-05-13T00:00:00",
          "2024-05-14T00:00:00",
          "2024-05-15T00:00:00",
          "2024-05-16T00:00:00",
          "2024-05-17T00:00:00",
          "2024-05-18T00:00:00",
          "2024-05-19T00:00:00",
          "2024-05-20T00:00:00",
          "2024-05-21T00:00:00",
          "2024-05-22T00:00:00",
          "2024-05-23T00:00:00",
          "2024-05-24T00:00:00",
          "2024-05-25T00:00:00",
          "2024-05-26T00:00:00",
          "2024-05-27T00:00:00",
          "2024-05-28T00:00:00",
          "2024-05-29T00:00:00",
          "2024-05-30T00:00:00",
          "2024-05-31T00:00:00",
          "2024-06-01T00:00:00",
          "2024-06-02T00:00:00",
          "2024-06-03T00:00:00",
          "2024-06-04T00:00:00",
          "2024-06-05T00:00:00",
          "2024-06-06T00:00:00",
          "2024-06-07T00:00:00",
          "2024-06-08T00:00:00",
          "2024-06-09T00:00:00",
          "2024-06-10T00:00:00",
          "2024-06-11T00:00:00",
          "2024-06-12T00:00:00",
          "2024-06-13T00:00:00",
          "2024-06-14T00:00:00",
          "2024-06-15T00:00:00",
          "2024-06-16T00:00:00",
          "2024-06-17T00:00:00",
          "2024-06-18T00:00:00",
          "2024-06-19T00:00:00",
          "2024-06-20T00:00:00",
          "2024-06-21T00:00:00",
          "2024-06-22T00:00:00",
          "2024-06-23T00:00:00",
          "2024-06-24T00:00:00",
          "2024-06-25T00:00:00",
          "2024-06-26T00:00:00",
          "2024-06-27T00:00:00",
          "2024-06-28T00:00:00",
          "2024-06-29T00:00:00",
          "2024-06-30T00:00:00",
          "2024-07-01T00:00:00",
          "2024-07-02T00:00:00",
          "2024-07-03T00:00:00",
          "2024-07-04T00:00:00",
          "2024-07-05T00:00:00",
          "2024-07-06T00:00:00",
          "2024-07-07T00:00:00",
          "2024-07-08T00:00:00",
          "2024-07-09T00:00:00",
          "2024-07-10T00:00:00",
          "2024-07-11T00:00:00",
          "2024-07-12T00:00:00",
          "2024-07-13T00:00:00",
          "2024-07-14T00:00:00",
          "2024-07-15T00:00:00",
          "2024-07-16T00:00:00",
          "2024-07-17T00:00:00",
          "2024-07-18T00:00:00",
          "2024-07-19T00:00:00",
          "2024-07-20T00:00:00",
          "2024-07-21T00:00:00",
          "2024-07-22T00:00:00",
          "2024-07-23T00:00:00",
          "2024-07-24T00:00:00",
          "2024-07-25T00:00:00",
          "2024-07-26T00:00:00",
          "2024-07-27T00:00:00",
          "2024-07-28T00:00:00",
          "2024-07-29T00:00:00",
          "2024-07-30T00:00:00",
          "2024-07-31T00:00:00",
          "2024-08-01T00:00:00",
          "2024-08-02T00:00:00",
          "2024-08-03T00:00:00",
          "2024-08-04T00:00:00",
          "2024-08-05T00:00:00",
          "2024-08-06T00:00:00",
          "2024-08-07T00:00:00",
          "2024-08-08T00:00:00",
          "2024-08-09T00:00:00",
          "2024-08-10T00:00:00",
          "2024-08-11T00:00:00",
          "2024-08-12T00:00:00",
          "2024-08-13T00:00:00",
          "2024-08-14T00:00:00",
          "2024-08-15T00:00:00",
          "2024-08-16T00:00:00",
          "2024-08-17T00:00:00",
          "2024-08-18T00:00:00",
          "2024-08-19T00:00:00",
          "2024-08-20T00:00:00",
          "2024-08-21T00:00:00",
          "2024-08-22T00:00:00",
          "2024-08-23T00:00:00",
          "2024-08-24T00:00:00",
          "2024-08-25T00:00:00",
          "2024-08-26T00:00:00",
          "2024-08-27T00:00:00",
          "2024-08-28T00:00:00",
          "2024-08-29T00:00:00",
          "2024-08-30T00:00:00",
          "2024-08-31T00:00:00",
          "2024-09-01T00:00:00",
          "2024-09-02T00:00:00",
          "2024-09-03T00:00:00",
          "2024-09-04T00:00:00",
          "2024-09-05T00:00:00",
          "2024-09-06T00:00:00",
          "2024-09-07T00:00:00",
          "2024-09-08T00:00:00",
          "2024-09-09T00:00:00",
          "2024-09-10T00:00:00",
          "2024-09-11T00:00:00",
          "2024-09-12T00:00:00",
          "2024-09-13T00:00:00",
          "2024-09-14T00:00:00",
          "2024-09-15T00:00:00",
          "2024-09-16T00:00:00",
          "2024-09-17T00:00:00",
          "2024-09-18T00:00:00",
          "2024-09-19T00:00:00",
          "2024-09-20T00:00:00",
          "2024-09-21T00:00:00",
          "2024-09-22T00:00:00",
          "2024-09-23T00:00:00",
          "2024-09-24T00:00:00",
          "2024-09-25T00:00:00",
          "2024-09-26T00:00:00",
          "2024-09-27T00:00:00",
          "2024-09-28T00:00:00",
          "2024-09-29T00:00:00",
          "2024-09-30T00:00:00",
          "2024-10-01T00:00:00",
          "2024-10-02T00:00:00",
          "2024-10-03T00:00:00",
          "2024-10-04T00:00:00",
          "2024-10-05T00:00:00",
          "2024-10-06T00:00:00",
          "2024-10-07T00:00:00",
          "2024-10-08T00:00:00",
          "2024-10-09T00:00:00",
          "2024-10-10T00:00:00",
          "2024-10-11T00:00:00",
          "2024-10-12T00:00:00",
          "2024-10-13T00:00:00",
          "2024-10-14T00:00:00",
          "2024-10-15T00:00:00",
          "2024-10-16T00:00:00",
          "2024-10-17T00:00:00",
          "2024-10-18T00:00:00",
          "2024-10-19T00:00:00",
          "2024-10-20T00:00:00",
          "2024-10-21T00:00:00",
          "2024-10-22T00:00:00",
          "2024-10-23T00:00:00",
          "2024-10-24T00:00:00",
          "2024-10-25T00:00:00",
          "2024-10-26T00:00:00",
          "2024-10-27T00:00:00",
          "2024-10-28T00:00:00",
          "2024-10-29T00:00:00",
          "2024-10-30T00:00:00",
          "2024-10-31T00:00:00",
          "2024-11-01T00:00:00",
          "2024-11-02T00:00:00",
          "2024-11-03T00:00:00",
          "2024-11-04T00:00:00",
          "2024-11-05T00:00:00",
          "2024-11-06T00:00:00",
          "2024-11-07T00:00:00",
          "2024-11-08T00:00:00",
          "2024-11-09T00:00:00",
          "2024-11-10T00:00:00",
          "2024-11-11T00:00:00",
          "2024-11-12T00:00:00",
          "2024-11-13T00:00:00",
          "2024-11-14T00:00:00",
          "2024-11-15T00:00:00",
          "2024-11-16T00:00:00",
          "2024-11-17T00:00:00",
          "2024-11-18T00:00:00",
          "2024-11-19T00:00:00",
          "2024-11-20T00:00:00",
          "2024-11-21T00:00:00",
          "2024-11-22T00:00:00",
          "2024-11-23T00:00:00",
          "2024-11-24T00:00:00",
          "2024-11-25T00:00:00",
          "2024-11-26T00:00:00",
          "2024-11-27T00:00:00",
          "2024-11-28T00:00:00",
          "2024-11-29T00:00:00",
          "2024-11-30T00:00:00",
          "2024-12-01T00:00:00",
          "2024-12-02T00:00:00",
          "2024-12-03T00:00:00",
          "2024-12-04T00:00:00",
          "2024-12-05T00:00:00",
          "2024-12-06T00:00:00",
          "2024-12-07T00:00:00",
          "2024-12-08T00:00:00",
          "2024-12-09T00:00:00",
          "2024-12-10T00:00:00",
          "2024-12-11T00:00:00",
          "2024-12-12T00:00:00",
          "2024-12-13T00:00:00",
          "2024-12-14T00:00:00",
          "2024-12-15T00:00:00",
          "2024-12-16T00:00:00",
          "2024-12-17T00:00:00",
          "2024-12-18T00:00:00",
          "2024-12-19T00:00:00",
          "2024-12-20T00:00:00",
          "2024-12-21T00:00:00",
          "2024-12-22T00:00:00",
          "2024-12-23T00:00:00",
          "2024-12-24T00:00:00",
          "2024-12-25T00:00:00",
          "2024-12-26T00:00:00",
          "2024-12-27T00:00:00",
          "2024-12-28T00:00:00",
          "2024-12-29T00:00:00",
          "2024-12-30T00:00:00",
          "2024-12-31T00:00:00",
          "2025-01-01T00:00:00",
          "2025-01-02T00:00:00",
          "2025-01-03T00:00:00",
          "2025-01-04T00:00:00",
          "2025-01-05T00:00:00",
          "2025-01-06T00:00:00",
          "2025-01-07T00:00:00",
          "2025-01-08T00:00:00",
          "2025-01-09T00:00:00",
          "2025-01-10T00:00:00",
          "2025-01-11T00:00:00",
          "2025-01-12T00:00:00",
          "2025-01-13T00:00:00",
          "2025-01-14T00:00:00",
          "2025-01-15T00:00:00",
          "2025-01-16T00:00:00",
          "2025-01-17T00:00:00",
          "2025-01-18T00:00:00",
          "2025-01-19T00:00:00",
          "2025-01-20T00:00:00",
          "2025-01-21T00:00:00",
          "2025-01-22T00:00:00",
          "2025-01-23T00:00:00",
          "2025-01-24T00:00:00",
          "2025-01-25T00:00:00",
          "2025-01-26T00:00:00",
          "2025-01-27T00:00:00",
          "2025-01-28T00:00:00",
          "2025-01-29T00:00:00",
          "2025-01-30T00:00:00",
          "2025-01-31T00:00:00",
          "2025-02-01T00:00:00",
          "2025-02-02T00:00:00",
          "2025-02-03T00:00:00",
          "2025-02-04T00:00:00",
          "2025-02-05T00:00:00",
          "2025-02-06T00:00:00",
          "2025-02-07T00:00:00",
          "2025-02-08T00:00:00",
          "2025-02-09T00:00:00",
          "2025-02-10T00:00:00",
          "2025-02-11T00:00:00",
          "2025-02-12T00:00:00",
          "2025-02-13T00:00:00",
          "2025-02-14T00:00:00",
          "2025-02-15T00:00:00",
          "2025-02-16T00:00:00",
          "2025-02-17T00:00:00",
          "2025-02-18T00:00:00",
          "2025-02-19T00:00:00",
          "2025-02-20T00:00:00",
          "2025-02-21T00:00:00",
          "2025-02-22T00:00:00",
          "2025-02-23T00:00:00",
          "2025-02-24T00:00:00",
          "2025-02-25T00:00:00",
          "2025-02-26T00:00:00",
          "2025-02-27T00:00:00",
          "2025-02-28T00:00:00",
          "2025-03-01T00:00:00",
          "2025-03-02T00:00:00",
          "2025-03-03T00:00:00",
          "2025-03-04T00:00:00",
          "2025-03-05T00:00:00",
          "2025-03-06T00:00:00",
          "2025-03-07T00:00:00",
          "2025-03-08T00:00:00",
          "2025-03-09T00:00:00",
          "2025-03-10T00:00:00",
          "2025-03-11T00:00:00",
          "2025-03-12T00:00:00",
          "2025-03-13T00:00:00",
          "2025-03-14T00:00:00",
          "2025-03-15T00:00:00",
          "2025-03-16T00:00:00",
          "2025-03-17T00:00:00",
          "2025-03-18T00:00:00",
          "2025-03-19T00:00:00",
          "2025-03-20T00:00:00",
          "2025-03-21T00:00:00",
          "2025-03-22T00:00:00",
          "2025-03-23T00:00:00",
          "2025-03-24T00:00:00",
          "2025-03-25T00:00:00",
          "2025-03-26T00:00:00",
          "2025-03-27T00:00:00",
          "2025-03-28T00:00:00",
          "2025-03-29T00:00:00",
          "2025-03-30T00:00:00",
          "2025-03-31T00:00:00",
          "2025-04-01T00:00:00",
          "2025-04-02T00:00:00",
          "2025-04-03T00:00:00",
          "2025-04-04T00:00:00",
          "2025-04-05T00:00:00",
          "2025-04-06T00:00:00",
          "2025-04-07T00:00:00",
          "2025-04-08T00:00:00",
          "2025-04-09T00:00:00",
          "2025-04-10T00:00:00",
          "2025-04-11T00:00:00",
          "2025-04-12T00:00:00",
          "2025-04-13T00:00:00",
          "2025-04-14T00:00:00",
          "2025-04-15T00:00:00",
          "2025-04-16T00:00:00",
          "2025-04-17T00:00:00",
          "2025-04-18T00:00:00",
          "2025-04-19T00:00:00",
          "2025-04-20T00:00:00",
          "2025-04-21T00:00:00",
          "2025-04-22T00:00:00",
          "2025-04-23T00:00:00",
          "2025-04-24T00:00:00",
          "2025-04-25T00:00:00",
          "2025-04-26T00:00:00",
          "2025-04-27T00:00:00",
          "2025-04-28T00:00:00",
          "2025-04-29T00:00:00",
          "2025-04-30T00:00:00",
          "2025-05-01T00:00:00",
          "2025-05-02T00:00:00",
          "2025-05-03T00:00:00",
          "2025-05-04T00:00:00",
          "2025-05-05T00:00:00",
          "2025-05-06T00:00:00",
          "2025-05-07T00:00:00",
          "2025-05-08T00:00:00",
          "2025-05-09T00:00:00",
          "2025-05-10T00:00:00",
          "2025-05-11T00:00:00",
          "2025-05-12T00:00:00",
          "2025-05-13T00:00:00",
          "2025-05-14T00:00:00",
          "2025-05-15T00:00:00",
          "2025-05-16T00:00:00",
          "2025-05-17T00:00:00",
          "2025-05-18T00:00:00",
          "2025-05-19T00:00:00",
          "2025-05-20T00:00:00",
          "2025-05-21T00:00:00",
          "2025-05-22T00:00:00",
          "2025-05-23T00:00:00",
          "2025-05-24T00:00:00",
          "2025-05-25T00:00:00",
          "2025-05-26T00:00:00",
          "2025-05-27T00:00:00",
          "2025-05-28T00:00:00",
          "2025-05-29T00:00:00"
         ],
         "xaxis": "x",
         "y": {
          "bdata": "AAAAYJub7UAAAABgwHHsQAAAAOBt3uxAAAAAwDq17kAAAAAgbzLvQAAAAEDkQ+9AAAAAYD7X7kAAAAAg2m/uQAAAACB+4O1AAAAAwD7J7kAAAADgGK/tQAAAAMA2r+1AAAAAoAwB7kAAAABgrrbuQAAAAEAZDu5AAAAA4Lct8EAAAACg8tnvQAAAAAC+XvBAAAAA4MxX8EAAAADgZS7wQAAAACCDcfFAAAAAgIgf8UAAAABgJeDwQAAAAACZlfBAAAAAoOG68EAAAAAgH+nwQAAAAIBhuvBAAAAA4Cjx8EAAAACAg6zwQAAAAIChf/BAAAAA4M+w8EAAAACgNnrwQAAAAACvh/BAAAAAoHmK8EAAAACATMzwQAAAAEB8OvFAAAAAIK1a8UAAAACgUkbxQAAAAGDp7fBAAAAAYJzr8EAAAADg/wDxQAAAAICE+PBAAAAAgEBw8EAAAAAAE6nwQAAAAGBGTPBAAAAAgLEd8EAAAAAA8CjwQAAAAMDwRPBAAAAAwKQ78EAAAADgl87vQAAAAIAJuO9AAAAAAJWn70AAAABgBkzvQAAAAICSX+9AAAAAgJnZ7kAAAABArW7tQAAAAICULe5AAAAA4Gix7UAAAACgmRTuQAAAAGAEdO1AAAAAIOy67UAAAABgyZruQAAAAGB/sO5AAAAAgKBJ7kAAAACAvWHtQAAAAIA20utAAAAAAMyq60AAAABA8XfsQAAAAIAjRetAAAAAICOw60AAAABAJ1PsQAAAAODPMexAAAAAQB0A7EAAAADgbkXsQAAAAID+6+xAAAAAYHmu7UAAAADgxKzvQAAAAMAkye9AAAAAYNlO70AAAAAgwjzvQAAAAIBiSfBAAAAAYLpl8EAAAABgqKPwQAAAAAAUgPBAAAAAwHoY8EAAAABAhOvvQAAAAKATD/BAAAAAAIGU8EAAAABgVY7wQAAAAOD9qfBAAAAAoD5Q8EAAAABAkCnwQAAAAABoje9AAAAAALDp70AAAAAg4vztQAAAAAADoe1AAAAAQJ9g7EAAAACg7lzqQAAAACBKXOtAAAAAwG7e6kAAAABgxCHuQAAAAKADuu1AAAAAADrC7UAAAACA76vsQAAAAIBQ++xAAAAAIDKY7UAAAACgKK7sQAAAACADG+xAAAAAYMPB7EAAAAAg3wrtQAAAAOB+juxAAAAAgK4M7UAAAABgmdDsQAAAACDm3u1AAAAAQL177UAAAABgy0vvQAAAAMBfVu9AAAAAYLFp70AAAAAgFbTuQAAAAEAEDu1AAAAAAHTS7EAAAADAhf/sQAAAAEDv3exAAAAAwDzL7EAAAACgr/3rQAAAAGAP3exAAAAAwOAK7EAAAABAcU7sQAAAAKAPbOtAAAAAIJhX6kAAAAAAdm/qQAAAACAyx+pAAAAAIHHX60AAAADAFibsQAAAAIDl/+tAAAAAYOBh7EAAAACgaZPtQAAAAOCjTO1AAAAAwNrl7EAAAABAEGrsQAAAAECRcu1AAAAAwDUa7kAAAACgjrvuQAAAAEAf2+5AAAAA4Fr07kAAAADAFhTvQAAAAKA57O5AAAAAAL9l70AAAACg5NTuQAAAAKCg0+9AAAAAoOoP8EAAAABg+hXwQAAAAOA0BvBAAAAAADDs7kAAAABAoLTtQAAAACAZm+1AAAAA4Oyq7UAAAABAb07uQAAAAGA+Ue5AAAAAgF6s7kAAAAAglWPuQAAAAAB/Vu5AAAAAQMOU7UAAAAAAUG7tQAAAAOCife5AAAAAwCDb7kAAAAAAbLDuQAAAAADiH/BAAAAAwBFe8EAAAACAy4HwQAAAAGB9dPBAAAAAoCy08EAAAADAq7DwQAAAAECb2PBAAAAAoH1y8EAAAACAFnLwQAAAACADOPBAAAAA4BCk8EAAAACgJkXwQAAAACBrXPBAAAAAwJSV8EAAAAAgPBHxQAAAAOAHwfFAAAAAoDip8UAAAAAAcyTxQAAAAICn9vBAAAAAYJTq8EAAAADgUcjwQAAAACA4jvBAAAAAAPnu8EAAAABAcXfyQAAAAMANiPJAAAAAoBew8kAAAADgrb7yQAAAAACjpfNAAAAAwNen9UAAAAAAPXn1QAAAAKCCHfZAAAAA4CZN9UAAAAAgoDv2QAAAAKDnG/ZAAAAAoF3v9UAAAABA6hr2QAAAAKB8i/ZAAAAA4DcI90AAAACgiwz4QAAAAKBaK/hAAAAAgBTf90AAAAAg3e33QAAAAMDkuvZAAAAAIBV19kAAAACAqG33QAAAAIBHWvdAAAAAYFjL90AAAADgEIz3QAAAAKD8v/dAAAAA4JRn90AAAACgInD3QAAAAIAIHfhAAAAAIBmV90AAAABgC2X4QAAAAGA1ZfhAAAAAQEC3+EAAAACAi8n3QAAAAOA2mvdAAAAAgFCz+EAAAAAAsGz4QAAAACA0xfhAAAAAgM+/+EAAAAAgq3b5QAAAAIDb4vlAAAAAoMnp+UAAAACgmGz4QAAAAEAvzfdAAAAA4L7d90AAAACgi7z3QAAAAAAPOPdAAAAA4OMd90AAAACAQRf4QAAAACAzPvhAAAAAQDhj90AAAADATf32QAAAAOC+O/dAAAAAoKPV9kAAAABgM572QAAAAEBTz/ZAAAAAIDwN90AAAAAAbqf3QAAAAOC28/dAAAAAoMP790AAAABgrwD4QAAAAGDh6/hAAAAAQKup90AAAABgODT3QAAAAKBAlPZAAAAAQNce90AAAACAaRb3QAAAAACHEfdAAAAAYEgT90AAAADAYJH3QAAAAOCHifhAAAAAgM5a+EAAAACg4ID5QAAAACCBfflAAAAAwBmu+EAAAACgCuj4QAAAAEAk6vlAAAAAIFFO+UAAAADAgmH5QAAAAMA3l/lAAAAAYKqQ+UAAAAAAqBH5QAAAAAB77PhAAAAAoEe9+EAAAABgc1H5QAAAAOD0kflAAAAAYFAA+UAAAACA/pL4QAAAAKCP2fdAAAAAwNbB+EAAAAAg/eT3QAAAACB3lvdAAAAAwBSV90AAAABgEZH3QAAAAEAnjvdAAAAAgEGP90AAAADg2Mn3QAAAAOA2YPdAAAAAwN3l90AAAADg/Zb3QAAAAIBPzvdAAAAAoMXS90AAAACA8Hr3QAAAACDWYfdAAAAAwDhT90AAAADAuZf3QAAAAADfAfhAAAAAwNh390AAAAAgHJT3QAAAAMAegfdAAAAAwKJR9kAAAADAAqr1QAAAAGCwl/RAAAAAoAOu9EAAAAAgUJn0QAAAAKD+APVAAAAAoIUC90AAAADAGgP1QAAAACBjS/VAAAAAAPkf9kAAAACgm/b1QAAAAMBqLfVAAAAAgKkI9UAAAACgkK3zQAAAAABALPNAAAAAYOM69EAAAADApXD0QAAAAECryvNAAAAAoBGA9EAAAADAcZf0QAAAAAA7KfRAAAAAALuG9EAAAAAA6DH0QAAAAKBjNPVAAAAAIHOM9EAAAADgs4T0QAAAAMCHd/RAAAAAAGYC9UAAAACgrlz1QAAAAED7WvVAAAAAIE439UAAAACgkUj1QAAAAGASmPRAAAAAYFkq9EAAAABg6Bn0QAAAAKBOJ/RAAAAAwBLL9EAAAABgWyP0QAAAAEDtSfRAAAAA4Dx49EAAAADADGP0QAAAAMBnGPNAAAAAYDVY80AAAABA/57yQAAAAEDfKPRAAAAAQKJw80AAAABgzVz0QAAAAMBx0vRAAAAAoE9u9EAAAABA5qP0QAAAAOBPbfRAAAAA4B2E9EAAAAAA/Ln0QAAAAOAsnvRAAAAAoHbE9EAAAADgZMv0QAAAAIDuXfVAAAAAQB7Q9kAAAADAMeD2QAAAAMB87/ZAAAAAAAgg90AAAADgbhv3QAAAAICt4/ZAAAAAACww90AAAABgLiz3QAAAAAAAAPh/AAAAAAAA+H8AAAAAAAD4fwAAAAAAAPh/AAAAAAAA+H8AAAAAAAD4fwAAAAAAAPh/AAAAAAAA+H8AAAAAAAD4fwAAAAAAAPh/AAAAAAAA+H8AAAAAAAD4fwAAAAAAAPh/AAAAAAAA+H8AAAAAAAD4fwAAAAAAAPh/AAAAAAAA+H8AAAAAAAD4fwAAAAAAAPh/AAAAAAAA+H8AAAAAAAD4fwAAAAAAAPh/AAAAAAAA+H8AAAAAAAD4fwAAAAAAAPh/AAAAAAAA+H8AAAAAAAD4fwAAAAAAAPh/AAAAAAAA+H8AAAAAAAD4fw==",
          "dtype": "f8"
         },
         "yaxis": "y"
        },
        {
         "line": {
          "color": "rgb(255, 127, 14)",
          "width": 2
         },
         "marker": {
          "color": "rgb(255, 127, 14)",
          "size": 5
         },
         "mode": "lines+markers",
         "name": "Exponential Smoothing",
         "type": "scattergl",
         "x": [
          "2024-04-30T00:00:00",
          "2024-05-01T00:00:00",
          "2024-05-02T00:00:00",
          "2024-05-03T00:00:00",
          "2024-05-04T00:00:00",
          "2024-05-05T00:00:00",
          "2024-05-06T00:00:00",
          "2024-05-07T00:00:00",
          "2024-05-08T00:00:00",
          "2024-05-09T00:00:00",
          "2024-05-10T00:00:00",
          "2024-05-11T00:00:00",
          "2024-05-12T00:00:00",
          "2024-05-13T00:00:00",
          "2024-05-14T00:00:00",
          "2024-05-15T00:00:00",
          "2024-05-16T00:00:00",
          "2024-05-17T00:00:00",
          "2024-05-18T00:00:00",
          "2024-05-19T00:00:00",
          "2024-05-20T00:00:00",
          "2024-05-21T00:00:00",
          "2024-05-22T00:00:00",
          "2024-05-23T00:00:00",
          "2024-05-24T00:00:00",
          "2024-05-25T00:00:00",
          "2024-05-26T00:00:00",
          "2024-05-27T00:00:00",
          "2024-05-28T00:00:00",
          "2024-05-29T00:00:00",
          "2024-05-30T00:00:00",
          "2024-05-31T00:00:00",
          "2024-06-01T00:00:00",
          "2024-06-02T00:00:00",
          "2024-06-03T00:00:00",
          "2024-06-04T00:00:00",
          "2024-06-05T00:00:00",
          "2024-06-06T00:00:00",
          "2024-06-07T00:00:00",
          "2024-06-08T00:00:00",
          "2024-06-09T00:00:00",
          "2024-06-10T00:00:00",
          "2024-06-11T00:00:00",
          "2024-06-12T00:00:00",
          "2024-06-13T00:00:00",
          "2024-06-14T00:00:00",
          "2024-06-15T00:00:00",
          "2024-06-16T00:00:00",
          "2024-06-17T00:00:00",
          "2024-06-18T00:00:00",
          "2024-06-19T00:00:00",
          "2024-06-20T00:00:00",
          "2024-06-21T00:00:00",
          "2024-06-22T00:00:00",
          "2024-06-23T00:00:00",
          "2024-06-24T00:00:00",
          "2024-06-25T00:00:00",
          "2024-06-26T00:00:00",
          "2024-06-27T00:00:00",
          "2024-06-28T00:00:00",
          "2024-06-29T00:00:00",
          "2024-06-30T00:00:00",
          "2024-07-01T00:00:00",
          "2024-07-02T00:00:00",
          "2024-07-03T00:00:00",
          "2024-07-04T00:00:00",
          "2024-07-05T00:00:00",
          "2024-07-06T00:00:00",
          "2024-07-07T00:00:00",
          "2024-07-08T00:00:00",
          "2024-07-09T00:00:00",
          "2024-07-10T00:00:00",
          "2024-07-11T00:00:00",
          "2024-07-12T00:00:00",
          "2024-07-13T00:00:00",
          "2024-07-14T00:00:00",
          "2024-07-15T00:00:00",
          "2024-07-16T00:00:00",
          "2024-07-17T00:00:00",
          "2024-07-18T00:00:00",
          "2024-07-19T00:00:00",
          "2024-07-20T00:00:00",
          "2024-07-21T00:00:00",
          "2024-07-22T00:00:00",
          "2024-07-23T00:00:00",
          "2024-07-24T00:00:00",
          "2024-07-25T00:00:00",
          "2024-07-26T00:00:00",
          "2024-07-27T00:00:00",
          "2024-07-28T00:00:00",
          "2024-07-29T00:00:00",
          "2024-07-30T00:00:00",
          "2024-07-31T00:00:00",
          "2024-08-01T00:00:00",
          "2024-08-02T00:00:00",
          "2024-08-03T00:00:00",
          "2024-08-04T00:00:00",
          "2024-08-05T00:00:00",
          "2024-08-06T00:00:00",
          "2024-08-07T00:00:00",
          "2024-08-08T00:00:00",
          "2024-08-09T00:00:00",
          "2024-08-10T00:00:00",
          "2024-08-11T00:00:00",
          "2024-08-12T00:00:00",
          "2024-08-13T00:00:00",
          "2024-08-14T00:00:00",
          "2024-08-15T00:00:00",
          "2024-08-16T00:00:00",
          "2024-08-17T00:00:00",
          "2024-08-18T00:00:00",
          "2024-08-19T00:00:00",
          "2024-08-20T00:00:00",
          "2024-08-21T00:00:00",
          "2024-08-22T00:00:00",
          "2024-08-23T00:00:00",
          "2024-08-24T00:00:00",
          "2024-08-25T00:00:00",
          "2024-08-26T00:00:00",
          "2024-08-27T00:00:00",
          "2024-08-28T00:00:00",
          "2024-08-29T00:00:00",
          "2024-08-30T00:00:00",
          "2024-08-31T00:00:00",
          "2024-09-01T00:00:00",
          "2024-09-02T00:00:00",
          "2024-09-03T00:00:00",
          "2024-09-04T00:00:00",
          "2024-09-05T00:00:00",
          "2024-09-06T00:00:00",
          "2024-09-07T00:00:00",
          "2024-09-08T00:00:00",
          "2024-09-09T00:00:00",
          "2024-09-10T00:00:00",
          "2024-09-11T00:00:00",
          "2024-09-12T00:00:00",
          "2024-09-13T00:00:00",
          "2024-09-14T00:00:00",
          "2024-09-15T00:00:00",
          "2024-09-16T00:00:00",
          "2024-09-17T00:00:00",
          "2024-09-18T00:00:00",
          "2024-09-19T00:00:00",
          "2024-09-20T00:00:00",
          "2024-09-21T00:00:00",
          "2024-09-22T00:00:00",
          "2024-09-23T00:00:00",
          "2024-09-24T00:00:00",
          "2024-09-25T00:00:00",
          "2024-09-26T00:00:00",
          "2024-09-27T00:00:00",
          "2024-09-28T00:00:00",
          "2024-09-29T00:00:00",
          "2024-09-30T00:00:00",
          "2024-10-01T00:00:00",
          "2024-10-02T00:00:00",
          "2024-10-03T00:00:00",
          "2024-10-04T00:00:00",
          "2024-10-05T00:00:00",
          "2024-10-06T00:00:00",
          "2024-10-07T00:00:00",
          "2024-10-08T00:00:00",
          "2024-10-09T00:00:00",
          "2024-10-10T00:00:00",
          "2024-10-11T00:00:00",
          "2024-10-12T00:00:00",
          "2024-10-13T00:00:00",
          "2024-10-14T00:00:00",
          "2024-10-15T00:00:00",
          "2024-10-16T00:00:00",
          "2024-10-17T00:00:00",
          "2024-10-18T00:00:00",
          "2024-10-19T00:00:00",
          "2024-10-20T00:00:00",
          "2024-10-21T00:00:00",
          "2024-10-22T00:00:00",
          "2024-10-23T00:00:00",
          "2024-10-24T00:00:00",
          "2024-10-25T00:00:00",
          "2024-10-26T00:00:00",
          "2024-10-27T00:00:00",
          "2024-10-28T00:00:00",
          "2024-10-29T00:00:00",
          "2024-10-30T00:00:00",
          "2024-10-31T00:00:00",
          "2024-11-01T00:00:00",
          "2024-11-02T00:00:00",
          "2024-11-03T00:00:00",
          "2024-11-04T00:00:00",
          "2024-11-05T00:00:00",
          "2024-11-06T00:00:00",
          "2024-11-07T00:00:00",
          "2024-11-08T00:00:00",
          "2024-11-09T00:00:00",
          "2024-11-10T00:00:00",
          "2024-11-11T00:00:00",
          "2024-11-12T00:00:00",
          "2024-11-13T00:00:00",
          "2024-11-14T00:00:00",
          "2024-11-15T00:00:00",
          "2024-11-16T00:00:00",
          "2024-11-17T00:00:00",
          "2024-11-18T00:00:00",
          "2024-11-19T00:00:00",
          "2024-11-20T00:00:00",
          "2024-11-21T00:00:00",
          "2024-11-22T00:00:00",
          "2024-11-23T00:00:00",
          "2024-11-24T00:00:00",
          "2024-11-25T00:00:00",
          "2024-11-26T00:00:00",
          "2024-11-27T00:00:00",
          "2024-11-28T00:00:00",
          "2024-11-29T00:00:00",
          "2024-11-30T00:00:00",
          "2024-12-01T00:00:00",
          "2024-12-02T00:00:00",
          "2024-12-03T00:00:00",
          "2024-12-04T00:00:00",
          "2024-12-05T00:00:00",
          "2024-12-06T00:00:00",
          "2024-12-07T00:00:00",
          "2024-12-08T00:00:00",
          "2024-12-09T00:00:00",
          "2024-12-10T00:00:00",
          "2024-12-11T00:00:00",
          "2024-12-12T00:00:00",
          "2024-12-13T00:00:00",
          "2024-12-14T00:00:00",
          "2024-12-15T00:00:00",
          "2024-12-16T00:00:00",
          "2024-12-17T00:00:00",
          "2024-12-18T00:00:00",
          "2024-12-19T00:00:00",
          "2024-12-20T00:00:00",
          "2024-12-21T00:00:00",
          "2024-12-22T00:00:00",
          "2024-12-23T00:00:00",
          "2024-12-24T00:00:00",
          "2024-12-25T00:00:00",
          "2024-12-26T00:00:00",
          "2024-12-27T00:00:00",
          "2024-12-28T00:00:00",
          "2024-12-29T00:00:00",
          "2024-12-30T00:00:00",
          "2024-12-31T00:00:00",
          "2025-01-01T00:00:00",
          "2025-01-02T00:00:00",
          "2025-01-03T00:00:00",
          "2025-01-04T00:00:00",
          "2025-01-05T00:00:00",
          "2025-01-06T00:00:00",
          "2025-01-07T00:00:00",
          "2025-01-08T00:00:00",
          "2025-01-09T00:00:00",
          "2025-01-10T00:00:00",
          "2025-01-11T00:00:00",
          "2025-01-12T00:00:00",
          "2025-01-13T00:00:00",
          "2025-01-14T00:00:00",
          "2025-01-15T00:00:00",
          "2025-01-16T00:00:00",
          "2025-01-17T00:00:00",
          "2025-01-18T00:00:00",
          "2025-01-19T00:00:00",
          "2025-01-20T00:00:00",
          "2025-01-21T00:00:00",
          "2025-01-22T00:00:00",
          "2025-01-23T00:00:00",
          "2025-01-24T00:00:00",
          "2025-01-25T00:00:00",
          "2025-01-26T00:00:00",
          "2025-01-27T00:00:00",
          "2025-01-28T00:00:00",
          "2025-01-29T00:00:00",
          "2025-01-30T00:00:00",
          "2025-01-31T00:00:00",
          "2025-02-01T00:00:00",
          "2025-02-02T00:00:00",
          "2025-02-03T00:00:00",
          "2025-02-04T00:00:00",
          "2025-02-05T00:00:00",
          "2025-02-06T00:00:00",
          "2025-02-07T00:00:00",
          "2025-02-08T00:00:00",
          "2025-02-09T00:00:00",
          "2025-02-10T00:00:00",
          "2025-02-11T00:00:00",
          "2025-02-12T00:00:00",
          "2025-02-13T00:00:00",
          "2025-02-14T00:00:00",
          "2025-02-15T00:00:00",
          "2025-02-16T00:00:00",
          "2025-02-17T00:00:00",
          "2025-02-18T00:00:00",
          "2025-02-19T00:00:00",
          "2025-02-20T00:00:00",
          "2025-02-21T00:00:00",
          "2025-02-22T00:00:00",
          "2025-02-23T00:00:00",
          "2025-02-24T00:00:00",
          "2025-02-25T00:00:00",
          "2025-02-26T00:00:00",
          "2025-02-27T00:00:00",
          "2025-02-28T00:00:00",
          "2025-03-01T00:00:00",
          "2025-03-02T00:00:00",
          "2025-03-03T00:00:00",
          "2025-03-04T00:00:00",
          "2025-03-05T00:00:00",
          "2025-03-06T00:00:00",
          "2025-03-07T00:00:00",
          "2025-03-08T00:00:00",
          "2025-03-09T00:00:00",
          "2025-03-10T00:00:00",
          "2025-03-11T00:00:00",
          "2025-03-12T00:00:00",
          "2025-03-13T00:00:00",
          "2025-03-14T00:00:00",
          "2025-03-15T00:00:00",
          "2025-03-16T00:00:00",
          "2025-03-17T00:00:00",
          "2025-03-18T00:00:00",
          "2025-03-19T00:00:00",
          "2025-03-20T00:00:00",
          "2025-03-21T00:00:00",
          "2025-03-22T00:00:00",
          "2025-03-23T00:00:00",
          "2025-03-24T00:00:00",
          "2025-03-25T00:00:00",
          "2025-03-26T00:00:00",
          "2025-03-27T00:00:00",
          "2025-03-28T00:00:00",
          "2025-03-29T00:00:00",
          "2025-03-30T00:00:00",
          "2025-03-31T00:00:00",
          "2025-04-01T00:00:00",
          "2025-04-02T00:00:00",
          "2025-04-03T00:00:00",
          "2025-04-04T00:00:00",
          "2025-04-05T00:00:00",
          "2025-04-06T00:00:00",
          "2025-04-07T00:00:00",
          "2025-04-08T00:00:00",
          "2025-04-09T00:00:00",
          "2025-04-10T00:00:00",
          "2025-04-11T00:00:00",
          "2025-04-12T00:00:00",
          "2025-04-13T00:00:00",
          "2025-04-14T00:00:00",
          "2025-04-15T00:00:00",
          "2025-04-16T00:00:00",
          "2025-04-17T00:00:00",
          "2025-04-18T00:00:00",
          "2025-04-19T00:00:00",
          "2025-04-20T00:00:00",
          "2025-04-21T00:00:00",
          "2025-04-22T00:00:00",
          "2025-04-23T00:00:00",
          "2025-04-24T00:00:00",
          "2025-04-25T00:00:00",
          "2025-04-26T00:00:00",
          "2025-04-27T00:00:00",
          "2025-04-28T00:00:00",
          "2025-04-29T00:00:00",
          "2025-04-30T00:00:00",
          "2025-05-01T00:00:00",
          "2025-05-02T00:00:00",
          "2025-05-03T00:00:00",
          "2025-05-04T00:00:00",
          "2025-05-05T00:00:00",
          "2025-05-06T00:00:00",
          "2025-05-07T00:00:00",
          "2025-05-08T00:00:00",
          "2025-05-09T00:00:00",
          "2025-05-10T00:00:00",
          "2025-05-11T00:00:00",
          "2025-05-12T00:00:00",
          "2025-05-13T00:00:00",
          "2025-05-14T00:00:00",
          "2025-05-15T00:00:00",
          "2025-05-16T00:00:00",
          "2025-05-17T00:00:00",
          "2025-05-18T00:00:00",
          "2025-05-19T00:00:00",
          "2025-05-20T00:00:00",
          "2025-05-21T00:00:00",
          "2025-05-22T00:00:00",
          "2025-05-23T00:00:00",
          "2025-05-24T00:00:00",
          "2025-05-25T00:00:00",
          "2025-05-26T00:00:00",
          "2025-05-27T00:00:00",
          "2025-05-28T00:00:00",
          "2025-05-29T00:00:00"
         ],
         "xaxis": "x",
         "y": {
          "bdata": "AAAAAAAA+H8AAAAAAAD4fwAAAAAAAPh/AAAAAAAA+H8AAAAAAAD4fwAAAAAAAPh/AAAAAAAA+H8AAAAAAAD4fwAAAAAAAPh/AAAAAAAA+H8AAAAAAAD4fwAAAAAAAPh/AAAAAAAA+H8AAAAAAAD4fwAAAAAAAPh/AAAAAAAA+H8AAAAAAAD4fwAAAAAAAPh/AAAAAAAA+H8AAAAAAAD4fwAAAAAAAPh/AAAAAAAA+H8AAAAAAAD4fwAAAAAAAPh/AAAAAAAA+H8AAAAAAAD4fwAAAAAAAPh/AAAAAAAA+H8AAAAAAAD4fwAAAAAAAPh/AAAAAAAA+H8AAAAAAAD4fwAAAAAAAPh/AAAAAAAA+H8AAAAAAAD4fwAAAAAAAPh/AAAAAAAA+H8AAAAAAAD4fwAAAAAAAPh/AAAAAAAA+H8AAAAAAAD4fwAAAAAAAPh/AAAAAAAA+H8AAAAAAAD4fwAAAAAAAPh/AAAAAAAA+H8AAAAAAAD4fwAAAAAAAPh/AAAAAAAA+H8AAAAAAAD4fwAAAAAAAPh/AAAAAAAA+H8AAAAAAAD4fwAAAAAAAPh/AAAAAAAA+H8AAAAAAAD4fwAAAAAAAPh/AAAAAAAA+H8AAAAAAAD4fwAAAAAAAPh/AAAAAAAA+H8AAAAAAAD4fwAAAAAAAPh/AAAAAAAA+H8AAAAAAAD4fwAAAAAAAPh/AAAAAAAA+H8AAAAAAAD4fwAAAAAAAPh/AAAAAAAA+H8AAAAAAAD4fwAAAAAAAPh/AAAAAAAA+H8AAAAAAAD4fwAAAAAAAPh/AAAAAAAA+H8AAAAAAAD4fwAAAAAAAPh/AAAAAAAA+H8AAAAAAAD4fwAAAAAAAPh/AAAAAAAA+H8AAAAAAAD4fwAAAAAAAPh/AAAAAAAA+H8AAAAAAAD4fwAAAAAAAPh/AAAAAAAA+H8AAAAAAAD4fwAAAAAAAPh/AAAAAAAA+H8AAAAAAAD4fwAAAAAAAPh/AAAAAAAA+H8AAAAAAAD4fwAAAAAAAPh/AAAAAAAA+H8AAAAAAAD4fwAAAAAAAPh/AAAAAAAA+H8AAAAAAAD4fwAAAAAAAPh/AAAAAAAA+H8AAAAAAAD4fwAAAAAAAPh/AAAAAAAA+H8AAAAAAAD4fwAAAAAAAPh/AAAAAAAA+H8AAAAAAAD4fwAAAAAAAPh/AAAAAAAA+H8AAAAAAAD4fwAAAAAAAPh/AAAAAAAA+H8AAAAAAAD4fwAAAAAAAPh/AAAAAAAA+H8AAAAAAAD4fwAAAAAAAPh/AAAAAAAA+H8AAAAAAAD4fwAAAAAAAPh/AAAAAAAA+H8AAAAAAAD4fwAAAAAAAPh/AAAAAAAA+H8AAAAAAAD4fwAAAAAAAPh/AAAAAAAA+H8AAAAAAAD4fwAAAAAAAPh/AAAAAAAA+H8AAAAAAAD4fwAAAAAAAPh/AAAAAAAA+H8AAAAAAAD4fwAAAAAAAPh/AAAAAAAA+H8AAAAAAAD4fwAAAAAAAPh/AAAAAAAA+H8AAAAAAAD4fwAAAAAAAPh/AAAAAAAA+H8AAAAAAAD4fwAAAAAAAPh/AAAAAAAA+H8AAAAAAAD4fwAAAAAAAPh/AAAAAAAA+H8AAAAAAAD4fwAAAAAAAPh/AAAAAAAA+H8AAAAAAAD4fwAAAAAAAPh/AAAAAAAA+H8AAAAAAAD4fwAAAAAAAPh/AAAAAAAA+H8AAAAAAAD4fwAAAAAAAPh/AAAAAAAA+H8AAAAAAAD4fwAAAAAAAPh/AAAAAAAA+H8AAAAAAAD4fwAAAAAAAPh/AAAAAAAA+H8AAAAAAAD4fwAAAAAAAPh/AAAAAAAA+H8AAAAAAAD4fwAAAAAAAPh/AAAAAAAA+H8AAAAAAAD4fwAAAAAAAPh/AAAAAAAA+H8AAAAAAAD4fwAAAAAAAPh/AAAAAAAA+H8AAAAAAAD4fwAAAAAAAPh/AAAAAAAA+H8AAAAAAAD4fwAAAAAAAPh/AAAAAAAA+H8AAAAAAAD4fwAAAAAAAPh/AAAAAAAA+H8AAAAAAAD4fwAAAAAAAPh/AAAAAAAA+H8AAAAAAAD4fwAAAAAAAPh/AAAAAAAA+H8AAAAAAAD4fwAAAAAAAPh/AAAAAAAA+H8AAAAAAAD4fwAAAAAAAPh/AAAAAAAA+H8AAAAAAAD4fwAAAAAAAPh/AAAAAAAA+H8AAAAAAAD4fwAAAAAAAPh/AAAAAAAA+H8AAAAAAAD4fwAAAAAAAPh/AAAAAAAA+H8AAAAAAAD4fwAAAAAAAPh/AAAAAAAA+H8AAAAAAAD4fwAAAAAAAPh/AAAAAAAA+H8AAAAAAAD4fwAAAAAAAPh/AAAAAAAA+H8AAAAAAAD4fwAAAAAAAPh/AAAAAAAA+H8AAAAAAAD4fwAAAAAAAPh/AAAAAAAA+H8AAAAAAAD4fwAAAAAAAPh/AAAAAAAA+H8AAAAAAAD4fwAAAAAAAPh/AAAAAAAA+H8AAAAAAAD4fwAAAAAAAPh/AAAAAAAA+H8AAAAAAAD4fwAAAAAAAPh/AAAAAAAA+H8AAAAAAAD4fwAAAAAAAPh/AAAAAAAA+H8AAAAAAAD4fwAAAAAAAPh/AAAAAAAA+H8AAAAAAAD4fwAAAAAAAPh/AAAAAAAA+H8AAAAAAAD4fwAAAAAAAPh/AAAAAAAA+H8AAAAAAAD4fwAAAAAAAPh/AAAAAAAA+H8AAAAAAAD4fwAAAAAAAPh/AAAAAAAA+H8AAAAAAAD4fwAAAAAAAPh/AAAAAAAA+H8AAAAAAAD4fwAAAAAAAPh/AAAAAAAA+H8AAAAAAAD4fwAAAAAAAPh/AAAAAAAA+H8AAAAAAAD4fwAAAAAAAPh/AAAAAAAA+H8AAAAAAAD4fwAAAAAAAPh/AAAAAAAA+H8AAAAAAAD4fwAAAAAAAPh/AAAAAAAA+H8AAAAAAAD4fwAAAAAAAPh/AAAAAAAA+H8AAAAAAAD4fwAAAAAAAPh/AAAAAAAA+H8AAAAAAAD4fwAAAAAAAPh/AAAAAAAA+H8AAAAAAAD4fwAAAAAAAPh/AAAAAAAA+H8AAAAAAAD4fwAAAAAAAPh/AAAAAAAA+H8AAAAAAAD4fwAAAAAAAPh/AAAAAAAA+H8AAAAAAAD4fwAAAAAAAPh/AAAAAAAA+H8AAAAAAAD4fwAAAAAAAPh/AAAAAAAA+H8AAAAAAAD4fwAAAAAAAPh/AAAAAAAA+H8AAAAAAAD4fwAAAAAAAPh/AAAAAAAA+H8AAAAAAAD4fwAAAAAAAPh/AAAAAAAA+H8AAAAAAAD4fwAAAAAAAPh/AAAAAAAA+H8AAAAAAAD4fwAAAAAAAPh/AAAAAAAA+H8AAAAAAAD4fwAAAAAAAPh/AAAAAAAA+H8AAAAAAAD4fwAAAAAAAPh/AAAAAAAA+H8AAAAAAAD4fwAAAAAAAPh/AAAAAAAA+H8AAAAAAAD4fwAAAAAAAPh/AAAAAAAA+H8AAAAAAAD4fwAAAAAAAPh/AAAAAAAA+H8AAAAAAAD4fwAAAAAAAPh/AAAAAAAA+H8AAAAAAAD4fwAAAAAAAPh/AAAAAAAA+H8AAAAAAAD4fwAAAAAAAPh/AAAAAAAA+H8AAAAAAAD4fwAAAAAAAPh/AAAAAAAA+H8AAAAAAAD4fwAAAAAAAPh/AAAAAAAA+H8AAAAAAAD4fwAAAAAAAPh/AAAAAAAA+H8AAAAAAAD4fwAAAAAAAPh/AAAAAAAA+H8AAAAAAAD4fwAAAAAAAPh/AAAAAAAA+H8AAAAAAAD4fwAAAAAAAPh/AAAAAAAA+H8AAAAAAAD4fwAAAAAAAPh/AAAAAAAA+H8AAAAAAAD4fwAAAAAAAPh/AAAAAAAA+H8AAAAAAAD4fwAAAAAAAPh/AAAAAAAA+H8AAAAAAAD4f7prCfmfRvdAGQRWDv8V90AOvjCZGSv3QOxRuB5ZKfdAqoJRSaAF90C62or9ARv3QMBbIEHBLfdAumsJ+Z9G90AZBFYO/xX3QA6+MJkZK/dA7FG4Hlkp90CqglFJoAX3QLraiv0BG/dAwFsgQcEt90C6awn5n0b3QBkEVg7/FfdADr4wmRkr90DsUbgeWSn3QKqCUUmgBfdAutqK/QEb90DAWyBBwS33QLprCfmfRvdAGQRWDv8V90AOvjCZGSv3QOxRuB5ZKfdAqoJRSaAF90C62or9ARv3QMBbIEHBLfdAumsJ+Z9G90AZBFYO/xX3QA==",
          "dtype": "f8"
         },
         "yaxis": "y"
        }
       ],
       "layout": {
        "showlegend": true,
        "template": {
         "data": {
          "bar": [
           {
            "error_x": {
             "color": "rgb(51,51,51)"
            },
            "error_y": {
             "color": "rgb(51,51,51)"
            },
            "marker": {
             "line": {
              "color": "rgb(237,237,237)",
              "width": 0.5
             },
             "pattern": {
              "fillmode": "overlay",
              "size": 10,
              "solidity": 0.2
             }
            },
            "type": "bar"
           }
          ],
          "barpolar": [
           {
            "marker": {
             "line": {
              "color": "rgb(237,237,237)",
              "width": 0.5
             },
             "pattern": {
              "fillmode": "overlay",
              "size": 10,
              "solidity": 0.2
             }
            },
            "type": "barpolar"
           }
          ],
          "carpet": [
           {
            "aaxis": {
             "endlinecolor": "rgb(51,51,51)",
             "gridcolor": "white",
             "linecolor": "white",
             "minorgridcolor": "white",
             "startlinecolor": "rgb(51,51,51)"
            },
            "baxis": {
             "endlinecolor": "rgb(51,51,51)",
             "gridcolor": "white",
             "linecolor": "white",
             "minorgridcolor": "white",
             "startlinecolor": "rgb(51,51,51)"
            },
            "type": "carpet"
           }
          ],
          "choropleth": [
           {
            "colorbar": {
             "outlinewidth": 0,
             "tickcolor": "rgb(237,237,237)",
             "ticklen": 6,
             "ticks": "inside"
            },
            "type": "choropleth"
           }
          ],
          "contour": [
           {
            "colorbar": {
             "outlinewidth": 0,
             "tickcolor": "rgb(237,237,237)",
             "ticklen": 6,
             "ticks": "inside"
            },
            "colorscale": [
             [
              0,
              "rgb(20,44,66)"
             ],
             [
              1,
              "rgb(90,179,244)"
             ]
            ],
            "type": "contour"
           }
          ],
          "contourcarpet": [
           {
            "colorbar": {
             "outlinewidth": 0,
             "tickcolor": "rgb(237,237,237)",
             "ticklen": 6,
             "ticks": "inside"
            },
            "type": "contourcarpet"
           }
          ],
          "heatmap": [
           {
            "colorbar": {
             "outlinewidth": 0,
             "tickcolor": "rgb(237,237,237)",
             "ticklen": 6,
             "ticks": "inside"
            },
            "colorscale": [
             [
              0,
              "rgb(20,44,66)"
             ],
             [
              1,
              "rgb(90,179,244)"
             ]
            ],
            "type": "heatmap"
           }
          ],
          "histogram": [
           {
            "marker": {
             "pattern": {
              "fillmode": "overlay",
              "size": 10,
              "solidity": 0.2
             }
            },
            "type": "histogram"
           }
          ],
          "histogram2d": [
           {
            "colorbar": {
             "outlinewidth": 0,
             "tickcolor": "rgb(237,237,237)",
             "ticklen": 6,
             "ticks": "inside"
            },
            "colorscale": [
             [
              0,
              "rgb(20,44,66)"
             ],
             [
              1,
              "rgb(90,179,244)"
             ]
            ],
            "type": "histogram2d"
           }
          ],
          "histogram2dcontour": [
           {
            "colorbar": {
             "outlinewidth": 0,
             "tickcolor": "rgb(237,237,237)",
             "ticklen": 6,
             "ticks": "inside"
            },
            "colorscale": [
             [
              0,
              "rgb(20,44,66)"
             ],
             [
              1,
              "rgb(90,179,244)"
             ]
            ],
            "type": "histogram2dcontour"
           }
          ],
          "mesh3d": [
           {
            "colorbar": {
             "outlinewidth": 0,
             "tickcolor": "rgb(237,237,237)",
             "ticklen": 6,
             "ticks": "inside"
            },
            "type": "mesh3d"
           }
          ],
          "parcoords": [
           {
            "line": {
             "colorbar": {
              "outlinewidth": 0,
              "tickcolor": "rgb(237,237,237)",
              "ticklen": 6,
              "ticks": "inside"
             }
            },
            "type": "parcoords"
           }
          ],
          "pie": [
           {
            "automargin": true,
            "type": "pie"
           }
          ],
          "scatter": [
           {
            "fillpattern": {
             "fillmode": "overlay",
             "size": 10,
             "solidity": 0.2
            },
            "type": "scatter"
           }
          ],
          "scatter3d": [
           {
            "line": {
             "colorbar": {
              "outlinewidth": 0,
              "tickcolor": "rgb(237,237,237)",
              "ticklen": 6,
              "ticks": "inside"
             }
            },
            "marker": {
             "colorbar": {
              "outlinewidth": 0,
              "tickcolor": "rgb(237,237,237)",
              "ticklen": 6,
              "ticks": "inside"
             }
            },
            "type": "scatter3d"
           }
          ],
          "scattercarpet": [
           {
            "marker": {
             "colorbar": {
              "outlinewidth": 0,
              "tickcolor": "rgb(237,237,237)",
              "ticklen": 6,
              "ticks": "inside"
             }
            },
            "type": "scattercarpet"
           }
          ],
          "scattergeo": [
           {
            "marker": {
             "colorbar": {
              "outlinewidth": 0,
              "tickcolor": "rgb(237,237,237)",
              "ticklen": 6,
              "ticks": "inside"
             }
            },
            "type": "scattergeo"
           }
          ],
          "scattergl": [
           {
            "marker": {
             "colorbar": {
              "outlinewidth": 0,
              "tickcolor": "rgb(237,237,237)",
              "ticklen": 6,
              "ticks": "inside"
             }
            },
            "type": "scattergl"
           }
          ],
          "scattermap": [
           {
            "marker": {
             "colorbar": {
              "outlinewidth": 0,
              "tickcolor": "rgb(237,237,237)",
              "ticklen": 6,
              "ticks": "inside"
             }
            },
            "type": "scattermap"
           }
          ],
          "scattermapbox": [
           {
            "marker": {
             "colorbar": {
              "outlinewidth": 0,
              "tickcolor": "rgb(237,237,237)",
              "ticklen": 6,
              "ticks": "inside"
             }
            },
            "type": "scattermapbox"
           }
          ],
          "scatterpolar": [
           {
            "marker": {
             "colorbar": {
              "outlinewidth": 0,
              "tickcolor": "rgb(237,237,237)",
              "ticklen": 6,
              "ticks": "inside"
             }
            },
            "type": "scatterpolar"
           }
          ],
          "scatterpolargl": [
           {
            "marker": {
             "colorbar": {
              "outlinewidth": 0,
              "tickcolor": "rgb(237,237,237)",
              "ticklen": 6,
              "ticks": "inside"
             }
            },
            "type": "scatterpolargl"
           }
          ],
          "scatterternary": [
           {
            "marker": {
             "colorbar": {
              "outlinewidth": 0,
              "tickcolor": "rgb(237,237,237)",
              "ticklen": 6,
              "ticks": "inside"
             }
            },
            "type": "scatterternary"
           }
          ],
          "surface": [
           {
            "colorbar": {
             "outlinewidth": 0,
             "tickcolor": "rgb(237,237,237)",
             "ticklen": 6,
             "ticks": "inside"
            },
            "colorscale": [
             [
              0,
              "rgb(20,44,66)"
             ],
             [
              1,
              "rgb(90,179,244)"
             ]
            ],
            "type": "surface"
           }
          ],
          "table": [
           {
            "cells": {
             "fill": {
              "color": "rgb(237,237,237)"
             },
             "line": {
              "color": "white"
             }
            },
            "header": {
             "fill": {
              "color": "rgb(217,217,217)"
             },
             "line": {
              "color": "white"
             }
            },
            "type": "table"
           }
          ]
         },
         "layout": {
          "annotationdefaults": {
           "arrowhead": 0,
           "arrowwidth": 1
          },
          "autotypenumbers": "strict",
          "coloraxis": {
           "colorbar": {
            "outlinewidth": 0,
            "tickcolor": "rgb(237,237,237)",
            "ticklen": 6,
            "ticks": "inside"
           }
          },
          "colorscale": {
           "sequential": [
            [
             0,
             "rgb(20,44,66)"
            ],
            [
             1,
             "rgb(90,179,244)"
            ]
           ],
           "sequentialminus": [
            [
             0,
             "rgb(20,44,66)"
            ],
            [
             1,
             "rgb(90,179,244)"
            ]
           ]
          },
          "colorway": [
           "#F8766D",
           "#A3A500",
           "#00BF7D",
           "#00B0F6",
           "#E76BF3"
          ],
          "font": {
           "color": "rgb(51,51,51)"
          },
          "geo": {
           "bgcolor": "white",
           "lakecolor": "white",
           "landcolor": "rgb(237,237,237)",
           "showlakes": true,
           "showland": true,
           "subunitcolor": "white"
          },
          "hoverlabel": {
           "align": "left"
          },
          "hovermode": "closest",
          "paper_bgcolor": "white",
          "plot_bgcolor": "rgb(237,237,237)",
          "polar": {
           "angularaxis": {
            "gridcolor": "white",
            "linecolor": "white",
            "showgrid": true,
            "tickcolor": "rgb(51,51,51)",
            "ticks": "outside"
           },
           "bgcolor": "rgb(237,237,237)",
           "radialaxis": {
            "gridcolor": "white",
            "linecolor": "white",
            "showgrid": true,
            "tickcolor": "rgb(51,51,51)",
            "ticks": "outside"
           }
          },
          "scene": {
           "xaxis": {
            "backgroundcolor": "rgb(237,237,237)",
            "gridcolor": "white",
            "gridwidth": 2,
            "linecolor": "white",
            "showbackground": true,
            "showgrid": true,
            "tickcolor": "rgb(51,51,51)",
            "ticks": "outside",
            "zerolinecolor": "white"
           },
           "yaxis": {
            "backgroundcolor": "rgb(237,237,237)",
            "gridcolor": "white",
            "gridwidth": 2,
            "linecolor": "white",
            "showbackground": true,
            "showgrid": true,
            "tickcolor": "rgb(51,51,51)",
            "ticks": "outside",
            "zerolinecolor": "white"
           },
           "zaxis": {
            "backgroundcolor": "rgb(237,237,237)",
            "gridcolor": "white",
            "gridwidth": 2,
            "linecolor": "white",
            "showbackground": true,
            "showgrid": true,
            "tickcolor": "rgb(51,51,51)",
            "ticks": "outside",
            "zerolinecolor": "white"
           }
          },
          "shapedefaults": {
           "fillcolor": "black",
           "line": {
            "width": 0
           },
           "opacity": 0.3
          },
          "ternary": {
           "aaxis": {
            "gridcolor": "white",
            "linecolor": "white",
            "showgrid": true,
            "tickcolor": "rgb(51,51,51)",
            "ticks": "outside"
           },
           "baxis": {
            "gridcolor": "white",
            "linecolor": "white",
            "showgrid": true,
            "tickcolor": "rgb(51,51,51)",
            "ticks": "outside"
           },
           "bgcolor": "rgb(237,237,237)",
           "caxis": {
            "gridcolor": "white",
            "linecolor": "white",
            "showgrid": true,
            "tickcolor": "rgb(51,51,51)",
            "ticks": "outside"
           }
          },
          "xaxis": {
           "automargin": true,
           "gridcolor": "white",
           "linecolor": "white",
           "showgrid": true,
           "tickcolor": "rgb(51,51,51)",
           "ticks": "outside",
           "title": {
            "standoff": 15
           },
           "zerolinecolor": "white"
          },
          "yaxis": {
           "automargin": true,
           "gridcolor": "white",
           "linecolor": "white",
           "showgrid": true,
           "tickcolor": "rgb(51,51,51)",
           "ticks": "outside",
           "title": {
            "standoff": 15
           },
           "zerolinecolor": "white"
          }
         }
        },
        "title": {
         "text": "Actual vs. Forecast (Out-of-Sample)"
        },
        "xaxis": {
         "anchor": "y",
         "domain": [
          0,
          1
         ]
        },
        "yaxis": {
         "anchor": "x",
         "domain": [
          0,
          1
         ]
        }
       }
      }
     },
     "metadata": {},
     "output_type": "display_data"
    }
   ],
   "source": [
    "plot_model(final_exp, plot='forecast')"
   ]
  },
  {
   "cell_type": "markdown",
   "id": "144bcdb9",
   "metadata": {},
   "source": [
    "BTC-USD ARIMA Model"
   ]
  },
  {
   "cell_type": "code",
   "execution_count": null,
   "id": "8cb482c9",
   "metadata": {},
   "outputs": [
    {
     "data": {
      "text/html": [],
      "text/plain": [
       "<IPython.core.display.HTML object>"
      ]
     },
     "metadata": {},
     "output_type": "display_data"
    },
    {
     "data": {
      "text/html": [
       "<style type=\"text/css\">\n",
       "#T_430a6_row3_col0, #T_430a6_row3_col1, #T_430a6_row3_col2, #T_430a6_row3_col3, #T_430a6_row3_col4, #T_430a6_row3_col5, #T_430a6_row3_col6, #T_430a6_row3_col7 {\n",
       "  background: yellow;\n",
       "}\n",
       "</style>\n",
       "<table id=\"T_430a6\">\n",
       "  <thead>\n",
       "    <tr>\n",
       "      <th class=\"blank level0\" >&nbsp;</th>\n",
       "      <th id=\"T_430a6_level0_col0\" class=\"col_heading level0 col0\" >cutoff</th>\n",
       "      <th id=\"T_430a6_level0_col1\" class=\"col_heading level0 col1\" >MASE</th>\n",
       "      <th id=\"T_430a6_level0_col2\" class=\"col_heading level0 col2\" >RMSSE</th>\n",
       "      <th id=\"T_430a6_level0_col3\" class=\"col_heading level0 col3\" >MAE</th>\n",
       "      <th id=\"T_430a6_level0_col4\" class=\"col_heading level0 col4\" >RMSE</th>\n",
       "      <th id=\"T_430a6_level0_col5\" class=\"col_heading level0 col5\" >MAPE</th>\n",
       "      <th id=\"T_430a6_level0_col6\" class=\"col_heading level0 col6\" >SMAPE</th>\n",
       "      <th id=\"T_430a6_level0_col7\" class=\"col_heading level0 col7\" >R2</th>\n",
       "    </tr>\n",
       "  </thead>\n",
       "  <tbody>\n",
       "    <tr>\n",
       "      <th id=\"T_430a6_level0_row0\" class=\"row_heading level0 row0\" >0</th>\n",
       "      <td id=\"T_430a6_row0_col0\" class=\"data row0 col0\" >2024-12-09</td>\n",
       "      <td id=\"T_430a6_row0_col1\" class=\"data row0 col1\" >1.3333</td>\n",
       "      <td id=\"T_430a6_row0_col2\" class=\"data row0 col2\" >1.1959</td>\n",
       "      <td id=\"T_430a6_row0_col3\" class=\"data row0 col3\" >4806.9143</td>\n",
       "      <td id=\"T_430a6_row0_col4\" class=\"data row0 col4\" >5762.3896</td>\n",
       "      <td id=\"T_430a6_row0_col5\" class=\"data row0 col5\" >0.0496</td>\n",
       "      <td id=\"T_430a6_row0_col6\" class=\"data row0 col6\" >0.0483</td>\n",
       "      <td id=\"T_430a6_row0_col7\" class=\"data row0 col7\" >-1.6626</td>\n",
       "    </tr>\n",
       "    <tr>\n",
       "      <th id=\"T_430a6_level0_row1\" class=\"row_heading level0 row1\" >1</th>\n",
       "      <td id=\"T_430a6_row1_col0\" class=\"data row1 col0\" >2025-01-08</td>\n",
       "      <td id=\"T_430a6_row1_col1\" class=\"data row1 col1\" >1.0532</td>\n",
       "      <td id=\"T_430a6_row1_col2\" class=\"data row1 col2\" >0.8966</td>\n",
       "      <td id=\"T_430a6_row1_col3\" class=\"data row1 col3\" >3837.7182</td>\n",
       "      <td id=\"T_430a6_row1_col4\" class=\"data row1 col4\" >4332.6144</td>\n",
       "      <td id=\"T_430a6_row1_col5\" class=\"data row1 col5\" >0.0383</td>\n",
       "      <td id=\"T_430a6_row1_col6\" class=\"data row1 col6\" >0.0384</td>\n",
       "      <td id=\"T_430a6_row1_col7\" class=\"data row1 col7\" >-0.2665</td>\n",
       "    </tr>\n",
       "    <tr>\n",
       "      <th id=\"T_430a6_level0_row2\" class=\"row_heading level0 row2\" >2</th>\n",
       "      <td id=\"T_430a6_row2_col0\" class=\"data row2 col0\" >2025-02-07</td>\n",
       "      <td id=\"T_430a6_row2_col1\" class=\"data row2 col1\" >1.3397</td>\n",
       "      <td id=\"T_430a6_row2_col2\" class=\"data row2 col2\" >1.3018</td>\n",
       "      <td id=\"T_430a6_row2_col3\" class=\"data row2 col3\" >4980.6148</td>\n",
       "      <td id=\"T_430a6_row2_col4\" class=\"data row2 col4\" >6356.8002</td>\n",
       "      <td id=\"T_430a6_row2_col5\" class=\"data row2 col5\" >0.0566</td>\n",
       "      <td id=\"T_430a6_row2_col6\" class=\"data row2 col6\" >0.0543</td>\n",
       "      <td id=\"T_430a6_row2_col7\" class=\"data row2 col7\" >-0.4456</td>\n",
       "    </tr>\n",
       "    <tr>\n",
       "      <th id=\"T_430a6_level0_row3\" class=\"row_heading level0 row3\" >Mean</th>\n",
       "      <td id=\"T_430a6_row3_col0\" class=\"data row3 col0\" >NaT</td>\n",
       "      <td id=\"T_430a6_row3_col1\" class=\"data row3 col1\" >1.2421</td>\n",
       "      <td id=\"T_430a6_row3_col2\" class=\"data row3 col2\" >1.1314</td>\n",
       "      <td id=\"T_430a6_row3_col3\" class=\"data row3 col3\" >4541.7491</td>\n",
       "      <td id=\"T_430a6_row3_col4\" class=\"data row3 col4\" >5483.9347</td>\n",
       "      <td id=\"T_430a6_row3_col5\" class=\"data row3 col5\" >0.0482</td>\n",
       "      <td id=\"T_430a6_row3_col6\" class=\"data row3 col6\" >0.0470</td>\n",
       "      <td id=\"T_430a6_row3_col7\" class=\"data row3 col7\" >-0.7916</td>\n",
       "    </tr>\n",
       "    <tr>\n",
       "      <th id=\"T_430a6_level0_row4\" class=\"row_heading level0 row4\" >SD</th>\n",
       "      <td id=\"T_430a6_row4_col0\" class=\"data row4 col0\" >NaT</td>\n",
       "      <td id=\"T_430a6_row4_col1\" class=\"data row4 col1\" >0.1336</td>\n",
       "      <td id=\"T_430a6_row4_col2\" class=\"data row4 col2\" >0.1716</td>\n",
       "      <td id=\"T_430a6_row4_col3\" class=\"data row4 col3\" >502.8503</td>\n",
       "      <td id=\"T_430a6_row4_col4\" class=\"data row4 col4\" >849.5037</td>\n",
       "      <td id=\"T_430a6_row4_col5\" class=\"data row4 col5\" >0.0075</td>\n",
       "      <td id=\"T_430a6_row4_col6\" class=\"data row4 col6\" >0.0065</td>\n",
       "      <td id=\"T_430a6_row4_col7\" class=\"data row4 col7\" >0.6203</td>\n",
       "    </tr>\n",
       "  </tbody>\n",
       "</table>\n"
      ],
      "text/plain": [
       "<pandas.io.formats.style.Styler at 0x198741e9df0>"
      ]
     },
     "metadata": {},
     "output_type": "display_data"
    },
    {
     "data": {
      "text/html": [],
      "text/plain": [
       "<IPython.core.display.HTML object>"
      ]
     },
     "metadata": {},
     "output_type": "display_data"
    }
   ],
   "source": [
    "arima = create_model('arima')"
   ]
  },
  {
   "cell_type": "code",
   "execution_count": null,
   "id": "bc6232f4",
   "metadata": {},
   "outputs": [
    {
     "data": {
      "text/html": [],
      "text/plain": [
       "<IPython.core.display.HTML object>"
      ]
     },
     "metadata": {},
     "output_type": "display_data"
    },
    {
     "data": {
      "text/html": [
       "<style type=\"text/css\">\n",
       "#T_10ec8_row3_col0, #T_10ec8_row3_col1, #T_10ec8_row3_col2, #T_10ec8_row3_col3, #T_10ec8_row3_col4, #T_10ec8_row3_col5, #T_10ec8_row3_col6, #T_10ec8_row3_col7 {\n",
       "  background: yellow;\n",
       "}\n",
       "</style>\n",
       "<table id=\"T_10ec8\">\n",
       "  <thead>\n",
       "    <tr>\n",
       "      <th class=\"blank level0\" >&nbsp;</th>\n",
       "      <th id=\"T_10ec8_level0_col0\" class=\"col_heading level0 col0\" >cutoff</th>\n",
       "      <th id=\"T_10ec8_level0_col1\" class=\"col_heading level0 col1\" >MASE</th>\n",
       "      <th id=\"T_10ec8_level0_col2\" class=\"col_heading level0 col2\" >RMSSE</th>\n",
       "      <th id=\"T_10ec8_level0_col3\" class=\"col_heading level0 col3\" >MAE</th>\n",
       "      <th id=\"T_10ec8_level0_col4\" class=\"col_heading level0 col4\" >RMSE</th>\n",
       "      <th id=\"T_10ec8_level0_col5\" class=\"col_heading level0 col5\" >MAPE</th>\n",
       "      <th id=\"T_10ec8_level0_col6\" class=\"col_heading level0 col6\" >SMAPE</th>\n",
       "      <th id=\"T_10ec8_level0_col7\" class=\"col_heading level0 col7\" >R2</th>\n",
       "    </tr>\n",
       "  </thead>\n",
       "  <tbody>\n",
       "    <tr>\n",
       "      <th id=\"T_10ec8_level0_row0\" class=\"row_heading level0 row0\" >0</th>\n",
       "      <td id=\"T_10ec8_row0_col0\" class=\"data row0 col0\" >2024-12-09</td>\n",
       "      <td id=\"T_10ec8_row0_col1\" class=\"data row0 col1\" >0.7755</td>\n",
       "      <td id=\"T_10ec8_row0_col2\" class=\"data row0 col2\" >0.7433</td>\n",
       "      <td id=\"T_10ec8_row0_col3\" class=\"data row0 col3\" >2795.7505</td>\n",
       "      <td id=\"T_10ec8_row0_col4\" class=\"data row0 col4\" >3581.4082</td>\n",
       "      <td id=\"T_10ec8_row0_col5\" class=\"data row0 col5\" >0.0281</td>\n",
       "      <td id=\"T_10ec8_row0_col6\" class=\"data row0 col6\" >0.0284</td>\n",
       "      <td id=\"T_10ec8_row0_col7\" class=\"data row0 col7\" >-0.0285</td>\n",
       "    </tr>\n",
       "    <tr>\n",
       "      <th id=\"T_10ec8_level0_row1\" class=\"row_heading level0 row1\" >1</th>\n",
       "      <td id=\"T_10ec8_row1_col0\" class=\"data row1 col0\" >2025-01-08</td>\n",
       "      <td id=\"T_10ec8_row1_col1\" class=\"data row1 col1\" >1.5058</td>\n",
       "      <td id=\"T_10ec8_row1_col2\" class=\"data row1 col2\" >1.3368</td>\n",
       "      <td id=\"T_10ec8_row1_col3\" class=\"data row1 col3\" >5486.6403</td>\n",
       "      <td id=\"T_10ec8_row1_col4\" class=\"data row1 col4\" >6459.5071</td>\n",
       "      <td id=\"T_10ec8_row1_col5\" class=\"data row1 col5\" >0.0535</td>\n",
       "      <td id=\"T_10ec8_row1_col6\" class=\"data row1 col6\" >0.0555</td>\n",
       "      <td id=\"T_10ec8_row1_col7\" class=\"data row1 col7\" >-1.8151</td>\n",
       "    </tr>\n",
       "    <tr>\n",
       "      <th id=\"T_10ec8_level0_row2\" class=\"row_heading level0 row2\" >2</th>\n",
       "      <td id=\"T_10ec8_row2_col0\" class=\"data row2 col0\" >2025-02-07</td>\n",
       "      <td id=\"T_10ec8_row2_col1\" class=\"data row2 col1\" >1.2567</td>\n",
       "      <td id=\"T_10ec8_row2_col2\" class=\"data row2 col2\" >1.3890</td>\n",
       "      <td id=\"T_10ec8_row2_col3\" class=\"data row2 col3\" >4671.8353</td>\n",
       "      <td id=\"T_10ec8_row2_col4\" class=\"data row2 col4\" >6782.8181</td>\n",
       "      <td id=\"T_10ec8_row2_col5\" class=\"data row2 col5\" >0.0539</td>\n",
       "      <td id=\"T_10ec8_row2_col6\" class=\"data row2 col6\" >0.0510</td>\n",
       "      <td id=\"T_10ec8_row2_col7\" class=\"data row2 col7\" >-0.6458</td>\n",
       "    </tr>\n",
       "    <tr>\n",
       "      <th id=\"T_10ec8_level0_row3\" class=\"row_heading level0 row3\" >Mean</th>\n",
       "      <td id=\"T_10ec8_row3_col0\" class=\"data row3 col0\" >NaT</td>\n",
       "      <td id=\"T_10ec8_row3_col1\" class=\"data row3 col1\" >1.1793</td>\n",
       "      <td id=\"T_10ec8_row3_col2\" class=\"data row3 col2\" >1.1564</td>\n",
       "      <td id=\"T_10ec8_row3_col3\" class=\"data row3 col3\" >4318.0754</td>\n",
       "      <td id=\"T_10ec8_row3_col4\" class=\"data row3 col4\" >5607.9111</td>\n",
       "      <td id=\"T_10ec8_row3_col5\" class=\"data row3 col5\" >0.0452</td>\n",
       "      <td id=\"T_10ec8_row3_col6\" class=\"data row3 col6\" >0.0450</td>\n",
       "      <td id=\"T_10ec8_row3_col7\" class=\"data row3 col7\" >-0.8298</td>\n",
       "    </tr>\n",
       "    <tr>\n",
       "      <th id=\"T_10ec8_level0_row4\" class=\"row_heading level0 row4\" >SD</th>\n",
       "      <td id=\"T_10ec8_row4_col0\" class=\"data row4 col0\" >NaT</td>\n",
       "      <td id=\"T_10ec8_row4_col1\" class=\"data row4 col1\" >0.3031</td>\n",
       "      <td id=\"T_10ec8_row4_col2\" class=\"data row4 col2\" >0.2929</td>\n",
       "      <td id=\"T_10ec8_row4_col3\" class=\"data row4 col3\" >1126.6711</td>\n",
       "      <td id=\"T_10ec8_row4_col4\" class=\"data row4 col4\" >1439.0200</td>\n",
       "      <td id=\"T_10ec8_row4_col5\" class=\"data row4 col5\" >0.0121</td>\n",
       "      <td id=\"T_10ec8_row4_col6\" class=\"data row4 col6\" >0.0119</td>\n",
       "      <td id=\"T_10ec8_row4_col7\" class=\"data row4 col7\" >0.7409</td>\n",
       "    </tr>\n",
       "  </tbody>\n",
       "</table>\n"
      ],
      "text/plain": [
       "<pandas.io.formats.style.Styler at 0x198025afd30>"
      ]
     },
     "metadata": {},
     "output_type": "display_data"
    },
    {
     "data": {
      "text/html": [],
      "text/plain": [
       "<IPython.core.display.HTML object>"
      ]
     },
     "metadata": {},
     "output_type": "display_data"
    },
    {
     "name": "stdout",
     "output_type": "stream",
     "text": [
      "Fitting 3 folds for each of 10 candidates, totalling 30 fits\n"
     ]
    },
    {
     "name": "stderr",
     "output_type": "stream",
     "text": [
      "[Parallel(n_jobs=-1)]: Using backend LokyBackend with 8 concurrent workers.\n",
      "[Parallel(n_jobs=-1)]: Done  30 out of  30 | elapsed:   19.2s finished\n"
     ]
    }
   ],
   "source": [
    "tuned_arima = tune_model(arima)"
   ]
  },
  {
   "cell_type": "code",
   "execution_count": null,
   "id": "e00f67dd",
   "metadata": {},
   "outputs": [],
   "source": [
    "final_arima = finalize_model(tuned_arima)\n",
    "#future_dates = pd.date_range(df.index[-1], periods=30, freq='D')\n",
    "arima_predictions = predict_model(final_arima)"
   ]
  },
  {
   "cell_type": "code",
   "execution_count": null,
   "id": "295e488c",
   "metadata": {},
   "outputs": [
    {
     "data": {
      "application/vnd.plotly.v1+json": {
       "config": {
        "plotlyServerURL": "https://plot.ly"
       },
       "data": [
        {
         "line": {
          "color": "#1f77b4"
         },
         "marker": {
          "size": 5
         },
         "mode": "lines+markers",
         "name": "Forecast | ARIMA",
         "showlegend": true,
         "type": "scatter",
         "x": [
          "2025-04-09T00:00:00",
          "2025-04-10T00:00:00",
          "2025-04-11T00:00:00",
          "2025-04-12T00:00:00",
          "2025-04-13T00:00:00",
          "2025-04-14T00:00:00",
          "2025-04-15T00:00:00",
          "2025-04-16T00:00:00",
          "2025-04-17T00:00:00",
          "2025-04-18T00:00:00",
          "2025-04-19T00:00:00",
          "2025-04-20T00:00:00",
          "2025-04-21T00:00:00",
          "2025-04-22T00:00:00",
          "2025-04-23T00:00:00",
          "2025-04-24T00:00:00",
          "2025-04-25T00:00:00",
          "2025-04-26T00:00:00",
          "2025-04-27T00:00:00",
          "2025-04-28T00:00:00",
          "2025-04-29T00:00:00",
          "2025-04-30T00:00:00",
          "2025-05-01T00:00:00",
          "2025-05-02T00:00:00",
          "2025-05-03T00:00:00",
          "2025-05-04T00:00:00",
          "2025-05-05T00:00:00",
          "2025-05-06T00:00:00",
          "2025-05-07T00:00:00",
          "2025-05-08T00:00:00"
         ],
         "y": {
          "bdata": "rK3YX11280AyVTAqbnbzQPJBz2ZtdvNA8x/Sb21280BnRGlvbXbzQGdEaW9tdvNAZ0Rpb21280BnRGlvbXbzQGdEaW9tdvNAZ0Rpb21280BnRGlvbXbzQGdEaW9tdvNAZ0Rpb21280BnRGlvbXbzQGdEaW9tdvNAZ0Rpb21280BnRGlvbXbzQGdEaW9tdvNAZ0Rpb21280BnRGlvbXbzQGdEaW9tdvNAZ0Rpb21280BnRGlvbXbzQGdEaW9tdvNAZ0Rpb21280BnRGlvbXbzQGdEaW9tdvNAZ0Rpb21280BnRGlvbXbzQGdEaW9tdvNA",
          "dtype": "f8"
         }
        },
        {
         "line": {
          "width": 0
         },
         "marker": {
          "color": "#68BBE3"
         },
         "mode": "lines",
         "name": "Lower Interval",
         "showlegend": false,
         "type": "scatter",
         "x": [
          "2025-04-09T00:00:00",
          "2025-04-10T00:00:00",
          "2025-04-11T00:00:00",
          "2025-04-12T00:00:00",
          "2025-04-13T00:00:00",
          "2025-04-14T00:00:00",
          "2025-04-15T00:00:00",
          "2025-04-16T00:00:00",
          "2025-04-17T00:00:00",
          "2025-04-18T00:00:00",
          "2025-04-19T00:00:00",
          "2025-04-20T00:00:00",
          "2025-04-21T00:00:00",
          "2025-04-22T00:00:00",
          "2025-04-23T00:00:00",
          "2025-04-24T00:00:00",
          "2025-04-25T00:00:00",
          "2025-04-26T00:00:00",
          "2025-04-27T00:00:00",
          "2025-04-28T00:00:00",
          "2025-04-29T00:00:00",
          "2025-04-30T00:00:00",
          "2025-05-01T00:00:00",
          "2025-05-02T00:00:00",
          "2025-05-03T00:00:00",
          "2025-05-04T00:00:00",
          "2025-05-05T00:00:00",
          "2025-05-06T00:00:00",
          "2025-05-07T00:00:00",
          "2025-05-08T00:00:00"
         ],
         "y": {
          "bdata": "4umVsiei8kA51sVteVPyQOSDns3fFvJARIts5yXk8UDPZtXnyrfxQLN78rD9j/FA1lbsL6dr8UDEQq1pEErxQPmgZ7O5KvFA5BQdyUUN8UBfmEwVbvHwQPhT46X71vBA4lgXt8K98EBvEoPAn6XwQFD8GHN1jvBAqoJRSSt48ECYbhKDrGLwQJT2Bl/nTfBA9bnaisw58ECcxCCwTibwQEi/fR1iE/BAaQBvgfwA8EDbiv1lKd7vQNPe4AtFu+9Akst/SD2Z70Ch+DHmBHjvQC2yne+PV+9Ax0s3idM370BwXwfOxRjvQBDpt69d+u5A",
          "dtype": "f8"
         }
        },
        {
         "fill": "tonexty",
         "fillcolor": "rgba(104,187,227,0.5)",
         "line": {
          "width": 0
         },
         "marker": {
          "color": "#68BBE3"
         },
         "mode": "lines",
         "name": "Prediction Interval | ARIMA",
         "showlegend": true,
         "type": "scatter",
         "x": [
          "2025-04-09T00:00:00",
          "2025-04-10T00:00:00",
          "2025-04-11T00:00:00",
          "2025-04-12T00:00:00",
          "2025-04-13T00:00:00",
          "2025-04-14T00:00:00",
          "2025-04-15T00:00:00",
          "2025-04-16T00:00:00",
          "2025-04-17T00:00:00",
          "2025-04-18T00:00:00",
          "2025-04-19T00:00:00",
          "2025-04-20T00:00:00",
          "2025-04-21T00:00:00",
          "2025-04-22T00:00:00",
          "2025-04-23T00:00:00",
          "2025-04-24T00:00:00",
          "2025-04-25T00:00:00",
          "2025-04-26T00:00:00",
          "2025-04-27T00:00:00",
          "2025-04-28T00:00:00",
          "2025-04-29T00:00:00",
          "2025-04-30T00:00:00",
          "2025-05-01T00:00:00",
          "2025-05-02T00:00:00",
          "2025-05-03T00:00:00",
          "2025-05-04T00:00:00",
          "2025-05-05T00:00:00",
          "2025-05-06T00:00:00",
          "2025-05-07T00:00:00",
          "2025-05-08T00:00:00"
         ],
         "y": {
          "bdata": "WYY41gNU9EB7gy9Mbqv0QO2ePCyr8PRAGsBbIAos9UC1N/jCCmH1QNcS8kF+kfVAbVZ9rnu+9UDpt68Duuj1QFuxv+y4EPZAysNCrdU29kBxrIvbVlv2QKyL22hzfvZAXwfOGVeg9kAi/fZ1JcH2QFioNc374PZAyeU/pPL/9kBuowG8Hh73QELPZtWRO/dAeqUsQ1tY90CrPldbiHT3QJ/Nqs8kkPdAXCBB8Tqr90By+Q/p08X3QHKKjuT33/dAv30dOK7590CutmJ//RL4QCgPC7XrK/hAZF3cRn5E+EDsL7snulz4QLfRAN6jdPhA",
          "dtype": "f8"
         }
        },
        {
         "marker": {
          "color": "#3f3f3f",
          "size": 5
         },
         "mode": "lines+markers",
         "name": "Original",
         "showlegend": true,
         "type": "scatter",
         "x": [
          "2024-04-09T00:00:00",
          "2024-04-10T00:00:00",
          "2024-04-11T00:00:00",
          "2024-04-12T00:00:00",
          "2024-04-13T00:00:00",
          "2024-04-14T00:00:00",
          "2024-04-15T00:00:00",
          "2024-04-16T00:00:00",
          "2024-04-17T00:00:00",
          "2024-04-18T00:00:00",
          "2024-04-19T00:00:00",
          "2024-04-20T00:00:00",
          "2024-04-21T00:00:00",
          "2024-04-22T00:00:00",
          "2024-04-23T00:00:00",
          "2024-04-24T00:00:00",
          "2024-04-25T00:00:00",
          "2024-04-26T00:00:00",
          "2024-04-27T00:00:00",
          "2024-04-28T00:00:00",
          "2024-04-29T00:00:00",
          "2024-04-30T00:00:00",
          "2024-05-01T00:00:00",
          "2024-05-02T00:00:00",
          "2024-05-03T00:00:00",
          "2024-05-04T00:00:00",
          "2024-05-05T00:00:00",
          "2024-05-06T00:00:00",
          "2024-05-07T00:00:00",
          "2024-05-08T00:00:00",
          "2024-05-09T00:00:00",
          "2024-05-10T00:00:00",
          "2024-05-11T00:00:00",
          "2024-05-12T00:00:00",
          "2024-05-13T00:00:00",
          "2024-05-14T00:00:00",
          "2024-05-15T00:00:00",
          "2024-05-16T00:00:00",
          "2024-05-17T00:00:00",
          "2024-05-18T00:00:00",
          "2024-05-19T00:00:00",
          "2024-05-20T00:00:00",
          "2024-05-21T00:00:00",
          "2024-05-22T00:00:00",
          "2024-05-23T00:00:00",
          "2024-05-24T00:00:00",
          "2024-05-25T00:00:00",
          "2024-05-26T00:00:00",
          "2024-05-27T00:00:00",
          "2024-05-28T00:00:00",
          "2024-05-29T00:00:00",
          "2024-05-30T00:00:00",
          "2024-05-31T00:00:00",
          "2024-06-01T00:00:00",
          "2024-06-02T00:00:00",
          "2024-06-03T00:00:00",
          "2024-06-04T00:00:00",
          "2024-06-05T00:00:00",
          "2024-06-06T00:00:00",
          "2024-06-07T00:00:00",
          "2024-06-08T00:00:00",
          "2024-06-09T00:00:00",
          "2024-06-10T00:00:00",
          "2024-06-11T00:00:00",
          "2024-06-12T00:00:00",
          "2024-06-13T00:00:00",
          "2024-06-14T00:00:00",
          "2024-06-15T00:00:00",
          "2024-06-16T00:00:00",
          "2024-06-17T00:00:00",
          "2024-06-18T00:00:00",
          "2024-06-19T00:00:00",
          "2024-06-20T00:00:00",
          "2024-06-21T00:00:00",
          "2024-06-22T00:00:00",
          "2024-06-23T00:00:00",
          "2024-06-24T00:00:00",
          "2024-06-25T00:00:00",
          "2024-06-26T00:00:00",
          "2024-06-27T00:00:00",
          "2024-06-28T00:00:00",
          "2024-06-29T00:00:00",
          "2024-06-30T00:00:00",
          "2024-07-01T00:00:00",
          "2024-07-02T00:00:00",
          "2024-07-03T00:00:00",
          "2024-07-04T00:00:00",
          "2024-07-05T00:00:00",
          "2024-07-06T00:00:00",
          "2024-07-07T00:00:00",
          "2024-07-08T00:00:00",
          "2024-07-09T00:00:00",
          "2024-07-10T00:00:00",
          "2024-07-11T00:00:00",
          "2024-07-12T00:00:00",
          "2024-07-13T00:00:00",
          "2024-07-14T00:00:00",
          "2024-07-15T00:00:00",
          "2024-07-16T00:00:00",
          "2024-07-17T00:00:00",
          "2024-07-18T00:00:00",
          "2024-07-19T00:00:00",
          "2024-07-20T00:00:00",
          "2024-07-21T00:00:00",
          "2024-07-22T00:00:00",
          "2024-07-23T00:00:00",
          "2024-07-24T00:00:00",
          "2024-07-25T00:00:00",
          "2024-07-26T00:00:00",
          "2024-07-27T00:00:00",
          "2024-07-28T00:00:00",
          "2024-07-29T00:00:00",
          "2024-07-30T00:00:00",
          "2024-07-31T00:00:00",
          "2024-08-01T00:00:00",
          "2024-08-02T00:00:00",
          "2024-08-03T00:00:00",
          "2024-08-04T00:00:00",
          "2024-08-05T00:00:00",
          "2024-08-06T00:00:00",
          "2024-08-07T00:00:00",
          "2024-08-08T00:00:00",
          "2024-08-09T00:00:00",
          "2024-08-10T00:00:00",
          "2024-08-11T00:00:00",
          "2024-08-12T00:00:00",
          "2024-08-13T00:00:00",
          "2024-08-14T00:00:00",
          "2024-08-15T00:00:00",
          "2024-08-16T00:00:00",
          "2024-08-17T00:00:00",
          "2024-08-18T00:00:00",
          "2024-08-19T00:00:00",
          "2024-08-20T00:00:00",
          "2024-08-21T00:00:00",
          "2024-08-22T00:00:00",
          "2024-08-23T00:00:00",
          "2024-08-24T00:00:00",
          "2024-08-25T00:00:00",
          "2024-08-26T00:00:00",
          "2024-08-27T00:00:00",
          "2024-08-28T00:00:00",
          "2024-08-29T00:00:00",
          "2024-08-30T00:00:00",
          "2024-08-31T00:00:00",
          "2024-09-01T00:00:00",
          "2024-09-02T00:00:00",
          "2024-09-03T00:00:00",
          "2024-09-04T00:00:00",
          "2024-09-05T00:00:00",
          "2024-09-06T00:00:00",
          "2024-09-07T00:00:00",
          "2024-09-08T00:00:00",
          "2024-09-09T00:00:00",
          "2024-09-10T00:00:00",
          "2024-09-11T00:00:00",
          "2024-09-12T00:00:00",
          "2024-09-13T00:00:00",
          "2024-09-14T00:00:00",
          "2024-09-15T00:00:00",
          "2024-09-16T00:00:00",
          "2024-09-17T00:00:00",
          "2024-09-18T00:00:00",
          "2024-09-19T00:00:00",
          "2024-09-20T00:00:00",
          "2024-09-21T00:00:00",
          "2024-09-22T00:00:00",
          "2024-09-23T00:00:00",
          "2024-09-24T00:00:00",
          "2024-09-25T00:00:00",
          "2024-09-26T00:00:00",
          "2024-09-27T00:00:00",
          "2024-09-28T00:00:00",
          "2024-09-29T00:00:00",
          "2024-09-30T00:00:00",
          "2024-10-01T00:00:00",
          "2024-10-02T00:00:00",
          "2024-10-03T00:00:00",
          "2024-10-04T00:00:00",
          "2024-10-05T00:00:00",
          "2024-10-06T00:00:00",
          "2024-10-07T00:00:00",
          "2024-10-08T00:00:00",
          "2024-10-09T00:00:00",
          "2024-10-10T00:00:00",
          "2024-10-11T00:00:00",
          "2024-10-12T00:00:00",
          "2024-10-13T00:00:00",
          "2024-10-14T00:00:00",
          "2024-10-15T00:00:00",
          "2024-10-16T00:00:00",
          "2024-10-17T00:00:00",
          "2024-10-18T00:00:00",
          "2024-10-19T00:00:00",
          "2024-10-20T00:00:00",
          "2024-10-21T00:00:00",
          "2024-10-22T00:00:00",
          "2024-10-23T00:00:00",
          "2024-10-24T00:00:00",
          "2024-10-25T00:00:00",
          "2024-10-26T00:00:00",
          "2024-10-27T00:00:00",
          "2024-10-28T00:00:00",
          "2024-10-29T00:00:00",
          "2024-10-30T00:00:00",
          "2024-10-31T00:00:00",
          "2024-11-01T00:00:00",
          "2024-11-02T00:00:00",
          "2024-11-03T00:00:00",
          "2024-11-04T00:00:00",
          "2024-11-05T00:00:00",
          "2024-11-06T00:00:00",
          "2024-11-07T00:00:00",
          "2024-11-08T00:00:00",
          "2024-11-09T00:00:00",
          "2024-11-10T00:00:00",
          "2024-11-11T00:00:00",
          "2024-11-12T00:00:00",
          "2024-11-13T00:00:00",
          "2024-11-14T00:00:00",
          "2024-11-15T00:00:00",
          "2024-11-16T00:00:00",
          "2024-11-17T00:00:00",
          "2024-11-18T00:00:00",
          "2024-11-19T00:00:00",
          "2024-11-20T00:00:00",
          "2024-11-21T00:00:00",
          "2024-11-22T00:00:00",
          "2024-11-23T00:00:00",
          "2024-11-24T00:00:00",
          "2024-11-25T00:00:00",
          "2024-11-26T00:00:00",
          "2024-11-27T00:00:00",
          "2024-11-28T00:00:00",
          "2024-11-29T00:00:00",
          "2024-11-30T00:00:00",
          "2024-12-01T00:00:00",
          "2024-12-02T00:00:00",
          "2024-12-03T00:00:00",
          "2024-12-04T00:00:00",
          "2024-12-05T00:00:00",
          "2024-12-06T00:00:00",
          "2024-12-07T00:00:00",
          "2024-12-08T00:00:00",
          "2024-12-09T00:00:00",
          "2024-12-10T00:00:00",
          "2024-12-11T00:00:00",
          "2024-12-12T00:00:00",
          "2024-12-13T00:00:00",
          "2024-12-14T00:00:00",
          "2024-12-15T00:00:00",
          "2024-12-16T00:00:00",
          "2024-12-17T00:00:00",
          "2024-12-18T00:00:00",
          "2024-12-19T00:00:00",
          "2024-12-20T00:00:00",
          "2024-12-21T00:00:00",
          "2024-12-22T00:00:00",
          "2024-12-23T00:00:00",
          "2024-12-24T00:00:00",
          "2024-12-25T00:00:00",
          "2024-12-26T00:00:00",
          "2024-12-27T00:00:00",
          "2024-12-28T00:00:00",
          "2024-12-29T00:00:00",
          "2024-12-30T00:00:00",
          "2024-12-31T00:00:00",
          "2025-01-01T00:00:00",
          "2025-01-02T00:00:00",
          "2025-01-03T00:00:00",
          "2025-01-04T00:00:00",
          "2025-01-05T00:00:00",
          "2025-01-06T00:00:00",
          "2025-01-07T00:00:00",
          "2025-01-08T00:00:00",
          "2025-01-09T00:00:00",
          "2025-01-10T00:00:00",
          "2025-01-11T00:00:00",
          "2025-01-12T00:00:00",
          "2025-01-13T00:00:00",
          "2025-01-14T00:00:00",
          "2025-01-15T00:00:00",
          "2025-01-16T00:00:00",
          "2025-01-17T00:00:00",
          "2025-01-18T00:00:00",
          "2025-01-19T00:00:00",
          "2025-01-20T00:00:00",
          "2025-01-21T00:00:00",
          "2025-01-22T00:00:00",
          "2025-01-23T00:00:00",
          "2025-01-24T00:00:00",
          "2025-01-25T00:00:00",
          "2025-01-26T00:00:00",
          "2025-01-27T00:00:00",
          "2025-01-28T00:00:00",
          "2025-01-29T00:00:00",
          "2025-01-30T00:00:00",
          "2025-01-31T00:00:00",
          "2025-02-01T00:00:00",
          "2025-02-02T00:00:00",
          "2025-02-03T00:00:00",
          "2025-02-04T00:00:00",
          "2025-02-05T00:00:00",
          "2025-02-06T00:00:00",
          "2025-02-07T00:00:00",
          "2025-02-08T00:00:00",
          "2025-02-09T00:00:00",
          "2025-02-10T00:00:00",
          "2025-02-11T00:00:00",
          "2025-02-12T00:00:00",
          "2025-02-13T00:00:00",
          "2025-02-14T00:00:00",
          "2025-02-15T00:00:00",
          "2025-02-16T00:00:00",
          "2025-02-17T00:00:00",
          "2025-02-18T00:00:00",
          "2025-02-19T00:00:00",
          "2025-02-20T00:00:00",
          "2025-02-21T00:00:00",
          "2025-02-22T00:00:00",
          "2025-02-23T00:00:00",
          "2025-02-24T00:00:00",
          "2025-02-25T00:00:00",
          "2025-02-26T00:00:00",
          "2025-02-27T00:00:00",
          "2025-02-28T00:00:00",
          "2025-03-01T00:00:00",
          "2025-03-02T00:00:00",
          "2025-03-03T00:00:00",
          "2025-03-04T00:00:00",
          "2025-03-05T00:00:00",
          "2025-03-06T00:00:00",
          "2025-03-07T00:00:00",
          "2025-03-08T00:00:00",
          "2025-03-09T00:00:00",
          "2025-03-10T00:00:00",
          "2025-03-11T00:00:00",
          "2025-03-12T00:00:00",
          "2025-03-13T00:00:00",
          "2025-03-14T00:00:00",
          "2025-03-15T00:00:00",
          "2025-03-16T00:00:00",
          "2025-03-17T00:00:00",
          "2025-03-18T00:00:00",
          "2025-03-19T00:00:00",
          "2025-03-20T00:00:00",
          "2025-03-21T00:00:00",
          "2025-03-22T00:00:00",
          "2025-03-23T00:00:00",
          "2025-03-24T00:00:00",
          "2025-03-25T00:00:00",
          "2025-03-26T00:00:00",
          "2025-03-27T00:00:00",
          "2025-03-28T00:00:00",
          "2025-03-29T00:00:00",
          "2025-03-30T00:00:00",
          "2025-03-31T00:00:00",
          "2025-04-01T00:00:00",
          "2025-04-02T00:00:00",
          "2025-04-03T00:00:00",
          "2025-04-04T00:00:00",
          "2025-04-05T00:00:00",
          "2025-04-06T00:00:00",
          "2025-04-07T00:00:00",
          "2025-04-08T00:00:00"
         ],
         "y": {
          "bdata": "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",
          "dtype": "f8"
         }
        }
       ],
       "layout": {
        "showlegend": true,
        "template": {
         "data": {
          "bar": [
           {
            "error_x": {
             "color": "rgb(51,51,51)"
            },
            "error_y": {
             "color": "rgb(51,51,51)"
            },
            "marker": {
             "line": {
              "color": "rgb(237,237,237)",
              "width": 0.5
             },
             "pattern": {
              "fillmode": "overlay",
              "size": 10,
              "solidity": 0.2
             }
            },
            "type": "bar"
           }
          ],
          "barpolar": [
           {
            "marker": {
             "line": {
              "color": "rgb(237,237,237)",
              "width": 0.5
             },
             "pattern": {
              "fillmode": "overlay",
              "size": 10,
              "solidity": 0.2
             }
            },
            "type": "barpolar"
           }
          ],
          "carpet": [
           {
            "aaxis": {
             "endlinecolor": "rgb(51,51,51)",
             "gridcolor": "white",
             "linecolor": "white",
             "minorgridcolor": "white",
             "startlinecolor": "rgb(51,51,51)"
            },
            "baxis": {
             "endlinecolor": "rgb(51,51,51)",
             "gridcolor": "white",
             "linecolor": "white",
             "minorgridcolor": "white",
             "startlinecolor": "rgb(51,51,51)"
            },
            "type": "carpet"
           }
          ],
          "choropleth": [
           {
            "colorbar": {
             "outlinewidth": 0,
             "tickcolor": "rgb(237,237,237)",
             "ticklen": 6,
             "ticks": "inside"
            },
            "type": "choropleth"
           }
          ],
          "contour": [
           {
            "colorbar": {
             "outlinewidth": 0,
             "tickcolor": "rgb(237,237,237)",
             "ticklen": 6,
             "ticks": "inside"
            },
            "colorscale": [
             [
              0,
              "rgb(20,44,66)"
             ],
             [
              1,
              "rgb(90,179,244)"
             ]
            ],
            "type": "contour"
           }
          ],
          "contourcarpet": [
           {
            "colorbar": {
             "outlinewidth": 0,
             "tickcolor": "rgb(237,237,237)",
             "ticklen": 6,
             "ticks": "inside"
            },
            "type": "contourcarpet"
           }
          ],
          "heatmap": [
           {
            "colorbar": {
             "outlinewidth": 0,
             "tickcolor": "rgb(237,237,237)",
             "ticklen": 6,
             "ticks": "inside"
            },
            "colorscale": [
             [
              0,
              "rgb(20,44,66)"
             ],
             [
              1,
              "rgb(90,179,244)"
             ]
            ],
            "type": "heatmap"
           }
          ],
          "histogram": [
           {
            "marker": {
             "pattern": {
              "fillmode": "overlay",
              "size": 10,
              "solidity": 0.2
             }
            },
            "type": "histogram"
           }
          ],
          "histogram2d": [
           {
            "colorbar": {
             "outlinewidth": 0,
             "tickcolor": "rgb(237,237,237)",
             "ticklen": 6,
             "ticks": "inside"
            },
            "colorscale": [
             [
              0,
              "rgb(20,44,66)"
             ],
             [
              1,
              "rgb(90,179,244)"
             ]
            ],
            "type": "histogram2d"
           }
          ],
          "histogram2dcontour": [
           {
            "colorbar": {
             "outlinewidth": 0,
             "tickcolor": "rgb(237,237,237)",
             "ticklen": 6,
             "ticks": "inside"
            },
            "colorscale": [
             [
              0,
              "rgb(20,44,66)"
             ],
             [
              1,
              "rgb(90,179,244)"
             ]
            ],
            "type": "histogram2dcontour"
           }
          ],
          "mesh3d": [
           {
            "colorbar": {
             "outlinewidth": 0,
             "tickcolor": "rgb(237,237,237)",
             "ticklen": 6,
             "ticks": "inside"
            },
            "type": "mesh3d"
           }
          ],
          "parcoords": [
           {
            "line": {
             "colorbar": {
              "outlinewidth": 0,
              "tickcolor": "rgb(237,237,237)",
              "ticklen": 6,
              "ticks": "inside"
             }
            },
            "type": "parcoords"
           }
          ],
          "pie": [
           {
            "automargin": true,
            "type": "pie"
           }
          ],
          "scatter": [
           {
            "fillpattern": {
             "fillmode": "overlay",
             "size": 10,
             "solidity": 0.2
            },
            "type": "scatter"
           }
          ],
          "scatter3d": [
           {
            "line": {
             "colorbar": {
              "outlinewidth": 0,
              "tickcolor": "rgb(237,237,237)",
              "ticklen": 6,
              "ticks": "inside"
             }
            },
            "marker": {
             "colorbar": {
              "outlinewidth": 0,
              "tickcolor": "rgb(237,237,237)",
              "ticklen": 6,
              "ticks": "inside"
             }
            },
            "type": "scatter3d"
           }
          ],
          "scattercarpet": [
           {
            "marker": {
             "colorbar": {
              "outlinewidth": 0,
              "tickcolor": "rgb(237,237,237)",
              "ticklen": 6,
              "ticks": "inside"
             }
            },
            "type": "scattercarpet"
           }
          ],
          "scattergeo": [
           {
            "marker": {
             "colorbar": {
              "outlinewidth": 0,
              "tickcolor": "rgb(237,237,237)",
              "ticklen": 6,
              "ticks": "inside"
             }
            },
            "type": "scattergeo"
           }
          ],
          "scattergl": [
           {
            "marker": {
             "colorbar": {
              "outlinewidth": 0,
              "tickcolor": "rgb(237,237,237)",
              "ticklen": 6,
              "ticks": "inside"
             }
            },
            "type": "scattergl"
           }
          ],
          "scattermap": [
           {
            "marker": {
             "colorbar": {
              "outlinewidth": 0,
              "tickcolor": "rgb(237,237,237)",
              "ticklen": 6,
              "ticks": "inside"
             }
            },
            "type": "scattermap"
           }
          ],
          "scattermapbox": [
           {
            "marker": {
             "colorbar": {
              "outlinewidth": 0,
              "tickcolor": "rgb(237,237,237)",
              "ticklen": 6,
              "ticks": "inside"
             }
            },
            "type": "scattermapbox"
           }
          ],
          "scatterpolar": [
           {
            "marker": {
             "colorbar": {
              "outlinewidth": 0,
              "tickcolor": "rgb(237,237,237)",
              "ticklen": 6,
              "ticks": "inside"
             }
            },
            "type": "scatterpolar"
           }
          ],
          "scatterpolargl": [
           {
            "marker": {
             "colorbar": {
              "outlinewidth": 0,
              "tickcolor": "rgb(237,237,237)",
              "ticklen": 6,
              "ticks": "inside"
             }
            },
            "type": "scatterpolargl"
           }
          ],
          "scatterternary": [
           {
            "marker": {
             "colorbar": {
              "outlinewidth": 0,
              "tickcolor": "rgb(237,237,237)",
              "ticklen": 6,
              "ticks": "inside"
             }
            },
            "type": "scatterternary"
           }
          ],
          "surface": [
           {
            "colorbar": {
             "outlinewidth": 0,
             "tickcolor": "rgb(237,237,237)",
             "ticklen": 6,
             "ticks": "inside"
            },
            "colorscale": [
             [
              0,
              "rgb(20,44,66)"
             ],
             [
              1,
              "rgb(90,179,244)"
             ]
            ],
            "type": "surface"
           }
          ],
          "table": [
           {
            "cells": {
             "fill": {
              "color": "rgb(237,237,237)"
             },
             "line": {
              "color": "white"
             }
            },
            "header": {
             "fill": {
              "color": "rgb(217,217,217)"
             },
             "line": {
              "color": "white"
             }
            },
            "type": "table"
           }
          ]
         },
         "layout": {
          "annotationdefaults": {
           "arrowhead": 0,
           "arrowwidth": 1
          },
          "autotypenumbers": "strict",
          "coloraxis": {
           "colorbar": {
            "outlinewidth": 0,
            "tickcolor": "rgb(237,237,237)",
            "ticklen": 6,
            "ticks": "inside"
           }
          },
          "colorscale": {
           "sequential": [
            [
             0,
             "rgb(20,44,66)"
            ],
            [
             1,
             "rgb(90,179,244)"
            ]
           ],
           "sequentialminus": [
            [
             0,
             "rgb(20,44,66)"
            ],
            [
             1,
             "rgb(90,179,244)"
            ]
           ]
          },
          "colorway": [
           "#F8766D",
           "#A3A500",
           "#00BF7D",
           "#00B0F6",
           "#E76BF3"
          ],
          "font": {
           "color": "rgb(51,51,51)"
          },
          "geo": {
           "bgcolor": "white",
           "lakecolor": "white",
           "landcolor": "rgb(237,237,237)",
           "showlakes": true,
           "showland": true,
           "subunitcolor": "white"
          },
          "hoverlabel": {
           "align": "left"
          },
          "hovermode": "closest",
          "paper_bgcolor": "white",
          "plot_bgcolor": "rgb(237,237,237)",
          "polar": {
           "angularaxis": {
            "gridcolor": "white",
            "linecolor": "white",
            "showgrid": true,
            "tickcolor": "rgb(51,51,51)",
            "ticks": "outside"
           },
           "bgcolor": "rgb(237,237,237)",
           "radialaxis": {
            "gridcolor": "white",
            "linecolor": "white",
            "showgrid": true,
            "tickcolor": "rgb(51,51,51)",
            "ticks": "outside"
           }
          },
          "scene": {
           "xaxis": {
            "backgroundcolor": "rgb(237,237,237)",
            "gridcolor": "white",
            "gridwidth": 2,
            "linecolor": "white",
            "showbackground": true,
            "showgrid": true,
            "tickcolor": "rgb(51,51,51)",
            "ticks": "outside",
            "zerolinecolor": "white"
           },
           "yaxis": {
            "backgroundcolor": "rgb(237,237,237)",
            "gridcolor": "white",
            "gridwidth": 2,
            "linecolor": "white",
            "showbackground": true,
            "showgrid": true,
            "tickcolor": "rgb(51,51,51)",
            "ticks": "outside",
            "zerolinecolor": "white"
           },
           "zaxis": {
            "backgroundcolor": "rgb(237,237,237)",
            "gridcolor": "white",
            "gridwidth": 2,
            "linecolor": "white",
            "showbackground": true,
            "showgrid": true,
            "tickcolor": "rgb(51,51,51)",
            "ticks": "outside",
            "zerolinecolor": "white"
           }
          },
          "shapedefaults": {
           "fillcolor": "black",
           "line": {
            "width": 0
           },
           "opacity": 0.3
          },
          "ternary": {
           "aaxis": {
            "gridcolor": "white",
            "linecolor": "white",
            "showgrid": true,
            "tickcolor": "rgb(51,51,51)",
            "ticks": "outside"
           },
           "baxis": {
            "gridcolor": "white",
            "linecolor": "white",
            "showgrid": true,
            "tickcolor": "rgb(51,51,51)",
            "ticks": "outside"
           },
           "bgcolor": "rgb(237,237,237)",
           "caxis": {
            "gridcolor": "white",
            "linecolor": "white",
            "showgrid": true,
            "tickcolor": "rgb(51,51,51)",
            "ticks": "outside"
           }
          },
          "xaxis": {
           "automargin": true,
           "gridcolor": "white",
           "linecolor": "white",
           "showgrid": true,
           "tickcolor": "rgb(51,51,51)",
           "ticks": "outside",
           "title": {
            "standoff": 15
           },
           "zerolinecolor": "white"
          },
          "yaxis": {
           "automargin": true,
           "gridcolor": "white",
           "linecolor": "white",
           "showgrid": true,
           "tickcolor": "rgb(51,51,51)",
           "ticks": "outside",
           "title": {
            "standoff": 15
           },
           "zerolinecolor": "white"
          }
         }
        },
        "title": {
         "text": "Actual vs. 'Out-of-Sample' Forecast | BTC-USD"
        },
        "xaxis": {
         "title": {
          "text": "Time"
         }
        },
        "yaxis": {
         "title": {
          "text": "Values"
         }
        }
       }
      }
     },
     "metadata": {},
     "output_type": "display_data"
    }
   ],
   "source": [
    "#Plot prophet model forecast\n",
    "plot_model(final_arima, plot='forecast')"
   ]
  },
  {
   "cell_type": "markdown",
   "id": "44456287",
   "metadata": {},
   "source": [
    "BNB-USD ARIMA Model"
   ]
  },
  {
   "cell_type": "code",
   "execution_count": 39,
   "id": "f37eb818",
   "metadata": {},
   "outputs": [
    {
     "data": {
      "text/html": [
       "<style type=\"text/css\">\n",
       "#T_c6755_row25_col1, #T_c6755_row31_col1 {\n",
       "  background-color: lightgreen;\n",
       "}\n",
       "</style>\n",
       "<table id=\"T_c6755\">\n",
       "  <thead>\n",
       "    <tr>\n",
       "      <th class=\"blank level0\" >&nbsp;</th>\n",
       "      <th id=\"T_c6755_level0_col0\" class=\"col_heading level0 col0\" >Description</th>\n",
       "      <th id=\"T_c6755_level0_col1\" class=\"col_heading level0 col1\" >Value</th>\n",
       "    </tr>\n",
       "  </thead>\n",
       "  <tbody>\n",
       "    <tr>\n",
       "      <th id=\"T_c6755_level0_row0\" class=\"row_heading level0 row0\" >0</th>\n",
       "      <td id=\"T_c6755_row0_col0\" class=\"data row0 col0\" >session_id</td>\n",
       "      <td id=\"T_c6755_row0_col1\" class=\"data row0 col1\" >123</td>\n",
       "    </tr>\n",
       "    <tr>\n",
       "      <th id=\"T_c6755_level0_row1\" class=\"row_heading level0 row1\" >1</th>\n",
       "      <td id=\"T_c6755_row1_col0\" class=\"data row1 col0\" >Target</td>\n",
       "      <td id=\"T_c6755_row1_col1\" class=\"data row1 col1\" >BNB-USD</td>\n",
       "    </tr>\n",
       "    <tr>\n",
       "      <th id=\"T_c6755_level0_row2\" class=\"row_heading level0 row2\" >2</th>\n",
       "      <td id=\"T_c6755_row2_col0\" class=\"data row2 col0\" >Approach</td>\n",
       "      <td id=\"T_c6755_row2_col1\" class=\"data row2 col1\" >Univariate</td>\n",
       "    </tr>\n",
       "    <tr>\n",
       "      <th id=\"T_c6755_level0_row3\" class=\"row_heading level0 row3\" >3</th>\n",
       "      <td id=\"T_c6755_row3_col0\" class=\"data row3 col0\" >Exogenous Variables</td>\n",
       "      <td id=\"T_c6755_row3_col1\" class=\"data row3 col1\" >Not Present</td>\n",
       "    </tr>\n",
       "    <tr>\n",
       "      <th id=\"T_c6755_level0_row4\" class=\"row_heading level0 row4\" >4</th>\n",
       "      <td id=\"T_c6755_row4_col0\" class=\"data row4 col0\" >Original data shape</td>\n",
       "      <td id=\"T_c6755_row4_col1\" class=\"data row4 col1\" >(365, 1)</td>\n",
       "    </tr>\n",
       "    <tr>\n",
       "      <th id=\"T_c6755_level0_row5\" class=\"row_heading level0 row5\" >5</th>\n",
       "      <td id=\"T_c6755_row5_col0\" class=\"data row5 col0\" >Transformed data shape</td>\n",
       "      <td id=\"T_c6755_row5_col1\" class=\"data row5 col1\" >(365, 1)</td>\n",
       "    </tr>\n",
       "    <tr>\n",
       "      <th id=\"T_c6755_level0_row6\" class=\"row_heading level0 row6\" >6</th>\n",
       "      <td id=\"T_c6755_row6_col0\" class=\"data row6 col0\" >Transformed train set shape</td>\n",
       "      <td id=\"T_c6755_row6_col1\" class=\"data row6 col1\" >(335, 1)</td>\n",
       "    </tr>\n",
       "    <tr>\n",
       "      <th id=\"T_c6755_level0_row7\" class=\"row_heading level0 row7\" >7</th>\n",
       "      <td id=\"T_c6755_row7_col0\" class=\"data row7 col0\" >Transformed test set shape</td>\n",
       "      <td id=\"T_c6755_row7_col1\" class=\"data row7 col1\" >(30, 1)</td>\n",
       "    </tr>\n",
       "    <tr>\n",
       "      <th id=\"T_c6755_level0_row8\" class=\"row_heading level0 row8\" >8</th>\n",
       "      <td id=\"T_c6755_row8_col0\" class=\"data row8 col0\" >Rows with missing values</td>\n",
       "      <td id=\"T_c6755_row8_col1\" class=\"data row8 col1\" >0.0%</td>\n",
       "    </tr>\n",
       "    <tr>\n",
       "      <th id=\"T_c6755_level0_row9\" class=\"row_heading level0 row9\" >9</th>\n",
       "      <td id=\"T_c6755_row9_col0\" class=\"data row9 col0\" >Fold Generator</td>\n",
       "      <td id=\"T_c6755_row9_col1\" class=\"data row9 col1\" >ExpandingWindowSplitter</td>\n",
       "    </tr>\n",
       "    <tr>\n",
       "      <th id=\"T_c6755_level0_row10\" class=\"row_heading level0 row10\" >10</th>\n",
       "      <td id=\"T_c6755_row10_col0\" class=\"data row10 col0\" >Fold Number</td>\n",
       "      <td id=\"T_c6755_row10_col1\" class=\"data row10 col1\" >3</td>\n",
       "    </tr>\n",
       "    <tr>\n",
       "      <th id=\"T_c6755_level0_row11\" class=\"row_heading level0 row11\" >11</th>\n",
       "      <td id=\"T_c6755_row11_col0\" class=\"data row11 col0\" >Enforce Prediction Interval</td>\n",
       "      <td id=\"T_c6755_row11_col1\" class=\"data row11 col1\" >False</td>\n",
       "    </tr>\n",
       "    <tr>\n",
       "      <th id=\"T_c6755_level0_row12\" class=\"row_heading level0 row12\" >12</th>\n",
       "      <td id=\"T_c6755_row12_col0\" class=\"data row12 col0\" >Splits used for hyperparameters</td>\n",
       "      <td id=\"T_c6755_row12_col1\" class=\"data row12 col1\" >all</td>\n",
       "    </tr>\n",
       "    <tr>\n",
       "      <th id=\"T_c6755_level0_row13\" class=\"row_heading level0 row13\" >13</th>\n",
       "      <td id=\"T_c6755_row13_col0\" class=\"data row13 col0\" >User Defined Seasonal Period(s)</td>\n",
       "      <td id=\"T_c6755_row13_col1\" class=\"data row13 col1\" >D</td>\n",
       "    </tr>\n",
       "    <tr>\n",
       "      <th id=\"T_c6755_level0_row14\" class=\"row_heading level0 row14\" >14</th>\n",
       "      <td id=\"T_c6755_row14_col0\" class=\"data row14 col0\" >Ignore Seasonality Test</td>\n",
       "      <td id=\"T_c6755_row14_col1\" class=\"data row14 col1\" >False</td>\n",
       "    </tr>\n",
       "    <tr>\n",
       "      <th id=\"T_c6755_level0_row15\" class=\"row_heading level0 row15\" >15</th>\n",
       "      <td id=\"T_c6755_row15_col0\" class=\"data row15 col0\" >Seasonality Detection Algo</td>\n",
       "      <td id=\"T_c6755_row15_col1\" class=\"data row15 col1\" >user_defined</td>\n",
       "    </tr>\n",
       "    <tr>\n",
       "      <th id=\"T_c6755_level0_row16\" class=\"row_heading level0 row16\" >16</th>\n",
       "      <td id=\"T_c6755_row16_col0\" class=\"data row16 col0\" >Max Period to Consider</td>\n",
       "      <td id=\"T_c6755_row16_col1\" class=\"data row16 col1\" >60</td>\n",
       "    </tr>\n",
       "    <tr>\n",
       "      <th id=\"T_c6755_level0_row17\" class=\"row_heading level0 row17\" >17</th>\n",
       "      <td id=\"T_c6755_row17_col0\" class=\"data row17 col0\" >Seasonal Period(s) Tested</td>\n",
       "      <td id=\"T_c6755_row17_col1\" class=\"data row17 col1\" >[7]</td>\n",
       "    </tr>\n",
       "    <tr>\n",
       "      <th id=\"T_c6755_level0_row18\" class=\"row_heading level0 row18\" >18</th>\n",
       "      <td id=\"T_c6755_row18_col0\" class=\"data row18 col0\" >Significant Seasonal Period(s)</td>\n",
       "      <td id=\"T_c6755_row18_col1\" class=\"data row18 col1\" >[7]</td>\n",
       "    </tr>\n",
       "    <tr>\n",
       "      <th id=\"T_c6755_level0_row19\" class=\"row_heading level0 row19\" >19</th>\n",
       "      <td id=\"T_c6755_row19_col0\" class=\"data row19 col0\" >Significant Seasonal Period(s) without Harmonics</td>\n",
       "      <td id=\"T_c6755_row19_col1\" class=\"data row19 col1\" >[7]</td>\n",
       "    </tr>\n",
       "    <tr>\n",
       "      <th id=\"T_c6755_level0_row20\" class=\"row_heading level0 row20\" >20</th>\n",
       "      <td id=\"T_c6755_row20_col0\" class=\"data row20 col0\" >Remove Harmonics</td>\n",
       "      <td id=\"T_c6755_row20_col1\" class=\"data row20 col1\" >False</td>\n",
       "    </tr>\n",
       "    <tr>\n",
       "      <th id=\"T_c6755_level0_row21\" class=\"row_heading level0 row21\" >21</th>\n",
       "      <td id=\"T_c6755_row21_col0\" class=\"data row21 col0\" >Harmonics Order Method</td>\n",
       "      <td id=\"T_c6755_row21_col1\" class=\"data row21 col1\" >harmonic_max</td>\n",
       "    </tr>\n",
       "    <tr>\n",
       "      <th id=\"T_c6755_level0_row22\" class=\"row_heading level0 row22\" >22</th>\n",
       "      <td id=\"T_c6755_row22_col0\" class=\"data row22 col0\" >Num Seasonalities to Use</td>\n",
       "      <td id=\"T_c6755_row22_col1\" class=\"data row22 col1\" >1</td>\n",
       "    </tr>\n",
       "    <tr>\n",
       "      <th id=\"T_c6755_level0_row23\" class=\"row_heading level0 row23\" >23</th>\n",
       "      <td id=\"T_c6755_row23_col0\" class=\"data row23 col0\" >All Seasonalities to Use</td>\n",
       "      <td id=\"T_c6755_row23_col1\" class=\"data row23 col1\" >[7]</td>\n",
       "    </tr>\n",
       "    <tr>\n",
       "      <th id=\"T_c6755_level0_row24\" class=\"row_heading level0 row24\" >24</th>\n",
       "      <td id=\"T_c6755_row24_col0\" class=\"data row24 col0\" >Primary Seasonality</td>\n",
       "      <td id=\"T_c6755_row24_col1\" class=\"data row24 col1\" >7</td>\n",
       "    </tr>\n",
       "    <tr>\n",
       "      <th id=\"T_c6755_level0_row25\" class=\"row_heading level0 row25\" >25</th>\n",
       "      <td id=\"T_c6755_row25_col0\" class=\"data row25 col0\" >Seasonality Present</td>\n",
       "      <td id=\"T_c6755_row25_col1\" class=\"data row25 col1\" >True</td>\n",
       "    </tr>\n",
       "    <tr>\n",
       "      <th id=\"T_c6755_level0_row26\" class=\"row_heading level0 row26\" >26</th>\n",
       "      <td id=\"T_c6755_row26_col0\" class=\"data row26 col0\" >Seasonality Type</td>\n",
       "      <td id=\"T_c6755_row26_col1\" class=\"data row26 col1\" >mul</td>\n",
       "    </tr>\n",
       "    <tr>\n",
       "      <th id=\"T_c6755_level0_row27\" class=\"row_heading level0 row27\" >27</th>\n",
       "      <td id=\"T_c6755_row27_col0\" class=\"data row27 col0\" >Target Strictly Positive</td>\n",
       "      <td id=\"T_c6755_row27_col1\" class=\"data row27 col1\" >True</td>\n",
       "    </tr>\n",
       "    <tr>\n",
       "      <th id=\"T_c6755_level0_row28\" class=\"row_heading level0 row28\" >28</th>\n",
       "      <td id=\"T_c6755_row28_col0\" class=\"data row28 col0\" >Target White Noise</td>\n",
       "      <td id=\"T_c6755_row28_col1\" class=\"data row28 col1\" >No</td>\n",
       "    </tr>\n",
       "    <tr>\n",
       "      <th id=\"T_c6755_level0_row29\" class=\"row_heading level0 row29\" >29</th>\n",
       "      <td id=\"T_c6755_row29_col0\" class=\"data row29 col0\" >Recommended d</td>\n",
       "      <td id=\"T_c6755_row29_col1\" class=\"data row29 col1\" >1</td>\n",
       "    </tr>\n",
       "    <tr>\n",
       "      <th id=\"T_c6755_level0_row30\" class=\"row_heading level0 row30\" >30</th>\n",
       "      <td id=\"T_c6755_row30_col0\" class=\"data row30 col0\" >Recommended Seasonal D</td>\n",
       "      <td id=\"T_c6755_row30_col1\" class=\"data row30 col1\" >0</td>\n",
       "    </tr>\n",
       "    <tr>\n",
       "      <th id=\"T_c6755_level0_row31\" class=\"row_heading level0 row31\" >31</th>\n",
       "      <td id=\"T_c6755_row31_col0\" class=\"data row31 col0\" >Preprocess</td>\n",
       "      <td id=\"T_c6755_row31_col1\" class=\"data row31 col1\" >True</td>\n",
       "    </tr>\n",
       "    <tr>\n",
       "      <th id=\"T_c6755_level0_row32\" class=\"row_heading level0 row32\" >32</th>\n",
       "      <td id=\"T_c6755_row32_col0\" class=\"data row32 col0\" >Numerical Imputation (Target)</td>\n",
       "      <td id=\"T_c6755_row32_col1\" class=\"data row32 col1\" >drift</td>\n",
       "    </tr>\n",
       "    <tr>\n",
       "      <th id=\"T_c6755_level0_row33\" class=\"row_heading level0 row33\" >33</th>\n",
       "      <td id=\"T_c6755_row33_col0\" class=\"data row33 col0\" >Transformation (Target)</td>\n",
       "      <td id=\"T_c6755_row33_col1\" class=\"data row33 col1\" >log</td>\n",
       "    </tr>\n",
       "    <tr>\n",
       "      <th id=\"T_c6755_level0_row34\" class=\"row_heading level0 row34\" >34</th>\n",
       "      <td id=\"T_c6755_row34_col0\" class=\"data row34 col0\" >Scaling (Target)</td>\n",
       "      <td id=\"T_c6755_row34_col1\" class=\"data row34 col1\" >None</td>\n",
       "    </tr>\n",
       "    <tr>\n",
       "      <th id=\"T_c6755_level0_row35\" class=\"row_heading level0 row35\" >35</th>\n",
       "      <td id=\"T_c6755_row35_col0\" class=\"data row35 col0\" >Feature Engineering (Target) - Reduced Regression</td>\n",
       "      <td id=\"T_c6755_row35_col1\" class=\"data row35 col1\" >False</td>\n",
       "    </tr>\n",
       "    <tr>\n",
       "      <th id=\"T_c6755_level0_row36\" class=\"row_heading level0 row36\" >36</th>\n",
       "      <td id=\"T_c6755_row36_col0\" class=\"data row36 col0\" >CPU Jobs</td>\n",
       "      <td id=\"T_c6755_row36_col1\" class=\"data row36 col1\" >-1</td>\n",
       "    </tr>\n",
       "    <tr>\n",
       "      <th id=\"T_c6755_level0_row37\" class=\"row_heading level0 row37\" >37</th>\n",
       "      <td id=\"T_c6755_row37_col0\" class=\"data row37 col0\" >Use GPU</td>\n",
       "      <td id=\"T_c6755_row37_col1\" class=\"data row37 col1\" >False</td>\n",
       "    </tr>\n",
       "    <tr>\n",
       "      <th id=\"T_c6755_level0_row38\" class=\"row_heading level0 row38\" >38</th>\n",
       "      <td id=\"T_c6755_row38_col0\" class=\"data row38 col0\" >Log Experiment</td>\n",
       "      <td id=\"T_c6755_row38_col1\" class=\"data row38 col1\" >False</td>\n",
       "    </tr>\n",
       "    <tr>\n",
       "      <th id=\"T_c6755_level0_row39\" class=\"row_heading level0 row39\" >39</th>\n",
       "      <td id=\"T_c6755_row39_col0\" class=\"data row39 col0\" >Experiment Name</td>\n",
       "      <td id=\"T_c6755_row39_col1\" class=\"data row39 col1\" >ts-default-name</td>\n",
       "    </tr>\n",
       "    <tr>\n",
       "      <th id=\"T_c6755_level0_row40\" class=\"row_heading level0 row40\" >40</th>\n",
       "      <td id=\"T_c6755_row40_col0\" class=\"data row40 col0\" >USI</td>\n",
       "      <td id=\"T_c6755_row40_col1\" class=\"data row40 col1\" >f8b1</td>\n",
       "    </tr>\n",
       "  </tbody>\n",
       "</table>\n"
      ],
      "text/plain": [
       "<pandas.io.formats.style.Styler at 0x1b9c8628250>"
      ]
     },
     "metadata": {},
     "output_type": "display_data"
    }
   ],
   "source": [
    "bnb = df.loc[:,'BNB-USD']\n",
    "# Set up PyCaret environment\n",
    "s = setup(data=bnb, \n",
    "          target = 'BNB-USD',\n",
    "          transform_target='log',\n",
    "          fh=30,  # Forecast horizon\n",
    "          session_id=123,\n",
    "          fold_strategy='expanding',\n",
    "          seasonal_period='D',\n",
    "          #fold_spans=\"adaptive\",\n",
    "          numeric_imputation_target = 'drift')"
   ]
  },
  {
   "cell_type": "code",
   "execution_count": 40,
   "id": "dcc8a6d1",
   "metadata": {},
   "outputs": [
    {
     "data": {
      "text/html": [
       "<div>\n",
       "<style scoped>\n",
       "    .dataframe tbody tr th:only-of-type {\n",
       "        vertical-align: middle;\n",
       "    }\n",
       "\n",
       "    .dataframe tbody tr th {\n",
       "        vertical-align: top;\n",
       "    }\n",
       "\n",
       "    .dataframe thead th {\n",
       "        text-align: right;\n",
       "    }\n",
       "</style>\n",
       "<table border=\"1\" class=\"dataframe\">\n",
       "  <thead>\n",
       "    <tr style=\"text-align: right;\">\n",
       "      <th></th>\n",
       "      <th></th>\n",
       "      <th></th>\n",
       "    </tr>\n",
       "    <tr>\n",
       "      <th></th>\n",
       "      <th></th>\n",
       "      <th></th>\n",
       "    </tr>\n",
       "  </thead>\n",
       "  <tbody>\n",
       "    <tr>\n",
       "      <th>Initiated</th>\n",
       "      <td>. . . . . . . . . . . . . . . . . .</td>\n",
       "      <td>15:57:33</td>\n",
       "    </tr>\n",
       "    <tr>\n",
       "      <th>Status</th>\n",
       "      <td>. . . . . . . . . . . . . . . . . .</td>\n",
       "      <td>Loading Dependencies</td>\n",
       "    </tr>\n",
       "    <tr>\n",
       "      <th>Estimator</th>\n",
       "      <td>. . . . . . . . . . . . . . . . . .</td>\n",
       "      <td>Compiling Library</td>\n",
       "    </tr>\n",
       "  </tbody>\n",
       "</table>\n",
       "</div>"
      ],
      "text/plain": [
       "                                                                    \n",
       "                                                                    \n",
       "Initiated  . . . . . . . . . . . . . . . . . .              15:57:33\n",
       "Status     . . . . . . . . . . . . . . . . . .  Loading Dependencies\n",
       "Estimator  . . . . . . . . . . . . . . . . . .     Compiling Library"
      ]
     },
     "metadata": {},
     "output_type": "display_data"
    },
    {
     "data": {
      "text/html": [
       "<style type=\"text/css\">\n",
       "#T_ace99_row3_col0, #T_ace99_row3_col1, #T_ace99_row3_col2, #T_ace99_row3_col3, #T_ace99_row3_col4, #T_ace99_row3_col5, #T_ace99_row3_col6, #T_ace99_row3_col7 {\n",
       "  background: yellow;\n",
       "}\n",
       "</style>\n",
       "<table id=\"T_ace99\">\n",
       "  <thead>\n",
       "    <tr>\n",
       "      <th class=\"blank level0\" >&nbsp;</th>\n",
       "      <th id=\"T_ace99_level0_col0\" class=\"col_heading level0 col0\" >cutoff</th>\n",
       "      <th id=\"T_ace99_level0_col1\" class=\"col_heading level0 col1\" >MASE</th>\n",
       "      <th id=\"T_ace99_level0_col2\" class=\"col_heading level0 col2\" >RMSSE</th>\n",
       "      <th id=\"T_ace99_level0_col3\" class=\"col_heading level0 col3\" >MAE</th>\n",
       "      <th id=\"T_ace99_level0_col4\" class=\"col_heading level0 col4\" >RMSE</th>\n",
       "      <th id=\"T_ace99_level0_col5\" class=\"col_heading level0 col5\" >MAPE</th>\n",
       "      <th id=\"T_ace99_level0_col6\" class=\"col_heading level0 col6\" >SMAPE</th>\n",
       "      <th id=\"T_ace99_level0_col7\" class=\"col_heading level0 col7\" >R2</th>\n",
       "    </tr>\n",
       "  </thead>\n",
       "  <tbody>\n",
       "    <tr>\n",
       "      <th id=\"T_ace99_level0_row0\" class=\"row_heading level0 row0\" >0</th>\n",
       "      <td id=\"T_ace99_row0_col0\" class=\"data row0 col0\" >2024-12-29</td>\n",
       "      <td id=\"T_ace99_row0_col1\" class=\"data row0 col1\" >1.2888</td>\n",
       "      <td id=\"T_ace99_row0_col2\" class=\"data row0 col2\" >1.1544</td>\n",
       "      <td id=\"T_ace99_row0_col3\" class=\"data row0 col3\" >42.9714</td>\n",
       "      <td id=\"T_ace99_row0_col4\" class=\"data row0 col4\" >49.6914</td>\n",
       "      <td id=\"T_ace99_row0_col5\" class=\"data row0 col5\" >0.0623</td>\n",
       "      <td id=\"T_ace99_row0_col6\" class=\"data row0 col6\" >0.0598</td>\n",
       "      <td id=\"T_ace99_row0_col7\" class=\"data row0 col7\" >-9.8557</td>\n",
       "    </tr>\n",
       "    <tr>\n",
       "      <th id=\"T_ace99_level0_row1\" class=\"row_heading level0 row1\" >1</th>\n",
       "      <td id=\"T_ace99_row1_col0\" class=\"data row1 col0\" >2025-01-28</td>\n",
       "      <td id=\"T_ace99_row1_col1\" class=\"data row1 col1\" >1.0514</td>\n",
       "      <td id=\"T_ace99_row1_col2\" class=\"data row1 col2\" >1.0765</td>\n",
       "      <td id=\"T_ace99_row1_col3\" class=\"data row1 col3\" >33.0733</td>\n",
       "      <td id=\"T_ace99_row1_col4\" class=\"data row1 col4\" >44.2206</td>\n",
       "      <td id=\"T_ace99_row1_col5\" class=\"data row1 col5\" >0.0545</td>\n",
       "      <td id=\"T_ace99_row1_col6\" class=\"data row1 col6\" >0.0520</td>\n",
       "      <td id=\"T_ace99_row1_col7\" class=\"data row1 col7\" >-0.6437</td>\n",
       "    </tr>\n",
       "    <tr>\n",
       "      <th id=\"T_ace99_level0_row2\" class=\"row_heading level0 row2\" >2</th>\n",
       "      <td id=\"T_ace99_row2_col0\" class=\"data row2 col0\" >2025-02-27</td>\n",
       "      <td id=\"T_ace99_row2_col1\" class=\"data row2 col1\" >0.7666</td>\n",
       "      <td id=\"T_ace99_row2_col2\" class=\"data row2 col2\" >0.7247</td>\n",
       "      <td id=\"T_ace99_row2_col3\" class=\"data row2 col3\" >25.3279</td>\n",
       "      <td id=\"T_ace99_row2_col4\" class=\"data row2 col4\" >31.3005</td>\n",
       "      <td id=\"T_ace99_row2_col5\" class=\"data row2 col5\" >0.0421</td>\n",
       "      <td id=\"T_ace99_row2_col6\" class=\"data row2 col6\" >0.0423</td>\n",
       "      <td id=\"T_ace99_row2_col7\" class=\"data row2 col7\" >-0.3252</td>\n",
       "    </tr>\n",
       "    <tr>\n",
       "      <th id=\"T_ace99_level0_row3\" class=\"row_heading level0 row3\" >Mean</th>\n",
       "      <td id=\"T_ace99_row3_col0\" class=\"data row3 col0\" >NaT</td>\n",
       "      <td id=\"T_ace99_row3_col1\" class=\"data row3 col1\" >1.0356</td>\n",
       "      <td id=\"T_ace99_row3_col2\" class=\"data row3 col2\" >0.9852</td>\n",
       "      <td id=\"T_ace99_row3_col3\" class=\"data row3 col3\" >33.7909</td>\n",
       "      <td id=\"T_ace99_row3_col4\" class=\"data row3 col4\" >41.7375</td>\n",
       "      <td id=\"T_ace99_row3_col5\" class=\"data row3 col5\" >0.0530</td>\n",
       "      <td id=\"T_ace99_row3_col6\" class=\"data row3 col6\" >0.0513</td>\n",
       "      <td id=\"T_ace99_row3_col7\" class=\"data row3 col7\" >-3.6082</td>\n",
       "    </tr>\n",
       "    <tr>\n",
       "      <th id=\"T_ace99_level0_row4\" class=\"row_heading level0 row4\" >SD</th>\n",
       "      <td id=\"T_ace99_row4_col0\" class=\"data row4 col0\" >NaT</td>\n",
       "      <td id=\"T_ace99_row4_col1\" class=\"data row4 col1\" >0.2135</td>\n",
       "      <td id=\"T_ace99_row4_col2\" class=\"data row4 col2\" >0.1870</td>\n",
       "      <td id=\"T_ace99_row4_col3\" class=\"data row4 col3\" >7.2208</td>\n",
       "      <td id=\"T_ace99_row4_col4\" class=\"data row4 col4\" >7.7106</td>\n",
       "      <td id=\"T_ace99_row4_col5\" class=\"data row4 col5\" >0.0083</td>\n",
       "      <td id=\"T_ace99_row4_col6\" class=\"data row4 col6\" >0.0072</td>\n",
       "      <td id=\"T_ace99_row4_col7\" class=\"data row4 col7\" >4.4195</td>\n",
       "    </tr>\n",
       "  </tbody>\n",
       "</table>\n"
      ],
      "text/plain": [
       "<pandas.io.formats.style.Styler at 0x1b9c6ae2ee0>"
      ]
     },
     "metadata": {},
     "output_type": "display_data"
    },
    {
     "data": {
      "text/html": [],
      "text/plain": [
       "<IPython.core.display.HTML object>"
      ]
     },
     "metadata": {},
     "output_type": "display_data"
    },
    {
     "data": {
      "text/html": [],
      "text/plain": [
       "<IPython.core.display.HTML object>"
      ]
     },
     "metadata": {},
     "output_type": "display_data"
    },
    {
     "data": {
      "text/html": [
       "<style type=\"text/css\">\n",
       "#T_e0b17_row3_col0, #T_e0b17_row3_col1, #T_e0b17_row3_col2, #T_e0b17_row3_col3, #T_e0b17_row3_col4, #T_e0b17_row3_col5, #T_e0b17_row3_col6, #T_e0b17_row3_col7 {\n",
       "  background: yellow;\n",
       "}\n",
       "</style>\n",
       "<table id=\"T_e0b17\">\n",
       "  <thead>\n",
       "    <tr>\n",
       "      <th class=\"blank level0\" >&nbsp;</th>\n",
       "      <th id=\"T_e0b17_level0_col0\" class=\"col_heading level0 col0\" >cutoff</th>\n",
       "      <th id=\"T_e0b17_level0_col1\" class=\"col_heading level0 col1\" >MASE</th>\n",
       "      <th id=\"T_e0b17_level0_col2\" class=\"col_heading level0 col2\" >RMSSE</th>\n",
       "      <th id=\"T_e0b17_level0_col3\" class=\"col_heading level0 col3\" >MAE</th>\n",
       "      <th id=\"T_e0b17_level0_col4\" class=\"col_heading level0 col4\" >RMSE</th>\n",
       "      <th id=\"T_e0b17_level0_col5\" class=\"col_heading level0 col5\" >MAPE</th>\n",
       "      <th id=\"T_e0b17_level0_col6\" class=\"col_heading level0 col6\" >SMAPE</th>\n",
       "      <th id=\"T_e0b17_level0_col7\" class=\"col_heading level0 col7\" >R2</th>\n",
       "    </tr>\n",
       "  </thead>\n",
       "  <tbody>\n",
       "    <tr>\n",
       "      <th id=\"T_e0b17_level0_row0\" class=\"row_heading level0 row0\" >0</th>\n",
       "      <td id=\"T_e0b17_row0_col0\" class=\"data row0 col0\" >2024-12-29</td>\n",
       "      <td id=\"T_e0b17_row0_col1\" class=\"data row0 col1\" >0.3541</td>\n",
       "      <td id=\"T_e0b17_row0_col2\" class=\"data row0 col2\" >0.3469</td>\n",
       "      <td id=\"T_e0b17_row0_col3\" class=\"data row0 col3\" >11.8048</td>\n",
       "      <td id=\"T_e0b17_row0_col4\" class=\"data row0 col4\" >14.9315</td>\n",
       "      <td id=\"T_e0b17_row0_col5\" class=\"data row0 col5\" >0.0169</td>\n",
       "      <td id=\"T_e0b17_row0_col6\" class=\"data row0 col6\" >0.0170</td>\n",
       "      <td id=\"T_e0b17_row0_col7\" class=\"data row0 col7\" >0.0198</td>\n",
       "    </tr>\n",
       "    <tr>\n",
       "      <th id=\"T_e0b17_level0_row1\" class=\"row_heading level0 row1\" >1</th>\n",
       "      <td id=\"T_e0b17_row1_col0\" class=\"data row1 col0\" >2025-01-28</td>\n",
       "      <td id=\"T_e0b17_row1_col1\" class=\"data row1 col1\" >0.9938</td>\n",
       "      <td id=\"T_e0b17_row1_col2\" class=\"data row1 col2\" >1.0189</td>\n",
       "      <td id=\"T_e0b17_row1_col3\" class=\"data row1 col3\" >31.2594</td>\n",
       "      <td id=\"T_e0b17_row1_col4\" class=\"data row1 col4\" >41.8539</td>\n",
       "      <td id=\"T_e0b17_row1_col5\" class=\"data row1 col5\" >0.0514</td>\n",
       "      <td id=\"T_e0b17_row1_col6\" class=\"data row1 col6\" >0.0493</td>\n",
       "      <td id=\"T_e0b17_row1_col7\" class=\"data row1 col7\" >-0.4725</td>\n",
       "    </tr>\n",
       "    <tr>\n",
       "      <th id=\"T_e0b17_level0_row2\" class=\"row_heading level0 row2\" >2</th>\n",
       "      <td id=\"T_e0b17_row2_col0\" class=\"data row2 col0\" >2025-02-27</td>\n",
       "      <td id=\"T_e0b17_row2_col1\" class=\"data row2 col1\" >0.6840</td>\n",
       "      <td id=\"T_e0b17_row2_col2\" class=\"data row2 col2\" >0.6329</td>\n",
       "      <td id=\"T_e0b17_row2_col3\" class=\"data row2 col3\" >22.6008</td>\n",
       "      <td id=\"T_e0b17_row2_col4\" class=\"data row2 col4\" >27.3374</td>\n",
       "      <td id=\"T_e0b17_row2_col5\" class=\"data row2 col5\" >0.0382</td>\n",
       "      <td id=\"T_e0b17_row2_col6\" class=\"data row2 col6\" >0.0377</td>\n",
       "      <td id=\"T_e0b17_row2_col7\" class=\"data row2 col7\" >-0.0109</td>\n",
       "    </tr>\n",
       "    <tr>\n",
       "      <th id=\"T_e0b17_level0_row3\" class=\"row_heading level0 row3\" >Mean</th>\n",
       "      <td id=\"T_e0b17_row3_col0\" class=\"data row3 col0\" >NaT</td>\n",
       "      <td id=\"T_e0b17_row3_col1\" class=\"data row3 col1\" >0.6773</td>\n",
       "      <td id=\"T_e0b17_row3_col2\" class=\"data row3 col2\" >0.6662</td>\n",
       "      <td id=\"T_e0b17_row3_col3\" class=\"data row3 col3\" >21.8883</td>\n",
       "      <td id=\"T_e0b17_row3_col4\" class=\"data row3 col4\" >28.0409</td>\n",
       "      <td id=\"T_e0b17_row3_col5\" class=\"data row3 col5\" >0.0355</td>\n",
       "      <td id=\"T_e0b17_row3_col6\" class=\"data row3 col6\" >0.0347</td>\n",
       "      <td id=\"T_e0b17_row3_col7\" class=\"data row3 col7\" >-0.1545</td>\n",
       "    </tr>\n",
       "    <tr>\n",
       "      <th id=\"T_e0b17_level0_row4\" class=\"row_heading level0 row4\" >SD</th>\n",
       "      <td id=\"T_e0b17_row4_col0\" class=\"data row4 col0\" >NaT</td>\n",
       "      <td id=\"T_e0b17_row4_col1\" class=\"data row4 col1\" >0.2612</td>\n",
       "      <td id=\"T_e0b17_row4_col2\" class=\"data row4 col2\" >0.2753</td>\n",
       "      <td id=\"T_e0b17_row4_col3\" class=\"data row4 col3\" >7.9582</td>\n",
       "      <td id=\"T_e0b17_row4_col4\" class=\"data row4 col4\" >11.0023</td>\n",
       "      <td id=\"T_e0b17_row4_col5\" class=\"data row4 col5\" >0.0142</td>\n",
       "      <td id=\"T_e0b17_row4_col6\" class=\"data row4 col6\" >0.0134</td>\n",
       "      <td id=\"T_e0b17_row4_col7\" class=\"data row4 col7\" >0.2252</td>\n",
       "    </tr>\n",
       "  </tbody>\n",
       "</table>\n"
      ],
      "text/plain": [
       "<pandas.io.formats.style.Styler at 0x1b9c67bf880>"
      ]
     },
     "metadata": {},
     "output_type": "display_data"
    },
    {
     "data": {
      "text/html": [],
      "text/plain": [
       "<IPython.core.display.HTML object>"
      ]
     },
     "metadata": {},
     "output_type": "display_data"
    },
    {
     "name": "stdout",
     "output_type": "stream",
     "text": [
      "Fitting 3 folds for each of 10 candidates, totalling 30 fits\n"
     ]
    },
    {
     "name": "stderr",
     "output_type": "stream",
     "text": [
      "[Parallel(n_jobs=-1)]: Using backend LokyBackend with 8 concurrent workers.\n",
      "[Parallel(n_jobs=-1)]: Done  30 out of  30 | elapsed:   11.2s finished\n"
     ]
    },
    {
     "data": {
      "application/vnd.plotly.v1+json": {
       "config": {
        "plotlyServerURL": "https://plot.ly"
       },
       "data": [
        {
         "line": {
          "color": "#1f77b4"
         },
         "marker": {
          "size": 5
         },
         "mode": "lines+markers",
         "name": "Forecast | ARIMA",
         "showlegend": true,
         "type": "scatter",
         "x": [
          "2025-04-29T00:00:00",
          "2025-04-30T00:00:00",
          "2025-05-01T00:00:00",
          "2025-05-02T00:00:00",
          "2025-05-03T00:00:00",
          "2025-05-04T00:00:00",
          "2025-05-05T00:00:00",
          "2025-05-06T00:00:00",
          "2025-05-07T00:00:00",
          "2025-05-08T00:00:00",
          "2025-05-09T00:00:00",
          "2025-05-10T00:00:00",
          "2025-05-11T00:00:00",
          "2025-05-12T00:00:00",
          "2025-05-13T00:00:00",
          "2025-05-14T00:00:00",
          "2025-05-15T00:00:00",
          "2025-05-16T00:00:00",
          "2025-05-17T00:00:00",
          "2025-05-18T00:00:00",
          "2025-05-19T00:00:00",
          "2025-05-20T00:00:00",
          "2025-05-21T00:00:00",
          "2025-05-22T00:00:00",
          "2025-05-23T00:00:00",
          "2025-05-24T00:00:00",
          "2025-05-25T00:00:00",
          "2025-05-26T00:00:00",
          "2025-05-27T00:00:00",
          "2025-05-28T00:00:00"
         ],
         "y": {
          "bdata": "rthfds/pgkAIrBxaZOiCQGkAb4EE5oJATfOOU/TkgkA/V1uxP+SCQF8pyxBH44JAMZkqGJXhgkAEVg4tMtyCQI/k8h9S3oJAbqMBvIXegkAyVTAqKd6CQCbkg57N24JAKjqSy//bgkCmCkYl9dqCQDm0yHY+2oJAMZkqGJXZgkDvOEVH8tiCQNzXgXNG2IJAvjCZKpjXgkAofoy569aCQH4dOGdE1oJAGeJYF7fVgkDQRNjw9NSCQJhuEoNA1IJAb4EExY/TgkDarPpc7dKCQKHWNO840oJAjnVxG43RgkAdWmQ739CCQP+ye/Iw0IJA",
          "dtype": "f8"
         }
        },
        {
         "line": {
          "width": 0
         },
         "marker": {
          "color": "#68BBE3"
         },
         "mode": "lines",
         "name": "Lower Interval",
         "showlegend": false,
         "type": "scatter",
         "x": [
          "2025-04-29T00:00:00",
          "2025-04-30T00:00:00",
          "2025-05-01T00:00:00",
          "2025-05-02T00:00:00",
          "2025-05-03T00:00:00",
          "2025-05-04T00:00:00",
          "2025-05-05T00:00:00",
          "2025-05-06T00:00:00",
          "2025-05-07T00:00:00",
          "2025-05-08T00:00:00",
          "2025-05-09T00:00:00",
          "2025-05-10T00:00:00",
          "2025-05-11T00:00:00",
          "2025-05-12T00:00:00",
          "2025-05-13T00:00:00",
          "2025-05-14T00:00:00",
          "2025-05-15T00:00:00",
          "2025-05-16T00:00:00",
          "2025-05-17T00:00:00",
          "2025-05-18T00:00:00",
          "2025-05-19T00:00:00",
          "2025-05-20T00:00:00",
          "2025-05-21T00:00:00",
          "2025-05-22T00:00:00",
          "2025-05-23T00:00:00",
          "2025-05-24T00:00:00",
          "2025-05-25T00:00:00",
          "2025-05-26T00:00:00",
          "2025-05-27T00:00:00",
          "2025-05-28T00:00:00"
         ],
         "y": {
          "bdata": "7lpCPmgTgkAvbqMBvLqBQHo2qz7XdoFA1xLyQU8/gUAEVg4tMg+BQO58PzXe44BAYhBYObS7gECJQWDlUJOAQCSX/5D+c4BAmN2ThwVVgEB5WKg1TTeAQAMJih9jGYBA24r9Zff9f0BsCfmgZ8l/QPwYc9cSmn9AvVKWIY5sf0Bm9+RhoUB/QPd14JwRFn9AIEHxY8zsfkDr4jYawMR+QA1xrIvbnX5AGQRWDi14fkBCYOXQIlN+QBdIUPwYL35AGXPXEvILfkD/snvysOl9QGUZ4lgXyH1Afh04Z0SnfUD3deCcEYd9QOxRuB6FZ31A",
          "dtype": "f8"
         }
        },
        {
         "fill": "tonexty",
         "fillcolor": "rgba(104,187,227,0.5)",
         "line": {
          "width": 0
         },
         "marker": {
          "color": "#68BBE3"
         },
         "mode": "lines",
         "name": "Prediction Interval | ARIMA",
         "showlegend": true,
         "type": "scatter",
         "x": [
          "2025-04-29T00:00:00",
          "2025-04-30T00:00:00",
          "2025-05-01T00:00:00",
          "2025-05-02T00:00:00",
          "2025-05-03T00:00:00",
          "2025-05-04T00:00:00",
          "2025-05-05T00:00:00",
          "2025-05-06T00:00:00",
          "2025-05-07T00:00:00",
          "2025-05-08T00:00:00",
          "2025-05-09T00:00:00",
          "2025-05-10T00:00:00",
          "2025-05-11T00:00:00",
          "2025-05-12T00:00:00",
          "2025-05-13T00:00:00",
          "2025-05-14T00:00:00",
          "2025-05-15T00:00:00",
          "2025-05-16T00:00:00",
          "2025-05-17T00:00:00",
          "2025-05-18T00:00:00",
          "2025-05-19T00:00:00",
          "2025-05-20T00:00:00",
          "2025-05-21T00:00:00",
          "2025-05-22T00:00:00",
          "2025-05-23T00:00:00",
          "2025-05-24T00:00:00",
          "2025-05-25T00:00:00",
          "2025-05-26T00:00:00",
          "2025-05-27T00:00:00",
          "2025-05-28T00:00:00"
         ],
         "y": {
          "bdata": "z/dT4yXKg0DtDb4wGSqEQIV80LNZc4RAlWWIY92yhEBI4XoUruuEQEI+6NksH4VAidLe4AtOhUBYyjLEsXWFQHzysFBro4VAKH6MuevMhUD7OnDOCPSFQHlYqDVNF4ZAp3nHKTo8hkAbL90khl6GQOf7qfFSfoZANs07TlGdhkD3deCckbuGQJ5eKcsQ2YZADk+vlOX1hkASg8DKIRKHQJkqGJXULYdAEoPAyiFJh0Ap7Q2+sGOHQGDl0CLbfYdAeqUsQ5yXh0Ag0m9fB7GHQLyWkA/6yYdAdQKaCJvih0B88rBQ6/qHQGwJ+aDnEohA",
          "dtype": "f8"
         }
        },
        {
         "marker": {
          "color": "#3f3f3f",
          "size": 5
         },
         "mode": "lines+markers",
         "name": "Original",
         "showlegend": true,
         "type": "scatter",
         "x": [
          "2024-04-29T00:00:00",
          "2024-04-30T00:00:00",
          "2024-05-01T00:00:00",
          "2024-05-02T00:00:00",
          "2024-05-03T00:00:00",
          "2024-05-04T00:00:00",
          "2024-05-05T00:00:00",
          "2024-05-06T00:00:00",
          "2024-05-07T00:00:00",
          "2024-05-08T00:00:00",
          "2024-05-09T00:00:00",
          "2024-05-10T00:00:00",
          "2024-05-11T00:00:00",
          "2024-05-12T00:00:00",
          "2024-05-13T00:00:00",
          "2024-05-14T00:00:00",
          "2024-05-15T00:00:00",
          "2024-05-16T00:00:00",
          "2024-05-17T00:00:00",
          "2024-05-18T00:00:00",
          "2024-05-19T00:00:00",
          "2024-05-20T00:00:00",
          "2024-05-21T00:00:00",
          "2024-05-22T00:00:00",
          "2024-05-23T00:00:00",
          "2024-05-24T00:00:00",
          "2024-05-25T00:00:00",
          "2024-05-26T00:00:00",
          "2024-05-27T00:00:00",
          "2024-05-28T00:00:00",
          "2024-05-29T00:00:00",
          "2024-05-30T00:00:00",
          "2024-05-31T00:00:00",
          "2024-06-01T00:00:00",
          "2024-06-02T00:00:00",
          "2024-06-03T00:00:00",
          "2024-06-04T00:00:00",
          "2024-06-05T00:00:00",
          "2024-06-06T00:00:00",
          "2024-06-07T00:00:00",
          "2024-06-08T00:00:00",
          "2024-06-09T00:00:00",
          "2024-06-10T00:00:00",
          "2024-06-11T00:00:00",
          "2024-06-12T00:00:00",
          "2024-06-13T00:00:00",
          "2024-06-14T00:00:00",
          "2024-06-15T00:00:00",
          "2024-06-16T00:00:00",
          "2024-06-17T00:00:00",
          "2024-06-18T00:00:00",
          "2024-06-19T00:00:00",
          "2024-06-20T00:00:00",
          "2024-06-21T00:00:00",
          "2024-06-22T00:00:00",
          "2024-06-23T00:00:00",
          "2024-06-24T00:00:00",
          "2024-06-25T00:00:00",
          "2024-06-26T00:00:00",
          "2024-06-27T00:00:00",
          "2024-06-28T00:00:00",
          "2024-06-29T00:00:00",
          "2024-06-30T00:00:00",
          "2024-07-01T00:00:00",
          "2024-07-02T00:00:00",
          "2024-07-03T00:00:00",
          "2024-07-04T00:00:00",
          "2024-07-05T00:00:00",
          "2024-07-06T00:00:00",
          "2024-07-07T00:00:00",
          "2024-07-08T00:00:00",
          "2024-07-09T00:00:00",
          "2024-07-10T00:00:00",
          "2024-07-11T00:00:00",
          "2024-07-12T00:00:00",
          "2024-07-13T00:00:00",
          "2024-07-14T00:00:00",
          "2024-07-15T00:00:00",
          "2024-07-16T00:00:00",
          "2024-07-17T00:00:00",
          "2024-07-18T00:00:00",
          "2024-07-19T00:00:00",
          "2024-07-20T00:00:00",
          "2024-07-21T00:00:00",
          "2024-07-22T00:00:00",
          "2024-07-23T00:00:00",
          "2024-07-24T00:00:00",
          "2024-07-25T00:00:00",
          "2024-07-26T00:00:00",
          "2024-07-27T00:00:00",
          "2024-07-28T00:00:00",
          "2024-07-29T00:00:00",
          "2024-07-30T00:00:00",
          "2024-07-31T00:00:00",
          "2024-08-01T00:00:00",
          "2024-08-02T00:00:00",
          "2024-08-03T00:00:00",
          "2024-08-04T00:00:00",
          "2024-08-05T00:00:00",
          "2024-08-06T00:00:00",
          "2024-08-07T00:00:00",
          "2024-08-08T00:00:00",
          "2024-08-09T00:00:00",
          "2024-08-10T00:00:00",
          "2024-08-11T00:00:00",
          "2024-08-12T00:00:00",
          "2024-08-13T00:00:00",
          "2024-08-14T00:00:00",
          "2024-08-15T00:00:00",
          "2024-08-16T00:00:00",
          "2024-08-17T00:00:00",
          "2024-08-18T00:00:00",
          "2024-08-19T00:00:00",
          "2024-08-20T00:00:00",
          "2024-08-21T00:00:00",
          "2024-08-22T00:00:00",
          "2024-08-23T00:00:00",
          "2024-08-24T00:00:00",
          "2024-08-25T00:00:00",
          "2024-08-26T00:00:00",
          "2024-08-27T00:00:00",
          "2024-08-28T00:00:00",
          "2024-08-29T00:00:00",
          "2024-08-30T00:00:00",
          "2024-08-31T00:00:00",
          "2024-09-01T00:00:00",
          "2024-09-02T00:00:00",
          "2024-09-03T00:00:00",
          "2024-09-04T00:00:00",
          "2024-09-05T00:00:00",
          "2024-09-06T00:00:00",
          "2024-09-07T00:00:00",
          "2024-09-08T00:00:00",
          "2024-09-09T00:00:00",
          "2024-09-10T00:00:00",
          "2024-09-11T00:00:00",
          "2024-09-12T00:00:00",
          "2024-09-13T00:00:00",
          "2024-09-14T00:00:00",
          "2024-09-15T00:00:00",
          "2024-09-16T00:00:00",
          "2024-09-17T00:00:00",
          "2024-09-18T00:00:00",
          "2024-09-19T00:00:00",
          "2024-09-20T00:00:00",
          "2024-09-21T00:00:00",
          "2024-09-22T00:00:00",
          "2024-09-23T00:00:00",
          "2024-09-24T00:00:00",
          "2024-09-25T00:00:00",
          "2024-09-26T00:00:00",
          "2024-09-27T00:00:00",
          "2024-09-28T00:00:00",
          "2024-09-29T00:00:00",
          "2024-09-30T00:00:00",
          "2024-10-01T00:00:00",
          "2024-10-02T00:00:00",
          "2024-10-03T00:00:00",
          "2024-10-04T00:00:00",
          "2024-10-05T00:00:00",
          "2024-10-06T00:00:00",
          "2024-10-07T00:00:00",
          "2024-10-08T00:00:00",
          "2024-10-09T00:00:00",
          "2024-10-10T00:00:00",
          "2024-10-11T00:00:00",
          "2024-10-12T00:00:00",
          "2024-10-13T00:00:00",
          "2024-10-14T00:00:00",
          "2024-10-15T00:00:00",
          "2024-10-16T00:00:00",
          "2024-10-17T00:00:00",
          "2024-10-18T00:00:00",
          "2024-10-19T00:00:00",
          "2024-10-20T00:00:00",
          "2024-10-21T00:00:00",
          "2024-10-22T00:00:00",
          "2024-10-23T00:00:00",
          "2024-10-24T00:00:00",
          "2024-10-25T00:00:00",
          "2024-10-26T00:00:00",
          "2024-10-27T00:00:00",
          "2024-10-28T00:00:00",
          "2024-10-29T00:00:00",
          "2024-10-30T00:00:00",
          "2024-10-31T00:00:00",
          "2024-11-01T00:00:00",
          "2024-11-02T00:00:00",
          "2024-11-03T00:00:00",
          "2024-11-04T00:00:00",
          "2024-11-05T00:00:00",
          "2024-11-06T00:00:00",
          "2024-11-07T00:00:00",
          "2024-11-08T00:00:00",
          "2024-11-09T00:00:00",
          "2024-11-10T00:00:00",
          "2024-11-11T00:00:00",
          "2024-11-12T00:00:00",
          "2024-11-13T00:00:00",
          "2024-11-14T00:00:00",
          "2024-11-15T00:00:00",
          "2024-11-16T00:00:00",
          "2024-11-17T00:00:00",
          "2024-11-18T00:00:00",
          "2024-11-19T00:00:00",
          "2024-11-20T00:00:00",
          "2024-11-21T00:00:00",
          "2024-11-22T00:00:00",
          "2024-11-23T00:00:00",
          "2024-11-24T00:00:00",
          "2024-11-25T00:00:00",
          "2024-11-26T00:00:00",
          "2024-11-27T00:00:00",
          "2024-11-28T00:00:00",
          "2024-11-29T00:00:00",
          "2024-11-30T00:00:00",
          "2024-12-01T00:00:00",
          "2024-12-02T00:00:00",
          "2024-12-03T00:00:00",
          "2024-12-04T00:00:00",
          "2024-12-05T00:00:00",
          "2024-12-06T00:00:00",
          "2024-12-07T00:00:00",
          "2024-12-08T00:00:00",
          "2024-12-09T00:00:00",
          "2024-12-10T00:00:00",
          "2024-12-11T00:00:00",
          "2024-12-12T00:00:00",
          "2024-12-13T00:00:00",
          "2024-12-14T00:00:00",
          "2024-12-15T00:00:00",
          "2024-12-16T00:00:00",
          "2024-12-17T00:00:00",
          "2024-12-18T00:00:00",
          "2024-12-19T00:00:00",
          "2024-12-20T00:00:00",
          "2024-12-21T00:00:00",
          "2024-12-22T00:00:00",
          "2024-12-23T00:00:00",
          "2024-12-24T00:00:00",
          "2024-12-25T00:00:00",
          "2024-12-26T00:00:00",
          "2024-12-27T00:00:00",
          "2024-12-28T00:00:00",
          "2024-12-29T00:00:00",
          "2024-12-30T00:00:00",
          "2024-12-31T00:00:00",
          "2025-01-01T00:00:00",
          "2025-01-02T00:00:00",
          "2025-01-03T00:00:00",
          "2025-01-04T00:00:00",
          "2025-01-05T00:00:00",
          "2025-01-06T00:00:00",
          "2025-01-07T00:00:00",
          "2025-01-08T00:00:00",
          "2025-01-09T00:00:00",
          "2025-01-10T00:00:00",
          "2025-01-11T00:00:00",
          "2025-01-12T00:00:00",
          "2025-01-13T00:00:00",
          "2025-01-14T00:00:00",
          "2025-01-15T00:00:00",
          "2025-01-16T00:00:00",
          "2025-01-17T00:00:00",
          "2025-01-18T00:00:00",
          "2025-01-19T00:00:00",
          "2025-01-20T00:00:00",
          "2025-01-21T00:00:00",
          "2025-01-22T00:00:00",
          "2025-01-23T00:00:00",
          "2025-01-24T00:00:00",
          "2025-01-25T00:00:00",
          "2025-01-26T00:00:00",
          "2025-01-27T00:00:00",
          "2025-01-28T00:00:00",
          "2025-01-29T00:00:00",
          "2025-01-30T00:00:00",
          "2025-01-31T00:00:00",
          "2025-02-01T00:00:00",
          "2025-02-02T00:00:00",
          "2025-02-03T00:00:00",
          "2025-02-04T00:00:00",
          "2025-02-05T00:00:00",
          "2025-02-06T00:00:00",
          "2025-02-07T00:00:00",
          "2025-02-08T00:00:00",
          "2025-02-09T00:00:00",
          "2025-02-10T00:00:00",
          "2025-02-11T00:00:00",
          "2025-02-12T00:00:00",
          "2025-02-13T00:00:00",
          "2025-02-14T00:00:00",
          "2025-02-15T00:00:00",
          "2025-02-16T00:00:00",
          "2025-02-17T00:00:00",
          "2025-02-18T00:00:00",
          "2025-02-19T00:00:00",
          "2025-02-20T00:00:00",
          "2025-02-21T00:00:00",
          "2025-02-22T00:00:00",
          "2025-02-23T00:00:00",
          "2025-02-24T00:00:00",
          "2025-02-25T00:00:00",
          "2025-02-26T00:00:00",
          "2025-02-27T00:00:00",
          "2025-02-28T00:00:00",
          "2025-03-01T00:00:00",
          "2025-03-02T00:00:00",
          "2025-03-03T00:00:00",
          "2025-03-04T00:00:00",
          "2025-03-05T00:00:00",
          "2025-03-06T00:00:00",
          "2025-03-07T00:00:00",
          "2025-03-08T00:00:00",
          "2025-03-09T00:00:00",
          "2025-03-10T00:00:00",
          "2025-03-11T00:00:00",
          "2025-03-12T00:00:00",
          "2025-03-13T00:00:00",
          "2025-03-14T00:00:00",
          "2025-03-15T00:00:00",
          "2025-03-16T00:00:00",
          "2025-03-17T00:00:00",
          "2025-03-18T00:00:00",
          "2025-03-19T00:00:00",
          "2025-03-20T00:00:00",
          "2025-03-21T00:00:00",
          "2025-03-22T00:00:00",
          "2025-03-23T00:00:00",
          "2025-03-24T00:00:00",
          "2025-03-25T00:00:00",
          "2025-03-26T00:00:00",
          "2025-03-27T00:00:00",
          "2025-03-28T00:00:00",
          "2025-03-29T00:00:00",
          "2025-03-30T00:00:00",
          "2025-03-31T00:00:00",
          "2025-04-01T00:00:00",
          "2025-04-02T00:00:00",
          "2025-04-03T00:00:00",
          "2025-04-04T00:00:00",
          "2025-04-05T00:00:00",
          "2025-04-06T00:00:00",
          "2025-04-07T00:00:00",
          "2025-04-08T00:00:00",
          "2025-04-09T00:00:00",
          "2025-04-10T00:00:00",
          "2025-04-11T00:00:00",
          "2025-04-12T00:00:00",
          "2025-04-13T00:00:00",
          "2025-04-14T00:00:00",
          "2025-04-15T00:00:00",
          "2025-04-16T00:00:00",
          "2025-04-17T00:00:00",
          "2025-04-18T00:00:00",
          "2025-04-19T00:00:00",
          "2025-04-20T00:00:00",
          "2025-04-21T00:00:00",
          "2025-04-22T00:00:00",
          "2025-04-23T00:00:00",
          "2025-04-24T00:00:00",
          "2025-04-25T00:00:00",
          "2025-04-26T00:00:00",
          "2025-04-27T00:00:00",
          "2025-04-28T00:00:00"
         ],
         "y": {
          "bdata": "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",
          "dtype": "f8"
         }
        }
       ],
       "layout": {
        "showlegend": true,
        "template": {
         "data": {
          "bar": [
           {
            "error_x": {
             "color": "rgb(51,51,51)"
            },
            "error_y": {
             "color": "rgb(51,51,51)"
            },
            "marker": {
             "line": {
              "color": "rgb(237,237,237)",
              "width": 0.5
             },
             "pattern": {
              "fillmode": "overlay",
              "size": 10,
              "solidity": 0.2
             }
            },
            "type": "bar"
           }
          ],
          "barpolar": [
           {
            "marker": {
             "line": {
              "color": "rgb(237,237,237)",
              "width": 0.5
             },
             "pattern": {
              "fillmode": "overlay",
              "size": 10,
              "solidity": 0.2
             }
            },
            "type": "barpolar"
           }
          ],
          "carpet": [
           {
            "aaxis": {
             "endlinecolor": "rgb(51,51,51)",
             "gridcolor": "white",
             "linecolor": "white",
             "minorgridcolor": "white",
             "startlinecolor": "rgb(51,51,51)"
            },
            "baxis": {
             "endlinecolor": "rgb(51,51,51)",
             "gridcolor": "white",
             "linecolor": "white",
             "minorgridcolor": "white",
             "startlinecolor": "rgb(51,51,51)"
            },
            "type": "carpet"
           }
          ],
          "choropleth": [
           {
            "colorbar": {
             "outlinewidth": 0,
             "tickcolor": "rgb(237,237,237)",
             "ticklen": 6,
             "ticks": "inside"
            },
            "type": "choropleth"
           }
          ],
          "contour": [
           {
            "colorbar": {
             "outlinewidth": 0,
             "tickcolor": "rgb(237,237,237)",
             "ticklen": 6,
             "ticks": "inside"
            },
            "colorscale": [
             [
              0,
              "rgb(20,44,66)"
             ],
             [
              1,
              "rgb(90,179,244)"
             ]
            ],
            "type": "contour"
           }
          ],
          "contourcarpet": [
           {
            "colorbar": {
             "outlinewidth": 0,
             "tickcolor": "rgb(237,237,237)",
             "ticklen": 6,
             "ticks": "inside"
            },
            "type": "contourcarpet"
           }
          ],
          "heatmap": [
           {
            "colorbar": {
             "outlinewidth": 0,
             "tickcolor": "rgb(237,237,237)",
             "ticklen": 6,
             "ticks": "inside"
            },
            "colorscale": [
             [
              0,
              "rgb(20,44,66)"
             ],
             [
              1,
              "rgb(90,179,244)"
             ]
            ],
            "type": "heatmap"
           }
          ],
          "histogram": [
           {
            "marker": {
             "pattern": {
              "fillmode": "overlay",
              "size": 10,
              "solidity": 0.2
             }
            },
            "type": "histogram"
           }
          ],
          "histogram2d": [
           {
            "colorbar": {
             "outlinewidth": 0,
             "tickcolor": "rgb(237,237,237)",
             "ticklen": 6,
             "ticks": "inside"
            },
            "colorscale": [
             [
              0,
              "rgb(20,44,66)"
             ],
             [
              1,
              "rgb(90,179,244)"
             ]
            ],
            "type": "histogram2d"
           }
          ],
          "histogram2dcontour": [
           {
            "colorbar": {
             "outlinewidth": 0,
             "tickcolor": "rgb(237,237,237)",
             "ticklen": 6,
             "ticks": "inside"
            },
            "colorscale": [
             [
              0,
              "rgb(20,44,66)"
             ],
             [
              1,
              "rgb(90,179,244)"
             ]
            ],
            "type": "histogram2dcontour"
           }
          ],
          "mesh3d": [
           {
            "colorbar": {
             "outlinewidth": 0,
             "tickcolor": "rgb(237,237,237)",
             "ticklen": 6,
             "ticks": "inside"
            },
            "type": "mesh3d"
           }
          ],
          "parcoords": [
           {
            "line": {
             "colorbar": {
              "outlinewidth": 0,
              "tickcolor": "rgb(237,237,237)",
              "ticklen": 6,
              "ticks": "inside"
             }
            },
            "type": "parcoords"
           }
          ],
          "pie": [
           {
            "automargin": true,
            "type": "pie"
           }
          ],
          "scatter": [
           {
            "fillpattern": {
             "fillmode": "overlay",
             "size": 10,
             "solidity": 0.2
            },
            "type": "scatter"
           }
          ],
          "scatter3d": [
           {
            "line": {
             "colorbar": {
              "outlinewidth": 0,
              "tickcolor": "rgb(237,237,237)",
              "ticklen": 6,
              "ticks": "inside"
             }
            },
            "marker": {
             "colorbar": {
              "outlinewidth": 0,
              "tickcolor": "rgb(237,237,237)",
              "ticklen": 6,
              "ticks": "inside"
             }
            },
            "type": "scatter3d"
           }
          ],
          "scattercarpet": [
           {
            "marker": {
             "colorbar": {
              "outlinewidth": 0,
              "tickcolor": "rgb(237,237,237)",
              "ticklen": 6,
              "ticks": "inside"
             }
            },
            "type": "scattercarpet"
           }
          ],
          "scattergeo": [
           {
            "marker": {
             "colorbar": {
              "outlinewidth": 0,
              "tickcolor": "rgb(237,237,237)",
              "ticklen": 6,
              "ticks": "inside"
             }
            },
            "type": "scattergeo"
           }
          ],
          "scattergl": [
           {
            "marker": {
             "colorbar": {
              "outlinewidth": 0,
              "tickcolor": "rgb(237,237,237)",
              "ticklen": 6,
              "ticks": "inside"
             }
            },
            "type": "scattergl"
           }
          ],
          "scattermap": [
           {
            "marker": {
             "colorbar": {
              "outlinewidth": 0,
              "tickcolor": "rgb(237,237,237)",
              "ticklen": 6,
              "ticks": "inside"
             }
            },
            "type": "scattermap"
           }
          ],
          "scattermapbox": [
           {
            "marker": {
             "colorbar": {
              "outlinewidth": 0,
              "tickcolor": "rgb(237,237,237)",
              "ticklen": 6,
              "ticks": "inside"
             }
            },
            "type": "scattermapbox"
           }
          ],
          "scatterpolar": [
           {
            "marker": {
             "colorbar": {
              "outlinewidth": 0,
              "tickcolor": "rgb(237,237,237)",
              "ticklen": 6,
              "ticks": "inside"
             }
            },
            "type": "scatterpolar"
           }
          ],
          "scatterpolargl": [
           {
            "marker": {
             "colorbar": {
              "outlinewidth": 0,
              "tickcolor": "rgb(237,237,237)",
              "ticklen": 6,
              "ticks": "inside"
             }
            },
            "type": "scatterpolargl"
           }
          ],
          "scatterternary": [
           {
            "marker": {
             "colorbar": {
              "outlinewidth": 0,
              "tickcolor": "rgb(237,237,237)",
              "ticklen": 6,
              "ticks": "inside"
             }
            },
            "type": "scatterternary"
           }
          ],
          "surface": [
           {
            "colorbar": {
             "outlinewidth": 0,
             "tickcolor": "rgb(237,237,237)",
             "ticklen": 6,
             "ticks": "inside"
            },
            "colorscale": [
             [
              0,
              "rgb(20,44,66)"
             ],
             [
              1,
              "rgb(90,179,244)"
             ]
            ],
            "type": "surface"
           }
          ],
          "table": [
           {
            "cells": {
             "fill": {
              "color": "rgb(237,237,237)"
             },
             "line": {
              "color": "white"
             }
            },
            "header": {
             "fill": {
              "color": "rgb(217,217,217)"
             },
             "line": {
              "color": "white"
             }
            },
            "type": "table"
           }
          ]
         },
         "layout": {
          "annotationdefaults": {
           "arrowhead": 0,
           "arrowwidth": 1
          },
          "autotypenumbers": "strict",
          "coloraxis": {
           "colorbar": {
            "outlinewidth": 0,
            "tickcolor": "rgb(237,237,237)",
            "ticklen": 6,
            "ticks": "inside"
           }
          },
          "colorscale": {
           "sequential": [
            [
             0,
             "rgb(20,44,66)"
            ],
            [
             1,
             "rgb(90,179,244)"
            ]
           ],
           "sequentialminus": [
            [
             0,
             "rgb(20,44,66)"
            ],
            [
             1,
             "rgb(90,179,244)"
            ]
           ]
          },
          "colorway": [
           "#F8766D",
           "#A3A500",
           "#00BF7D",
           "#00B0F6",
           "#E76BF3"
          ],
          "font": {
           "color": "rgb(51,51,51)"
          },
          "geo": {
           "bgcolor": "white",
           "lakecolor": "white",
           "landcolor": "rgb(237,237,237)",
           "showlakes": true,
           "showland": true,
           "subunitcolor": "white"
          },
          "hoverlabel": {
           "align": "left"
          },
          "hovermode": "closest",
          "paper_bgcolor": "white",
          "plot_bgcolor": "rgb(237,237,237)",
          "polar": {
           "angularaxis": {
            "gridcolor": "white",
            "linecolor": "white",
            "showgrid": true,
            "tickcolor": "rgb(51,51,51)",
            "ticks": "outside"
           },
           "bgcolor": "rgb(237,237,237)",
           "radialaxis": {
            "gridcolor": "white",
            "linecolor": "white",
            "showgrid": true,
            "tickcolor": "rgb(51,51,51)",
            "ticks": "outside"
           }
          },
          "scene": {
           "xaxis": {
            "backgroundcolor": "rgb(237,237,237)",
            "gridcolor": "white",
            "gridwidth": 2,
            "linecolor": "white",
            "showbackground": true,
            "showgrid": true,
            "tickcolor": "rgb(51,51,51)",
            "ticks": "outside",
            "zerolinecolor": "white"
           },
           "yaxis": {
            "backgroundcolor": "rgb(237,237,237)",
            "gridcolor": "white",
            "gridwidth": 2,
            "linecolor": "white",
            "showbackground": true,
            "showgrid": true,
            "tickcolor": "rgb(51,51,51)",
            "ticks": "outside",
            "zerolinecolor": "white"
           },
           "zaxis": {
            "backgroundcolor": "rgb(237,237,237)",
            "gridcolor": "white",
            "gridwidth": 2,
            "linecolor": "white",
            "showbackground": true,
            "showgrid": true,
            "tickcolor": "rgb(51,51,51)",
            "ticks": "outside",
            "zerolinecolor": "white"
           }
          },
          "shapedefaults": {
           "fillcolor": "black",
           "line": {
            "width": 0
           },
           "opacity": 0.3
          },
          "ternary": {
           "aaxis": {
            "gridcolor": "white",
            "linecolor": "white",
            "showgrid": true,
            "tickcolor": "rgb(51,51,51)",
            "ticks": "outside"
           },
           "baxis": {
            "gridcolor": "white",
            "linecolor": "white",
            "showgrid": true,
            "tickcolor": "rgb(51,51,51)",
            "ticks": "outside"
           },
           "bgcolor": "rgb(237,237,237)",
           "caxis": {
            "gridcolor": "white",
            "linecolor": "white",
            "showgrid": true,
            "tickcolor": "rgb(51,51,51)",
            "ticks": "outside"
           }
          },
          "xaxis": {
           "automargin": true,
           "gridcolor": "white",
           "linecolor": "white",
           "showgrid": true,
           "tickcolor": "rgb(51,51,51)",
           "ticks": "outside",
           "title": {
            "standoff": 15
           },
           "zerolinecolor": "white"
          },
          "yaxis": {
           "automargin": true,
           "gridcolor": "white",
           "linecolor": "white",
           "showgrid": true,
           "tickcolor": "rgb(51,51,51)",
           "ticks": "outside",
           "title": {
            "standoff": 15
           },
           "zerolinecolor": "white"
          }
         }
        },
        "title": {
         "text": "Actual vs. 'Out-of-Sample' Forecast | BNB-USD"
        },
        "xaxis": {
         "title": {
          "text": "Time"
         }
        },
        "yaxis": {
         "title": {
          "text": "Values"
         }
        }
       }
      }
     },
     "metadata": {},
     "output_type": "display_data"
    }
   ],
   "source": [
    "arima = create_model('arima')\n",
    "tuned_arima = tune_model(arima)\n",
    "final_arima = finalize_model(tuned_arima)\n",
    "#future_dates = pd.date_range(df.index[-1], periods=30, freq='D')\n",
    "arima_predictions = predict_model(final_arima)\n",
    "#Plot prophet model forecast\n",
    "plot_model(final_arima, plot='forecast')"
   ]
  },
  {
   "cell_type": "markdown",
   "id": "7c14b049",
   "metadata": {},
   "source": [
    "BNB-USD Prophet Model - Using This one for GUI"
   ]
  },
  {
   "cell_type": "code",
   "execution_count": 41,
   "id": "4c793c0e",
   "metadata": {},
   "outputs": [
    {
     "data": {
      "text/html": [
       "<div>\n",
       "<style scoped>\n",
       "    .dataframe tbody tr th:only-of-type {\n",
       "        vertical-align: middle;\n",
       "    }\n",
       "\n",
       "    .dataframe tbody tr th {\n",
       "        vertical-align: top;\n",
       "    }\n",
       "\n",
       "    .dataframe thead th {\n",
       "        text-align: right;\n",
       "    }\n",
       "</style>\n",
       "<table border=\"1\" class=\"dataframe\">\n",
       "  <thead>\n",
       "    <tr style=\"text-align: right;\">\n",
       "      <th></th>\n",
       "      <th></th>\n",
       "      <th></th>\n",
       "    </tr>\n",
       "    <tr>\n",
       "      <th></th>\n",
       "      <th></th>\n",
       "      <th></th>\n",
       "    </tr>\n",
       "  </thead>\n",
       "  <tbody>\n",
       "    <tr>\n",
       "      <th>Initiated</th>\n",
       "      <td>. . . . . . . . . . . . . . . . . .</td>\n",
       "      <td>15:58:08</td>\n",
       "    </tr>\n",
       "    <tr>\n",
       "      <th>Status</th>\n",
       "      <td>. . . . . . . . . . . . . . . . . .</td>\n",
       "      <td>Fitting 3 Folds</td>\n",
       "    </tr>\n",
       "    <tr>\n",
       "      <th>Estimator</th>\n",
       "      <td>. . . . . . . . . . . . . . . . . .</td>\n",
       "      <td>Prophet</td>\n",
       "    </tr>\n",
       "  </tbody>\n",
       "</table>\n",
       "</div>"
      ],
      "text/plain": [
       "                                                               \n",
       "                                                               \n",
       "Initiated  . . . . . . . . . . . . . . . . . .         15:58:08\n",
       "Status     . . . . . . . . . . . . . . . . . .  Fitting 3 Folds\n",
       "Estimator  . . . . . . . . . . . . . . . . . .          Prophet"
      ]
     },
     "metadata": {},
     "output_type": "display_data"
    },
    {
     "data": {
      "text/html": [
       "<style type=\"text/css\">\n",
       "#T_2b448_row3_col0, #T_2b448_row3_col1, #T_2b448_row3_col2, #T_2b448_row3_col3, #T_2b448_row3_col4, #T_2b448_row3_col5, #T_2b448_row3_col6, #T_2b448_row3_col7 {\n",
       "  background: yellow;\n",
       "}\n",
       "</style>\n",
       "<table id=\"T_2b448\">\n",
       "  <thead>\n",
       "    <tr>\n",
       "      <th class=\"blank level0\" >&nbsp;</th>\n",
       "      <th id=\"T_2b448_level0_col0\" class=\"col_heading level0 col0\" >cutoff</th>\n",
       "      <th id=\"T_2b448_level0_col1\" class=\"col_heading level0 col1\" >MASE</th>\n",
       "      <th id=\"T_2b448_level0_col2\" class=\"col_heading level0 col2\" >RMSSE</th>\n",
       "      <th id=\"T_2b448_level0_col3\" class=\"col_heading level0 col3\" >MAE</th>\n",
       "      <th id=\"T_2b448_level0_col4\" class=\"col_heading level0 col4\" >RMSE</th>\n",
       "      <th id=\"T_2b448_level0_col5\" class=\"col_heading level0 col5\" >MAPE</th>\n",
       "      <th id=\"T_2b448_level0_col6\" class=\"col_heading level0 col6\" >SMAPE</th>\n",
       "      <th id=\"T_2b448_level0_col7\" class=\"col_heading level0 col7\" >R2</th>\n",
       "    </tr>\n",
       "  </thead>\n",
       "  <tbody>\n",
       "    <tr>\n",
       "      <th id=\"T_2b448_level0_row0\" class=\"row_heading level0 row0\" >0</th>\n",
       "      <td id=\"T_2b448_row0_col0\" class=\"data row0 col0\" >2024-12-29</td>\n",
       "      <td id=\"T_2b448_row0_col1\" class=\"data row0 col1\" >2.2072</td>\n",
       "      <td id=\"T_2b448_row0_col2\" class=\"data row0 col2\" >1.8970</td>\n",
       "      <td id=\"T_2b448_row0_col3\" class=\"data row0 col3\" >73.5938</td>\n",
       "      <td id=\"T_2b448_row0_col4\" class=\"data row0 col4\" >81.6554</td>\n",
       "      <td id=\"T_2b448_row0_col5\" class=\"data row0 col5\" >0.1066</td>\n",
       "      <td id=\"T_2b448_row0_col6\" class=\"data row0 col6\" >0.1000</td>\n",
       "      <td id=\"T_2b448_row0_col7\" class=\"data row0 col7\" >-28.3134</td>\n",
       "    </tr>\n",
       "    <tr>\n",
       "      <th id=\"T_2b448_level0_row1\" class=\"row_heading level0 row1\" >1</th>\n",
       "      <td id=\"T_2b448_row1_col0\" class=\"data row1 col0\" >2025-01-28</td>\n",
       "      <td id=\"T_2b448_row1_col1\" class=\"data row1 col1\" >1.8513</td>\n",
       "      <td id=\"T_2b448_row1_col2\" class=\"data row1 col2\" >1.6422</td>\n",
       "      <td id=\"T_2b448_row1_col3\" class=\"data row1 col3\" >58.2338</td>\n",
       "      <td id=\"T_2b448_row1_col4\" class=\"data row1 col4\" >67.4578</td>\n",
       "      <td id=\"T_2b448_row1_col5\" class=\"data row1 col5\" >0.0947</td>\n",
       "      <td id=\"T_2b448_row1_col6\" class=\"data row1 col6\" >0.0888</td>\n",
       "      <td id=\"T_2b448_row1_col7\" class=\"data row1 col7\" >-2.8251</td>\n",
       "    </tr>\n",
       "    <tr>\n",
       "      <th id=\"T_2b448_level0_row2\" class=\"row_heading level0 row2\" >2</th>\n",
       "      <td id=\"T_2b448_row2_col0\" class=\"data row2 col0\" >2025-02-27</td>\n",
       "      <td id=\"T_2b448_row2_col1\" class=\"data row2 col1\" >0.9068</td>\n",
       "      <td id=\"T_2b448_row2_col2\" class=\"data row2 col2\" >0.7928</td>\n",
       "      <td id=\"T_2b448_row2_col3\" class=\"data row2 col3\" >29.9613</td>\n",
       "      <td id=\"T_2b448_row2_col4\" class=\"data row2 col4\" >34.2431</td>\n",
       "      <td id=\"T_2b448_row2_col5\" class=\"data row2 col5\" >0.0505</td>\n",
       "      <td id=\"T_2b448_row2_col6\" class=\"data row2 col6\" >0.0499</td>\n",
       "      <td id=\"T_2b448_row2_col7\" class=\"data row2 col7\" >-0.5861</td>\n",
       "    </tr>\n",
       "    <tr>\n",
       "      <th id=\"T_2b448_level0_row3\" class=\"row_heading level0 row3\" >Mean</th>\n",
       "      <td id=\"T_2b448_row3_col0\" class=\"data row3 col0\" >NaT</td>\n",
       "      <td id=\"T_2b448_row3_col1\" class=\"data row3 col1\" >1.6551</td>\n",
       "      <td id=\"T_2b448_row3_col2\" class=\"data row3 col2\" >1.4440</td>\n",
       "      <td id=\"T_2b448_row3_col3\" class=\"data row3 col3\" >53.9296</td>\n",
       "      <td id=\"T_2b448_row3_col4\" class=\"data row3 col4\" >61.1188</td>\n",
       "      <td id=\"T_2b448_row3_col5\" class=\"data row3 col5\" >0.0839</td>\n",
       "      <td id=\"T_2b448_row3_col6\" class=\"data row3 col6\" >0.0796</td>\n",
       "      <td id=\"T_2b448_row3_col7\" class=\"data row3 col7\" >-10.5749</td>\n",
       "    </tr>\n",
       "    <tr>\n",
       "      <th id=\"T_2b448_level0_row4\" class=\"row_heading level0 row4\" >SD</th>\n",
       "      <td id=\"T_2b448_row4_col0\" class=\"data row4 col0\" >NaT</td>\n",
       "      <td id=\"T_2b448_row4_col1\" class=\"data row4 col1\" >0.5487</td>\n",
       "      <td id=\"T_2b448_row4_col2\" class=\"data row4 col2\" >0.4721</td>\n",
       "      <td id=\"T_2b448_row4_col3\" class=\"data row4 col3\" >18.0710</td>\n",
       "      <td id=\"T_2b448_row4_col4\" class=\"data row4 col4\" >19.8682</td>\n",
       "      <td id=\"T_2b448_row4_col5\" class=\"data row4 col5\" >0.0241</td>\n",
       "      <td id=\"T_2b448_row4_col6\" class=\"data row4 col6\" >0.0215</td>\n",
       "      <td id=\"T_2b448_row4_col7\" class=\"data row4 col7\" >12.5763</td>\n",
       "    </tr>\n",
       "  </tbody>\n",
       "</table>\n"
      ],
      "text/plain": [
       "<pandas.io.formats.style.Styler at 0x1b9c3e17b20>"
      ]
     },
     "metadata": {},
     "output_type": "display_data"
    },
    {
     "data": {
      "text/html": [],
      "text/plain": [
       "<IPython.core.display.HTML object>"
      ]
     },
     "metadata": {},
     "output_type": "display_data"
    },
    {
     "data": {
      "text/html": [],
      "text/plain": [
       "<IPython.core.display.HTML object>"
      ]
     },
     "metadata": {},
     "output_type": "display_data"
    },
    {
     "data": {
      "text/html": [
       "<style type=\"text/css\">\n",
       "#T_7b3f7_row3_col0, #T_7b3f7_row3_col1, #T_7b3f7_row3_col2, #T_7b3f7_row3_col3, #T_7b3f7_row3_col4, #T_7b3f7_row3_col5, #T_7b3f7_row3_col6, #T_7b3f7_row3_col7 {\n",
       "  background: yellow;\n",
       "}\n",
       "</style>\n",
       "<table id=\"T_7b3f7\">\n",
       "  <thead>\n",
       "    <tr>\n",
       "      <th class=\"blank level0\" >&nbsp;</th>\n",
       "      <th id=\"T_7b3f7_level0_col0\" class=\"col_heading level0 col0\" >cutoff</th>\n",
       "      <th id=\"T_7b3f7_level0_col1\" class=\"col_heading level0 col1\" >MASE</th>\n",
       "      <th id=\"T_7b3f7_level0_col2\" class=\"col_heading level0 col2\" >RMSSE</th>\n",
       "      <th id=\"T_7b3f7_level0_col3\" class=\"col_heading level0 col3\" >MAE</th>\n",
       "      <th id=\"T_7b3f7_level0_col4\" class=\"col_heading level0 col4\" >RMSE</th>\n",
       "      <th id=\"T_7b3f7_level0_col5\" class=\"col_heading level0 col5\" >MAPE</th>\n",
       "      <th id=\"T_7b3f7_level0_col6\" class=\"col_heading level0 col6\" >SMAPE</th>\n",
       "      <th id=\"T_7b3f7_level0_col7\" class=\"col_heading level0 col7\" >R2</th>\n",
       "    </tr>\n",
       "  </thead>\n",
       "  <tbody>\n",
       "    <tr>\n",
       "      <th id=\"T_7b3f7_level0_row0\" class=\"row_heading level0 row0\" >0</th>\n",
       "      <td id=\"T_7b3f7_row0_col0\" class=\"data row0 col0\" >2024-12-29</td>\n",
       "      <td id=\"T_7b3f7_row0_col1\" class=\"data row0 col1\" >1.9102</td>\n",
       "      <td id=\"T_7b3f7_row0_col2\" class=\"data row0 col2\" >1.6622</td>\n",
       "      <td id=\"T_7b3f7_row0_col3\" class=\"data row0 col3\" >63.6913</td>\n",
       "      <td id=\"T_7b3f7_row0_col4\" class=\"data row0 col4\" >71.5469</td>\n",
       "      <td id=\"T_7b3f7_row0_col5\" class=\"data row0 col5\" >0.0923</td>\n",
       "      <td id=\"T_7b3f7_row0_col6\" class=\"data row0 col6\" >0.0872</td>\n",
       "      <td id=\"T_7b3f7_row0_col7\" class=\"data row0 col7\" >-21.5049</td>\n",
       "    </tr>\n",
       "    <tr>\n",
       "      <th id=\"T_7b3f7_level0_row1\" class=\"row_heading level0 row1\" >1</th>\n",
       "      <td id=\"T_7b3f7_row1_col0\" class=\"data row1 col0\" >2025-01-28</td>\n",
       "      <td id=\"T_7b3f7_row1_col1\" class=\"data row1 col1\" >1.4875</td>\n",
       "      <td id=\"T_7b3f7_row1_col2\" class=\"data row1 col2\" >1.3982</td>\n",
       "      <td id=\"T_7b3f7_row1_col3\" class=\"data row1 col3\" >46.7892</td>\n",
       "      <td id=\"T_7b3f7_row1_col4\" class=\"data row1 col4\" >57.4363</td>\n",
       "      <td id=\"T_7b3f7_row1_col5\" class=\"data row1 col5\" >0.0766</td>\n",
       "      <td id=\"T_7b3f7_row1_col6\" class=\"data row1 col6\" >0.0723</td>\n",
       "      <td id=\"T_7b3f7_row1_col7\" class=\"data row1 col7\" >-1.7730</td>\n",
       "    </tr>\n",
       "    <tr>\n",
       "      <th id=\"T_7b3f7_level0_row2\" class=\"row_heading level0 row2\" >2</th>\n",
       "      <td id=\"T_7b3f7_row2_col0\" class=\"data row2 col0\" >2025-02-27</td>\n",
       "      <td id=\"T_7b3f7_row2_col1\" class=\"data row2 col1\" >0.9176</td>\n",
       "      <td id=\"T_7b3f7_row2_col2\" class=\"data row2 col2\" >0.7954</td>\n",
       "      <td id=\"T_7b3f7_row2_col3\" class=\"data row2 col3\" >30.3193</td>\n",
       "      <td id=\"T_7b3f7_row2_col4\" class=\"data row2 col4\" >34.3568</td>\n",
       "      <td id=\"T_7b3f7_row2_col5\" class=\"data row2 col5\" >0.0510</td>\n",
       "      <td id=\"T_7b3f7_row2_col6\" class=\"data row2 col6\" >0.0505</td>\n",
       "      <td id=\"T_7b3f7_row2_col7\" class=\"data row2 col7\" >-0.5967</td>\n",
       "    </tr>\n",
       "    <tr>\n",
       "      <th id=\"T_7b3f7_level0_row3\" class=\"row_heading level0 row3\" >Mean</th>\n",
       "      <td id=\"T_7b3f7_row3_col0\" class=\"data row3 col0\" >NaT</td>\n",
       "      <td id=\"T_7b3f7_row3_col1\" class=\"data row3 col1\" >1.4385</td>\n",
       "      <td id=\"T_7b3f7_row3_col2\" class=\"data row3 col2\" >1.2853</td>\n",
       "      <td id=\"T_7b3f7_row3_col3\" class=\"data row3 col3\" >46.9333</td>\n",
       "      <td id=\"T_7b3f7_row3_col4\" class=\"data row3 col4\" >54.4466</td>\n",
       "      <td id=\"T_7b3f7_row3_col5\" class=\"data row3 col5\" >0.0733</td>\n",
       "      <td id=\"T_7b3f7_row3_col6\" class=\"data row3 col6\" >0.0700</td>\n",
       "      <td id=\"T_7b3f7_row3_col7\" class=\"data row3 col7\" >-7.9582</td>\n",
       "    </tr>\n",
       "    <tr>\n",
       "      <th id=\"T_7b3f7_level0_row4\" class=\"row_heading level0 row4\" >SD</th>\n",
       "      <td id=\"T_7b3f7_row4_col0\" class=\"data row4 col0\" >NaT</td>\n",
       "      <td id=\"T_7b3f7_row4_col1\" class=\"data row4 col1\" >0.4067</td>\n",
       "      <td id=\"T_7b3f7_row4_col2\" class=\"data row4 col2\" >0.3628</td>\n",
       "      <td id=\"T_7b3f7_row4_col3\" class=\"data row4 col3\" >13.6245</td>\n",
       "      <td id=\"T_7b3f7_row4_col4\" class=\"data row4 col4\" >15.3293</td>\n",
       "      <td id=\"T_7b3f7_row4_col5\" class=\"data row4 col5\" >0.0171</td>\n",
       "      <td id=\"T_7b3f7_row4_col6\" class=\"data row4 col6\" >0.0151</td>\n",
       "      <td id=\"T_7b3f7_row4_col7\" class=\"data row4 col7\" >9.5910</td>\n",
       "    </tr>\n",
       "  </tbody>\n",
       "</table>\n"
      ],
      "text/plain": [
       "<pandas.io.formats.style.Styler at 0x1b9c681af10>"
      ]
     },
     "metadata": {},
     "output_type": "display_data"
    },
    {
     "data": {
      "text/html": [],
      "text/plain": [
       "<IPython.core.display.HTML object>"
      ]
     },
     "metadata": {},
     "output_type": "display_data"
    },
    {
     "name": "stdout",
     "output_type": "stream",
     "text": [
      "Fitting 3 folds for each of 10 candidates, totalling 30 fits\n"
     ]
    },
    {
     "name": "stderr",
     "output_type": "stream",
     "text": [
      "[Parallel(n_jobs=-1)]: Using backend LokyBackend with 8 concurrent workers.\n",
      "[Parallel(n_jobs=-1)]: Done  30 out of  30 | elapsed:    7.7s finished\n"
     ]
    }
   ],
   "source": [
    "prophet = create_model('prophet')\n",
    "tuned_prophet = tune_model(prophet)\n",
    "# Predictions\n",
    "bnb_prophet = finalize_model(tuned_prophet)\n",
    "prophet_predictions = predict_model(bnb_prophet)\n",
    "#Plot prophet model forecast\n"
   ]
  },
  {
   "cell_type": "code",
   "execution_count": 43,
   "id": "a3c3fb75",
   "metadata": {},
   "outputs": [],
   "source": [
    "bnb = plot_model(bnb_prophet,plot = 'forecast', return_fig=True)\n",
    "# Save it as an HTML file\n",
    "pio.write_html(bnb, file='bnbforecast.html', auto_open=False)"
   ]
  },
  {
   "cell_type": "code",
   "execution_count": 42,
   "id": "22e37f82",
   "metadata": {},
   "outputs": [
    {
     "data": {
      "application/vnd.plotly.v1+json": {
       "config": {
        "plotlyServerURL": "https://plot.ly"
       },
       "data": [
        {
         "line": {
          "color": "#1f77b4"
         },
         "marker": {
          "size": 5
         },
         "mode": "lines+markers",
         "name": "Forecast | Prophet",
         "showlegend": true,
         "type": "scatter",
         "x": [
          "2025-04-29T00:00:00",
          "2025-04-30T00:00:00",
          "2025-05-01T00:00:00",
          "2025-05-02T00:00:00",
          "2025-05-03T00:00:00",
          "2025-05-04T00:00:00",
          "2025-05-05T00:00:00",
          "2025-05-06T00:00:00",
          "2025-05-07T00:00:00",
          "2025-05-08T00:00:00",
          "2025-05-09T00:00:00",
          "2025-05-10T00:00:00",
          "2025-05-11T00:00:00",
          "2025-05-12T00:00:00",
          "2025-05-13T00:00:00",
          "2025-05-14T00:00:00",
          "2025-05-15T00:00:00",
          "2025-05-16T00:00:00",
          "2025-05-17T00:00:00",
          "2025-05-18T00:00:00",
          "2025-05-19T00:00:00",
          "2025-05-20T00:00:00",
          "2025-05-21T00:00:00",
          "2025-05-22T00:00:00",
          "2025-05-23T00:00:00",
          "2025-05-24T00:00:00",
          "2025-05-25T00:00:00",
          "2025-05-26T00:00:00",
          "2025-05-27T00:00:00",
          "2025-05-28T00:00:00"
         ],
         "y": {
          "bdata": "qmBUUqczgkAH8BZI0DmCQK36XG1FLIJAZMxdS0grgkBJLv8h/U2CQNQrZRliG4JAUWuad5wXgkCxv+yevBOCQIofY+7aGYJAQs9m1WcMgkCrz9VWbAuCQAisHFrkLYJA6Ugu/6H7gUADCYof4/eBQAHeAgkK9IFAgEi/fR36gUBz1xLyweyBQGTMXUvI64FA5q4l5AMOgkBwXwfOGdyBQHsUrkdh2IFAFmpN847UgUASpb3Bl9qBQEATYcNTzYFA4zYawFvMgUBg5dAiW+6BQBBYObTIvIFA48eYuxa5gUAbnl4pS7WBQJOpglFJu4FA",
          "dtype": "f8"
         }
        },
        {
         "line": {
          "width": 0
         },
         "marker": {
          "color": "#68BBE3"
         },
         "mode": "lines",
         "name": "Lower Interval",
         "showlegend": false,
         "type": "scatter",
         "x": [
          "2025-04-29T00:00:00",
          "2025-04-30T00:00:00",
          "2025-05-01T00:00:00",
          "2025-05-02T00:00:00",
          "2025-05-03T00:00:00",
          "2025-05-04T00:00:00",
          "2025-05-05T00:00:00",
          "2025-05-06T00:00:00",
          "2025-05-07T00:00:00",
          "2025-05-08T00:00:00",
          "2025-05-09T00:00:00",
          "2025-05-10T00:00:00",
          "2025-05-11T00:00:00",
          "2025-05-12T00:00:00",
          "2025-05-13T00:00:00",
          "2025-05-14T00:00:00",
          "2025-05-15T00:00:00",
          "2025-05-16T00:00:00",
          "2025-05-17T00:00:00",
          "2025-05-18T00:00:00",
          "2025-05-19T00:00:00",
          "2025-05-20T00:00:00",
          "2025-05-21T00:00:00",
          "2025-05-22T00:00:00",
          "2025-05-23T00:00:00",
          "2025-05-24T00:00:00",
          "2025-05-25T00:00:00",
          "2025-05-26T00:00:00",
          "2025-05-27T00:00:00",
          "2025-05-28T00:00:00"
         ],
         "y": {
          "bdata": "O99PjZcsgUBfKcsQxy6BQOELk6kCGoFAat5xig4NgUB56SYxiB6BQB4Wak1z4oBArBxaZLvOgEAdWmQ738uAQIj029cBqIBANKK0N/ifgEATYcPTq3OAQFyPwvWodYBACKwcWmQ7gECPwvUoXK1/QLsnDwu17X5AXrpJDAIgf0CQoPgx5np+QD0s1JrmpX1AeJyiI7nGfUCgibDh6SV9QF3+Q/rttHxAcvkP6bcFfECwcmiR7ZJ7QKmkTkAT4npAAiuHFtniekAQ6bevA2l6QArXo3A9M3pAZ9XnaitqeUDnHafoSEB5QK62Yn/ZinhA",
          "dtype": "f8"
         }
        },
        {
         "fill": "tonexty",
         "fillcolor": "rgba(104,187,227,0.5)",
         "line": {
          "width": 0
         },
         "marker": {
          "color": "#68BBE3"
         },
         "mode": "lines",
         "name": "Prediction Interval | Prophet",
         "showlegend": true,
         "type": "scatter",
         "x": [
          "2025-04-29T00:00:00",
          "2025-04-30T00:00:00",
          "2025-05-01T00:00:00",
          "2025-05-02T00:00:00",
          "2025-05-03T00:00:00",
          "2025-05-04T00:00:00",
          "2025-05-05T00:00:00",
          "2025-05-06T00:00:00",
          "2025-05-07T00:00:00",
          "2025-05-08T00:00:00",
          "2025-05-09T00:00:00",
          "2025-05-10T00:00:00",
          "2025-05-11T00:00:00",
          "2025-05-12T00:00:00",
          "2025-05-13T00:00:00",
          "2025-05-14T00:00:00",
          "2025-05-15T00:00:00",
          "2025-05-16T00:00:00",
          "2025-05-17T00:00:00",
          "2025-05-18T00:00:00",
          "2025-05-19T00:00:00",
          "2025-05-20T00:00:00",
          "2025-05-21T00:00:00",
          "2025-05-22T00:00:00",
          "2025-05-23T00:00:00",
          "2025-05-24T00:00:00",
          "2025-05-25T00:00:00",
          "2025-05-26T00:00:00",
          "2025-05-27T00:00:00",
          "2025-05-28T00:00:00"
         ],
         "y": {
          "bdata": "B/AWSFBPg0Csi9toAGKDQCJseHqlNYNAnKIjuXxPg0BcIEHx45WDQFwgQfHjVINAfT81Xjpkg0BHA3gLJG+DQG40gLdAiINAXI/C9aipg0D7y+7Jw7aDQFkXt9EAJ4RAtoR80DM7hECGyVTBKGKEQKd5xyk6k4RAJ8KGp1fkhEAwuycPixOFQHS1FfvLSIVAlIeFWtP9hUCeXinLEB+GQDSAt0CCd4ZAXf5D+u2XhkB9PzVeugGHQCPb+X7qc4dA3SQGgZWoh0BkzF1LyGaIQJayDHEsc4hAiGNd3EYNiUBjf9k9+UKJQCcxCKycc4lA",
          "dtype": "f8"
         }
        },
        {
         "marker": {
          "color": "#3f3f3f",
          "size": 5
         },
         "mode": "lines+markers",
         "name": "Original",
         "showlegend": true,
         "type": "scatter",
         "x": [
          "2024-04-29T00:00:00",
          "2024-04-30T00:00:00",
          "2024-05-01T00:00:00",
          "2024-05-02T00:00:00",
          "2024-05-03T00:00:00",
          "2024-05-04T00:00:00",
          "2024-05-05T00:00:00",
          "2024-05-06T00:00:00",
          "2024-05-07T00:00:00",
          "2024-05-08T00:00:00",
          "2024-05-09T00:00:00",
          "2024-05-10T00:00:00",
          "2024-05-11T00:00:00",
          "2024-05-12T00:00:00",
          "2024-05-13T00:00:00",
          "2024-05-14T00:00:00",
          "2024-05-15T00:00:00",
          "2024-05-16T00:00:00",
          "2024-05-17T00:00:00",
          "2024-05-18T00:00:00",
          "2024-05-19T00:00:00",
          "2024-05-20T00:00:00",
          "2024-05-21T00:00:00",
          "2024-05-22T00:00:00",
          "2024-05-23T00:00:00",
          "2024-05-24T00:00:00",
          "2024-05-25T00:00:00",
          "2024-05-26T00:00:00",
          "2024-05-27T00:00:00",
          "2024-05-28T00:00:00",
          "2024-05-29T00:00:00",
          "2024-05-30T00:00:00",
          "2024-05-31T00:00:00",
          "2024-06-01T00:00:00",
          "2024-06-02T00:00:00",
          "2024-06-03T00:00:00",
          "2024-06-04T00:00:00",
          "2024-06-05T00:00:00",
          "2024-06-06T00:00:00",
          "2024-06-07T00:00:00",
          "2024-06-08T00:00:00",
          "2024-06-09T00:00:00",
          "2024-06-10T00:00:00",
          "2024-06-11T00:00:00",
          "2024-06-12T00:00:00",
          "2024-06-13T00:00:00",
          "2024-06-14T00:00:00",
          "2024-06-15T00:00:00",
          "2024-06-16T00:00:00",
          "2024-06-17T00:00:00",
          "2024-06-18T00:00:00",
          "2024-06-19T00:00:00",
          "2024-06-20T00:00:00",
          "2024-06-21T00:00:00",
          "2024-06-22T00:00:00",
          "2024-06-23T00:00:00",
          "2024-06-24T00:00:00",
          "2024-06-25T00:00:00",
          "2024-06-26T00:00:00",
          "2024-06-27T00:00:00",
          "2024-06-28T00:00:00",
          "2024-06-29T00:00:00",
          "2024-06-30T00:00:00",
          "2024-07-01T00:00:00",
          "2024-07-02T00:00:00",
          "2024-07-03T00:00:00",
          "2024-07-04T00:00:00",
          "2024-07-05T00:00:00",
          "2024-07-06T00:00:00",
          "2024-07-07T00:00:00",
          "2024-07-08T00:00:00",
          "2024-07-09T00:00:00",
          "2024-07-10T00:00:00",
          "2024-07-11T00:00:00",
          "2024-07-12T00:00:00",
          "2024-07-13T00:00:00",
          "2024-07-14T00:00:00",
          "2024-07-15T00:00:00",
          "2024-07-16T00:00:00",
          "2024-07-17T00:00:00",
          "2024-07-18T00:00:00",
          "2024-07-19T00:00:00",
          "2024-07-20T00:00:00",
          "2024-07-21T00:00:00",
          "2024-07-22T00:00:00",
          "2024-07-23T00:00:00",
          "2024-07-24T00:00:00",
          "2024-07-25T00:00:00",
          "2024-07-26T00:00:00",
          "2024-07-27T00:00:00",
          "2024-07-28T00:00:00",
          "2024-07-29T00:00:00",
          "2024-07-30T00:00:00",
          "2024-07-31T00:00:00",
          "2024-08-01T00:00:00",
          "2024-08-02T00:00:00",
          "2024-08-03T00:00:00",
          "2024-08-04T00:00:00",
          "2024-08-05T00:00:00",
          "2024-08-06T00:00:00",
          "2024-08-07T00:00:00",
          "2024-08-08T00:00:00",
          "2024-08-09T00:00:00",
          "2024-08-10T00:00:00",
          "2024-08-11T00:00:00",
          "2024-08-12T00:00:00",
          "2024-08-13T00:00:00",
          "2024-08-14T00:00:00",
          "2024-08-15T00:00:00",
          "2024-08-16T00:00:00",
          "2024-08-17T00:00:00",
          "2024-08-18T00:00:00",
          "2024-08-19T00:00:00",
          "2024-08-20T00:00:00",
          "2024-08-21T00:00:00",
          "2024-08-22T00:00:00",
          "2024-08-23T00:00:00",
          "2024-08-24T00:00:00",
          "2024-08-25T00:00:00",
          "2024-08-26T00:00:00",
          "2024-08-27T00:00:00",
          "2024-08-28T00:00:00",
          "2024-08-29T00:00:00",
          "2024-08-30T00:00:00",
          "2024-08-31T00:00:00",
          "2024-09-01T00:00:00",
          "2024-09-02T00:00:00",
          "2024-09-03T00:00:00",
          "2024-09-04T00:00:00",
          "2024-09-05T00:00:00",
          "2024-09-06T00:00:00",
          "2024-09-07T00:00:00",
          "2024-09-08T00:00:00",
          "2024-09-09T00:00:00",
          "2024-09-10T00:00:00",
          "2024-09-11T00:00:00",
          "2024-09-12T00:00:00",
          "2024-09-13T00:00:00",
          "2024-09-14T00:00:00",
          "2024-09-15T00:00:00",
          "2024-09-16T00:00:00",
          "2024-09-17T00:00:00",
          "2024-09-18T00:00:00",
          "2024-09-19T00:00:00",
          "2024-09-20T00:00:00",
          "2024-09-21T00:00:00",
          "2024-09-22T00:00:00",
          "2024-09-23T00:00:00",
          "2024-09-24T00:00:00",
          "2024-09-25T00:00:00",
          "2024-09-26T00:00:00",
          "2024-09-27T00:00:00",
          "2024-09-28T00:00:00",
          "2024-09-29T00:00:00",
          "2024-09-30T00:00:00",
          "2024-10-01T00:00:00",
          "2024-10-02T00:00:00",
          "2024-10-03T00:00:00",
          "2024-10-04T00:00:00",
          "2024-10-05T00:00:00",
          "2024-10-06T00:00:00",
          "2024-10-07T00:00:00",
          "2024-10-08T00:00:00",
          "2024-10-09T00:00:00",
          "2024-10-10T00:00:00",
          "2024-10-11T00:00:00",
          "2024-10-12T00:00:00",
          "2024-10-13T00:00:00",
          "2024-10-14T00:00:00",
          "2024-10-15T00:00:00",
          "2024-10-16T00:00:00",
          "2024-10-17T00:00:00",
          "2024-10-18T00:00:00",
          "2024-10-19T00:00:00",
          "2024-10-20T00:00:00",
          "2024-10-21T00:00:00",
          "2024-10-22T00:00:00",
          "2024-10-23T00:00:00",
          "2024-10-24T00:00:00",
          "2024-10-25T00:00:00",
          "2024-10-26T00:00:00",
          "2024-10-27T00:00:00",
          "2024-10-28T00:00:00",
          "2024-10-29T00:00:00",
          "2024-10-30T00:00:00",
          "2024-10-31T00:00:00",
          "2024-11-01T00:00:00",
          "2024-11-02T00:00:00",
          "2024-11-03T00:00:00",
          "2024-11-04T00:00:00",
          "2024-11-05T00:00:00",
          "2024-11-06T00:00:00",
          "2024-11-07T00:00:00",
          "2024-11-08T00:00:00",
          "2024-11-09T00:00:00",
          "2024-11-10T00:00:00",
          "2024-11-11T00:00:00",
          "2024-11-12T00:00:00",
          "2024-11-13T00:00:00",
          "2024-11-14T00:00:00",
          "2024-11-15T00:00:00",
          "2024-11-16T00:00:00",
          "2024-11-17T00:00:00",
          "2024-11-18T00:00:00",
          "2024-11-19T00:00:00",
          "2024-11-20T00:00:00",
          "2024-11-21T00:00:00",
          "2024-11-22T00:00:00",
          "2024-11-23T00:00:00",
          "2024-11-24T00:00:00",
          "2024-11-25T00:00:00",
          "2024-11-26T00:00:00",
          "2024-11-27T00:00:00",
          "2024-11-28T00:00:00",
          "2024-11-29T00:00:00",
          "2024-11-30T00:00:00",
          "2024-12-01T00:00:00",
          "2024-12-02T00:00:00",
          "2024-12-03T00:00:00",
          "2024-12-04T00:00:00",
          "2024-12-05T00:00:00",
          "2024-12-06T00:00:00",
          "2024-12-07T00:00:00",
          "2024-12-08T00:00:00",
          "2024-12-09T00:00:00",
          "2024-12-10T00:00:00",
          "2024-12-11T00:00:00",
          "2024-12-12T00:00:00",
          "2024-12-13T00:00:00",
          "2024-12-14T00:00:00",
          "2024-12-15T00:00:00",
          "2024-12-16T00:00:00",
          "2024-12-17T00:00:00",
          "2024-12-18T00:00:00",
          "2024-12-19T00:00:00",
          "2024-12-20T00:00:00",
          "2024-12-21T00:00:00",
          "2024-12-22T00:00:00",
          "2024-12-23T00:00:00",
          "2024-12-24T00:00:00",
          "2024-12-25T00:00:00",
          "2024-12-26T00:00:00",
          "2024-12-27T00:00:00",
          "2024-12-28T00:00:00",
          "2024-12-29T00:00:00",
          "2024-12-30T00:00:00",
          "2024-12-31T00:00:00",
          "2025-01-01T00:00:00",
          "2025-01-02T00:00:00",
          "2025-01-03T00:00:00",
          "2025-01-04T00:00:00",
          "2025-01-05T00:00:00",
          "2025-01-06T00:00:00",
          "2025-01-07T00:00:00",
          "2025-01-08T00:00:00",
          "2025-01-09T00:00:00",
          "2025-01-10T00:00:00",
          "2025-01-11T00:00:00",
          "2025-01-12T00:00:00",
          "2025-01-13T00:00:00",
          "2025-01-14T00:00:00",
          "2025-01-15T00:00:00",
          "2025-01-16T00:00:00",
          "2025-01-17T00:00:00",
          "2025-01-18T00:00:00",
          "2025-01-19T00:00:00",
          "2025-01-20T00:00:00",
          "2025-01-21T00:00:00",
          "2025-01-22T00:00:00",
          "2025-01-23T00:00:00",
          "2025-01-24T00:00:00",
          "2025-01-25T00:00:00",
          "2025-01-26T00:00:00",
          "2025-01-27T00:00:00",
          "2025-01-28T00:00:00",
          "2025-01-29T00:00:00",
          "2025-01-30T00:00:00",
          "2025-01-31T00:00:00",
          "2025-02-01T00:00:00",
          "2025-02-02T00:00:00",
          "2025-02-03T00:00:00",
          "2025-02-04T00:00:00",
          "2025-02-05T00:00:00",
          "2025-02-06T00:00:00",
          "2025-02-07T00:00:00",
          "2025-02-08T00:00:00",
          "2025-02-09T00:00:00",
          "2025-02-10T00:00:00",
          "2025-02-11T00:00:00",
          "2025-02-12T00:00:00",
          "2025-02-13T00:00:00",
          "2025-02-14T00:00:00",
          "2025-02-15T00:00:00",
          "2025-02-16T00:00:00",
          "2025-02-17T00:00:00",
          "2025-02-18T00:00:00",
          "2025-02-19T00:00:00",
          "2025-02-20T00:00:00",
          "2025-02-21T00:00:00",
          "2025-02-22T00:00:00",
          "2025-02-23T00:00:00",
          "2025-02-24T00:00:00",
          "2025-02-25T00:00:00",
          "2025-02-26T00:00:00",
          "2025-02-27T00:00:00",
          "2025-02-28T00:00:00",
          "2025-03-01T00:00:00",
          "2025-03-02T00:00:00",
          "2025-03-03T00:00:00",
          "2025-03-04T00:00:00",
          "2025-03-05T00:00:00",
          "2025-03-06T00:00:00",
          "2025-03-07T00:00:00",
          "2025-03-08T00:00:00",
          "2025-03-09T00:00:00",
          "2025-03-10T00:00:00",
          "2025-03-11T00:00:00",
          "2025-03-12T00:00:00",
          "2025-03-13T00:00:00",
          "2025-03-14T00:00:00",
          "2025-03-15T00:00:00",
          "2025-03-16T00:00:00",
          "2025-03-17T00:00:00",
          "2025-03-18T00:00:00",
          "2025-03-19T00:00:00",
          "2025-03-20T00:00:00",
          "2025-03-21T00:00:00",
          "2025-03-22T00:00:00",
          "2025-03-23T00:00:00",
          "2025-03-24T00:00:00",
          "2025-03-25T00:00:00",
          "2025-03-26T00:00:00",
          "2025-03-27T00:00:00",
          "2025-03-28T00:00:00",
          "2025-03-29T00:00:00",
          "2025-03-30T00:00:00",
          "2025-03-31T00:00:00",
          "2025-04-01T00:00:00",
          "2025-04-02T00:00:00",
          "2025-04-03T00:00:00",
          "2025-04-04T00:00:00",
          "2025-04-05T00:00:00",
          "2025-04-06T00:00:00",
          "2025-04-07T00:00:00",
          "2025-04-08T00:00:00",
          "2025-04-09T00:00:00",
          "2025-04-10T00:00:00",
          "2025-04-11T00:00:00",
          "2025-04-12T00:00:00",
          "2025-04-13T00:00:00",
          "2025-04-14T00:00:00",
          "2025-04-15T00:00:00",
          "2025-04-16T00:00:00",
          "2025-04-17T00:00:00",
          "2025-04-18T00:00:00",
          "2025-04-19T00:00:00",
          "2025-04-20T00:00:00",
          "2025-04-21T00:00:00",
          "2025-04-22T00:00:00",
          "2025-04-23T00:00:00",
          "2025-04-24T00:00:00",
          "2025-04-25T00:00:00",
          "2025-04-26T00:00:00",
          "2025-04-27T00:00:00",
          "2025-04-28T00:00:00"
         ],
         "y": {
          "bdata": "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",
          "dtype": "f8"
         }
        }
       ],
       "layout": {
        "showlegend": true,
        "template": {
         "data": {
          "bar": [
           {
            "error_x": {
             "color": "rgb(51,51,51)"
            },
            "error_y": {
             "color": "rgb(51,51,51)"
            },
            "marker": {
             "line": {
              "color": "rgb(237,237,237)",
              "width": 0.5
             },
             "pattern": {
              "fillmode": "overlay",
              "size": 10,
              "solidity": 0.2
             }
            },
            "type": "bar"
           }
          ],
          "barpolar": [
           {
            "marker": {
             "line": {
              "color": "rgb(237,237,237)",
              "width": 0.5
             },
             "pattern": {
              "fillmode": "overlay",
              "size": 10,
              "solidity": 0.2
             }
            },
            "type": "barpolar"
           }
          ],
          "carpet": [
           {
            "aaxis": {
             "endlinecolor": "rgb(51,51,51)",
             "gridcolor": "white",
             "linecolor": "white",
             "minorgridcolor": "white",
             "startlinecolor": "rgb(51,51,51)"
            },
            "baxis": {
             "endlinecolor": "rgb(51,51,51)",
             "gridcolor": "white",
             "linecolor": "white",
             "minorgridcolor": "white",
             "startlinecolor": "rgb(51,51,51)"
            },
            "type": "carpet"
           }
          ],
          "choropleth": [
           {
            "colorbar": {
             "outlinewidth": 0,
             "tickcolor": "rgb(237,237,237)",
             "ticklen": 6,
             "ticks": "inside"
            },
            "type": "choropleth"
           }
          ],
          "contour": [
           {
            "colorbar": {
             "outlinewidth": 0,
             "tickcolor": "rgb(237,237,237)",
             "ticklen": 6,
             "ticks": "inside"
            },
            "colorscale": [
             [
              0,
              "rgb(20,44,66)"
             ],
             [
              1,
              "rgb(90,179,244)"
             ]
            ],
            "type": "contour"
           }
          ],
          "contourcarpet": [
           {
            "colorbar": {
             "outlinewidth": 0,
             "tickcolor": "rgb(237,237,237)",
             "ticklen": 6,
             "ticks": "inside"
            },
            "type": "contourcarpet"
           }
          ],
          "heatmap": [
           {
            "colorbar": {
             "outlinewidth": 0,
             "tickcolor": "rgb(237,237,237)",
             "ticklen": 6,
             "ticks": "inside"
            },
            "colorscale": [
             [
              0,
              "rgb(20,44,66)"
             ],
             [
              1,
              "rgb(90,179,244)"
             ]
            ],
            "type": "heatmap"
           }
          ],
          "histogram": [
           {
            "marker": {
             "pattern": {
              "fillmode": "overlay",
              "size": 10,
              "solidity": 0.2
             }
            },
            "type": "histogram"
           }
          ],
          "histogram2d": [
           {
            "colorbar": {
             "outlinewidth": 0,
             "tickcolor": "rgb(237,237,237)",
             "ticklen": 6,
             "ticks": "inside"
            },
            "colorscale": [
             [
              0,
              "rgb(20,44,66)"
             ],
             [
              1,
              "rgb(90,179,244)"
             ]
            ],
            "type": "histogram2d"
           }
          ],
          "histogram2dcontour": [
           {
            "colorbar": {
             "outlinewidth": 0,
             "tickcolor": "rgb(237,237,237)",
             "ticklen": 6,
             "ticks": "inside"
            },
            "colorscale": [
             [
              0,
              "rgb(20,44,66)"
             ],
             [
              1,
              "rgb(90,179,244)"
             ]
            ],
            "type": "histogram2dcontour"
           }
          ],
          "mesh3d": [
           {
            "colorbar": {
             "outlinewidth": 0,
             "tickcolor": "rgb(237,237,237)",
             "ticklen": 6,
             "ticks": "inside"
            },
            "type": "mesh3d"
           }
          ],
          "parcoords": [
           {
            "line": {
             "colorbar": {
              "outlinewidth": 0,
              "tickcolor": "rgb(237,237,237)",
              "ticklen": 6,
              "ticks": "inside"
             }
            },
            "type": "parcoords"
           }
          ],
          "pie": [
           {
            "automargin": true,
            "type": "pie"
           }
          ],
          "scatter": [
           {
            "fillpattern": {
             "fillmode": "overlay",
             "size": 10,
             "solidity": 0.2
            },
            "type": "scatter"
           }
          ],
          "scatter3d": [
           {
            "line": {
             "colorbar": {
              "outlinewidth": 0,
              "tickcolor": "rgb(237,237,237)",
              "ticklen": 6,
              "ticks": "inside"
             }
            },
            "marker": {
             "colorbar": {
              "outlinewidth": 0,
              "tickcolor": "rgb(237,237,237)",
              "ticklen": 6,
              "ticks": "inside"
             }
            },
            "type": "scatter3d"
           }
          ],
          "scattercarpet": [
           {
            "marker": {
             "colorbar": {
              "outlinewidth": 0,
              "tickcolor": "rgb(237,237,237)",
              "ticklen": 6,
              "ticks": "inside"
             }
            },
            "type": "scattercarpet"
           }
          ],
          "scattergeo": [
           {
            "marker": {
             "colorbar": {
              "outlinewidth": 0,
              "tickcolor": "rgb(237,237,237)",
              "ticklen": 6,
              "ticks": "inside"
             }
            },
            "type": "scattergeo"
           }
          ],
          "scattergl": [
           {
            "marker": {
             "colorbar": {
              "outlinewidth": 0,
              "tickcolor": "rgb(237,237,237)",
              "ticklen": 6,
              "ticks": "inside"
             }
            },
            "type": "scattergl"
           }
          ],
          "scattermap": [
           {
            "marker": {
             "colorbar": {
              "outlinewidth": 0,
              "tickcolor": "rgb(237,237,237)",
              "ticklen": 6,
              "ticks": "inside"
             }
            },
            "type": "scattermap"
           }
          ],
          "scattermapbox": [
           {
            "marker": {
             "colorbar": {
              "outlinewidth": 0,
              "tickcolor": "rgb(237,237,237)",
              "ticklen": 6,
              "ticks": "inside"
             }
            },
            "type": "scattermapbox"
           }
          ],
          "scatterpolar": [
           {
            "marker": {
             "colorbar": {
              "outlinewidth": 0,
              "tickcolor": "rgb(237,237,237)",
              "ticklen": 6,
              "ticks": "inside"
             }
            },
            "type": "scatterpolar"
           }
          ],
          "scatterpolargl": [
           {
            "marker": {
             "colorbar": {
              "outlinewidth": 0,
              "tickcolor": "rgb(237,237,237)",
              "ticklen": 6,
              "ticks": "inside"
             }
            },
            "type": "scatterpolargl"
           }
          ],
          "scatterternary": [
           {
            "marker": {
             "colorbar": {
              "outlinewidth": 0,
              "tickcolor": "rgb(237,237,237)",
              "ticklen": 6,
              "ticks": "inside"
             }
            },
            "type": "scatterternary"
           }
          ],
          "surface": [
           {
            "colorbar": {
             "outlinewidth": 0,
             "tickcolor": "rgb(237,237,237)",
             "ticklen": 6,
             "ticks": "inside"
            },
            "colorscale": [
             [
              0,
              "rgb(20,44,66)"
             ],
             [
              1,
              "rgb(90,179,244)"
             ]
            ],
            "type": "surface"
           }
          ],
          "table": [
           {
            "cells": {
             "fill": {
              "color": "rgb(237,237,237)"
             },
             "line": {
              "color": "white"
             }
            },
            "header": {
             "fill": {
              "color": "rgb(217,217,217)"
             },
             "line": {
              "color": "white"
             }
            },
            "type": "table"
           }
          ]
         },
         "layout": {
          "annotationdefaults": {
           "arrowhead": 0,
           "arrowwidth": 1
          },
          "autotypenumbers": "strict",
          "coloraxis": {
           "colorbar": {
            "outlinewidth": 0,
            "tickcolor": "rgb(237,237,237)",
            "ticklen": 6,
            "ticks": "inside"
           }
          },
          "colorscale": {
           "sequential": [
            [
             0,
             "rgb(20,44,66)"
            ],
            [
             1,
             "rgb(90,179,244)"
            ]
           ],
           "sequentialminus": [
            [
             0,
             "rgb(20,44,66)"
            ],
            [
             1,
             "rgb(90,179,244)"
            ]
           ]
          },
          "colorway": [
           "#F8766D",
           "#A3A500",
           "#00BF7D",
           "#00B0F6",
           "#E76BF3"
          ],
          "font": {
           "color": "rgb(51,51,51)"
          },
          "geo": {
           "bgcolor": "white",
           "lakecolor": "white",
           "landcolor": "rgb(237,237,237)",
           "showlakes": true,
           "showland": true,
           "subunitcolor": "white"
          },
          "hoverlabel": {
           "align": "left"
          },
          "hovermode": "closest",
          "paper_bgcolor": "white",
          "plot_bgcolor": "rgb(237,237,237)",
          "polar": {
           "angularaxis": {
            "gridcolor": "white",
            "linecolor": "white",
            "showgrid": true,
            "tickcolor": "rgb(51,51,51)",
            "ticks": "outside"
           },
           "bgcolor": "rgb(237,237,237)",
           "radialaxis": {
            "gridcolor": "white",
            "linecolor": "white",
            "showgrid": true,
            "tickcolor": "rgb(51,51,51)",
            "ticks": "outside"
           }
          },
          "scene": {
           "xaxis": {
            "backgroundcolor": "rgb(237,237,237)",
            "gridcolor": "white",
            "gridwidth": 2,
            "linecolor": "white",
            "showbackground": true,
            "showgrid": true,
            "tickcolor": "rgb(51,51,51)",
            "ticks": "outside",
            "zerolinecolor": "white"
           },
           "yaxis": {
            "backgroundcolor": "rgb(237,237,237)",
            "gridcolor": "white",
            "gridwidth": 2,
            "linecolor": "white",
            "showbackground": true,
            "showgrid": true,
            "tickcolor": "rgb(51,51,51)",
            "ticks": "outside",
            "zerolinecolor": "white"
           },
           "zaxis": {
            "backgroundcolor": "rgb(237,237,237)",
            "gridcolor": "white",
            "gridwidth": 2,
            "linecolor": "white",
            "showbackground": true,
            "showgrid": true,
            "tickcolor": "rgb(51,51,51)",
            "ticks": "outside",
            "zerolinecolor": "white"
           }
          },
          "shapedefaults": {
           "fillcolor": "black",
           "line": {
            "width": 0
           },
           "opacity": 0.3
          },
          "ternary": {
           "aaxis": {
            "gridcolor": "white",
            "linecolor": "white",
            "showgrid": true,
            "tickcolor": "rgb(51,51,51)",
            "ticks": "outside"
           },
           "baxis": {
            "gridcolor": "white",
            "linecolor": "white",
            "showgrid": true,
            "tickcolor": "rgb(51,51,51)",
            "ticks": "outside"
           },
           "bgcolor": "rgb(237,237,237)",
           "caxis": {
            "gridcolor": "white",
            "linecolor": "white",
            "showgrid": true,
            "tickcolor": "rgb(51,51,51)",
            "ticks": "outside"
           }
          },
          "xaxis": {
           "automargin": true,
           "gridcolor": "white",
           "linecolor": "white",
           "showgrid": true,
           "tickcolor": "rgb(51,51,51)",
           "ticks": "outside",
           "title": {
            "standoff": 15
           },
           "zerolinecolor": "white"
          },
          "yaxis": {
           "automargin": true,
           "gridcolor": "white",
           "linecolor": "white",
           "showgrid": true,
           "tickcolor": "rgb(51,51,51)",
           "ticks": "outside",
           "title": {
            "standoff": 15
           },
           "zerolinecolor": "white"
          }
         }
        },
        "title": {
         "text": "Actual vs. 'Out-of-Sample' Forecast | BNB-USD"
        },
        "xaxis": {
         "title": {
          "text": "Time"
         }
        },
        "yaxis": {
         "title": {
          "text": "Values"
         }
        }
       }
      }
     },
     "metadata": {},
     "output_type": "display_data"
    }
   ],
   "source": [
    "plot_model(bnb_prophet,plot = 'forecast')"
   ]
  },
  {
   "cell_type": "markdown",
   "id": "c900ee4e",
   "metadata": {},
   "source": [
    "WIF-USD ARIMA and Prophet Models"
   ]
  },
  {
   "cell_type": "code",
   "execution_count": 50,
   "id": "4460def1",
   "metadata": {},
   "outputs": [],
   "source": [
    "wif = df.loc[:,'WIF-USD']"
   ]
  },
  {
   "cell_type": "code",
   "execution_count": 79,
   "id": "211c46cb",
   "metadata": {},
   "outputs": [
    {
     "data": {
      "text/html": [
       "<style type=\"text/css\">\n",
       "#T_47937_row25_col1, #T_47937_row31_col1 {\n",
       "  background-color: lightgreen;\n",
       "}\n",
       "</style>\n",
       "<table id=\"T_47937\">\n",
       "  <thead>\n",
       "    <tr>\n",
       "      <th class=\"blank level0\" >&nbsp;</th>\n",
       "      <th id=\"T_47937_level0_col0\" class=\"col_heading level0 col0\" >Description</th>\n",
       "      <th id=\"T_47937_level0_col1\" class=\"col_heading level0 col1\" >Value</th>\n",
       "    </tr>\n",
       "  </thead>\n",
       "  <tbody>\n",
       "    <tr>\n",
       "      <th id=\"T_47937_level0_row0\" class=\"row_heading level0 row0\" >0</th>\n",
       "      <td id=\"T_47937_row0_col0\" class=\"data row0 col0\" >session_id</td>\n",
       "      <td id=\"T_47937_row0_col1\" class=\"data row0 col1\" >123</td>\n",
       "    </tr>\n",
       "    <tr>\n",
       "      <th id=\"T_47937_level0_row1\" class=\"row_heading level0 row1\" >1</th>\n",
       "      <td id=\"T_47937_row1_col0\" class=\"data row1 col0\" >Target</td>\n",
       "      <td id=\"T_47937_row1_col1\" class=\"data row1 col1\" >WIF-USD</td>\n",
       "    </tr>\n",
       "    <tr>\n",
       "      <th id=\"T_47937_level0_row2\" class=\"row_heading level0 row2\" >2</th>\n",
       "      <td id=\"T_47937_row2_col0\" class=\"data row2 col0\" >Approach</td>\n",
       "      <td id=\"T_47937_row2_col1\" class=\"data row2 col1\" >Univariate</td>\n",
       "    </tr>\n",
       "    <tr>\n",
       "      <th id=\"T_47937_level0_row3\" class=\"row_heading level0 row3\" >3</th>\n",
       "      <td id=\"T_47937_row3_col0\" class=\"data row3 col0\" >Exogenous Variables</td>\n",
       "      <td id=\"T_47937_row3_col1\" class=\"data row3 col1\" >Not Present</td>\n",
       "    </tr>\n",
       "    <tr>\n",
       "      <th id=\"T_47937_level0_row4\" class=\"row_heading level0 row4\" >4</th>\n",
       "      <td id=\"T_47937_row4_col0\" class=\"data row4 col0\" >Original data shape</td>\n",
       "      <td id=\"T_47937_row4_col1\" class=\"data row4 col1\" >(365, 1)</td>\n",
       "    </tr>\n",
       "    <tr>\n",
       "      <th id=\"T_47937_level0_row5\" class=\"row_heading level0 row5\" >5</th>\n",
       "      <td id=\"T_47937_row5_col0\" class=\"data row5 col0\" >Transformed data shape</td>\n",
       "      <td id=\"T_47937_row5_col1\" class=\"data row5 col1\" >(365, 1)</td>\n",
       "    </tr>\n",
       "    <tr>\n",
       "      <th id=\"T_47937_level0_row6\" class=\"row_heading level0 row6\" >6</th>\n",
       "      <td id=\"T_47937_row6_col0\" class=\"data row6 col0\" >Transformed train set shape</td>\n",
       "      <td id=\"T_47937_row6_col1\" class=\"data row6 col1\" >(335, 1)</td>\n",
       "    </tr>\n",
       "    <tr>\n",
       "      <th id=\"T_47937_level0_row7\" class=\"row_heading level0 row7\" >7</th>\n",
       "      <td id=\"T_47937_row7_col0\" class=\"data row7 col0\" >Transformed test set shape</td>\n",
       "      <td id=\"T_47937_row7_col1\" class=\"data row7 col1\" >(30, 1)</td>\n",
       "    </tr>\n",
       "    <tr>\n",
       "      <th id=\"T_47937_level0_row8\" class=\"row_heading level0 row8\" >8</th>\n",
       "      <td id=\"T_47937_row8_col0\" class=\"data row8 col0\" >Rows with missing values</td>\n",
       "      <td id=\"T_47937_row8_col1\" class=\"data row8 col1\" >0.0%</td>\n",
       "    </tr>\n",
       "    <tr>\n",
       "      <th id=\"T_47937_level0_row9\" class=\"row_heading level0 row9\" >9</th>\n",
       "      <td id=\"T_47937_row9_col0\" class=\"data row9 col0\" >Fold Generator</td>\n",
       "      <td id=\"T_47937_row9_col1\" class=\"data row9 col1\" >ExpandingWindowSplitter</td>\n",
       "    </tr>\n",
       "    <tr>\n",
       "      <th id=\"T_47937_level0_row10\" class=\"row_heading level0 row10\" >10</th>\n",
       "      <td id=\"T_47937_row10_col0\" class=\"data row10 col0\" >Fold Number</td>\n",
       "      <td id=\"T_47937_row10_col1\" class=\"data row10 col1\" >3</td>\n",
       "    </tr>\n",
       "    <tr>\n",
       "      <th id=\"T_47937_level0_row11\" class=\"row_heading level0 row11\" >11</th>\n",
       "      <td id=\"T_47937_row11_col0\" class=\"data row11 col0\" >Enforce Prediction Interval</td>\n",
       "      <td id=\"T_47937_row11_col1\" class=\"data row11 col1\" >False</td>\n",
       "    </tr>\n",
       "    <tr>\n",
       "      <th id=\"T_47937_level0_row12\" class=\"row_heading level0 row12\" >12</th>\n",
       "      <td id=\"T_47937_row12_col0\" class=\"data row12 col0\" >Splits used for hyperparameters</td>\n",
       "      <td id=\"T_47937_row12_col1\" class=\"data row12 col1\" >all</td>\n",
       "    </tr>\n",
       "    <tr>\n",
       "      <th id=\"T_47937_level0_row13\" class=\"row_heading level0 row13\" >13</th>\n",
       "      <td id=\"T_47937_row13_col0\" class=\"data row13 col0\" >User Defined Seasonal Period(s)</td>\n",
       "      <td id=\"T_47937_row13_col1\" class=\"data row13 col1\" >D</td>\n",
       "    </tr>\n",
       "    <tr>\n",
       "      <th id=\"T_47937_level0_row14\" class=\"row_heading level0 row14\" >14</th>\n",
       "      <td id=\"T_47937_row14_col0\" class=\"data row14 col0\" >Ignore Seasonality Test</td>\n",
       "      <td id=\"T_47937_row14_col1\" class=\"data row14 col1\" >False</td>\n",
       "    </tr>\n",
       "    <tr>\n",
       "      <th id=\"T_47937_level0_row15\" class=\"row_heading level0 row15\" >15</th>\n",
       "      <td id=\"T_47937_row15_col0\" class=\"data row15 col0\" >Seasonality Detection Algo</td>\n",
       "      <td id=\"T_47937_row15_col1\" class=\"data row15 col1\" >user_defined</td>\n",
       "    </tr>\n",
       "    <tr>\n",
       "      <th id=\"T_47937_level0_row16\" class=\"row_heading level0 row16\" >16</th>\n",
       "      <td id=\"T_47937_row16_col0\" class=\"data row16 col0\" >Max Period to Consider</td>\n",
       "      <td id=\"T_47937_row16_col1\" class=\"data row16 col1\" >60</td>\n",
       "    </tr>\n",
       "    <tr>\n",
       "      <th id=\"T_47937_level0_row17\" class=\"row_heading level0 row17\" >17</th>\n",
       "      <td id=\"T_47937_row17_col0\" class=\"data row17 col0\" >Seasonal Period(s) Tested</td>\n",
       "      <td id=\"T_47937_row17_col1\" class=\"data row17 col1\" >[7]</td>\n",
       "    </tr>\n",
       "    <tr>\n",
       "      <th id=\"T_47937_level0_row18\" class=\"row_heading level0 row18\" >18</th>\n",
       "      <td id=\"T_47937_row18_col0\" class=\"data row18 col0\" >Significant Seasonal Period(s)</td>\n",
       "      <td id=\"T_47937_row18_col1\" class=\"data row18 col1\" >[7]</td>\n",
       "    </tr>\n",
       "    <tr>\n",
       "      <th id=\"T_47937_level0_row19\" class=\"row_heading level0 row19\" >19</th>\n",
       "      <td id=\"T_47937_row19_col0\" class=\"data row19 col0\" >Significant Seasonal Period(s) without Harmonics</td>\n",
       "      <td id=\"T_47937_row19_col1\" class=\"data row19 col1\" >[7]</td>\n",
       "    </tr>\n",
       "    <tr>\n",
       "      <th id=\"T_47937_level0_row20\" class=\"row_heading level0 row20\" >20</th>\n",
       "      <td id=\"T_47937_row20_col0\" class=\"data row20 col0\" >Remove Harmonics</td>\n",
       "      <td id=\"T_47937_row20_col1\" class=\"data row20 col1\" >False</td>\n",
       "    </tr>\n",
       "    <tr>\n",
       "      <th id=\"T_47937_level0_row21\" class=\"row_heading level0 row21\" >21</th>\n",
       "      <td id=\"T_47937_row21_col0\" class=\"data row21 col0\" >Harmonics Order Method</td>\n",
       "      <td id=\"T_47937_row21_col1\" class=\"data row21 col1\" >harmonic_max</td>\n",
       "    </tr>\n",
       "    <tr>\n",
       "      <th id=\"T_47937_level0_row22\" class=\"row_heading level0 row22\" >22</th>\n",
       "      <td id=\"T_47937_row22_col0\" class=\"data row22 col0\" >Num Seasonalities to Use</td>\n",
       "      <td id=\"T_47937_row22_col1\" class=\"data row22 col1\" >1</td>\n",
       "    </tr>\n",
       "    <tr>\n",
       "      <th id=\"T_47937_level0_row23\" class=\"row_heading level0 row23\" >23</th>\n",
       "      <td id=\"T_47937_row23_col0\" class=\"data row23 col0\" >All Seasonalities to Use</td>\n",
       "      <td id=\"T_47937_row23_col1\" class=\"data row23 col1\" >[7]</td>\n",
       "    </tr>\n",
       "    <tr>\n",
       "      <th id=\"T_47937_level0_row24\" class=\"row_heading level0 row24\" >24</th>\n",
       "      <td id=\"T_47937_row24_col0\" class=\"data row24 col0\" >Primary Seasonality</td>\n",
       "      <td id=\"T_47937_row24_col1\" class=\"data row24 col1\" >7</td>\n",
       "    </tr>\n",
       "    <tr>\n",
       "      <th id=\"T_47937_level0_row25\" class=\"row_heading level0 row25\" >25</th>\n",
       "      <td id=\"T_47937_row25_col0\" class=\"data row25 col0\" >Seasonality Present</td>\n",
       "      <td id=\"T_47937_row25_col1\" class=\"data row25 col1\" >True</td>\n",
       "    </tr>\n",
       "    <tr>\n",
       "      <th id=\"T_47937_level0_row26\" class=\"row_heading level0 row26\" >26</th>\n",
       "      <td id=\"T_47937_row26_col0\" class=\"data row26 col0\" >Seasonality Type</td>\n",
       "      <td id=\"T_47937_row26_col1\" class=\"data row26 col1\" >add</td>\n",
       "    </tr>\n",
       "    <tr>\n",
       "      <th id=\"T_47937_level0_row27\" class=\"row_heading level0 row27\" >27</th>\n",
       "      <td id=\"T_47937_row27_col0\" class=\"data row27 col0\" >Target Strictly Positive</td>\n",
       "      <td id=\"T_47937_row27_col1\" class=\"data row27 col1\" >False</td>\n",
       "    </tr>\n",
       "    <tr>\n",
       "      <th id=\"T_47937_level0_row28\" class=\"row_heading level0 row28\" >28</th>\n",
       "      <td id=\"T_47937_row28_col0\" class=\"data row28 col0\" >Target White Noise</td>\n",
       "      <td id=\"T_47937_row28_col1\" class=\"data row28 col1\" >No</td>\n",
       "    </tr>\n",
       "    <tr>\n",
       "      <th id=\"T_47937_level0_row29\" class=\"row_heading level0 row29\" >29</th>\n",
       "      <td id=\"T_47937_row29_col0\" class=\"data row29 col0\" >Recommended d</td>\n",
       "      <td id=\"T_47937_row29_col1\" class=\"data row29 col1\" >1</td>\n",
       "    </tr>\n",
       "    <tr>\n",
       "      <th id=\"T_47937_level0_row30\" class=\"row_heading level0 row30\" >30</th>\n",
       "      <td id=\"T_47937_row30_col0\" class=\"data row30 col0\" >Recommended Seasonal D</td>\n",
       "      <td id=\"T_47937_row30_col1\" class=\"data row30 col1\" >0</td>\n",
       "    </tr>\n",
       "    <tr>\n",
       "      <th id=\"T_47937_level0_row31\" class=\"row_heading level0 row31\" >31</th>\n",
       "      <td id=\"T_47937_row31_col0\" class=\"data row31 col0\" >Preprocess</td>\n",
       "      <td id=\"T_47937_row31_col1\" class=\"data row31 col1\" >True</td>\n",
       "    </tr>\n",
       "    <tr>\n",
       "      <th id=\"T_47937_level0_row32\" class=\"row_heading level0 row32\" >32</th>\n",
       "      <td id=\"T_47937_row32_col0\" class=\"data row32 col0\" >Numerical Imputation (Target)</td>\n",
       "      <td id=\"T_47937_row32_col1\" class=\"data row32 col1\" >drift</td>\n",
       "    </tr>\n",
       "    <tr>\n",
       "      <th id=\"T_47937_level0_row33\" class=\"row_heading level0 row33\" >33</th>\n",
       "      <td id=\"T_47937_row33_col0\" class=\"data row33 col0\" >Transformation (Target)</td>\n",
       "      <td id=\"T_47937_row33_col1\" class=\"data row33 col1\" >log</td>\n",
       "    </tr>\n",
       "    <tr>\n",
       "      <th id=\"T_47937_level0_row34\" class=\"row_heading level0 row34\" >34</th>\n",
       "      <td id=\"T_47937_row34_col0\" class=\"data row34 col0\" >Scaling (Target)</td>\n",
       "      <td id=\"T_47937_row34_col1\" class=\"data row34 col1\" >None</td>\n",
       "    </tr>\n",
       "    <tr>\n",
       "      <th id=\"T_47937_level0_row35\" class=\"row_heading level0 row35\" >35</th>\n",
       "      <td id=\"T_47937_row35_col0\" class=\"data row35 col0\" >Feature Engineering (Target) - Reduced Regression</td>\n",
       "      <td id=\"T_47937_row35_col1\" class=\"data row35 col1\" >False</td>\n",
       "    </tr>\n",
       "    <tr>\n",
       "      <th id=\"T_47937_level0_row36\" class=\"row_heading level0 row36\" >36</th>\n",
       "      <td id=\"T_47937_row36_col0\" class=\"data row36 col0\" >CPU Jobs</td>\n",
       "      <td id=\"T_47937_row36_col1\" class=\"data row36 col1\" >-1</td>\n",
       "    </tr>\n",
       "    <tr>\n",
       "      <th id=\"T_47937_level0_row37\" class=\"row_heading level0 row37\" >37</th>\n",
       "      <td id=\"T_47937_row37_col0\" class=\"data row37 col0\" >Use GPU</td>\n",
       "      <td id=\"T_47937_row37_col1\" class=\"data row37 col1\" >False</td>\n",
       "    </tr>\n",
       "    <tr>\n",
       "      <th id=\"T_47937_level0_row38\" class=\"row_heading level0 row38\" >38</th>\n",
       "      <td id=\"T_47937_row38_col0\" class=\"data row38 col0\" >Log Experiment</td>\n",
       "      <td id=\"T_47937_row38_col1\" class=\"data row38 col1\" >False</td>\n",
       "    </tr>\n",
       "    <tr>\n",
       "      <th id=\"T_47937_level0_row39\" class=\"row_heading level0 row39\" >39</th>\n",
       "      <td id=\"T_47937_row39_col0\" class=\"data row39 col0\" >Experiment Name</td>\n",
       "      <td id=\"T_47937_row39_col1\" class=\"data row39 col1\" >ts-default-name</td>\n",
       "    </tr>\n",
       "    <tr>\n",
       "      <th id=\"T_47937_level0_row40\" class=\"row_heading level0 row40\" >40</th>\n",
       "      <td id=\"T_47937_row40_col0\" class=\"data row40 col0\" >USI</td>\n",
       "      <td id=\"T_47937_row40_col1\" class=\"data row40 col1\" >9740</td>\n",
       "    </tr>\n",
       "  </tbody>\n",
       "</table>\n"
      ],
      "text/plain": [
       "<pandas.io.formats.style.Styler at 0x1b9d159a850>"
      ]
     },
     "metadata": {},
     "output_type": "display_data"
    },
    {
     "data": {
      "text/html": [],
      "text/plain": [
       "<IPython.core.display.HTML object>"
      ]
     },
     "metadata": {},
     "output_type": "display_data"
    },
    {
     "data": {
      "text/html": [
       "<style type=\"text/css\">\n",
       "#T_56a99_row3_col0, #T_56a99_row3_col1, #T_56a99_row3_col2, #T_56a99_row3_col3, #T_56a99_row3_col4, #T_56a99_row3_col5, #T_56a99_row3_col6, #T_56a99_row3_col7 {\n",
       "  background: yellow;\n",
       "}\n",
       "</style>\n",
       "<table id=\"T_56a99\">\n",
       "  <thead>\n",
       "    <tr>\n",
       "      <th class=\"blank level0\" >&nbsp;</th>\n",
       "      <th id=\"T_56a99_level0_col0\" class=\"col_heading level0 col0\" >cutoff</th>\n",
       "      <th id=\"T_56a99_level0_col1\" class=\"col_heading level0 col1\" >MASE</th>\n",
       "      <th id=\"T_56a99_level0_col2\" class=\"col_heading level0 col2\" >RMSSE</th>\n",
       "      <th id=\"T_56a99_level0_col3\" class=\"col_heading level0 col3\" >MAE</th>\n",
       "      <th id=\"T_56a99_level0_col4\" class=\"col_heading level0 col4\" >RMSE</th>\n",
       "      <th id=\"T_56a99_level0_col5\" class=\"col_heading level0 col5\" >MAPE</th>\n",
       "      <th id=\"T_56a99_level0_col6\" class=\"col_heading level0 col6\" >SMAPE</th>\n",
       "      <th id=\"T_56a99_level0_col7\" class=\"col_heading level0 col7\" >R2</th>\n",
       "    </tr>\n",
       "  </thead>\n",
       "  <tbody>\n",
       "    <tr>\n",
       "      <th id=\"T_56a99_level0_row0\" class=\"row_heading level0 row0\" >0</th>\n",
       "      <td id=\"T_56a99_row0_col0\" class=\"data row0 col0\" >2024-12-30</td>\n",
       "      <td id=\"T_56a99_row0_col1\" class=\"data row0 col1\" >0.6694</td>\n",
       "      <td id=\"T_56a99_row0_col2\" class=\"data row0 col2\" >0.6147</td>\n",
       "      <td id=\"T_56a99_row0_col3\" class=\"data row0 col3\" >0.2473</td>\n",
       "      <td id=\"T_56a99_row0_col4\" class=\"data row0 col4\" >0.2955</td>\n",
       "      <td id=\"T_56a99_row0_col5\" class=\"data row0 col5\" >0.1684</td>\n",
       "      <td id=\"T_56a99_row0_col6\" class=\"data row0 col6\" >0.1543</td>\n",
       "      <td id=\"T_56a99_row0_col7\" class=\"data row0 col7\" >0.0667</td>\n",
       "    </tr>\n",
       "    <tr>\n",
       "      <th id=\"T_56a99_level0_row1\" class=\"row_heading level0 row1\" >1</th>\n",
       "      <td id=\"T_56a99_row1_col0\" class=\"data row1 col0\" >2025-01-29</td>\n",
       "      <td id=\"T_56a99_row1_col1\" class=\"data row1 col1\" >0.8635</td>\n",
       "      <td id=\"T_56a99_row1_col2\" class=\"data row1 col2\" >0.7091</td>\n",
       "      <td id=\"T_56a99_row1_col3\" class=\"data row1 col3\" >0.3118</td>\n",
       "      <td id=\"T_56a99_row1_col4\" class=\"data row1 col4\" >0.3314</td>\n",
       "      <td id=\"T_56a99_row1_col5\" class=\"data row1 col5\" >0.4788</td>\n",
       "      <td id=\"T_56a99_row1_col6\" class=\"data row1 col6\" >0.3741</td>\n",
       "      <td id=\"T_56a99_row1_col7\" class=\"data row1 col7\" >-3.4415</td>\n",
       "    </tr>\n",
       "    <tr>\n",
       "      <th id=\"T_56a99_level0_row2\" class=\"row_heading level0 row2\" >2</th>\n",
       "      <td id=\"T_56a99_row2_col0\" class=\"data row2 col0\" >2025-02-28</td>\n",
       "      <td id=\"T_56a99_row2_col1\" class=\"data row2 col1\" >0.2283</td>\n",
       "      <td id=\"T_56a99_row2_col2\" class=\"data row2 col2\" >0.2059</td>\n",
       "      <td id=\"T_56a99_row2_col3\" class=\"data row2 col3\" >0.0777</td>\n",
       "      <td id=\"T_56a99_row2_col4\" class=\"data row2 col4\" >0.0923</td>\n",
       "      <td id=\"T_56a99_row2_col5\" class=\"data row2 col5\" >0.1558</td>\n",
       "      <td id=\"T_56a99_row2_col6\" class=\"data row2 col6\" >0.1427</td>\n",
       "      <td id=\"T_56a99_row2_col7\" class=\"data row2 col7\" >-0.7887</td>\n",
       "    </tr>\n",
       "    <tr>\n",
       "      <th id=\"T_56a99_level0_row3\" class=\"row_heading level0 row3\" >Mean</th>\n",
       "      <td id=\"T_56a99_row3_col0\" class=\"data row3 col0\" >NaT</td>\n",
       "      <td id=\"T_56a99_row3_col1\" class=\"data row3 col1\" >0.5871</td>\n",
       "      <td id=\"T_56a99_row3_col2\" class=\"data row3 col2\" >0.5099</td>\n",
       "      <td id=\"T_56a99_row3_col3\" class=\"data row3 col3\" >0.2123</td>\n",
       "      <td id=\"T_56a99_row3_col4\" class=\"data row3 col4\" >0.2398</td>\n",
       "      <td id=\"T_56a99_row3_col5\" class=\"data row3 col5\" >0.2677</td>\n",
       "      <td id=\"T_56a99_row3_col6\" class=\"data row3 col6\" >0.2237</td>\n",
       "      <td id=\"T_56a99_row3_col7\" class=\"data row3 col7\" >-1.3878</td>\n",
       "    </tr>\n",
       "    <tr>\n",
       "      <th id=\"T_56a99_level0_row4\" class=\"row_heading level0 row4\" >SD</th>\n",
       "      <td id=\"T_56a99_row4_col0\" class=\"data row4 col0\" >NaT</td>\n",
       "      <td id=\"T_56a99_row4_col1\" class=\"data row4 col1\" >0.2658</td>\n",
       "      <td id=\"T_56a99_row4_col2\" class=\"data row4 col2\" >0.2184</td>\n",
       "      <td id=\"T_56a99_row4_col3\" class=\"data row4 col3\" >0.0988</td>\n",
       "      <td id=\"T_56a99_row4_col4\" class=\"data row4 col4\" >0.1053</td>\n",
       "      <td id=\"T_56a99_row4_col5\" class=\"data row4 col5\" >0.1494</td>\n",
       "      <td id=\"T_56a99_row4_col6\" class=\"data row4 col6\" >0.1065</td>\n",
       "      <td id=\"T_56a99_row4_col7\" class=\"data row4 col7\" >1.4935</td>\n",
       "    </tr>\n",
       "  </tbody>\n",
       "</table>\n"
      ],
      "text/plain": [
       "<pandas.io.formats.style.Styler at 0x1b9c83ea1f0>"
      ]
     },
     "metadata": {},
     "output_type": "display_data"
    },
    {
     "data": {
      "text/html": [],
      "text/plain": [
       "<IPython.core.display.HTML object>"
      ]
     },
     "metadata": {},
     "output_type": "display_data"
    },
    {
     "data": {
      "text/html": [],
      "text/plain": [
       "<IPython.core.display.HTML object>"
      ]
     },
     "metadata": {},
     "output_type": "display_data"
    },
    {
     "data": {
      "text/html": [
       "<style type=\"text/css\">\n",
       "#T_7eb07_row3_col0, #T_7eb07_row3_col1, #T_7eb07_row3_col2, #T_7eb07_row3_col3, #T_7eb07_row3_col4, #T_7eb07_row3_col5, #T_7eb07_row3_col6, #T_7eb07_row3_col7 {\n",
       "  background: yellow;\n",
       "}\n",
       "</style>\n",
       "<table id=\"T_7eb07\">\n",
       "  <thead>\n",
       "    <tr>\n",
       "      <th class=\"blank level0\" >&nbsp;</th>\n",
       "      <th id=\"T_7eb07_level0_col0\" class=\"col_heading level0 col0\" >cutoff</th>\n",
       "      <th id=\"T_7eb07_level0_col1\" class=\"col_heading level0 col1\" >MASE</th>\n",
       "      <th id=\"T_7eb07_level0_col2\" class=\"col_heading level0 col2\" >RMSSE</th>\n",
       "      <th id=\"T_7eb07_level0_col3\" class=\"col_heading level0 col3\" >MAE</th>\n",
       "      <th id=\"T_7eb07_level0_col4\" class=\"col_heading level0 col4\" >RMSE</th>\n",
       "      <th id=\"T_7eb07_level0_col5\" class=\"col_heading level0 col5\" >MAPE</th>\n",
       "      <th id=\"T_7eb07_level0_col6\" class=\"col_heading level0 col6\" >SMAPE</th>\n",
       "      <th id=\"T_7eb07_level0_col7\" class=\"col_heading level0 col7\" >R2</th>\n",
       "    </tr>\n",
       "  </thead>\n",
       "  <tbody>\n",
       "    <tr>\n",
       "      <th id=\"T_7eb07_level0_row0\" class=\"row_heading level0 row0\" >0</th>\n",
       "      <td id=\"T_7eb07_row0_col0\" class=\"data row0 col0\" >2024-12-30</td>\n",
       "      <td id=\"T_7eb07_row0_col1\" class=\"data row0 col1\" >0.6463</td>\n",
       "      <td id=\"T_7eb07_row0_col2\" class=\"data row0 col2\" >0.5740</td>\n",
       "      <td id=\"T_7eb07_row0_col3\" class=\"data row0 col3\" >0.2388</td>\n",
       "      <td id=\"T_7eb07_row0_col4\" class=\"data row0 col4\" >0.2760</td>\n",
       "      <td id=\"T_7eb07_row0_col5\" class=\"data row0 col5\" >0.1624</td>\n",
       "      <td id=\"T_7eb07_row0_col6\" class=\"data row0 col6\" >0.1494</td>\n",
       "      <td id=\"T_7eb07_row0_col7\" class=\"data row0 col7\" >0.1862</td>\n",
       "    </tr>\n",
       "    <tr>\n",
       "      <th id=\"T_7eb07_level0_row1\" class=\"row_heading level0 row1\" >1</th>\n",
       "      <td id=\"T_7eb07_row1_col0\" class=\"data row1 col0\" >2025-01-29</td>\n",
       "      <td id=\"T_7eb07_row1_col1\" class=\"data row1 col1\" >0.9089</td>\n",
       "      <td id=\"T_7eb07_row1_col2\" class=\"data row1 col2\" >0.7377</td>\n",
       "      <td id=\"T_7eb07_row1_col3\" class=\"data row1 col3\" >0.3282</td>\n",
       "      <td id=\"T_7eb07_row1_col4\" class=\"data row1 col4\" >0.3448</td>\n",
       "      <td id=\"T_7eb07_row1_col5\" class=\"data row1 col5\" >0.4993</td>\n",
       "      <td id=\"T_7eb07_row1_col6\" class=\"data row1 col6\" >0.3891</td>\n",
       "      <td id=\"T_7eb07_row1_col7\" class=\"data row1 col7\" >-3.8067</td>\n",
       "    </tr>\n",
       "    <tr>\n",
       "      <th id=\"T_7eb07_level0_row2\" class=\"row_heading level0 row2\" >2</th>\n",
       "      <td id=\"T_7eb07_row2_col0\" class=\"data row2 col0\" >2025-02-28</td>\n",
       "      <td id=\"T_7eb07_row2_col1\" class=\"data row2 col1\" >0.1567</td>\n",
       "      <td id=\"T_7eb07_row2_col2\" class=\"data row2 col2\" >0.1521</td>\n",
       "      <td id=\"T_7eb07_row2_col3\" class=\"data row2 col3\" >0.0533</td>\n",
       "      <td id=\"T_7eb07_row2_col4\" class=\"data row2 col4\" >0.0681</td>\n",
       "      <td id=\"T_7eb07_row2_col5\" class=\"data row2 col5\" >0.1031</td>\n",
       "      <td id=\"T_7eb07_row2_col6\" class=\"data row2 col6\" >0.1068</td>\n",
       "      <td id=\"T_7eb07_row2_col7\" class=\"data row2 col7\" >0.0249</td>\n",
       "    </tr>\n",
       "    <tr>\n",
       "      <th id=\"T_7eb07_level0_row3\" class=\"row_heading level0 row3\" >Mean</th>\n",
       "      <td id=\"T_7eb07_row3_col0\" class=\"data row3 col0\" >NaT</td>\n",
       "      <td id=\"T_7eb07_row3_col1\" class=\"data row3 col1\" >0.5706</td>\n",
       "      <td id=\"T_7eb07_row3_col2\" class=\"data row3 col2\" >0.4879</td>\n",
       "      <td id=\"T_7eb07_row3_col3\" class=\"data row3 col3\" >0.2068</td>\n",
       "      <td id=\"T_7eb07_row3_col4\" class=\"data row3 col4\" >0.2296</td>\n",
       "      <td id=\"T_7eb07_row3_col5\" class=\"data row3 col5\" >0.2550</td>\n",
       "      <td id=\"T_7eb07_row3_col6\" class=\"data row3 col6\" >0.2151</td>\n",
       "      <td id=\"T_7eb07_row3_col7\" class=\"data row3 col7\" >-1.1985</td>\n",
       "    </tr>\n",
       "    <tr>\n",
       "      <th id=\"T_7eb07_level0_row4\" class=\"row_heading level0 row4\" >SD</th>\n",
       "      <td id=\"T_7eb07_row4_col0\" class=\"data row4 col0\" >NaT</td>\n",
       "      <td id=\"T_7eb07_row4_col1\" class=\"data row4 col1\" >0.3117</td>\n",
       "      <td id=\"T_7eb07_row4_col2\" class=\"data row4 col2\" >0.2467</td>\n",
       "      <td id=\"T_7eb07_row4_col3\" class=\"data row4 col3\" >0.1145</td>\n",
       "      <td id=\"T_7eb07_row4_col4\" class=\"data row4 col4\" >0.1176</td>\n",
       "      <td id=\"T_7eb07_row4_col5\" class=\"data row4 col5\" >0.1745</td>\n",
       "      <td id=\"T_7eb07_row4_col6\" class=\"data row4 col6\" >0.1243</td>\n",
       "      <td id=\"T_7eb07_row4_col7\" class=\"data row4 col7\" >1.8454</td>\n",
       "    </tr>\n",
       "  </tbody>\n",
       "</table>\n"
      ],
      "text/plain": [
       "<pandas.io.formats.style.Styler at 0x1b9c4ea5790>"
      ]
     },
     "metadata": {},
     "output_type": "display_data"
    },
    {
     "data": {
      "text/html": [],
      "text/plain": [
       "<IPython.core.display.HTML object>"
      ]
     },
     "metadata": {},
     "output_type": "display_data"
    },
    {
     "name": "stdout",
     "output_type": "stream",
     "text": [
      "Fitting 3 folds for each of 10 candidates, totalling 30 fits\n"
     ]
    },
    {
     "name": "stderr",
     "output_type": "stream",
     "text": [
      "[Parallel(n_jobs=-1)]: Using backend LokyBackend with 8 concurrent workers.\n",
      "[Parallel(n_jobs=-1)]: Done  30 out of  30 | elapsed:    5.8s finished\n"
     ]
    },
    {
     "data": {
      "application/vnd.plotly.v1+json": {
       "config": {
        "plotlyServerURL": "https://plot.ly"
       },
       "data": [
        {
         "line": {
          "color": "#1f77b4"
         },
         "marker": {
          "size": 5
         },
         "mode": "lines+markers",
         "name": "Forecast | ARIMA",
         "showlegend": true,
         "type": "scatter",
         "x": [
          "2025-04-30T00:00:00",
          "2025-05-01T00:00:00",
          "2025-05-02T00:00:00",
          "2025-05-03T00:00:00",
          "2025-05-04T00:00:00",
          "2025-05-05T00:00:00",
          "2025-05-06T00:00:00",
          "2025-05-07T00:00:00",
          "2025-05-08T00:00:00",
          "2025-05-09T00:00:00",
          "2025-05-10T00:00:00",
          "2025-05-11T00:00:00",
          "2025-05-12T00:00:00",
          "2025-05-13T00:00:00",
          "2025-05-14T00:00:00",
          "2025-05-15T00:00:00",
          "2025-05-16T00:00:00",
          "2025-05-17T00:00:00",
          "2025-05-18T00:00:00",
          "2025-05-19T00:00:00",
          "2025-05-20T00:00:00",
          "2025-05-21T00:00:00",
          "2025-05-22T00:00:00",
          "2025-05-23T00:00:00",
          "2025-05-24T00:00:00",
          "2025-05-25T00:00:00",
          "2025-05-26T00:00:00",
          "2025-05-27T00:00:00",
          "2025-05-28T00:00:00",
          "2025-05-29T00:00:00"
         ],
         "y": {
          "bdata": "GQRWDi2y4z/1udqK/WXjP4nS3uALk+M/uECC4seY4z/Sb18HzhnjP3e+nxov3eI/+n5qvHST4j/F/rJ78rDiPysYldQJaOI/Ns07TtGR4j+C4seYu5biP8x/SL99HeI/F9nO91Pj4T8i/fZ14JzhPynLEMe6uOE/Ne84RUdy4T+amZmZmZnhPwRWDi2yneE/fGEyVTAq4T9txf6ye/LgPwFNhA1Pr+A/YhBYObTI4D/2l92Th4XgP7U3+MJkquA/PZtVn6ut4D/kFB3J5T/gP5kqGJXUCeA/ayv2l92T3z+lTkATYcPfP90kBoGVQ98/",
          "dtype": "f8"
         }
        },
        {
         "line": {
          "width": 0
         },
         "marker": {
          "color": "#68BBE3"
         },
         "mode": "lines",
         "name": "Lower Interval",
         "showlegend": false,
         "type": "scatter",
         "x": [
          "2025-04-30T00:00:00",
          "2025-05-01T00:00:00",
          "2025-05-02T00:00:00",
          "2025-05-03T00:00:00",
          "2025-05-04T00:00:00",
          "2025-05-05T00:00:00",
          "2025-05-06T00:00:00",
          "2025-05-07T00:00:00",
          "2025-05-08T00:00:00",
          "2025-05-09T00:00:00",
          "2025-05-10T00:00:00",
          "2025-05-11T00:00:00",
          "2025-05-12T00:00:00",
          "2025-05-13T00:00:00",
          "2025-05-14T00:00:00",
          "2025-05-15T00:00:00",
          "2025-05-16T00:00:00",
          "2025-05-17T00:00:00",
          "2025-05-18T00:00:00",
          "2025-05-19T00:00:00",
          "2025-05-20T00:00:00",
          "2025-05-21T00:00:00",
          "2025-05-22T00:00:00",
          "2025-05-23T00:00:00",
          "2025-05-24T00:00:00",
          "2025-05-25T00:00:00",
          "2025-05-26T00:00:00",
          "2025-05-27T00:00:00",
          "2025-05-28T00:00:00",
          "2025-05-29T00:00:00"
         ],
         "y": {
          "bdata": "cT0K16Nw4T+1pnnHKTrgP21Wfa62Yt8/cF8HzhlR3j+kcD0K16PcPznWxW00gNs/3gIJih9j2j8X2c73U+PZP0w3iUFg5dg/Ns07TtGR2D8yVTAqqRPYP636XG3F/tY/EoPAyqFF1j9nRGlv8IXVPzcawFsgQdU/6bevA+eM1D90RpT2Bl/UP13cRgN4C9Q/9+RhodY00z/T3uALk6nSP9lfdk8eFtI/Y+5aQj7o0T96Nqs+V1vRP662Yn/ZPdE/j1N0JJf/0D9SuB6F61HQP2kAb4EExc8/hJ7Nqs/Vzj/c14FzRpTOPwg9m1Wfq80/",
          "dtype": "f8"
         }
        },
        {
         "fill": "tonexty",
         "fillcolor": "rgba(104,187,227,0.5)",
         "line": {
          "width": 0
         },
         "marker": {
          "color": "#68BBE3"
         },
         "mode": "lines",
         "name": "Prediction Interval | ARIMA",
         "showlegend": true,
         "type": "scatter",
         "x": [
          "2025-04-30T00:00:00",
          "2025-05-01T00:00:00",
          "2025-05-02T00:00:00",
          "2025-05-03T00:00:00",
          "2025-05-04T00:00:00",
          "2025-05-05T00:00:00",
          "2025-05-06T00:00:00",
          "2025-05-07T00:00:00",
          "2025-05-08T00:00:00",
          "2025-05-09T00:00:00",
          "2025-05-10T00:00:00",
          "2025-05-11T00:00:00",
          "2025-05-12T00:00:00",
          "2025-05-13T00:00:00",
          "2025-05-14T00:00:00",
          "2025-05-15T00:00:00",
          "2025-05-16T00:00:00",
          "2025-05-17T00:00:00",
          "2025-05-18T00:00:00",
          "2025-05-19T00:00:00",
          "2025-05-20T00:00:00",
          "2025-05-21T00:00:00",
          "2025-05-22T00:00:00",
          "2025-05-23T00:00:00",
          "2025-05-24T00:00:00",
          "2025-05-25T00:00:00",
          "2025-05-26T00:00:00",
          "2025-05-27T00:00:00",
          "2025-05-28T00:00:00",
          "2025-05-29T00:00:00"
         ],
         "y": {
          "bdata": "IGPuWkI+5j+rz9VW7C/nP9Ei2/l+aug/aW/whclU6T8oDwu1pnnpP3DOiNLe4Ok/ZapgVFIn6j8H8BZIUPzqP7yWkA96Nus/MlUwKqkT7D8wuycPC7XsPyUGgZVDi+w/I9v5fmq87D/A7J48LNTsP1pkO99Pje0/jLlrCfmg7T+ze/KwUGvuP5wzorQ3+O4/PZtVn6ut7j+eXinLEMfuP4C3QILix+4/vVKWIY517z+9UpYhjnXvPwfOGVHaG/A/PujZrPpc8D+TGARWDi3wP1HaG3xhMvA/z2bV52or8D9Wfa62Yn/wP9UJaCJsePA/",
          "dtype": "f8"
         }
        },
        {
         "marker": {
          "color": "#3f3f3f",
          "size": 5
         },
         "mode": "lines+markers",
         "name": "Original",
         "showlegend": true,
         "type": "scatter",
         "x": [
          "2024-04-30T00:00:00",
          "2024-05-01T00:00:00",
          "2024-05-02T00:00:00",
          "2024-05-03T00:00:00",
          "2024-05-04T00:00:00",
          "2024-05-05T00:00:00",
          "2024-05-06T00:00:00",
          "2024-05-07T00:00:00",
          "2024-05-08T00:00:00",
          "2024-05-09T00:00:00",
          "2024-05-10T00:00:00",
          "2024-05-11T00:00:00",
          "2024-05-12T00:00:00",
          "2024-05-13T00:00:00",
          "2024-05-14T00:00:00",
          "2024-05-15T00:00:00",
          "2024-05-16T00:00:00",
          "2024-05-17T00:00:00",
          "2024-05-18T00:00:00",
          "2024-05-19T00:00:00",
          "2024-05-20T00:00:00",
          "2024-05-21T00:00:00",
          "2024-05-22T00:00:00",
          "2024-05-23T00:00:00",
          "2024-05-24T00:00:00",
          "2024-05-25T00:00:00",
          "2024-05-26T00:00:00",
          "2024-05-27T00:00:00",
          "2024-05-28T00:00:00",
          "2024-05-29T00:00:00",
          "2024-05-30T00:00:00",
          "2024-05-31T00:00:00",
          "2024-06-01T00:00:00",
          "2024-06-02T00:00:00",
          "2024-06-03T00:00:00",
          "2024-06-04T00:00:00",
          "2024-06-05T00:00:00",
          "2024-06-06T00:00:00",
          "2024-06-07T00:00:00",
          "2024-06-08T00:00:00",
          "2024-06-09T00:00:00",
          "2024-06-10T00:00:00",
          "2024-06-11T00:00:00",
          "2024-06-12T00:00:00",
          "2024-06-13T00:00:00",
          "2024-06-14T00:00:00",
          "2024-06-15T00:00:00",
          "2024-06-16T00:00:00",
          "2024-06-17T00:00:00",
          "2024-06-18T00:00:00",
          "2024-06-19T00:00:00",
          "2024-06-20T00:00:00",
          "2024-06-21T00:00:00",
          "2024-06-22T00:00:00",
          "2024-06-23T00:00:00",
          "2024-06-24T00:00:00",
          "2024-06-25T00:00:00",
          "2024-06-26T00:00:00",
          "2024-06-27T00:00:00",
          "2024-06-28T00:00:00",
          "2024-06-29T00:00:00",
          "2024-06-30T00:00:00",
          "2024-07-01T00:00:00",
          "2024-07-02T00:00:00",
          "2024-07-03T00:00:00",
          "2024-07-04T00:00:00",
          "2024-07-05T00:00:00",
          "2024-07-06T00:00:00",
          "2024-07-07T00:00:00",
          "2024-07-08T00:00:00",
          "2024-07-09T00:00:00",
          "2024-07-10T00:00:00",
          "2024-07-11T00:00:00",
          "2024-07-12T00:00:00",
          "2024-07-13T00:00:00",
          "2024-07-14T00:00:00",
          "2024-07-15T00:00:00",
          "2024-07-16T00:00:00",
          "2024-07-17T00:00:00",
          "2024-07-18T00:00:00",
          "2024-07-19T00:00:00",
          "2024-07-20T00:00:00",
          "2024-07-21T00:00:00",
          "2024-07-22T00:00:00",
          "2024-07-23T00:00:00",
          "2024-07-24T00:00:00",
          "2024-07-25T00:00:00",
          "2024-07-26T00:00:00",
          "2024-07-27T00:00:00",
          "2024-07-28T00:00:00",
          "2024-07-29T00:00:00",
          "2024-07-30T00:00:00",
          "2024-07-31T00:00:00",
          "2024-08-01T00:00:00",
          "2024-08-02T00:00:00",
          "2024-08-03T00:00:00",
          "2024-08-04T00:00:00",
          "2024-08-05T00:00:00",
          "2024-08-06T00:00:00",
          "2024-08-07T00:00:00",
          "2024-08-08T00:00:00",
          "2024-08-09T00:00:00",
          "2024-08-10T00:00:00",
          "2024-08-11T00:00:00",
          "2024-08-12T00:00:00",
          "2024-08-13T00:00:00",
          "2024-08-14T00:00:00",
          "2024-08-15T00:00:00",
          "2024-08-16T00:00:00",
          "2024-08-17T00:00:00",
          "2024-08-18T00:00:00",
          "2024-08-19T00:00:00",
          "2024-08-20T00:00:00",
          "2024-08-21T00:00:00",
          "2024-08-22T00:00:00",
          "2024-08-23T00:00:00",
          "2024-08-24T00:00:00",
          "2024-08-25T00:00:00",
          "2024-08-26T00:00:00",
          "2024-08-27T00:00:00",
          "2024-08-28T00:00:00",
          "2024-08-29T00:00:00",
          "2024-08-30T00:00:00",
          "2024-08-31T00:00:00",
          "2024-09-01T00:00:00",
          "2024-09-02T00:00:00",
          "2024-09-03T00:00:00",
          "2024-09-04T00:00:00",
          "2024-09-05T00:00:00",
          "2024-09-06T00:00:00",
          "2024-09-07T00:00:00",
          "2024-09-08T00:00:00",
          "2024-09-09T00:00:00",
          "2024-09-10T00:00:00",
          "2024-09-11T00:00:00",
          "2024-09-12T00:00:00",
          "2024-09-13T00:00:00",
          "2024-09-14T00:00:00",
          "2024-09-15T00:00:00",
          "2024-09-16T00:00:00",
          "2024-09-17T00:00:00",
          "2024-09-18T00:00:00",
          "2024-09-19T00:00:00",
          "2024-09-20T00:00:00",
          "2024-09-21T00:00:00",
          "2024-09-22T00:00:00",
          "2024-09-23T00:00:00",
          "2024-09-24T00:00:00",
          "2024-09-25T00:00:00",
          "2024-09-26T00:00:00",
          "2024-09-27T00:00:00",
          "2024-09-28T00:00:00",
          "2024-09-29T00:00:00",
          "2024-09-30T00:00:00",
          "2024-10-01T00:00:00",
          "2024-10-02T00:00:00",
          "2024-10-03T00:00:00",
          "2024-10-04T00:00:00",
          "2024-10-05T00:00:00",
          "2024-10-06T00:00:00",
          "2024-10-07T00:00:00",
          "2024-10-08T00:00:00",
          "2024-10-09T00:00:00",
          "2024-10-10T00:00:00",
          "2024-10-11T00:00:00",
          "2024-10-12T00:00:00",
          "2024-10-13T00:00:00",
          "2024-10-14T00:00:00",
          "2024-10-15T00:00:00",
          "2024-10-16T00:00:00",
          "2024-10-17T00:00:00",
          "2024-10-18T00:00:00",
          "2024-10-19T00:00:00",
          "2024-10-20T00:00:00",
          "2024-10-21T00:00:00",
          "2024-10-22T00:00:00",
          "2024-10-23T00:00:00",
          "2024-10-24T00:00:00",
          "2024-10-25T00:00:00",
          "2024-10-26T00:00:00",
          "2024-10-27T00:00:00",
          "2024-10-28T00:00:00",
          "2024-10-29T00:00:00",
          "2024-10-30T00:00:00",
          "2024-10-31T00:00:00",
          "2024-11-01T00:00:00",
          "2024-11-02T00:00:00",
          "2024-11-03T00:00:00",
          "2024-11-04T00:00:00",
          "2024-11-05T00:00:00",
          "2024-11-06T00:00:00",
          "2024-11-07T00:00:00",
          "2024-11-08T00:00:00",
          "2024-11-09T00:00:00",
          "2024-11-10T00:00:00",
          "2024-11-11T00:00:00",
          "2024-11-12T00:00:00",
          "2024-11-13T00:00:00",
          "2024-11-14T00:00:00",
          "2024-11-15T00:00:00",
          "2024-11-16T00:00:00",
          "2024-11-17T00:00:00",
          "2024-11-18T00:00:00",
          "2024-11-19T00:00:00",
          "2024-11-20T00:00:00",
          "2024-11-21T00:00:00",
          "2024-11-22T00:00:00",
          "2024-11-23T00:00:00",
          "2024-11-24T00:00:00",
          "2024-11-25T00:00:00",
          "2024-11-26T00:00:00",
          "2024-11-27T00:00:00",
          "2024-11-28T00:00:00",
          "2024-11-29T00:00:00",
          "2024-11-30T00:00:00",
          "2024-12-01T00:00:00",
          "2024-12-02T00:00:00",
          "2024-12-03T00:00:00",
          "2024-12-04T00:00:00",
          "2024-12-05T00:00:00",
          "2024-12-06T00:00:00",
          "2024-12-07T00:00:00",
          "2024-12-08T00:00:00",
          "2024-12-09T00:00:00",
          "2024-12-10T00:00:00",
          "2024-12-11T00:00:00",
          "2024-12-12T00:00:00",
          "2024-12-13T00:00:00",
          "2024-12-14T00:00:00",
          "2024-12-15T00:00:00",
          "2024-12-16T00:00:00",
          "2024-12-17T00:00:00",
          "2024-12-18T00:00:00",
          "2024-12-19T00:00:00",
          "2024-12-20T00:00:00",
          "2024-12-21T00:00:00",
          "2024-12-22T00:00:00",
          "2024-12-23T00:00:00",
          "2024-12-24T00:00:00",
          "2024-12-25T00:00:00",
          "2024-12-26T00:00:00",
          "2024-12-27T00:00:00",
          "2024-12-28T00:00:00",
          "2024-12-29T00:00:00",
          "2024-12-30T00:00:00",
          "2024-12-31T00:00:00",
          "2025-01-01T00:00:00",
          "2025-01-02T00:00:00",
          "2025-01-03T00:00:00",
          "2025-01-04T00:00:00",
          "2025-01-05T00:00:00",
          "2025-01-06T00:00:00",
          "2025-01-07T00:00:00",
          "2025-01-08T00:00:00",
          "2025-01-09T00:00:00",
          "2025-01-10T00:00:00",
          "2025-01-11T00:00:00",
          "2025-01-12T00:00:00",
          "2025-01-13T00:00:00",
          "2025-01-14T00:00:00",
          "2025-01-15T00:00:00",
          "2025-01-16T00:00:00",
          "2025-01-17T00:00:00",
          "2025-01-18T00:00:00",
          "2025-01-19T00:00:00",
          "2025-01-20T00:00:00",
          "2025-01-21T00:00:00",
          "2025-01-22T00:00:00",
          "2025-01-23T00:00:00",
          "2025-01-24T00:00:00",
          "2025-01-25T00:00:00",
          "2025-01-26T00:00:00",
          "2025-01-27T00:00:00",
          "2025-01-28T00:00:00",
          "2025-01-29T00:00:00",
          "2025-01-30T00:00:00",
          "2025-01-31T00:00:00",
          "2025-02-01T00:00:00",
          "2025-02-02T00:00:00",
          "2025-02-03T00:00:00",
          "2025-02-04T00:00:00",
          "2025-02-05T00:00:00",
          "2025-02-06T00:00:00",
          "2025-02-07T00:00:00",
          "2025-02-08T00:00:00",
          "2025-02-09T00:00:00",
          "2025-02-10T00:00:00",
          "2025-02-11T00:00:00",
          "2025-02-12T00:00:00",
          "2025-02-13T00:00:00",
          "2025-02-14T00:00:00",
          "2025-02-15T00:00:00",
          "2025-02-16T00:00:00",
          "2025-02-17T00:00:00",
          "2025-02-18T00:00:00",
          "2025-02-19T00:00:00",
          "2025-02-20T00:00:00",
          "2025-02-21T00:00:00",
          "2025-02-22T00:00:00",
          "2025-02-23T00:00:00",
          "2025-02-24T00:00:00",
          "2025-02-25T00:00:00",
          "2025-02-26T00:00:00",
          "2025-02-27T00:00:00",
          "2025-02-28T00:00:00",
          "2025-03-01T00:00:00",
          "2025-03-02T00:00:00",
          "2025-03-03T00:00:00",
          "2025-03-04T00:00:00",
          "2025-03-05T00:00:00",
          "2025-03-06T00:00:00",
          "2025-03-07T00:00:00",
          "2025-03-08T00:00:00",
          "2025-03-09T00:00:00",
          "2025-03-10T00:00:00",
          "2025-03-11T00:00:00",
          "2025-03-12T00:00:00",
          "2025-03-13T00:00:00",
          "2025-03-14T00:00:00",
          "2025-03-15T00:00:00",
          "2025-03-16T00:00:00",
          "2025-03-17T00:00:00",
          "2025-03-18T00:00:00",
          "2025-03-19T00:00:00",
          "2025-03-20T00:00:00",
          "2025-03-21T00:00:00",
          "2025-03-22T00:00:00",
          "2025-03-23T00:00:00",
          "2025-03-24T00:00:00",
          "2025-03-25T00:00:00",
          "2025-03-26T00:00:00",
          "2025-03-27T00:00:00",
          "2025-03-28T00:00:00",
          "2025-03-29T00:00:00",
          "2025-03-30T00:00:00",
          "2025-03-31T00:00:00",
          "2025-04-01T00:00:00",
          "2025-04-02T00:00:00",
          "2025-04-03T00:00:00",
          "2025-04-04T00:00:00",
          "2025-04-05T00:00:00",
          "2025-04-06T00:00:00",
          "2025-04-07T00:00:00",
          "2025-04-08T00:00:00",
          "2025-04-09T00:00:00",
          "2025-04-10T00:00:00",
          "2025-04-11T00:00:00",
          "2025-04-12T00:00:00",
          "2025-04-13T00:00:00",
          "2025-04-14T00:00:00",
          "2025-04-15T00:00:00",
          "2025-04-16T00:00:00",
          "2025-04-17T00:00:00",
          "2025-04-18T00:00:00",
          "2025-04-19T00:00:00",
          "2025-04-20T00:00:00",
          "2025-04-21T00:00:00",
          "2025-04-22T00:00:00",
          "2025-04-23T00:00:00",
          "2025-04-24T00:00:00",
          "2025-04-25T00:00:00",
          "2025-04-26T00:00:00",
          "2025-04-27T00:00:00",
          "2025-04-28T00:00:00",
          "2025-04-29T00:00:00"
         ],
         "y": {
          "bdata": "////f5oFBEAAAAAgkuwEQAAAAGDH3wVAAAAAoBbcCEAAAACAHSYLQAAAAKCtvAlAAQAAQHPhCkABAADgpQkIQP///78CPwZAAAAA4EH3CEAAAABgGNQHQP///z8JAQhAAAAAYC7JB0AAAABAxwcIQAAAAECbQwZAAAAAILh8CEAAAACglrsGQAAAAGBxUQZAAAAAYIJvBEAAAADARDwEQAAAAIBdmwZAAAAA4CsFBkAAAADAMUQIQAAAAIDIaQdAAAAAgFH7BkAAAACgk7cIQAAAAMBwnAdAAAAAoCQ5C0AAAACgpDkOQAEAAOCWYQ1AAAAAIIL8CkAAAACAbXIKQAAAAOBkNApAAAAA4FSZCUAAAAAAWCQKQAAAACDxPQtAAAAAYC8mC0AAAABgMdUJQAAAAMAx4AZAAAAAoO6uBUAAAACgJC8GQAAAAIBSiQVAAAAA4BJgBEAAAACAilEFQAAAAECUFgNAAAAAQE6/AkAAAABgv1UDQAAAAGAy1QRAAAAAQMF6AkABAAAAJ4YAQAAAAOD/PABAAAAAYDw8/z8AAABAcjL8PwAAAIDF6Ps/AQAAwFtg+T////+/Y2r9PwAAAEDAUwBAAQAAIHIIAEAAAADA2OYAQAEAAABkqP8/////Pwm3AEAAAADgWZcBQAAAAGB/JAJAAQAAgMSdAUAAAAAg+fz8PwAAAOC1i/s/AQAAAFrB/j8AAABAZxkAQP///z9moPo/////3w6N+j8AAACgjjn7PwAAACBwZPo/AAAAID6w+D8AAABA5xn5PwAAAMC1qPk/AQAAACmq+z/////f7GQBQAAAAABPqAFAAQAAoMpXAUAAAABgZHcDQAAAACB8XQRAAAAAQPYlBUABAACgVJsGQAAAAKAQ7AVAAAAAQMZuBEAAAABAcAAEQAAAAKAzHgRAAAAA4F5dBUAAAACgqeIDQAAAACBeTANAAAAAAK9PAkD///8/400CQAAAAMB2aQFA////v9l7/z8AAACA25P6PwAAAODykfk/AAAAoKYB9z8AAADgCj30PwAAACDSmvY/AAAAgNyw+T////8fqKH+P////58PK/0/AQAAICUE/T8BAAAgsRb6PwAAAGDpp/s/////H587+z8AAAAAAED5PwAAAEB0rPc/AAAAIG5O9j8AAAAgf7f2PwAAAED/RPY/AAAAIPvE9j8AAABg5sn4P////3+3+fg/AAAAYJvp+T8AAABgzGT9PwAAAMCOf/8/////f/57/j8AAABAO1n8PwAAAEDGOPk/AAAAgGhR+T8AAABgo6X4PwAAAKAfzfg/AAAAYLhI+D8AAADgwWT2PwEAAOBkqfg/AAAA4Fbl9z8AAADgfzL6P////9+Nfvg/AAAAgK3g9z8AAABgE673PwAAAIAjFvk/AAAA4AS0+j8AAACg7V/6PwAAAAActPg/AAAAQKn2+D/////fDTD6PwAAAKBAEfk/AAAAQHcQ+D8AAADgbR74PwAAAECHjvg/AAAAoCbe+T8AAACAkFf8PwAAAGAkbfw/AAAAwA95/D8AAADg3iD7PwAAAMDE2Ps/AAAAYE3s/z8AAAAgdS0AQAAAAGD4qAFAAAAAgAYmAkAAAADgqPwCQAAAAGATnQNAAAAAYBG8A0AAAADAW2cCQAAAACBhowFAAAAAIBBWAEAAAAAgBFICQAAAAECYAgJAAAAAoIOHBEAAAABg40EEQAAAACCprANAAAAAwKWRAkAAAACA33QDQAAAAMDxBwZAAAAAQFRlBUAAAACA+08FQAAAAOChnQZAAAAAgF2NBEABAAAAiRgFQAAAAIBLVQRAAAAAYABIBUAAAACAQCcFQAAAAMC25QVAAAAAACMEBEAAAADAclkDQAAAAADZ5ANAAAAAgC2oBEAAAABATHQCQAAAAKCr3wJAAAAAgIfpA0AAAACAkrsDQAEAAEAV5QRAAQAAAB2mBEAAAABA4QwDQAAAAKDZlQFAAQAAoApmAUAAAABA/6gAQAAAACADuf4/AAAAYK7TAEAAAAAgIsADQAEAAACnzAJAAAAAYGaqAkAAAAAgLNUDQAAAACB1+wVAAAAAgBIRCUAAAADgulAKQAAAAEDytRBAAAAA4JilDEAAAACAsfMOQAEAAGDD4QxAAAAAIGbrDEABAADgPYsLQAAAACAkYApAAAAAgLlWCEAAAAAAWSgKQAAAAEDWqAlAAAAAQBkxCkAAAADgR1UJQAAAAOAKcwlAAAAAQCIfCEAAAACg6vAIQAAAACCfpQhAAAAA4D5HCkAAAAAAmnYJQAAAAGD64gpAAAAAIFfxCEAAAACA9U0KQAAAAIAwiQlAAAAAgG09CkAAAACgpO4LQP////8zGA9A////H6reDUAAAACAj48IQAEAAOBg1gZAAAAAILprCEAAAACAVJgHQAAAAMBxXQdAAAAAIIC/BkAAAAAgxtIGQAAAAEBB+wVAAAAAQNmiBUAAAABAyHkCQAAAAOA7nABAAAAAIEbWAEABAACA/Dr+PwAAAACgn/4/AAAAIBkyAEAAAACgnWgAQAAAAMDmsf8/AAAAoDRi/T8AAAAAWyX9P////5+Lv/4/AQAAYOpZ/T8AAADgQy39PwAAAABvuv0/AAAAIBys/T8AAABgsioAQAEAAACiSwFAAQAAQP1gAUAAAACgp88AQAAAAODRqgBAAQAA4J+n/T8AAABgtV37PwEAAMAaoPg/AAAAICjp+D8AAACgtjj5PwEAAGDFvvg/AAAAoFnZ9z8BAACASsf4PwAAAGC/Uvw/AQAAIHQ7/D////8fbwD+PwAAAAC4Wfw/AAAAYBKZ+D8AAADAOEb2PwAAAODXQfc/AAAAgLus9j8AAACgjrL2PwEAAOAhfvQ/AAAAAFtz9D////8/Y2bzPwEAACAx5fI/AAAAALQR8T8AAAAA3ezyPwAAAMCUgfI/AAAAwMs38j8AAABgYzPwPwEAAOBjW+4/AAAAYLOV6z8AAACgM77pPwAAACDba+k/AAAAoFnL5j8AAACg5bLlPwAAAID5AOc/AAAAIDaf5D8AAAAgQwDlPwAAAECyDuQ/AAAAwC9Z4z8AAADgJePiPwAAAKAtS+c/AAAAAMwK5j8AAABA1RPlPwAAAAAGLeQ/AAAAgNmv4z8AAACAcHfjPwAAAEBXouQ/AAAAIN+J5D8AAABgwITmPwAAAMDLGuU/AAAAQEPG4T8AAADA1Y/hPwAAAEBDceI/AAAAQHet4j8AAACgphbkPwAAACDBjeM/AAAAoNdY6D8AAACANp3kPwAAAGD6bOI/AAAAAEmf4j8AAAAA90riPwAAAMDXEOE/AAAAoMwU4T8AAADg71DcP////38zats/AAAAYBOZ3D//////ZKjePwAAAGBTIN4/AAAA4KY/4D8AAAAAewXgPwAAAEA+zN0/AAAAYFgM4D8AAAAAur3ePwAAAADQjOA/AAAAwL0y4D////8/LjjfPwAAACCaQOA/AAAAYABv4D8AAABgMc7hPwAAAKC5leE/AAAAYIjj4D8AAACgwabgP////184gt0/AAAAABGp2z8AAADgp+PbP////z+94No/AAAAwH8P2z8AAADAcAPYP/////9gi9g/AAAAwGbV2D8AAABAW7LYP////1/+X9U/AAAAYBAD1j////8fYW3UP////99gxNc/AAAA4Cly1z8AAABgJF/ZPwAAAECh190/AAAAQH+F3D////+/FJDbPwAAAGCY2tg/AAAAgCct2D////+fhAvYPwAAAKBhv9k/////n8+52j/////fFWzbPwAAAOBBJds/AAAAoGcI4D8AAACAQDzhPwAAAGCUy+E/AAAAgNVm5D8AAABgCd3kPwAAAGD3q+M/AAAAQDzL4z8AAAAgrJHjPw==",
          "dtype": "f8"
         }
        }
       ],
       "layout": {
        "showlegend": true,
        "template": {
         "data": {
          "bar": [
           {
            "error_x": {
             "color": "rgb(51,51,51)"
            },
            "error_y": {
             "color": "rgb(51,51,51)"
            },
            "marker": {
             "line": {
              "color": "rgb(237,237,237)",
              "width": 0.5
             },
             "pattern": {
              "fillmode": "overlay",
              "size": 10,
              "solidity": 0.2
             }
            },
            "type": "bar"
           }
          ],
          "barpolar": [
           {
            "marker": {
             "line": {
              "color": "rgb(237,237,237)",
              "width": 0.5
             },
             "pattern": {
              "fillmode": "overlay",
              "size": 10,
              "solidity": 0.2
             }
            },
            "type": "barpolar"
           }
          ],
          "carpet": [
           {
            "aaxis": {
             "endlinecolor": "rgb(51,51,51)",
             "gridcolor": "white",
             "linecolor": "white",
             "minorgridcolor": "white",
             "startlinecolor": "rgb(51,51,51)"
            },
            "baxis": {
             "endlinecolor": "rgb(51,51,51)",
             "gridcolor": "white",
             "linecolor": "white",
             "minorgridcolor": "white",
             "startlinecolor": "rgb(51,51,51)"
            },
            "type": "carpet"
           }
          ],
          "choropleth": [
           {
            "colorbar": {
             "outlinewidth": 0,
             "tickcolor": "rgb(237,237,237)",
             "ticklen": 6,
             "ticks": "inside"
            },
            "type": "choropleth"
           }
          ],
          "contour": [
           {
            "colorbar": {
             "outlinewidth": 0,
             "tickcolor": "rgb(237,237,237)",
             "ticklen": 6,
             "ticks": "inside"
            },
            "colorscale": [
             [
              0,
              "rgb(20,44,66)"
             ],
             [
              1,
              "rgb(90,179,244)"
             ]
            ],
            "type": "contour"
           }
          ],
          "contourcarpet": [
           {
            "colorbar": {
             "outlinewidth": 0,
             "tickcolor": "rgb(237,237,237)",
             "ticklen": 6,
             "ticks": "inside"
            },
            "type": "contourcarpet"
           }
          ],
          "heatmap": [
           {
            "colorbar": {
             "outlinewidth": 0,
             "tickcolor": "rgb(237,237,237)",
             "ticklen": 6,
             "ticks": "inside"
            },
            "colorscale": [
             [
              0,
              "rgb(20,44,66)"
             ],
             [
              1,
              "rgb(90,179,244)"
             ]
            ],
            "type": "heatmap"
           }
          ],
          "histogram": [
           {
            "marker": {
             "pattern": {
              "fillmode": "overlay",
              "size": 10,
              "solidity": 0.2
             }
            },
            "type": "histogram"
           }
          ],
          "histogram2d": [
           {
            "colorbar": {
             "outlinewidth": 0,
             "tickcolor": "rgb(237,237,237)",
             "ticklen": 6,
             "ticks": "inside"
            },
            "colorscale": [
             [
              0,
              "rgb(20,44,66)"
             ],
             [
              1,
              "rgb(90,179,244)"
             ]
            ],
            "type": "histogram2d"
           }
          ],
          "histogram2dcontour": [
           {
            "colorbar": {
             "outlinewidth": 0,
             "tickcolor": "rgb(237,237,237)",
             "ticklen": 6,
             "ticks": "inside"
            },
            "colorscale": [
             [
              0,
              "rgb(20,44,66)"
             ],
             [
              1,
              "rgb(90,179,244)"
             ]
            ],
            "type": "histogram2dcontour"
           }
          ],
          "mesh3d": [
           {
            "colorbar": {
             "outlinewidth": 0,
             "tickcolor": "rgb(237,237,237)",
             "ticklen": 6,
             "ticks": "inside"
            },
            "type": "mesh3d"
           }
          ],
          "parcoords": [
           {
            "line": {
             "colorbar": {
              "outlinewidth": 0,
              "tickcolor": "rgb(237,237,237)",
              "ticklen": 6,
              "ticks": "inside"
             }
            },
            "type": "parcoords"
           }
          ],
          "pie": [
           {
            "automargin": true,
            "type": "pie"
           }
          ],
          "scatter": [
           {
            "fillpattern": {
             "fillmode": "overlay",
             "size": 10,
             "solidity": 0.2
            },
            "type": "scatter"
           }
          ],
          "scatter3d": [
           {
            "line": {
             "colorbar": {
              "outlinewidth": 0,
              "tickcolor": "rgb(237,237,237)",
              "ticklen": 6,
              "ticks": "inside"
             }
            },
            "marker": {
             "colorbar": {
              "outlinewidth": 0,
              "tickcolor": "rgb(237,237,237)",
              "ticklen": 6,
              "ticks": "inside"
             }
            },
            "type": "scatter3d"
           }
          ],
          "scattercarpet": [
           {
            "marker": {
             "colorbar": {
              "outlinewidth": 0,
              "tickcolor": "rgb(237,237,237)",
              "ticklen": 6,
              "ticks": "inside"
             }
            },
            "type": "scattercarpet"
           }
          ],
          "scattergeo": [
           {
            "marker": {
             "colorbar": {
              "outlinewidth": 0,
              "tickcolor": "rgb(237,237,237)",
              "ticklen": 6,
              "ticks": "inside"
             }
            },
            "type": "scattergeo"
           }
          ],
          "scattergl": [
           {
            "marker": {
             "colorbar": {
              "outlinewidth": 0,
              "tickcolor": "rgb(237,237,237)",
              "ticklen": 6,
              "ticks": "inside"
             }
            },
            "type": "scattergl"
           }
          ],
          "scattermap": [
           {
            "marker": {
             "colorbar": {
              "outlinewidth": 0,
              "tickcolor": "rgb(237,237,237)",
              "ticklen": 6,
              "ticks": "inside"
             }
            },
            "type": "scattermap"
           }
          ],
          "scattermapbox": [
           {
            "marker": {
             "colorbar": {
              "outlinewidth": 0,
              "tickcolor": "rgb(237,237,237)",
              "ticklen": 6,
              "ticks": "inside"
             }
            },
            "type": "scattermapbox"
           }
          ],
          "scatterpolar": [
           {
            "marker": {
             "colorbar": {
              "outlinewidth": 0,
              "tickcolor": "rgb(237,237,237)",
              "ticklen": 6,
              "ticks": "inside"
             }
            },
            "type": "scatterpolar"
           }
          ],
          "scatterpolargl": [
           {
            "marker": {
             "colorbar": {
              "outlinewidth": 0,
              "tickcolor": "rgb(237,237,237)",
              "ticklen": 6,
              "ticks": "inside"
             }
            },
            "type": "scatterpolargl"
           }
          ],
          "scatterternary": [
           {
            "marker": {
             "colorbar": {
              "outlinewidth": 0,
              "tickcolor": "rgb(237,237,237)",
              "ticklen": 6,
              "ticks": "inside"
             }
            },
            "type": "scatterternary"
           }
          ],
          "surface": [
           {
            "colorbar": {
             "outlinewidth": 0,
             "tickcolor": "rgb(237,237,237)",
             "ticklen": 6,
             "ticks": "inside"
            },
            "colorscale": [
             [
              0,
              "rgb(20,44,66)"
             ],
             [
              1,
              "rgb(90,179,244)"
             ]
            ],
            "type": "surface"
           }
          ],
          "table": [
           {
            "cells": {
             "fill": {
              "color": "rgb(237,237,237)"
             },
             "line": {
              "color": "white"
             }
            },
            "header": {
             "fill": {
              "color": "rgb(217,217,217)"
             },
             "line": {
              "color": "white"
             }
            },
            "type": "table"
           }
          ]
         },
         "layout": {
          "annotationdefaults": {
           "arrowhead": 0,
           "arrowwidth": 1
          },
          "autotypenumbers": "strict",
          "coloraxis": {
           "colorbar": {
            "outlinewidth": 0,
            "tickcolor": "rgb(237,237,237)",
            "ticklen": 6,
            "ticks": "inside"
           }
          },
          "colorscale": {
           "sequential": [
            [
             0,
             "rgb(20,44,66)"
            ],
            [
             1,
             "rgb(90,179,244)"
            ]
           ],
           "sequentialminus": [
            [
             0,
             "rgb(20,44,66)"
            ],
            [
             1,
             "rgb(90,179,244)"
            ]
           ]
          },
          "colorway": [
           "#F8766D",
           "#A3A500",
           "#00BF7D",
           "#00B0F6",
           "#E76BF3"
          ],
          "font": {
           "color": "rgb(51,51,51)"
          },
          "geo": {
           "bgcolor": "white",
           "lakecolor": "white",
           "landcolor": "rgb(237,237,237)",
           "showlakes": true,
           "showland": true,
           "subunitcolor": "white"
          },
          "hoverlabel": {
           "align": "left"
          },
          "hovermode": "closest",
          "paper_bgcolor": "white",
          "plot_bgcolor": "rgb(237,237,237)",
          "polar": {
           "angularaxis": {
            "gridcolor": "white",
            "linecolor": "white",
            "showgrid": true,
            "tickcolor": "rgb(51,51,51)",
            "ticks": "outside"
           },
           "bgcolor": "rgb(237,237,237)",
           "radialaxis": {
            "gridcolor": "white",
            "linecolor": "white",
            "showgrid": true,
            "tickcolor": "rgb(51,51,51)",
            "ticks": "outside"
           }
          },
          "scene": {
           "xaxis": {
            "backgroundcolor": "rgb(237,237,237)",
            "gridcolor": "white",
            "gridwidth": 2,
            "linecolor": "white",
            "showbackground": true,
            "showgrid": true,
            "tickcolor": "rgb(51,51,51)",
            "ticks": "outside",
            "zerolinecolor": "white"
           },
           "yaxis": {
            "backgroundcolor": "rgb(237,237,237)",
            "gridcolor": "white",
            "gridwidth": 2,
            "linecolor": "white",
            "showbackground": true,
            "showgrid": true,
            "tickcolor": "rgb(51,51,51)",
            "ticks": "outside",
            "zerolinecolor": "white"
           },
           "zaxis": {
            "backgroundcolor": "rgb(237,237,237)",
            "gridcolor": "white",
            "gridwidth": 2,
            "linecolor": "white",
            "showbackground": true,
            "showgrid": true,
            "tickcolor": "rgb(51,51,51)",
            "ticks": "outside",
            "zerolinecolor": "white"
           }
          },
          "shapedefaults": {
           "fillcolor": "black",
           "line": {
            "width": 0
           },
           "opacity": 0.3
          },
          "ternary": {
           "aaxis": {
            "gridcolor": "white",
            "linecolor": "white",
            "showgrid": true,
            "tickcolor": "rgb(51,51,51)",
            "ticks": "outside"
           },
           "baxis": {
            "gridcolor": "white",
            "linecolor": "white",
            "showgrid": true,
            "tickcolor": "rgb(51,51,51)",
            "ticks": "outside"
           },
           "bgcolor": "rgb(237,237,237)",
           "caxis": {
            "gridcolor": "white",
            "linecolor": "white",
            "showgrid": true,
            "tickcolor": "rgb(51,51,51)",
            "ticks": "outside"
           }
          },
          "xaxis": {
           "automargin": true,
           "gridcolor": "white",
           "linecolor": "white",
           "showgrid": true,
           "tickcolor": "rgb(51,51,51)",
           "ticks": "outside",
           "title": {
            "standoff": 15
           },
           "zerolinecolor": "white"
          },
          "yaxis": {
           "automargin": true,
           "gridcolor": "white",
           "linecolor": "white",
           "showgrid": true,
           "tickcolor": "rgb(51,51,51)",
           "ticks": "outside",
           "title": {
            "standoff": 15
           },
           "zerolinecolor": "white"
          }
         }
        },
        "title": {
         "text": "Actual vs. 'Out-of-Sample' Forecast | WIF-USD"
        },
        "xaxis": {
         "title": {
          "text": "Time"
         }
        },
        "yaxis": {
         "title": {
          "text": "Values"
         }
        }
       }
      }
     },
     "metadata": {},
     "output_type": "display_data"
    }
   ],
   "source": [
    "wif = df.loc[:,'WIF-USD']\n",
    "# Set up PyCaret environment\n",
    "s = setup(data=wif, \n",
    "          target = 'WIF-USD',\n",
    "          transform_target='log',\n",
    "          fh=30,  # Forecast horizon\n",
    "          session_id=123,\n",
    "          fold_strategy='expanding',\n",
    "          seasonal_period='D',\n",
    "          #fold_spans=\"adaptive\",\n",
    "          numeric_imputation_target = 'drift')\n",
    "arima = create_model('arima')\n",
    "\n",
    "tuned_arima = tune_model(arima)\n",
    "\n",
    "final_arima = finalize_model(tuned_arima)\n",
    "\n",
    "#future_dates = pd.date_range(df.index[-1], periods=30, freq='D')\n",
    "arima_predictions = predict_model(final_arima)\n",
    "\n",
    "#Plot ARIMA model forecast\n",
    "plot_model(final_arima, plot='forecast')\n"
   ]
  },
  {
   "cell_type": "code",
   "execution_count": 81,
   "id": "ac3a0777",
   "metadata": {},
   "outputs": [],
   "source": [
    "#Plot prophet model forecast\n",
    "fig = plot_model(final_arima, plot='forecast', return_fig=True)\n",
    "\n",
    "# Save it as an HTML file\n",
    "pio.write_html(fig, file='wif_forecast.html', auto_open=False)"
   ]
  },
  {
   "cell_type": "code",
   "execution_count": 53,
   "id": "343241de",
   "metadata": {},
   "outputs": [
    {
     "data": {
      "text/html": [],
      "text/plain": [
       "<IPython.core.display.HTML object>"
      ]
     },
     "metadata": {},
     "output_type": "display_data"
    },
    {
     "data": {
      "text/html": [
       "<style type=\"text/css\">\n",
       "#T_9adc3_row3_col0, #T_9adc3_row3_col1, #T_9adc3_row3_col2, #T_9adc3_row3_col3, #T_9adc3_row3_col4, #T_9adc3_row3_col5, #T_9adc3_row3_col6, #T_9adc3_row3_col7 {\n",
       "  background: yellow;\n",
       "}\n",
       "</style>\n",
       "<table id=\"T_9adc3\">\n",
       "  <thead>\n",
       "    <tr>\n",
       "      <th class=\"blank level0\" >&nbsp;</th>\n",
       "      <th id=\"T_9adc3_level0_col0\" class=\"col_heading level0 col0\" >cutoff</th>\n",
       "      <th id=\"T_9adc3_level0_col1\" class=\"col_heading level0 col1\" >MASE</th>\n",
       "      <th id=\"T_9adc3_level0_col2\" class=\"col_heading level0 col2\" >RMSSE</th>\n",
       "      <th id=\"T_9adc3_level0_col3\" class=\"col_heading level0 col3\" >MAE</th>\n",
       "      <th id=\"T_9adc3_level0_col4\" class=\"col_heading level0 col4\" >RMSE</th>\n",
       "      <th id=\"T_9adc3_level0_col5\" class=\"col_heading level0 col5\" >MAPE</th>\n",
       "      <th id=\"T_9adc3_level0_col6\" class=\"col_heading level0 col6\" >SMAPE</th>\n",
       "      <th id=\"T_9adc3_level0_col7\" class=\"col_heading level0 col7\" >R2</th>\n",
       "    </tr>\n",
       "  </thead>\n",
       "  <tbody>\n",
       "    <tr>\n",
       "      <th id=\"T_9adc3_level0_row0\" class=\"row_heading level0 row0\" >0</th>\n",
       "      <td id=\"T_9adc3_row0_col0\" class=\"data row0 col0\" >2024-12-30</td>\n",
       "      <td id=\"T_9adc3_row0_col1\" class=\"data row0 col1\" >4.2297</td>\n",
       "      <td id=\"T_9adc3_row0_col2\" class=\"data row0 col2\" >3.3594</td>\n",
       "      <td id=\"T_9adc3_row0_col3\" class=\"data row0 col3\" >1.5628</td>\n",
       "      <td id=\"T_9adc3_row0_col4\" class=\"data row0 col4\" >1.6151</td>\n",
       "      <td id=\"T_9adc3_row0_col5\" class=\"data row0 col5\" >1.0487</td>\n",
       "      <td id=\"T_9adc3_row0_col6\" class=\"data row0 col6\" >0.6583</td>\n",
       "      <td id=\"T_9adc3_row0_col7\" class=\"data row0 col7\" >-26.8765</td>\n",
       "    </tr>\n",
       "    <tr>\n",
       "      <th id=\"T_9adc3_level0_row1\" class=\"row_heading level0 row1\" >1</th>\n",
       "      <td id=\"T_9adc3_row1_col0\" class=\"data row1 col0\" >2025-01-29</td>\n",
       "      <td id=\"T_9adc3_row1_col1\" class=\"data row1 col1\" >1.4965</td>\n",
       "      <td id=\"T_9adc3_row1_col2\" class=\"data row1 col2\" >1.1735</td>\n",
       "      <td id=\"T_9adc3_row1_col3\" class=\"data row1 col3\" >0.5405</td>\n",
       "      <td id=\"T_9adc3_row1_col4\" class=\"data row1 col4\" >0.5485</td>\n",
       "      <td id=\"T_9adc3_row1_col5\" class=\"data row1 col5\" >0.8004</td>\n",
       "      <td id=\"T_9adc3_row1_col6\" class=\"data row1 col6\" >0.5621</td>\n",
       "      <td id=\"T_9adc3_row1_col7\" class=\"data row1 col7\" >-11.1651</td>\n",
       "    </tr>\n",
       "    <tr>\n",
       "      <th id=\"T_9adc3_level0_row2\" class=\"row_heading level0 row2\" >2</th>\n",
       "      <td id=\"T_9adc3_row2_col0\" class=\"data row2 col0\" >2025-02-28</td>\n",
       "      <td id=\"T_9adc3_row2_col1\" class=\"data row2 col1\" >0.2930</td>\n",
       "      <td id=\"T_9adc3_row2_col2\" class=\"data row2 col2\" >0.2597</td>\n",
       "      <td id=\"T_9adc3_row2_col3\" class=\"data row2 col3\" >0.0997</td>\n",
       "      <td id=\"T_9adc3_row2_col4\" class=\"data row2 col4\" >0.1164</td>\n",
       "      <td id=\"T_9adc3_row2_col5\" class=\"data row2 col5\" >0.1908</td>\n",
       "      <td id=\"T_9adc3_row2_col6\" class=\"data row2 col6\" >0.2187</td>\n",
       "      <td id=\"T_9adc3_row2_col7\" class=\"data row2 col7\" >-1.8435</td>\n",
       "    </tr>\n",
       "    <tr>\n",
       "      <th id=\"T_9adc3_level0_row3\" class=\"row_heading level0 row3\" >Mean</th>\n",
       "      <td id=\"T_9adc3_row3_col0\" class=\"data row3 col0\" >NaT</td>\n",
       "      <td id=\"T_9adc3_row3_col1\" class=\"data row3 col1\" >2.0064</td>\n",
       "      <td id=\"T_9adc3_row3_col2\" class=\"data row3 col2\" >1.5976</td>\n",
       "      <td id=\"T_9adc3_row3_col3\" class=\"data row3 col3\" >0.7343</td>\n",
       "      <td id=\"T_9adc3_row3_col4\" class=\"data row3 col4\" >0.7600</td>\n",
       "      <td id=\"T_9adc3_row3_col5\" class=\"data row3 col5\" >0.6800</td>\n",
       "      <td id=\"T_9adc3_row3_col6\" class=\"data row3 col6\" >0.4797</td>\n",
       "      <td id=\"T_9adc3_row3_col7\" class=\"data row3 col7\" >-13.2950</td>\n",
       "    </tr>\n",
       "    <tr>\n",
       "      <th id=\"T_9adc3_level0_row4\" class=\"row_heading level0 row4\" >SD</th>\n",
       "      <td id=\"T_9adc3_row4_col0\" class=\"data row4 col0\" >NaT</td>\n",
       "      <td id=\"T_9adc3_row4_col1\" class=\"data row4 col1\" >1.6471</td>\n",
       "      <td id=\"T_9adc3_row4_col2\" class=\"data row4 col2\" >1.3005</td>\n",
       "      <td id=\"T_9adc3_row4_col3\" class=\"data row4 col3\" >0.6128</td>\n",
       "      <td id=\"T_9adc3_row4_col4\" class=\"data row4 col4\" >0.6299</td>\n",
       "      <td id=\"T_9adc3_row4_col5\" class=\"data row4 col5\" >0.3605</td>\n",
       "      <td id=\"T_9adc3_row4_col6\" class=\"data row4 col6\" >0.1887</td>\n",
       "      <td id=\"T_9adc3_row4_col7\" class=\"data row4 col7\" >10.3301</td>\n",
       "    </tr>\n",
       "  </tbody>\n",
       "</table>\n"
      ],
      "text/plain": [
       "<pandas.io.formats.style.Styler at 0x1b9cd1e1850>"
      ]
     },
     "metadata": {},
     "output_type": "display_data"
    },
    {
     "data": {
      "text/html": [],
      "text/plain": [
       "<IPython.core.display.HTML object>"
      ]
     },
     "metadata": {},
     "output_type": "display_data"
    },
    {
     "data": {
      "text/html": [],
      "text/plain": [
       "<IPython.core.display.HTML object>"
      ]
     },
     "metadata": {},
     "output_type": "display_data"
    },
    {
     "data": {
      "text/html": [
       "<style type=\"text/css\">\n",
       "#T_748d6_row3_col0, #T_748d6_row3_col1, #T_748d6_row3_col2, #T_748d6_row3_col3, #T_748d6_row3_col4, #T_748d6_row3_col5, #T_748d6_row3_col6, #T_748d6_row3_col7 {\n",
       "  background: yellow;\n",
       "}\n",
       "</style>\n",
       "<table id=\"T_748d6\">\n",
       "  <thead>\n",
       "    <tr>\n",
       "      <th class=\"blank level0\" >&nbsp;</th>\n",
       "      <th id=\"T_748d6_level0_col0\" class=\"col_heading level0 col0\" >cutoff</th>\n",
       "      <th id=\"T_748d6_level0_col1\" class=\"col_heading level0 col1\" >MASE</th>\n",
       "      <th id=\"T_748d6_level0_col2\" class=\"col_heading level0 col2\" >RMSSE</th>\n",
       "      <th id=\"T_748d6_level0_col3\" class=\"col_heading level0 col3\" >MAE</th>\n",
       "      <th id=\"T_748d6_level0_col4\" class=\"col_heading level0 col4\" >RMSE</th>\n",
       "      <th id=\"T_748d6_level0_col5\" class=\"col_heading level0 col5\" >MAPE</th>\n",
       "      <th id=\"T_748d6_level0_col6\" class=\"col_heading level0 col6\" >SMAPE</th>\n",
       "      <th id=\"T_748d6_level0_col7\" class=\"col_heading level0 col7\" >R2</th>\n",
       "    </tr>\n",
       "  </thead>\n",
       "  <tbody>\n",
       "    <tr>\n",
       "      <th id=\"T_748d6_level0_row0\" class=\"row_heading level0 row0\" >0</th>\n",
       "      <td id=\"T_748d6_row0_col0\" class=\"data row0 col0\" >2024-12-30</td>\n",
       "      <td id=\"T_748d6_row0_col1\" class=\"data row0 col1\" >1.5518</td>\n",
       "      <td id=\"T_748d6_row0_col2\" class=\"data row0 col2\" >1.2833</td>\n",
       "      <td id=\"T_748d6_row0_col3\" class=\"data row0 col3\" >0.5734</td>\n",
       "      <td id=\"T_748d6_row0_col4\" class=\"data row0 col4\" >0.6170</td>\n",
       "      <td id=\"T_748d6_row0_col5\" class=\"data row0 col5\" >0.3933</td>\n",
       "      <td id=\"T_748d6_row0_col6\" class=\"data row0 col6\" >0.3152</td>\n",
       "      <td id=\"T_748d6_row0_col7\" class=\"data row0 col7\" >-3.0677</td>\n",
       "    </tr>\n",
       "    <tr>\n",
       "      <th id=\"T_748d6_level0_row1\" class=\"row_heading level0 row1\" >1</th>\n",
       "      <td id=\"T_748d6_row1_col0\" class=\"data row1 col0\" >2025-01-29</td>\n",
       "      <td id=\"T_748d6_row1_col1\" class=\"data row1 col1\" >0.7547</td>\n",
       "      <td id=\"T_748d6_row1_col2\" class=\"data row1 col2\" >0.6156</td>\n",
       "      <td id=\"T_748d6_row1_col3\" class=\"data row1 col3\" >0.2725</td>\n",
       "      <td id=\"T_748d6_row1_col4\" class=\"data row1 col4\" >0.2877</td>\n",
       "      <td id=\"T_748d6_row1_col5\" class=\"data row1 col5\" >0.4061</td>\n",
       "      <td id=\"T_748d6_row1_col6\" class=\"data row1 col6\" >0.3301</td>\n",
       "      <td id=\"T_748d6_row1_col7\" class=\"data row1 col7\" >-2.3474</td>\n",
       "    </tr>\n",
       "    <tr>\n",
       "      <th id=\"T_748d6_level0_row2\" class=\"row_heading level0 row2\" >2</th>\n",
       "      <td id=\"T_748d6_row2_col0\" class=\"data row2 col0\" >2025-02-28</td>\n",
       "      <td id=\"T_748d6_row2_col1\" class=\"data row2 col1\" >0.3754</td>\n",
       "      <td id=\"T_748d6_row2_col2\" class=\"data row2 col2\" >0.3214</td>\n",
       "      <td id=\"T_748d6_row2_col3\" class=\"data row2 col3\" >0.1278</td>\n",
       "      <td id=\"T_748d6_row2_col4\" class=\"data row2 col4\" >0.1440</td>\n",
       "      <td id=\"T_748d6_row2_col5\" class=\"data row2 col5\" >0.2440</td>\n",
       "      <td id=\"T_748d6_row2_col6\" class=\"data row2 col6\" >0.2890</td>\n",
       "      <td id=\"T_748d6_row2_col7\" class=\"data row2 col7\" >-3.3551</td>\n",
       "    </tr>\n",
       "    <tr>\n",
       "      <th id=\"T_748d6_level0_row3\" class=\"row_heading level0 row3\" >Mean</th>\n",
       "      <td id=\"T_748d6_row3_col0\" class=\"data row3 col0\" >NaT</td>\n",
       "      <td id=\"T_748d6_row3_col1\" class=\"data row3 col1\" >0.8940</td>\n",
       "      <td id=\"T_748d6_row3_col2\" class=\"data row3 col2\" >0.7401</td>\n",
       "      <td id=\"T_748d6_row3_col3\" class=\"data row3 col3\" >0.3246</td>\n",
       "      <td id=\"T_748d6_row3_col4\" class=\"data row3 col4\" >0.3496</td>\n",
       "      <td id=\"T_748d6_row3_col5\" class=\"data row3 col5\" >0.3478</td>\n",
       "      <td id=\"T_748d6_row3_col6\" class=\"data row3 col6\" >0.3114</td>\n",
       "      <td id=\"T_748d6_row3_col7\" class=\"data row3 col7\" >-2.9234</td>\n",
       "    </tr>\n",
       "    <tr>\n",
       "      <th id=\"T_748d6_level0_row4\" class=\"row_heading level0 row4\" >SD</th>\n",
       "      <td id=\"T_748d6_row4_col0\" class=\"data row4 col0\" >NaT</td>\n",
       "      <td id=\"T_748d6_row4_col1\" class=\"data row4 col1\" >0.4903</td>\n",
       "      <td id=\"T_748d6_row4_col2\" class=\"data row4 col2\" >0.4024</td>\n",
       "      <td id=\"T_748d6_row4_col3\" class=\"data row4 col3\" >0.1856</td>\n",
       "      <td id=\"T_748d6_row4_col4\" class=\"data row4 col4\" >0.1980</td>\n",
       "      <td id=\"T_748d6_row4_col5\" class=\"data row4 col5\" >0.0736</td>\n",
       "      <td id=\"T_748d6_row4_col6\" class=\"data row4 col6\" >0.0170</td>\n",
       "      <td id=\"T_748d6_row4_col7\" class=\"data row4 col7\" >0.4238</td>\n",
       "    </tr>\n",
       "  </tbody>\n",
       "</table>\n"
      ],
      "text/plain": [
       "<pandas.io.formats.style.Styler at 0x1b9ccc77d90>"
      ]
     },
     "metadata": {},
     "output_type": "display_data"
    },
    {
     "data": {
      "text/html": [],
      "text/plain": [
       "<IPython.core.display.HTML object>"
      ]
     },
     "metadata": {},
     "output_type": "display_data"
    },
    {
     "name": "stdout",
     "output_type": "stream",
     "text": [
      "Fitting 3 folds for each of 10 candidates, totalling 30 fits\n"
     ]
    },
    {
     "name": "stderr",
     "output_type": "stream",
     "text": [
      "[Parallel(n_jobs=-1)]: Using backend LokyBackend with 8 concurrent workers.\n",
      "[Parallel(n_jobs=-1)]: Done  30 out of  30 | elapsed:    6.6s finished\n"
     ]
    },
    {
     "data": {
      "application/vnd.plotly.v1+json": {
       "config": {
        "plotlyServerURL": "https://plot.ly"
       },
       "data": [
        {
         "line": {
          "color": "#1f77b4"
         },
         "marker": {
          "size": 5
         },
         "mode": "lines+markers",
         "name": "Forecast | Prophet",
         "showlegend": true,
         "type": "scatter",
         "x": [
          "2025-04-30T00:00:00",
          "2025-05-01T00:00:00",
          "2025-05-02T00:00:00",
          "2025-05-03T00:00:00",
          "2025-05-04T00:00:00",
          "2025-05-05T00:00:00",
          "2025-05-06T00:00:00",
          "2025-05-07T00:00:00",
          "2025-05-08T00:00:00",
          "2025-05-09T00:00:00",
          "2025-05-10T00:00:00",
          "2025-05-11T00:00:00",
          "2025-05-12T00:00:00",
          "2025-05-13T00:00:00",
          "2025-05-14T00:00:00",
          "2025-05-15T00:00:00",
          "2025-05-16T00:00:00",
          "2025-05-17T00:00:00",
          "2025-05-18T00:00:00",
          "2025-05-19T00:00:00",
          "2025-05-20T00:00:00",
          "2025-05-21T00:00:00",
          "2025-05-22T00:00:00",
          "2025-05-23T00:00:00",
          "2025-05-24T00:00:00",
          "2025-05-25T00:00:00",
          "2025-05-26T00:00:00",
          "2025-05-27T00:00:00",
          "2025-05-28T00:00:00",
          "2025-05-29T00:00:00"
         ],
         "y": {
          "bdata": "7Q2+MJkq2D8T8kHPZtXXP00VjErqBNg/5j+k374O2D9JnYAmwobXP9QrZRniWNc/P1dbsb/s1j/Qs1n1udrWP3/7OnDOiNY/9GxWfa621j+Nl24Sg8DWPwK8BRIUP9Y/UPwYc9cS1j/M7snDQq3VPyL99nXgnNU/HVpkO99P1T8KaCJseHrVP6OSOgFNhNU/KH6MuWsJ1T//If32deDUP8cpOpLLf9Q/HThnRGlv1D9lqmBUUifUP44G8BZIUNQ/Y3/ZPXlY1D/5MeauJeTTP1g5tMh2vtM/bVZ9rrZi0z+HFtnO91PTP1fsL7snD9M/",
          "dtype": "f8"
         }
        },
        {
         "line": {
          "width": 0
         },
         "marker": {
          "color": "#68BBE3"
         },
         "mode": "lines",
         "name": "Lower Interval",
         "showlegend": false,
         "type": "scatter",
         "x": [
          "2025-04-30T00:00:00",
          "2025-05-01T00:00:00",
          "2025-05-02T00:00:00",
          "2025-05-03T00:00:00",
          "2025-05-04T00:00:00",
          "2025-05-05T00:00:00",
          "2025-05-06T00:00:00",
          "2025-05-07T00:00:00",
          "2025-05-08T00:00:00",
          "2025-05-09T00:00:00",
          "2025-05-10T00:00:00",
          "2025-05-11T00:00:00",
          "2025-05-12T00:00:00",
          "2025-05-13T00:00:00",
          "2025-05-14T00:00:00",
          "2025-05-15T00:00:00",
          "2025-05-16T00:00:00",
          "2025-05-17T00:00:00",
          "2025-05-18T00:00:00",
          "2025-05-19T00:00:00",
          "2025-05-20T00:00:00",
          "2025-05-21T00:00:00",
          "2025-05-22T00:00:00",
          "2025-05-23T00:00:00",
          "2025-05-24T00:00:00",
          "2025-05-25T00:00:00",
          "2025-05-26T00:00:00",
          "2025-05-27T00:00:00",
          "2025-05-28T00:00:00",
          "2025-05-29T00:00:00"
         ],
         "y": {
          "bdata": "2qz6XG3F0j9UdCSX/5DSP/aX3ZOHhdI/IR/0bFZ90j8xmSoYldTRP2q8dJMYBNI/MZkqGJXU0T8E54wo7Q3SPyZTBaOSOtE/E2HD0ytl0T9NhA1Pr5TRP+wvuycPC9E/UdobfGEy0T/6fmq8dJPQPycxCKwcWtA/5BQdyeU/0D9Iv30dOGfQP5XUCWgibNA/jLlrCfmgzz9DHOviNhrQP9IA3gIJis8/vw6cM6K0zz8hH/RsVn3OPwwCK4cW2c4/P1dbsb/szj9a9bnaiv3NPwpoImx4es0/w/UoXI/CzT9AE2HD0yvNP+wvuycPC80/",
          "dtype": "f8"
         }
        },
        {
         "fill": "tonexty",
         "fillcolor": "rgba(104,187,227,0.5)",
         "line": {
          "width": 0
         },
         "marker": {
          "color": "#68BBE3"
         },
         "mode": "lines",
         "name": "Prediction Interval | Prophet",
         "showlegend": true,
         "type": "scatter",
         "x": [
          "2025-04-30T00:00:00",
          "2025-05-01T00:00:00",
          "2025-05-02T00:00:00",
          "2025-05-03T00:00:00",
          "2025-05-04T00:00:00",
          "2025-05-05T00:00:00",
          "2025-05-06T00:00:00",
          "2025-05-07T00:00:00",
          "2025-05-08T00:00:00",
          "2025-05-09T00:00:00",
          "2025-05-10T00:00:00",
          "2025-05-11T00:00:00",
          "2025-05-12T00:00:00",
          "2025-05-13T00:00:00",
          "2025-05-14T00:00:00",
          "2025-05-15T00:00:00",
          "2025-05-16T00:00:00",
          "2025-05-17T00:00:00",
          "2025-05-18T00:00:00",
          "2025-05-19T00:00:00",
          "2025-05-20T00:00:00",
          "2025-05-21T00:00:00",
          "2025-05-22T00:00:00",
          "2025-05-23T00:00:00",
          "2025-05-24T00:00:00",
          "2025-05-25T00:00:00",
          "2025-05-26T00:00:00",
          "2025-05-27T00:00:00",
          "2025-05-28T00:00:00",
          "2025-05-29T00:00:00"
         ],
         "y": {
          "bdata": "kQ96Nqs+3z+Cc0aU9gbfP1R0JJf/kN4/gEi/fR043z/yQc9m1efeP89m1edqK94/qDXNO07R3T8/NV66SQzeP8GopE5AE90/nu+nxks33T/XEvJBz2bdP799HThnRN0/XynLEMe63D8mUwWjkjrdPyBj7lpCPtw/xty1hHzQ2z9bsb/snjzcP18HzhlR2ts/TfOOU3Qk2z8CK4cW2c7bP8E5I0p7g9s/MzMzMzMz2z8dyeU/pN/aP9qs+lxtxdo/H/RsVn2u2j+1pnnHKTraPxBYObTIdto/KcsQx7q42T+5/If029fZP/Cnxks3idk/",
          "dtype": "f8"
         }
        },
        {
         "marker": {
          "color": "#3f3f3f",
          "size": 5
         },
         "mode": "lines+markers",
         "name": "Original",
         "showlegend": true,
         "type": "scatter",
         "x": [
          "2024-04-30T00:00:00",
          "2024-05-01T00:00:00",
          "2024-05-02T00:00:00",
          "2024-05-03T00:00:00",
          "2024-05-04T00:00:00",
          "2024-05-05T00:00:00",
          "2024-05-06T00:00:00",
          "2024-05-07T00:00:00",
          "2024-05-08T00:00:00",
          "2024-05-09T00:00:00",
          "2024-05-10T00:00:00",
          "2024-05-11T00:00:00",
          "2024-05-12T00:00:00",
          "2024-05-13T00:00:00",
          "2024-05-14T00:00:00",
          "2024-05-15T00:00:00",
          "2024-05-16T00:00:00",
          "2024-05-17T00:00:00",
          "2024-05-18T00:00:00",
          "2024-05-19T00:00:00",
          "2024-05-20T00:00:00",
          "2024-05-21T00:00:00",
          "2024-05-22T00:00:00",
          "2024-05-23T00:00:00",
          "2024-05-24T00:00:00",
          "2024-05-25T00:00:00",
          "2024-05-26T00:00:00",
          "2024-05-27T00:00:00",
          "2024-05-28T00:00:00",
          "2024-05-29T00:00:00",
          "2024-05-30T00:00:00",
          "2024-05-31T00:00:00",
          "2024-06-01T00:00:00",
          "2024-06-02T00:00:00",
          "2024-06-03T00:00:00",
          "2024-06-04T00:00:00",
          "2024-06-05T00:00:00",
          "2024-06-06T00:00:00",
          "2024-06-07T00:00:00",
          "2024-06-08T00:00:00",
          "2024-06-09T00:00:00",
          "2024-06-10T00:00:00",
          "2024-06-11T00:00:00",
          "2024-06-12T00:00:00",
          "2024-06-13T00:00:00",
          "2024-06-14T00:00:00",
          "2024-06-15T00:00:00",
          "2024-06-16T00:00:00",
          "2024-06-17T00:00:00",
          "2024-06-18T00:00:00",
          "2024-06-19T00:00:00",
          "2024-06-20T00:00:00",
          "2024-06-21T00:00:00",
          "2024-06-22T00:00:00",
          "2024-06-23T00:00:00",
          "2024-06-24T00:00:00",
          "2024-06-25T00:00:00",
          "2024-06-26T00:00:00",
          "2024-06-27T00:00:00",
          "2024-06-28T00:00:00",
          "2024-06-29T00:00:00",
          "2024-06-30T00:00:00",
          "2024-07-01T00:00:00",
          "2024-07-02T00:00:00",
          "2024-07-03T00:00:00",
          "2024-07-04T00:00:00",
          "2024-07-05T00:00:00",
          "2024-07-06T00:00:00",
          "2024-07-07T00:00:00",
          "2024-07-08T00:00:00",
          "2024-07-09T00:00:00",
          "2024-07-10T00:00:00",
          "2024-07-11T00:00:00",
          "2024-07-12T00:00:00",
          "2024-07-13T00:00:00",
          "2024-07-14T00:00:00",
          "2024-07-15T00:00:00",
          "2024-07-16T00:00:00",
          "2024-07-17T00:00:00",
          "2024-07-18T00:00:00",
          "2024-07-19T00:00:00",
          "2024-07-20T00:00:00",
          "2024-07-21T00:00:00",
          "2024-07-22T00:00:00",
          "2024-07-23T00:00:00",
          "2024-07-24T00:00:00",
          "2024-07-25T00:00:00",
          "2024-07-26T00:00:00",
          "2024-07-27T00:00:00",
          "2024-07-28T00:00:00",
          "2024-07-29T00:00:00",
          "2024-07-30T00:00:00",
          "2024-07-31T00:00:00",
          "2024-08-01T00:00:00",
          "2024-08-02T00:00:00",
          "2024-08-03T00:00:00",
          "2024-08-04T00:00:00",
          "2024-08-05T00:00:00",
          "2024-08-06T00:00:00",
          "2024-08-07T00:00:00",
          "2024-08-08T00:00:00",
          "2024-08-09T00:00:00",
          "2024-08-10T00:00:00",
          "2024-08-11T00:00:00",
          "2024-08-12T00:00:00",
          "2024-08-13T00:00:00",
          "2024-08-14T00:00:00",
          "2024-08-15T00:00:00",
          "2024-08-16T00:00:00",
          "2024-08-17T00:00:00",
          "2024-08-18T00:00:00",
          "2024-08-19T00:00:00",
          "2024-08-20T00:00:00",
          "2024-08-21T00:00:00",
          "2024-08-22T00:00:00",
          "2024-08-23T00:00:00",
          "2024-08-24T00:00:00",
          "2024-08-25T00:00:00",
          "2024-08-26T00:00:00",
          "2024-08-27T00:00:00",
          "2024-08-28T00:00:00",
          "2024-08-29T00:00:00",
          "2024-08-30T00:00:00",
          "2024-08-31T00:00:00",
          "2024-09-01T00:00:00",
          "2024-09-02T00:00:00",
          "2024-09-03T00:00:00",
          "2024-09-04T00:00:00",
          "2024-09-05T00:00:00",
          "2024-09-06T00:00:00",
          "2024-09-07T00:00:00",
          "2024-09-08T00:00:00",
          "2024-09-09T00:00:00",
          "2024-09-10T00:00:00",
          "2024-09-11T00:00:00",
          "2024-09-12T00:00:00",
          "2024-09-13T00:00:00",
          "2024-09-14T00:00:00",
          "2024-09-15T00:00:00",
          "2024-09-16T00:00:00",
          "2024-09-17T00:00:00",
          "2024-09-18T00:00:00",
          "2024-09-19T00:00:00",
          "2024-09-20T00:00:00",
          "2024-09-21T00:00:00",
          "2024-09-22T00:00:00",
          "2024-09-23T00:00:00",
          "2024-09-24T00:00:00",
          "2024-09-25T00:00:00",
          "2024-09-26T00:00:00",
          "2024-09-27T00:00:00",
          "2024-09-28T00:00:00",
          "2024-09-29T00:00:00",
          "2024-09-30T00:00:00",
          "2024-10-01T00:00:00",
          "2024-10-02T00:00:00",
          "2024-10-03T00:00:00",
          "2024-10-04T00:00:00",
          "2024-10-05T00:00:00",
          "2024-10-06T00:00:00",
          "2024-10-07T00:00:00",
          "2024-10-08T00:00:00",
          "2024-10-09T00:00:00",
          "2024-10-10T00:00:00",
          "2024-10-11T00:00:00",
          "2024-10-12T00:00:00",
          "2024-10-13T00:00:00",
          "2024-10-14T00:00:00",
          "2024-10-15T00:00:00",
          "2024-10-16T00:00:00",
          "2024-10-17T00:00:00",
          "2024-10-18T00:00:00",
          "2024-10-19T00:00:00",
          "2024-10-20T00:00:00",
          "2024-10-21T00:00:00",
          "2024-10-22T00:00:00",
          "2024-10-23T00:00:00",
          "2024-10-24T00:00:00",
          "2024-10-25T00:00:00",
          "2024-10-26T00:00:00",
          "2024-10-27T00:00:00",
          "2024-10-28T00:00:00",
          "2024-10-29T00:00:00",
          "2024-10-30T00:00:00",
          "2024-10-31T00:00:00",
          "2024-11-01T00:00:00",
          "2024-11-02T00:00:00",
          "2024-11-03T00:00:00",
          "2024-11-04T00:00:00",
          "2024-11-05T00:00:00",
          "2024-11-06T00:00:00",
          "2024-11-07T00:00:00",
          "2024-11-08T00:00:00",
          "2024-11-09T00:00:00",
          "2024-11-10T00:00:00",
          "2024-11-11T00:00:00",
          "2024-11-12T00:00:00",
          "2024-11-13T00:00:00",
          "2024-11-14T00:00:00",
          "2024-11-15T00:00:00",
          "2024-11-16T00:00:00",
          "2024-11-17T00:00:00",
          "2024-11-18T00:00:00",
          "2024-11-19T00:00:00",
          "2024-11-20T00:00:00",
          "2024-11-21T00:00:00",
          "2024-11-22T00:00:00",
          "2024-11-23T00:00:00",
          "2024-11-24T00:00:00",
          "2024-11-25T00:00:00",
          "2024-11-26T00:00:00",
          "2024-11-27T00:00:00",
          "2024-11-28T00:00:00",
          "2024-11-29T00:00:00",
          "2024-11-30T00:00:00",
          "2024-12-01T00:00:00",
          "2024-12-02T00:00:00",
          "2024-12-03T00:00:00",
          "2024-12-04T00:00:00",
          "2024-12-05T00:00:00",
          "2024-12-06T00:00:00",
          "2024-12-07T00:00:00",
          "2024-12-08T00:00:00",
          "2024-12-09T00:00:00",
          "2024-12-10T00:00:00",
          "2024-12-11T00:00:00",
          "2024-12-12T00:00:00",
          "2024-12-13T00:00:00",
          "2024-12-14T00:00:00",
          "2024-12-15T00:00:00",
          "2024-12-16T00:00:00",
          "2024-12-17T00:00:00",
          "2024-12-18T00:00:00",
          "2024-12-19T00:00:00",
          "2024-12-20T00:00:00",
          "2024-12-21T00:00:00",
          "2024-12-22T00:00:00",
          "2024-12-23T00:00:00",
          "2024-12-24T00:00:00",
          "2024-12-25T00:00:00",
          "2024-12-26T00:00:00",
          "2024-12-27T00:00:00",
          "2024-12-28T00:00:00",
          "2024-12-29T00:00:00",
          "2024-12-30T00:00:00",
          "2024-12-31T00:00:00",
          "2025-01-01T00:00:00",
          "2025-01-02T00:00:00",
          "2025-01-03T00:00:00",
          "2025-01-04T00:00:00",
          "2025-01-05T00:00:00",
          "2025-01-06T00:00:00",
          "2025-01-07T00:00:00",
          "2025-01-08T00:00:00",
          "2025-01-09T00:00:00",
          "2025-01-10T00:00:00",
          "2025-01-11T00:00:00",
          "2025-01-12T00:00:00",
          "2025-01-13T00:00:00",
          "2025-01-14T00:00:00",
          "2025-01-15T00:00:00",
          "2025-01-16T00:00:00",
          "2025-01-17T00:00:00",
          "2025-01-18T00:00:00",
          "2025-01-19T00:00:00",
          "2025-01-20T00:00:00",
          "2025-01-21T00:00:00",
          "2025-01-22T00:00:00",
          "2025-01-23T00:00:00",
          "2025-01-24T00:00:00",
          "2025-01-25T00:00:00",
          "2025-01-26T00:00:00",
          "2025-01-27T00:00:00",
          "2025-01-28T00:00:00",
          "2025-01-29T00:00:00",
          "2025-01-30T00:00:00",
          "2025-01-31T00:00:00",
          "2025-02-01T00:00:00",
          "2025-02-02T00:00:00",
          "2025-02-03T00:00:00",
          "2025-02-04T00:00:00",
          "2025-02-05T00:00:00",
          "2025-02-06T00:00:00",
          "2025-02-07T00:00:00",
          "2025-02-08T00:00:00",
          "2025-02-09T00:00:00",
          "2025-02-10T00:00:00",
          "2025-02-11T00:00:00",
          "2025-02-12T00:00:00",
          "2025-02-13T00:00:00",
          "2025-02-14T00:00:00",
          "2025-02-15T00:00:00",
          "2025-02-16T00:00:00",
          "2025-02-17T00:00:00",
          "2025-02-18T00:00:00",
          "2025-02-19T00:00:00",
          "2025-02-20T00:00:00",
          "2025-02-21T00:00:00",
          "2025-02-22T00:00:00",
          "2025-02-23T00:00:00",
          "2025-02-24T00:00:00",
          "2025-02-25T00:00:00",
          "2025-02-26T00:00:00",
          "2025-02-27T00:00:00",
          "2025-02-28T00:00:00",
          "2025-03-01T00:00:00",
          "2025-03-02T00:00:00",
          "2025-03-03T00:00:00",
          "2025-03-04T00:00:00",
          "2025-03-05T00:00:00",
          "2025-03-06T00:00:00",
          "2025-03-07T00:00:00",
          "2025-03-08T00:00:00",
          "2025-03-09T00:00:00",
          "2025-03-10T00:00:00",
          "2025-03-11T00:00:00",
          "2025-03-12T00:00:00",
          "2025-03-13T00:00:00",
          "2025-03-14T00:00:00",
          "2025-03-15T00:00:00",
          "2025-03-16T00:00:00",
          "2025-03-17T00:00:00",
          "2025-03-18T00:00:00",
          "2025-03-19T00:00:00",
          "2025-03-20T00:00:00",
          "2025-03-21T00:00:00",
          "2025-03-22T00:00:00",
          "2025-03-23T00:00:00",
          "2025-03-24T00:00:00",
          "2025-03-25T00:00:00",
          "2025-03-26T00:00:00",
          "2025-03-27T00:00:00",
          "2025-03-28T00:00:00",
          "2025-03-29T00:00:00",
          "2025-03-30T00:00:00",
          "2025-03-31T00:00:00",
          "2025-04-01T00:00:00",
          "2025-04-02T00:00:00",
          "2025-04-03T00:00:00",
          "2025-04-04T00:00:00",
          "2025-04-05T00:00:00",
          "2025-04-06T00:00:00",
          "2025-04-07T00:00:00",
          "2025-04-08T00:00:00",
          "2025-04-09T00:00:00",
          "2025-04-10T00:00:00",
          "2025-04-11T00:00:00",
          "2025-04-12T00:00:00",
          "2025-04-13T00:00:00",
          "2025-04-14T00:00:00",
          "2025-04-15T00:00:00",
          "2025-04-16T00:00:00",
          "2025-04-17T00:00:00",
          "2025-04-18T00:00:00",
          "2025-04-19T00:00:00",
          "2025-04-20T00:00:00",
          "2025-04-21T00:00:00",
          "2025-04-22T00:00:00",
          "2025-04-23T00:00:00",
          "2025-04-24T00:00:00",
          "2025-04-25T00:00:00",
          "2025-04-26T00:00:00",
          "2025-04-27T00:00:00",
          "2025-04-28T00:00:00",
          "2025-04-29T00:00:00"
         ],
         "y": {
          "bdata": "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",
          "dtype": "f8"
         }
        }
       ],
       "layout": {
        "showlegend": true,
        "template": {
         "data": {
          "bar": [
           {
            "error_x": {
             "color": "rgb(51,51,51)"
            },
            "error_y": {
             "color": "rgb(51,51,51)"
            },
            "marker": {
             "line": {
              "color": "rgb(237,237,237)",
              "width": 0.5
             },
             "pattern": {
              "fillmode": "overlay",
              "size": 10,
              "solidity": 0.2
             }
            },
            "type": "bar"
           }
          ],
          "barpolar": [
           {
            "marker": {
             "line": {
              "color": "rgb(237,237,237)",
              "width": 0.5
             },
             "pattern": {
              "fillmode": "overlay",
              "size": 10,
              "solidity": 0.2
             }
            },
            "type": "barpolar"
           }
          ],
          "carpet": [
           {
            "aaxis": {
             "endlinecolor": "rgb(51,51,51)",
             "gridcolor": "white",
             "linecolor": "white",
             "minorgridcolor": "white",
             "startlinecolor": "rgb(51,51,51)"
            },
            "baxis": {
             "endlinecolor": "rgb(51,51,51)",
             "gridcolor": "white",
             "linecolor": "white",
             "minorgridcolor": "white",
             "startlinecolor": "rgb(51,51,51)"
            },
            "type": "carpet"
           }
          ],
          "choropleth": [
           {
            "colorbar": {
             "outlinewidth": 0,
             "tickcolor": "rgb(237,237,237)",
             "ticklen": 6,
             "ticks": "inside"
            },
            "type": "choropleth"
           }
          ],
          "contour": [
           {
            "colorbar": {
             "outlinewidth": 0,
             "tickcolor": "rgb(237,237,237)",
             "ticklen": 6,
             "ticks": "inside"
            },
            "colorscale": [
             [
              0,
              "rgb(20,44,66)"
             ],
             [
              1,
              "rgb(90,179,244)"
             ]
            ],
            "type": "contour"
           }
          ],
          "contourcarpet": [
           {
            "colorbar": {
             "outlinewidth": 0,
             "tickcolor": "rgb(237,237,237)",
             "ticklen": 6,
             "ticks": "inside"
            },
            "type": "contourcarpet"
           }
          ],
          "heatmap": [
           {
            "colorbar": {
             "outlinewidth": 0,
             "tickcolor": "rgb(237,237,237)",
             "ticklen": 6,
             "ticks": "inside"
            },
            "colorscale": [
             [
              0,
              "rgb(20,44,66)"
             ],
             [
              1,
              "rgb(90,179,244)"
             ]
            ],
            "type": "heatmap"
           }
          ],
          "histogram": [
           {
            "marker": {
             "pattern": {
              "fillmode": "overlay",
              "size": 10,
              "solidity": 0.2
             }
            },
            "type": "histogram"
           }
          ],
          "histogram2d": [
           {
            "colorbar": {
             "outlinewidth": 0,
             "tickcolor": "rgb(237,237,237)",
             "ticklen": 6,
             "ticks": "inside"
            },
            "colorscale": [
             [
              0,
              "rgb(20,44,66)"
             ],
             [
              1,
              "rgb(90,179,244)"
             ]
            ],
            "type": "histogram2d"
           }
          ],
          "histogram2dcontour": [
           {
            "colorbar": {
             "outlinewidth": 0,
             "tickcolor": "rgb(237,237,237)",
             "ticklen": 6,
             "ticks": "inside"
            },
            "colorscale": [
             [
              0,
              "rgb(20,44,66)"
             ],
             [
              1,
              "rgb(90,179,244)"
             ]
            ],
            "type": "histogram2dcontour"
           }
          ],
          "mesh3d": [
           {
            "colorbar": {
             "outlinewidth": 0,
             "tickcolor": "rgb(237,237,237)",
             "ticklen": 6,
             "ticks": "inside"
            },
            "type": "mesh3d"
           }
          ],
          "parcoords": [
           {
            "line": {
             "colorbar": {
              "outlinewidth": 0,
              "tickcolor": "rgb(237,237,237)",
              "ticklen": 6,
              "ticks": "inside"
             }
            },
            "type": "parcoords"
           }
          ],
          "pie": [
           {
            "automargin": true,
            "type": "pie"
           }
          ],
          "scatter": [
           {
            "fillpattern": {
             "fillmode": "overlay",
             "size": 10,
             "solidity": 0.2
            },
            "type": "scatter"
           }
          ],
          "scatter3d": [
           {
            "line": {
             "colorbar": {
              "outlinewidth": 0,
              "tickcolor": "rgb(237,237,237)",
              "ticklen": 6,
              "ticks": "inside"
             }
            },
            "marker": {
             "colorbar": {
              "outlinewidth": 0,
              "tickcolor": "rgb(237,237,237)",
              "ticklen": 6,
              "ticks": "inside"
             }
            },
            "type": "scatter3d"
           }
          ],
          "scattercarpet": [
           {
            "marker": {
             "colorbar": {
              "outlinewidth": 0,
              "tickcolor": "rgb(237,237,237)",
              "ticklen": 6,
              "ticks": "inside"
             }
            },
            "type": "scattercarpet"
           }
          ],
          "scattergeo": [
           {
            "marker": {
             "colorbar": {
              "outlinewidth": 0,
              "tickcolor": "rgb(237,237,237)",
              "ticklen": 6,
              "ticks": "inside"
             }
            },
            "type": "scattergeo"
           }
          ],
          "scattergl": [
           {
            "marker": {
             "colorbar": {
              "outlinewidth": 0,
              "tickcolor": "rgb(237,237,237)",
              "ticklen": 6,
              "ticks": "inside"
             }
            },
            "type": "scattergl"
           }
          ],
          "scattermap": [
           {
            "marker": {
             "colorbar": {
              "outlinewidth": 0,
              "tickcolor": "rgb(237,237,237)",
              "ticklen": 6,
              "ticks": "inside"
             }
            },
            "type": "scattermap"
           }
          ],
          "scattermapbox": [
           {
            "marker": {
             "colorbar": {
              "outlinewidth": 0,
              "tickcolor": "rgb(237,237,237)",
              "ticklen": 6,
              "ticks": "inside"
             }
            },
            "type": "scattermapbox"
           }
          ],
          "scatterpolar": [
           {
            "marker": {
             "colorbar": {
              "outlinewidth": 0,
              "tickcolor": "rgb(237,237,237)",
              "ticklen": 6,
              "ticks": "inside"
             }
            },
            "type": "scatterpolar"
           }
          ],
          "scatterpolargl": [
           {
            "marker": {
             "colorbar": {
              "outlinewidth": 0,
              "tickcolor": "rgb(237,237,237)",
              "ticklen": 6,
              "ticks": "inside"
             }
            },
            "type": "scatterpolargl"
           }
          ],
          "scatterternary": [
           {
            "marker": {
             "colorbar": {
              "outlinewidth": 0,
              "tickcolor": "rgb(237,237,237)",
              "ticklen": 6,
              "ticks": "inside"
             }
            },
            "type": "scatterternary"
           }
          ],
          "surface": [
           {
            "colorbar": {
             "outlinewidth": 0,
             "tickcolor": "rgb(237,237,237)",
             "ticklen": 6,
             "ticks": "inside"
            },
            "colorscale": [
             [
              0,
              "rgb(20,44,66)"
             ],
             [
              1,
              "rgb(90,179,244)"
             ]
            ],
            "type": "surface"
           }
          ],
          "table": [
           {
            "cells": {
             "fill": {
              "color": "rgb(237,237,237)"
             },
             "line": {
              "color": "white"
             }
            },
            "header": {
             "fill": {
              "color": "rgb(217,217,217)"
             },
             "line": {
              "color": "white"
             }
            },
            "type": "table"
           }
          ]
         },
         "layout": {
          "annotationdefaults": {
           "arrowhead": 0,
           "arrowwidth": 1
          },
          "autotypenumbers": "strict",
          "coloraxis": {
           "colorbar": {
            "outlinewidth": 0,
            "tickcolor": "rgb(237,237,237)",
            "ticklen": 6,
            "ticks": "inside"
           }
          },
          "colorscale": {
           "sequential": [
            [
             0,
             "rgb(20,44,66)"
            ],
            [
             1,
             "rgb(90,179,244)"
            ]
           ],
           "sequentialminus": [
            [
             0,
             "rgb(20,44,66)"
            ],
            [
             1,
             "rgb(90,179,244)"
            ]
           ]
          },
          "colorway": [
           "#F8766D",
           "#A3A500",
           "#00BF7D",
           "#00B0F6",
           "#E76BF3"
          ],
          "font": {
           "color": "rgb(51,51,51)"
          },
          "geo": {
           "bgcolor": "white",
           "lakecolor": "white",
           "landcolor": "rgb(237,237,237)",
           "showlakes": true,
           "showland": true,
           "subunitcolor": "white"
          },
          "hoverlabel": {
           "align": "left"
          },
          "hovermode": "closest",
          "paper_bgcolor": "white",
          "plot_bgcolor": "rgb(237,237,237)",
          "polar": {
           "angularaxis": {
            "gridcolor": "white",
            "linecolor": "white",
            "showgrid": true,
            "tickcolor": "rgb(51,51,51)",
            "ticks": "outside"
           },
           "bgcolor": "rgb(237,237,237)",
           "radialaxis": {
            "gridcolor": "white",
            "linecolor": "white",
            "showgrid": true,
            "tickcolor": "rgb(51,51,51)",
            "ticks": "outside"
           }
          },
          "scene": {
           "xaxis": {
            "backgroundcolor": "rgb(237,237,237)",
            "gridcolor": "white",
            "gridwidth": 2,
            "linecolor": "white",
            "showbackground": true,
            "showgrid": true,
            "tickcolor": "rgb(51,51,51)",
            "ticks": "outside",
            "zerolinecolor": "white"
           },
           "yaxis": {
            "backgroundcolor": "rgb(237,237,237)",
            "gridcolor": "white",
            "gridwidth": 2,
            "linecolor": "white",
            "showbackground": true,
            "showgrid": true,
            "tickcolor": "rgb(51,51,51)",
            "ticks": "outside",
            "zerolinecolor": "white"
           },
           "zaxis": {
            "backgroundcolor": "rgb(237,237,237)",
            "gridcolor": "white",
            "gridwidth": 2,
            "linecolor": "white",
            "showbackground": true,
            "showgrid": true,
            "tickcolor": "rgb(51,51,51)",
            "ticks": "outside",
            "zerolinecolor": "white"
           }
          },
          "shapedefaults": {
           "fillcolor": "black",
           "line": {
            "width": 0
           },
           "opacity": 0.3
          },
          "ternary": {
           "aaxis": {
            "gridcolor": "white",
            "linecolor": "white",
            "showgrid": true,
            "tickcolor": "rgb(51,51,51)",
            "ticks": "outside"
           },
           "baxis": {
            "gridcolor": "white",
            "linecolor": "white",
            "showgrid": true,
            "tickcolor": "rgb(51,51,51)",
            "ticks": "outside"
           },
           "bgcolor": "rgb(237,237,237)",
           "caxis": {
            "gridcolor": "white",
            "linecolor": "white",
            "showgrid": true,
            "tickcolor": "rgb(51,51,51)",
            "ticks": "outside"
           }
          },
          "xaxis": {
           "automargin": true,
           "gridcolor": "white",
           "linecolor": "white",
           "showgrid": true,
           "tickcolor": "rgb(51,51,51)",
           "ticks": "outside",
           "title": {
            "standoff": 15
           },
           "zerolinecolor": "white"
          },
          "yaxis": {
           "automargin": true,
           "gridcolor": "white",
           "linecolor": "white",
           "showgrid": true,
           "tickcolor": "rgb(51,51,51)",
           "ticks": "outside",
           "title": {
            "standoff": 15
           },
           "zerolinecolor": "white"
          }
         }
        },
        "title": {
         "text": "Actual vs. 'Out-of-Sample' Forecast | WIF-USD"
        },
        "xaxis": {
         "title": {
          "text": "Time"
         }
        },
        "yaxis": {
         "title": {
          "text": "Values"
         }
        }
       }
      }
     },
     "metadata": {},
     "output_type": "display_data"
    }
   ],
   "source": [
    "prophet = create_model('prophet')\n",
    "tuned_prophet = tune_model(prophet)\n",
    "final_prophet = finalize_model(tuned_prophet)\n",
    "prophet_predictions = predict_model(final_prophet)\n",
    "#Plot prophet model forecast\n",
    "plot_model(final_prophet, plot='forecast')"
   ]
  },
  {
   "cell_type": "markdown",
   "id": "a2342d98",
   "metadata": {},
   "source": [
    "ETH Forecast with ARIMA (not working), Exponential Smoothing (best), and Prophet"
   ]
  },
  {
   "cell_type": "code",
   "execution_count": 56,
   "id": "b3c18ec9",
   "metadata": {},
   "outputs": [],
   "source": [
    "eth = df.loc[:,'ETH-USD']"
   ]
  },
  {
   "cell_type": "code",
   "execution_count": null,
   "id": "cafa7875",
   "metadata": {},
   "outputs": [
    {
     "data": {
      "text/html": [
       "<style type=\"text/css\">\n",
       "#T_3994e_row25_col1, #T_3994e_row31_col1 {\n",
       "  background-color: lightgreen;\n",
       "}\n",
       "</style>\n",
       "<table id=\"T_3994e\">\n",
       "  <thead>\n",
       "    <tr>\n",
       "      <th class=\"blank level0\" >&nbsp;</th>\n",
       "      <th id=\"T_3994e_level0_col0\" class=\"col_heading level0 col0\" >Description</th>\n",
       "      <th id=\"T_3994e_level0_col1\" class=\"col_heading level0 col1\" >Value</th>\n",
       "    </tr>\n",
       "  </thead>\n",
       "  <tbody>\n",
       "    <tr>\n",
       "      <th id=\"T_3994e_level0_row0\" class=\"row_heading level0 row0\" >0</th>\n",
       "      <td id=\"T_3994e_row0_col0\" class=\"data row0 col0\" >session_id</td>\n",
       "      <td id=\"T_3994e_row0_col1\" class=\"data row0 col1\" >123</td>\n",
       "    </tr>\n",
       "    <tr>\n",
       "      <th id=\"T_3994e_level0_row1\" class=\"row_heading level0 row1\" >1</th>\n",
       "      <td id=\"T_3994e_row1_col0\" class=\"data row1 col0\" >Target</td>\n",
       "      <td id=\"T_3994e_row1_col1\" class=\"data row1 col1\" >ETH-USD</td>\n",
       "    </tr>\n",
       "    <tr>\n",
       "      <th id=\"T_3994e_level0_row2\" class=\"row_heading level0 row2\" >2</th>\n",
       "      <td id=\"T_3994e_row2_col0\" class=\"data row2 col0\" >Approach</td>\n",
       "      <td id=\"T_3994e_row2_col1\" class=\"data row2 col1\" >Univariate</td>\n",
       "    </tr>\n",
       "    <tr>\n",
       "      <th id=\"T_3994e_level0_row3\" class=\"row_heading level0 row3\" >3</th>\n",
       "      <td id=\"T_3994e_row3_col0\" class=\"data row3 col0\" >Exogenous Variables</td>\n",
       "      <td id=\"T_3994e_row3_col1\" class=\"data row3 col1\" >Not Present</td>\n",
       "    </tr>\n",
       "    <tr>\n",
       "      <th id=\"T_3994e_level0_row4\" class=\"row_heading level0 row4\" >4</th>\n",
       "      <td id=\"T_3994e_row4_col0\" class=\"data row4 col0\" >Original data shape</td>\n",
       "      <td id=\"T_3994e_row4_col1\" class=\"data row4 col1\" >(365, 1)</td>\n",
       "    </tr>\n",
       "    <tr>\n",
       "      <th id=\"T_3994e_level0_row5\" class=\"row_heading level0 row5\" >5</th>\n",
       "      <td id=\"T_3994e_row5_col0\" class=\"data row5 col0\" >Transformed data shape</td>\n",
       "      <td id=\"T_3994e_row5_col1\" class=\"data row5 col1\" >(365, 1)</td>\n",
       "    </tr>\n",
       "    <tr>\n",
       "      <th id=\"T_3994e_level0_row6\" class=\"row_heading level0 row6\" >6</th>\n",
       "      <td id=\"T_3994e_row6_col0\" class=\"data row6 col0\" >Transformed train set shape</td>\n",
       "      <td id=\"T_3994e_row6_col1\" class=\"data row6 col1\" >(335, 1)</td>\n",
       "    </tr>\n",
       "    <tr>\n",
       "      <th id=\"T_3994e_level0_row7\" class=\"row_heading level0 row7\" >7</th>\n",
       "      <td id=\"T_3994e_row7_col0\" class=\"data row7 col0\" >Transformed test set shape</td>\n",
       "      <td id=\"T_3994e_row7_col1\" class=\"data row7 col1\" >(30, 1)</td>\n",
       "    </tr>\n",
       "    <tr>\n",
       "      <th id=\"T_3994e_level0_row8\" class=\"row_heading level0 row8\" >8</th>\n",
       "      <td id=\"T_3994e_row8_col0\" class=\"data row8 col0\" >Rows with missing values</td>\n",
       "      <td id=\"T_3994e_row8_col1\" class=\"data row8 col1\" >0.0%</td>\n",
       "    </tr>\n",
       "    <tr>\n",
       "      <th id=\"T_3994e_level0_row9\" class=\"row_heading level0 row9\" >9</th>\n",
       "      <td id=\"T_3994e_row9_col0\" class=\"data row9 col0\" >Fold Generator</td>\n",
       "      <td id=\"T_3994e_row9_col1\" class=\"data row9 col1\" >ExpandingWindowSplitter</td>\n",
       "    </tr>\n",
       "    <tr>\n",
       "      <th id=\"T_3994e_level0_row10\" class=\"row_heading level0 row10\" >10</th>\n",
       "      <td id=\"T_3994e_row10_col0\" class=\"data row10 col0\" >Fold Number</td>\n",
       "      <td id=\"T_3994e_row10_col1\" class=\"data row10 col1\" >3</td>\n",
       "    </tr>\n",
       "    <tr>\n",
       "      <th id=\"T_3994e_level0_row11\" class=\"row_heading level0 row11\" >11</th>\n",
       "      <td id=\"T_3994e_row11_col0\" class=\"data row11 col0\" >Enforce Prediction Interval</td>\n",
       "      <td id=\"T_3994e_row11_col1\" class=\"data row11 col1\" >False</td>\n",
       "    </tr>\n",
       "    <tr>\n",
       "      <th id=\"T_3994e_level0_row12\" class=\"row_heading level0 row12\" >12</th>\n",
       "      <td id=\"T_3994e_row12_col0\" class=\"data row12 col0\" >Splits used for hyperparameters</td>\n",
       "      <td id=\"T_3994e_row12_col1\" class=\"data row12 col1\" >all</td>\n",
       "    </tr>\n",
       "    <tr>\n",
       "      <th id=\"T_3994e_level0_row13\" class=\"row_heading level0 row13\" >13</th>\n",
       "      <td id=\"T_3994e_row13_col0\" class=\"data row13 col0\" >User Defined Seasonal Period(s)</td>\n",
       "      <td id=\"T_3994e_row13_col1\" class=\"data row13 col1\" >D</td>\n",
       "    </tr>\n",
       "    <tr>\n",
       "      <th id=\"T_3994e_level0_row14\" class=\"row_heading level0 row14\" >14</th>\n",
       "      <td id=\"T_3994e_row14_col0\" class=\"data row14 col0\" >Ignore Seasonality Test</td>\n",
       "      <td id=\"T_3994e_row14_col1\" class=\"data row14 col1\" >False</td>\n",
       "    </tr>\n",
       "    <tr>\n",
       "      <th id=\"T_3994e_level0_row15\" class=\"row_heading level0 row15\" >15</th>\n",
       "      <td id=\"T_3994e_row15_col0\" class=\"data row15 col0\" >Seasonality Detection Algo</td>\n",
       "      <td id=\"T_3994e_row15_col1\" class=\"data row15 col1\" >user_defined</td>\n",
       "    </tr>\n",
       "    <tr>\n",
       "      <th id=\"T_3994e_level0_row16\" class=\"row_heading level0 row16\" >16</th>\n",
       "      <td id=\"T_3994e_row16_col0\" class=\"data row16 col0\" >Max Period to Consider</td>\n",
       "      <td id=\"T_3994e_row16_col1\" class=\"data row16 col1\" >60</td>\n",
       "    </tr>\n",
       "    <tr>\n",
       "      <th id=\"T_3994e_level0_row17\" class=\"row_heading level0 row17\" >17</th>\n",
       "      <td id=\"T_3994e_row17_col0\" class=\"data row17 col0\" >Seasonal Period(s) Tested</td>\n",
       "      <td id=\"T_3994e_row17_col1\" class=\"data row17 col1\" >[7]</td>\n",
       "    </tr>\n",
       "    <tr>\n",
       "      <th id=\"T_3994e_level0_row18\" class=\"row_heading level0 row18\" >18</th>\n",
       "      <td id=\"T_3994e_row18_col0\" class=\"data row18 col0\" >Significant Seasonal Period(s)</td>\n",
       "      <td id=\"T_3994e_row18_col1\" class=\"data row18 col1\" >[7]</td>\n",
       "    </tr>\n",
       "    <tr>\n",
       "      <th id=\"T_3994e_level0_row19\" class=\"row_heading level0 row19\" >19</th>\n",
       "      <td id=\"T_3994e_row19_col0\" class=\"data row19 col0\" >Significant Seasonal Period(s) without Harmonics</td>\n",
       "      <td id=\"T_3994e_row19_col1\" class=\"data row19 col1\" >[7]</td>\n",
       "    </tr>\n",
       "    <tr>\n",
       "      <th id=\"T_3994e_level0_row20\" class=\"row_heading level0 row20\" >20</th>\n",
       "      <td id=\"T_3994e_row20_col0\" class=\"data row20 col0\" >Remove Harmonics</td>\n",
       "      <td id=\"T_3994e_row20_col1\" class=\"data row20 col1\" >False</td>\n",
       "    </tr>\n",
       "    <tr>\n",
       "      <th id=\"T_3994e_level0_row21\" class=\"row_heading level0 row21\" >21</th>\n",
       "      <td id=\"T_3994e_row21_col0\" class=\"data row21 col0\" >Harmonics Order Method</td>\n",
       "      <td id=\"T_3994e_row21_col1\" class=\"data row21 col1\" >harmonic_max</td>\n",
       "    </tr>\n",
       "    <tr>\n",
       "      <th id=\"T_3994e_level0_row22\" class=\"row_heading level0 row22\" >22</th>\n",
       "      <td id=\"T_3994e_row22_col0\" class=\"data row22 col0\" >Num Seasonalities to Use</td>\n",
       "      <td id=\"T_3994e_row22_col1\" class=\"data row22 col1\" >1</td>\n",
       "    </tr>\n",
       "    <tr>\n",
       "      <th id=\"T_3994e_level0_row23\" class=\"row_heading level0 row23\" >23</th>\n",
       "      <td id=\"T_3994e_row23_col0\" class=\"data row23 col0\" >All Seasonalities to Use</td>\n",
       "      <td id=\"T_3994e_row23_col1\" class=\"data row23 col1\" >[7]</td>\n",
       "    </tr>\n",
       "    <tr>\n",
       "      <th id=\"T_3994e_level0_row24\" class=\"row_heading level0 row24\" >24</th>\n",
       "      <td id=\"T_3994e_row24_col0\" class=\"data row24 col0\" >Primary Seasonality</td>\n",
       "      <td id=\"T_3994e_row24_col1\" class=\"data row24 col1\" >7</td>\n",
       "    </tr>\n",
       "    <tr>\n",
       "      <th id=\"T_3994e_level0_row25\" class=\"row_heading level0 row25\" >25</th>\n",
       "      <td id=\"T_3994e_row25_col0\" class=\"data row25 col0\" >Seasonality Present</td>\n",
       "      <td id=\"T_3994e_row25_col1\" class=\"data row25 col1\" >True</td>\n",
       "    </tr>\n",
       "    <tr>\n",
       "      <th id=\"T_3994e_level0_row26\" class=\"row_heading level0 row26\" >26</th>\n",
       "      <td id=\"T_3994e_row26_col0\" class=\"data row26 col0\" >Seasonality Type</td>\n",
       "      <td id=\"T_3994e_row26_col1\" class=\"data row26 col1\" >mul</td>\n",
       "    </tr>\n",
       "    <tr>\n",
       "      <th id=\"T_3994e_level0_row27\" class=\"row_heading level0 row27\" >27</th>\n",
       "      <td id=\"T_3994e_row27_col0\" class=\"data row27 col0\" >Target Strictly Positive</td>\n",
       "      <td id=\"T_3994e_row27_col1\" class=\"data row27 col1\" >True</td>\n",
       "    </tr>\n",
       "    <tr>\n",
       "      <th id=\"T_3994e_level0_row28\" class=\"row_heading level0 row28\" >28</th>\n",
       "      <td id=\"T_3994e_row28_col0\" class=\"data row28 col0\" >Target White Noise</td>\n",
       "      <td id=\"T_3994e_row28_col1\" class=\"data row28 col1\" >No</td>\n",
       "    </tr>\n",
       "    <tr>\n",
       "      <th id=\"T_3994e_level0_row29\" class=\"row_heading level0 row29\" >29</th>\n",
       "      <td id=\"T_3994e_row29_col0\" class=\"data row29 col0\" >Recommended d</td>\n",
       "      <td id=\"T_3994e_row29_col1\" class=\"data row29 col1\" >1</td>\n",
       "    </tr>\n",
       "    <tr>\n",
       "      <th id=\"T_3994e_level0_row30\" class=\"row_heading level0 row30\" >30</th>\n",
       "      <td id=\"T_3994e_row30_col0\" class=\"data row30 col0\" >Recommended Seasonal D</td>\n",
       "      <td id=\"T_3994e_row30_col1\" class=\"data row30 col1\" >0</td>\n",
       "    </tr>\n",
       "    <tr>\n",
       "      <th id=\"T_3994e_level0_row31\" class=\"row_heading level0 row31\" >31</th>\n",
       "      <td id=\"T_3994e_row31_col0\" class=\"data row31 col0\" >Preprocess</td>\n",
       "      <td id=\"T_3994e_row31_col1\" class=\"data row31 col1\" >True</td>\n",
       "    </tr>\n",
       "    <tr>\n",
       "      <th id=\"T_3994e_level0_row32\" class=\"row_heading level0 row32\" >32</th>\n",
       "      <td id=\"T_3994e_row32_col0\" class=\"data row32 col0\" >Numerical Imputation (Target)</td>\n",
       "      <td id=\"T_3994e_row32_col1\" class=\"data row32 col1\" >drift</td>\n",
       "    </tr>\n",
       "    <tr>\n",
       "      <th id=\"T_3994e_level0_row33\" class=\"row_heading level0 row33\" >33</th>\n",
       "      <td id=\"T_3994e_row33_col0\" class=\"data row33 col0\" >Transformation (Target)</td>\n",
       "      <td id=\"T_3994e_row33_col1\" class=\"data row33 col1\" >None</td>\n",
       "    </tr>\n",
       "    <tr>\n",
       "      <th id=\"T_3994e_level0_row34\" class=\"row_heading level0 row34\" >34</th>\n",
       "      <td id=\"T_3994e_row34_col0\" class=\"data row34 col0\" >Scaling (Target)</td>\n",
       "      <td id=\"T_3994e_row34_col1\" class=\"data row34 col1\" >None</td>\n",
       "    </tr>\n",
       "    <tr>\n",
       "      <th id=\"T_3994e_level0_row35\" class=\"row_heading level0 row35\" >35</th>\n",
       "      <td id=\"T_3994e_row35_col0\" class=\"data row35 col0\" >Feature Engineering (Target) - Reduced Regression</td>\n",
       "      <td id=\"T_3994e_row35_col1\" class=\"data row35 col1\" >False</td>\n",
       "    </tr>\n",
       "    <tr>\n",
       "      <th id=\"T_3994e_level0_row36\" class=\"row_heading level0 row36\" >36</th>\n",
       "      <td id=\"T_3994e_row36_col0\" class=\"data row36 col0\" >CPU Jobs</td>\n",
       "      <td id=\"T_3994e_row36_col1\" class=\"data row36 col1\" >-1</td>\n",
       "    </tr>\n",
       "    <tr>\n",
       "      <th id=\"T_3994e_level0_row37\" class=\"row_heading level0 row37\" >37</th>\n",
       "      <td id=\"T_3994e_row37_col0\" class=\"data row37 col0\" >Use GPU</td>\n",
       "      <td id=\"T_3994e_row37_col1\" class=\"data row37 col1\" >False</td>\n",
       "    </tr>\n",
       "    <tr>\n",
       "      <th id=\"T_3994e_level0_row38\" class=\"row_heading level0 row38\" >38</th>\n",
       "      <td id=\"T_3994e_row38_col0\" class=\"data row38 col0\" >Log Experiment</td>\n",
       "      <td id=\"T_3994e_row38_col1\" class=\"data row38 col1\" >False</td>\n",
       "    </tr>\n",
       "    <tr>\n",
       "      <th id=\"T_3994e_level0_row39\" class=\"row_heading level0 row39\" >39</th>\n",
       "      <td id=\"T_3994e_row39_col0\" class=\"data row39 col0\" >Experiment Name</td>\n",
       "      <td id=\"T_3994e_row39_col1\" class=\"data row39 col1\" >ts-default-name</td>\n",
       "    </tr>\n",
       "    <tr>\n",
       "      <th id=\"T_3994e_level0_row40\" class=\"row_heading level0 row40\" >40</th>\n",
       "      <td id=\"T_3994e_row40_col0\" class=\"data row40 col0\" >USI</td>\n",
       "      <td id=\"T_3994e_row40_col1\" class=\"data row40 col1\" >556a</td>\n",
       "    </tr>\n",
       "  </tbody>\n",
       "</table>\n"
      ],
      "text/plain": [
       "<pandas.io.formats.style.Styler at 0x1b9c873a850>"
      ]
     },
     "metadata": {},
     "output_type": "display_data"
    },
    {
     "data": {
      "text/html": [],
      "text/plain": [
       "<IPython.core.display.HTML object>"
      ]
     },
     "metadata": {},
     "output_type": "display_data"
    },
    {
     "data": {
      "text/html": [
       "<style type=\"text/css\">\n",
       "#T_aade1_row3_col0, #T_aade1_row3_col1, #T_aade1_row3_col2, #T_aade1_row3_col3, #T_aade1_row3_col4, #T_aade1_row3_col5, #T_aade1_row3_col6, #T_aade1_row3_col7 {\n",
       "  background: yellow;\n",
       "}\n",
       "</style>\n",
       "<table id=\"T_aade1\">\n",
       "  <thead>\n",
       "    <tr>\n",
       "      <th class=\"blank level0\" >&nbsp;</th>\n",
       "      <th id=\"T_aade1_level0_col0\" class=\"col_heading level0 col0\" >cutoff</th>\n",
       "      <th id=\"T_aade1_level0_col1\" class=\"col_heading level0 col1\" >MASE</th>\n",
       "      <th id=\"T_aade1_level0_col2\" class=\"col_heading level0 col2\" >RMSSE</th>\n",
       "      <th id=\"T_aade1_level0_col3\" class=\"col_heading level0 col3\" >MAE</th>\n",
       "      <th id=\"T_aade1_level0_col4\" class=\"col_heading level0 col4\" >RMSE</th>\n",
       "      <th id=\"T_aade1_level0_col5\" class=\"col_heading level0 col5\" >MAPE</th>\n",
       "      <th id=\"T_aade1_level0_col6\" class=\"col_heading level0 col6\" >SMAPE</th>\n",
       "      <th id=\"T_aade1_level0_col7\" class=\"col_heading level0 col7\" >R2</th>\n",
       "    </tr>\n",
       "  </thead>\n",
       "  <tbody>\n",
       "    <tr>\n",
       "      <th id=\"T_aade1_level0_row0\" class=\"row_heading level0 row0\" >0</th>\n",
       "      <td id=\"T_aade1_row0_col0\" class=\"data row0 col0\" >2024-12-30</td>\n",
       "      <td id=\"T_aade1_row0_col1\" class=\"data row0 col1\" >0.5893</td>\n",
       "      <td id=\"T_aade1_row0_col2\" class=\"data row0 col2\" >0.5651</td>\n",
       "      <td id=\"T_aade1_row0_col3\" class=\"data row0 col3\" >125.0851</td>\n",
       "      <td id=\"T_aade1_row0_col4\" class=\"data row0 col4\" >162.9937</td>\n",
       "      <td id=\"T_aade1_row0_col5\" class=\"data row0 col5\" >0.0370</td>\n",
       "      <td id=\"T_aade1_row0_col6\" class=\"data row0 col6\" >0.0372</td>\n",
       "      <td id=\"T_aade1_row0_col7\" class=\"data row0 col7\" >-0.1410</td>\n",
       "    </tr>\n",
       "    <tr>\n",
       "      <th id=\"T_aade1_level0_row1\" class=\"row_heading level0 row1\" >1</th>\n",
       "      <td id=\"T_aade1_row1_col0\" class=\"data row1 col0\" >2025-01-29</td>\n",
       "      <td id=\"T_aade1_row1_col1\" class=\"data row1 col1\" >1.9684</td>\n",
       "      <td id=\"T_aade1_row1_col2\" class=\"data row1 col2\" >1.6003</td>\n",
       "      <td id=\"T_aade1_row1_col3\" class=\"data row1 col3\" >410.2436</td>\n",
       "      <td id=\"T_aade1_row1_col4\" class=\"data row1 col4\" >450.4326</td>\n",
       "      <td id=\"T_aade1_row1_col5\" class=\"data row1 col5\" >0.1578</td>\n",
       "      <td id=\"T_aade1_row1_col6\" class=\"data row1 col6\" >0.1436</td>\n",
       "      <td id=\"T_aade1_row1_col7\" class=\"data row1 col7\" >-2.9517</td>\n",
       "    </tr>\n",
       "    <tr>\n",
       "      <th id=\"T_aade1_level0_row2\" class=\"row_heading level0 row2\" >2</th>\n",
       "      <td id=\"T_aade1_row2_col0\" class=\"data row2 col0\" >2025-02-28</td>\n",
       "      <td id=\"T_aade1_row2_col1\" class=\"data row2 col1\" >0.7451</td>\n",
       "      <td id=\"T_aade1_row2_col2\" class=\"data row2 col2\" >0.7213</td>\n",
       "      <td id=\"T_aade1_row2_col3\" class=\"data row2 col3\" >155.6132</td>\n",
       "      <td id=\"T_aade1_row2_col4\" class=\"data row2 col4\" >202.6435</td>\n",
       "      <td id=\"T_aade1_row2_col5\" class=\"data row2 col5\" >0.0798</td>\n",
       "      <td id=\"T_aade1_row2_col6\" class=\"data row2 col6\" >0.0749</td>\n",
       "      <td id=\"T_aade1_row2_col7\" class=\"data row2 col7\" >-0.7768</td>\n",
       "    </tr>\n",
       "    <tr>\n",
       "      <th id=\"T_aade1_level0_row3\" class=\"row_heading level0 row3\" >Mean</th>\n",
       "      <td id=\"T_aade1_row3_col0\" class=\"data row3 col0\" >NaT</td>\n",
       "      <td id=\"T_aade1_row3_col1\" class=\"data row3 col1\" >1.1009</td>\n",
       "      <td id=\"T_aade1_row3_col2\" class=\"data row3 col2\" >0.9622</td>\n",
       "      <td id=\"T_aade1_row3_col3\" class=\"data row3 col3\" >230.3140</td>\n",
       "      <td id=\"T_aade1_row3_col4\" class=\"data row3 col4\" >272.0233</td>\n",
       "      <td id=\"T_aade1_row3_col5\" class=\"data row3 col5\" >0.0916</td>\n",
       "      <td id=\"T_aade1_row3_col6\" class=\"data row3 col6\" >0.0852</td>\n",
       "      <td id=\"T_aade1_row3_col7\" class=\"data row3 col7\" >-1.2898</td>\n",
       "    </tr>\n",
       "    <tr>\n",
       "      <th id=\"T_aade1_level0_row4\" class=\"row_heading level0 row4\" >SD</th>\n",
       "      <td id=\"T_aade1_row4_col0\" class=\"data row4 col0\" >NaT</td>\n",
       "      <td id=\"T_aade1_row4_col1\" class=\"data row4 col1\" >0.6167</td>\n",
       "      <td id=\"T_aade1_row4_col2\" class=\"data row4 col2\" >0.4557</td>\n",
       "      <td id=\"T_aade1_row4_col3\" class=\"data row4 col3\" >127.8385</td>\n",
       "      <td id=\"T_aade1_row4_col4\" class=\"data row4 col4\" >127.1887</td>\n",
       "      <td id=\"T_aade1_row4_col5\" class=\"data row4 col5\" >0.0500</td>\n",
       "      <td id=\"T_aade1_row4_col6\" class=\"data row4 col6\" >0.0440</td>\n",
       "      <td id=\"T_aade1_row4_col7\" class=\"data row4 col7\" >1.2035</td>\n",
       "    </tr>\n",
       "  </tbody>\n",
       "</table>\n"
      ],
      "text/plain": [
       "<pandas.io.formats.style.Styler at 0x1b9d0d0ecd0>"
      ]
     },
     "metadata": {},
     "output_type": "display_data"
    },
    {
     "data": {
      "text/html": [],
      "text/plain": [
       "<IPython.core.display.HTML object>"
      ]
     },
     "metadata": {},
     "output_type": "display_data"
    }
   ],
   "source": [
    "eth = df.loc[:,'ETH-USD']\n",
    "# Set up PyCaret environment\n",
    "s = setup(data=eth, \n",
    "          target = 'ETH-USD',\n",
    "          #transform_target='log',\n",
    "          fh=30,  # Forecast horizon\n",
    "          session_id=123,\n",
    "          fold_strategy='expanding',\n",
    "          seasonal_period='D',\n",
    "          #fold_spans=\"adaptive\",\n",
    "          numeric_imputation_target = 'drift')\n",
    "\n",
    "arima_1 = create_model('arima')\n"
   ]
  },
  {
   "cell_type": "code",
   "execution_count": 69,
   "id": "6ecffab2",
   "metadata": {},
   "outputs": [
    {
     "data": {
      "text/html": [],
      "text/plain": [
       "<IPython.core.display.HTML object>"
      ]
     },
     "metadata": {},
     "output_type": "display_data"
    },
    {
     "data": {
      "text/html": [
       "<style type=\"text/css\">\n",
       "#T_5b286_row3_col0, #T_5b286_row3_col1, #T_5b286_row3_col2, #T_5b286_row3_col3, #T_5b286_row3_col4, #T_5b286_row3_col5, #T_5b286_row3_col6, #T_5b286_row3_col7 {\n",
       "  background: yellow;\n",
       "}\n",
       "</style>\n",
       "<table id=\"T_5b286\">\n",
       "  <thead>\n",
       "    <tr>\n",
       "      <th class=\"blank level0\" >&nbsp;</th>\n",
       "      <th id=\"T_5b286_level0_col0\" class=\"col_heading level0 col0\" >cutoff</th>\n",
       "      <th id=\"T_5b286_level0_col1\" class=\"col_heading level0 col1\" >MASE</th>\n",
       "      <th id=\"T_5b286_level0_col2\" class=\"col_heading level0 col2\" >RMSSE</th>\n",
       "      <th id=\"T_5b286_level0_col3\" class=\"col_heading level0 col3\" >MAE</th>\n",
       "      <th id=\"T_5b286_level0_col4\" class=\"col_heading level0 col4\" >RMSE</th>\n",
       "      <th id=\"T_5b286_level0_col5\" class=\"col_heading level0 col5\" >MAPE</th>\n",
       "      <th id=\"T_5b286_level0_col6\" class=\"col_heading level0 col6\" >SMAPE</th>\n",
       "      <th id=\"T_5b286_level0_col7\" class=\"col_heading level0 col7\" >R2</th>\n",
       "    </tr>\n",
       "  </thead>\n",
       "  <tbody>\n",
       "    <tr>\n",
       "      <th id=\"T_5b286_level0_row0\" class=\"row_heading level0 row0\" >0</th>\n",
       "      <td id=\"T_5b286_row0_col0\" class=\"data row0 col0\" >2024-12-30</td>\n",
       "      <td id=\"T_5b286_row0_col1\" class=\"data row0 col1\" >0.5000</td>\n",
       "      <td id=\"T_5b286_row0_col2\" class=\"data row0 col2\" >0.5024</td>\n",
       "      <td id=\"T_5b286_row0_col3\" class=\"data row0 col3\" >106.1456</td>\n",
       "      <td id=\"T_5b286_row0_col4\" class=\"data row0 col4\" >144.9110</td>\n",
       "      <td id=\"T_5b286_row0_col5\" class=\"data row0 col5\" >0.0313</td>\n",
       "      <td id=\"T_5b286_row0_col6\" class=\"data row0 col6\" >0.0316</td>\n",
       "      <td id=\"T_5b286_row0_col7\" class=\"data row0 col7\" >0.0981</td>\n",
       "    </tr>\n",
       "    <tr>\n",
       "      <th id=\"T_5b286_level0_row1\" class=\"row_heading level0 row1\" >1</th>\n",
       "      <td id=\"T_5b286_row1_col0\" class=\"data row1 col0\" >2025-01-29</td>\n",
       "      <td id=\"T_5b286_row1_col1\" class=\"data row1 col1\" >0.9538</td>\n",
       "      <td id=\"T_5b286_row1_col2\" class=\"data row1 col2\" >0.7991</td>\n",
       "      <td id=\"T_5b286_row1_col3\" class=\"data row1 col3\" >198.7885</td>\n",
       "      <td id=\"T_5b286_row1_col4\" class=\"data row1 col4\" >224.9101</td>\n",
       "      <td id=\"T_5b286_row1_col5\" class=\"data row1 col5\" >0.0758</td>\n",
       "      <td id=\"T_5b286_row1_col6\" class=\"data row1 col6\" >0.0724</td>\n",
       "      <td id=\"T_5b286_row1_col7\" class=\"data row1 col7\" >0.0148</td>\n",
       "    </tr>\n",
       "    <tr>\n",
       "      <th id=\"T_5b286_level0_row2\" class=\"row_heading level0 row2\" >2</th>\n",
       "      <td id=\"T_5b286_row2_col0\" class=\"data row2 col0\" >2025-02-28</td>\n",
       "      <td id=\"T_5b286_row2_col1\" class=\"data row2 col1\" >0.5027</td>\n",
       "      <td id=\"T_5b286_row2_col2\" class=\"data row2 col2\" >0.4647</td>\n",
       "      <td id=\"T_5b286_row2_col3\" class=\"data row2 col3\" >104.9795</td>\n",
       "      <td id=\"T_5b286_row2_col4\" class=\"data row2 col4\" >130.5702</td>\n",
       "      <td id=\"T_5b286_row2_col5\" class=\"data row2 col5\" >0.0517</td>\n",
       "      <td id=\"T_5b286_row2_col6\" class=\"data row2 col6\" >0.0525</td>\n",
       "      <td id=\"T_5b286_row2_col7\" class=\"data row2 col7\" >0.2624</td>\n",
       "    </tr>\n",
       "    <tr>\n",
       "      <th id=\"T_5b286_level0_row3\" class=\"row_heading level0 row3\" >Mean</th>\n",
       "      <td id=\"T_5b286_row3_col0\" class=\"data row3 col0\" >NaT</td>\n",
       "      <td id=\"T_5b286_row3_col1\" class=\"data row3 col1\" >0.6522</td>\n",
       "      <td id=\"T_5b286_row3_col2\" class=\"data row3 col2\" >0.5887</td>\n",
       "      <td id=\"T_5b286_row3_col3\" class=\"data row3 col3\" >136.6378</td>\n",
       "      <td id=\"T_5b286_row3_col4\" class=\"data row3 col4\" >166.7971</td>\n",
       "      <td id=\"T_5b286_row3_col5\" class=\"data row3 col5\" >0.0529</td>\n",
       "      <td id=\"T_5b286_row3_col6\" class=\"data row3 col6\" >0.0522</td>\n",
       "      <td id=\"T_5b286_row3_col7\" class=\"data row3 col7\" >0.1251</td>\n",
       "    </tr>\n",
       "    <tr>\n",
       "      <th id=\"T_5b286_level0_row4\" class=\"row_heading level0 row4\" >SD</th>\n",
       "      <td id=\"T_5b286_row4_col0\" class=\"data row4 col0\" >NaT</td>\n",
       "      <td id=\"T_5b286_row4_col1\" class=\"data row4 col1\" >0.2133</td>\n",
       "      <td id=\"T_5b286_row4_col2\" class=\"data row4 col2\" >0.1495</td>\n",
       "      <td id=\"T_5b286_row4_col3\" class=\"data row4 col3\" >43.9497</td>\n",
       "      <td id=\"T_5b286_row4_col4\" class=\"data row4 col4\" >41.5070</td>\n",
       "      <td id=\"T_5b286_row4_col5\" class=\"data row4 col5\" >0.0182</td>\n",
       "      <td id=\"T_5b286_row4_col6\" class=\"data row4 col6\" >0.0167</td>\n",
       "      <td id=\"T_5b286_row4_col7\" class=\"data row4 col7\" >0.1029</td>\n",
       "    </tr>\n",
       "  </tbody>\n",
       "</table>\n"
      ],
      "text/plain": [
       "<pandas.io.formats.style.Styler at 0x1b9c865a310>"
      ]
     },
     "metadata": {},
     "output_type": "display_data"
    },
    {
     "data": {
      "text/html": [],
      "text/plain": [
       "<IPython.core.display.HTML object>"
      ]
     },
     "metadata": {},
     "output_type": "display_data"
    },
    {
     "data": {
      "text/html": [],
      "text/plain": [
       "<IPython.core.display.HTML object>"
      ]
     },
     "metadata": {},
     "output_type": "display_data"
    },
    {
     "data": {
      "text/html": [
       "<style type=\"text/css\">\n",
       "#T_a6980_row3_col0, #T_a6980_row3_col1, #T_a6980_row3_col2, #T_a6980_row3_col3, #T_a6980_row3_col4, #T_a6980_row3_col5, #T_a6980_row3_col6, #T_a6980_row3_col7 {\n",
       "  background: yellow;\n",
       "}\n",
       "</style>\n",
       "<table id=\"T_a6980\">\n",
       "  <thead>\n",
       "    <tr>\n",
       "      <th class=\"blank level0\" >&nbsp;</th>\n",
       "      <th id=\"T_a6980_level0_col0\" class=\"col_heading level0 col0\" >cutoff</th>\n",
       "      <th id=\"T_a6980_level0_col1\" class=\"col_heading level0 col1\" >MASE</th>\n",
       "      <th id=\"T_a6980_level0_col2\" class=\"col_heading level0 col2\" >RMSSE</th>\n",
       "      <th id=\"T_a6980_level0_col3\" class=\"col_heading level0 col3\" >MAE</th>\n",
       "      <th id=\"T_a6980_level0_col4\" class=\"col_heading level0 col4\" >RMSE</th>\n",
       "      <th id=\"T_a6980_level0_col5\" class=\"col_heading level0 col5\" >MAPE</th>\n",
       "      <th id=\"T_a6980_level0_col6\" class=\"col_heading level0 col6\" >SMAPE</th>\n",
       "      <th id=\"T_a6980_level0_col7\" class=\"col_heading level0 col7\" >R2</th>\n",
       "    </tr>\n",
       "  </thead>\n",
       "  <tbody>\n",
       "    <tr>\n",
       "      <th id=\"T_a6980_level0_row0\" class=\"row_heading level0 row0\" >0</th>\n",
       "      <td id=\"T_a6980_row0_col0\" class=\"data row0 col0\" >2024-12-30</td>\n",
       "      <td id=\"T_a6980_row0_col1\" class=\"data row0 col1\" >0.5633</td>\n",
       "      <td id=\"T_a6980_row0_col2\" class=\"data row0 col2\" >0.5711</td>\n",
       "      <td id=\"T_a6980_row0_col3\" class=\"data row0 col3\" >119.5619</td>\n",
       "      <td id=\"T_a6980_row0_col4\" class=\"data row0 col4\" >164.7207</td>\n",
       "      <td id=\"T_a6980_row0_col5\" class=\"data row0 col5\" >0.0352</td>\n",
       "      <td id=\"T_a6980_row0_col6\" class=\"data row0 col6\" >0.0356</td>\n",
       "      <td id=\"T_a6980_row0_col7\" class=\"data row0 col7\" >-0.1653</td>\n",
       "    </tr>\n",
       "    <tr>\n",
       "      <th id=\"T_a6980_level0_row1\" class=\"row_heading level0 row1\" >1</th>\n",
       "      <td id=\"T_a6980_row1_col0\" class=\"data row1 col0\" >2025-01-29</td>\n",
       "      <td id=\"T_a6980_row1_col1\" class=\"data row1 col1\" >1.0996</td>\n",
       "      <td id=\"T_a6980_row1_col2\" class=\"data row1 col2\" >0.9770</td>\n",
       "      <td id=\"T_a6980_row1_col3\" class=\"data row1 col3\" >229.1865</td>\n",
       "      <td id=\"T_a6980_row1_col4\" class=\"data row1 col4\" >274.9982</td>\n",
       "      <td id=\"T_a6980_row1_col5\" class=\"data row1 col5\" >0.0887</td>\n",
       "      <td id=\"T_a6980_row1_col6\" class=\"data row1 col6\" >0.0833</td>\n",
       "      <td id=\"T_a6980_row1_col7\" class=\"data row1 col7\" >-0.4729</td>\n",
       "    </tr>\n",
       "    <tr>\n",
       "      <th id=\"T_a6980_level0_row2\" class=\"row_heading level0 row2\" >2</th>\n",
       "      <td id=\"T_a6980_row2_col0\" class=\"data row2 col0\" >2025-02-28</td>\n",
       "      <td id=\"T_a6980_row2_col1\" class=\"data row2 col1\" >0.8651</td>\n",
       "      <td id=\"T_a6980_row2_col2\" class=\"data row2 col2\" >0.7521</td>\n",
       "      <td id=\"T_a6980_row2_col3\" class=\"data row2 col3\" >180.6690</td>\n",
       "      <td id=\"T_a6980_row2_col4\" class=\"data row2 col4\" >211.3025</td>\n",
       "      <td id=\"T_a6980_row2_col5\" class=\"data row2 col5\" >0.0923</td>\n",
       "      <td id=\"T_a6980_row2_col6\" class=\"data row2 col6\" >0.0874</td>\n",
       "      <td id=\"T_a6980_row2_col7\" class=\"data row2 col7\" >-0.9318</td>\n",
       "    </tr>\n",
       "    <tr>\n",
       "      <th id=\"T_a6980_level0_row3\" class=\"row_heading level0 row3\" >Mean</th>\n",
       "      <td id=\"T_a6980_row3_col0\" class=\"data row3 col0\" >NaT</td>\n",
       "      <td id=\"T_a6980_row3_col1\" class=\"data row3 col1\" >0.8427</td>\n",
       "      <td id=\"T_a6980_row3_col2\" class=\"data row3 col2\" >0.7667</td>\n",
       "      <td id=\"T_a6980_row3_col3\" class=\"data row3 col3\" >176.4725</td>\n",
       "      <td id=\"T_a6980_row3_col4\" class=\"data row3 col4\" >217.0071</td>\n",
       "      <td id=\"T_a6980_row3_col5\" class=\"data row3 col5\" >0.0721</td>\n",
       "      <td id=\"T_a6980_row3_col6\" class=\"data row3 col6\" >0.0688</td>\n",
       "      <td id=\"T_a6980_row3_col7\" class=\"data row3 col7\" >-0.5234</td>\n",
       "    </tr>\n",
       "    <tr>\n",
       "      <th id=\"T_a6980_level0_row4\" class=\"row_heading level0 row4\" >SD</th>\n",
       "      <td id=\"T_a6980_row4_col0\" class=\"data row4 col0\" >NaT</td>\n",
       "      <td id=\"T_a6980_row4_col1\" class=\"data row4 col1\" >0.2196</td>\n",
       "      <td id=\"T_a6980_row4_col2\" class=\"data row4 col2\" >0.1660</td>\n",
       "      <td id=\"T_a6980_row4_col3\" class=\"data row4 col3\" >44.8523</td>\n",
       "      <td id=\"T_a6980_row4_col4\" class=\"data row4 col4\" >45.2009</td>\n",
       "      <td id=\"T_a6980_row4_col5\" class=\"data row4 col5\" >0.0261</td>\n",
       "      <td id=\"T_a6980_row4_col6\" class=\"data row4 col6\" >0.0235</td>\n",
       "      <td id=\"T_a6980_row4_col7\" class=\"data row4 col7\" >0.3150</td>\n",
       "    </tr>\n",
       "  </tbody>\n",
       "</table>\n"
      ],
      "text/plain": [
       "<pandas.io.formats.style.Styler at 0x1b9d0cd5100>"
      ]
     },
     "metadata": {},
     "output_type": "display_data"
    },
    {
     "data": {
      "text/html": [],
      "text/plain": [
       "<IPython.core.display.HTML object>"
      ]
     },
     "metadata": {},
     "output_type": "display_data"
    },
    {
     "name": "stdout",
     "output_type": "stream",
     "text": [
      "Fitting 3 folds for each of 10 candidates, totalling 30 fits\n"
     ]
    },
    {
     "name": "stderr",
     "output_type": "stream",
     "text": [
      "[Parallel(n_jobs=-1)]: Using backend LokyBackend with 8 concurrent workers.\n",
      "[Parallel(n_jobs=-1)]: Done  30 out of  30 | elapsed:    3.5s finished\n"
     ]
    },
    {
     "data": {
      "application/vnd.plotly.v1+json": {
       "config": {
        "plotlyServerURL": "https://plot.ly"
       },
       "data": [
        {
         "line": {
          "color": "rgb(31, 119, 180)",
          "width": 2
         },
         "marker": {
          "color": "rgb(31, 119, 180)",
          "size": 5
         },
         "mode": "lines+markers",
         "name": "ETH-USD",
         "type": "scattergl",
         "x": [
          "2024-04-30T00:00:00",
          "2024-05-01T00:00:00",
          "2024-05-02T00:00:00",
          "2024-05-03T00:00:00",
          "2024-05-04T00:00:00",
          "2024-05-05T00:00:00",
          "2024-05-06T00:00:00",
          "2024-05-07T00:00:00",
          "2024-05-08T00:00:00",
          "2024-05-09T00:00:00",
          "2024-05-10T00:00:00",
          "2024-05-11T00:00:00",
          "2024-05-12T00:00:00",
          "2024-05-13T00:00:00",
          "2024-05-14T00:00:00",
          "2024-05-15T00:00:00",
          "2024-05-16T00:00:00",
          "2024-05-17T00:00:00",
          "2024-05-18T00:00:00",
          "2024-05-19T00:00:00",
          "2024-05-20T00:00:00",
          "2024-05-21T00:00:00",
          "2024-05-22T00:00:00",
          "2024-05-23T00:00:00",
          "2024-05-24T00:00:00",
          "2024-05-25T00:00:00",
          "2024-05-26T00:00:00",
          "2024-05-27T00:00:00",
          "2024-05-28T00:00:00",
          "2024-05-29T00:00:00",
          "2024-05-30T00:00:00",
          "2024-05-31T00:00:00",
          "2024-06-01T00:00:00",
          "2024-06-02T00:00:00",
          "2024-06-03T00:00:00",
          "2024-06-04T00:00:00",
          "2024-06-05T00:00:00",
          "2024-06-06T00:00:00",
          "2024-06-07T00:00:00",
          "2024-06-08T00:00:00",
          "2024-06-09T00:00:00",
          "2024-06-10T00:00:00",
          "2024-06-11T00:00:00",
          "2024-06-12T00:00:00",
          "2024-06-13T00:00:00",
          "2024-06-14T00:00:00",
          "2024-06-15T00:00:00",
          "2024-06-16T00:00:00",
          "2024-06-17T00:00:00",
          "2024-06-18T00:00:00",
          "2024-06-19T00:00:00",
          "2024-06-20T00:00:00",
          "2024-06-21T00:00:00",
          "2024-06-22T00:00:00",
          "2024-06-23T00:00:00",
          "2024-06-24T00:00:00",
          "2024-06-25T00:00:00",
          "2024-06-26T00:00:00",
          "2024-06-27T00:00:00",
          "2024-06-28T00:00:00",
          "2024-06-29T00:00:00",
          "2024-06-30T00:00:00",
          "2024-07-01T00:00:00",
          "2024-07-02T00:00:00",
          "2024-07-03T00:00:00",
          "2024-07-04T00:00:00",
          "2024-07-05T00:00:00",
          "2024-07-06T00:00:00",
          "2024-07-07T00:00:00",
          "2024-07-08T00:00:00",
          "2024-07-09T00:00:00",
          "2024-07-10T00:00:00",
          "2024-07-11T00:00:00",
          "2024-07-12T00:00:00",
          "2024-07-13T00:00:00",
          "2024-07-14T00:00:00",
          "2024-07-15T00:00:00",
          "2024-07-16T00:00:00",
          "2024-07-17T00:00:00",
          "2024-07-18T00:00:00",
          "2024-07-19T00:00:00",
          "2024-07-20T00:00:00",
          "2024-07-21T00:00:00",
          "2024-07-22T00:00:00",
          "2024-07-23T00:00:00",
          "2024-07-24T00:00:00",
          "2024-07-25T00:00:00",
          "2024-07-26T00:00:00",
          "2024-07-27T00:00:00",
          "2024-07-28T00:00:00",
          "2024-07-29T00:00:00",
          "2024-07-30T00:00:00",
          "2024-07-31T00:00:00",
          "2024-08-01T00:00:00",
          "2024-08-02T00:00:00",
          "2024-08-03T00:00:00",
          "2024-08-04T00:00:00",
          "2024-08-05T00:00:00",
          "2024-08-06T00:00:00",
          "2024-08-07T00:00:00",
          "2024-08-08T00:00:00",
          "2024-08-09T00:00:00",
          "2024-08-10T00:00:00",
          "2024-08-11T00:00:00",
          "2024-08-12T00:00:00",
          "2024-08-13T00:00:00",
          "2024-08-14T00:00:00",
          "2024-08-15T00:00:00",
          "2024-08-16T00:00:00",
          "2024-08-17T00:00:00",
          "2024-08-18T00:00:00",
          "2024-08-19T00:00:00",
          "2024-08-20T00:00:00",
          "2024-08-21T00:00:00",
          "2024-08-22T00:00:00",
          "2024-08-23T00:00:00",
          "2024-08-24T00:00:00",
          "2024-08-25T00:00:00",
          "2024-08-26T00:00:00",
          "2024-08-27T00:00:00",
          "2024-08-28T00:00:00",
          "2024-08-29T00:00:00",
          "2024-08-30T00:00:00",
          "2024-08-31T00:00:00",
          "2024-09-01T00:00:00",
          "2024-09-02T00:00:00",
          "2024-09-03T00:00:00",
          "2024-09-04T00:00:00",
          "2024-09-05T00:00:00",
          "2024-09-06T00:00:00",
          "2024-09-07T00:00:00",
          "2024-09-08T00:00:00",
          "2024-09-09T00:00:00",
          "2024-09-10T00:00:00",
          "2024-09-11T00:00:00",
          "2024-09-12T00:00:00",
          "2024-09-13T00:00:00",
          "2024-09-14T00:00:00",
          "2024-09-15T00:00:00",
          "2024-09-16T00:00:00",
          "2024-09-17T00:00:00",
          "2024-09-18T00:00:00",
          "2024-09-19T00:00:00",
          "2024-09-20T00:00:00",
          "2024-09-21T00:00:00",
          "2024-09-22T00:00:00",
          "2024-09-23T00:00:00",
          "2024-09-24T00:00:00",
          "2024-09-25T00:00:00",
          "2024-09-26T00:00:00",
          "2024-09-27T00:00:00",
          "2024-09-28T00:00:00",
          "2024-09-29T00:00:00",
          "2024-09-30T00:00:00",
          "2024-10-01T00:00:00",
          "2024-10-02T00:00:00",
          "2024-10-03T00:00:00",
          "2024-10-04T00:00:00",
          "2024-10-05T00:00:00",
          "2024-10-06T00:00:00",
          "2024-10-07T00:00:00",
          "2024-10-08T00:00:00",
          "2024-10-09T00:00:00",
          "2024-10-10T00:00:00",
          "2024-10-11T00:00:00",
          "2024-10-12T00:00:00",
          "2024-10-13T00:00:00",
          "2024-10-14T00:00:00",
          "2024-10-15T00:00:00",
          "2024-10-16T00:00:00",
          "2024-10-17T00:00:00",
          "2024-10-18T00:00:00",
          "2024-10-19T00:00:00",
          "2024-10-20T00:00:00",
          "2024-10-21T00:00:00",
          "2024-10-22T00:00:00",
          "2024-10-23T00:00:00",
          "2024-10-24T00:00:00",
          "2024-10-25T00:00:00",
          "2024-10-26T00:00:00",
          "2024-10-27T00:00:00",
          "2024-10-28T00:00:00",
          "2024-10-29T00:00:00",
          "2024-10-30T00:00:00",
          "2024-10-31T00:00:00",
          "2024-11-01T00:00:00",
          "2024-11-02T00:00:00",
          "2024-11-03T00:00:00",
          "2024-11-04T00:00:00",
          "2024-11-05T00:00:00",
          "2024-11-06T00:00:00",
          "2024-11-07T00:00:00",
          "2024-11-08T00:00:00",
          "2024-11-09T00:00:00",
          "2024-11-10T00:00:00",
          "2024-11-11T00:00:00",
          "2024-11-12T00:00:00",
          "2024-11-13T00:00:00",
          "2024-11-14T00:00:00",
          "2024-11-15T00:00:00",
          "2024-11-16T00:00:00",
          "2024-11-17T00:00:00",
          "2024-11-18T00:00:00",
          "2024-11-19T00:00:00",
          "2024-11-20T00:00:00",
          "2024-11-21T00:00:00",
          "2024-11-22T00:00:00",
          "2024-11-23T00:00:00",
          "2024-11-24T00:00:00",
          "2024-11-25T00:00:00",
          "2024-11-26T00:00:00",
          "2024-11-27T00:00:00",
          "2024-11-28T00:00:00",
          "2024-11-29T00:00:00",
          "2024-11-30T00:00:00",
          "2024-12-01T00:00:00",
          "2024-12-02T00:00:00",
          "2024-12-03T00:00:00",
          "2024-12-04T00:00:00",
          "2024-12-05T00:00:00",
          "2024-12-06T00:00:00",
          "2024-12-07T00:00:00",
          "2024-12-08T00:00:00",
          "2024-12-09T00:00:00",
          "2024-12-10T00:00:00",
          "2024-12-11T00:00:00",
          "2024-12-12T00:00:00",
          "2024-12-13T00:00:00",
          "2024-12-14T00:00:00",
          "2024-12-15T00:00:00",
          "2024-12-16T00:00:00",
          "2024-12-17T00:00:00",
          "2024-12-18T00:00:00",
          "2024-12-19T00:00:00",
          "2024-12-20T00:00:00",
          "2024-12-21T00:00:00",
          "2024-12-22T00:00:00",
          "2024-12-23T00:00:00",
          "2024-12-24T00:00:00",
          "2024-12-25T00:00:00",
          "2024-12-26T00:00:00",
          "2024-12-27T00:00:00",
          "2024-12-28T00:00:00",
          "2024-12-29T00:00:00",
          "2024-12-30T00:00:00",
          "2024-12-31T00:00:00",
          "2025-01-01T00:00:00",
          "2025-01-02T00:00:00",
          "2025-01-03T00:00:00",
          "2025-01-04T00:00:00",
          "2025-01-05T00:00:00",
          "2025-01-06T00:00:00",
          "2025-01-07T00:00:00",
          "2025-01-08T00:00:00",
          "2025-01-09T00:00:00",
          "2025-01-10T00:00:00",
          "2025-01-11T00:00:00",
          "2025-01-12T00:00:00",
          "2025-01-13T00:00:00",
          "2025-01-14T00:00:00",
          "2025-01-15T00:00:00",
          "2025-01-16T00:00:00",
          "2025-01-17T00:00:00",
          "2025-01-18T00:00:00",
          "2025-01-19T00:00:00",
          "2025-01-20T00:00:00",
          "2025-01-21T00:00:00",
          "2025-01-22T00:00:00",
          "2025-01-23T00:00:00",
          "2025-01-24T00:00:00",
          "2025-01-25T00:00:00",
          "2025-01-26T00:00:00",
          "2025-01-27T00:00:00",
          "2025-01-28T00:00:00",
          "2025-01-29T00:00:00",
          "2025-01-30T00:00:00",
          "2025-01-31T00:00:00",
          "2025-02-01T00:00:00",
          "2025-02-02T00:00:00",
          "2025-02-03T00:00:00",
          "2025-02-04T00:00:00",
          "2025-02-05T00:00:00",
          "2025-02-06T00:00:00",
          "2025-02-07T00:00:00",
          "2025-02-08T00:00:00",
          "2025-02-09T00:00:00",
          "2025-02-10T00:00:00",
          "2025-02-11T00:00:00",
          "2025-02-12T00:00:00",
          "2025-02-13T00:00:00",
          "2025-02-14T00:00:00",
          "2025-02-15T00:00:00",
          "2025-02-16T00:00:00",
          "2025-02-17T00:00:00",
          "2025-02-18T00:00:00",
          "2025-02-19T00:00:00",
          "2025-02-20T00:00:00",
          "2025-02-21T00:00:00",
          "2025-02-22T00:00:00",
          "2025-02-23T00:00:00",
          "2025-02-24T00:00:00",
          "2025-02-25T00:00:00",
          "2025-02-26T00:00:00",
          "2025-02-27T00:00:00",
          "2025-02-28T00:00:00",
          "2025-03-01T00:00:00",
          "2025-03-02T00:00:00",
          "2025-03-03T00:00:00",
          "2025-03-04T00:00:00",
          "2025-03-05T00:00:00",
          "2025-03-06T00:00:00",
          "2025-03-07T00:00:00",
          "2025-03-08T00:00:00",
          "2025-03-09T00:00:00",
          "2025-03-10T00:00:00",
          "2025-03-11T00:00:00",
          "2025-03-12T00:00:00",
          "2025-03-13T00:00:00",
          "2025-03-14T00:00:00",
          "2025-03-15T00:00:00",
          "2025-03-16T00:00:00",
          "2025-03-17T00:00:00",
          "2025-03-18T00:00:00",
          "2025-03-19T00:00:00",
          "2025-03-20T00:00:00",
          "2025-03-21T00:00:00",
          "2025-03-22T00:00:00",
          "2025-03-23T00:00:00",
          "2025-03-24T00:00:00",
          "2025-03-25T00:00:00",
          "2025-03-26T00:00:00",
          "2025-03-27T00:00:00",
          "2025-03-28T00:00:00",
          "2025-03-29T00:00:00",
          "2025-03-30T00:00:00",
          "2025-03-31T00:00:00",
          "2025-04-01T00:00:00",
          "2025-04-02T00:00:00",
          "2025-04-03T00:00:00",
          "2025-04-04T00:00:00",
          "2025-04-05T00:00:00",
          "2025-04-06T00:00:00",
          "2025-04-07T00:00:00",
          "2025-04-08T00:00:00",
          "2025-04-09T00:00:00",
          "2025-04-10T00:00:00",
          "2025-04-11T00:00:00",
          "2025-04-12T00:00:00",
          "2025-04-13T00:00:00",
          "2025-04-14T00:00:00",
          "2025-04-15T00:00:00",
          "2025-04-16T00:00:00",
          "2025-04-17T00:00:00",
          "2025-04-18T00:00:00",
          "2025-04-19T00:00:00",
          "2025-04-20T00:00:00",
          "2025-04-21T00:00:00",
          "2025-04-22T00:00:00",
          "2025-04-23T00:00:00",
          "2025-04-24T00:00:00",
          "2025-04-25T00:00:00",
          "2025-04-26T00:00:00",
          "2025-04-27T00:00:00",
          "2025-04-28T00:00:00",
          "2025-04-29T00:00:00",
          "2025-04-30T00:00:00",
          "2025-05-01T00:00:00",
          "2025-05-02T00:00:00",
          "2025-05-03T00:00:00",
          "2025-05-04T00:00:00",
          "2025-05-05T00:00:00",
          "2025-05-06T00:00:00",
          "2025-05-07T00:00:00",
          "2025-05-08T00:00:00",
          "2025-05-09T00:00:00",
          "2025-05-10T00:00:00",
          "2025-05-11T00:00:00",
          "2025-05-12T00:00:00",
          "2025-05-13T00:00:00",
          "2025-05-14T00:00:00",
          "2025-05-15T00:00:00",
          "2025-05-16T00:00:00",
          "2025-05-17T00:00:00",
          "2025-05-18T00:00:00",
          "2025-05-19T00:00:00",
          "2025-05-20T00:00:00",
          "2025-05-21T00:00:00",
          "2025-05-22T00:00:00",
          "2025-05-23T00:00:00",
          "2025-05-24T00:00:00",
          "2025-05-25T00:00:00",
          "2025-05-26T00:00:00",
          "2025-05-27T00:00:00",
          "2025-05-28T00:00:00",
          "2025-05-29T00:00:00"
         ],
         "xaxis": "x",
         "y": {
          "bdata": "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",
          "dtype": "f8"
         },
         "yaxis": "y"
        },
        {
         "line": {
          "color": "rgb(255, 127, 14)",
          "width": 2
         },
         "marker": {
          "color": "rgb(255, 127, 14)",
          "size": 5
         },
         "mode": "lines+markers",
         "name": "Exponential Smoothing",
         "type": "scattergl",
         "x": [
          "2024-04-30T00:00:00",
          "2024-05-01T00:00:00",
          "2024-05-02T00:00:00",
          "2024-05-03T00:00:00",
          "2024-05-04T00:00:00",
          "2024-05-05T00:00:00",
          "2024-05-06T00:00:00",
          "2024-05-07T00:00:00",
          "2024-05-08T00:00:00",
          "2024-05-09T00:00:00",
          "2024-05-10T00:00:00",
          "2024-05-11T00:00:00",
          "2024-05-12T00:00:00",
          "2024-05-13T00:00:00",
          "2024-05-14T00:00:00",
          "2024-05-15T00:00:00",
          "2024-05-16T00:00:00",
          "2024-05-17T00:00:00",
          "2024-05-18T00:00:00",
          "2024-05-19T00:00:00",
          "2024-05-20T00:00:00",
          "2024-05-21T00:00:00",
          "2024-05-22T00:00:00",
          "2024-05-23T00:00:00",
          "2024-05-24T00:00:00",
          "2024-05-25T00:00:00",
          "2024-05-26T00:00:00",
          "2024-05-27T00:00:00",
          "2024-05-28T00:00:00",
          "2024-05-29T00:00:00",
          "2024-05-30T00:00:00",
          "2024-05-31T00:00:00",
          "2024-06-01T00:00:00",
          "2024-06-02T00:00:00",
          "2024-06-03T00:00:00",
          "2024-06-04T00:00:00",
          "2024-06-05T00:00:00",
          "2024-06-06T00:00:00",
          "2024-06-07T00:00:00",
          "2024-06-08T00:00:00",
          "2024-06-09T00:00:00",
          "2024-06-10T00:00:00",
          "2024-06-11T00:00:00",
          "2024-06-12T00:00:00",
          "2024-06-13T00:00:00",
          "2024-06-14T00:00:00",
          "2024-06-15T00:00:00",
          "2024-06-16T00:00:00",
          "2024-06-17T00:00:00",
          "2024-06-18T00:00:00",
          "2024-06-19T00:00:00",
          "2024-06-20T00:00:00",
          "2024-06-21T00:00:00",
          "2024-06-22T00:00:00",
          "2024-06-23T00:00:00",
          "2024-06-24T00:00:00",
          "2024-06-25T00:00:00",
          "2024-06-26T00:00:00",
          "2024-06-27T00:00:00",
          "2024-06-28T00:00:00",
          "2024-06-29T00:00:00",
          "2024-06-30T00:00:00",
          "2024-07-01T00:00:00",
          "2024-07-02T00:00:00",
          "2024-07-03T00:00:00",
          "2024-07-04T00:00:00",
          "2024-07-05T00:00:00",
          "2024-07-06T00:00:00",
          "2024-07-07T00:00:00",
          "2024-07-08T00:00:00",
          "2024-07-09T00:00:00",
          "2024-07-10T00:00:00",
          "2024-07-11T00:00:00",
          "2024-07-12T00:00:00",
          "2024-07-13T00:00:00",
          "2024-07-14T00:00:00",
          "2024-07-15T00:00:00",
          "2024-07-16T00:00:00",
          "2024-07-17T00:00:00",
          "2024-07-18T00:00:00",
          "2024-07-19T00:00:00",
          "2024-07-20T00:00:00",
          "2024-07-21T00:00:00",
          "2024-07-22T00:00:00",
          "2024-07-23T00:00:00",
          "2024-07-24T00:00:00",
          "2024-07-25T00:00:00",
          "2024-07-26T00:00:00",
          "2024-07-27T00:00:00",
          "2024-07-28T00:00:00",
          "2024-07-29T00:00:00",
          "2024-07-30T00:00:00",
          "2024-07-31T00:00:00",
          "2024-08-01T00:00:00",
          "2024-08-02T00:00:00",
          "2024-08-03T00:00:00",
          "2024-08-04T00:00:00",
          "2024-08-05T00:00:00",
          "2024-08-06T00:00:00",
          "2024-08-07T00:00:00",
          "2024-08-08T00:00:00",
          "2024-08-09T00:00:00",
          "2024-08-10T00:00:00",
          "2024-08-11T00:00:00",
          "2024-08-12T00:00:00",
          "2024-08-13T00:00:00",
          "2024-08-14T00:00:00",
          "2024-08-15T00:00:00",
          "2024-08-16T00:00:00",
          "2024-08-17T00:00:00",
          "2024-08-18T00:00:00",
          "2024-08-19T00:00:00",
          "2024-08-20T00:00:00",
          "2024-08-21T00:00:00",
          "2024-08-22T00:00:00",
          "2024-08-23T00:00:00",
          "2024-08-24T00:00:00",
          "2024-08-25T00:00:00",
          "2024-08-26T00:00:00",
          "2024-08-27T00:00:00",
          "2024-08-28T00:00:00",
          "2024-08-29T00:00:00",
          "2024-08-30T00:00:00",
          "2024-08-31T00:00:00",
          "2024-09-01T00:00:00",
          "2024-09-02T00:00:00",
          "2024-09-03T00:00:00",
          "2024-09-04T00:00:00",
          "2024-09-05T00:00:00",
          "2024-09-06T00:00:00",
          "2024-09-07T00:00:00",
          "2024-09-08T00:00:00",
          "2024-09-09T00:00:00",
          "2024-09-10T00:00:00",
          "2024-09-11T00:00:00",
          "2024-09-12T00:00:00",
          "2024-09-13T00:00:00",
          "2024-09-14T00:00:00",
          "2024-09-15T00:00:00",
          "2024-09-16T00:00:00",
          "2024-09-17T00:00:00",
          "2024-09-18T00:00:00",
          "2024-09-19T00:00:00",
          "2024-09-20T00:00:00",
          "2024-09-21T00:00:00",
          "2024-09-22T00:00:00",
          "2024-09-23T00:00:00",
          "2024-09-24T00:00:00",
          "2024-09-25T00:00:00",
          "2024-09-26T00:00:00",
          "2024-09-27T00:00:00",
          "2024-09-28T00:00:00",
          "2024-09-29T00:00:00",
          "2024-09-30T00:00:00",
          "2024-10-01T00:00:00",
          "2024-10-02T00:00:00",
          "2024-10-03T00:00:00",
          "2024-10-04T00:00:00",
          "2024-10-05T00:00:00",
          "2024-10-06T00:00:00",
          "2024-10-07T00:00:00",
          "2024-10-08T00:00:00",
          "2024-10-09T00:00:00",
          "2024-10-10T00:00:00",
          "2024-10-11T00:00:00",
          "2024-10-12T00:00:00",
          "2024-10-13T00:00:00",
          "2024-10-14T00:00:00",
          "2024-10-15T00:00:00",
          "2024-10-16T00:00:00",
          "2024-10-17T00:00:00",
          "2024-10-18T00:00:00",
          "2024-10-19T00:00:00",
          "2024-10-20T00:00:00",
          "2024-10-21T00:00:00",
          "2024-10-22T00:00:00",
          "2024-10-23T00:00:00",
          "2024-10-24T00:00:00",
          "2024-10-25T00:00:00",
          "2024-10-26T00:00:00",
          "2024-10-27T00:00:00",
          "2024-10-28T00:00:00",
          "2024-10-29T00:00:00",
          "2024-10-30T00:00:00",
          "2024-10-31T00:00:00",
          "2024-11-01T00:00:00",
          "2024-11-02T00:00:00",
          "2024-11-03T00:00:00",
          "2024-11-04T00:00:00",
          "2024-11-05T00:00:00",
          "2024-11-06T00:00:00",
          "2024-11-07T00:00:00",
          "2024-11-08T00:00:00",
          "2024-11-09T00:00:00",
          "2024-11-10T00:00:00",
          "2024-11-11T00:00:00",
          "2024-11-12T00:00:00",
          "2024-11-13T00:00:00",
          "2024-11-14T00:00:00",
          "2024-11-15T00:00:00",
          "2024-11-16T00:00:00",
          "2024-11-17T00:00:00",
          "2024-11-18T00:00:00",
          "2024-11-19T00:00:00",
          "2024-11-20T00:00:00",
          "2024-11-21T00:00:00",
          "2024-11-22T00:00:00",
          "2024-11-23T00:00:00",
          "2024-11-24T00:00:00",
          "2024-11-25T00:00:00",
          "2024-11-26T00:00:00",
          "2024-11-27T00:00:00",
          "2024-11-28T00:00:00",
          "2024-11-29T00:00:00",
          "2024-11-30T00:00:00",
          "2024-12-01T00:00:00",
          "2024-12-02T00:00:00",
          "2024-12-03T00:00:00",
          "2024-12-04T00:00:00",
          "2024-12-05T00:00:00",
          "2024-12-06T00:00:00",
          "2024-12-07T00:00:00",
          "2024-12-08T00:00:00",
          "2024-12-09T00:00:00",
          "2024-12-10T00:00:00",
          "2024-12-11T00:00:00",
          "2024-12-12T00:00:00",
          "2024-12-13T00:00:00",
          "2024-12-14T00:00:00",
          "2024-12-15T00:00:00",
          "2024-12-16T00:00:00",
          "2024-12-17T00:00:00",
          "2024-12-18T00:00:00",
          "2024-12-19T00:00:00",
          "2024-12-20T00:00:00",
          "2024-12-21T00:00:00",
          "2024-12-22T00:00:00",
          "2024-12-23T00:00:00",
          "2024-12-24T00:00:00",
          "2024-12-25T00:00:00",
          "2024-12-26T00:00:00",
          "2024-12-27T00:00:00",
          "2024-12-28T00:00:00",
          "2024-12-29T00:00:00",
          "2024-12-30T00:00:00",
          "2024-12-31T00:00:00",
          "2025-01-01T00:00:00",
          "2025-01-02T00:00:00",
          "2025-01-03T00:00:00",
          "2025-01-04T00:00:00",
          "2025-01-05T00:00:00",
          "2025-01-06T00:00:00",
          "2025-01-07T00:00:00",
          "2025-01-08T00:00:00",
          "2025-01-09T00:00:00",
          "2025-01-10T00:00:00",
          "2025-01-11T00:00:00",
          "2025-01-12T00:00:00",
          "2025-01-13T00:00:00",
          "2025-01-14T00:00:00",
          "2025-01-15T00:00:00",
          "2025-01-16T00:00:00",
          "2025-01-17T00:00:00",
          "2025-01-18T00:00:00",
          "2025-01-19T00:00:00",
          "2025-01-20T00:00:00",
          "2025-01-21T00:00:00",
          "2025-01-22T00:00:00",
          "2025-01-23T00:00:00",
          "2025-01-24T00:00:00",
          "2025-01-25T00:00:00",
          "2025-01-26T00:00:00",
          "2025-01-27T00:00:00",
          "2025-01-28T00:00:00",
          "2025-01-29T00:00:00",
          "2025-01-30T00:00:00",
          "2025-01-31T00:00:00",
          "2025-02-01T00:00:00",
          "2025-02-02T00:00:00",
          "2025-02-03T00:00:00",
          "2025-02-04T00:00:00",
          "2025-02-05T00:00:00",
          "2025-02-06T00:00:00",
          "2025-02-07T00:00:00",
          "2025-02-08T00:00:00",
          "2025-02-09T00:00:00",
          "2025-02-10T00:00:00",
          "2025-02-11T00:00:00",
          "2025-02-12T00:00:00",
          "2025-02-13T00:00:00",
          "2025-02-14T00:00:00",
          "2025-02-15T00:00:00",
          "2025-02-16T00:00:00",
          "2025-02-17T00:00:00",
          "2025-02-18T00:00:00",
          "2025-02-19T00:00:00",
          "2025-02-20T00:00:00",
          "2025-02-21T00:00:00",
          "2025-02-22T00:00:00",
          "2025-02-23T00:00:00",
          "2025-02-24T00:00:00",
          "2025-02-25T00:00:00",
          "2025-02-26T00:00:00",
          "2025-02-27T00:00:00",
          "2025-02-28T00:00:00",
          "2025-03-01T00:00:00",
          "2025-03-02T00:00:00",
          "2025-03-03T00:00:00",
          "2025-03-04T00:00:00",
          "2025-03-05T00:00:00",
          "2025-03-06T00:00:00",
          "2025-03-07T00:00:00",
          "2025-03-08T00:00:00",
          "2025-03-09T00:00:00",
          "2025-03-10T00:00:00",
          "2025-03-11T00:00:00",
          "2025-03-12T00:00:00",
          "2025-03-13T00:00:00",
          "2025-03-14T00:00:00",
          "2025-03-15T00:00:00",
          "2025-03-16T00:00:00",
          "2025-03-17T00:00:00",
          "2025-03-18T00:00:00",
          "2025-03-19T00:00:00",
          "2025-03-20T00:00:00",
          "2025-03-21T00:00:00",
          "2025-03-22T00:00:00",
          "2025-03-23T00:00:00",
          "2025-03-24T00:00:00",
          "2025-03-25T00:00:00",
          "2025-03-26T00:00:00",
          "2025-03-27T00:00:00",
          "2025-03-28T00:00:00",
          "2025-03-29T00:00:00",
          "2025-03-30T00:00:00",
          "2025-03-31T00:00:00",
          "2025-04-01T00:00:00",
          "2025-04-02T00:00:00",
          "2025-04-03T00:00:00",
          "2025-04-04T00:00:00",
          "2025-04-05T00:00:00",
          "2025-04-06T00:00:00",
          "2025-04-07T00:00:00",
          "2025-04-08T00:00:00",
          "2025-04-09T00:00:00",
          "2025-04-10T00:00:00",
          "2025-04-11T00:00:00",
          "2025-04-12T00:00:00",
          "2025-04-13T00:00:00",
          "2025-04-14T00:00:00",
          "2025-04-15T00:00:00",
          "2025-04-16T00:00:00",
          "2025-04-17T00:00:00",
          "2025-04-18T00:00:00",
          "2025-04-19T00:00:00",
          "2025-04-20T00:00:00",
          "2025-04-21T00:00:00",
          "2025-04-22T00:00:00",
          "2025-04-23T00:00:00",
          "2025-04-24T00:00:00",
          "2025-04-25T00:00:00",
          "2025-04-26T00:00:00",
          "2025-04-27T00:00:00",
          "2025-04-28T00:00:00",
          "2025-04-29T00:00:00",
          "2025-04-30T00:00:00",
          "2025-05-01T00:00:00",
          "2025-05-02T00:00:00",
          "2025-05-03T00:00:00",
          "2025-05-04T00:00:00",
          "2025-05-05T00:00:00",
          "2025-05-06T00:00:00",
          "2025-05-07T00:00:00",
          "2025-05-08T00:00:00",
          "2025-05-09T00:00:00",
          "2025-05-10T00:00:00",
          "2025-05-11T00:00:00",
          "2025-05-12T00:00:00",
          "2025-05-13T00:00:00",
          "2025-05-14T00:00:00",
          "2025-05-15T00:00:00",
          "2025-05-16T00:00:00",
          "2025-05-17T00:00:00",
          "2025-05-18T00:00:00",
          "2025-05-19T00:00:00",
          "2025-05-20T00:00:00",
          "2025-05-21T00:00:00",
          "2025-05-22T00:00:00",
          "2025-05-23T00:00:00",
          "2025-05-24T00:00:00",
          "2025-05-25T00:00:00",
          "2025-05-26T00:00:00",
          "2025-05-27T00:00:00",
          "2025-05-28T00:00:00",
          "2025-05-29T00:00:00"
         ],
         "xaxis": "x",
         "y": {
          "bdata": "AAAAAAAA+H8AAAAAAAD4fwAAAAAAAPh/AAAAAAAA+H8AAAAAAAD4fwAAAAAAAPh/AAAAAAAA+H8AAAAAAAD4fwAAAAAAAPh/AAAAAAAA+H8AAAAAAAD4fwAAAAAAAPh/AAAAAAAA+H8AAAAAAAD4fwAAAAAAAPh/AAAAAAAA+H8AAAAAAAD4fwAAAAAAAPh/AAAAAAAA+H8AAAAAAAD4fwAAAAAAAPh/AAAAAAAA+H8AAAAAAAD4fwAAAAAAAPh/AAAAAAAA+H8AAAAAAAD4fwAAAAAAAPh/AAAAAAAA+H8AAAAAAAD4fwAAAAAAAPh/AAAAAAAA+H8AAAAAAAD4fwAAAAAAAPh/AAAAAAAA+H8AAAAAAAD4fwAAAAAAAPh/AAAAAAAA+H8AAAAAAAD4fwAAAAAAAPh/AAAAAAAA+H8AAAAAAAD4fwAAAAAAAPh/AAAAAAAA+H8AAAAAAAD4fwAAAAAAAPh/AAAAAAAA+H8AAAAAAAD4fwAAAAAAAPh/AAAAAAAA+H8AAAAAAAD4fwAAAAAAAPh/AAAAAAAA+H8AAAAAAAD4fwAAAAAAAPh/AAAAAAAA+H8AAAAAAAD4fwAAAAAAAPh/AAAAAAAA+H8AAAAAAAD4fwAAAAAAAPh/AAAAAAAA+H8AAAAAAAD4fwAAAAAAAPh/AAAAAAAA+H8AAAAAAAD4fwAAAAAAAPh/AAAAAAAA+H8AAAAAAAD4fwAAAAAAAPh/AAAAAAAA+H8AAAAAAAD4fwAAAAAAAPh/AAAAAAAA+H8AAAAAAAD4fwAAAAAAAPh/AAAAAAAA+H8AAAAAAAD4fwAAAAAAAPh/AAAAAAAA+H8AAAAAAAD4fwAAAAAAAPh/AAAAAAAA+H8AAAAAAAD4fwAAAAAAAPh/AAAAAAAA+H8AAAAAAAD4fwAAAAAAAPh/AAAAAAAA+H8AAAAAAAD4fwAAAAAAAPh/AAAAAAAA+H8AAAAAAAD4fwAAAAAAAPh/AAAAAAAA+H8AAAAAAAD4fwAAAAAAAPh/AAAAAAAA+H8AAAAAAAD4fwAAAAAAAPh/AAAAAAAA+H8AAAAAAAD4fwAAAAAAAPh/AAAAAAAA+H8AAAAAAAD4fwAAAAAAAPh/AAAAAAAA+H8AAAAAAAD4fwAAAAAAAPh/AAAAAAAA+H8AAAAAAAD4fwAAAAAAAPh/AAAAAAAA+H8AAAAAAAD4fwAAAAAAAPh/AAAAAAAA+H8AAAAAAAD4fwAAAAAAAPh/AAAAAAAA+H8AAAAAAAD4fwAAAAAAAPh/AAAAAAAA+H8AAAAAAAD4fwAAAAAAAPh/AAAAAAAA+H8AAAAAAAD4fwAAAAAAAPh/AAAAAAAA+H8AAAAAAAD4fwAAAAAAAPh/AAAAAAAA+H8AAAAAAAD4fwAAAAAAAPh/AAAAAAAA+H8AAAAAAAD4fwAAAAAAAPh/AAAAAAAA+H8AAAAAAAD4fwAAAAAAAPh/AAAAAAAA+H8AAAAAAAD4fwAAAAAAAPh/AAAAAAAA+H8AAAAAAAD4fwAAAAAAAPh/AAAAAAAA+H8AAAAAAAD4fwAAAAAAAPh/AAAAAAAA+H8AAAAAAAD4fwAAAAAAAPh/AAAAAAAA+H8AAAAAAAD4fwAAAAAAAPh/AAAAAAAA+H8AAAAAAAD4fwAAAAAAAPh/AAAAAAAA+H8AAAAAAAD4fwAAAAAAAPh/AAAAAAAA+H8AAAAAAAD4fwAAAAAAAPh/AAAAAAAA+H8AAAAAAAD4fwAAAAAAAPh/AAAAAAAA+H8AAAAAAAD4fwAAAAAAAPh/AAAAAAAA+H8AAAAAAAD4fwAAAAAAAPh/AAAAAAAA+H8AAAAAAAD4fwAAAAAAAPh/AAAAAAAA+H8AAAAAAAD4fwAAAAAAAPh/AAAAAAAA+H8AAAAAAAD4fwAAAAAAAPh/AAAAAAAA+H8AAAAAAAD4fwAAAAAAAPh/AAAAAAAA+H8AAAAAAAD4fwAAAAAAAPh/AAAAAAAA+H8AAAAAAAD4fwAAAAAAAPh/AAAAAAAA+H8AAAAAAAD4fwAAAAAAAPh/AAAAAAAA+H8AAAAAAAD4fwAAAAAAAPh/AAAAAAAA+H8AAAAAAAD4fwAAAAAAAPh/AAAAAAAA+H8AAAAAAAD4fwAAAAAAAPh/AAAAAAAA+H8AAAAAAAD4fwAAAAAAAPh/AAAAAAAA+H8AAAAAAAD4fwAAAAAAAPh/AAAAAAAA+H8AAAAAAAD4fwAAAAAAAPh/AAAAAAAA+H8AAAAAAAD4fwAAAAAAAPh/AAAAAAAA+H8AAAAAAAD4fwAAAAAAAPh/AAAAAAAA+H8AAAAAAAD4fwAAAAAAAPh/AAAAAAAA+H8AAAAAAAD4fwAAAAAAAPh/AAAAAAAA+H8AAAAAAAD4fwAAAAAAAPh/AAAAAAAA+H8AAAAAAAD4fwAAAAAAAPh/AAAAAAAA+H8AAAAAAAD4fwAAAAAAAPh/AAAAAAAA+H8AAAAAAAD4fwAAAAAAAPh/AAAAAAAA+H8AAAAAAAD4fwAAAAAAAPh/AAAAAAAA+H8AAAAAAAD4fwAAAAAAAPh/AAAAAAAA+H8AAAAAAAD4fwAAAAAAAPh/AAAAAAAA+H8AAAAAAAD4fwAAAAAAAPh/AAAAAAAA+H8AAAAAAAD4fwAAAAAAAPh/AAAAAAAA+H8AAAAAAAD4fwAAAAAAAPh/AAAAAAAA+H8AAAAAAAD4fwAAAAAAAPh/AAAAAAAA+H8AAAAAAAD4fwAAAAAAAPh/AAAAAAAA+H8AAAAAAAD4fwAAAAAAAPh/AAAAAAAA+H8AAAAAAAD4fwAAAAAAAPh/AAAAAAAA+H8AAAAAAAD4fwAAAAAAAPh/AAAAAAAA+H8AAAAAAAD4fwAAAAAAAPh/AAAAAAAA+H8AAAAAAAD4fwAAAAAAAPh/AAAAAAAA+H8AAAAAAAD4fwAAAAAAAPh/AAAAAAAA+H8AAAAAAAD4fwAAAAAAAPh/AAAAAAAA+H8AAAAAAAD4fwAAAAAAAPh/AAAAAAAA+H8AAAAAAAD4fwAAAAAAAPh/AAAAAAAA+H8AAAAAAAD4fwAAAAAAAPh/AAAAAAAA+H8AAAAAAAD4fwAAAAAAAPh/AAAAAAAA+H8AAAAAAAD4fwAAAAAAAPh/AAAAAAAA+H8AAAAAAAD4fwAAAAAAAPh/AAAAAAAA+H8AAAAAAAD4fwAAAAAAAPh/AAAAAAAA+H8AAAAAAAD4fwAAAAAAAPh/AAAAAAAA+H8AAAAAAAD4fwAAAAAAAPh/AAAAAAAA+H8AAAAAAAD4fwAAAAAAAPh/AAAAAAAA+H8AAAAAAAD4fwAAAAAAAPh/AAAAAAAA+H8AAAAAAAD4fwAAAAAAAPh/AAAAAAAA+H8AAAAAAAD4fwAAAAAAAPh/AAAAAAAA+H8AAAAAAAD4fwAAAAAAAPh/AAAAAAAA+H8AAAAAAAD4fwAAAAAAAPh/AAAAAAAA+H8AAAAAAAD4fwAAAAAAAPh/AAAAAAAA+H8AAAAAAAD4fwAAAAAAAPh/AAAAAAAA+H8AAAAAAAD4fwAAAAAAAPh/AAAAAAAA+H8AAAAAAAD4fwAAAAAAAPh/AAAAAAAA+H8AAAAAAAD4fwAAAAAAAPh/AAAAAAAA+H8AAAAAAAD4fwAAAAAAAPh/AAAAAAAA+H8AAAAAAAD4fwAAAAAAAPh/AAAAAAAA+H8AAAAAAAD4fwAAAAAAAPh/AAAAAAAA+H8AAAAAAAD4fwAAAAAAAPh/AAAAAAAA+H8AAAAAAAD4fwAAAAAAAPh/AAAAAAAA+H8AAAAAAAD4fwAAAAAAAPh/AAAAAAAA+H8AAAAAAAD4fwAAAAAAAPh/AAAAAAAA+H8AAAAAAAD4fwAAAAAAAPh/AAAAAAAA+H8AAAAAAAD4f807TtFRcJxAaW/whUnMm0DXEvJBT8KbQBkEVg5txptAGQRWDu0Um0AXt9EA3tWaQBWMSupEuZpArIvbaIC4mkBCYOXQohqaQG1Wfa52DZpATfOOU3QNmkCvJeSDHmOZQLprCfkgJJlAV+wvu2cFmUCM22gArwCZQAU0ETb8aJhAApoIG55YmECC4seYe1SYQEVHcvlPsZdARwN4C2Ryl0CDL0ymilGXQGsr9pfdSJdA3SQGgVW3lkCY3ZOHxaOWQLfRAN6Cm5ZA3GgAb4H/lUDpt68Dp8CVQMWPMXetnZVASnuDLwyRlUCh+DHmrgWVQA==",
          "dtype": "f8"
         },
         "yaxis": "y"
        }
       ],
       "layout": {
        "showlegend": true,
        "template": {
         "data": {
          "bar": [
           {
            "error_x": {
             "color": "rgb(51,51,51)"
            },
            "error_y": {
             "color": "rgb(51,51,51)"
            },
            "marker": {
             "line": {
              "color": "rgb(237,237,237)",
              "width": 0.5
             },
             "pattern": {
              "fillmode": "overlay",
              "size": 10,
              "solidity": 0.2
             }
            },
            "type": "bar"
           }
          ],
          "barpolar": [
           {
            "marker": {
             "line": {
              "color": "rgb(237,237,237)",
              "width": 0.5
             },
             "pattern": {
              "fillmode": "overlay",
              "size": 10,
              "solidity": 0.2
             }
            },
            "type": "barpolar"
           }
          ],
          "carpet": [
           {
            "aaxis": {
             "endlinecolor": "rgb(51,51,51)",
             "gridcolor": "white",
             "linecolor": "white",
             "minorgridcolor": "white",
             "startlinecolor": "rgb(51,51,51)"
            },
            "baxis": {
             "endlinecolor": "rgb(51,51,51)",
             "gridcolor": "white",
             "linecolor": "white",
             "minorgridcolor": "white",
             "startlinecolor": "rgb(51,51,51)"
            },
            "type": "carpet"
           }
          ],
          "choropleth": [
           {
            "colorbar": {
             "outlinewidth": 0,
             "tickcolor": "rgb(237,237,237)",
             "ticklen": 6,
             "ticks": "inside"
            },
            "type": "choropleth"
           }
          ],
          "contour": [
           {
            "colorbar": {
             "outlinewidth": 0,
             "tickcolor": "rgb(237,237,237)",
             "ticklen": 6,
             "ticks": "inside"
            },
            "colorscale": [
             [
              0,
              "rgb(20,44,66)"
             ],
             [
              1,
              "rgb(90,179,244)"
             ]
            ],
            "type": "contour"
           }
          ],
          "contourcarpet": [
           {
            "colorbar": {
             "outlinewidth": 0,
             "tickcolor": "rgb(237,237,237)",
             "ticklen": 6,
             "ticks": "inside"
            },
            "type": "contourcarpet"
           }
          ],
          "heatmap": [
           {
            "colorbar": {
             "outlinewidth": 0,
             "tickcolor": "rgb(237,237,237)",
             "ticklen": 6,
             "ticks": "inside"
            },
            "colorscale": [
             [
              0,
              "rgb(20,44,66)"
             ],
             [
              1,
              "rgb(90,179,244)"
             ]
            ],
            "type": "heatmap"
           }
          ],
          "histogram": [
           {
            "marker": {
             "pattern": {
              "fillmode": "overlay",
              "size": 10,
              "solidity": 0.2
             }
            },
            "type": "histogram"
           }
          ],
          "histogram2d": [
           {
            "colorbar": {
             "outlinewidth": 0,
             "tickcolor": "rgb(237,237,237)",
             "ticklen": 6,
             "ticks": "inside"
            },
            "colorscale": [
             [
              0,
              "rgb(20,44,66)"
             ],
             [
              1,
              "rgb(90,179,244)"
             ]
            ],
            "type": "histogram2d"
           }
          ],
          "histogram2dcontour": [
           {
            "colorbar": {
             "outlinewidth": 0,
             "tickcolor": "rgb(237,237,237)",
             "ticklen": 6,
             "ticks": "inside"
            },
            "colorscale": [
             [
              0,
              "rgb(20,44,66)"
             ],
             [
              1,
              "rgb(90,179,244)"
             ]
            ],
            "type": "histogram2dcontour"
           }
          ],
          "mesh3d": [
           {
            "colorbar": {
             "outlinewidth": 0,
             "tickcolor": "rgb(237,237,237)",
             "ticklen": 6,
             "ticks": "inside"
            },
            "type": "mesh3d"
           }
          ],
          "parcoords": [
           {
            "line": {
             "colorbar": {
              "outlinewidth": 0,
              "tickcolor": "rgb(237,237,237)",
              "ticklen": 6,
              "ticks": "inside"
             }
            },
            "type": "parcoords"
           }
          ],
          "pie": [
           {
            "automargin": true,
            "type": "pie"
           }
          ],
          "scatter": [
           {
            "fillpattern": {
             "fillmode": "overlay",
             "size": 10,
             "solidity": 0.2
            },
            "type": "scatter"
           }
          ],
          "scatter3d": [
           {
            "line": {
             "colorbar": {
              "outlinewidth": 0,
              "tickcolor": "rgb(237,237,237)",
              "ticklen": 6,
              "ticks": "inside"
             }
            },
            "marker": {
             "colorbar": {
              "outlinewidth": 0,
              "tickcolor": "rgb(237,237,237)",
              "ticklen": 6,
              "ticks": "inside"
             }
            },
            "type": "scatter3d"
           }
          ],
          "scattercarpet": [
           {
            "marker": {
             "colorbar": {
              "outlinewidth": 0,
              "tickcolor": "rgb(237,237,237)",
              "ticklen": 6,
              "ticks": "inside"
             }
            },
            "type": "scattercarpet"
           }
          ],
          "scattergeo": [
           {
            "marker": {
             "colorbar": {
              "outlinewidth": 0,
              "tickcolor": "rgb(237,237,237)",
              "ticklen": 6,
              "ticks": "inside"
             }
            },
            "type": "scattergeo"
           }
          ],
          "scattergl": [
           {
            "marker": {
             "colorbar": {
              "outlinewidth": 0,
              "tickcolor": "rgb(237,237,237)",
              "ticklen": 6,
              "ticks": "inside"
             }
            },
            "type": "scattergl"
           }
          ],
          "scattermap": [
           {
            "marker": {
             "colorbar": {
              "outlinewidth": 0,
              "tickcolor": "rgb(237,237,237)",
              "ticklen": 6,
              "ticks": "inside"
             }
            },
            "type": "scattermap"
           }
          ],
          "scattermapbox": [
           {
            "marker": {
             "colorbar": {
              "outlinewidth": 0,
              "tickcolor": "rgb(237,237,237)",
              "ticklen": 6,
              "ticks": "inside"
             }
            },
            "type": "scattermapbox"
           }
          ],
          "scatterpolar": [
           {
            "marker": {
             "colorbar": {
              "outlinewidth": 0,
              "tickcolor": "rgb(237,237,237)",
              "ticklen": 6,
              "ticks": "inside"
             }
            },
            "type": "scatterpolar"
           }
          ],
          "scatterpolargl": [
           {
            "marker": {
             "colorbar": {
              "outlinewidth": 0,
              "tickcolor": "rgb(237,237,237)",
              "ticklen": 6,
              "ticks": "inside"
             }
            },
            "type": "scatterpolargl"
           }
          ],
          "scatterternary": [
           {
            "marker": {
             "colorbar": {
              "outlinewidth": 0,
              "tickcolor": "rgb(237,237,237)",
              "ticklen": 6,
              "ticks": "inside"
             }
            },
            "type": "scatterternary"
           }
          ],
          "surface": [
           {
            "colorbar": {
             "outlinewidth": 0,
             "tickcolor": "rgb(237,237,237)",
             "ticklen": 6,
             "ticks": "inside"
            },
            "colorscale": [
             [
              0,
              "rgb(20,44,66)"
             ],
             [
              1,
              "rgb(90,179,244)"
             ]
            ],
            "type": "surface"
           }
          ],
          "table": [
           {
            "cells": {
             "fill": {
              "color": "rgb(237,237,237)"
             },
             "line": {
              "color": "white"
             }
            },
            "header": {
             "fill": {
              "color": "rgb(217,217,217)"
             },
             "line": {
              "color": "white"
             }
            },
            "type": "table"
           }
          ]
         },
         "layout": {
          "annotationdefaults": {
           "arrowhead": 0,
           "arrowwidth": 1
          },
          "autotypenumbers": "strict",
          "coloraxis": {
           "colorbar": {
            "outlinewidth": 0,
            "tickcolor": "rgb(237,237,237)",
            "ticklen": 6,
            "ticks": "inside"
           }
          },
          "colorscale": {
           "sequential": [
            [
             0,
             "rgb(20,44,66)"
            ],
            [
             1,
             "rgb(90,179,244)"
            ]
           ],
           "sequentialminus": [
            [
             0,
             "rgb(20,44,66)"
            ],
            [
             1,
             "rgb(90,179,244)"
            ]
           ]
          },
          "colorway": [
           "#F8766D",
           "#A3A500",
           "#00BF7D",
           "#00B0F6",
           "#E76BF3"
          ],
          "font": {
           "color": "rgb(51,51,51)"
          },
          "geo": {
           "bgcolor": "white",
           "lakecolor": "white",
           "landcolor": "rgb(237,237,237)",
           "showlakes": true,
           "showland": true,
           "subunitcolor": "white"
          },
          "hoverlabel": {
           "align": "left"
          },
          "hovermode": "closest",
          "paper_bgcolor": "white",
          "plot_bgcolor": "rgb(237,237,237)",
          "polar": {
           "angularaxis": {
            "gridcolor": "white",
            "linecolor": "white",
            "showgrid": true,
            "tickcolor": "rgb(51,51,51)",
            "ticks": "outside"
           },
           "bgcolor": "rgb(237,237,237)",
           "radialaxis": {
            "gridcolor": "white",
            "linecolor": "white",
            "showgrid": true,
            "tickcolor": "rgb(51,51,51)",
            "ticks": "outside"
           }
          },
          "scene": {
           "xaxis": {
            "backgroundcolor": "rgb(237,237,237)",
            "gridcolor": "white",
            "gridwidth": 2,
            "linecolor": "white",
            "showbackground": true,
            "showgrid": true,
            "tickcolor": "rgb(51,51,51)",
            "ticks": "outside",
            "zerolinecolor": "white"
           },
           "yaxis": {
            "backgroundcolor": "rgb(237,237,237)",
            "gridcolor": "white",
            "gridwidth": 2,
            "linecolor": "white",
            "showbackground": true,
            "showgrid": true,
            "tickcolor": "rgb(51,51,51)",
            "ticks": "outside",
            "zerolinecolor": "white"
           },
           "zaxis": {
            "backgroundcolor": "rgb(237,237,237)",
            "gridcolor": "white",
            "gridwidth": 2,
            "linecolor": "white",
            "showbackground": true,
            "showgrid": true,
            "tickcolor": "rgb(51,51,51)",
            "ticks": "outside",
            "zerolinecolor": "white"
           }
          },
          "shapedefaults": {
           "fillcolor": "black",
           "line": {
            "width": 0
           },
           "opacity": 0.3
          },
          "ternary": {
           "aaxis": {
            "gridcolor": "white",
            "linecolor": "white",
            "showgrid": true,
            "tickcolor": "rgb(51,51,51)",
            "ticks": "outside"
           },
           "baxis": {
            "gridcolor": "white",
            "linecolor": "white",
            "showgrid": true,
            "tickcolor": "rgb(51,51,51)",
            "ticks": "outside"
           },
           "bgcolor": "rgb(237,237,237)",
           "caxis": {
            "gridcolor": "white",
            "linecolor": "white",
            "showgrid": true,
            "tickcolor": "rgb(51,51,51)",
            "ticks": "outside"
           }
          },
          "xaxis": {
           "automargin": true,
           "gridcolor": "white",
           "linecolor": "white",
           "showgrid": true,
           "tickcolor": "rgb(51,51,51)",
           "ticks": "outside",
           "title": {
            "standoff": 15
           },
           "zerolinecolor": "white"
          },
          "yaxis": {
           "automargin": true,
           "gridcolor": "white",
           "linecolor": "white",
           "showgrid": true,
           "tickcolor": "rgb(51,51,51)",
           "ticks": "outside",
           "title": {
            "standoff": 15
           },
           "zerolinecolor": "white"
          }
         }
        },
        "title": {
         "text": "Actual vs. Forecast (Out-of-Sample)"
        },
        "xaxis": {
         "anchor": "y",
         "domain": [
          0,
          1
         ]
        },
        "yaxis": {
         "anchor": "x",
         "domain": [
          0,
          1
         ]
        }
       }
      }
     },
     "metadata": {},
     "output_type": "display_data"
    }
   ],
   "source": [
    "exp = create_model('exp_smooth')\n",
    "tuned_exp = tune_model(exp)\n",
    "final_exp = finalize_model(tuned_exp)\n",
    "exp_predictions = predict_model(final_exp)\n",
    "plot_model(final_exp, plot='forecast')"
   ]
  },
  {
   "cell_type": "code",
   "execution_count": null,
   "id": "7e5b741c",
   "metadata": {},
   "outputs": [],
   "source": []
  },
  {
   "cell_type": "code",
   "execution_count": 60,
   "id": "658aaf3a",
   "metadata": {},
   "outputs": [
    {
     "data": {
      "text/html": [],
      "text/plain": [
       "<IPython.core.display.HTML object>"
      ]
     },
     "metadata": {},
     "output_type": "display_data"
    },
    {
     "data": {
      "text/html": [
       "<style type=\"text/css\">\n",
       "#T_008d6_row3_col0, #T_008d6_row3_col1, #T_008d6_row3_col2, #T_008d6_row3_col3, #T_008d6_row3_col4, #T_008d6_row3_col5, #T_008d6_row3_col6, #T_008d6_row3_col7 {\n",
       "  background: yellow;\n",
       "}\n",
       "</style>\n",
       "<table id=\"T_008d6\">\n",
       "  <thead>\n",
       "    <tr>\n",
       "      <th class=\"blank level0\" >&nbsp;</th>\n",
       "      <th id=\"T_008d6_level0_col0\" class=\"col_heading level0 col0\" >cutoff</th>\n",
       "      <th id=\"T_008d6_level0_col1\" class=\"col_heading level0 col1\" >MASE</th>\n",
       "      <th id=\"T_008d6_level0_col2\" class=\"col_heading level0 col2\" >RMSSE</th>\n",
       "      <th id=\"T_008d6_level0_col3\" class=\"col_heading level0 col3\" >MAE</th>\n",
       "      <th id=\"T_008d6_level0_col4\" class=\"col_heading level0 col4\" >RMSE</th>\n",
       "      <th id=\"T_008d6_level0_col5\" class=\"col_heading level0 col5\" >MAPE</th>\n",
       "      <th id=\"T_008d6_level0_col6\" class=\"col_heading level0 col6\" >SMAPE</th>\n",
       "      <th id=\"T_008d6_level0_col7\" class=\"col_heading level0 col7\" >R2</th>\n",
       "    </tr>\n",
       "  </thead>\n",
       "  <tbody>\n",
       "    <tr>\n",
       "      <th id=\"T_008d6_level0_row0\" class=\"row_heading level0 row0\" >0</th>\n",
       "      <td id=\"T_008d6_row0_col0\" class=\"data row0 col0\" >2024-12-30</td>\n",
       "      <td id=\"T_008d6_row0_col1\" class=\"data row0 col1\" >3.5149</td>\n",
       "      <td id=\"T_008d6_row0_col2\" class=\"data row0 col2\" >2.7449</td>\n",
       "      <td id=\"T_008d6_row0_col3\" class=\"data row0 col3\" >746.1151</td>\n",
       "      <td id=\"T_008d6_row0_col4\" class=\"data row0 col4\" >791.6502</td>\n",
       "      <td id=\"T_008d6_row0_col5\" class=\"data row0 col5\" >0.2275</td>\n",
       "      <td id=\"T_008d6_row0_col6\" class=\"data row0 col6\" >0.2015</td>\n",
       "      <td id=\"T_008d6_row0_col7\" class=\"data row0 col7\" >-25.9156</td>\n",
       "    </tr>\n",
       "    <tr>\n",
       "      <th id=\"T_008d6_level0_row1\" class=\"row_heading level0 row1\" >1</th>\n",
       "      <td id=\"T_008d6_row1_col0\" class=\"data row1 col0\" >2025-01-29</td>\n",
       "      <td id=\"T_008d6_row1_col1\" class=\"data row1 col1\" >2.4680</td>\n",
       "      <td id=\"T_008d6_row1_col2\" class=\"data row1 col2\" >1.9537</td>\n",
       "      <td id=\"T_008d6_row1_col3\" class=\"data row1 col3\" >514.3856</td>\n",
       "      <td id=\"T_008d6_row1_col4\" class=\"data row1 col4\" >549.9134</td>\n",
       "      <td id=\"T_008d6_row1_col5\" class=\"data row1 col5\" >0.1970</td>\n",
       "      <td id=\"T_008d6_row1_col6\" class=\"data row1 col6\" >0.1765</td>\n",
       "      <td id=\"T_008d6_row1_col7\" class=\"data row1 col7\" >-4.8900</td>\n",
       "    </tr>\n",
       "    <tr>\n",
       "      <th id=\"T_008d6_level0_row2\" class=\"row_heading level0 row2\" >2</th>\n",
       "      <td id=\"T_008d6_row2_col0\" class=\"data row2 col0\" >2025-02-28</td>\n",
       "      <td id=\"T_008d6_row2_col1\" class=\"data row2 col1\" >1.4292</td>\n",
       "      <td id=\"T_008d6_row2_col2\" class=\"data row2 col2\" >1.1541</td>\n",
       "      <td id=\"T_008d6_row2_col3\" class=\"data row2 col3\" >298.4880</td>\n",
       "      <td id=\"T_008d6_row2_col4\" class=\"data row2 col4\" >324.2435</td>\n",
       "      <td id=\"T_008d6_row2_col5\" class=\"data row2 col5\" >0.1507</td>\n",
       "      <td id=\"T_008d6_row2_col6\" class=\"data row2 col6\" >0.1383</td>\n",
       "      <td id=\"T_008d6_row2_col7\" class=\"data row2 col7\" >-3.5489</td>\n",
       "    </tr>\n",
       "    <tr>\n",
       "      <th id=\"T_008d6_level0_row3\" class=\"row_heading level0 row3\" >Mean</th>\n",
       "      <td id=\"T_008d6_row3_col0\" class=\"data row3 col0\" >NaT</td>\n",
       "      <td id=\"T_008d6_row3_col1\" class=\"data row3 col1\" >2.4707</td>\n",
       "      <td id=\"T_008d6_row3_col2\" class=\"data row3 col2\" >1.9509</td>\n",
       "      <td id=\"T_008d6_row3_col3\" class=\"data row3 col3\" >519.6629</td>\n",
       "      <td id=\"T_008d6_row3_col4\" class=\"data row3 col4\" >555.2690</td>\n",
       "      <td id=\"T_008d6_row3_col5\" class=\"data row3 col5\" >0.1917</td>\n",
       "      <td id=\"T_008d6_row3_col6\" class=\"data row3 col6\" >0.1721</td>\n",
       "      <td id=\"T_008d6_row3_col7\" class=\"data row3 col7\" >-11.4515</td>\n",
       "    </tr>\n",
       "    <tr>\n",
       "      <th id=\"T_008d6_level0_row4\" class=\"row_heading level0 row4\" >SD</th>\n",
       "      <td id=\"T_008d6_row4_col0\" class=\"data row4 col0\" >NaT</td>\n",
       "      <td id=\"T_008d6_row4_col1\" class=\"data row4 col1\" >0.8515</td>\n",
       "      <td id=\"T_008d6_row4_col2\" class=\"data row4 col2\" >0.6494</td>\n",
       "      <td id=\"T_008d6_row4_col3\" class=\"data row4 col3\" >182.7811</td>\n",
       "      <td id=\"T_008d6_row4_col4\" class=\"data row4 col4\" >190.8555</td>\n",
       "      <td id=\"T_008d6_row4_col5\" class=\"data row4 col5\" >0.0316</td>\n",
       "      <td id=\"T_008d6_row4_col6\" class=\"data row4 col6\" >0.0260</td>\n",
       "      <td id=\"T_008d6_row4_col7\" class=\"data row4 col7\" >10.2423</td>\n",
       "    </tr>\n",
       "  </tbody>\n",
       "</table>\n"
      ],
      "text/plain": [
       "<pandas.io.formats.style.Styler at 0x1b9c86f5d30>"
      ]
     },
     "metadata": {},
     "output_type": "display_data"
    },
    {
     "data": {
      "text/html": [],
      "text/plain": [
       "<IPython.core.display.HTML object>"
      ]
     },
     "metadata": {},
     "output_type": "display_data"
    },
    {
     "data": {
      "text/html": [],
      "text/plain": [
       "<IPython.core.display.HTML object>"
      ]
     },
     "metadata": {},
     "output_type": "display_data"
    },
    {
     "data": {
      "text/html": [
       "<style type=\"text/css\">\n",
       "#T_6bcc2_row3_col0, #T_6bcc2_row3_col1, #T_6bcc2_row3_col2, #T_6bcc2_row3_col3, #T_6bcc2_row3_col4, #T_6bcc2_row3_col5, #T_6bcc2_row3_col6, #T_6bcc2_row3_col7 {\n",
       "  background: yellow;\n",
       "}\n",
       "</style>\n",
       "<table id=\"T_6bcc2\">\n",
       "  <thead>\n",
       "    <tr>\n",
       "      <th class=\"blank level0\" >&nbsp;</th>\n",
       "      <th id=\"T_6bcc2_level0_col0\" class=\"col_heading level0 col0\" >cutoff</th>\n",
       "      <th id=\"T_6bcc2_level0_col1\" class=\"col_heading level0 col1\" >MASE</th>\n",
       "      <th id=\"T_6bcc2_level0_col2\" class=\"col_heading level0 col2\" >RMSSE</th>\n",
       "      <th id=\"T_6bcc2_level0_col3\" class=\"col_heading level0 col3\" >MAE</th>\n",
       "      <th id=\"T_6bcc2_level0_col4\" class=\"col_heading level0 col4\" >RMSE</th>\n",
       "      <th id=\"T_6bcc2_level0_col5\" class=\"col_heading level0 col5\" >MAPE</th>\n",
       "      <th id=\"T_6bcc2_level0_col6\" class=\"col_heading level0 col6\" >SMAPE</th>\n",
       "      <th id=\"T_6bcc2_level0_col7\" class=\"col_heading level0 col7\" >R2</th>\n",
       "    </tr>\n",
       "  </thead>\n",
       "  <tbody>\n",
       "    <tr>\n",
       "      <th id=\"T_6bcc2_level0_row0\" class=\"row_heading level0 row0\" >0</th>\n",
       "      <td id=\"T_6bcc2_row0_col0\" class=\"data row0 col0\" >2024-12-30</td>\n",
       "      <td id=\"T_6bcc2_row0_col1\" class=\"data row0 col1\" >3.6241</td>\n",
       "      <td id=\"T_6bcc2_row0_col2\" class=\"data row0 col2\" >2.8198</td>\n",
       "      <td id=\"T_6bcc2_row0_col3\" class=\"data row0 col3\" >769.2976</td>\n",
       "      <td id=\"T_6bcc2_row0_col4\" class=\"data row0 col4\" >813.2547</td>\n",
       "      <td id=\"T_6bcc2_row0_col5\" class=\"data row0 col5\" >0.2345</td>\n",
       "      <td id=\"T_6bcc2_row0_col6\" class=\"data row0 col6\" >0.2071</td>\n",
       "      <td id=\"T_6bcc2_row0_col7\" class=\"data row0 col7\" >-27.4047</td>\n",
       "    </tr>\n",
       "    <tr>\n",
       "      <th id=\"T_6bcc2_level0_row1\" class=\"row_heading level0 row1\" >1</th>\n",
       "      <td id=\"T_6bcc2_row1_col0\" class=\"data row1 col0\" >2025-01-29</td>\n",
       "      <td id=\"T_6bcc2_row1_col1\" class=\"data row1 col1\" >1.4220</td>\n",
       "      <td id=\"T_6bcc2_row1_col2\" class=\"data row1 col2\" >1.1519</td>\n",
       "      <td id=\"T_6bcc2_row1_col3\" class=\"data row1 col3\" >296.3734</td>\n",
       "      <td id=\"T_6bcc2_row1_col4\" class=\"data row1 col4\" >324.2134</td>\n",
       "      <td id=\"T_6bcc2_row1_col5\" class=\"data row1 col5\" >0.1135</td>\n",
       "      <td id=\"T_6bcc2_row1_col6\" class=\"data row1 col6\" >0.1061</td>\n",
       "      <td id=\"T_6bcc2_row1_col7\" class=\"data row1 col7\" >-1.0473</td>\n",
       "    </tr>\n",
       "    <tr>\n",
       "      <th id=\"T_6bcc2_level0_row2\" class=\"row_heading level0 row2\" >2</th>\n",
       "      <td id=\"T_6bcc2_row2_col0\" class=\"data row2 col0\" >2025-02-28</td>\n",
       "      <td id=\"T_6bcc2_row2_col1\" class=\"data row2 col1\" >1.1576</td>\n",
       "      <td id=\"T_6bcc2_row2_col2\" class=\"data row2 col2\" >0.9673</td>\n",
       "      <td id=\"T_6bcc2_row2_col3\" class=\"data row2 col3\" >241.7584</td>\n",
       "      <td id=\"T_6bcc2_row2_col4\" class=\"data row2 col4\" >271.7741</td>\n",
       "      <td id=\"T_6bcc2_row2_col5\" class=\"data row2 col5\" >0.1221</td>\n",
       "      <td id=\"T_6bcc2_row2_col6\" class=\"data row2 col6\" >0.1133</td>\n",
       "      <td id=\"T_6bcc2_row2_col7\" class=\"data row2 col7\" >-2.1958</td>\n",
       "    </tr>\n",
       "    <tr>\n",
       "      <th id=\"T_6bcc2_level0_row3\" class=\"row_heading level0 row3\" >Mean</th>\n",
       "      <td id=\"T_6bcc2_row3_col0\" class=\"data row3 col0\" >NaT</td>\n",
       "      <td id=\"T_6bcc2_row3_col1\" class=\"data row3 col1\" >2.0679</td>\n",
       "      <td id=\"T_6bcc2_row3_col2\" class=\"data row3 col2\" >1.6463</td>\n",
       "      <td id=\"T_6bcc2_row3_col3\" class=\"data row3 col3\" >435.8098</td>\n",
       "      <td id=\"T_6bcc2_row3_col4\" class=\"data row3 col4\" >469.7474</td>\n",
       "      <td id=\"T_6bcc2_row3_col5\" class=\"data row3 col5\" >0.1567</td>\n",
       "      <td id=\"T_6bcc2_row3_col6\" class=\"data row3 col6\" >0.1422</td>\n",
       "      <td id=\"T_6bcc2_row3_col7\" class=\"data row3 col7\" >-10.2159</td>\n",
       "    </tr>\n",
       "    <tr>\n",
       "      <th id=\"T_6bcc2_level0_row4\" class=\"row_heading level0 row4\" >SD</th>\n",
       "      <td id=\"T_6bcc2_row4_col0\" class=\"data row4 col0\" >NaT</td>\n",
       "      <td id=\"T_6bcc2_row4_col1\" class=\"data row4 col1\" >1.1057</td>\n",
       "      <td id=\"T_6bcc2_row4_col2\" class=\"data row4 col2\" >0.8332</td>\n",
       "      <td id=\"T_6bcc2_row4_col3\" class=\"data row4 col3\" >236.8632</td>\n",
       "      <td id=\"T_6bcc2_row4_col4\" class=\"data row4 col4\" >243.8379</td>\n",
       "      <td id=\"T_6bcc2_row4_col5\" class=\"data row4 col5\" >0.0551</td>\n",
       "      <td id=\"T_6bcc2_row4_col6\" class=\"data row4 col6\" >0.0460</td>\n",
       "      <td id=\"T_6bcc2_row4_col7\" class=\"data row4 col7\" >12.1633</td>\n",
       "    </tr>\n",
       "  </tbody>\n",
       "</table>\n"
      ],
      "text/plain": [
       "<pandas.io.formats.style.Styler at 0x1b9c6af9280>"
      ]
     },
     "metadata": {},
     "output_type": "display_data"
    },
    {
     "data": {
      "text/html": [],
      "text/plain": [
       "<IPython.core.display.HTML object>"
      ]
     },
     "metadata": {},
     "output_type": "display_data"
    },
    {
     "name": "stdout",
     "output_type": "stream",
     "text": [
      "Fitting 3 folds for each of 10 candidates, totalling 30 fits\n"
     ]
    },
    {
     "name": "stderr",
     "output_type": "stream",
     "text": [
      "[Parallel(n_jobs=-1)]: Using backend LokyBackend with 8 concurrent workers.\n",
      "[Parallel(n_jobs=-1)]: Done  30 out of  30 | elapsed:   12.6s finished\n"
     ]
    },
    {
     "data": {
      "application/vnd.plotly.v1+json": {
       "config": {
        "plotlyServerURL": "https://plot.ly"
       },
       "data": [
        {
         "line": {
          "color": "#1f77b4"
         },
         "marker": {
          "size": 5
         },
         "mode": "lines+markers",
         "name": "Forecast | Prophet",
         "showlegend": true,
         "type": "scatter",
         "x": [
          "2025-04-30T00:00:00",
          "2025-05-01T00:00:00",
          "2025-05-02T00:00:00",
          "2025-05-03T00:00:00",
          "2025-05-04T00:00:00",
          "2025-05-05T00:00:00",
          "2025-05-06T00:00:00",
          "2025-05-07T00:00:00",
          "2025-05-08T00:00:00",
          "2025-05-09T00:00:00",
          "2025-05-10T00:00:00",
          "2025-05-11T00:00:00",
          "2025-05-12T00:00:00",
          "2025-05-13T00:00:00",
          "2025-05-14T00:00:00",
          "2025-05-15T00:00:00",
          "2025-05-16T00:00:00",
          "2025-05-17T00:00:00",
          "2025-05-18T00:00:00",
          "2025-05-19T00:00:00",
          "2025-05-20T00:00:00",
          "2025-05-21T00:00:00",
          "2025-05-22T00:00:00",
          "2025-05-23T00:00:00",
          "2025-05-24T00:00:00",
          "2025-05-25T00:00:00",
          "2025-05-26T00:00:00",
          "2025-05-27T00:00:00",
          "2025-05-28T00:00:00",
          "2025-05-29T00:00:00"
         ],
         "y": {
          "bdata": "s+pztVXXlUDy0k1ikGmVQNlfdk8eZZVA5/up8dJglUAOLbKdL92UQCsYldQJxJRAMnctIV80lEA2PL1Slg+UQIlBYOXQoZNAcM6I0l6dk0B/arx0E5mTQKabxCBwFZNAwoanV0r8kkDJ5T+kn2ySQM6qz9XWR5JAIbByaBHakUAIPZtVn9WRQAK8BRJU0ZFAPQrXo7BNkUBa9bnaijSRQGFUUifgpJBAZRniWBeAkEC4HoXrURKQQIqO5PLfDZBAmSoYlZQJkECAt0CC4guPQOPHmLuW2Y5A8IXJVEG6jUD5D+m3r3CNQKAaL90klYxA",
          "dtype": "f8"
         }
        },
        {
         "line": {
          "width": 0
         },
         "marker": {
          "color": "#68BBE3"
         },
         "mode": "lines",
         "name": "Lower Interval",
         "showlegend": false,
         "type": "scatter",
         "x": [
          "2025-04-30T00:00:00",
          "2025-05-01T00:00:00",
          "2025-05-02T00:00:00",
          "2025-05-03T00:00:00",
          "2025-05-04T00:00:00",
          "2025-05-05T00:00:00",
          "2025-05-06T00:00:00",
          "2025-05-07T00:00:00",
          "2025-05-08T00:00:00",
          "2025-05-09T00:00:00",
          "2025-05-10T00:00:00",
          "2025-05-11T00:00:00",
          "2025-05-12T00:00:00",
          "2025-05-13T00:00:00",
          "2025-05-14T00:00:00",
          "2025-05-15T00:00:00",
          "2025-05-16T00:00:00",
          "2025-05-17T00:00:00",
          "2025-05-18T00:00:00",
          "2025-05-19T00:00:00",
          "2025-05-20T00:00:00",
          "2025-05-21T00:00:00",
          "2025-05-22T00:00:00",
          "2025-05-23T00:00:00",
          "2025-05-24T00:00:00",
          "2025-05-25T00:00:00",
          "2025-05-26T00:00:00",
          "2025-05-27T00:00:00",
          "2025-05-28T00:00:00",
          "2025-05-29T00:00:00"
         ],
         "y": {
          "bdata": "vJaQD3qPkUDA7J48bCmRQPFjzF0L/pBAtMh2vh/hkEBSJ6CJcDiQQIj029fBYpBAf/s6cM7Vj0DUmuYd5w6QQBIUP8Zcx41AS+oENBEejkCEDU+vlAuOQDqSy39I/IxAEOm3r4OljEBKDAIrh3mLQOeMKO2NzopAJzEIrByNiUD6fmq89B6KQKVOQBPhd4lA+zpwzgiAh0B3LSEfdGOIQLG/7J48xYZAZ9XnaiuzhkBfKcsQR3uEQPCnxks3y4RA93XgnJHng0DRkVz+w4WCQDSitDd4MIJATmIQWDm0gUAtsp3vp5yAQBPyQc9m+n5A",
          "dtype": "f8"
         }
        },
        {
         "fill": "tonexty",
         "fillcolor": "rgba(104,187,227,0.5)",
         "line": {
          "width": 0
         },
         "marker": {
          "color": "#68BBE3"
         },
         "mode": "lines",
         "name": "Prediction Interval | Prophet",
         "showlegend": true,
         "type": "scatter",
         "x": [
          "2025-04-30T00:00:00",
          "2025-05-01T00:00:00",
          "2025-05-02T00:00:00",
          "2025-05-03T00:00:00",
          "2025-05-04T00:00:00",
          "2025-05-05T00:00:00",
          "2025-05-06T00:00:00",
          "2025-05-07T00:00:00",
          "2025-05-08T00:00:00",
          "2025-05-09T00:00:00",
          "2025-05-10T00:00:00",
          "2025-05-11T00:00:00",
          "2025-05-12T00:00:00",
          "2025-05-13T00:00:00",
          "2025-05-14T00:00:00",
          "2025-05-15T00:00:00",
          "2025-05-16T00:00:00",
          "2025-05-17T00:00:00",
          "2025-05-18T00:00:00",
          "2025-05-19T00:00:00",
          "2025-05-20T00:00:00",
          "2025-05-21T00:00:00",
          "2025-05-22T00:00:00",
          "2025-05-23T00:00:00",
          "2025-05-24T00:00:00",
          "2025-05-25T00:00:00",
          "2025-05-26T00:00:00",
          "2025-05-27T00:00:00",
          "2025-05-28T00:00:00",
          "2025-05-29T00:00:00"
         ],
         "y": {
          "bdata": "yAc9m1UxmkDSb18HDuKZQKmkTkATeJlA6gQ0ETbLmUAAb4EERXmZQHzysFBrHplAveMUHYmzmEBa9bnaCsiYQHPXEvLB85dAmggbnh4KmEDr4jYagAiYQLIubqOB2JdA9GxWfe6Pl0C5/If0262XQMgHPZuVJZdAaLPqc7XblkAgY+5aQrmWQEcDeAvkvJZADr4wmWpClkA+eVioNZuWQJF++zpwaZZAnzws1NpQlkAUrkfh+siVQKqCUUnd2ZVAYhBYOXStlUCASL99nUmVQLHh6ZUy1pVAl5APerYrlUByio7kspeVQLmNBvCW65RA",
          "dtype": "f8"
         }
        },
        {
         "marker": {
          "color": "#3f3f3f",
          "size": 5
         },
         "mode": "lines+markers",
         "name": "Original",
         "showlegend": true,
         "type": "scatter",
         "x": [
          "2024-04-30T00:00:00",
          "2024-05-01T00:00:00",
          "2024-05-02T00:00:00",
          "2024-05-03T00:00:00",
          "2024-05-04T00:00:00",
          "2024-05-05T00:00:00",
          "2024-05-06T00:00:00",
          "2024-05-07T00:00:00",
          "2024-05-08T00:00:00",
          "2024-05-09T00:00:00",
          "2024-05-10T00:00:00",
          "2024-05-11T00:00:00",
          "2024-05-12T00:00:00",
          "2024-05-13T00:00:00",
          "2024-05-14T00:00:00",
          "2024-05-15T00:00:00",
          "2024-05-16T00:00:00",
          "2024-05-17T00:00:00",
          "2024-05-18T00:00:00",
          "2024-05-19T00:00:00",
          "2024-05-20T00:00:00",
          "2024-05-21T00:00:00",
          "2024-05-22T00:00:00",
          "2024-05-23T00:00:00",
          "2024-05-24T00:00:00",
          "2024-05-25T00:00:00",
          "2024-05-26T00:00:00",
          "2024-05-27T00:00:00",
          "2024-05-28T00:00:00",
          "2024-05-29T00:00:00",
          "2024-05-30T00:00:00",
          "2024-05-31T00:00:00",
          "2024-06-01T00:00:00",
          "2024-06-02T00:00:00",
          "2024-06-03T00:00:00",
          "2024-06-04T00:00:00",
          "2024-06-05T00:00:00",
          "2024-06-06T00:00:00",
          "2024-06-07T00:00:00",
          "2024-06-08T00:00:00",
          "2024-06-09T00:00:00",
          "2024-06-10T00:00:00",
          "2024-06-11T00:00:00",
          "2024-06-12T00:00:00",
          "2024-06-13T00:00:00",
          "2024-06-14T00:00:00",
          "2024-06-15T00:00:00",
          "2024-06-16T00:00:00",
          "2024-06-17T00:00:00",
          "2024-06-18T00:00:00",
          "2024-06-19T00:00:00",
          "2024-06-20T00:00:00",
          "2024-06-21T00:00:00",
          "2024-06-22T00:00:00",
          "2024-06-23T00:00:00",
          "2024-06-24T00:00:00",
          "2024-06-25T00:00:00",
          "2024-06-26T00:00:00",
          "2024-06-27T00:00:00",
          "2024-06-28T00:00:00",
          "2024-06-29T00:00:00",
          "2024-06-30T00:00:00",
          "2024-07-01T00:00:00",
          "2024-07-02T00:00:00",
          "2024-07-03T00:00:00",
          "2024-07-04T00:00:00",
          "2024-07-05T00:00:00",
          "2024-07-06T00:00:00",
          "2024-07-07T00:00:00",
          "2024-07-08T00:00:00",
          "2024-07-09T00:00:00",
          "2024-07-10T00:00:00",
          "2024-07-11T00:00:00",
          "2024-07-12T00:00:00",
          "2024-07-13T00:00:00",
          "2024-07-14T00:00:00",
          "2024-07-15T00:00:00",
          "2024-07-16T00:00:00",
          "2024-07-17T00:00:00",
          "2024-07-18T00:00:00",
          "2024-07-19T00:00:00",
          "2024-07-20T00:00:00",
          "2024-07-21T00:00:00",
          "2024-07-22T00:00:00",
          "2024-07-23T00:00:00",
          "2024-07-24T00:00:00",
          "2024-07-25T00:00:00",
          "2024-07-26T00:00:00",
          "2024-07-27T00:00:00",
          "2024-07-28T00:00:00",
          "2024-07-29T00:00:00",
          "2024-07-30T00:00:00",
          "2024-07-31T00:00:00",
          "2024-08-01T00:00:00",
          "2024-08-02T00:00:00",
          "2024-08-03T00:00:00",
          "2024-08-04T00:00:00",
          "2024-08-05T00:00:00",
          "2024-08-06T00:00:00",
          "2024-08-07T00:00:00",
          "2024-08-08T00:00:00",
          "2024-08-09T00:00:00",
          "2024-08-10T00:00:00",
          "2024-08-11T00:00:00",
          "2024-08-12T00:00:00",
          "2024-08-13T00:00:00",
          "2024-08-14T00:00:00",
          "2024-08-15T00:00:00",
          "2024-08-16T00:00:00",
          "2024-08-17T00:00:00",
          "2024-08-18T00:00:00",
          "2024-08-19T00:00:00",
          "2024-08-20T00:00:00",
          "2024-08-21T00:00:00",
          "2024-08-22T00:00:00",
          "2024-08-23T00:00:00",
          "2024-08-24T00:00:00",
          "2024-08-25T00:00:00",
          "2024-08-26T00:00:00",
          "2024-08-27T00:00:00",
          "2024-08-28T00:00:00",
          "2024-08-29T00:00:00",
          "2024-08-30T00:00:00",
          "2024-08-31T00:00:00",
          "2024-09-01T00:00:00",
          "2024-09-02T00:00:00",
          "2024-09-03T00:00:00",
          "2024-09-04T00:00:00",
          "2024-09-05T00:00:00",
          "2024-09-06T00:00:00",
          "2024-09-07T00:00:00",
          "2024-09-08T00:00:00",
          "2024-09-09T00:00:00",
          "2024-09-10T00:00:00",
          "2024-09-11T00:00:00",
          "2024-09-12T00:00:00",
          "2024-09-13T00:00:00",
          "2024-09-14T00:00:00",
          "2024-09-15T00:00:00",
          "2024-09-16T00:00:00",
          "2024-09-17T00:00:00",
          "2024-09-18T00:00:00",
          "2024-09-19T00:00:00",
          "2024-09-20T00:00:00",
          "2024-09-21T00:00:00",
          "2024-09-22T00:00:00",
          "2024-09-23T00:00:00",
          "2024-09-24T00:00:00",
          "2024-09-25T00:00:00",
          "2024-09-26T00:00:00",
          "2024-09-27T00:00:00",
          "2024-09-28T00:00:00",
          "2024-09-29T00:00:00",
          "2024-09-30T00:00:00",
          "2024-10-01T00:00:00",
          "2024-10-02T00:00:00",
          "2024-10-03T00:00:00",
          "2024-10-04T00:00:00",
          "2024-10-05T00:00:00",
          "2024-10-06T00:00:00",
          "2024-10-07T00:00:00",
          "2024-10-08T00:00:00",
          "2024-10-09T00:00:00",
          "2024-10-10T00:00:00",
          "2024-10-11T00:00:00",
          "2024-10-12T00:00:00",
          "2024-10-13T00:00:00",
          "2024-10-14T00:00:00",
          "2024-10-15T00:00:00",
          "2024-10-16T00:00:00",
          "2024-10-17T00:00:00",
          "2024-10-18T00:00:00",
          "2024-10-19T00:00:00",
          "2024-10-20T00:00:00",
          "2024-10-21T00:00:00",
          "2024-10-22T00:00:00",
          "2024-10-23T00:00:00",
          "2024-10-24T00:00:00",
          "2024-10-25T00:00:00",
          "2024-10-26T00:00:00",
          "2024-10-27T00:00:00",
          "2024-10-28T00:00:00",
          "2024-10-29T00:00:00",
          "2024-10-30T00:00:00",
          "2024-10-31T00:00:00",
          "2024-11-01T00:00:00",
          "2024-11-02T00:00:00",
          "2024-11-03T00:00:00",
          "2024-11-04T00:00:00",
          "2024-11-05T00:00:00",
          "2024-11-06T00:00:00",
          "2024-11-07T00:00:00",
          "2024-11-08T00:00:00",
          "2024-11-09T00:00:00",
          "2024-11-10T00:00:00",
          "2024-11-11T00:00:00",
          "2024-11-12T00:00:00",
          "2024-11-13T00:00:00",
          "2024-11-14T00:00:00",
          "2024-11-15T00:00:00",
          "2024-11-16T00:00:00",
          "2024-11-17T00:00:00",
          "2024-11-18T00:00:00",
          "2024-11-19T00:00:00",
          "2024-11-20T00:00:00",
          "2024-11-21T00:00:00",
          "2024-11-22T00:00:00",
          "2024-11-23T00:00:00",
          "2024-11-24T00:00:00",
          "2024-11-25T00:00:00",
          "2024-11-26T00:00:00",
          "2024-11-27T00:00:00",
          "2024-11-28T00:00:00",
          "2024-11-29T00:00:00",
          "2024-11-30T00:00:00",
          "2024-12-01T00:00:00",
          "2024-12-02T00:00:00",
          "2024-12-03T00:00:00",
          "2024-12-04T00:00:00",
          "2024-12-05T00:00:00",
          "2024-12-06T00:00:00",
          "2024-12-07T00:00:00",
          "2024-12-08T00:00:00",
          "2024-12-09T00:00:00",
          "2024-12-10T00:00:00",
          "2024-12-11T00:00:00",
          "2024-12-12T00:00:00",
          "2024-12-13T00:00:00",
          "2024-12-14T00:00:00",
          "2024-12-15T00:00:00",
          "2024-12-16T00:00:00",
          "2024-12-17T00:00:00",
          "2024-12-18T00:00:00",
          "2024-12-19T00:00:00",
          "2024-12-20T00:00:00",
          "2024-12-21T00:00:00",
          "2024-12-22T00:00:00",
          "2024-12-23T00:00:00",
          "2024-12-24T00:00:00",
          "2024-12-25T00:00:00",
          "2024-12-26T00:00:00",
          "2024-12-27T00:00:00",
          "2024-12-28T00:00:00",
          "2024-12-29T00:00:00",
          "2024-12-30T00:00:00",
          "2024-12-31T00:00:00",
          "2025-01-01T00:00:00",
          "2025-01-02T00:00:00",
          "2025-01-03T00:00:00",
          "2025-01-04T00:00:00",
          "2025-01-05T00:00:00",
          "2025-01-06T00:00:00",
          "2025-01-07T00:00:00",
          "2025-01-08T00:00:00",
          "2025-01-09T00:00:00",
          "2025-01-10T00:00:00",
          "2025-01-11T00:00:00",
          "2025-01-12T00:00:00",
          "2025-01-13T00:00:00",
          "2025-01-14T00:00:00",
          "2025-01-15T00:00:00",
          "2025-01-16T00:00:00",
          "2025-01-17T00:00:00",
          "2025-01-18T00:00:00",
          "2025-01-19T00:00:00",
          "2025-01-20T00:00:00",
          "2025-01-21T00:00:00",
          "2025-01-22T00:00:00",
          "2025-01-23T00:00:00",
          "2025-01-24T00:00:00",
          "2025-01-25T00:00:00",
          "2025-01-26T00:00:00",
          "2025-01-27T00:00:00",
          "2025-01-28T00:00:00",
          "2025-01-29T00:00:00",
          "2025-01-30T00:00:00",
          "2025-01-31T00:00:00",
          "2025-02-01T00:00:00",
          "2025-02-02T00:00:00",
          "2025-02-03T00:00:00",
          "2025-02-04T00:00:00",
          "2025-02-05T00:00:00",
          "2025-02-06T00:00:00",
          "2025-02-07T00:00:00",
          "2025-02-08T00:00:00",
          "2025-02-09T00:00:00",
          "2025-02-10T00:00:00",
          "2025-02-11T00:00:00",
          "2025-02-12T00:00:00",
          "2025-02-13T00:00:00",
          "2025-02-14T00:00:00",
          "2025-02-15T00:00:00",
          "2025-02-16T00:00:00",
          "2025-02-17T00:00:00",
          "2025-02-18T00:00:00",
          "2025-02-19T00:00:00",
          "2025-02-20T00:00:00",
          "2025-02-21T00:00:00",
          "2025-02-22T00:00:00",
          "2025-02-23T00:00:00",
          "2025-02-24T00:00:00",
          "2025-02-25T00:00:00",
          "2025-02-26T00:00:00",
          "2025-02-27T00:00:00",
          "2025-02-28T00:00:00",
          "2025-03-01T00:00:00",
          "2025-03-02T00:00:00",
          "2025-03-03T00:00:00",
          "2025-03-04T00:00:00",
          "2025-03-05T00:00:00",
          "2025-03-06T00:00:00",
          "2025-03-07T00:00:00",
          "2025-03-08T00:00:00",
          "2025-03-09T00:00:00",
          "2025-03-10T00:00:00",
          "2025-03-11T00:00:00",
          "2025-03-12T00:00:00",
          "2025-03-13T00:00:00",
          "2025-03-14T00:00:00",
          "2025-03-15T00:00:00",
          "2025-03-16T00:00:00",
          "2025-03-17T00:00:00",
          "2025-03-18T00:00:00",
          "2025-03-19T00:00:00",
          "2025-03-20T00:00:00",
          "2025-03-21T00:00:00",
          "2025-03-22T00:00:00",
          "2025-03-23T00:00:00",
          "2025-03-24T00:00:00",
          "2025-03-25T00:00:00",
          "2025-03-26T00:00:00",
          "2025-03-27T00:00:00",
          "2025-03-28T00:00:00",
          "2025-03-29T00:00:00",
          "2025-03-30T00:00:00",
          "2025-03-31T00:00:00",
          "2025-04-01T00:00:00",
          "2025-04-02T00:00:00",
          "2025-04-03T00:00:00",
          "2025-04-04T00:00:00",
          "2025-04-05T00:00:00",
          "2025-04-06T00:00:00",
          "2025-04-07T00:00:00",
          "2025-04-08T00:00:00",
          "2025-04-09T00:00:00",
          "2025-04-10T00:00:00",
          "2025-04-11T00:00:00",
          "2025-04-12T00:00:00",
          "2025-04-13T00:00:00",
          "2025-04-14T00:00:00",
          "2025-04-15T00:00:00",
          "2025-04-16T00:00:00",
          "2025-04-17T00:00:00",
          "2025-04-18T00:00:00",
          "2025-04-19T00:00:00",
          "2025-04-20T00:00:00",
          "2025-04-21T00:00:00",
          "2025-04-22T00:00:00",
          "2025-04-23T00:00:00",
          "2025-04-24T00:00:00",
          "2025-04-25T00:00:00",
          "2025-04-26T00:00:00",
          "2025-04-27T00:00:00",
          "2025-04-28T00:00:00",
          "2025-04-29T00:00:00"
         ],
         "y": {
          "bdata": "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",
          "dtype": "f8"
         }
        }
       ],
       "layout": {
        "showlegend": true,
        "template": {
         "data": {
          "bar": [
           {
            "error_x": {
             "color": "rgb(51,51,51)"
            },
            "error_y": {
             "color": "rgb(51,51,51)"
            },
            "marker": {
             "line": {
              "color": "rgb(237,237,237)",
              "width": 0.5
             },
             "pattern": {
              "fillmode": "overlay",
              "size": 10,
              "solidity": 0.2
             }
            },
            "type": "bar"
           }
          ],
          "barpolar": [
           {
            "marker": {
             "line": {
              "color": "rgb(237,237,237)",
              "width": 0.5
             },
             "pattern": {
              "fillmode": "overlay",
              "size": 10,
              "solidity": 0.2
             }
            },
            "type": "barpolar"
           }
          ],
          "carpet": [
           {
            "aaxis": {
             "endlinecolor": "rgb(51,51,51)",
             "gridcolor": "white",
             "linecolor": "white",
             "minorgridcolor": "white",
             "startlinecolor": "rgb(51,51,51)"
            },
            "baxis": {
             "endlinecolor": "rgb(51,51,51)",
             "gridcolor": "white",
             "linecolor": "white",
             "minorgridcolor": "white",
             "startlinecolor": "rgb(51,51,51)"
            },
            "type": "carpet"
           }
          ],
          "choropleth": [
           {
            "colorbar": {
             "outlinewidth": 0,
             "tickcolor": "rgb(237,237,237)",
             "ticklen": 6,
             "ticks": "inside"
            },
            "type": "choropleth"
           }
          ],
          "contour": [
           {
            "colorbar": {
             "outlinewidth": 0,
             "tickcolor": "rgb(237,237,237)",
             "ticklen": 6,
             "ticks": "inside"
            },
            "colorscale": [
             [
              0,
              "rgb(20,44,66)"
             ],
             [
              1,
              "rgb(90,179,244)"
             ]
            ],
            "type": "contour"
           }
          ],
          "contourcarpet": [
           {
            "colorbar": {
             "outlinewidth": 0,
             "tickcolor": "rgb(237,237,237)",
             "ticklen": 6,
             "ticks": "inside"
            },
            "type": "contourcarpet"
           }
          ],
          "heatmap": [
           {
            "colorbar": {
             "outlinewidth": 0,
             "tickcolor": "rgb(237,237,237)",
             "ticklen": 6,
             "ticks": "inside"
            },
            "colorscale": [
             [
              0,
              "rgb(20,44,66)"
             ],
             [
              1,
              "rgb(90,179,244)"
             ]
            ],
            "type": "heatmap"
           }
          ],
          "histogram": [
           {
            "marker": {
             "pattern": {
              "fillmode": "overlay",
              "size": 10,
              "solidity": 0.2
             }
            },
            "type": "histogram"
           }
          ],
          "histogram2d": [
           {
            "colorbar": {
             "outlinewidth": 0,
             "tickcolor": "rgb(237,237,237)",
             "ticklen": 6,
             "ticks": "inside"
            },
            "colorscale": [
             [
              0,
              "rgb(20,44,66)"
             ],
             [
              1,
              "rgb(90,179,244)"
             ]
            ],
            "type": "histogram2d"
           }
          ],
          "histogram2dcontour": [
           {
            "colorbar": {
             "outlinewidth": 0,
             "tickcolor": "rgb(237,237,237)",
             "ticklen": 6,
             "ticks": "inside"
            },
            "colorscale": [
             [
              0,
              "rgb(20,44,66)"
             ],
             [
              1,
              "rgb(90,179,244)"
             ]
            ],
            "type": "histogram2dcontour"
           }
          ],
          "mesh3d": [
           {
            "colorbar": {
             "outlinewidth": 0,
             "tickcolor": "rgb(237,237,237)",
             "ticklen": 6,
             "ticks": "inside"
            },
            "type": "mesh3d"
           }
          ],
          "parcoords": [
           {
            "line": {
             "colorbar": {
              "outlinewidth": 0,
              "tickcolor": "rgb(237,237,237)",
              "ticklen": 6,
              "ticks": "inside"
             }
            },
            "type": "parcoords"
           }
          ],
          "pie": [
           {
            "automargin": true,
            "type": "pie"
           }
          ],
          "scatter": [
           {
            "fillpattern": {
             "fillmode": "overlay",
             "size": 10,
             "solidity": 0.2
            },
            "type": "scatter"
           }
          ],
          "scatter3d": [
           {
            "line": {
             "colorbar": {
              "outlinewidth": 0,
              "tickcolor": "rgb(237,237,237)",
              "ticklen": 6,
              "ticks": "inside"
             }
            },
            "marker": {
             "colorbar": {
              "outlinewidth": 0,
              "tickcolor": "rgb(237,237,237)",
              "ticklen": 6,
              "ticks": "inside"
             }
            },
            "type": "scatter3d"
           }
          ],
          "scattercarpet": [
           {
            "marker": {
             "colorbar": {
              "outlinewidth": 0,
              "tickcolor": "rgb(237,237,237)",
              "ticklen": 6,
              "ticks": "inside"
             }
            },
            "type": "scattercarpet"
           }
          ],
          "scattergeo": [
           {
            "marker": {
             "colorbar": {
              "outlinewidth": 0,
              "tickcolor": "rgb(237,237,237)",
              "ticklen": 6,
              "ticks": "inside"
             }
            },
            "type": "scattergeo"
           }
          ],
          "scattergl": [
           {
            "marker": {
             "colorbar": {
              "outlinewidth": 0,
              "tickcolor": "rgb(237,237,237)",
              "ticklen": 6,
              "ticks": "inside"
             }
            },
            "type": "scattergl"
           }
          ],
          "scattermap": [
           {
            "marker": {
             "colorbar": {
              "outlinewidth": 0,
              "tickcolor": "rgb(237,237,237)",
              "ticklen": 6,
              "ticks": "inside"
             }
            },
            "type": "scattermap"
           }
          ],
          "scattermapbox": [
           {
            "marker": {
             "colorbar": {
              "outlinewidth": 0,
              "tickcolor": "rgb(237,237,237)",
              "ticklen": 6,
              "ticks": "inside"
             }
            },
            "type": "scattermapbox"
           }
          ],
          "scatterpolar": [
           {
            "marker": {
             "colorbar": {
              "outlinewidth": 0,
              "tickcolor": "rgb(237,237,237)",
              "ticklen": 6,
              "ticks": "inside"
             }
            },
            "type": "scatterpolar"
           }
          ],
          "scatterpolargl": [
           {
            "marker": {
             "colorbar": {
              "outlinewidth": 0,
              "tickcolor": "rgb(237,237,237)",
              "ticklen": 6,
              "ticks": "inside"
             }
            },
            "type": "scatterpolargl"
           }
          ],
          "scatterternary": [
           {
            "marker": {
             "colorbar": {
              "outlinewidth": 0,
              "tickcolor": "rgb(237,237,237)",
              "ticklen": 6,
              "ticks": "inside"
             }
            },
            "type": "scatterternary"
           }
          ],
          "surface": [
           {
            "colorbar": {
             "outlinewidth": 0,
             "tickcolor": "rgb(237,237,237)",
             "ticklen": 6,
             "ticks": "inside"
            },
            "colorscale": [
             [
              0,
              "rgb(20,44,66)"
             ],
             [
              1,
              "rgb(90,179,244)"
             ]
            ],
            "type": "surface"
           }
          ],
          "table": [
           {
            "cells": {
             "fill": {
              "color": "rgb(237,237,237)"
             },
             "line": {
              "color": "white"
             }
            },
            "header": {
             "fill": {
              "color": "rgb(217,217,217)"
             },
             "line": {
              "color": "white"
             }
            },
            "type": "table"
           }
          ]
         },
         "layout": {
          "annotationdefaults": {
           "arrowhead": 0,
           "arrowwidth": 1
          },
          "autotypenumbers": "strict",
          "coloraxis": {
           "colorbar": {
            "outlinewidth": 0,
            "tickcolor": "rgb(237,237,237)",
            "ticklen": 6,
            "ticks": "inside"
           }
          },
          "colorscale": {
           "sequential": [
            [
             0,
             "rgb(20,44,66)"
            ],
            [
             1,
             "rgb(90,179,244)"
            ]
           ],
           "sequentialminus": [
            [
             0,
             "rgb(20,44,66)"
            ],
            [
             1,
             "rgb(90,179,244)"
            ]
           ]
          },
          "colorway": [
           "#F8766D",
           "#A3A500",
           "#00BF7D",
           "#00B0F6",
           "#E76BF3"
          ],
          "font": {
           "color": "rgb(51,51,51)"
          },
          "geo": {
           "bgcolor": "white",
           "lakecolor": "white",
           "landcolor": "rgb(237,237,237)",
           "showlakes": true,
           "showland": true,
           "subunitcolor": "white"
          },
          "hoverlabel": {
           "align": "left"
          },
          "hovermode": "closest",
          "paper_bgcolor": "white",
          "plot_bgcolor": "rgb(237,237,237)",
          "polar": {
           "angularaxis": {
            "gridcolor": "white",
            "linecolor": "white",
            "showgrid": true,
            "tickcolor": "rgb(51,51,51)",
            "ticks": "outside"
           },
           "bgcolor": "rgb(237,237,237)",
           "radialaxis": {
            "gridcolor": "white",
            "linecolor": "white",
            "showgrid": true,
            "tickcolor": "rgb(51,51,51)",
            "ticks": "outside"
           }
          },
          "scene": {
           "xaxis": {
            "backgroundcolor": "rgb(237,237,237)",
            "gridcolor": "white",
            "gridwidth": 2,
            "linecolor": "white",
            "showbackground": true,
            "showgrid": true,
            "tickcolor": "rgb(51,51,51)",
            "ticks": "outside",
            "zerolinecolor": "white"
           },
           "yaxis": {
            "backgroundcolor": "rgb(237,237,237)",
            "gridcolor": "white",
            "gridwidth": 2,
            "linecolor": "white",
            "showbackground": true,
            "showgrid": true,
            "tickcolor": "rgb(51,51,51)",
            "ticks": "outside",
            "zerolinecolor": "white"
           },
           "zaxis": {
            "backgroundcolor": "rgb(237,237,237)",
            "gridcolor": "white",
            "gridwidth": 2,
            "linecolor": "white",
            "showbackground": true,
            "showgrid": true,
            "tickcolor": "rgb(51,51,51)",
            "ticks": "outside",
            "zerolinecolor": "white"
           }
          },
          "shapedefaults": {
           "fillcolor": "black",
           "line": {
            "width": 0
           },
           "opacity": 0.3
          },
          "ternary": {
           "aaxis": {
            "gridcolor": "white",
            "linecolor": "white",
            "showgrid": true,
            "tickcolor": "rgb(51,51,51)",
            "ticks": "outside"
           },
           "baxis": {
            "gridcolor": "white",
            "linecolor": "white",
            "showgrid": true,
            "tickcolor": "rgb(51,51,51)",
            "ticks": "outside"
           },
           "bgcolor": "rgb(237,237,237)",
           "caxis": {
            "gridcolor": "white",
            "linecolor": "white",
            "showgrid": true,
            "tickcolor": "rgb(51,51,51)",
            "ticks": "outside"
           }
          },
          "xaxis": {
           "automargin": true,
           "gridcolor": "white",
           "linecolor": "white",
           "showgrid": true,
           "tickcolor": "rgb(51,51,51)",
           "ticks": "outside",
           "title": {
            "standoff": 15
           },
           "zerolinecolor": "white"
          },
          "yaxis": {
           "automargin": true,
           "gridcolor": "white",
           "linecolor": "white",
           "showgrid": true,
           "tickcolor": "rgb(51,51,51)",
           "ticks": "outside",
           "title": {
            "standoff": 15
           },
           "zerolinecolor": "white"
          }
         }
        },
        "title": {
         "text": "Actual vs. 'Out-of-Sample' Forecast | ETH-USD"
        },
        "xaxis": {
         "title": {
          "text": "Time"
         }
        },
        "yaxis": {
         "title": {
          "text": "Values"
         }
        }
       }
      }
     },
     "metadata": {},
     "output_type": "display_data"
    }
   ],
   "source": [
    "prophet = create_model('prophet')\n",
    "tuned_prophet = tune_model(prophet)\n",
    "final_prophet = finalize_model(tuned_prophet)\n",
    "prophet_predictions = predict_model(final_prophet)\n",
    "plot_model(final_prophet, plot='forecast')\n"
   ]
  },
  {
   "cell_type": "markdown",
   "id": "57a323eb",
   "metadata": {},
   "source": [
    "Forecast BTC-USD using LSTM"
   ]
  },
  {
   "cell_type": "code",
   "execution_count": null,
   "id": "6772fd18",
   "metadata": {},
   "outputs": [],
   "source": [
    "import pandas as pd\n",
    "from neuralforecast import NeuralForecast\n",
    "from neuralforecast.models import LSTM\n",
    "from neuralforecast.losses.pytorch import MAE\n",
    "import matplotlib.pyplot as plt"
   ]
  },
  {
   "cell_type": "code",
   "execution_count": null,
   "id": "b94a1081",
   "metadata": {},
   "outputs": [],
   "source": [
    "# 1. Standardize columns\n",
    "df['ds'] = pd.to_datetime(df.index)  # Convert to datetime\n",
    "df['y'] = df['BTC-USD']                # Target variable\n"
   ]
  },
  {
   "cell_type": "code",
   "execution_count": null,
   "id": "b502a8b5",
   "metadata": {},
   "outputs": [],
   "source": [
    "# Add constant unique_id (since you only have BTC-USD)\n",
    "df['unique_id'] = 'BTC-USD'  # <- THIS FIXES THE ERROR\n"
   ]
  },
  {
   "cell_type": "code",
   "execution_count": null,
   "id": "384a7a29",
   "metadata": {},
   "outputs": [
    {
     "name": "stderr",
     "output_type": "stream",
     "text": [
      "Seed set to 1\n"
     ]
    }
   ],
   "source": [
    "# 2. Configure LSTM model\n",
    "lstm_model = LSTM(\n",
    "    h=30,                          # Forecast horizon (30 days)\n",
    "    input_size=60,                 # Lookback window (60 days)\n",
    "    max_steps=500,                 # Training iterations\n",
    "    #hidden_size=64,                # LSTM hidden units\n",
    "    loss=MAE(),                    # Loss function\n",
    "    scaler_type='standard'         # Normalize data\n",
    ")"
   ]
  },
  {
   "cell_type": "code",
   "execution_count": null,
   "id": "ef379bc1",
   "metadata": {},
   "outputs": [
    {
     "name": "stderr",
     "output_type": "stream",
     "text": [
      "GPU available: False, used: False\n",
      "TPU available: False, using: 0 TPU cores\n",
      "HPU available: False, using: 0 HPUs\n",
      "\n",
      "  | Name         | Type          | Params | Mode \n",
      "-------------------------------------------------------\n",
      "0 | loss         | MAE           | 0      | train\n",
      "1 | padder_train | ConstantPad1d | 0      | train\n",
      "2 | scaler       | TemporalNorm  | 0      | train\n",
      "3 | hist_encoder | LSTM          | 199 K  | train\n",
      "4 | mlp_decoder  | MLP           | 16.6 K | train\n",
      "-------------------------------------------------------\n",
      "215 K     Trainable params\n",
      "0         Non-trainable params\n",
      "215 K     Total params\n",
      "0.863     Total estimated model params size (MB)\n",
      "10        Modules in train mode\n",
      "0         Modules in eval mode\n"
     ]
    },
    {
     "data": {
      "application/vnd.jupyter.widget-view+json": {
       "model_id": "ca744736f91a43aab3389f50fa799bb8",
       "version_major": 2,
       "version_minor": 0
      },
      "text/plain": [
       "Sanity Checking: |          | 0/? [00:00<?, ?it/s]"
      ]
     },
     "metadata": {},
     "output_type": "display_data"
    },
    {
     "data": {
      "application/vnd.jupyter.widget-view+json": {
       "model_id": "fc010a288acd4a9187b784320388fb27",
       "version_major": 2,
       "version_minor": 0
      },
      "text/plain": [
       "Training: |          | 0/? [00:00<?, ?it/s]"
      ]
     },
     "metadata": {},
     "output_type": "display_data"
    },
    {
     "data": {
      "application/vnd.jupyter.widget-view+json": {
       "model_id": "b988be57a36d4f98a9a111bd5cbf007c",
       "version_major": 2,
       "version_minor": 0
      },
      "text/plain": [
       "Validation: |          | 0/? [00:00<?, ?it/s]"
      ]
     },
     "metadata": {},
     "output_type": "display_data"
    },
    {
     "data": {
      "application/vnd.jupyter.widget-view+json": {
       "model_id": "adc01e124f3740c1868f47ace45ad045",
       "version_major": 2,
       "version_minor": 0
      },
      "text/plain": [
       "Validation: |          | 0/? [00:00<?, ?it/s]"
      ]
     },
     "metadata": {},
     "output_type": "display_data"
    },
    {
     "data": {
      "application/vnd.jupyter.widget-view+json": {
       "model_id": "d43f0586034f48a49d790a8438c3cadf",
       "version_major": 2,
       "version_minor": 0
      },
      "text/plain": [
       "Validation: |          | 0/? [00:00<?, ?it/s]"
      ]
     },
     "metadata": {},
     "output_type": "display_data"
    },
    {
     "data": {
      "application/vnd.jupyter.widget-view+json": {
       "model_id": "0f52e54f55e24345bc9b47b7ccdac66d",
       "version_major": 2,
       "version_minor": 0
      },
      "text/plain": [
       "Validation: |          | 0/? [00:00<?, ?it/s]"
      ]
     },
     "metadata": {},
     "output_type": "display_data"
    },
    {
     "data": {
      "application/vnd.jupyter.widget-view+json": {
       "model_id": "f7d198aea4744f239f511e27e3ce16cc",
       "version_major": 2,
       "version_minor": 0
      },
      "text/plain": [
       "Validation: |          | 0/? [00:00<?, ?it/s]"
      ]
     },
     "metadata": {},
     "output_type": "display_data"
    },
    {
     "name": "stderr",
     "output_type": "stream",
     "text": [
      "`Trainer.fit` stopped: `max_steps=500` reached.\n",
      "GPU available: False, used: False\n",
      "TPU available: False, using: 0 TPU cores\n",
      "HPU available: False, using: 0 HPUs\n"
     ]
    },
    {
     "data": {
      "application/vnd.jupyter.widget-view+json": {
       "model_id": "b5ad80eda1a04b4f8c9ae10fd110c534",
       "version_major": 2,
       "version_minor": 0
      },
      "text/plain": [
       "Predicting: |          | 0/? [00:00<?, ?it/s]"
      ]
     },
     "metadata": {},
     "output_type": "display_data"
    }
   ],
   "source": [
    "# 3. Train and predict\n",
    "nf = NeuralForecast(models=[lstm_model], freq='D')\n",
    "nf.fit(df=df)\n",
    "forecast = nf.predict()"
   ]
  },
  {
   "cell_type": "code",
   "execution_count": null,
   "id": "b998759c",
   "metadata": {},
   "outputs": [
    {
     "data": {
      "image/png": "[encoded data removed]",
      "text/plain": [
       "<Figure size 1400x600 with 1 Axes>"
      ]
     },
     "metadata": {},
     "output_type": "display_data"
    }
   ],
   "source": [
    "# 4. Plot results\n",
    "plt.figure(figsize=(14, 6))\n",
    "plt.plot(df['ds'], df['y'], label='Historical')\n",
    "plt.plot(forecast['ds'], forecast['LSTM'], label='LSTM Forecast', color='red')\n",
    "plt.title('BTC-USD 30-Day LSTM Forecast')\n",
    "plt.legend()\n",
    "plt.grid()\n",
    "plt.show()"
   ]
  },
  {
   "cell_type": "code",
   "execution_count": null,
   "id": "2f22d41e",
   "metadata": {},
   "outputs": [],
   "source": [
    "#Add signal column and populate with argument to buy or sell if price exceeds or gets below $2000\n",
    "df['signal'] = 0  # 0 = hold, 1 = buy, -1 = sell\n",
    "\n",
    "for i in range(1, len(df)):\n",
    "    if df['y'].iloc[i] > df['y'].iloc[i-1] + 2000:\n",
    "        df['signal'].iloc[i] = 1\n",
    "    elif df['y'].iloc[i] < df['y'].iloc[i-1] - 2000:\n",
    "        df['signal'].iloc[i] = -1"
   ]
  },
  {
   "cell_type": "code",
   "execution_count": null,
   "id": "b5ebdd4a",
   "metadata": {},
   "outputs": [],
   "source": [
    "import plotly.graph_objects as go"
   ]
  },
  {
   "cell_type": "code",
   "execution_count": null,
   "id": "46b070cf",
   "metadata": {},
   "outputs": [
    {
     "data": {
      "application/vnd.plotly.v1+json": {
       "config": {
        "plotlyServerURL": "https://plot.ly"
       },
       "data": [
        {
         "mode": "lines",
         "name": "Historical BTC Price",
         "type": "scatter",
         "x": [
          "2024-04-10T00:00:00",
          "2024-04-11T00:00:00",
          "2024-04-12T00:00:00",
          "2024-04-13T00:00:00",
          "2024-04-14T00:00:00",
          "2024-04-15T00:00:00",
          "2024-04-16T00:00:00",
          "2024-04-17T00:00:00",
          "2024-04-18T00:00:00",
          "2024-04-19T00:00:00",
          "2024-04-20T00:00:00",
          "2024-04-21T00:00:00",
          "2024-04-22T00:00:00",
          "2024-04-23T00:00:00",
          "2024-04-24T00:00:00",
          "2024-04-25T00:00:00",
          "2024-04-26T00:00:00",
          "2024-04-27T00:00:00",
          "2024-04-28T00:00:00",
          "2024-04-29T00:00:00",
          "2024-04-30T00:00:00",
          "2024-05-01T00:00:00",
          "2024-05-02T00:00:00",
          "2024-05-03T00:00:00",
          "2024-05-04T00:00:00",
          "2024-05-05T00:00:00",
          "2024-05-06T00:00:00",
          "2024-05-07T00:00:00",
          "2024-05-08T00:00:00",
          "2024-05-09T00:00:00",
          "2024-05-10T00:00:00",
          "2024-05-11T00:00:00",
          "2024-05-12T00:00:00",
          "2024-05-13T00:00:00",
          "2024-05-14T00:00:00",
          "2024-05-15T00:00:00",
          "2024-05-16T00:00:00",
          "2024-05-17T00:00:00",
          "2024-05-18T00:00:00",
          "2024-05-19T00:00:00",
          "2024-05-20T00:00:00",
          "2024-05-21T00:00:00",
          "2024-05-22T00:00:00",
          "2024-05-23T00:00:00",
          "2024-05-24T00:00:00",
          "2024-05-25T00:00:00",
          "2024-05-26T00:00:00",
          "2024-05-27T00:00:00",
          "2024-05-28T00:00:00",
          "2024-05-29T00:00:00",
          "2024-05-30T00:00:00",
          "2024-05-31T00:00:00",
          "2024-06-01T00:00:00",
          "2024-06-02T00:00:00",
          "2024-06-03T00:00:00",
          "2024-06-04T00:00:00",
          "2024-06-05T00:00:00",
          "2024-06-06T00:00:00",
          "2024-06-07T00:00:00",
          "2024-06-08T00:00:00",
          "2024-06-09T00:00:00",
          "2024-06-10T00:00:00",
          "2024-06-11T00:00:00",
          "2024-06-12T00:00:00",
          "2024-06-13T00:00:00",
          "2024-06-14T00:00:00",
          "2024-06-15T00:00:00",
          "2024-06-16T00:00:00",
          "2024-06-17T00:00:00",
          "2024-06-18T00:00:00",
          "2024-06-19T00:00:00",
          "2024-06-20T00:00:00",
          "2024-06-21T00:00:00",
          "2024-06-22T00:00:00",
          "2024-06-23T00:00:00",
          "2024-06-24T00:00:00",
          "2024-06-25T00:00:00",
          "2024-06-26T00:00:00",
          "2024-06-27T00:00:00",
          "2024-06-28T00:00:00",
          "2024-06-29T00:00:00",
          "2024-06-30T00:00:00",
          "2024-07-01T00:00:00",
          "2024-07-02T00:00:00",
          "2024-07-03T00:00:00",
          "2024-07-04T00:00:00",
          "2024-07-05T00:00:00",
          "2024-07-06T00:00:00",
          "2024-07-07T00:00:00",
          "2024-07-08T00:00:00",
          "2024-07-09T00:00:00",
          "2024-07-10T00:00:00",
          "2024-07-11T00:00:00",
          "2024-07-12T00:00:00",
          "2024-07-13T00:00:00",
          "2024-07-14T00:00:00",
          "2024-07-15T00:00:00",
          "2024-07-16T00:00:00",
          "2024-07-17T00:00:00",
          "2024-07-18T00:00:00",
          "2024-07-19T00:00:00",
          "2024-07-20T00:00:00",
          "2024-07-21T00:00:00",
          "2024-07-22T00:00:00",
          "2024-07-23T00:00:00",
          "2024-07-24T00:00:00",
          "2024-07-25T00:00:00",
          "2024-07-26T00:00:00",
          "2024-07-27T00:00:00",
          "2024-07-28T00:00:00",
          "2024-07-29T00:00:00",
          "2024-07-30T00:00:00",
          "2024-07-31T00:00:00",
          "2024-08-01T00:00:00",
          "2024-08-02T00:00:00",
          "2024-08-03T00:00:00",
          "2024-08-04T00:00:00",
          "2024-08-05T00:00:00",
          "2024-08-06T00:00:00",
          "2024-08-07T00:00:00",
          "2024-08-08T00:00:00",
          "2024-08-09T00:00:00",
          "2024-08-10T00:00:00",
          "2024-08-11T00:00:00",
          "2024-08-12T00:00:00",
          "2024-08-13T00:00:00",
          "2024-08-14T00:00:00",
          "2024-08-15T00:00:00",
          "2024-08-16T00:00:00",
          "2024-08-17T00:00:00",
          "2024-08-18T00:00:00",
          "2024-08-19T00:00:00",
          "2024-08-20T00:00:00",
          "2024-08-21T00:00:00",
          "2024-08-22T00:00:00",
          "2024-08-23T00:00:00",
          "2024-08-24T00:00:00",
          "2024-08-25T00:00:00",
          "2024-08-26T00:00:00",
          "2024-08-27T00:00:00",
          "2024-08-28T00:00:00",
          "2024-08-29T00:00:00",
          "2024-08-30T00:00:00",
          "2024-08-31T00:00:00",
          "2024-09-01T00:00:00",
          "2024-09-02T00:00:00",
          "2024-09-03T00:00:00",
          "2024-09-04T00:00:00",
          "2024-09-05T00:00:00",
          "2024-09-06T00:00:00",
          "2024-09-07T00:00:00",
          "2024-09-08T00:00:00",
          "2024-09-09T00:00:00",
          "2024-09-10T00:00:00",
          "2024-09-11T00:00:00",
          "2024-09-12T00:00:00",
          "2024-09-13T00:00:00",
          "2024-09-14T00:00:00",
          "2024-09-15T00:00:00",
          "2024-09-16T00:00:00",
          "2024-09-17T00:00:00",
          "2024-09-18T00:00:00",
          "2024-09-19T00:00:00",
          "2024-09-20T00:00:00",
          "2024-09-21T00:00:00",
          "2024-09-22T00:00:00",
          "2024-09-23T00:00:00",
          "2024-09-24T00:00:00",
          "2024-09-25T00:00:00",
          "2024-09-26T00:00:00",
          "2024-09-27T00:00:00",
          "2024-09-28T00:00:00",
          "2024-09-29T00:00:00",
          "2024-09-30T00:00:00",
          "2024-10-01T00:00:00",
          "2024-10-02T00:00:00",
          "2024-10-03T00:00:00",
          "2024-10-04T00:00:00",
          "2024-10-05T00:00:00",
          "2024-10-06T00:00:00",
          "2024-10-07T00:00:00",
          "2024-10-08T00:00:00",
          "2024-10-09T00:00:00",
          "2024-10-10T00:00:00",
          "2024-10-11T00:00:00",
          "2024-10-12T00:00:00",
          "2024-10-13T00:00:00",
          "2024-10-14T00:00:00",
          "2024-10-15T00:00:00",
          "2024-10-16T00:00:00",
          "2024-10-17T00:00:00",
          "2024-10-18T00:00:00",
          "2024-10-19T00:00:00",
          "2024-10-20T00:00:00",
          "2024-10-21T00:00:00",
          "2024-10-22T00:00:00",
          "2024-10-23T00:00:00",
          "2024-10-24T00:00:00",
          "2024-10-25T00:00:00",
          "2024-10-26T00:00:00",
          "2024-10-27T00:00:00",
          "2024-10-28T00:00:00",
          "2024-10-29T00:00:00",
          "2024-10-30T00:00:00",
          "2024-10-31T00:00:00",
          "2024-11-01T00:00:00",
          "2024-11-02T00:00:00",
          "2024-11-03T00:00:00",
          "2024-11-04T00:00:00",
          "2024-11-05T00:00:00",
          "2024-11-06T00:00:00",
          "2024-11-07T00:00:00",
          "2024-11-08T00:00:00",
          "2024-11-09T00:00:00",
          "2024-11-10T00:00:00",
          "2024-11-11T00:00:00",
          "2024-11-12T00:00:00",
          "2024-11-13T00:00:00",
          "2024-11-14T00:00:00",
          "2024-11-15T00:00:00",
          "2024-11-16T00:00:00",
          "2024-11-17T00:00:00",
          "2024-11-18T00:00:00",
          "2024-11-19T00:00:00",
          "2024-11-20T00:00:00",
          "2024-11-21T00:00:00",
          "2024-11-22T00:00:00",
          "2024-11-23T00:00:00",
          "2024-11-24T00:00:00",
          "2024-11-25T00:00:00",
          "2024-11-26T00:00:00",
          "2024-11-27T00:00:00",
          "2024-11-28T00:00:00",
          "2024-11-29T00:00:00",
          "2024-11-30T00:00:00",
          "2024-12-01T00:00:00",
          "2024-12-02T00:00:00",
          "2024-12-03T00:00:00",
          "2024-12-04T00:00:00",
          "2024-12-05T00:00:00",
          "2024-12-06T00:00:00",
          "2024-12-07T00:00:00",
          "2024-12-08T00:00:00",
          "2024-12-09T00:00:00",
          "2024-12-10T00:00:00",
          "2024-12-11T00:00:00",
          "2024-12-12T00:00:00",
          "2024-12-13T00:00:00",
          "2024-12-14T00:00:00",
          "2024-12-15T00:00:00",
          "2024-12-16T00:00:00",
          "2024-12-17T00:00:00",
          "2024-12-18T00:00:00",
          "2024-12-19T00:00:00",
          "2024-12-20T00:00:00",
          "2024-12-21T00:00:00",
          "2024-12-22T00:00:00",
          "2024-12-23T00:00:00",
          "2024-12-24T00:00:00",
          "2024-12-25T00:00:00",
          "2024-12-26T00:00:00",
          "2024-12-27T00:00:00",
          "2024-12-28T00:00:00",
          "2024-12-29T00:00:00",
          "2024-12-30T00:00:00",
          "2024-12-31T00:00:00",
          "2025-01-01T00:00:00",
          "2025-01-02T00:00:00",
          "2025-01-03T00:00:00",
          "2025-01-04T00:00:00",
          "2025-01-05T00:00:00",
          "2025-01-06T00:00:00",
          "2025-01-07T00:00:00",
          "2025-01-08T00:00:00",
          "2025-01-09T00:00:00",
          "2025-01-10T00:00:00",
          "2025-01-11T00:00:00",
          "2025-01-12T00:00:00",
          "2025-01-13T00:00:00",
          "2025-01-14T00:00:00",
          "2025-01-15T00:00:00",
          "2025-01-16T00:00:00",
          "2025-01-17T00:00:00",
          "2025-01-18T00:00:00",
          "2025-01-19T00:00:00",
          "2025-01-20T00:00:00",
          "2025-01-21T00:00:00",
          "2025-01-22T00:00:00",
          "2025-01-23T00:00:00",
          "2025-01-24T00:00:00",
          "2025-01-25T00:00:00",
          "2025-01-26T00:00:00",
          "2025-01-27T00:00:00",
          "2025-01-28T00:00:00",
          "2025-01-29T00:00:00",
          "2025-01-30T00:00:00",
          "2025-01-31T00:00:00",
          "2025-02-01T00:00:00",
          "2025-02-02T00:00:00",
          "2025-02-03T00:00:00",
          "2025-02-04T00:00:00",
          "2025-02-05T00:00:00",
          "2025-02-06T00:00:00",
          "2025-02-07T00:00:00",
          "2025-02-08T00:00:00",
          "2025-02-09T00:00:00",
          "2025-02-10T00:00:00",
          "2025-02-11T00:00:00",
          "2025-02-12T00:00:00",
          "2025-02-13T00:00:00",
          "2025-02-14T00:00:00",
          "2025-02-15T00:00:00",
          "2025-02-16T00:00:00",
          "2025-02-17T00:00:00",
          "2025-02-18T00:00:00",
          "2025-02-19T00:00:00",
          "2025-02-20T00:00:00",
          "2025-02-21T00:00:00",
          "2025-02-22T00:00:00",
          "2025-02-23T00:00:00",
          "2025-02-24T00:00:00",
          "2025-02-25T00:00:00",
          "2025-02-26T00:00:00",
          "2025-02-27T00:00:00",
          "2025-02-28T00:00:00",
          "2025-03-01T00:00:00",
          "2025-03-02T00:00:00",
          "2025-03-03T00:00:00",
          "2025-03-04T00:00:00",
          "2025-03-05T00:00:00",
          "2025-03-06T00:00:00",
          "2025-03-07T00:00:00",
          "2025-03-08T00:00:00",
          "2025-03-09T00:00:00",
          "2025-03-10T00:00:00",
          "2025-03-11T00:00:00",
          "2025-03-12T00:00:00",
          "2025-03-13T00:00:00",
          "2025-03-14T00:00:00",
          "2025-03-15T00:00:00",
          "2025-03-16T00:00:00",
          "2025-03-17T00:00:00",
          "2025-03-18T00:00:00",
          "2025-03-19T00:00:00",
          "2025-03-20T00:00:00",
          "2025-03-21T00:00:00",
          "2025-03-22T00:00:00",
          "2025-03-23T00:00:00",
          "2025-03-24T00:00:00",
          "2025-03-25T00:00:00",
          "2025-03-26T00:00:00",
          "2025-03-27T00:00:00",
          "2025-03-28T00:00:00",
          "2025-03-29T00:00:00",
          "2025-03-30T00:00:00",
          "2025-03-31T00:00:00",
          "2025-04-01T00:00:00",
          "2025-04-02T00:00:00",
          "2025-04-03T00:00:00",
          "2025-04-04T00:00:00",
          "2025-04-05T00:00:00",
          "2025-04-06T00:00:00",
          "2025-04-07T00:00:00",
          "2025-04-08T00:00:00",
          "2025-04-09T00:00:00"
         ],
         "y": {
          "bdata": "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",
          "dtype": "f8"
         }
        },
        {
         "name": "LSTM Forecast",
         "type": "scatter",
         "x": [
          "2025-04-10T00:00:00",
          "2025-04-11T00:00:00",
          "2025-04-12T00:00:00",
          "2025-04-13T00:00:00",
          "2025-04-14T00:00:00",
          "2025-04-15T00:00:00",
          "2025-04-16T00:00:00",
          "2025-04-17T00:00:00",
          "2025-04-18T00:00:00",
          "2025-04-19T00:00:00",
          "2025-04-20T00:00:00",
          "2025-04-21T00:00:00",
          "2025-04-22T00:00:00",
          "2025-04-23T00:00:00",
          "2025-04-24T00:00:00",
          "2025-04-25T00:00:00",
          "2025-04-26T00:00:00",
          "2025-04-27T00:00:00",
          "2025-04-28T00:00:00",
          "2025-04-29T00:00:00",
          "2025-04-30T00:00:00",
          "2025-05-01T00:00:00",
          "2025-05-02T00:00:00",
          "2025-05-03T00:00:00",
          "2025-05-04T00:00:00",
          "2025-05-05T00:00:00",
          "2025-05-06T00:00:00",
          "2025-05-07T00:00:00",
          "2025-05-08T00:00:00",
          "2025-05-09T00:00:00"
         ],
         "y": {
          "bdata": "+2+MR7CPjkeh8JNHgqaZR0SDnkcHWaFHH5GiR5LQokdRxKJHPc6iR30co0f5v6NH3bakRyDIpUeJuqZHw4SnR55+qEfh4alHxKWrRyxnrUe7Eq5HvbuuR8j0rkdmF69HIXWvRyMXsEegd7BHaSiwR8KYrkeKV6xH",
          "dtype": "f4"
         }
        },
        {
         "marker": {
          "color": "green",
          "size": 6,
          "symbol": "circle"
         },
         "mode": "markers",
         "name": "Buy Signal",
         "type": "scatter",
         "x": [
          "2024-04-18T00:00:00",
          "2024-05-03T00:00:00",
          "2024-05-15T00:00:00",
          "2024-05-20T00:00:00",
          "2024-07-15T00:00:00",
          "2024-07-19T00:00:00",
          "2024-07-26T00:00:00",
          "2024-08-06T00:00:00",
          "2024-08-08T00:00:00",
          "2024-08-21T00:00:00",
          "2024-08-23T00:00:00",
          "2024-09-09T00:00:00",
          "2024-09-13T00:00:00",
          "2024-09-17T00:00:00",
          "2024-09-26T00:00:00",
          "2024-10-11T00:00:00",
          "2024-10-14T00:00:00",
          "2024-10-29T00:00:00",
          "2024-11-06T00:00:00",
          "2024-11-10T00:00:00",
          "2024-11-11T00:00:00",
          "2024-11-13T00:00:00",
          "2024-11-15T00:00:00",
          "2024-11-21T00:00:00",
          "2024-11-27T00:00:00",
          "2024-12-04T00:00:00",
          "2024-12-06T00:00:00",
          "2024-12-11T00:00:00",
          "2024-12-15T00:00:00",
          "2024-12-24T00:00:00",
          "2025-01-02T00:00:00",
          "2025-01-06T00:00:00",
          "2025-01-10T00:00:00",
          "2025-01-14T00:00:00",
          "2025-01-15T00:00:00",
          "2025-01-17T00:00:00",
          "2025-01-21T00:00:00",
          "2025-01-29T00:00:00",
          "2025-02-03T00:00:00",
          "2025-02-12T00:00:00",
          "2025-03-02T00:00:00",
          "2025-03-05T00:00:00",
          "2025-03-11T00:00:00",
          "2025-03-14T00:00:00",
          "2025-03-19T00:00:00",
          "2025-03-23T00:00:00",
          "2025-04-01T00:00:00"
         ],
         "y": {
          "bdata": "AAAAIBgD70AAAADAOrXuQAAAAOC3LfBAAAAAIINx8UAAAADgxKzvQAAAAIBiSfBAAAAAAIGU8EAAAAAgSlzrQAAAAGDEIe5AAAAAIObe7UAAAABgy0vvQAAAACBx1+tAAAAAoGmT7UAAAABAkXLtQAAAAKCg0+9AAAAA4KJ97kAAAAAA4h/wQAAAAOAHwfFAAAAAQHF38kAAAAAAo6XzQAAAAMDXp/VAAAAAoIId9kAAAAAgoDv2QAAAAKCLDPhAAAAAgKht90AAAACACB34QAAAAGALZfhAAAAAgFCz+EAAAAAgq3b5QAAAAIBBF/hAAAAAAG6n90AAAABg4ev4QAAAAEDXHvdAAAAAwGCR90AAAADgh4n4QAAAAKDggPlAAAAAQCTq+UAAAABgc1H5QAAAAMDWwfhAAAAAwN3l90AAAACghQL3QAAAAAD5H/ZAAAAAYOM69EAAAACgEYD0QAAAAKBjNPVAAAAAAGYC9UAAAADAEsv0QA==",
          "dtype": "f8"
         }
        },
        {
         "marker": {
          "color": "red",
          "size": 6,
          "symbol": "circle"
         },
         "mode": "markers",
         "name": "Sell Signal",
         "type": "scatter",
         "x": [
          "2024-04-12T00:00:00",
          "2024-04-13T00:00:00",
          "2024-04-15T00:00:00",
          "2024-04-17T00:00:00",
          "2024-04-24T00:00:00",
          "2024-04-30T00:00:00",
          "2024-05-01T00:00:00",
          "2024-05-10T00:00:00",
          "2024-06-11T00:00:00",
          "2024-06-24T00:00:00",
          "2024-07-04T00:00:00",
          "2024-07-07T00:00:00",
          "2024-08-02T00:00:00",
          "2024-08-04T00:00:00",
          "2024-08-05T00:00:00",
          "2024-08-11T00:00:00",
          "2024-08-27T00:00:00",
          "2024-09-06T00:00:00",
          "2024-09-30T00:00:00",
          "2024-10-01T00:00:00",
          "2024-10-31T00:00:00",
          "2024-11-14T00:00:00",
          "2024-11-25T00:00:00",
          "2024-12-05T00:00:00",
          "2024-12-09T00:00:00",
          "2024-12-18T00:00:00",
          "2024-12-19T00:00:00",
          "2024-12-22T00:00:00",
          "2024-12-26T00:00:00",
          "2025-01-07T00:00:00",
          "2025-01-09T00:00:00",
          "2025-01-19T00:00:00",
          "2025-01-22T00:00:00",
          "2025-01-26T00:00:00",
          "2025-01-31T00:00:00",
          "2025-02-02T00:00:00",
          "2025-02-04T00:00:00",
          "2025-02-21T00:00:00",
          "2025-02-24T00:00:00",
          "2025-02-25T00:00:00",
          "2025-02-26T00:00:00",
          "2025-03-03T00:00:00",
          "2025-03-07T00:00:00",
          "2025-03-09T00:00:00",
          "2025-03-10T00:00:00",
          "2025-03-13T00:00:00",
          "2025-03-20T00:00:00",
          "2025-03-28T00:00:00",
          "2025-04-02T00:00:00",
          "2025-04-06T00:00:00",
          "2025-04-08T00:00:00"
         ],
         "y": {
          "bdata": "AAAA4L1n8EAAAAAgrynvQAAAAMBG+O5AAAAAIJbr7UAAAADAnGLvQAAAAGCbm+1AAAAAYMBx7EAAAADgGK/tQAAAAIBAcPBAAAAAQK1u7UAAAACANtLrQAAAAIAjRetAAAAAIOL87UAAAABAn2DsQAAAAKDuXOpAAAAAgO+r7EAAAABABA7tQAAAACCYV+pAAAAAADDs7kAAAABAoLTtQAAAAABzJPFAAAAA4CZN9UAAAADA5Lr2QAAAACAZlfdAAAAAgIvJ90AAAACgmGz4QAAAAEAvzfdAAAAAAA8490AAAABAOGP3QAAAAECrqfdAAAAAoECU9kAAAADAGa74QAAAACBRTvlAAAAAAKgR+UAAAABgUAD5QAAAAKCP2fdAAAAAIP3k90AAAADA2Hf3QAAAAMCiUfZAAAAAwAKq9UAAAABgsJf0QAAAAMAaA/VAAAAAwGot9UAAAACgkK3zQAAAAABALPNAAAAAQKvK80AAAAAgc4z0QAAAAGASmPRAAAAAYFsj9EAAAADAZxjzQAAAAED/nvJA",
          "dtype": "f8"
         }
        }
       ],
       "layout": {
        "template": {
         "data": {
          "bar": [
           {
            "error_x": {
             "color": "#2a3f5f"
            },
            "error_y": {
             "color": "#2a3f5f"
            },
            "marker": {
             "line": {
              "color": "white",
              "width": 0.5
             },
             "pattern": {
              "fillmode": "overlay",
              "size": 10,
              "solidity": 0.2
             }
            },
            "type": "bar"
           }
          ],
          "barpolar": [
           {
            "marker": {
             "line": {
              "color": "white",
              "width": 0.5
             },
             "pattern": {
              "fillmode": "overlay",
              "size": 10,
              "solidity": 0.2
             }
            },
            "type": "barpolar"
           }
          ],
          "carpet": [
           {
            "aaxis": {
             "endlinecolor": "#2a3f5f",
             "gridcolor": "#C8D4E3",
             "linecolor": "#C8D4E3",
             "minorgridcolor": "#C8D4E3",
             "startlinecolor": "#2a3f5f"
            },
            "baxis": {
             "endlinecolor": "#2a3f5f",
             "gridcolor": "#C8D4E3",
             "linecolor": "#C8D4E3",
             "minorgridcolor": "#C8D4E3",
             "startlinecolor": "#2a3f5f"
            },
            "type": "carpet"
           }
          ],
          "choropleth": [
           {
            "colorbar": {
             "outlinewidth": 0,
             "ticks": ""
            },
            "type": "choropleth"
           }
          ],
          "contour": [
           {
            "colorbar": {
             "outlinewidth": 0,
             "ticks": ""
            },
            "colorscale": [
             [
              0,
              "#0d0887"
             ],
             [
              0.1111111111111111,
              "#46039f"
             ],
             [
              0.2222222222222222,
              "#7201a8"
             ],
             [
              0.3333333333333333,
              "#9c179e"
             ],
             [
              0.4444444444444444,
              "#bd3786"
             ],
             [
              0.5555555555555556,
              "#d8576b"
             ],
             [
              0.6666666666666666,
              "#ed7953"
             ],
             [
              0.7777777777777778,
              "#fb9f3a"
             ],
             [
              0.8888888888888888,
              "#fdca26"
             ],
             [
              1,
              "#f0f921"
             ]
            ],
            "type": "contour"
           }
          ],
          "contourcarpet": [
           {
            "colorbar": {
             "outlinewidth": 0,
             "ticks": ""
            },
            "type": "contourcarpet"
           }
          ],
          "heatmap": [
           {
            "colorbar": {
             "outlinewidth": 0,
             "ticks": ""
            },
            "colorscale": [
             [
              0,
              "#0d0887"
             ],
             [
              0.1111111111111111,
              "#46039f"
             ],
             [
              0.2222222222222222,
              "#7201a8"
             ],
             [
              0.3333333333333333,
              "#9c179e"
             ],
             [
              0.4444444444444444,
              "#bd3786"
             ],
             [
              0.5555555555555556,
              "#d8576b"
             ],
             [
              0.6666666666666666,
              "#ed7953"
             ],
             [
              0.7777777777777778,
              "#fb9f3a"
             ],
             [
              0.8888888888888888,
              "#fdca26"
             ],
             [
              1,
              "#f0f921"
             ]
            ],
            "type": "heatmap"
           }
          ],
          "histogram": [
           {
            "marker": {
             "pattern": {
              "fillmode": "overlay",
              "size": 10,
              "solidity": 0.2
             }
            },
            "type": "histogram"
           }
          ],
          "histogram2d": [
           {
            "colorbar": {
             "outlinewidth": 0,
             "ticks": ""
            },
            "colorscale": [
             [
              0,
              "#0d0887"
             ],
             [
              0.1111111111111111,
              "#46039f"
             ],
             [
              0.2222222222222222,
              "#7201a8"
             ],
             [
              0.3333333333333333,
              "#9c179e"
             ],
             [
              0.4444444444444444,
              "#bd3786"
             ],
             [
              0.5555555555555556,
              "#d8576b"
             ],
             [
              0.6666666666666666,
              "#ed7953"
             ],
             [
              0.7777777777777778,
              "#fb9f3a"
             ],
             [
              0.8888888888888888,
              "#fdca26"
             ],
             [
              1,
              "#f0f921"
             ]
            ],
            "type": "histogram2d"
           }
          ],
          "histogram2dcontour": [
           {
            "colorbar": {
             "outlinewidth": 0,
             "ticks": ""
            },
            "colorscale": [
             [
              0,
              "#0d0887"
             ],
             [
              0.1111111111111111,
              "#46039f"
             ],
             [
              0.2222222222222222,
              "#7201a8"
             ],
             [
              0.3333333333333333,
              "#9c179e"
             ],
             [
              0.4444444444444444,
              "#bd3786"
             ],
             [
              0.5555555555555556,
              "#d8576b"
             ],
             [
              0.6666666666666666,
              "#ed7953"
             ],
             [
              0.7777777777777778,
              "#fb9f3a"
             ],
             [
              0.8888888888888888,
              "#fdca26"
             ],
             [
              1,
              "#f0f921"
             ]
            ],
            "type": "histogram2dcontour"
           }
          ],
          "mesh3d": [
           {
            "colorbar": {
             "outlinewidth": 0,
             "ticks": ""
            },
            "type": "mesh3d"
           }
          ],
          "parcoords": [
           {
            "line": {
             "colorbar": {
              "outlinewidth": 0,
              "ticks": ""
             }
            },
            "type": "parcoords"
           }
          ],
          "pie": [
           {
            "automargin": true,
            "type": "pie"
           }
          ],
          "scatter": [
           {
            "fillpattern": {
             "fillmode": "overlay",
             "size": 10,
             "solidity": 0.2
            },
            "type": "scatter"
           }
          ],
          "scatter3d": [
           {
            "line": {
             "colorbar": {
              "outlinewidth": 0,
              "ticks": ""
             }
            },
            "marker": {
             "colorbar": {
              "outlinewidth": 0,
              "ticks": ""
             }
            },
            "type": "scatter3d"
           }
          ],
          "scattercarpet": [
           {
            "marker": {
             "colorbar": {
              "outlinewidth": 0,
              "ticks": ""
             }
            },
            "type": "scattercarpet"
           }
          ],
          "scattergeo": [
           {
            "marker": {
             "colorbar": {
              "outlinewidth": 0,
              "ticks": ""
             }
            },
            "type": "scattergeo"
           }
          ],
          "scattergl": [
           {
            "marker": {
             "colorbar": {
              "outlinewidth": 0,
              "ticks": ""
             }
            },
            "type": "scattergl"
           }
          ],
          "scattermap": [
           {
            "marker": {
             "colorbar": {
              "outlinewidth": 0,
              "ticks": ""
             }
            },
            "type": "scattermap"
           }
          ],
          "scattermapbox": [
           {
            "marker": {
             "colorbar": {
              "outlinewidth": 0,
              "ticks": ""
             }
            },
            "type": "scattermapbox"
           }
          ],
          "scatterpolar": [
           {
            "marker": {
             "colorbar": {
              "outlinewidth": 0,
              "ticks": ""
             }
            },
            "type": "scatterpolar"
           }
          ],
          "scatterpolargl": [
           {
            "marker": {
             "colorbar": {
              "outlinewidth": 0,
              "ticks": ""
             }
            },
            "type": "scatterpolargl"
           }
          ],
          "scatterternary": [
           {
            "marker": {
             "colorbar": {
              "outlinewidth": 0,
              "ticks": ""
             }
            },
            "type": "scatterternary"
           }
          ],
          "surface": [
           {
            "colorbar": {
             "outlinewidth": 0,
             "ticks": ""
            },
            "colorscale": [
             [
              0,
              "#0d0887"
             ],
             [
              0.1111111111111111,
              "#46039f"
             ],
             [
              0.2222222222222222,
              "#7201a8"
             ],
             [
              0.3333333333333333,
              "#9c179e"
             ],
             [
              0.4444444444444444,
              "#bd3786"
             ],
             [
              0.5555555555555556,
              "#d8576b"
             ],
             [
              0.6666666666666666,
              "#ed7953"
             ],
             [
              0.7777777777777778,
              "#fb9f3a"
             ],
             [
              0.8888888888888888,
              "#fdca26"
             ],
             [
              1,
              "#f0f921"
             ]
            ],
            "type": "surface"
           }
          ],
          "table": [
           {
            "cells": {
             "fill": {
              "color": "#EBF0F8"
             },
             "line": {
              "color": "white"
             }
            },
            "header": {
             "fill": {
              "color": "#C8D4E3"
             },
             "line": {
              "color": "white"
             }
            },
            "type": "table"
           }
          ]
         },
         "layout": {
          "annotationdefaults": {
           "arrowcolor": "#2a3f5f",
           "arrowhead": 0,
           "arrowwidth": 1
          },
          "autotypenumbers": "strict",
          "coloraxis": {
           "colorbar": {
            "outlinewidth": 0,
            "ticks": ""
           }
          },
          "colorscale": {
           "diverging": [
            [
             0,
             "#8e0152"
            ],
            [
             0.1,
             "#c51b7d"
            ],
            [
             0.2,
             "#de77ae"
            ],
            [
             0.3,
             "#f1b6da"
            ],
            [
             0.4,
             "#fde0ef"
            ],
            [
             0.5,
             "#f7f7f7"
            ],
            [
             0.6,
             "#e6f5d0"
            ],
            [
             0.7,
             "#b8e186"
            ],
            [
             0.8,
             "#7fbc41"
            ],
            [
             0.9,
             "#4d9221"
            ],
            [
             1,
             "#276419"
            ]
           ],
           "sequential": [
            [
             0,
             "#0d0887"
            ],
            [
             0.1111111111111111,
             "#46039f"
            ],
            [
             0.2222222222222222,
             "#7201a8"
            ],
            [
             0.3333333333333333,
             "#9c179e"
            ],
            [
             0.4444444444444444,
             "#bd3786"
            ],
            [
             0.5555555555555556,
             "#d8576b"
            ],
            [
             0.6666666666666666,
             "#ed7953"
            ],
            [
             0.7777777777777778,
             "#fb9f3a"
            ],
            [
             0.8888888888888888,
             "#fdca26"
            ],
            [
             1,
             "#f0f921"
            ]
           ],
           "sequentialminus": [
            [
             0,
             "#0d0887"
            ],
            [
             0.1111111111111111,
             "#46039f"
            ],
            [
             0.2222222222222222,
             "#7201a8"
            ],
            [
             0.3333333333333333,
             "#9c179e"
            ],
            [
             0.4444444444444444,
             "#bd3786"
            ],
            [
             0.5555555555555556,
             "#d8576b"
            ],
            [
             0.6666666666666666,
             "#ed7953"
            ],
            [
             0.7777777777777778,
             "#fb9f3a"
            ],
            [
             0.8888888888888888,
             "#fdca26"
            ],
            [
             1,
             "#f0f921"
            ]
           ]
          },
          "colorway": [
           "#636efa",
           "#EF553B",
           "#00cc96",
           "#ab63fa",
           "#FFA15A",
           "#19d3f3",
           "#FF6692",
           "#B6E880",
           "#FF97FF",
           "#FECB52"
          ],
          "font": {
           "color": "#2a3f5f"
          },
          "geo": {
           "bgcolor": "white",
           "lakecolor": "white",
           "landcolor": "white",
           "showlakes": true,
           "showland": true,
           "subunitcolor": "#C8D4E3"
          },
          "hoverlabel": {
           "align": "left"
          },
          "hovermode": "closest",
          "mapbox": {
           "style": "light"
          },
          "paper_bgcolor": "white",
          "plot_bgcolor": "white",
          "polar": {
           "angularaxis": {
            "gridcolor": "#EBF0F8",
            "linecolor": "#EBF0F8",
            "ticks": ""
           },
           "bgcolor": "white",
           "radialaxis": {
            "gridcolor": "#EBF0F8",
            "linecolor": "#EBF0F8",
            "ticks": ""
           }
          },
          "scene": {
           "xaxis": {
            "backgroundcolor": "white",
            "gridcolor": "#DFE8F3",
            "gridwidth": 2,
            "linecolor": "#EBF0F8",
            "showbackground": true,
            "ticks": "",
            "zerolinecolor": "#EBF0F8"
           },
           "yaxis": {
            "backgroundcolor": "white",
            "gridcolor": "#DFE8F3",
            "gridwidth": 2,
            "linecolor": "#EBF0F8",
            "showbackground": true,
            "ticks": "",
            "zerolinecolor": "#EBF0F8"
           },
           "zaxis": {
            "backgroundcolor": "white",
            "gridcolor": "#DFE8F3",
            "gridwidth": 2,
            "linecolor": "#EBF0F8",
            "showbackground": true,
            "ticks": "",
            "zerolinecolor": "#EBF0F8"
           }
          },
          "shapedefaults": {
           "line": {
            "color": "#2a3f5f"
           }
          },
          "ternary": {
           "aaxis": {
            "gridcolor": "#DFE8F3",
            "linecolor": "#A2B1C6",
            "ticks": ""
           },
           "baxis": {
            "gridcolor": "#DFE8F3",
            "linecolor": "#A2B1C6",
            "ticks": ""
           },
           "bgcolor": "white",
           "caxis": {
            "gridcolor": "#DFE8F3",
            "linecolor": "#A2B1C6",
            "ticks": ""
           }
          },
          "title": {
           "x": 0.05
          },
          "xaxis": {
           "automargin": true,
           "gridcolor": "#EBF0F8",
           "linecolor": "#EBF0F8",
           "ticks": "",
           "title": {
            "standoff": 15
           },
           "zerolinecolor": "#EBF0F8",
           "zerolinewidth": 2
          },
          "yaxis": {
           "automargin": true,
           "gridcolor": "#EBF0F8",
           "linecolor": "#EBF0F8",
           "ticks": "",
           "title": {
            "standoff": 15
           },
           "zerolinecolor": "#EBF0F8",
           "zerolinewidth": 2
          }
         }
        },
        "title": {
         "text": "BTC-USD Price Forecast with LSTM"
        },
        "xaxis": {
         "rangeselector": {
          "buttons": [
           {
            "count": 7,
            "label": "1w",
            "step": "day",
            "stepmode": "backward"
           },
           {
            "count": 1,
            "label": "1m",
            "step": "month",
            "stepmode": "backward"
           },
           {
            "count": 3,
            "label": "3m",
            "step": "month",
            "stepmode": "backward"
           },
           {
            "step": "all"
           }
          ]
         },
         "rangeslider": {
          "visible": true
         },
         "title": {
          "text": "Date"
         }
        },
        "yaxis": {
         "title": {
          "text": "Price (USD)"
         }
        }
       }
      }
     },
     "metadata": {},
     "output_type": "display_data"
    }
   ],
   "source": [
    "fig = go.Figure()\n",
    "\n",
    "# Add historical data trace\n",
    "fig.add_trace(go.Scatter(\n",
    "    x=df['ds'],\n",
    "    y=df['y'],\n",
    "    mode='lines',\n",
    "    name='Historical BTC Price'\n",
    "))\n",
    "fig.add_trace(go.Scatter(\n",
    "    x=forecast['ds'], \n",
    "    y = forecast['LSTM'], \n",
    "    name ='LSTM Forecast'\n",
    "))\n",
    "# Add Buy Signal Markers\n",
    "buy_signals = df[df['signal'] == 1]\n",
    "fig.add_trace(go.Scatter(\n",
    "    x=buy_signals['ds'],\n",
    "    y=buy_signals['y'],\n",
    "    mode='markers',\n",
    "    marker=dict(symbol='circle', size=6, color='green'),\n",
    "    name='Buy Signal'\n",
    "))\n",
    "\n",
    "# Add Sell Signal Markers\n",
    "sell_signals = df[df['signal'] == -1]\n",
    "fig.add_trace(go.Scatter(\n",
    "    x=sell_signals['ds'],\n",
    "    y=sell_signals['y'],\n",
    "    mode='markers',\n",
    "    marker=dict(symbol='circle', size=6, color='red'),\n",
    "    name='Sell Signal'\n",
    "))\n",
    "# Customize the layout\n",
    "fig.update_layout(\n",
    "    title='BTC-USD Price Forecast with LSTM',\n",
    "    xaxis_title='Date',\n",
    "    yaxis_title='Price (USD)',\n",
    "    template='plotly_white'  # Optional: Use a clean template\n",
    "\n",
    ")\n",
    "fig.update_xaxes(\n",
    "    rangeslider_visible=True,\n",
    "    rangeselector=dict(\n",
    "        buttons=list([\n",
    "            dict(count=7, label=\"1w\", step=\"day\", stepmode=\"backward\"),\n",
    "            dict(count=1, label=\"1m\", step=\"month\", stepmode=\"backward\"),\n",
    "            dict(count=3, label=\"3m\", step=\"month\", stepmode=\"backward\"),\n",
    "            dict(step=\"all\")\n",
    "        ])\n",
    "    )\n",
    ")\n",
    "# Show the plot\n",
    "fig.show()"
   ]
  }
 ],
 "metadata": {
  "kernelspec": {
   "display_name": "crypto",
   "language": "python",
   "name": "python3"
  },
  "language_info": {
   "codemirror_mode": {
    "name": "ipython",
    "version": 3
   },
   "file_extension": ".py",
   "mimetype": "text/x-python",
   "name": "python",
   "nbconvert_exporter": "python",
   "pygments_lexer": "ipython3",
   "version": "3.9.21"
  }
 },
 "nbformat": 4,
 "nbformat_minor": 5
}
