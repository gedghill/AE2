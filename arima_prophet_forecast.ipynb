{
 "cells": [
  {
   "cell_type": "code",
   "execution_count": 1,
   "id": "e5ed26bf",
   "metadata": {},
   "outputs": [],
   "source": [
    "import pandas as pd\n",
    "from pycaret.time_series import *\n",
    "import matplotlib.pyplot as plt\n",
    "from fetch_data import fetch_data"
   ]
  },
  {
   "cell_type": "code",
   "execution_count": 2,
   "id": "f872554e",
   "metadata": {},
   "outputs": [
    {
     "name": "stdout",
     "output_type": "stream",
     "text": [
      "YF.download() has changed argument auto_adjust default to True\n"
     ]
    },
    {
     "name": "stderr",
     "output_type": "stream",
     "text": [
      "[*********************100%***********************]  30 of 30 completed\n"
     ]
    }
   ],
   "source": [
    "df = fetch_data()"
   ]
  },
  {
   "cell_type": "code",
   "execution_count": 3,
   "id": "811ccd1b",
   "metadata": {},
   "outputs": [],
   "source": [
    "df.index = pd.to_datetime(df.index)\n",
    "df = df.sort_index()"
   ]
  },
  {
   "cell_type": "code",
   "execution_count": 4,
   "id": "5348b02a",
   "metadata": {},
   "outputs": [
    {
     "data": {
      "text/html": [
       "<div>\n",
       "<style scoped>\n",
       "    .dataframe tbody tr th:only-of-type {\n",
       "        vertical-align: middle;\n",
       "    }\n",
       "\n",
       "    .dataframe tbody tr th {\n",
       "        vertical-align: top;\n",
       "    }\n",
       "\n",
       "    .dataframe thead th {\n",
       "        text-align: right;\n",
       "    }\n",
       "</style>\n",
       "<table border=\"1\" class=\"dataframe\">\n",
       "  <thead>\n",
       "    <tr style=\"text-align: right;\">\n",
       "      <th></th>\n",
       "      <th>AAVE-USD</th>\n",
       "      <th>ADA-USD</th>\n",
       "      <th>ALGO-USD</th>\n",
       "      <th>ATOM-USD</th>\n",
       "      <th>AVAX-USD</th>\n",
       "      <th>BCH-USD</th>\n",
       "      <th>BNB-USD</th>\n",
       "      <th>BTC-USD</th>\n",
       "      <th>CHR-USD</th>\n",
       "      <th>DASH-USD</th>\n",
       "      <th>...</th>\n",
       "      <th>SOL-USD</th>\n",
       "      <th>THETA-USD</th>\n",
       "      <th>TRX-USD</th>\n",
       "      <th>UNI-USD</th>\n",
       "      <th>USDT-USD</th>\n",
       "      <th>VET-USD</th>\n",
       "      <th>WIF-USD</th>\n",
       "      <th>XLM-USD</th>\n",
       "      <th>XMR-USD</th>\n",
       "      <th>XRP-USD</th>\n",
       "    </tr>\n",
       "    <tr>\n",
       "      <th>Date</th>\n",
       "      <th></th>\n",
       "      <th></th>\n",
       "      <th></th>\n",
       "      <th></th>\n",
       "      <th></th>\n",
       "      <th></th>\n",
       "      <th></th>\n",
       "      <th></th>\n",
       "      <th></th>\n",
       "      <th></th>\n",
       "      <th></th>\n",
       "      <th></th>\n",
       "      <th></th>\n",
       "      <th></th>\n",
       "      <th></th>\n",
       "      <th></th>\n",
       "      <th></th>\n",
       "      <th></th>\n",
       "      <th></th>\n",
       "      <th></th>\n",
       "      <th></th>\n",
       "    </tr>\n",
       "  </thead>\n",
       "  <tbody>\n",
       "    <tr>\n",
       "      <th>2024-04-10</th>\n",
       "      <td>128.232162</td>\n",
       "      <td>0.586255</td>\n",
       "      <td>0.230523</td>\n",
       "      <td>10.810778</td>\n",
       "      <td>47.311695</td>\n",
       "      <td>629.482422</td>\n",
       "      <td>610.083923</td>\n",
       "      <td>70587.882812</td>\n",
       "      <td>0.394212</td>\n",
       "      <td>36.969437</td>\n",
       "      <td>...</td>\n",
       "      <td>173.437363</td>\n",
       "      <td>3.035096</td>\n",
       "      <td>0.119206</td>\n",
       "      <td>0.000212</td>\n",
       "      <td>1.000117</td>\n",
       "      <td>0.046501</td>\n",
       "      <td>3.624916</td>\n",
       "      <td>0.129653</td>\n",
       "      <td>133.582016</td>\n",
       "      <td>0.617561</td>\n",
       "    </tr>\n",
       "    <tr>\n",
       "      <th>2024-04-11</th>\n",
       "      <td>117.844589</td>\n",
       "      <td>0.586191</td>\n",
       "      <td>0.227998</td>\n",
       "      <td>10.755186</td>\n",
       "      <td>46.057598</td>\n",
       "      <td>614.317261</td>\n",
       "      <td>604.893799</td>\n",
       "      <td>70060.609375</td>\n",
       "      <td>0.392901</td>\n",
       "      <td>36.866966</td>\n",
       "      <td>...</td>\n",
       "      <td>172.576370</td>\n",
       "      <td>2.901548</td>\n",
       "      <td>0.120403</td>\n",
       "      <td>0.000210</td>\n",
       "      <td>1.000550</td>\n",
       "      <td>0.048192</td>\n",
       "      <td>3.459283</td>\n",
       "      <td>0.130300</td>\n",
       "      <td>133.369156</td>\n",
       "      <td>0.608880</td>\n",
       "    </tr>\n",
       "    <tr>\n",
       "      <th>2024-04-12</th>\n",
       "      <td>100.094933</td>\n",
       "      <td>0.503575</td>\n",
       "      <td>0.194067</td>\n",
       "      <td>9.387263</td>\n",
       "      <td>39.417744</td>\n",
       "      <td>534.766052</td>\n",
       "      <td>596.380127</td>\n",
       "      <td>67195.867188</td>\n",
       "      <td>0.334552</td>\n",
       "      <td>31.887470</td>\n",
       "      <td>...</td>\n",
       "      <td>153.635468</td>\n",
       "      <td>2.439062</td>\n",
       "      <td>0.114880</td>\n",
       "      <td>0.000202</td>\n",
       "      <td>1.000448</td>\n",
       "      <td>0.043033</td>\n",
       "      <td>2.672439</td>\n",
       "      <td>0.115299</td>\n",
       "      <td>122.996651</td>\n",
       "      <td>0.548414</td>\n",
       "    </tr>\n",
       "    <tr>\n",
       "      <th>2024-04-13</th>\n",
       "      <td>82.869781</td>\n",
       "      <td>0.447908</td>\n",
       "      <td>0.168352</td>\n",
       "      <td>8.092050</td>\n",
       "      <td>34.078411</td>\n",
       "      <td>481.483765</td>\n",
       "      <td>554.299805</td>\n",
       "      <td>63821.472656</td>\n",
       "      <td>0.326007</td>\n",
       "      <td>28.300234</td>\n",
       "      <td>...</td>\n",
       "      <td>139.341690</td>\n",
       "      <td>1.995765</td>\n",
       "      <td>0.110303</td>\n",
       "      <td>0.000192</td>\n",
       "      <td>1.001213</td>\n",
       "      <td>0.040311</td>\n",
       "      <td>2.345739</td>\n",
       "      <td>0.105686</td>\n",
       "      <td>115.678329</td>\n",
       "      <td>0.480819</td>\n",
       "    </tr>\n",
       "    <tr>\n",
       "      <th>2024-04-14</th>\n",
       "      <td>88.107071</td>\n",
       "      <td>0.468911</td>\n",
       "      <td>0.179547</td>\n",
       "      <td>8.361626</td>\n",
       "      <td>37.316444</td>\n",
       "      <td>527.900879</td>\n",
       "      <td>567.218445</td>\n",
       "      <td>65738.726562</td>\n",
       "      <td>0.339479</td>\n",
       "      <td>30.139847</td>\n",
       "      <td>...</td>\n",
       "      <td>151.284943</td>\n",
       "      <td>2.166781</td>\n",
       "      <td>0.112592</td>\n",
       "      <td>0.000197</td>\n",
       "      <td>1.001080</td>\n",
       "      <td>0.042974</td>\n",
       "      <td>3.052224</td>\n",
       "      <td>0.110763</td>\n",
       "      <td>121.533531</td>\n",
       "      <td>0.504258</td>\n",
       "    </tr>\n",
       "  </tbody>\n",
       "</table>\n",
       "<p>5 rows × 30 columns</p>\n",
       "</div>"
      ],
      "text/plain": [
       "              AAVE-USD   ADA-USD  ALGO-USD   ATOM-USD   AVAX-USD     BCH-USD  \\\n",
       "Date                                                                           \n",
       "2024-04-10  128.232162  0.586255  0.230523  10.810778  47.311695  629.482422   \n",
       "2024-04-11  117.844589  0.586191  0.227998  10.755186  46.057598  614.317261   \n",
       "2024-04-12  100.094933  0.503575  0.194067   9.387263  39.417744  534.766052   \n",
       "2024-04-13   82.869781  0.447908  0.168352   8.092050  34.078411  481.483765   \n",
       "2024-04-14   88.107071  0.468911  0.179547   8.361626  37.316444  527.900879   \n",
       "\n",
       "               BNB-USD       BTC-USD   CHR-USD   DASH-USD  ...     SOL-USD  \\\n",
       "Date                                                       ...               \n",
       "2024-04-10  610.083923  70587.882812  0.394212  36.969437  ...  173.437363   \n",
       "2024-04-11  604.893799  70060.609375  0.392901  36.866966  ...  172.576370   \n",
       "2024-04-12  596.380127  67195.867188  0.334552  31.887470  ...  153.635468   \n",
       "2024-04-13  554.299805  63821.472656  0.326007  28.300234  ...  139.341690   \n",
       "2024-04-14  567.218445  65738.726562  0.339479  30.139847  ...  151.284943   \n",
       "\n",
       "            THETA-USD   TRX-USD   UNI-USD  USDT-USD   VET-USD   WIF-USD  \\\n",
       "Date                                                                      \n",
       "2024-04-10   3.035096  0.119206  0.000212  1.000117  0.046501  3.624916   \n",
       "2024-04-11   2.901548  0.120403  0.000210  1.000550  0.048192  3.459283   \n",
       "2024-04-12   2.439062  0.114880  0.000202  1.000448  0.043033  2.672439   \n",
       "2024-04-13   1.995765  0.110303  0.000192  1.001213  0.040311  2.345739   \n",
       "2024-04-14   2.166781  0.112592  0.000197  1.001080  0.042974  3.052224   \n",
       "\n",
       "             XLM-USD     XMR-USD   XRP-USD  \n",
       "Date                                        \n",
       "2024-04-10  0.129653  133.582016  0.617561  \n",
       "2024-04-11  0.130300  133.369156  0.608880  \n",
       "2024-04-12  0.115299  122.996651  0.548414  \n",
       "2024-04-13  0.105686  115.678329  0.480819  \n",
       "2024-04-14  0.110763  121.533531  0.504258  \n",
       "\n",
       "[5 rows x 30 columns]"
      ]
     },
     "execution_count": 4,
     "metadata": {},
     "output_type": "execute_result"
    }
   ],
   "source": [
    "df.head()"
   ]
  },
  {
   "cell_type": "code",
   "execution_count": 5,
   "id": "896ba889",
   "metadata": {},
   "outputs": [
    {
     "name": "stdout",
     "output_type": "stream",
     "text": [
      "<class 'pandas.core.series.Series'>\n",
      "DatetimeIndex: 365 entries, 2024-04-10 to 2025-04-09\n",
      "Series name: BTC-USD\n",
      "Non-Null Count  Dtype  \n",
      "--------------  -----  \n",
      "365 non-null    float64\n",
      "dtypes: float64(1)\n",
      "memory usage: 5.7 KB\n"
     ]
    }
   ],
   "source": [
    "btc = df.loc[:,'BTC-USD']\n",
    "btc.info()"
   ]
  },
  {
   "cell_type": "code",
   "execution_count": 8,
   "id": "9956986e",
   "metadata": {},
   "outputs": [
    {
     "data": {
      "text/html": [
       "<style type=\"text/css\">\n",
       "#T_22d19_row25_col1, #T_22d19_row31_col1 {\n",
       "  background-color: lightgreen;\n",
       "}\n",
       "</style>\n",
       "<table id=\"T_22d19\">\n",
       "  <thead>\n",
       "    <tr>\n",
       "      <th class=\"blank level0\" >&nbsp;</th>\n",
       "      <th id=\"T_22d19_level0_col0\" class=\"col_heading level0 col0\" >Description</th>\n",
       "      <th id=\"T_22d19_level0_col1\" class=\"col_heading level0 col1\" >Value</th>\n",
       "    </tr>\n",
       "  </thead>\n",
       "  <tbody>\n",
       "    <tr>\n",
       "      <th id=\"T_22d19_level0_row0\" class=\"row_heading level0 row0\" >0</th>\n",
       "      <td id=\"T_22d19_row0_col0\" class=\"data row0 col0\" >session_id</td>\n",
       "      <td id=\"T_22d19_row0_col1\" class=\"data row0 col1\" >123</td>\n",
       "    </tr>\n",
       "    <tr>\n",
       "      <th id=\"T_22d19_level0_row1\" class=\"row_heading level0 row1\" >1</th>\n",
       "      <td id=\"T_22d19_row1_col0\" class=\"data row1 col0\" >Target</td>\n",
       "      <td id=\"T_22d19_row1_col1\" class=\"data row1 col1\" >BTC-USD</td>\n",
       "    </tr>\n",
       "    <tr>\n",
       "      <th id=\"T_22d19_level0_row2\" class=\"row_heading level0 row2\" >2</th>\n",
       "      <td id=\"T_22d19_row2_col0\" class=\"data row2 col0\" >Approach</td>\n",
       "      <td id=\"T_22d19_row2_col1\" class=\"data row2 col1\" >Univariate</td>\n",
       "    </tr>\n",
       "    <tr>\n",
       "      <th id=\"T_22d19_level0_row3\" class=\"row_heading level0 row3\" >3</th>\n",
       "      <td id=\"T_22d19_row3_col0\" class=\"data row3 col0\" >Exogenous Variables</td>\n",
       "      <td id=\"T_22d19_row3_col1\" class=\"data row3 col1\" >Not Present</td>\n",
       "    </tr>\n",
       "    <tr>\n",
       "      <th id=\"T_22d19_level0_row4\" class=\"row_heading level0 row4\" >4</th>\n",
       "      <td id=\"T_22d19_row4_col0\" class=\"data row4 col0\" >Original data shape</td>\n",
       "      <td id=\"T_22d19_row4_col1\" class=\"data row4 col1\" >(365, 1)</td>\n",
       "    </tr>\n",
       "    <tr>\n",
       "      <th id=\"T_22d19_level0_row5\" class=\"row_heading level0 row5\" >5</th>\n",
       "      <td id=\"T_22d19_row5_col0\" class=\"data row5 col0\" >Transformed data shape</td>\n",
       "      <td id=\"T_22d19_row5_col1\" class=\"data row5 col1\" >(365, 1)</td>\n",
       "    </tr>\n",
       "    <tr>\n",
       "      <th id=\"T_22d19_level0_row6\" class=\"row_heading level0 row6\" >6</th>\n",
       "      <td id=\"T_22d19_row6_col0\" class=\"data row6 col0\" >Transformed train set shape</td>\n",
       "      <td id=\"T_22d19_row6_col1\" class=\"data row6 col1\" >(335, 1)</td>\n",
       "    </tr>\n",
       "    <tr>\n",
       "      <th id=\"T_22d19_level0_row7\" class=\"row_heading level0 row7\" >7</th>\n",
       "      <td id=\"T_22d19_row7_col0\" class=\"data row7 col0\" >Transformed test set shape</td>\n",
       "      <td id=\"T_22d19_row7_col1\" class=\"data row7 col1\" >(30, 1)</td>\n",
       "    </tr>\n",
       "    <tr>\n",
       "      <th id=\"T_22d19_level0_row8\" class=\"row_heading level0 row8\" >8</th>\n",
       "      <td id=\"T_22d19_row8_col0\" class=\"data row8 col0\" >Rows with missing values</td>\n",
       "      <td id=\"T_22d19_row8_col1\" class=\"data row8 col1\" >0.0%</td>\n",
       "    </tr>\n",
       "    <tr>\n",
       "      <th id=\"T_22d19_level0_row9\" class=\"row_heading level0 row9\" >9</th>\n",
       "      <td id=\"T_22d19_row9_col0\" class=\"data row9 col0\" >Fold Generator</td>\n",
       "      <td id=\"T_22d19_row9_col1\" class=\"data row9 col1\" >ExpandingWindowSplitter</td>\n",
       "    </tr>\n",
       "    <tr>\n",
       "      <th id=\"T_22d19_level0_row10\" class=\"row_heading level0 row10\" >10</th>\n",
       "      <td id=\"T_22d19_row10_col0\" class=\"data row10 col0\" >Fold Number</td>\n",
       "      <td id=\"T_22d19_row10_col1\" class=\"data row10 col1\" >3</td>\n",
       "    </tr>\n",
       "    <tr>\n",
       "      <th id=\"T_22d19_level0_row11\" class=\"row_heading level0 row11\" >11</th>\n",
       "      <td id=\"T_22d19_row11_col0\" class=\"data row11 col0\" >Enforce Prediction Interval</td>\n",
       "      <td id=\"T_22d19_row11_col1\" class=\"data row11 col1\" >False</td>\n",
       "    </tr>\n",
       "    <tr>\n",
       "      <th id=\"T_22d19_level0_row12\" class=\"row_heading level0 row12\" >12</th>\n",
       "      <td id=\"T_22d19_row12_col0\" class=\"data row12 col0\" >Splits used for hyperparameters</td>\n",
       "      <td id=\"T_22d19_row12_col1\" class=\"data row12 col1\" >all</td>\n",
       "    </tr>\n",
       "    <tr>\n",
       "      <th id=\"T_22d19_level0_row13\" class=\"row_heading level0 row13\" >13</th>\n",
       "      <td id=\"T_22d19_row13_col0\" class=\"data row13 col0\" >User Defined Seasonal Period(s)</td>\n",
       "      <td id=\"T_22d19_row13_col1\" class=\"data row13 col1\" >D</td>\n",
       "    </tr>\n",
       "    <tr>\n",
       "      <th id=\"T_22d19_level0_row14\" class=\"row_heading level0 row14\" >14</th>\n",
       "      <td id=\"T_22d19_row14_col0\" class=\"data row14 col0\" >Ignore Seasonality Test</td>\n",
       "      <td id=\"T_22d19_row14_col1\" class=\"data row14 col1\" >False</td>\n",
       "    </tr>\n",
       "    <tr>\n",
       "      <th id=\"T_22d19_level0_row15\" class=\"row_heading level0 row15\" >15</th>\n",
       "      <td id=\"T_22d19_row15_col0\" class=\"data row15 col0\" >Seasonality Detection Algo</td>\n",
       "      <td id=\"T_22d19_row15_col1\" class=\"data row15 col1\" >user_defined</td>\n",
       "    </tr>\n",
       "    <tr>\n",
       "      <th id=\"T_22d19_level0_row16\" class=\"row_heading level0 row16\" >16</th>\n",
       "      <td id=\"T_22d19_row16_col0\" class=\"data row16 col0\" >Max Period to Consider</td>\n",
       "      <td id=\"T_22d19_row16_col1\" class=\"data row16 col1\" >60</td>\n",
       "    </tr>\n",
       "    <tr>\n",
       "      <th id=\"T_22d19_level0_row17\" class=\"row_heading level0 row17\" >17</th>\n",
       "      <td id=\"T_22d19_row17_col0\" class=\"data row17 col0\" >Seasonal Period(s) Tested</td>\n",
       "      <td id=\"T_22d19_row17_col1\" class=\"data row17 col1\" >[7]</td>\n",
       "    </tr>\n",
       "    <tr>\n",
       "      <th id=\"T_22d19_level0_row18\" class=\"row_heading level0 row18\" >18</th>\n",
       "      <td id=\"T_22d19_row18_col0\" class=\"data row18 col0\" >Significant Seasonal Period(s)</td>\n",
       "      <td id=\"T_22d19_row18_col1\" class=\"data row18 col1\" >[7]</td>\n",
       "    </tr>\n",
       "    <tr>\n",
       "      <th id=\"T_22d19_level0_row19\" class=\"row_heading level0 row19\" >19</th>\n",
       "      <td id=\"T_22d19_row19_col0\" class=\"data row19 col0\" >Significant Seasonal Period(s) without Harmonics</td>\n",
       "      <td id=\"T_22d19_row19_col1\" class=\"data row19 col1\" >[7]</td>\n",
       "    </tr>\n",
       "    <tr>\n",
       "      <th id=\"T_22d19_level0_row20\" class=\"row_heading level0 row20\" >20</th>\n",
       "      <td id=\"T_22d19_row20_col0\" class=\"data row20 col0\" >Remove Harmonics</td>\n",
       "      <td id=\"T_22d19_row20_col1\" class=\"data row20 col1\" >False</td>\n",
       "    </tr>\n",
       "    <tr>\n",
       "      <th id=\"T_22d19_level0_row21\" class=\"row_heading level0 row21\" >21</th>\n",
       "      <td id=\"T_22d19_row21_col0\" class=\"data row21 col0\" >Harmonics Order Method</td>\n",
       "      <td id=\"T_22d19_row21_col1\" class=\"data row21 col1\" >harmonic_max</td>\n",
       "    </tr>\n",
       "    <tr>\n",
       "      <th id=\"T_22d19_level0_row22\" class=\"row_heading level0 row22\" >22</th>\n",
       "      <td id=\"T_22d19_row22_col0\" class=\"data row22 col0\" >Num Seasonalities to Use</td>\n",
       "      <td id=\"T_22d19_row22_col1\" class=\"data row22 col1\" >1</td>\n",
       "    </tr>\n",
       "    <tr>\n",
       "      <th id=\"T_22d19_level0_row23\" class=\"row_heading level0 row23\" >23</th>\n",
       "      <td id=\"T_22d19_row23_col0\" class=\"data row23 col0\" >All Seasonalities to Use</td>\n",
       "      <td id=\"T_22d19_row23_col1\" class=\"data row23 col1\" >[7]</td>\n",
       "    </tr>\n",
       "    <tr>\n",
       "      <th id=\"T_22d19_level0_row24\" class=\"row_heading level0 row24\" >24</th>\n",
       "      <td id=\"T_22d19_row24_col0\" class=\"data row24 col0\" >Primary Seasonality</td>\n",
       "      <td id=\"T_22d19_row24_col1\" class=\"data row24 col1\" >7</td>\n",
       "    </tr>\n",
       "    <tr>\n",
       "      <th id=\"T_22d19_level0_row25\" class=\"row_heading level0 row25\" >25</th>\n",
       "      <td id=\"T_22d19_row25_col0\" class=\"data row25 col0\" >Seasonality Present</td>\n",
       "      <td id=\"T_22d19_row25_col1\" class=\"data row25 col1\" >True</td>\n",
       "    </tr>\n",
       "    <tr>\n",
       "      <th id=\"T_22d19_level0_row26\" class=\"row_heading level0 row26\" >26</th>\n",
       "      <td id=\"T_22d19_row26_col0\" class=\"data row26 col0\" >Seasonality Type</td>\n",
       "      <td id=\"T_22d19_row26_col1\" class=\"data row26 col1\" >mul</td>\n",
       "    </tr>\n",
       "    <tr>\n",
       "      <th id=\"T_22d19_level0_row27\" class=\"row_heading level0 row27\" >27</th>\n",
       "      <td id=\"T_22d19_row27_col0\" class=\"data row27 col0\" >Target Strictly Positive</td>\n",
       "      <td id=\"T_22d19_row27_col1\" class=\"data row27 col1\" >True</td>\n",
       "    </tr>\n",
       "    <tr>\n",
       "      <th id=\"T_22d19_level0_row28\" class=\"row_heading level0 row28\" >28</th>\n",
       "      <td id=\"T_22d19_row28_col0\" class=\"data row28 col0\" >Target White Noise</td>\n",
       "      <td id=\"T_22d19_row28_col1\" class=\"data row28 col1\" >No</td>\n",
       "    </tr>\n",
       "    <tr>\n",
       "      <th id=\"T_22d19_level0_row29\" class=\"row_heading level0 row29\" >29</th>\n",
       "      <td id=\"T_22d19_row29_col0\" class=\"data row29 col0\" >Recommended d</td>\n",
       "      <td id=\"T_22d19_row29_col1\" class=\"data row29 col1\" >1</td>\n",
       "    </tr>\n",
       "    <tr>\n",
       "      <th id=\"T_22d19_level0_row30\" class=\"row_heading level0 row30\" >30</th>\n",
       "      <td id=\"T_22d19_row30_col0\" class=\"data row30 col0\" >Recommended Seasonal D</td>\n",
       "      <td id=\"T_22d19_row30_col1\" class=\"data row30 col1\" >0</td>\n",
       "    </tr>\n",
       "    <tr>\n",
       "      <th id=\"T_22d19_level0_row31\" class=\"row_heading level0 row31\" >31</th>\n",
       "      <td id=\"T_22d19_row31_col0\" class=\"data row31 col0\" >Preprocess</td>\n",
       "      <td id=\"T_22d19_row31_col1\" class=\"data row31 col1\" >True</td>\n",
       "    </tr>\n",
       "    <tr>\n",
       "      <th id=\"T_22d19_level0_row32\" class=\"row_heading level0 row32\" >32</th>\n",
       "      <td id=\"T_22d19_row32_col0\" class=\"data row32 col0\" >Numerical Imputation (Target)</td>\n",
       "      <td id=\"T_22d19_row32_col1\" class=\"data row32 col1\" >drift</td>\n",
       "    </tr>\n",
       "    <tr>\n",
       "      <th id=\"T_22d19_level0_row33\" class=\"row_heading level0 row33\" >33</th>\n",
       "      <td id=\"T_22d19_row33_col0\" class=\"data row33 col0\" >Transformation (Target)</td>\n",
       "      <td id=\"T_22d19_row33_col1\" class=\"data row33 col1\" >None</td>\n",
       "    </tr>\n",
       "    <tr>\n",
       "      <th id=\"T_22d19_level0_row34\" class=\"row_heading level0 row34\" >34</th>\n",
       "      <td id=\"T_22d19_row34_col0\" class=\"data row34 col0\" >Scaling (Target)</td>\n",
       "      <td id=\"T_22d19_row34_col1\" class=\"data row34 col1\" >None</td>\n",
       "    </tr>\n",
       "    <tr>\n",
       "      <th id=\"T_22d19_level0_row35\" class=\"row_heading level0 row35\" >35</th>\n",
       "      <td id=\"T_22d19_row35_col0\" class=\"data row35 col0\" >Feature Engineering (Target) - Reduced Regression</td>\n",
       "      <td id=\"T_22d19_row35_col1\" class=\"data row35 col1\" >False</td>\n",
       "    </tr>\n",
       "    <tr>\n",
       "      <th id=\"T_22d19_level0_row36\" class=\"row_heading level0 row36\" >36</th>\n",
       "      <td id=\"T_22d19_row36_col0\" class=\"data row36 col0\" >CPU Jobs</td>\n",
       "      <td id=\"T_22d19_row36_col1\" class=\"data row36 col1\" >-1</td>\n",
       "    </tr>\n",
       "    <tr>\n",
       "      <th id=\"T_22d19_level0_row37\" class=\"row_heading level0 row37\" >37</th>\n",
       "      <td id=\"T_22d19_row37_col0\" class=\"data row37 col0\" >Use GPU</td>\n",
       "      <td id=\"T_22d19_row37_col1\" class=\"data row37 col1\" >False</td>\n",
       "    </tr>\n",
       "    <tr>\n",
       "      <th id=\"T_22d19_level0_row38\" class=\"row_heading level0 row38\" >38</th>\n",
       "      <td id=\"T_22d19_row38_col0\" class=\"data row38 col0\" >Log Experiment</td>\n",
       "      <td id=\"T_22d19_row38_col1\" class=\"data row38 col1\" >False</td>\n",
       "    </tr>\n",
       "    <tr>\n",
       "      <th id=\"T_22d19_level0_row39\" class=\"row_heading level0 row39\" >39</th>\n",
       "      <td id=\"T_22d19_row39_col0\" class=\"data row39 col0\" >Experiment Name</td>\n",
       "      <td id=\"T_22d19_row39_col1\" class=\"data row39 col1\" >ts-default-name</td>\n",
       "    </tr>\n",
       "    <tr>\n",
       "      <th id=\"T_22d19_level0_row40\" class=\"row_heading level0 row40\" >40</th>\n",
       "      <td id=\"T_22d19_row40_col0\" class=\"data row40 col0\" >USI</td>\n",
       "      <td id=\"T_22d19_row40_col1\" class=\"data row40 col1\" >ce7d</td>\n",
       "    </tr>\n",
       "  </tbody>\n",
       "</table>\n"
      ],
      "text/plain": [
       "<pandas.io.formats.style.Styler at 0x1b218048e80>"
      ]
     },
     "metadata": {},
     "output_type": "display_data"
    }
   ],
   "source": [
    "# Set up PyCaret environment\n",
    "s = setup(data=btc, \n",
    "          target = 'BTC-USD',\n",
    "          #transform_target='log',\n",
    "          fh=30,  # Forecast horizon\n",
    "          session_id=123,\n",
    "          fold_strategy='expanding',\n",
    "          seasonal_period='D',\n",
    "          #fold_spans=\"adaptive\",\n",
    "          numeric_imputation_target = 'drift')"
   ]
  },
  {
   "cell_type": "code",
   "execution_count": null,
   "id": "d7fd741c",
   "metadata": {},
   "outputs": [
    {
     "data": {
      "text/html": [
       "<div>\n",
       "<style scoped>\n",
       "    .dataframe tbody tr th:only-of-type {\n",
       "        vertical-align: middle;\n",
       "    }\n",
       "\n",
       "    .dataframe tbody tr th {\n",
       "        vertical-align: top;\n",
       "    }\n",
       "\n",
       "    .dataframe thead th {\n",
       "        text-align: right;\n",
       "    }\n",
       "</style>\n",
       "<table border=\"1\" class=\"dataframe\">\n",
       "  <thead>\n",
       "    <tr style=\"text-align: right;\">\n",
       "      <th></th>\n",
       "      <th></th>\n",
       "      <th></th>\n",
       "    </tr>\n",
       "    <tr>\n",
       "      <th></th>\n",
       "      <th></th>\n",
       "      <th></th>\n",
       "    </tr>\n",
       "  </thead>\n",
       "  <tbody>\n",
       "    <tr>\n",
       "      <th>Initiated</th>\n",
       "      <td>. . . . . . . . . . . . . . . . . .</td>\n",
       "      <td>09:15:16</td>\n",
       "    </tr>\n",
       "    <tr>\n",
       "      <th>Status</th>\n",
       "      <td>. . . . . . . . . . . . . . . . . .</td>\n",
       "      <td>Loading Dependencies</td>\n",
       "    </tr>\n",
       "    <tr>\n",
       "      <th>Estimator</th>\n",
       "      <td>. . . . . . . . . . . . . . . . . .</td>\n",
       "      <td>Compiling Library</td>\n",
       "    </tr>\n",
       "  </tbody>\n",
       "</table>\n",
       "</div>"
      ],
      "text/plain": [
       "                                                                    \n",
       "                                                                    \n",
       "Initiated  . . . . . . . . . . . . . . . . . .              09:15:16\n",
       "Status     . . . . . . . . . . . . . . . . . .  Loading Dependencies\n",
       "Estimator  . . . . . . . . . . . . . . . . . .     Compiling Library"
      ]
     },
     "metadata": {},
     "output_type": "display_data"
    },
    {
     "data": {
      "text/html": [
       "<style type=\"text/css\">\n",
       "#T_e58d0_row3_col0, #T_e58d0_row3_col1, #T_e58d0_row3_col2, #T_e58d0_row3_col3, #T_e58d0_row3_col4, #T_e58d0_row3_col5, #T_e58d0_row3_col6, #T_e58d0_row3_col7 {\n",
       "  background: yellow;\n",
       "}\n",
       "</style>\n",
       "<table id=\"T_e58d0\">\n",
       "  <thead>\n",
       "    <tr>\n",
       "      <th class=\"blank level0\" >&nbsp;</th>\n",
       "      <th id=\"T_e58d0_level0_col0\" class=\"col_heading level0 col0\" >cutoff</th>\n",
       "      <th id=\"T_e58d0_level0_col1\" class=\"col_heading level0 col1\" >MASE</th>\n",
       "      <th id=\"T_e58d0_level0_col2\" class=\"col_heading level0 col2\" >RMSSE</th>\n",
       "      <th id=\"T_e58d0_level0_col3\" class=\"col_heading level0 col3\" >MAE</th>\n",
       "      <th id=\"T_e58d0_level0_col4\" class=\"col_heading level0 col4\" >RMSE</th>\n",
       "      <th id=\"T_e58d0_level0_col5\" class=\"col_heading level0 col5\" >MAPE</th>\n",
       "      <th id=\"T_e58d0_level0_col6\" class=\"col_heading level0 col6\" >SMAPE</th>\n",
       "      <th id=\"T_e58d0_level0_col7\" class=\"col_heading level0 col7\" >R2</th>\n",
       "    </tr>\n",
       "  </thead>\n",
       "  <tbody>\n",
       "    <tr>\n",
       "      <th id=\"T_e58d0_level0_row0\" class=\"row_heading level0 row0\" >0</th>\n",
       "      <td id=\"T_e58d0_row0_col0\" class=\"data row0 col0\" >2024-12-10</td>\n",
       "      <td id=\"T_e58d0_row0_col1\" class=\"data row0 col1\" >4.4807</td>\n",
       "      <td id=\"T_e58d0_row0_col2\" class=\"data row0 col2\" >3.8100</td>\n",
       "      <td id=\"T_e58d0_row0_col3\" class=\"data row0 col3\" >16066.4746</td>\n",
       "      <td id=\"T_e58d0_row0_col4\" class=\"data row0 col4\" >18311.2949</td>\n",
       "      <td id=\"T_e58d0_row0_col5\" class=\"data row0 col5\" >0.1670</td>\n",
       "      <td id=\"T_e58d0_row0_col6\" class=\"data row0 col6\" >0.1506</td>\n",
       "      <td id=\"T_e58d0_row0_col7\" class=\"data row0 col7\" >-23.9712</td>\n",
       "    </tr>\n",
       "    <tr>\n",
       "      <th id=\"T_e58d0_level0_row1\" class=\"row_heading level0 row1\" >1</th>\n",
       "      <td id=\"T_e58d0_row1_col0\" class=\"data row1 col0\" >2025-01-09</td>\n",
       "      <td id=\"T_e58d0_row1_col1\" class=\"data row1 col1\" >3.0064</td>\n",
       "      <td id=\"T_e58d0_row1_col2\" class=\"data row1 col2\" >2.4718</td>\n",
       "      <td id=\"T_e58d0_row1_col3\" class=\"data row1 col3\" >10944.1435</td>\n",
       "      <td id=\"T_e58d0_row1_col4\" class=\"data row1 col4\" >11935.4173</td>\n",
       "      <td id=\"T_e58d0_row1_col5\" class=\"data row1 col5\" >0.1104</td>\n",
       "      <td id=\"T_e58d0_row1_col6\" class=\"data row1 col6\" >0.1036</td>\n",
       "      <td id=\"T_e58d0_row1_col7\" class=\"data row1 col7\" >-9.7349</td>\n",
       "    </tr>\n",
       "    <tr>\n",
       "      <th id=\"T_e58d0_level0_row2\" class=\"row_heading level0 row2\" >2</th>\n",
       "      <td id=\"T_e58d0_row2_col0\" class=\"data row2 col0\" >2025-02-08</td>\n",
       "      <td id=\"T_e58d0_row2_col1\" class=\"data row2 col1\" >2.7844</td>\n",
       "      <td id=\"T_e58d0_row2_col2\" class=\"data row2 col2\" >2.4728</td>\n",
       "      <td id=\"T_e58d0_row2_col3\" class=\"data row2 col3\" >10340.5430</td>\n",
       "      <td id=\"T_e58d0_row2_col4\" class=\"data row2 col4\" >12065.9806</td>\n",
       "      <td id=\"T_e58d0_row2_col5\" class=\"data row2 col5\" >0.1177</td>\n",
       "      <td id=\"T_e58d0_row2_col6\" class=\"data row2 col6\" >0.1086</td>\n",
       "      <td id=\"T_e58d0_row2_col7\" class=\"data row2 col7\" >-3.3709</td>\n",
       "    </tr>\n",
       "    <tr>\n",
       "      <th id=\"T_e58d0_level0_row3\" class=\"row_heading level0 row3\" >Mean</th>\n",
       "      <td id=\"T_e58d0_row3_col0\" class=\"data row3 col0\" >NaT</td>\n",
       "      <td id=\"T_e58d0_row3_col1\" class=\"data row3 col1\" >3.4238</td>\n",
       "      <td id=\"T_e58d0_row3_col2\" class=\"data row3 col2\" >2.9182</td>\n",
       "      <td id=\"T_e58d0_row3_col3\" class=\"data row3 col3\" >12450.3870</td>\n",
       "      <td id=\"T_e58d0_row3_col4\" class=\"data row3 col4\" >14104.2310</td>\n",
       "      <td id=\"T_e58d0_row3_col5\" class=\"data row3 col5\" >0.1317</td>\n",
       "      <td id=\"T_e58d0_row3_col6\" class=\"data row3 col6\" >0.1209</td>\n",
       "      <td id=\"T_e58d0_row3_col7\" class=\"data row3 col7\" >-12.3590</td>\n",
       "    </tr>\n",
       "    <tr>\n",
       "      <th id=\"T_e58d0_level0_row4\" class=\"row_heading level0 row4\" >SD</th>\n",
       "      <td id=\"T_e58d0_row4_col0\" class=\"data row4 col0\" >NaT</td>\n",
       "      <td id=\"T_e58d0_row4_col1\" class=\"data row4 col1\" >0.7528</td>\n",
       "      <td id=\"T_e58d0_row4_col2\" class=\"data row4 col2\" >0.6306</td>\n",
       "      <td id=\"T_e58d0_row4_col3\" class=\"data row4 col3\" >2568.8065</td>\n",
       "      <td id=\"T_e58d0_row4_col4\" class=\"data row4 col4\" >2975.3210</td>\n",
       "      <td id=\"T_e58d0_row4_col5\" class=\"data row4 col5\" >0.0251</td>\n",
       "      <td id=\"T_e58d0_row4_col6\" class=\"data row4 col6\" >0.0211</td>\n",
       "      <td id=\"T_e58d0_row4_col7\" class=\"data row4 col7\" >8.6123</td>\n",
       "    </tr>\n",
       "  </tbody>\n",
       "</table>\n"
      ],
      "text/plain": [
       "<pandas.io.formats.style.Styler at 0x1b215689970>"
      ]
     },
     "metadata": {},
     "output_type": "display_data"
    },
    {
     "data": {
      "text/html": [],
      "text/plain": [
       "<IPython.core.display.HTML object>"
      ]
     },
     "metadata": {},
     "output_type": "display_data"
    }
   ],
   "source": [
    "prophet = create_model('prophet')\n",
    "#arima = create_model('arima')"
   ]
  },
  {
   "cell_type": "code",
   "execution_count": null,
   "id": "2ab863b1",
   "metadata": {},
   "outputs": [
    {
     "data": {
      "text/html": [],
      "text/plain": [
       "<IPython.core.display.HTML object>"
      ]
     },
     "metadata": {},
     "output_type": "display_data"
    },
    {
     "data": {
      "text/html": [
       "<style type=\"text/css\">\n",
       "#T_eb88e_row3_col0, #T_eb88e_row3_col1, #T_eb88e_row3_col2, #T_eb88e_row3_col3, #T_eb88e_row3_col4, #T_eb88e_row3_col5, #T_eb88e_row3_col6, #T_eb88e_row3_col7 {\n",
       "  background: yellow;\n",
       "}\n",
       "</style>\n",
       "<table id=\"T_eb88e\">\n",
       "  <thead>\n",
       "    <tr>\n",
       "      <th class=\"blank level0\" >&nbsp;</th>\n",
       "      <th id=\"T_eb88e_level0_col0\" class=\"col_heading level0 col0\" >cutoff</th>\n",
       "      <th id=\"T_eb88e_level0_col1\" class=\"col_heading level0 col1\" >MASE</th>\n",
       "      <th id=\"T_eb88e_level0_col2\" class=\"col_heading level0 col2\" >RMSSE</th>\n",
       "      <th id=\"T_eb88e_level0_col3\" class=\"col_heading level0 col3\" >MAE</th>\n",
       "      <th id=\"T_eb88e_level0_col4\" class=\"col_heading level0 col4\" >RMSE</th>\n",
       "      <th id=\"T_eb88e_level0_col5\" class=\"col_heading level0 col5\" >MAPE</th>\n",
       "      <th id=\"T_eb88e_level0_col6\" class=\"col_heading level0 col6\" >SMAPE</th>\n",
       "      <th id=\"T_eb88e_level0_col7\" class=\"col_heading level0 col7\" >R2</th>\n",
       "    </tr>\n",
       "  </thead>\n",
       "  <tbody>\n",
       "    <tr>\n",
       "      <th id=\"T_eb88e_level0_row0\" class=\"row_heading level0 row0\" >0</th>\n",
       "      <td id=\"T_eb88e_row0_col0\" class=\"data row0 col0\" >2024-12-10</td>\n",
       "      <td id=\"T_eb88e_row0_col1\" class=\"data row0 col1\" >5.1305</td>\n",
       "      <td id=\"T_eb88e_row0_col2\" class=\"data row0 col2\" >4.2863</td>\n",
       "      <td id=\"T_eb88e_row0_col3\" class=\"data row0 col3\" >18396.7611</td>\n",
       "      <td id=\"T_eb88e_row0_col4\" class=\"data row0 col4\" >20600.5923</td>\n",
       "      <td id=\"T_eb88e_row0_col5\" class=\"data row0 col5\" >0.1909</td>\n",
       "      <td id=\"T_eb88e_row0_col6\" class=\"data row0 col6\" >0.1705</td>\n",
       "      <td id=\"T_eb88e_row0_col7\" class=\"data row0 col7\" >-30.6054</td>\n",
       "    </tr>\n",
       "    <tr>\n",
       "      <th id=\"T_eb88e_level0_row1\" class=\"row_heading level0 row1\" >1</th>\n",
       "      <td id=\"T_eb88e_row1_col0\" class=\"data row1 col0\" >2025-01-09</td>\n",
       "      <td id=\"T_eb88e_row1_col1\" class=\"data row1 col1\" >0.8810</td>\n",
       "      <td id=\"T_eb88e_row1_col2\" class=\"data row1 col2\" >0.7963</td>\n",
       "      <td id=\"T_eb88e_row1_col3\" class=\"data row1 col3\" >3206.9373</td>\n",
       "      <td id=\"T_eb88e_row1_col4\" class=\"data row1 col4\" >3845.1091</td>\n",
       "      <td id=\"T_eb88e_row1_col5\" class=\"data row1 col5\" >0.0324</td>\n",
       "      <td id=\"T_eb88e_row1_col6\" class=\"data row1 col6\" >0.0320</td>\n",
       "      <td id=\"T_eb88e_row1_col7\" class=\"data row1 col7\" >-0.1141</td>\n",
       "    </tr>\n",
       "    <tr>\n",
       "      <th id=\"T_eb88e_level0_row2\" class=\"row_heading level0 row2\" >2</th>\n",
       "      <td id=\"T_eb88e_row2_col0\" class=\"data row2 col0\" >2025-02-08</td>\n",
       "      <td id=\"T_eb88e_row2_col1\" class=\"data row2 col1\" >2.4788</td>\n",
       "      <td id=\"T_eb88e_row2_col2\" class=\"data row2 col2\" >2.2591</td>\n",
       "      <td id=\"T_eb88e_row2_col3\" class=\"data row2 col3\" >9205.5011</td>\n",
       "      <td id=\"T_eb88e_row2_col4\" class=\"data row2 col4\" >11023.1884</td>\n",
       "      <td id=\"T_eb88e_row2_col5\" class=\"data row2 col5\" >0.1052</td>\n",
       "      <td id=\"T_eb88e_row2_col6\" class=\"data row2 col6\" >0.0975</td>\n",
       "      <td id=\"T_eb88e_row2_col7\" class=\"data row2 col7\" >-2.6480</td>\n",
       "    </tr>\n",
       "    <tr>\n",
       "      <th id=\"T_eb88e_level0_row3\" class=\"row_heading level0 row3\" >Mean</th>\n",
       "      <td id=\"T_eb88e_row3_col0\" class=\"data row3 col0\" >NaT</td>\n",
       "      <td id=\"T_eb88e_row3_col1\" class=\"data row3 col1\" >2.8301</td>\n",
       "      <td id=\"T_eb88e_row3_col2\" class=\"data row3 col2\" >2.4472</td>\n",
       "      <td id=\"T_eb88e_row3_col3\" class=\"data row3 col3\" >10269.7332</td>\n",
       "      <td id=\"T_eb88e_row3_col4\" class=\"data row3 col4\" >11822.9632</td>\n",
       "      <td id=\"T_eb88e_row3_col5\" class=\"data row3 col5\" >0.1095</td>\n",
       "      <td id=\"T_eb88e_row3_col6\" class=\"data row3 col6\" >0.1000</td>\n",
       "      <td id=\"T_eb88e_row3_col7\" class=\"data row3 col7\" >-11.1225</td>\n",
       "    </tr>\n",
       "    <tr>\n",
       "      <th id=\"T_eb88e_level0_row4\" class=\"row_heading level0 row4\" >SD</th>\n",
       "      <td id=\"T_eb88e_row4_col0\" class=\"data row4 col0\" >NaT</td>\n",
       "      <td id=\"T_eb88e_row4_col1\" class=\"data row4 col1\" >1.7526</td>\n",
       "      <td id=\"T_eb88e_row4_col2\" class=\"data row4 col2\" >1.4310</td>\n",
       "      <td id=\"T_eb88e_row4_col3\" class=\"data row4 col3\" >6246.7127</td>\n",
       "      <td id=\"T_eb88e_row4_col4\" class=\"data row4 col4\" >6863.7349</td>\n",
       "      <td id=\"T_eb88e_row4_col5\" class=\"data row4 col5\" >0.0648</td>\n",
       "      <td id=\"T_eb88e_row4_col6\" class=\"data row4 col6\" >0.0566</td>\n",
       "      <td id=\"T_eb88e_row4_col7\" class=\"data row4 col7\" >13.8152</td>\n",
       "    </tr>\n",
       "  </tbody>\n",
       "</table>\n"
      ],
      "text/plain": [
       "<pandas.io.formats.style.Styler at 0x1b215195580>"
      ]
     },
     "metadata": {},
     "output_type": "display_data"
    },
    {
     "data": {
      "text/html": [],
      "text/plain": [
       "<IPython.core.display.HTML object>"
      ]
     },
     "metadata": {},
     "output_type": "display_data"
    },
    {
     "name": "stdout",
     "output_type": "stream",
     "text": [
      "Fitting 3 folds for each of 10 candidates, totalling 30 fits\n"
     ]
    },
    {
     "name": "stderr",
     "output_type": "stream",
     "text": [
      "[Parallel(n_jobs=-1)]: Using backend LokyBackend with 8 concurrent workers.\n",
      "[Parallel(n_jobs=-1)]: Done  30 out of  30 | elapsed:    7.1s finished\n"
     ]
    }
   ],
   "source": [
    "tuned_prophet = tune_model(prophet)\n",
    "#tuned_arima = tune_model(arima)"
   ]
  },
  {
   "cell_type": "code",
   "execution_count": 13,
   "id": "fa2f64a5",
   "metadata": {},
   "outputs": [
    {
     "name": "stdout",
     "output_type": "stream",
     "text": [
      "ProphetPeriodPatched(changepoint_prior_scale=0.19615118354865432,\n",
      "                     holidays_prior_scale=1.4906166728108328,\n",
      "                     seasonality_prior_scale=0.11835503996887899)\n"
     ]
    }
   ],
   "source": [
    "print(tuned_prophet)"
   ]
  },
  {
   "cell_type": "code",
   "execution_count": 14,
   "id": "279aaf67",
   "metadata": {},
   "outputs": [],
   "source": [
    "# Predictions\n",
    "final_prophet = finalize_model(tuned_prophet)\n",
    "#future_dates = pd.date_range(df.index[-1], periods=30, freq='D')\n",
    "prophet_predictions = predict_model(final_prophet)\n",
    "#arima_predictions = predict_model(tuned_arima, fh=30)"
   ]
  },
  {
   "cell_type": "code",
   "execution_count": 15,
   "id": "0937769b",
   "metadata": {},
   "outputs": [
    {
     "data": {
      "application/vnd.plotly.v1+json": {
       "config": {
        "plotlyServerURL": "https://plot.ly"
       },
       "data": [
        {
         "line": {
          "color": "#1f77b4"
         },
         "marker": {
          "size": 5
         },
         "mode": "lines+markers",
         "name": "Forecast | Prophet",
         "showlegend": true,
         "type": "scatter",
         "x": [
          "2025-04-10T00:00:00",
          "2025-04-11T00:00:00",
          "2025-04-12T00:00:00",
          "2025-04-13T00:00:00",
          "2025-04-14T00:00:00",
          "2025-04-15T00:00:00",
          "2025-04-16T00:00:00",
          "2025-04-17T00:00:00",
          "2025-04-18T00:00:00",
          "2025-04-19T00:00:00",
          "2025-04-20T00:00:00",
          "2025-04-21T00:00:00",
          "2025-04-22T00:00:00",
          "2025-04-23T00:00:00",
          "2025-04-24T00:00:00",
          "2025-04-25T00:00:00",
          "2025-04-26T00:00:00",
          "2025-04-27T00:00:00",
          "2025-04-28T00:00:00",
          "2025-04-29T00:00:00",
          "2025-04-30T00:00:00",
          "2025-05-01T00:00:00",
          "2025-05-02T00:00:00",
          "2025-05-03T00:00:00",
          "2025-05-04T00:00:00",
          "2025-05-05T00:00:00",
          "2025-05-06T00:00:00",
          "2025-05-07T00:00:00",
          "2025-05-08T00:00:00",
          "2025-05-09T00:00:00"
         ],
         "y": {
          "bdata": "OGdEadEN80B88rBQ+AvzQOELk6mS9fJAOpLLf2rS8kCPU3QkE8DyQDPEsS7Uo/JA8WPMXXig8kCvlGWIT4TyQPMf0m92gvJAWDm0yBBs8kA9m1Wf6EjyQAaBlUORNvJAqvHSTVIa8kD0bFZ99hbyQLKd76fN+vFA9ihcj/T48UBbQj7ojuLxQLTIdr5mv/FACYofYw+t8UCt+lxt0JDxQGuad5x0jfFAKcsQx0tx8UBtVn2ucm/xQNJvXwcNWfFAt9EA3uQ18UCAt0CCjSPxQCQofoxOB/FAbqMBvPID8UAs1JrmyefwQHBfB87w5fBA",
          "dtype": "f8"
         }
        },
        {
         "line": {
          "width": 0
         },
         "marker": {
          "color": "#68BBE3"
         },
         "mode": "lines",
         "name": "Lower Interval",
         "showlegend": false,
         "type": "scatter",
         "x": [
          "2025-04-10T00:00:00",
          "2025-04-11T00:00:00",
          "2025-04-12T00:00:00",
          "2025-04-13T00:00:00",
          "2025-04-14T00:00:00",
          "2025-04-15T00:00:00",
          "2025-04-16T00:00:00",
          "2025-04-17T00:00:00",
          "2025-04-18T00:00:00",
          "2025-04-19T00:00:00",
          "2025-04-20T00:00:00",
          "2025-04-21T00:00:00",
          "2025-04-22T00:00:00",
          "2025-04-23T00:00:00",
          "2025-04-24T00:00:00",
          "2025-04-25T00:00:00",
          "2025-04-26T00:00:00",
          "2025-04-27T00:00:00",
          "2025-04-28T00:00:00",
          "2025-04-29T00:00:00",
          "2025-04-30T00:00:00",
          "2025-05-01T00:00:00",
          "2025-05-02T00:00:00",
          "2025-05-03T00:00:00",
          "2025-05-04T00:00:00",
          "2025-05-05T00:00:00",
          "2025-05-06T00:00:00",
          "2025-05-07T00:00:00",
          "2025-05-08T00:00:00",
          "2025-05-09T00:00:00"
         ],
         "y": {
          "bdata": "veMUHXDl8UBrK/aXVeTxQEjhehTAxPFAx7q4jaeS8UCdgCbCWn/xQDY8vVJwc/FATtGRXC1t8UDAWyBBnGjxQCxlGeLgMfFAhjjWxcgr8UCGWtO8m//wQGDl0CL+6/BAqoJRSZ7H8EBNFYxKm7XwQI2XbhKOifBA/Yf02zt68EApXI/CF3jwQPT91HhgEPBA4QuTqZMD8EDnHafofvPvQHzysFCv7e9A1edqK/Bm70DfT42XoADvQGN/2T2bze5ANs07TulY7kCBBMWPDfrtQI/k8h8glO1AIv32dTDP7UAwKqkTbD/tQKhXyjJM1+xA",
          "dtype": "f8"
         }
        },
        {
         "fill": "tonexty",
         "fillcolor": "rgba(104,187,227,0.5)",
         "line": {
          "width": 0
         },
         "marker": {
          "color": "#68BBE3"
         },
         "mode": "lines",
         "name": "Prediction Interval | Prophet",
         "showlegend": true,
         "type": "scatter",
         "x": [
          "2025-04-10T00:00:00",
          "2025-04-11T00:00:00",
          "2025-04-12T00:00:00",
          "2025-04-13T00:00:00",
          "2025-04-14T00:00:00",
          "2025-04-15T00:00:00",
          "2025-04-16T00:00:00",
          "2025-04-17T00:00:00",
          "2025-04-18T00:00:00",
          "2025-04-19T00:00:00",
          "2025-04-20T00:00:00",
          "2025-04-21T00:00:00",
          "2025-04-22T00:00:00",
          "2025-04-23T00:00:00",
          "2025-04-24T00:00:00",
          "2025-04-25T00:00:00",
          "2025-04-26T00:00:00",
          "2025-04-27T00:00:00",
          "2025-04-28T00:00:00",
          "2025-04-29T00:00:00",
          "2025-04-30T00:00:00",
          "2025-05-01T00:00:00",
          "2025-05-02T00:00:00",
          "2025-05-03T00:00:00",
          "2025-05-04T00:00:00",
          "2025-05-05T00:00:00",
          "2025-05-06T00:00:00",
          "2025-05-07T00:00:00",
          "2025-05-08T00:00:00",
          "2025-05-09T00:00:00"
         ],
         "y": {
          "bdata": "nYAmwho79EDMXUvIgEH0QD9XW7HmDvRAhlrTvAgE9ECoNc07Jf7zQMSxLm6c0/NAWYY41gjb80CWsgxxDM3zQCBj7lrsr/NArkfhes6l80AoDwu1YIXzQKVOQBPFl/NAy6FFto5280AtQxzraJLzQHKKjuR8YPNAIo51cWly80DtDb4wgmHzQF66SQxWMvNAEHo2q1BT80DmP6TfvjrzQATnjChyUvNAhjjWxZQw80C5/If00FPzQPXb14FxU/NASOF6FG0x80ACmggbGyrzQFafq62yMPNA54wo7Sxe80AtQxzrn0XzQHrHKTqQRfNA",
          "dtype": "f8"
         }
        },
        {
         "marker": {
          "color": "#3f3f3f",
          "size": 5
         },
         "mode": "lines+markers",
         "name": "Original",
         "showlegend": true,
         "type": "scatter",
         "x": [
          "2024-04-10T00:00:00",
          "2024-04-11T00:00:00",
          "2024-04-12T00:00:00",
          "2024-04-13T00:00:00",
          "2024-04-14T00:00:00",
          "2024-04-15T00:00:00",
          "2024-04-16T00:00:00",
          "2024-04-17T00:00:00",
          "2024-04-18T00:00:00",
          "2024-04-19T00:00:00",
          "2024-04-20T00:00:00",
          "2024-04-21T00:00:00",
          "2024-04-22T00:00:00",
          "2024-04-23T00:00:00",
          "2024-04-24T00:00:00",
          "2024-04-25T00:00:00",
          "2024-04-26T00:00:00",
          "2024-04-27T00:00:00",
          "2024-04-28T00:00:00",
          "2024-04-29T00:00:00",
          "2024-04-30T00:00:00",
          "2024-05-01T00:00:00",
          "2024-05-02T00:00:00",
          "2024-05-03T00:00:00",
          "2024-05-04T00:00:00",
          "2024-05-05T00:00:00",
          "2024-05-06T00:00:00",
          "2024-05-07T00:00:00",
          "2024-05-08T00:00:00",
          "2024-05-09T00:00:00",
          "2024-05-10T00:00:00",
          "2024-05-11T00:00:00",
          "2024-05-12T00:00:00",
          "2024-05-13T00:00:00",
          "2024-05-14T00:00:00",
          "2024-05-15T00:00:00",
          "2024-05-16T00:00:00",
          "2024-05-17T00:00:00",
          "2024-05-18T00:00:00",
          "2024-05-19T00:00:00",
          "2024-05-20T00:00:00",
          "2024-05-21T00:00:00",
          "2024-05-22T00:00:00",
          "2024-05-23T00:00:00",
          "2024-05-24T00:00:00",
          "2024-05-25T00:00:00",
          "2024-05-26T00:00:00",
          "2024-05-27T00:00:00",
          "2024-05-28T00:00:00",
          "2024-05-29T00:00:00",
          "2024-05-30T00:00:00",
          "2024-05-31T00:00:00",
          "2024-06-01T00:00:00",
          "2024-06-02T00:00:00",
          "2024-06-03T00:00:00",
          "2024-06-04T00:00:00",
          "2024-06-05T00:00:00",
          "2024-06-06T00:00:00",
          "2024-06-07T00:00:00",
          "2024-06-08T00:00:00",
          "2024-06-09T00:00:00",
          "2024-06-10T00:00:00",
          "2024-06-11T00:00:00",
          "2024-06-12T00:00:00",
          "2024-06-13T00:00:00",
          "2024-06-14T00:00:00",
          "2024-06-15T00:00:00",
          "2024-06-16T00:00:00",
          "2024-06-17T00:00:00",
          "2024-06-18T00:00:00",
          "2024-06-19T00:00:00",
          "2024-06-20T00:00:00",
          "2024-06-21T00:00:00",
          "2024-06-22T00:00:00",
          "2024-06-23T00:00:00",
          "2024-06-24T00:00:00",
          "2024-06-25T00:00:00",
          "2024-06-26T00:00:00",
          "2024-06-27T00:00:00",
          "2024-06-28T00:00:00",
          "2024-06-29T00:00:00",
          "2024-06-30T00:00:00",
          "2024-07-01T00:00:00",
          "2024-07-02T00:00:00",
          "2024-07-03T00:00:00",
          "2024-07-04T00:00:00",
          "2024-07-05T00:00:00",
          "2024-07-06T00:00:00",
          "2024-07-07T00:00:00",
          "2024-07-08T00:00:00",
          "2024-07-09T00:00:00",
          "2024-07-10T00:00:00",
          "2024-07-11T00:00:00",
          "2024-07-12T00:00:00",
          "2024-07-13T00:00:00",
          "2024-07-14T00:00:00",
          "2024-07-15T00:00:00",
          "2024-07-16T00:00:00",
          "2024-07-17T00:00:00",
          "2024-07-18T00:00:00",
          "2024-07-19T00:00:00",
          "2024-07-20T00:00:00",
          "2024-07-21T00:00:00",
          "2024-07-22T00:00:00",
          "2024-07-23T00:00:00",
          "2024-07-24T00:00:00",
          "2024-07-25T00:00:00",
          "2024-07-26T00:00:00",
          "2024-07-27T00:00:00",
          "2024-07-28T00:00:00",
          "2024-07-29T00:00:00",
          "2024-07-30T00:00:00",
          "2024-07-31T00:00:00",
          "2024-08-01T00:00:00",
          "2024-08-02T00:00:00",
          "2024-08-03T00:00:00",
          "2024-08-04T00:00:00",
          "2024-08-05T00:00:00",
          "2024-08-06T00:00:00",
          "2024-08-07T00:00:00",
          "2024-08-08T00:00:00",
          "2024-08-09T00:00:00",
          "2024-08-10T00:00:00",
          "2024-08-11T00:00:00",
          "2024-08-12T00:00:00",
          "2024-08-13T00:00:00",
          "2024-08-14T00:00:00",
          "2024-08-15T00:00:00",
          "2024-08-16T00:00:00",
          "2024-08-17T00:00:00",
          "2024-08-18T00:00:00",
          "2024-08-19T00:00:00",
          "2024-08-20T00:00:00",
          "2024-08-21T00:00:00",
          "2024-08-22T00:00:00",
          "2024-08-23T00:00:00",
          "2024-08-24T00:00:00",
          "2024-08-25T00:00:00",
          "2024-08-26T00:00:00",
          "2024-08-27T00:00:00",
          "2024-08-28T00:00:00",
          "2024-08-29T00:00:00",
          "2024-08-30T00:00:00",
          "2024-08-31T00:00:00",
          "2024-09-01T00:00:00",
          "2024-09-02T00:00:00",
          "2024-09-03T00:00:00",
          "2024-09-04T00:00:00",
          "2024-09-05T00:00:00",
          "2024-09-06T00:00:00",
          "2024-09-07T00:00:00",
          "2024-09-08T00:00:00",
          "2024-09-09T00:00:00",
          "2024-09-10T00:00:00",
          "2024-09-11T00:00:00",
          "2024-09-12T00:00:00",
          "2024-09-13T00:00:00",
          "2024-09-14T00:00:00",
          "2024-09-15T00:00:00",
          "2024-09-16T00:00:00",
          "2024-09-17T00:00:00",
          "2024-09-18T00:00:00",
          "2024-09-19T00:00:00",
          "2024-09-20T00:00:00",
          "2024-09-21T00:00:00",
          "2024-09-22T00:00:00",
          "2024-09-23T00:00:00",
          "2024-09-24T00:00:00",
          "2024-09-25T00:00:00",
          "2024-09-26T00:00:00",
          "2024-09-27T00:00:00",
          "2024-09-28T00:00:00",
          "2024-09-29T00:00:00",
          "2024-09-30T00:00:00",
          "2024-10-01T00:00:00",
          "2024-10-02T00:00:00",
          "2024-10-03T00:00:00",
          "2024-10-04T00:00:00",
          "2024-10-05T00:00:00",
          "2024-10-06T00:00:00",
          "2024-10-07T00:00:00",
          "2024-10-08T00:00:00",
          "2024-10-09T00:00:00",
          "2024-10-10T00:00:00",
          "2024-10-11T00:00:00",
          "2024-10-12T00:00:00",
          "2024-10-13T00:00:00",
          "2024-10-14T00:00:00",
          "2024-10-15T00:00:00",
          "2024-10-16T00:00:00",
          "2024-10-17T00:00:00",
          "2024-10-18T00:00:00",
          "2024-10-19T00:00:00",
          "2024-10-20T00:00:00",
          "2024-10-21T00:00:00",
          "2024-10-22T00:00:00",
          "2024-10-23T00:00:00",
          "2024-10-24T00:00:00",
          "2024-10-25T00:00:00",
          "2024-10-26T00:00:00",
          "2024-10-27T00:00:00",
          "2024-10-28T00:00:00",
          "2024-10-29T00:00:00",
          "2024-10-30T00:00:00",
          "2024-10-31T00:00:00",
          "2024-11-01T00:00:00",
          "2024-11-02T00:00:00",
          "2024-11-03T00:00:00",
          "2024-11-04T00:00:00",
          "2024-11-05T00:00:00",
          "2024-11-06T00:00:00",
          "2024-11-07T00:00:00",
          "2024-11-08T00:00:00",
          "2024-11-09T00:00:00",
          "2024-11-10T00:00:00",
          "2024-11-11T00:00:00",
          "2024-11-12T00:00:00",
          "2024-11-13T00:00:00",
          "2024-11-14T00:00:00",
          "2024-11-15T00:00:00",
          "2024-11-16T00:00:00",
          "2024-11-17T00:00:00",
          "2024-11-18T00:00:00",
          "2024-11-19T00:00:00",
          "2024-11-20T00:00:00",
          "2024-11-21T00:00:00",
          "2024-11-22T00:00:00",
          "2024-11-23T00:00:00",
          "2024-11-24T00:00:00",
          "2024-11-25T00:00:00",
          "2024-11-26T00:00:00",
          "2024-11-27T00:00:00",
          "2024-11-28T00:00:00",
          "2024-11-29T00:00:00",
          "2024-11-30T00:00:00",
          "2024-12-01T00:00:00",
          "2024-12-02T00:00:00",
          "2024-12-03T00:00:00",
          "2024-12-04T00:00:00",
          "2024-12-05T00:00:00",
          "2024-12-06T00:00:00",
          "2024-12-07T00:00:00",
          "2024-12-08T00:00:00",
          "2024-12-09T00:00:00",
          "2024-12-10T00:00:00",
          "2024-12-11T00:00:00",
          "2024-12-12T00:00:00",
          "2024-12-13T00:00:00",
          "2024-12-14T00:00:00",
          "2024-12-15T00:00:00",
          "2024-12-16T00:00:00",
          "2024-12-17T00:00:00",
          "2024-12-18T00:00:00",
          "2024-12-19T00:00:00",
          "2024-12-20T00:00:00",
          "2024-12-21T00:00:00",
          "2024-12-22T00:00:00",
          "2024-12-23T00:00:00",
          "2024-12-24T00:00:00",
          "2024-12-25T00:00:00",
          "2024-12-26T00:00:00",
          "2024-12-27T00:00:00",
          "2024-12-28T00:00:00",
          "2024-12-29T00:00:00",
          "2024-12-30T00:00:00",
          "2024-12-31T00:00:00",
          "2025-01-01T00:00:00",
          "2025-01-02T00:00:00",
          "2025-01-03T00:00:00",
          "2025-01-04T00:00:00",
          "2025-01-05T00:00:00",
          "2025-01-06T00:00:00",
          "2025-01-07T00:00:00",
          "2025-01-08T00:00:00",
          "2025-01-09T00:00:00",
          "2025-01-10T00:00:00",
          "2025-01-11T00:00:00",
          "2025-01-12T00:00:00",
          "2025-01-13T00:00:00",
          "2025-01-14T00:00:00",
          "2025-01-15T00:00:00",
          "2025-01-16T00:00:00",
          "2025-01-17T00:00:00",
          "2025-01-18T00:00:00",
          "2025-01-19T00:00:00",
          "2025-01-20T00:00:00",
          "2025-01-21T00:00:00",
          "2025-01-22T00:00:00",
          "2025-01-23T00:00:00",
          "2025-01-24T00:00:00",
          "2025-01-25T00:00:00",
          "2025-01-26T00:00:00",
          "2025-01-27T00:00:00",
          "2025-01-28T00:00:00",
          "2025-01-29T00:00:00",
          "2025-01-30T00:00:00",
          "2025-01-31T00:00:00",
          "2025-02-01T00:00:00",
          "2025-02-02T00:00:00",
          "2025-02-03T00:00:00",
          "2025-02-04T00:00:00",
          "2025-02-05T00:00:00",
          "2025-02-06T00:00:00",
          "2025-02-07T00:00:00",
          "2025-02-08T00:00:00",
          "2025-02-09T00:00:00",
          "2025-02-10T00:00:00",
          "2025-02-11T00:00:00",
          "2025-02-12T00:00:00",
          "2025-02-13T00:00:00",
          "2025-02-14T00:00:00",
          "2025-02-15T00:00:00",
          "2025-02-16T00:00:00",
          "2025-02-17T00:00:00",
          "2025-02-18T00:00:00",
          "2025-02-19T00:00:00",
          "2025-02-20T00:00:00",
          "2025-02-21T00:00:00",
          "2025-02-22T00:00:00",
          "2025-02-23T00:00:00",
          "2025-02-24T00:00:00",
          "2025-02-25T00:00:00",
          "2025-02-26T00:00:00",
          "2025-02-27T00:00:00",
          "2025-02-28T00:00:00",
          "2025-03-01T00:00:00",
          "2025-03-02T00:00:00",
          "2025-03-03T00:00:00",
          "2025-03-04T00:00:00",
          "2025-03-05T00:00:00",
          "2025-03-06T00:00:00",
          "2025-03-07T00:00:00",
          "2025-03-08T00:00:00",
          "2025-03-09T00:00:00",
          "2025-03-10T00:00:00",
          "2025-03-11T00:00:00",
          "2025-03-12T00:00:00",
          "2025-03-13T00:00:00",
          "2025-03-14T00:00:00",
          "2025-03-15T00:00:00",
          "2025-03-16T00:00:00",
          "2025-03-17T00:00:00",
          "2025-03-18T00:00:00",
          "2025-03-19T00:00:00",
          "2025-03-20T00:00:00",
          "2025-03-21T00:00:00",
          "2025-03-22T00:00:00",
          "2025-03-23T00:00:00",
          "2025-03-24T00:00:00",
          "2025-03-25T00:00:00",
          "2025-03-26T00:00:00",
          "2025-03-27T00:00:00",
          "2025-03-28T00:00:00",
          "2025-03-29T00:00:00",
          "2025-03-30T00:00:00",
          "2025-03-31T00:00:00",
          "2025-04-01T00:00:00",
          "2025-04-02T00:00:00",
          "2025-04-03T00:00:00",
          "2025-04-04T00:00:00",
          "2025-04-05T00:00:00",
          "2025-04-06T00:00:00",
          "2025-04-07T00:00:00",
          "2025-04-08T00:00:00",
          "2025-04-09T00:00:00"
         ],
         "y": {
          "bdata": "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",
          "dtype": "f8"
         }
        }
       ],
       "layout": {
        "showlegend": true,
        "template": {
         "data": {
          "bar": [
           {
            "error_x": {
             "color": "rgb(51,51,51)"
            },
            "error_y": {
             "color": "rgb(51,51,51)"
            },
            "marker": {
             "line": {
              "color": "rgb(237,237,237)",
              "width": 0.5
             },
             "pattern": {
              "fillmode": "overlay",
              "size": 10,
              "solidity": 0.2
             }
            },
            "type": "bar"
           }
          ],
          "barpolar": [
           {
            "marker": {
             "line": {
              "color": "rgb(237,237,237)",
              "width": 0.5
             },
             "pattern": {
              "fillmode": "overlay",
              "size": 10,
              "solidity": 0.2
             }
            },
            "type": "barpolar"
           }
          ],
          "carpet": [
           {
            "aaxis": {
             "endlinecolor": "rgb(51,51,51)",
             "gridcolor": "white",
             "linecolor": "white",
             "minorgridcolor": "white",
             "startlinecolor": "rgb(51,51,51)"
            },
            "baxis": {
             "endlinecolor": "rgb(51,51,51)",
             "gridcolor": "white",
             "linecolor": "white",
             "minorgridcolor": "white",
             "startlinecolor": "rgb(51,51,51)"
            },
            "type": "carpet"
           }
          ],
          "choropleth": [
           {
            "colorbar": {
             "outlinewidth": 0,
             "tickcolor": "rgb(237,237,237)",
             "ticklen": 6,
             "ticks": "inside"
            },
            "type": "choropleth"
           }
          ],
          "contour": [
           {
            "colorbar": {
             "outlinewidth": 0,
             "tickcolor": "rgb(237,237,237)",
             "ticklen": 6,
             "ticks": "inside"
            },
            "colorscale": [
             [
              0,
              "rgb(20,44,66)"
             ],
             [
              1,
              "rgb(90,179,244)"
             ]
            ],
            "type": "contour"
           }
          ],
          "contourcarpet": [
           {
            "colorbar": {
             "outlinewidth": 0,
             "tickcolor": "rgb(237,237,237)",
             "ticklen": 6,
             "ticks": "inside"
            },
            "type": "contourcarpet"
           }
          ],
          "heatmap": [
           {
            "colorbar": {
             "outlinewidth": 0,
             "tickcolor": "rgb(237,237,237)",
             "ticklen": 6,
             "ticks": "inside"
            },
            "colorscale": [
             [
              0,
              "rgb(20,44,66)"
             ],
             [
              1,
              "rgb(90,179,244)"
             ]
            ],
            "type": "heatmap"
           }
          ],
          "histogram": [
           {
            "marker": {
             "pattern": {
              "fillmode": "overlay",
              "size": 10,
              "solidity": 0.2
             }
            },
            "type": "histogram"
           }
          ],
          "histogram2d": [
           {
            "colorbar": {
             "outlinewidth": 0,
             "tickcolor": "rgb(237,237,237)",
             "ticklen": 6,
             "ticks": "inside"
            },
            "colorscale": [
             [
              0,
              "rgb(20,44,66)"
             ],
             [
              1,
              "rgb(90,179,244)"
             ]
            ],
            "type": "histogram2d"
           }
          ],
          "histogram2dcontour": [
           {
            "colorbar": {
             "outlinewidth": 0,
             "tickcolor": "rgb(237,237,237)",
             "ticklen": 6,
             "ticks": "inside"
            },
            "colorscale": [
             [
              0,
              "rgb(20,44,66)"
             ],
             [
              1,
              "rgb(90,179,244)"
             ]
            ],
            "type": "histogram2dcontour"
           }
          ],
          "mesh3d": [
           {
            "colorbar": {
             "outlinewidth": 0,
             "tickcolor": "rgb(237,237,237)",
             "ticklen": 6,
             "ticks": "inside"
            },
            "type": "mesh3d"
           }
          ],
          "parcoords": [
           {
            "line": {
             "colorbar": {
              "outlinewidth": 0,
              "tickcolor": "rgb(237,237,237)",
              "ticklen": 6,
              "ticks": "inside"
             }
            },
            "type": "parcoords"
           }
          ],
          "pie": [
           {
            "automargin": true,
            "type": "pie"
           }
          ],
          "scatter": [
           {
            "fillpattern": {
             "fillmode": "overlay",
             "size": 10,
             "solidity": 0.2
            },
            "type": "scatter"
           }
          ],
          "scatter3d": [
           {
            "line": {
             "colorbar": {
              "outlinewidth": 0,
              "tickcolor": "rgb(237,237,237)",
              "ticklen": 6,
              "ticks": "inside"
             }
            },
            "marker": {
             "colorbar": {
              "outlinewidth": 0,
              "tickcolor": "rgb(237,237,237)",
              "ticklen": 6,
              "ticks": "inside"
             }
            },
            "type": "scatter3d"
           }
          ],
          "scattercarpet": [
           {
            "marker": {
             "colorbar": {
              "outlinewidth": 0,
              "tickcolor": "rgb(237,237,237)",
              "ticklen": 6,
              "ticks": "inside"
             }
            },
            "type": "scattercarpet"
           }
          ],
          "scattergeo": [
           {
            "marker": {
             "colorbar": {
              "outlinewidth": 0,
              "tickcolor": "rgb(237,237,237)",
              "ticklen": 6,
              "ticks": "inside"
             }
            },
            "type": "scattergeo"
           }
          ],
          "scattergl": [
           {
            "marker": {
             "colorbar": {
              "outlinewidth": 0,
              "tickcolor": "rgb(237,237,237)",
              "ticklen": 6,
              "ticks": "inside"
             }
            },
            "type": "scattergl"
           }
          ],
          "scattermap": [
           {
            "marker": {
             "colorbar": {
              "outlinewidth": 0,
              "tickcolor": "rgb(237,237,237)",
              "ticklen": 6,
              "ticks": "inside"
             }
            },
            "type": "scattermap"
           }
          ],
          "scattermapbox": [
           {
            "marker": {
             "colorbar": {
              "outlinewidth": 0,
              "tickcolor": "rgb(237,237,237)",
              "ticklen": 6,
              "ticks": "inside"
             }
            },
            "type": "scattermapbox"
           }
          ],
          "scatterpolar": [
           {
            "marker": {
             "colorbar": {
              "outlinewidth": 0,
              "tickcolor": "rgb(237,237,237)",
              "ticklen": 6,
              "ticks": "inside"
             }
            },
            "type": "scatterpolar"
           }
          ],
          "scatterpolargl": [
           {
            "marker": {
             "colorbar": {
              "outlinewidth": 0,
              "tickcolor": "rgb(237,237,237)",
              "ticklen": 6,
              "ticks": "inside"
             }
            },
            "type": "scatterpolargl"
           }
          ],
          "scatterternary": [
           {
            "marker": {
             "colorbar": {
              "outlinewidth": 0,
              "tickcolor": "rgb(237,237,237)",
              "ticklen": 6,
              "ticks": "inside"
             }
            },
            "type": "scatterternary"
           }
          ],
          "surface": [
           {
            "colorbar": {
             "outlinewidth": 0,
             "tickcolor": "rgb(237,237,237)",
             "ticklen": 6,
             "ticks": "inside"
            },
            "colorscale": [
             [
              0,
              "rgb(20,44,66)"
             ],
             [
              1,
              "rgb(90,179,244)"
             ]
            ],
            "type": "surface"
           }
          ],
          "table": [
           {
            "cells": {
             "fill": {
              "color": "rgb(237,237,237)"
             },
             "line": {
              "color": "white"
             }
            },
            "header": {
             "fill": {
              "color": "rgb(217,217,217)"
             },
             "line": {
              "color": "white"
             }
            },
            "type": "table"
           }
          ]
         },
         "layout": {
          "annotationdefaults": {
           "arrowhead": 0,
           "arrowwidth": 1
          },
          "autotypenumbers": "strict",
          "coloraxis": {
           "colorbar": {
            "outlinewidth": 0,
            "tickcolor": "rgb(237,237,237)",
            "ticklen": 6,
            "ticks": "inside"
           }
          },
          "colorscale": {
           "sequential": [
            [
             0,
             "rgb(20,44,66)"
            ],
            [
             1,
             "rgb(90,179,244)"
            ]
           ],
           "sequentialminus": [
            [
             0,
             "rgb(20,44,66)"
            ],
            [
             1,
             "rgb(90,179,244)"
            ]
           ]
          },
          "colorway": [
           "#F8766D",
           "#A3A500",
           "#00BF7D",
           "#00B0F6",
           "#E76BF3"
          ],
          "font": {
           "color": "rgb(51,51,51)"
          },
          "geo": {
           "bgcolor": "white",
           "lakecolor": "white",
           "landcolor": "rgb(237,237,237)",
           "showlakes": true,
           "showland": true,
           "subunitcolor": "white"
          },
          "hoverlabel": {
           "align": "left"
          },
          "hovermode": "closest",
          "paper_bgcolor": "white",
          "plot_bgcolor": "rgb(237,237,237)",
          "polar": {
           "angularaxis": {
            "gridcolor": "white",
            "linecolor": "white",
            "showgrid": true,
            "tickcolor": "rgb(51,51,51)",
            "ticks": "outside"
           },
           "bgcolor": "rgb(237,237,237)",
           "radialaxis": {
            "gridcolor": "white",
            "linecolor": "white",
            "showgrid": true,
            "tickcolor": "rgb(51,51,51)",
            "ticks": "outside"
           }
          },
          "scene": {
           "xaxis": {
            "backgroundcolor": "rgb(237,237,237)",
            "gridcolor": "white",
            "gridwidth": 2,
            "linecolor": "white",
            "showbackground": true,
            "showgrid": true,
            "tickcolor": "rgb(51,51,51)",
            "ticks": "outside",
            "zerolinecolor": "white"
           },
           "yaxis": {
            "backgroundcolor": "rgb(237,237,237)",
            "gridcolor": "white",
            "gridwidth": 2,
            "linecolor": "white",
            "showbackground": true,
            "showgrid": true,
            "tickcolor": "rgb(51,51,51)",
            "ticks": "outside",
            "zerolinecolor": "white"
           },
           "zaxis": {
            "backgroundcolor": "rgb(237,237,237)",
            "gridcolor": "white",
            "gridwidth": 2,
            "linecolor": "white",
            "showbackground": true,
            "showgrid": true,
            "tickcolor": "rgb(51,51,51)",
            "ticks": "outside",
            "zerolinecolor": "white"
           }
          },
          "shapedefaults": {
           "fillcolor": "black",
           "line": {
            "width": 0
           },
           "opacity": 0.3
          },
          "ternary": {
           "aaxis": {
            "gridcolor": "white",
            "linecolor": "white",
            "showgrid": true,
            "tickcolor": "rgb(51,51,51)",
            "ticks": "outside"
           },
           "baxis": {
            "gridcolor": "white",
            "linecolor": "white",
            "showgrid": true,
            "tickcolor": "rgb(51,51,51)",
            "ticks": "outside"
           },
           "bgcolor": "rgb(237,237,237)",
           "caxis": {
            "gridcolor": "white",
            "linecolor": "white",
            "showgrid": true,
            "tickcolor": "rgb(51,51,51)",
            "ticks": "outside"
           }
          },
          "xaxis": {
           "automargin": true,
           "gridcolor": "white",
           "linecolor": "white",
           "showgrid": true,
           "tickcolor": "rgb(51,51,51)",
           "ticks": "outside",
           "title": {
            "standoff": 15
           },
           "zerolinecolor": "white"
          },
          "yaxis": {
           "automargin": true,
           "gridcolor": "white",
           "linecolor": "white",
           "showgrid": true,
           "tickcolor": "rgb(51,51,51)",
           "ticks": "outside",
           "title": {
            "standoff": 15
           },
           "zerolinecolor": "white"
          }
         }
        },
        "title": {
         "text": "Actual vs. 'Out-of-Sample' Forecast | BTC-USD"
        },
        "xaxis": {
         "title": {
          "text": "Time"
         }
        },
        "yaxis": {
         "title": {
          "text": "Values"
         }
        }
       }
      }
     },
     "metadata": {},
     "output_type": "display_data"
    }
   ],
   "source": [
    "#Plot prophet model forecast\n",
    "plot_model(final_prophet, plot='forecast')\n",
    "\n"
   ]
  },
  {
   "cell_type": "markdown",
   "id": "289e46fc",
   "metadata": {},
   "source": [
    "Function for forecasting BTC with FB Prophet"
   ]
  },
  {
   "cell_type": "code",
   "execution_count": 20,
   "id": "13351a4a",
   "metadata": {},
   "outputs": [],
   "source": [
    "def get_btc_prophet(data):\n",
    "    try:\n",
    "      #create series with just BTC close price\n",
    "      btc = data.loc[:,'BTC-USD']\n",
    "      # Set up PyCaret environment\n",
    "      s = setup(data=btc, \n",
    "            target = 'BTC-USD',\n",
    "            #transform_target='log',\n",
    "            fh=30,  # Forecast horizon\n",
    "            session_id=123,\n",
    "            fold_strategy='expanding',\n",
    "            seasonal_period='D',\n",
    "            #fold_spans=\"adaptive\",\n",
    "            numeric_imputation_target = 'drift')\n",
    "      prophet = create_model('prophet')\n",
    "      tuned_prophet = tune_model(prophet)\n",
    "      # Predictions\n",
    "      final_prophet = finalize_model(tuned_prophet)\n",
    "      prophet_predictions = predict_model(final_prophet)\n",
    "      #Plot prophet model forecast\n",
    "      plot_model(final_prophet, plot='forecast')\n",
    "      return prophet, plt.gcf()\n",
    "    except Exception as e:\n",
    "       print(f\"An error occurred: {e}\")\n",
    "       return None, None"
   ]
  },
  {
   "cell_type": "code",
   "execution_count": 21,
   "id": "d1ffc05a",
   "metadata": {},
   "outputs": [
    {
     "name": "stderr",
     "output_type": "stream",
     "text": [
      "[*********************100%***********************]  30 of 30 completed\n"
     ]
    },
    {
     "data": {
      "text/html": [
       "<style type=\"text/css\">\n",
       "#T_27cda_row25_col1, #T_27cda_row31_col1 {\n",
       "  background-color: lightgreen;\n",
       "}\n",
       "</style>\n",
       "<table id=\"T_27cda\">\n",
       "  <thead>\n",
       "    <tr>\n",
       "      <th class=\"blank level0\" >&nbsp;</th>\n",
       "      <th id=\"T_27cda_level0_col0\" class=\"col_heading level0 col0\" >Description</th>\n",
       "      <th id=\"T_27cda_level0_col1\" class=\"col_heading level0 col1\" >Value</th>\n",
       "    </tr>\n",
       "  </thead>\n",
       "  <tbody>\n",
       "    <tr>\n",
       "      <th id=\"T_27cda_level0_row0\" class=\"row_heading level0 row0\" >0</th>\n",
       "      <td id=\"T_27cda_row0_col0\" class=\"data row0 col0\" >session_id</td>\n",
       "      <td id=\"T_27cda_row0_col1\" class=\"data row0 col1\" >123</td>\n",
       "    </tr>\n",
       "    <tr>\n",
       "      <th id=\"T_27cda_level0_row1\" class=\"row_heading level0 row1\" >1</th>\n",
       "      <td id=\"T_27cda_row1_col0\" class=\"data row1 col0\" >Target</td>\n",
       "      <td id=\"T_27cda_row1_col1\" class=\"data row1 col1\" >BTC-USD</td>\n",
       "    </tr>\n",
       "    <tr>\n",
       "      <th id=\"T_27cda_level0_row2\" class=\"row_heading level0 row2\" >2</th>\n",
       "      <td id=\"T_27cda_row2_col0\" class=\"data row2 col0\" >Approach</td>\n",
       "      <td id=\"T_27cda_row2_col1\" class=\"data row2 col1\" >Univariate</td>\n",
       "    </tr>\n",
       "    <tr>\n",
       "      <th id=\"T_27cda_level0_row3\" class=\"row_heading level0 row3\" >3</th>\n",
       "      <td id=\"T_27cda_row3_col0\" class=\"data row3 col0\" >Exogenous Variables</td>\n",
       "      <td id=\"T_27cda_row3_col1\" class=\"data row3 col1\" >Not Present</td>\n",
       "    </tr>\n",
       "    <tr>\n",
       "      <th id=\"T_27cda_level0_row4\" class=\"row_heading level0 row4\" >4</th>\n",
       "      <td id=\"T_27cda_row4_col0\" class=\"data row4 col0\" >Original data shape</td>\n",
       "      <td id=\"T_27cda_row4_col1\" class=\"data row4 col1\" >(365, 1)</td>\n",
       "    </tr>\n",
       "    <tr>\n",
       "      <th id=\"T_27cda_level0_row5\" class=\"row_heading level0 row5\" >5</th>\n",
       "      <td id=\"T_27cda_row5_col0\" class=\"data row5 col0\" >Transformed data shape</td>\n",
       "      <td id=\"T_27cda_row5_col1\" class=\"data row5 col1\" >(365, 1)</td>\n",
       "    </tr>\n",
       "    <tr>\n",
       "      <th id=\"T_27cda_level0_row6\" class=\"row_heading level0 row6\" >6</th>\n",
       "      <td id=\"T_27cda_row6_col0\" class=\"data row6 col0\" >Transformed train set shape</td>\n",
       "      <td id=\"T_27cda_row6_col1\" class=\"data row6 col1\" >(335, 1)</td>\n",
       "    </tr>\n",
       "    <tr>\n",
       "      <th id=\"T_27cda_level0_row7\" class=\"row_heading level0 row7\" >7</th>\n",
       "      <td id=\"T_27cda_row7_col0\" class=\"data row7 col0\" >Transformed test set shape</td>\n",
       "      <td id=\"T_27cda_row7_col1\" class=\"data row7 col1\" >(30, 1)</td>\n",
       "    </tr>\n",
       "    <tr>\n",
       "      <th id=\"T_27cda_level0_row8\" class=\"row_heading level0 row8\" >8</th>\n",
       "      <td id=\"T_27cda_row8_col0\" class=\"data row8 col0\" >Rows with missing values</td>\n",
       "      <td id=\"T_27cda_row8_col1\" class=\"data row8 col1\" >0.0%</td>\n",
       "    </tr>\n",
       "    <tr>\n",
       "      <th id=\"T_27cda_level0_row9\" class=\"row_heading level0 row9\" >9</th>\n",
       "      <td id=\"T_27cda_row9_col0\" class=\"data row9 col0\" >Fold Generator</td>\n",
       "      <td id=\"T_27cda_row9_col1\" class=\"data row9 col1\" >ExpandingWindowSplitter</td>\n",
       "    </tr>\n",
       "    <tr>\n",
       "      <th id=\"T_27cda_level0_row10\" class=\"row_heading level0 row10\" >10</th>\n",
       "      <td id=\"T_27cda_row10_col0\" class=\"data row10 col0\" >Fold Number</td>\n",
       "      <td id=\"T_27cda_row10_col1\" class=\"data row10 col1\" >3</td>\n",
       "    </tr>\n",
       "    <tr>\n",
       "      <th id=\"T_27cda_level0_row11\" class=\"row_heading level0 row11\" >11</th>\n",
       "      <td id=\"T_27cda_row11_col0\" class=\"data row11 col0\" >Enforce Prediction Interval</td>\n",
       "      <td id=\"T_27cda_row11_col1\" class=\"data row11 col1\" >False</td>\n",
       "    </tr>\n",
       "    <tr>\n",
       "      <th id=\"T_27cda_level0_row12\" class=\"row_heading level0 row12\" >12</th>\n",
       "      <td id=\"T_27cda_row12_col0\" class=\"data row12 col0\" >Splits used for hyperparameters</td>\n",
       "      <td id=\"T_27cda_row12_col1\" class=\"data row12 col1\" >all</td>\n",
       "    </tr>\n",
       "    <tr>\n",
       "      <th id=\"T_27cda_level0_row13\" class=\"row_heading level0 row13\" >13</th>\n",
       "      <td id=\"T_27cda_row13_col0\" class=\"data row13 col0\" >User Defined Seasonal Period(s)</td>\n",
       "      <td id=\"T_27cda_row13_col1\" class=\"data row13 col1\" >D</td>\n",
       "    </tr>\n",
       "    <tr>\n",
       "      <th id=\"T_27cda_level0_row14\" class=\"row_heading level0 row14\" >14</th>\n",
       "      <td id=\"T_27cda_row14_col0\" class=\"data row14 col0\" >Ignore Seasonality Test</td>\n",
       "      <td id=\"T_27cda_row14_col1\" class=\"data row14 col1\" >False</td>\n",
       "    </tr>\n",
       "    <tr>\n",
       "      <th id=\"T_27cda_level0_row15\" class=\"row_heading level0 row15\" >15</th>\n",
       "      <td id=\"T_27cda_row15_col0\" class=\"data row15 col0\" >Seasonality Detection Algo</td>\n",
       "      <td id=\"T_27cda_row15_col1\" class=\"data row15 col1\" >user_defined</td>\n",
       "    </tr>\n",
       "    <tr>\n",
       "      <th id=\"T_27cda_level0_row16\" class=\"row_heading level0 row16\" >16</th>\n",
       "      <td id=\"T_27cda_row16_col0\" class=\"data row16 col0\" >Max Period to Consider</td>\n",
       "      <td id=\"T_27cda_row16_col1\" class=\"data row16 col1\" >60</td>\n",
       "    </tr>\n",
       "    <tr>\n",
       "      <th id=\"T_27cda_level0_row17\" class=\"row_heading level0 row17\" >17</th>\n",
       "      <td id=\"T_27cda_row17_col0\" class=\"data row17 col0\" >Seasonal Period(s) Tested</td>\n",
       "      <td id=\"T_27cda_row17_col1\" class=\"data row17 col1\" >[7]</td>\n",
       "    </tr>\n",
       "    <tr>\n",
       "      <th id=\"T_27cda_level0_row18\" class=\"row_heading level0 row18\" >18</th>\n",
       "      <td id=\"T_27cda_row18_col0\" class=\"data row18 col0\" >Significant Seasonal Period(s)</td>\n",
       "      <td id=\"T_27cda_row18_col1\" class=\"data row18 col1\" >[7]</td>\n",
       "    </tr>\n",
       "    <tr>\n",
       "      <th id=\"T_27cda_level0_row19\" class=\"row_heading level0 row19\" >19</th>\n",
       "      <td id=\"T_27cda_row19_col0\" class=\"data row19 col0\" >Significant Seasonal Period(s) without Harmonics</td>\n",
       "      <td id=\"T_27cda_row19_col1\" class=\"data row19 col1\" >[7]</td>\n",
       "    </tr>\n",
       "    <tr>\n",
       "      <th id=\"T_27cda_level0_row20\" class=\"row_heading level0 row20\" >20</th>\n",
       "      <td id=\"T_27cda_row20_col0\" class=\"data row20 col0\" >Remove Harmonics</td>\n",
       "      <td id=\"T_27cda_row20_col1\" class=\"data row20 col1\" >False</td>\n",
       "    </tr>\n",
       "    <tr>\n",
       "      <th id=\"T_27cda_level0_row21\" class=\"row_heading level0 row21\" >21</th>\n",
       "      <td id=\"T_27cda_row21_col0\" class=\"data row21 col0\" >Harmonics Order Method</td>\n",
       "      <td id=\"T_27cda_row21_col1\" class=\"data row21 col1\" >harmonic_max</td>\n",
       "    </tr>\n",
       "    <tr>\n",
       "      <th id=\"T_27cda_level0_row22\" class=\"row_heading level0 row22\" >22</th>\n",
       "      <td id=\"T_27cda_row22_col0\" class=\"data row22 col0\" >Num Seasonalities to Use</td>\n",
       "      <td id=\"T_27cda_row22_col1\" class=\"data row22 col1\" >1</td>\n",
       "    </tr>\n",
       "    <tr>\n",
       "      <th id=\"T_27cda_level0_row23\" class=\"row_heading level0 row23\" >23</th>\n",
       "      <td id=\"T_27cda_row23_col0\" class=\"data row23 col0\" >All Seasonalities to Use</td>\n",
       "      <td id=\"T_27cda_row23_col1\" class=\"data row23 col1\" >[7]</td>\n",
       "    </tr>\n",
       "    <tr>\n",
       "      <th id=\"T_27cda_level0_row24\" class=\"row_heading level0 row24\" >24</th>\n",
       "      <td id=\"T_27cda_row24_col0\" class=\"data row24 col0\" >Primary Seasonality</td>\n",
       "      <td id=\"T_27cda_row24_col1\" class=\"data row24 col1\" >7</td>\n",
       "    </tr>\n",
       "    <tr>\n",
       "      <th id=\"T_27cda_level0_row25\" class=\"row_heading level0 row25\" >25</th>\n",
       "      <td id=\"T_27cda_row25_col0\" class=\"data row25 col0\" >Seasonality Present</td>\n",
       "      <td id=\"T_27cda_row25_col1\" class=\"data row25 col1\" >True</td>\n",
       "    </tr>\n",
       "    <tr>\n",
       "      <th id=\"T_27cda_level0_row26\" class=\"row_heading level0 row26\" >26</th>\n",
       "      <td id=\"T_27cda_row26_col0\" class=\"data row26 col0\" >Seasonality Type</td>\n",
       "      <td id=\"T_27cda_row26_col1\" class=\"data row26 col1\" >mul</td>\n",
       "    </tr>\n",
       "    <tr>\n",
       "      <th id=\"T_27cda_level0_row27\" class=\"row_heading level0 row27\" >27</th>\n",
       "      <td id=\"T_27cda_row27_col0\" class=\"data row27 col0\" >Target Strictly Positive</td>\n",
       "      <td id=\"T_27cda_row27_col1\" class=\"data row27 col1\" >True</td>\n",
       "    </tr>\n",
       "    <tr>\n",
       "      <th id=\"T_27cda_level0_row28\" class=\"row_heading level0 row28\" >28</th>\n",
       "      <td id=\"T_27cda_row28_col0\" class=\"data row28 col0\" >Target White Noise</td>\n",
       "      <td id=\"T_27cda_row28_col1\" class=\"data row28 col1\" >No</td>\n",
       "    </tr>\n",
       "    <tr>\n",
       "      <th id=\"T_27cda_level0_row29\" class=\"row_heading level0 row29\" >29</th>\n",
       "      <td id=\"T_27cda_row29_col0\" class=\"data row29 col0\" >Recommended d</td>\n",
       "      <td id=\"T_27cda_row29_col1\" class=\"data row29 col1\" >1</td>\n",
       "    </tr>\n",
       "    <tr>\n",
       "      <th id=\"T_27cda_level0_row30\" class=\"row_heading level0 row30\" >30</th>\n",
       "      <td id=\"T_27cda_row30_col0\" class=\"data row30 col0\" >Recommended Seasonal D</td>\n",
       "      <td id=\"T_27cda_row30_col1\" class=\"data row30 col1\" >0</td>\n",
       "    </tr>\n",
       "    <tr>\n",
       "      <th id=\"T_27cda_level0_row31\" class=\"row_heading level0 row31\" >31</th>\n",
       "      <td id=\"T_27cda_row31_col0\" class=\"data row31 col0\" >Preprocess</td>\n",
       "      <td id=\"T_27cda_row31_col1\" class=\"data row31 col1\" >True</td>\n",
       "    </tr>\n",
       "    <tr>\n",
       "      <th id=\"T_27cda_level0_row32\" class=\"row_heading level0 row32\" >32</th>\n",
       "      <td id=\"T_27cda_row32_col0\" class=\"data row32 col0\" >Numerical Imputation (Target)</td>\n",
       "      <td id=\"T_27cda_row32_col1\" class=\"data row32 col1\" >drift</td>\n",
       "    </tr>\n",
       "    <tr>\n",
       "      <th id=\"T_27cda_level0_row33\" class=\"row_heading level0 row33\" >33</th>\n",
       "      <td id=\"T_27cda_row33_col0\" class=\"data row33 col0\" >Transformation (Target)</td>\n",
       "      <td id=\"T_27cda_row33_col1\" class=\"data row33 col1\" >None</td>\n",
       "    </tr>\n",
       "    <tr>\n",
       "      <th id=\"T_27cda_level0_row34\" class=\"row_heading level0 row34\" >34</th>\n",
       "      <td id=\"T_27cda_row34_col0\" class=\"data row34 col0\" >Scaling (Target)</td>\n",
       "      <td id=\"T_27cda_row34_col1\" class=\"data row34 col1\" >None</td>\n",
       "    </tr>\n",
       "    <tr>\n",
       "      <th id=\"T_27cda_level0_row35\" class=\"row_heading level0 row35\" >35</th>\n",
       "      <td id=\"T_27cda_row35_col0\" class=\"data row35 col0\" >Feature Engineering (Target) - Reduced Regression</td>\n",
       "      <td id=\"T_27cda_row35_col1\" class=\"data row35 col1\" >False</td>\n",
       "    </tr>\n",
       "    <tr>\n",
       "      <th id=\"T_27cda_level0_row36\" class=\"row_heading level0 row36\" >36</th>\n",
       "      <td id=\"T_27cda_row36_col0\" class=\"data row36 col0\" >CPU Jobs</td>\n",
       "      <td id=\"T_27cda_row36_col1\" class=\"data row36 col1\" >-1</td>\n",
       "    </tr>\n",
       "    <tr>\n",
       "      <th id=\"T_27cda_level0_row37\" class=\"row_heading level0 row37\" >37</th>\n",
       "      <td id=\"T_27cda_row37_col0\" class=\"data row37 col0\" >Use GPU</td>\n",
       "      <td id=\"T_27cda_row37_col1\" class=\"data row37 col1\" >False</td>\n",
       "    </tr>\n",
       "    <tr>\n",
       "      <th id=\"T_27cda_level0_row38\" class=\"row_heading level0 row38\" >38</th>\n",
       "      <td id=\"T_27cda_row38_col0\" class=\"data row38 col0\" >Log Experiment</td>\n",
       "      <td id=\"T_27cda_row38_col1\" class=\"data row38 col1\" >False</td>\n",
       "    </tr>\n",
       "    <tr>\n",
       "      <th id=\"T_27cda_level0_row39\" class=\"row_heading level0 row39\" >39</th>\n",
       "      <td id=\"T_27cda_row39_col0\" class=\"data row39 col0\" >Experiment Name</td>\n",
       "      <td id=\"T_27cda_row39_col1\" class=\"data row39 col1\" >ts-default-name</td>\n",
       "    </tr>\n",
       "    <tr>\n",
       "      <th id=\"T_27cda_level0_row40\" class=\"row_heading level0 row40\" >40</th>\n",
       "      <td id=\"T_27cda_row40_col0\" class=\"data row40 col0\" >USI</td>\n",
       "      <td id=\"T_27cda_row40_col1\" class=\"data row40 col1\" >4abc</td>\n",
       "    </tr>\n",
       "  </tbody>\n",
       "</table>\n"
      ],
      "text/plain": [
       "<pandas.io.formats.style.Styler at 0x1b219fb9ac0>"
      ]
     },
     "metadata": {},
     "output_type": "display_data"
    },
    {
     "data": {
      "text/html": [],
      "text/plain": [
       "<IPython.core.display.HTML object>"
      ]
     },
     "metadata": {},
     "output_type": "display_data"
    },
    {
     "data": {
      "text/html": [
       "<style type=\"text/css\">\n",
       "#T_6c523_row3_col0, #T_6c523_row3_col1, #T_6c523_row3_col2, #T_6c523_row3_col3, #T_6c523_row3_col4, #T_6c523_row3_col5, #T_6c523_row3_col6, #T_6c523_row3_col7 {\n",
       "  background: yellow;\n",
       "}\n",
       "</style>\n",
       "<table id=\"T_6c523\">\n",
       "  <thead>\n",
       "    <tr>\n",
       "      <th class=\"blank level0\" >&nbsp;</th>\n",
       "      <th id=\"T_6c523_level0_col0\" class=\"col_heading level0 col0\" >cutoff</th>\n",
       "      <th id=\"T_6c523_level0_col1\" class=\"col_heading level0 col1\" >MASE</th>\n",
       "      <th id=\"T_6c523_level0_col2\" class=\"col_heading level0 col2\" >RMSSE</th>\n",
       "      <th id=\"T_6c523_level0_col3\" class=\"col_heading level0 col3\" >MAE</th>\n",
       "      <th id=\"T_6c523_level0_col4\" class=\"col_heading level0 col4\" >RMSE</th>\n",
       "      <th id=\"T_6c523_level0_col5\" class=\"col_heading level0 col5\" >MAPE</th>\n",
       "      <th id=\"T_6c523_level0_col6\" class=\"col_heading level0 col6\" >SMAPE</th>\n",
       "      <th id=\"T_6c523_level0_col7\" class=\"col_heading level0 col7\" >R2</th>\n",
       "    </tr>\n",
       "  </thead>\n",
       "  <tbody>\n",
       "    <tr>\n",
       "      <th id=\"T_6c523_level0_row0\" class=\"row_heading level0 row0\" >0</th>\n",
       "      <td id=\"T_6c523_row0_col0\" class=\"data row0 col0\" >2024-12-10</td>\n",
       "      <td id=\"T_6c523_row0_col1\" class=\"data row0 col1\" >4.4807</td>\n",
       "      <td id=\"T_6c523_row0_col2\" class=\"data row0 col2\" >3.8100</td>\n",
       "      <td id=\"T_6c523_row0_col3\" class=\"data row0 col3\" >16066.4746</td>\n",
       "      <td id=\"T_6c523_row0_col4\" class=\"data row0 col4\" >18311.2949</td>\n",
       "      <td id=\"T_6c523_row0_col5\" class=\"data row0 col5\" >0.1670</td>\n",
       "      <td id=\"T_6c523_row0_col6\" class=\"data row0 col6\" >0.1506</td>\n",
       "      <td id=\"T_6c523_row0_col7\" class=\"data row0 col7\" >-23.9712</td>\n",
       "    </tr>\n",
       "    <tr>\n",
       "      <th id=\"T_6c523_level0_row1\" class=\"row_heading level0 row1\" >1</th>\n",
       "      <td id=\"T_6c523_row1_col0\" class=\"data row1 col0\" >2025-01-09</td>\n",
       "      <td id=\"T_6c523_row1_col1\" class=\"data row1 col1\" >3.0064</td>\n",
       "      <td id=\"T_6c523_row1_col2\" class=\"data row1 col2\" >2.4718</td>\n",
       "      <td id=\"T_6c523_row1_col3\" class=\"data row1 col3\" >10944.1435</td>\n",
       "      <td id=\"T_6c523_row1_col4\" class=\"data row1 col4\" >11935.4173</td>\n",
       "      <td id=\"T_6c523_row1_col5\" class=\"data row1 col5\" >0.1104</td>\n",
       "      <td id=\"T_6c523_row1_col6\" class=\"data row1 col6\" >0.1036</td>\n",
       "      <td id=\"T_6c523_row1_col7\" class=\"data row1 col7\" >-9.7349</td>\n",
       "    </tr>\n",
       "    <tr>\n",
       "      <th id=\"T_6c523_level0_row2\" class=\"row_heading level0 row2\" >2</th>\n",
       "      <td id=\"T_6c523_row2_col0\" class=\"data row2 col0\" >2025-02-08</td>\n",
       "      <td id=\"T_6c523_row2_col1\" class=\"data row2 col1\" >2.7844</td>\n",
       "      <td id=\"T_6c523_row2_col2\" class=\"data row2 col2\" >2.4728</td>\n",
       "      <td id=\"T_6c523_row2_col3\" class=\"data row2 col3\" >10340.5430</td>\n",
       "      <td id=\"T_6c523_row2_col4\" class=\"data row2 col4\" >12065.9806</td>\n",
       "      <td id=\"T_6c523_row2_col5\" class=\"data row2 col5\" >0.1177</td>\n",
       "      <td id=\"T_6c523_row2_col6\" class=\"data row2 col6\" >0.1086</td>\n",
       "      <td id=\"T_6c523_row2_col7\" class=\"data row2 col7\" >-3.3709</td>\n",
       "    </tr>\n",
       "    <tr>\n",
       "      <th id=\"T_6c523_level0_row3\" class=\"row_heading level0 row3\" >Mean</th>\n",
       "      <td id=\"T_6c523_row3_col0\" class=\"data row3 col0\" >NaT</td>\n",
       "      <td id=\"T_6c523_row3_col1\" class=\"data row3 col1\" >3.4238</td>\n",
       "      <td id=\"T_6c523_row3_col2\" class=\"data row3 col2\" >2.9182</td>\n",
       "      <td id=\"T_6c523_row3_col3\" class=\"data row3 col3\" >12450.3870</td>\n",
       "      <td id=\"T_6c523_row3_col4\" class=\"data row3 col4\" >14104.2310</td>\n",
       "      <td id=\"T_6c523_row3_col5\" class=\"data row3 col5\" >0.1317</td>\n",
       "      <td id=\"T_6c523_row3_col6\" class=\"data row3 col6\" >0.1209</td>\n",
       "      <td id=\"T_6c523_row3_col7\" class=\"data row3 col7\" >-12.3590</td>\n",
       "    </tr>\n",
       "    <tr>\n",
       "      <th id=\"T_6c523_level0_row4\" class=\"row_heading level0 row4\" >SD</th>\n",
       "      <td id=\"T_6c523_row4_col0\" class=\"data row4 col0\" >NaT</td>\n",
       "      <td id=\"T_6c523_row4_col1\" class=\"data row4 col1\" >0.7528</td>\n",
       "      <td id=\"T_6c523_row4_col2\" class=\"data row4 col2\" >0.6306</td>\n",
       "      <td id=\"T_6c523_row4_col3\" class=\"data row4 col3\" >2568.8065</td>\n",
       "      <td id=\"T_6c523_row4_col4\" class=\"data row4 col4\" >2975.3210</td>\n",
       "      <td id=\"T_6c523_row4_col5\" class=\"data row4 col5\" >0.0251</td>\n",
       "      <td id=\"T_6c523_row4_col6\" class=\"data row4 col6\" >0.0211</td>\n",
       "      <td id=\"T_6c523_row4_col7\" class=\"data row4 col7\" >8.6123</td>\n",
       "    </tr>\n",
       "  </tbody>\n",
       "</table>\n"
      ],
      "text/plain": [
       "<pandas.io.formats.style.Styler at 0x1b21a499c70>"
      ]
     },
     "metadata": {},
     "output_type": "display_data"
    },
    {
     "data": {
      "text/html": [],
      "text/plain": [
       "<IPython.core.display.HTML object>"
      ]
     },
     "metadata": {},
     "output_type": "display_data"
    },
    {
     "data": {
      "text/html": [],
      "text/plain": [
       "<IPython.core.display.HTML object>"
      ]
     },
     "metadata": {},
     "output_type": "display_data"
    },
    {
     "data": {
      "text/html": [
       "<style type=\"text/css\">\n",
       "#T_8668a_row3_col0, #T_8668a_row3_col1, #T_8668a_row3_col2, #T_8668a_row3_col3, #T_8668a_row3_col4, #T_8668a_row3_col5, #T_8668a_row3_col6, #T_8668a_row3_col7 {\n",
       "  background: yellow;\n",
       "}\n",
       "</style>\n",
       "<table id=\"T_8668a\">\n",
       "  <thead>\n",
       "    <tr>\n",
       "      <th class=\"blank level0\" >&nbsp;</th>\n",
       "      <th id=\"T_8668a_level0_col0\" class=\"col_heading level0 col0\" >cutoff</th>\n",
       "      <th id=\"T_8668a_level0_col1\" class=\"col_heading level0 col1\" >MASE</th>\n",
       "      <th id=\"T_8668a_level0_col2\" class=\"col_heading level0 col2\" >RMSSE</th>\n",
       "      <th id=\"T_8668a_level0_col3\" class=\"col_heading level0 col3\" >MAE</th>\n",
       "      <th id=\"T_8668a_level0_col4\" class=\"col_heading level0 col4\" >RMSE</th>\n",
       "      <th id=\"T_8668a_level0_col5\" class=\"col_heading level0 col5\" >MAPE</th>\n",
       "      <th id=\"T_8668a_level0_col6\" class=\"col_heading level0 col6\" >SMAPE</th>\n",
       "      <th id=\"T_8668a_level0_col7\" class=\"col_heading level0 col7\" >R2</th>\n",
       "    </tr>\n",
       "  </thead>\n",
       "  <tbody>\n",
       "    <tr>\n",
       "      <th id=\"T_8668a_level0_row0\" class=\"row_heading level0 row0\" >0</th>\n",
       "      <td id=\"T_8668a_row0_col0\" class=\"data row0 col0\" >2024-12-10</td>\n",
       "      <td id=\"T_8668a_row0_col1\" class=\"data row0 col1\" >5.1305</td>\n",
       "      <td id=\"T_8668a_row0_col2\" class=\"data row0 col2\" >4.2863</td>\n",
       "      <td id=\"T_8668a_row0_col3\" class=\"data row0 col3\" >18396.7611</td>\n",
       "      <td id=\"T_8668a_row0_col4\" class=\"data row0 col4\" >20600.5923</td>\n",
       "      <td id=\"T_8668a_row0_col5\" class=\"data row0 col5\" >0.1909</td>\n",
       "      <td id=\"T_8668a_row0_col6\" class=\"data row0 col6\" >0.1705</td>\n",
       "      <td id=\"T_8668a_row0_col7\" class=\"data row0 col7\" >-30.6054</td>\n",
       "    </tr>\n",
       "    <tr>\n",
       "      <th id=\"T_8668a_level0_row1\" class=\"row_heading level0 row1\" >1</th>\n",
       "      <td id=\"T_8668a_row1_col0\" class=\"data row1 col0\" >2025-01-09</td>\n",
       "      <td id=\"T_8668a_row1_col1\" class=\"data row1 col1\" >0.8810</td>\n",
       "      <td id=\"T_8668a_row1_col2\" class=\"data row1 col2\" >0.7963</td>\n",
       "      <td id=\"T_8668a_row1_col3\" class=\"data row1 col3\" >3206.9373</td>\n",
       "      <td id=\"T_8668a_row1_col4\" class=\"data row1 col4\" >3845.1091</td>\n",
       "      <td id=\"T_8668a_row1_col5\" class=\"data row1 col5\" >0.0324</td>\n",
       "      <td id=\"T_8668a_row1_col6\" class=\"data row1 col6\" >0.0320</td>\n",
       "      <td id=\"T_8668a_row1_col7\" class=\"data row1 col7\" >-0.1141</td>\n",
       "    </tr>\n",
       "    <tr>\n",
       "      <th id=\"T_8668a_level0_row2\" class=\"row_heading level0 row2\" >2</th>\n",
       "      <td id=\"T_8668a_row2_col0\" class=\"data row2 col0\" >2025-02-08</td>\n",
       "      <td id=\"T_8668a_row2_col1\" class=\"data row2 col1\" >2.4788</td>\n",
       "      <td id=\"T_8668a_row2_col2\" class=\"data row2 col2\" >2.2591</td>\n",
       "      <td id=\"T_8668a_row2_col3\" class=\"data row2 col3\" >9205.5011</td>\n",
       "      <td id=\"T_8668a_row2_col4\" class=\"data row2 col4\" >11023.1884</td>\n",
       "      <td id=\"T_8668a_row2_col5\" class=\"data row2 col5\" >0.1052</td>\n",
       "      <td id=\"T_8668a_row2_col6\" class=\"data row2 col6\" >0.0975</td>\n",
       "      <td id=\"T_8668a_row2_col7\" class=\"data row2 col7\" >-2.6480</td>\n",
       "    </tr>\n",
       "    <tr>\n",
       "      <th id=\"T_8668a_level0_row3\" class=\"row_heading level0 row3\" >Mean</th>\n",
       "      <td id=\"T_8668a_row3_col0\" class=\"data row3 col0\" >NaT</td>\n",
       "      <td id=\"T_8668a_row3_col1\" class=\"data row3 col1\" >2.8301</td>\n",
       "      <td id=\"T_8668a_row3_col2\" class=\"data row3 col2\" >2.4472</td>\n",
       "      <td id=\"T_8668a_row3_col3\" class=\"data row3 col3\" >10269.7332</td>\n",
       "      <td id=\"T_8668a_row3_col4\" class=\"data row3 col4\" >11822.9632</td>\n",
       "      <td id=\"T_8668a_row3_col5\" class=\"data row3 col5\" >0.1095</td>\n",
       "      <td id=\"T_8668a_row3_col6\" class=\"data row3 col6\" >0.1000</td>\n",
       "      <td id=\"T_8668a_row3_col7\" class=\"data row3 col7\" >-11.1225</td>\n",
       "    </tr>\n",
       "    <tr>\n",
       "      <th id=\"T_8668a_level0_row4\" class=\"row_heading level0 row4\" >SD</th>\n",
       "      <td id=\"T_8668a_row4_col0\" class=\"data row4 col0\" >NaT</td>\n",
       "      <td id=\"T_8668a_row4_col1\" class=\"data row4 col1\" >1.7526</td>\n",
       "      <td id=\"T_8668a_row4_col2\" class=\"data row4 col2\" >1.4310</td>\n",
       "      <td id=\"T_8668a_row4_col3\" class=\"data row4 col3\" >6246.7127</td>\n",
       "      <td id=\"T_8668a_row4_col4\" class=\"data row4 col4\" >6863.7349</td>\n",
       "      <td id=\"T_8668a_row4_col5\" class=\"data row4 col5\" >0.0648</td>\n",
       "      <td id=\"T_8668a_row4_col6\" class=\"data row4 col6\" >0.0566</td>\n",
       "      <td id=\"T_8668a_row4_col7\" class=\"data row4 col7\" >13.8152</td>\n",
       "    </tr>\n",
       "  </tbody>\n",
       "</table>\n"
      ],
      "text/plain": [
       "<pandas.io.formats.style.Styler at 0x1b2180216d0>"
      ]
     },
     "metadata": {},
     "output_type": "display_data"
    },
    {
     "data": {
      "text/html": [],
      "text/plain": [
       "<IPython.core.display.HTML object>"
      ]
     },
     "metadata": {},
     "output_type": "display_data"
    },
    {
     "name": "stdout",
     "output_type": "stream",
     "text": [
      "Fitting 3 folds for each of 10 candidates, totalling 30 fits\n"
     ]
    },
    {
     "name": "stderr",
     "output_type": "stream",
     "text": [
      "[Parallel(n_jobs=-1)]: Using backend LokyBackend with 8 concurrent workers.\n",
      "[Parallel(n_jobs=-1)]: Done  30 out of  30 | elapsed:   14.9s finished\n"
     ]
    },
    {
     "data": {
      "application/vnd.plotly.v1+json": {
       "config": {
        "plotlyServerURL": "https://plot.ly"
       },
       "data": [
        {
         "line": {
          "color": "#1f77b4"
         },
         "marker": {
          "size": 5
         },
         "mode": "lines+markers",
         "name": "Forecast | Prophet",
         "showlegend": true,
         "type": "scatter",
         "x": [
          "2025-04-10T00:00:00",
          "2025-04-11T00:00:00",
          "2025-04-12T00:00:00",
          "2025-04-13T00:00:00",
          "2025-04-14T00:00:00",
          "2025-04-15T00:00:00",
          "2025-04-16T00:00:00",
          "2025-04-17T00:00:00",
          "2025-04-18T00:00:00",
          "2025-04-19T00:00:00",
          "2025-04-20T00:00:00",
          "2025-04-21T00:00:00",
          "2025-04-22T00:00:00",
          "2025-04-23T00:00:00",
          "2025-04-24T00:00:00",
          "2025-04-25T00:00:00",
          "2025-04-26T00:00:00",
          "2025-04-27T00:00:00",
          "2025-04-28T00:00:00",
          "2025-04-29T00:00:00",
          "2025-04-30T00:00:00",
          "2025-05-01T00:00:00",
          "2025-05-02T00:00:00",
          "2025-05-03T00:00:00",
          "2025-05-04T00:00:00",
          "2025-05-05T00:00:00",
          "2025-05-06T00:00:00",
          "2025-05-07T00:00:00",
          "2025-05-08T00:00:00",
          "2025-05-09T00:00:00"
         ],
         "y": {
          "bdata": "UrgehawL80DlYaHW0wnzQLwFEhRf8/JAjgbwFijQ8kANcayLyL3yQM3MzMyDofJApSxDHP2d8kBPQBNhsIHyQG3F/rLXf/JARGlv8GJp8kAWak3zK0byQAn5oGfMM/JAylTBqIcX8kAukKD4ABTyQNejcD209/FAak3zjtv18UBB8WPMZt/xQBPyQc8vvPFAklz+Q9Cp8UBSuB6Fi43xQCsYldQEivFA1CtlGbht8UDysFBr32vxQMpUwahqVfFAm1WfqzMy8UCP5PIf1B/xQE9AE2GPA/FAs3vysAgA8UBcj8L1u+PwQHsUrkfj4fBA",
          "dtype": "f8"
         }
        },
        {
         "line": {
          "width": 0
         },
         "marker": {
          "color": "#68BBE3"
         },
         "mode": "lines",
         "name": "Lower Interval",
         "showlegend": false,
         "type": "scatter",
         "x": [
          "2025-04-10T00:00:00",
          "2025-04-11T00:00:00",
          "2025-04-12T00:00:00",
          "2025-04-13T00:00:00",
          "2025-04-14T00:00:00",
          "2025-04-15T00:00:00",
          "2025-04-16T00:00:00",
          "2025-04-17T00:00:00",
          "2025-04-18T00:00:00",
          "2025-04-19T00:00:00",
          "2025-04-20T00:00:00",
          "2025-04-21T00:00:00",
          "2025-04-22T00:00:00",
          "2025-04-23T00:00:00",
          "2025-04-24T00:00:00",
          "2025-04-25T00:00:00",
          "2025-04-26T00:00:00",
          "2025-04-27T00:00:00",
          "2025-04-28T00:00:00",
          "2025-04-29T00:00:00",
          "2025-04-30T00:00:00",
          "2025-05-01T00:00:00",
          "2025-05-02T00:00:00",
          "2025-05-03T00:00:00",
          "2025-05-04T00:00:00",
          "2025-05-05T00:00:00",
          "2025-05-06T00:00:00",
          "2025-05-07T00:00:00",
          "2025-05-08T00:00:00",
          "2025-05-09T00:00:00"
         ],
         "y": {
          "bdata": "mN2ThxXm8UAYldQJxeTxQNV46SZrxfFAVg4tslOT8UDSAN4Cs4DxQDvfT439c/FAyeU/pItt8UAm5IOeV2bxQPH0SlltMvFA5WGh1h4s8UAoDwu1bv3wQHqlLEPp6/BA1edqK0DA8EAoDwu146jwQBueXillfvBAGsBbIAx58ECu2F92MW7wQOOlm8TSBfBAs+pztUX570AaUdoblNvvQAYSFD8Y0+9A4zYawA1d70BlqmBUcujuQFR0JJebn+5A5WGh1nA/7kCHFtnOz93tQCBj7lp8iO1AjErqBKCh7UBoke18HRrtQHh6pSxfkOxA",
          "dtype": "f8"
         }
        },
        {
         "fill": "tonexty",
         "fillcolor": "rgba(104,187,227,0.5)",
         "line": {
          "width": 0
         },
         "marker": {
          "color": "#68BBE3"
         },
         "mode": "lines",
         "name": "Prediction Interval | Prophet",
         "showlegend": true,
         "type": "scatter",
         "x": [
          "2025-04-10T00:00:00",
          "2025-04-11T00:00:00",
          "2025-04-12T00:00:00",
          "2025-04-13T00:00:00",
          "2025-04-14T00:00:00",
          "2025-04-15T00:00:00",
          "2025-04-16T00:00:00",
          "2025-04-17T00:00:00",
          "2025-04-18T00:00:00",
          "2025-04-19T00:00:00",
          "2025-04-20T00:00:00",
          "2025-04-21T00:00:00",
          "2025-04-22T00:00:00",
          "2025-04-23T00:00:00",
          "2025-04-24T00:00:00",
          "2025-04-25T00:00:00",
          "2025-04-26T00:00:00",
          "2025-04-27T00:00:00",
          "2025-04-28T00:00:00",
          "2025-04-29T00:00:00",
          "2025-04-30T00:00:00",
          "2025-05-01T00:00:00",
          "2025-05-02T00:00:00",
          "2025-05-03T00:00:00",
          "2025-05-04T00:00:00",
          "2025-05-05T00:00:00",
          "2025-05-06T00:00:00",
          "2025-05-07T00:00:00",
          "2025-05-08T00:00:00",
          "2025-05-09T00:00:00"
         ],
         "y": {
          "bdata": "bqMBvB829EAHX5hMcjz0QLwFEhQNCvRAqDXNO//+80B2cRsN3PjzQKH4MeZvzvNAeqUsQ87U80AnwoanjsfzQIPAyqHmrPNAZ0Rpb2uh80CV1AloNoPzQDvfT425l/NAS8gHPWlw80A/xty1QYzzQJ2AJsL7ZPNAEqW9wXBy80DByqFF/V7zQESLbOdaNPNA6pWyDG9a80DJdr6fdzrzQNGRXP4HW/NAnu+nxk4280Dx9EpZKV/zQB+F61FcWfNAV1uxv+RB80AhsHJoeDXzQERpb/CPSPNAa5p3nDNl80CGWtO8PVHzQILix5idVvNA",
          "dtype": "f8"
         }
        },
        {
         "marker": {
          "color": "#3f3f3f",
          "size": 5
         },
         "mode": "lines+markers",
         "name": "Original",
         "showlegend": true,
         "type": "scatter",
         "x": [
          "2024-04-10T00:00:00",
          "2024-04-11T00:00:00",
          "2024-04-12T00:00:00",
          "2024-04-13T00:00:00",
          "2024-04-14T00:00:00",
          "2024-04-15T00:00:00",
          "2024-04-16T00:00:00",
          "2024-04-17T00:00:00",
          "2024-04-18T00:00:00",
          "2024-04-19T00:00:00",
          "2024-04-20T00:00:00",
          "2024-04-21T00:00:00",
          "2024-04-22T00:00:00",
          "2024-04-23T00:00:00",
          "2024-04-24T00:00:00",
          "2024-04-25T00:00:00",
          "2024-04-26T00:00:00",
          "2024-04-27T00:00:00",
          "2024-04-28T00:00:00",
          "2024-04-29T00:00:00",
          "2024-04-30T00:00:00",
          "2024-05-01T00:00:00",
          "2024-05-02T00:00:00",
          "2024-05-03T00:00:00",
          "2024-05-04T00:00:00",
          "2024-05-05T00:00:00",
          "2024-05-06T00:00:00",
          "2024-05-07T00:00:00",
          "2024-05-08T00:00:00",
          "2024-05-09T00:00:00",
          "2024-05-10T00:00:00",
          "2024-05-11T00:00:00",
          "2024-05-12T00:00:00",
          "2024-05-13T00:00:00",
          "2024-05-14T00:00:00",
          "2024-05-15T00:00:00",
          "2024-05-16T00:00:00",
          "2024-05-17T00:00:00",
          "2024-05-18T00:00:00",
          "2024-05-19T00:00:00",
          "2024-05-20T00:00:00",
          "2024-05-21T00:00:00",
          "2024-05-22T00:00:00",
          "2024-05-23T00:00:00",
          "2024-05-24T00:00:00",
          "2024-05-25T00:00:00",
          "2024-05-26T00:00:00",
          "2024-05-27T00:00:00",
          "2024-05-28T00:00:00",
          "2024-05-29T00:00:00",
          "2024-05-30T00:00:00",
          "2024-05-31T00:00:00",
          "2024-06-01T00:00:00",
          "2024-06-02T00:00:00",
          "2024-06-03T00:00:00",
          "2024-06-04T00:00:00",
          "2024-06-05T00:00:00",
          "2024-06-06T00:00:00",
          "2024-06-07T00:00:00",
          "2024-06-08T00:00:00",
          "2024-06-09T00:00:00",
          "2024-06-10T00:00:00",
          "2024-06-11T00:00:00",
          "2024-06-12T00:00:00",
          "2024-06-13T00:00:00",
          "2024-06-14T00:00:00",
          "2024-06-15T00:00:00",
          "2024-06-16T00:00:00",
          "2024-06-17T00:00:00",
          "2024-06-18T00:00:00",
          "2024-06-19T00:00:00",
          "2024-06-20T00:00:00",
          "2024-06-21T00:00:00",
          "2024-06-22T00:00:00",
          "2024-06-23T00:00:00",
          "2024-06-24T00:00:00",
          "2024-06-25T00:00:00",
          "2024-06-26T00:00:00",
          "2024-06-27T00:00:00",
          "2024-06-28T00:00:00",
          "2024-06-29T00:00:00",
          "2024-06-30T00:00:00",
          "2024-07-01T00:00:00",
          "2024-07-02T00:00:00",
          "2024-07-03T00:00:00",
          "2024-07-04T00:00:00",
          "2024-07-05T00:00:00",
          "2024-07-06T00:00:00",
          "2024-07-07T00:00:00",
          "2024-07-08T00:00:00",
          "2024-07-09T00:00:00",
          "2024-07-10T00:00:00",
          "2024-07-11T00:00:00",
          "2024-07-12T00:00:00",
          "2024-07-13T00:00:00",
          "2024-07-14T00:00:00",
          "2024-07-15T00:00:00",
          "2024-07-16T00:00:00",
          "2024-07-17T00:00:00",
          "2024-07-18T00:00:00",
          "2024-07-19T00:00:00",
          "2024-07-20T00:00:00",
          "2024-07-21T00:00:00",
          "2024-07-22T00:00:00",
          "2024-07-23T00:00:00",
          "2024-07-24T00:00:00",
          "2024-07-25T00:00:00",
          "2024-07-26T00:00:00",
          "2024-07-27T00:00:00",
          "2024-07-28T00:00:00",
          "2024-07-29T00:00:00",
          "2024-07-30T00:00:00",
          "2024-07-31T00:00:00",
          "2024-08-01T00:00:00",
          "2024-08-02T00:00:00",
          "2024-08-03T00:00:00",
          "2024-08-04T00:00:00",
          "2024-08-05T00:00:00",
          "2024-08-06T00:00:00",
          "2024-08-07T00:00:00",
          "2024-08-08T00:00:00",
          "2024-08-09T00:00:00",
          "2024-08-10T00:00:00",
          "2024-08-11T00:00:00",
          "2024-08-12T00:00:00",
          "2024-08-13T00:00:00",
          "2024-08-14T00:00:00",
          "2024-08-15T00:00:00",
          "2024-08-16T00:00:00",
          "2024-08-17T00:00:00",
          "2024-08-18T00:00:00",
          "2024-08-19T00:00:00",
          "2024-08-20T00:00:00",
          "2024-08-21T00:00:00",
          "2024-08-22T00:00:00",
          "2024-08-23T00:00:00",
          "2024-08-24T00:00:00",
          "2024-08-25T00:00:00",
          "2024-08-26T00:00:00",
          "2024-08-27T00:00:00",
          "2024-08-28T00:00:00",
          "2024-08-29T00:00:00",
          "2024-08-30T00:00:00",
          "2024-08-31T00:00:00",
          "2024-09-01T00:00:00",
          "2024-09-02T00:00:00",
          "2024-09-03T00:00:00",
          "2024-09-04T00:00:00",
          "2024-09-05T00:00:00",
          "2024-09-06T00:00:00",
          "2024-09-07T00:00:00",
          "2024-09-08T00:00:00",
          "2024-09-09T00:00:00",
          "2024-09-10T00:00:00",
          "2024-09-11T00:00:00",
          "2024-09-12T00:00:00",
          "2024-09-13T00:00:00",
          "2024-09-14T00:00:00",
          "2024-09-15T00:00:00",
          "2024-09-16T00:00:00",
          "2024-09-17T00:00:00",
          "2024-09-18T00:00:00",
          "2024-09-19T00:00:00",
          "2024-09-20T00:00:00",
          "2024-09-21T00:00:00",
          "2024-09-22T00:00:00",
          "2024-09-23T00:00:00",
          "2024-09-24T00:00:00",
          "2024-09-25T00:00:00",
          "2024-09-26T00:00:00",
          "2024-09-27T00:00:00",
          "2024-09-28T00:00:00",
          "2024-09-29T00:00:00",
          "2024-09-30T00:00:00",
          "2024-10-01T00:00:00",
          "2024-10-02T00:00:00",
          "2024-10-03T00:00:00",
          "2024-10-04T00:00:00",
          "2024-10-05T00:00:00",
          "2024-10-06T00:00:00",
          "2024-10-07T00:00:00",
          "2024-10-08T00:00:00",
          "2024-10-09T00:00:00",
          "2024-10-10T00:00:00",
          "2024-10-11T00:00:00",
          "2024-10-12T00:00:00",
          "2024-10-13T00:00:00",
          "2024-10-14T00:00:00",
          "2024-10-15T00:00:00",
          "2024-10-16T00:00:00",
          "2024-10-17T00:00:00",
          "2024-10-18T00:00:00",
          "2024-10-19T00:00:00",
          "2024-10-20T00:00:00",
          "2024-10-21T00:00:00",
          "2024-10-22T00:00:00",
          "2024-10-23T00:00:00",
          "2024-10-24T00:00:00",
          "2024-10-25T00:00:00",
          "2024-10-26T00:00:00",
          "2024-10-27T00:00:00",
          "2024-10-28T00:00:00",
          "2024-10-29T00:00:00",
          "2024-10-30T00:00:00",
          "2024-10-31T00:00:00",
          "2024-11-01T00:00:00",
          "2024-11-02T00:00:00",
          "2024-11-03T00:00:00",
          "2024-11-04T00:00:00",
          "2024-11-05T00:00:00",
          "2024-11-06T00:00:00",
          "2024-11-07T00:00:00",
          "2024-11-08T00:00:00",
          "2024-11-09T00:00:00",
          "2024-11-10T00:00:00",
          "2024-11-11T00:00:00",
          "2024-11-12T00:00:00",
          "2024-11-13T00:00:00",
          "2024-11-14T00:00:00",
          "2024-11-15T00:00:00",
          "2024-11-16T00:00:00",
          "2024-11-17T00:00:00",
          "2024-11-18T00:00:00",
          "2024-11-19T00:00:00",
          "2024-11-20T00:00:00",
          "2024-11-21T00:00:00",
          "2024-11-22T00:00:00",
          "2024-11-23T00:00:00",
          "2024-11-24T00:00:00",
          "2024-11-25T00:00:00",
          "2024-11-26T00:00:00",
          "2024-11-27T00:00:00",
          "2024-11-28T00:00:00",
          "2024-11-29T00:00:00",
          "2024-11-30T00:00:00",
          "2024-12-01T00:00:00",
          "2024-12-02T00:00:00",
          "2024-12-03T00:00:00",
          "2024-12-04T00:00:00",
          "2024-12-05T00:00:00",
          "2024-12-06T00:00:00",
          "2024-12-07T00:00:00",
          "2024-12-08T00:00:00",
          "2024-12-09T00:00:00",
          "2024-12-10T00:00:00",
          "2024-12-11T00:00:00",
          "2024-12-12T00:00:00",
          "2024-12-13T00:00:00",
          "2024-12-14T00:00:00",
          "2024-12-15T00:00:00",
          "2024-12-16T00:00:00",
          "2024-12-17T00:00:00",
          "2024-12-18T00:00:00",
          "2024-12-19T00:00:00",
          "2024-12-20T00:00:00",
          "2024-12-21T00:00:00",
          "2024-12-22T00:00:00",
          "2024-12-23T00:00:00",
          "2024-12-24T00:00:00",
          "2024-12-25T00:00:00",
          "2024-12-26T00:00:00",
          "2024-12-27T00:00:00",
          "2024-12-28T00:00:00",
          "2024-12-29T00:00:00",
          "2024-12-30T00:00:00",
          "2024-12-31T00:00:00",
          "2025-01-01T00:00:00",
          "2025-01-02T00:00:00",
          "2025-01-03T00:00:00",
          "2025-01-04T00:00:00",
          "2025-01-05T00:00:00",
          "2025-01-06T00:00:00",
          "2025-01-07T00:00:00",
          "2025-01-08T00:00:00",
          "2025-01-09T00:00:00",
          "2025-01-10T00:00:00",
          "2025-01-11T00:00:00",
          "2025-01-12T00:00:00",
          "2025-01-13T00:00:00",
          "2025-01-14T00:00:00",
          "2025-01-15T00:00:00",
          "2025-01-16T00:00:00",
          "2025-01-17T00:00:00",
          "2025-01-18T00:00:00",
          "2025-01-19T00:00:00",
          "2025-01-20T00:00:00",
          "2025-01-21T00:00:00",
          "2025-01-22T00:00:00",
          "2025-01-23T00:00:00",
          "2025-01-24T00:00:00",
          "2025-01-25T00:00:00",
          "2025-01-26T00:00:00",
          "2025-01-27T00:00:00",
          "2025-01-28T00:00:00",
          "2025-01-29T00:00:00",
          "2025-01-30T00:00:00",
          "2025-01-31T00:00:00",
          "2025-02-01T00:00:00",
          "2025-02-02T00:00:00",
          "2025-02-03T00:00:00",
          "2025-02-04T00:00:00",
          "2025-02-05T00:00:00",
          "2025-02-06T00:00:00",
          "2025-02-07T00:00:00",
          "2025-02-08T00:00:00",
          "2025-02-09T00:00:00",
          "2025-02-10T00:00:00",
          "2025-02-11T00:00:00",
          "2025-02-12T00:00:00",
          "2025-02-13T00:00:00",
          "2025-02-14T00:00:00",
          "2025-02-15T00:00:00",
          "2025-02-16T00:00:00",
          "2025-02-17T00:00:00",
          "2025-02-18T00:00:00",
          "2025-02-19T00:00:00",
          "2025-02-20T00:00:00",
          "2025-02-21T00:00:00",
          "2025-02-22T00:00:00",
          "2025-02-23T00:00:00",
          "2025-02-24T00:00:00",
          "2025-02-25T00:00:00",
          "2025-02-26T00:00:00",
          "2025-02-27T00:00:00",
          "2025-02-28T00:00:00",
          "2025-03-01T00:00:00",
          "2025-03-02T00:00:00",
          "2025-03-03T00:00:00",
          "2025-03-04T00:00:00",
          "2025-03-05T00:00:00",
          "2025-03-06T00:00:00",
          "2025-03-07T00:00:00",
          "2025-03-08T00:00:00",
          "2025-03-09T00:00:00",
          "2025-03-10T00:00:00",
          "2025-03-11T00:00:00",
          "2025-03-12T00:00:00",
          "2025-03-13T00:00:00",
          "2025-03-14T00:00:00",
          "2025-03-15T00:00:00",
          "2025-03-16T00:00:00",
          "2025-03-17T00:00:00",
          "2025-03-18T00:00:00",
          "2025-03-19T00:00:00",
          "2025-03-20T00:00:00",
          "2025-03-21T00:00:00",
          "2025-03-22T00:00:00",
          "2025-03-23T00:00:00",
          "2025-03-24T00:00:00",
          "2025-03-25T00:00:00",
          "2025-03-26T00:00:00",
          "2025-03-27T00:00:00",
          "2025-03-28T00:00:00",
          "2025-03-29T00:00:00",
          "2025-03-30T00:00:00",
          "2025-03-31T00:00:00",
          "2025-04-01T00:00:00",
          "2025-04-02T00:00:00",
          "2025-04-03T00:00:00",
          "2025-04-04T00:00:00",
          "2025-04-05T00:00:00",
          "2025-04-06T00:00:00",
          "2025-04-07T00:00:00",
          "2025-04-08T00:00:00",
          "2025-04-09T00:00:00"
         ],
         "y": {
          "bdata": "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",
          "dtype": "f8"
         }
        }
       ],
       "layout": {
        "showlegend": true,
        "template": {
         "data": {
          "bar": [
           {
            "error_x": {
             "color": "rgb(51,51,51)"
            },
            "error_y": {
             "color": "rgb(51,51,51)"
            },
            "marker": {
             "line": {
              "color": "rgb(237,237,237)",
              "width": 0.5
             },
             "pattern": {
              "fillmode": "overlay",
              "size": 10,
              "solidity": 0.2
             }
            },
            "type": "bar"
           }
          ],
          "barpolar": [
           {
            "marker": {
             "line": {
              "color": "rgb(237,237,237)",
              "width": 0.5
             },
             "pattern": {
              "fillmode": "overlay",
              "size": 10,
              "solidity": 0.2
             }
            },
            "type": "barpolar"
           }
          ],
          "carpet": [
           {
            "aaxis": {
             "endlinecolor": "rgb(51,51,51)",
             "gridcolor": "white",
             "linecolor": "white",
             "minorgridcolor": "white",
             "startlinecolor": "rgb(51,51,51)"
            },
            "baxis": {
             "endlinecolor": "rgb(51,51,51)",
             "gridcolor": "white",
             "linecolor": "white",
             "minorgridcolor": "white",
             "startlinecolor": "rgb(51,51,51)"
            },
            "type": "carpet"
           }
          ],
          "choropleth": [
           {
            "colorbar": {
             "outlinewidth": 0,
             "tickcolor": "rgb(237,237,237)",
             "ticklen": 6,
             "ticks": "inside"
            },
            "type": "choropleth"
           }
          ],
          "contour": [
           {
            "colorbar": {
             "outlinewidth": 0,
             "tickcolor": "rgb(237,237,237)",
             "ticklen": 6,
             "ticks": "inside"
            },
            "colorscale": [
             [
              0,
              "rgb(20,44,66)"
             ],
             [
              1,
              "rgb(90,179,244)"
             ]
            ],
            "type": "contour"
           }
          ],
          "contourcarpet": [
           {
            "colorbar": {
             "outlinewidth": 0,
             "tickcolor": "rgb(237,237,237)",
             "ticklen": 6,
             "ticks": "inside"
            },
            "type": "contourcarpet"
           }
          ],
          "heatmap": [
           {
            "colorbar": {
             "outlinewidth": 0,
             "tickcolor": "rgb(237,237,237)",
             "ticklen": 6,
             "ticks": "inside"
            },
            "colorscale": [
             [
              0,
              "rgb(20,44,66)"
             ],
             [
              1,
              "rgb(90,179,244)"
             ]
            ],
            "type": "heatmap"
           }
          ],
          "histogram": [
           {
            "marker": {
             "pattern": {
              "fillmode": "overlay",
              "size": 10,
              "solidity": 0.2
             }
            },
            "type": "histogram"
           }
          ],
          "histogram2d": [
           {
            "colorbar": {
             "outlinewidth": 0,
             "tickcolor": "rgb(237,237,237)",
             "ticklen": 6,
             "ticks": "inside"
            },
            "colorscale": [
             [
              0,
              "rgb(20,44,66)"
             ],
             [
              1,
              "rgb(90,179,244)"
             ]
            ],
            "type": "histogram2d"
           }
          ],
          "histogram2dcontour": [
           {
            "colorbar": {
             "outlinewidth": 0,
             "tickcolor": "rgb(237,237,237)",
             "ticklen": 6,
             "ticks": "inside"
            },
            "colorscale": [
             [
              0,
              "rgb(20,44,66)"
             ],
             [
              1,
              "rgb(90,179,244)"
             ]
            ],
            "type": "histogram2dcontour"
           }
          ],
          "mesh3d": [
           {
            "colorbar": {
             "outlinewidth": 0,
             "tickcolor": "rgb(237,237,237)",
             "ticklen": 6,
             "ticks": "inside"
            },
            "type": "mesh3d"
           }
          ],
          "parcoords": [
           {
            "line": {
             "colorbar": {
              "outlinewidth": 0,
              "tickcolor": "rgb(237,237,237)",
              "ticklen": 6,
              "ticks": "inside"
             }
            },
            "type": "parcoords"
           }
          ],
          "pie": [
           {
            "automargin": true,
            "type": "pie"
           }
          ],
          "scatter": [
           {
            "fillpattern": {
             "fillmode": "overlay",
             "size": 10,
             "solidity": 0.2
            },
            "type": "scatter"
           }
          ],
          "scatter3d": [
           {
            "line": {
             "colorbar": {
              "outlinewidth": 0,
              "tickcolor": "rgb(237,237,237)",
              "ticklen": 6,
              "ticks": "inside"
             }
            },
            "marker": {
             "colorbar": {
              "outlinewidth": 0,
              "tickcolor": "rgb(237,237,237)",
              "ticklen": 6,
              "ticks": "inside"
             }
            },
            "type": "scatter3d"
           }
          ],
          "scattercarpet": [
           {
            "marker": {
             "colorbar": {
              "outlinewidth": 0,
              "tickcolor": "rgb(237,237,237)",
              "ticklen": 6,
              "ticks": "inside"
             }
            },
            "type": "scattercarpet"
           }
          ],
          "scattergeo": [
           {
            "marker": {
             "colorbar": {
              "outlinewidth": 0,
              "tickcolor": "rgb(237,237,237)",
              "ticklen": 6,
              "ticks": "inside"
             }
            },
            "type": "scattergeo"
           }
          ],
          "scattergl": [
           {
            "marker": {
             "colorbar": {
              "outlinewidth": 0,
              "tickcolor": "rgb(237,237,237)",
              "ticklen": 6,
              "ticks": "inside"
             }
            },
            "type": "scattergl"
           }
          ],
          "scattermap": [
           {
            "marker": {
             "colorbar": {
              "outlinewidth": 0,
              "tickcolor": "rgb(237,237,237)",
              "ticklen": 6,
              "ticks": "inside"
             }
            },
            "type": "scattermap"
           }
          ],
          "scattermapbox": [
           {
            "marker": {
             "colorbar": {
              "outlinewidth": 0,
              "tickcolor": "rgb(237,237,237)",
              "ticklen": 6,
              "ticks": "inside"
             }
            },
            "type": "scattermapbox"
           }
          ],
          "scatterpolar": [
           {
            "marker": {
             "colorbar": {
              "outlinewidth": 0,
              "tickcolor": "rgb(237,237,237)",
              "ticklen": 6,
              "ticks": "inside"
             }
            },
            "type": "scatterpolar"
           }
          ],
          "scatterpolargl": [
           {
            "marker": {
             "colorbar": {
              "outlinewidth": 0,
              "tickcolor": "rgb(237,237,237)",
              "ticklen": 6,
              "ticks": "inside"
             }
            },
            "type": "scatterpolargl"
           }
          ],
          "scatterternary": [
           {
            "marker": {
             "colorbar": {
              "outlinewidth": 0,
              "tickcolor": "rgb(237,237,237)",
              "ticklen": 6,
              "ticks": "inside"
             }
            },
            "type": "scatterternary"
           }
          ],
          "surface": [
           {
            "colorbar": {
             "outlinewidth": 0,
             "tickcolor": "rgb(237,237,237)",
             "ticklen": 6,
             "ticks": "inside"
            },
            "colorscale": [
             [
              0,
              "rgb(20,44,66)"
             ],
             [
              1,
              "rgb(90,179,244)"
             ]
            ],
            "type": "surface"
           }
          ],
          "table": [
           {
            "cells": {
             "fill": {
              "color": "rgb(237,237,237)"
             },
             "line": {
              "color": "white"
             }
            },
            "header": {
             "fill": {
              "color": "rgb(217,217,217)"
             },
             "line": {
              "color": "white"
             }
            },
            "type": "table"
           }
          ]
         },
         "layout": {
          "annotationdefaults": {
           "arrowhead": 0,
           "arrowwidth": 1
          },
          "autotypenumbers": "strict",
          "coloraxis": {
           "colorbar": {
            "outlinewidth": 0,
            "tickcolor": "rgb(237,237,237)",
            "ticklen": 6,
            "ticks": "inside"
           }
          },
          "colorscale": {
           "sequential": [
            [
             0,
             "rgb(20,44,66)"
            ],
            [
             1,
             "rgb(90,179,244)"
            ]
           ],
           "sequentialminus": [
            [
             0,
             "rgb(20,44,66)"
            ],
            [
             1,
             "rgb(90,179,244)"
            ]
           ]
          },
          "colorway": [
           "#F8766D",
           "#A3A500",
           "#00BF7D",
           "#00B0F6",
           "#E76BF3"
          ],
          "font": {
           "color": "rgb(51,51,51)"
          },
          "geo": {
           "bgcolor": "white",
           "lakecolor": "white",
           "landcolor": "rgb(237,237,237)",
           "showlakes": true,
           "showland": true,
           "subunitcolor": "white"
          },
          "hoverlabel": {
           "align": "left"
          },
          "hovermode": "closest",
          "paper_bgcolor": "white",
          "plot_bgcolor": "rgb(237,237,237)",
          "polar": {
           "angularaxis": {
            "gridcolor": "white",
            "linecolor": "white",
            "showgrid": true,
            "tickcolor": "rgb(51,51,51)",
            "ticks": "outside"
           },
           "bgcolor": "rgb(237,237,237)",
           "radialaxis": {
            "gridcolor": "white",
            "linecolor": "white",
            "showgrid": true,
            "tickcolor": "rgb(51,51,51)",
            "ticks": "outside"
           }
          },
          "scene": {
           "xaxis": {
            "backgroundcolor": "rgb(237,237,237)",
            "gridcolor": "white",
            "gridwidth": 2,
            "linecolor": "white",
            "showbackground": true,
            "showgrid": true,
            "tickcolor": "rgb(51,51,51)",
            "ticks": "outside",
            "zerolinecolor": "white"
           },
           "yaxis": {
            "backgroundcolor": "rgb(237,237,237)",
            "gridcolor": "white",
            "gridwidth": 2,
            "linecolor": "white",
            "showbackground": true,
            "showgrid": true,
            "tickcolor": "rgb(51,51,51)",
            "ticks": "outside",
            "zerolinecolor": "white"
           },
           "zaxis": {
            "backgroundcolor": "rgb(237,237,237)",
            "gridcolor": "white",
            "gridwidth": 2,
            "linecolor": "white",
            "showbackground": true,
            "showgrid": true,
            "tickcolor": "rgb(51,51,51)",
            "ticks": "outside",
            "zerolinecolor": "white"
           }
          },
          "shapedefaults": {
           "fillcolor": "black",
           "line": {
            "width": 0
           },
           "opacity": 0.3
          },
          "ternary": {
           "aaxis": {
            "gridcolor": "white",
            "linecolor": "white",
            "showgrid": true,
            "tickcolor": "rgb(51,51,51)",
            "ticks": "outside"
           },
           "baxis": {
            "gridcolor": "white",
            "linecolor": "white",
            "showgrid": true,
            "tickcolor": "rgb(51,51,51)",
            "ticks": "outside"
           },
           "bgcolor": "rgb(237,237,237)",
           "caxis": {
            "gridcolor": "white",
            "linecolor": "white",
            "showgrid": true,
            "tickcolor": "rgb(51,51,51)",
            "ticks": "outside"
           }
          },
          "xaxis": {
           "automargin": true,
           "gridcolor": "white",
           "linecolor": "white",
           "showgrid": true,
           "tickcolor": "rgb(51,51,51)",
           "ticks": "outside",
           "title": {
            "standoff": 15
           },
           "zerolinecolor": "white"
          },
          "yaxis": {
           "automargin": true,
           "gridcolor": "white",
           "linecolor": "white",
           "showgrid": true,
           "tickcolor": "rgb(51,51,51)",
           "ticks": "outside",
           "title": {
            "standoff": 15
           },
           "zerolinecolor": "white"
          }
         }
        },
        "title": {
         "text": "Actual vs. 'Out-of-Sample' Forecast | BTC-USD"
        },
        "xaxis": {
         "title": {
          "text": "Time"
         }
        },
        "yaxis": {
         "title": {
          "text": "Values"
         }
        }
       }
      }
     },
     "metadata": {},
     "output_type": "display_data"
    },
    {
     "data": {
      "text/plain": [
       "<Figure size 800x550 with 0 Axes>"
      ]
     },
     "metadata": {},
     "output_type": "display_data"
    },
    {
     "name": "stdout",
     "output_type": "stream",
     "text": [
      "Transformation Pipeline and Model Successfully Saved\n"
     ]
    }
   ],
   "source": [
    "if __name__ == \"__main__\":\n",
    "    data = fetch_data()\n",
    "    trained_model, plot = get_btc_prophet(data)\n",
    "    plt.show()\n",
    "    if trained_model is not None and plot is not None:\n",
    "        save_model(trained_model, 'trained_model')\n",
    "        plt.show()\n",
    "    else:\n",
    "        print(\"Model training or plotting failed\")"
   ]
  },
  {
   "cell_type": "code",
   "execution_count": 88,
   "id": "8cb482c9",
   "metadata": {},
   "outputs": [
    {
     "data": {
      "text/html": [],
      "text/plain": [
       "<IPython.core.display.HTML object>"
      ]
     },
     "metadata": {},
     "output_type": "display_data"
    },
    {
     "data": {
      "text/html": [
       "<style type=\"text/css\">\n",
       "#T_430a6_row3_col0, #T_430a6_row3_col1, #T_430a6_row3_col2, #T_430a6_row3_col3, #T_430a6_row3_col4, #T_430a6_row3_col5, #T_430a6_row3_col6, #T_430a6_row3_col7 {\n",
       "  background: yellow;\n",
       "}\n",
       "</style>\n",
       "<table id=\"T_430a6\">\n",
       "  <thead>\n",
       "    <tr>\n",
       "      <th class=\"blank level0\" >&nbsp;</th>\n",
       "      <th id=\"T_430a6_level0_col0\" class=\"col_heading level0 col0\" >cutoff</th>\n",
       "      <th id=\"T_430a6_level0_col1\" class=\"col_heading level0 col1\" >MASE</th>\n",
       "      <th id=\"T_430a6_level0_col2\" class=\"col_heading level0 col2\" >RMSSE</th>\n",
       "      <th id=\"T_430a6_level0_col3\" class=\"col_heading level0 col3\" >MAE</th>\n",
       "      <th id=\"T_430a6_level0_col4\" class=\"col_heading level0 col4\" >RMSE</th>\n",
       "      <th id=\"T_430a6_level0_col5\" class=\"col_heading level0 col5\" >MAPE</th>\n",
       "      <th id=\"T_430a6_level0_col6\" class=\"col_heading level0 col6\" >SMAPE</th>\n",
       "      <th id=\"T_430a6_level0_col7\" class=\"col_heading level0 col7\" >R2</th>\n",
       "    </tr>\n",
       "  </thead>\n",
       "  <tbody>\n",
       "    <tr>\n",
       "      <th id=\"T_430a6_level0_row0\" class=\"row_heading level0 row0\" >0</th>\n",
       "      <td id=\"T_430a6_row0_col0\" class=\"data row0 col0\" >2024-12-09</td>\n",
       "      <td id=\"T_430a6_row0_col1\" class=\"data row0 col1\" >1.3333</td>\n",
       "      <td id=\"T_430a6_row0_col2\" class=\"data row0 col2\" >1.1959</td>\n",
       "      <td id=\"T_430a6_row0_col3\" class=\"data row0 col3\" >4806.9143</td>\n",
       "      <td id=\"T_430a6_row0_col4\" class=\"data row0 col4\" >5762.3896</td>\n",
       "      <td id=\"T_430a6_row0_col5\" class=\"data row0 col5\" >0.0496</td>\n",
       "      <td id=\"T_430a6_row0_col6\" class=\"data row0 col6\" >0.0483</td>\n",
       "      <td id=\"T_430a6_row0_col7\" class=\"data row0 col7\" >-1.6626</td>\n",
       "    </tr>\n",
       "    <tr>\n",
       "      <th id=\"T_430a6_level0_row1\" class=\"row_heading level0 row1\" >1</th>\n",
       "      <td id=\"T_430a6_row1_col0\" class=\"data row1 col0\" >2025-01-08</td>\n",
       "      <td id=\"T_430a6_row1_col1\" class=\"data row1 col1\" >1.0532</td>\n",
       "      <td id=\"T_430a6_row1_col2\" class=\"data row1 col2\" >0.8966</td>\n",
       "      <td id=\"T_430a6_row1_col3\" class=\"data row1 col3\" >3837.7182</td>\n",
       "      <td id=\"T_430a6_row1_col4\" class=\"data row1 col4\" >4332.6144</td>\n",
       "      <td id=\"T_430a6_row1_col5\" class=\"data row1 col5\" >0.0383</td>\n",
       "      <td id=\"T_430a6_row1_col6\" class=\"data row1 col6\" >0.0384</td>\n",
       "      <td id=\"T_430a6_row1_col7\" class=\"data row1 col7\" >-0.2665</td>\n",
       "    </tr>\n",
       "    <tr>\n",
       "      <th id=\"T_430a6_level0_row2\" class=\"row_heading level0 row2\" >2</th>\n",
       "      <td id=\"T_430a6_row2_col0\" class=\"data row2 col0\" >2025-02-07</td>\n",
       "      <td id=\"T_430a6_row2_col1\" class=\"data row2 col1\" >1.3397</td>\n",
       "      <td id=\"T_430a6_row2_col2\" class=\"data row2 col2\" >1.3018</td>\n",
       "      <td id=\"T_430a6_row2_col3\" class=\"data row2 col3\" >4980.6148</td>\n",
       "      <td id=\"T_430a6_row2_col4\" class=\"data row2 col4\" >6356.8002</td>\n",
       "      <td id=\"T_430a6_row2_col5\" class=\"data row2 col5\" >0.0566</td>\n",
       "      <td id=\"T_430a6_row2_col6\" class=\"data row2 col6\" >0.0543</td>\n",
       "      <td id=\"T_430a6_row2_col7\" class=\"data row2 col7\" >-0.4456</td>\n",
       "    </tr>\n",
       "    <tr>\n",
       "      <th id=\"T_430a6_level0_row3\" class=\"row_heading level0 row3\" >Mean</th>\n",
       "      <td id=\"T_430a6_row3_col0\" class=\"data row3 col0\" >NaT</td>\n",
       "      <td id=\"T_430a6_row3_col1\" class=\"data row3 col1\" >1.2421</td>\n",
       "      <td id=\"T_430a6_row3_col2\" class=\"data row3 col2\" >1.1314</td>\n",
       "      <td id=\"T_430a6_row3_col3\" class=\"data row3 col3\" >4541.7491</td>\n",
       "      <td id=\"T_430a6_row3_col4\" class=\"data row3 col4\" >5483.9347</td>\n",
       "      <td id=\"T_430a6_row3_col5\" class=\"data row3 col5\" >0.0482</td>\n",
       "      <td id=\"T_430a6_row3_col6\" class=\"data row3 col6\" >0.0470</td>\n",
       "      <td id=\"T_430a6_row3_col7\" class=\"data row3 col7\" >-0.7916</td>\n",
       "    </tr>\n",
       "    <tr>\n",
       "      <th id=\"T_430a6_level0_row4\" class=\"row_heading level0 row4\" >SD</th>\n",
       "      <td id=\"T_430a6_row4_col0\" class=\"data row4 col0\" >NaT</td>\n",
       "      <td id=\"T_430a6_row4_col1\" class=\"data row4 col1\" >0.1336</td>\n",
       "      <td id=\"T_430a6_row4_col2\" class=\"data row4 col2\" >0.1716</td>\n",
       "      <td id=\"T_430a6_row4_col3\" class=\"data row4 col3\" >502.8503</td>\n",
       "      <td id=\"T_430a6_row4_col4\" class=\"data row4 col4\" >849.5037</td>\n",
       "      <td id=\"T_430a6_row4_col5\" class=\"data row4 col5\" >0.0075</td>\n",
       "      <td id=\"T_430a6_row4_col6\" class=\"data row4 col6\" >0.0065</td>\n",
       "      <td id=\"T_430a6_row4_col7\" class=\"data row4 col7\" >0.6203</td>\n",
       "    </tr>\n",
       "  </tbody>\n",
       "</table>\n"
      ],
      "text/plain": [
       "<pandas.io.formats.style.Styler at 0x198741e9df0>"
      ]
     },
     "metadata": {},
     "output_type": "display_data"
    },
    {
     "data": {
      "text/html": [],
      "text/plain": [
       "<IPython.core.display.HTML object>"
      ]
     },
     "metadata": {},
     "output_type": "display_data"
    }
   ],
   "source": [
    "arima = create_model('arima')"
   ]
  },
  {
   "cell_type": "code",
   "execution_count": 89,
   "id": "bc6232f4",
   "metadata": {},
   "outputs": [
    {
     "data": {
      "text/html": [],
      "text/plain": [
       "<IPython.core.display.HTML object>"
      ]
     },
     "metadata": {},
     "output_type": "display_data"
    },
    {
     "data": {
      "text/html": [
       "<style type=\"text/css\">\n",
       "#T_10ec8_row3_col0, #T_10ec8_row3_col1, #T_10ec8_row3_col2, #T_10ec8_row3_col3, #T_10ec8_row3_col4, #T_10ec8_row3_col5, #T_10ec8_row3_col6, #T_10ec8_row3_col7 {\n",
       "  background: yellow;\n",
       "}\n",
       "</style>\n",
       "<table id=\"T_10ec8\">\n",
       "  <thead>\n",
       "    <tr>\n",
       "      <th class=\"blank level0\" >&nbsp;</th>\n",
       "      <th id=\"T_10ec8_level0_col0\" class=\"col_heading level0 col0\" >cutoff</th>\n",
       "      <th id=\"T_10ec8_level0_col1\" class=\"col_heading level0 col1\" >MASE</th>\n",
       "      <th id=\"T_10ec8_level0_col2\" class=\"col_heading level0 col2\" >RMSSE</th>\n",
       "      <th id=\"T_10ec8_level0_col3\" class=\"col_heading level0 col3\" >MAE</th>\n",
       "      <th id=\"T_10ec8_level0_col4\" class=\"col_heading level0 col4\" >RMSE</th>\n",
       "      <th id=\"T_10ec8_level0_col5\" class=\"col_heading level0 col5\" >MAPE</th>\n",
       "      <th id=\"T_10ec8_level0_col6\" class=\"col_heading level0 col6\" >SMAPE</th>\n",
       "      <th id=\"T_10ec8_level0_col7\" class=\"col_heading level0 col7\" >R2</th>\n",
       "    </tr>\n",
       "  </thead>\n",
       "  <tbody>\n",
       "    <tr>\n",
       "      <th id=\"T_10ec8_level0_row0\" class=\"row_heading level0 row0\" >0</th>\n",
       "      <td id=\"T_10ec8_row0_col0\" class=\"data row0 col0\" >2024-12-09</td>\n",
       "      <td id=\"T_10ec8_row0_col1\" class=\"data row0 col1\" >0.7755</td>\n",
       "      <td id=\"T_10ec8_row0_col2\" class=\"data row0 col2\" >0.7433</td>\n",
       "      <td id=\"T_10ec8_row0_col3\" class=\"data row0 col3\" >2795.7505</td>\n",
       "      <td id=\"T_10ec8_row0_col4\" class=\"data row0 col4\" >3581.4082</td>\n",
       "      <td id=\"T_10ec8_row0_col5\" class=\"data row0 col5\" >0.0281</td>\n",
       "      <td id=\"T_10ec8_row0_col6\" class=\"data row0 col6\" >0.0284</td>\n",
       "      <td id=\"T_10ec8_row0_col7\" class=\"data row0 col7\" >-0.0285</td>\n",
       "    </tr>\n",
       "    <tr>\n",
       "      <th id=\"T_10ec8_level0_row1\" class=\"row_heading level0 row1\" >1</th>\n",
       "      <td id=\"T_10ec8_row1_col0\" class=\"data row1 col0\" >2025-01-08</td>\n",
       "      <td id=\"T_10ec8_row1_col1\" class=\"data row1 col1\" >1.5058</td>\n",
       "      <td id=\"T_10ec8_row1_col2\" class=\"data row1 col2\" >1.3368</td>\n",
       "      <td id=\"T_10ec8_row1_col3\" class=\"data row1 col3\" >5486.6403</td>\n",
       "      <td id=\"T_10ec8_row1_col4\" class=\"data row1 col4\" >6459.5071</td>\n",
       "      <td id=\"T_10ec8_row1_col5\" class=\"data row1 col5\" >0.0535</td>\n",
       "      <td id=\"T_10ec8_row1_col6\" class=\"data row1 col6\" >0.0555</td>\n",
       "      <td id=\"T_10ec8_row1_col7\" class=\"data row1 col7\" >-1.8151</td>\n",
       "    </tr>\n",
       "    <tr>\n",
       "      <th id=\"T_10ec8_level0_row2\" class=\"row_heading level0 row2\" >2</th>\n",
       "      <td id=\"T_10ec8_row2_col0\" class=\"data row2 col0\" >2025-02-07</td>\n",
       "      <td id=\"T_10ec8_row2_col1\" class=\"data row2 col1\" >1.2567</td>\n",
       "      <td id=\"T_10ec8_row2_col2\" class=\"data row2 col2\" >1.3890</td>\n",
       "      <td id=\"T_10ec8_row2_col3\" class=\"data row2 col3\" >4671.8353</td>\n",
       "      <td id=\"T_10ec8_row2_col4\" class=\"data row2 col4\" >6782.8181</td>\n",
       "      <td id=\"T_10ec8_row2_col5\" class=\"data row2 col5\" >0.0539</td>\n",
       "      <td id=\"T_10ec8_row2_col6\" class=\"data row2 col6\" >0.0510</td>\n",
       "      <td id=\"T_10ec8_row2_col7\" class=\"data row2 col7\" >-0.6458</td>\n",
       "    </tr>\n",
       "    <tr>\n",
       "      <th id=\"T_10ec8_level0_row3\" class=\"row_heading level0 row3\" >Mean</th>\n",
       "      <td id=\"T_10ec8_row3_col0\" class=\"data row3 col0\" >NaT</td>\n",
       "      <td id=\"T_10ec8_row3_col1\" class=\"data row3 col1\" >1.1793</td>\n",
       "      <td id=\"T_10ec8_row3_col2\" class=\"data row3 col2\" >1.1564</td>\n",
       "      <td id=\"T_10ec8_row3_col3\" class=\"data row3 col3\" >4318.0754</td>\n",
       "      <td id=\"T_10ec8_row3_col4\" class=\"data row3 col4\" >5607.9111</td>\n",
       "      <td id=\"T_10ec8_row3_col5\" class=\"data row3 col5\" >0.0452</td>\n",
       "      <td id=\"T_10ec8_row3_col6\" class=\"data row3 col6\" >0.0450</td>\n",
       "      <td id=\"T_10ec8_row3_col7\" class=\"data row3 col7\" >-0.8298</td>\n",
       "    </tr>\n",
       "    <tr>\n",
       "      <th id=\"T_10ec8_level0_row4\" class=\"row_heading level0 row4\" >SD</th>\n",
       "      <td id=\"T_10ec8_row4_col0\" class=\"data row4 col0\" >NaT</td>\n",
       "      <td id=\"T_10ec8_row4_col1\" class=\"data row4 col1\" >0.3031</td>\n",
       "      <td id=\"T_10ec8_row4_col2\" class=\"data row4 col2\" >0.2929</td>\n",
       "      <td id=\"T_10ec8_row4_col3\" class=\"data row4 col3\" >1126.6711</td>\n",
       "      <td id=\"T_10ec8_row4_col4\" class=\"data row4 col4\" >1439.0200</td>\n",
       "      <td id=\"T_10ec8_row4_col5\" class=\"data row4 col5\" >0.0121</td>\n",
       "      <td id=\"T_10ec8_row4_col6\" class=\"data row4 col6\" >0.0119</td>\n",
       "      <td id=\"T_10ec8_row4_col7\" class=\"data row4 col7\" >0.7409</td>\n",
       "    </tr>\n",
       "  </tbody>\n",
       "</table>\n"
      ],
      "text/plain": [
       "<pandas.io.formats.style.Styler at 0x198025afd30>"
      ]
     },
     "metadata": {},
     "output_type": "display_data"
    },
    {
     "data": {
      "text/html": [],
      "text/plain": [
       "<IPython.core.display.HTML object>"
      ]
     },
     "metadata": {},
     "output_type": "display_data"
    },
    {
     "name": "stdout",
     "output_type": "stream",
     "text": [
      "Fitting 3 folds for each of 10 candidates, totalling 30 fits\n"
     ]
    },
    {
     "name": "stderr",
     "output_type": "stream",
     "text": [
      "[Parallel(n_jobs=-1)]: Using backend LokyBackend with 8 concurrent workers.\n",
      "[Parallel(n_jobs=-1)]: Done  30 out of  30 | elapsed:   19.2s finished\n"
     ]
    }
   ],
   "source": [
    "tuned_arima = tune_model(arima)"
   ]
  },
  {
   "cell_type": "code",
   "execution_count": 90,
   "id": "e00f67dd",
   "metadata": {},
   "outputs": [],
   "source": [
    "final_arima = finalize_model(tuned_arima)\n",
    "#future_dates = pd.date_range(df.index[-1], periods=30, freq='D')\n",
    "arima_predictions = predict_model(final_arima)"
   ]
  },
  {
   "cell_type": "code",
   "execution_count": 91,
   "id": "295e488c",
   "metadata": {},
   "outputs": [
    {
     "data": {
      "application/vnd.plotly.v1+json": {
       "config": {
        "plotlyServerURL": "https://plot.ly"
       },
       "data": [
        {
         "line": {
          "color": "#1f77b4"
         },
         "marker": {
          "size": 5
         },
         "mode": "lines+markers",
         "name": "Forecast | ARIMA",
         "showlegend": true,
         "type": "scatter",
         "x": [
          "2025-04-09T00:00:00",
          "2025-04-10T00:00:00",
          "2025-04-11T00:00:00",
          "2025-04-12T00:00:00",
          "2025-04-13T00:00:00",
          "2025-04-14T00:00:00",
          "2025-04-15T00:00:00",
          "2025-04-16T00:00:00",
          "2025-04-17T00:00:00",
          "2025-04-18T00:00:00",
          "2025-04-19T00:00:00",
          "2025-04-20T00:00:00",
          "2025-04-21T00:00:00",
          "2025-04-22T00:00:00",
          "2025-04-23T00:00:00",
          "2025-04-24T00:00:00",
          "2025-04-25T00:00:00",
          "2025-04-26T00:00:00",
          "2025-04-27T00:00:00",
          "2025-04-28T00:00:00",
          "2025-04-29T00:00:00",
          "2025-04-30T00:00:00",
          "2025-05-01T00:00:00",
          "2025-05-02T00:00:00",
          "2025-05-03T00:00:00",
          "2025-05-04T00:00:00",
          "2025-05-05T00:00:00",
          "2025-05-06T00:00:00",
          "2025-05-07T00:00:00",
          "2025-05-08T00:00:00"
         ],
         "y": {
          "bdata": "rK3YX11280AyVTAqbnbzQPJBz2ZtdvNA8x/Sb21280BnRGlvbXbzQGdEaW9tdvNAZ0Rpb21280BnRGlvbXbzQGdEaW9tdvNAZ0Rpb21280BnRGlvbXbzQGdEaW9tdvNAZ0Rpb21280BnRGlvbXbzQGdEaW9tdvNAZ0Rpb21280BnRGlvbXbzQGdEaW9tdvNAZ0Rpb21280BnRGlvbXbzQGdEaW9tdvNAZ0Rpb21280BnRGlvbXbzQGdEaW9tdvNAZ0Rpb21280BnRGlvbXbzQGdEaW9tdvNAZ0Rpb21280BnRGlvbXbzQGdEaW9tdvNA",
          "dtype": "f8"
         }
        },
        {
         "line": {
          "width": 0
         },
         "marker": {
          "color": "#68BBE3"
         },
         "mode": "lines",
         "name": "Lower Interval",
         "showlegend": false,
         "type": "scatter",
         "x": [
          "2025-04-09T00:00:00",
          "2025-04-10T00:00:00",
          "2025-04-11T00:00:00",
          "2025-04-12T00:00:00",
          "2025-04-13T00:00:00",
          "2025-04-14T00:00:00",
          "2025-04-15T00:00:00",
          "2025-04-16T00:00:00",
          "2025-04-17T00:00:00",
          "2025-04-18T00:00:00",
          "2025-04-19T00:00:00",
          "2025-04-20T00:00:00",
          "2025-04-21T00:00:00",
          "2025-04-22T00:00:00",
          "2025-04-23T00:00:00",
          "2025-04-24T00:00:00",
          "2025-04-25T00:00:00",
          "2025-04-26T00:00:00",
          "2025-04-27T00:00:00",
          "2025-04-28T00:00:00",
          "2025-04-29T00:00:00",
          "2025-04-30T00:00:00",
          "2025-05-01T00:00:00",
          "2025-05-02T00:00:00",
          "2025-05-03T00:00:00",
          "2025-05-04T00:00:00",
          "2025-05-05T00:00:00",
          "2025-05-06T00:00:00",
          "2025-05-07T00:00:00",
          "2025-05-08T00:00:00"
         ],
         "y": {
          "bdata": "4umVsiei8kA51sVteVPyQOSDns3fFvJARIts5yXk8UDPZtXnyrfxQLN78rD9j/FA1lbsL6dr8UDEQq1pEErxQPmgZ7O5KvFA5BQdyUUN8UBfmEwVbvHwQPhT46X71vBA4lgXt8K98EBvEoPAn6XwQFD8GHN1jvBAqoJRSSt48ECYbhKDrGLwQJT2Bl/nTfBA9bnaisw58ECcxCCwTibwQEi/fR1iE/BAaQBvgfwA8EDbiv1lKd7vQNPe4AtFu+9Akst/SD2Z70Ch+DHmBHjvQC2yne+PV+9Ax0s3idM370BwXwfOxRjvQBDpt69d+u5A",
          "dtype": "f8"
         }
        },
        {
         "fill": "tonexty",
         "fillcolor": "rgba(104,187,227,0.5)",
         "line": {
          "width": 0
         },
         "marker": {
          "color": "#68BBE3"
         },
         "mode": "lines",
         "name": "Prediction Interval | ARIMA",
         "showlegend": true,
         "type": "scatter",
         "x": [
          "2025-04-09T00:00:00",
          "2025-04-10T00:00:00",
          "2025-04-11T00:00:00",
          "2025-04-12T00:00:00",
          "2025-04-13T00:00:00",
          "2025-04-14T00:00:00",
          "2025-04-15T00:00:00",
          "2025-04-16T00:00:00",
          "2025-04-17T00:00:00",
          "2025-04-18T00:00:00",
          "2025-04-19T00:00:00",
          "2025-04-20T00:00:00",
          "2025-04-21T00:00:00",
          "2025-04-22T00:00:00",
          "2025-04-23T00:00:00",
          "2025-04-24T00:00:00",
          "2025-04-25T00:00:00",
          "2025-04-26T00:00:00",
          "2025-04-27T00:00:00",
          "2025-04-28T00:00:00",
          "2025-04-29T00:00:00",
          "2025-04-30T00:00:00",
          "2025-05-01T00:00:00",
          "2025-05-02T00:00:00",
          "2025-05-03T00:00:00",
          "2025-05-04T00:00:00",
          "2025-05-05T00:00:00",
          "2025-05-06T00:00:00",
          "2025-05-07T00:00:00",
          "2025-05-08T00:00:00"
         ],
         "y": {
          "bdata": "WYY41gNU9EB7gy9Mbqv0QO2ePCyr8PRAGsBbIAos9UC1N/jCCmH1QNcS8kF+kfVAbVZ9rnu+9UDpt68Duuj1QFuxv+y4EPZAysNCrdU29kBxrIvbVlv2QKyL22hzfvZAXwfOGVeg9kAi/fZ1JcH2QFioNc374PZAyeU/pPL/9kBuowG8Hh73QELPZtWRO/dAeqUsQ1tY90CrPldbiHT3QJ/Nqs8kkPdAXCBB8Tqr90By+Q/p08X3QHKKjuT33/dAv30dOK7590CutmJ//RL4QCgPC7XrK/hAZF3cRn5E+EDsL7snulz4QLfRAN6jdPhA",
          "dtype": "f8"
         }
        },
        {
         "marker": {
          "color": "#3f3f3f",
          "size": 5
         },
         "mode": "lines+markers",
         "name": "Original",
         "showlegend": true,
         "type": "scatter",
         "x": [
          "2024-04-09T00:00:00",
          "2024-04-10T00:00:00",
          "2024-04-11T00:00:00",
          "2024-04-12T00:00:00",
          "2024-04-13T00:00:00",
          "2024-04-14T00:00:00",
          "2024-04-15T00:00:00",
          "2024-04-16T00:00:00",
          "2024-04-17T00:00:00",
          "2024-04-18T00:00:00",
          "2024-04-19T00:00:00",
          "2024-04-20T00:00:00",
          "2024-04-21T00:00:00",
          "2024-04-22T00:00:00",
          "2024-04-23T00:00:00",
          "2024-04-24T00:00:00",
          "2024-04-25T00:00:00",
          "2024-04-26T00:00:00",
          "2024-04-27T00:00:00",
          "2024-04-28T00:00:00",
          "2024-04-29T00:00:00",
          "2024-04-30T00:00:00",
          "2024-05-01T00:00:00",
          "2024-05-02T00:00:00",
          "2024-05-03T00:00:00",
          "2024-05-04T00:00:00",
          "2024-05-05T00:00:00",
          "2024-05-06T00:00:00",
          "2024-05-07T00:00:00",
          "2024-05-08T00:00:00",
          "2024-05-09T00:00:00",
          "2024-05-10T00:00:00",
          "2024-05-11T00:00:00",
          "2024-05-12T00:00:00",
          "2024-05-13T00:00:00",
          "2024-05-14T00:00:00",
          "2024-05-15T00:00:00",
          "2024-05-16T00:00:00",
          "2024-05-17T00:00:00",
          "2024-05-18T00:00:00",
          "2024-05-19T00:00:00",
          "2024-05-20T00:00:00",
          "2024-05-21T00:00:00",
          "2024-05-22T00:00:00",
          "2024-05-23T00:00:00",
          "2024-05-24T00:00:00",
          "2024-05-25T00:00:00",
          "2024-05-26T00:00:00",
          "2024-05-27T00:00:00",
          "2024-05-28T00:00:00",
          "2024-05-29T00:00:00",
          "2024-05-30T00:00:00",
          "2024-05-31T00:00:00",
          "2024-06-01T00:00:00",
          "2024-06-02T00:00:00",
          "2024-06-03T00:00:00",
          "2024-06-04T00:00:00",
          "2024-06-05T00:00:00",
          "2024-06-06T00:00:00",
          "2024-06-07T00:00:00",
          "2024-06-08T00:00:00",
          "2024-06-09T00:00:00",
          "2024-06-10T00:00:00",
          "2024-06-11T00:00:00",
          "2024-06-12T00:00:00",
          "2024-06-13T00:00:00",
          "2024-06-14T00:00:00",
          "2024-06-15T00:00:00",
          "2024-06-16T00:00:00",
          "2024-06-17T00:00:00",
          "2024-06-18T00:00:00",
          "2024-06-19T00:00:00",
          "2024-06-20T00:00:00",
          "2024-06-21T00:00:00",
          "2024-06-22T00:00:00",
          "2024-06-23T00:00:00",
          "2024-06-24T00:00:00",
          "2024-06-25T00:00:00",
          "2024-06-26T00:00:00",
          "2024-06-27T00:00:00",
          "2024-06-28T00:00:00",
          "2024-06-29T00:00:00",
          "2024-06-30T00:00:00",
          "2024-07-01T00:00:00",
          "2024-07-02T00:00:00",
          "2024-07-03T00:00:00",
          "2024-07-04T00:00:00",
          "2024-07-05T00:00:00",
          "2024-07-06T00:00:00",
          "2024-07-07T00:00:00",
          "2024-07-08T00:00:00",
          "2024-07-09T00:00:00",
          "2024-07-10T00:00:00",
          "2024-07-11T00:00:00",
          "2024-07-12T00:00:00",
          "2024-07-13T00:00:00",
          "2024-07-14T00:00:00",
          "2024-07-15T00:00:00",
          "2024-07-16T00:00:00",
          "2024-07-17T00:00:00",
          "2024-07-18T00:00:00",
          "2024-07-19T00:00:00",
          "2024-07-20T00:00:00",
          "2024-07-21T00:00:00",
          "2024-07-22T00:00:00",
          "2024-07-23T00:00:00",
          "2024-07-24T00:00:00",
          "2024-07-25T00:00:00",
          "2024-07-26T00:00:00",
          "2024-07-27T00:00:00",
          "2024-07-28T00:00:00",
          "2024-07-29T00:00:00",
          "2024-07-30T00:00:00",
          "2024-07-31T00:00:00",
          "2024-08-01T00:00:00",
          "2024-08-02T00:00:00",
          "2024-08-03T00:00:00",
          "2024-08-04T00:00:00",
          "2024-08-05T00:00:00",
          "2024-08-06T00:00:00",
          "2024-08-07T00:00:00",
          "2024-08-08T00:00:00",
          "2024-08-09T00:00:00",
          "2024-08-10T00:00:00",
          "2024-08-11T00:00:00",
          "2024-08-12T00:00:00",
          "2024-08-13T00:00:00",
          "2024-08-14T00:00:00",
          "2024-08-15T00:00:00",
          "2024-08-16T00:00:00",
          "2024-08-17T00:00:00",
          "2024-08-18T00:00:00",
          "2024-08-19T00:00:00",
          "2024-08-20T00:00:00",
          "2024-08-21T00:00:00",
          "2024-08-22T00:00:00",
          "2024-08-23T00:00:00",
          "2024-08-24T00:00:00",
          "2024-08-25T00:00:00",
          "2024-08-26T00:00:00",
          "2024-08-27T00:00:00",
          "2024-08-28T00:00:00",
          "2024-08-29T00:00:00",
          "2024-08-30T00:00:00",
          "2024-08-31T00:00:00",
          "2024-09-01T00:00:00",
          "2024-09-02T00:00:00",
          "2024-09-03T00:00:00",
          "2024-09-04T00:00:00",
          "2024-09-05T00:00:00",
          "2024-09-06T00:00:00",
          "2024-09-07T00:00:00",
          "2024-09-08T00:00:00",
          "2024-09-09T00:00:00",
          "2024-09-10T00:00:00",
          "2024-09-11T00:00:00",
          "2024-09-12T00:00:00",
          "2024-09-13T00:00:00",
          "2024-09-14T00:00:00",
          "2024-09-15T00:00:00",
          "2024-09-16T00:00:00",
          "2024-09-17T00:00:00",
          "2024-09-18T00:00:00",
          "2024-09-19T00:00:00",
          "2024-09-20T00:00:00",
          "2024-09-21T00:00:00",
          "2024-09-22T00:00:00",
          "2024-09-23T00:00:00",
          "2024-09-24T00:00:00",
          "2024-09-25T00:00:00",
          "2024-09-26T00:00:00",
          "2024-09-27T00:00:00",
          "2024-09-28T00:00:00",
          "2024-09-29T00:00:00",
          "2024-09-30T00:00:00",
          "2024-10-01T00:00:00",
          "2024-10-02T00:00:00",
          "2024-10-03T00:00:00",
          "2024-10-04T00:00:00",
          "2024-10-05T00:00:00",
          "2024-10-06T00:00:00",
          "2024-10-07T00:00:00",
          "2024-10-08T00:00:00",
          "2024-10-09T00:00:00",
          "2024-10-10T00:00:00",
          "2024-10-11T00:00:00",
          "2024-10-12T00:00:00",
          "2024-10-13T00:00:00",
          "2024-10-14T00:00:00",
          "2024-10-15T00:00:00",
          "2024-10-16T00:00:00",
          "2024-10-17T00:00:00",
          "2024-10-18T00:00:00",
          "2024-10-19T00:00:00",
          "2024-10-20T00:00:00",
          "2024-10-21T00:00:00",
          "2024-10-22T00:00:00",
          "2024-10-23T00:00:00",
          "2024-10-24T00:00:00",
          "2024-10-25T00:00:00",
          "2024-10-26T00:00:00",
          "2024-10-27T00:00:00",
          "2024-10-28T00:00:00",
          "2024-10-29T00:00:00",
          "2024-10-30T00:00:00",
          "2024-10-31T00:00:00",
          "2024-11-01T00:00:00",
          "2024-11-02T00:00:00",
          "2024-11-03T00:00:00",
          "2024-11-04T00:00:00",
          "2024-11-05T00:00:00",
          "2024-11-06T00:00:00",
          "2024-11-07T00:00:00",
          "2024-11-08T00:00:00",
          "2024-11-09T00:00:00",
          "2024-11-10T00:00:00",
          "2024-11-11T00:00:00",
          "2024-11-12T00:00:00",
          "2024-11-13T00:00:00",
          "2024-11-14T00:00:00",
          "2024-11-15T00:00:00",
          "2024-11-16T00:00:00",
          "2024-11-17T00:00:00",
          "2024-11-18T00:00:00",
          "2024-11-19T00:00:00",
          "2024-11-20T00:00:00",
          "2024-11-21T00:00:00",
          "2024-11-22T00:00:00",
          "2024-11-23T00:00:00",
          "2024-11-24T00:00:00",
          "2024-11-25T00:00:00",
          "2024-11-26T00:00:00",
          "2024-11-27T00:00:00",
          "2024-11-28T00:00:00",
          "2024-11-29T00:00:00",
          "2024-11-30T00:00:00",
          "2024-12-01T00:00:00",
          "2024-12-02T00:00:00",
          "2024-12-03T00:00:00",
          "2024-12-04T00:00:00",
          "2024-12-05T00:00:00",
          "2024-12-06T00:00:00",
          "2024-12-07T00:00:00",
          "2024-12-08T00:00:00",
          "2024-12-09T00:00:00",
          "2024-12-10T00:00:00",
          "2024-12-11T00:00:00",
          "2024-12-12T00:00:00",
          "2024-12-13T00:00:00",
          "2024-12-14T00:00:00",
          "2024-12-15T00:00:00",
          "2024-12-16T00:00:00",
          "2024-12-17T00:00:00",
          "2024-12-18T00:00:00",
          "2024-12-19T00:00:00",
          "2024-12-20T00:00:00",
          "2024-12-21T00:00:00",
          "2024-12-22T00:00:00",
          "2024-12-23T00:00:00",
          "2024-12-24T00:00:00",
          "2024-12-25T00:00:00",
          "2024-12-26T00:00:00",
          "2024-12-27T00:00:00",
          "2024-12-28T00:00:00",
          "2024-12-29T00:00:00",
          "2024-12-30T00:00:00",
          "2024-12-31T00:00:00",
          "2025-01-01T00:00:00",
          "2025-01-02T00:00:00",
          "2025-01-03T00:00:00",
          "2025-01-04T00:00:00",
          "2025-01-05T00:00:00",
          "2025-01-06T00:00:00",
          "2025-01-07T00:00:00",
          "2025-01-08T00:00:00",
          "2025-01-09T00:00:00",
          "2025-01-10T00:00:00",
          "2025-01-11T00:00:00",
          "2025-01-12T00:00:00",
          "2025-01-13T00:00:00",
          "2025-01-14T00:00:00",
          "2025-01-15T00:00:00",
          "2025-01-16T00:00:00",
          "2025-01-17T00:00:00",
          "2025-01-18T00:00:00",
          "2025-01-19T00:00:00",
          "2025-01-20T00:00:00",
          "2025-01-21T00:00:00",
          "2025-01-22T00:00:00",
          "2025-01-23T00:00:00",
          "2025-01-24T00:00:00",
          "2025-01-25T00:00:00",
          "2025-01-26T00:00:00",
          "2025-01-27T00:00:00",
          "2025-01-28T00:00:00",
          "2025-01-29T00:00:00",
          "2025-01-30T00:00:00",
          "2025-01-31T00:00:00",
          "2025-02-01T00:00:00",
          "2025-02-02T00:00:00",
          "2025-02-03T00:00:00",
          "2025-02-04T00:00:00",
          "2025-02-05T00:00:00",
          "2025-02-06T00:00:00",
          "2025-02-07T00:00:00",
          "2025-02-08T00:00:00",
          "2025-02-09T00:00:00",
          "2025-02-10T00:00:00",
          "2025-02-11T00:00:00",
          "2025-02-12T00:00:00",
          "2025-02-13T00:00:00",
          "2025-02-14T00:00:00",
          "2025-02-15T00:00:00",
          "2025-02-16T00:00:00",
          "2025-02-17T00:00:00",
          "2025-02-18T00:00:00",
          "2025-02-19T00:00:00",
          "2025-02-20T00:00:00",
          "2025-02-21T00:00:00",
          "2025-02-22T00:00:00",
          "2025-02-23T00:00:00",
          "2025-02-24T00:00:00",
          "2025-02-25T00:00:00",
          "2025-02-26T00:00:00",
          "2025-02-27T00:00:00",
          "2025-02-28T00:00:00",
          "2025-03-01T00:00:00",
          "2025-03-02T00:00:00",
          "2025-03-03T00:00:00",
          "2025-03-04T00:00:00",
          "2025-03-05T00:00:00",
          "2025-03-06T00:00:00",
          "2025-03-07T00:00:00",
          "2025-03-08T00:00:00",
          "2025-03-09T00:00:00",
          "2025-03-10T00:00:00",
          "2025-03-11T00:00:00",
          "2025-03-12T00:00:00",
          "2025-03-13T00:00:00",
          "2025-03-14T00:00:00",
          "2025-03-15T00:00:00",
          "2025-03-16T00:00:00",
          "2025-03-17T00:00:00",
          "2025-03-18T00:00:00",
          "2025-03-19T00:00:00",
          "2025-03-20T00:00:00",
          "2025-03-21T00:00:00",
          "2025-03-22T00:00:00",
          "2025-03-23T00:00:00",
          "2025-03-24T00:00:00",
          "2025-03-25T00:00:00",
          "2025-03-26T00:00:00",
          "2025-03-27T00:00:00",
          "2025-03-28T00:00:00",
          "2025-03-29T00:00:00",
          "2025-03-30T00:00:00",
          "2025-03-31T00:00:00",
          "2025-04-01T00:00:00",
          "2025-04-02T00:00:00",
          "2025-04-03T00:00:00",
          "2025-04-04T00:00:00",
          "2025-04-05T00:00:00",
          "2025-04-06T00:00:00",
          "2025-04-07T00:00:00",
          "2025-04-08T00:00:00"
         ],
         "y": {
          "bdata": "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",
          "dtype": "f8"
         }
        }
       ],
       "layout": {
        "showlegend": true,
        "template": {
         "data": {
          "bar": [
           {
            "error_x": {
             "color": "rgb(51,51,51)"
            },
            "error_y": {
             "color": "rgb(51,51,51)"
            },
            "marker": {
             "line": {
              "color": "rgb(237,237,237)",
              "width": 0.5
             },
             "pattern": {
              "fillmode": "overlay",
              "size": 10,
              "solidity": 0.2
             }
            },
            "type": "bar"
           }
          ],
          "barpolar": [
           {
            "marker": {
             "line": {
              "color": "rgb(237,237,237)",
              "width": 0.5
             },
             "pattern": {
              "fillmode": "overlay",
              "size": 10,
              "solidity": 0.2
             }
            },
            "type": "barpolar"
           }
          ],
          "carpet": [
           {
            "aaxis": {
             "endlinecolor": "rgb(51,51,51)",
             "gridcolor": "white",
             "linecolor": "white",
             "minorgridcolor": "white",
             "startlinecolor": "rgb(51,51,51)"
            },
            "baxis": {
             "endlinecolor": "rgb(51,51,51)",
             "gridcolor": "white",
             "linecolor": "white",
             "minorgridcolor": "white",
             "startlinecolor": "rgb(51,51,51)"
            },
            "type": "carpet"
           }
          ],
          "choropleth": [
           {
            "colorbar": {
             "outlinewidth": 0,
             "tickcolor": "rgb(237,237,237)",
             "ticklen": 6,
             "ticks": "inside"
            },
            "type": "choropleth"
           }
          ],
          "contour": [
           {
            "colorbar": {
             "outlinewidth": 0,
             "tickcolor": "rgb(237,237,237)",
             "ticklen": 6,
             "ticks": "inside"
            },
            "colorscale": [
             [
              0,
              "rgb(20,44,66)"
             ],
             [
              1,
              "rgb(90,179,244)"
             ]
            ],
            "type": "contour"
           }
          ],
          "contourcarpet": [
           {
            "colorbar": {
             "outlinewidth": 0,
             "tickcolor": "rgb(237,237,237)",
             "ticklen": 6,
             "ticks": "inside"
            },
            "type": "contourcarpet"
           }
          ],
          "heatmap": [
           {
            "colorbar": {
             "outlinewidth": 0,
             "tickcolor": "rgb(237,237,237)",
             "ticklen": 6,
             "ticks": "inside"
            },
            "colorscale": [
             [
              0,
              "rgb(20,44,66)"
             ],
             [
              1,
              "rgb(90,179,244)"
             ]
            ],
            "type": "heatmap"
           }
          ],
          "histogram": [
           {
            "marker": {
             "pattern": {
              "fillmode": "overlay",
              "size": 10,
              "solidity": 0.2
             }
            },
            "type": "histogram"
           }
          ],
          "histogram2d": [
           {
            "colorbar": {
             "outlinewidth": 0,
             "tickcolor": "rgb(237,237,237)",
             "ticklen": 6,
             "ticks": "inside"
            },
            "colorscale": [
             [
              0,
              "rgb(20,44,66)"
             ],
             [
              1,
              "rgb(90,179,244)"
             ]
            ],
            "type": "histogram2d"
           }
          ],
          "histogram2dcontour": [
           {
            "colorbar": {
             "outlinewidth": 0,
             "tickcolor": "rgb(237,237,237)",
             "ticklen": 6,
             "ticks": "inside"
            },
            "colorscale": [
             [
              0,
              "rgb(20,44,66)"
             ],
             [
              1,
              "rgb(90,179,244)"
             ]
            ],
            "type": "histogram2dcontour"
           }
          ],
          "mesh3d": [
           {
            "colorbar": {
             "outlinewidth": 0,
             "tickcolor": "rgb(237,237,237)",
             "ticklen": 6,
             "ticks": "inside"
            },
            "type": "mesh3d"
           }
          ],
          "parcoords": [
           {
            "line": {
             "colorbar": {
              "outlinewidth": 0,
              "tickcolor": "rgb(237,237,237)",
              "ticklen": 6,
              "ticks": "inside"
             }
            },
            "type": "parcoords"
           }
          ],
          "pie": [
           {
            "automargin": true,
            "type": "pie"
           }
          ],
          "scatter": [
           {
            "fillpattern": {
             "fillmode": "overlay",
             "size": 10,
             "solidity": 0.2
            },
            "type": "scatter"
           }
          ],
          "scatter3d": [
           {
            "line": {
             "colorbar": {
              "outlinewidth": 0,
              "tickcolor": "rgb(237,237,237)",
              "ticklen": 6,
              "ticks": "inside"
             }
            },
            "marker": {
             "colorbar": {
              "outlinewidth": 0,
              "tickcolor": "rgb(237,237,237)",
              "ticklen": 6,
              "ticks": "inside"
             }
            },
            "type": "scatter3d"
           }
          ],
          "scattercarpet": [
           {
            "marker": {
             "colorbar": {
              "outlinewidth": 0,
              "tickcolor": "rgb(237,237,237)",
              "ticklen": 6,
              "ticks": "inside"
             }
            },
            "type": "scattercarpet"
           }
          ],
          "scattergeo": [
           {
            "marker": {
             "colorbar": {
              "outlinewidth": 0,
              "tickcolor": "rgb(237,237,237)",
              "ticklen": 6,
              "ticks": "inside"
             }
            },
            "type": "scattergeo"
           }
          ],
          "scattergl": [
           {
            "marker": {
             "colorbar": {
              "outlinewidth": 0,
              "tickcolor": "rgb(237,237,237)",
              "ticklen": 6,
              "ticks": "inside"
             }
            },
            "type": "scattergl"
           }
          ],
          "scattermap": [
           {
            "marker": {
             "colorbar": {
              "outlinewidth": 0,
              "tickcolor": "rgb(237,237,237)",
              "ticklen": 6,
              "ticks": "inside"
             }
            },
            "type": "scattermap"
           }
          ],
          "scattermapbox": [
           {
            "marker": {
             "colorbar": {
              "outlinewidth": 0,
              "tickcolor": "rgb(237,237,237)",
              "ticklen": 6,
              "ticks": "inside"
             }
            },
            "type": "scattermapbox"
           }
          ],
          "scatterpolar": [
           {
            "marker": {
             "colorbar": {
              "outlinewidth": 0,
              "tickcolor": "rgb(237,237,237)",
              "ticklen": 6,
              "ticks": "inside"
             }
            },
            "type": "scatterpolar"
           }
          ],
          "scatterpolargl": [
           {
            "marker": {
             "colorbar": {
              "outlinewidth": 0,
              "tickcolor": "rgb(237,237,237)",
              "ticklen": 6,
              "ticks": "inside"
             }
            },
            "type": "scatterpolargl"
           }
          ],
          "scatterternary": [
           {
            "marker": {
             "colorbar": {
              "outlinewidth": 0,
              "tickcolor": "rgb(237,237,237)",
              "ticklen": 6,
              "ticks": "inside"
             }
            },
            "type": "scatterternary"
           }
          ],
          "surface": [
           {
            "colorbar": {
             "outlinewidth": 0,
             "tickcolor": "rgb(237,237,237)",
             "ticklen": 6,
             "ticks": "inside"
            },
            "colorscale": [
             [
              0,
              "rgb(20,44,66)"
             ],
             [
              1,
              "rgb(90,179,244)"
             ]
            ],
            "type": "surface"
           }
          ],
          "table": [
           {
            "cells": {
             "fill": {
              "color": "rgb(237,237,237)"
             },
             "line": {
              "color": "white"
             }
            },
            "header": {
             "fill": {
              "color": "rgb(217,217,217)"
             },
             "line": {
              "color": "white"
             }
            },
            "type": "table"
           }
          ]
         },
         "layout": {
          "annotationdefaults": {
           "arrowhead": 0,
           "arrowwidth": 1
          },
          "autotypenumbers": "strict",
          "coloraxis": {
           "colorbar": {
            "outlinewidth": 0,
            "tickcolor": "rgb(237,237,237)",
            "ticklen": 6,
            "ticks": "inside"
           }
          },
          "colorscale": {
           "sequential": [
            [
             0,
             "rgb(20,44,66)"
            ],
            [
             1,
             "rgb(90,179,244)"
            ]
           ],
           "sequentialminus": [
            [
             0,
             "rgb(20,44,66)"
            ],
            [
             1,
             "rgb(90,179,244)"
            ]
           ]
          },
          "colorway": [
           "#F8766D",
           "#A3A500",
           "#00BF7D",
           "#00B0F6",
           "#E76BF3"
          ],
          "font": {
           "color": "rgb(51,51,51)"
          },
          "geo": {
           "bgcolor": "white",
           "lakecolor": "white",
           "landcolor": "rgb(237,237,237)",
           "showlakes": true,
           "showland": true,
           "subunitcolor": "white"
          },
          "hoverlabel": {
           "align": "left"
          },
          "hovermode": "closest",
          "paper_bgcolor": "white",
          "plot_bgcolor": "rgb(237,237,237)",
          "polar": {
           "angularaxis": {
            "gridcolor": "white",
            "linecolor": "white",
            "showgrid": true,
            "tickcolor": "rgb(51,51,51)",
            "ticks": "outside"
           },
           "bgcolor": "rgb(237,237,237)",
           "radialaxis": {
            "gridcolor": "white",
            "linecolor": "white",
            "showgrid": true,
            "tickcolor": "rgb(51,51,51)",
            "ticks": "outside"
           }
          },
          "scene": {
           "xaxis": {
            "backgroundcolor": "rgb(237,237,237)",
            "gridcolor": "white",
            "gridwidth": 2,
            "linecolor": "white",
            "showbackground": true,
            "showgrid": true,
            "tickcolor": "rgb(51,51,51)",
            "ticks": "outside",
            "zerolinecolor": "white"
           },
           "yaxis": {
            "backgroundcolor": "rgb(237,237,237)",
            "gridcolor": "white",
            "gridwidth": 2,
            "linecolor": "white",
            "showbackground": true,
            "showgrid": true,
            "tickcolor": "rgb(51,51,51)",
            "ticks": "outside",
            "zerolinecolor": "white"
           },
           "zaxis": {
            "backgroundcolor": "rgb(237,237,237)",
            "gridcolor": "white",
            "gridwidth": 2,
            "linecolor": "white",
            "showbackground": true,
            "showgrid": true,
            "tickcolor": "rgb(51,51,51)",
            "ticks": "outside",
            "zerolinecolor": "white"
           }
          },
          "shapedefaults": {
           "fillcolor": "black",
           "line": {
            "width": 0
           },
           "opacity": 0.3
          },
          "ternary": {
           "aaxis": {
            "gridcolor": "white",
            "linecolor": "white",
            "showgrid": true,
            "tickcolor": "rgb(51,51,51)",
            "ticks": "outside"
           },
           "baxis": {
            "gridcolor": "white",
            "linecolor": "white",
            "showgrid": true,
            "tickcolor": "rgb(51,51,51)",
            "ticks": "outside"
           },
           "bgcolor": "rgb(237,237,237)",
           "caxis": {
            "gridcolor": "white",
            "linecolor": "white",
            "showgrid": true,
            "tickcolor": "rgb(51,51,51)",
            "ticks": "outside"
           }
          },
          "xaxis": {
           "automargin": true,
           "gridcolor": "white",
           "linecolor": "white",
           "showgrid": true,
           "tickcolor": "rgb(51,51,51)",
           "ticks": "outside",
           "title": {
            "standoff": 15
           },
           "zerolinecolor": "white"
          },
          "yaxis": {
           "automargin": true,
           "gridcolor": "white",
           "linecolor": "white",
           "showgrid": true,
           "tickcolor": "rgb(51,51,51)",
           "ticks": "outside",
           "title": {
            "standoff": 15
           },
           "zerolinecolor": "white"
          }
         }
        },
        "title": {
         "text": "Actual vs. 'Out-of-Sample' Forecast | BTC-USD"
        },
        "xaxis": {
         "title": {
          "text": "Time"
         }
        },
        "yaxis": {
         "title": {
          "text": "Values"
         }
        }
       }
      }
     },
     "metadata": {},
     "output_type": "display_data"
    }
   ],
   "source": [
    "#Plot prophet model forecast\n",
    "plot_model(final_arima, plot='forecast')"
   ]
  },
  {
   "cell_type": "code",
   "execution_count": 25,
   "id": "f37eb818",
   "metadata": {},
   "outputs": [
    {
     "data": {
      "text/html": [
       "<style type=\"text/css\">\n",
       "#T_f28cb_row25_col1, #T_f28cb_row31_col1 {\n",
       "  background-color: lightgreen;\n",
       "}\n",
       "</style>\n",
       "<table id=\"T_f28cb\">\n",
       "  <thead>\n",
       "    <tr>\n",
       "      <th class=\"blank level0\" >&nbsp;</th>\n",
       "      <th id=\"T_f28cb_level0_col0\" class=\"col_heading level0 col0\" >Description</th>\n",
       "      <th id=\"T_f28cb_level0_col1\" class=\"col_heading level0 col1\" >Value</th>\n",
       "    </tr>\n",
       "  </thead>\n",
       "  <tbody>\n",
       "    <tr>\n",
       "      <th id=\"T_f28cb_level0_row0\" class=\"row_heading level0 row0\" >0</th>\n",
       "      <td id=\"T_f28cb_row0_col0\" class=\"data row0 col0\" >session_id</td>\n",
       "      <td id=\"T_f28cb_row0_col1\" class=\"data row0 col1\" >123</td>\n",
       "    </tr>\n",
       "    <tr>\n",
       "      <th id=\"T_f28cb_level0_row1\" class=\"row_heading level0 row1\" >1</th>\n",
       "      <td id=\"T_f28cb_row1_col0\" class=\"data row1 col0\" >Target</td>\n",
       "      <td id=\"T_f28cb_row1_col1\" class=\"data row1 col1\" >BNB-USD</td>\n",
       "    </tr>\n",
       "    <tr>\n",
       "      <th id=\"T_f28cb_level0_row2\" class=\"row_heading level0 row2\" >2</th>\n",
       "      <td id=\"T_f28cb_row2_col0\" class=\"data row2 col0\" >Approach</td>\n",
       "      <td id=\"T_f28cb_row2_col1\" class=\"data row2 col1\" >Univariate</td>\n",
       "    </tr>\n",
       "    <tr>\n",
       "      <th id=\"T_f28cb_level0_row3\" class=\"row_heading level0 row3\" >3</th>\n",
       "      <td id=\"T_f28cb_row3_col0\" class=\"data row3 col0\" >Exogenous Variables</td>\n",
       "      <td id=\"T_f28cb_row3_col1\" class=\"data row3 col1\" >Not Present</td>\n",
       "    </tr>\n",
       "    <tr>\n",
       "      <th id=\"T_f28cb_level0_row4\" class=\"row_heading level0 row4\" >4</th>\n",
       "      <td id=\"T_f28cb_row4_col0\" class=\"data row4 col0\" >Original data shape</td>\n",
       "      <td id=\"T_f28cb_row4_col1\" class=\"data row4 col1\" >(365, 1)</td>\n",
       "    </tr>\n",
       "    <tr>\n",
       "      <th id=\"T_f28cb_level0_row5\" class=\"row_heading level0 row5\" >5</th>\n",
       "      <td id=\"T_f28cb_row5_col0\" class=\"data row5 col0\" >Transformed data shape</td>\n",
       "      <td id=\"T_f28cb_row5_col1\" class=\"data row5 col1\" >(365, 1)</td>\n",
       "    </tr>\n",
       "    <tr>\n",
       "      <th id=\"T_f28cb_level0_row6\" class=\"row_heading level0 row6\" >6</th>\n",
       "      <td id=\"T_f28cb_row6_col0\" class=\"data row6 col0\" >Transformed train set shape</td>\n",
       "      <td id=\"T_f28cb_row6_col1\" class=\"data row6 col1\" >(335, 1)</td>\n",
       "    </tr>\n",
       "    <tr>\n",
       "      <th id=\"T_f28cb_level0_row7\" class=\"row_heading level0 row7\" >7</th>\n",
       "      <td id=\"T_f28cb_row7_col0\" class=\"data row7 col0\" >Transformed test set shape</td>\n",
       "      <td id=\"T_f28cb_row7_col1\" class=\"data row7 col1\" >(30, 1)</td>\n",
       "    </tr>\n",
       "    <tr>\n",
       "      <th id=\"T_f28cb_level0_row8\" class=\"row_heading level0 row8\" >8</th>\n",
       "      <td id=\"T_f28cb_row8_col0\" class=\"data row8 col0\" >Rows with missing values</td>\n",
       "      <td id=\"T_f28cb_row8_col1\" class=\"data row8 col1\" >0.0%</td>\n",
       "    </tr>\n",
       "    <tr>\n",
       "      <th id=\"T_f28cb_level0_row9\" class=\"row_heading level0 row9\" >9</th>\n",
       "      <td id=\"T_f28cb_row9_col0\" class=\"data row9 col0\" >Fold Generator</td>\n",
       "      <td id=\"T_f28cb_row9_col1\" class=\"data row9 col1\" >ExpandingWindowSplitter</td>\n",
       "    </tr>\n",
       "    <tr>\n",
       "      <th id=\"T_f28cb_level0_row10\" class=\"row_heading level0 row10\" >10</th>\n",
       "      <td id=\"T_f28cb_row10_col0\" class=\"data row10 col0\" >Fold Number</td>\n",
       "      <td id=\"T_f28cb_row10_col1\" class=\"data row10 col1\" >3</td>\n",
       "    </tr>\n",
       "    <tr>\n",
       "      <th id=\"T_f28cb_level0_row11\" class=\"row_heading level0 row11\" >11</th>\n",
       "      <td id=\"T_f28cb_row11_col0\" class=\"data row11 col0\" >Enforce Prediction Interval</td>\n",
       "      <td id=\"T_f28cb_row11_col1\" class=\"data row11 col1\" >False</td>\n",
       "    </tr>\n",
       "    <tr>\n",
       "      <th id=\"T_f28cb_level0_row12\" class=\"row_heading level0 row12\" >12</th>\n",
       "      <td id=\"T_f28cb_row12_col0\" class=\"data row12 col0\" >Splits used for hyperparameters</td>\n",
       "      <td id=\"T_f28cb_row12_col1\" class=\"data row12 col1\" >all</td>\n",
       "    </tr>\n",
       "    <tr>\n",
       "      <th id=\"T_f28cb_level0_row13\" class=\"row_heading level0 row13\" >13</th>\n",
       "      <td id=\"T_f28cb_row13_col0\" class=\"data row13 col0\" >User Defined Seasonal Period(s)</td>\n",
       "      <td id=\"T_f28cb_row13_col1\" class=\"data row13 col1\" >D</td>\n",
       "    </tr>\n",
       "    <tr>\n",
       "      <th id=\"T_f28cb_level0_row14\" class=\"row_heading level0 row14\" >14</th>\n",
       "      <td id=\"T_f28cb_row14_col0\" class=\"data row14 col0\" >Ignore Seasonality Test</td>\n",
       "      <td id=\"T_f28cb_row14_col1\" class=\"data row14 col1\" >False</td>\n",
       "    </tr>\n",
       "    <tr>\n",
       "      <th id=\"T_f28cb_level0_row15\" class=\"row_heading level0 row15\" >15</th>\n",
       "      <td id=\"T_f28cb_row15_col0\" class=\"data row15 col0\" >Seasonality Detection Algo</td>\n",
       "      <td id=\"T_f28cb_row15_col1\" class=\"data row15 col1\" >user_defined</td>\n",
       "    </tr>\n",
       "    <tr>\n",
       "      <th id=\"T_f28cb_level0_row16\" class=\"row_heading level0 row16\" >16</th>\n",
       "      <td id=\"T_f28cb_row16_col0\" class=\"data row16 col0\" >Max Period to Consider</td>\n",
       "      <td id=\"T_f28cb_row16_col1\" class=\"data row16 col1\" >60</td>\n",
       "    </tr>\n",
       "    <tr>\n",
       "      <th id=\"T_f28cb_level0_row17\" class=\"row_heading level0 row17\" >17</th>\n",
       "      <td id=\"T_f28cb_row17_col0\" class=\"data row17 col0\" >Seasonal Period(s) Tested</td>\n",
       "      <td id=\"T_f28cb_row17_col1\" class=\"data row17 col1\" >[7]</td>\n",
       "    </tr>\n",
       "    <tr>\n",
       "      <th id=\"T_f28cb_level0_row18\" class=\"row_heading level0 row18\" >18</th>\n",
       "      <td id=\"T_f28cb_row18_col0\" class=\"data row18 col0\" >Significant Seasonal Period(s)</td>\n",
       "      <td id=\"T_f28cb_row18_col1\" class=\"data row18 col1\" >[7]</td>\n",
       "    </tr>\n",
       "    <tr>\n",
       "      <th id=\"T_f28cb_level0_row19\" class=\"row_heading level0 row19\" >19</th>\n",
       "      <td id=\"T_f28cb_row19_col0\" class=\"data row19 col0\" >Significant Seasonal Period(s) without Harmonics</td>\n",
       "      <td id=\"T_f28cb_row19_col1\" class=\"data row19 col1\" >[7]</td>\n",
       "    </tr>\n",
       "    <tr>\n",
       "      <th id=\"T_f28cb_level0_row20\" class=\"row_heading level0 row20\" >20</th>\n",
       "      <td id=\"T_f28cb_row20_col0\" class=\"data row20 col0\" >Remove Harmonics</td>\n",
       "      <td id=\"T_f28cb_row20_col1\" class=\"data row20 col1\" >False</td>\n",
       "    </tr>\n",
       "    <tr>\n",
       "      <th id=\"T_f28cb_level0_row21\" class=\"row_heading level0 row21\" >21</th>\n",
       "      <td id=\"T_f28cb_row21_col0\" class=\"data row21 col0\" >Harmonics Order Method</td>\n",
       "      <td id=\"T_f28cb_row21_col1\" class=\"data row21 col1\" >harmonic_max</td>\n",
       "    </tr>\n",
       "    <tr>\n",
       "      <th id=\"T_f28cb_level0_row22\" class=\"row_heading level0 row22\" >22</th>\n",
       "      <td id=\"T_f28cb_row22_col0\" class=\"data row22 col0\" >Num Seasonalities to Use</td>\n",
       "      <td id=\"T_f28cb_row22_col1\" class=\"data row22 col1\" >1</td>\n",
       "    </tr>\n",
       "    <tr>\n",
       "      <th id=\"T_f28cb_level0_row23\" class=\"row_heading level0 row23\" >23</th>\n",
       "      <td id=\"T_f28cb_row23_col0\" class=\"data row23 col0\" >All Seasonalities to Use</td>\n",
       "      <td id=\"T_f28cb_row23_col1\" class=\"data row23 col1\" >[7]</td>\n",
       "    </tr>\n",
       "    <tr>\n",
       "      <th id=\"T_f28cb_level0_row24\" class=\"row_heading level0 row24\" >24</th>\n",
       "      <td id=\"T_f28cb_row24_col0\" class=\"data row24 col0\" >Primary Seasonality</td>\n",
       "      <td id=\"T_f28cb_row24_col1\" class=\"data row24 col1\" >7</td>\n",
       "    </tr>\n",
       "    <tr>\n",
       "      <th id=\"T_f28cb_level0_row25\" class=\"row_heading level0 row25\" >25</th>\n",
       "      <td id=\"T_f28cb_row25_col0\" class=\"data row25 col0\" >Seasonality Present</td>\n",
       "      <td id=\"T_f28cb_row25_col1\" class=\"data row25 col1\" >True</td>\n",
       "    </tr>\n",
       "    <tr>\n",
       "      <th id=\"T_f28cb_level0_row26\" class=\"row_heading level0 row26\" >26</th>\n",
       "      <td id=\"T_f28cb_row26_col0\" class=\"data row26 col0\" >Seasonality Type</td>\n",
       "      <td id=\"T_f28cb_row26_col1\" class=\"data row26 col1\" >mul</td>\n",
       "    </tr>\n",
       "    <tr>\n",
       "      <th id=\"T_f28cb_level0_row27\" class=\"row_heading level0 row27\" >27</th>\n",
       "      <td id=\"T_f28cb_row27_col0\" class=\"data row27 col0\" >Target Strictly Positive</td>\n",
       "      <td id=\"T_f28cb_row27_col1\" class=\"data row27 col1\" >True</td>\n",
       "    </tr>\n",
       "    <tr>\n",
       "      <th id=\"T_f28cb_level0_row28\" class=\"row_heading level0 row28\" >28</th>\n",
       "      <td id=\"T_f28cb_row28_col0\" class=\"data row28 col0\" >Target White Noise</td>\n",
       "      <td id=\"T_f28cb_row28_col1\" class=\"data row28 col1\" >No</td>\n",
       "    </tr>\n",
       "    <tr>\n",
       "      <th id=\"T_f28cb_level0_row29\" class=\"row_heading level0 row29\" >29</th>\n",
       "      <td id=\"T_f28cb_row29_col0\" class=\"data row29 col0\" >Recommended d</td>\n",
       "      <td id=\"T_f28cb_row29_col1\" class=\"data row29 col1\" >1</td>\n",
       "    </tr>\n",
       "    <tr>\n",
       "      <th id=\"T_f28cb_level0_row30\" class=\"row_heading level0 row30\" >30</th>\n",
       "      <td id=\"T_f28cb_row30_col0\" class=\"data row30 col0\" >Recommended Seasonal D</td>\n",
       "      <td id=\"T_f28cb_row30_col1\" class=\"data row30 col1\" >0</td>\n",
       "    </tr>\n",
       "    <tr>\n",
       "      <th id=\"T_f28cb_level0_row31\" class=\"row_heading level0 row31\" >31</th>\n",
       "      <td id=\"T_f28cb_row31_col0\" class=\"data row31 col0\" >Preprocess</td>\n",
       "      <td id=\"T_f28cb_row31_col1\" class=\"data row31 col1\" >True</td>\n",
       "    </tr>\n",
       "    <tr>\n",
       "      <th id=\"T_f28cb_level0_row32\" class=\"row_heading level0 row32\" >32</th>\n",
       "      <td id=\"T_f28cb_row32_col0\" class=\"data row32 col0\" >Numerical Imputation (Target)</td>\n",
       "      <td id=\"T_f28cb_row32_col1\" class=\"data row32 col1\" >drift</td>\n",
       "    </tr>\n",
       "    <tr>\n",
       "      <th id=\"T_f28cb_level0_row33\" class=\"row_heading level0 row33\" >33</th>\n",
       "      <td id=\"T_f28cb_row33_col0\" class=\"data row33 col0\" >Transformation (Target)</td>\n",
       "      <td id=\"T_f28cb_row33_col1\" class=\"data row33 col1\" >log</td>\n",
       "    </tr>\n",
       "    <tr>\n",
       "      <th id=\"T_f28cb_level0_row34\" class=\"row_heading level0 row34\" >34</th>\n",
       "      <td id=\"T_f28cb_row34_col0\" class=\"data row34 col0\" >Scaling (Target)</td>\n",
       "      <td id=\"T_f28cb_row34_col1\" class=\"data row34 col1\" >None</td>\n",
       "    </tr>\n",
       "    <tr>\n",
       "      <th id=\"T_f28cb_level0_row35\" class=\"row_heading level0 row35\" >35</th>\n",
       "      <td id=\"T_f28cb_row35_col0\" class=\"data row35 col0\" >Feature Engineering (Target) - Reduced Regression</td>\n",
       "      <td id=\"T_f28cb_row35_col1\" class=\"data row35 col1\" >False</td>\n",
       "    </tr>\n",
       "    <tr>\n",
       "      <th id=\"T_f28cb_level0_row36\" class=\"row_heading level0 row36\" >36</th>\n",
       "      <td id=\"T_f28cb_row36_col0\" class=\"data row36 col0\" >CPU Jobs</td>\n",
       "      <td id=\"T_f28cb_row36_col1\" class=\"data row36 col1\" >-1</td>\n",
       "    </tr>\n",
       "    <tr>\n",
       "      <th id=\"T_f28cb_level0_row37\" class=\"row_heading level0 row37\" >37</th>\n",
       "      <td id=\"T_f28cb_row37_col0\" class=\"data row37 col0\" >Use GPU</td>\n",
       "      <td id=\"T_f28cb_row37_col1\" class=\"data row37 col1\" >False</td>\n",
       "    </tr>\n",
       "    <tr>\n",
       "      <th id=\"T_f28cb_level0_row38\" class=\"row_heading level0 row38\" >38</th>\n",
       "      <td id=\"T_f28cb_row38_col0\" class=\"data row38 col0\" >Log Experiment</td>\n",
       "      <td id=\"T_f28cb_row38_col1\" class=\"data row38 col1\" >False</td>\n",
       "    </tr>\n",
       "    <tr>\n",
       "      <th id=\"T_f28cb_level0_row39\" class=\"row_heading level0 row39\" >39</th>\n",
       "      <td id=\"T_f28cb_row39_col0\" class=\"data row39 col0\" >Experiment Name</td>\n",
       "      <td id=\"T_f28cb_row39_col1\" class=\"data row39 col1\" >ts-default-name</td>\n",
       "    </tr>\n",
       "    <tr>\n",
       "      <th id=\"T_f28cb_level0_row40\" class=\"row_heading level0 row40\" >40</th>\n",
       "      <td id=\"T_f28cb_row40_col0\" class=\"data row40 col0\" >USI</td>\n",
       "      <td id=\"T_f28cb_row40_col1\" class=\"data row40 col1\" >cb90</td>\n",
       "    </tr>\n",
       "  </tbody>\n",
       "</table>\n"
      ],
      "text/plain": [
       "<pandas.io.formats.style.Styler at 0x1bcc7b9a970>"
      ]
     },
     "metadata": {},
     "output_type": "display_data"
    }
   ],
   "source": [
    "bnb = df.loc[:,'BNB-USD']\n",
    "# Set up PyCaret environment\n",
    "s = setup(data=bnb, \n",
    "          target = 'BNB-USD',\n",
    "          transform_target='log',\n",
    "          fh=30,  # Forecast horizon\n",
    "          session_id=123,\n",
    "          fold_strategy='expanding',\n",
    "          seasonal_period='D',\n",
    "          #fold_spans=\"adaptive\",\n",
    "          numeric_imputation_target = 'drift')"
   ]
  },
  {
   "cell_type": "code",
   "execution_count": 26,
   "id": "dcc8a6d1",
   "metadata": {},
   "outputs": [
    {
     "data": {
      "text/html": [],
      "text/plain": [
       "<IPython.core.display.HTML object>"
      ]
     },
     "metadata": {},
     "output_type": "display_data"
    },
    {
     "data": {
      "text/html": [
       "<style type=\"text/css\">\n",
       "#T_1bc34_row3_col0, #T_1bc34_row3_col1, #T_1bc34_row3_col2, #T_1bc34_row3_col3, #T_1bc34_row3_col4, #T_1bc34_row3_col5, #T_1bc34_row3_col6, #T_1bc34_row3_col7 {\n",
       "  background: yellow;\n",
       "}\n",
       "</style>\n",
       "<table id=\"T_1bc34\">\n",
       "  <thead>\n",
       "    <tr>\n",
       "      <th class=\"blank level0\" >&nbsp;</th>\n",
       "      <th id=\"T_1bc34_level0_col0\" class=\"col_heading level0 col0\" >cutoff</th>\n",
       "      <th id=\"T_1bc34_level0_col1\" class=\"col_heading level0 col1\" >MASE</th>\n",
       "      <th id=\"T_1bc34_level0_col2\" class=\"col_heading level0 col2\" >RMSSE</th>\n",
       "      <th id=\"T_1bc34_level0_col3\" class=\"col_heading level0 col3\" >MAE</th>\n",
       "      <th id=\"T_1bc34_level0_col4\" class=\"col_heading level0 col4\" >RMSE</th>\n",
       "      <th id=\"T_1bc34_level0_col5\" class=\"col_heading level0 col5\" >MAPE</th>\n",
       "      <th id=\"T_1bc34_level0_col6\" class=\"col_heading level0 col6\" >SMAPE</th>\n",
       "      <th id=\"T_1bc34_level0_col7\" class=\"col_heading level0 col7\" >R2</th>\n",
       "    </tr>\n",
       "  </thead>\n",
       "  <tbody>\n",
       "    <tr>\n",
       "      <th id=\"T_1bc34_level0_row0\" class=\"row_heading level0 row0\" >0</th>\n",
       "      <td id=\"T_1bc34_row0_col0\" class=\"data row0 col0\" >2024-12-10</td>\n",
       "      <td id=\"T_1bc34_row0_col1\" class=\"data row0 col1\" >0.8786</td>\n",
       "      <td id=\"T_1bc34_row0_col2\" class=\"data row0 col2\" >0.8008</td>\n",
       "      <td id=\"T_1bc34_row0_col3\" class=\"data row0 col3\" >29.6993</td>\n",
       "      <td id=\"T_1bc34_row0_col4\" class=\"data row0 col4\" >34.9335</td>\n",
       "      <td id=\"T_1bc34_row0_col5\" class=\"data row0 col5\" >0.0425</td>\n",
       "      <td id=\"T_1bc34_row0_col6\" class=\"data row0 col6\" >0.0433</td>\n",
       "      <td id=\"T_1bc34_row0_col7\" class=\"data row0 col7\" >-2.5429</td>\n",
       "    </tr>\n",
       "    <tr>\n",
       "      <th id=\"T_1bc34_level0_row1\" class=\"row_heading level0 row1\" >1</th>\n",
       "      <td id=\"T_1bc34_row1_col0\" class=\"data row1 col0\" >2025-01-09</td>\n",
       "      <td id=\"T_1bc34_row1_col1\" class=\"data row1 col1\" >1.1718</td>\n",
       "      <td id=\"T_1bc34_row1_col2\" class=\"data row1 col2\" >1.2937</td>\n",
       "      <td id=\"T_1bc34_row1_col3\" class=\"data row1 col3\" >38.4436</td>\n",
       "      <td id=\"T_1bc34_row1_col4\" class=\"data row1 col4\" >54.7535</td>\n",
       "      <td id=\"T_1bc34_row1_col5\" class=\"data row1 col5\" >0.0620</td>\n",
       "      <td id=\"T_1bc34_row1_col6\" class=\"data row1 col6\" >0.0583</td>\n",
       "      <td id=\"T_1bc34_row1_col7\" class=\"data row1 col7\" >-0.5297</td>\n",
       "    </tr>\n",
       "    <tr>\n",
       "      <th id=\"T_1bc34_level0_row2\" class=\"row_heading level0 row2\" >2</th>\n",
       "      <td id=\"T_1bc34_row2_col0\" class=\"data row2 col0\" >2025-02-08</td>\n",
       "      <td id=\"T_1bc34_row2_col1\" class=\"data row2 col1\" >1.9592</td>\n",
       "      <td id=\"T_1bc34_row2_col2\" class=\"data row2 col2\" >1.7316</td>\n",
       "      <td id=\"T_1bc34_row2_col3\" class=\"data row2 col3\" >64.1817</td>\n",
       "      <td id=\"T_1bc34_row2_col4\" class=\"data row2 col4\" >73.5128</td>\n",
       "      <td id=\"T_1bc34_row2_col5\" class=\"data row2 col5\" >0.1003</td>\n",
       "      <td id=\"T_1bc34_row2_col6\" class=\"data row2 col6\" >0.1070</td>\n",
       "      <td id=\"T_1bc34_row2_col7\" class=\"data row2 col7\" >-2.6965</td>\n",
       "    </tr>\n",
       "    <tr>\n",
       "      <th id=\"T_1bc34_level0_row3\" class=\"row_heading level0 row3\" >Mean</th>\n",
       "      <td id=\"T_1bc34_row3_col0\" class=\"data row3 col0\" >NaT</td>\n",
       "      <td id=\"T_1bc34_row3_col1\" class=\"data row3 col1\" >1.3365</td>\n",
       "      <td id=\"T_1bc34_row3_col2\" class=\"data row3 col2\" >1.2754</td>\n",
       "      <td id=\"T_1bc34_row3_col3\" class=\"data row3 col3\" >44.1082</td>\n",
       "      <td id=\"T_1bc34_row3_col4\" class=\"data row3 col4\" >54.3999</td>\n",
       "      <td id=\"T_1bc34_row3_col5\" class=\"data row3 col5\" >0.0683</td>\n",
       "      <td id=\"T_1bc34_row3_col6\" class=\"data row3 col6\" >0.0695</td>\n",
       "      <td id=\"T_1bc34_row3_col7\" class=\"data row3 col7\" >-1.9230</td>\n",
       "    </tr>\n",
       "    <tr>\n",
       "      <th id=\"T_1bc34_level0_row4\" class=\"row_heading level0 row4\" >SD</th>\n",
       "      <td id=\"T_1bc34_row4_col0\" class=\"data row4 col0\" >NaT</td>\n",
       "      <td id=\"T_1bc34_row4_col1\" class=\"data row4 col1\" >0.4563</td>\n",
       "      <td id=\"T_1bc34_row4_col2\" class=\"data row4 col2\" >0.3802</td>\n",
       "      <td id=\"T_1bc34_row4_col3\" class=\"data row4 col3\" >14.6362</td>\n",
       "      <td id=\"T_1bc34_row4_col4\" class=\"data row4 col4\" >15.7519</td>\n",
       "      <td id=\"T_1bc34_row4_col5\" class=\"data row4 col5\" >0.0240</td>\n",
       "      <td id=\"T_1bc34_row4_col6\" class=\"data row4 col6\" >0.0272</td>\n",
       "      <td id=\"T_1bc34_row4_col7\" class=\"data row4 col7\" >0.9872</td>\n",
       "    </tr>\n",
       "  </tbody>\n",
       "</table>\n"
      ],
      "text/plain": [
       "<pandas.io.formats.style.Styler at 0x1bcc7ae43a0>"
      ]
     },
     "metadata": {},
     "output_type": "display_data"
    },
    {
     "data": {
      "text/html": [],
      "text/plain": [
       "<IPython.core.display.HTML object>"
      ]
     },
     "metadata": {},
     "output_type": "display_data"
    },
    {
     "data": {
      "text/html": [],
      "text/plain": [
       "<IPython.core.display.HTML object>"
      ]
     },
     "metadata": {},
     "output_type": "display_data"
    },
    {
     "data": {
      "text/html": [
       "<style type=\"text/css\">\n",
       "#T_a831b_row3_col0, #T_a831b_row3_col1, #T_a831b_row3_col2, #T_a831b_row3_col3, #T_a831b_row3_col4, #T_a831b_row3_col5, #T_a831b_row3_col6, #T_a831b_row3_col7 {\n",
       "  background: yellow;\n",
       "}\n",
       "</style>\n",
       "<table id=\"T_a831b\">\n",
       "  <thead>\n",
       "    <tr>\n",
       "      <th class=\"blank level0\" >&nbsp;</th>\n",
       "      <th id=\"T_a831b_level0_col0\" class=\"col_heading level0 col0\" >cutoff</th>\n",
       "      <th id=\"T_a831b_level0_col1\" class=\"col_heading level0 col1\" >MASE</th>\n",
       "      <th id=\"T_a831b_level0_col2\" class=\"col_heading level0 col2\" >RMSSE</th>\n",
       "      <th id=\"T_a831b_level0_col3\" class=\"col_heading level0 col3\" >MAE</th>\n",
       "      <th id=\"T_a831b_level0_col4\" class=\"col_heading level0 col4\" >RMSE</th>\n",
       "      <th id=\"T_a831b_level0_col5\" class=\"col_heading level0 col5\" >MAPE</th>\n",
       "      <th id=\"T_a831b_level0_col6\" class=\"col_heading level0 col6\" >SMAPE</th>\n",
       "      <th id=\"T_a831b_level0_col7\" class=\"col_heading level0 col7\" >R2</th>\n",
       "    </tr>\n",
       "  </thead>\n",
       "  <tbody>\n",
       "    <tr>\n",
       "      <th id=\"T_a831b_level0_row0\" class=\"row_heading level0 row0\" >0</th>\n",
       "      <td id=\"T_a831b_row0_col0\" class=\"data row0 col0\" >2024-12-10</td>\n",
       "      <td id=\"T_a831b_row0_col1\" class=\"data row0 col1\" >0.8389</td>\n",
       "      <td id=\"T_a831b_row0_col2\" class=\"data row0 col2\" >0.7173</td>\n",
       "      <td id=\"T_a831b_row0_col3\" class=\"data row0 col3\" >28.3575</td>\n",
       "      <td id=\"T_a831b_row0_col4\" class=\"data row0 col4\" >31.2927</td>\n",
       "      <td id=\"T_a831b_row0_col5\" class=\"data row0 col5\" >0.0401</td>\n",
       "      <td id=\"T_a831b_row0_col6\" class=\"data row0 col6\" >0.0410</td>\n",
       "      <td id=\"T_a831b_row0_col7\" class=\"data row0 col7\" >-1.8429</td>\n",
       "    </tr>\n",
       "    <tr>\n",
       "      <th id=\"T_a831b_level0_row1\" class=\"row_heading level0 row1\" >1</th>\n",
       "      <td id=\"T_a831b_row1_col0\" class=\"data row1 col0\" >2025-01-09</td>\n",
       "      <td id=\"T_a831b_row1_col1\" class=\"data row1 col1\" >0.9410</td>\n",
       "      <td id=\"T_a831b_row1_col2\" class=\"data row1 col2\" >1.1109</td>\n",
       "      <td id=\"T_a831b_row1_col3\" class=\"data row1 col3\" >30.8696</td>\n",
       "      <td id=\"T_a831b_row1_col4\" class=\"data row1 col4\" >47.0150</td>\n",
       "      <td id=\"T_a831b_row1_col5\" class=\"data row1 col5\" >0.0501</td>\n",
       "      <td id=\"T_a831b_row1_col6\" class=\"data row1 col6\" >0.0475</td>\n",
       "      <td id=\"T_a831b_row1_col7\" class=\"data row1 col7\" >-0.1279</td>\n",
       "    </tr>\n",
       "    <tr>\n",
       "      <th id=\"T_a831b_level0_row2\" class=\"row_heading level0 row2\" >2</th>\n",
       "      <td id=\"T_a831b_row2_col0\" class=\"data row2 col0\" >2025-02-08</td>\n",
       "      <td id=\"T_a831b_row2_col1\" class=\"data row2 col1\" >0.9802</td>\n",
       "      <td id=\"T_a831b_row2_col2\" class=\"data row2 col2\" >0.9408</td>\n",
       "      <td id=\"T_a831b_row2_col3\" class=\"data row2 col3\" >32.1100</td>\n",
       "      <td id=\"T_a831b_row2_col4\" class=\"data row2 col4\" >39.9407</td>\n",
       "      <td id=\"T_a831b_row2_col5\" class=\"data row2 col5\" >0.0507</td>\n",
       "      <td id=\"T_a831b_row2_col6\" class=\"data row2 col6\" >0.0516</td>\n",
       "      <td id=\"T_a831b_row2_col7\" class=\"data row2 col7\" >-0.0912</td>\n",
       "    </tr>\n",
       "    <tr>\n",
       "      <th id=\"T_a831b_level0_row3\" class=\"row_heading level0 row3\" >Mean</th>\n",
       "      <td id=\"T_a831b_row3_col0\" class=\"data row3 col0\" >NaT</td>\n",
       "      <td id=\"T_a831b_row3_col1\" class=\"data row3 col1\" >0.9200</td>\n",
       "      <td id=\"T_a831b_row3_col2\" class=\"data row3 col2\" >0.9230</td>\n",
       "      <td id=\"T_a831b_row3_col3\" class=\"data row3 col3\" >30.4457</td>\n",
       "      <td id=\"T_a831b_row3_col4\" class=\"data row3 col4\" >39.4161</td>\n",
       "      <td id=\"T_a831b_row3_col5\" class=\"data row3 col5\" >0.0470</td>\n",
       "      <td id=\"T_a831b_row3_col6\" class=\"data row3 col6\" >0.0467</td>\n",
       "      <td id=\"T_a831b_row3_col7\" class=\"data row3 col7\" >-0.6873</td>\n",
       "    </tr>\n",
       "    <tr>\n",
       "      <th id=\"T_a831b_level0_row4\" class=\"row_heading level0 row4\" >SD</th>\n",
       "      <td id=\"T_a831b_row4_col0\" class=\"data row4 col0\" >NaT</td>\n",
       "      <td id=\"T_a831b_row4_col1\" class=\"data row4 col1\" >0.0596</td>\n",
       "      <td id=\"T_a831b_row4_col2\" class=\"data row4 col2\" >0.1612</td>\n",
       "      <td id=\"T_a831b_row4_col3\" class=\"data row4 col3\" >1.5610</td>\n",
       "      <td id=\"T_a831b_row4_col4\" class=\"data row4 col4\" >6.4293</td>\n",
       "      <td id=\"T_a831b_row4_col5\" class=\"data row4 col5\" >0.0049</td>\n",
       "      <td id=\"T_a831b_row4_col6\" class=\"data row4 col6\" >0.0044</td>\n",
       "      <td id=\"T_a831b_row4_col7\" class=\"data row4 col7\" >0.8173</td>\n",
       "    </tr>\n",
       "  </tbody>\n",
       "</table>\n"
      ],
      "text/plain": [
       "<pandas.io.formats.style.Styler at 0x1bcc7bba340>"
      ]
     },
     "metadata": {},
     "output_type": "display_data"
    },
    {
     "data": {
      "text/html": [],
      "text/plain": [
       "<IPython.core.display.HTML object>"
      ]
     },
     "metadata": {},
     "output_type": "display_data"
    },
    {
     "name": "stdout",
     "output_type": "stream",
     "text": [
      "Fitting 3 folds for each of 10 candidates, totalling 30 fits\n"
     ]
    },
    {
     "name": "stderr",
     "output_type": "stream",
     "text": [
      "[Parallel(n_jobs=-1)]: Using backend LokyBackend with 8 concurrent workers.\n",
      "[Parallel(n_jobs=-1)]: Done  30 out of  30 | elapsed:    8.3s finished\n"
     ]
    },
    {
     "data": {
      "application/vnd.plotly.v1+json": {
       "config": {
        "plotlyServerURL": "https://plot.ly"
       },
       "data": [
        {
         "line": {
          "color": "#1f77b4"
         },
         "marker": {
          "size": 5
         },
         "mode": "lines+markers",
         "name": "Forecast | ARIMA",
         "showlegend": true,
         "type": "scatter",
         "x": [
          "2025-04-10T00:00:00",
          "2025-04-11T00:00:00",
          "2025-04-12T00:00:00",
          "2025-04-13T00:00:00",
          "2025-04-14T00:00:00",
          "2025-04-15T00:00:00",
          "2025-04-16T00:00:00",
          "2025-04-17T00:00:00",
          "2025-04-18T00:00:00",
          "2025-04-19T00:00:00",
          "2025-04-20T00:00:00",
          "2025-04-21T00:00:00",
          "2025-04-22T00:00:00",
          "2025-04-23T00:00:00",
          "2025-04-24T00:00:00",
          "2025-04-25T00:00:00",
          "2025-04-26T00:00:00",
          "2025-04-27T00:00:00",
          "2025-04-28T00:00:00",
          "2025-04-29T00:00:00",
          "2025-04-30T00:00:00",
          "2025-05-01T00:00:00",
          "2025-05-02T00:00:00",
          "2025-05-03T00:00:00",
          "2025-05-04T00:00:00",
          "2025-05-05T00:00:00",
          "2025-05-06T00:00:00",
          "2025-05-07T00:00:00",
          "2025-05-08T00:00:00",
          "2025-05-09T00:00:00"
         ],
         "y": {
          "bdata": "6+I2GsAzgUCBJsKGJzGBQPOOU3SkLoFARrbz/VQtgUBsCfmgZyyBQEi/fR24K4FAETY8vdIogUDwhclUwSeBQGkAb4EEJ4FATfOOU3QlgUDAWyBB8SCBQI0o7Q2+H4FArK3YX3YegUCsi9toAB2BQF8HzhnRG4FAw9MrZZkagUDUK2UZYhmBQB6n6EguGIFAbcX+svsWgUAW+8vuyRWBQKMBvAWSFIFAHVpkO18TgUCbVZ+rLRKBQOXQItv5EIFACtejcL0PgUBa9bnaig6BQNNNYhBYDYFAoBov3SQMgUDF/rJ78gqBQOviNhrACYFA",
          "dtype": "f8"
         }
        },
        {
         "line": {
          "width": 0
         },
         "marker": {
          "color": "#68BBE3"
         },
         "mode": "lines",
         "name": "Lower Interval",
         "showlegend": false,
         "type": "scatter",
         "x": [
          "2025-04-10T00:00:00",
          "2025-04-11T00:00:00",
          "2025-04-12T00:00:00",
          "2025-04-13T00:00:00",
          "2025-04-14T00:00:00",
          "2025-04-15T00:00:00",
          "2025-04-16T00:00:00",
          "2025-04-17T00:00:00",
          "2025-04-18T00:00:00",
          "2025-04-19T00:00:00",
          "2025-04-20T00:00:00",
          "2025-04-21T00:00:00",
          "2025-04-22T00:00:00",
          "2025-04-23T00:00:00",
          "2025-04-24T00:00:00",
          "2025-04-25T00:00:00",
          "2025-04-26T00:00:00",
          "2025-04-27T00:00:00",
          "2025-04-28T00:00:00",
          "2025-04-29T00:00:00",
          "2025-04-30T00:00:00",
          "2025-05-01T00:00:00",
          "2025-05-02T00:00:00",
          "2025-05-03T00:00:00",
          "2025-05-04T00:00:00",
          "2025-05-05T00:00:00",
          "2025-05-06T00:00:00",
          "2025-05-07T00:00:00",
          "2025-05-08T00:00:00",
          "2025-05-09T00:00:00"
         ],
         "y": {
          "bdata": "cM6I0t5ugECKH2PuWh2AQKRwPQrXvn9A2PD0SllZf0BsCfmgZwF/QF66SQwCs35Aj1N0JJdnfkBCz2bV5yR+QHh6pSxD531ApSxDHOurfUAPnDOitG59QPAWSFD8OX1AZDvfT40HfUB90LNZ9dZ8QK36XG3Fp3xAHHxhMlV6fED2l92Th058QF5LyAc9JHxAXwfOGVH7e0Atsp3vp9N7QIBIv30drXtA+Q/pt6+He0AlBoGVQ2N7QPvL7snDP3tAEqW9wRcde0BPHhZqTft6QOzAOSNK2npAsi5uowG6ekB2Tx4Wapp6QBSuR+F6e3pA",
          "dtype": "f8"
         }
        },
        {
         "fill": "tonexty",
         "fillcolor": "rgba(104,187,227,0.5)",
         "line": {
          "width": 0
         },
         "marker": {
          "color": "#68BBE3"
         },
         "mode": "lines",
         "name": "Prediction Interval | ARIMA",
         "showlegend": true,
         "type": "scatter",
         "x": [
          "2025-04-10T00:00:00",
          "2025-04-11T00:00:00",
          "2025-04-12T00:00:00",
          "2025-04-13T00:00:00",
          "2025-04-14T00:00:00",
          "2025-04-15T00:00:00",
          "2025-04-16T00:00:00",
          "2025-04-17T00:00:00",
          "2025-04-18T00:00:00",
          "2025-04-19T00:00:00",
          "2025-04-20T00:00:00",
          "2025-04-21T00:00:00",
          "2025-04-22T00:00:00",
          "2025-04-23T00:00:00",
          "2025-04-24T00:00:00",
          "2025-04-25T00:00:00",
          "2025-04-26T00:00:00",
          "2025-04-27T00:00:00",
          "2025-04-28T00:00:00",
          "2025-04-29T00:00:00",
          "2025-04-30T00:00:00",
          "2025-05-01T00:00:00",
          "2025-05-02T00:00:00",
          "2025-05-03T00:00:00",
          "2025-05-04T00:00:00",
          "2025-05-05T00:00:00",
          "2025-05-06T00:00:00",
          "2025-05-07T00:00:00",
          "2025-05-08T00:00:00",
          "2025-05-09T00:00:00"
         ],
         "y": {
          "bdata": "001iENgBgkAy5q4lZFeCQBWMSuqEmYJA6Nms+tzSgkAJ+aBnMwaDQGiR7Xw/NYNAB84ZUVpeg0AqqRPQxIaDQBfZzvdTrYNAzTtO0RHRg0AGEhQ/xu+DQIGVQ4vsEIRAqFfKMsQwhEA2zTtOUU+EQN9PjZfubYRAyXa+n5qLhEB90LNZdaiEQFvTvOOUxIRAdEaU9gbghEB/2T152PqEQGQ7308NFYVAY+5aQr4uhUAOLbKd70eFQCJseHqlYIVAn6ut2N94hUAvbqMBvJCFQLaEfNAzqIVAzczMzEy/hUAWak3zDtaFQPAWSFB87IVA",
          "dtype": "f8"
         }
        },
        {
         "marker": {
          "color": "#3f3f3f",
          "size": 5
         },
         "mode": "lines+markers",
         "name": "Original",
         "showlegend": true,
         "type": "scatter",
         "x": [
          "2024-04-10T00:00:00",
          "2024-04-11T00:00:00",
          "2024-04-12T00:00:00",
          "2024-04-13T00:00:00",
          "2024-04-14T00:00:00",
          "2024-04-15T00:00:00",
          "2024-04-16T00:00:00",
          "2024-04-17T00:00:00",
          "2024-04-18T00:00:00",
          "2024-04-19T00:00:00",
          "2024-04-20T00:00:00",
          "2024-04-21T00:00:00",
          "2024-04-22T00:00:00",
          "2024-04-23T00:00:00",
          "2024-04-24T00:00:00",
          "2024-04-25T00:00:00",
          "2024-04-26T00:00:00",
          "2024-04-27T00:00:00",
          "2024-04-28T00:00:00",
          "2024-04-29T00:00:00",
          "2024-04-30T00:00:00",
          "2024-05-01T00:00:00",
          "2024-05-02T00:00:00",
          "2024-05-03T00:00:00",
          "2024-05-04T00:00:00",
          "2024-05-05T00:00:00",
          "2024-05-06T00:00:00",
          "2024-05-07T00:00:00",
          "2024-05-08T00:00:00",
          "2024-05-09T00:00:00",
          "2024-05-10T00:00:00",
          "2024-05-11T00:00:00",
          "2024-05-12T00:00:00",
          "2024-05-13T00:00:00",
          "2024-05-14T00:00:00",
          "2024-05-15T00:00:00",
          "2024-05-16T00:00:00",
          "2024-05-17T00:00:00",
          "2024-05-18T00:00:00",
          "2024-05-19T00:00:00",
          "2024-05-20T00:00:00",
          "2024-05-21T00:00:00",
          "2024-05-22T00:00:00",
          "2024-05-23T00:00:00",
          "2024-05-24T00:00:00",
          "2024-05-25T00:00:00",
          "2024-05-26T00:00:00",
          "2024-05-27T00:00:00",
          "2024-05-28T00:00:00",
          "2024-05-29T00:00:00",
          "2024-05-30T00:00:00",
          "2024-05-31T00:00:00",
          "2024-06-01T00:00:00",
          "2024-06-02T00:00:00",
          "2024-06-03T00:00:00",
          "2024-06-04T00:00:00",
          "2024-06-05T00:00:00",
          "2024-06-06T00:00:00",
          "2024-06-07T00:00:00",
          "2024-06-08T00:00:00",
          "2024-06-09T00:00:00",
          "2024-06-10T00:00:00",
          "2024-06-11T00:00:00",
          "2024-06-12T00:00:00",
          "2024-06-13T00:00:00",
          "2024-06-14T00:00:00",
          "2024-06-15T00:00:00",
          "2024-06-16T00:00:00",
          "2024-06-17T00:00:00",
          "2024-06-18T00:00:00",
          "2024-06-19T00:00:00",
          "2024-06-20T00:00:00",
          "2024-06-21T00:00:00",
          "2024-06-22T00:00:00",
          "2024-06-23T00:00:00",
          "2024-06-24T00:00:00",
          "2024-06-25T00:00:00",
          "2024-06-26T00:00:00",
          "2024-06-27T00:00:00",
          "2024-06-28T00:00:00",
          "2024-06-29T00:00:00",
          "2024-06-30T00:00:00",
          "2024-07-01T00:00:00",
          "2024-07-02T00:00:00",
          "2024-07-03T00:00:00",
          "2024-07-04T00:00:00",
          "2024-07-05T00:00:00",
          "2024-07-06T00:00:00",
          "2024-07-07T00:00:00",
          "2024-07-08T00:00:00",
          "2024-07-09T00:00:00",
          "2024-07-10T00:00:00",
          "2024-07-11T00:00:00",
          "2024-07-12T00:00:00",
          "2024-07-13T00:00:00",
          "2024-07-14T00:00:00",
          "2024-07-15T00:00:00",
          "2024-07-16T00:00:00",
          "2024-07-17T00:00:00",
          "2024-07-18T00:00:00",
          "2024-07-19T00:00:00",
          "2024-07-20T00:00:00",
          "2024-07-21T00:00:00",
          "2024-07-22T00:00:00",
          "2024-07-23T00:00:00",
          "2024-07-24T00:00:00",
          "2024-07-25T00:00:00",
          "2024-07-26T00:00:00",
          "2024-07-27T00:00:00",
          "2024-07-28T00:00:00",
          "2024-07-29T00:00:00",
          "2024-07-30T00:00:00",
          "2024-07-31T00:00:00",
          "2024-08-01T00:00:00",
          "2024-08-02T00:00:00",
          "2024-08-03T00:00:00",
          "2024-08-04T00:00:00",
          "2024-08-05T00:00:00",
          "2024-08-06T00:00:00",
          "2024-08-07T00:00:00",
          "2024-08-08T00:00:00",
          "2024-08-09T00:00:00",
          "2024-08-10T00:00:00",
          "2024-08-11T00:00:00",
          "2024-08-12T00:00:00",
          "2024-08-13T00:00:00",
          "2024-08-14T00:00:00",
          "2024-08-15T00:00:00",
          "2024-08-16T00:00:00",
          "2024-08-17T00:00:00",
          "2024-08-18T00:00:00",
          "2024-08-19T00:00:00",
          "2024-08-20T00:00:00",
          "2024-08-21T00:00:00",
          "2024-08-22T00:00:00",
          "2024-08-23T00:00:00",
          "2024-08-24T00:00:00",
          "2024-08-25T00:00:00",
          "2024-08-26T00:00:00",
          "2024-08-27T00:00:00",
          "2024-08-28T00:00:00",
          "2024-08-29T00:00:00",
          "2024-08-30T00:00:00",
          "2024-08-31T00:00:00",
          "2024-09-01T00:00:00",
          "2024-09-02T00:00:00",
          "2024-09-03T00:00:00",
          "2024-09-04T00:00:00",
          "2024-09-05T00:00:00",
          "2024-09-06T00:00:00",
          "2024-09-07T00:00:00",
          "2024-09-08T00:00:00",
          "2024-09-09T00:00:00",
          "2024-09-10T00:00:00",
          "2024-09-11T00:00:00",
          "2024-09-12T00:00:00",
          "2024-09-13T00:00:00",
          "2024-09-14T00:00:00",
          "2024-09-15T00:00:00",
          "2024-09-16T00:00:00",
          "2024-09-17T00:00:00",
          "2024-09-18T00:00:00",
          "2024-09-19T00:00:00",
          "2024-09-20T00:00:00",
          "2024-09-21T00:00:00",
          "2024-09-22T00:00:00",
          "2024-09-23T00:00:00",
          "2024-09-24T00:00:00",
          "2024-09-25T00:00:00",
          "2024-09-26T00:00:00",
          "2024-09-27T00:00:00",
          "2024-09-28T00:00:00",
          "2024-09-29T00:00:00",
          "2024-09-30T00:00:00",
          "2024-10-01T00:00:00",
          "2024-10-02T00:00:00",
          "2024-10-03T00:00:00",
          "2024-10-04T00:00:00",
          "2024-10-05T00:00:00",
          "2024-10-06T00:00:00",
          "2024-10-07T00:00:00",
          "2024-10-08T00:00:00",
          "2024-10-09T00:00:00",
          "2024-10-10T00:00:00",
          "2024-10-11T00:00:00",
          "2024-10-12T00:00:00",
          "2024-10-13T00:00:00",
          "2024-10-14T00:00:00",
          "2024-10-15T00:00:00",
          "2024-10-16T00:00:00",
          "2024-10-17T00:00:00",
          "2024-10-18T00:00:00",
          "2024-10-19T00:00:00",
          "2024-10-20T00:00:00",
          "2024-10-21T00:00:00",
          "2024-10-22T00:00:00",
          "2024-10-23T00:00:00",
          "2024-10-24T00:00:00",
          "2024-10-25T00:00:00",
          "2024-10-26T00:00:00",
          "2024-10-27T00:00:00",
          "2024-10-28T00:00:00",
          "2024-10-29T00:00:00",
          "2024-10-30T00:00:00",
          "2024-10-31T00:00:00",
          "2024-11-01T00:00:00",
          "2024-11-02T00:00:00",
          "2024-11-03T00:00:00",
          "2024-11-04T00:00:00",
          "2024-11-05T00:00:00",
          "2024-11-06T00:00:00",
          "2024-11-07T00:00:00",
          "2024-11-08T00:00:00",
          "2024-11-09T00:00:00",
          "2024-11-10T00:00:00",
          "2024-11-11T00:00:00",
          "2024-11-12T00:00:00",
          "2024-11-13T00:00:00",
          "2024-11-14T00:00:00",
          "2024-11-15T00:00:00",
          "2024-11-16T00:00:00",
          "2024-11-17T00:00:00",
          "2024-11-18T00:00:00",
          "2024-11-19T00:00:00",
          "2024-11-20T00:00:00",
          "2024-11-21T00:00:00",
          "2024-11-22T00:00:00",
          "2024-11-23T00:00:00",
          "2024-11-24T00:00:00",
          "2024-11-25T00:00:00",
          "2024-11-26T00:00:00",
          "2024-11-27T00:00:00",
          "2024-11-28T00:00:00",
          "2024-11-29T00:00:00",
          "2024-11-30T00:00:00",
          "2024-12-01T00:00:00",
          "2024-12-02T00:00:00",
          "2024-12-03T00:00:00",
          "2024-12-04T00:00:00",
          "2024-12-05T00:00:00",
          "2024-12-06T00:00:00",
          "2024-12-07T00:00:00",
          "2024-12-08T00:00:00",
          "2024-12-09T00:00:00",
          "2024-12-10T00:00:00",
          "2024-12-11T00:00:00",
          "2024-12-12T00:00:00",
          "2024-12-13T00:00:00",
          "2024-12-14T00:00:00",
          "2024-12-15T00:00:00",
          "2024-12-16T00:00:00",
          "2024-12-17T00:00:00",
          "2024-12-18T00:00:00",
          "2024-12-19T00:00:00",
          "2024-12-20T00:00:00",
          "2024-12-21T00:00:00",
          "2024-12-22T00:00:00",
          "2024-12-23T00:00:00",
          "2024-12-24T00:00:00",
          "2024-12-25T00:00:00",
          "2024-12-26T00:00:00",
          "2024-12-27T00:00:00",
          "2024-12-28T00:00:00",
          "2024-12-29T00:00:00",
          "2024-12-30T00:00:00",
          "2024-12-31T00:00:00",
          "2025-01-01T00:00:00",
          "2025-01-02T00:00:00",
          "2025-01-03T00:00:00",
          "2025-01-04T00:00:00",
          "2025-01-05T00:00:00",
          "2025-01-06T00:00:00",
          "2025-01-07T00:00:00",
          "2025-01-08T00:00:00",
          "2025-01-09T00:00:00",
          "2025-01-10T00:00:00",
          "2025-01-11T00:00:00",
          "2025-01-12T00:00:00",
          "2025-01-13T00:00:00",
          "2025-01-14T00:00:00",
          "2025-01-15T00:00:00",
          "2025-01-16T00:00:00",
          "2025-01-17T00:00:00",
          "2025-01-18T00:00:00",
          "2025-01-19T00:00:00",
          "2025-01-20T00:00:00",
          "2025-01-21T00:00:00",
          "2025-01-22T00:00:00",
          "2025-01-23T00:00:00",
          "2025-01-24T00:00:00",
          "2025-01-25T00:00:00",
          "2025-01-26T00:00:00",
          "2025-01-27T00:00:00",
          "2025-01-28T00:00:00",
          "2025-01-29T00:00:00",
          "2025-01-30T00:00:00",
          "2025-01-31T00:00:00",
          "2025-02-01T00:00:00",
          "2025-02-02T00:00:00",
          "2025-02-03T00:00:00",
          "2025-02-04T00:00:00",
          "2025-02-05T00:00:00",
          "2025-02-06T00:00:00",
          "2025-02-07T00:00:00",
          "2025-02-08T00:00:00",
          "2025-02-09T00:00:00",
          "2025-02-10T00:00:00",
          "2025-02-11T00:00:00",
          "2025-02-12T00:00:00",
          "2025-02-13T00:00:00",
          "2025-02-14T00:00:00",
          "2025-02-15T00:00:00",
          "2025-02-16T00:00:00",
          "2025-02-17T00:00:00",
          "2025-02-18T00:00:00",
          "2025-02-19T00:00:00",
          "2025-02-20T00:00:00",
          "2025-02-21T00:00:00",
          "2025-02-22T00:00:00",
          "2025-02-23T00:00:00",
          "2025-02-24T00:00:00",
          "2025-02-25T00:00:00",
          "2025-02-26T00:00:00",
          "2025-02-27T00:00:00",
          "2025-02-28T00:00:00",
          "2025-03-01T00:00:00",
          "2025-03-02T00:00:00",
          "2025-03-03T00:00:00",
          "2025-03-04T00:00:00",
          "2025-03-05T00:00:00",
          "2025-03-06T00:00:00",
          "2025-03-07T00:00:00",
          "2025-03-08T00:00:00",
          "2025-03-09T00:00:00",
          "2025-03-10T00:00:00",
          "2025-03-11T00:00:00",
          "2025-03-12T00:00:00",
          "2025-03-13T00:00:00",
          "2025-03-14T00:00:00",
          "2025-03-15T00:00:00",
          "2025-03-16T00:00:00",
          "2025-03-17T00:00:00",
          "2025-03-18T00:00:00",
          "2025-03-19T00:00:00",
          "2025-03-20T00:00:00",
          "2025-03-21T00:00:00",
          "2025-03-22T00:00:00",
          "2025-03-23T00:00:00",
          "2025-03-24T00:00:00",
          "2025-03-25T00:00:00",
          "2025-03-26T00:00:00",
          "2025-03-27T00:00:00",
          "2025-03-28T00:00:00",
          "2025-03-29T00:00:00",
          "2025-03-30T00:00:00",
          "2025-03-31T00:00:00",
          "2025-04-01T00:00:00",
          "2025-04-02T00:00:00",
          "2025-04-03T00:00:00",
          "2025-04-04T00:00:00",
          "2025-04-05T00:00:00",
          "2025-04-06T00:00:00",
          "2025-04-07T00:00:00",
          "2025-04-08T00:00:00",
          "2025-04-09T00:00:00"
         ],
         "y": {
          "bdata": "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",
          "dtype": "f8"
         }
        }
       ],
       "layout": {
        "showlegend": true,
        "template": {
         "data": {
          "bar": [
           {
            "error_x": {
             "color": "rgb(51,51,51)"
            },
            "error_y": {
             "color": "rgb(51,51,51)"
            },
            "marker": {
             "line": {
              "color": "rgb(237,237,237)",
              "width": 0.5
             },
             "pattern": {
              "fillmode": "overlay",
              "size": 10,
              "solidity": 0.2
             }
            },
            "type": "bar"
           }
          ],
          "barpolar": [
           {
            "marker": {
             "line": {
              "color": "rgb(237,237,237)",
              "width": 0.5
             },
             "pattern": {
              "fillmode": "overlay",
              "size": 10,
              "solidity": 0.2
             }
            },
            "type": "barpolar"
           }
          ],
          "carpet": [
           {
            "aaxis": {
             "endlinecolor": "rgb(51,51,51)",
             "gridcolor": "white",
             "linecolor": "white",
             "minorgridcolor": "white",
             "startlinecolor": "rgb(51,51,51)"
            },
            "baxis": {
             "endlinecolor": "rgb(51,51,51)",
             "gridcolor": "white",
             "linecolor": "white",
             "minorgridcolor": "white",
             "startlinecolor": "rgb(51,51,51)"
            },
            "type": "carpet"
           }
          ],
          "choropleth": [
           {
            "colorbar": {
             "outlinewidth": 0,
             "tickcolor": "rgb(237,237,237)",
             "ticklen": 6,
             "ticks": "inside"
            },
            "type": "choropleth"
           }
          ],
          "contour": [
           {
            "colorbar": {
             "outlinewidth": 0,
             "tickcolor": "rgb(237,237,237)",
             "ticklen": 6,
             "ticks": "inside"
            },
            "colorscale": [
             [
              0,
              "rgb(20,44,66)"
             ],
             [
              1,
              "rgb(90,179,244)"
             ]
            ],
            "type": "contour"
           }
          ],
          "contourcarpet": [
           {
            "colorbar": {
             "outlinewidth": 0,
             "tickcolor": "rgb(237,237,237)",
             "ticklen": 6,
             "ticks": "inside"
            },
            "type": "contourcarpet"
           }
          ],
          "heatmap": [
           {
            "colorbar": {
             "outlinewidth": 0,
             "tickcolor": "rgb(237,237,237)",
             "ticklen": 6,
             "ticks": "inside"
            },
            "colorscale": [
             [
              0,
              "rgb(20,44,66)"
             ],
             [
              1,
              "rgb(90,179,244)"
             ]
            ],
            "type": "heatmap"
           }
          ],
          "histogram": [
           {
            "marker": {
             "pattern": {
              "fillmode": "overlay",
              "size": 10,
              "solidity": 0.2
             }
            },
            "type": "histogram"
           }
          ],
          "histogram2d": [
           {
            "colorbar": {
             "outlinewidth": 0,
             "tickcolor": "rgb(237,237,237)",
             "ticklen": 6,
             "ticks": "inside"
            },
            "colorscale": [
             [
              0,
              "rgb(20,44,66)"
             ],
             [
              1,
              "rgb(90,179,244)"
             ]
            ],
            "type": "histogram2d"
           }
          ],
          "histogram2dcontour": [
           {
            "colorbar": {
             "outlinewidth": 0,
             "tickcolor": "rgb(237,237,237)",
             "ticklen": 6,
             "ticks": "inside"
            },
            "colorscale": [
             [
              0,
              "rgb(20,44,66)"
             ],
             [
              1,
              "rgb(90,179,244)"
             ]
            ],
            "type": "histogram2dcontour"
           }
          ],
          "mesh3d": [
           {
            "colorbar": {
             "outlinewidth": 0,
             "tickcolor": "rgb(237,237,237)",
             "ticklen": 6,
             "ticks": "inside"
            },
            "type": "mesh3d"
           }
          ],
          "parcoords": [
           {
            "line": {
             "colorbar": {
              "outlinewidth": 0,
              "tickcolor": "rgb(237,237,237)",
              "ticklen": 6,
              "ticks": "inside"
             }
            },
            "type": "parcoords"
           }
          ],
          "pie": [
           {
            "automargin": true,
            "type": "pie"
           }
          ],
          "scatter": [
           {
            "fillpattern": {
             "fillmode": "overlay",
             "size": 10,
             "solidity": 0.2
            },
            "type": "scatter"
           }
          ],
          "scatter3d": [
           {
            "line": {
             "colorbar": {
              "outlinewidth": 0,
              "tickcolor": "rgb(237,237,237)",
              "ticklen": 6,
              "ticks": "inside"
             }
            },
            "marker": {
             "colorbar": {
              "outlinewidth": 0,
              "tickcolor": "rgb(237,237,237)",
              "ticklen": 6,
              "ticks": "inside"
             }
            },
            "type": "scatter3d"
           }
          ],
          "scattercarpet": [
           {
            "marker": {
             "colorbar": {
              "outlinewidth": 0,
              "tickcolor": "rgb(237,237,237)",
              "ticklen": 6,
              "ticks": "inside"
             }
            },
            "type": "scattercarpet"
           }
          ],
          "scattergeo": [
           {
            "marker": {
             "colorbar": {
              "outlinewidth": 0,
              "tickcolor": "rgb(237,237,237)",
              "ticklen": 6,
              "ticks": "inside"
             }
            },
            "type": "scattergeo"
           }
          ],
          "scattergl": [
           {
            "marker": {
             "colorbar": {
              "outlinewidth": 0,
              "tickcolor": "rgb(237,237,237)",
              "ticklen": 6,
              "ticks": "inside"
             }
            },
            "type": "scattergl"
           }
          ],
          "scattermap": [
           {
            "marker": {
             "colorbar": {
              "outlinewidth": 0,
              "tickcolor": "rgb(237,237,237)",
              "ticklen": 6,
              "ticks": "inside"
             }
            },
            "type": "scattermap"
           }
          ],
          "scattermapbox": [
           {
            "marker": {
             "colorbar": {
              "outlinewidth": 0,
              "tickcolor": "rgb(237,237,237)",
              "ticklen": 6,
              "ticks": "inside"
             }
            },
            "type": "scattermapbox"
           }
          ],
          "scatterpolar": [
           {
            "marker": {
             "colorbar": {
              "outlinewidth": 0,
              "tickcolor": "rgb(237,237,237)",
              "ticklen": 6,
              "ticks": "inside"
             }
            },
            "type": "scatterpolar"
           }
          ],
          "scatterpolargl": [
           {
            "marker": {
             "colorbar": {
              "outlinewidth": 0,
              "tickcolor": "rgb(237,237,237)",
              "ticklen": 6,
              "ticks": "inside"
             }
            },
            "type": "scatterpolargl"
           }
          ],
          "scatterternary": [
           {
            "marker": {
             "colorbar": {
              "outlinewidth": 0,
              "tickcolor": "rgb(237,237,237)",
              "ticklen": 6,
              "ticks": "inside"
             }
            },
            "type": "scatterternary"
           }
          ],
          "surface": [
           {
            "colorbar": {
             "outlinewidth": 0,
             "tickcolor": "rgb(237,237,237)",
             "ticklen": 6,
             "ticks": "inside"
            },
            "colorscale": [
             [
              0,
              "rgb(20,44,66)"
             ],
             [
              1,
              "rgb(90,179,244)"
             ]
            ],
            "type": "surface"
           }
          ],
          "table": [
           {
            "cells": {
             "fill": {
              "color": "rgb(237,237,237)"
             },
             "line": {
              "color": "white"
             }
            },
            "header": {
             "fill": {
              "color": "rgb(217,217,217)"
             },
             "line": {
              "color": "white"
             }
            },
            "type": "table"
           }
          ]
         },
         "layout": {
          "annotationdefaults": {
           "arrowhead": 0,
           "arrowwidth": 1
          },
          "autotypenumbers": "strict",
          "coloraxis": {
           "colorbar": {
            "outlinewidth": 0,
            "tickcolor": "rgb(237,237,237)",
            "ticklen": 6,
            "ticks": "inside"
           }
          },
          "colorscale": {
           "sequential": [
            [
             0,
             "rgb(20,44,66)"
            ],
            [
             1,
             "rgb(90,179,244)"
            ]
           ],
           "sequentialminus": [
            [
             0,
             "rgb(20,44,66)"
            ],
            [
             1,
             "rgb(90,179,244)"
            ]
           ]
          },
          "colorway": [
           "#F8766D",
           "#A3A500",
           "#00BF7D",
           "#00B0F6",
           "#E76BF3"
          ],
          "font": {
           "color": "rgb(51,51,51)"
          },
          "geo": {
           "bgcolor": "white",
           "lakecolor": "white",
           "landcolor": "rgb(237,237,237)",
           "showlakes": true,
           "showland": true,
           "subunitcolor": "white"
          },
          "hoverlabel": {
           "align": "left"
          },
          "hovermode": "closest",
          "paper_bgcolor": "white",
          "plot_bgcolor": "rgb(237,237,237)",
          "polar": {
           "angularaxis": {
            "gridcolor": "white",
            "linecolor": "white",
            "showgrid": true,
            "tickcolor": "rgb(51,51,51)",
            "ticks": "outside"
           },
           "bgcolor": "rgb(237,237,237)",
           "radialaxis": {
            "gridcolor": "white",
            "linecolor": "white",
            "showgrid": true,
            "tickcolor": "rgb(51,51,51)",
            "ticks": "outside"
           }
          },
          "scene": {
           "xaxis": {
            "backgroundcolor": "rgb(237,237,237)",
            "gridcolor": "white",
            "gridwidth": 2,
            "linecolor": "white",
            "showbackground": true,
            "showgrid": true,
            "tickcolor": "rgb(51,51,51)",
            "ticks": "outside",
            "zerolinecolor": "white"
           },
           "yaxis": {
            "backgroundcolor": "rgb(237,237,237)",
            "gridcolor": "white",
            "gridwidth": 2,
            "linecolor": "white",
            "showbackground": true,
            "showgrid": true,
            "tickcolor": "rgb(51,51,51)",
            "ticks": "outside",
            "zerolinecolor": "white"
           },
           "zaxis": {
            "backgroundcolor": "rgb(237,237,237)",
            "gridcolor": "white",
            "gridwidth": 2,
            "linecolor": "white",
            "showbackground": true,
            "showgrid": true,
            "tickcolor": "rgb(51,51,51)",
            "ticks": "outside",
            "zerolinecolor": "white"
           }
          },
          "shapedefaults": {
           "fillcolor": "black",
           "line": {
            "width": 0
           },
           "opacity": 0.3
          },
          "ternary": {
           "aaxis": {
            "gridcolor": "white",
            "linecolor": "white",
            "showgrid": true,
            "tickcolor": "rgb(51,51,51)",
            "ticks": "outside"
           },
           "baxis": {
            "gridcolor": "white",
            "linecolor": "white",
            "showgrid": true,
            "tickcolor": "rgb(51,51,51)",
            "ticks": "outside"
           },
           "bgcolor": "rgb(237,237,237)",
           "caxis": {
            "gridcolor": "white",
            "linecolor": "white",
            "showgrid": true,
            "tickcolor": "rgb(51,51,51)",
            "ticks": "outside"
           }
          },
          "xaxis": {
           "automargin": true,
           "gridcolor": "white",
           "linecolor": "white",
           "showgrid": true,
           "tickcolor": "rgb(51,51,51)",
           "ticks": "outside",
           "title": {
            "standoff": 15
           },
           "zerolinecolor": "white"
          },
          "yaxis": {
           "automargin": true,
           "gridcolor": "white",
           "linecolor": "white",
           "showgrid": true,
           "tickcolor": "rgb(51,51,51)",
           "ticks": "outside",
           "title": {
            "standoff": 15
           },
           "zerolinecolor": "white"
          }
         }
        },
        "title": {
         "text": "Actual vs. 'Out-of-Sample' Forecast | BNB-USD"
        },
        "xaxis": {
         "title": {
          "text": "Time"
         }
        },
        "yaxis": {
         "title": {
          "text": "Values"
         }
        }
       }
      }
     },
     "metadata": {},
     "output_type": "display_data"
    }
   ],
   "source": [
    "arima = create_model('arima')\n",
    "tuned_arima = tune_model(arima)\n",
    "final_arima = finalize_model(tuned_arima)\n",
    "#future_dates = pd.date_range(df.index[-1], periods=30, freq='D')\n",
    "arima_predictions = predict_model(final_arima)\n",
    "#Plot prophet model forecast\n",
    "plot_model(final_arima, plot='forecast')"
   ]
  },
  {
   "cell_type": "code",
   "execution_count": 106,
   "id": "1c202a9f",
   "metadata": {},
   "outputs": [],
   "source": []
  },
  {
   "cell_type": "code",
   "execution_count": 18,
   "id": "4c793c0e",
   "metadata": {},
   "outputs": [
    {
     "data": {
      "text/html": [],
      "text/plain": [
       "<IPython.core.display.HTML object>"
      ]
     },
     "metadata": {},
     "output_type": "display_data"
    },
    {
     "data": {
      "text/html": [
       "<style type=\"text/css\">\n",
       "#T_7d84b_row3_col0, #T_7d84b_row3_col1, #T_7d84b_row3_col2, #T_7d84b_row3_col3, #T_7d84b_row3_col4, #T_7d84b_row3_col5, #T_7d84b_row3_col6, #T_7d84b_row3_col7 {\n",
       "  background: yellow;\n",
       "}\n",
       "</style>\n",
       "<table id=\"T_7d84b\">\n",
       "  <thead>\n",
       "    <tr>\n",
       "      <th class=\"blank level0\" >&nbsp;</th>\n",
       "      <th id=\"T_7d84b_level0_col0\" class=\"col_heading level0 col0\" >cutoff</th>\n",
       "      <th id=\"T_7d84b_level0_col1\" class=\"col_heading level0 col1\" >MASE</th>\n",
       "      <th id=\"T_7d84b_level0_col2\" class=\"col_heading level0 col2\" >RMSSE</th>\n",
       "      <th id=\"T_7d84b_level0_col3\" class=\"col_heading level0 col3\" >MAE</th>\n",
       "      <th id=\"T_7d84b_level0_col4\" class=\"col_heading level0 col4\" >RMSE</th>\n",
       "      <th id=\"T_7d84b_level0_col5\" class=\"col_heading level0 col5\" >MAPE</th>\n",
       "      <th id=\"T_7d84b_level0_col6\" class=\"col_heading level0 col6\" >SMAPE</th>\n",
       "      <th id=\"T_7d84b_level0_col7\" class=\"col_heading level0 col7\" >R2</th>\n",
       "    </tr>\n",
       "  </thead>\n",
       "  <tbody>\n",
       "    <tr>\n",
       "      <th id=\"T_7d84b_level0_row0\" class=\"row_heading level0 row0\" >0</th>\n",
       "      <td id=\"T_7d84b_row0_col0\" class=\"data row0 col0\" >2024-12-10</td>\n",
       "      <td id=\"T_7d84b_row0_col1\" class=\"data row0 col1\" >1.1591</td>\n",
       "      <td id=\"T_7d84b_row0_col2\" class=\"data row0 col2\" >1.0075</td>\n",
       "      <td id=\"T_7d84b_row0_col3\" class=\"data row0 col3\" >39.1829</td>\n",
       "      <td id=\"T_7d84b_row0_col4\" class=\"data row0 col4\" >43.9486</td>\n",
       "      <td id=\"T_7d84b_row0_col5\" class=\"data row0 col5\" >0.0565</td>\n",
       "      <td id=\"T_7d84b_row0_col6\" class=\"data row0 col6\" >0.0546</td>\n",
       "      <td id=\"T_7d84b_row0_col7\" class=\"data row0 col7\" >-4.6074</td>\n",
       "    </tr>\n",
       "    <tr>\n",
       "      <th id=\"T_7d84b_level0_row1\" class=\"row_heading level0 row1\" >1</th>\n",
       "      <td id=\"T_7d84b_row1_col0\" class=\"data row1 col0\" >2025-01-09</td>\n",
       "      <td id=\"T_7d84b_row1_col1\" class=\"data row1 col1\" >3.1309</td>\n",
       "      <td id=\"T_7d84b_row1_col2\" class=\"data row1 col2\" >2.8251</td>\n",
       "      <td id=\"T_7d84b_row1_col3\" class=\"data row1 col3\" >102.7136</td>\n",
       "      <td id=\"T_7d84b_row1_col4\" class=\"data row1 col4\" >119.5633</td>\n",
       "      <td id=\"T_7d84b_row1_col5\" class=\"data row1 col5\" >0.1617</td>\n",
       "      <td id=\"T_7d84b_row1_col6\" class=\"data row1 col6\" >0.1450</td>\n",
       "      <td id=\"T_7d84b_row1_col7\" class=\"data row1 col7\" >-6.2942</td>\n",
       "    </tr>\n",
       "    <tr>\n",
       "      <th id=\"T_7d84b_level0_row2\" class=\"row_heading level0 row2\" >2</th>\n",
       "      <td id=\"T_7d84b_row2_col0\" class=\"data row2 col0\" >2025-02-08</td>\n",
       "      <td id=\"T_7d84b_row2_col1\" class=\"data row2 col1\" >0.8234</td>\n",
       "      <td id=\"T_7d84b_row2_col2\" class=\"data row2 col2\" >0.7494</td>\n",
       "      <td id=\"T_7d84b_row2_col3\" class=\"data row2 col3\" >26.9752</td>\n",
       "      <td id=\"T_7d84b_row2_col4\" class=\"data row2 col4\" >31.8123</td>\n",
       "      <td id=\"T_7d84b_row2_col5\" class=\"data row2 col5\" >0.0440</td>\n",
       "      <td id=\"T_7d84b_row2_col6\" class=\"data row2 col6\" >0.0435</td>\n",
       "      <td id=\"T_7d84b_row2_col7\" class=\"data row2 col7\" >0.3078</td>\n",
       "    </tr>\n",
       "    <tr>\n",
       "      <th id=\"T_7d84b_level0_row3\" class=\"row_heading level0 row3\" >Mean</th>\n",
       "      <td id=\"T_7d84b_row3_col0\" class=\"data row3 col0\" >NaT</td>\n",
       "      <td id=\"T_7d84b_row3_col1\" class=\"data row3 col1\" >1.7045</td>\n",
       "      <td id=\"T_7d84b_row3_col2\" class=\"data row3 col2\" >1.5273</td>\n",
       "      <td id=\"T_7d84b_row3_col3\" class=\"data row3 col3\" >56.2906</td>\n",
       "      <td id=\"T_7d84b_row3_col4\" class=\"data row3 col4\" >65.1081</td>\n",
       "      <td id=\"T_7d84b_row3_col5\" class=\"data row3 col5\" >0.0874</td>\n",
       "      <td id=\"T_7d84b_row3_col6\" class=\"data row3 col6\" >0.0810</td>\n",
       "      <td id=\"T_7d84b_row3_col7\" class=\"data row3 col7\" >-3.5313</td>\n",
       "    </tr>\n",
       "    <tr>\n",
       "      <th id=\"T_7d84b_level0_row4\" class=\"row_heading level0 row4\" >SD</th>\n",
       "      <td id=\"T_7d84b_row4_col0\" class=\"data row4 col0\" >NaT</td>\n",
       "      <td id=\"T_7d84b_row4_col1\" class=\"data row4 col1\" >1.0179</td>\n",
       "      <td id=\"T_7d84b_row4_col2\" class=\"data row4 col2\" >0.9237</td>\n",
       "      <td id=\"T_7d84b_row4_col3\" class=\"data row4 col3\" >33.2022</td>\n",
       "      <td id=\"T_7d84b_row4_col4\" class=\"data row4 col4\" >38.8231</td>\n",
       "      <td id=\"T_7d84b_row4_col5\" class=\"data row4 col5\" >0.0528</td>\n",
       "      <td id=\"T_7d84b_row4_col6\" class=\"data row4 col6\" >0.0455</td>\n",
       "      <td id=\"T_7d84b_row4_col7\" class=\"data row4 col7\" >2.8006</td>\n",
       "    </tr>\n",
       "  </tbody>\n",
       "</table>\n"
      ],
      "text/plain": [
       "<pandas.io.formats.style.Styler at 0x1bcc2e79160>"
      ]
     },
     "metadata": {},
     "output_type": "display_data"
    },
    {
     "data": {
      "text/html": [],
      "text/plain": [
       "<IPython.core.display.HTML object>"
      ]
     },
     "metadata": {},
     "output_type": "display_data"
    },
    {
     "data": {
      "text/html": [],
      "text/plain": [
       "<IPython.core.display.HTML object>"
      ]
     },
     "metadata": {},
     "output_type": "display_data"
    },
    {
     "data": {
      "text/html": [
       "<style type=\"text/css\">\n",
       "#T_75144_row3_col0, #T_75144_row3_col1, #T_75144_row3_col2, #T_75144_row3_col3, #T_75144_row3_col4, #T_75144_row3_col5, #T_75144_row3_col6, #T_75144_row3_col7 {\n",
       "  background: yellow;\n",
       "}\n",
       "</style>\n",
       "<table id=\"T_75144\">\n",
       "  <thead>\n",
       "    <tr>\n",
       "      <th class=\"blank level0\" >&nbsp;</th>\n",
       "      <th id=\"T_75144_level0_col0\" class=\"col_heading level0 col0\" >cutoff</th>\n",
       "      <th id=\"T_75144_level0_col1\" class=\"col_heading level0 col1\" >MASE</th>\n",
       "      <th id=\"T_75144_level0_col2\" class=\"col_heading level0 col2\" >RMSSE</th>\n",
       "      <th id=\"T_75144_level0_col3\" class=\"col_heading level0 col3\" >MAE</th>\n",
       "      <th id=\"T_75144_level0_col4\" class=\"col_heading level0 col4\" >RMSE</th>\n",
       "      <th id=\"T_75144_level0_col5\" class=\"col_heading level0 col5\" >MAPE</th>\n",
       "      <th id=\"T_75144_level0_col6\" class=\"col_heading level0 col6\" >SMAPE</th>\n",
       "      <th id=\"T_75144_level0_col7\" class=\"col_heading level0 col7\" >R2</th>\n",
       "    </tr>\n",
       "  </thead>\n",
       "  <tbody>\n",
       "    <tr>\n",
       "      <th id=\"T_75144_level0_row0\" class=\"row_heading level0 row0\" >0</th>\n",
       "      <td id=\"T_75144_row0_col0\" class=\"data row0 col0\" >2024-12-10</td>\n",
       "      <td id=\"T_75144_row0_col1\" class=\"data row0 col1\" >0.7515</td>\n",
       "      <td id=\"T_75144_row0_col2\" class=\"data row0 col2\" >0.6600</td>\n",
       "      <td id=\"T_75144_row0_col3\" class=\"data row0 col3\" >25.4044</td>\n",
       "      <td id=\"T_75144_row0_col4\" class=\"data row0 col4\" >28.7926</td>\n",
       "      <td id=\"T_75144_row0_col5\" class=\"data row0 col5\" >0.0366</td>\n",
       "      <td id=\"T_75144_row0_col6\" class=\"data row0 col6\" >0.0361</td>\n",
       "      <td id=\"T_75144_row0_col7\" class=\"data row0 col7\" >-1.4068</td>\n",
       "    </tr>\n",
       "    <tr>\n",
       "      <th id=\"T_75144_level0_row1\" class=\"row_heading level0 row1\" >1</th>\n",
       "      <td id=\"T_75144_row1_col0\" class=\"data row1 col0\" >2025-01-09</td>\n",
       "      <td id=\"T_75144_row1_col1\" class=\"data row1 col1\" >2.8803</td>\n",
       "      <td id=\"T_75144_row1_col2\" class=\"data row1 col2\" >2.6428</td>\n",
       "      <td id=\"T_75144_row1_col3\" class=\"data row1 col3\" >94.4923</td>\n",
       "      <td id=\"T_75144_row1_col4\" class=\"data row1 col4\" >111.8478</td>\n",
       "      <td id=\"T_75144_row1_col5\" class=\"data row1 col5\" >0.1491</td>\n",
       "      <td id=\"T_75144_row1_col6\" class=\"data row1 col6\" >0.1344</td>\n",
       "      <td id=\"T_75144_row1_col7\" class=\"data row1 col7\" >-5.3832</td>\n",
       "    </tr>\n",
       "    <tr>\n",
       "      <th id=\"T_75144_level0_row2\" class=\"row_heading level0 row2\" >2</th>\n",
       "      <td id=\"T_75144_row2_col0\" class=\"data row2 col0\" >2025-02-08</td>\n",
       "      <td id=\"T_75144_row2_col1\" class=\"data row2 col1\" >1.1099</td>\n",
       "      <td id=\"T_75144_row2_col2\" class=\"data row2 col2\" >1.0964</td>\n",
       "      <td id=\"T_75144_row2_col3\" class=\"data row2 col3\" >36.3604</td>\n",
       "      <td id=\"T_75144_row2_col4\" class=\"data row2 col4\" >46.5447</td>\n",
       "      <td id=\"T_75144_row2_col5\" class=\"data row2 col5\" >0.0612</td>\n",
       "      <td id=\"T_75144_row2_col6\" class=\"data row2 col6\" >0.0583</td>\n",
       "      <td id=\"T_75144_row2_col7\" class=\"data row2 col7\" >-0.4818</td>\n",
       "    </tr>\n",
       "    <tr>\n",
       "      <th id=\"T_75144_level0_row3\" class=\"row_heading level0 row3\" >Mean</th>\n",
       "      <td id=\"T_75144_row3_col0\" class=\"data row3 col0\" >NaT</td>\n",
       "      <td id=\"T_75144_row3_col1\" class=\"data row3 col1\" >1.5806</td>\n",
       "      <td id=\"T_75144_row3_col2\" class=\"data row3 col2\" >1.4664</td>\n",
       "      <td id=\"T_75144_row3_col3\" class=\"data row3 col3\" >52.0857</td>\n",
       "      <td id=\"T_75144_row3_col4\" class=\"data row3 col4\" >62.3950</td>\n",
       "      <td id=\"T_75144_row3_col5\" class=\"data row3 col5\" >0.0823</td>\n",
       "      <td id=\"T_75144_row3_col6\" class=\"data row3 col6\" >0.0762</td>\n",
       "      <td id=\"T_75144_row3_col7\" class=\"data row3 col7\" >-2.4239</td>\n",
       "    </tr>\n",
       "    <tr>\n",
       "      <th id=\"T_75144_level0_row4\" class=\"row_heading level0 row4\" >SD</th>\n",
       "      <td id=\"T_75144_row4_col0\" class=\"data row4 col0\" >NaT</td>\n",
       "      <td id=\"T_75144_row4_col1\" class=\"data row4 col1\" >0.9306</td>\n",
       "      <td id=\"T_75144_row4_col2\" class=\"data row4 col2\" >0.8507</td>\n",
       "      <td id=\"T_75144_row4_col3\" class=\"data row4 col3\" >30.3178</td>\n",
       "      <td id=\"T_75144_row4_col4\" class=\"data row4 col4\" >35.7115</td>\n",
       "      <td id=\"T_75144_row4_col5\" class=\"data row4 col5\" >0.0483</td>\n",
       "      <td id=\"T_75144_row4_col6\" class=\"data row4 col6\" >0.0421</td>\n",
       "      <td id=\"T_75144_row4_col7\" class=\"data row4 col7\" >2.1263</td>\n",
       "    </tr>\n",
       "  </tbody>\n",
       "</table>\n"
      ],
      "text/plain": [
       "<pandas.io.formats.style.Styler at 0x1bcc6eb9280>"
      ]
     },
     "metadata": {},
     "output_type": "display_data"
    },
    {
     "data": {
      "text/html": [],
      "text/plain": [
       "<IPython.core.display.HTML object>"
      ]
     },
     "metadata": {},
     "output_type": "display_data"
    },
    {
     "name": "stdout",
     "output_type": "stream",
     "text": [
      "Fitting 3 folds for each of 10 candidates, totalling 30 fits\n"
     ]
    },
    {
     "name": "stderr",
     "output_type": "stream",
     "text": [
      "[Parallel(n_jobs=-1)]: Using backend LokyBackend with 8 concurrent workers.\n",
      "[Parallel(n_jobs=-1)]: Done  30 out of  30 | elapsed:    5.0s finished\n"
     ]
    },
    {
     "data": {
      "application/vnd.plotly.v1+json": {
       "config": {
        "plotlyServerURL": "https://plot.ly"
       },
       "data": [
        {
         "line": {
          "color": "#1f77b4"
         },
         "marker": {
          "size": 5
         },
         "mode": "lines+markers",
         "name": "Forecast | Prophet",
         "showlegend": true,
         "type": "scatter",
         "x": [
          "2025-04-10T00:00:00",
          "2025-04-11T00:00:00",
          "2025-04-12T00:00:00",
          "2025-04-13T00:00:00",
          "2025-04-14T00:00:00",
          "2025-04-15T00:00:00",
          "2025-04-16T00:00:00",
          "2025-04-17T00:00:00",
          "2025-04-18T00:00:00",
          "2025-04-19T00:00:00",
          "2025-04-20T00:00:00",
          "2025-04-21T00:00:00",
          "2025-04-22T00:00:00",
          "2025-04-23T00:00:00",
          "2025-04-24T00:00:00",
          "2025-04-25T00:00:00",
          "2025-04-26T00:00:00",
          "2025-04-27T00:00:00",
          "2025-04-28T00:00:00",
          "2025-04-29T00:00:00",
          "2025-04-30T00:00:00",
          "2025-05-01T00:00:00",
          "2025-05-02T00:00:00",
          "2025-05-03T00:00:00",
          "2025-05-04T00:00:00",
          "2025-05-05T00:00:00",
          "2025-05-06T00:00:00",
          "2025-05-07T00:00:00",
          "2025-05-08T00:00:00",
          "2025-05-09T00:00:00"
         ],
         "y": {
          "bdata": "io7k8p8IgkCYbhKDQAGCQKhXyjLEFYJAkDF3LaHjgUBhw9Mr5daBQBZqTfOOzoFAbVZ9rjbSgUBm9+RhIcqBQLRZ9bnawoFASgwCKwfXgUDZPXlYqKWBQMl2vp8amYFA+MJkquCQgUCmCkYldZSBQJf/kH57jIFAo5I6AU2FgUBxPQrXI5mBQBsv3SSGaIFAz/dT4yVcgUBPr5RlCFSBQFRSJ6CJV4FAukkMAqtPgUCEDU+vlEiBQI9TdCQXXIFAnDOitDcsgUCTOgFNBCCBQOELk6kCGIFA6pWyDHEbgUDFjzF3rROBQKH4MeauDIFA",
          "dtype": "f8"
         }
        },
        {
         "line": {
          "width": 0
         },
         "marker": {
          "color": "#68BBE3"
         },
         "mode": "lines",
         "name": "Lower Interval",
         "showlegend": false,
         "type": "scatter",
         "x": [
          "2025-04-10T00:00:00",
          "2025-04-11T00:00:00",
          "2025-04-12T00:00:00",
          "2025-04-13T00:00:00",
          "2025-04-14T00:00:00",
          "2025-04-15T00:00:00",
          "2025-04-16T00:00:00",
          "2025-04-17T00:00:00",
          "2025-04-18T00:00:00",
          "2025-04-19T00:00:00",
          "2025-04-20T00:00:00",
          "2025-04-21T00:00:00",
          "2025-04-22T00:00:00",
          "2025-04-23T00:00:00",
          "2025-04-24T00:00:00",
          "2025-04-25T00:00:00",
          "2025-04-26T00:00:00",
          "2025-04-27T00:00:00",
          "2025-04-28T00:00:00",
          "2025-04-29T00:00:00",
          "2025-04-30T00:00:00",
          "2025-05-01T00:00:00",
          "2025-05-02T00:00:00",
          "2025-05-03T00:00:00",
          "2025-05-04T00:00:00",
          "2025-05-05T00:00:00",
          "2025-05-06T00:00:00",
          "2025-05-07T00:00:00",
          "2025-05-08T00:00:00",
          "2025-05-09T00:00:00"
         ],
         "y": {
          "bdata": "WMoyxLGfgEBBguLHmJ2AQKvP1VbsoYBA2qz6XO1ugEACmggbHlOAQKabxCCwZoBAqoJRSR1vgEAH8BZIUHyAQEw3iUHgSoBAzF1LyAdegEClTkATYT2AQFInoImwJIBAIo51cRs4gEDxY8xdyx+AQKCJsOFpA4BAy6FFtnMXgECTqYJRSSmAQNJvXwfOB4BArrZif9m1f0C6awn5oO9/QCcxCKwc7H9AjErqBDT0f0Af9GxWfa1/QARWDi2y5X9AEhQ/xtyOf0DA7J48LHB/QIMvTKYKRX9ADk+vlGWef0As1JrmHXF/QFZ9rrZiYH9A",
          "dtype": "f8"
         }
        },
        {
         "fill": "tonexty",
         "fillcolor": "rgba(104,187,227,0.5)",
         "line": {
          "width": 0
         },
         "marker": {
          "color": "#68BBE3"
         },
         "mode": "lines",
         "name": "Prediction Interval | Prophet",
         "showlegend": true,
         "type": "scatter",
         "x": [
          "2025-04-10T00:00:00",
          "2025-04-11T00:00:00",
          "2025-04-12T00:00:00",
          "2025-04-13T00:00:00",
          "2025-04-14T00:00:00",
          "2025-04-15T00:00:00",
          "2025-04-16T00:00:00",
          "2025-04-17T00:00:00",
          "2025-04-18T00:00:00",
          "2025-04-19T00:00:00",
          "2025-04-20T00:00:00",
          "2025-04-21T00:00:00",
          "2025-04-22T00:00:00",
          "2025-04-23T00:00:00",
          "2025-04-24T00:00:00",
          "2025-04-25T00:00:00",
          "2025-04-26T00:00:00",
          "2025-04-27T00:00:00",
          "2025-04-28T00:00:00",
          "2025-04-29T00:00:00",
          "2025-04-30T00:00:00",
          "2025-05-01T00:00:00",
          "2025-05-02T00:00:00",
          "2025-05-03T00:00:00",
          "2025-05-04T00:00:00",
          "2025-05-05T00:00:00",
          "2025-05-06T00:00:00",
          "2025-05-07T00:00:00",
          "2025-05-08T00:00:00",
          "2025-05-09T00:00:00"
         ],
         "y": {
          "bdata": "UrgeheuWg0DRkVz+Q5qDQL99HTjni4NARdjw9Mp0g0DZPXlYqHmDQA6+MJkqV4NAzhlR2htgg0DmP6TfPm6DQNNNYhDYR4NAHHxhMtVUg0C+nxovXSeDQBfZzvfTOINAZ9XnaisZg0AqOpLL/1CDQH4dOGfEHINACRueXqkNg0CzDHGsCyaDQPW52or96IJADXGsi9vKgkBrK/aXXfKCQIbJVMGo+YJAfPKwUOvbgkA5tMh2Pt+CQIv9Zffk74JAqaROQJOrgkCsi9togKCCQK8l5IOer4JA5/up8dKsgkBiEFg5tKGCQD81XrrJf4JA",
          "dtype": "f8"
         }
        },
        {
         "marker": {
          "color": "#3f3f3f",
          "size": 5
         },
         "mode": "lines+markers",
         "name": "Original",
         "showlegend": true,
         "type": "scatter",
         "x": [
          "2024-04-10T00:00:00",
          "2024-04-11T00:00:00",
          "2024-04-12T00:00:00",
          "2024-04-13T00:00:00",
          "2024-04-14T00:00:00",
          "2024-04-15T00:00:00",
          "2024-04-16T00:00:00",
          "2024-04-17T00:00:00",
          "2024-04-18T00:00:00",
          "2024-04-19T00:00:00",
          "2024-04-20T00:00:00",
          "2024-04-21T00:00:00",
          "2024-04-22T00:00:00",
          "2024-04-23T00:00:00",
          "2024-04-24T00:00:00",
          "2024-04-25T00:00:00",
          "2024-04-26T00:00:00",
          "2024-04-27T00:00:00",
          "2024-04-28T00:00:00",
          "2024-04-29T00:00:00",
          "2024-04-30T00:00:00",
          "2024-05-01T00:00:00",
          "2024-05-02T00:00:00",
          "2024-05-03T00:00:00",
          "2024-05-04T00:00:00",
          "2024-05-05T00:00:00",
          "2024-05-06T00:00:00",
          "2024-05-07T00:00:00",
          "2024-05-08T00:00:00",
          "2024-05-09T00:00:00",
          "2024-05-10T00:00:00",
          "2024-05-11T00:00:00",
          "2024-05-12T00:00:00",
          "2024-05-13T00:00:00",
          "2024-05-14T00:00:00",
          "2024-05-15T00:00:00",
          "2024-05-16T00:00:00",
          "2024-05-17T00:00:00",
          "2024-05-18T00:00:00",
          "2024-05-19T00:00:00",
          "2024-05-20T00:00:00",
          "2024-05-21T00:00:00",
          "2024-05-22T00:00:00",
          "2024-05-23T00:00:00",
          "2024-05-24T00:00:00",
          "2024-05-25T00:00:00",
          "2024-05-26T00:00:00",
          "2024-05-27T00:00:00",
          "2024-05-28T00:00:00",
          "2024-05-29T00:00:00",
          "2024-05-30T00:00:00",
          "2024-05-31T00:00:00",
          "2024-06-01T00:00:00",
          "2024-06-02T00:00:00",
          "2024-06-03T00:00:00",
          "2024-06-04T00:00:00",
          "2024-06-05T00:00:00",
          "2024-06-06T00:00:00",
          "2024-06-07T00:00:00",
          "2024-06-08T00:00:00",
          "2024-06-09T00:00:00",
          "2024-06-10T00:00:00",
          "2024-06-11T00:00:00",
          "2024-06-12T00:00:00",
          "2024-06-13T00:00:00",
          "2024-06-14T00:00:00",
          "2024-06-15T00:00:00",
          "2024-06-16T00:00:00",
          "2024-06-17T00:00:00",
          "2024-06-18T00:00:00",
          "2024-06-19T00:00:00",
          "2024-06-20T00:00:00",
          "2024-06-21T00:00:00",
          "2024-06-22T00:00:00",
          "2024-06-23T00:00:00",
          "2024-06-24T00:00:00",
          "2024-06-25T00:00:00",
          "2024-06-26T00:00:00",
          "2024-06-27T00:00:00",
          "2024-06-28T00:00:00",
          "2024-06-29T00:00:00",
          "2024-06-30T00:00:00",
          "2024-07-01T00:00:00",
          "2024-07-02T00:00:00",
          "2024-07-03T00:00:00",
          "2024-07-04T00:00:00",
          "2024-07-05T00:00:00",
          "2024-07-06T00:00:00",
          "2024-07-07T00:00:00",
          "2024-07-08T00:00:00",
          "2024-07-09T00:00:00",
          "2024-07-10T00:00:00",
          "2024-07-11T00:00:00",
          "2024-07-12T00:00:00",
          "2024-07-13T00:00:00",
          "2024-07-14T00:00:00",
          "2024-07-15T00:00:00",
          "2024-07-16T00:00:00",
          "2024-07-17T00:00:00",
          "2024-07-18T00:00:00",
          "2024-07-19T00:00:00",
          "2024-07-20T00:00:00",
          "2024-07-21T00:00:00",
          "2024-07-22T00:00:00",
          "2024-07-23T00:00:00",
          "2024-07-24T00:00:00",
          "2024-07-25T00:00:00",
          "2024-07-26T00:00:00",
          "2024-07-27T00:00:00",
          "2024-07-28T00:00:00",
          "2024-07-29T00:00:00",
          "2024-07-30T00:00:00",
          "2024-07-31T00:00:00",
          "2024-08-01T00:00:00",
          "2024-08-02T00:00:00",
          "2024-08-03T00:00:00",
          "2024-08-04T00:00:00",
          "2024-08-05T00:00:00",
          "2024-08-06T00:00:00",
          "2024-08-07T00:00:00",
          "2024-08-08T00:00:00",
          "2024-08-09T00:00:00",
          "2024-08-10T00:00:00",
          "2024-08-11T00:00:00",
          "2024-08-12T00:00:00",
          "2024-08-13T00:00:00",
          "2024-08-14T00:00:00",
          "2024-08-15T00:00:00",
          "2024-08-16T00:00:00",
          "2024-08-17T00:00:00",
          "2024-08-18T00:00:00",
          "2024-08-19T00:00:00",
          "2024-08-20T00:00:00",
          "2024-08-21T00:00:00",
          "2024-08-22T00:00:00",
          "2024-08-23T00:00:00",
          "2024-08-24T00:00:00",
          "2024-08-25T00:00:00",
          "2024-08-26T00:00:00",
          "2024-08-27T00:00:00",
          "2024-08-28T00:00:00",
          "2024-08-29T00:00:00",
          "2024-08-30T00:00:00",
          "2024-08-31T00:00:00",
          "2024-09-01T00:00:00",
          "2024-09-02T00:00:00",
          "2024-09-03T00:00:00",
          "2024-09-04T00:00:00",
          "2024-09-05T00:00:00",
          "2024-09-06T00:00:00",
          "2024-09-07T00:00:00",
          "2024-09-08T00:00:00",
          "2024-09-09T00:00:00",
          "2024-09-10T00:00:00",
          "2024-09-11T00:00:00",
          "2024-09-12T00:00:00",
          "2024-09-13T00:00:00",
          "2024-09-14T00:00:00",
          "2024-09-15T00:00:00",
          "2024-09-16T00:00:00",
          "2024-09-17T00:00:00",
          "2024-09-18T00:00:00",
          "2024-09-19T00:00:00",
          "2024-09-20T00:00:00",
          "2024-09-21T00:00:00",
          "2024-09-22T00:00:00",
          "2024-09-23T00:00:00",
          "2024-09-24T00:00:00",
          "2024-09-25T00:00:00",
          "2024-09-26T00:00:00",
          "2024-09-27T00:00:00",
          "2024-09-28T00:00:00",
          "2024-09-29T00:00:00",
          "2024-09-30T00:00:00",
          "2024-10-01T00:00:00",
          "2024-10-02T00:00:00",
          "2024-10-03T00:00:00",
          "2024-10-04T00:00:00",
          "2024-10-05T00:00:00",
          "2024-10-06T00:00:00",
          "2024-10-07T00:00:00",
          "2024-10-08T00:00:00",
          "2024-10-09T00:00:00",
          "2024-10-10T00:00:00",
          "2024-10-11T00:00:00",
          "2024-10-12T00:00:00",
          "2024-10-13T00:00:00",
          "2024-10-14T00:00:00",
          "2024-10-15T00:00:00",
          "2024-10-16T00:00:00",
          "2024-10-17T00:00:00",
          "2024-10-18T00:00:00",
          "2024-10-19T00:00:00",
          "2024-10-20T00:00:00",
          "2024-10-21T00:00:00",
          "2024-10-22T00:00:00",
          "2024-10-23T00:00:00",
          "2024-10-24T00:00:00",
          "2024-10-25T00:00:00",
          "2024-10-26T00:00:00",
          "2024-10-27T00:00:00",
          "2024-10-28T00:00:00",
          "2024-10-29T00:00:00",
          "2024-10-30T00:00:00",
          "2024-10-31T00:00:00",
          "2024-11-01T00:00:00",
          "2024-11-02T00:00:00",
          "2024-11-03T00:00:00",
          "2024-11-04T00:00:00",
          "2024-11-05T00:00:00",
          "2024-11-06T00:00:00",
          "2024-11-07T00:00:00",
          "2024-11-08T00:00:00",
          "2024-11-09T00:00:00",
          "2024-11-10T00:00:00",
          "2024-11-11T00:00:00",
          "2024-11-12T00:00:00",
          "2024-11-13T00:00:00",
          "2024-11-14T00:00:00",
          "2024-11-15T00:00:00",
          "2024-11-16T00:00:00",
          "2024-11-17T00:00:00",
          "2024-11-18T00:00:00",
          "2024-11-19T00:00:00",
          "2024-11-20T00:00:00",
          "2024-11-21T00:00:00",
          "2024-11-22T00:00:00",
          "2024-11-23T00:00:00",
          "2024-11-24T00:00:00",
          "2024-11-25T00:00:00",
          "2024-11-26T00:00:00",
          "2024-11-27T00:00:00",
          "2024-11-28T00:00:00",
          "2024-11-29T00:00:00",
          "2024-11-30T00:00:00",
          "2024-12-01T00:00:00",
          "2024-12-02T00:00:00",
          "2024-12-03T00:00:00",
          "2024-12-04T00:00:00",
          "2024-12-05T00:00:00",
          "2024-12-06T00:00:00",
          "2024-12-07T00:00:00",
          "2024-12-08T00:00:00",
          "2024-12-09T00:00:00",
          "2024-12-10T00:00:00",
          "2024-12-11T00:00:00",
          "2024-12-12T00:00:00",
          "2024-12-13T00:00:00",
          "2024-12-14T00:00:00",
          "2024-12-15T00:00:00",
          "2024-12-16T00:00:00",
          "2024-12-17T00:00:00",
          "2024-12-18T00:00:00",
          "2024-12-19T00:00:00",
          "2024-12-20T00:00:00",
          "2024-12-21T00:00:00",
          "2024-12-22T00:00:00",
          "2024-12-23T00:00:00",
          "2024-12-24T00:00:00",
          "2024-12-25T00:00:00",
          "2024-12-26T00:00:00",
          "2024-12-27T00:00:00",
          "2024-12-28T00:00:00",
          "2024-12-29T00:00:00",
          "2024-12-30T00:00:00",
          "2024-12-31T00:00:00",
          "2025-01-01T00:00:00",
          "2025-01-02T00:00:00",
          "2025-01-03T00:00:00",
          "2025-01-04T00:00:00",
          "2025-01-05T00:00:00",
          "2025-01-06T00:00:00",
          "2025-01-07T00:00:00",
          "2025-01-08T00:00:00",
          "2025-01-09T00:00:00",
          "2025-01-10T00:00:00",
          "2025-01-11T00:00:00",
          "2025-01-12T00:00:00",
          "2025-01-13T00:00:00",
          "2025-01-14T00:00:00",
          "2025-01-15T00:00:00",
          "2025-01-16T00:00:00",
          "2025-01-17T00:00:00",
          "2025-01-18T00:00:00",
          "2025-01-19T00:00:00",
          "2025-01-20T00:00:00",
          "2025-01-21T00:00:00",
          "2025-01-22T00:00:00",
          "2025-01-23T00:00:00",
          "2025-01-24T00:00:00",
          "2025-01-25T00:00:00",
          "2025-01-26T00:00:00",
          "2025-01-27T00:00:00",
          "2025-01-28T00:00:00",
          "2025-01-29T00:00:00",
          "2025-01-30T00:00:00",
          "2025-01-31T00:00:00",
          "2025-02-01T00:00:00",
          "2025-02-02T00:00:00",
          "2025-02-03T00:00:00",
          "2025-02-04T00:00:00",
          "2025-02-05T00:00:00",
          "2025-02-06T00:00:00",
          "2025-02-07T00:00:00",
          "2025-02-08T00:00:00",
          "2025-02-09T00:00:00",
          "2025-02-10T00:00:00",
          "2025-02-11T00:00:00",
          "2025-02-12T00:00:00",
          "2025-02-13T00:00:00",
          "2025-02-14T00:00:00",
          "2025-02-15T00:00:00",
          "2025-02-16T00:00:00",
          "2025-02-17T00:00:00",
          "2025-02-18T00:00:00",
          "2025-02-19T00:00:00",
          "2025-02-20T00:00:00",
          "2025-02-21T00:00:00",
          "2025-02-22T00:00:00",
          "2025-02-23T00:00:00",
          "2025-02-24T00:00:00",
          "2025-02-25T00:00:00",
          "2025-02-26T00:00:00",
          "2025-02-27T00:00:00",
          "2025-02-28T00:00:00",
          "2025-03-01T00:00:00",
          "2025-03-02T00:00:00",
          "2025-03-03T00:00:00",
          "2025-03-04T00:00:00",
          "2025-03-05T00:00:00",
          "2025-03-06T00:00:00",
          "2025-03-07T00:00:00",
          "2025-03-08T00:00:00",
          "2025-03-09T00:00:00",
          "2025-03-10T00:00:00",
          "2025-03-11T00:00:00",
          "2025-03-12T00:00:00",
          "2025-03-13T00:00:00",
          "2025-03-14T00:00:00",
          "2025-03-15T00:00:00",
          "2025-03-16T00:00:00",
          "2025-03-17T00:00:00",
          "2025-03-18T00:00:00",
          "2025-03-19T00:00:00",
          "2025-03-20T00:00:00",
          "2025-03-21T00:00:00",
          "2025-03-22T00:00:00",
          "2025-03-23T00:00:00",
          "2025-03-24T00:00:00",
          "2025-03-25T00:00:00",
          "2025-03-26T00:00:00",
          "2025-03-27T00:00:00",
          "2025-03-28T00:00:00",
          "2025-03-29T00:00:00",
          "2025-03-30T00:00:00",
          "2025-03-31T00:00:00",
          "2025-04-01T00:00:00",
          "2025-04-02T00:00:00",
          "2025-04-03T00:00:00",
          "2025-04-04T00:00:00",
          "2025-04-05T00:00:00",
          "2025-04-06T00:00:00",
          "2025-04-07T00:00:00",
          "2025-04-08T00:00:00",
          "2025-04-09T00:00:00"
         ],
         "y": {
          "bdata": "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",
          "dtype": "f8"
         }
        }
       ],
       "layout": {
        "showlegend": true,
        "template": {
         "data": {
          "bar": [
           {
            "error_x": {
             "color": "rgb(51,51,51)"
            },
            "error_y": {
             "color": "rgb(51,51,51)"
            },
            "marker": {
             "line": {
              "color": "rgb(237,237,237)",
              "width": 0.5
             },
             "pattern": {
              "fillmode": "overlay",
              "size": 10,
              "solidity": 0.2
             }
            },
            "type": "bar"
           }
          ],
          "barpolar": [
           {
            "marker": {
             "line": {
              "color": "rgb(237,237,237)",
              "width": 0.5
             },
             "pattern": {
              "fillmode": "overlay",
              "size": 10,
              "solidity": 0.2
             }
            },
            "type": "barpolar"
           }
          ],
          "carpet": [
           {
            "aaxis": {
             "endlinecolor": "rgb(51,51,51)",
             "gridcolor": "white",
             "linecolor": "white",
             "minorgridcolor": "white",
             "startlinecolor": "rgb(51,51,51)"
            },
            "baxis": {
             "endlinecolor": "rgb(51,51,51)",
             "gridcolor": "white",
             "linecolor": "white",
             "minorgridcolor": "white",
             "startlinecolor": "rgb(51,51,51)"
            },
            "type": "carpet"
           }
          ],
          "choropleth": [
           {
            "colorbar": {
             "outlinewidth": 0,
             "tickcolor": "rgb(237,237,237)",
             "ticklen": 6,
             "ticks": "inside"
            },
            "type": "choropleth"
           }
          ],
          "contour": [
           {
            "colorbar": {
             "outlinewidth": 0,
             "tickcolor": "rgb(237,237,237)",
             "ticklen": 6,
             "ticks": "inside"
            },
            "colorscale": [
             [
              0,
              "rgb(20,44,66)"
             ],
             [
              1,
              "rgb(90,179,244)"
             ]
            ],
            "type": "contour"
           }
          ],
          "contourcarpet": [
           {
            "colorbar": {
             "outlinewidth": 0,
             "tickcolor": "rgb(237,237,237)",
             "ticklen": 6,
             "ticks": "inside"
            },
            "type": "contourcarpet"
           }
          ],
          "heatmap": [
           {
            "colorbar": {
             "outlinewidth": 0,
             "tickcolor": "rgb(237,237,237)",
             "ticklen": 6,
             "ticks": "inside"
            },
            "colorscale": [
             [
              0,
              "rgb(20,44,66)"
             ],
             [
              1,
              "rgb(90,179,244)"
             ]
            ],
            "type": "heatmap"
           }
          ],
          "histogram": [
           {
            "marker": {
             "pattern": {
              "fillmode": "overlay",
              "size": 10,
              "solidity": 0.2
             }
            },
            "type": "histogram"
           }
          ],
          "histogram2d": [
           {
            "colorbar": {
             "outlinewidth": 0,
             "tickcolor": "rgb(237,237,237)",
             "ticklen": 6,
             "ticks": "inside"
            },
            "colorscale": [
             [
              0,
              "rgb(20,44,66)"
             ],
             [
              1,
              "rgb(90,179,244)"
             ]
            ],
            "type": "histogram2d"
           }
          ],
          "histogram2dcontour": [
           {
            "colorbar": {
             "outlinewidth": 0,
             "tickcolor": "rgb(237,237,237)",
             "ticklen": 6,
             "ticks": "inside"
            },
            "colorscale": [
             [
              0,
              "rgb(20,44,66)"
             ],
             [
              1,
              "rgb(90,179,244)"
             ]
            ],
            "type": "histogram2dcontour"
           }
          ],
          "mesh3d": [
           {
            "colorbar": {
             "outlinewidth": 0,
             "tickcolor": "rgb(237,237,237)",
             "ticklen": 6,
             "ticks": "inside"
            },
            "type": "mesh3d"
           }
          ],
          "parcoords": [
           {
            "line": {
             "colorbar": {
              "outlinewidth": 0,
              "tickcolor": "rgb(237,237,237)",
              "ticklen": 6,
              "ticks": "inside"
             }
            },
            "type": "parcoords"
           }
          ],
          "pie": [
           {
            "automargin": true,
            "type": "pie"
           }
          ],
          "scatter": [
           {
            "fillpattern": {
             "fillmode": "overlay",
             "size": 10,
             "solidity": 0.2
            },
            "type": "scatter"
           }
          ],
          "scatter3d": [
           {
            "line": {
             "colorbar": {
              "outlinewidth": 0,
              "tickcolor": "rgb(237,237,237)",
              "ticklen": 6,
              "ticks": "inside"
             }
            },
            "marker": {
             "colorbar": {
              "outlinewidth": 0,
              "tickcolor": "rgb(237,237,237)",
              "ticklen": 6,
              "ticks": "inside"
             }
            },
            "type": "scatter3d"
           }
          ],
          "scattercarpet": [
           {
            "marker": {
             "colorbar": {
              "outlinewidth": 0,
              "tickcolor": "rgb(237,237,237)",
              "ticklen": 6,
              "ticks": "inside"
             }
            },
            "type": "scattercarpet"
           }
          ],
          "scattergeo": [
           {
            "marker": {
             "colorbar": {
              "outlinewidth": 0,
              "tickcolor": "rgb(237,237,237)",
              "ticklen": 6,
              "ticks": "inside"
             }
            },
            "type": "scattergeo"
           }
          ],
          "scattergl": [
           {
            "marker": {
             "colorbar": {
              "outlinewidth": 0,
              "tickcolor": "rgb(237,237,237)",
              "ticklen": 6,
              "ticks": "inside"
             }
            },
            "type": "scattergl"
           }
          ],
          "scattermap": [
           {
            "marker": {
             "colorbar": {
              "outlinewidth": 0,
              "tickcolor": "rgb(237,237,237)",
              "ticklen": 6,
              "ticks": "inside"
             }
            },
            "type": "scattermap"
           }
          ],
          "scattermapbox": [
           {
            "marker": {
             "colorbar": {
              "outlinewidth": 0,
              "tickcolor": "rgb(237,237,237)",
              "ticklen": 6,
              "ticks": "inside"
             }
            },
            "type": "scattermapbox"
           }
          ],
          "scatterpolar": [
           {
            "marker": {
             "colorbar": {
              "outlinewidth": 0,
              "tickcolor": "rgb(237,237,237)",
              "ticklen": 6,
              "ticks": "inside"
             }
            },
            "type": "scatterpolar"
           }
          ],
          "scatterpolargl": [
           {
            "marker": {
             "colorbar": {
              "outlinewidth": 0,
              "tickcolor": "rgb(237,237,237)",
              "ticklen": 6,
              "ticks": "inside"
             }
            },
            "type": "scatterpolargl"
           }
          ],
          "scatterternary": [
           {
            "marker": {
             "colorbar": {
              "outlinewidth": 0,
              "tickcolor": "rgb(237,237,237)",
              "ticklen": 6,
              "ticks": "inside"
             }
            },
            "type": "scatterternary"
           }
          ],
          "surface": [
           {
            "colorbar": {
             "outlinewidth": 0,
             "tickcolor": "rgb(237,237,237)",
             "ticklen": 6,
             "ticks": "inside"
            },
            "colorscale": [
             [
              0,
              "rgb(20,44,66)"
             ],
             [
              1,
              "rgb(90,179,244)"
             ]
            ],
            "type": "surface"
           }
          ],
          "table": [
           {
            "cells": {
             "fill": {
              "color": "rgb(237,237,237)"
             },
             "line": {
              "color": "white"
             }
            },
            "header": {
             "fill": {
              "color": "rgb(217,217,217)"
             },
             "line": {
              "color": "white"
             }
            },
            "type": "table"
           }
          ]
         },
         "layout": {
          "annotationdefaults": {
           "arrowhead": 0,
           "arrowwidth": 1
          },
          "autotypenumbers": "strict",
          "coloraxis": {
           "colorbar": {
            "outlinewidth": 0,
            "tickcolor": "rgb(237,237,237)",
            "ticklen": 6,
            "ticks": "inside"
           }
          },
          "colorscale": {
           "sequential": [
            [
             0,
             "rgb(20,44,66)"
            ],
            [
             1,
             "rgb(90,179,244)"
            ]
           ],
           "sequentialminus": [
            [
             0,
             "rgb(20,44,66)"
            ],
            [
             1,
             "rgb(90,179,244)"
            ]
           ]
          },
          "colorway": [
           "#F8766D",
           "#A3A500",
           "#00BF7D",
           "#00B0F6",
           "#E76BF3"
          ],
          "font": {
           "color": "rgb(51,51,51)"
          },
          "geo": {
           "bgcolor": "white",
           "lakecolor": "white",
           "landcolor": "rgb(237,237,237)",
           "showlakes": true,
           "showland": true,
           "subunitcolor": "white"
          },
          "hoverlabel": {
           "align": "left"
          },
          "hovermode": "closest",
          "paper_bgcolor": "white",
          "plot_bgcolor": "rgb(237,237,237)",
          "polar": {
           "angularaxis": {
            "gridcolor": "white",
            "linecolor": "white",
            "showgrid": true,
            "tickcolor": "rgb(51,51,51)",
            "ticks": "outside"
           },
           "bgcolor": "rgb(237,237,237)",
           "radialaxis": {
            "gridcolor": "white",
            "linecolor": "white",
            "showgrid": true,
            "tickcolor": "rgb(51,51,51)",
            "ticks": "outside"
           }
          },
          "scene": {
           "xaxis": {
            "backgroundcolor": "rgb(237,237,237)",
            "gridcolor": "white",
            "gridwidth": 2,
            "linecolor": "white",
            "showbackground": true,
            "showgrid": true,
            "tickcolor": "rgb(51,51,51)",
            "ticks": "outside",
            "zerolinecolor": "white"
           },
           "yaxis": {
            "backgroundcolor": "rgb(237,237,237)",
            "gridcolor": "white",
            "gridwidth": 2,
            "linecolor": "white",
            "showbackground": true,
            "showgrid": true,
            "tickcolor": "rgb(51,51,51)",
            "ticks": "outside",
            "zerolinecolor": "white"
           },
           "zaxis": {
            "backgroundcolor": "rgb(237,237,237)",
            "gridcolor": "white",
            "gridwidth": 2,
            "linecolor": "white",
            "showbackground": true,
            "showgrid": true,
            "tickcolor": "rgb(51,51,51)",
            "ticks": "outside",
            "zerolinecolor": "white"
           }
          },
          "shapedefaults": {
           "fillcolor": "black",
           "line": {
            "width": 0
           },
           "opacity": 0.3
          },
          "ternary": {
           "aaxis": {
            "gridcolor": "white",
            "linecolor": "white",
            "showgrid": true,
            "tickcolor": "rgb(51,51,51)",
            "ticks": "outside"
           },
           "baxis": {
            "gridcolor": "white",
            "linecolor": "white",
            "showgrid": true,
            "tickcolor": "rgb(51,51,51)",
            "ticks": "outside"
           },
           "bgcolor": "rgb(237,237,237)",
           "caxis": {
            "gridcolor": "white",
            "linecolor": "white",
            "showgrid": true,
            "tickcolor": "rgb(51,51,51)",
            "ticks": "outside"
           }
          },
          "xaxis": {
           "automargin": true,
           "gridcolor": "white",
           "linecolor": "white",
           "showgrid": true,
           "tickcolor": "rgb(51,51,51)",
           "ticks": "outside",
           "title": {
            "standoff": 15
           },
           "zerolinecolor": "white"
          },
          "yaxis": {
           "automargin": true,
           "gridcolor": "white",
           "linecolor": "white",
           "showgrid": true,
           "tickcolor": "rgb(51,51,51)",
           "ticks": "outside",
           "title": {
            "standoff": 15
           },
           "zerolinecolor": "white"
          }
         }
        },
        "title": {
         "text": "Actual vs. 'Out-of-Sample' Forecast | BNB-USD"
        },
        "xaxis": {
         "title": {
          "text": "Time"
         }
        },
        "yaxis": {
         "title": {
          "text": "Values"
         }
        }
       }
      }
     },
     "metadata": {},
     "output_type": "display_data"
    }
   ],
   "source": [
    "prophet = create_model('prophet')\n",
    "tuned_prophet = tune_model(prophet)\n",
    "# Predictions\n",
    "final_prophet = finalize_model(tuned_prophet)\n",
    "prophet_predictions = predict_model(final_prophet)\n",
    "#Plot prophet model forecast\n",
    "plot_model(final_prophet, plot='forecast')"
   ]
  },
  {
   "cell_type": "code",
   "execution_count": 28,
   "id": "88809991",
   "metadata": {},
   "outputs": [
    {
     "data": {
      "text/html": [
       "<div>\n",
       "<style scoped>\n",
       "    .dataframe tbody tr th:only-of-type {\n",
       "        vertical-align: middle;\n",
       "    }\n",
       "\n",
       "    .dataframe tbody tr th {\n",
       "        vertical-align: top;\n",
       "    }\n",
       "\n",
       "    .dataframe thead th {\n",
       "        text-align: right;\n",
       "    }\n",
       "</style>\n",
       "<table border=\"1\" class=\"dataframe\">\n",
       "  <thead>\n",
       "    <tr style=\"text-align: right;\">\n",
       "      <th></th>\n",
       "      <th>AAVE-USD</th>\n",
       "      <th>ADA-USD</th>\n",
       "      <th>ALGO-USD</th>\n",
       "      <th>ATOM-USD</th>\n",
       "      <th>AVAX-USD</th>\n",
       "      <th>BCH-USD</th>\n",
       "      <th>BNB-USD</th>\n",
       "      <th>BTC-USD</th>\n",
       "      <th>CHR-USD</th>\n",
       "      <th>DASH-USD</th>\n",
       "      <th>...</th>\n",
       "      <th>SOL-USD</th>\n",
       "      <th>THETA-USD</th>\n",
       "      <th>TRX-USD</th>\n",
       "      <th>UNI-USD</th>\n",
       "      <th>USDT-USD</th>\n",
       "      <th>VET-USD</th>\n",
       "      <th>WIF-USD</th>\n",
       "      <th>XLM-USD</th>\n",
       "      <th>XMR-USD</th>\n",
       "      <th>XRP-USD</th>\n",
       "    </tr>\n",
       "    <tr>\n",
       "      <th>Date</th>\n",
       "      <th></th>\n",
       "      <th></th>\n",
       "      <th></th>\n",
       "      <th></th>\n",
       "      <th></th>\n",
       "      <th></th>\n",
       "      <th></th>\n",
       "      <th></th>\n",
       "      <th></th>\n",
       "      <th></th>\n",
       "      <th></th>\n",
       "      <th></th>\n",
       "      <th></th>\n",
       "      <th></th>\n",
       "      <th></th>\n",
       "      <th></th>\n",
       "      <th></th>\n",
       "      <th></th>\n",
       "      <th></th>\n",
       "      <th></th>\n",
       "      <th></th>\n",
       "    </tr>\n",
       "  </thead>\n",
       "  <tbody>\n",
       "    <tr>\n",
       "      <th>2024-04-10</th>\n",
       "      <td>128.232162</td>\n",
       "      <td>0.586255</td>\n",
       "      <td>0.230523</td>\n",
       "      <td>10.810778</td>\n",
       "      <td>47.311695</td>\n",
       "      <td>629.482422</td>\n",
       "      <td>610.083923</td>\n",
       "      <td>70587.882812</td>\n",
       "      <td>0.394212</td>\n",
       "      <td>36.969437</td>\n",
       "      <td>...</td>\n",
       "      <td>173.437363</td>\n",
       "      <td>3.035096</td>\n",
       "      <td>0.119206</td>\n",
       "      <td>0.000212</td>\n",
       "      <td>1.000117</td>\n",
       "      <td>0.046501</td>\n",
       "      <td>3.624916</td>\n",
       "      <td>0.129653</td>\n",
       "      <td>133.582016</td>\n",
       "      <td>0.617561</td>\n",
       "    </tr>\n",
       "    <tr>\n",
       "      <th>2024-04-11</th>\n",
       "      <td>117.844589</td>\n",
       "      <td>0.586191</td>\n",
       "      <td>0.227998</td>\n",
       "      <td>10.755186</td>\n",
       "      <td>46.057598</td>\n",
       "      <td>614.317261</td>\n",
       "      <td>604.893799</td>\n",
       "      <td>70060.609375</td>\n",
       "      <td>0.392901</td>\n",
       "      <td>36.866966</td>\n",
       "      <td>...</td>\n",
       "      <td>172.576370</td>\n",
       "      <td>2.901548</td>\n",
       "      <td>0.120403</td>\n",
       "      <td>0.000210</td>\n",
       "      <td>1.000550</td>\n",
       "      <td>0.048192</td>\n",
       "      <td>3.459283</td>\n",
       "      <td>0.130300</td>\n",
       "      <td>133.369156</td>\n",
       "      <td>0.608880</td>\n",
       "    </tr>\n",
       "    <tr>\n",
       "      <th>2024-04-12</th>\n",
       "      <td>100.094933</td>\n",
       "      <td>0.503575</td>\n",
       "      <td>0.194067</td>\n",
       "      <td>9.387263</td>\n",
       "      <td>39.417744</td>\n",
       "      <td>534.766052</td>\n",
       "      <td>596.380127</td>\n",
       "      <td>67195.867188</td>\n",
       "      <td>0.334552</td>\n",
       "      <td>31.887470</td>\n",
       "      <td>...</td>\n",
       "      <td>153.635468</td>\n",
       "      <td>2.439062</td>\n",
       "      <td>0.114880</td>\n",
       "      <td>0.000202</td>\n",
       "      <td>1.000448</td>\n",
       "      <td>0.043033</td>\n",
       "      <td>2.672439</td>\n",
       "      <td>0.115299</td>\n",
       "      <td>122.996651</td>\n",
       "      <td>0.548414</td>\n",
       "    </tr>\n",
       "    <tr>\n",
       "      <th>2024-04-13</th>\n",
       "      <td>82.869781</td>\n",
       "      <td>0.447908</td>\n",
       "      <td>0.168352</td>\n",
       "      <td>8.092050</td>\n",
       "      <td>34.078411</td>\n",
       "      <td>481.483765</td>\n",
       "      <td>554.299805</td>\n",
       "      <td>63821.472656</td>\n",
       "      <td>0.326007</td>\n",
       "      <td>28.300234</td>\n",
       "      <td>...</td>\n",
       "      <td>139.341690</td>\n",
       "      <td>1.995765</td>\n",
       "      <td>0.110303</td>\n",
       "      <td>0.000192</td>\n",
       "      <td>1.001213</td>\n",
       "      <td>0.040311</td>\n",
       "      <td>2.345739</td>\n",
       "      <td>0.105686</td>\n",
       "      <td>115.678329</td>\n",
       "      <td>0.480819</td>\n",
       "    </tr>\n",
       "    <tr>\n",
       "      <th>2024-04-14</th>\n",
       "      <td>88.107071</td>\n",
       "      <td>0.468911</td>\n",
       "      <td>0.179547</td>\n",
       "      <td>8.361626</td>\n",
       "      <td>37.316444</td>\n",
       "      <td>527.900879</td>\n",
       "      <td>567.218445</td>\n",
       "      <td>65738.726562</td>\n",
       "      <td>0.339479</td>\n",
       "      <td>30.139847</td>\n",
       "      <td>...</td>\n",
       "      <td>151.284943</td>\n",
       "      <td>2.166781</td>\n",
       "      <td>0.112592</td>\n",
       "      <td>0.000197</td>\n",
       "      <td>1.001080</td>\n",
       "      <td>0.042974</td>\n",
       "      <td>3.052224</td>\n",
       "      <td>0.110763</td>\n",
       "      <td>121.533531</td>\n",
       "      <td>0.504258</td>\n",
       "    </tr>\n",
       "  </tbody>\n",
       "</table>\n",
       "<p>5 rows × 30 columns</p>\n",
       "</div>"
      ],
      "text/plain": [
       "              AAVE-USD   ADA-USD  ALGO-USD   ATOM-USD   AVAX-USD     BCH-USD  \\\n",
       "Date                                                                           \n",
       "2024-04-10  128.232162  0.586255  0.230523  10.810778  47.311695  629.482422   \n",
       "2024-04-11  117.844589  0.586191  0.227998  10.755186  46.057598  614.317261   \n",
       "2024-04-12  100.094933  0.503575  0.194067   9.387263  39.417744  534.766052   \n",
       "2024-04-13   82.869781  0.447908  0.168352   8.092050  34.078411  481.483765   \n",
       "2024-04-14   88.107071  0.468911  0.179547   8.361626  37.316444  527.900879   \n",
       "\n",
       "               BNB-USD       BTC-USD   CHR-USD   DASH-USD  ...     SOL-USD  \\\n",
       "Date                                                       ...               \n",
       "2024-04-10  610.083923  70587.882812  0.394212  36.969437  ...  173.437363   \n",
       "2024-04-11  604.893799  70060.609375  0.392901  36.866966  ...  172.576370   \n",
       "2024-04-12  596.380127  67195.867188  0.334552  31.887470  ...  153.635468   \n",
       "2024-04-13  554.299805  63821.472656  0.326007  28.300234  ...  139.341690   \n",
       "2024-04-14  567.218445  65738.726562  0.339479  30.139847  ...  151.284943   \n",
       "\n",
       "            THETA-USD   TRX-USD   UNI-USD  USDT-USD   VET-USD   WIF-USD  \\\n",
       "Date                                                                      \n",
       "2024-04-10   3.035096  0.119206  0.000212  1.000117  0.046501  3.624916   \n",
       "2024-04-11   2.901548  0.120403  0.000210  1.000550  0.048192  3.459283   \n",
       "2024-04-12   2.439062  0.114880  0.000202  1.000448  0.043033  2.672439   \n",
       "2024-04-13   1.995765  0.110303  0.000192  1.001213  0.040311  2.345739   \n",
       "2024-04-14   2.166781  0.112592  0.000197  1.001080  0.042974  3.052224   \n",
       "\n",
       "             XLM-USD     XMR-USD   XRP-USD  \n",
       "Date                                        \n",
       "2024-04-10  0.129653  133.582016  0.617561  \n",
       "2024-04-11  0.130300  133.369156  0.608880  \n",
       "2024-04-12  0.115299  122.996651  0.548414  \n",
       "2024-04-13  0.105686  115.678329  0.480819  \n",
       "2024-04-14  0.110763  121.533531  0.504258  \n",
       "\n",
       "[5 rows x 30 columns]"
      ]
     },
     "execution_count": 28,
     "metadata": {},
     "output_type": "execute_result"
    }
   ],
   "source": [
    "df.head()"
   ]
  },
  {
   "cell_type": "code",
   "execution_count": 30,
   "id": "4460def1",
   "metadata": {},
   "outputs": [],
   "source": [
    "wif = df.loc[:,'WIF-USD']"
   ]
  },
  {
   "cell_type": "code",
   "execution_count": 32,
   "id": "211c46cb",
   "metadata": {},
   "outputs": [
    {
     "data": {
      "text/html": [
       "<style type=\"text/css\">\n",
       "#T_b0d60_row25_col1, #T_b0d60_row31_col1 {\n",
       "  background-color: lightgreen;\n",
       "}\n",
       "</style>\n",
       "<table id=\"T_b0d60\">\n",
       "  <thead>\n",
       "    <tr>\n",
       "      <th class=\"blank level0\" >&nbsp;</th>\n",
       "      <th id=\"T_b0d60_level0_col0\" class=\"col_heading level0 col0\" >Description</th>\n",
       "      <th id=\"T_b0d60_level0_col1\" class=\"col_heading level0 col1\" >Value</th>\n",
       "    </tr>\n",
       "  </thead>\n",
       "  <tbody>\n",
       "    <tr>\n",
       "      <th id=\"T_b0d60_level0_row0\" class=\"row_heading level0 row0\" >0</th>\n",
       "      <td id=\"T_b0d60_row0_col0\" class=\"data row0 col0\" >session_id</td>\n",
       "      <td id=\"T_b0d60_row0_col1\" class=\"data row0 col1\" >123</td>\n",
       "    </tr>\n",
       "    <tr>\n",
       "      <th id=\"T_b0d60_level0_row1\" class=\"row_heading level0 row1\" >1</th>\n",
       "      <td id=\"T_b0d60_row1_col0\" class=\"data row1 col0\" >Target</td>\n",
       "      <td id=\"T_b0d60_row1_col1\" class=\"data row1 col1\" >WIF-USD</td>\n",
       "    </tr>\n",
       "    <tr>\n",
       "      <th id=\"T_b0d60_level0_row2\" class=\"row_heading level0 row2\" >2</th>\n",
       "      <td id=\"T_b0d60_row2_col0\" class=\"data row2 col0\" >Approach</td>\n",
       "      <td id=\"T_b0d60_row2_col1\" class=\"data row2 col1\" >Univariate</td>\n",
       "    </tr>\n",
       "    <tr>\n",
       "      <th id=\"T_b0d60_level0_row3\" class=\"row_heading level0 row3\" >3</th>\n",
       "      <td id=\"T_b0d60_row3_col0\" class=\"data row3 col0\" >Exogenous Variables</td>\n",
       "      <td id=\"T_b0d60_row3_col1\" class=\"data row3 col1\" >Not Present</td>\n",
       "    </tr>\n",
       "    <tr>\n",
       "      <th id=\"T_b0d60_level0_row4\" class=\"row_heading level0 row4\" >4</th>\n",
       "      <td id=\"T_b0d60_row4_col0\" class=\"data row4 col0\" >Original data shape</td>\n",
       "      <td id=\"T_b0d60_row4_col1\" class=\"data row4 col1\" >(365, 1)</td>\n",
       "    </tr>\n",
       "    <tr>\n",
       "      <th id=\"T_b0d60_level0_row5\" class=\"row_heading level0 row5\" >5</th>\n",
       "      <td id=\"T_b0d60_row5_col0\" class=\"data row5 col0\" >Transformed data shape</td>\n",
       "      <td id=\"T_b0d60_row5_col1\" class=\"data row5 col1\" >(365, 1)</td>\n",
       "    </tr>\n",
       "    <tr>\n",
       "      <th id=\"T_b0d60_level0_row6\" class=\"row_heading level0 row6\" >6</th>\n",
       "      <td id=\"T_b0d60_row6_col0\" class=\"data row6 col0\" >Transformed train set shape</td>\n",
       "      <td id=\"T_b0d60_row6_col1\" class=\"data row6 col1\" >(335, 1)</td>\n",
       "    </tr>\n",
       "    <tr>\n",
       "      <th id=\"T_b0d60_level0_row7\" class=\"row_heading level0 row7\" >7</th>\n",
       "      <td id=\"T_b0d60_row7_col0\" class=\"data row7 col0\" >Transformed test set shape</td>\n",
       "      <td id=\"T_b0d60_row7_col1\" class=\"data row7 col1\" >(30, 1)</td>\n",
       "    </tr>\n",
       "    <tr>\n",
       "      <th id=\"T_b0d60_level0_row8\" class=\"row_heading level0 row8\" >8</th>\n",
       "      <td id=\"T_b0d60_row8_col0\" class=\"data row8 col0\" >Rows with missing values</td>\n",
       "      <td id=\"T_b0d60_row8_col1\" class=\"data row8 col1\" >0.0%</td>\n",
       "    </tr>\n",
       "    <tr>\n",
       "      <th id=\"T_b0d60_level0_row9\" class=\"row_heading level0 row9\" >9</th>\n",
       "      <td id=\"T_b0d60_row9_col0\" class=\"data row9 col0\" >Fold Generator</td>\n",
       "      <td id=\"T_b0d60_row9_col1\" class=\"data row9 col1\" >ExpandingWindowSplitter</td>\n",
       "    </tr>\n",
       "    <tr>\n",
       "      <th id=\"T_b0d60_level0_row10\" class=\"row_heading level0 row10\" >10</th>\n",
       "      <td id=\"T_b0d60_row10_col0\" class=\"data row10 col0\" >Fold Number</td>\n",
       "      <td id=\"T_b0d60_row10_col1\" class=\"data row10 col1\" >3</td>\n",
       "    </tr>\n",
       "    <tr>\n",
       "      <th id=\"T_b0d60_level0_row11\" class=\"row_heading level0 row11\" >11</th>\n",
       "      <td id=\"T_b0d60_row11_col0\" class=\"data row11 col0\" >Enforce Prediction Interval</td>\n",
       "      <td id=\"T_b0d60_row11_col1\" class=\"data row11 col1\" >False</td>\n",
       "    </tr>\n",
       "    <tr>\n",
       "      <th id=\"T_b0d60_level0_row12\" class=\"row_heading level0 row12\" >12</th>\n",
       "      <td id=\"T_b0d60_row12_col0\" class=\"data row12 col0\" >Splits used for hyperparameters</td>\n",
       "      <td id=\"T_b0d60_row12_col1\" class=\"data row12 col1\" >all</td>\n",
       "    </tr>\n",
       "    <tr>\n",
       "      <th id=\"T_b0d60_level0_row13\" class=\"row_heading level0 row13\" >13</th>\n",
       "      <td id=\"T_b0d60_row13_col0\" class=\"data row13 col0\" >User Defined Seasonal Period(s)</td>\n",
       "      <td id=\"T_b0d60_row13_col1\" class=\"data row13 col1\" >D</td>\n",
       "    </tr>\n",
       "    <tr>\n",
       "      <th id=\"T_b0d60_level0_row14\" class=\"row_heading level0 row14\" >14</th>\n",
       "      <td id=\"T_b0d60_row14_col0\" class=\"data row14 col0\" >Ignore Seasonality Test</td>\n",
       "      <td id=\"T_b0d60_row14_col1\" class=\"data row14 col1\" >False</td>\n",
       "    </tr>\n",
       "    <tr>\n",
       "      <th id=\"T_b0d60_level0_row15\" class=\"row_heading level0 row15\" >15</th>\n",
       "      <td id=\"T_b0d60_row15_col0\" class=\"data row15 col0\" >Seasonality Detection Algo</td>\n",
       "      <td id=\"T_b0d60_row15_col1\" class=\"data row15 col1\" >user_defined</td>\n",
       "    </tr>\n",
       "    <tr>\n",
       "      <th id=\"T_b0d60_level0_row16\" class=\"row_heading level0 row16\" >16</th>\n",
       "      <td id=\"T_b0d60_row16_col0\" class=\"data row16 col0\" >Max Period to Consider</td>\n",
       "      <td id=\"T_b0d60_row16_col1\" class=\"data row16 col1\" >60</td>\n",
       "    </tr>\n",
       "    <tr>\n",
       "      <th id=\"T_b0d60_level0_row17\" class=\"row_heading level0 row17\" >17</th>\n",
       "      <td id=\"T_b0d60_row17_col0\" class=\"data row17 col0\" >Seasonal Period(s) Tested</td>\n",
       "      <td id=\"T_b0d60_row17_col1\" class=\"data row17 col1\" >[7]</td>\n",
       "    </tr>\n",
       "    <tr>\n",
       "      <th id=\"T_b0d60_level0_row18\" class=\"row_heading level0 row18\" >18</th>\n",
       "      <td id=\"T_b0d60_row18_col0\" class=\"data row18 col0\" >Significant Seasonal Period(s)</td>\n",
       "      <td id=\"T_b0d60_row18_col1\" class=\"data row18 col1\" >[7]</td>\n",
       "    </tr>\n",
       "    <tr>\n",
       "      <th id=\"T_b0d60_level0_row19\" class=\"row_heading level0 row19\" >19</th>\n",
       "      <td id=\"T_b0d60_row19_col0\" class=\"data row19 col0\" >Significant Seasonal Period(s) without Harmonics</td>\n",
       "      <td id=\"T_b0d60_row19_col1\" class=\"data row19 col1\" >[7]</td>\n",
       "    </tr>\n",
       "    <tr>\n",
       "      <th id=\"T_b0d60_level0_row20\" class=\"row_heading level0 row20\" >20</th>\n",
       "      <td id=\"T_b0d60_row20_col0\" class=\"data row20 col0\" >Remove Harmonics</td>\n",
       "      <td id=\"T_b0d60_row20_col1\" class=\"data row20 col1\" >False</td>\n",
       "    </tr>\n",
       "    <tr>\n",
       "      <th id=\"T_b0d60_level0_row21\" class=\"row_heading level0 row21\" >21</th>\n",
       "      <td id=\"T_b0d60_row21_col0\" class=\"data row21 col0\" >Harmonics Order Method</td>\n",
       "      <td id=\"T_b0d60_row21_col1\" class=\"data row21 col1\" >harmonic_max</td>\n",
       "    </tr>\n",
       "    <tr>\n",
       "      <th id=\"T_b0d60_level0_row22\" class=\"row_heading level0 row22\" >22</th>\n",
       "      <td id=\"T_b0d60_row22_col0\" class=\"data row22 col0\" >Num Seasonalities to Use</td>\n",
       "      <td id=\"T_b0d60_row22_col1\" class=\"data row22 col1\" >1</td>\n",
       "    </tr>\n",
       "    <tr>\n",
       "      <th id=\"T_b0d60_level0_row23\" class=\"row_heading level0 row23\" >23</th>\n",
       "      <td id=\"T_b0d60_row23_col0\" class=\"data row23 col0\" >All Seasonalities to Use</td>\n",
       "      <td id=\"T_b0d60_row23_col1\" class=\"data row23 col1\" >[7]</td>\n",
       "    </tr>\n",
       "    <tr>\n",
       "      <th id=\"T_b0d60_level0_row24\" class=\"row_heading level0 row24\" >24</th>\n",
       "      <td id=\"T_b0d60_row24_col0\" class=\"data row24 col0\" >Primary Seasonality</td>\n",
       "      <td id=\"T_b0d60_row24_col1\" class=\"data row24 col1\" >7</td>\n",
       "    </tr>\n",
       "    <tr>\n",
       "      <th id=\"T_b0d60_level0_row25\" class=\"row_heading level0 row25\" >25</th>\n",
       "      <td id=\"T_b0d60_row25_col0\" class=\"data row25 col0\" >Seasonality Present</td>\n",
       "      <td id=\"T_b0d60_row25_col1\" class=\"data row25 col1\" >True</td>\n",
       "    </tr>\n",
       "    <tr>\n",
       "      <th id=\"T_b0d60_level0_row26\" class=\"row_heading level0 row26\" >26</th>\n",
       "      <td id=\"T_b0d60_row26_col0\" class=\"data row26 col0\" >Seasonality Type</td>\n",
       "      <td id=\"T_b0d60_row26_col1\" class=\"data row26 col1\" >add</td>\n",
       "    </tr>\n",
       "    <tr>\n",
       "      <th id=\"T_b0d60_level0_row27\" class=\"row_heading level0 row27\" >27</th>\n",
       "      <td id=\"T_b0d60_row27_col0\" class=\"data row27 col0\" >Target Strictly Positive</td>\n",
       "      <td id=\"T_b0d60_row27_col1\" class=\"data row27 col1\" >False</td>\n",
       "    </tr>\n",
       "    <tr>\n",
       "      <th id=\"T_b0d60_level0_row28\" class=\"row_heading level0 row28\" >28</th>\n",
       "      <td id=\"T_b0d60_row28_col0\" class=\"data row28 col0\" >Target White Noise</td>\n",
       "      <td id=\"T_b0d60_row28_col1\" class=\"data row28 col1\" >No</td>\n",
       "    </tr>\n",
       "    <tr>\n",
       "      <th id=\"T_b0d60_level0_row29\" class=\"row_heading level0 row29\" >29</th>\n",
       "      <td id=\"T_b0d60_row29_col0\" class=\"data row29 col0\" >Recommended d</td>\n",
       "      <td id=\"T_b0d60_row29_col1\" class=\"data row29 col1\" >1</td>\n",
       "    </tr>\n",
       "    <tr>\n",
       "      <th id=\"T_b0d60_level0_row30\" class=\"row_heading level0 row30\" >30</th>\n",
       "      <td id=\"T_b0d60_row30_col0\" class=\"data row30 col0\" >Recommended Seasonal D</td>\n",
       "      <td id=\"T_b0d60_row30_col1\" class=\"data row30 col1\" >0</td>\n",
       "    </tr>\n",
       "    <tr>\n",
       "      <th id=\"T_b0d60_level0_row31\" class=\"row_heading level0 row31\" >31</th>\n",
       "      <td id=\"T_b0d60_row31_col0\" class=\"data row31 col0\" >Preprocess</td>\n",
       "      <td id=\"T_b0d60_row31_col1\" class=\"data row31 col1\" >True</td>\n",
       "    </tr>\n",
       "    <tr>\n",
       "      <th id=\"T_b0d60_level0_row32\" class=\"row_heading level0 row32\" >32</th>\n",
       "      <td id=\"T_b0d60_row32_col0\" class=\"data row32 col0\" >Numerical Imputation (Target)</td>\n",
       "      <td id=\"T_b0d60_row32_col1\" class=\"data row32 col1\" >drift</td>\n",
       "    </tr>\n",
       "    <tr>\n",
       "      <th id=\"T_b0d60_level0_row33\" class=\"row_heading level0 row33\" >33</th>\n",
       "      <td id=\"T_b0d60_row33_col0\" class=\"data row33 col0\" >Transformation (Target)</td>\n",
       "      <td id=\"T_b0d60_row33_col1\" class=\"data row33 col1\" >log</td>\n",
       "    </tr>\n",
       "    <tr>\n",
       "      <th id=\"T_b0d60_level0_row34\" class=\"row_heading level0 row34\" >34</th>\n",
       "      <td id=\"T_b0d60_row34_col0\" class=\"data row34 col0\" >Scaling (Target)</td>\n",
       "      <td id=\"T_b0d60_row34_col1\" class=\"data row34 col1\" >None</td>\n",
       "    </tr>\n",
       "    <tr>\n",
       "      <th id=\"T_b0d60_level0_row35\" class=\"row_heading level0 row35\" >35</th>\n",
       "      <td id=\"T_b0d60_row35_col0\" class=\"data row35 col0\" >Feature Engineering (Target) - Reduced Regression</td>\n",
       "      <td id=\"T_b0d60_row35_col1\" class=\"data row35 col1\" >False</td>\n",
       "    </tr>\n",
       "    <tr>\n",
       "      <th id=\"T_b0d60_level0_row36\" class=\"row_heading level0 row36\" >36</th>\n",
       "      <td id=\"T_b0d60_row36_col0\" class=\"data row36 col0\" >CPU Jobs</td>\n",
       "      <td id=\"T_b0d60_row36_col1\" class=\"data row36 col1\" >-1</td>\n",
       "    </tr>\n",
       "    <tr>\n",
       "      <th id=\"T_b0d60_level0_row37\" class=\"row_heading level0 row37\" >37</th>\n",
       "      <td id=\"T_b0d60_row37_col0\" class=\"data row37 col0\" >Use GPU</td>\n",
       "      <td id=\"T_b0d60_row37_col1\" class=\"data row37 col1\" >False</td>\n",
       "    </tr>\n",
       "    <tr>\n",
       "      <th id=\"T_b0d60_level0_row38\" class=\"row_heading level0 row38\" >38</th>\n",
       "      <td id=\"T_b0d60_row38_col0\" class=\"data row38 col0\" >Log Experiment</td>\n",
       "      <td id=\"T_b0d60_row38_col1\" class=\"data row38 col1\" >False</td>\n",
       "    </tr>\n",
       "    <tr>\n",
       "      <th id=\"T_b0d60_level0_row39\" class=\"row_heading level0 row39\" >39</th>\n",
       "      <td id=\"T_b0d60_row39_col0\" class=\"data row39 col0\" >Experiment Name</td>\n",
       "      <td id=\"T_b0d60_row39_col1\" class=\"data row39 col1\" >ts-default-name</td>\n",
       "    </tr>\n",
       "    <tr>\n",
       "      <th id=\"T_b0d60_level0_row40\" class=\"row_heading level0 row40\" >40</th>\n",
       "      <td id=\"T_b0d60_row40_col0\" class=\"data row40 col0\" >USI</td>\n",
       "      <td id=\"T_b0d60_row40_col1\" class=\"data row40 col1\" >c24f</td>\n",
       "    </tr>\n",
       "  </tbody>\n",
       "</table>\n"
      ],
      "text/plain": [
       "<pandas.io.formats.style.Styler at 0x1bcc2e4c3d0>"
      ]
     },
     "metadata": {},
     "output_type": "display_data"
    },
    {
     "data": {
      "text/html": [],
      "text/plain": [
       "<IPython.core.display.HTML object>"
      ]
     },
     "metadata": {},
     "output_type": "display_data"
    },
    {
     "data": {
      "text/html": [
       "<style type=\"text/css\">\n",
       "#T_54ca0_row3_col0, #T_54ca0_row3_col1, #T_54ca0_row3_col2, #T_54ca0_row3_col3, #T_54ca0_row3_col4, #T_54ca0_row3_col5, #T_54ca0_row3_col6, #T_54ca0_row3_col7 {\n",
       "  background: yellow;\n",
       "}\n",
       "</style>\n",
       "<table id=\"T_54ca0\">\n",
       "  <thead>\n",
       "    <tr>\n",
       "      <th class=\"blank level0\" >&nbsp;</th>\n",
       "      <th id=\"T_54ca0_level0_col0\" class=\"col_heading level0 col0\" >cutoff</th>\n",
       "      <th id=\"T_54ca0_level0_col1\" class=\"col_heading level0 col1\" >MASE</th>\n",
       "      <th id=\"T_54ca0_level0_col2\" class=\"col_heading level0 col2\" >RMSSE</th>\n",
       "      <th id=\"T_54ca0_level0_col3\" class=\"col_heading level0 col3\" >MAE</th>\n",
       "      <th id=\"T_54ca0_level0_col4\" class=\"col_heading level0 col4\" >RMSE</th>\n",
       "      <th id=\"T_54ca0_level0_col5\" class=\"col_heading level0 col5\" >MAPE</th>\n",
       "      <th id=\"T_54ca0_level0_col6\" class=\"col_heading level0 col6\" >SMAPE</th>\n",
       "      <th id=\"T_54ca0_level0_col7\" class=\"col_heading level0 col7\" >R2</th>\n",
       "    </tr>\n",
       "  </thead>\n",
       "  <tbody>\n",
       "    <tr>\n",
       "      <th id=\"T_54ca0_level0_row0\" class=\"row_heading level0 row0\" >0</th>\n",
       "      <td id=\"T_54ca0_row0_col0\" class=\"data row0 col0\" >2024-12-10</td>\n",
       "      <td id=\"T_54ca0_row0_col1\" class=\"data row0 col1\" >2.2337</td>\n",
       "      <td id=\"T_54ca0_row0_col2\" class=\"data row0 col2\" >1.9420</td>\n",
       "      <td id=\"T_54ca0_row0_col3\" class=\"data row0 col3\" >0.8146</td>\n",
       "      <td id=\"T_54ca0_row0_col4\" class=\"data row0 col4\" >0.9188</td>\n",
       "      <td id=\"T_54ca0_row0_col5\" class=\"data row0 col5\" >0.4126</td>\n",
       "      <td id=\"T_54ca0_row0_col6\" class=\"data row0 col6\" >0.3255</td>\n",
       "      <td id=\"T_54ca0_row0_col7\" class=\"data row0 col7\" >-3.8661</td>\n",
       "    </tr>\n",
       "    <tr>\n",
       "      <th id=\"T_54ca0_level0_row1\" class=\"row_heading level0 row1\" >1</th>\n",
       "      <td id=\"T_54ca0_row1_col0\" class=\"data row1 col0\" >2025-01-09</td>\n",
       "      <td id=\"T_54ca0_row1_col1\" class=\"data row1 col1\" >0.8660</td>\n",
       "      <td id=\"T_54ca0_row1_col2\" class=\"data row1 col2\" >0.7946</td>\n",
       "      <td id=\"T_54ca0_row1_col3\" class=\"data row1 col3\" >0.3210</td>\n",
       "      <td id=\"T_54ca0_row1_col4\" class=\"data row1 col4\" >0.3803</td>\n",
       "      <td id=\"T_54ca0_row1_col5\" class=\"data row1 col5\" >0.3197</td>\n",
       "      <td id=\"T_54ca0_row1_col6\" class=\"data row1 col6\" >0.2542</td>\n",
       "      <td id=\"T_54ca0_row1_col7\" class=\"data row1 col7\" >-0.2432</td>\n",
       "    </tr>\n",
       "    <tr>\n",
       "      <th id=\"T_54ca0_level0_row2\" class=\"row_heading level0 row2\" >2</th>\n",
       "      <td id=\"T_54ca0_row2_col0\" class=\"data row2 col0\" >2025-02-08</td>\n",
       "      <td id=\"T_54ca0_row2_col1\" class=\"data row2 col1\" >0.2000</td>\n",
       "      <td id=\"T_54ca0_row2_col2\" class=\"data row2 col2\" >0.1905</td>\n",
       "      <td id=\"T_54ca0_row2_col3\" class=\"data row2 col3\" >0.0732</td>\n",
       "      <td id=\"T_54ca0_row2_col4\" class=\"data row2 col4\" >0.0892</td>\n",
       "      <td id=\"T_54ca0_row2_col5\" class=\"data row2 col5\" >0.1172</td>\n",
       "      <td id=\"T_54ca0_row2_col6\" class=\"data row2 col6\" >0.1260</td>\n",
       "      <td id=\"T_54ca0_row2_col7\" class=\"data row2 col7\" >-0.5980</td>\n",
       "    </tr>\n",
       "    <tr>\n",
       "      <th id=\"T_54ca0_level0_row3\" class=\"row_heading level0 row3\" >Mean</th>\n",
       "      <td id=\"T_54ca0_row3_col0\" class=\"data row3 col0\" >NaT</td>\n",
       "      <td id=\"T_54ca0_row3_col1\" class=\"data row3 col1\" >1.0999</td>\n",
       "      <td id=\"T_54ca0_row3_col2\" class=\"data row3 col2\" >0.9757</td>\n",
       "      <td id=\"T_54ca0_row3_col3\" class=\"data row3 col3\" >0.4029</td>\n",
       "      <td id=\"T_54ca0_row3_col4\" class=\"data row3 col4\" >0.4628</td>\n",
       "      <td id=\"T_54ca0_row3_col5\" class=\"data row3 col5\" >0.2832</td>\n",
       "      <td id=\"T_54ca0_row3_col6\" class=\"data row3 col6\" >0.2353</td>\n",
       "      <td id=\"T_54ca0_row3_col7\" class=\"data row3 col7\" >-1.5691</td>\n",
       "    </tr>\n",
       "    <tr>\n",
       "      <th id=\"T_54ca0_level0_row4\" class=\"row_heading level0 row4\" >SD</th>\n",
       "      <td id=\"T_54ca0_row4_col0\" class=\"data row4 col0\" >NaT</td>\n",
       "      <td id=\"T_54ca0_row4_col1\" class=\"data row4 col1\" >0.8466</td>\n",
       "      <td id=\"T_54ca0_row4_col2\" class=\"data row4 col2\" >0.7264</td>\n",
       "      <td id=\"T_54ca0_row4_col3\" class=\"data row4 col3\" >0.3082</td>\n",
       "      <td id=\"T_54ca0_row4_col4\" class=\"data row4 col4\" >0.3437</td>\n",
       "      <td id=\"T_54ca0_row4_col5\" class=\"data row4 col5\" >0.1233</td>\n",
       "      <td id=\"T_54ca0_row4_col6\" class=\"data row4 col6\" >0.0825</td>\n",
       "      <td id=\"T_54ca0_row4_col7\" class=\"data row4 col7\" >1.6306</td>\n",
       "    </tr>\n",
       "  </tbody>\n",
       "</table>\n"
      ],
      "text/plain": [
       "<pandas.io.formats.style.Styler at 0x1bcc7bb3b50>"
      ]
     },
     "metadata": {},
     "output_type": "display_data"
    },
    {
     "data": {
      "text/html": [],
      "text/plain": [
       "<IPython.core.display.HTML object>"
      ]
     },
     "metadata": {},
     "output_type": "display_data"
    },
    {
     "data": {
      "text/html": [],
      "text/plain": [
       "<IPython.core.display.HTML object>"
      ]
     },
     "metadata": {},
     "output_type": "display_data"
    },
    {
     "data": {
      "text/html": [
       "<style type=\"text/css\">\n",
       "#T_02ad3_row3_col0, #T_02ad3_row3_col1, #T_02ad3_row3_col2, #T_02ad3_row3_col3, #T_02ad3_row3_col4, #T_02ad3_row3_col5, #T_02ad3_row3_col6, #T_02ad3_row3_col7 {\n",
       "  background: yellow;\n",
       "}\n",
       "</style>\n",
       "<table id=\"T_02ad3\">\n",
       "  <thead>\n",
       "    <tr>\n",
       "      <th class=\"blank level0\" >&nbsp;</th>\n",
       "      <th id=\"T_02ad3_level0_col0\" class=\"col_heading level0 col0\" >cutoff</th>\n",
       "      <th id=\"T_02ad3_level0_col1\" class=\"col_heading level0 col1\" >MASE</th>\n",
       "      <th id=\"T_02ad3_level0_col2\" class=\"col_heading level0 col2\" >RMSSE</th>\n",
       "      <th id=\"T_02ad3_level0_col3\" class=\"col_heading level0 col3\" >MAE</th>\n",
       "      <th id=\"T_02ad3_level0_col4\" class=\"col_heading level0 col4\" >RMSE</th>\n",
       "      <th id=\"T_02ad3_level0_col5\" class=\"col_heading level0 col5\" >MAPE</th>\n",
       "      <th id=\"T_02ad3_level0_col6\" class=\"col_heading level0 col6\" >SMAPE</th>\n",
       "      <th id=\"T_02ad3_level0_col7\" class=\"col_heading level0 col7\" >R2</th>\n",
       "    </tr>\n",
       "  </thead>\n",
       "  <tbody>\n",
       "    <tr>\n",
       "      <th id=\"T_02ad3_level0_row0\" class=\"row_heading level0 row0\" >0</th>\n",
       "      <td id=\"T_02ad3_row0_col0\" class=\"data row0 col0\" >2024-12-10</td>\n",
       "      <td id=\"T_02ad3_row0_col1\" class=\"data row0 col1\" >4.8083</td>\n",
       "      <td id=\"T_02ad3_row0_col2\" class=\"data row0 col2\" >3.9392</td>\n",
       "      <td id=\"T_02ad3_row0_col3\" class=\"data row0 col3\" >1.7535</td>\n",
       "      <td id=\"T_02ad3_row0_col4\" class=\"data row0 col4\" >1.8637</td>\n",
       "      <td id=\"T_02ad3_row0_col5\" class=\"data row0 col5\" >0.8853</td>\n",
       "      <td id=\"T_02ad3_row0_col6\" class=\"data row0 col6\" >0.5830</td>\n",
       "      <td id=\"T_02ad3_row0_col7\" class=\"data row0 col7\" >-19.0209</td>\n",
       "    </tr>\n",
       "    <tr>\n",
       "      <th id=\"T_02ad3_level0_row1\" class=\"row_heading level0 row1\" >1</th>\n",
       "      <td id=\"T_02ad3_row1_col0\" class=\"data row1 col0\" >2025-01-09</td>\n",
       "      <td id=\"T_02ad3_row1_col1\" class=\"data row1 col1\" >4.1601</td>\n",
       "      <td id=\"T_02ad3_row1_col2\" class=\"data row1 col2\" >3.3259</td>\n",
       "      <td id=\"T_02ad3_row1_col3\" class=\"data row1 col3\" >1.5422</td>\n",
       "      <td id=\"T_02ad3_row1_col4\" class=\"data row1 col4\" >1.5919</td>\n",
       "      <td id=\"T_02ad3_row1_col5\" class=\"data row1 col5\" >1.4215</td>\n",
       "      <td id=\"T_02ad3_row1_col6\" class=\"data row1 col6\" >0.7726</td>\n",
       "      <td id=\"T_02ad3_row1_col7\" class=\"data row1 col7\" >-20.7830</td>\n",
       "    </tr>\n",
       "    <tr>\n",
       "      <th id=\"T_02ad3_level0_row2\" class=\"row_heading level0 row2\" >2</th>\n",
       "      <td id=\"T_02ad3_row2_col0\" class=\"data row2 col0\" >2025-02-08</td>\n",
       "      <td id=\"T_02ad3_row2_col1\" class=\"data row2 col1\" >0.7292</td>\n",
       "      <td id=\"T_02ad3_row2_col2\" class=\"data row2 col2\" >0.6023</td>\n",
       "      <td id=\"T_02ad3_row2_col3\" class=\"data row2 col3\" >0.2669</td>\n",
       "      <td id=\"T_02ad3_row2_col4\" class=\"data row2 col4\" >0.2820</td>\n",
       "      <td id=\"T_02ad3_row2_col5\" class=\"data row2 col5\" >0.4463</td>\n",
       "      <td id=\"T_02ad3_row2_col6\" class=\"data row2 col6\" >0.3579</td>\n",
       "      <td id=\"T_02ad3_row2_col7\" class=\"data row2 col7\" >-14.9693</td>\n",
       "    </tr>\n",
       "    <tr>\n",
       "      <th id=\"T_02ad3_level0_row3\" class=\"row_heading level0 row3\" >Mean</th>\n",
       "      <td id=\"T_02ad3_row3_col0\" class=\"data row3 col0\" >NaT</td>\n",
       "      <td id=\"T_02ad3_row3_col1\" class=\"data row3 col1\" >3.2326</td>\n",
       "      <td id=\"T_02ad3_row3_col2\" class=\"data row3 col2\" >2.6225</td>\n",
       "      <td id=\"T_02ad3_row3_col3\" class=\"data row3 col3\" >1.1875</td>\n",
       "      <td id=\"T_02ad3_row3_col4\" class=\"data row3 col4\" >1.2459</td>\n",
       "      <td id=\"T_02ad3_row3_col5\" class=\"data row3 col5\" >0.9177</td>\n",
       "      <td id=\"T_02ad3_row3_col6\" class=\"data row3 col6\" >0.5712</td>\n",
       "      <td id=\"T_02ad3_row3_col7\" class=\"data row3 col7\" >-18.2578</td>\n",
       "    </tr>\n",
       "    <tr>\n",
       "      <th id=\"T_02ad3_level0_row4\" class=\"row_heading level0 row4\" >SD</th>\n",
       "      <td id=\"T_02ad3_row4_col0\" class=\"data row4 col0\" >NaT</td>\n",
       "      <td id=\"T_02ad3_row4_col1\" class=\"data row4 col1\" >1.7898</td>\n",
       "      <td id=\"T_02ad3_row4_col2\" class=\"data row4 col2\" >1.4503</td>\n",
       "      <td id=\"T_02ad3_row4_col3\" class=\"data row4 col3\" >0.6567</td>\n",
       "      <td id=\"T_02ad3_row4_col4\" class=\"data row4 col4\" >0.6905</td>\n",
       "      <td id=\"T_02ad3_row4_col5\" class=\"data row4 col5\" >0.3988</td>\n",
       "      <td id=\"T_02ad3_row4_col6\" class=\"data row4 col6\" >0.1695</td>\n",
       "      <td id=\"T_02ad3_row4_col7\" class=\"data row4 col7\" >2.4340</td>\n",
       "    </tr>\n",
       "  </tbody>\n",
       "</table>\n"
      ],
      "text/plain": [
       "<pandas.io.formats.style.Styler at 0x1bcc7e5fbe0>"
      ]
     },
     "metadata": {},
     "output_type": "display_data"
    },
    {
     "data": {
      "text/html": [],
      "text/plain": [
       "<IPython.core.display.HTML object>"
      ]
     },
     "metadata": {},
     "output_type": "display_data"
    },
    {
     "data": {
      "text/html": [],
      "text/plain": [
       "<IPython.core.display.HTML object>"
      ]
     },
     "metadata": {},
     "output_type": "display_data"
    },
    {
     "data": {
      "text/html": [
       "<style type=\"text/css\">\n",
       "#T_76bea_row3_col0, #T_76bea_row3_col1, #T_76bea_row3_col2, #T_76bea_row3_col3, #T_76bea_row3_col4, #T_76bea_row3_col5, #T_76bea_row3_col6, #T_76bea_row3_col7 {\n",
       "  background: yellow;\n",
       "}\n",
       "</style>\n",
       "<table id=\"T_76bea\">\n",
       "  <thead>\n",
       "    <tr>\n",
       "      <th class=\"blank level0\" >&nbsp;</th>\n",
       "      <th id=\"T_76bea_level0_col0\" class=\"col_heading level0 col0\" >cutoff</th>\n",
       "      <th id=\"T_76bea_level0_col1\" class=\"col_heading level0 col1\" >MASE</th>\n",
       "      <th id=\"T_76bea_level0_col2\" class=\"col_heading level0 col2\" >RMSSE</th>\n",
       "      <th id=\"T_76bea_level0_col3\" class=\"col_heading level0 col3\" >MAE</th>\n",
       "      <th id=\"T_76bea_level0_col4\" class=\"col_heading level0 col4\" >RMSE</th>\n",
       "      <th id=\"T_76bea_level0_col5\" class=\"col_heading level0 col5\" >MAPE</th>\n",
       "      <th id=\"T_76bea_level0_col6\" class=\"col_heading level0 col6\" >SMAPE</th>\n",
       "      <th id=\"T_76bea_level0_col7\" class=\"col_heading level0 col7\" >R2</th>\n",
       "    </tr>\n",
       "  </thead>\n",
       "  <tbody>\n",
       "    <tr>\n",
       "      <th id=\"T_76bea_level0_row0\" class=\"row_heading level0 row0\" >0</th>\n",
       "      <td id=\"T_76bea_row0_col0\" class=\"data row0 col0\" >2024-12-10</td>\n",
       "      <td id=\"T_76bea_row0_col1\" class=\"data row0 col1\" >1.5181</td>\n",
       "      <td id=\"T_76bea_row0_col2\" class=\"data row0 col2\" >1.3203</td>\n",
       "      <td id=\"T_76bea_row0_col3\" class=\"data row0 col3\" >0.5536</td>\n",
       "      <td id=\"T_76bea_row0_col4\" class=\"data row0 col4\" >0.6247</td>\n",
       "      <td id=\"T_76bea_row0_col5\" class=\"data row0 col5\" >0.2866</td>\n",
       "      <td id=\"T_76bea_row0_col6\" class=\"data row0 col6\" >0.2409</td>\n",
       "      <td id=\"T_76bea_row0_col7\" class=\"data row0 col7\" >-1.2493</td>\n",
       "    </tr>\n",
       "    <tr>\n",
       "      <th id=\"T_76bea_level0_row1\" class=\"row_heading level0 row1\" >1</th>\n",
       "      <td id=\"T_76bea_row1_col0\" class=\"data row1 col0\" >2025-01-09</td>\n",
       "      <td id=\"T_76bea_row1_col1\" class=\"data row1 col1\" >0.8264</td>\n",
       "      <td id=\"T_76bea_row1_col2\" class=\"data row1 col2\" >0.8123</td>\n",
       "      <td id=\"T_76bea_row1_col3\" class=\"data row1 col3\" >0.3063</td>\n",
       "      <td id=\"T_76bea_row1_col4\" class=\"data row1 col4\" >0.3888</td>\n",
       "      <td id=\"T_76bea_row1_col5\" class=\"data row1 col5\" >0.3196</td>\n",
       "      <td id=\"T_76bea_row1_col6\" class=\"data row1 col6\" >0.2468</td>\n",
       "      <td id=\"T_76bea_row1_col7\" class=\"data row1 col7\" >-0.2992</td>\n",
       "    </tr>\n",
       "    <tr>\n",
       "      <th id=\"T_76bea_level0_row2\" class=\"row_heading level0 row2\" >2</th>\n",
       "      <td id=\"T_76bea_row2_col0\" class=\"data row2 col0\" >2025-02-08</td>\n",
       "      <td id=\"T_76bea_row2_col1\" class=\"data row2 col1\" >0.3337</td>\n",
       "      <td id=\"T_76bea_row2_col2\" class=\"data row2 col2\" >0.3019</td>\n",
       "      <td id=\"T_76bea_row2_col3\" class=\"data row2 col3\" >0.1221</td>\n",
       "      <td id=\"T_76bea_row2_col4\" class=\"data row2 col4\" >0.1413</td>\n",
       "      <td id=\"T_76bea_row2_col5\" class=\"data row2 col5\" >0.2186</td>\n",
       "      <td id=\"T_76bea_row2_col6\" class=\"data row2 col6\" >0.1883</td>\n",
       "      <td id=\"T_76bea_row2_col7\" class=\"data row2 col7\" >-3.0110</td>\n",
       "    </tr>\n",
       "    <tr>\n",
       "      <th id=\"T_76bea_level0_row3\" class=\"row_heading level0 row3\" >Mean</th>\n",
       "      <td id=\"T_76bea_row3_col0\" class=\"data row3 col0\" >NaT</td>\n",
       "      <td id=\"T_76bea_row3_col1\" class=\"data row3 col1\" >0.8927</td>\n",
       "      <td id=\"T_76bea_row3_col2\" class=\"data row3 col2\" >0.8115</td>\n",
       "      <td id=\"T_76bea_row3_col3\" class=\"data row3 col3\" >0.3274</td>\n",
       "      <td id=\"T_76bea_row3_col4\" class=\"data row3 col4\" >0.3849</td>\n",
       "      <td id=\"T_76bea_row3_col5\" class=\"data row3 col5\" >0.2749</td>\n",
       "      <td id=\"T_76bea_row3_col6\" class=\"data row3 col6\" >0.2253</td>\n",
       "      <td id=\"T_76bea_row3_col7\" class=\"data row3 col7\" >-1.5198</td>\n",
       "    </tr>\n",
       "    <tr>\n",
       "      <th id=\"T_76bea_level0_row4\" class=\"row_heading level0 row4\" >SD</th>\n",
       "      <td id=\"T_76bea_row4_col0\" class=\"data row4 col0\" >NaT</td>\n",
       "      <td id=\"T_76bea_row4_col1\" class=\"data row4 col1\" >0.4858</td>\n",
       "      <td id=\"T_76bea_row4_col2\" class=\"data row4 col2\" >0.4158</td>\n",
       "      <td id=\"T_76bea_row4_col3\" class=\"data row4 col3\" >0.1768</td>\n",
       "      <td id=\"T_76bea_row4_col4\" class=\"data row4 col4\" >0.1973</td>\n",
       "      <td id=\"T_76bea_row4_col5\" class=\"data row4 col5\" >0.0421</td>\n",
       "      <td id=\"T_76bea_row4_col6\" class=\"data row4 col6\" >0.0263</td>\n",
       "      <td id=\"T_76bea_row4_col7\" class=\"data row4 col7\" >1.1235</td>\n",
       "    </tr>\n",
       "  </tbody>\n",
       "</table>\n"
      ],
      "text/plain": [
       "<pandas.io.formats.style.Styler at 0x1bcc7c18970>"
      ]
     },
     "metadata": {},
     "output_type": "display_data"
    },
    {
     "data": {
      "text/html": [],
      "text/plain": [
       "<IPython.core.display.HTML object>"
      ]
     },
     "metadata": {},
     "output_type": "display_data"
    },
    {
     "name": "stdout",
     "output_type": "stream",
     "text": [
      "Fitting 3 folds for each of 10 candidates, totalling 30 fits\n"
     ]
    },
    {
     "name": "stderr",
     "output_type": "stream",
     "text": [
      "[Parallel(n_jobs=-1)]: Using backend LokyBackend with 8 concurrent workers.\n",
      "[Parallel(n_jobs=-1)]: Done  30 out of  30 | elapsed:   11.9s finished\n"
     ]
    },
    {
     "data": {
      "text/html": [],
      "text/plain": [
       "<IPython.core.display.HTML object>"
      ]
     },
     "metadata": {},
     "output_type": "display_data"
    },
    {
     "data": {
      "text/html": [
       "<style type=\"text/css\">\n",
       "#T_38f8e_row3_col0, #T_38f8e_row3_col1, #T_38f8e_row3_col2, #T_38f8e_row3_col3, #T_38f8e_row3_col4, #T_38f8e_row3_col5, #T_38f8e_row3_col6, #T_38f8e_row3_col7 {\n",
       "  background: yellow;\n",
       "}\n",
       "</style>\n",
       "<table id=\"T_38f8e\">\n",
       "  <thead>\n",
       "    <tr>\n",
       "      <th class=\"blank level0\" >&nbsp;</th>\n",
       "      <th id=\"T_38f8e_level0_col0\" class=\"col_heading level0 col0\" >cutoff</th>\n",
       "      <th id=\"T_38f8e_level0_col1\" class=\"col_heading level0 col1\" >MASE</th>\n",
       "      <th id=\"T_38f8e_level0_col2\" class=\"col_heading level0 col2\" >RMSSE</th>\n",
       "      <th id=\"T_38f8e_level0_col3\" class=\"col_heading level0 col3\" >MAE</th>\n",
       "      <th id=\"T_38f8e_level0_col4\" class=\"col_heading level0 col4\" >RMSE</th>\n",
       "      <th id=\"T_38f8e_level0_col5\" class=\"col_heading level0 col5\" >MAPE</th>\n",
       "      <th id=\"T_38f8e_level0_col6\" class=\"col_heading level0 col6\" >SMAPE</th>\n",
       "      <th id=\"T_38f8e_level0_col7\" class=\"col_heading level0 col7\" >R2</th>\n",
       "    </tr>\n",
       "  </thead>\n",
       "  <tbody>\n",
       "    <tr>\n",
       "      <th id=\"T_38f8e_level0_row0\" class=\"row_heading level0 row0\" >0</th>\n",
       "      <td id=\"T_38f8e_row0_col0\" class=\"data row0 col0\" >2024-12-10</td>\n",
       "      <td id=\"T_38f8e_row0_col1\" class=\"data row0 col1\" >0.8238</td>\n",
       "      <td id=\"T_38f8e_row0_col2\" class=\"data row0 col2\" >0.8969</td>\n",
       "      <td id=\"T_38f8e_row0_col3\" class=\"data row0 col3\" >0.3004</td>\n",
       "      <td id=\"T_38f8e_row0_col4\" class=\"data row0 col4\" >0.4243</td>\n",
       "      <td id=\"T_38f8e_row0_col5\" class=\"data row0 col5\" >0.1254</td>\n",
       "      <td id=\"T_38f8e_row0_col6\" class=\"data row0 col6\" >0.1338</td>\n",
       "      <td id=\"T_38f8e_row0_col7\" class=\"data row0 col7\" >-0.0379</td>\n",
       "    </tr>\n",
       "    <tr>\n",
       "      <th id=\"T_38f8e_level0_row1\" class=\"row_heading level0 row1\" >1</th>\n",
       "      <td id=\"T_38f8e_row1_col0\" class=\"data row1 col0\" >2025-01-09</td>\n",
       "      <td id=\"T_38f8e_row1_col1\" class=\"data row1 col1\" >1.9430</td>\n",
       "      <td id=\"T_38f8e_row1_col2\" class=\"data row1 col2\" >1.6497</td>\n",
       "      <td id=\"T_38f8e_row1_col3\" class=\"data row1 col3\" >0.7203</td>\n",
       "      <td id=\"T_38f8e_row1_col4\" class=\"data row1 col4\" >0.7896</td>\n",
       "      <td id=\"T_38f8e_row1_col5\" class=\"data row1 col5\" >0.6997</td>\n",
       "      <td id=\"T_38f8e_row1_col6\" class=\"data row1 col6\" >0.4697</td>\n",
       "      <td id=\"T_38f8e_row1_col7\" class=\"data row1 col7\" >-4.3593</td>\n",
       "    </tr>\n",
       "    <tr>\n",
       "      <th id=\"T_38f8e_level0_row2\" class=\"row_heading level0 row2\" >2</th>\n",
       "      <td id=\"T_38f8e_row2_col0\" class=\"data row2 col0\" >2025-02-08</td>\n",
       "      <td id=\"T_38f8e_row2_col1\" class=\"data row2 col1\" >3.0337</td>\n",
       "      <td id=\"T_38f8e_row2_col2\" class=\"data row2 col2\" >2.3750</td>\n",
       "      <td id=\"T_38f8e_row2_col3\" class=\"data row2 col3\" >1.1101</td>\n",
       "      <td id=\"T_38f8e_row2_col4\" class=\"data row2 col4\" >1.1120</td>\n",
       "      <td id=\"T_38f8e_row2_col5\" class=\"data row2 col5\" >1.8621</td>\n",
       "      <td id=\"T_38f8e_row2_col6\" class=\"data row2 col6\" >0.9564</td>\n",
       "      <td id=\"T_38f8e_row2_col7\" class=\"data row2 col7\" >-247.3137</td>\n",
       "    </tr>\n",
       "    <tr>\n",
       "      <th id=\"T_38f8e_level0_row3\" class=\"row_heading level0 row3\" >Mean</th>\n",
       "      <td id=\"T_38f8e_row3_col0\" class=\"data row3 col0\" >NaT</td>\n",
       "      <td id=\"T_38f8e_row3_col1\" class=\"data row3 col1\" >1.9335</td>\n",
       "      <td id=\"T_38f8e_row3_col2\" class=\"data row3 col2\" >1.6405</td>\n",
       "      <td id=\"T_38f8e_row3_col3\" class=\"data row3 col3\" >0.7103</td>\n",
       "      <td id=\"T_38f8e_row3_col4\" class=\"data row3 col4\" >0.7753</td>\n",
       "      <td id=\"T_38f8e_row3_col5\" class=\"data row3 col5\" >0.8957</td>\n",
       "      <td id=\"T_38f8e_row3_col6\" class=\"data row3 col6\" >0.5200</td>\n",
       "      <td id=\"T_38f8e_row3_col7\" class=\"data row3 col7\" >-83.9036</td>\n",
       "    </tr>\n",
       "    <tr>\n",
       "      <th id=\"T_38f8e_level0_row4\" class=\"row_heading level0 row4\" >SD</th>\n",
       "      <td id=\"T_38f8e_row4_col0\" class=\"data row4 col0\" >NaT</td>\n",
       "      <td id=\"T_38f8e_row4_col1\" class=\"data row4 col1\" >0.9022</td>\n",
       "      <td id=\"T_38f8e_row4_col2\" class=\"data row4 col2\" >0.6035</td>\n",
       "      <td id=\"T_38f8e_row4_col3\" class=\"data row4 col3\" >0.3306</td>\n",
       "      <td id=\"T_38f8e_row4_col4\" class=\"data row4 col4\" >0.2809</td>\n",
       "      <td id=\"T_38f8e_row4_col5\" class=\"data row4 col5\" >0.7224</td>\n",
       "      <td id=\"T_38f8e_row4_col6\" class=\"data row4 col6\" >0.3377</td>\n",
       "      <td id=\"T_38f8e_row4_col7\" class=\"data row4 col7\" >115.5618</td>\n",
       "    </tr>\n",
       "  </tbody>\n",
       "</table>\n"
      ],
      "text/plain": [
       "<pandas.io.formats.style.Styler at 0x1bcb43b6ca0>"
      ]
     },
     "metadata": {},
     "output_type": "display_data"
    },
    {
     "data": {
      "text/html": [],
      "text/plain": [
       "<IPython.core.display.HTML object>"
      ]
     },
     "metadata": {},
     "output_type": "display_data"
    },
    {
     "name": "stdout",
     "output_type": "stream",
     "text": [
      "Fitting 3 folds for each of 10 candidates, totalling 30 fits\n"
     ]
    },
    {
     "name": "stderr",
     "output_type": "stream",
     "text": [
      "[Parallel(n_jobs=-1)]: Using backend LokyBackend with 8 concurrent workers.\n",
      "[Parallel(n_jobs=-1)]: Done  30 out of  30 | elapsed:    9.4s finished\n"
     ]
    },
    {
     "data": {
      "application/vnd.plotly.v1+json": {
       "config": {
        "plotlyServerURL": "https://plot.ly"
       },
       "data": [
        {
         "line": {
          "color": "#1f77b4"
         },
         "marker": {
          "size": 5
         },
         "mode": "lines+markers",
         "name": "Forecast | ARIMA",
         "showlegend": true,
         "type": "scatter",
         "x": [
          "2025-04-10T00:00:00",
          "2025-04-11T00:00:00",
          "2025-04-12T00:00:00",
          "2025-04-13T00:00:00",
          "2025-04-14T00:00:00",
          "2025-04-15T00:00:00",
          "2025-04-16T00:00:00",
          "2025-04-17T00:00:00",
          "2025-04-18T00:00:00",
          "2025-04-19T00:00:00",
          "2025-04-20T00:00:00",
          "2025-04-21T00:00:00",
          "2025-04-22T00:00:00",
          "2025-04-23T00:00:00",
          "2025-04-24T00:00:00",
          "2025-04-25T00:00:00",
          "2025-04-26T00:00:00",
          "2025-04-27T00:00:00",
          "2025-04-28T00:00:00",
          "2025-04-29T00:00:00",
          "2025-04-30T00:00:00",
          "2025-05-01T00:00:00",
          "2025-05-02T00:00:00",
          "2025-05-03T00:00:00",
          "2025-05-04T00:00:00",
          "2025-05-05T00:00:00",
          "2025-05-06T00:00:00",
          "2025-05-07T00:00:00",
          "2025-05-08T00:00:00",
          "2025-05-09T00:00:00"
         ],
         "y": {
          "bdata": "6gQ0ETY81T9iodY07zjVPzcawFsgQdU/aW/whclU1T+L/WX35GHVP71SliGOddU/+aBns+pz1T+0WfW52orVP+auJeSDntU/VFInoImw1T9Ei2zn+6nVP8P1KFyPwtU/Dwu1pnnH1T+OdXEbDeDVP8HKoUW289U/8x/Sb18H1j9hw9MrZRnWP5MYBFYOLdY/xm00gLdA1j/4wmSqYFTWP2ZmZmZmZtY/mbuWkA961j/LEMe6uI3WP/5l9+RhodY/bAn5oGez1j+eXinLEMfWP9CzWfW52tY/AwmKH2Pu1j81XrpJDALXP2iz6nO1Fdc/",
          "dtype": "f8"
         }
        },
        {
         "line": {
          "width": 0
         },
         "marker": {
          "color": "#68BBE3"
         },
         "mode": "lines",
         "name": "Lower Interval",
         "showlegend": false,
         "type": "scatter",
         "x": [
          "2025-04-10T00:00:00",
          "2025-04-11T00:00:00",
          "2025-04-12T00:00:00",
          "2025-04-13T00:00:00",
          "2025-04-14T00:00:00",
          "2025-04-15T00:00:00",
          "2025-04-16T00:00:00",
          "2025-04-17T00:00:00",
          "2025-04-18T00:00:00",
          "2025-04-19T00:00:00",
          "2025-04-20T00:00:00",
          "2025-04-21T00:00:00",
          "2025-04-22T00:00:00",
          "2025-04-23T00:00:00",
          "2025-04-24T00:00:00",
          "2025-04-25T00:00:00",
          "2025-04-26T00:00:00",
          "2025-04-27T00:00:00",
          "2025-04-28T00:00:00",
          "2025-04-29T00:00:00",
          "2025-04-30T00:00:00",
          "2025-05-01T00:00:00",
          "2025-05-02T00:00:00",
          "2025-05-03T00:00:00",
          "2025-05-04T00:00:00",
          "2025-05-05T00:00:00",
          "2025-05-06T00:00:00",
          "2025-05-07T00:00:00",
          "2025-05-08T00:00:00",
          "2025-05-09T00:00:00"
         ],
         "y": {
          "bdata": "FvvL7snD0j924JwRpb3RPyh+jLlrCdE/UI2XbhKD0D8ijnVxGw3QP9QrZRniWM8/VHQkl/+Qzj9a9bnaiv3NP/mgZ7Pqc80/MnctIR/0zD+vlGWIY13MPyuHFtnO98s/hetRuB6Fyz8ibHh6pSzLPzeJQWDl0Mo/1QloImx4yj/67evAOSPKPzGZKhiV1Mk/8KfGSzeJyT+/fR04Z0TJP49TdCSX/8g/54wo7Q2+yD9QjZduEoPIP7mNBvAWSMg/qvHSTWIQyD+bVZ+rrdjHPxUdyeU/pMc/n6ut2F92xz+h1jTvOEXHPyxlGeJYF8c/",
          "dtype": "f8"
         }
        },
        {
         "fill": "tonexty",
         "fillcolor": "rgba(104,187,227,0.5)",
         "line": {
          "width": 0
         },
         "marker": {
          "color": "#68BBE3"
         },
         "mode": "lines",
         "name": "Prediction Interval | ARIMA",
         "showlegend": true,
         "type": "scatter",
         "x": [
          "2025-04-10T00:00:00",
          "2025-04-11T00:00:00",
          "2025-04-12T00:00:00",
          "2025-04-13T00:00:00",
          "2025-04-14T00:00:00",
          "2025-04-15T00:00:00",
          "2025-04-16T00:00:00",
          "2025-04-17T00:00:00",
          "2025-04-18T00:00:00",
          "2025-04-19T00:00:00",
          "2025-04-20T00:00:00",
          "2025-04-21T00:00:00",
          "2025-04-22T00:00:00",
          "2025-04-23T00:00:00",
          "2025-04-24T00:00:00",
          "2025-04-25T00:00:00",
          "2025-04-26T00:00:00",
          "2025-04-27T00:00:00",
          "2025-04-28T00:00:00",
          "2025-04-29T00:00:00",
          "2025-04-30T00:00:00",
          "2025-05-01T00:00:00",
          "2025-05-02T00:00:00",
          "2025-05-03T00:00:00",
          "2025-05-04T00:00:00",
          "2025-05-05T00:00:00",
          "2025-05-06T00:00:00",
          "2025-05-07T00:00:00",
          "2025-05-08T00:00:00",
          "2025-05-09T00:00:00"
         ],
         "y": {
          "bdata": "Ece6uI0G2D8TYcPTK2XZPzLmriXkg9o/48eYu5aQ2z97FK5H4XrcP4v9ZffkYd0/6SYxCKwc3j+LbOf7qfHeP1g5tMh2vt8/5BQdyeU/4D8HX5hMFYzgPz9XW7G/7OA/zF1LyAc94T9eS8gHPZvhP+84RUdy+eE/2ht8YTJV4j/jpZvEILDiPwrXo3A9CuM/T6+UZYhj4z+Uh4Va07zjPzJVMCqpE+Q/s3vysFBr5D9v8IXJVMHkPyxlGeJYF+U/BoGVQ4ts5T/gnBGlvcHlP9lfdk8eFuY/0SLb+X5q5j/J5T+k377mP99PjZduEuc/",
          "dtype": "f8"
         }
        },
        {
         "marker": {
          "color": "#3f3f3f",
          "size": 5
         },
         "mode": "lines+markers",
         "name": "Original",
         "showlegend": true,
         "type": "scatter",
         "x": [
          "2024-04-10T00:00:00",
          "2024-04-11T00:00:00",
          "2024-04-12T00:00:00",
          "2024-04-13T00:00:00",
          "2024-04-14T00:00:00",
          "2024-04-15T00:00:00",
          "2024-04-16T00:00:00",
          "2024-04-17T00:00:00",
          "2024-04-18T00:00:00",
          "2024-04-19T00:00:00",
          "2024-04-20T00:00:00",
          "2024-04-21T00:00:00",
          "2024-04-22T00:00:00",
          "2024-04-23T00:00:00",
          "2024-04-24T00:00:00",
          "2024-04-25T00:00:00",
          "2024-04-26T00:00:00",
          "2024-04-27T00:00:00",
          "2024-04-28T00:00:00",
          "2024-04-29T00:00:00",
          "2024-04-30T00:00:00",
          "2024-05-01T00:00:00",
          "2024-05-02T00:00:00",
          "2024-05-03T00:00:00",
          "2024-05-04T00:00:00",
          "2024-05-05T00:00:00",
          "2024-05-06T00:00:00",
          "2024-05-07T00:00:00",
          "2024-05-08T00:00:00",
          "2024-05-09T00:00:00",
          "2024-05-10T00:00:00",
          "2024-05-11T00:00:00",
          "2024-05-12T00:00:00",
          "2024-05-13T00:00:00",
          "2024-05-14T00:00:00",
          "2024-05-15T00:00:00",
          "2024-05-16T00:00:00",
          "2024-05-17T00:00:00",
          "2024-05-18T00:00:00",
          "2024-05-19T00:00:00",
          "2024-05-20T00:00:00",
          "2024-05-21T00:00:00",
          "2024-05-22T00:00:00",
          "2024-05-23T00:00:00",
          "2024-05-24T00:00:00",
          "2024-05-25T00:00:00",
          "2024-05-26T00:00:00",
          "2024-05-27T00:00:00",
          "2024-05-28T00:00:00",
          "2024-05-29T00:00:00",
          "2024-05-30T00:00:00",
          "2024-05-31T00:00:00",
          "2024-06-01T00:00:00",
          "2024-06-02T00:00:00",
          "2024-06-03T00:00:00",
          "2024-06-04T00:00:00",
          "2024-06-05T00:00:00",
          "2024-06-06T00:00:00",
          "2024-06-07T00:00:00",
          "2024-06-08T00:00:00",
          "2024-06-09T00:00:00",
          "2024-06-10T00:00:00",
          "2024-06-11T00:00:00",
          "2024-06-12T00:00:00",
          "2024-06-13T00:00:00",
          "2024-06-14T00:00:00",
          "2024-06-15T00:00:00",
          "2024-06-16T00:00:00",
          "2024-06-17T00:00:00",
          "2024-06-18T00:00:00",
          "2024-06-19T00:00:00",
          "2024-06-20T00:00:00",
          "2024-06-21T00:00:00",
          "2024-06-22T00:00:00",
          "2024-06-23T00:00:00",
          "2024-06-24T00:00:00",
          "2024-06-25T00:00:00",
          "2024-06-26T00:00:00",
          "2024-06-27T00:00:00",
          "2024-06-28T00:00:00",
          "2024-06-29T00:00:00",
          "2024-06-30T00:00:00",
          "2024-07-01T00:00:00",
          "2024-07-02T00:00:00",
          "2024-07-03T00:00:00",
          "2024-07-04T00:00:00",
          "2024-07-05T00:00:00",
          "2024-07-06T00:00:00",
          "2024-07-07T00:00:00",
          "2024-07-08T00:00:00",
          "2024-07-09T00:00:00",
          "2024-07-10T00:00:00",
          "2024-07-11T00:00:00",
          "2024-07-12T00:00:00",
          "2024-07-13T00:00:00",
          "2024-07-14T00:00:00",
          "2024-07-15T00:00:00",
          "2024-07-16T00:00:00",
          "2024-07-17T00:00:00",
          "2024-07-18T00:00:00",
          "2024-07-19T00:00:00",
          "2024-07-20T00:00:00",
          "2024-07-21T00:00:00",
          "2024-07-22T00:00:00",
          "2024-07-23T00:00:00",
          "2024-07-24T00:00:00",
          "2024-07-25T00:00:00",
          "2024-07-26T00:00:00",
          "2024-07-27T00:00:00",
          "2024-07-28T00:00:00",
          "2024-07-29T00:00:00",
          "2024-07-30T00:00:00",
          "2024-07-31T00:00:00",
          "2024-08-01T00:00:00",
          "2024-08-02T00:00:00",
          "2024-08-03T00:00:00",
          "2024-08-04T00:00:00",
          "2024-08-05T00:00:00",
          "2024-08-06T00:00:00",
          "2024-08-07T00:00:00",
          "2024-08-08T00:00:00",
          "2024-08-09T00:00:00",
          "2024-08-10T00:00:00",
          "2024-08-11T00:00:00",
          "2024-08-12T00:00:00",
          "2024-08-13T00:00:00",
          "2024-08-14T00:00:00",
          "2024-08-15T00:00:00",
          "2024-08-16T00:00:00",
          "2024-08-17T00:00:00",
          "2024-08-18T00:00:00",
          "2024-08-19T00:00:00",
          "2024-08-20T00:00:00",
          "2024-08-21T00:00:00",
          "2024-08-22T00:00:00",
          "2024-08-23T00:00:00",
          "2024-08-24T00:00:00",
          "2024-08-25T00:00:00",
          "2024-08-26T00:00:00",
          "2024-08-27T00:00:00",
          "2024-08-28T00:00:00",
          "2024-08-29T00:00:00",
          "2024-08-30T00:00:00",
          "2024-08-31T00:00:00",
          "2024-09-01T00:00:00",
          "2024-09-02T00:00:00",
          "2024-09-03T00:00:00",
          "2024-09-04T00:00:00",
          "2024-09-05T00:00:00",
          "2024-09-06T00:00:00",
          "2024-09-07T00:00:00",
          "2024-09-08T00:00:00",
          "2024-09-09T00:00:00",
          "2024-09-10T00:00:00",
          "2024-09-11T00:00:00",
          "2024-09-12T00:00:00",
          "2024-09-13T00:00:00",
          "2024-09-14T00:00:00",
          "2024-09-15T00:00:00",
          "2024-09-16T00:00:00",
          "2024-09-17T00:00:00",
          "2024-09-18T00:00:00",
          "2024-09-19T00:00:00",
          "2024-09-20T00:00:00",
          "2024-09-21T00:00:00",
          "2024-09-22T00:00:00",
          "2024-09-23T00:00:00",
          "2024-09-24T00:00:00",
          "2024-09-25T00:00:00",
          "2024-09-26T00:00:00",
          "2024-09-27T00:00:00",
          "2024-09-28T00:00:00",
          "2024-09-29T00:00:00",
          "2024-09-30T00:00:00",
          "2024-10-01T00:00:00",
          "2024-10-02T00:00:00",
          "2024-10-03T00:00:00",
          "2024-10-04T00:00:00",
          "2024-10-05T00:00:00",
          "2024-10-06T00:00:00",
          "2024-10-07T00:00:00",
          "2024-10-08T00:00:00",
          "2024-10-09T00:00:00",
          "2024-10-10T00:00:00",
          "2024-10-11T00:00:00",
          "2024-10-12T00:00:00",
          "2024-10-13T00:00:00",
          "2024-10-14T00:00:00",
          "2024-10-15T00:00:00",
          "2024-10-16T00:00:00",
          "2024-10-17T00:00:00",
          "2024-10-18T00:00:00",
          "2024-10-19T00:00:00",
          "2024-10-20T00:00:00",
          "2024-10-21T00:00:00",
          "2024-10-22T00:00:00",
          "2024-10-23T00:00:00",
          "2024-10-24T00:00:00",
          "2024-10-25T00:00:00",
          "2024-10-26T00:00:00",
          "2024-10-27T00:00:00",
          "2024-10-28T00:00:00",
          "2024-10-29T00:00:00",
          "2024-10-30T00:00:00",
          "2024-10-31T00:00:00",
          "2024-11-01T00:00:00",
          "2024-11-02T00:00:00",
          "2024-11-03T00:00:00",
          "2024-11-04T00:00:00",
          "2024-11-05T00:00:00",
          "2024-11-06T00:00:00",
          "2024-11-07T00:00:00",
          "2024-11-08T00:00:00",
          "2024-11-09T00:00:00",
          "2024-11-10T00:00:00",
          "2024-11-11T00:00:00",
          "2024-11-12T00:00:00",
          "2024-11-13T00:00:00",
          "2024-11-14T00:00:00",
          "2024-11-15T00:00:00",
          "2024-11-16T00:00:00",
          "2024-11-17T00:00:00",
          "2024-11-18T00:00:00",
          "2024-11-19T00:00:00",
          "2024-11-20T00:00:00",
          "2024-11-21T00:00:00",
          "2024-11-22T00:00:00",
          "2024-11-23T00:00:00",
          "2024-11-24T00:00:00",
          "2024-11-25T00:00:00",
          "2024-11-26T00:00:00",
          "2024-11-27T00:00:00",
          "2024-11-28T00:00:00",
          "2024-11-29T00:00:00",
          "2024-11-30T00:00:00",
          "2024-12-01T00:00:00",
          "2024-12-02T00:00:00",
          "2024-12-03T00:00:00",
          "2024-12-04T00:00:00",
          "2024-12-05T00:00:00",
          "2024-12-06T00:00:00",
          "2024-12-07T00:00:00",
          "2024-12-08T00:00:00",
          "2024-12-09T00:00:00",
          "2024-12-10T00:00:00",
          "2024-12-11T00:00:00",
          "2024-12-12T00:00:00",
          "2024-12-13T00:00:00",
          "2024-12-14T00:00:00",
          "2024-12-15T00:00:00",
          "2024-12-16T00:00:00",
          "2024-12-17T00:00:00",
          "2024-12-18T00:00:00",
          "2024-12-19T00:00:00",
          "2024-12-20T00:00:00",
          "2024-12-21T00:00:00",
          "2024-12-22T00:00:00",
          "2024-12-23T00:00:00",
          "2024-12-24T00:00:00",
          "2024-12-25T00:00:00",
          "2024-12-26T00:00:00",
          "2024-12-27T00:00:00",
          "2024-12-28T00:00:00",
          "2024-12-29T00:00:00",
          "2024-12-30T00:00:00",
          "2024-12-31T00:00:00",
          "2025-01-01T00:00:00",
          "2025-01-02T00:00:00",
          "2025-01-03T00:00:00",
          "2025-01-04T00:00:00",
          "2025-01-05T00:00:00",
          "2025-01-06T00:00:00",
          "2025-01-07T00:00:00",
          "2025-01-08T00:00:00",
          "2025-01-09T00:00:00",
          "2025-01-10T00:00:00",
          "2025-01-11T00:00:00",
          "2025-01-12T00:00:00",
          "2025-01-13T00:00:00",
          "2025-01-14T00:00:00",
          "2025-01-15T00:00:00",
          "2025-01-16T00:00:00",
          "2025-01-17T00:00:00",
          "2025-01-18T00:00:00",
          "2025-01-19T00:00:00",
          "2025-01-20T00:00:00",
          "2025-01-21T00:00:00",
          "2025-01-22T00:00:00",
          "2025-01-23T00:00:00",
          "2025-01-24T00:00:00",
          "2025-01-25T00:00:00",
          "2025-01-26T00:00:00",
          "2025-01-27T00:00:00",
          "2025-01-28T00:00:00",
          "2025-01-29T00:00:00",
          "2025-01-30T00:00:00",
          "2025-01-31T00:00:00",
          "2025-02-01T00:00:00",
          "2025-02-02T00:00:00",
          "2025-02-03T00:00:00",
          "2025-02-04T00:00:00",
          "2025-02-05T00:00:00",
          "2025-02-06T00:00:00",
          "2025-02-07T00:00:00",
          "2025-02-08T00:00:00",
          "2025-02-09T00:00:00",
          "2025-02-10T00:00:00",
          "2025-02-11T00:00:00",
          "2025-02-12T00:00:00",
          "2025-02-13T00:00:00",
          "2025-02-14T00:00:00",
          "2025-02-15T00:00:00",
          "2025-02-16T00:00:00",
          "2025-02-17T00:00:00",
          "2025-02-18T00:00:00",
          "2025-02-19T00:00:00",
          "2025-02-20T00:00:00",
          "2025-02-21T00:00:00",
          "2025-02-22T00:00:00",
          "2025-02-23T00:00:00",
          "2025-02-24T00:00:00",
          "2025-02-25T00:00:00",
          "2025-02-26T00:00:00",
          "2025-02-27T00:00:00",
          "2025-02-28T00:00:00",
          "2025-03-01T00:00:00",
          "2025-03-02T00:00:00",
          "2025-03-03T00:00:00",
          "2025-03-04T00:00:00",
          "2025-03-05T00:00:00",
          "2025-03-06T00:00:00",
          "2025-03-07T00:00:00",
          "2025-03-08T00:00:00",
          "2025-03-09T00:00:00",
          "2025-03-10T00:00:00",
          "2025-03-11T00:00:00",
          "2025-03-12T00:00:00",
          "2025-03-13T00:00:00",
          "2025-03-14T00:00:00",
          "2025-03-15T00:00:00",
          "2025-03-16T00:00:00",
          "2025-03-17T00:00:00",
          "2025-03-18T00:00:00",
          "2025-03-19T00:00:00",
          "2025-03-20T00:00:00",
          "2025-03-21T00:00:00",
          "2025-03-22T00:00:00",
          "2025-03-23T00:00:00",
          "2025-03-24T00:00:00",
          "2025-03-25T00:00:00",
          "2025-03-26T00:00:00",
          "2025-03-27T00:00:00",
          "2025-03-28T00:00:00",
          "2025-03-29T00:00:00",
          "2025-03-30T00:00:00",
          "2025-03-31T00:00:00",
          "2025-04-01T00:00:00",
          "2025-04-02T00:00:00",
          "2025-04-03T00:00:00",
          "2025-04-04T00:00:00",
          "2025-04-05T00:00:00",
          "2025-04-06T00:00:00",
          "2025-04-07T00:00:00",
          "2025-04-08T00:00:00",
          "2025-04-09T00:00:00"
         ],
         "y": {
          "bdata": "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",
          "dtype": "f8"
         }
        }
       ],
       "layout": {
        "showlegend": true,
        "template": {
         "data": {
          "bar": [
           {
            "error_x": {
             "color": "rgb(51,51,51)"
            },
            "error_y": {
             "color": "rgb(51,51,51)"
            },
            "marker": {
             "line": {
              "color": "rgb(237,237,237)",
              "width": 0.5
             },
             "pattern": {
              "fillmode": "overlay",
              "size": 10,
              "solidity": 0.2
             }
            },
            "type": "bar"
           }
          ],
          "barpolar": [
           {
            "marker": {
             "line": {
              "color": "rgb(237,237,237)",
              "width": 0.5
             },
             "pattern": {
              "fillmode": "overlay",
              "size": 10,
              "solidity": 0.2
             }
            },
            "type": "barpolar"
           }
          ],
          "carpet": [
           {
            "aaxis": {
             "endlinecolor": "rgb(51,51,51)",
             "gridcolor": "white",
             "linecolor": "white",
             "minorgridcolor": "white",
             "startlinecolor": "rgb(51,51,51)"
            },
            "baxis": {
             "endlinecolor": "rgb(51,51,51)",
             "gridcolor": "white",
             "linecolor": "white",
             "minorgridcolor": "white",
             "startlinecolor": "rgb(51,51,51)"
            },
            "type": "carpet"
           }
          ],
          "choropleth": [
           {
            "colorbar": {
             "outlinewidth": 0,
             "tickcolor": "rgb(237,237,237)",
             "ticklen": 6,
             "ticks": "inside"
            },
            "type": "choropleth"
           }
          ],
          "contour": [
           {
            "colorbar": {
             "outlinewidth": 0,
             "tickcolor": "rgb(237,237,237)",
             "ticklen": 6,
             "ticks": "inside"
            },
            "colorscale": [
             [
              0,
              "rgb(20,44,66)"
             ],
             [
              1,
              "rgb(90,179,244)"
             ]
            ],
            "type": "contour"
           }
          ],
          "contourcarpet": [
           {
            "colorbar": {
             "outlinewidth": 0,
             "tickcolor": "rgb(237,237,237)",
             "ticklen": 6,
             "ticks": "inside"
            },
            "type": "contourcarpet"
           }
          ],
          "heatmap": [
           {
            "colorbar": {
             "outlinewidth": 0,
             "tickcolor": "rgb(237,237,237)",
             "ticklen": 6,
             "ticks": "inside"
            },
            "colorscale": [
             [
              0,
              "rgb(20,44,66)"
             ],
             [
              1,
              "rgb(90,179,244)"
             ]
            ],
            "type": "heatmap"
           }
          ],
          "histogram": [
           {
            "marker": {
             "pattern": {
              "fillmode": "overlay",
              "size": 10,
              "solidity": 0.2
             }
            },
            "type": "histogram"
           }
          ],
          "histogram2d": [
           {
            "colorbar": {
             "outlinewidth": 0,
             "tickcolor": "rgb(237,237,237)",
             "ticklen": 6,
             "ticks": "inside"
            },
            "colorscale": [
             [
              0,
              "rgb(20,44,66)"
             ],
             [
              1,
              "rgb(90,179,244)"
             ]
            ],
            "type": "histogram2d"
           }
          ],
          "histogram2dcontour": [
           {
            "colorbar": {
             "outlinewidth": 0,
             "tickcolor": "rgb(237,237,237)",
             "ticklen": 6,
             "ticks": "inside"
            },
            "colorscale": [
             [
              0,
              "rgb(20,44,66)"
             ],
             [
              1,
              "rgb(90,179,244)"
             ]
            ],
            "type": "histogram2dcontour"
           }
          ],
          "mesh3d": [
           {
            "colorbar": {
             "outlinewidth": 0,
             "tickcolor": "rgb(237,237,237)",
             "ticklen": 6,
             "ticks": "inside"
            },
            "type": "mesh3d"
           }
          ],
          "parcoords": [
           {
            "line": {
             "colorbar": {
              "outlinewidth": 0,
              "tickcolor": "rgb(237,237,237)",
              "ticklen": 6,
              "ticks": "inside"
             }
            },
            "type": "parcoords"
           }
          ],
          "pie": [
           {
            "automargin": true,
            "type": "pie"
           }
          ],
          "scatter": [
           {
            "fillpattern": {
             "fillmode": "overlay",
             "size": 10,
             "solidity": 0.2
            },
            "type": "scatter"
           }
          ],
          "scatter3d": [
           {
            "line": {
             "colorbar": {
              "outlinewidth": 0,
              "tickcolor": "rgb(237,237,237)",
              "ticklen": 6,
              "ticks": "inside"
             }
            },
            "marker": {
             "colorbar": {
              "outlinewidth": 0,
              "tickcolor": "rgb(237,237,237)",
              "ticklen": 6,
              "ticks": "inside"
             }
            },
            "type": "scatter3d"
           }
          ],
          "scattercarpet": [
           {
            "marker": {
             "colorbar": {
              "outlinewidth": 0,
              "tickcolor": "rgb(237,237,237)",
              "ticklen": 6,
              "ticks": "inside"
             }
            },
            "type": "scattercarpet"
           }
          ],
          "scattergeo": [
           {
            "marker": {
             "colorbar": {
              "outlinewidth": 0,
              "tickcolor": "rgb(237,237,237)",
              "ticklen": 6,
              "ticks": "inside"
             }
            },
            "type": "scattergeo"
           }
          ],
          "scattergl": [
           {
            "marker": {
             "colorbar": {
              "outlinewidth": 0,
              "tickcolor": "rgb(237,237,237)",
              "ticklen": 6,
              "ticks": "inside"
             }
            },
            "type": "scattergl"
           }
          ],
          "scattermap": [
           {
            "marker": {
             "colorbar": {
              "outlinewidth": 0,
              "tickcolor": "rgb(237,237,237)",
              "ticklen": 6,
              "ticks": "inside"
             }
            },
            "type": "scattermap"
           }
          ],
          "scattermapbox": [
           {
            "marker": {
             "colorbar": {
              "outlinewidth": 0,
              "tickcolor": "rgb(237,237,237)",
              "ticklen": 6,
              "ticks": "inside"
             }
            },
            "type": "scattermapbox"
           }
          ],
          "scatterpolar": [
           {
            "marker": {
             "colorbar": {
              "outlinewidth": 0,
              "tickcolor": "rgb(237,237,237)",
              "ticklen": 6,
              "ticks": "inside"
             }
            },
            "type": "scatterpolar"
           }
          ],
          "scatterpolargl": [
           {
            "marker": {
             "colorbar": {
              "outlinewidth": 0,
              "tickcolor": "rgb(237,237,237)",
              "ticklen": 6,
              "ticks": "inside"
             }
            },
            "type": "scatterpolargl"
           }
          ],
          "scatterternary": [
           {
            "marker": {
             "colorbar": {
              "outlinewidth": 0,
              "tickcolor": "rgb(237,237,237)",
              "ticklen": 6,
              "ticks": "inside"
             }
            },
            "type": "scatterternary"
           }
          ],
          "surface": [
           {
            "colorbar": {
             "outlinewidth": 0,
             "tickcolor": "rgb(237,237,237)",
             "ticklen": 6,
             "ticks": "inside"
            },
            "colorscale": [
             [
              0,
              "rgb(20,44,66)"
             ],
             [
              1,
              "rgb(90,179,244)"
             ]
            ],
            "type": "surface"
           }
          ],
          "table": [
           {
            "cells": {
             "fill": {
              "color": "rgb(237,237,237)"
             },
             "line": {
              "color": "white"
             }
            },
            "header": {
             "fill": {
              "color": "rgb(217,217,217)"
             },
             "line": {
              "color": "white"
             }
            },
            "type": "table"
           }
          ]
         },
         "layout": {
          "annotationdefaults": {
           "arrowhead": 0,
           "arrowwidth": 1
          },
          "autotypenumbers": "strict",
          "coloraxis": {
           "colorbar": {
            "outlinewidth": 0,
            "tickcolor": "rgb(237,237,237)",
            "ticklen": 6,
            "ticks": "inside"
           }
          },
          "colorscale": {
           "sequential": [
            [
             0,
             "rgb(20,44,66)"
            ],
            [
             1,
             "rgb(90,179,244)"
            ]
           ],
           "sequentialminus": [
            [
             0,
             "rgb(20,44,66)"
            ],
            [
             1,
             "rgb(90,179,244)"
            ]
           ]
          },
          "colorway": [
           "#F8766D",
           "#A3A500",
           "#00BF7D",
           "#00B0F6",
           "#E76BF3"
          ],
          "font": {
           "color": "rgb(51,51,51)"
          },
          "geo": {
           "bgcolor": "white",
           "lakecolor": "white",
           "landcolor": "rgb(237,237,237)",
           "showlakes": true,
           "showland": true,
           "subunitcolor": "white"
          },
          "hoverlabel": {
           "align": "left"
          },
          "hovermode": "closest",
          "paper_bgcolor": "white",
          "plot_bgcolor": "rgb(237,237,237)",
          "polar": {
           "angularaxis": {
            "gridcolor": "white",
            "linecolor": "white",
            "showgrid": true,
            "tickcolor": "rgb(51,51,51)",
            "ticks": "outside"
           },
           "bgcolor": "rgb(237,237,237)",
           "radialaxis": {
            "gridcolor": "white",
            "linecolor": "white",
            "showgrid": true,
            "tickcolor": "rgb(51,51,51)",
            "ticks": "outside"
           }
          },
          "scene": {
           "xaxis": {
            "backgroundcolor": "rgb(237,237,237)",
            "gridcolor": "white",
            "gridwidth": 2,
            "linecolor": "white",
            "showbackground": true,
            "showgrid": true,
            "tickcolor": "rgb(51,51,51)",
            "ticks": "outside",
            "zerolinecolor": "white"
           },
           "yaxis": {
            "backgroundcolor": "rgb(237,237,237)",
            "gridcolor": "white",
            "gridwidth": 2,
            "linecolor": "white",
            "showbackground": true,
            "showgrid": true,
            "tickcolor": "rgb(51,51,51)",
            "ticks": "outside",
            "zerolinecolor": "white"
           },
           "zaxis": {
            "backgroundcolor": "rgb(237,237,237)",
            "gridcolor": "white",
            "gridwidth": 2,
            "linecolor": "white",
            "showbackground": true,
            "showgrid": true,
            "tickcolor": "rgb(51,51,51)",
            "ticks": "outside",
            "zerolinecolor": "white"
           }
          },
          "shapedefaults": {
           "fillcolor": "black",
           "line": {
            "width": 0
           },
           "opacity": 0.3
          },
          "ternary": {
           "aaxis": {
            "gridcolor": "white",
            "linecolor": "white",
            "showgrid": true,
            "tickcolor": "rgb(51,51,51)",
            "ticks": "outside"
           },
           "baxis": {
            "gridcolor": "white",
            "linecolor": "white",
            "showgrid": true,
            "tickcolor": "rgb(51,51,51)",
            "ticks": "outside"
           },
           "bgcolor": "rgb(237,237,237)",
           "caxis": {
            "gridcolor": "white",
            "linecolor": "white",
            "showgrid": true,
            "tickcolor": "rgb(51,51,51)",
            "ticks": "outside"
           }
          },
          "xaxis": {
           "automargin": true,
           "gridcolor": "white",
           "linecolor": "white",
           "showgrid": true,
           "tickcolor": "rgb(51,51,51)",
           "ticks": "outside",
           "title": {
            "standoff": 15
           },
           "zerolinecolor": "white"
          },
          "yaxis": {
           "automargin": true,
           "gridcolor": "white",
           "linecolor": "white",
           "showgrid": true,
           "tickcolor": "rgb(51,51,51)",
           "ticks": "outside",
           "title": {
            "standoff": 15
           },
           "zerolinecolor": "white"
          }
         }
        },
        "title": {
         "text": "Actual vs. 'Out-of-Sample' Forecast | WIF-USD"
        },
        "xaxis": {
         "title": {
          "text": "Time"
         }
        },
        "yaxis": {
         "title": {
          "text": "Values"
         }
        }
       }
      }
     },
     "metadata": {},
     "output_type": "display_data"
    },
    {
     "data": {
      "application/vnd.plotly.v1+json": {
       "config": {
        "plotlyServerURL": "https://plot.ly"
       },
       "data": [
        {
         "line": {
          "color": "#1f77b4"
         },
         "marker": {
          "size": 5
         },
         "mode": "lines+markers",
         "name": "Forecast | Prophet",
         "showlegend": true,
         "type": "scatter",
         "x": [
          "2025-04-10T00:00:00",
          "2025-04-11T00:00:00",
          "2025-04-12T00:00:00",
          "2025-04-13T00:00:00",
          "2025-04-14T00:00:00",
          "2025-04-15T00:00:00",
          "2025-04-16T00:00:00",
          "2025-04-17T00:00:00",
          "2025-04-18T00:00:00",
          "2025-04-19T00:00:00",
          "2025-04-20T00:00:00",
          "2025-04-21T00:00:00",
          "2025-04-22T00:00:00",
          "2025-04-23T00:00:00",
          "2025-04-24T00:00:00",
          "2025-04-25T00:00:00",
          "2025-04-26T00:00:00",
          "2025-04-27T00:00:00",
          "2025-04-28T00:00:00",
          "2025-04-29T00:00:00",
          "2025-04-30T00:00:00",
          "2025-05-01T00:00:00",
          "2025-05-02T00:00:00",
          "2025-05-03T00:00:00",
          "2025-05-04T00:00:00",
          "2025-05-05T00:00:00",
          "2025-05-06T00:00:00",
          "2025-05-07T00:00:00",
          "2025-05-08T00:00:00",
          "2025-05-09T00:00:00"
         ],
         "y": {
          "bdata": "9wZfmEwV5D9uowG8BRLkP6YKRiV1AuQ/7nw/NV664z8i/fZ14JzjPz7o2az6XOM/S8gHPZtV4z+yne+nxkvjPyo6kst/SOM/YqHWNO844z8ydy0hH/TiP0hQ/Bhz1+I/C0YldQKa4j/6fmq8dJPiP2FUUiegieI/2PD0SlmG4j/ysFBrmnfiP0vqBDQRNuI/Qxzr4jYa4j+sHFpkO9/hP5tVn6ut2OE/5IOezarP4T9cIEHxY8zhP3bgnBGlveE/dCSX/5B+4T8xCKwcWmThP0ATYcPTK+E/MEymCkYl4T94eqUsQxzhP/AWSFD8GOE/",
          "dtype": "f8"
         }
        },
        {
         "line": {
          "width": 0
         },
         "marker": {
          "color": "#68BBE3"
         },
         "mode": "lines",
         "name": "Lower Interval",
         "showlegend": false,
         "type": "scatter",
         "x": [
          "2025-04-10T00:00:00",
          "2025-04-11T00:00:00",
          "2025-04-12T00:00:00",
          "2025-04-13T00:00:00",
          "2025-04-14T00:00:00",
          "2025-04-15T00:00:00",
          "2025-04-16T00:00:00",
          "2025-04-17T00:00:00",
          "2025-04-18T00:00:00",
          "2025-04-19T00:00:00",
          "2025-04-20T00:00:00",
          "2025-04-21T00:00:00",
          "2025-04-22T00:00:00",
          "2025-04-23T00:00:00",
          "2025-04-24T00:00:00",
          "2025-04-25T00:00:00",
          "2025-04-26T00:00:00",
          "2025-04-27T00:00:00",
          "2025-04-28T00:00:00",
          "2025-04-29T00:00:00",
          "2025-04-30T00:00:00",
          "2025-05-01T00:00:00",
          "2025-05-02T00:00:00",
          "2025-05-03T00:00:00",
          "2025-05-04T00:00:00",
          "2025-05-05T00:00:00",
          "2025-05-06T00:00:00",
          "2025-05-07T00:00:00",
          "2025-05-08T00:00:00",
          "2025-05-09T00:00:00"
         ],
         "y": {
          "bdata": "yJi7lpAP0j8Sg8DKoUXSPxE2PL1SltE/MEymCkYl0T+OBvAWSFDQPzXvOEVHctE/M8SxLm6j0T+srdhfdk/SP2gibHh6pdA/I9v5fmq80D+62or9ZffQP5f/kH77OtA/seHplbIM0T9lqmBUUifQP1JJnYAmws4/io7k8h/Szz+xv+yePCzQPyS5/If0288/ArwFEhQ/zj/vOEVHcvnPP6H4MeauJdA/3nGKjuTyzz+TOgFNhA3PPybkg57Nqs8/uB6F61G4zj/zjlN0JJfPP7IubqMBvM0/vw6cM6K0zz+VZYhjXdzOP7pJDAIrh84/",
          "dtype": "f8"
         }
        },
        {
         "fill": "tonexty",
         "fillcolor": "rgba(104,187,227,0.5)",
         "line": {
          "width": 0
         },
         "marker": {
          "color": "#68BBE3"
         },
         "mode": "lines",
         "name": "Prediction Interval | Prophet",
         "showlegend": true,
         "type": "scatter",
         "x": [
          "2025-04-10T00:00:00",
          "2025-04-11T00:00:00",
          "2025-04-12T00:00:00",
          "2025-04-13T00:00:00",
          "2025-04-14T00:00:00",
          "2025-04-15T00:00:00",
          "2025-04-16T00:00:00",
          "2025-04-17T00:00:00",
          "2025-04-18T00:00:00",
          "2025-04-19T00:00:00",
          "2025-04-20T00:00:00",
          "2025-04-21T00:00:00",
          "2025-04-22T00:00:00",
          "2025-04-23T00:00:00",
          "2025-04-24T00:00:00",
          "2025-04-25T00:00:00",
          "2025-04-26T00:00:00",
          "2025-04-27T00:00:00",
          "2025-04-28T00:00:00",
          "2025-04-29T00:00:00",
          "2025-04-30T00:00:00",
          "2025-05-01T00:00:00",
          "2025-05-02T00:00:00",
          "2025-05-03T00:00:00",
          "2025-05-04T00:00:00",
          "2025-05-05T00:00:00",
          "2025-05-06T00:00:00",
          "2025-05-07T00:00:00",
          "2025-05-08T00:00:00",
          "2025-05-09T00:00:00"
         ],
         "y": {
          "bdata": "/mX35GGh9j8B3gIJih/3P3E9CtejcPU/Vn2utmJ/9j+yne+nxkv3P7UV+8vuyfU/DAIrhxbZ9T/2KFyPwvX2PyntDb4wmfU/4XoUrkfh9D9PQBNhw9P0P+lILv8h/fU/Z0Rpb/CF9D/99nXgnBH3Pzm0yHa+n/U/Dwu1pnnH9T9iEFg5tMj0P89m1edqK/Q/O3DOiNLe8z+srdhfdk/1P7FQa5p3nPU/Y+5aQj7o8z9U46WbxCD0Pz0s1JrmHfQ/lrIMcayL8z/ek4eFWtPzPwAAAAAAAPQ/YOXQItv58z8VjErqBDTzP8nlP6TfvvI/",
          "dtype": "f8"
         }
        },
        {
         "marker": {
          "color": "#3f3f3f",
          "size": 5
         },
         "mode": "lines+markers",
         "name": "Original",
         "showlegend": true,
         "type": "scatter",
         "x": [
          "2024-04-10T00:00:00",
          "2024-04-11T00:00:00",
          "2024-04-12T00:00:00",
          "2024-04-13T00:00:00",
          "2024-04-14T00:00:00",
          "2024-04-15T00:00:00",
          "2024-04-16T00:00:00",
          "2024-04-17T00:00:00",
          "2024-04-18T00:00:00",
          "2024-04-19T00:00:00",
          "2024-04-20T00:00:00",
          "2024-04-21T00:00:00",
          "2024-04-22T00:00:00",
          "2024-04-23T00:00:00",
          "2024-04-24T00:00:00",
          "2024-04-25T00:00:00",
          "2024-04-26T00:00:00",
          "2024-04-27T00:00:00",
          "2024-04-28T00:00:00",
          "2024-04-29T00:00:00",
          "2024-04-30T00:00:00",
          "2024-05-01T00:00:00",
          "2024-05-02T00:00:00",
          "2024-05-03T00:00:00",
          "2024-05-04T00:00:00",
          "2024-05-05T00:00:00",
          "2024-05-06T00:00:00",
          "2024-05-07T00:00:00",
          "2024-05-08T00:00:00",
          "2024-05-09T00:00:00",
          "2024-05-10T00:00:00",
          "2024-05-11T00:00:00",
          "2024-05-12T00:00:00",
          "2024-05-13T00:00:00",
          "2024-05-14T00:00:00",
          "2024-05-15T00:00:00",
          "2024-05-16T00:00:00",
          "2024-05-17T00:00:00",
          "2024-05-18T00:00:00",
          "2024-05-19T00:00:00",
          "2024-05-20T00:00:00",
          "2024-05-21T00:00:00",
          "2024-05-22T00:00:00",
          "2024-05-23T00:00:00",
          "2024-05-24T00:00:00",
          "2024-05-25T00:00:00",
          "2024-05-26T00:00:00",
          "2024-05-27T00:00:00",
          "2024-05-28T00:00:00",
          "2024-05-29T00:00:00",
          "2024-05-30T00:00:00",
          "2024-05-31T00:00:00",
          "2024-06-01T00:00:00",
          "2024-06-02T00:00:00",
          "2024-06-03T00:00:00",
          "2024-06-04T00:00:00",
          "2024-06-05T00:00:00",
          "2024-06-06T00:00:00",
          "2024-06-07T00:00:00",
          "2024-06-08T00:00:00",
          "2024-06-09T00:00:00",
          "2024-06-10T00:00:00",
          "2024-06-11T00:00:00",
          "2024-06-12T00:00:00",
          "2024-06-13T00:00:00",
          "2024-06-14T00:00:00",
          "2024-06-15T00:00:00",
          "2024-06-16T00:00:00",
          "2024-06-17T00:00:00",
          "2024-06-18T00:00:00",
          "2024-06-19T00:00:00",
          "2024-06-20T00:00:00",
          "2024-06-21T00:00:00",
          "2024-06-22T00:00:00",
          "2024-06-23T00:00:00",
          "2024-06-24T00:00:00",
          "2024-06-25T00:00:00",
          "2024-06-26T00:00:00",
          "2024-06-27T00:00:00",
          "2024-06-28T00:00:00",
          "2024-06-29T00:00:00",
          "2024-06-30T00:00:00",
          "2024-07-01T00:00:00",
          "2024-07-02T00:00:00",
          "2024-07-03T00:00:00",
          "2024-07-04T00:00:00",
          "2024-07-05T00:00:00",
          "2024-07-06T00:00:00",
          "2024-07-07T00:00:00",
          "2024-07-08T00:00:00",
          "2024-07-09T00:00:00",
          "2024-07-10T00:00:00",
          "2024-07-11T00:00:00",
          "2024-07-12T00:00:00",
          "2024-07-13T00:00:00",
          "2024-07-14T00:00:00",
          "2024-07-15T00:00:00",
          "2024-07-16T00:00:00",
          "2024-07-17T00:00:00",
          "2024-07-18T00:00:00",
          "2024-07-19T00:00:00",
          "2024-07-20T00:00:00",
          "2024-07-21T00:00:00",
          "2024-07-22T00:00:00",
          "2024-07-23T00:00:00",
          "2024-07-24T00:00:00",
          "2024-07-25T00:00:00",
          "2024-07-26T00:00:00",
          "2024-07-27T00:00:00",
          "2024-07-28T00:00:00",
          "2024-07-29T00:00:00",
          "2024-07-30T00:00:00",
          "2024-07-31T00:00:00",
          "2024-08-01T00:00:00",
          "2024-08-02T00:00:00",
          "2024-08-03T00:00:00",
          "2024-08-04T00:00:00",
          "2024-08-05T00:00:00",
          "2024-08-06T00:00:00",
          "2024-08-07T00:00:00",
          "2024-08-08T00:00:00",
          "2024-08-09T00:00:00",
          "2024-08-10T00:00:00",
          "2024-08-11T00:00:00",
          "2024-08-12T00:00:00",
          "2024-08-13T00:00:00",
          "2024-08-14T00:00:00",
          "2024-08-15T00:00:00",
          "2024-08-16T00:00:00",
          "2024-08-17T00:00:00",
          "2024-08-18T00:00:00",
          "2024-08-19T00:00:00",
          "2024-08-20T00:00:00",
          "2024-08-21T00:00:00",
          "2024-08-22T00:00:00",
          "2024-08-23T00:00:00",
          "2024-08-24T00:00:00",
          "2024-08-25T00:00:00",
          "2024-08-26T00:00:00",
          "2024-08-27T00:00:00",
          "2024-08-28T00:00:00",
          "2024-08-29T00:00:00",
          "2024-08-30T00:00:00",
          "2024-08-31T00:00:00",
          "2024-09-01T00:00:00",
          "2024-09-02T00:00:00",
          "2024-09-03T00:00:00",
          "2024-09-04T00:00:00",
          "2024-09-05T00:00:00",
          "2024-09-06T00:00:00",
          "2024-09-07T00:00:00",
          "2024-09-08T00:00:00",
          "2024-09-09T00:00:00",
          "2024-09-10T00:00:00",
          "2024-09-11T00:00:00",
          "2024-09-12T00:00:00",
          "2024-09-13T00:00:00",
          "2024-09-14T00:00:00",
          "2024-09-15T00:00:00",
          "2024-09-16T00:00:00",
          "2024-09-17T00:00:00",
          "2024-09-18T00:00:00",
          "2024-09-19T00:00:00",
          "2024-09-20T00:00:00",
          "2024-09-21T00:00:00",
          "2024-09-22T00:00:00",
          "2024-09-23T00:00:00",
          "2024-09-24T00:00:00",
          "2024-09-25T00:00:00",
          "2024-09-26T00:00:00",
          "2024-09-27T00:00:00",
          "2024-09-28T00:00:00",
          "2024-09-29T00:00:00",
          "2024-09-30T00:00:00",
          "2024-10-01T00:00:00",
          "2024-10-02T00:00:00",
          "2024-10-03T00:00:00",
          "2024-10-04T00:00:00",
          "2024-10-05T00:00:00",
          "2024-10-06T00:00:00",
          "2024-10-07T00:00:00",
          "2024-10-08T00:00:00",
          "2024-10-09T00:00:00",
          "2024-10-10T00:00:00",
          "2024-10-11T00:00:00",
          "2024-10-12T00:00:00",
          "2024-10-13T00:00:00",
          "2024-10-14T00:00:00",
          "2024-10-15T00:00:00",
          "2024-10-16T00:00:00",
          "2024-10-17T00:00:00",
          "2024-10-18T00:00:00",
          "2024-10-19T00:00:00",
          "2024-10-20T00:00:00",
          "2024-10-21T00:00:00",
          "2024-10-22T00:00:00",
          "2024-10-23T00:00:00",
          "2024-10-24T00:00:00",
          "2024-10-25T00:00:00",
          "2024-10-26T00:00:00",
          "2024-10-27T00:00:00",
          "2024-10-28T00:00:00",
          "2024-10-29T00:00:00",
          "2024-10-30T00:00:00",
          "2024-10-31T00:00:00",
          "2024-11-01T00:00:00",
          "2024-11-02T00:00:00",
          "2024-11-03T00:00:00",
          "2024-11-04T00:00:00",
          "2024-11-05T00:00:00",
          "2024-11-06T00:00:00",
          "2024-11-07T00:00:00",
          "2024-11-08T00:00:00",
          "2024-11-09T00:00:00",
          "2024-11-10T00:00:00",
          "2024-11-11T00:00:00",
          "2024-11-12T00:00:00",
          "2024-11-13T00:00:00",
          "2024-11-14T00:00:00",
          "2024-11-15T00:00:00",
          "2024-11-16T00:00:00",
          "2024-11-17T00:00:00",
          "2024-11-18T00:00:00",
          "2024-11-19T00:00:00",
          "2024-11-20T00:00:00",
          "2024-11-21T00:00:00",
          "2024-11-22T00:00:00",
          "2024-11-23T00:00:00",
          "2024-11-24T00:00:00",
          "2024-11-25T00:00:00",
          "2024-11-26T00:00:00",
          "2024-11-27T00:00:00",
          "2024-11-28T00:00:00",
          "2024-11-29T00:00:00",
          "2024-11-30T00:00:00",
          "2024-12-01T00:00:00",
          "2024-12-02T00:00:00",
          "2024-12-03T00:00:00",
          "2024-12-04T00:00:00",
          "2024-12-05T00:00:00",
          "2024-12-06T00:00:00",
          "2024-12-07T00:00:00",
          "2024-12-08T00:00:00",
          "2024-12-09T00:00:00",
          "2024-12-10T00:00:00",
          "2024-12-11T00:00:00",
          "2024-12-12T00:00:00",
          "2024-12-13T00:00:00",
          "2024-12-14T00:00:00",
          "2024-12-15T00:00:00",
          "2024-12-16T00:00:00",
          "2024-12-17T00:00:00",
          "2024-12-18T00:00:00",
          "2024-12-19T00:00:00",
          "2024-12-20T00:00:00",
          "2024-12-21T00:00:00",
          "2024-12-22T00:00:00",
          "2024-12-23T00:00:00",
          "2024-12-24T00:00:00",
          "2024-12-25T00:00:00",
          "2024-12-26T00:00:00",
          "2024-12-27T00:00:00",
          "2024-12-28T00:00:00",
          "2024-12-29T00:00:00",
          "2024-12-30T00:00:00",
          "2024-12-31T00:00:00",
          "2025-01-01T00:00:00",
          "2025-01-02T00:00:00",
          "2025-01-03T00:00:00",
          "2025-01-04T00:00:00",
          "2025-01-05T00:00:00",
          "2025-01-06T00:00:00",
          "2025-01-07T00:00:00",
          "2025-01-08T00:00:00",
          "2025-01-09T00:00:00",
          "2025-01-10T00:00:00",
          "2025-01-11T00:00:00",
          "2025-01-12T00:00:00",
          "2025-01-13T00:00:00",
          "2025-01-14T00:00:00",
          "2025-01-15T00:00:00",
          "2025-01-16T00:00:00",
          "2025-01-17T00:00:00",
          "2025-01-18T00:00:00",
          "2025-01-19T00:00:00",
          "2025-01-20T00:00:00",
          "2025-01-21T00:00:00",
          "2025-01-22T00:00:00",
          "2025-01-23T00:00:00",
          "2025-01-24T00:00:00",
          "2025-01-25T00:00:00",
          "2025-01-26T00:00:00",
          "2025-01-27T00:00:00",
          "2025-01-28T00:00:00",
          "2025-01-29T00:00:00",
          "2025-01-30T00:00:00",
          "2025-01-31T00:00:00",
          "2025-02-01T00:00:00",
          "2025-02-02T00:00:00",
          "2025-02-03T00:00:00",
          "2025-02-04T00:00:00",
          "2025-02-05T00:00:00",
          "2025-02-06T00:00:00",
          "2025-02-07T00:00:00",
          "2025-02-08T00:00:00",
          "2025-02-09T00:00:00",
          "2025-02-10T00:00:00",
          "2025-02-11T00:00:00",
          "2025-02-12T00:00:00",
          "2025-02-13T00:00:00",
          "2025-02-14T00:00:00",
          "2025-02-15T00:00:00",
          "2025-02-16T00:00:00",
          "2025-02-17T00:00:00",
          "2025-02-18T00:00:00",
          "2025-02-19T00:00:00",
          "2025-02-20T00:00:00",
          "2025-02-21T00:00:00",
          "2025-02-22T00:00:00",
          "2025-02-23T00:00:00",
          "2025-02-24T00:00:00",
          "2025-02-25T00:00:00",
          "2025-02-26T00:00:00",
          "2025-02-27T00:00:00",
          "2025-02-28T00:00:00",
          "2025-03-01T00:00:00",
          "2025-03-02T00:00:00",
          "2025-03-03T00:00:00",
          "2025-03-04T00:00:00",
          "2025-03-05T00:00:00",
          "2025-03-06T00:00:00",
          "2025-03-07T00:00:00",
          "2025-03-08T00:00:00",
          "2025-03-09T00:00:00",
          "2025-03-10T00:00:00",
          "2025-03-11T00:00:00",
          "2025-03-12T00:00:00",
          "2025-03-13T00:00:00",
          "2025-03-14T00:00:00",
          "2025-03-15T00:00:00",
          "2025-03-16T00:00:00",
          "2025-03-17T00:00:00",
          "2025-03-18T00:00:00",
          "2025-03-19T00:00:00",
          "2025-03-20T00:00:00",
          "2025-03-21T00:00:00",
          "2025-03-22T00:00:00",
          "2025-03-23T00:00:00",
          "2025-03-24T00:00:00",
          "2025-03-25T00:00:00",
          "2025-03-26T00:00:00",
          "2025-03-27T00:00:00",
          "2025-03-28T00:00:00",
          "2025-03-29T00:00:00",
          "2025-03-30T00:00:00",
          "2025-03-31T00:00:00",
          "2025-04-01T00:00:00",
          "2025-04-02T00:00:00",
          "2025-04-03T00:00:00",
          "2025-04-04T00:00:00",
          "2025-04-05T00:00:00",
          "2025-04-06T00:00:00",
          "2025-04-07T00:00:00",
          "2025-04-08T00:00:00",
          "2025-04-09T00:00:00"
         ],
         "y": {
          "bdata": "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",
          "dtype": "f8"
         }
        }
       ],
       "layout": {
        "showlegend": true,
        "template": {
         "data": {
          "bar": [
           {
            "error_x": {
             "color": "rgb(51,51,51)"
            },
            "error_y": {
             "color": "rgb(51,51,51)"
            },
            "marker": {
             "line": {
              "color": "rgb(237,237,237)",
              "width": 0.5
             },
             "pattern": {
              "fillmode": "overlay",
              "size": 10,
              "solidity": 0.2
             }
            },
            "type": "bar"
           }
          ],
          "barpolar": [
           {
            "marker": {
             "line": {
              "color": "rgb(237,237,237)",
              "width": 0.5
             },
             "pattern": {
              "fillmode": "overlay",
              "size": 10,
              "solidity": 0.2
             }
            },
            "type": "barpolar"
           }
          ],
          "carpet": [
           {
            "aaxis": {
             "endlinecolor": "rgb(51,51,51)",
             "gridcolor": "white",
             "linecolor": "white",
             "minorgridcolor": "white",
             "startlinecolor": "rgb(51,51,51)"
            },
            "baxis": {
             "endlinecolor": "rgb(51,51,51)",
             "gridcolor": "white",
             "linecolor": "white",
             "minorgridcolor": "white",
             "startlinecolor": "rgb(51,51,51)"
            },
            "type": "carpet"
           }
          ],
          "choropleth": [
           {
            "colorbar": {
             "outlinewidth": 0,
             "tickcolor": "rgb(237,237,237)",
             "ticklen": 6,
             "ticks": "inside"
            },
            "type": "choropleth"
           }
          ],
          "contour": [
           {
            "colorbar": {
             "outlinewidth": 0,
             "tickcolor": "rgb(237,237,237)",
             "ticklen": 6,
             "ticks": "inside"
            },
            "colorscale": [
             [
              0,
              "rgb(20,44,66)"
             ],
             [
              1,
              "rgb(90,179,244)"
             ]
            ],
            "type": "contour"
           }
          ],
          "contourcarpet": [
           {
            "colorbar": {
             "outlinewidth": 0,
             "tickcolor": "rgb(237,237,237)",
             "ticklen": 6,
             "ticks": "inside"
            },
            "type": "contourcarpet"
           }
          ],
          "heatmap": [
           {
            "colorbar": {
             "outlinewidth": 0,
             "tickcolor": "rgb(237,237,237)",
             "ticklen": 6,
             "ticks": "inside"
            },
            "colorscale": [
             [
              0,
              "rgb(20,44,66)"
             ],
             [
              1,
              "rgb(90,179,244)"
             ]
            ],
            "type": "heatmap"
           }
          ],
          "histogram": [
           {
            "marker": {
             "pattern": {
              "fillmode": "overlay",
              "size": 10,
              "solidity": 0.2
             }
            },
            "type": "histogram"
           }
          ],
          "histogram2d": [
           {
            "colorbar": {
             "outlinewidth": 0,
             "tickcolor": "rgb(237,237,237)",
             "ticklen": 6,
             "ticks": "inside"
            },
            "colorscale": [
             [
              0,
              "rgb(20,44,66)"
             ],
             [
              1,
              "rgb(90,179,244)"
             ]
            ],
            "type": "histogram2d"
           }
          ],
          "histogram2dcontour": [
           {
            "colorbar": {
             "outlinewidth": 0,
             "tickcolor": "rgb(237,237,237)",
             "ticklen": 6,
             "ticks": "inside"
            },
            "colorscale": [
             [
              0,
              "rgb(20,44,66)"
             ],
             [
              1,
              "rgb(90,179,244)"
             ]
            ],
            "type": "histogram2dcontour"
           }
          ],
          "mesh3d": [
           {
            "colorbar": {
             "outlinewidth": 0,
             "tickcolor": "rgb(237,237,237)",
             "ticklen": 6,
             "ticks": "inside"
            },
            "type": "mesh3d"
           }
          ],
          "parcoords": [
           {
            "line": {
             "colorbar": {
              "outlinewidth": 0,
              "tickcolor": "rgb(237,237,237)",
              "ticklen": 6,
              "ticks": "inside"
             }
            },
            "type": "parcoords"
           }
          ],
          "pie": [
           {
            "automargin": true,
            "type": "pie"
           }
          ],
          "scatter": [
           {
            "fillpattern": {
             "fillmode": "overlay",
             "size": 10,
             "solidity": 0.2
            },
            "type": "scatter"
           }
          ],
          "scatter3d": [
           {
            "line": {
             "colorbar": {
              "outlinewidth": 0,
              "tickcolor": "rgb(237,237,237)",
              "ticklen": 6,
              "ticks": "inside"
             }
            },
            "marker": {
             "colorbar": {
              "outlinewidth": 0,
              "tickcolor": "rgb(237,237,237)",
              "ticklen": 6,
              "ticks": "inside"
             }
            },
            "type": "scatter3d"
           }
          ],
          "scattercarpet": [
           {
            "marker": {
             "colorbar": {
              "outlinewidth": 0,
              "tickcolor": "rgb(237,237,237)",
              "ticklen": 6,
              "ticks": "inside"
             }
            },
            "type": "scattercarpet"
           }
          ],
          "scattergeo": [
           {
            "marker": {
             "colorbar": {
              "outlinewidth": 0,
              "tickcolor": "rgb(237,237,237)",
              "ticklen": 6,
              "ticks": "inside"
             }
            },
            "type": "scattergeo"
           }
          ],
          "scattergl": [
           {
            "marker": {
             "colorbar": {
              "outlinewidth": 0,
              "tickcolor": "rgb(237,237,237)",
              "ticklen": 6,
              "ticks": "inside"
             }
            },
            "type": "scattergl"
           }
          ],
          "scattermap": [
           {
            "marker": {
             "colorbar": {
              "outlinewidth": 0,
              "tickcolor": "rgb(237,237,237)",
              "ticklen": 6,
              "ticks": "inside"
             }
            },
            "type": "scattermap"
           }
          ],
          "scattermapbox": [
           {
            "marker": {
             "colorbar": {
              "outlinewidth": 0,
              "tickcolor": "rgb(237,237,237)",
              "ticklen": 6,
              "ticks": "inside"
             }
            },
            "type": "scattermapbox"
           }
          ],
          "scatterpolar": [
           {
            "marker": {
             "colorbar": {
              "outlinewidth": 0,
              "tickcolor": "rgb(237,237,237)",
              "ticklen": 6,
              "ticks": "inside"
             }
            },
            "type": "scatterpolar"
           }
          ],
          "scatterpolargl": [
           {
            "marker": {
             "colorbar": {
              "outlinewidth": 0,
              "tickcolor": "rgb(237,237,237)",
              "ticklen": 6,
              "ticks": "inside"
             }
            },
            "type": "scatterpolargl"
           }
          ],
          "scatterternary": [
           {
            "marker": {
             "colorbar": {
              "outlinewidth": 0,
              "tickcolor": "rgb(237,237,237)",
              "ticklen": 6,
              "ticks": "inside"
             }
            },
            "type": "scatterternary"
           }
          ],
          "surface": [
           {
            "colorbar": {
             "outlinewidth": 0,
             "tickcolor": "rgb(237,237,237)",
             "ticklen": 6,
             "ticks": "inside"
            },
            "colorscale": [
             [
              0,
              "rgb(20,44,66)"
             ],
             [
              1,
              "rgb(90,179,244)"
             ]
            ],
            "type": "surface"
           }
          ],
          "table": [
           {
            "cells": {
             "fill": {
              "color": "rgb(237,237,237)"
             },
             "line": {
              "color": "white"
             }
            },
            "header": {
             "fill": {
              "color": "rgb(217,217,217)"
             },
             "line": {
              "color": "white"
             }
            },
            "type": "table"
           }
          ]
         },
         "layout": {
          "annotationdefaults": {
           "arrowhead": 0,
           "arrowwidth": 1
          },
          "autotypenumbers": "strict",
          "coloraxis": {
           "colorbar": {
            "outlinewidth": 0,
            "tickcolor": "rgb(237,237,237)",
            "ticklen": 6,
            "ticks": "inside"
           }
          },
          "colorscale": {
           "sequential": [
            [
             0,
             "rgb(20,44,66)"
            ],
            [
             1,
             "rgb(90,179,244)"
            ]
           ],
           "sequentialminus": [
            [
             0,
             "rgb(20,44,66)"
            ],
            [
             1,
             "rgb(90,179,244)"
            ]
           ]
          },
          "colorway": [
           "#F8766D",
           "#A3A500",
           "#00BF7D",
           "#00B0F6",
           "#E76BF3"
          ],
          "font": {
           "color": "rgb(51,51,51)"
          },
          "geo": {
           "bgcolor": "white",
           "lakecolor": "white",
           "landcolor": "rgb(237,237,237)",
           "showlakes": true,
           "showland": true,
           "subunitcolor": "white"
          },
          "hoverlabel": {
           "align": "left"
          },
          "hovermode": "closest",
          "paper_bgcolor": "white",
          "plot_bgcolor": "rgb(237,237,237)",
          "polar": {
           "angularaxis": {
            "gridcolor": "white",
            "linecolor": "white",
            "showgrid": true,
            "tickcolor": "rgb(51,51,51)",
            "ticks": "outside"
           },
           "bgcolor": "rgb(237,237,237)",
           "radialaxis": {
            "gridcolor": "white",
            "linecolor": "white",
            "showgrid": true,
            "tickcolor": "rgb(51,51,51)",
            "ticks": "outside"
           }
          },
          "scene": {
           "xaxis": {
            "backgroundcolor": "rgb(237,237,237)",
            "gridcolor": "white",
            "gridwidth": 2,
            "linecolor": "white",
            "showbackground": true,
            "showgrid": true,
            "tickcolor": "rgb(51,51,51)",
            "ticks": "outside",
            "zerolinecolor": "white"
           },
           "yaxis": {
            "backgroundcolor": "rgb(237,237,237)",
            "gridcolor": "white",
            "gridwidth": 2,
            "linecolor": "white",
            "showbackground": true,
            "showgrid": true,
            "tickcolor": "rgb(51,51,51)",
            "ticks": "outside",
            "zerolinecolor": "white"
           },
           "zaxis": {
            "backgroundcolor": "rgb(237,237,237)",
            "gridcolor": "white",
            "gridwidth": 2,
            "linecolor": "white",
            "showbackground": true,
            "showgrid": true,
            "tickcolor": "rgb(51,51,51)",
            "ticks": "outside",
            "zerolinecolor": "white"
           }
          },
          "shapedefaults": {
           "fillcolor": "black",
           "line": {
            "width": 0
           },
           "opacity": 0.3
          },
          "ternary": {
           "aaxis": {
            "gridcolor": "white",
            "linecolor": "white",
            "showgrid": true,
            "tickcolor": "rgb(51,51,51)",
            "ticks": "outside"
           },
           "baxis": {
            "gridcolor": "white",
            "linecolor": "white",
            "showgrid": true,
            "tickcolor": "rgb(51,51,51)",
            "ticks": "outside"
           },
           "bgcolor": "rgb(237,237,237)",
           "caxis": {
            "gridcolor": "white",
            "linecolor": "white",
            "showgrid": true,
            "tickcolor": "rgb(51,51,51)",
            "ticks": "outside"
           }
          },
          "xaxis": {
           "automargin": true,
           "gridcolor": "white",
           "linecolor": "white",
           "showgrid": true,
           "tickcolor": "rgb(51,51,51)",
           "ticks": "outside",
           "title": {
            "standoff": 15
           },
           "zerolinecolor": "white"
          },
          "yaxis": {
           "automargin": true,
           "gridcolor": "white",
           "linecolor": "white",
           "showgrid": true,
           "tickcolor": "rgb(51,51,51)",
           "ticks": "outside",
           "title": {
            "standoff": 15
           },
           "zerolinecolor": "white"
          }
         }
        },
        "title": {
         "text": "Actual vs. 'Out-of-Sample' Forecast | WIF-USD"
        },
        "xaxis": {
         "title": {
          "text": "Time"
         }
        },
        "yaxis": {
         "title": {
          "text": "Values"
         }
        }
       }
      }
     },
     "metadata": {},
     "output_type": "display_data"
    }
   ],
   "source": [
    "wif = df.loc[:,'WIF-USD']\n",
    "# Set up PyCaret environment\n",
    "s = setup(data=wif, \n",
    "          target = 'WIF-USD',\n",
    "          transform_target='log',\n",
    "          fh=30,  # Forecast horizon\n",
    "          session_id=123,\n",
    "          fold_strategy='expanding',\n",
    "          seasonal_period='D',\n",
    "          #fold_spans=\"adaptive\",\n",
    "          numeric_imputation_target = 'drift')\n",
    "arima = create_model('arima')\n",
    "prophet = create_model('prophet')\n",
    "tuned_arima = tune_model(arima)\n",
    "tuned_prophet = tune_model(prophet)\n",
    "final_arima = finalize_model(tuned_arima)\n",
    "final_prophet = finalize_model(tuned_prophet)\n",
    "#future_dates = pd.date_range(df.index[-1], periods=30, freq='D')\n",
    "arima_predictions = predict_model(final_arima)\n",
    "prophet_predictions = predict_model(final_prophet)\n",
    "#Plot prophet model forecast\n",
    "plot_model(final_arima, plot='forecast')\n",
    "#Plot prophet model forecast\n",
    "plot_model(final_prophet, plot='forecast')"
   ]
  },
  {
   "cell_type": "markdown",
   "id": "a2342d98",
   "metadata": {},
   "source": [
    "ETH Forecast with ARIMA and Prophet"
   ]
  },
  {
   "cell_type": "code",
   "execution_count": 34,
   "id": "cafa7875",
   "metadata": {},
   "outputs": [
    {
     "data": {
      "text/html": [
       "<style type=\"text/css\">\n",
       "#T_396ba_row25_col1, #T_396ba_row31_col1 {\n",
       "  background-color: lightgreen;\n",
       "}\n",
       "</style>\n",
       "<table id=\"T_396ba\">\n",
       "  <thead>\n",
       "    <tr>\n",
       "      <th class=\"blank level0\" >&nbsp;</th>\n",
       "      <th id=\"T_396ba_level0_col0\" class=\"col_heading level0 col0\" >Description</th>\n",
       "      <th id=\"T_396ba_level0_col1\" class=\"col_heading level0 col1\" >Value</th>\n",
       "    </tr>\n",
       "  </thead>\n",
       "  <tbody>\n",
       "    <tr>\n",
       "      <th id=\"T_396ba_level0_row0\" class=\"row_heading level0 row0\" >0</th>\n",
       "      <td id=\"T_396ba_row0_col0\" class=\"data row0 col0\" >session_id</td>\n",
       "      <td id=\"T_396ba_row0_col1\" class=\"data row0 col1\" >123</td>\n",
       "    </tr>\n",
       "    <tr>\n",
       "      <th id=\"T_396ba_level0_row1\" class=\"row_heading level0 row1\" >1</th>\n",
       "      <td id=\"T_396ba_row1_col0\" class=\"data row1 col0\" >Target</td>\n",
       "      <td id=\"T_396ba_row1_col1\" class=\"data row1 col1\" >ETH-USD</td>\n",
       "    </tr>\n",
       "    <tr>\n",
       "      <th id=\"T_396ba_level0_row2\" class=\"row_heading level0 row2\" >2</th>\n",
       "      <td id=\"T_396ba_row2_col0\" class=\"data row2 col0\" >Approach</td>\n",
       "      <td id=\"T_396ba_row2_col1\" class=\"data row2 col1\" >Univariate</td>\n",
       "    </tr>\n",
       "    <tr>\n",
       "      <th id=\"T_396ba_level0_row3\" class=\"row_heading level0 row3\" >3</th>\n",
       "      <td id=\"T_396ba_row3_col0\" class=\"data row3 col0\" >Exogenous Variables</td>\n",
       "      <td id=\"T_396ba_row3_col1\" class=\"data row3 col1\" >Not Present</td>\n",
       "    </tr>\n",
       "    <tr>\n",
       "      <th id=\"T_396ba_level0_row4\" class=\"row_heading level0 row4\" >4</th>\n",
       "      <td id=\"T_396ba_row4_col0\" class=\"data row4 col0\" >Original data shape</td>\n",
       "      <td id=\"T_396ba_row4_col1\" class=\"data row4 col1\" >(365, 1)</td>\n",
       "    </tr>\n",
       "    <tr>\n",
       "      <th id=\"T_396ba_level0_row5\" class=\"row_heading level0 row5\" >5</th>\n",
       "      <td id=\"T_396ba_row5_col0\" class=\"data row5 col0\" >Transformed data shape</td>\n",
       "      <td id=\"T_396ba_row5_col1\" class=\"data row5 col1\" >(365, 1)</td>\n",
       "    </tr>\n",
       "    <tr>\n",
       "      <th id=\"T_396ba_level0_row6\" class=\"row_heading level0 row6\" >6</th>\n",
       "      <td id=\"T_396ba_row6_col0\" class=\"data row6 col0\" >Transformed train set shape</td>\n",
       "      <td id=\"T_396ba_row6_col1\" class=\"data row6 col1\" >(335, 1)</td>\n",
       "    </tr>\n",
       "    <tr>\n",
       "      <th id=\"T_396ba_level0_row7\" class=\"row_heading level0 row7\" >7</th>\n",
       "      <td id=\"T_396ba_row7_col0\" class=\"data row7 col0\" >Transformed test set shape</td>\n",
       "      <td id=\"T_396ba_row7_col1\" class=\"data row7 col1\" >(30, 1)</td>\n",
       "    </tr>\n",
       "    <tr>\n",
       "      <th id=\"T_396ba_level0_row8\" class=\"row_heading level0 row8\" >8</th>\n",
       "      <td id=\"T_396ba_row8_col0\" class=\"data row8 col0\" >Rows with missing values</td>\n",
       "      <td id=\"T_396ba_row8_col1\" class=\"data row8 col1\" >0.0%</td>\n",
       "    </tr>\n",
       "    <tr>\n",
       "      <th id=\"T_396ba_level0_row9\" class=\"row_heading level0 row9\" >9</th>\n",
       "      <td id=\"T_396ba_row9_col0\" class=\"data row9 col0\" >Fold Generator</td>\n",
       "      <td id=\"T_396ba_row9_col1\" class=\"data row9 col1\" >ExpandingWindowSplitter</td>\n",
       "    </tr>\n",
       "    <tr>\n",
       "      <th id=\"T_396ba_level0_row10\" class=\"row_heading level0 row10\" >10</th>\n",
       "      <td id=\"T_396ba_row10_col0\" class=\"data row10 col0\" >Fold Number</td>\n",
       "      <td id=\"T_396ba_row10_col1\" class=\"data row10 col1\" >3</td>\n",
       "    </tr>\n",
       "    <tr>\n",
       "      <th id=\"T_396ba_level0_row11\" class=\"row_heading level0 row11\" >11</th>\n",
       "      <td id=\"T_396ba_row11_col0\" class=\"data row11 col0\" >Enforce Prediction Interval</td>\n",
       "      <td id=\"T_396ba_row11_col1\" class=\"data row11 col1\" >False</td>\n",
       "    </tr>\n",
       "    <tr>\n",
       "      <th id=\"T_396ba_level0_row12\" class=\"row_heading level0 row12\" >12</th>\n",
       "      <td id=\"T_396ba_row12_col0\" class=\"data row12 col0\" >Splits used for hyperparameters</td>\n",
       "      <td id=\"T_396ba_row12_col1\" class=\"data row12 col1\" >all</td>\n",
       "    </tr>\n",
       "    <tr>\n",
       "      <th id=\"T_396ba_level0_row13\" class=\"row_heading level0 row13\" >13</th>\n",
       "      <td id=\"T_396ba_row13_col0\" class=\"data row13 col0\" >User Defined Seasonal Period(s)</td>\n",
       "      <td id=\"T_396ba_row13_col1\" class=\"data row13 col1\" >D</td>\n",
       "    </tr>\n",
       "    <tr>\n",
       "      <th id=\"T_396ba_level0_row14\" class=\"row_heading level0 row14\" >14</th>\n",
       "      <td id=\"T_396ba_row14_col0\" class=\"data row14 col0\" >Ignore Seasonality Test</td>\n",
       "      <td id=\"T_396ba_row14_col1\" class=\"data row14 col1\" >False</td>\n",
       "    </tr>\n",
       "    <tr>\n",
       "      <th id=\"T_396ba_level0_row15\" class=\"row_heading level0 row15\" >15</th>\n",
       "      <td id=\"T_396ba_row15_col0\" class=\"data row15 col0\" >Seasonality Detection Algo</td>\n",
       "      <td id=\"T_396ba_row15_col1\" class=\"data row15 col1\" >user_defined</td>\n",
       "    </tr>\n",
       "    <tr>\n",
       "      <th id=\"T_396ba_level0_row16\" class=\"row_heading level0 row16\" >16</th>\n",
       "      <td id=\"T_396ba_row16_col0\" class=\"data row16 col0\" >Max Period to Consider</td>\n",
       "      <td id=\"T_396ba_row16_col1\" class=\"data row16 col1\" >60</td>\n",
       "    </tr>\n",
       "    <tr>\n",
       "      <th id=\"T_396ba_level0_row17\" class=\"row_heading level0 row17\" >17</th>\n",
       "      <td id=\"T_396ba_row17_col0\" class=\"data row17 col0\" >Seasonal Period(s) Tested</td>\n",
       "      <td id=\"T_396ba_row17_col1\" class=\"data row17 col1\" >[7]</td>\n",
       "    </tr>\n",
       "    <tr>\n",
       "      <th id=\"T_396ba_level0_row18\" class=\"row_heading level0 row18\" >18</th>\n",
       "      <td id=\"T_396ba_row18_col0\" class=\"data row18 col0\" >Significant Seasonal Period(s)</td>\n",
       "      <td id=\"T_396ba_row18_col1\" class=\"data row18 col1\" >[7]</td>\n",
       "    </tr>\n",
       "    <tr>\n",
       "      <th id=\"T_396ba_level0_row19\" class=\"row_heading level0 row19\" >19</th>\n",
       "      <td id=\"T_396ba_row19_col0\" class=\"data row19 col0\" >Significant Seasonal Period(s) without Harmonics</td>\n",
       "      <td id=\"T_396ba_row19_col1\" class=\"data row19 col1\" >[7]</td>\n",
       "    </tr>\n",
       "    <tr>\n",
       "      <th id=\"T_396ba_level0_row20\" class=\"row_heading level0 row20\" >20</th>\n",
       "      <td id=\"T_396ba_row20_col0\" class=\"data row20 col0\" >Remove Harmonics</td>\n",
       "      <td id=\"T_396ba_row20_col1\" class=\"data row20 col1\" >False</td>\n",
       "    </tr>\n",
       "    <tr>\n",
       "      <th id=\"T_396ba_level0_row21\" class=\"row_heading level0 row21\" >21</th>\n",
       "      <td id=\"T_396ba_row21_col0\" class=\"data row21 col0\" >Harmonics Order Method</td>\n",
       "      <td id=\"T_396ba_row21_col1\" class=\"data row21 col1\" >harmonic_max</td>\n",
       "    </tr>\n",
       "    <tr>\n",
       "      <th id=\"T_396ba_level0_row22\" class=\"row_heading level0 row22\" >22</th>\n",
       "      <td id=\"T_396ba_row22_col0\" class=\"data row22 col0\" >Num Seasonalities to Use</td>\n",
       "      <td id=\"T_396ba_row22_col1\" class=\"data row22 col1\" >1</td>\n",
       "    </tr>\n",
       "    <tr>\n",
       "      <th id=\"T_396ba_level0_row23\" class=\"row_heading level0 row23\" >23</th>\n",
       "      <td id=\"T_396ba_row23_col0\" class=\"data row23 col0\" >All Seasonalities to Use</td>\n",
       "      <td id=\"T_396ba_row23_col1\" class=\"data row23 col1\" >[7]</td>\n",
       "    </tr>\n",
       "    <tr>\n",
       "      <th id=\"T_396ba_level0_row24\" class=\"row_heading level0 row24\" >24</th>\n",
       "      <td id=\"T_396ba_row24_col0\" class=\"data row24 col0\" >Primary Seasonality</td>\n",
       "      <td id=\"T_396ba_row24_col1\" class=\"data row24 col1\" >7</td>\n",
       "    </tr>\n",
       "    <tr>\n",
       "      <th id=\"T_396ba_level0_row25\" class=\"row_heading level0 row25\" >25</th>\n",
       "      <td id=\"T_396ba_row25_col0\" class=\"data row25 col0\" >Seasonality Present</td>\n",
       "      <td id=\"T_396ba_row25_col1\" class=\"data row25 col1\" >True</td>\n",
       "    </tr>\n",
       "    <tr>\n",
       "      <th id=\"T_396ba_level0_row26\" class=\"row_heading level0 row26\" >26</th>\n",
       "      <td id=\"T_396ba_row26_col0\" class=\"data row26 col0\" >Seasonality Type</td>\n",
       "      <td id=\"T_396ba_row26_col1\" class=\"data row26 col1\" >mul</td>\n",
       "    </tr>\n",
       "    <tr>\n",
       "      <th id=\"T_396ba_level0_row27\" class=\"row_heading level0 row27\" >27</th>\n",
       "      <td id=\"T_396ba_row27_col0\" class=\"data row27 col0\" >Target Strictly Positive</td>\n",
       "      <td id=\"T_396ba_row27_col1\" class=\"data row27 col1\" >True</td>\n",
       "    </tr>\n",
       "    <tr>\n",
       "      <th id=\"T_396ba_level0_row28\" class=\"row_heading level0 row28\" >28</th>\n",
       "      <td id=\"T_396ba_row28_col0\" class=\"data row28 col0\" >Target White Noise</td>\n",
       "      <td id=\"T_396ba_row28_col1\" class=\"data row28 col1\" >No</td>\n",
       "    </tr>\n",
       "    <tr>\n",
       "      <th id=\"T_396ba_level0_row29\" class=\"row_heading level0 row29\" >29</th>\n",
       "      <td id=\"T_396ba_row29_col0\" class=\"data row29 col0\" >Recommended d</td>\n",
       "      <td id=\"T_396ba_row29_col1\" class=\"data row29 col1\" >1</td>\n",
       "    </tr>\n",
       "    <tr>\n",
       "      <th id=\"T_396ba_level0_row30\" class=\"row_heading level0 row30\" >30</th>\n",
       "      <td id=\"T_396ba_row30_col0\" class=\"data row30 col0\" >Recommended Seasonal D</td>\n",
       "      <td id=\"T_396ba_row30_col1\" class=\"data row30 col1\" >0</td>\n",
       "    </tr>\n",
       "    <tr>\n",
       "      <th id=\"T_396ba_level0_row31\" class=\"row_heading level0 row31\" >31</th>\n",
       "      <td id=\"T_396ba_row31_col0\" class=\"data row31 col0\" >Preprocess</td>\n",
       "      <td id=\"T_396ba_row31_col1\" class=\"data row31 col1\" >True</td>\n",
       "    </tr>\n",
       "    <tr>\n",
       "      <th id=\"T_396ba_level0_row32\" class=\"row_heading level0 row32\" >32</th>\n",
       "      <td id=\"T_396ba_row32_col0\" class=\"data row32 col0\" >Numerical Imputation (Target)</td>\n",
       "      <td id=\"T_396ba_row32_col1\" class=\"data row32 col1\" >drift</td>\n",
       "    </tr>\n",
       "    <tr>\n",
       "      <th id=\"T_396ba_level0_row33\" class=\"row_heading level0 row33\" >33</th>\n",
       "      <td id=\"T_396ba_row33_col0\" class=\"data row33 col0\" >Transformation (Target)</td>\n",
       "      <td id=\"T_396ba_row33_col1\" class=\"data row33 col1\" >None</td>\n",
       "    </tr>\n",
       "    <tr>\n",
       "      <th id=\"T_396ba_level0_row34\" class=\"row_heading level0 row34\" >34</th>\n",
       "      <td id=\"T_396ba_row34_col0\" class=\"data row34 col0\" >Scaling (Target)</td>\n",
       "      <td id=\"T_396ba_row34_col1\" class=\"data row34 col1\" >None</td>\n",
       "    </tr>\n",
       "    <tr>\n",
       "      <th id=\"T_396ba_level0_row35\" class=\"row_heading level0 row35\" >35</th>\n",
       "      <td id=\"T_396ba_row35_col0\" class=\"data row35 col0\" >Feature Engineering (Target) - Reduced Regression</td>\n",
       "      <td id=\"T_396ba_row35_col1\" class=\"data row35 col1\" >False</td>\n",
       "    </tr>\n",
       "    <tr>\n",
       "      <th id=\"T_396ba_level0_row36\" class=\"row_heading level0 row36\" >36</th>\n",
       "      <td id=\"T_396ba_row36_col0\" class=\"data row36 col0\" >CPU Jobs</td>\n",
       "      <td id=\"T_396ba_row36_col1\" class=\"data row36 col1\" >-1</td>\n",
       "    </tr>\n",
       "    <tr>\n",
       "      <th id=\"T_396ba_level0_row37\" class=\"row_heading level0 row37\" >37</th>\n",
       "      <td id=\"T_396ba_row37_col0\" class=\"data row37 col0\" >Use GPU</td>\n",
       "      <td id=\"T_396ba_row37_col1\" class=\"data row37 col1\" >False</td>\n",
       "    </tr>\n",
       "    <tr>\n",
       "      <th id=\"T_396ba_level0_row38\" class=\"row_heading level0 row38\" >38</th>\n",
       "      <td id=\"T_396ba_row38_col0\" class=\"data row38 col0\" >Log Experiment</td>\n",
       "      <td id=\"T_396ba_row38_col1\" class=\"data row38 col1\" >False</td>\n",
       "    </tr>\n",
       "    <tr>\n",
       "      <th id=\"T_396ba_level0_row39\" class=\"row_heading level0 row39\" >39</th>\n",
       "      <td id=\"T_396ba_row39_col0\" class=\"data row39 col0\" >Experiment Name</td>\n",
       "      <td id=\"T_396ba_row39_col1\" class=\"data row39 col1\" >ts-default-name</td>\n",
       "    </tr>\n",
       "    <tr>\n",
       "      <th id=\"T_396ba_level0_row40\" class=\"row_heading level0 row40\" >40</th>\n",
       "      <td id=\"T_396ba_row40_col0\" class=\"data row40 col0\" >USI</td>\n",
       "      <td id=\"T_396ba_row40_col1\" class=\"data row40 col1\" >51db</td>\n",
       "    </tr>\n",
       "  </tbody>\n",
       "</table>\n"
      ],
      "text/plain": [
       "<pandas.io.formats.style.Styler at 0x1bcc7c2eb50>"
      ]
     },
     "metadata": {},
     "output_type": "display_data"
    },
    {
     "data": {
      "text/html": [],
      "text/plain": [
       "<IPython.core.display.HTML object>"
      ]
     },
     "metadata": {},
     "output_type": "display_data"
    },
    {
     "data": {
      "text/html": [
       "<style type=\"text/css\">\n",
       "#T_e4d47_row3_col0, #T_e4d47_row3_col1, #T_e4d47_row3_col2, #T_e4d47_row3_col3, #T_e4d47_row3_col4, #T_e4d47_row3_col5, #T_e4d47_row3_col6, #T_e4d47_row3_col7 {\n",
       "  background: yellow;\n",
       "}\n",
       "</style>\n",
       "<table id=\"T_e4d47\">\n",
       "  <thead>\n",
       "    <tr>\n",
       "      <th class=\"blank level0\" >&nbsp;</th>\n",
       "      <th id=\"T_e4d47_level0_col0\" class=\"col_heading level0 col0\" >cutoff</th>\n",
       "      <th id=\"T_e4d47_level0_col1\" class=\"col_heading level0 col1\" >MASE</th>\n",
       "      <th id=\"T_e4d47_level0_col2\" class=\"col_heading level0 col2\" >RMSSE</th>\n",
       "      <th id=\"T_e4d47_level0_col3\" class=\"col_heading level0 col3\" >MAE</th>\n",
       "      <th id=\"T_e4d47_level0_col4\" class=\"col_heading level0 col4\" >RMSE</th>\n",
       "      <th id=\"T_e4d47_level0_col5\" class=\"col_heading level0 col5\" >MAPE</th>\n",
       "      <th id=\"T_e4d47_level0_col6\" class=\"col_heading level0 col6\" >SMAPE</th>\n",
       "      <th id=\"T_e4d47_level0_col7\" class=\"col_heading level0 col7\" >R2</th>\n",
       "    </tr>\n",
       "  </thead>\n",
       "  <tbody>\n",
       "    <tr>\n",
       "      <th id=\"T_e4d47_level0_row0\" class=\"row_heading level0 row0\" >0</th>\n",
       "      <td id=\"T_e4d47_row0_col0\" class=\"data row0 col0\" >2024-12-10</td>\n",
       "      <td id=\"T_e4d47_row0_col1\" class=\"data row0 col1\" >1.6578</td>\n",
       "      <td id=\"T_e4d47_row0_col2\" class=\"data row0 col2\" >1.4095</td>\n",
       "      <td id=\"T_e4d47_row0_col3\" class=\"data row0 col3\" >340.6291</td>\n",
       "      <td id=\"T_e4d47_row0_col4\" class=\"data row0 col4\" >395.1125</td>\n",
       "      <td id=\"T_e4d47_row0_col5\" class=\"data row0 col5\" >0.0992</td>\n",
       "      <td id=\"T_e4d47_row0_col6\" class=\"data row0 col6\" >0.0932</td>\n",
       "      <td id=\"T_e4d47_row0_col7\" class=\"data row0 col7\" >-1.9618</td>\n",
       "    </tr>\n",
       "    <tr>\n",
       "      <th id=\"T_e4d47_level0_row1\" class=\"row_heading level0 row1\" >1</th>\n",
       "      <td id=\"T_e4d47_row1_col0\" class=\"data row1 col0\" >2025-01-09</td>\n",
       "      <td id=\"T_e4d47_row1_col1\" class=\"data row1 col1\" >1.1915</td>\n",
       "      <td id=\"T_e4d47_row1_col2\" class=\"data row1 col2\" >1.1007</td>\n",
       "      <td id=\"T_e4d47_row1_col3\" class=\"data row1 col3\" >246.7682</td>\n",
       "      <td id=\"T_e4d47_row1_col4\" class=\"data row1 col4\" >308.5468</td>\n",
       "      <td id=\"T_e4d47_row1_col5\" class=\"data row1 col5\" >0.0830</td>\n",
       "      <td id=\"T_e4d47_row1_col6\" class=\"data row1 col6\" >0.0782</td>\n",
       "      <td id=\"T_e4d47_row1_col7\" class=\"data row1 col7\" >-0.6804</td>\n",
       "    </tr>\n",
       "    <tr>\n",
       "      <th id=\"T_e4d47_level0_row2\" class=\"row_heading level0 row2\" >2</th>\n",
       "      <td id=\"T_e4d47_row2_col0\" class=\"data row2 col0\" >2025-02-08</td>\n",
       "      <td id=\"T_e4d47_row2_col1\" class=\"data row2 col1\" >1.0155</td>\n",
       "      <td id=\"T_e4d47_row2_col2\" class=\"data row2 col2\" >0.8679</td>\n",
       "      <td id=\"T_e4d47_row2_col3\" class=\"data row2 col3\" >212.3224</td>\n",
       "      <td id=\"T_e4d47_row2_col4\" class=\"data row2 col4\" >243.9238</td>\n",
       "      <td id=\"T_e4d47_row2_col5\" class=\"data row2 col5\" >0.0846</td>\n",
       "      <td id=\"T_e4d47_row2_col6\" class=\"data row2 col6\" >0.0871</td>\n",
       "      <td id=\"T_e4d47_row2_col7\" class=\"data row2 col7\" >0.1446</td>\n",
       "    </tr>\n",
       "    <tr>\n",
       "      <th id=\"T_e4d47_level0_row3\" class=\"row_heading level0 row3\" >Mean</th>\n",
       "      <td id=\"T_e4d47_row3_col0\" class=\"data row3 col0\" >NaT</td>\n",
       "      <td id=\"T_e4d47_row3_col1\" class=\"data row3 col1\" >1.2883</td>\n",
       "      <td id=\"T_e4d47_row3_col2\" class=\"data row3 col2\" >1.1260</td>\n",
       "      <td id=\"T_e4d47_row3_col3\" class=\"data row3 col3\" >266.5732</td>\n",
       "      <td id=\"T_e4d47_row3_col4\" class=\"data row3 col4\" >315.8611</td>\n",
       "      <td id=\"T_e4d47_row3_col5\" class=\"data row3 col5\" >0.0890</td>\n",
       "      <td id=\"T_e4d47_row3_col6\" class=\"data row3 col6\" >0.0862</td>\n",
       "      <td id=\"T_e4d47_row3_col7\" class=\"data row3 col7\" >-0.8325</td>\n",
       "    </tr>\n",
       "    <tr>\n",
       "      <th id=\"T_e4d47_level0_row4\" class=\"row_heading level0 row4\" >SD</th>\n",
       "      <td id=\"T_e4d47_row4_col0\" class=\"data row4 col0\" >NaT</td>\n",
       "      <td id=\"T_e4d47_row4_col1\" class=\"data row4 col1\" >0.2710</td>\n",
       "      <td id=\"T_e4d47_row4_col2\" class=\"data row4 col2\" >0.2218</td>\n",
       "      <td id=\"T_e4d47_row4_col3\" class=\"data row4 col3\" >54.2207</td>\n",
       "      <td id=\"T_e4d47_row4_col4\" class=\"data row4 col4\" >61.9388</td>\n",
       "      <td id=\"T_e4d47_row4_col5\" class=\"data row4 col5\" >0.0073</td>\n",
       "      <td id=\"T_e4d47_row4_col6\" class=\"data row4 col6\" >0.0062</td>\n",
       "      <td id=\"T_e4d47_row4_col7\" class=\"data row4 col7\" >0.8666</td>\n",
       "    </tr>\n",
       "  </tbody>\n",
       "</table>\n"
      ],
      "text/plain": [
       "<pandas.io.formats.style.Styler at 0x1bcc7d204c0>"
      ]
     },
     "metadata": {},
     "output_type": "display_data"
    },
    {
     "data": {
      "text/html": [],
      "text/plain": [
       "<IPython.core.display.HTML object>"
      ]
     },
     "metadata": {},
     "output_type": "display_data"
    },
    {
     "data": {
      "text/html": [],
      "text/plain": [
       "<IPython.core.display.HTML object>"
      ]
     },
     "metadata": {},
     "output_type": "display_data"
    },
    {
     "data": {
      "text/html": [
       "<style type=\"text/css\">\n",
       "#T_c4995_row3_col0, #T_c4995_row3_col1, #T_c4995_row3_col2, #T_c4995_row3_col3, #T_c4995_row3_col4, #T_c4995_row3_col5, #T_c4995_row3_col6, #T_c4995_row3_col7 {\n",
       "  background: yellow;\n",
       "}\n",
       "</style>\n",
       "<table id=\"T_c4995\">\n",
       "  <thead>\n",
       "    <tr>\n",
       "      <th class=\"blank level0\" >&nbsp;</th>\n",
       "      <th id=\"T_c4995_level0_col0\" class=\"col_heading level0 col0\" >cutoff</th>\n",
       "      <th id=\"T_c4995_level0_col1\" class=\"col_heading level0 col1\" >MASE</th>\n",
       "      <th id=\"T_c4995_level0_col2\" class=\"col_heading level0 col2\" >RMSSE</th>\n",
       "      <th id=\"T_c4995_level0_col3\" class=\"col_heading level0 col3\" >MAE</th>\n",
       "      <th id=\"T_c4995_level0_col4\" class=\"col_heading level0 col4\" >RMSE</th>\n",
       "      <th id=\"T_c4995_level0_col5\" class=\"col_heading level0 col5\" >MAPE</th>\n",
       "      <th id=\"T_c4995_level0_col6\" class=\"col_heading level0 col6\" >SMAPE</th>\n",
       "      <th id=\"T_c4995_level0_col7\" class=\"col_heading level0 col7\" >R2</th>\n",
       "    </tr>\n",
       "  </thead>\n",
       "  <tbody>\n",
       "    <tr>\n",
       "      <th id=\"T_c4995_level0_row0\" class=\"row_heading level0 row0\" >0</th>\n",
       "      <td id=\"T_c4995_row0_col0\" class=\"data row0 col0\" >2024-12-10</td>\n",
       "      <td id=\"T_c4995_row0_col1\" class=\"data row0 col1\" >2.8949</td>\n",
       "      <td id=\"T_c4995_row0_col2\" class=\"data row0 col2\" >2.4381</td>\n",
       "      <td id=\"T_c4995_row0_col3\" class=\"data row0 col3\" >594.7950</td>\n",
       "      <td id=\"T_c4995_row0_col4\" class=\"data row0 col4\" >683.4772</td>\n",
       "      <td id=\"T_c4995_row0_col5\" class=\"data row0 col5\" >0.1739</td>\n",
       "      <td id=\"T_c4995_row0_col6\" class=\"data row0 col6\" >0.1560</td>\n",
       "      <td id=\"T_c4995_row0_col7\" class=\"data row0 col7\" >-7.8625</td>\n",
       "    </tr>\n",
       "    <tr>\n",
       "      <th id=\"T_c4995_level0_row1\" class=\"row_heading level0 row1\" >1</th>\n",
       "      <td id=\"T_c4995_row1_col0\" class=\"data row1 col0\" >2025-01-09</td>\n",
       "      <td id=\"T_c4995_row1_col1\" class=\"data row1 col1\" >4.2545</td>\n",
       "      <td id=\"T_c4995_row1_col2\" class=\"data row1 col2\" >3.3666</td>\n",
       "      <td id=\"T_c4995_row1_col3\" class=\"data row1 col3\" >881.1595</td>\n",
       "      <td id=\"T_c4995_row1_col4\" class=\"data row1 col4\" >943.6853</td>\n",
       "      <td id=\"T_c4995_row1_col5\" class=\"data row1 col5\" >0.2910</td>\n",
       "      <td id=\"T_c4995_row1_col6\" class=\"data row1 col6\" >0.2479</td>\n",
       "      <td id=\"T_c4995_row1_col7\" class=\"data row1 col7\" >-14.7194</td>\n",
       "    </tr>\n",
       "    <tr>\n",
       "      <th id=\"T_c4995_level0_row2\" class=\"row_heading level0 row2\" >2</th>\n",
       "      <td id=\"T_c4995_row2_col0\" class=\"data row2 col0\" >2025-02-08</td>\n",
       "      <td id=\"T_c4995_row2_col1\" class=\"data row2 col1\" >2.2729</td>\n",
       "      <td id=\"T_c4995_row2_col2\" class=\"data row2 col2\" >1.8426</td>\n",
       "      <td id=\"T_c4995_row2_col3\" class=\"data row2 col3\" >475.2470</td>\n",
       "      <td id=\"T_c4995_row2_col4\" class=\"data row2 col4\" >517.8766</td>\n",
       "      <td id=\"T_c4995_row2_col5\" class=\"data row2 col5\" >0.2043</td>\n",
       "      <td id=\"T_c4995_row2_col6\" class=\"data row2 col6\" >0.1807</td>\n",
       "      <td id=\"T_c4995_row2_col7\" class=\"data row2 col7\" >-2.8559</td>\n",
       "    </tr>\n",
       "    <tr>\n",
       "      <th id=\"T_c4995_level0_row3\" class=\"row_heading level0 row3\" >Mean</th>\n",
       "      <td id=\"T_c4995_row3_col0\" class=\"data row3 col0\" >NaT</td>\n",
       "      <td id=\"T_c4995_row3_col1\" class=\"data row3 col1\" >3.1408</td>\n",
       "      <td id=\"T_c4995_row3_col2\" class=\"data row3 col2\" >2.5491</td>\n",
       "      <td id=\"T_c4995_row3_col3\" class=\"data row3 col3\" >650.4005</td>\n",
       "      <td id=\"T_c4995_row3_col4\" class=\"data row3 col4\" >715.0130</td>\n",
       "      <td id=\"T_c4995_row3_col5\" class=\"data row3 col5\" >0.2231</td>\n",
       "      <td id=\"T_c4995_row3_col6\" class=\"data row3 col6\" >0.1949</td>\n",
       "      <td id=\"T_c4995_row3_col7\" class=\"data row3 col7\" >-8.4793</td>\n",
       "    </tr>\n",
       "    <tr>\n",
       "      <th id=\"T_c4995_level0_row4\" class=\"row_heading level0 row4\" >SD</th>\n",
       "      <td id=\"T_c4995_row4_col0\" class=\"data row4 col0\" >NaT</td>\n",
       "      <td id=\"T_c4995_row4_col1\" class=\"data row4 col1\" >0.8275</td>\n",
       "      <td id=\"T_c4995_row4_col2\" class=\"data row4 col2\" >0.6271</td>\n",
       "      <td id=\"T_c4995_row4_col3\" class=\"data row4 col3\" >170.3139</td>\n",
       "      <td id=\"T_c4995_row4_col4\" class=\"data row4 col4\" >175.2600</td>\n",
       "      <td id=\"T_c4995_row4_col5\" class=\"data row4 col5\" >0.0496</td>\n",
       "      <td id=\"T_c4995_row4_col6\" class=\"data row4 col6\" >0.0388</td>\n",
       "      <td id=\"T_c4995_row4_col7\" class=\"data row4 col7\" >4.8628</td>\n",
       "    </tr>\n",
       "  </tbody>\n",
       "</table>\n"
      ],
      "text/plain": [
       "<pandas.io.formats.style.Styler at 0x1bcc1398a60>"
      ]
     },
     "metadata": {},
     "output_type": "display_data"
    },
    {
     "data": {
      "text/html": [],
      "text/plain": [
       "<IPython.core.display.HTML object>"
      ]
     },
     "metadata": {},
     "output_type": "display_data"
    },
    {
     "data": {
      "text/html": [],
      "text/plain": [
       "<IPython.core.display.HTML object>"
      ]
     },
     "metadata": {},
     "output_type": "display_data"
    },
    {
     "data": {
      "text/html": [
       "<style type=\"text/css\">\n",
       "#T_7a235_row3_col0, #T_7a235_row3_col1, #T_7a235_row3_col2, #T_7a235_row3_col3, #T_7a235_row3_col4, #T_7a235_row3_col5, #T_7a235_row3_col6, #T_7a235_row3_col7 {\n",
       "  background: yellow;\n",
       "}\n",
       "</style>\n",
       "<table id=\"T_7a235\">\n",
       "  <thead>\n",
       "    <tr>\n",
       "      <th class=\"blank level0\" >&nbsp;</th>\n",
       "      <th id=\"T_7a235_level0_col0\" class=\"col_heading level0 col0\" >cutoff</th>\n",
       "      <th id=\"T_7a235_level0_col1\" class=\"col_heading level0 col1\" >MASE</th>\n",
       "      <th id=\"T_7a235_level0_col2\" class=\"col_heading level0 col2\" >RMSSE</th>\n",
       "      <th id=\"T_7a235_level0_col3\" class=\"col_heading level0 col3\" >MAE</th>\n",
       "      <th id=\"T_7a235_level0_col4\" class=\"col_heading level0 col4\" >RMSE</th>\n",
       "      <th id=\"T_7a235_level0_col5\" class=\"col_heading level0 col5\" >MAPE</th>\n",
       "      <th id=\"T_7a235_level0_col6\" class=\"col_heading level0 col6\" >SMAPE</th>\n",
       "      <th id=\"T_7a235_level0_col7\" class=\"col_heading level0 col7\" >R2</th>\n",
       "    </tr>\n",
       "  </thead>\n",
       "  <tbody>\n",
       "    <tr>\n",
       "      <th id=\"T_7a235_level0_row0\" class=\"row_heading level0 row0\" >0</th>\n",
       "      <td id=\"T_7a235_row0_col0\" class=\"data row0 col0\" >2024-12-10</td>\n",
       "      <td id=\"T_7a235_row0_col1\" class=\"data row0 col1\" >0.8320</td>\n",
       "      <td id=\"T_7a235_row0_col2\" class=\"data row0 col2\" >0.7893</td>\n",
       "      <td id=\"T_7a235_row0_col3\" class=\"data row0 col3\" >170.9490</td>\n",
       "      <td id=\"T_7a235_row0_col4\" class=\"data row0 col4\" >221.2596</td>\n",
       "      <td id=\"T_7a235_row0_col5\" class=\"data row0 col5\" >0.0464</td>\n",
       "      <td id=\"T_7a235_row0_col6\" class=\"data row0 col6\" >0.0481</td>\n",
       "      <td id=\"T_7a235_row0_col7\" class=\"data row0 col7\" >0.0712</td>\n",
       "    </tr>\n",
       "    <tr>\n",
       "      <th id=\"T_7a235_level0_row1\" class=\"row_heading level0 row1\" >1</th>\n",
       "      <td id=\"T_7a235_row1_col0\" class=\"data row1 col0\" >2025-01-09</td>\n",
       "      <td id=\"T_7a235_row1_col1\" class=\"data row1 col1\" >0.7678</td>\n",
       "      <td id=\"T_7a235_row1_col2\" class=\"data row1 col2\" >0.7038</td>\n",
       "      <td id=\"T_7a235_row1_col3\" class=\"data row1 col3\" >159.0162</td>\n",
       "      <td id=\"T_7a235_row1_col4\" class=\"data row1 col4\" >197.2701</td>\n",
       "      <td id=\"T_7a235_row1_col5\" class=\"data row1 col5\" >0.0530</td>\n",
       "      <td id=\"T_7a235_row1_col6\" class=\"data row1 col6\" >0.0519</td>\n",
       "      <td id=\"T_7a235_row1_col7\" class=\"data row1 col7\" >0.3131</td>\n",
       "    </tr>\n",
       "    <tr>\n",
       "      <th id=\"T_7a235_level0_row2\" class=\"row_heading level0 row2\" >2</th>\n",
       "      <td id=\"T_7a235_row2_col0\" class=\"data row2 col0\" >2025-02-08</td>\n",
       "      <td id=\"T_7a235_row2_col1\" class=\"data row2 col1\" >1.2055</td>\n",
       "      <td id=\"T_7a235_row2_col2\" class=\"data row2 col2\" >1.2246</td>\n",
       "      <td id=\"T_7a235_row2_col3\" class=\"data row2 col3\" >252.0635</td>\n",
       "      <td id=\"T_7a235_row2_col4\" class=\"data row2 col4\" >344.1854</td>\n",
       "      <td id=\"T_7a235_row2_col5\" class=\"data row2 col5\" >0.1140</td>\n",
       "      <td id=\"T_7a235_row2_col6\" class=\"data row2 col6\" >0.1026</td>\n",
       "      <td id=\"T_7a235_row2_col7\" class=\"data row2 col7\" >-0.7032</td>\n",
       "    </tr>\n",
       "    <tr>\n",
       "      <th id=\"T_7a235_level0_row3\" class=\"row_heading level0 row3\" >Mean</th>\n",
       "      <td id=\"T_7a235_row3_col0\" class=\"data row3 col0\" >NaT</td>\n",
       "      <td id=\"T_7a235_row3_col1\" class=\"data row3 col1\" >0.9351</td>\n",
       "      <td id=\"T_7a235_row3_col2\" class=\"data row3 col2\" >0.9059</td>\n",
       "      <td id=\"T_7a235_row3_col3\" class=\"data row3 col3\" >194.0096</td>\n",
       "      <td id=\"T_7a235_row3_col4\" class=\"data row3 col4\" >254.2383</td>\n",
       "      <td id=\"T_7a235_row3_col5\" class=\"data row3 col5\" >0.0712</td>\n",
       "      <td id=\"T_7a235_row3_col6\" class=\"data row3 col6\" >0.0675</td>\n",
       "      <td id=\"T_7a235_row3_col7\" class=\"data row3 col7\" >-0.1063</td>\n",
       "    </tr>\n",
       "    <tr>\n",
       "      <th id=\"T_7a235_level0_row4\" class=\"row_heading level0 row4\" >SD</th>\n",
       "      <td id=\"T_7a235_row4_col0\" class=\"data row4 col0\" >NaT</td>\n",
       "      <td id=\"T_7a235_row4_col1\" class=\"data row4 col1\" >0.1930</td>\n",
       "      <td id=\"T_7a235_row4_col2\" class=\"data row4 col2\" >0.2281</td>\n",
       "      <td id=\"T_7a235_row4_col3\" class=\"data row4 col3\" >41.3384</td>\n",
       "      <td id=\"T_7a235_row4_col4\" class=\"data row4 col4\" >64.3518</td>\n",
       "      <td id=\"T_7a235_row4_col5\" class=\"data row4 col5\" >0.0304</td>\n",
       "      <td id=\"T_7a235_row4_col6\" class=\"data row4 col6\" >0.0249</td>\n",
       "      <td id=\"T_7a235_row4_col7\" class=\"data row4 col7\" >0.4335</td>\n",
       "    </tr>\n",
       "  </tbody>\n",
       "</table>\n"
      ],
      "text/plain": [
       "<pandas.io.formats.style.Styler at 0x1bcc8e9feb0>"
      ]
     },
     "metadata": {},
     "output_type": "display_data"
    },
    {
     "data": {
      "text/html": [],
      "text/plain": [
       "<IPython.core.display.HTML object>"
      ]
     },
     "metadata": {},
     "output_type": "display_data"
    },
    {
     "name": "stdout",
     "output_type": "stream",
     "text": [
      "Fitting 3 folds for each of 10 candidates, totalling 30 fits\n"
     ]
    },
    {
     "name": "stderr",
     "output_type": "stream",
     "text": [
      "[Parallel(n_jobs=-1)]: Using backend LokyBackend with 8 concurrent workers.\n",
      "[Parallel(n_jobs=-1)]: Done  30 out of  30 | elapsed:    6.2s finished\n"
     ]
    },
    {
     "data": {
      "text/html": [],
      "text/plain": [
       "<IPython.core.display.HTML object>"
      ]
     },
     "metadata": {},
     "output_type": "display_data"
    },
    {
     "data": {
      "text/html": [
       "<style type=\"text/css\">\n",
       "#T_bf2a0_row3_col0, #T_bf2a0_row3_col1, #T_bf2a0_row3_col2, #T_bf2a0_row3_col3, #T_bf2a0_row3_col4, #T_bf2a0_row3_col5, #T_bf2a0_row3_col6, #T_bf2a0_row3_col7 {\n",
       "  background: yellow;\n",
       "}\n",
       "</style>\n",
       "<table id=\"T_bf2a0\">\n",
       "  <thead>\n",
       "    <tr>\n",
       "      <th class=\"blank level0\" >&nbsp;</th>\n",
       "      <th id=\"T_bf2a0_level0_col0\" class=\"col_heading level0 col0\" >cutoff</th>\n",
       "      <th id=\"T_bf2a0_level0_col1\" class=\"col_heading level0 col1\" >MASE</th>\n",
       "      <th id=\"T_bf2a0_level0_col2\" class=\"col_heading level0 col2\" >RMSSE</th>\n",
       "      <th id=\"T_bf2a0_level0_col3\" class=\"col_heading level0 col3\" >MAE</th>\n",
       "      <th id=\"T_bf2a0_level0_col4\" class=\"col_heading level0 col4\" >RMSE</th>\n",
       "      <th id=\"T_bf2a0_level0_col5\" class=\"col_heading level0 col5\" >MAPE</th>\n",
       "      <th id=\"T_bf2a0_level0_col6\" class=\"col_heading level0 col6\" >SMAPE</th>\n",
       "      <th id=\"T_bf2a0_level0_col7\" class=\"col_heading level0 col7\" >R2</th>\n",
       "    </tr>\n",
       "  </thead>\n",
       "  <tbody>\n",
       "    <tr>\n",
       "      <th id=\"T_bf2a0_level0_row0\" class=\"row_heading level0 row0\" >0</th>\n",
       "      <td id=\"T_bf2a0_row0_col0\" class=\"data row0 col0\" >2024-12-10</td>\n",
       "      <td id=\"T_bf2a0_row0_col1\" class=\"data row0 col1\" >3.8671</td>\n",
       "      <td id=\"T_bf2a0_row0_col2\" class=\"data row0 col2\" >2.9385</td>\n",
       "      <td id=\"T_bf2a0_row0_col3\" class=\"data row0 col3\" >794.5578</td>\n",
       "      <td id=\"T_bf2a0_row0_col4\" class=\"data row0 col4\" >823.7455</td>\n",
       "      <td id=\"T_bf2a0_row0_col5\" class=\"data row0 col5\" >0.2214</td>\n",
       "      <td id=\"T_bf2a0_row0_col6\" class=\"data row0 col6\" >0.2504</td>\n",
       "      <td id=\"T_bf2a0_row0_col7\" class=\"data row0 col7\" >-11.8735</td>\n",
       "    </tr>\n",
       "    <tr>\n",
       "      <th id=\"T_bf2a0_level0_row1\" class=\"row_heading level0 row1\" >1</th>\n",
       "      <td id=\"T_bf2a0_row1_col0\" class=\"data row1 col0\" >2025-01-09</td>\n",
       "      <td id=\"T_bf2a0_row1_col1\" class=\"data row1 col1\" >1.7645</td>\n",
       "      <td id=\"T_bf2a0_row1_col2\" class=\"data row1 col2\" >1.4492</td>\n",
       "      <td id=\"T_bf2a0_row1_col3\" class=\"data row1 col3\" >365.4520</td>\n",
       "      <td id=\"T_bf2a0_row1_col4\" class=\"data row1 col4\" >406.2108</td>\n",
       "      <td id=\"T_bf2a0_row1_col5\" class=\"data row1 col5\" >0.1128</td>\n",
       "      <td id=\"T_bf2a0_row1_col6\" class=\"data row1 col6\" >0.1207</td>\n",
       "      <td id=\"T_bf2a0_row1_col7\" class=\"data row1 col7\" >-1.9126</td>\n",
       "    </tr>\n",
       "    <tr>\n",
       "      <th id=\"T_bf2a0_level0_row2\" class=\"row_heading level0 row2\" >2</th>\n",
       "      <td id=\"T_bf2a0_row2_col0\" class=\"data row2 col0\" >2025-02-08</td>\n",
       "      <td id=\"T_bf2a0_row2_col1\" class=\"data row2 col1\" >1.0814</td>\n",
       "      <td id=\"T_bf2a0_row2_col2\" class=\"data row2 col2\" >1.1061</td>\n",
       "      <td id=\"T_bf2a0_row2_col3\" class=\"data row2 col3\" >226.1159</td>\n",
       "      <td id=\"T_bf2a0_row2_col4\" class=\"data row2 col4\" >310.8598</td>\n",
       "      <td id=\"T_bf2a0_row2_col5\" class=\"data row2 col5\" >0.1025</td>\n",
       "      <td id=\"T_bf2a0_row2_col6\" class=\"data row2 col6\" >0.0930</td>\n",
       "      <td id=\"T_bf2a0_row2_col7\" class=\"data row2 col7\" >-0.3893</td>\n",
       "    </tr>\n",
       "    <tr>\n",
       "      <th id=\"T_bf2a0_level0_row3\" class=\"row_heading level0 row3\" >Mean</th>\n",
       "      <td id=\"T_bf2a0_row3_col0\" class=\"data row3 col0\" >NaT</td>\n",
       "      <td id=\"T_bf2a0_row3_col1\" class=\"data row3 col1\" >2.2377</td>\n",
       "      <td id=\"T_bf2a0_row3_col2\" class=\"data row3 col2\" >1.8312</td>\n",
       "      <td id=\"T_bf2a0_row3_col3\" class=\"data row3 col3\" >462.0419</td>\n",
       "      <td id=\"T_bf2a0_row3_col4\" class=\"data row3 col4\" >513.6054</td>\n",
       "      <td id=\"T_bf2a0_row3_col5\" class=\"data row3 col5\" >0.1455</td>\n",
       "      <td id=\"T_bf2a0_row3_col6\" class=\"data row3 col6\" >0.1547</td>\n",
       "      <td id=\"T_bf2a0_row3_col7\" class=\"data row3 col7\" >-4.7251</td>\n",
       "    </tr>\n",
       "    <tr>\n",
       "      <th id=\"T_bf2a0_level0_row4\" class=\"row_heading level0 row4\" >SD</th>\n",
       "      <td id=\"T_bf2a0_row4_col0\" class=\"data row4 col0\" >NaT</td>\n",
       "      <td id=\"T_bf2a0_row4_col1\" class=\"data row4 col1\" >1.1854</td>\n",
       "      <td id=\"T_bf2a0_row4_col2\" class=\"data row4 col2\" >0.7954</td>\n",
       "      <td id=\"T_bf2a0_row4_col3\" class=\"data row4 col3\" >241.9074</td>\n",
       "      <td id=\"T_bf2a0_row4_col4\" class=\"data row4 col4\" >222.7302</td>\n",
       "      <td id=\"T_bf2a0_row4_col5\" class=\"data row4 col5\" >0.0538</td>\n",
       "      <td id=\"T_bf2a0_row4_col6\" class=\"data row4 col6\" >0.0686</td>\n",
       "      <td id=\"T_bf2a0_row4_col7\" class=\"data row4 col7\" >5.0927</td>\n",
       "    </tr>\n",
       "  </tbody>\n",
       "</table>\n"
      ],
      "text/plain": [
       "<pandas.io.formats.style.Styler at 0x1bcc7d37df0>"
      ]
     },
     "metadata": {},
     "output_type": "display_data"
    },
    {
     "data": {
      "text/html": [],
      "text/plain": [
       "<IPython.core.display.HTML object>"
      ]
     },
     "metadata": {},
     "output_type": "display_data"
    },
    {
     "name": "stdout",
     "output_type": "stream",
     "text": [
      "Fitting 3 folds for each of 10 candidates, totalling 30 fits\n"
     ]
    },
    {
     "name": "stderr",
     "output_type": "stream",
     "text": [
      "[Parallel(n_jobs=-1)]: Using backend LokyBackend with 8 concurrent workers.\n",
      "[Parallel(n_jobs=-1)]: Done  30 out of  30 | elapsed:    6.5s finished\n"
     ]
    },
    {
     "data": {
      "application/vnd.plotly.v1+json": {
       "config": {
        "plotlyServerURL": "https://plot.ly"
       },
       "data": [
        {
         "line": {
          "color": "#1f77b4"
         },
         "marker": {
          "size": 5
         },
         "mode": "lines+markers",
         "name": "Forecast | ARIMA",
         "showlegend": true,
         "type": "scatter",
         "x": [
          "2025-04-10T00:00:00",
          "2025-04-11T00:00:00",
          "2025-04-12T00:00:00",
          "2025-04-13T00:00:00",
          "2025-04-14T00:00:00",
          "2025-04-15T00:00:00",
          "2025-04-16T00:00:00",
          "2025-04-17T00:00:00",
          "2025-04-18T00:00:00",
          "2025-04-19T00:00:00",
          "2025-04-20T00:00:00",
          "2025-04-21T00:00:00",
          "2025-04-22T00:00:00",
          "2025-04-23T00:00:00",
          "2025-04-24T00:00:00",
          "2025-04-25T00:00:00",
          "2025-04-26T00:00:00",
          "2025-04-27T00:00:00",
          "2025-04-28T00:00:00",
          "2025-04-29T00:00:00",
          "2025-04-30T00:00:00",
          "2025-05-01T00:00:00",
          "2025-05-02T00:00:00",
          "2025-05-03T00:00:00",
          "2025-05-04T00:00:00",
          "2025-05-05T00:00:00",
          "2025-05-06T00:00:00",
          "2025-05-07T00:00:00",
          "2025-05-08T00:00:00",
          "2025-05-09T00:00:00"
         ],
         "y": {
          "bdata": "9wZfmMyglkB1kxgE1rmWQH/7OnAOo5ZA9UpZhvhdlkC5/If021CWQKjGSzdJh5VA2V92Tx70lUDUmuYdJ7GVQNobfGHyA5ZANBE2PH2llkCL/WX3JNqWQGaIY10cRJdA9UpZhrgol0BpAG+BhEiXQK1p3nFKRZdAjErqBPQ8l0DG3LWEvBOXQNc07ziFzZZAXdxGA3jGlkDV52or9iOWQHPXEvJBaJZAaCJseDowlkCUh4Va03yWQFInoImwD5dAZapgVNL8lkA8vVKWoViXQL6fGi/dJpdA3bWEfBA9l0Ay5q4lJDqXQOauJeRDNJdA",
          "dtype": "f8"
         }
        },
        {
         "line": {
          "width": 0
         },
         "marker": {
          "color": "#68BBE3"
         },
         "mode": "lines",
         "name": "Lower Interval",
         "showlegend": false,
         "type": "scatter",
         "x": [
          "2025-04-10T00:00:00",
          "2025-04-11T00:00:00",
          "2025-04-12T00:00:00",
          "2025-04-13T00:00:00",
          "2025-04-14T00:00:00",
          "2025-04-15T00:00:00",
          "2025-04-16T00:00:00",
          "2025-04-17T00:00:00",
          "2025-04-18T00:00:00",
          "2025-04-19T00:00:00",
          "2025-04-20T00:00:00",
          "2025-04-21T00:00:00",
          "2025-04-22T00:00:00",
          "2025-04-23T00:00:00",
          "2025-04-24T00:00:00",
          "2025-04-25T00:00:00",
          "2025-04-26T00:00:00",
          "2025-04-27T00:00:00",
          "2025-04-28T00:00:00",
          "2025-04-29T00:00:00",
          "2025-04-30T00:00:00",
          "2025-05-01T00:00:00",
          "2025-05-02T00:00:00",
          "2025-05-03T00:00:00",
          "2025-05-04T00:00:00",
          "2025-05-05T00:00:00",
          "2025-05-06T00:00:00",
          "2025-05-07T00:00:00",
          "2025-05-08T00:00:00",
          "2025-05-09T00:00:00"
         ],
         "y": {
          "bdata": "xm00gPffk0CbVZ+rbd2SQM3MzMwM7ZFA+u3rwPnwkECrz9VWLEOQQIenV8qy0Y1A1JrmHSeijUAnwoanVyaMQLByaJHt5YtAQfFjzF1QjEBtxf6ye+yLQNV46SYx/YtAwTkjSvsLi0BEi2zn+5iKQOtztRV784lADAIrhxZJiUD1udqK/WGIQDsBTYSNRYdARPrt68CrhkCOdXEbDd+EQFjKMsSx44RAppvEIDDzg0D67evAOQ+EQOQUHcnluoRA0gDeAgkehEBVwaikTmGEQJ5eKcsQjINA3NeBc0ZJg0BR2ht8YcyCQJ/Nqs9VTIJA",
          "dtype": "f8"
         }
        },
        {
         "fill": "tonexty",
         "fillcolor": "rgba(104,187,227,0.5)",
         "line": {
          "width": 0
         },
         "marker": {
          "color": "#68BBE3"
         },
         "mode": "lines",
         "name": "Prediction Interval | ARIMA",
         "showlegend": true,
         "type": "scatter",
         "x": [
          "2025-04-10T00:00:00",
          "2025-04-11T00:00:00",
          "2025-04-12T00:00:00",
          "2025-04-13T00:00:00",
          "2025-04-14T00:00:00",
          "2025-04-15T00:00:00",
          "2025-04-16T00:00:00",
          "2025-04-17T00:00:00",
          "2025-04-18T00:00:00",
          "2025-04-19T00:00:00",
          "2025-04-20T00:00:00",
          "2025-04-21T00:00:00",
          "2025-04-22T00:00:00",
          "2025-04-23T00:00:00",
          "2025-04-24T00:00:00",
          "2025-04-25T00:00:00",
          "2025-04-26T00:00:00",
          "2025-04-27T00:00:00",
          "2025-04-28T00:00:00",
          "2025-04-29T00:00:00",
          "2025-04-30T00:00:00",
          "2025-05-01T00:00:00",
          "2025-05-02T00:00:00",
          "2025-05-03T00:00:00",
          "2025-05-04T00:00:00",
          "2025-05-05T00:00:00",
          "2025-05-06T00:00:00",
          "2025-05-07T00:00:00",
          "2025-05-08T00:00:00",
          "2025-05-09T00:00:00"
         ],
         "y": {
          "bdata": "PL1SlqFhmUBO0ZFcPpaaQBsN4C0QWZtA8KfGS/fKm0DHKTqSi16cQKHWNO+4JZxAR3L5DykXnUCV1AloIk+dQF3+Q/rtFJ5A3EYDeMsin0BKe4MvDL6fQLu4jQbQRKBADwu1prlloECY3ZOHRaKgQLMMcaxryKBAf/s6cK7qoEDTvOMUPfugQP5l9+Qh/KBAzF1LyIcboUByio7kMuygQFOWIY5VL6FACYofY24zoUAVjErqBHmhQI9TdCT34KFAu7iNBlD1oUDnjCjtTUCiQBdIUPzYQ6JA5j+k375qokCe76fGC4eiQAmKH2MuoaJA",
          "dtype": "f8"
         }
        },
        {
         "marker": {
          "color": "#3f3f3f",
          "size": 5
         },
         "mode": "lines+markers",
         "name": "Original",
         "showlegend": true,
         "type": "scatter",
         "x": [
          "2024-04-10T00:00:00",
          "2024-04-11T00:00:00",
          "2024-04-12T00:00:00",
          "2024-04-13T00:00:00",
          "2024-04-14T00:00:00",
          "2024-04-15T00:00:00",
          "2024-04-16T00:00:00",
          "2024-04-17T00:00:00",
          "2024-04-18T00:00:00",
          "2024-04-19T00:00:00",
          "2024-04-20T00:00:00",
          "2024-04-21T00:00:00",
          "2024-04-22T00:00:00",
          "2024-04-23T00:00:00",
          "2024-04-24T00:00:00",
          "2024-04-25T00:00:00",
          "2024-04-26T00:00:00",
          "2024-04-27T00:00:00",
          "2024-04-28T00:00:00",
          "2024-04-29T00:00:00",
          "2024-04-30T00:00:00",
          "2024-05-01T00:00:00",
          "2024-05-02T00:00:00",
          "2024-05-03T00:00:00",
          "2024-05-04T00:00:00",
          "2024-05-05T00:00:00",
          "2024-05-06T00:00:00",
          "2024-05-07T00:00:00",
          "2024-05-08T00:00:00",
          "2024-05-09T00:00:00",
          "2024-05-10T00:00:00",
          "2024-05-11T00:00:00",
          "2024-05-12T00:00:00",
          "2024-05-13T00:00:00",
          "2024-05-14T00:00:00",
          "2024-05-15T00:00:00",
          "2024-05-16T00:00:00",
          "2024-05-17T00:00:00",
          "2024-05-18T00:00:00",
          "2024-05-19T00:00:00",
          "2024-05-20T00:00:00",
          "2024-05-21T00:00:00",
          "2024-05-22T00:00:00",
          "2024-05-23T00:00:00",
          "2024-05-24T00:00:00",
          "2024-05-25T00:00:00",
          "2024-05-26T00:00:00",
          "2024-05-27T00:00:00",
          "2024-05-28T00:00:00",
          "2024-05-29T00:00:00",
          "2024-05-30T00:00:00",
          "2024-05-31T00:00:00",
          "2024-06-01T00:00:00",
          "2024-06-02T00:00:00",
          "2024-06-03T00:00:00",
          "2024-06-04T00:00:00",
          "2024-06-05T00:00:00",
          "2024-06-06T00:00:00",
          "2024-06-07T00:00:00",
          "2024-06-08T00:00:00",
          "2024-06-09T00:00:00",
          "2024-06-10T00:00:00",
          "2024-06-11T00:00:00",
          "2024-06-12T00:00:00",
          "2024-06-13T00:00:00",
          "2024-06-14T00:00:00",
          "2024-06-15T00:00:00",
          "2024-06-16T00:00:00",
          "2024-06-17T00:00:00",
          "2024-06-18T00:00:00",
          "2024-06-19T00:00:00",
          "2024-06-20T00:00:00",
          "2024-06-21T00:00:00",
          "2024-06-22T00:00:00",
          "2024-06-23T00:00:00",
          "2024-06-24T00:00:00",
          "2024-06-25T00:00:00",
          "2024-06-26T00:00:00",
          "2024-06-27T00:00:00",
          "2024-06-28T00:00:00",
          "2024-06-29T00:00:00",
          "2024-06-30T00:00:00",
          "2024-07-01T00:00:00",
          "2024-07-02T00:00:00",
          "2024-07-03T00:00:00",
          "2024-07-04T00:00:00",
          "2024-07-05T00:00:00",
          "2024-07-06T00:00:00",
          "2024-07-07T00:00:00",
          "2024-07-08T00:00:00",
          "2024-07-09T00:00:00",
          "2024-07-10T00:00:00",
          "2024-07-11T00:00:00",
          "2024-07-12T00:00:00",
          "2024-07-13T00:00:00",
          "2024-07-14T00:00:00",
          "2024-07-15T00:00:00",
          "2024-07-16T00:00:00",
          "2024-07-17T00:00:00",
          "2024-07-18T00:00:00",
          "2024-07-19T00:00:00",
          "2024-07-20T00:00:00",
          "2024-07-21T00:00:00",
          "2024-07-22T00:00:00",
          "2024-07-23T00:00:00",
          "2024-07-24T00:00:00",
          "2024-07-25T00:00:00",
          "2024-07-26T00:00:00",
          "2024-07-27T00:00:00",
          "2024-07-28T00:00:00",
          "2024-07-29T00:00:00",
          "2024-07-30T00:00:00",
          "2024-07-31T00:00:00",
          "2024-08-01T00:00:00",
          "2024-08-02T00:00:00",
          "2024-08-03T00:00:00",
          "2024-08-04T00:00:00",
          "2024-08-05T00:00:00",
          "2024-08-06T00:00:00",
          "2024-08-07T00:00:00",
          "2024-08-08T00:00:00",
          "2024-08-09T00:00:00",
          "2024-08-10T00:00:00",
          "2024-08-11T00:00:00",
          "2024-08-12T00:00:00",
          "2024-08-13T00:00:00",
          "2024-08-14T00:00:00",
          "2024-08-15T00:00:00",
          "2024-08-16T00:00:00",
          "2024-08-17T00:00:00",
          "2024-08-18T00:00:00",
          "2024-08-19T00:00:00",
          "2024-08-20T00:00:00",
          "2024-08-21T00:00:00",
          "2024-08-22T00:00:00",
          "2024-08-23T00:00:00",
          "2024-08-24T00:00:00",
          "2024-08-25T00:00:00",
          "2024-08-26T00:00:00",
          "2024-08-27T00:00:00",
          "2024-08-28T00:00:00",
          "2024-08-29T00:00:00",
          "2024-08-30T00:00:00",
          "2024-08-31T00:00:00",
          "2024-09-01T00:00:00",
          "2024-09-02T00:00:00",
          "2024-09-03T00:00:00",
          "2024-09-04T00:00:00",
          "2024-09-05T00:00:00",
          "2024-09-06T00:00:00",
          "2024-09-07T00:00:00",
          "2024-09-08T00:00:00",
          "2024-09-09T00:00:00",
          "2024-09-10T00:00:00",
          "2024-09-11T00:00:00",
          "2024-09-12T00:00:00",
          "2024-09-13T00:00:00",
          "2024-09-14T00:00:00",
          "2024-09-15T00:00:00",
          "2024-09-16T00:00:00",
          "2024-09-17T00:00:00",
          "2024-09-18T00:00:00",
          "2024-09-19T00:00:00",
          "2024-09-20T00:00:00",
          "2024-09-21T00:00:00",
          "2024-09-22T00:00:00",
          "2024-09-23T00:00:00",
          "2024-09-24T00:00:00",
          "2024-09-25T00:00:00",
          "2024-09-26T00:00:00",
          "2024-09-27T00:00:00",
          "2024-09-28T00:00:00",
          "2024-09-29T00:00:00",
          "2024-09-30T00:00:00",
          "2024-10-01T00:00:00",
          "2024-10-02T00:00:00",
          "2024-10-03T00:00:00",
          "2024-10-04T00:00:00",
          "2024-10-05T00:00:00",
          "2024-10-06T00:00:00",
          "2024-10-07T00:00:00",
          "2024-10-08T00:00:00",
          "2024-10-09T00:00:00",
          "2024-10-10T00:00:00",
          "2024-10-11T00:00:00",
          "2024-10-12T00:00:00",
          "2024-10-13T00:00:00",
          "2024-10-14T00:00:00",
          "2024-10-15T00:00:00",
          "2024-10-16T00:00:00",
          "2024-10-17T00:00:00",
          "2024-10-18T00:00:00",
          "2024-10-19T00:00:00",
          "2024-10-20T00:00:00",
          "2024-10-21T00:00:00",
          "2024-10-22T00:00:00",
          "2024-10-23T00:00:00",
          "2024-10-24T00:00:00",
          "2024-10-25T00:00:00",
          "2024-10-26T00:00:00",
          "2024-10-27T00:00:00",
          "2024-10-28T00:00:00",
          "2024-10-29T00:00:00",
          "2024-10-30T00:00:00",
          "2024-10-31T00:00:00",
          "2024-11-01T00:00:00",
          "2024-11-02T00:00:00",
          "2024-11-03T00:00:00",
          "2024-11-04T00:00:00",
          "2024-11-05T00:00:00",
          "2024-11-06T00:00:00",
          "2024-11-07T00:00:00",
          "2024-11-08T00:00:00",
          "2024-11-09T00:00:00",
          "2024-11-10T00:00:00",
          "2024-11-11T00:00:00",
          "2024-11-12T00:00:00",
          "2024-11-13T00:00:00",
          "2024-11-14T00:00:00",
          "2024-11-15T00:00:00",
          "2024-11-16T00:00:00",
          "2024-11-17T00:00:00",
          "2024-11-18T00:00:00",
          "2024-11-19T00:00:00",
          "2024-11-20T00:00:00",
          "2024-11-21T00:00:00",
          "2024-11-22T00:00:00",
          "2024-11-23T00:00:00",
          "2024-11-24T00:00:00",
          "2024-11-25T00:00:00",
          "2024-11-26T00:00:00",
          "2024-11-27T00:00:00",
          "2024-11-28T00:00:00",
          "2024-11-29T00:00:00",
          "2024-11-30T00:00:00",
          "2024-12-01T00:00:00",
          "2024-12-02T00:00:00",
          "2024-12-03T00:00:00",
          "2024-12-04T00:00:00",
          "2024-12-05T00:00:00",
          "2024-12-06T00:00:00",
          "2024-12-07T00:00:00",
          "2024-12-08T00:00:00",
          "2024-12-09T00:00:00",
          "2024-12-10T00:00:00",
          "2024-12-11T00:00:00",
          "2024-12-12T00:00:00",
          "2024-12-13T00:00:00",
          "2024-12-14T00:00:00",
          "2024-12-15T00:00:00",
          "2024-12-16T00:00:00",
          "2024-12-17T00:00:00",
          "2024-12-18T00:00:00",
          "2024-12-19T00:00:00",
          "2024-12-20T00:00:00",
          "2024-12-21T00:00:00",
          "2024-12-22T00:00:00",
          "2024-12-23T00:00:00",
          "2024-12-24T00:00:00",
          "2024-12-25T00:00:00",
          "2024-12-26T00:00:00",
          "2024-12-27T00:00:00",
          "2024-12-28T00:00:00",
          "2024-12-29T00:00:00",
          "2024-12-30T00:00:00",
          "2024-12-31T00:00:00",
          "2025-01-01T00:00:00",
          "2025-01-02T00:00:00",
          "2025-01-03T00:00:00",
          "2025-01-04T00:00:00",
          "2025-01-05T00:00:00",
          "2025-01-06T00:00:00",
          "2025-01-07T00:00:00",
          "2025-01-08T00:00:00",
          "2025-01-09T00:00:00",
          "2025-01-10T00:00:00",
          "2025-01-11T00:00:00",
          "2025-01-12T00:00:00",
          "2025-01-13T00:00:00",
          "2025-01-14T00:00:00",
          "2025-01-15T00:00:00",
          "2025-01-16T00:00:00",
          "2025-01-17T00:00:00",
          "2025-01-18T00:00:00",
          "2025-01-19T00:00:00",
          "2025-01-20T00:00:00",
          "2025-01-21T00:00:00",
          "2025-01-22T00:00:00",
          "2025-01-23T00:00:00",
          "2025-01-24T00:00:00",
          "2025-01-25T00:00:00",
          "2025-01-26T00:00:00",
          "2025-01-27T00:00:00",
          "2025-01-28T00:00:00",
          "2025-01-29T00:00:00",
          "2025-01-30T00:00:00",
          "2025-01-31T00:00:00",
          "2025-02-01T00:00:00",
          "2025-02-02T00:00:00",
          "2025-02-03T00:00:00",
          "2025-02-04T00:00:00",
          "2025-02-05T00:00:00",
          "2025-02-06T00:00:00",
          "2025-02-07T00:00:00",
          "2025-02-08T00:00:00",
          "2025-02-09T00:00:00",
          "2025-02-10T00:00:00",
          "2025-02-11T00:00:00",
          "2025-02-12T00:00:00",
          "2025-02-13T00:00:00",
          "2025-02-14T00:00:00",
          "2025-02-15T00:00:00",
          "2025-02-16T00:00:00",
          "2025-02-17T00:00:00",
          "2025-02-18T00:00:00",
          "2025-02-19T00:00:00",
          "2025-02-20T00:00:00",
          "2025-02-21T00:00:00",
          "2025-02-22T00:00:00",
          "2025-02-23T00:00:00",
          "2025-02-24T00:00:00",
          "2025-02-25T00:00:00",
          "2025-02-26T00:00:00",
          "2025-02-27T00:00:00",
          "2025-02-28T00:00:00",
          "2025-03-01T00:00:00",
          "2025-03-02T00:00:00",
          "2025-03-03T00:00:00",
          "2025-03-04T00:00:00",
          "2025-03-05T00:00:00",
          "2025-03-06T00:00:00",
          "2025-03-07T00:00:00",
          "2025-03-08T00:00:00",
          "2025-03-09T00:00:00",
          "2025-03-10T00:00:00",
          "2025-03-11T00:00:00",
          "2025-03-12T00:00:00",
          "2025-03-13T00:00:00",
          "2025-03-14T00:00:00",
          "2025-03-15T00:00:00",
          "2025-03-16T00:00:00",
          "2025-03-17T00:00:00",
          "2025-03-18T00:00:00",
          "2025-03-19T00:00:00",
          "2025-03-20T00:00:00",
          "2025-03-21T00:00:00",
          "2025-03-22T00:00:00",
          "2025-03-23T00:00:00",
          "2025-03-24T00:00:00",
          "2025-03-25T00:00:00",
          "2025-03-26T00:00:00",
          "2025-03-27T00:00:00",
          "2025-03-28T00:00:00",
          "2025-03-29T00:00:00",
          "2025-03-30T00:00:00",
          "2025-03-31T00:00:00",
          "2025-04-01T00:00:00",
          "2025-04-02T00:00:00",
          "2025-04-03T00:00:00",
          "2025-04-04T00:00:00",
          "2025-04-05T00:00:00",
          "2025-04-06T00:00:00",
          "2025-04-07T00:00:00",
          "2025-04-08T00:00:00",
          "2025-04-09T00:00:00"
         ],
         "y": {
          "bdata": "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",
          "dtype": "f8"
         }
        }
       ],
       "layout": {
        "showlegend": true,
        "template": {
         "data": {
          "bar": [
           {
            "error_x": {
             "color": "rgb(51,51,51)"
            },
            "error_y": {
             "color": "rgb(51,51,51)"
            },
            "marker": {
             "line": {
              "color": "rgb(237,237,237)",
              "width": 0.5
             },
             "pattern": {
              "fillmode": "overlay",
              "size": 10,
              "solidity": 0.2
             }
            },
            "type": "bar"
           }
          ],
          "barpolar": [
           {
            "marker": {
             "line": {
              "color": "rgb(237,237,237)",
              "width": 0.5
             },
             "pattern": {
              "fillmode": "overlay",
              "size": 10,
              "solidity": 0.2
             }
            },
            "type": "barpolar"
           }
          ],
          "carpet": [
           {
            "aaxis": {
             "endlinecolor": "rgb(51,51,51)",
             "gridcolor": "white",
             "linecolor": "white",
             "minorgridcolor": "white",
             "startlinecolor": "rgb(51,51,51)"
            },
            "baxis": {
             "endlinecolor": "rgb(51,51,51)",
             "gridcolor": "white",
             "linecolor": "white",
             "minorgridcolor": "white",
             "startlinecolor": "rgb(51,51,51)"
            },
            "type": "carpet"
           }
          ],
          "choropleth": [
           {
            "colorbar": {
             "outlinewidth": 0,
             "tickcolor": "rgb(237,237,237)",
             "ticklen": 6,
             "ticks": "inside"
            },
            "type": "choropleth"
           }
          ],
          "contour": [
           {
            "colorbar": {
             "outlinewidth": 0,
             "tickcolor": "rgb(237,237,237)",
             "ticklen": 6,
             "ticks": "inside"
            },
            "colorscale": [
             [
              0,
              "rgb(20,44,66)"
             ],
             [
              1,
              "rgb(90,179,244)"
             ]
            ],
            "type": "contour"
           }
          ],
          "contourcarpet": [
           {
            "colorbar": {
             "outlinewidth": 0,
             "tickcolor": "rgb(237,237,237)",
             "ticklen": 6,
             "ticks": "inside"
            },
            "type": "contourcarpet"
           }
          ],
          "heatmap": [
           {
            "colorbar": {
             "outlinewidth": 0,
             "tickcolor": "rgb(237,237,237)",
             "ticklen": 6,
             "ticks": "inside"
            },
            "colorscale": [
             [
              0,
              "rgb(20,44,66)"
             ],
             [
              1,
              "rgb(90,179,244)"
             ]
            ],
            "type": "heatmap"
           }
          ],
          "histogram": [
           {
            "marker": {
             "pattern": {
              "fillmode": "overlay",
              "size": 10,
              "solidity": 0.2
             }
            },
            "type": "histogram"
           }
          ],
          "histogram2d": [
           {
            "colorbar": {
             "outlinewidth": 0,
             "tickcolor": "rgb(237,237,237)",
             "ticklen": 6,
             "ticks": "inside"
            },
            "colorscale": [
             [
              0,
              "rgb(20,44,66)"
             ],
             [
              1,
              "rgb(90,179,244)"
             ]
            ],
            "type": "histogram2d"
           }
          ],
          "histogram2dcontour": [
           {
            "colorbar": {
             "outlinewidth": 0,
             "tickcolor": "rgb(237,237,237)",
             "ticklen": 6,
             "ticks": "inside"
            },
            "colorscale": [
             [
              0,
              "rgb(20,44,66)"
             ],
             [
              1,
              "rgb(90,179,244)"
             ]
            ],
            "type": "histogram2dcontour"
           }
          ],
          "mesh3d": [
           {
            "colorbar": {
             "outlinewidth": 0,
             "tickcolor": "rgb(237,237,237)",
             "ticklen": 6,
             "ticks": "inside"
            },
            "type": "mesh3d"
           }
          ],
          "parcoords": [
           {
            "line": {
             "colorbar": {
              "outlinewidth": 0,
              "tickcolor": "rgb(237,237,237)",
              "ticklen": 6,
              "ticks": "inside"
             }
            },
            "type": "parcoords"
           }
          ],
          "pie": [
           {
            "automargin": true,
            "type": "pie"
           }
          ],
          "scatter": [
           {
            "fillpattern": {
             "fillmode": "overlay",
             "size": 10,
             "solidity": 0.2
            },
            "type": "scatter"
           }
          ],
          "scatter3d": [
           {
            "line": {
             "colorbar": {
              "outlinewidth": 0,
              "tickcolor": "rgb(237,237,237)",
              "ticklen": 6,
              "ticks": "inside"
             }
            },
            "marker": {
             "colorbar": {
              "outlinewidth": 0,
              "tickcolor": "rgb(237,237,237)",
              "ticklen": 6,
              "ticks": "inside"
             }
            },
            "type": "scatter3d"
           }
          ],
          "scattercarpet": [
           {
            "marker": {
             "colorbar": {
              "outlinewidth": 0,
              "tickcolor": "rgb(237,237,237)",
              "ticklen": 6,
              "ticks": "inside"
             }
            },
            "type": "scattercarpet"
           }
          ],
          "scattergeo": [
           {
            "marker": {
             "colorbar": {
              "outlinewidth": 0,
              "tickcolor": "rgb(237,237,237)",
              "ticklen": 6,
              "ticks": "inside"
             }
            },
            "type": "scattergeo"
           }
          ],
          "scattergl": [
           {
            "marker": {
             "colorbar": {
              "outlinewidth": 0,
              "tickcolor": "rgb(237,237,237)",
              "ticklen": 6,
              "ticks": "inside"
             }
            },
            "type": "scattergl"
           }
          ],
          "scattermap": [
           {
            "marker": {
             "colorbar": {
              "outlinewidth": 0,
              "tickcolor": "rgb(237,237,237)",
              "ticklen": 6,
              "ticks": "inside"
             }
            },
            "type": "scattermap"
           }
          ],
          "scattermapbox": [
           {
            "marker": {
             "colorbar": {
              "outlinewidth": 0,
              "tickcolor": "rgb(237,237,237)",
              "ticklen": 6,
              "ticks": "inside"
             }
            },
            "type": "scattermapbox"
           }
          ],
          "scatterpolar": [
           {
            "marker": {
             "colorbar": {
              "outlinewidth": 0,
              "tickcolor": "rgb(237,237,237)",
              "ticklen": 6,
              "ticks": "inside"
             }
            },
            "type": "scatterpolar"
           }
          ],
          "scatterpolargl": [
           {
            "marker": {
             "colorbar": {
              "outlinewidth": 0,
              "tickcolor": "rgb(237,237,237)",
              "ticklen": 6,
              "ticks": "inside"
             }
            },
            "type": "scatterpolargl"
           }
          ],
          "scatterternary": [
           {
            "marker": {
             "colorbar": {
              "outlinewidth": 0,
              "tickcolor": "rgb(237,237,237)",
              "ticklen": 6,
              "ticks": "inside"
             }
            },
            "type": "scatterternary"
           }
          ],
          "surface": [
           {
            "colorbar": {
             "outlinewidth": 0,
             "tickcolor": "rgb(237,237,237)",
             "ticklen": 6,
             "ticks": "inside"
            },
            "colorscale": [
             [
              0,
              "rgb(20,44,66)"
             ],
             [
              1,
              "rgb(90,179,244)"
             ]
            ],
            "type": "surface"
           }
          ],
          "table": [
           {
            "cells": {
             "fill": {
              "color": "rgb(237,237,237)"
             },
             "line": {
              "color": "white"
             }
            },
            "header": {
             "fill": {
              "color": "rgb(217,217,217)"
             },
             "line": {
              "color": "white"
             }
            },
            "type": "table"
           }
          ]
         },
         "layout": {
          "annotationdefaults": {
           "arrowhead": 0,
           "arrowwidth": 1
          },
          "autotypenumbers": "strict",
          "coloraxis": {
           "colorbar": {
            "outlinewidth": 0,
            "tickcolor": "rgb(237,237,237)",
            "ticklen": 6,
            "ticks": "inside"
           }
          },
          "colorscale": {
           "sequential": [
            [
             0,
             "rgb(20,44,66)"
            ],
            [
             1,
             "rgb(90,179,244)"
            ]
           ],
           "sequentialminus": [
            [
             0,
             "rgb(20,44,66)"
            ],
            [
             1,
             "rgb(90,179,244)"
            ]
           ]
          },
          "colorway": [
           "#F8766D",
           "#A3A500",
           "#00BF7D",
           "#00B0F6",
           "#E76BF3"
          ],
          "font": {
           "color": "rgb(51,51,51)"
          },
          "geo": {
           "bgcolor": "white",
           "lakecolor": "white",
           "landcolor": "rgb(237,237,237)",
           "showlakes": true,
           "showland": true,
           "subunitcolor": "white"
          },
          "hoverlabel": {
           "align": "left"
          },
          "hovermode": "closest",
          "paper_bgcolor": "white",
          "plot_bgcolor": "rgb(237,237,237)",
          "polar": {
           "angularaxis": {
            "gridcolor": "white",
            "linecolor": "white",
            "showgrid": true,
            "tickcolor": "rgb(51,51,51)",
            "ticks": "outside"
           },
           "bgcolor": "rgb(237,237,237)",
           "radialaxis": {
            "gridcolor": "white",
            "linecolor": "white",
            "showgrid": true,
            "tickcolor": "rgb(51,51,51)",
            "ticks": "outside"
           }
          },
          "scene": {
           "xaxis": {
            "backgroundcolor": "rgb(237,237,237)",
            "gridcolor": "white",
            "gridwidth": 2,
            "linecolor": "white",
            "showbackground": true,
            "showgrid": true,
            "tickcolor": "rgb(51,51,51)",
            "ticks": "outside",
            "zerolinecolor": "white"
           },
           "yaxis": {
            "backgroundcolor": "rgb(237,237,237)",
            "gridcolor": "white",
            "gridwidth": 2,
            "linecolor": "white",
            "showbackground": true,
            "showgrid": true,
            "tickcolor": "rgb(51,51,51)",
            "ticks": "outside",
            "zerolinecolor": "white"
           },
           "zaxis": {
            "backgroundcolor": "rgb(237,237,237)",
            "gridcolor": "white",
            "gridwidth": 2,
            "linecolor": "white",
            "showbackground": true,
            "showgrid": true,
            "tickcolor": "rgb(51,51,51)",
            "ticks": "outside",
            "zerolinecolor": "white"
           }
          },
          "shapedefaults": {
           "fillcolor": "black",
           "line": {
            "width": 0
           },
           "opacity": 0.3
          },
          "ternary": {
           "aaxis": {
            "gridcolor": "white",
            "linecolor": "white",
            "showgrid": true,
            "tickcolor": "rgb(51,51,51)",
            "ticks": "outside"
           },
           "baxis": {
            "gridcolor": "white",
            "linecolor": "white",
            "showgrid": true,
            "tickcolor": "rgb(51,51,51)",
            "ticks": "outside"
           },
           "bgcolor": "rgb(237,237,237)",
           "caxis": {
            "gridcolor": "white",
            "linecolor": "white",
            "showgrid": true,
            "tickcolor": "rgb(51,51,51)",
            "ticks": "outside"
           }
          },
          "xaxis": {
           "automargin": true,
           "gridcolor": "white",
           "linecolor": "white",
           "showgrid": true,
           "tickcolor": "rgb(51,51,51)",
           "ticks": "outside",
           "title": {
            "standoff": 15
           },
           "zerolinecolor": "white"
          },
          "yaxis": {
           "automargin": true,
           "gridcolor": "white",
           "linecolor": "white",
           "showgrid": true,
           "tickcolor": "rgb(51,51,51)",
           "ticks": "outside",
           "title": {
            "standoff": 15
           },
           "zerolinecolor": "white"
          }
         }
        },
        "title": {
         "text": "Actual vs. 'Out-of-Sample' Forecast | ETH-USD"
        },
        "xaxis": {
         "title": {
          "text": "Time"
         }
        },
        "yaxis": {
         "title": {
          "text": "Values"
         }
        }
       }
      }
     },
     "metadata": {},
     "output_type": "display_data"
    },
    {
     "data": {
      "application/vnd.plotly.v1+json": {
       "config": {
        "plotlyServerURL": "https://plot.ly"
       },
       "data": [
        {
         "line": {
          "color": "#1f77b4"
         },
         "marker": {
          "size": 5
         },
         "mode": "lines+markers",
         "name": "Forecast | Prophet",
         "showlegend": true,
         "type": "scatter",
         "x": [
          "2025-04-10T00:00:00",
          "2025-04-11T00:00:00",
          "2025-04-12T00:00:00",
          "2025-04-13T00:00:00",
          "2025-04-14T00:00:00",
          "2025-04-15T00:00:00",
          "2025-04-16T00:00:00",
          "2025-04-17T00:00:00",
          "2025-04-18T00:00:00",
          "2025-04-19T00:00:00",
          "2025-04-20T00:00:00",
          "2025-04-21T00:00:00",
          "2025-04-22T00:00:00",
          "2025-04-23T00:00:00",
          "2025-04-24T00:00:00",
          "2025-04-25T00:00:00",
          "2025-04-26T00:00:00",
          "2025-04-27T00:00:00",
          "2025-04-28T00:00:00",
          "2025-04-29T00:00:00",
          "2025-04-30T00:00:00",
          "2025-05-01T00:00:00",
          "2025-05-02T00:00:00",
          "2025-05-03T00:00:00",
          "2025-05-04T00:00:00",
          "2025-05-05T00:00:00",
          "2025-05-06T00:00:00",
          "2025-05-07T00:00:00",
          "2025-05-08T00:00:00",
          "2025-05-09T00:00:00"
         ],
         "y": {
          "bdata": "1lbsLzuOo0BbQj7oGZOjQFjKMsSxoaNA3bWEfDCIo0AQejar3pKjQDcawFsAWaNACfmgZ5Nio0D7XG3F/m2jQHEbDeDNcqNAMEymCkaBo0C/fR0452ejQBpR2ht8cqNA/yH99vU4o0D3deCccUKjQJXUCWjCTaNAiPTb14FSo0CSXP5D2mCjQBe30QCeR6NAJCh+jBlSo0A9m1Wf6xijQG+BBMVPIqNAutqK/YUto0CfzarPNTKjQGrecYpuQKNA+n5qvFQno0CkcD0KtzGjQAWjkjrh+KJA54wo7S0Co0BUUiegSQ2jQCsYldTpEaNA",
          "dtype": "f8"
         }
        },
        {
         "line": {
          "width": 0
         },
         "marker": {
          "color": "#68BBE3"
         },
         "mode": "lines",
         "name": "Lower Interval",
         "showlegend": false,
         "type": "scatter",
         "x": [
          "2025-04-10T00:00:00",
          "2025-04-11T00:00:00",
          "2025-04-12T00:00:00",
          "2025-04-13T00:00:00",
          "2025-04-14T00:00:00",
          "2025-04-15T00:00:00",
          "2025-04-16T00:00:00",
          "2025-04-17T00:00:00",
          "2025-04-18T00:00:00",
          "2025-04-19T00:00:00",
          "2025-04-20T00:00:00",
          "2025-04-21T00:00:00",
          "2025-04-22T00:00:00",
          "2025-04-23T00:00:00",
          "2025-04-24T00:00:00",
          "2025-04-25T00:00:00",
          "2025-04-26T00:00:00",
          "2025-04-27T00:00:00",
          "2025-04-28T00:00:00",
          "2025-04-29T00:00:00",
          "2025-04-30T00:00:00",
          "2025-05-01T00:00:00",
          "2025-05-02T00:00:00",
          "2025-05-03T00:00:00",
          "2025-05-04T00:00:00",
          "2025-05-05T00:00:00",
          "2025-05-06T00:00:00",
          "2025-05-07T00:00:00",
          "2025-05-08T00:00:00",
          "2025-05-09T00:00:00"
         ],
         "y": {
          "bdata": "B1+YTJWnmkB0JJf/EOKaQKvP1Vasc5pAppvEIDATmkAK16Nw/XmZQCBB8WMMRJpA2PD0SlmJmkCLbOf7KT2bQFpkO9/PzJlARPrt6wAMmkCPU3QkF0iaQIXrUbgexJlAXW3F/vJHmkCoV8oyhIqZQBIUP8Yc5ZhAokW28z14mUCyne+nhuOZQHzysFCrq5lAQBNhw9MJmUAAb4EERaeZQE9AE2ED6JlAwFsgQTHcmUDoaiv2F3aZQNNNYhDY7ZlAeekmMYh5mUC/fR04ZxWaQIts5/up5ZhAKjqSy7/9mUCC4seYe7CZQCPb+X6qkZlA",
          "dtype": "f8"
         }
        },
        {
         "fill": "tonexty",
         "fillcolor": "rgba(104,187,227,0.5)",
         "line": {
          "width": 0
         },
         "marker": {
          "color": "#68BBE3"
         },
         "mode": "lines",
         "name": "Prediction Interval | Prophet",
         "showlegend": true,
         "type": "scatter",
         "x": [
          "2025-04-10T00:00:00",
          "2025-04-11T00:00:00",
          "2025-04-12T00:00:00",
          "2025-04-13T00:00:00",
          "2025-04-14T00:00:00",
          "2025-04-15T00:00:00",
          "2025-04-16T00:00:00",
          "2025-04-17T00:00:00",
          "2025-04-18T00:00:00",
          "2025-04-19T00:00:00",
          "2025-04-20T00:00:00",
          "2025-04-21T00:00:00",
          "2025-04-22T00:00:00",
          "2025-04-23T00:00:00",
          "2025-04-24T00:00:00",
          "2025-04-25T00:00:00",
          "2025-04-26T00:00:00",
          "2025-04-27T00:00:00",
          "2025-04-28T00:00:00",
          "2025-04-29T00:00:00",
          "2025-04-30T00:00:00",
          "2025-05-01T00:00:00",
          "2025-05-02T00:00:00",
          "2025-05-03T00:00:00",
          "2025-05-04T00:00:00",
          "2025-05-05T00:00:00",
          "2025-05-06T00:00:00",
          "2025-05-07T00:00:00",
          "2025-05-08T00:00:00",
          "2025-05-09T00:00:00"
         ],
         "y": {
          "bdata": "iUFg5RDjqUBCPujZTBSqQEmdgCZikqlAjSjtDd70qUASg8DK4VCqQA4tsp0vq6lAbjSAtyC9qUAbnl4piy+qQC/dJAbBu6lAqaROQBONqUAOT6+UpYqpQIts5/tJDapAVcGopK5jqUCXkA96VlmqQCo6ksu/56lA46WbxAD8qUDc14FzZrOpQGDl0CI7eqlAXkvIB71yqUAr9pfds96pQAu1pnnnBqpAv30dOEdyqUCpE9BEeI6pQPRsVn3OoalAW7G/7D5rqUC1N/jCxJ2pQHzysFDrj6lA+1xtxb6ZqUCR7Xw/NVqpQJSHhVoTMKlA",
          "dtype": "f8"
         }
        },
        {
         "marker": {
          "color": "#3f3f3f",
          "size": 5
         },
         "mode": "lines+markers",
         "name": "Original",
         "showlegend": true,
         "type": "scatter",
         "x": [
          "2024-04-10T00:00:00",
          "2024-04-11T00:00:00",
          "2024-04-12T00:00:00",
          "2024-04-13T00:00:00",
          "2024-04-14T00:00:00",
          "2024-04-15T00:00:00",
          "2024-04-16T00:00:00",
          "2024-04-17T00:00:00",
          "2024-04-18T00:00:00",
          "2024-04-19T00:00:00",
          "2024-04-20T00:00:00",
          "2024-04-21T00:00:00",
          "2024-04-22T00:00:00",
          "2024-04-23T00:00:00",
          "2024-04-24T00:00:00",
          "2024-04-25T00:00:00",
          "2024-04-26T00:00:00",
          "2024-04-27T00:00:00",
          "2024-04-28T00:00:00",
          "2024-04-29T00:00:00",
          "2024-04-30T00:00:00",
          "2024-05-01T00:00:00",
          "2024-05-02T00:00:00",
          "2024-05-03T00:00:00",
          "2024-05-04T00:00:00",
          "2024-05-05T00:00:00",
          "2024-05-06T00:00:00",
          "2024-05-07T00:00:00",
          "2024-05-08T00:00:00",
          "2024-05-09T00:00:00",
          "2024-05-10T00:00:00",
          "2024-05-11T00:00:00",
          "2024-05-12T00:00:00",
          "2024-05-13T00:00:00",
          "2024-05-14T00:00:00",
          "2024-05-15T00:00:00",
          "2024-05-16T00:00:00",
          "2024-05-17T00:00:00",
          "2024-05-18T00:00:00",
          "2024-05-19T00:00:00",
          "2024-05-20T00:00:00",
          "2024-05-21T00:00:00",
          "2024-05-22T00:00:00",
          "2024-05-23T00:00:00",
          "2024-05-24T00:00:00",
          "2024-05-25T00:00:00",
          "2024-05-26T00:00:00",
          "2024-05-27T00:00:00",
          "2024-05-28T00:00:00",
          "2024-05-29T00:00:00",
          "2024-05-30T00:00:00",
          "2024-05-31T00:00:00",
          "2024-06-01T00:00:00",
          "2024-06-02T00:00:00",
          "2024-06-03T00:00:00",
          "2024-06-04T00:00:00",
          "2024-06-05T00:00:00",
          "2024-06-06T00:00:00",
          "2024-06-07T00:00:00",
          "2024-06-08T00:00:00",
          "2024-06-09T00:00:00",
          "2024-06-10T00:00:00",
          "2024-06-11T00:00:00",
          "2024-06-12T00:00:00",
          "2024-06-13T00:00:00",
          "2024-06-14T00:00:00",
          "2024-06-15T00:00:00",
          "2024-06-16T00:00:00",
          "2024-06-17T00:00:00",
          "2024-06-18T00:00:00",
          "2024-06-19T00:00:00",
          "2024-06-20T00:00:00",
          "2024-06-21T00:00:00",
          "2024-06-22T00:00:00",
          "2024-06-23T00:00:00",
          "2024-06-24T00:00:00",
          "2024-06-25T00:00:00",
          "2024-06-26T00:00:00",
          "2024-06-27T00:00:00",
          "2024-06-28T00:00:00",
          "2024-06-29T00:00:00",
          "2024-06-30T00:00:00",
          "2024-07-01T00:00:00",
          "2024-07-02T00:00:00",
          "2024-07-03T00:00:00",
          "2024-07-04T00:00:00",
          "2024-07-05T00:00:00",
          "2024-07-06T00:00:00",
          "2024-07-07T00:00:00",
          "2024-07-08T00:00:00",
          "2024-07-09T00:00:00",
          "2024-07-10T00:00:00",
          "2024-07-11T00:00:00",
          "2024-07-12T00:00:00",
          "2024-07-13T00:00:00",
          "2024-07-14T00:00:00",
          "2024-07-15T00:00:00",
          "2024-07-16T00:00:00",
          "2024-07-17T00:00:00",
          "2024-07-18T00:00:00",
          "2024-07-19T00:00:00",
          "2024-07-20T00:00:00",
          "2024-07-21T00:00:00",
          "2024-07-22T00:00:00",
          "2024-07-23T00:00:00",
          "2024-07-24T00:00:00",
          "2024-07-25T00:00:00",
          "2024-07-26T00:00:00",
          "2024-07-27T00:00:00",
          "2024-07-28T00:00:00",
          "2024-07-29T00:00:00",
          "2024-07-30T00:00:00",
          "2024-07-31T00:00:00",
          "2024-08-01T00:00:00",
          "2024-08-02T00:00:00",
          "2024-08-03T00:00:00",
          "2024-08-04T00:00:00",
          "2024-08-05T00:00:00",
          "2024-08-06T00:00:00",
          "2024-08-07T00:00:00",
          "2024-08-08T00:00:00",
          "2024-08-09T00:00:00",
          "2024-08-10T00:00:00",
          "2024-08-11T00:00:00",
          "2024-08-12T00:00:00",
          "2024-08-13T00:00:00",
          "2024-08-14T00:00:00",
          "2024-08-15T00:00:00",
          "2024-08-16T00:00:00",
          "2024-08-17T00:00:00",
          "2024-08-18T00:00:00",
          "2024-08-19T00:00:00",
          "2024-08-20T00:00:00",
          "2024-08-21T00:00:00",
          "2024-08-22T00:00:00",
          "2024-08-23T00:00:00",
          "2024-08-24T00:00:00",
          "2024-08-25T00:00:00",
          "2024-08-26T00:00:00",
          "2024-08-27T00:00:00",
          "2024-08-28T00:00:00",
          "2024-08-29T00:00:00",
          "2024-08-30T00:00:00",
          "2024-08-31T00:00:00",
          "2024-09-01T00:00:00",
          "2024-09-02T00:00:00",
          "2024-09-03T00:00:00",
          "2024-09-04T00:00:00",
          "2024-09-05T00:00:00",
          "2024-09-06T00:00:00",
          "2024-09-07T00:00:00",
          "2024-09-08T00:00:00",
          "2024-09-09T00:00:00",
          "2024-09-10T00:00:00",
          "2024-09-11T00:00:00",
          "2024-09-12T00:00:00",
          "2024-09-13T00:00:00",
          "2024-09-14T00:00:00",
          "2024-09-15T00:00:00",
          "2024-09-16T00:00:00",
          "2024-09-17T00:00:00",
          "2024-09-18T00:00:00",
          "2024-09-19T00:00:00",
          "2024-09-20T00:00:00",
          "2024-09-21T00:00:00",
          "2024-09-22T00:00:00",
          "2024-09-23T00:00:00",
          "2024-09-24T00:00:00",
          "2024-09-25T00:00:00",
          "2024-09-26T00:00:00",
          "2024-09-27T00:00:00",
          "2024-09-28T00:00:00",
          "2024-09-29T00:00:00",
          "2024-09-30T00:00:00",
          "2024-10-01T00:00:00",
          "2024-10-02T00:00:00",
          "2024-10-03T00:00:00",
          "2024-10-04T00:00:00",
          "2024-10-05T00:00:00",
          "2024-10-06T00:00:00",
          "2024-10-07T00:00:00",
          "2024-10-08T00:00:00",
          "2024-10-09T00:00:00",
          "2024-10-10T00:00:00",
          "2024-10-11T00:00:00",
          "2024-10-12T00:00:00",
          "2024-10-13T00:00:00",
          "2024-10-14T00:00:00",
          "2024-10-15T00:00:00",
          "2024-10-16T00:00:00",
          "2024-10-17T00:00:00",
          "2024-10-18T00:00:00",
          "2024-10-19T00:00:00",
          "2024-10-20T00:00:00",
          "2024-10-21T00:00:00",
          "2024-10-22T00:00:00",
          "2024-10-23T00:00:00",
          "2024-10-24T00:00:00",
          "2024-10-25T00:00:00",
          "2024-10-26T00:00:00",
          "2024-10-27T00:00:00",
          "2024-10-28T00:00:00",
          "2024-10-29T00:00:00",
          "2024-10-30T00:00:00",
          "2024-10-31T00:00:00",
          "2024-11-01T00:00:00",
          "2024-11-02T00:00:00",
          "2024-11-03T00:00:00",
          "2024-11-04T00:00:00",
          "2024-11-05T00:00:00",
          "2024-11-06T00:00:00",
          "2024-11-07T00:00:00",
          "2024-11-08T00:00:00",
          "2024-11-09T00:00:00",
          "2024-11-10T00:00:00",
          "2024-11-11T00:00:00",
          "2024-11-12T00:00:00",
          "2024-11-13T00:00:00",
          "2024-11-14T00:00:00",
          "2024-11-15T00:00:00",
          "2024-11-16T00:00:00",
          "2024-11-17T00:00:00",
          "2024-11-18T00:00:00",
          "2024-11-19T00:00:00",
          "2024-11-20T00:00:00",
          "2024-11-21T00:00:00",
          "2024-11-22T00:00:00",
          "2024-11-23T00:00:00",
          "2024-11-24T00:00:00",
          "2024-11-25T00:00:00",
          "2024-11-26T00:00:00",
          "2024-11-27T00:00:00",
          "2024-11-28T00:00:00",
          "2024-11-29T00:00:00",
          "2024-11-30T00:00:00",
          "2024-12-01T00:00:00",
          "2024-12-02T00:00:00",
          "2024-12-03T00:00:00",
          "2024-12-04T00:00:00",
          "2024-12-05T00:00:00",
          "2024-12-06T00:00:00",
          "2024-12-07T00:00:00",
          "2024-12-08T00:00:00",
          "2024-12-09T00:00:00",
          "2024-12-10T00:00:00",
          "2024-12-11T00:00:00",
          "2024-12-12T00:00:00",
          "2024-12-13T00:00:00",
          "2024-12-14T00:00:00",
          "2024-12-15T00:00:00",
          "2024-12-16T00:00:00",
          "2024-12-17T00:00:00",
          "2024-12-18T00:00:00",
          "2024-12-19T00:00:00",
          "2024-12-20T00:00:00",
          "2024-12-21T00:00:00",
          "2024-12-22T00:00:00",
          "2024-12-23T00:00:00",
          "2024-12-24T00:00:00",
          "2024-12-25T00:00:00",
          "2024-12-26T00:00:00",
          "2024-12-27T00:00:00",
          "2024-12-28T00:00:00",
          "2024-12-29T00:00:00",
          "2024-12-30T00:00:00",
          "2024-12-31T00:00:00",
          "2025-01-01T00:00:00",
          "2025-01-02T00:00:00",
          "2025-01-03T00:00:00",
          "2025-01-04T00:00:00",
          "2025-01-05T00:00:00",
          "2025-01-06T00:00:00",
          "2025-01-07T00:00:00",
          "2025-01-08T00:00:00",
          "2025-01-09T00:00:00",
          "2025-01-10T00:00:00",
          "2025-01-11T00:00:00",
          "2025-01-12T00:00:00",
          "2025-01-13T00:00:00",
          "2025-01-14T00:00:00",
          "2025-01-15T00:00:00",
          "2025-01-16T00:00:00",
          "2025-01-17T00:00:00",
          "2025-01-18T00:00:00",
          "2025-01-19T00:00:00",
          "2025-01-20T00:00:00",
          "2025-01-21T00:00:00",
          "2025-01-22T00:00:00",
          "2025-01-23T00:00:00",
          "2025-01-24T00:00:00",
          "2025-01-25T00:00:00",
          "2025-01-26T00:00:00",
          "2025-01-27T00:00:00",
          "2025-01-28T00:00:00",
          "2025-01-29T00:00:00",
          "2025-01-30T00:00:00",
          "2025-01-31T00:00:00",
          "2025-02-01T00:00:00",
          "2025-02-02T00:00:00",
          "2025-02-03T00:00:00",
          "2025-02-04T00:00:00",
          "2025-02-05T00:00:00",
          "2025-02-06T00:00:00",
          "2025-02-07T00:00:00",
          "2025-02-08T00:00:00",
          "2025-02-09T00:00:00",
          "2025-02-10T00:00:00",
          "2025-02-11T00:00:00",
          "2025-02-12T00:00:00",
          "2025-02-13T00:00:00",
          "2025-02-14T00:00:00",
          "2025-02-15T00:00:00",
          "2025-02-16T00:00:00",
          "2025-02-17T00:00:00",
          "2025-02-18T00:00:00",
          "2025-02-19T00:00:00",
          "2025-02-20T00:00:00",
          "2025-02-21T00:00:00",
          "2025-02-22T00:00:00",
          "2025-02-23T00:00:00",
          "2025-02-24T00:00:00",
          "2025-02-25T00:00:00",
          "2025-02-26T00:00:00",
          "2025-02-27T00:00:00",
          "2025-02-28T00:00:00",
          "2025-03-01T00:00:00",
          "2025-03-02T00:00:00",
          "2025-03-03T00:00:00",
          "2025-03-04T00:00:00",
          "2025-03-05T00:00:00",
          "2025-03-06T00:00:00",
          "2025-03-07T00:00:00",
          "2025-03-08T00:00:00",
          "2025-03-09T00:00:00",
          "2025-03-10T00:00:00",
          "2025-03-11T00:00:00",
          "2025-03-12T00:00:00",
          "2025-03-13T00:00:00",
          "2025-03-14T00:00:00",
          "2025-03-15T00:00:00",
          "2025-03-16T00:00:00",
          "2025-03-17T00:00:00",
          "2025-03-18T00:00:00",
          "2025-03-19T00:00:00",
          "2025-03-20T00:00:00",
          "2025-03-21T00:00:00",
          "2025-03-22T00:00:00",
          "2025-03-23T00:00:00",
          "2025-03-24T00:00:00",
          "2025-03-25T00:00:00",
          "2025-03-26T00:00:00",
          "2025-03-27T00:00:00",
          "2025-03-28T00:00:00",
          "2025-03-29T00:00:00",
          "2025-03-30T00:00:00",
          "2025-03-31T00:00:00",
          "2025-04-01T00:00:00",
          "2025-04-02T00:00:00",
          "2025-04-03T00:00:00",
          "2025-04-04T00:00:00",
          "2025-04-05T00:00:00",
          "2025-04-06T00:00:00",
          "2025-04-07T00:00:00",
          "2025-04-08T00:00:00",
          "2025-04-09T00:00:00"
         ],
         "y": {
          "bdata": "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",
          "dtype": "f8"
         }
        }
       ],
       "layout": {
        "showlegend": true,
        "template": {
         "data": {
          "bar": [
           {
            "error_x": {
             "color": "rgb(51,51,51)"
            },
            "error_y": {
             "color": "rgb(51,51,51)"
            },
            "marker": {
             "line": {
              "color": "rgb(237,237,237)",
              "width": 0.5
             },
             "pattern": {
              "fillmode": "overlay",
              "size": 10,
              "solidity": 0.2
             }
            },
            "type": "bar"
           }
          ],
          "barpolar": [
           {
            "marker": {
             "line": {
              "color": "rgb(237,237,237)",
              "width": 0.5
             },
             "pattern": {
              "fillmode": "overlay",
              "size": 10,
              "solidity": 0.2
             }
            },
            "type": "barpolar"
           }
          ],
          "carpet": [
           {
            "aaxis": {
             "endlinecolor": "rgb(51,51,51)",
             "gridcolor": "white",
             "linecolor": "white",
             "minorgridcolor": "white",
             "startlinecolor": "rgb(51,51,51)"
            },
            "baxis": {
             "endlinecolor": "rgb(51,51,51)",
             "gridcolor": "white",
             "linecolor": "white",
             "minorgridcolor": "white",
             "startlinecolor": "rgb(51,51,51)"
            },
            "type": "carpet"
           }
          ],
          "choropleth": [
           {
            "colorbar": {
             "outlinewidth": 0,
             "tickcolor": "rgb(237,237,237)",
             "ticklen": 6,
             "ticks": "inside"
            },
            "type": "choropleth"
           }
          ],
          "contour": [
           {
            "colorbar": {
             "outlinewidth": 0,
             "tickcolor": "rgb(237,237,237)",
             "ticklen": 6,
             "ticks": "inside"
            },
            "colorscale": [
             [
              0,
              "rgb(20,44,66)"
             ],
             [
              1,
              "rgb(90,179,244)"
             ]
            ],
            "type": "contour"
           }
          ],
          "contourcarpet": [
           {
            "colorbar": {
             "outlinewidth": 0,
             "tickcolor": "rgb(237,237,237)",
             "ticklen": 6,
             "ticks": "inside"
            },
            "type": "contourcarpet"
           }
          ],
          "heatmap": [
           {
            "colorbar": {
             "outlinewidth": 0,
             "tickcolor": "rgb(237,237,237)",
             "ticklen": 6,
             "ticks": "inside"
            },
            "colorscale": [
             [
              0,
              "rgb(20,44,66)"
             ],
             [
              1,
              "rgb(90,179,244)"
             ]
            ],
            "type": "heatmap"
           }
          ],
          "histogram": [
           {
            "marker": {
             "pattern": {
              "fillmode": "overlay",
              "size": 10,
              "solidity": 0.2
             }
            },
            "type": "histogram"
           }
          ],
          "histogram2d": [
           {
            "colorbar": {
             "outlinewidth": 0,
             "tickcolor": "rgb(237,237,237)",
             "ticklen": 6,
             "ticks": "inside"
            },
            "colorscale": [
             [
              0,
              "rgb(20,44,66)"
             ],
             [
              1,
              "rgb(90,179,244)"
             ]
            ],
            "type": "histogram2d"
           }
          ],
          "histogram2dcontour": [
           {
            "colorbar": {
             "outlinewidth": 0,
             "tickcolor": "rgb(237,237,237)",
             "ticklen": 6,
             "ticks": "inside"
            },
            "colorscale": [
             [
              0,
              "rgb(20,44,66)"
             ],
             [
              1,
              "rgb(90,179,244)"
             ]
            ],
            "type": "histogram2dcontour"
           }
          ],
          "mesh3d": [
           {
            "colorbar": {
             "outlinewidth": 0,
             "tickcolor": "rgb(237,237,237)",
             "ticklen": 6,
             "ticks": "inside"
            },
            "type": "mesh3d"
           }
          ],
          "parcoords": [
           {
            "line": {
             "colorbar": {
              "outlinewidth": 0,
              "tickcolor": "rgb(237,237,237)",
              "ticklen": 6,
              "ticks": "inside"
             }
            },
            "type": "parcoords"
           }
          ],
          "pie": [
           {
            "automargin": true,
            "type": "pie"
           }
          ],
          "scatter": [
           {
            "fillpattern": {
             "fillmode": "overlay",
             "size": 10,
             "solidity": 0.2
            },
            "type": "scatter"
           }
          ],
          "scatter3d": [
           {
            "line": {
             "colorbar": {
              "outlinewidth": 0,
              "tickcolor": "rgb(237,237,237)",
              "ticklen": 6,
              "ticks": "inside"
             }
            },
            "marker": {
             "colorbar": {
              "outlinewidth": 0,
              "tickcolor": "rgb(237,237,237)",
              "ticklen": 6,
              "ticks": "inside"
             }
            },
            "type": "scatter3d"
           }
          ],
          "scattercarpet": [
           {
            "marker": {
             "colorbar": {
              "outlinewidth": 0,
              "tickcolor": "rgb(237,237,237)",
              "ticklen": 6,
              "ticks": "inside"
             }
            },
            "type": "scattercarpet"
           }
          ],
          "scattergeo": [
           {
            "marker": {
             "colorbar": {
              "outlinewidth": 0,
              "tickcolor": "rgb(237,237,237)",
              "ticklen": 6,
              "ticks": "inside"
             }
            },
            "type": "scattergeo"
           }
          ],
          "scattergl": [
           {
            "marker": {
             "colorbar": {
              "outlinewidth": 0,
              "tickcolor": "rgb(237,237,237)",
              "ticklen": 6,
              "ticks": "inside"
             }
            },
            "type": "scattergl"
           }
          ],
          "scattermap": [
           {
            "marker": {
             "colorbar": {
              "outlinewidth": 0,
              "tickcolor": "rgb(237,237,237)",
              "ticklen": 6,
              "ticks": "inside"
             }
            },
            "type": "scattermap"
           }
          ],
          "scattermapbox": [
           {
            "marker": {
             "colorbar": {
              "outlinewidth": 0,
              "tickcolor": "rgb(237,237,237)",
              "ticklen": 6,
              "ticks": "inside"
             }
            },
            "type": "scattermapbox"
           }
          ],
          "scatterpolar": [
           {
            "marker": {
             "colorbar": {
              "outlinewidth": 0,
              "tickcolor": "rgb(237,237,237)",
              "ticklen": 6,
              "ticks": "inside"
             }
            },
            "type": "scatterpolar"
           }
          ],
          "scatterpolargl": [
           {
            "marker": {
             "colorbar": {
              "outlinewidth": 0,
              "tickcolor": "rgb(237,237,237)",
              "ticklen": 6,
              "ticks": "inside"
             }
            },
            "type": "scatterpolargl"
           }
          ],
          "scatterternary": [
           {
            "marker": {
             "colorbar": {
              "outlinewidth": 0,
              "tickcolor": "rgb(237,237,237)",
              "ticklen": 6,
              "ticks": "inside"
             }
            },
            "type": "scatterternary"
           }
          ],
          "surface": [
           {
            "colorbar": {
             "outlinewidth": 0,
             "tickcolor": "rgb(237,237,237)",
             "ticklen": 6,
             "ticks": "inside"
            },
            "colorscale": [
             [
              0,
              "rgb(20,44,66)"
             ],
             [
              1,
              "rgb(90,179,244)"
             ]
            ],
            "type": "surface"
           }
          ],
          "table": [
           {
            "cells": {
             "fill": {
              "color": "rgb(237,237,237)"
             },
             "line": {
              "color": "white"
             }
            },
            "header": {
             "fill": {
              "color": "rgb(217,217,217)"
             },
             "line": {
              "color": "white"
             }
            },
            "type": "table"
           }
          ]
         },
         "layout": {
          "annotationdefaults": {
           "arrowhead": 0,
           "arrowwidth": 1
          },
          "autotypenumbers": "strict",
          "coloraxis": {
           "colorbar": {
            "outlinewidth": 0,
            "tickcolor": "rgb(237,237,237)",
            "ticklen": 6,
            "ticks": "inside"
           }
          },
          "colorscale": {
           "sequential": [
            [
             0,
             "rgb(20,44,66)"
            ],
            [
             1,
             "rgb(90,179,244)"
            ]
           ],
           "sequentialminus": [
            [
             0,
             "rgb(20,44,66)"
            ],
            [
             1,
             "rgb(90,179,244)"
            ]
           ]
          },
          "colorway": [
           "#F8766D",
           "#A3A500",
           "#00BF7D",
           "#00B0F6",
           "#E76BF3"
          ],
          "font": {
           "color": "rgb(51,51,51)"
          },
          "geo": {
           "bgcolor": "white",
           "lakecolor": "white",
           "landcolor": "rgb(237,237,237)",
           "showlakes": true,
           "showland": true,
           "subunitcolor": "white"
          },
          "hoverlabel": {
           "align": "left"
          },
          "hovermode": "closest",
          "paper_bgcolor": "white",
          "plot_bgcolor": "rgb(237,237,237)",
          "polar": {
           "angularaxis": {
            "gridcolor": "white",
            "linecolor": "white",
            "showgrid": true,
            "tickcolor": "rgb(51,51,51)",
            "ticks": "outside"
           },
           "bgcolor": "rgb(237,237,237)",
           "radialaxis": {
            "gridcolor": "white",
            "linecolor": "white",
            "showgrid": true,
            "tickcolor": "rgb(51,51,51)",
            "ticks": "outside"
           }
          },
          "scene": {
           "xaxis": {
            "backgroundcolor": "rgb(237,237,237)",
            "gridcolor": "white",
            "gridwidth": 2,
            "linecolor": "white",
            "showbackground": true,
            "showgrid": true,
            "tickcolor": "rgb(51,51,51)",
            "ticks": "outside",
            "zerolinecolor": "white"
           },
           "yaxis": {
            "backgroundcolor": "rgb(237,237,237)",
            "gridcolor": "white",
            "gridwidth": 2,
            "linecolor": "white",
            "showbackground": true,
            "showgrid": true,
            "tickcolor": "rgb(51,51,51)",
            "ticks": "outside",
            "zerolinecolor": "white"
           },
           "zaxis": {
            "backgroundcolor": "rgb(237,237,237)",
            "gridcolor": "white",
            "gridwidth": 2,
            "linecolor": "white",
            "showbackground": true,
            "showgrid": true,
            "tickcolor": "rgb(51,51,51)",
            "ticks": "outside",
            "zerolinecolor": "white"
           }
          },
          "shapedefaults": {
           "fillcolor": "black",
           "line": {
            "width": 0
           },
           "opacity": 0.3
          },
          "ternary": {
           "aaxis": {
            "gridcolor": "white",
            "linecolor": "white",
            "showgrid": true,
            "tickcolor": "rgb(51,51,51)",
            "ticks": "outside"
           },
           "baxis": {
            "gridcolor": "white",
            "linecolor": "white",
            "showgrid": true,
            "tickcolor": "rgb(51,51,51)",
            "ticks": "outside"
           },
           "bgcolor": "rgb(237,237,237)",
           "caxis": {
            "gridcolor": "white",
            "linecolor": "white",
            "showgrid": true,
            "tickcolor": "rgb(51,51,51)",
            "ticks": "outside"
           }
          },
          "xaxis": {
           "automargin": true,
           "gridcolor": "white",
           "linecolor": "white",
           "showgrid": true,
           "tickcolor": "rgb(51,51,51)",
           "ticks": "outside",
           "title": {
            "standoff": 15
           },
           "zerolinecolor": "white"
          },
          "yaxis": {
           "automargin": true,
           "gridcolor": "white",
           "linecolor": "white",
           "showgrid": true,
           "tickcolor": "rgb(51,51,51)",
           "ticks": "outside",
           "title": {
            "standoff": 15
           },
           "zerolinecolor": "white"
          }
         }
        },
        "title": {
         "text": "Actual vs. 'Out-of-Sample' Forecast | ETH-USD"
        },
        "xaxis": {
         "title": {
          "text": "Time"
         }
        },
        "yaxis": {
         "title": {
          "text": "Values"
         }
        }
       }
      }
     },
     "metadata": {},
     "output_type": "display_data"
    }
   ],
   "source": [
    "eth = df.loc[:,'ETH-USD']\n",
    "# Set up PyCaret environment\n",
    "s = setup(data=eth, \n",
    "          target = 'ETH-USD',\n",
    "          #transform_target='log',\n",
    "          fh=30,  # Forecast horizon\n",
    "          session_id=123,\n",
    "          fold_strategy='expanding',\n",
    "          seasonal_period='D',\n",
    "          #fold_spans=\"adaptive\",\n",
    "          numeric_imputation_target = 'drift')\n",
    "arima = create_model('arima')\n",
    "prophet = create_model('prophet')\n",
    "tuned_arima = tune_model(arima)\n",
    "tuned_prophet = tune_model(prophet)\n",
    "final_arima = finalize_model(tuned_arima)\n",
    "final_prophet = finalize_model(tuned_prophet)\n",
    "#future_dates = pd.date_range(df.index[-1], periods=30, freq='D')\n",
    "arima_predictions = predict_model(final_arima)\n",
    "prophet_predictions = predict_model(final_prophet)\n",
    "#Plot prophet model forecast\n",
    "plot_model(final_arima, plot='forecast')\n",
    "#Plot prophet model forecast\n",
    "plot_model(final_prophet, plot='forecast')"
   ]
  },
  {
   "cell_type": "markdown",
   "id": "57a323eb",
   "metadata": {},
   "source": [
    "Forecast BTC-USD using LSTM"
   ]
  },
  {
   "cell_type": "code",
   "execution_count": 4,
   "id": "6772fd18",
   "metadata": {},
   "outputs": [],
   "source": [
    "import pandas as pd\n",
    "from neuralforecast import NeuralForecast\n",
    "from neuralforecast.models import LSTM\n",
    "from neuralforecast.losses.pytorch import MAE\n",
    "import matplotlib.pyplot as plt"
   ]
  },
  {
   "cell_type": "code",
   "execution_count": 5,
   "id": "b94a1081",
   "metadata": {},
   "outputs": [],
   "source": [
    "# 1. Standardize columns\n",
    "df['ds'] = pd.to_datetime(df.index)  # Convert to datetime\n",
    "df['y'] = df['BTC-USD']                # Target variable\n"
   ]
  },
  {
   "cell_type": "code",
   "execution_count": 6,
   "id": "b502a8b5",
   "metadata": {},
   "outputs": [],
   "source": [
    "# Add constant unique_id (since you only have BTC-USD)\n",
    "df['unique_id'] = 'BTC-USD'  # <- THIS FIXES THE ERROR\n"
   ]
  },
  {
   "cell_type": "code",
   "execution_count": 7,
   "id": "384a7a29",
   "metadata": {},
   "outputs": [
    {
     "name": "stderr",
     "output_type": "stream",
     "text": [
      "Seed set to 1\n"
     ]
    }
   ],
   "source": [
    "# 2. Configure LSTM model\n",
    "lstm_model = LSTM(\n",
    "    h=30,                          # Forecast horizon (30 days)\n",
    "    input_size=60,                 # Lookback window (60 days)\n",
    "    max_steps=500,                 # Training iterations\n",
    "    #hidden_size=64,                # LSTM hidden units\n",
    "    loss=MAE(),                    # Loss function\n",
    "    scaler_type='standard'         # Normalize data\n",
    ")"
   ]
  },
  {
   "cell_type": "code",
   "execution_count": 8,
   "id": "ef379bc1",
   "metadata": {},
   "outputs": [
    {
     "name": "stderr",
     "output_type": "stream",
     "text": [
      "GPU available: False, used: False\n",
      "TPU available: False, using: 0 TPU cores\n",
      "HPU available: False, using: 0 HPUs\n",
      "\n",
      "  | Name         | Type          | Params | Mode \n",
      "-------------------------------------------------------\n",
      "0 | loss         | MAE           | 0      | train\n",
      "1 | padder_train | ConstantPad1d | 0      | train\n",
      "2 | scaler       | TemporalNorm  | 0      | train\n",
      "3 | hist_encoder | LSTM          | 199 K  | train\n",
      "4 | mlp_decoder  | MLP           | 16.6 K | train\n",
      "-------------------------------------------------------\n",
      "215 K     Trainable params\n",
      "0         Non-trainable params\n",
      "215 K     Total params\n",
      "0.863     Total estimated model params size (MB)\n",
      "10        Modules in train mode\n",
      "0         Modules in eval mode\n"
     ]
    },
    {
     "data": {
      "application/vnd.jupyter.widget-view+json": {
       "model_id": "ca744736f91a43aab3389f50fa799bb8",
       "version_major": 2,
       "version_minor": 0
      },
      "text/plain": [
       "Sanity Checking: |          | 0/? [00:00<?, ?it/s]"
      ]
     },
     "metadata": {},
     "output_type": "display_data"
    },
    {
     "data": {
      "application/vnd.jupyter.widget-view+json": {
       "model_id": "fc010a288acd4a9187b784320388fb27",
       "version_major": 2,
       "version_minor": 0
      },
      "text/plain": [
       "Training: |          | 0/? [00:00<?, ?it/s]"
      ]
     },
     "metadata": {},
     "output_type": "display_data"
    },
    {
     "data": {
      "application/vnd.jupyter.widget-view+json": {
       "model_id": "b988be57a36d4f98a9a111bd5cbf007c",
       "version_major": 2,
       "version_minor": 0
      },
      "text/plain": [
       "Validation: |          | 0/? [00:00<?, ?it/s]"
      ]
     },
     "metadata": {},
     "output_type": "display_data"
    },
    {
     "data": {
      "application/vnd.jupyter.widget-view+json": {
       "model_id": "adc01e124f3740c1868f47ace45ad045",
       "version_major": 2,
       "version_minor": 0
      },
      "text/plain": [
       "Validation: |          | 0/? [00:00<?, ?it/s]"
      ]
     },
     "metadata": {},
     "output_type": "display_data"
    },
    {
     "data": {
      "application/vnd.jupyter.widget-view+json": {
       "model_id": "d43f0586034f48a49d790a8438c3cadf",
       "version_major": 2,
       "version_minor": 0
      },
      "text/plain": [
       "Validation: |          | 0/? [00:00<?, ?it/s]"
      ]
     },
     "metadata": {},
     "output_type": "display_data"
    },
    {
     "data": {
      "application/vnd.jupyter.widget-view+json": {
       "model_id": "0f52e54f55e24345bc9b47b7ccdac66d",
       "version_major": 2,
       "version_minor": 0
      },
      "text/plain": [
       "Validation: |          | 0/? [00:00<?, ?it/s]"
      ]
     },
     "metadata": {},
     "output_type": "display_data"
    },
    {
     "data": {
      "application/vnd.jupyter.widget-view+json": {
       "model_id": "f7d198aea4744f239f511e27e3ce16cc",
       "version_major": 2,
       "version_minor": 0
      },
      "text/plain": [
       "Validation: |          | 0/? [00:00<?, ?it/s]"
      ]
     },
     "metadata": {},
     "output_type": "display_data"
    },
    {
     "name": "stderr",
     "output_type": "stream",
     "text": [
      "`Trainer.fit` stopped: `max_steps=500` reached.\n",
      "GPU available: False, used: False\n",
      "TPU available: False, using: 0 TPU cores\n",
      "HPU available: False, using: 0 HPUs\n"
     ]
    },
    {
     "data": {
      "application/vnd.jupyter.widget-view+json": {
       "model_id": "b5ad80eda1a04b4f8c9ae10fd110c534",
       "version_major": 2,
       "version_minor": 0
      },
      "text/plain": [
       "Predicting: |          | 0/? [00:00<?, ?it/s]"
      ]
     },
     "metadata": {},
     "output_type": "display_data"
    }
   ],
   "source": [
    "# 3. Train and predict\n",
    "nf = NeuralForecast(models=[lstm_model], freq='D')\n",
    "nf.fit(df=df)\n",
    "forecast = nf.predict()"
   ]
  },
  {
   "cell_type": "code",
   "execution_count": 9,
   "id": "b998759c",
   "metadata": {},
   "outputs": [
    {
     "data": {
      "image/png": "[encoded data removed]",
      "text/plain": [
       "<Figure size 1400x600 with 1 Axes>"
      ]
     },
     "metadata": {},
     "output_type": "display_data"
    }
   ],
   "source": [
    "# 4. Plot results\n",
    "plt.figure(figsize=(14, 6))\n",
    "plt.plot(df['ds'], df['y'], label='Historical')\n",
    "plt.plot(forecast['ds'], forecast['LSTM'], label='LSTM Forecast', color='red')\n",
    "plt.title('BTC-USD 30-Day LSTM Forecast')\n",
    "plt.legend()\n",
    "plt.grid()\n",
    "plt.show()"
   ]
  },
  {
   "cell_type": "code",
   "execution_count": null,
   "id": "2f22d41e",
   "metadata": {},
   "outputs": [],
   "source": [
    "#Add signal column and populate with argument to buy or sell if price exceeds or gets below $2000\n",
    "df['signal'] = 0  # 0 = hold, 1 = buy, -1 = sell\n",
    "\n",
    "for i in range(1, len(df)):\n",
    "    if df['y'].iloc[i] > df['y'].iloc[i-1] + 2000:\n",
    "        df['signal'].iloc[i] = 1\n",
    "    elif df['y'].iloc[i] < df['y'].iloc[i-1] - 2000:\n",
    "        df['signal'].iloc[i] = -1"
   ]
  },
  {
   "cell_type": "code",
   "execution_count": 22,
   "id": "b5ebdd4a",
   "metadata": {},
   "outputs": [],
   "source": [
    "import plotly.graph_objects as go"
   ]
  },
  {
   "cell_type": "code",
   "execution_count": 53,
   "id": "46b070cf",
   "metadata": {},
   "outputs": [
    {
     "data": {
      "application/vnd.plotly.v1+json": {
       "config": {
        "plotlyServerURL": "https://plot.ly"
       },
       "data": [
        {
         "mode": "lines",
         "name": "Historical BTC Price",
         "type": "scatter",
         "x": [
          "2024-04-10T00:00:00",
          "2024-04-11T00:00:00",
          "2024-04-12T00:00:00",
          "2024-04-13T00:00:00",
          "2024-04-14T00:00:00",
          "2024-04-15T00:00:00",
          "2024-04-16T00:00:00",
          "2024-04-17T00:00:00",
          "2024-04-18T00:00:00",
          "2024-04-19T00:00:00",
          "2024-04-20T00:00:00",
          "2024-04-21T00:00:00",
          "2024-04-22T00:00:00",
          "2024-04-23T00:00:00",
          "2024-04-24T00:00:00",
          "2024-04-25T00:00:00",
          "2024-04-26T00:00:00",
          "2024-04-27T00:00:00",
          "2024-04-28T00:00:00",
          "2024-04-29T00:00:00",
          "2024-04-30T00:00:00",
          "2024-05-01T00:00:00",
          "2024-05-02T00:00:00",
          "2024-05-03T00:00:00",
          "2024-05-04T00:00:00",
          "2024-05-05T00:00:00",
          "2024-05-06T00:00:00",
          "2024-05-07T00:00:00",
          "2024-05-08T00:00:00",
          "2024-05-09T00:00:00",
          "2024-05-10T00:00:00",
          "2024-05-11T00:00:00",
          "2024-05-12T00:00:00",
          "2024-05-13T00:00:00",
          "2024-05-14T00:00:00",
          "2024-05-15T00:00:00",
          "2024-05-16T00:00:00",
          "2024-05-17T00:00:00",
          "2024-05-18T00:00:00",
          "2024-05-19T00:00:00",
          "2024-05-20T00:00:00",
          "2024-05-21T00:00:00",
          "2024-05-22T00:00:00",
          "2024-05-23T00:00:00",
          "2024-05-24T00:00:00",
          "2024-05-25T00:00:00",
          "2024-05-26T00:00:00",
          "2024-05-27T00:00:00",
          "2024-05-28T00:00:00",
          "2024-05-29T00:00:00",
          "2024-05-30T00:00:00",
          "2024-05-31T00:00:00",
          "2024-06-01T00:00:00",
          "2024-06-02T00:00:00",
          "2024-06-03T00:00:00",
          "2024-06-04T00:00:00",
          "2024-06-05T00:00:00",
          "2024-06-06T00:00:00",
          "2024-06-07T00:00:00",
          "2024-06-08T00:00:00",
          "2024-06-09T00:00:00",
          "2024-06-10T00:00:00",
          "2024-06-11T00:00:00",
          "2024-06-12T00:00:00",
          "2024-06-13T00:00:00",
          "2024-06-14T00:00:00",
          "2024-06-15T00:00:00",
          "2024-06-16T00:00:00",
          "2024-06-17T00:00:00",
          "2024-06-18T00:00:00",
          "2024-06-19T00:00:00",
          "2024-06-20T00:00:00",
          "2024-06-21T00:00:00",
          "2024-06-22T00:00:00",
          "2024-06-23T00:00:00",
          "2024-06-24T00:00:00",
          "2024-06-25T00:00:00",
          "2024-06-26T00:00:00",
          "2024-06-27T00:00:00",
          "2024-06-28T00:00:00",
          "2024-06-29T00:00:00",
          "2024-06-30T00:00:00",
          "2024-07-01T00:00:00",
          "2024-07-02T00:00:00",
          "2024-07-03T00:00:00",
          "2024-07-04T00:00:00",
          "2024-07-05T00:00:00",
          "2024-07-06T00:00:00",
          "2024-07-07T00:00:00",
          "2024-07-08T00:00:00",
          "2024-07-09T00:00:00",
          "2024-07-10T00:00:00",
          "2024-07-11T00:00:00",
          "2024-07-12T00:00:00",
          "2024-07-13T00:00:00",
          "2024-07-14T00:00:00",
          "2024-07-15T00:00:00",
          "2024-07-16T00:00:00",
          "2024-07-17T00:00:00",
          "2024-07-18T00:00:00",
          "2024-07-19T00:00:00",
          "2024-07-20T00:00:00",
          "2024-07-21T00:00:00",
          "2024-07-22T00:00:00",
          "2024-07-23T00:00:00",
          "2024-07-24T00:00:00",
          "2024-07-25T00:00:00",
          "2024-07-26T00:00:00",
          "2024-07-27T00:00:00",
          "2024-07-28T00:00:00",
          "2024-07-29T00:00:00",
          "2024-07-30T00:00:00",
          "2024-07-31T00:00:00",
          "2024-08-01T00:00:00",
          "2024-08-02T00:00:00",
          "2024-08-03T00:00:00",
          "2024-08-04T00:00:00",
          "2024-08-05T00:00:00",
          "2024-08-06T00:00:00",
          "2024-08-07T00:00:00",
          "2024-08-08T00:00:00",
          "2024-08-09T00:00:00",
          "2024-08-10T00:00:00",
          "2024-08-11T00:00:00",
          "2024-08-12T00:00:00",
          "2024-08-13T00:00:00",
          "2024-08-14T00:00:00",
          "2024-08-15T00:00:00",
          "2024-08-16T00:00:00",
          "2024-08-17T00:00:00",
          "2024-08-18T00:00:00",
          "2024-08-19T00:00:00",
          "2024-08-20T00:00:00",
          "2024-08-21T00:00:00",
          "2024-08-22T00:00:00",
          "2024-08-23T00:00:00",
          "2024-08-24T00:00:00",
          "2024-08-25T00:00:00",
          "2024-08-26T00:00:00",
          "2024-08-27T00:00:00",
          "2024-08-28T00:00:00",
          "2024-08-29T00:00:00",
          "2024-08-30T00:00:00",
          "2024-08-31T00:00:00",
          "2024-09-01T00:00:00",
          "2024-09-02T00:00:00",
          "2024-09-03T00:00:00",
          "2024-09-04T00:00:00",
          "2024-09-05T00:00:00",
          "2024-09-06T00:00:00",
          "2024-09-07T00:00:00",
          "2024-09-08T00:00:00",
          "2024-09-09T00:00:00",
          "2024-09-10T00:00:00",
          "2024-09-11T00:00:00",
          "2024-09-12T00:00:00",
          "2024-09-13T00:00:00",
          "2024-09-14T00:00:00",
          "2024-09-15T00:00:00",
          "2024-09-16T00:00:00",
          "2024-09-17T00:00:00",
          "2024-09-18T00:00:00",
          "2024-09-19T00:00:00",
          "2024-09-20T00:00:00",
          "2024-09-21T00:00:00",
          "2024-09-22T00:00:00",
          "2024-09-23T00:00:00",
          "2024-09-24T00:00:00",
          "2024-09-25T00:00:00",
          "2024-09-26T00:00:00",
          "2024-09-27T00:00:00",
          "2024-09-28T00:00:00",
          "2024-09-29T00:00:00",
          "2024-09-30T00:00:00",
          "2024-10-01T00:00:00",
          "2024-10-02T00:00:00",
          "2024-10-03T00:00:00",
          "2024-10-04T00:00:00",
          "2024-10-05T00:00:00",
          "2024-10-06T00:00:00",
          "2024-10-07T00:00:00",
          "2024-10-08T00:00:00",
          "2024-10-09T00:00:00",
          "2024-10-10T00:00:00",
          "2024-10-11T00:00:00",
          "2024-10-12T00:00:00",
          "2024-10-13T00:00:00",
          "2024-10-14T00:00:00",
          "2024-10-15T00:00:00",
          "2024-10-16T00:00:00",
          "2024-10-17T00:00:00",
          "2024-10-18T00:00:00",
          "2024-10-19T00:00:00",
          "2024-10-20T00:00:00",
          "2024-10-21T00:00:00",
          "2024-10-22T00:00:00",
          "2024-10-23T00:00:00",
          "2024-10-24T00:00:00",
          "2024-10-25T00:00:00",
          "2024-10-26T00:00:00",
          "2024-10-27T00:00:00",
          "2024-10-28T00:00:00",
          "2024-10-29T00:00:00",
          "2024-10-30T00:00:00",
          "2024-10-31T00:00:00",
          "2024-11-01T00:00:00",
          "2024-11-02T00:00:00",
          "2024-11-03T00:00:00",
          "2024-11-04T00:00:00",
          "2024-11-05T00:00:00",
          "2024-11-06T00:00:00",
          "2024-11-07T00:00:00",
          "2024-11-08T00:00:00",
          "2024-11-09T00:00:00",
          "2024-11-10T00:00:00",
          "2024-11-11T00:00:00",
          "2024-11-12T00:00:00",
          "2024-11-13T00:00:00",
          "2024-11-14T00:00:00",
          "2024-11-15T00:00:00",
          "2024-11-16T00:00:00",
          "2024-11-17T00:00:00",
          "2024-11-18T00:00:00",
          "2024-11-19T00:00:00",
          "2024-11-20T00:00:00",
          "2024-11-21T00:00:00",
          "2024-11-22T00:00:00",
          "2024-11-23T00:00:00",
          "2024-11-24T00:00:00",
          "2024-11-25T00:00:00",
          "2024-11-26T00:00:00",
          "2024-11-27T00:00:00",
          "2024-11-28T00:00:00",
          "2024-11-29T00:00:00",
          "2024-11-30T00:00:00",
          "2024-12-01T00:00:00",
          "2024-12-02T00:00:00",
          "2024-12-03T00:00:00",
          "2024-12-04T00:00:00",
          "2024-12-05T00:00:00",
          "2024-12-06T00:00:00",
          "2024-12-07T00:00:00",
          "2024-12-08T00:00:00",
          "2024-12-09T00:00:00",
          "2024-12-10T00:00:00",
          "2024-12-11T00:00:00",
          "2024-12-12T00:00:00",
          "2024-12-13T00:00:00",
          "2024-12-14T00:00:00",
          "2024-12-15T00:00:00",
          "2024-12-16T00:00:00",
          "2024-12-17T00:00:00",
          "2024-12-18T00:00:00",
          "2024-12-19T00:00:00",
          "2024-12-20T00:00:00",
          "2024-12-21T00:00:00",
          "2024-12-22T00:00:00",
          "2024-12-23T00:00:00",
          "2024-12-24T00:00:00",
          "2024-12-25T00:00:00",
          "2024-12-26T00:00:00",
          "2024-12-27T00:00:00",
          "2024-12-28T00:00:00",
          "2024-12-29T00:00:00",
          "2024-12-30T00:00:00",
          "2024-12-31T00:00:00",
          "2025-01-01T00:00:00",
          "2025-01-02T00:00:00",
          "2025-01-03T00:00:00",
          "2025-01-04T00:00:00",
          "2025-01-05T00:00:00",
          "2025-01-06T00:00:00",
          "2025-01-07T00:00:00",
          "2025-01-08T00:00:00",
          "2025-01-09T00:00:00",
          "2025-01-10T00:00:00",
          "2025-01-11T00:00:00",
          "2025-01-12T00:00:00",
          "2025-01-13T00:00:00",
          "2025-01-14T00:00:00",
          "2025-01-15T00:00:00",
          "2025-01-16T00:00:00",
          "2025-01-17T00:00:00",
          "2025-01-18T00:00:00",
          "2025-01-19T00:00:00",
          "2025-01-20T00:00:00",
          "2025-01-21T00:00:00",
          "2025-01-22T00:00:00",
          "2025-01-23T00:00:00",
          "2025-01-24T00:00:00",
          "2025-01-25T00:00:00",
          "2025-01-26T00:00:00",
          "2025-01-27T00:00:00",
          "2025-01-28T00:00:00",
          "2025-01-29T00:00:00",
          "2025-01-30T00:00:00",
          "2025-01-31T00:00:00",
          "2025-02-01T00:00:00",
          "2025-02-02T00:00:00",
          "2025-02-03T00:00:00",
          "2025-02-04T00:00:00",
          "2025-02-05T00:00:00",
          "2025-02-06T00:00:00",
          "2025-02-07T00:00:00",
          "2025-02-08T00:00:00",
          "2025-02-09T00:00:00",
          "2025-02-10T00:00:00",
          "2025-02-11T00:00:00",
          "2025-02-12T00:00:00",
          "2025-02-13T00:00:00",
          "2025-02-14T00:00:00",
          "2025-02-15T00:00:00",
          "2025-02-16T00:00:00",
          "2025-02-17T00:00:00",
          "2025-02-18T00:00:00",
          "2025-02-19T00:00:00",
          "2025-02-20T00:00:00",
          "2025-02-21T00:00:00",
          "2025-02-22T00:00:00",
          "2025-02-23T00:00:00",
          "2025-02-24T00:00:00",
          "2025-02-25T00:00:00",
          "2025-02-26T00:00:00",
          "2025-02-27T00:00:00",
          "2025-02-28T00:00:00",
          "2025-03-01T00:00:00",
          "2025-03-02T00:00:00",
          "2025-03-03T00:00:00",
          "2025-03-04T00:00:00",
          "2025-03-05T00:00:00",
          "2025-03-06T00:00:00",
          "2025-03-07T00:00:00",
          "2025-03-08T00:00:00",
          "2025-03-09T00:00:00",
          "2025-03-10T00:00:00",
          "2025-03-11T00:00:00",
          "2025-03-12T00:00:00",
          "2025-03-13T00:00:00",
          "2025-03-14T00:00:00",
          "2025-03-15T00:00:00",
          "2025-03-16T00:00:00",
          "2025-03-17T00:00:00",
          "2025-03-18T00:00:00",
          "2025-03-19T00:00:00",
          "2025-03-20T00:00:00",
          "2025-03-21T00:00:00",
          "2025-03-22T00:00:00",
          "2025-03-23T00:00:00",
          "2025-03-24T00:00:00",
          "2025-03-25T00:00:00",
          "2025-03-26T00:00:00",
          "2025-03-27T00:00:00",
          "2025-03-28T00:00:00",
          "2025-03-29T00:00:00",
          "2025-03-30T00:00:00",
          "2025-03-31T00:00:00",
          "2025-04-01T00:00:00",
          "2025-04-02T00:00:00",
          "2025-04-03T00:00:00",
          "2025-04-04T00:00:00",
          "2025-04-05T00:00:00",
          "2025-04-06T00:00:00",
          "2025-04-07T00:00:00",
          "2025-04-08T00:00:00",
          "2025-04-09T00:00:00"
         ],
         "y": {
          "bdata": "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",
          "dtype": "f8"
         }
        },
        {
         "name": "LSTM Forecast",
         "type": "scatter",
         "x": [
          "2025-04-10T00:00:00",
          "2025-04-11T00:00:00",
          "2025-04-12T00:00:00",
          "2025-04-13T00:00:00",
          "2025-04-14T00:00:00",
          "2025-04-15T00:00:00",
          "2025-04-16T00:00:00",
          "2025-04-17T00:00:00",
          "2025-04-18T00:00:00",
          "2025-04-19T00:00:00",
          "2025-04-20T00:00:00",
          "2025-04-21T00:00:00",
          "2025-04-22T00:00:00",
          "2025-04-23T00:00:00",
          "2025-04-24T00:00:00",
          "2025-04-25T00:00:00",
          "2025-04-26T00:00:00",
          "2025-04-27T00:00:00",
          "2025-04-28T00:00:00",
          "2025-04-29T00:00:00",
          "2025-04-30T00:00:00",
          "2025-05-01T00:00:00",
          "2025-05-02T00:00:00",
          "2025-05-03T00:00:00",
          "2025-05-04T00:00:00",
          "2025-05-05T00:00:00",
          "2025-05-06T00:00:00",
          "2025-05-07T00:00:00",
          "2025-05-08T00:00:00",
          "2025-05-09T00:00:00"
         ],
         "y": {
          "bdata": "+2+MR7CPjkeh8JNHgqaZR0SDnkcHWaFHH5GiR5LQokdRxKJHPc6iR30co0f5v6NH3bakRyDIpUeJuqZHw4SnR55+qEfh4alHxKWrRyxnrUe7Eq5HvbuuR8j0rkdmF69HIXWvRyMXsEegd7BHaSiwR8KYrkeKV6xH",
          "dtype": "f4"
         }
        },
        {
         "marker": {
          "color": "green",
          "size": 6,
          "symbol": "circle"
         },
         "mode": "markers",
         "name": "Buy Signal",
         "type": "scatter",
         "x": [
          "2024-04-18T00:00:00",
          "2024-05-03T00:00:00",
          "2024-05-15T00:00:00",
          "2024-05-20T00:00:00",
          "2024-07-15T00:00:00",
          "2024-07-19T00:00:00",
          "2024-07-26T00:00:00",
          "2024-08-06T00:00:00",
          "2024-08-08T00:00:00",
          "2024-08-21T00:00:00",
          "2024-08-23T00:00:00",
          "2024-09-09T00:00:00",
          "2024-09-13T00:00:00",
          "2024-09-17T00:00:00",
          "2024-09-26T00:00:00",
          "2024-10-11T00:00:00",
          "2024-10-14T00:00:00",
          "2024-10-29T00:00:00",
          "2024-11-06T00:00:00",
          "2024-11-10T00:00:00",
          "2024-11-11T00:00:00",
          "2024-11-13T00:00:00",
          "2024-11-15T00:00:00",
          "2024-11-21T00:00:00",
          "2024-11-27T00:00:00",
          "2024-12-04T00:00:00",
          "2024-12-06T00:00:00",
          "2024-12-11T00:00:00",
          "2024-12-15T00:00:00",
          "2024-12-24T00:00:00",
          "2025-01-02T00:00:00",
          "2025-01-06T00:00:00",
          "2025-01-10T00:00:00",
          "2025-01-14T00:00:00",
          "2025-01-15T00:00:00",
          "2025-01-17T00:00:00",
          "2025-01-21T00:00:00",
          "2025-01-29T00:00:00",
          "2025-02-03T00:00:00",
          "2025-02-12T00:00:00",
          "2025-03-02T00:00:00",
          "2025-03-05T00:00:00",
          "2025-03-11T00:00:00",
          "2025-03-14T00:00:00",
          "2025-03-19T00:00:00",
          "2025-03-23T00:00:00",
          "2025-04-01T00:00:00"
         ],
         "y": {
          "bdata": "AAAAIBgD70AAAADAOrXuQAAAAOC3LfBAAAAAIINx8UAAAADgxKzvQAAAAIBiSfBAAAAAAIGU8EAAAAAgSlzrQAAAAGDEIe5AAAAAIObe7UAAAABgy0vvQAAAACBx1+tAAAAAoGmT7UAAAABAkXLtQAAAAKCg0+9AAAAA4KJ97kAAAAAA4h/wQAAAAOAHwfFAAAAAQHF38kAAAAAAo6XzQAAAAMDXp/VAAAAAoIId9kAAAAAgoDv2QAAAAKCLDPhAAAAAgKht90AAAACACB34QAAAAGALZfhAAAAAgFCz+EAAAAAgq3b5QAAAAIBBF/hAAAAAAG6n90AAAABg4ev4QAAAAEDXHvdAAAAAwGCR90AAAADgh4n4QAAAAKDggPlAAAAAQCTq+UAAAABgc1H5QAAAAMDWwfhAAAAAwN3l90AAAACghQL3QAAAAAD5H/ZAAAAAYOM69EAAAACgEYD0QAAAAKBjNPVAAAAAAGYC9UAAAADAEsv0QA==",
          "dtype": "f8"
         }
        },
        {
         "marker": {
          "color": "red",
          "size": 6,
          "symbol": "circle"
         },
         "mode": "markers",
         "name": "Sell Signal",
         "type": "scatter",
         "x": [
          "2024-04-12T00:00:00",
          "2024-04-13T00:00:00",
          "2024-04-15T00:00:00",
          "2024-04-17T00:00:00",
          "2024-04-24T00:00:00",
          "2024-04-30T00:00:00",
          "2024-05-01T00:00:00",
          "2024-05-10T00:00:00",
          "2024-06-11T00:00:00",
          "2024-06-24T00:00:00",
          "2024-07-04T00:00:00",
          "2024-07-07T00:00:00",
          "2024-08-02T00:00:00",
          "2024-08-04T00:00:00",
          "2024-08-05T00:00:00",
          "2024-08-11T00:00:00",
          "2024-08-27T00:00:00",
          "2024-09-06T00:00:00",
          "2024-09-30T00:00:00",
          "2024-10-01T00:00:00",
          "2024-10-31T00:00:00",
          "2024-11-14T00:00:00",
          "2024-11-25T00:00:00",
          "2024-12-05T00:00:00",
          "2024-12-09T00:00:00",
          "2024-12-18T00:00:00",
          "2024-12-19T00:00:00",
          "2024-12-22T00:00:00",
          "2024-12-26T00:00:00",
          "2025-01-07T00:00:00",
          "2025-01-09T00:00:00",
          "2025-01-19T00:00:00",
          "2025-01-22T00:00:00",
          "2025-01-26T00:00:00",
          "2025-01-31T00:00:00",
          "2025-02-02T00:00:00",
          "2025-02-04T00:00:00",
          "2025-02-21T00:00:00",
          "2025-02-24T00:00:00",
          "2025-02-25T00:00:00",
          "2025-02-26T00:00:00",
          "2025-03-03T00:00:00",
          "2025-03-07T00:00:00",
          "2025-03-09T00:00:00",
          "2025-03-10T00:00:00",
          "2025-03-13T00:00:00",
          "2025-03-20T00:00:00",
          "2025-03-28T00:00:00",
          "2025-04-02T00:00:00",
          "2025-04-06T00:00:00",
          "2025-04-08T00:00:00"
         ],
         "y": {
          "bdata": "AAAA4L1n8EAAAAAgrynvQAAAAMBG+O5AAAAAIJbr7UAAAADAnGLvQAAAAGCbm+1AAAAAYMBx7EAAAADgGK/tQAAAAIBAcPBAAAAAQK1u7UAAAACANtLrQAAAAIAjRetAAAAAIOL87UAAAABAn2DsQAAAAKDuXOpAAAAAgO+r7EAAAABABA7tQAAAACCYV+pAAAAAADDs7kAAAABAoLTtQAAAAABzJPFAAAAA4CZN9UAAAADA5Lr2QAAAACAZlfdAAAAAgIvJ90AAAACgmGz4QAAAAEAvzfdAAAAAAA8490AAAABAOGP3QAAAAECrqfdAAAAAoECU9kAAAADAGa74QAAAACBRTvlAAAAAAKgR+UAAAABgUAD5QAAAAKCP2fdAAAAAIP3k90AAAADA2Hf3QAAAAMCiUfZAAAAAwAKq9UAAAABgsJf0QAAAAMAaA/VAAAAAwGot9UAAAACgkK3zQAAAAABALPNAAAAAQKvK80AAAAAgc4z0QAAAAGASmPRAAAAAYFsj9EAAAADAZxjzQAAAAED/nvJA",
          "dtype": "f8"
         }
        }
       ],
       "layout": {
        "template": {
         "data": {
          "bar": [
           {
            "error_x": {
             "color": "#2a3f5f"
            },
            "error_y": {
             "color": "#2a3f5f"
            },
            "marker": {
             "line": {
              "color": "white",
              "width": 0.5
             },
             "pattern": {
              "fillmode": "overlay",
              "size": 10,
              "solidity": 0.2
             }
            },
            "type": "bar"
           }
          ],
          "barpolar": [
           {
            "marker": {
             "line": {
              "color": "white",
              "width": 0.5
             },
             "pattern": {
              "fillmode": "overlay",
              "size": 10,
              "solidity": 0.2
             }
            },
            "type": "barpolar"
           }
          ],
          "carpet": [
           {
            "aaxis": {
             "endlinecolor": "#2a3f5f",
             "gridcolor": "#C8D4E3",
             "linecolor": "#C8D4E3",
             "minorgridcolor": "#C8D4E3",
             "startlinecolor": "#2a3f5f"
            },
            "baxis": {
             "endlinecolor": "#2a3f5f",
             "gridcolor": "#C8D4E3",
             "linecolor": "#C8D4E3",
             "minorgridcolor": "#C8D4E3",
             "startlinecolor": "#2a3f5f"
            },
            "type": "carpet"
           }
          ],
          "choropleth": [
           {
            "colorbar": {
             "outlinewidth": 0,
             "ticks": ""
            },
            "type": "choropleth"
           }
          ],
          "contour": [
           {
            "colorbar": {
             "outlinewidth": 0,
             "ticks": ""
            },
            "colorscale": [
             [
              0,
              "#0d0887"
             ],
             [
              0.1111111111111111,
              "#46039f"
             ],
             [
              0.2222222222222222,
              "#7201a8"
             ],
             [
              0.3333333333333333,
              "#9c179e"
             ],
             [
              0.4444444444444444,
              "#bd3786"
             ],
             [
              0.5555555555555556,
              "#d8576b"
             ],
             [
              0.6666666666666666,
              "#ed7953"
             ],
             [
              0.7777777777777778,
              "#fb9f3a"
             ],
             [
              0.8888888888888888,
              "#fdca26"
             ],
             [
              1,
              "#f0f921"
             ]
            ],
            "type": "contour"
           }
          ],
          "contourcarpet": [
           {
            "colorbar": {
             "outlinewidth": 0,
             "ticks": ""
            },
            "type": "contourcarpet"
           }
          ],
          "heatmap": [
           {
            "colorbar": {
             "outlinewidth": 0,
             "ticks": ""
            },
            "colorscale": [
             [
              0,
              "#0d0887"
             ],
             [
              0.1111111111111111,
              "#46039f"
             ],
             [
              0.2222222222222222,
              "#7201a8"
             ],
             [
              0.3333333333333333,
              "#9c179e"
             ],
             [
              0.4444444444444444,
              "#bd3786"
             ],
             [
              0.5555555555555556,
              "#d8576b"
             ],
             [
              0.6666666666666666,
              "#ed7953"
             ],
             [
              0.7777777777777778,
              "#fb9f3a"
             ],
             [
              0.8888888888888888,
              "#fdca26"
             ],
             [
              1,
              "#f0f921"
             ]
            ],
            "type": "heatmap"
           }
          ],
          "histogram": [
           {
            "marker": {
             "pattern": {
              "fillmode": "overlay",
              "size": 10,
              "solidity": 0.2
             }
            },
            "type": "histogram"
           }
          ],
          "histogram2d": [
           {
            "colorbar": {
             "outlinewidth": 0,
             "ticks": ""
            },
            "colorscale": [
             [
              0,
              "#0d0887"
             ],
             [
              0.1111111111111111,
              "#46039f"
             ],
             [
              0.2222222222222222,
              "#7201a8"
             ],
             [
              0.3333333333333333,
              "#9c179e"
             ],
             [
              0.4444444444444444,
              "#bd3786"
             ],
             [
              0.5555555555555556,
              "#d8576b"
             ],
             [
              0.6666666666666666,
              "#ed7953"
             ],
             [
              0.7777777777777778,
              "#fb9f3a"
             ],
             [
              0.8888888888888888,
              "#fdca26"
             ],
             [
              1,
              "#f0f921"
             ]
            ],
            "type": "histogram2d"
           }
          ],
          "histogram2dcontour": [
           {
            "colorbar": {
             "outlinewidth": 0,
             "ticks": ""
            },
            "colorscale": [
             [
              0,
              "#0d0887"
             ],
             [
              0.1111111111111111,
              "#46039f"
             ],
             [
              0.2222222222222222,
              "#7201a8"
             ],
             [
              0.3333333333333333,
              "#9c179e"
             ],
             [
              0.4444444444444444,
              "#bd3786"
             ],
             [
              0.5555555555555556,
              "#d8576b"
             ],
             [
              0.6666666666666666,
              "#ed7953"
             ],
             [
              0.7777777777777778,
              "#fb9f3a"
             ],
             [
              0.8888888888888888,
              "#fdca26"
             ],
             [
              1,
              "#f0f921"
             ]
            ],
            "type": "histogram2dcontour"
           }
          ],
          "mesh3d": [
           {
            "colorbar": {
             "outlinewidth": 0,
             "ticks": ""
            },
            "type": "mesh3d"
           }
          ],
          "parcoords": [
           {
            "line": {
             "colorbar": {
              "outlinewidth": 0,
              "ticks": ""
             }
            },
            "type": "parcoords"
           }
          ],
          "pie": [
           {
            "automargin": true,
            "type": "pie"
           }
          ],
          "scatter": [
           {
            "fillpattern": {
             "fillmode": "overlay",
             "size": 10,
             "solidity": 0.2
            },
            "type": "scatter"
           }
          ],
          "scatter3d": [
           {
            "line": {
             "colorbar": {
              "outlinewidth": 0,
              "ticks": ""
             }
            },
            "marker": {
             "colorbar": {
              "outlinewidth": 0,
              "ticks": ""
             }
            },
            "type": "scatter3d"
           }
          ],
          "scattercarpet": [
           {
            "marker": {
             "colorbar": {
              "outlinewidth": 0,
              "ticks": ""
             }
            },
            "type": "scattercarpet"
           }
          ],
          "scattergeo": [
           {
            "marker": {
             "colorbar": {
              "outlinewidth": 0,
              "ticks": ""
             }
            },
            "type": "scattergeo"
           }
          ],
          "scattergl": [
           {
            "marker": {
             "colorbar": {
              "outlinewidth": 0,
              "ticks": ""
             }
            },
            "type": "scattergl"
           }
          ],
          "scattermap": [
           {
            "marker": {
             "colorbar": {
              "outlinewidth": 0,
              "ticks": ""
             }
            },
            "type": "scattermap"
           }
          ],
          "scattermapbox": [
           {
            "marker": {
             "colorbar": {
              "outlinewidth": 0,
              "ticks": ""
             }
            },
            "type": "scattermapbox"
           }
          ],
          "scatterpolar": [
           {
            "marker": {
             "colorbar": {
              "outlinewidth": 0,
              "ticks": ""
             }
            },
            "type": "scatterpolar"
           }
          ],
          "scatterpolargl": [
           {
            "marker": {
             "colorbar": {
              "outlinewidth": 0,
              "ticks": ""
             }
            },
            "type": "scatterpolargl"
           }
          ],
          "scatterternary": [
           {
            "marker": {
             "colorbar": {
              "outlinewidth": 0,
              "ticks": ""
             }
            },
            "type": "scatterternary"
           }
          ],
          "surface": [
           {
            "colorbar": {
             "outlinewidth": 0,
             "ticks": ""
            },
            "colorscale": [
             [
              0,
              "#0d0887"
             ],
             [
              0.1111111111111111,
              "#46039f"
             ],
             [
              0.2222222222222222,
              "#7201a8"
             ],
             [
              0.3333333333333333,
              "#9c179e"
             ],
             [
              0.4444444444444444,
              "#bd3786"
             ],
             [
              0.5555555555555556,
              "#d8576b"
             ],
             [
              0.6666666666666666,
              "#ed7953"
             ],
             [
              0.7777777777777778,
              "#fb9f3a"
             ],
             [
              0.8888888888888888,
              "#fdca26"
             ],
             [
              1,
              "#f0f921"
             ]
            ],
            "type": "surface"
           }
          ],
          "table": [
           {
            "cells": {
             "fill": {
              "color": "#EBF0F8"
             },
             "line": {
              "color": "white"
             }
            },
            "header": {
             "fill": {
              "color": "#C8D4E3"
             },
             "line": {
              "color": "white"
             }
            },
            "type": "table"
           }
          ]
         },
         "layout": {
          "annotationdefaults": {
           "arrowcolor": "#2a3f5f",
           "arrowhead": 0,
           "arrowwidth": 1
          },
          "autotypenumbers": "strict",
          "coloraxis": {
           "colorbar": {
            "outlinewidth": 0,
            "ticks": ""
           }
          },
          "colorscale": {
           "diverging": [
            [
             0,
             "#8e0152"
            ],
            [
             0.1,
             "#c51b7d"
            ],
            [
             0.2,
             "#de77ae"
            ],
            [
             0.3,
             "#f1b6da"
            ],
            [
             0.4,
             "#fde0ef"
            ],
            [
             0.5,
             "#f7f7f7"
            ],
            [
             0.6,
             "#e6f5d0"
            ],
            [
             0.7,
             "#b8e186"
            ],
            [
             0.8,
             "#7fbc41"
            ],
            [
             0.9,
             "#4d9221"
            ],
            [
             1,
             "#276419"
            ]
           ],
           "sequential": [
            [
             0,
             "#0d0887"
            ],
            [
             0.1111111111111111,
             "#46039f"
            ],
            [
             0.2222222222222222,
             "#7201a8"
            ],
            [
             0.3333333333333333,
             "#9c179e"
            ],
            [
             0.4444444444444444,
             "#bd3786"
            ],
            [
             0.5555555555555556,
             "#d8576b"
            ],
            [
             0.6666666666666666,
             "#ed7953"
            ],
            [
             0.7777777777777778,
             "#fb9f3a"
            ],
            [
             0.8888888888888888,
             "#fdca26"
            ],
            [
             1,
             "#f0f921"
            ]
           ],
           "sequentialminus": [
            [
             0,
             "#0d0887"
            ],
            [
             0.1111111111111111,
             "#46039f"
            ],
            [
             0.2222222222222222,
             "#7201a8"
            ],
            [
             0.3333333333333333,
             "#9c179e"
            ],
            [
             0.4444444444444444,
             "#bd3786"
            ],
            [
             0.5555555555555556,
             "#d8576b"
            ],
            [
             0.6666666666666666,
             "#ed7953"
            ],
            [
             0.7777777777777778,
             "#fb9f3a"
            ],
            [
             0.8888888888888888,
             "#fdca26"
            ],
            [
             1,
             "#f0f921"
            ]
           ]
          },
          "colorway": [
           "#636efa",
           "#EF553B",
           "#00cc96",
           "#ab63fa",
           "#FFA15A",
           "#19d3f3",
           "#FF6692",
           "#B6E880",
           "#FF97FF",
           "#FECB52"
          ],
          "font": {
           "color": "#2a3f5f"
          },
          "geo": {
           "bgcolor": "white",
           "lakecolor": "white",
           "landcolor": "white",
           "showlakes": true,
           "showland": true,
           "subunitcolor": "#C8D4E3"
          },
          "hoverlabel": {
           "align": "left"
          },
          "hovermode": "closest",
          "mapbox": {
           "style": "light"
          },
          "paper_bgcolor": "white",
          "plot_bgcolor": "white",
          "polar": {
           "angularaxis": {
            "gridcolor": "#EBF0F8",
            "linecolor": "#EBF0F8",
            "ticks": ""
           },
           "bgcolor": "white",
           "radialaxis": {
            "gridcolor": "#EBF0F8",
            "linecolor": "#EBF0F8",
            "ticks": ""
           }
          },
          "scene": {
           "xaxis": {
            "backgroundcolor": "white",
            "gridcolor": "#DFE8F3",
            "gridwidth": 2,
            "linecolor": "#EBF0F8",
            "showbackground": true,
            "ticks": "",
            "zerolinecolor": "#EBF0F8"
           },
           "yaxis": {
            "backgroundcolor": "white",
            "gridcolor": "#DFE8F3",
            "gridwidth": 2,
            "linecolor": "#EBF0F8",
            "showbackground": true,
            "ticks": "",
            "zerolinecolor": "#EBF0F8"
           },
           "zaxis": {
            "backgroundcolor": "white",
            "gridcolor": "#DFE8F3",
            "gridwidth": 2,
            "linecolor": "#EBF0F8",
            "showbackground": true,
            "ticks": "",
            "zerolinecolor": "#EBF0F8"
           }
          },
          "shapedefaults": {
           "line": {
            "color": "#2a3f5f"
           }
          },
          "ternary": {
           "aaxis": {
            "gridcolor": "#DFE8F3",
            "linecolor": "#A2B1C6",
            "ticks": ""
           },
           "baxis": {
            "gridcolor": "#DFE8F3",
            "linecolor": "#A2B1C6",
            "ticks": ""
           },
           "bgcolor": "white",
           "caxis": {
            "gridcolor": "#DFE8F3",
            "linecolor": "#A2B1C6",
            "ticks": ""
           }
          },
          "title": {
           "x": 0.05
          },
          "xaxis": {
           "automargin": true,
           "gridcolor": "#EBF0F8",
           "linecolor": "#EBF0F8",
           "ticks": "",
           "title": {
            "standoff": 15
           },
           "zerolinecolor": "#EBF0F8",
           "zerolinewidth": 2
          },
          "yaxis": {
           "automargin": true,
           "gridcolor": "#EBF0F8",
           "linecolor": "#EBF0F8",
           "ticks": "",
           "title": {
            "standoff": 15
           },
           "zerolinecolor": "#EBF0F8",
           "zerolinewidth": 2
          }
         }
        },
        "title": {
         "text": "BTC-USD Price Forecast with LSTM"
        },
        "xaxis": {
         "rangeselector": {
          "buttons": [
           {
            "count": 7,
            "label": "1w",
            "step": "day",
            "stepmode": "backward"
           },
           {
            "count": 1,
            "label": "1m",
            "step": "month",
            "stepmode": "backward"
           },
           {
            "count": 3,
            "label": "3m",
            "step": "month",
            "stepmode": "backward"
           },
           {
            "step": "all"
           }
          ]
         },
         "rangeslider": {
          "visible": true
         },
         "title": {
          "text": "Date"
         }
        },
        "yaxis": {
         "title": {
          "text": "Price (USD)"
         }
        }
       }
      }
     },
     "metadata": {},
     "output_type": "display_data"
    }
   ],
   "source": [
    "fig = go.Figure()\n",
    "\n",
    "# Add historical data trace\n",
    "fig.add_trace(go.Scatter(\n",
    "    x=df['ds'],\n",
    "    y=df['y'],\n",
    "    mode='lines',\n",
    "    name='Historical BTC Price'\n",
    "))\n",
    "fig.add_trace(go.Scatter(\n",
    "    x=forecast['ds'], \n",
    "    y = forecast['LSTM'], \n",
    "    name ='LSTM Forecast'\n",
    "))\n",
    "# Add Buy Signal Markers\n",
    "buy_signals = df[df['signal'] == 1]\n",
    "fig.add_trace(go.Scatter(\n",
    "    x=buy_signals['ds'],\n",
    "    y=buy_signals['y'],\n",
    "    mode='markers',\n",
    "    marker=dict(symbol='circle', size=6, color='green'),\n",
    "    name='Buy Signal'\n",
    "))\n",
    "\n",
    "# Add Sell Signal Markers\n",
    "sell_signals = df[df['signal'] == -1]\n",
    "fig.add_trace(go.Scatter(\n",
    "    x=sell_signals['ds'],\n",
    "    y=sell_signals['y'],\n",
    "    mode='markers',\n",
    "    marker=dict(symbol='circle', size=6, color='red'),\n",
    "    name='Sell Signal'\n",
    "))\n",
    "# Customize the layout\n",
    "fig.update_layout(\n",
    "    title='BTC-USD Price Forecast with LSTM',\n",
    "    xaxis_title='Date',\n",
    "    yaxis_title='Price (USD)',\n",
    "    template='plotly_white'  # Optional: Use a clean template\n",
    "\n",
    ")\n",
    "fig.update_xaxes(\n",
    "    rangeslider_visible=True,\n",
    "    rangeselector=dict(\n",
    "        buttons=list([\n",
    "            dict(count=7, label=\"1w\", step=\"day\", stepmode=\"backward\"),\n",
    "            dict(count=1, label=\"1m\", step=\"month\", stepmode=\"backward\"),\n",
    "            dict(count=3, label=\"3m\", step=\"month\", stepmode=\"backward\"),\n",
    "            dict(step=\"all\")\n",
    "        ])\n",
    "    )\n",
    ")\n",
    "# Show the plot\n",
    "fig.show()"
   ]
  }
 ],
 "metadata": {
  "kernelspec": {
   "display_name": "crypto",
   "language": "python",
   "name": "python3"
  },
  "language_info": {
   "codemirror_mode": {
    "name": "ipython",
    "version": 3
   },
   "file_extension": ".py",
   "mimetype": "text/x-python",
   "name": "python",
   "nbconvert_exporter": "python",
   "pygments_lexer": "ipython3",
   "version": "3.9.21"
  }
 },
 "nbformat": 4,
 "nbformat_minor": 5
}
