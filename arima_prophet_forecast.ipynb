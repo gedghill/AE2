{
 "cells": [
  {
   "cell_type": "markdown",
   "id": "f1e0393f",
   "metadata": {},
   "source": [
    "Fetch Data"
   ]
  },
  {
   "cell_type": "code",
   "execution_count": 221,
   "id": "e5ed26bf",
   "metadata": {},
   "outputs": [],
   "source": [
    "import pandas as pd\n",
    "from pycaret.time_series import *\n",
    "import matplotlib.pyplot as plt\n",
    "from fetch_data import fetch_data"
   ]
  },
  {
   "cell_type": "code",
   "execution_count": 222,
   "id": "f872554e",
   "metadata": {},
   "outputs": [
    {
     "name": "stderr",
     "output_type": "stream",
     "text": [
      "[*********************100%***********************]  30 of 30 completed\n"
     ]
    }
   ],
   "source": [
    "df = fetch_data()"
   ]
  },
  {
   "cell_type": "code",
   "execution_count": 223,
   "id": "811ccd1b",
   "metadata": {},
   "outputs": [],
   "source": [
    "df.index = pd.to_datetime(df.index)\n",
    "df = df.sort_index()"
   ]
  },
  {
   "cell_type": "markdown",
   "id": "2676d696",
   "metadata": {},
   "source": [
    "BTC-USD Prophet Model"
   ]
  },
  {
   "cell_type": "code",
   "execution_count": 224,
   "id": "896ba889",
   "metadata": {},
   "outputs": [
    {
     "name": "stdout",
     "output_type": "stream",
     "text": [
      "<class 'pandas.core.series.Series'>\n",
      "DatetimeIndex: 365 entries, 2024-05-01 to 2025-04-30\n",
      "Series name: BTC-USD\n",
      "Non-Null Count  Dtype  \n",
      "--------------  -----  \n",
      "365 non-null    float64\n",
      "dtypes: float64(1)\n",
      "memory usage: 5.7 KB\n"
     ]
    }
   ],
   "source": [
    "btc = df.loc[:,'BTC-USD']\n",
    "btc.info()"
   ]
  },
  {
   "cell_type": "code",
   "execution_count": 236,
   "id": "9956986e",
   "metadata": {},
   "outputs": [
    {
     "data": {
      "text/html": [
       "<style type=\"text/css\">\n",
       "#T_f7adb_row25_col1, #T_f7adb_row31_col1 {\n",
       "  background-color: lightgreen;\n",
       "}\n",
       "</style>\n",
       "<table id=\"T_f7adb\">\n",
       "  <thead>\n",
       "    <tr>\n",
       "      <th class=\"blank level0\" >&nbsp;</th>\n",
       "      <th id=\"T_f7adb_level0_col0\" class=\"col_heading level0 col0\" >Description</th>\n",
       "      <th id=\"T_f7adb_level0_col1\" class=\"col_heading level0 col1\" >Value</th>\n",
       "    </tr>\n",
       "  </thead>\n",
       "  <tbody>\n",
       "    <tr>\n",
       "      <th id=\"T_f7adb_level0_row0\" class=\"row_heading level0 row0\" >0</th>\n",
       "      <td id=\"T_f7adb_row0_col0\" class=\"data row0 col0\" >session_id</td>\n",
       "      <td id=\"T_f7adb_row0_col1\" class=\"data row0 col1\" >123</td>\n",
       "    </tr>\n",
       "    <tr>\n",
       "      <th id=\"T_f7adb_level0_row1\" class=\"row_heading level0 row1\" >1</th>\n",
       "      <td id=\"T_f7adb_row1_col0\" class=\"data row1 col0\" >Target</td>\n",
       "      <td id=\"T_f7adb_row1_col1\" class=\"data row1 col1\" >BTC-USD</td>\n",
       "    </tr>\n",
       "    <tr>\n",
       "      <th id=\"T_f7adb_level0_row2\" class=\"row_heading level0 row2\" >2</th>\n",
       "      <td id=\"T_f7adb_row2_col0\" class=\"data row2 col0\" >Approach</td>\n",
       "      <td id=\"T_f7adb_row2_col1\" class=\"data row2 col1\" >Univariate</td>\n",
       "    </tr>\n",
       "    <tr>\n",
       "      <th id=\"T_f7adb_level0_row3\" class=\"row_heading level0 row3\" >3</th>\n",
       "      <td id=\"T_f7adb_row3_col0\" class=\"data row3 col0\" >Exogenous Variables</td>\n",
       "      <td id=\"T_f7adb_row3_col1\" class=\"data row3 col1\" >Not Present</td>\n",
       "    </tr>\n",
       "    <tr>\n",
       "      <th id=\"T_f7adb_level0_row4\" class=\"row_heading level0 row4\" >4</th>\n",
       "      <td id=\"T_f7adb_row4_col0\" class=\"data row4 col0\" >Original data shape</td>\n",
       "      <td id=\"T_f7adb_row4_col1\" class=\"data row4 col1\" >(365, 1)</td>\n",
       "    </tr>\n",
       "    <tr>\n",
       "      <th id=\"T_f7adb_level0_row5\" class=\"row_heading level0 row5\" >5</th>\n",
       "      <td id=\"T_f7adb_row5_col0\" class=\"data row5 col0\" >Transformed data shape</td>\n",
       "      <td id=\"T_f7adb_row5_col1\" class=\"data row5 col1\" >(365, 1)</td>\n",
       "    </tr>\n",
       "    <tr>\n",
       "      <th id=\"T_f7adb_level0_row6\" class=\"row_heading level0 row6\" >6</th>\n",
       "      <td id=\"T_f7adb_row6_col0\" class=\"data row6 col0\" >Transformed train set shape</td>\n",
       "      <td id=\"T_f7adb_row6_col1\" class=\"data row6 col1\" >(335, 1)</td>\n",
       "    </tr>\n",
       "    <tr>\n",
       "      <th id=\"T_f7adb_level0_row7\" class=\"row_heading level0 row7\" >7</th>\n",
       "      <td id=\"T_f7adb_row7_col0\" class=\"data row7 col0\" >Transformed test set shape</td>\n",
       "      <td id=\"T_f7adb_row7_col1\" class=\"data row7 col1\" >(30, 1)</td>\n",
       "    </tr>\n",
       "    <tr>\n",
       "      <th id=\"T_f7adb_level0_row8\" class=\"row_heading level0 row8\" >8</th>\n",
       "      <td id=\"T_f7adb_row8_col0\" class=\"data row8 col0\" >Rows with missing values</td>\n",
       "      <td id=\"T_f7adb_row8_col1\" class=\"data row8 col1\" >0.0%</td>\n",
       "    </tr>\n",
       "    <tr>\n",
       "      <th id=\"T_f7adb_level0_row9\" class=\"row_heading level0 row9\" >9</th>\n",
       "      <td id=\"T_f7adb_row9_col0\" class=\"data row9 col0\" >Fold Generator</td>\n",
       "      <td id=\"T_f7adb_row9_col1\" class=\"data row9 col1\" >ExpandingWindowSplitter</td>\n",
       "    </tr>\n",
       "    <tr>\n",
       "      <th id=\"T_f7adb_level0_row10\" class=\"row_heading level0 row10\" >10</th>\n",
       "      <td id=\"T_f7adb_row10_col0\" class=\"data row10 col0\" >Fold Number</td>\n",
       "      <td id=\"T_f7adb_row10_col1\" class=\"data row10 col1\" >3</td>\n",
       "    </tr>\n",
       "    <tr>\n",
       "      <th id=\"T_f7adb_level0_row11\" class=\"row_heading level0 row11\" >11</th>\n",
       "      <td id=\"T_f7adb_row11_col0\" class=\"data row11 col0\" >Enforce Prediction Interval</td>\n",
       "      <td id=\"T_f7adb_row11_col1\" class=\"data row11 col1\" >False</td>\n",
       "    </tr>\n",
       "    <tr>\n",
       "      <th id=\"T_f7adb_level0_row12\" class=\"row_heading level0 row12\" >12</th>\n",
       "      <td id=\"T_f7adb_row12_col0\" class=\"data row12 col0\" >Splits used for hyperparameters</td>\n",
       "      <td id=\"T_f7adb_row12_col1\" class=\"data row12 col1\" >all</td>\n",
       "    </tr>\n",
       "    <tr>\n",
       "      <th id=\"T_f7adb_level0_row13\" class=\"row_heading level0 row13\" >13</th>\n",
       "      <td id=\"T_f7adb_row13_col0\" class=\"data row13 col0\" >User Defined Seasonal Period(s)</td>\n",
       "      <td id=\"T_f7adb_row13_col1\" class=\"data row13 col1\" >D</td>\n",
       "    </tr>\n",
       "    <tr>\n",
       "      <th id=\"T_f7adb_level0_row14\" class=\"row_heading level0 row14\" >14</th>\n",
       "      <td id=\"T_f7adb_row14_col0\" class=\"data row14 col0\" >Ignore Seasonality Test</td>\n",
       "      <td id=\"T_f7adb_row14_col1\" class=\"data row14 col1\" >False</td>\n",
       "    </tr>\n",
       "    <tr>\n",
       "      <th id=\"T_f7adb_level0_row15\" class=\"row_heading level0 row15\" >15</th>\n",
       "      <td id=\"T_f7adb_row15_col0\" class=\"data row15 col0\" >Seasonality Detection Algo</td>\n",
       "      <td id=\"T_f7adb_row15_col1\" class=\"data row15 col1\" >user_defined</td>\n",
       "    </tr>\n",
       "    <tr>\n",
       "      <th id=\"T_f7adb_level0_row16\" class=\"row_heading level0 row16\" >16</th>\n",
       "      <td id=\"T_f7adb_row16_col0\" class=\"data row16 col0\" >Max Period to Consider</td>\n",
       "      <td id=\"T_f7adb_row16_col1\" class=\"data row16 col1\" >60</td>\n",
       "    </tr>\n",
       "    <tr>\n",
       "      <th id=\"T_f7adb_level0_row17\" class=\"row_heading level0 row17\" >17</th>\n",
       "      <td id=\"T_f7adb_row17_col0\" class=\"data row17 col0\" >Seasonal Period(s) Tested</td>\n",
       "      <td id=\"T_f7adb_row17_col1\" class=\"data row17 col1\" >[7]</td>\n",
       "    </tr>\n",
       "    <tr>\n",
       "      <th id=\"T_f7adb_level0_row18\" class=\"row_heading level0 row18\" >18</th>\n",
       "      <td id=\"T_f7adb_row18_col0\" class=\"data row18 col0\" >Significant Seasonal Period(s)</td>\n",
       "      <td id=\"T_f7adb_row18_col1\" class=\"data row18 col1\" >[7]</td>\n",
       "    </tr>\n",
       "    <tr>\n",
       "      <th id=\"T_f7adb_level0_row19\" class=\"row_heading level0 row19\" >19</th>\n",
       "      <td id=\"T_f7adb_row19_col0\" class=\"data row19 col0\" >Significant Seasonal Period(s) without Harmonics</td>\n",
       "      <td id=\"T_f7adb_row19_col1\" class=\"data row19 col1\" >[7]</td>\n",
       "    </tr>\n",
       "    <tr>\n",
       "      <th id=\"T_f7adb_level0_row20\" class=\"row_heading level0 row20\" >20</th>\n",
       "      <td id=\"T_f7adb_row20_col0\" class=\"data row20 col0\" >Remove Harmonics</td>\n",
       "      <td id=\"T_f7adb_row20_col1\" class=\"data row20 col1\" >False</td>\n",
       "    </tr>\n",
       "    <tr>\n",
       "      <th id=\"T_f7adb_level0_row21\" class=\"row_heading level0 row21\" >21</th>\n",
       "      <td id=\"T_f7adb_row21_col0\" class=\"data row21 col0\" >Harmonics Order Method</td>\n",
       "      <td id=\"T_f7adb_row21_col1\" class=\"data row21 col1\" >harmonic_max</td>\n",
       "    </tr>\n",
       "    <tr>\n",
       "      <th id=\"T_f7adb_level0_row22\" class=\"row_heading level0 row22\" >22</th>\n",
       "      <td id=\"T_f7adb_row22_col0\" class=\"data row22 col0\" >Num Seasonalities to Use</td>\n",
       "      <td id=\"T_f7adb_row22_col1\" class=\"data row22 col1\" >1</td>\n",
       "    </tr>\n",
       "    <tr>\n",
       "      <th id=\"T_f7adb_level0_row23\" class=\"row_heading level0 row23\" >23</th>\n",
       "      <td id=\"T_f7adb_row23_col0\" class=\"data row23 col0\" >All Seasonalities to Use</td>\n",
       "      <td id=\"T_f7adb_row23_col1\" class=\"data row23 col1\" >[7]</td>\n",
       "    </tr>\n",
       "    <tr>\n",
       "      <th id=\"T_f7adb_level0_row24\" class=\"row_heading level0 row24\" >24</th>\n",
       "      <td id=\"T_f7adb_row24_col0\" class=\"data row24 col0\" >Primary Seasonality</td>\n",
       "      <td id=\"T_f7adb_row24_col1\" class=\"data row24 col1\" >7</td>\n",
       "    </tr>\n",
       "    <tr>\n",
       "      <th id=\"T_f7adb_level0_row25\" class=\"row_heading level0 row25\" >25</th>\n",
       "      <td id=\"T_f7adb_row25_col0\" class=\"data row25 col0\" >Seasonality Present</td>\n",
       "      <td id=\"T_f7adb_row25_col1\" class=\"data row25 col1\" >True</td>\n",
       "    </tr>\n",
       "    <tr>\n",
       "      <th id=\"T_f7adb_level0_row26\" class=\"row_heading level0 row26\" >26</th>\n",
       "      <td id=\"T_f7adb_row26_col0\" class=\"data row26 col0\" >Seasonality Type</td>\n",
       "      <td id=\"T_f7adb_row26_col1\" class=\"data row26 col1\" >mul</td>\n",
       "    </tr>\n",
       "    <tr>\n",
       "      <th id=\"T_f7adb_level0_row27\" class=\"row_heading level0 row27\" >27</th>\n",
       "      <td id=\"T_f7adb_row27_col0\" class=\"data row27 col0\" >Target Strictly Positive</td>\n",
       "      <td id=\"T_f7adb_row27_col1\" class=\"data row27 col1\" >True</td>\n",
       "    </tr>\n",
       "    <tr>\n",
       "      <th id=\"T_f7adb_level0_row28\" class=\"row_heading level0 row28\" >28</th>\n",
       "      <td id=\"T_f7adb_row28_col0\" class=\"data row28 col0\" >Target White Noise</td>\n",
       "      <td id=\"T_f7adb_row28_col1\" class=\"data row28 col1\" >No</td>\n",
       "    </tr>\n",
       "    <tr>\n",
       "      <th id=\"T_f7adb_level0_row29\" class=\"row_heading level0 row29\" >29</th>\n",
       "      <td id=\"T_f7adb_row29_col0\" class=\"data row29 col0\" >Recommended d</td>\n",
       "      <td id=\"T_f7adb_row29_col1\" class=\"data row29 col1\" >1</td>\n",
       "    </tr>\n",
       "    <tr>\n",
       "      <th id=\"T_f7adb_level0_row30\" class=\"row_heading level0 row30\" >30</th>\n",
       "      <td id=\"T_f7adb_row30_col0\" class=\"data row30 col0\" >Recommended Seasonal D</td>\n",
       "      <td id=\"T_f7adb_row30_col1\" class=\"data row30 col1\" >0</td>\n",
       "    </tr>\n",
       "    <tr>\n",
       "      <th id=\"T_f7adb_level0_row31\" class=\"row_heading level0 row31\" >31</th>\n",
       "      <td id=\"T_f7adb_row31_col0\" class=\"data row31 col0\" >Preprocess</td>\n",
       "      <td id=\"T_f7adb_row31_col1\" class=\"data row31 col1\" >True</td>\n",
       "    </tr>\n",
       "    <tr>\n",
       "      <th id=\"T_f7adb_level0_row32\" class=\"row_heading level0 row32\" >32</th>\n",
       "      <td id=\"T_f7adb_row32_col0\" class=\"data row32 col0\" >Numerical Imputation (Target)</td>\n",
       "      <td id=\"T_f7adb_row32_col1\" class=\"data row32 col1\" >drift</td>\n",
       "    </tr>\n",
       "    <tr>\n",
       "      <th id=\"T_f7adb_level0_row33\" class=\"row_heading level0 row33\" >33</th>\n",
       "      <td id=\"T_f7adb_row33_col0\" class=\"data row33 col0\" >Transformation (Target)</td>\n",
       "      <td id=\"T_f7adb_row33_col1\" class=\"data row33 col1\" >None</td>\n",
       "    </tr>\n",
       "    <tr>\n",
       "      <th id=\"T_f7adb_level0_row34\" class=\"row_heading level0 row34\" >34</th>\n",
       "      <td id=\"T_f7adb_row34_col0\" class=\"data row34 col0\" >Scaling (Target)</td>\n",
       "      <td id=\"T_f7adb_row34_col1\" class=\"data row34 col1\" >None</td>\n",
       "    </tr>\n",
       "    <tr>\n",
       "      <th id=\"T_f7adb_level0_row35\" class=\"row_heading level0 row35\" >35</th>\n",
       "      <td id=\"T_f7adb_row35_col0\" class=\"data row35 col0\" >Feature Engineering (Target) - Reduced Regression</td>\n",
       "      <td id=\"T_f7adb_row35_col1\" class=\"data row35 col1\" >False</td>\n",
       "    </tr>\n",
       "    <tr>\n",
       "      <th id=\"T_f7adb_level0_row36\" class=\"row_heading level0 row36\" >36</th>\n",
       "      <td id=\"T_f7adb_row36_col0\" class=\"data row36 col0\" >CPU Jobs</td>\n",
       "      <td id=\"T_f7adb_row36_col1\" class=\"data row36 col1\" >-1</td>\n",
       "    </tr>\n",
       "    <tr>\n",
       "      <th id=\"T_f7adb_level0_row37\" class=\"row_heading level0 row37\" >37</th>\n",
       "      <td id=\"T_f7adb_row37_col0\" class=\"data row37 col0\" >Use GPU</td>\n",
       "      <td id=\"T_f7adb_row37_col1\" class=\"data row37 col1\" >False</td>\n",
       "    </tr>\n",
       "    <tr>\n",
       "      <th id=\"T_f7adb_level0_row38\" class=\"row_heading level0 row38\" >38</th>\n",
       "      <td id=\"T_f7adb_row38_col0\" class=\"data row38 col0\" >Log Experiment</td>\n",
       "      <td id=\"T_f7adb_row38_col1\" class=\"data row38 col1\" >False</td>\n",
       "    </tr>\n",
       "    <tr>\n",
       "      <th id=\"T_f7adb_level0_row39\" class=\"row_heading level0 row39\" >39</th>\n",
       "      <td id=\"T_f7adb_row39_col0\" class=\"data row39 col0\" >Experiment Name</td>\n",
       "      <td id=\"T_f7adb_row39_col1\" class=\"data row39 col1\" >ts-default-name</td>\n",
       "    </tr>\n",
       "    <tr>\n",
       "      <th id=\"T_f7adb_level0_row40\" class=\"row_heading level0 row40\" >40</th>\n",
       "      <td id=\"T_f7adb_row40_col0\" class=\"data row40 col0\" >USI</td>\n",
       "      <td id=\"T_f7adb_row40_col1\" class=\"data row40 col1\" >c0ea</td>\n",
       "    </tr>\n",
       "  </tbody>\n",
       "</table>\n"
      ],
      "text/plain": [
       "<pandas.io.formats.style.Styler at 0x1b9e4bb5070>"
      ]
     },
     "metadata": {},
     "output_type": "display_data"
    }
   ],
   "source": [
    "# Set up PyCaret environment\n",
    "s = setup(data=btc, \n",
    "          target = 'BTC-USD',\n",
    "          #transform_target='log',\n",
    "          fh=30,  # Forecast horizon\n",
    "          session_id=123,\n",
    "          fold_strategy='expanding',\n",
    "          seasonal_period='D',\n",
    "          #fold_spans=\"adaptive\",\n",
    "          numeric_imputation_target = 'drift')"
   ]
  },
  {
   "cell_type": "code",
   "execution_count": 74,
   "id": "ccca89ac",
   "metadata": {},
   "outputs": [
    {
     "data": {
      "text/html": [],
      "text/plain": [
       "<IPython.core.display.HTML object>"
      ]
     },
     "metadata": {},
     "output_type": "display_data"
    },
    {
     "data": {
      "text/html": [
       "<style type=\"text/css\">\n",
       "#T_be97d th {\n",
       "  text-align: left;\n",
       "}\n",
       "#T_be97d_row0_col0, #T_be97d_row1_col0, #T_be97d_row1_col1, #T_be97d_row1_col2, #T_be97d_row1_col3, #T_be97d_row1_col4, #T_be97d_row1_col5, #T_be97d_row1_col6, #T_be97d_row1_col7, #T_be97d_row2_col0, #T_be97d_row2_col1, #T_be97d_row2_col2, #T_be97d_row2_col3, #T_be97d_row2_col4, #T_be97d_row2_col5, #T_be97d_row2_col6, #T_be97d_row2_col7, #T_be97d_row3_col0, #T_be97d_row3_col1, #T_be97d_row3_col2, #T_be97d_row3_col3, #T_be97d_row3_col4, #T_be97d_row3_col5, #T_be97d_row3_col6, #T_be97d_row3_col7, #T_be97d_row4_col0, #T_be97d_row4_col1, #T_be97d_row4_col2, #T_be97d_row4_col3, #T_be97d_row4_col4, #T_be97d_row4_col5, #T_be97d_row4_col6, #T_be97d_row4_col7, #T_be97d_row5_col0, #T_be97d_row5_col1, #T_be97d_row5_col2, #T_be97d_row5_col3, #T_be97d_row5_col4, #T_be97d_row5_col5, #T_be97d_row5_col6, #T_be97d_row5_col7, #T_be97d_row6_col0, #T_be97d_row6_col1, #T_be97d_row6_col2, #T_be97d_row6_col3, #T_be97d_row6_col4, #T_be97d_row6_col5, #T_be97d_row6_col6, #T_be97d_row6_col7, #T_be97d_row7_col0, #T_be97d_row7_col1, #T_be97d_row7_col2, #T_be97d_row7_col3, #T_be97d_row7_col4, #T_be97d_row7_col5, #T_be97d_row7_col6, #T_be97d_row7_col7, #T_be97d_row8_col0, #T_be97d_row8_col1, #T_be97d_row8_col2, #T_be97d_row8_col3, #T_be97d_row8_col4, #T_be97d_row8_col5, #T_be97d_row8_col6, #T_be97d_row8_col7, #T_be97d_row9_col0, #T_be97d_row9_col1, #T_be97d_row9_col2, #T_be97d_row9_col3, #T_be97d_row9_col4, #T_be97d_row9_col5, #T_be97d_row9_col6, #T_be97d_row9_col7, #T_be97d_row10_col0, #T_be97d_row10_col1, #T_be97d_row10_col2, #T_be97d_row10_col3, #T_be97d_row10_col4, #T_be97d_row10_col5, #T_be97d_row10_col6, #T_be97d_row10_col7, #T_be97d_row11_col0, #T_be97d_row11_col1, #T_be97d_row11_col2, #T_be97d_row11_col3, #T_be97d_row11_col4, #T_be97d_row11_col5, #T_be97d_row11_col6, #T_be97d_row11_col7, #T_be97d_row12_col0, #T_be97d_row12_col1, #T_be97d_row12_col2, #T_be97d_row12_col3, #T_be97d_row12_col4, #T_be97d_row12_col5, #T_be97d_row12_col6, #T_be97d_row12_col7, #T_be97d_row13_col0, #T_be97d_row13_col1, #T_be97d_row13_col2, #T_be97d_row13_col3, #T_be97d_row13_col4, #T_be97d_row13_col5, #T_be97d_row13_col6, #T_be97d_row13_col7, #T_be97d_row14_col0, #T_be97d_row14_col1, #T_be97d_row14_col2, #T_be97d_row14_col3, #T_be97d_row14_col4, #T_be97d_row14_col5, #T_be97d_row14_col6, #T_be97d_row14_col7, #T_be97d_row15_col0, #T_be97d_row15_col1, #T_be97d_row15_col2, #T_be97d_row15_col3, #T_be97d_row15_col4, #T_be97d_row15_col5, #T_be97d_row15_col6, #T_be97d_row15_col7, #T_be97d_row16_col0, #T_be97d_row16_col1, #T_be97d_row16_col2, #T_be97d_row16_col3, #T_be97d_row16_col4, #T_be97d_row16_col5, #T_be97d_row16_col6, #T_be97d_row16_col7, #T_be97d_row17_col0, #T_be97d_row17_col1, #T_be97d_row17_col2, #T_be97d_row17_col3, #T_be97d_row17_col4, #T_be97d_row17_col5, #T_be97d_row17_col6, #T_be97d_row17_col7, #T_be97d_row18_col0, #T_be97d_row18_col1, #T_be97d_row18_col2, #T_be97d_row18_col3, #T_be97d_row18_col4, #T_be97d_row18_col5, #T_be97d_row18_col6, #T_be97d_row18_col7, #T_be97d_row19_col0, #T_be97d_row19_col1, #T_be97d_row19_col2, #T_be97d_row19_col3, #T_be97d_row19_col4, #T_be97d_row19_col5, #T_be97d_row19_col6, #T_be97d_row19_col7, #T_be97d_row20_col0, #T_be97d_row20_col1, #T_be97d_row20_col2, #T_be97d_row20_col3, #T_be97d_row20_col4, #T_be97d_row20_col5, #T_be97d_row20_col6, #T_be97d_row20_col7, #T_be97d_row21_col0, #T_be97d_row21_col1, #T_be97d_row21_col2, #T_be97d_row21_col3, #T_be97d_row21_col4, #T_be97d_row21_col5, #T_be97d_row21_col6, #T_be97d_row21_col7, #T_be97d_row22_col0, #T_be97d_row22_col1, #T_be97d_row22_col2, #T_be97d_row22_col3, #T_be97d_row22_col4, #T_be97d_row22_col5, #T_be97d_row22_col6, #T_be97d_row22_col7, #T_be97d_row23_col0, #T_be97d_row23_col1, #T_be97d_row23_col2, #T_be97d_row23_col3, #T_be97d_row23_col4, #T_be97d_row23_col5, #T_be97d_row23_col6, #T_be97d_row23_col7, #T_be97d_row24_col0, #T_be97d_row24_col1, #T_be97d_row24_col2, #T_be97d_row24_col3, #T_be97d_row24_col4, #T_be97d_row24_col5, #T_be97d_row24_col6, #T_be97d_row24_col7, #T_be97d_row25_col0, #T_be97d_row25_col1, #T_be97d_row25_col2, #T_be97d_row25_col3, #T_be97d_row25_col4, #T_be97d_row25_col5, #T_be97d_row25_col6, #T_be97d_row25_col7 {\n",
       "  text-align: left;\n",
       "}\n",
       "#T_be97d_row0_col1, #T_be97d_row0_col2, #T_be97d_row0_col3, #T_be97d_row0_col4, #T_be97d_row0_col5, #T_be97d_row0_col6, #T_be97d_row0_col7 {\n",
       "  text-align: left;\n",
       "  background-color: yellow;\n",
       "}\n",
       "#T_be97d_row0_col8, #T_be97d_row1_col8, #T_be97d_row2_col8, #T_be97d_row3_col8, #T_be97d_row4_col8, #T_be97d_row5_col8, #T_be97d_row6_col8, #T_be97d_row7_col8, #T_be97d_row8_col8, #T_be97d_row9_col8, #T_be97d_row10_col8, #T_be97d_row11_col8, #T_be97d_row12_col8, #T_be97d_row13_col8, #T_be97d_row14_col8, #T_be97d_row15_col8, #T_be97d_row16_col8, #T_be97d_row17_col8, #T_be97d_row18_col8, #T_be97d_row19_col8, #T_be97d_row20_col8, #T_be97d_row21_col8, #T_be97d_row23_col8, #T_be97d_row24_col8, #T_be97d_row25_col8 {\n",
       "  text-align: left;\n",
       "  background-color: lightgrey;\n",
       "}\n",
       "#T_be97d_row22_col8 {\n",
       "  text-align: left;\n",
       "  background-color: yellow;\n",
       "  background-color: lightgrey;\n",
       "}\n",
       "</style>\n",
       "<table id=\"T_be97d\">\n",
       "  <thead>\n",
       "    <tr>\n",
       "      <th class=\"blank level0\" >&nbsp;</th>\n",
       "      <th id=\"T_be97d_level0_col0\" class=\"col_heading level0 col0\" >Model</th>\n",
       "      <th id=\"T_be97d_level0_col1\" class=\"col_heading level0 col1\" >MASE</th>\n",
       "      <th id=\"T_be97d_level0_col2\" class=\"col_heading level0 col2\" >RMSSE</th>\n",
       "      <th id=\"T_be97d_level0_col3\" class=\"col_heading level0 col3\" >MAE</th>\n",
       "      <th id=\"T_be97d_level0_col4\" class=\"col_heading level0 col4\" >RMSE</th>\n",
       "      <th id=\"T_be97d_level0_col5\" class=\"col_heading level0 col5\" >MAPE</th>\n",
       "      <th id=\"T_be97d_level0_col6\" class=\"col_heading level0 col6\" >SMAPE</th>\n",
       "      <th id=\"T_be97d_level0_col7\" class=\"col_heading level0 col7\" >R2</th>\n",
       "      <th id=\"T_be97d_level0_col8\" class=\"col_heading level0 col8\" >TT (Sec)</th>\n",
       "    </tr>\n",
       "  </thead>\n",
       "  <tbody>\n",
       "    <tr>\n",
       "      <th id=\"T_be97d_level0_row0\" class=\"row_heading level0 row0\" >exp_smooth</th>\n",
       "      <td id=\"T_be97d_row0_col0\" class=\"data row0 col0\" >Exponential Smoothing</td>\n",
       "      <td id=\"T_be97d_row0_col1\" class=\"data row0 col1\" >0.6522</td>\n",
       "      <td id=\"T_be97d_row0_col2\" class=\"data row0 col2\" >0.5887</td>\n",
       "      <td id=\"T_be97d_row0_col3\" class=\"data row0 col3\" >136.6378</td>\n",
       "      <td id=\"T_be97d_row0_col4\" class=\"data row0 col4\" >166.7971</td>\n",
       "      <td id=\"T_be97d_row0_col5\" class=\"data row0 col5\" >0.0529</td>\n",
       "      <td id=\"T_be97d_row0_col6\" class=\"data row0 col6\" >0.0522</td>\n",
       "      <td id=\"T_be97d_row0_col7\" class=\"data row0 col7\" >0.1251</td>\n",
       "      <td id=\"T_be97d_row0_col8\" class=\"data row0 col8\" >0.1033</td>\n",
       "    </tr>\n",
       "    <tr>\n",
       "      <th id=\"T_be97d_level0_row1\" class=\"row_heading level0 row1\" >ets</th>\n",
       "      <td id=\"T_be97d_row1_col0\" class=\"data row1 col0\" >ETS</td>\n",
       "      <td id=\"T_be97d_row1_col1\" class=\"data row1 col1\" >1.0164</td>\n",
       "      <td id=\"T_be97d_row1_col2\" class=\"data row1 col2\" >0.8720</td>\n",
       "      <td id=\"T_be97d_row1_col3\" class=\"data row1 col3\" >212.6287</td>\n",
       "      <td id=\"T_be97d_row1_col4\" class=\"data row1 col4\" >246.5809</td>\n",
       "      <td id=\"T_be97d_row1_col5\" class=\"data row1 col5\" >0.0836</td>\n",
       "      <td id=\"T_be97d_row1_col6\" class=\"data row1 col6\" >0.0785</td>\n",
       "      <td id=\"T_be97d_row1_col7\" class=\"data row1 col7\" >-0.8882</td>\n",
       "      <td id=\"T_be97d_row1_col8\" class=\"data row1 col8\" >0.1067</td>\n",
       "    </tr>\n",
       "    <tr>\n",
       "      <th id=\"T_be97d_level0_row2\" class=\"row_heading level0 row2\" >arima</th>\n",
       "      <td id=\"T_be97d_row2_col0\" class=\"data row2 col0\" >ARIMA</td>\n",
       "      <td id=\"T_be97d_row2_col1\" class=\"data row2 col1\" >1.1009</td>\n",
       "      <td id=\"T_be97d_row2_col2\" class=\"data row2 col2\" >0.9622</td>\n",
       "      <td id=\"T_be97d_row2_col3\" class=\"data row2 col3\" >230.3140</td>\n",
       "      <td id=\"T_be97d_row2_col4\" class=\"data row2 col4\" >272.0233</td>\n",
       "      <td id=\"T_be97d_row2_col5\" class=\"data row2 col5\" >0.0916</td>\n",
       "      <td id=\"T_be97d_row2_col6\" class=\"data row2 col6\" >0.0852</td>\n",
       "      <td id=\"T_be97d_row2_col7\" class=\"data row2 col7\" >-1.2898</td>\n",
       "      <td id=\"T_be97d_row2_col8\" class=\"data row2 col8\" >0.1500</td>\n",
       "    </tr>\n",
       "    <tr>\n",
       "      <th id=\"T_be97d_level0_row3\" class=\"row_heading level0 row3\" >theta</th>\n",
       "      <td id=\"T_be97d_row3_col0\" class=\"data row3 col0\" >Theta Forecaster</td>\n",
       "      <td id=\"T_be97d_row3_col1\" class=\"data row3 col1\" >1.2312</td>\n",
       "      <td id=\"T_be97d_row3_col2\" class=\"data row3 col2\" >1.0335</td>\n",
       "      <td id=\"T_be97d_row3_col3\" class=\"data row3 col3\" >257.4473</td>\n",
       "      <td id=\"T_be97d_row3_col4\" class=\"data row3 col4\" >291.9464</td>\n",
       "      <td id=\"T_be97d_row3_col5\" class=\"data row3 col5\" >0.1052</td>\n",
       "      <td id=\"T_be97d_row3_col6\" class=\"data row3 col6\" >0.0977</td>\n",
       "      <td id=\"T_be97d_row3_col7\" class=\"data row3 col7\" >-1.7004</td>\n",
       "      <td id=\"T_be97d_row3_col8\" class=\"data row3 col8\" >0.0700</td>\n",
       "    </tr>\n",
       "    <tr>\n",
       "      <th id=\"T_be97d_level0_row4\" class=\"row_heading level0 row4\" >naive</th>\n",
       "      <td id=\"T_be97d_row4_col0\" class=\"data row4 col0\" >Naive Forecaster</td>\n",
       "      <td id=\"T_be97d_row4_col1\" class=\"data row4 col1\" >1.2483</td>\n",
       "      <td id=\"T_be97d_row4_col2\" class=\"data row4 col2\" >1.0399</td>\n",
       "      <td id=\"T_be97d_row4_col3\" class=\"data row4 col3\" >261.0802</td>\n",
       "      <td id=\"T_be97d_row4_col4\" class=\"data row4 col4\" >293.7721</td>\n",
       "      <td id=\"T_be97d_row4_col5\" class=\"data row4 col5\" >0.1068</td>\n",
       "      <td id=\"T_be97d_row4_col6\" class=\"data row4 col6\" >0.0991</td>\n",
       "      <td id=\"T_be97d_row4_col7\" class=\"data row4 col7\" >-1.7372</td>\n",
       "      <td id=\"T_be97d_row4_col8\" class=\"data row4 col8\" >1.5900</td>\n",
       "    </tr>\n",
       "    <tr>\n",
       "      <th id=\"T_be97d_level0_row5\" class=\"row_heading level0 row5\" >auto_arima</th>\n",
       "      <td id=\"T_be97d_row5_col0\" class=\"data row5 col0\" >Auto ARIMA</td>\n",
       "      <td id=\"T_be97d_row5_col1\" class=\"data row5 col1\" >1.2483</td>\n",
       "      <td id=\"T_be97d_row5_col2\" class=\"data row5 col2\" >1.0399</td>\n",
       "      <td id=\"T_be97d_row5_col3\" class=\"data row5 col3\" >261.0802</td>\n",
       "      <td id=\"T_be97d_row5_col4\" class=\"data row5 col4\" >293.7721</td>\n",
       "      <td id=\"T_be97d_row5_col5\" class=\"data row5 col5\" >0.1068</td>\n",
       "      <td id=\"T_be97d_row5_col6\" class=\"data row5 col6\" >0.0991</td>\n",
       "      <td id=\"T_be97d_row5_col7\" class=\"data row5 col7\" >-1.7372</td>\n",
       "      <td id=\"T_be97d_row5_col8\" class=\"data row5 col8\" >0.9933</td>\n",
       "    </tr>\n",
       "    <tr>\n",
       "      <th id=\"T_be97d_level0_row6\" class=\"row_heading level0 row6\" >rf_cds_dt</th>\n",
       "      <td id=\"T_be97d_row6_col0\" class=\"data row6 col0\" >Random Forest w/ Cond. Deseasonalize & Detrending</td>\n",
       "      <td id=\"T_be97d_row6_col1\" class=\"data row6 col1\" >1.3970</td>\n",
       "      <td id=\"T_be97d_row6_col2\" class=\"data row6 col2\" >1.1522</td>\n",
       "      <td id=\"T_be97d_row6_col3\" class=\"data row6 col3\" >292.0257</td>\n",
       "      <td id=\"T_be97d_row6_col4\" class=\"data row6 col4\" >325.3238</td>\n",
       "      <td id=\"T_be97d_row6_col5\" class=\"data row6 col5\" >0.1202</td>\n",
       "      <td id=\"T_be97d_row6_col6\" class=\"data row6 col6\" >0.1104</td>\n",
       "      <td id=\"T_be97d_row6_col7\" class=\"data row6 col7\" >-2.4133</td>\n",
       "      <td id=\"T_be97d_row6_col8\" class=\"data row6 col8\" >0.9633</td>\n",
       "    </tr>\n",
       "    <tr>\n",
       "      <th id=\"T_be97d_level0_row7\" class=\"row_heading level0 row7\" >ada_cds_dt</th>\n",
       "      <td id=\"T_be97d_row7_col0\" class=\"data row7 col0\" >AdaBoost w/ Cond. Deseasonalize & Detrending</td>\n",
       "      <td id=\"T_be97d_row7_col1\" class=\"data row7 col1\" >1.4459</td>\n",
       "      <td id=\"T_be97d_row7_col2\" class=\"data row7 col2\" >1.1712</td>\n",
       "      <td id=\"T_be97d_row7_col3\" class=\"data row7 col3\" >302.5953</td>\n",
       "      <td id=\"T_be97d_row7_col4\" class=\"data row7 col4\" >331.0876</td>\n",
       "      <td id=\"T_be97d_row7_col5\" class=\"data row7 col5\" >0.1219</td>\n",
       "      <td id=\"T_be97d_row7_col6\" class=\"data row7 col6\" >0.1122</td>\n",
       "      <td id=\"T_be97d_row7_col7\" class=\"data row7 col7\" >-2.4031</td>\n",
       "      <td id=\"T_be97d_row7_col8\" class=\"data row7 col8\" >0.5967</td>\n",
       "    </tr>\n",
       "    <tr>\n",
       "      <th id=\"T_be97d_level0_row8\" class=\"row_heading level0 row8\" >omp_cds_dt</th>\n",
       "      <td id=\"T_be97d_row8_col0\" class=\"data row8 col0\" >Orthogonal Matching Pursuit w/ Cond. Deseasonalize & Detrending</td>\n",
       "      <td id=\"T_be97d_row8_col1\" class=\"data row8 col1\" >1.4592</td>\n",
       "      <td id=\"T_be97d_row8_col2\" class=\"data row8 col2\" >1.2201</td>\n",
       "      <td id=\"T_be97d_row8_col3\" class=\"data row8 col3\" >305.0520</td>\n",
       "      <td id=\"T_be97d_row8_col4\" class=\"data row8 col4\" >344.3882</td>\n",
       "      <td id=\"T_be97d_row8_col5\" class=\"data row8 col5\" >0.1297</td>\n",
       "      <td id=\"T_be97d_row8_col6\" class=\"data row8 col6\" >0.1183</td>\n",
       "      <td id=\"T_be97d_row8_col7\" class=\"data row8 col7\" >-3.2271</td>\n",
       "      <td id=\"T_be97d_row8_col8\" class=\"data row8 col8\" >0.4933</td>\n",
       "    </tr>\n",
       "    <tr>\n",
       "      <th id=\"T_be97d_level0_row9\" class=\"row_heading level0 row9\" >stlf</th>\n",
       "      <td id=\"T_be97d_row9_col0\" class=\"data row9 col0\" >STLF</td>\n",
       "      <td id=\"T_be97d_row9_col1\" class=\"data row9 col1\" >1.4798</td>\n",
       "      <td id=\"T_be97d_row9_col2\" class=\"data row9 col2\" >1.2344</td>\n",
       "      <td id=\"T_be97d_row9_col3\" class=\"data row9 col3\" >309.6086</td>\n",
       "      <td id=\"T_be97d_row9_col4\" class=\"data row9 col4\" >348.8524</td>\n",
       "      <td id=\"T_be97d_row9_col5\" class=\"data row9 col5\" >0.1270</td>\n",
       "      <td id=\"T_be97d_row9_col6\" class=\"data row9 col6\" >0.1162</td>\n",
       "      <td id=\"T_be97d_row9_col7\" class=\"data row9 col7\" >-2.8640</td>\n",
       "      <td id=\"T_be97d_row9_col8\" class=\"data row9 col8\" >0.0633</td>\n",
       "    </tr>\n",
       "    <tr>\n",
       "      <th id=\"T_be97d_level0_row10\" class=\"row_heading level0 row10\" >huber_cds_dt</th>\n",
       "      <td id=\"T_be97d_row10_col0\" class=\"data row10 col0\" >Huber w/ Cond. Deseasonalize & Detrending</td>\n",
       "      <td id=\"T_be97d_row10_col1\" class=\"data row10 col1\" >1.4840</td>\n",
       "      <td id=\"T_be97d_row10_col2\" class=\"data row10 col2\" >1.2400</td>\n",
       "      <td id=\"T_be97d_row10_col3\" class=\"data row10 col3\" >310.2305</td>\n",
       "      <td id=\"T_be97d_row10_col4\" class=\"data row10 col4\" >350.0189</td>\n",
       "      <td id=\"T_be97d_row10_col5\" class=\"data row10 col5\" >0.1317</td>\n",
       "      <td id=\"T_be97d_row10_col6\" class=\"data row10 col6\" >0.1200</td>\n",
       "      <td id=\"T_be97d_row10_col7\" class=\"data row10 col7\" >-3.3535</td>\n",
       "      <td id=\"T_be97d_row10_col8\" class=\"data row10 col8\" >0.4633</td>\n",
       "    </tr>\n",
       "    <tr>\n",
       "      <th id=\"T_be97d_level0_row11\" class=\"row_heading level0 row11\" >lr_cds_dt</th>\n",
       "      <td id=\"T_be97d_row11_col0\" class=\"data row11 col0\" >Linear w/ Cond. Deseasonalize & Detrending</td>\n",
       "      <td id=\"T_be97d_row11_col1\" class=\"data row11 col1\" >1.5268</td>\n",
       "      <td id=\"T_be97d_row11_col2\" class=\"data row11 col2\" >1.2755</td>\n",
       "      <td id=\"T_be97d_row11_col3\" class=\"data row11 col3\" >319.2331</td>\n",
       "      <td id=\"T_be97d_row11_col4\" class=\"data row11 col4\" >360.0509</td>\n",
       "      <td id=\"T_be97d_row11_col5\" class=\"data row11 col5\" >0.1361</td>\n",
       "      <td id=\"T_be97d_row11_col6\" class=\"data row11 col6\" >0.1236</td>\n",
       "      <td id=\"T_be97d_row11_col7\" class=\"data row11 col7\" >-3.7321</td>\n",
       "      <td id=\"T_be97d_row11_col8\" class=\"data row11 col8\" >0.8367</td>\n",
       "    </tr>\n",
       "    <tr>\n",
       "      <th id=\"T_be97d_level0_row12\" class=\"row_heading level0 row12\" >ridge_cds_dt</th>\n",
       "      <td id=\"T_be97d_row12_col0\" class=\"data row12 col0\" >Ridge w/ Cond. Deseasonalize & Detrending</td>\n",
       "      <td id=\"T_be97d_row12_col1\" class=\"data row12 col1\" >1.5268</td>\n",
       "      <td id=\"T_be97d_row12_col2\" class=\"data row12 col2\" >1.2755</td>\n",
       "      <td id=\"T_be97d_row12_col3\" class=\"data row12 col3\" >319.2331</td>\n",
       "      <td id=\"T_be97d_row12_col4\" class=\"data row12 col4\" >360.0509</td>\n",
       "      <td id=\"T_be97d_row12_col5\" class=\"data row12 col5\" >0.1361</td>\n",
       "      <td id=\"T_be97d_row12_col6\" class=\"data row12 col6\" >0.1236</td>\n",
       "      <td id=\"T_be97d_row12_col7\" class=\"data row12 col7\" >-3.7321</td>\n",
       "      <td id=\"T_be97d_row12_col8\" class=\"data row12 col8\" >0.8800</td>\n",
       "    </tr>\n",
       "    <tr>\n",
       "      <th id=\"T_be97d_level0_row13\" class=\"row_heading level0 row13\" >llar_cds_dt</th>\n",
       "      <td id=\"T_be97d_row13_col0\" class=\"data row13 col0\" >Lasso Least Angular Regressor w/ Cond. Deseasonalize & Detrending</td>\n",
       "      <td id=\"T_be97d_row13_col1\" class=\"data row13 col1\" >1.5269</td>\n",
       "      <td id=\"T_be97d_row13_col2\" class=\"data row13 col2\" >1.2756</td>\n",
       "      <td id=\"T_be97d_row13_col3\" class=\"data row13 col3\" >319.2519</td>\n",
       "      <td id=\"T_be97d_row13_col4\" class=\"data row13 col4\" >360.0667</td>\n",
       "      <td id=\"T_be97d_row13_col5\" class=\"data row13 col5\" >0.1361</td>\n",
       "      <td id=\"T_be97d_row13_col6\" class=\"data row13 col6\" >0.1236</td>\n",
       "      <td id=\"T_be97d_row13_col7\" class=\"data row13 col7\" >-3.7325</td>\n",
       "      <td id=\"T_be97d_row13_col8\" class=\"data row13 col8\" >0.6067</td>\n",
       "    </tr>\n",
       "    <tr>\n",
       "      <th id=\"T_be97d_level0_row14\" class=\"row_heading level0 row14\" >en_cds_dt</th>\n",
       "      <td id=\"T_be97d_row14_col0\" class=\"data row14 col0\" >Elastic Net w/ Cond. Deseasonalize & Detrending</td>\n",
       "      <td id=\"T_be97d_row14_col1\" class=\"data row14 col1\" >1.5269</td>\n",
       "      <td id=\"T_be97d_row14_col2\" class=\"data row14 col2\" >1.2755</td>\n",
       "      <td id=\"T_be97d_row14_col3\" class=\"data row14 col3\" >319.2425</td>\n",
       "      <td id=\"T_be97d_row14_col4\" class=\"data row14 col4\" >360.0588</td>\n",
       "      <td id=\"T_be97d_row14_col5\" class=\"data row14 col5\" >0.1361</td>\n",
       "      <td id=\"T_be97d_row14_col6\" class=\"data row14 col6\" >0.1236</td>\n",
       "      <td id=\"T_be97d_row14_col7\" class=\"data row14 col7\" >-3.7323</td>\n",
       "      <td id=\"T_be97d_row14_col8\" class=\"data row14 col8\" >0.9100</td>\n",
       "    </tr>\n",
       "    <tr>\n",
       "      <th id=\"T_be97d_level0_row15\" class=\"row_heading level0 row15\" >lasso_cds_dt</th>\n",
       "      <td id=\"T_be97d_row15_col0\" class=\"data row15 col0\" >Lasso w/ Cond. Deseasonalize & Detrending</td>\n",
       "      <td id=\"T_be97d_row15_col1\" class=\"data row15 col1\" >1.5269</td>\n",
       "      <td id=\"T_be97d_row15_col2\" class=\"data row15 col2\" >1.2756</td>\n",
       "      <td id=\"T_be97d_row15_col3\" class=\"data row15 col3\" >319.2526</td>\n",
       "      <td id=\"T_be97d_row15_col4\" class=\"data row15 col4\" >360.0675</td>\n",
       "      <td id=\"T_be97d_row15_col5\" class=\"data row15 col5\" >0.1361</td>\n",
       "      <td id=\"T_be97d_row15_col6\" class=\"data row15 col6\" >0.1236</td>\n",
       "      <td id=\"T_be97d_row15_col7\" class=\"data row15 col7\" >-3.7325</td>\n",
       "      <td id=\"T_be97d_row15_col8\" class=\"data row15 col8\" >0.6533</td>\n",
       "    </tr>\n",
       "    <tr>\n",
       "      <th id=\"T_be97d_level0_row16\" class=\"row_heading level0 row16\" >et_cds_dt</th>\n",
       "      <td id=\"T_be97d_row16_col0\" class=\"data row16 col0\" >Extra Trees w/ Cond. Deseasonalize & Detrending</td>\n",
       "      <td id=\"T_be97d_row16_col1\" class=\"data row16 col1\" >1.5272</td>\n",
       "      <td id=\"T_be97d_row16_col2\" class=\"data row16 col2\" >1.2420</td>\n",
       "      <td id=\"T_be97d_row16_col3\" class=\"data row16 col3\" >319.3017</td>\n",
       "      <td id=\"T_be97d_row16_col4\" class=\"data row16 col4\" >350.4841</td>\n",
       "      <td id=\"T_be97d_row16_col5\" class=\"data row16 col5\" >0.1381</td>\n",
       "      <td id=\"T_be97d_row16_col6\" class=\"data row16 col6\" >0.1251</td>\n",
       "      <td id=\"T_be97d_row16_col7\" class=\"data row16 col7\" >-3.8123</td>\n",
       "      <td id=\"T_be97d_row16_col8\" class=\"data row16 col8\" >0.8933</td>\n",
       "    </tr>\n",
       "    <tr>\n",
       "      <th id=\"T_be97d_level0_row17\" class=\"row_heading level0 row17\" >br_cds_dt</th>\n",
       "      <td id=\"T_be97d_row17_col0\" class=\"data row17 col0\" >Bayesian Ridge w/ Cond. Deseasonalize & Detrending</td>\n",
       "      <td id=\"T_be97d_row17_col1\" class=\"data row17 col1\" >1.5284</td>\n",
       "      <td id=\"T_be97d_row17_col2\" class=\"data row17 col2\" >1.2763</td>\n",
       "      <td id=\"T_be97d_row17_col3\" class=\"data row17 col3\" >319.5563</td>\n",
       "      <td id=\"T_be97d_row17_col4\" class=\"data row17 col4\" >360.2784</td>\n",
       "      <td id=\"T_be97d_row17_col5\" class=\"data row17 col5\" >0.1363</td>\n",
       "      <td id=\"T_be97d_row17_col6\" class=\"data row17 col6\" >0.1238</td>\n",
       "      <td id=\"T_be97d_row17_col7\" class=\"data row17 col7\" >-3.7453</td>\n",
       "      <td id=\"T_be97d_row17_col8\" class=\"data row17 col8\" >0.5600</td>\n",
       "    </tr>\n",
       "    <tr>\n",
       "      <th id=\"T_be97d_level0_row18\" class=\"row_heading level0 row18\" >knn_cds_dt</th>\n",
       "      <td id=\"T_be97d_row18_col0\" class=\"data row18 col0\" >K Neighbors w/ Cond. Deseasonalize & Detrending</td>\n",
       "      <td id=\"T_be97d_row18_col1\" class=\"data row18 col1\" >1.6158</td>\n",
       "      <td id=\"T_be97d_row18_col2\" class=\"data row18 col2\" >1.3444</td>\n",
       "      <td id=\"T_be97d_row18_col3\" class=\"data row18 col3\" >338.0619</td>\n",
       "      <td id=\"T_be97d_row18_col4\" class=\"data row18 col4\" >380.0829</td>\n",
       "      <td id=\"T_be97d_row18_col5\" class=\"data row18 col5\" >0.1377</td>\n",
       "      <td id=\"T_be97d_row18_col6\" class=\"data row18 col6\" >0.1264</td>\n",
       "      <td id=\"T_be97d_row18_col7\" class=\"data row18 col7\" >-3.5342</td>\n",
       "      <td id=\"T_be97d_row18_col8\" class=\"data row18 col8\" >0.6533</td>\n",
       "    </tr>\n",
       "    <tr>\n",
       "      <th id=\"T_be97d_level0_row19\" class=\"row_heading level0 row19\" >gbr_cds_dt</th>\n",
       "      <td id=\"T_be97d_row19_col0\" class=\"data row19 col0\" >Gradient Boosting w/ Cond. Deseasonalize & Detrending</td>\n",
       "      <td id=\"T_be97d_row19_col1\" class=\"data row19 col1\" >1.6328</td>\n",
       "      <td id=\"T_be97d_row19_col2\" class=\"data row19 col2\" >1.3179</td>\n",
       "      <td id=\"T_be97d_row19_col3\" class=\"data row19 col3\" >341.2797</td>\n",
       "      <td id=\"T_be97d_row19_col4\" class=\"data row19 col4\" >371.8728</td>\n",
       "      <td id=\"T_be97d_row19_col5\" class=\"data row19 col5\" >0.1456</td>\n",
       "      <td id=\"T_be97d_row19_col6\" class=\"data row19 col6\" >0.1316</td>\n",
       "      <td id=\"T_be97d_row19_col7\" class=\"data row19 col7\" >-4.0089</td>\n",
       "      <td id=\"T_be97d_row19_col8\" class=\"data row19 col8\" >0.6500</td>\n",
       "    </tr>\n",
       "    <tr>\n",
       "      <th id=\"T_be97d_level0_row20\" class=\"row_heading level0 row20\" >lightgbm_cds_dt</th>\n",
       "      <td id=\"T_be97d_row20_col0\" class=\"data row20 col0\" >Light Gradient Boosting w/ Cond. Deseasonalize & Detrending</td>\n",
       "      <td id=\"T_be97d_row20_col1\" class=\"data row20 col1\" >1.6802</td>\n",
       "      <td id=\"T_be97d_row20_col2\" class=\"data row20 col2\" >1.3530</td>\n",
       "      <td id=\"T_be97d_row20_col3\" class=\"data row20 col3\" >351.2428</td>\n",
       "      <td id=\"T_be97d_row20_col4\" class=\"data row20 col4\" >381.8071</td>\n",
       "      <td id=\"T_be97d_row20_col5\" class=\"data row20 col5\" >0.1502</td>\n",
       "      <td id=\"T_be97d_row20_col6\" class=\"data row20 col6\" >0.1354</td>\n",
       "      <td id=\"T_be97d_row20_col7\" class=\"data row20 col7\" >-4.3723</td>\n",
       "      <td id=\"T_be97d_row20_col8\" class=\"data row20 col8\" >0.8033</td>\n",
       "    </tr>\n",
       "    <tr>\n",
       "      <th id=\"T_be97d_level0_row21\" class=\"row_heading level0 row21\" >snaive</th>\n",
       "      <td id=\"T_be97d_row21_col0\" class=\"data row21 col0\" >Seasonal Naive Forecaster</td>\n",
       "      <td id=\"T_be97d_row21_col1\" class=\"data row21 col1\" >1.8737</td>\n",
       "      <td id=\"T_be97d_row21_col2\" class=\"data row21 col2\" >1.5533</td>\n",
       "      <td id=\"T_be97d_row21_col3\" class=\"data row21 col3\" >391.8241</td>\n",
       "      <td id=\"T_be97d_row21_col4\" class=\"data row21 col4\" >438.4091</td>\n",
       "      <td id=\"T_be97d_row21_col5\" class=\"data row21 col5\" >0.1662</td>\n",
       "      <td id=\"T_be97d_row21_col6\" class=\"data row21 col6\" >0.1472</td>\n",
       "      <td id=\"T_be97d_row21_col7\" class=\"data row21 col7\" >-6.0565</td>\n",
       "      <td id=\"T_be97d_row21_col8\" class=\"data row21 col8\" >1.0800</td>\n",
       "    </tr>\n",
       "    <tr>\n",
       "      <th id=\"T_be97d_level0_row22\" class=\"row_heading level0 row22\" >croston</th>\n",
       "      <td id=\"T_be97d_row22_col0\" class=\"data row22 col0\" >Croston</td>\n",
       "      <td id=\"T_be97d_row22_col1\" class=\"data row22 col1\" >2.1360</td>\n",
       "      <td id=\"T_be97d_row22_col2\" class=\"data row22 col2\" >1.6794</td>\n",
       "      <td id=\"T_be97d_row22_col3\" class=\"data row22 col3\" >446.7845</td>\n",
       "      <td id=\"T_be97d_row22_col4\" class=\"data row22 col4\" >474.0936</td>\n",
       "      <td id=\"T_be97d_row22_col5\" class=\"data row22 col5\" >0.1899</td>\n",
       "      <td id=\"T_be97d_row22_col6\" class=\"data row22 col6\" >0.1676</td>\n",
       "      <td id=\"T_be97d_row22_col7\" class=\"data row22 col7\" >-7.2392</td>\n",
       "      <td id=\"T_be97d_row22_col8\" class=\"data row22 col8\" >0.0367</td>\n",
       "    </tr>\n",
       "    <tr>\n",
       "      <th id=\"T_be97d_level0_row23\" class=\"row_heading level0 row23\" >dt_cds_dt</th>\n",
       "      <td id=\"T_be97d_row23_col0\" class=\"data row23 col0\" >Decision Tree w/ Cond. Deseasonalize & Detrending</td>\n",
       "      <td id=\"T_be97d_row23_col1\" class=\"data row23 col1\" >2.5047</td>\n",
       "      <td id=\"T_be97d_row23_col2\" class=\"data row23 col2\" >2.0921</td>\n",
       "      <td id=\"T_be97d_row23_col3\" class=\"data row23 col3\" >523.7563</td>\n",
       "      <td id=\"T_be97d_row23_col4\" class=\"data row23 col4\" >590.9683</td>\n",
       "      <td id=\"T_be97d_row23_col5\" class=\"data row23 col5\" >0.2109</td>\n",
       "      <td id=\"T_be97d_row23_col6\" class=\"data row23 col6\" >0.1829</td>\n",
       "      <td id=\"T_be97d_row23_col7\" class=\"data row23 col7\" >-10.0184</td>\n",
       "      <td id=\"T_be97d_row23_col8\" class=\"data row23 col8\" >0.4500</td>\n",
       "    </tr>\n",
       "    <tr>\n",
       "      <th id=\"T_be97d_level0_row24\" class=\"row_heading level0 row24\" >polytrend</th>\n",
       "      <td id=\"T_be97d_row24_col0\" class=\"data row24 col0\" >Polynomial Trend Forecaster</td>\n",
       "      <td id=\"T_be97d_row24_col1\" class=\"data row24 col1\" >2.7114</td>\n",
       "      <td id=\"T_be97d_row24_col2\" class=\"data row24 col2\" >2.0989</td>\n",
       "      <td id=\"T_be97d_row24_col3\" class=\"data row24 col3\" >568.0181</td>\n",
       "      <td id=\"T_be97d_row24_col4\" class=\"data row24 col4\" >593.4643</td>\n",
       "      <td id=\"T_be97d_row24_col5\" class=\"data row24 col5\" >0.2433</td>\n",
       "      <td id=\"T_be97d_row24_col6\" class=\"data row24 col6\" >0.2115</td>\n",
       "      <td id=\"T_be97d_row24_col7\" class=\"data row24 col7\" >-15.0956</td>\n",
       "      <td id=\"T_be97d_row24_col8\" class=\"data row24 col8\" >0.0700</td>\n",
       "    </tr>\n",
       "    <tr>\n",
       "      <th id=\"T_be97d_level0_row25\" class=\"row_heading level0 row25\" >grand_means</th>\n",
       "      <td id=\"T_be97d_row25_col0\" class=\"data row25 col0\" >Grand Means Forecaster</td>\n",
       "      <td id=\"T_be97d_row25_col1\" class=\"data row25 col1\" >2.7277</td>\n",
       "      <td id=\"T_be97d_row25_col2\" class=\"data row25 col2\" >2.1256</td>\n",
       "      <td id=\"T_be97d_row25_col3\" class=\"data row25 col3\" >570.8401</td>\n",
       "      <td id=\"T_be97d_row25_col4\" class=\"data row25 col4\" >600.1129</td>\n",
       "      <td id=\"T_be97d_row25_col5\" class=\"data row25 col5\" >0.2519</td>\n",
       "      <td id=\"T_be97d_row25_col6\" class=\"data row25 col6\" >0.2120</td>\n",
       "      <td id=\"T_be97d_row25_col7\" class=\"data row25 col7\" >-17.4102</td>\n",
       "      <td id=\"T_be97d_row25_col8\" class=\"data row25 col8\" >1.0867</td>\n",
       "    </tr>\n",
       "  </tbody>\n",
       "</table>\n"
      ],
      "text/plain": [
       "<pandas.io.formats.style.Styler at 0x1b9c862a8b0>"
      ]
     },
     "metadata": {},
     "output_type": "display_data"
    },
    {
     "data": {
      "text/html": [],
      "text/plain": [
       "<IPython.core.display.HTML object>"
      ]
     },
     "metadata": {},
     "output_type": "display_data"
    }
   ],
   "source": [
    "best = compare_models()"
   ]
  },
  {
   "cell_type": "code",
   "execution_count": 237,
   "id": "d7fd741c",
   "metadata": {},
   "outputs": [
    {
     "data": {
      "text/html": [],
      "text/plain": [
       "<IPython.core.display.HTML object>"
      ]
     },
     "metadata": {},
     "output_type": "display_data"
    },
    {
     "data": {
      "text/html": [],
      "text/plain": [
       "<IPython.core.display.HTML object>"
      ]
     },
     "metadata": {},
     "output_type": "display_data"
    },
    {
     "data": {
      "text/html": [],
      "text/plain": [
       "<IPython.core.display.HTML object>"
      ]
     },
     "metadata": {},
     "output_type": "display_data"
    }
   ],
   "source": [
    "prophet = create_model('prophet')\n"
   ]
  },
  {
   "cell_type": "code",
   "execution_count": 238,
   "id": "2ab863b1",
   "metadata": {},
   "outputs": [
    {
     "data": {
      "text/html": [],
      "text/plain": [
       "<IPython.core.display.HTML object>"
      ]
     },
     "metadata": {},
     "output_type": "display_data"
    },
    {
     "data": {
      "text/html": [
       "<style type=\"text/css\">\n",
       "#T_71e34_row3_col0, #T_71e34_row3_col1, #T_71e34_row3_col2, #T_71e34_row3_col3, #T_71e34_row3_col4, #T_71e34_row3_col5, #T_71e34_row3_col6, #T_71e34_row3_col7 {\n",
       "  background: yellow;\n",
       "}\n",
       "</style>\n",
       "<table id=\"T_71e34\">\n",
       "  <thead>\n",
       "    <tr>\n",
       "      <th class=\"blank level0\" >&nbsp;</th>\n",
       "      <th id=\"T_71e34_level0_col0\" class=\"col_heading level0 col0\" >cutoff</th>\n",
       "      <th id=\"T_71e34_level0_col1\" class=\"col_heading level0 col1\" >MASE</th>\n",
       "      <th id=\"T_71e34_level0_col2\" class=\"col_heading level0 col2\" >RMSSE</th>\n",
       "      <th id=\"T_71e34_level0_col3\" class=\"col_heading level0 col3\" >MAE</th>\n",
       "      <th id=\"T_71e34_level0_col4\" class=\"col_heading level0 col4\" >RMSE</th>\n",
       "      <th id=\"T_71e34_level0_col5\" class=\"col_heading level0 col5\" >MAPE</th>\n",
       "      <th id=\"T_71e34_level0_col6\" class=\"col_heading level0 col6\" >SMAPE</th>\n",
       "      <th id=\"T_71e34_level0_col7\" class=\"col_heading level0 col7\" >R2</th>\n",
       "    </tr>\n",
       "  </thead>\n",
       "  <tbody>\n",
       "    <tr>\n",
       "      <th id=\"T_71e34_level0_row0\" class=\"row_heading level0 row0\" >0</th>\n",
       "      <td id=\"T_71e34_row0_col0\" class=\"data row0 col0\" >2024-12-31</td>\n",
       "      <td id=\"T_71e34_row0_col1\" class=\"data row0 col1\" >1.5436</td>\n",
       "      <td id=\"T_71e34_row0_col2\" class=\"data row0 col2\" >1.2940</td>\n",
       "      <td id=\"T_71e34_row0_col3\" class=\"data row0 col3\" >5710.4340</td>\n",
       "      <td id=\"T_71e34_row0_col4\" class=\"data row0 col4\" >6368.7755</td>\n",
       "      <td id=\"T_71e34_row0_col5\" class=\"data row0 col5\" >0.0582</td>\n",
       "      <td id=\"T_71e34_row0_col6\" class=\"data row0 col6\" >0.0562</td>\n",
       "      <td id=\"T_71e34_row0_col7\" class=\"data row0 col7\" >-1.5263</td>\n",
       "    </tr>\n",
       "    <tr>\n",
       "      <th id=\"T_71e34_level0_row1\" class=\"row_heading level0 row1\" >1</th>\n",
       "      <td id=\"T_71e34_row1_col0\" class=\"data row1 col0\" >2025-01-30</td>\n",
       "      <td id=\"T_71e34_row1_col1\" class=\"data row1 col1\" >1.8720</td>\n",
       "      <td id=\"T_71e34_row1_col2\" class=\"data row1 col2\" >1.7535</td>\n",
       "      <td id=\"T_71e34_row1_col3\" class=\"data row1 col3\" >7029.5063</td>\n",
       "      <td id=\"T_71e34_row1_col4\" class=\"data row1 col4\" >8687.0204</td>\n",
       "      <td id=\"T_71e34_row1_col5\" class=\"data row1 col5\" >0.0769</td>\n",
       "      <td id=\"T_71e34_row1_col6\" class=\"data row1 col6\" >0.0724</td>\n",
       "      <td id=\"T_71e34_row1_col7\" class=\"data row1 col7\" >-2.3760</td>\n",
       "    </tr>\n",
       "    <tr>\n",
       "      <th id=\"T_71e34_level0_row2\" class=\"row_heading level0 row2\" >2</th>\n",
       "      <td id=\"T_71e34_row2_col0\" class=\"data row2 col0\" >2025-03-01</td>\n",
       "      <td id=\"T_71e34_row2_col1\" class=\"data row2 col1\" >2.3760</td>\n",
       "      <td id=\"T_71e34_row2_col2\" class=\"data row2 col2\" >1.8891</td>\n",
       "      <td id=\"T_71e34_row2_col3\" class=\"data row2 col3\" >8969.4143</td>\n",
       "      <td id=\"T_71e34_row2_col4\" class=\"data row2 col4\" >9472.8933</td>\n",
       "      <td id=\"T_71e34_row2_col5\" class=\"data row2 col5\" >0.1069</td>\n",
       "      <td id=\"T_71e34_row2_col6\" class=\"data row2 col6\" >0.1008</td>\n",
       "      <td id=\"T_71e34_row2_col7\" class=\"data row2 col7\" >-8.0960</td>\n",
       "    </tr>\n",
       "    <tr>\n",
       "      <th id=\"T_71e34_level0_row3\" class=\"row_heading level0 row3\" >Mean</th>\n",
       "      <td id=\"T_71e34_row3_col0\" class=\"data row3 col0\" >NaT</td>\n",
       "      <td id=\"T_71e34_row3_col1\" class=\"data row3 col1\" >1.9305</td>\n",
       "      <td id=\"T_71e34_row3_col2\" class=\"data row3 col2\" >1.6455</td>\n",
       "      <td id=\"T_71e34_row3_col3\" class=\"data row3 col3\" >7236.4515</td>\n",
       "      <td id=\"T_71e34_row3_col4\" class=\"data row3 col4\" >8176.2297</td>\n",
       "      <td id=\"T_71e34_row3_col5\" class=\"data row3 col5\" >0.0807</td>\n",
       "      <td id=\"T_71e34_row3_col6\" class=\"data row3 col6\" >0.0765</td>\n",
       "      <td id=\"T_71e34_row3_col7\" class=\"data row3 col7\" >-3.9994</td>\n",
       "    </tr>\n",
       "    <tr>\n",
       "      <th id=\"T_71e34_level0_row4\" class=\"row_heading level0 row4\" >SD</th>\n",
       "      <td id=\"T_71e34_row4_col0\" class=\"data row4 col0\" >NaT</td>\n",
       "      <td id=\"T_71e34_row4_col1\" class=\"data row4 col1\" >0.3423</td>\n",
       "      <td id=\"T_71e34_row4_col2\" class=\"data row4 col2\" >0.2547</td>\n",
       "      <td id=\"T_71e34_row4_col3\" class=\"data row4 col3\" >1338.4961</td>\n",
       "      <td id=\"T_71e34_row4_col4\" class=\"data row4 col4\" >1317.7170</td>\n",
       "      <td id=\"T_71e34_row4_col5\" class=\"data row4 col5\" >0.0200</td>\n",
       "      <td id=\"T_71e34_row4_col6\" class=\"data row4 col6\" >0.0185</td>\n",
       "      <td id=\"T_71e34_row4_col7\" class=\"data row4 col7\" >2.9174</td>\n",
       "    </tr>\n",
       "  </tbody>\n",
       "</table>\n"
      ],
      "text/plain": [
       "<pandas.io.formats.style.Styler at 0x1b9d0c04310>"
      ]
     },
     "metadata": {},
     "output_type": "display_data"
    },
    {
     "data": {
      "text/html": [],
      "text/plain": [
       "<IPython.core.display.HTML object>"
      ]
     },
     "metadata": {},
     "output_type": "display_data"
    },
    {
     "name": "stdout",
     "output_type": "stream",
     "text": [
      "Fitting 3 folds for each of 10 candidates, totalling 30 fits\n"
     ]
    },
    {
     "name": "stderr",
     "output_type": "stream",
     "text": [
      "[Parallel(n_jobs=-1)]: Using backend LokyBackend with 8 concurrent workers.\n",
      "[Parallel(n_jobs=-1)]: Done  30 out of  30 | elapsed:    9.2s finished\n"
     ]
    }
   ],
   "source": [
    "tuned_prophet = tune_model(prophet)\n"
   ]
  },
  {
   "cell_type": "code",
   "execution_count": 239,
   "id": "279aaf67",
   "metadata": {},
   "outputs": [],
   "source": [
    "# Predictions\n",
    "final_prophet = finalize_model(tuned_prophet)\n",
    "#future_dates = pd.date_range(df.index[-1], periods=30, freq='D')\n",
    "prophet_predictions = predict_model(final_prophet)\n",
    "#arima_predictions = predict_model(tuned_arima, fh=30)"
   ]
  },
  {
   "cell_type": "code",
   "execution_count": 80,
   "id": "36de9347",
   "metadata": {},
   "outputs": [],
   "source": [
    "import plotly.io as pio"
   ]
  },
  {
   "cell_type": "code",
   "execution_count": 240,
   "id": "1981b311",
   "metadata": {},
   "outputs": [
    {
     "data": {
      "application/vnd.plotly.v1+json": {
       "config": {
        "plotlyServerURL": "https://plot.ly"
       },
       "data": [
        {
         "line": {
          "color": "#1f77b4"
         },
         "marker": {
          "size": 5
         },
         "mode": "lines+markers",
         "name": "Forecast | Prophet",
         "showlegend": true,
         "type": "scatter",
         "x": [
          "2025-05-01T00:00:00",
          "2025-05-02T00:00:00",
          "2025-05-03T00:00:00",
          "2025-05-04T00:00:00",
          "2025-05-05T00:00:00",
          "2025-05-06T00:00:00",
          "2025-05-07T00:00:00",
          "2025-05-08T00:00:00",
          "2025-05-09T00:00:00",
          "2025-05-10T00:00:00",
          "2025-05-11T00:00:00",
          "2025-05-12T00:00:00",
          "2025-05-13T00:00:00",
          "2025-05-14T00:00:00",
          "2025-05-15T00:00:00",
          "2025-05-16T00:00:00",
          "2025-05-17T00:00:00",
          "2025-05-18T00:00:00",
          "2025-05-19T00:00:00",
          "2025-05-20T00:00:00",
          "2025-05-21T00:00:00",
          "2025-05-22T00:00:00",
          "2025-05-23T00:00:00",
          "2025-05-24T00:00:00",
          "2025-05-25T00:00:00",
          "2025-05-26T00:00:00",
          "2025-05-27T00:00:00",
          "2025-05-28T00:00:00",
          "2025-05-29T00:00:00",
          "2025-05-30T00:00:00"
         ],
         "y": {
          "bdata": "Vp+rrc5X9ECSXP5D42n0QAWjkjryZPRAz2bV54tI9EBQ/BhzVkb0QOhqK/ZCPvRAMLsnDyJL9EBU46Wbtyb0QJCg+DHMOPRABOeMKNsz9EDOqs/VdBf0QE9AE2E/FfRA5q4l5CsN9ECjI7n8Chr0QFInoImg9fNAj+TyH7UH9EB2Tx4WxAL0QMzuycNd5vNATYQNTyjk80Dl8h/SFNzzQKFns+rz6PNAUWuad4nE80CNKO0NntbzQHWTGASt0fNAyjLEsUa180DA7J48EbPzQOM2GsD9qvNAn6ut2Ny380BPr5RlcpPzQIts5/uGpfNA",
          "dtype": "f8"
         }
        },
        {
         "line": {
          "width": 0
         },
         "marker": {
          "color": "#68BBE3"
         },
         "mode": "lines",
         "name": "Lower Interval",
         "showlegend": false,
         "type": "scatter",
         "x": [
          "2025-05-01T00:00:00",
          "2025-05-02T00:00:00",
          "2025-05-03T00:00:00",
          "2025-05-04T00:00:00",
          "2025-05-05T00:00:00",
          "2025-05-06T00:00:00",
          "2025-05-07T00:00:00",
          "2025-05-08T00:00:00",
          "2025-05-09T00:00:00",
          "2025-05-10T00:00:00",
          "2025-05-11T00:00:00",
          "2025-05-12T00:00:00",
          "2025-05-13T00:00:00",
          "2025-05-14T00:00:00",
          "2025-05-15T00:00:00",
          "2025-05-16T00:00:00",
          "2025-05-17T00:00:00",
          "2025-05-18T00:00:00",
          "2025-05-19T00:00:00",
          "2025-05-20T00:00:00",
          "2025-05-21T00:00:00",
          "2025-05-22T00:00:00",
          "2025-05-23T00:00:00",
          "2025-05-24T00:00:00",
          "2025-05-25T00:00:00",
          "2025-05-26T00:00:00",
          "2025-05-27T00:00:00",
          "2025-05-28T00:00:00",
          "2025-05-29T00:00:00",
          "2025-05-30T00:00:00"
         ],
         "y": {
          "bdata": "dQKaCAPa8kBv8IXJNu/yQCEf9GxG3PJATRWMSm668kBApN++6qjyQHxhMlVtt/JA+zpwzsbM8kC7uI0GRMTyQBE2PL2QnvJAi2zn+zSj8kBseHqlPIPyQOqVsgyNfPJADk+vlIl18kBJLv8hP4DyQAWjkjqaSPJAqMZLN91P8kDb+X5quFvyQF5LyAdeLPJA5fIf0gAN8kAPnDOiXi/yQDVeuknMMPJALNSa5tAW8kBkzF1LDufxQGuad5xz7fFAak3zjkm98UD+ZffkG6TxQPp+arw5lfFAaCJseHfI8UD67evA9YHxQNNNYhBphfFA",
          "dtype": "f8"
         }
        },
        {
         "fill": "tonexty",
         "fillcolor": "rgba(104,187,227,0.5)",
         "line": {
          "width": 0
         },
         "marker": {
          "color": "#68BBE3"
         },
         "mode": "lines",
         "name": "Prediction Interval | Prophet",
         "showlegend": true,
         "type": "scatter",
         "x": [
          "2025-05-01T00:00:00",
          "2025-05-02T00:00:00",
          "2025-05-03T00:00:00",
          "2025-05-04T00:00:00",
          "2025-05-05T00:00:00",
          "2025-05-06T00:00:00",
          "2025-05-07T00:00:00",
          "2025-05-08T00:00:00",
          "2025-05-09T00:00:00",
          "2025-05-10T00:00:00",
          "2025-05-11T00:00:00",
          "2025-05-12T00:00:00",
          "2025-05-13T00:00:00",
          "2025-05-14T00:00:00",
          "2025-05-15T00:00:00",
          "2025-05-16T00:00:00",
          "2025-05-17T00:00:00",
          "2025-05-18T00:00:00",
          "2025-05-19T00:00:00",
          "2025-05-20T00:00:00",
          "2025-05-21T00:00:00",
          "2025-05-22T00:00:00",
          "2025-05-23T00:00:00",
          "2025-05-24T00:00:00",
          "2025-05-25T00:00:00",
          "2025-05-26T00:00:00",
          "2025-05-27T00:00:00",
          "2025-05-28T00:00:00",
          "2025-05-29T00:00:00",
          "2025-05-30T00:00:00"
         ],
         "y": {
          "bdata": "2qz6XOzb9UDdtYR8oPj1QERpb/AU0fVAeekmMV/S9UBAE2HDbeH1QHxhMlUqwvVAeJyiIz3c9UCU9gZf8Mb1QEJg5dDKufVAMQisHIG+9UCzDHGs6p71QATnjCiLuvVAX5hMFXKd9UDF/rJ7oO71QHicoiPUmfVApSxDHH289UBWDi2y8K31QN6Th4XHiPVANjy9UnmH9UC30QDeC6v1QAaBlUNM2fVAJJf/kMfE9UB+jLlrOcr1QP8h/fbNv/VATfOOU5Wa9UBm9+RhypD1QG1Wfa5/0PVADJOpgoK99UAoDwu1a8X1QHbgnBHOuvVA",
          "dtype": "f8"
         }
        },
        {
         "marker": {
          "color": "#3f3f3f",
          "size": 5
         },
         "mode": "lines+markers",
         "name": "Original",
         "showlegend": true,
         "type": "scatter",
         "x": [
          "2024-05-01T00:00:00",
          "2024-05-02T00:00:00",
          "2024-05-03T00:00:00",
          "2024-05-04T00:00:00",
          "2024-05-05T00:00:00",
          "2024-05-06T00:00:00",
          "2024-05-07T00:00:00",
          "2024-05-08T00:00:00",
          "2024-05-09T00:00:00",
          "2024-05-10T00:00:00",
          "2024-05-11T00:00:00",
          "2024-05-12T00:00:00",
          "2024-05-13T00:00:00",
          "2024-05-14T00:00:00",
          "2024-05-15T00:00:00",
          "2024-05-16T00:00:00",
          "2024-05-17T00:00:00",
          "2024-05-18T00:00:00",
          "2024-05-19T00:00:00",
          "2024-05-20T00:00:00",
          "2024-05-21T00:00:00",
          "2024-05-22T00:00:00",
          "2024-05-23T00:00:00",
          "2024-05-24T00:00:00",
          "2024-05-25T00:00:00",
          "2024-05-26T00:00:00",
          "2024-05-27T00:00:00",
          "2024-05-28T00:00:00",
          "2024-05-29T00:00:00",
          "2024-05-30T00:00:00",
          "2024-05-31T00:00:00",
          "2024-06-01T00:00:00",
          "2024-06-02T00:00:00",
          "2024-06-03T00:00:00",
          "2024-06-04T00:00:00",
          "2024-06-05T00:00:00",
          "2024-06-06T00:00:00",
          "2024-06-07T00:00:00",
          "2024-06-08T00:00:00",
          "2024-06-09T00:00:00",
          "2024-06-10T00:00:00",
          "2024-06-11T00:00:00",
          "2024-06-12T00:00:00",
          "2024-06-13T00:00:00",
          "2024-06-14T00:00:00",
          "2024-06-15T00:00:00",
          "2024-06-16T00:00:00",
          "2024-06-17T00:00:00",
          "2024-06-18T00:00:00",
          "2024-06-19T00:00:00",
          "2024-06-20T00:00:00",
          "2024-06-21T00:00:00",
          "2024-06-22T00:00:00",
          "2024-06-23T00:00:00",
          "2024-06-24T00:00:00",
          "2024-06-25T00:00:00",
          "2024-06-26T00:00:00",
          "2024-06-27T00:00:00",
          "2024-06-28T00:00:00",
          "2024-06-29T00:00:00",
          "2024-06-30T00:00:00",
          "2024-07-01T00:00:00",
          "2024-07-02T00:00:00",
          "2024-07-03T00:00:00",
          "2024-07-04T00:00:00",
          "2024-07-05T00:00:00",
          "2024-07-06T00:00:00",
          "2024-07-07T00:00:00",
          "2024-07-08T00:00:00",
          "2024-07-09T00:00:00",
          "2024-07-10T00:00:00",
          "2024-07-11T00:00:00",
          "2024-07-12T00:00:00",
          "2024-07-13T00:00:00",
          "2024-07-14T00:00:00",
          "2024-07-15T00:00:00",
          "2024-07-16T00:00:00",
          "2024-07-17T00:00:00",
          "2024-07-18T00:00:00",
          "2024-07-19T00:00:00",
          "2024-07-20T00:00:00",
          "2024-07-21T00:00:00",
          "2024-07-22T00:00:00",
          "2024-07-23T00:00:00",
          "2024-07-24T00:00:00",
          "2024-07-25T00:00:00",
          "2024-07-26T00:00:00",
          "2024-07-27T00:00:00",
          "2024-07-28T00:00:00",
          "2024-07-29T00:00:00",
          "2024-07-30T00:00:00",
          "2024-07-31T00:00:00",
          "2024-08-01T00:00:00",
          "2024-08-02T00:00:00",
          "2024-08-03T00:00:00",
          "2024-08-04T00:00:00",
          "2024-08-05T00:00:00",
          "2024-08-06T00:00:00",
          "2024-08-07T00:00:00",
          "2024-08-08T00:00:00",
          "2024-08-09T00:00:00",
          "2024-08-10T00:00:00",
          "2024-08-11T00:00:00",
          "2024-08-12T00:00:00",
          "2024-08-13T00:00:00",
          "2024-08-14T00:00:00",
          "2024-08-15T00:00:00",
          "2024-08-16T00:00:00",
          "2024-08-17T00:00:00",
          "2024-08-18T00:00:00",
          "2024-08-19T00:00:00",
          "2024-08-20T00:00:00",
          "2024-08-21T00:00:00",
          "2024-08-22T00:00:00",
          "2024-08-23T00:00:00",
          "2024-08-24T00:00:00",
          "2024-08-25T00:00:00",
          "2024-08-26T00:00:00",
          "2024-08-27T00:00:00",
          "2024-08-28T00:00:00",
          "2024-08-29T00:00:00",
          "2024-08-30T00:00:00",
          "2024-08-31T00:00:00",
          "2024-09-01T00:00:00",
          "2024-09-02T00:00:00",
          "2024-09-03T00:00:00",
          "2024-09-04T00:00:00",
          "2024-09-05T00:00:00",
          "2024-09-06T00:00:00",
          "2024-09-07T00:00:00",
          "2024-09-08T00:00:00",
          "2024-09-09T00:00:00",
          "2024-09-10T00:00:00",
          "2024-09-11T00:00:00",
          "2024-09-12T00:00:00",
          "2024-09-13T00:00:00",
          "2024-09-14T00:00:00",
          "2024-09-15T00:00:00",
          "2024-09-16T00:00:00",
          "2024-09-17T00:00:00",
          "2024-09-18T00:00:00",
          "2024-09-19T00:00:00",
          "2024-09-20T00:00:00",
          "2024-09-21T00:00:00",
          "2024-09-22T00:00:00",
          "2024-09-23T00:00:00",
          "2024-09-24T00:00:00",
          "2024-09-25T00:00:00",
          "2024-09-26T00:00:00",
          "2024-09-27T00:00:00",
          "2024-09-28T00:00:00",
          "2024-09-29T00:00:00",
          "2024-09-30T00:00:00",
          "2024-10-01T00:00:00",
          "2024-10-02T00:00:00",
          "2024-10-03T00:00:00",
          "2024-10-04T00:00:00",
          "2024-10-05T00:00:00",
          "2024-10-06T00:00:00",
          "2024-10-07T00:00:00",
          "2024-10-08T00:00:00",
          "2024-10-09T00:00:00",
          "2024-10-10T00:00:00",
          "2024-10-11T00:00:00",
          "2024-10-12T00:00:00",
          "2024-10-13T00:00:00",
          "2024-10-14T00:00:00",
          "2024-10-15T00:00:00",
          "2024-10-16T00:00:00",
          "2024-10-17T00:00:00",
          "2024-10-18T00:00:00",
          "2024-10-19T00:00:00",
          "2024-10-20T00:00:00",
          "2024-10-21T00:00:00",
          "2024-10-22T00:00:00",
          "2024-10-23T00:00:00",
          "2024-10-24T00:00:00",
          "2024-10-25T00:00:00",
          "2024-10-26T00:00:00",
          "2024-10-27T00:00:00",
          "2024-10-28T00:00:00",
          "2024-10-29T00:00:00",
          "2024-10-30T00:00:00",
          "2024-10-31T00:00:00",
          "2024-11-01T00:00:00",
          "2024-11-02T00:00:00",
          "2024-11-03T00:00:00",
          "2024-11-04T00:00:00",
          "2024-11-05T00:00:00",
          "2024-11-06T00:00:00",
          "2024-11-07T00:00:00",
          "2024-11-08T00:00:00",
          "2024-11-09T00:00:00",
          "2024-11-10T00:00:00",
          "2024-11-11T00:00:00",
          "2024-11-12T00:00:00",
          "2024-11-13T00:00:00",
          "2024-11-14T00:00:00",
          "2024-11-15T00:00:00",
          "2024-11-16T00:00:00",
          "2024-11-17T00:00:00",
          "2024-11-18T00:00:00",
          "2024-11-19T00:00:00",
          "2024-11-20T00:00:00",
          "2024-11-21T00:00:00",
          "2024-11-22T00:00:00",
          "2024-11-23T00:00:00",
          "2024-11-24T00:00:00",
          "2024-11-25T00:00:00",
          "2024-11-26T00:00:00",
          "2024-11-27T00:00:00",
          "2024-11-28T00:00:00",
          "2024-11-29T00:00:00",
          "2024-11-30T00:00:00",
          "2024-12-01T00:00:00",
          "2024-12-02T00:00:00",
          "2024-12-03T00:00:00",
          "2024-12-04T00:00:00",
          "2024-12-05T00:00:00",
          "2024-12-06T00:00:00",
          "2024-12-07T00:00:00",
          "2024-12-08T00:00:00",
          "2024-12-09T00:00:00",
          "2024-12-10T00:00:00",
          "2024-12-11T00:00:00",
          "2024-12-12T00:00:00",
          "2024-12-13T00:00:00",
          "2024-12-14T00:00:00",
          "2024-12-15T00:00:00",
          "2024-12-16T00:00:00",
          "2024-12-17T00:00:00",
          "2024-12-18T00:00:00",
          "2024-12-19T00:00:00",
          "2024-12-20T00:00:00",
          "2024-12-21T00:00:00",
          "2024-12-22T00:00:00",
          "2024-12-23T00:00:00",
          "2024-12-24T00:00:00",
          "2024-12-25T00:00:00",
          "2024-12-26T00:00:00",
          "2024-12-27T00:00:00",
          "2024-12-28T00:00:00",
          "2024-12-29T00:00:00",
          "2024-12-30T00:00:00",
          "2024-12-31T00:00:00",
          "2025-01-01T00:00:00",
          "2025-01-02T00:00:00",
          "2025-01-03T00:00:00",
          "2025-01-04T00:00:00",
          "2025-01-05T00:00:00",
          "2025-01-06T00:00:00",
          "2025-01-07T00:00:00",
          "2025-01-08T00:00:00",
          "2025-01-09T00:00:00",
          "2025-01-10T00:00:00",
          "2025-01-11T00:00:00",
          "2025-01-12T00:00:00",
          "2025-01-13T00:00:00",
          "2025-01-14T00:00:00",
          "2025-01-15T00:00:00",
          "2025-01-16T00:00:00",
          "2025-01-17T00:00:00",
          "2025-01-18T00:00:00",
          "2025-01-19T00:00:00",
          "2025-01-20T00:00:00",
          "2025-01-21T00:00:00",
          "2025-01-22T00:00:00",
          "2025-01-23T00:00:00",
          "2025-01-24T00:00:00",
          "2025-01-25T00:00:00",
          "2025-01-26T00:00:00",
          "2025-01-27T00:00:00",
          "2025-01-28T00:00:00",
          "2025-01-29T00:00:00",
          "2025-01-30T00:00:00",
          "2025-01-31T00:00:00",
          "2025-02-01T00:00:00",
          "2025-02-02T00:00:00",
          "2025-02-03T00:00:00",
          "2025-02-04T00:00:00",
          "2025-02-05T00:00:00",
          "2025-02-06T00:00:00",
          "2025-02-07T00:00:00",
          "2025-02-08T00:00:00",
          "2025-02-09T00:00:00",
          "2025-02-10T00:00:00",
          "2025-02-11T00:00:00",
          "2025-02-12T00:00:00",
          "2025-02-13T00:00:00",
          "2025-02-14T00:00:00",
          "2025-02-15T00:00:00",
          "2025-02-16T00:00:00",
          "2025-02-17T00:00:00",
          "2025-02-18T00:00:00",
          "2025-02-19T00:00:00",
          "2025-02-20T00:00:00",
          "2025-02-21T00:00:00",
          "2025-02-22T00:00:00",
          "2025-02-23T00:00:00",
          "2025-02-24T00:00:00",
          "2025-02-25T00:00:00",
          "2025-02-26T00:00:00",
          "2025-02-27T00:00:00",
          "2025-02-28T00:00:00",
          "2025-03-01T00:00:00",
          "2025-03-02T00:00:00",
          "2025-03-03T00:00:00",
          "2025-03-04T00:00:00",
          "2025-03-05T00:00:00",
          "2025-03-06T00:00:00",
          "2025-03-07T00:00:00",
          "2025-03-08T00:00:00",
          "2025-03-09T00:00:00",
          "2025-03-10T00:00:00",
          "2025-03-11T00:00:00",
          "2025-03-12T00:00:00",
          "2025-03-13T00:00:00",
          "2025-03-14T00:00:00",
          "2025-03-15T00:00:00",
          "2025-03-16T00:00:00",
          "2025-03-17T00:00:00",
          "2025-03-18T00:00:00",
          "2025-03-19T00:00:00",
          "2025-03-20T00:00:00",
          "2025-03-21T00:00:00",
          "2025-03-22T00:00:00",
          "2025-03-23T00:00:00",
          "2025-03-24T00:00:00",
          "2025-03-25T00:00:00",
          "2025-03-26T00:00:00",
          "2025-03-27T00:00:00",
          "2025-03-28T00:00:00",
          "2025-03-29T00:00:00",
          "2025-03-30T00:00:00",
          "2025-03-31T00:00:00",
          "2025-04-01T00:00:00",
          "2025-04-02T00:00:00",
          "2025-04-03T00:00:00",
          "2025-04-04T00:00:00",
          "2025-04-05T00:00:00",
          "2025-04-06T00:00:00",
          "2025-04-07T00:00:00",
          "2025-04-08T00:00:00",
          "2025-04-09T00:00:00",
          "2025-04-10T00:00:00",
          "2025-04-11T00:00:00",
          "2025-04-12T00:00:00",
          "2025-04-13T00:00:00",
          "2025-04-14T00:00:00",
          "2025-04-15T00:00:00",
          "2025-04-16T00:00:00",
          "2025-04-17T00:00:00",
          "2025-04-18T00:00:00",
          "2025-04-19T00:00:00",
          "2025-04-20T00:00:00",
          "2025-04-21T00:00:00",
          "2025-04-22T00:00:00",
          "2025-04-23T00:00:00",
          "2025-04-24T00:00:00",
          "2025-04-25T00:00:00",
          "2025-04-26T00:00:00",
          "2025-04-27T00:00:00",
          "2025-04-28T00:00:00",
          "2025-04-29T00:00:00",
          "2025-04-30T00:00:00"
         ],
         "y": {
          "bdata": "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",
          "dtype": "f8"
         }
        }
       ],
       "layout": {
        "showlegend": true,
        "template": {
         "data": {
          "bar": [
           {
            "error_x": {
             "color": "rgb(51,51,51)"
            },
            "error_y": {
             "color": "rgb(51,51,51)"
            },
            "marker": {
             "line": {
              "color": "rgb(237,237,237)",
              "width": 0.5
             },
             "pattern": {
              "fillmode": "overlay",
              "size": 10,
              "solidity": 0.2
             }
            },
            "type": "bar"
           }
          ],
          "barpolar": [
           {
            "marker": {
             "line": {
              "color": "rgb(237,237,237)",
              "width": 0.5
             },
             "pattern": {
              "fillmode": "overlay",
              "size": 10,
              "solidity": 0.2
             }
            },
            "type": "barpolar"
           }
          ],
          "carpet": [
           {
            "aaxis": {
             "endlinecolor": "rgb(51,51,51)",
             "gridcolor": "white",
             "linecolor": "white",
             "minorgridcolor": "white",
             "startlinecolor": "rgb(51,51,51)"
            },
            "baxis": {
             "endlinecolor": "rgb(51,51,51)",
             "gridcolor": "white",
             "linecolor": "white",
             "minorgridcolor": "white",
             "startlinecolor": "rgb(51,51,51)"
            },
            "type": "carpet"
           }
          ],
          "choropleth": [
           {
            "colorbar": {
             "outlinewidth": 0,
             "tickcolor": "rgb(237,237,237)",
             "ticklen": 6,
             "ticks": "inside"
            },
            "type": "choropleth"
           }
          ],
          "contour": [
           {
            "colorbar": {
             "outlinewidth": 0,
             "tickcolor": "rgb(237,237,237)",
             "ticklen": 6,
             "ticks": "inside"
            },
            "colorscale": [
             [
              0,
              "rgb(20,44,66)"
             ],
             [
              1,
              "rgb(90,179,244)"
             ]
            ],
            "type": "contour"
           }
          ],
          "contourcarpet": [
           {
            "colorbar": {
             "outlinewidth": 0,
             "tickcolor": "rgb(237,237,237)",
             "ticklen": 6,
             "ticks": "inside"
            },
            "type": "contourcarpet"
           }
          ],
          "heatmap": [
           {
            "colorbar": {
             "outlinewidth": 0,
             "tickcolor": "rgb(237,237,237)",
             "ticklen": 6,
             "ticks": "inside"
            },
            "colorscale": [
             [
              0,
              "rgb(20,44,66)"
             ],
             [
              1,
              "rgb(90,179,244)"
             ]
            ],
            "type": "heatmap"
           }
          ],
          "histogram": [
           {
            "marker": {
             "pattern": {
              "fillmode": "overlay",
              "size": 10,
              "solidity": 0.2
             }
            },
            "type": "histogram"
           }
          ],
          "histogram2d": [
           {
            "colorbar": {
             "outlinewidth": 0,
             "tickcolor": "rgb(237,237,237)",
             "ticklen": 6,
             "ticks": "inside"
            },
            "colorscale": [
             [
              0,
              "rgb(20,44,66)"
             ],
             [
              1,
              "rgb(90,179,244)"
             ]
            ],
            "type": "histogram2d"
           }
          ],
          "histogram2dcontour": [
           {
            "colorbar": {
             "outlinewidth": 0,
             "tickcolor": "rgb(237,237,237)",
             "ticklen": 6,
             "ticks": "inside"
            },
            "colorscale": [
             [
              0,
              "rgb(20,44,66)"
             ],
             [
              1,
              "rgb(90,179,244)"
             ]
            ],
            "type": "histogram2dcontour"
           }
          ],
          "mesh3d": [
           {
            "colorbar": {
             "outlinewidth": 0,
             "tickcolor": "rgb(237,237,237)",
             "ticklen": 6,
             "ticks": "inside"
            },
            "type": "mesh3d"
           }
          ],
          "parcoords": [
           {
            "line": {
             "colorbar": {
              "outlinewidth": 0,
              "tickcolor": "rgb(237,237,237)",
              "ticklen": 6,
              "ticks": "inside"
             }
            },
            "type": "parcoords"
           }
          ],
          "pie": [
           {
            "automargin": true,
            "type": "pie"
           }
          ],
          "scatter": [
           {
            "fillpattern": {
             "fillmode": "overlay",
             "size": 10,
             "solidity": 0.2
            },
            "type": "scatter"
           }
          ],
          "scatter3d": [
           {
            "line": {
             "colorbar": {
              "outlinewidth": 0,
              "tickcolor": "rgb(237,237,237)",
              "ticklen": 6,
              "ticks": "inside"
             }
            },
            "marker": {
             "colorbar": {
              "outlinewidth": 0,
              "tickcolor": "rgb(237,237,237)",
              "ticklen": 6,
              "ticks": "inside"
             }
            },
            "type": "scatter3d"
           }
          ],
          "scattercarpet": [
           {
            "marker": {
             "colorbar": {
              "outlinewidth": 0,
              "tickcolor": "rgb(237,237,237)",
              "ticklen": 6,
              "ticks": "inside"
             }
            },
            "type": "scattercarpet"
           }
          ],
          "scattergeo": [
           {
            "marker": {
             "colorbar": {
              "outlinewidth": 0,
              "tickcolor": "rgb(237,237,237)",
              "ticklen": 6,
              "ticks": "inside"
             }
            },
            "type": "scattergeo"
           }
          ],
          "scattergl": [
           {
            "marker": {
             "colorbar": {
              "outlinewidth": 0,
              "tickcolor": "rgb(237,237,237)",
              "ticklen": 6,
              "ticks": "inside"
             }
            },
            "type": "scattergl"
           }
          ],
          "scattermap": [
           {
            "marker": {
             "colorbar": {
              "outlinewidth": 0,
              "tickcolor": "rgb(237,237,237)",
              "ticklen": 6,
              "ticks": "inside"
             }
            },
            "type": "scattermap"
           }
          ],
          "scattermapbox": [
           {
            "marker": {
             "colorbar": {
              "outlinewidth": 0,
              "tickcolor": "rgb(237,237,237)",
              "ticklen": 6,
              "ticks": "inside"
             }
            },
            "type": "scattermapbox"
           }
          ],
          "scatterpolar": [
           {
            "marker": {
             "colorbar": {
              "outlinewidth": 0,
              "tickcolor": "rgb(237,237,237)",
              "ticklen": 6,
              "ticks": "inside"
             }
            },
            "type": "scatterpolar"
           }
          ],
          "scatterpolargl": [
           {
            "marker": {
             "colorbar": {
              "outlinewidth": 0,
              "tickcolor": "rgb(237,237,237)",
              "ticklen": 6,
              "ticks": "inside"
             }
            },
            "type": "scatterpolargl"
           }
          ],
          "scatterternary": [
           {
            "marker": {
             "colorbar": {
              "outlinewidth": 0,
              "tickcolor": "rgb(237,237,237)",
              "ticklen": 6,
              "ticks": "inside"
             }
            },
            "type": "scatterternary"
           }
          ],
          "surface": [
           {
            "colorbar": {
             "outlinewidth": 0,
             "tickcolor": "rgb(237,237,237)",
             "ticklen": 6,
             "ticks": "inside"
            },
            "colorscale": [
             [
              0,
              "rgb(20,44,66)"
             ],
             [
              1,
              "rgb(90,179,244)"
             ]
            ],
            "type": "surface"
           }
          ],
          "table": [
           {
            "cells": {
             "fill": {
              "color": "rgb(237,237,237)"
             },
             "line": {
              "color": "white"
             }
            },
            "header": {
             "fill": {
              "color": "rgb(217,217,217)"
             },
             "line": {
              "color": "white"
             }
            },
            "type": "table"
           }
          ]
         },
         "layout": {
          "annotationdefaults": {
           "arrowhead": 0,
           "arrowwidth": 1
          },
          "autotypenumbers": "strict",
          "coloraxis": {
           "colorbar": {
            "outlinewidth": 0,
            "tickcolor": "rgb(237,237,237)",
            "ticklen": 6,
            "ticks": "inside"
           }
          },
          "colorscale": {
           "sequential": [
            [
             0,
             "rgb(20,44,66)"
            ],
            [
             1,
             "rgb(90,179,244)"
            ]
           ],
           "sequentialminus": [
            [
             0,
             "rgb(20,44,66)"
            ],
            [
             1,
             "rgb(90,179,244)"
            ]
           ]
          },
          "colorway": [
           "#F8766D",
           "#A3A500",
           "#00BF7D",
           "#00B0F6",
           "#E76BF3"
          ],
          "font": {
           "color": "rgb(51,51,51)"
          },
          "geo": {
           "bgcolor": "white",
           "lakecolor": "white",
           "landcolor": "rgb(237,237,237)",
           "showlakes": true,
           "showland": true,
           "subunitcolor": "white"
          },
          "hoverlabel": {
           "align": "left"
          },
          "hovermode": "closest",
          "paper_bgcolor": "white",
          "plot_bgcolor": "rgb(237,237,237)",
          "polar": {
           "angularaxis": {
            "gridcolor": "white",
            "linecolor": "white",
            "showgrid": true,
            "tickcolor": "rgb(51,51,51)",
            "ticks": "outside"
           },
           "bgcolor": "rgb(237,237,237)",
           "radialaxis": {
            "gridcolor": "white",
            "linecolor": "white",
            "showgrid": true,
            "tickcolor": "rgb(51,51,51)",
            "ticks": "outside"
           }
          },
          "scene": {
           "xaxis": {
            "backgroundcolor": "rgb(237,237,237)",
            "gridcolor": "white",
            "gridwidth": 2,
            "linecolor": "white",
            "showbackground": true,
            "showgrid": true,
            "tickcolor": "rgb(51,51,51)",
            "ticks": "outside",
            "zerolinecolor": "white"
           },
           "yaxis": {
            "backgroundcolor": "rgb(237,237,237)",
            "gridcolor": "white",
            "gridwidth": 2,
            "linecolor": "white",
            "showbackground": true,
            "showgrid": true,
            "tickcolor": "rgb(51,51,51)",
            "ticks": "outside",
            "zerolinecolor": "white"
           },
           "zaxis": {
            "backgroundcolor": "rgb(237,237,237)",
            "gridcolor": "white",
            "gridwidth": 2,
            "linecolor": "white",
            "showbackground": true,
            "showgrid": true,
            "tickcolor": "rgb(51,51,51)",
            "ticks": "outside",
            "zerolinecolor": "white"
           }
          },
          "shapedefaults": {
           "fillcolor": "black",
           "line": {
            "width": 0
           },
           "opacity": 0.3
          },
          "ternary": {
           "aaxis": {
            "gridcolor": "white",
            "linecolor": "white",
            "showgrid": true,
            "tickcolor": "rgb(51,51,51)",
            "ticks": "outside"
           },
           "baxis": {
            "gridcolor": "white",
            "linecolor": "white",
            "showgrid": true,
            "tickcolor": "rgb(51,51,51)",
            "ticks": "outside"
           },
           "bgcolor": "rgb(237,237,237)",
           "caxis": {
            "gridcolor": "white",
            "linecolor": "white",
            "showgrid": true,
            "tickcolor": "rgb(51,51,51)",
            "ticks": "outside"
           }
          },
          "xaxis": {
           "automargin": true,
           "gridcolor": "white",
           "linecolor": "white",
           "showgrid": true,
           "tickcolor": "rgb(51,51,51)",
           "ticks": "outside",
           "title": {
            "standoff": 15
           },
           "zerolinecolor": "white"
          },
          "yaxis": {
           "automargin": true,
           "gridcolor": "white",
           "linecolor": "white",
           "showgrid": true,
           "tickcolor": "rgb(51,51,51)",
           "ticks": "outside",
           "title": {
            "standoff": 15
           },
           "zerolinecolor": "white"
          }
         }
        },
        "title": {
         "text": "Actual vs. 'Out-of-Sample' Forecast | BTC-USD"
        },
        "xaxis": {
         "title": {
          "text": "Time"
         }
        },
        "yaxis": {
         "title": {
          "text": "Values"
         }
        }
       }
      }
     },
     "metadata": {},
     "output_type": "display_data"
    }
   ],
   "source": [
    "plot_model(final_prophet, plot='forecast', return_fig=True)"
   ]
  },
  {
   "cell_type": "code",
   "execution_count": 27,
   "id": "0937769b",
   "metadata": {},
   "outputs": [],
   "source": [
    "#Plot prophet model forecast\n",
    "fig = plot_model(final_prophet, plot='forecast', return_fig=True)\n",
    "\n",
    "# Save it as an HTML file\n",
    "pio.write_html(fig, file='forecast_chart.html', auto_open=False)\n",
    "\n"
   ]
  },
  {
   "cell_type": "markdown",
   "id": "33b8ae3a",
   "metadata": {},
   "source": [
    "BTC-USD Exponential Smoothing Model"
   ]
  },
  {
   "cell_type": "code",
   "execution_count": 247,
   "id": "6f5da23a",
   "metadata": {},
   "outputs": [
    {
     "data": {
      "text/html": [
       "<style type=\"text/css\">\n",
       "#T_721cd_row25_col1, #T_721cd_row31_col1 {\n",
       "  background-color: lightgreen;\n",
       "}\n",
       "</style>\n",
       "<table id=\"T_721cd\">\n",
       "  <thead>\n",
       "    <tr>\n",
       "      <th class=\"blank level0\" >&nbsp;</th>\n",
       "      <th id=\"T_721cd_level0_col0\" class=\"col_heading level0 col0\" >Description</th>\n",
       "      <th id=\"T_721cd_level0_col1\" class=\"col_heading level0 col1\" >Value</th>\n",
       "    </tr>\n",
       "  </thead>\n",
       "  <tbody>\n",
       "    <tr>\n",
       "      <th id=\"T_721cd_level0_row0\" class=\"row_heading level0 row0\" >0</th>\n",
       "      <td id=\"T_721cd_row0_col0\" class=\"data row0 col0\" >session_id</td>\n",
       "      <td id=\"T_721cd_row0_col1\" class=\"data row0 col1\" >123</td>\n",
       "    </tr>\n",
       "    <tr>\n",
       "      <th id=\"T_721cd_level0_row1\" class=\"row_heading level0 row1\" >1</th>\n",
       "      <td id=\"T_721cd_row1_col0\" class=\"data row1 col0\" >Target</td>\n",
       "      <td id=\"T_721cd_row1_col1\" class=\"data row1 col1\" >BTC-USD</td>\n",
       "    </tr>\n",
       "    <tr>\n",
       "      <th id=\"T_721cd_level0_row2\" class=\"row_heading level0 row2\" >2</th>\n",
       "      <td id=\"T_721cd_row2_col0\" class=\"data row2 col0\" >Approach</td>\n",
       "      <td id=\"T_721cd_row2_col1\" class=\"data row2 col1\" >Univariate</td>\n",
       "    </tr>\n",
       "    <tr>\n",
       "      <th id=\"T_721cd_level0_row3\" class=\"row_heading level0 row3\" >3</th>\n",
       "      <td id=\"T_721cd_row3_col0\" class=\"data row3 col0\" >Exogenous Variables</td>\n",
       "      <td id=\"T_721cd_row3_col1\" class=\"data row3 col1\" >Not Present</td>\n",
       "    </tr>\n",
       "    <tr>\n",
       "      <th id=\"T_721cd_level0_row4\" class=\"row_heading level0 row4\" >4</th>\n",
       "      <td id=\"T_721cd_row4_col0\" class=\"data row4 col0\" >Original data shape</td>\n",
       "      <td id=\"T_721cd_row4_col1\" class=\"data row4 col1\" >(365, 1)</td>\n",
       "    </tr>\n",
       "    <tr>\n",
       "      <th id=\"T_721cd_level0_row5\" class=\"row_heading level0 row5\" >5</th>\n",
       "      <td id=\"T_721cd_row5_col0\" class=\"data row5 col0\" >Transformed data shape</td>\n",
       "      <td id=\"T_721cd_row5_col1\" class=\"data row5 col1\" >(365, 1)</td>\n",
       "    </tr>\n",
       "    <tr>\n",
       "      <th id=\"T_721cd_level0_row6\" class=\"row_heading level0 row6\" >6</th>\n",
       "      <td id=\"T_721cd_row6_col0\" class=\"data row6 col0\" >Transformed train set shape</td>\n",
       "      <td id=\"T_721cd_row6_col1\" class=\"data row6 col1\" >(364, 1)</td>\n",
       "    </tr>\n",
       "    <tr>\n",
       "      <th id=\"T_721cd_level0_row7\" class=\"row_heading level0 row7\" >7</th>\n",
       "      <td id=\"T_721cd_row7_col0\" class=\"data row7 col0\" >Transformed test set shape</td>\n",
       "      <td id=\"T_721cd_row7_col1\" class=\"data row7 col1\" >(1, 1)</td>\n",
       "    </tr>\n",
       "    <tr>\n",
       "      <th id=\"T_721cd_level0_row8\" class=\"row_heading level0 row8\" >8</th>\n",
       "      <td id=\"T_721cd_row8_col0\" class=\"data row8 col0\" >Rows with missing values</td>\n",
       "      <td id=\"T_721cd_row8_col1\" class=\"data row8 col1\" >0.0%</td>\n",
       "    </tr>\n",
       "    <tr>\n",
       "      <th id=\"T_721cd_level0_row9\" class=\"row_heading level0 row9\" >9</th>\n",
       "      <td id=\"T_721cd_row9_col0\" class=\"data row9 col0\" >Fold Generator</td>\n",
       "      <td id=\"T_721cd_row9_col1\" class=\"data row9 col1\" >ExpandingWindowSplitter</td>\n",
       "    </tr>\n",
       "    <tr>\n",
       "      <th id=\"T_721cd_level0_row10\" class=\"row_heading level0 row10\" >10</th>\n",
       "      <td id=\"T_721cd_row10_col0\" class=\"data row10 col0\" >Fold Number</td>\n",
       "      <td id=\"T_721cd_row10_col1\" class=\"data row10 col1\" >3</td>\n",
       "    </tr>\n",
       "    <tr>\n",
       "      <th id=\"T_721cd_level0_row11\" class=\"row_heading level0 row11\" >11</th>\n",
       "      <td id=\"T_721cd_row11_col0\" class=\"data row11 col0\" >Enforce Prediction Interval</td>\n",
       "      <td id=\"T_721cd_row11_col1\" class=\"data row11 col1\" >False</td>\n",
       "    </tr>\n",
       "    <tr>\n",
       "      <th id=\"T_721cd_level0_row12\" class=\"row_heading level0 row12\" >12</th>\n",
       "      <td id=\"T_721cd_row12_col0\" class=\"data row12 col0\" >Splits used for hyperparameters</td>\n",
       "      <td id=\"T_721cd_row12_col1\" class=\"data row12 col1\" >all</td>\n",
       "    </tr>\n",
       "    <tr>\n",
       "      <th id=\"T_721cd_level0_row13\" class=\"row_heading level0 row13\" >13</th>\n",
       "      <td id=\"T_721cd_row13_col0\" class=\"data row13 col0\" >User Defined Seasonal Period(s)</td>\n",
       "      <td id=\"T_721cd_row13_col1\" class=\"data row13 col1\" >D</td>\n",
       "    </tr>\n",
       "    <tr>\n",
       "      <th id=\"T_721cd_level0_row14\" class=\"row_heading level0 row14\" >14</th>\n",
       "      <td id=\"T_721cd_row14_col0\" class=\"data row14 col0\" >Ignore Seasonality Test</td>\n",
       "      <td id=\"T_721cd_row14_col1\" class=\"data row14 col1\" >False</td>\n",
       "    </tr>\n",
       "    <tr>\n",
       "      <th id=\"T_721cd_level0_row15\" class=\"row_heading level0 row15\" >15</th>\n",
       "      <td id=\"T_721cd_row15_col0\" class=\"data row15 col0\" >Seasonality Detection Algo</td>\n",
       "      <td id=\"T_721cd_row15_col1\" class=\"data row15 col1\" >user_defined</td>\n",
       "    </tr>\n",
       "    <tr>\n",
       "      <th id=\"T_721cd_level0_row16\" class=\"row_heading level0 row16\" >16</th>\n",
       "      <td id=\"T_721cd_row16_col0\" class=\"data row16 col0\" >Max Period to Consider</td>\n",
       "      <td id=\"T_721cd_row16_col1\" class=\"data row16 col1\" >60</td>\n",
       "    </tr>\n",
       "    <tr>\n",
       "      <th id=\"T_721cd_level0_row17\" class=\"row_heading level0 row17\" >17</th>\n",
       "      <td id=\"T_721cd_row17_col0\" class=\"data row17 col0\" >Seasonal Period(s) Tested</td>\n",
       "      <td id=\"T_721cd_row17_col1\" class=\"data row17 col1\" >[7]</td>\n",
       "    </tr>\n",
       "    <tr>\n",
       "      <th id=\"T_721cd_level0_row18\" class=\"row_heading level0 row18\" >18</th>\n",
       "      <td id=\"T_721cd_row18_col0\" class=\"data row18 col0\" >Significant Seasonal Period(s)</td>\n",
       "      <td id=\"T_721cd_row18_col1\" class=\"data row18 col1\" >[7]</td>\n",
       "    </tr>\n",
       "    <tr>\n",
       "      <th id=\"T_721cd_level0_row19\" class=\"row_heading level0 row19\" >19</th>\n",
       "      <td id=\"T_721cd_row19_col0\" class=\"data row19 col0\" >Significant Seasonal Period(s) without Harmonics</td>\n",
       "      <td id=\"T_721cd_row19_col1\" class=\"data row19 col1\" >[7]</td>\n",
       "    </tr>\n",
       "    <tr>\n",
       "      <th id=\"T_721cd_level0_row20\" class=\"row_heading level0 row20\" >20</th>\n",
       "      <td id=\"T_721cd_row20_col0\" class=\"data row20 col0\" >Remove Harmonics</td>\n",
       "      <td id=\"T_721cd_row20_col1\" class=\"data row20 col1\" >False</td>\n",
       "    </tr>\n",
       "    <tr>\n",
       "      <th id=\"T_721cd_level0_row21\" class=\"row_heading level0 row21\" >21</th>\n",
       "      <td id=\"T_721cd_row21_col0\" class=\"data row21 col0\" >Harmonics Order Method</td>\n",
       "      <td id=\"T_721cd_row21_col1\" class=\"data row21 col1\" >harmonic_max</td>\n",
       "    </tr>\n",
       "    <tr>\n",
       "      <th id=\"T_721cd_level0_row22\" class=\"row_heading level0 row22\" >22</th>\n",
       "      <td id=\"T_721cd_row22_col0\" class=\"data row22 col0\" >Num Seasonalities to Use</td>\n",
       "      <td id=\"T_721cd_row22_col1\" class=\"data row22 col1\" >1</td>\n",
       "    </tr>\n",
       "    <tr>\n",
       "      <th id=\"T_721cd_level0_row23\" class=\"row_heading level0 row23\" >23</th>\n",
       "      <td id=\"T_721cd_row23_col0\" class=\"data row23 col0\" >All Seasonalities to Use</td>\n",
       "      <td id=\"T_721cd_row23_col1\" class=\"data row23 col1\" >[7]</td>\n",
       "    </tr>\n",
       "    <tr>\n",
       "      <th id=\"T_721cd_level0_row24\" class=\"row_heading level0 row24\" >24</th>\n",
       "      <td id=\"T_721cd_row24_col0\" class=\"data row24 col0\" >Primary Seasonality</td>\n",
       "      <td id=\"T_721cd_row24_col1\" class=\"data row24 col1\" >7</td>\n",
       "    </tr>\n",
       "    <tr>\n",
       "      <th id=\"T_721cd_level0_row25\" class=\"row_heading level0 row25\" >25</th>\n",
       "      <td id=\"T_721cd_row25_col0\" class=\"data row25 col0\" >Seasonality Present</td>\n",
       "      <td id=\"T_721cd_row25_col1\" class=\"data row25 col1\" >True</td>\n",
       "    </tr>\n",
       "    <tr>\n",
       "      <th id=\"T_721cd_level0_row26\" class=\"row_heading level0 row26\" >26</th>\n",
       "      <td id=\"T_721cd_row26_col0\" class=\"data row26 col0\" >Seasonality Type</td>\n",
       "      <td id=\"T_721cd_row26_col1\" class=\"data row26 col1\" >mul</td>\n",
       "    </tr>\n",
       "    <tr>\n",
       "      <th id=\"T_721cd_level0_row27\" class=\"row_heading level0 row27\" >27</th>\n",
       "      <td id=\"T_721cd_row27_col0\" class=\"data row27 col0\" >Target Strictly Positive</td>\n",
       "      <td id=\"T_721cd_row27_col1\" class=\"data row27 col1\" >True</td>\n",
       "    </tr>\n",
       "    <tr>\n",
       "      <th id=\"T_721cd_level0_row28\" class=\"row_heading level0 row28\" >28</th>\n",
       "      <td id=\"T_721cd_row28_col0\" class=\"data row28 col0\" >Target White Noise</td>\n",
       "      <td id=\"T_721cd_row28_col1\" class=\"data row28 col1\" >No</td>\n",
       "    </tr>\n",
       "    <tr>\n",
       "      <th id=\"T_721cd_level0_row29\" class=\"row_heading level0 row29\" >29</th>\n",
       "      <td id=\"T_721cd_row29_col0\" class=\"data row29 col0\" >Recommended d</td>\n",
       "      <td id=\"T_721cd_row29_col1\" class=\"data row29 col1\" >1</td>\n",
       "    </tr>\n",
       "    <tr>\n",
       "      <th id=\"T_721cd_level0_row30\" class=\"row_heading level0 row30\" >30</th>\n",
       "      <td id=\"T_721cd_row30_col0\" class=\"data row30 col0\" >Recommended Seasonal D</td>\n",
       "      <td id=\"T_721cd_row30_col1\" class=\"data row30 col1\" >0</td>\n",
       "    </tr>\n",
       "    <tr>\n",
       "      <th id=\"T_721cd_level0_row31\" class=\"row_heading level0 row31\" >31</th>\n",
       "      <td id=\"T_721cd_row31_col0\" class=\"data row31 col0\" >Preprocess</td>\n",
       "      <td id=\"T_721cd_row31_col1\" class=\"data row31 col1\" >True</td>\n",
       "    </tr>\n",
       "    <tr>\n",
       "      <th id=\"T_721cd_level0_row32\" class=\"row_heading level0 row32\" >32</th>\n",
       "      <td id=\"T_721cd_row32_col0\" class=\"data row32 col0\" >Numerical Imputation (Target)</td>\n",
       "      <td id=\"T_721cd_row32_col1\" class=\"data row32 col1\" >drift</td>\n",
       "    </tr>\n",
       "    <tr>\n",
       "      <th id=\"T_721cd_level0_row33\" class=\"row_heading level0 row33\" >33</th>\n",
       "      <td id=\"T_721cd_row33_col0\" class=\"data row33 col0\" >Transformation (Target)</td>\n",
       "      <td id=\"T_721cd_row33_col1\" class=\"data row33 col1\" >None</td>\n",
       "    </tr>\n",
       "    <tr>\n",
       "      <th id=\"T_721cd_level0_row34\" class=\"row_heading level0 row34\" >34</th>\n",
       "      <td id=\"T_721cd_row34_col0\" class=\"data row34 col0\" >Scaling (Target)</td>\n",
       "      <td id=\"T_721cd_row34_col1\" class=\"data row34 col1\" >None</td>\n",
       "    </tr>\n",
       "    <tr>\n",
       "      <th id=\"T_721cd_level0_row35\" class=\"row_heading level0 row35\" >35</th>\n",
       "      <td id=\"T_721cd_row35_col0\" class=\"data row35 col0\" >Feature Engineering (Target) - Reduced Regression</td>\n",
       "      <td id=\"T_721cd_row35_col1\" class=\"data row35 col1\" >False</td>\n",
       "    </tr>\n",
       "    <tr>\n",
       "      <th id=\"T_721cd_level0_row36\" class=\"row_heading level0 row36\" >36</th>\n",
       "      <td id=\"T_721cd_row36_col0\" class=\"data row36 col0\" >CPU Jobs</td>\n",
       "      <td id=\"T_721cd_row36_col1\" class=\"data row36 col1\" >-1</td>\n",
       "    </tr>\n",
       "    <tr>\n",
       "      <th id=\"T_721cd_level0_row37\" class=\"row_heading level0 row37\" >37</th>\n",
       "      <td id=\"T_721cd_row37_col0\" class=\"data row37 col0\" >Use GPU</td>\n",
       "      <td id=\"T_721cd_row37_col1\" class=\"data row37 col1\" >False</td>\n",
       "    </tr>\n",
       "    <tr>\n",
       "      <th id=\"T_721cd_level0_row38\" class=\"row_heading level0 row38\" >38</th>\n",
       "      <td id=\"T_721cd_row38_col0\" class=\"data row38 col0\" >Log Experiment</td>\n",
       "      <td id=\"T_721cd_row38_col1\" class=\"data row38 col1\" >False</td>\n",
       "    </tr>\n",
       "    <tr>\n",
       "      <th id=\"T_721cd_level0_row39\" class=\"row_heading level0 row39\" >39</th>\n",
       "      <td id=\"T_721cd_row39_col0\" class=\"data row39 col0\" >Experiment Name</td>\n",
       "      <td id=\"T_721cd_row39_col1\" class=\"data row39 col1\" >ts-default-name</td>\n",
       "    </tr>\n",
       "    <tr>\n",
       "      <th id=\"T_721cd_level0_row40\" class=\"row_heading level0 row40\" >40</th>\n",
       "      <td id=\"T_721cd_row40_col0\" class=\"data row40 col0\" >USI</td>\n",
       "      <td id=\"T_721cd_row40_col1\" class=\"data row40 col1\" >e068</td>\n",
       "    </tr>\n",
       "  </tbody>\n",
       "</table>\n"
      ],
      "text/plain": [
       "<pandas.io.formats.style.Styler at 0x1b9e4455940>"
      ]
     },
     "metadata": {},
     "output_type": "display_data"
    },
    {
     "data": {
      "text/html": [],
      "text/plain": [
       "<IPython.core.display.HTML object>"
      ]
     },
     "metadata": {},
     "output_type": "display_data"
    },
    {
     "data": {
      "text/html": [
       "<style type=\"text/css\">\n",
       "#T_efa44_row3_col0, #T_efa44_row3_col1, #T_efa44_row3_col2, #T_efa44_row3_col3, #T_efa44_row3_col4, #T_efa44_row3_col5, #T_efa44_row3_col6 {\n",
       "  background: yellow;\n",
       "}\n",
       "</style>\n",
       "<table id=\"T_efa44\">\n",
       "  <thead>\n",
       "    <tr>\n",
       "      <th class=\"blank level0\" >&nbsp;</th>\n",
       "      <th id=\"T_efa44_level0_col0\" class=\"col_heading level0 col0\" >cutoff</th>\n",
       "      <th id=\"T_efa44_level0_col1\" class=\"col_heading level0 col1\" >MASE</th>\n",
       "      <th id=\"T_efa44_level0_col2\" class=\"col_heading level0 col2\" >RMSSE</th>\n",
       "      <th id=\"T_efa44_level0_col3\" class=\"col_heading level0 col3\" >MAE</th>\n",
       "      <th id=\"T_efa44_level0_col4\" class=\"col_heading level0 col4\" >RMSE</th>\n",
       "      <th id=\"T_efa44_level0_col5\" class=\"col_heading level0 col5\" >MAPE</th>\n",
       "      <th id=\"T_efa44_level0_col6\" class=\"col_heading level0 col6\" >SMAPE</th>\n",
       "    </tr>\n",
       "  </thead>\n",
       "  <tbody>\n",
       "    <tr>\n",
       "      <th id=\"T_efa44_level0_row0\" class=\"row_heading level0 row0\" >0</th>\n",
       "      <td id=\"T_efa44_row0_col0\" class=\"data row0 col0\" >2025-04-26</td>\n",
       "      <td id=\"T_efa44_row0_col1\" class=\"data row0 col1\" >0.0598</td>\n",
       "      <td id=\"T_efa44_row0_col2\" class=\"data row0 col2\" >0.0452</td>\n",
       "      <td id=\"T_efa44_row0_col3\" class=\"data row0 col3\" >227.3446</td>\n",
       "      <td id=\"T_efa44_row0_col4\" class=\"data row0 col4\" >227.3446</td>\n",
       "      <td id=\"T_efa44_row0_col5\" class=\"data row0 col5\" >0.0024</td>\n",
       "      <td id=\"T_efa44_row0_col6\" class=\"data row0 col6\" >0.0024</td>\n",
       "    </tr>\n",
       "    <tr>\n",
       "      <th id=\"T_efa44_level0_row1\" class=\"row_heading level0 row1\" >1</th>\n",
       "      <td id=\"T_efa44_row1_col0\" class=\"data row1 col0\" >2025-04-27</td>\n",
       "      <td id=\"T_efa44_row1_col1\" class=\"data row1 col1\" >0.2224</td>\n",
       "      <td id=\"T_efa44_row1_col2\" class=\"data row1 col2\" >0.1685</td>\n",
       "      <td id=\"T_efa44_row1_col3\" class=\"data row1 col3\" >849.0979</td>\n",
       "      <td id=\"T_efa44_row1_col4\" class=\"data row1 col4\" >849.0979</td>\n",
       "      <td id=\"T_efa44_row1_col5\" class=\"data row1 col5\" >0.0089</td>\n",
       "      <td id=\"T_efa44_row1_col6\" class=\"data row1 col6\" >0.0090</td>\n",
       "    </tr>\n",
       "    <tr>\n",
       "      <th id=\"T_efa44_level0_row2\" class=\"row_heading level0 row2\" >2</th>\n",
       "      <td id=\"T_efa44_row2_col0\" class=\"data row2 col0\" >2025-04-28</td>\n",
       "      <td id=\"T_efa44_row2_col1\" class=\"data row2 col1\" >0.2876</td>\n",
       "      <td id=\"T_efa44_row2_col2\" class=\"data row2 col2\" >0.2181</td>\n",
       "      <td id=\"T_efa44_row2_col3\" class=\"data row2 col3\" >1100.7263</td>\n",
       "      <td id=\"T_efa44_row2_col4\" class=\"data row2 col4\" >1100.7263</td>\n",
       "      <td id=\"T_efa44_row2_col5\" class=\"data row2 col5\" >0.0117</td>\n",
       "      <td id=\"T_efa44_row2_col6\" class=\"data row2 col6\" >0.0116</td>\n",
       "    </tr>\n",
       "    <tr>\n",
       "      <th id=\"T_efa44_level0_row3\" class=\"row_heading level0 row3\" >Mean</th>\n",
       "      <td id=\"T_efa44_row3_col0\" class=\"data row3 col0\" >NaT</td>\n",
       "      <td id=\"T_efa44_row3_col1\" class=\"data row3 col1\" >0.1899</td>\n",
       "      <td id=\"T_efa44_row3_col2\" class=\"data row3 col2\" >0.1440</td>\n",
       "      <td id=\"T_efa44_row3_col3\" class=\"data row3 col3\" >725.7230</td>\n",
       "      <td id=\"T_efa44_row3_col4\" class=\"data row3 col4\" >725.7230</td>\n",
       "      <td id=\"T_efa44_row3_col5\" class=\"data row3 col5\" >0.0077</td>\n",
       "      <td id=\"T_efa44_row3_col6\" class=\"data row3 col6\" >0.0077</td>\n",
       "    </tr>\n",
       "    <tr>\n",
       "      <th id=\"T_efa44_level0_row4\" class=\"row_heading level0 row4\" >SD</th>\n",
       "      <td id=\"T_efa44_row4_col0\" class=\"data row4 col0\" >NaT</td>\n",
       "      <td id=\"T_efa44_row4_col1\" class=\"data row4 col1\" >0.0958</td>\n",
       "      <td id=\"T_efa44_row4_col2\" class=\"data row4 col2\" >0.0727</td>\n",
       "      <td id=\"T_efa44_row4_col3\" class=\"data row4 col3\" >367.0740</td>\n",
       "      <td id=\"T_efa44_row4_col4\" class=\"data row4 col4\" >367.0740</td>\n",
       "      <td id=\"T_efa44_row4_col5\" class=\"data row4 col5\" >0.0039</td>\n",
       "      <td id=\"T_efa44_row4_col6\" class=\"data row4 col6\" >0.0039</td>\n",
       "    </tr>\n",
       "  </tbody>\n",
       "</table>\n"
      ],
      "text/plain": [
       "<pandas.io.formats.style.Styler at 0x1b9e4ba5220>"
      ]
     },
     "metadata": {},
     "output_type": "display_data"
    },
    {
     "data": {
      "text/html": [],
      "text/plain": [
       "<IPython.core.display.HTML object>"
      ]
     },
     "metadata": {},
     "output_type": "display_data"
    },
    {
     "data": {
      "text/html": [],
      "text/plain": [
       "<IPython.core.display.HTML object>"
      ]
     },
     "metadata": {},
     "output_type": "display_data"
    },
    {
     "data": {
      "text/html": [
       "<style type=\"text/css\">\n",
       "#T_779ae_row3_col0, #T_779ae_row3_col1, #T_779ae_row3_col2, #T_779ae_row3_col3, #T_779ae_row3_col4, #T_779ae_row3_col5, #T_779ae_row3_col6 {\n",
       "  background: yellow;\n",
       "}\n",
       "</style>\n",
       "<table id=\"T_779ae\">\n",
       "  <thead>\n",
       "    <tr>\n",
       "      <th class=\"blank level0\" >&nbsp;</th>\n",
       "      <th id=\"T_779ae_level0_col0\" class=\"col_heading level0 col0\" >cutoff</th>\n",
       "      <th id=\"T_779ae_level0_col1\" class=\"col_heading level0 col1\" >MASE</th>\n",
       "      <th id=\"T_779ae_level0_col2\" class=\"col_heading level0 col2\" >RMSSE</th>\n",
       "      <th id=\"T_779ae_level0_col3\" class=\"col_heading level0 col3\" >MAE</th>\n",
       "      <th id=\"T_779ae_level0_col4\" class=\"col_heading level0 col4\" >RMSE</th>\n",
       "      <th id=\"T_779ae_level0_col5\" class=\"col_heading level0 col5\" >MAPE</th>\n",
       "      <th id=\"T_779ae_level0_col6\" class=\"col_heading level0 col6\" >SMAPE</th>\n",
       "    </tr>\n",
       "  </thead>\n",
       "  <tbody>\n",
       "    <tr>\n",
       "      <th id=\"T_779ae_level0_row0\" class=\"row_heading level0 row0\" >0</th>\n",
       "      <td id=\"T_779ae_row0_col0\" class=\"data row0 col0\" >2025-04-26</td>\n",
       "      <td id=\"T_779ae_row0_col1\" class=\"data row0 col1\" >0.0593</td>\n",
       "      <td id=\"T_779ae_row0_col2\" class=\"data row0 col2\" >0.0449</td>\n",
       "      <td id=\"T_779ae_row0_col3\" class=\"data row0 col3\" >225.5448</td>\n",
       "      <td id=\"T_779ae_row0_col4\" class=\"data row0 col4\" >225.5448</td>\n",
       "      <td id=\"T_779ae_row0_col5\" class=\"data row0 col5\" >0.0024</td>\n",
       "      <td id=\"T_779ae_row0_col6\" class=\"data row0 col6\" >0.0024</td>\n",
       "    </tr>\n",
       "    <tr>\n",
       "      <th id=\"T_779ae_level0_row1\" class=\"row_heading level0 row1\" >1</th>\n",
       "      <td id=\"T_779ae_row1_col0\" class=\"data row1 col0\" >2025-04-27</td>\n",
       "      <td id=\"T_779ae_row1_col1\" class=\"data row1 col1\" >0.3834</td>\n",
       "      <td id=\"T_779ae_row1_col2\" class=\"data row1 col2\" >0.2904</td>\n",
       "      <td id=\"T_779ae_row1_col3\" class=\"data row1 col3\" >1463.3192</td>\n",
       "      <td id=\"T_779ae_row1_col4\" class=\"data row1 col4\" >1463.3192</td>\n",
       "      <td id=\"T_779ae_row1_col5\" class=\"data row1 col5\" >0.0154</td>\n",
       "      <td id=\"T_779ae_row1_col6\" class=\"data row1 col6\" >0.0155</td>\n",
       "    </tr>\n",
       "    <tr>\n",
       "      <th id=\"T_779ae_level0_row2\" class=\"row_heading level0 row2\" >2</th>\n",
       "      <td id=\"T_779ae_row2_col0\" class=\"data row2 col0\" >2025-04-28</td>\n",
       "      <td id=\"T_779ae_row2_col1\" class=\"data row2 col1\" >0.0838</td>\n",
       "      <td id=\"T_779ae_row2_col2\" class=\"data row2 col2\" >0.0635</td>\n",
       "      <td id=\"T_779ae_row2_col3\" class=\"data row2 col3\" >320.7115</td>\n",
       "      <td id=\"T_779ae_row2_col4\" class=\"data row2 col4\" >320.7115</td>\n",
       "      <td id=\"T_779ae_row2_col5\" class=\"data row2 col5\" >0.0034</td>\n",
       "      <td id=\"T_779ae_row2_col6\" class=\"data row2 col6\" >0.0034</td>\n",
       "    </tr>\n",
       "    <tr>\n",
       "      <th id=\"T_779ae_level0_row3\" class=\"row_heading level0 row3\" >Mean</th>\n",
       "      <td id=\"T_779ae_row3_col0\" class=\"data row3 col0\" >NaT</td>\n",
       "      <td id=\"T_779ae_row3_col1\" class=\"data row3 col1\" >0.1755</td>\n",
       "      <td id=\"T_779ae_row3_col2\" class=\"data row3 col2\" >0.1330</td>\n",
       "      <td id=\"T_779ae_row3_col3\" class=\"data row3 col3\" >669.8585</td>\n",
       "      <td id=\"T_779ae_row3_col4\" class=\"data row3 col4\" >669.8585</td>\n",
       "      <td id=\"T_779ae_row3_col5\" class=\"data row3 col5\" >0.0071</td>\n",
       "      <td id=\"T_779ae_row3_col6\" class=\"data row3 col6\" >0.0071</td>\n",
       "    </tr>\n",
       "    <tr>\n",
       "      <th id=\"T_779ae_level0_row4\" class=\"row_heading level0 row4\" >SD</th>\n",
       "      <td id=\"T_779ae_row4_col0\" class=\"data row4 col0\" >NaT</td>\n",
       "      <td id=\"T_779ae_row4_col1\" class=\"data row4 col1\" >0.1473</td>\n",
       "      <td id=\"T_779ae_row4_col2\" class=\"data row4 col2\" >0.1116</td>\n",
       "      <td id=\"T_779ae_row4_col3\" class=\"data row4 col3\" >562.4050</td>\n",
       "      <td id=\"T_779ae_row4_col4\" class=\"data row4 col4\" >562.4050</td>\n",
       "      <td id=\"T_779ae_row4_col5\" class=\"data row4 col5\" >0.0059</td>\n",
       "      <td id=\"T_779ae_row4_col6\" class=\"data row4 col6\" >0.0060</td>\n",
       "    </tr>\n",
       "  </tbody>\n",
       "</table>\n"
      ],
      "text/plain": [
       "<pandas.io.formats.style.Styler at 0x1b9c8736d90>"
      ]
     },
     "metadata": {},
     "output_type": "display_data"
    },
    {
     "data": {
      "text/html": [],
      "text/plain": [
       "<IPython.core.display.HTML object>"
      ]
     },
     "metadata": {},
     "output_type": "display_data"
    },
    {
     "name": "stdout",
     "output_type": "stream",
     "text": [
      "Fitting 3 folds for each of 10 candidates, totalling 30 fits\n"
     ]
    },
    {
     "name": "stderr",
     "output_type": "stream",
     "text": [
      "[Parallel(n_jobs=-1)]: Using backend LokyBackend with 8 concurrent workers.\n",
      "[Parallel(n_jobs=-1)]: Done  30 out of  30 | elapsed:    5.2s finished\n"
     ]
    }
   ],
   "source": [
    "# Set up PyCaret environment\n",
    "s = setup(data=btc, \n",
    "          target = 'BTC-USD',\n",
    "          #transform_target='log',\n",
    "          fh=1,  # Forecast horizon\n",
    "          session_id=123,\n",
    "          fold_strategy='expanding',\n",
    "          seasonal_period='D',\n",
    "          #fold_spans=\"adaptive\",\n",
    "          numeric_imputation_target = 'drift')\n",
    "\n",
    "exp = create_model('exp_smooth')\n",
    "tuned_exp = tune_model(exp)\n",
    "final_exp = finalize_model(tuned_exp)\n",
    "exp_prediction = predict_model(final_exp)"
   ]
  },
  {
   "cell_type": "code",
   "execution_count": 248,
   "id": "c2ee84da",
   "metadata": {},
   "outputs": [
    {
     "data": {
      "application/vnd.plotly.v1+json": {
       "config": {
        "plotlyServerURL": "https://plot.ly"
       },
       "data": [
        {
         "line": {
          "color": "rgb(31, 119, 180)",
          "width": 2
         },
         "marker": {
          "color": "rgb(31, 119, 180)",
          "size": 5
         },
         "mode": "lines+markers",
         "name": "BTC-USD",
         "type": "scattergl",
         "x": [
          "2024-05-01T00:00:00",
          "2024-05-02T00:00:00",
          "2024-05-03T00:00:00",
          "2024-05-04T00:00:00",
          "2024-05-05T00:00:00",
          "2024-05-06T00:00:00",
          "2024-05-07T00:00:00",
          "2024-05-08T00:00:00",
          "2024-05-09T00:00:00",
          "2024-05-10T00:00:00",
          "2024-05-11T00:00:00",
          "2024-05-12T00:00:00",
          "2024-05-13T00:00:00",
          "2024-05-14T00:00:00",
          "2024-05-15T00:00:00",
          "2024-05-16T00:00:00",
          "2024-05-17T00:00:00",
          "2024-05-18T00:00:00",
          "2024-05-19T00:00:00",
          "2024-05-20T00:00:00",
          "2024-05-21T00:00:00",
          "2024-05-22T00:00:00",
          "2024-05-23T00:00:00",
          "2024-05-24T00:00:00",
          "2024-05-25T00:00:00",
          "2024-05-26T00:00:00",
          "2024-05-27T00:00:00",
          "2024-05-28T00:00:00",
          "2024-05-29T00:00:00",
          "2024-05-30T00:00:00",
          "2024-05-31T00:00:00",
          "2024-06-01T00:00:00",
          "2024-06-02T00:00:00",
          "2024-06-03T00:00:00",
          "2024-06-04T00:00:00",
          "2024-06-05T00:00:00",
          "2024-06-06T00:00:00",
          "2024-06-07T00:00:00",
          "2024-06-08T00:00:00",
          "2024-06-09T00:00:00",
          "2024-06-10T00:00:00",
          "2024-06-11T00:00:00",
          "2024-06-12T00:00:00",
          "2024-06-13T00:00:00",
          "2024-06-14T00:00:00",
          "2024-06-15T00:00:00",
          "2024-06-16T00:00:00",
          "2024-06-17T00:00:00",
          "2024-06-18T00:00:00",
          "2024-06-19T00:00:00",
          "2024-06-20T00:00:00",
          "2024-06-21T00:00:00",
          "2024-06-22T00:00:00",
          "2024-06-23T00:00:00",
          "2024-06-24T00:00:00",
          "2024-06-25T00:00:00",
          "2024-06-26T00:00:00",
          "2024-06-27T00:00:00",
          "2024-06-28T00:00:00",
          "2024-06-29T00:00:00",
          "2024-06-30T00:00:00",
          "2024-07-01T00:00:00",
          "2024-07-02T00:00:00",
          "2024-07-03T00:00:00",
          "2024-07-04T00:00:00",
          "2024-07-05T00:00:00",
          "2024-07-06T00:00:00",
          "2024-07-07T00:00:00",
          "2024-07-08T00:00:00",
          "2024-07-09T00:00:00",
          "2024-07-10T00:00:00",
          "2024-07-11T00:00:00",
          "2024-07-12T00:00:00",
          "2024-07-13T00:00:00",
          "2024-07-14T00:00:00",
          "2024-07-15T00:00:00",
          "2024-07-16T00:00:00",
          "2024-07-17T00:00:00",
          "2024-07-18T00:00:00",
          "2024-07-19T00:00:00",
          "2024-07-20T00:00:00",
          "2024-07-21T00:00:00",
          "2024-07-22T00:00:00",
          "2024-07-23T00:00:00",
          "2024-07-24T00:00:00",
          "2024-07-25T00:00:00",
          "2024-07-26T00:00:00",
          "2024-07-27T00:00:00",
          "2024-07-28T00:00:00",
          "2024-07-29T00:00:00",
          "2024-07-30T00:00:00",
          "2024-07-31T00:00:00",
          "2024-08-01T00:00:00",
          "2024-08-02T00:00:00",
          "2024-08-03T00:00:00",
          "2024-08-04T00:00:00",
          "2024-08-05T00:00:00",
          "2024-08-06T00:00:00",
          "2024-08-07T00:00:00",
          "2024-08-08T00:00:00",
          "2024-08-09T00:00:00",
          "2024-08-10T00:00:00",
          "2024-08-11T00:00:00",
          "2024-08-12T00:00:00",
          "2024-08-13T00:00:00",
          "2024-08-14T00:00:00",
          "2024-08-15T00:00:00",
          "2024-08-16T00:00:00",
          "2024-08-17T00:00:00",
          "2024-08-18T00:00:00",
          "2024-08-19T00:00:00",
          "2024-08-20T00:00:00",
          "2024-08-21T00:00:00",
          "2024-08-22T00:00:00",
          "2024-08-23T00:00:00",
          "2024-08-24T00:00:00",
          "2024-08-25T00:00:00",
          "2024-08-26T00:00:00",
          "2024-08-27T00:00:00",
          "2024-08-28T00:00:00",
          "2024-08-29T00:00:00",
          "2024-08-30T00:00:00",
          "2024-08-31T00:00:00",
          "2024-09-01T00:00:00",
          "2024-09-02T00:00:00",
          "2024-09-03T00:00:00",
          "2024-09-04T00:00:00",
          "2024-09-05T00:00:00",
          "2024-09-06T00:00:00",
          "2024-09-07T00:00:00",
          "2024-09-08T00:00:00",
          "2024-09-09T00:00:00",
          "2024-09-10T00:00:00",
          "2024-09-11T00:00:00",
          "2024-09-12T00:00:00",
          "2024-09-13T00:00:00",
          "2024-09-14T00:00:00",
          "2024-09-15T00:00:00",
          "2024-09-16T00:00:00",
          "2024-09-17T00:00:00",
          "2024-09-18T00:00:00",
          "2024-09-19T00:00:00",
          "2024-09-20T00:00:00",
          "2024-09-21T00:00:00",
          "2024-09-22T00:00:00",
          "2024-09-23T00:00:00",
          "2024-09-24T00:00:00",
          "2024-09-25T00:00:00",
          "2024-09-26T00:00:00",
          "2024-09-27T00:00:00",
          "2024-09-28T00:00:00",
          "2024-09-29T00:00:00",
          "2024-09-30T00:00:00",
          "2024-10-01T00:00:00",
          "2024-10-02T00:00:00",
          "2024-10-03T00:00:00",
          "2024-10-04T00:00:00",
          "2024-10-05T00:00:00",
          "2024-10-06T00:00:00",
          "2024-10-07T00:00:00",
          "2024-10-08T00:00:00",
          "2024-10-09T00:00:00",
          "2024-10-10T00:00:00",
          "2024-10-11T00:00:00",
          "2024-10-12T00:00:00",
          "2024-10-13T00:00:00",
          "2024-10-14T00:00:00",
          "2024-10-15T00:00:00",
          "2024-10-16T00:00:00",
          "2024-10-17T00:00:00",
          "2024-10-18T00:00:00",
          "2024-10-19T00:00:00",
          "2024-10-20T00:00:00",
          "2024-10-21T00:00:00",
          "2024-10-22T00:00:00",
          "2024-10-23T00:00:00",
          "2024-10-24T00:00:00",
          "2024-10-25T00:00:00",
          "2024-10-26T00:00:00",
          "2024-10-27T00:00:00",
          "2024-10-28T00:00:00",
          "2024-10-29T00:00:00",
          "2024-10-30T00:00:00",
          "2024-10-31T00:00:00",
          "2024-11-01T00:00:00",
          "2024-11-02T00:00:00",
          "2024-11-03T00:00:00",
          "2024-11-04T00:00:00",
          "2024-11-05T00:00:00",
          "2024-11-06T00:00:00",
          "2024-11-07T00:00:00",
          "2024-11-08T00:00:00",
          "2024-11-09T00:00:00",
          "2024-11-10T00:00:00",
          "2024-11-11T00:00:00",
          "2024-11-12T00:00:00",
          "2024-11-13T00:00:00",
          "2024-11-14T00:00:00",
          "2024-11-15T00:00:00",
          "2024-11-16T00:00:00",
          "2024-11-17T00:00:00",
          "2024-11-18T00:00:00",
          "2024-11-19T00:00:00",
          "2024-11-20T00:00:00",
          "2024-11-21T00:00:00",
          "2024-11-22T00:00:00",
          "2024-11-23T00:00:00",
          "2024-11-24T00:00:00",
          "2024-11-25T00:00:00",
          "2024-11-26T00:00:00",
          "2024-11-27T00:00:00",
          "2024-11-28T00:00:00",
          "2024-11-29T00:00:00",
          "2024-11-30T00:00:00",
          "2024-12-01T00:00:00",
          "2024-12-02T00:00:00",
          "2024-12-03T00:00:00",
          "2024-12-04T00:00:00",
          "2024-12-05T00:00:00",
          "2024-12-06T00:00:00",
          "2024-12-07T00:00:00",
          "2024-12-08T00:00:00",
          "2024-12-09T00:00:00",
          "2024-12-10T00:00:00",
          "2024-12-11T00:00:00",
          "2024-12-12T00:00:00",
          "2024-12-13T00:00:00",
          "2024-12-14T00:00:00",
          "2024-12-15T00:00:00",
          "2024-12-16T00:00:00",
          "2024-12-17T00:00:00",
          "2024-12-18T00:00:00",
          "2024-12-19T00:00:00",
          "2024-12-20T00:00:00",
          "2024-12-21T00:00:00",
          "2024-12-22T00:00:00",
          "2024-12-23T00:00:00",
          "2024-12-24T00:00:00",
          "2024-12-25T00:00:00",
          "2024-12-26T00:00:00",
          "2024-12-27T00:00:00",
          "2024-12-28T00:00:00",
          "2024-12-29T00:00:00",
          "2024-12-30T00:00:00",
          "2024-12-31T00:00:00",
          "2025-01-01T00:00:00",
          "2025-01-02T00:00:00",
          "2025-01-03T00:00:00",
          "2025-01-04T00:00:00",
          "2025-01-05T00:00:00",
          "2025-01-06T00:00:00",
          "2025-01-07T00:00:00",
          "2025-01-08T00:00:00",
          "2025-01-09T00:00:00",
          "2025-01-10T00:00:00",
          "2025-01-11T00:00:00",
          "2025-01-12T00:00:00",
          "2025-01-13T00:00:00",
          "2025-01-14T00:00:00",
          "2025-01-15T00:00:00",
          "2025-01-16T00:00:00",
          "2025-01-17T00:00:00",
          "2025-01-18T00:00:00",
          "2025-01-19T00:00:00",
          "2025-01-20T00:00:00",
          "2025-01-21T00:00:00",
          "2025-01-22T00:00:00",
          "2025-01-23T00:00:00",
          "2025-01-24T00:00:00",
          "2025-01-25T00:00:00",
          "2025-01-26T00:00:00",
          "2025-01-27T00:00:00",
          "2025-01-28T00:00:00",
          "2025-01-29T00:00:00",
          "2025-01-30T00:00:00",
          "2025-01-31T00:00:00",
          "2025-02-01T00:00:00",
          "2025-02-02T00:00:00",
          "2025-02-03T00:00:00",
          "2025-02-04T00:00:00",
          "2025-02-05T00:00:00",
          "2025-02-06T00:00:00",
          "2025-02-07T00:00:00",
          "2025-02-08T00:00:00",
          "2025-02-09T00:00:00",
          "2025-02-10T00:00:00",
          "2025-02-11T00:00:00",
          "2025-02-12T00:00:00",
          "2025-02-13T00:00:00",
          "2025-02-14T00:00:00",
          "2025-02-15T00:00:00",
          "2025-02-16T00:00:00",
          "2025-02-17T00:00:00",
          "2025-02-18T00:00:00",
          "2025-02-19T00:00:00",
          "2025-02-20T00:00:00",
          "2025-02-21T00:00:00",
          "2025-02-22T00:00:00",
          "2025-02-23T00:00:00",
          "2025-02-24T00:00:00",
          "2025-02-25T00:00:00",
          "2025-02-26T00:00:00",
          "2025-02-27T00:00:00",
          "2025-02-28T00:00:00",
          "2025-03-01T00:00:00",
          "2025-03-02T00:00:00",
          "2025-03-03T00:00:00",
          "2025-03-04T00:00:00",
          "2025-03-05T00:00:00",
          "2025-03-06T00:00:00",
          "2025-03-07T00:00:00",
          "2025-03-08T00:00:00",
          "2025-03-09T00:00:00",
          "2025-03-10T00:00:00",
          "2025-03-11T00:00:00",
          "2025-03-12T00:00:00",
          "2025-03-13T00:00:00",
          "2025-03-14T00:00:00",
          "2025-03-15T00:00:00",
          "2025-03-16T00:00:00",
          "2025-03-17T00:00:00",
          "2025-03-18T00:00:00",
          "2025-03-19T00:00:00",
          "2025-03-20T00:00:00",
          "2025-03-21T00:00:00",
          "2025-03-22T00:00:00",
          "2025-03-23T00:00:00",
          "2025-03-24T00:00:00",
          "2025-03-25T00:00:00",
          "2025-03-26T00:00:00",
          "2025-03-27T00:00:00",
          "2025-03-28T00:00:00",
          "2025-03-29T00:00:00",
          "2025-03-30T00:00:00",
          "2025-03-31T00:00:00",
          "2025-04-01T00:00:00",
          "2025-04-02T00:00:00",
          "2025-04-03T00:00:00",
          "2025-04-04T00:00:00",
          "2025-04-05T00:00:00",
          "2025-04-06T00:00:00",
          "2025-04-07T00:00:00",
          "2025-04-08T00:00:00",
          "2025-04-09T00:00:00",
          "2025-04-10T00:00:00",
          "2025-04-11T00:00:00",
          "2025-04-12T00:00:00",
          "2025-04-13T00:00:00",
          "2025-04-14T00:00:00",
          "2025-04-15T00:00:00",
          "2025-04-16T00:00:00",
          "2025-04-17T00:00:00",
          "2025-04-18T00:00:00",
          "2025-04-19T00:00:00",
          "2025-04-20T00:00:00",
          "2025-04-21T00:00:00",
          "2025-04-22T00:00:00",
          "2025-04-23T00:00:00",
          "2025-04-24T00:00:00",
          "2025-04-25T00:00:00",
          "2025-04-26T00:00:00",
          "2025-04-27T00:00:00",
          "2025-04-28T00:00:00",
          "2025-04-29T00:00:00",
          "2025-04-30T00:00:00",
          "2025-05-01T00:00:00"
         ],
         "xaxis": "x",
         "y": {
          "bdata": "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",
          "dtype": "f8"
         },
         "yaxis": "y"
        },
        {
         "line": {
          "color": "rgb(255, 127, 14)",
          "width": 2
         },
         "marker": {
          "color": "rgb(255, 127, 14)",
          "size": 5
         },
         "mode": "lines+markers",
         "name": "Exponential Smoothing",
         "type": "scattergl",
         "x": [
          "2024-05-01T00:00:00",
          "2024-05-02T00:00:00",
          "2024-05-03T00:00:00",
          "2024-05-04T00:00:00",
          "2024-05-05T00:00:00",
          "2024-05-06T00:00:00",
          "2024-05-07T00:00:00",
          "2024-05-08T00:00:00",
          "2024-05-09T00:00:00",
          "2024-05-10T00:00:00",
          "2024-05-11T00:00:00",
          "2024-05-12T00:00:00",
          "2024-05-13T00:00:00",
          "2024-05-14T00:00:00",
          "2024-05-15T00:00:00",
          "2024-05-16T00:00:00",
          "2024-05-17T00:00:00",
          "2024-05-18T00:00:00",
          "2024-05-19T00:00:00",
          "2024-05-20T00:00:00",
          "2024-05-21T00:00:00",
          "2024-05-22T00:00:00",
          "2024-05-23T00:00:00",
          "2024-05-24T00:00:00",
          "2024-05-25T00:00:00",
          "2024-05-26T00:00:00",
          "2024-05-27T00:00:00",
          "2024-05-28T00:00:00",
          "2024-05-29T00:00:00",
          "2024-05-30T00:00:00",
          "2024-05-31T00:00:00",
          "2024-06-01T00:00:00",
          "2024-06-02T00:00:00",
          "2024-06-03T00:00:00",
          "2024-06-04T00:00:00",
          "2024-06-05T00:00:00",
          "2024-06-06T00:00:00",
          "2024-06-07T00:00:00",
          "2024-06-08T00:00:00",
          "2024-06-09T00:00:00",
          "2024-06-10T00:00:00",
          "2024-06-11T00:00:00",
          "2024-06-12T00:00:00",
          "2024-06-13T00:00:00",
          "2024-06-14T00:00:00",
          "2024-06-15T00:00:00",
          "2024-06-16T00:00:00",
          "2024-06-17T00:00:00",
          "2024-06-18T00:00:00",
          "2024-06-19T00:00:00",
          "2024-06-20T00:00:00",
          "2024-06-21T00:00:00",
          "2024-06-22T00:00:00",
          "2024-06-23T00:00:00",
          "2024-06-24T00:00:00",
          "2024-06-25T00:00:00",
          "2024-06-26T00:00:00",
          "2024-06-27T00:00:00",
          "2024-06-28T00:00:00",
          "2024-06-29T00:00:00",
          "2024-06-30T00:00:00",
          "2024-07-01T00:00:00",
          "2024-07-02T00:00:00",
          "2024-07-03T00:00:00",
          "2024-07-04T00:00:00",
          "2024-07-05T00:00:00",
          "2024-07-06T00:00:00",
          "2024-07-07T00:00:00",
          "2024-07-08T00:00:00",
          "2024-07-09T00:00:00",
          "2024-07-10T00:00:00",
          "2024-07-11T00:00:00",
          "2024-07-12T00:00:00",
          "2024-07-13T00:00:00",
          "2024-07-14T00:00:00",
          "2024-07-15T00:00:00",
          "2024-07-16T00:00:00",
          "2024-07-17T00:00:00",
          "2024-07-18T00:00:00",
          "2024-07-19T00:00:00",
          "2024-07-20T00:00:00",
          "2024-07-21T00:00:00",
          "2024-07-22T00:00:00",
          "2024-07-23T00:00:00",
          "2024-07-24T00:00:00",
          "2024-07-25T00:00:00",
          "2024-07-26T00:00:00",
          "2024-07-27T00:00:00",
          "2024-07-28T00:00:00",
          "2024-07-29T00:00:00",
          "2024-07-30T00:00:00",
          "2024-07-31T00:00:00",
          "2024-08-01T00:00:00",
          "2024-08-02T00:00:00",
          "2024-08-03T00:00:00",
          "2024-08-04T00:00:00",
          "2024-08-05T00:00:00",
          "2024-08-06T00:00:00",
          "2024-08-07T00:00:00",
          "2024-08-08T00:00:00",
          "2024-08-09T00:00:00",
          "2024-08-10T00:00:00",
          "2024-08-11T00:00:00",
          "2024-08-12T00:00:00",
          "2024-08-13T00:00:00",
          "2024-08-14T00:00:00",
          "2024-08-15T00:00:00",
          "2024-08-16T00:00:00",
          "2024-08-17T00:00:00",
          "2024-08-18T00:00:00",
          "2024-08-19T00:00:00",
          "2024-08-20T00:00:00",
          "2024-08-21T00:00:00",
          "2024-08-22T00:00:00",
          "2024-08-23T00:00:00",
          "2024-08-24T00:00:00",
          "2024-08-25T00:00:00",
          "2024-08-26T00:00:00",
          "2024-08-27T00:00:00",
          "2024-08-28T00:00:00",
          "2024-08-29T00:00:00",
          "2024-08-30T00:00:00",
          "2024-08-31T00:00:00",
          "2024-09-01T00:00:00",
          "2024-09-02T00:00:00",
          "2024-09-03T00:00:00",
          "2024-09-04T00:00:00",
          "2024-09-05T00:00:00",
          "2024-09-06T00:00:00",
          "2024-09-07T00:00:00",
          "2024-09-08T00:00:00",
          "2024-09-09T00:00:00",
          "2024-09-10T00:00:00",
          "2024-09-11T00:00:00",
          "2024-09-12T00:00:00",
          "2024-09-13T00:00:00",
          "2024-09-14T00:00:00",
          "2024-09-15T00:00:00",
          "2024-09-16T00:00:00",
          "2024-09-17T00:00:00",
          "2024-09-18T00:00:00",
          "2024-09-19T00:00:00",
          "2024-09-20T00:00:00",
          "2024-09-21T00:00:00",
          "2024-09-22T00:00:00",
          "2024-09-23T00:00:00",
          "2024-09-24T00:00:00",
          "2024-09-25T00:00:00",
          "2024-09-26T00:00:00",
          "2024-09-27T00:00:00",
          "2024-09-28T00:00:00",
          "2024-09-29T00:00:00",
          "2024-09-30T00:00:00",
          "2024-10-01T00:00:00",
          "2024-10-02T00:00:00",
          "2024-10-03T00:00:00",
          "2024-10-04T00:00:00",
          "2024-10-05T00:00:00",
          "2024-10-06T00:00:00",
          "2024-10-07T00:00:00",
          "2024-10-08T00:00:00",
          "2024-10-09T00:00:00",
          "2024-10-10T00:00:00",
          "2024-10-11T00:00:00",
          "2024-10-12T00:00:00",
          "2024-10-13T00:00:00",
          "2024-10-14T00:00:00",
          "2024-10-15T00:00:00",
          "2024-10-16T00:00:00",
          "2024-10-17T00:00:00",
          "2024-10-18T00:00:00",
          "2024-10-19T00:00:00",
          "2024-10-20T00:00:00",
          "2024-10-21T00:00:00",
          "2024-10-22T00:00:00",
          "2024-10-23T00:00:00",
          "2024-10-24T00:00:00",
          "2024-10-25T00:00:00",
          "2024-10-26T00:00:00",
          "2024-10-27T00:00:00",
          "2024-10-28T00:00:00",
          "2024-10-29T00:00:00",
          "2024-10-30T00:00:00",
          "2024-10-31T00:00:00",
          "2024-11-01T00:00:00",
          "2024-11-02T00:00:00",
          "2024-11-03T00:00:00",
          "2024-11-04T00:00:00",
          "2024-11-05T00:00:00",
          "2024-11-06T00:00:00",
          "2024-11-07T00:00:00",
          "2024-11-08T00:00:00",
          "2024-11-09T00:00:00",
          "2024-11-10T00:00:00",
          "2024-11-11T00:00:00",
          "2024-11-12T00:00:00",
          "2024-11-13T00:00:00",
          "2024-11-14T00:00:00",
          "2024-11-15T00:00:00",
          "2024-11-16T00:00:00",
          "2024-11-17T00:00:00",
          "2024-11-18T00:00:00",
          "2024-11-19T00:00:00",
          "2024-11-20T00:00:00",
          "2024-11-21T00:00:00",
          "2024-11-22T00:00:00",
          "2024-11-23T00:00:00",
          "2024-11-24T00:00:00",
          "2024-11-25T00:00:00",
          "2024-11-26T00:00:00",
          "2024-11-27T00:00:00",
          "2024-11-28T00:00:00",
          "2024-11-29T00:00:00",
          "2024-11-30T00:00:00",
          "2024-12-01T00:00:00",
          "2024-12-02T00:00:00",
          "2024-12-03T00:00:00",
          "2024-12-04T00:00:00",
          "2024-12-05T00:00:00",
          "2024-12-06T00:00:00",
          "2024-12-07T00:00:00",
          "2024-12-08T00:00:00",
          "2024-12-09T00:00:00",
          "2024-12-10T00:00:00",
          "2024-12-11T00:00:00",
          "2024-12-12T00:00:00",
          "2024-12-13T00:00:00",
          "2024-12-14T00:00:00",
          "2024-12-15T00:00:00",
          "2024-12-16T00:00:00",
          "2024-12-17T00:00:00",
          "2024-12-18T00:00:00",
          "2024-12-19T00:00:00",
          "2024-12-20T00:00:00",
          "2024-12-21T00:00:00",
          "2024-12-22T00:00:00",
          "2024-12-23T00:00:00",
          "2024-12-24T00:00:00",
          "2024-12-25T00:00:00",
          "2024-12-26T00:00:00",
          "2024-12-27T00:00:00",
          "2024-12-28T00:00:00",
          "2024-12-29T00:00:00",
          "2024-12-30T00:00:00",
          "2024-12-31T00:00:00",
          "2025-01-01T00:00:00",
          "2025-01-02T00:00:00",
          "2025-01-03T00:00:00",
          "2025-01-04T00:00:00",
          "2025-01-05T00:00:00",
          "2025-01-06T00:00:00",
          "2025-01-07T00:00:00",
          "2025-01-08T00:00:00",
          "2025-01-09T00:00:00",
          "2025-01-10T00:00:00",
          "2025-01-11T00:00:00",
          "2025-01-12T00:00:00",
          "2025-01-13T00:00:00",
          "2025-01-14T00:00:00",
          "2025-01-15T00:00:00",
          "2025-01-16T00:00:00",
          "2025-01-17T00:00:00",
          "2025-01-18T00:00:00",
          "2025-01-19T00:00:00",
          "2025-01-20T00:00:00",
          "2025-01-21T00:00:00",
          "2025-01-22T00:00:00",
          "2025-01-23T00:00:00",
          "2025-01-24T00:00:00",
          "2025-01-25T00:00:00",
          "2025-01-26T00:00:00",
          "2025-01-27T00:00:00",
          "2025-01-28T00:00:00",
          "2025-01-29T00:00:00",
          "2025-01-30T00:00:00",
          "2025-01-31T00:00:00",
          "2025-02-01T00:00:00",
          "2025-02-02T00:00:00",
          "2025-02-03T00:00:00",
          "2025-02-04T00:00:00",
          "2025-02-05T00:00:00",
          "2025-02-06T00:00:00",
          "2025-02-07T00:00:00",
          "2025-02-08T00:00:00",
          "2025-02-09T00:00:00",
          "2025-02-10T00:00:00",
          "2025-02-11T00:00:00",
          "2025-02-12T00:00:00",
          "2025-02-13T00:00:00",
          "2025-02-14T00:00:00",
          "2025-02-15T00:00:00",
          "2025-02-16T00:00:00",
          "2025-02-17T00:00:00",
          "2025-02-18T00:00:00",
          "2025-02-19T00:00:00",
          "2025-02-20T00:00:00",
          "2025-02-21T00:00:00",
          "2025-02-22T00:00:00",
          "2025-02-23T00:00:00",
          "2025-02-24T00:00:00",
          "2025-02-25T00:00:00",
          "2025-02-26T00:00:00",
          "2025-02-27T00:00:00",
          "2025-02-28T00:00:00",
          "2025-03-01T00:00:00",
          "2025-03-02T00:00:00",
          "2025-03-03T00:00:00",
          "2025-03-04T00:00:00",
          "2025-03-05T00:00:00",
          "2025-03-06T00:00:00",
          "2025-03-07T00:00:00",
          "2025-03-08T00:00:00",
          "2025-03-09T00:00:00",
          "2025-03-10T00:00:00",
          "2025-03-11T00:00:00",
          "2025-03-12T00:00:00",
          "2025-03-13T00:00:00",
          "2025-03-14T00:00:00",
          "2025-03-15T00:00:00",
          "2025-03-16T00:00:00",
          "2025-03-17T00:00:00",
          "2025-03-18T00:00:00",
          "2025-03-19T00:00:00",
          "2025-03-20T00:00:00",
          "2025-03-21T00:00:00",
          "2025-03-22T00:00:00",
          "2025-03-23T00:00:00",
          "2025-03-24T00:00:00",
          "2025-03-25T00:00:00",
          "2025-03-26T00:00:00",
          "2025-03-27T00:00:00",
          "2025-03-28T00:00:00",
          "2025-03-29T00:00:00",
          "2025-03-30T00:00:00",
          "2025-03-31T00:00:00",
          "2025-04-01T00:00:00",
          "2025-04-02T00:00:00",
          "2025-04-03T00:00:00",
          "2025-04-04T00:00:00",
          "2025-04-05T00:00:00",
          "2025-04-06T00:00:00",
          "2025-04-07T00:00:00",
          "2025-04-08T00:00:00",
          "2025-04-09T00:00:00",
          "2025-04-10T00:00:00",
          "2025-04-11T00:00:00",
          "2025-04-12T00:00:00",
          "2025-04-13T00:00:00",
          "2025-04-14T00:00:00",
          "2025-04-15T00:00:00",
          "2025-04-16T00:00:00",
          "2025-04-17T00:00:00",
          "2025-04-18T00:00:00",
          "2025-04-19T00:00:00",
          "2025-04-20T00:00:00",
          "2025-04-21T00:00:00",
          "2025-04-22T00:00:00",
          "2025-04-23T00:00:00",
          "2025-04-24T00:00:00",
          "2025-04-25T00:00:00",
          "2025-04-26T00:00:00",
          "2025-04-27T00:00:00",
          "2025-04-28T00:00:00",
          "2025-04-29T00:00:00",
          "2025-04-30T00:00:00",
          "2025-05-01T00:00:00"
         ],
         "xaxis": "x",
         "y": {
          "bdata": "AAAAAAAA+H8AAAAAAAD4fwAAAAAAAPh/AAAAAAAA+H8AAAAAAAD4fwAAAAAAAPh/AAAAAAAA+H8AAAAAAAD4fwAAAAAAAPh/AAAAAAAA+H8AAAAAAAD4fwAAAAAAAPh/AAAAAAAA+H8AAAAAAAD4fwAAAAAAAPh/AAAAAAAA+H8AAAAAAAD4fwAAAAAAAPh/AAAAAAAA+H8AAAAAAAD4fwAAAAAAAPh/AAAAAAAA+H8AAAAAAAD4fwAAAAAAAPh/AAAAAAAA+H8AAAAAAAD4fwAAAAAAAPh/AAAAAAAA+H8AAAAAAAD4fwAAAAAAAPh/AAAAAAAA+H8AAAAAAAD4fwAAAAAAAPh/AAAAAAAA+H8AAAAAAAD4fwAAAAAAAPh/AAAAAAAA+H8AAAAAAAD4fwAAAAAAAPh/AAAAAAAA+H8AAAAAAAD4fwAAAAAAAPh/AAAAAAAA+H8AAAAAAAD4fwAAAAAAAPh/AAAAAAAA+H8AAAAAAAD4fwAAAAAAAPh/AAAAAAAA+H8AAAAAAAD4fwAAAAAAAPh/AAAAAAAA+H8AAAAAAAD4fwAAAAAAAPh/AAAAAAAA+H8AAAAAAAD4fwAAAAAAAPh/AAAAAAAA+H8AAAAAAAD4fwAAAAAAAPh/AAAAAAAA+H8AAAAAAAD4fwAAAAAAAPh/AAAAAAAA+H8AAAAAAAD4fwAAAAAAAPh/AAAAAAAA+H8AAAAAAAD4fwAAAAAAAPh/AAAAAAAA+H8AAAAAAAD4fwAAAAAAAPh/AAAAAAAA+H8AAAAAAAD4fwAAAAAAAPh/AAAAAAAA+H8AAAAAAAD4fwAAAAAAAPh/AAAAAAAA+H8AAAAAAAD4fwAAAAAAAPh/AAAAAAAA+H8AAAAAAAD4fwAAAAAAAPh/AAAAAAAA+H8AAAAAAAD4fwAAAAAAAPh/AAAAAAAA+H8AAAAAAAD4fwAAAAAAAPh/AAAAAAAA+H8AAAAAAAD4fwAAAAAAAPh/AAAAAAAA+H8AAAAAAAD4fwAAAAAAAPh/AAAAAAAA+H8AAAAAAAD4fwAAAAAAAPh/AAAAAAAA+H8AAAAAAAD4fwAAAAAAAPh/AAAAAAAA+H8AAAAAAAD4fwAAAAAAAPh/AAAAAAAA+H8AAAAAAAD4fwAAAAAAAPh/AAAAAAAA+H8AAAAAAAD4fwAAAAAAAPh/AAAAAAAA+H8AAAAAAAD4fwAAAAAAAPh/AAAAAAAA+H8AAAAAAAD4fwAAAAAAAPh/AAAAAAAA+H8AAAAAAAD4fwAAAAAAAPh/AAAAAAAA+H8AAAAAAAD4fwAAAAAAAPh/AAAAAAAA+H8AAAAAAAD4fwAAAAAAAPh/AAAAAAAA+H8AAAAAAAD4fwAAAAAAAPh/AAAAAAAA+H8AAAAAAAD4fwAAAAAAAPh/AAAAAAAA+H8AAAAAAAD4fwAAAAAAAPh/AAAAAAAA+H8AAAAAAAD4fwAAAAAAAPh/AAAAAAAA+H8AAAAAAAD4fwAAAAAAAPh/AAAAAAAA+H8AAAAAAAD4fwAAAAAAAPh/AAAAAAAA+H8AAAAAAAD4fwAAAAAAAPh/AAAAAAAA+H8AAAAAAAD4fwAAAAAAAPh/AAAAAAAA+H8AAAAAAAD4fwAAAAAAAPh/AAAAAAAA+H8AAAAAAAD4fwAAAAAAAPh/AAAAAAAA+H8AAAAAAAD4fwAAAAAAAPh/AAAAAAAA+H8AAAAAAAD4fwAAAAAAAPh/AAAAAAAA+H8AAAAAAAD4fwAAAAAAAPh/AAAAAAAA+H8AAAAAAAD4fwAAAAAAAPh/AAAAAAAA+H8AAAAAAAD4fwAAAAAAAPh/AAAAAAAA+H8AAAAAAAD4fwAAAAAAAPh/AAAAAAAA+H8AAAAAAAD4fwAAAAAAAPh/AAAAAAAA+H8AAAAAAAD4fwAAAAAAAPh/AAAAAAAA+H8AAAAAAAD4fwAAAAAAAPh/AAAAAAAA+H8AAAAAAAD4fwAAAAAAAPh/AAAAAAAA+H8AAAAAAAD4fwAAAAAAAPh/AAAAAAAA+H8AAAAAAAD4fwAAAAAAAPh/AAAAAAAA+H8AAAAAAAD4fwAAAAAAAPh/AAAAAAAA+H8AAAAAAAD4fwAAAAAAAPh/AAAAAAAA+H8AAAAAAAD4fwAAAAAAAPh/AAAAAAAA+H8AAAAAAAD4fwAAAAAAAPh/AAAAAAAA+H8AAAAAAAD4fwAAAAAAAPh/AAAAAAAA+H8AAAAAAAD4fwAAAAAAAPh/AAAAAAAA+H8AAAAAAAD4fwAAAAAAAPh/AAAAAAAA+H8AAAAAAAD4fwAAAAAAAPh/AAAAAAAA+H8AAAAAAAD4fwAAAAAAAPh/AAAAAAAA+H8AAAAAAAD4fwAAAAAAAPh/AAAAAAAA+H8AAAAAAAD4fwAAAAAAAPh/AAAAAAAA+H8AAAAAAAD4fwAAAAAAAPh/AAAAAAAA+H8AAAAAAAD4fwAAAAAAAPh/AAAAAAAA+H8AAAAAAAD4fwAAAAAAAPh/AAAAAAAA+H8AAAAAAAD4fwAAAAAAAPh/AAAAAAAA+H8AAAAAAAD4fwAAAAAAAPh/AAAAAAAA+H8AAAAAAAD4fwAAAAAAAPh/AAAAAAAA+H8AAAAAAAD4fwAAAAAAAPh/AAAAAAAA+H8AAAAAAAD4fwAAAAAAAPh/AAAAAAAA+H8AAAAAAAD4fwAAAAAAAPh/AAAAAAAA+H8AAAAAAAD4fwAAAAAAAPh/AAAAAAAA+H8AAAAAAAD4fwAAAAAAAPh/AAAAAAAA+H8AAAAAAAD4fwAAAAAAAPh/AAAAAAAA+H8AAAAAAAD4fwAAAAAAAPh/AAAAAAAA+H8AAAAAAAD4fwAAAAAAAPh/AAAAAAAA+H8AAAAAAAD4fwAAAAAAAPh/AAAAAAAA+H8AAAAAAAD4fwAAAAAAAPh/AAAAAAAA+H8AAAAAAAD4fwAAAAAAAPh/AAAAAAAA+H8AAAAAAAD4fwAAAAAAAPh/AAAAAAAA+H8AAAAAAAD4fwAAAAAAAPh/AAAAAAAA+H8AAAAAAAD4fwAAAAAAAPh/AAAAAAAA+H8AAAAAAAD4fwAAAAAAAPh/AAAAAAAA+H8AAAAAAAD4fwAAAAAAAPh/AAAAAAAA+H8AAAAAAAD4fwAAAAAAAPh/AAAAAAAA+H8AAAAAAAD4fwAAAAAAAPh/AAAAAAAA+H8AAAAAAAD4fwAAAAAAAPh/AAAAAAAA+H8AAAAAAAD4fwAAAAAAAPh/AAAAAAAA+H8AAAAAAAD4fwAAAAAAAPh/AAAAAAAA+H8AAAAAAAD4fwAAAAAAAPh/AAAAAAAA+H8AAAAAAAD4fwAAAAAAAPh/AAAAAAAA+H8AAAAAAAD4fwAAAAAAAPh/AAAAAAAA+H8AAAAAAAD4fwAAAAAAAPh/AAAAAAAA+H8AAAAAAAD4fwAAAAAAAPh/AAAAAAAA+H8AAAAAAAD4fwAAAAAAAPh/AAAAAAAA+H8AAAAAAAD4fwAAAAAAAPh/AAAAAAAA+H8AAAAAAAD4fwAAAAAAAPh/AAAAAAAA+H8AAAAAAAD4fwAAAAAAAPh/AAAAAAAA+H8AAAAAAAD4fwAAAAAAAPh/AAAAAAAA+H8AAAAAAAD4fwAAAAAAAPh/AAAAAAAA+H8AAAAAAAD4fwAAAAAAAPh/AAAAAAAA+H8AAAAAAAD4fwAAAAAAAPh/AAAAAAAA+H8AAAAAAAD4fwAAAAAAAPh/AAAAAAAA+H8AAAAAAAD4fwAAAAAAAPh/AAAAAAAA+H8AAAAAAAD4fwAAAAAAAPh/AAAAAAAA+H8AAAAAAAD4fwAAAAAAAPh/AAAAAAAA+H8AAAAAAAD4fwAAAAAAAPh/AAAAAAAA+H8AAAAAAAD4fwAAAAAAAPh/AAAAAAAA+H8AAAAAAAD4f6HWNO/WGPdA",
          "dtype": "f8"
         },
         "yaxis": "y"
        }
       ],
       "layout": {
        "showlegend": true,
        "template": {
         "data": {
          "bar": [
           {
            "error_x": {
             "color": "rgb(51,51,51)"
            },
            "error_y": {
             "color": "rgb(51,51,51)"
            },
            "marker": {
             "line": {
              "color": "rgb(237,237,237)",
              "width": 0.5
             },
             "pattern": {
              "fillmode": "overlay",
              "size": 10,
              "solidity": 0.2
             }
            },
            "type": "bar"
           }
          ],
          "barpolar": [
           {
            "marker": {
             "line": {
              "color": "rgb(237,237,237)",
              "width": 0.5
             },
             "pattern": {
              "fillmode": "overlay",
              "size": 10,
              "solidity": 0.2
             }
            },
            "type": "barpolar"
           }
          ],
          "carpet": [
           {
            "aaxis": {
             "endlinecolor": "rgb(51,51,51)",
             "gridcolor": "white",
             "linecolor": "white",
             "minorgridcolor": "white",
             "startlinecolor": "rgb(51,51,51)"
            },
            "baxis": {
             "endlinecolor": "rgb(51,51,51)",
             "gridcolor": "white",
             "linecolor": "white",
             "minorgridcolor": "white",
             "startlinecolor": "rgb(51,51,51)"
            },
            "type": "carpet"
           }
          ],
          "choropleth": [
           {
            "colorbar": {
             "outlinewidth": 0,
             "tickcolor": "rgb(237,237,237)",
             "ticklen": 6,
             "ticks": "inside"
            },
            "type": "choropleth"
           }
          ],
          "contour": [
           {
            "colorbar": {
             "outlinewidth": 0,
             "tickcolor": "rgb(237,237,237)",
             "ticklen": 6,
             "ticks": "inside"
            },
            "colorscale": [
             [
              0,
              "rgb(20,44,66)"
             ],
             [
              1,
              "rgb(90,179,244)"
             ]
            ],
            "type": "contour"
           }
          ],
          "contourcarpet": [
           {
            "colorbar": {
             "outlinewidth": 0,
             "tickcolor": "rgb(237,237,237)",
             "ticklen": 6,
             "ticks": "inside"
            },
            "type": "contourcarpet"
           }
          ],
          "heatmap": [
           {
            "colorbar": {
             "outlinewidth": 0,
             "tickcolor": "rgb(237,237,237)",
             "ticklen": 6,
             "ticks": "inside"
            },
            "colorscale": [
             [
              0,
              "rgb(20,44,66)"
             ],
             [
              1,
              "rgb(90,179,244)"
             ]
            ],
            "type": "heatmap"
           }
          ],
          "histogram": [
           {
            "marker": {
             "pattern": {
              "fillmode": "overlay",
              "size": 10,
              "solidity": 0.2
             }
            },
            "type": "histogram"
           }
          ],
          "histogram2d": [
           {
            "colorbar": {
             "outlinewidth": 0,
             "tickcolor": "rgb(237,237,237)",
             "ticklen": 6,
             "ticks": "inside"
            },
            "colorscale": [
             [
              0,
              "rgb(20,44,66)"
             ],
             [
              1,
              "rgb(90,179,244)"
             ]
            ],
            "type": "histogram2d"
           }
          ],
          "histogram2dcontour": [
           {
            "colorbar": {
             "outlinewidth": 0,
             "tickcolor": "rgb(237,237,237)",
             "ticklen": 6,
             "ticks": "inside"
            },
            "colorscale": [
             [
              0,
              "rgb(20,44,66)"
             ],
             [
              1,
              "rgb(90,179,244)"
             ]
            ],
            "type": "histogram2dcontour"
           }
          ],
          "mesh3d": [
           {
            "colorbar": {
             "outlinewidth": 0,
             "tickcolor": "rgb(237,237,237)",
             "ticklen": 6,
             "ticks": "inside"
            },
            "type": "mesh3d"
           }
          ],
          "parcoords": [
           {
            "line": {
             "colorbar": {
              "outlinewidth": 0,
              "tickcolor": "rgb(237,237,237)",
              "ticklen": 6,
              "ticks": "inside"
             }
            },
            "type": "parcoords"
           }
          ],
          "pie": [
           {
            "automargin": true,
            "type": "pie"
           }
          ],
          "scatter": [
           {
            "fillpattern": {
             "fillmode": "overlay",
             "size": 10,
             "solidity": 0.2
            },
            "type": "scatter"
           }
          ],
          "scatter3d": [
           {
            "line": {
             "colorbar": {
              "outlinewidth": 0,
              "tickcolor": "rgb(237,237,237)",
              "ticklen": 6,
              "ticks": "inside"
             }
            },
            "marker": {
             "colorbar": {
              "outlinewidth": 0,
              "tickcolor": "rgb(237,237,237)",
              "ticklen": 6,
              "ticks": "inside"
             }
            },
            "type": "scatter3d"
           }
          ],
          "scattercarpet": [
           {
            "marker": {
             "colorbar": {
              "outlinewidth": 0,
              "tickcolor": "rgb(237,237,237)",
              "ticklen": 6,
              "ticks": "inside"
             }
            },
            "type": "scattercarpet"
           }
          ],
          "scattergeo": [
           {
            "marker": {
             "colorbar": {
              "outlinewidth": 0,
              "tickcolor": "rgb(237,237,237)",
              "ticklen": 6,
              "ticks": "inside"
             }
            },
            "type": "scattergeo"
           }
          ],
          "scattergl": [
           {
            "marker": {
             "colorbar": {
              "outlinewidth": 0,
              "tickcolor": "rgb(237,237,237)",
              "ticklen": 6,
              "ticks": "inside"
             }
            },
            "type": "scattergl"
           }
          ],
          "scattermap": [
           {
            "marker": {
             "colorbar": {
              "outlinewidth": 0,
              "tickcolor": "rgb(237,237,237)",
              "ticklen": 6,
              "ticks": "inside"
             }
            },
            "type": "scattermap"
           }
          ],
          "scattermapbox": [
           {
            "marker": {
             "colorbar": {
              "outlinewidth": 0,
              "tickcolor": "rgb(237,237,237)",
              "ticklen": 6,
              "ticks": "inside"
             }
            },
            "type": "scattermapbox"
           }
          ],
          "scatterpolar": [
           {
            "marker": {
             "colorbar": {
              "outlinewidth": 0,
              "tickcolor": "rgb(237,237,237)",
              "ticklen": 6,
              "ticks": "inside"
             }
            },
            "type": "scatterpolar"
           }
          ],
          "scatterpolargl": [
           {
            "marker": {
             "colorbar": {
              "outlinewidth": 0,
              "tickcolor": "rgb(237,237,237)",
              "ticklen": 6,
              "ticks": "inside"
             }
            },
            "type": "scatterpolargl"
           }
          ],
          "scatterternary": [
           {
            "marker": {
             "colorbar": {
              "outlinewidth": 0,
              "tickcolor": "rgb(237,237,237)",
              "ticklen": 6,
              "ticks": "inside"
             }
            },
            "type": "scatterternary"
           }
          ],
          "surface": [
           {
            "colorbar": {
             "outlinewidth": 0,
             "tickcolor": "rgb(237,237,237)",
             "ticklen": 6,
             "ticks": "inside"
            },
            "colorscale": [
             [
              0,
              "rgb(20,44,66)"
             ],
             [
              1,
              "rgb(90,179,244)"
             ]
            ],
            "type": "surface"
           }
          ],
          "table": [
           {
            "cells": {
             "fill": {
              "color": "rgb(237,237,237)"
             },
             "line": {
              "color": "white"
             }
            },
            "header": {
             "fill": {
              "color": "rgb(217,217,217)"
             },
             "line": {
              "color": "white"
             }
            },
            "type": "table"
           }
          ]
         },
         "layout": {
          "annotationdefaults": {
           "arrowhead": 0,
           "arrowwidth": 1
          },
          "autotypenumbers": "strict",
          "coloraxis": {
           "colorbar": {
            "outlinewidth": 0,
            "tickcolor": "rgb(237,237,237)",
            "ticklen": 6,
            "ticks": "inside"
           }
          },
          "colorscale": {
           "sequential": [
            [
             0,
             "rgb(20,44,66)"
            ],
            [
             1,
             "rgb(90,179,244)"
            ]
           ],
           "sequentialminus": [
            [
             0,
             "rgb(20,44,66)"
            ],
            [
             1,
             "rgb(90,179,244)"
            ]
           ]
          },
          "colorway": [
           "#F8766D",
           "#A3A500",
           "#00BF7D",
           "#00B0F6",
           "#E76BF3"
          ],
          "font": {
           "color": "rgb(51,51,51)"
          },
          "geo": {
           "bgcolor": "white",
           "lakecolor": "white",
           "landcolor": "rgb(237,237,237)",
           "showlakes": true,
           "showland": true,
           "subunitcolor": "white"
          },
          "hoverlabel": {
           "align": "left"
          },
          "hovermode": "closest",
          "paper_bgcolor": "white",
          "plot_bgcolor": "rgb(237,237,237)",
          "polar": {
           "angularaxis": {
            "gridcolor": "white",
            "linecolor": "white",
            "showgrid": true,
            "tickcolor": "rgb(51,51,51)",
            "ticks": "outside"
           },
           "bgcolor": "rgb(237,237,237)",
           "radialaxis": {
            "gridcolor": "white",
            "linecolor": "white",
            "showgrid": true,
            "tickcolor": "rgb(51,51,51)",
            "ticks": "outside"
           }
          },
          "scene": {
           "xaxis": {
            "backgroundcolor": "rgb(237,237,237)",
            "gridcolor": "white",
            "gridwidth": 2,
            "linecolor": "white",
            "showbackground": true,
            "showgrid": true,
            "tickcolor": "rgb(51,51,51)",
            "ticks": "outside",
            "zerolinecolor": "white"
           },
           "yaxis": {
            "backgroundcolor": "rgb(237,237,237)",
            "gridcolor": "white",
            "gridwidth": 2,
            "linecolor": "white",
            "showbackground": true,
            "showgrid": true,
            "tickcolor": "rgb(51,51,51)",
            "ticks": "outside",
            "zerolinecolor": "white"
           },
           "zaxis": {
            "backgroundcolor": "rgb(237,237,237)",
            "gridcolor": "white",
            "gridwidth": 2,
            "linecolor": "white",
            "showbackground": true,
            "showgrid": true,
            "tickcolor": "rgb(51,51,51)",
            "ticks": "outside",
            "zerolinecolor": "white"
           }
          },
          "shapedefaults": {
           "fillcolor": "black",
           "line": {
            "width": 0
           },
           "opacity": 0.3
          },
          "ternary": {
           "aaxis": {
            "gridcolor": "white",
            "linecolor": "white",
            "showgrid": true,
            "tickcolor": "rgb(51,51,51)",
            "ticks": "outside"
           },
           "baxis": {
            "gridcolor": "white",
            "linecolor": "white",
            "showgrid": true,
            "tickcolor": "rgb(51,51,51)",
            "ticks": "outside"
           },
           "bgcolor": "rgb(237,237,237)",
           "caxis": {
            "gridcolor": "white",
            "linecolor": "white",
            "showgrid": true,
            "tickcolor": "rgb(51,51,51)",
            "ticks": "outside"
           }
          },
          "xaxis": {
           "automargin": true,
           "gridcolor": "white",
           "linecolor": "white",
           "showgrid": true,
           "tickcolor": "rgb(51,51,51)",
           "ticks": "outside",
           "title": {
            "standoff": 15
           },
           "zerolinecolor": "white"
          },
          "yaxis": {
           "automargin": true,
           "gridcolor": "white",
           "linecolor": "white",
           "showgrid": true,
           "tickcolor": "rgb(51,51,51)",
           "ticks": "outside",
           "title": {
            "standoff": 15
           },
           "zerolinecolor": "white"
          }
         }
        },
        "title": {
         "text": "Actual vs. Forecast (Out-of-Sample)"
        },
        "xaxis": {
         "anchor": "y",
         "domain": [
          0,
          1
         ]
        },
        "yaxis": {
         "anchor": "x",
         "domain": [
          0,
          1
         ]
        }
       }
      }
     },
     "metadata": {},
     "output_type": "display_data"
    }
   ],
   "source": [
    "plot_model(final_exp, plot='forecast')"
   ]
  },
  {
   "cell_type": "code",
   "execution_count": 249,
   "id": "03899dfa",
   "metadata": {},
   "outputs": [],
   "source": [
    "#Plot prophet model forecast\n",
    "fig = plot_model(final_exp, plot='forecast', return_fig=True)\n",
    "\n",
    "# Save it as an HTML file\n",
    "pio.write_html(fig, file='BTC_EXP_1.html', auto_open=False)"
   ]
  },
  {
   "cell_type": "markdown",
   "id": "144bcdb9",
   "metadata": {},
   "source": [
    "BTC-USD ARIMA Model"
   ]
  },
  {
   "cell_type": "code",
   "execution_count": 241,
   "id": "8cb482c9",
   "metadata": {},
   "outputs": [
    {
     "data": {
      "text/html": [],
      "text/plain": [
       "<IPython.core.display.HTML object>"
      ]
     },
     "metadata": {},
     "output_type": "display_data"
    },
    {
     "data": {
      "text/html": [],
      "text/plain": [
       "<IPython.core.display.HTML object>"
      ]
     },
     "metadata": {},
     "output_type": "display_data"
    },
    {
     "data": {
      "text/html": [],
      "text/plain": [
       "<IPython.core.display.HTML object>"
      ]
     },
     "metadata": {},
     "output_type": "display_data"
    }
   ],
   "source": [
    "arima = create_model('arima')"
   ]
  },
  {
   "cell_type": "code",
   "execution_count": 242,
   "id": "bc6232f4",
   "metadata": {},
   "outputs": [
    {
     "data": {
      "text/html": [],
      "text/plain": [
       "<IPython.core.display.HTML object>"
      ]
     },
     "metadata": {},
     "output_type": "display_data"
    },
    {
     "data": {
      "text/html": [
       "<style type=\"text/css\">\n",
       "#T_1f296_row3_col0, #T_1f296_row3_col1, #T_1f296_row3_col2, #T_1f296_row3_col3, #T_1f296_row3_col4, #T_1f296_row3_col5, #T_1f296_row3_col6, #T_1f296_row3_col7 {\n",
       "  background: yellow;\n",
       "}\n",
       "</style>\n",
       "<table id=\"T_1f296\">\n",
       "  <thead>\n",
       "    <tr>\n",
       "      <th class=\"blank level0\" >&nbsp;</th>\n",
       "      <th id=\"T_1f296_level0_col0\" class=\"col_heading level0 col0\" >cutoff</th>\n",
       "      <th id=\"T_1f296_level0_col1\" class=\"col_heading level0 col1\" >MASE</th>\n",
       "      <th id=\"T_1f296_level0_col2\" class=\"col_heading level0 col2\" >RMSSE</th>\n",
       "      <th id=\"T_1f296_level0_col3\" class=\"col_heading level0 col3\" >MAE</th>\n",
       "      <th id=\"T_1f296_level0_col4\" class=\"col_heading level0 col4\" >RMSE</th>\n",
       "      <th id=\"T_1f296_level0_col5\" class=\"col_heading level0 col5\" >MAPE</th>\n",
       "      <th id=\"T_1f296_level0_col6\" class=\"col_heading level0 col6\" >SMAPE</th>\n",
       "      <th id=\"T_1f296_level0_col7\" class=\"col_heading level0 col7\" >R2</th>\n",
       "    </tr>\n",
       "  </thead>\n",
       "  <tbody>\n",
       "    <tr>\n",
       "      <th id=\"T_1f296_level0_row0\" class=\"row_heading level0 row0\" >0</th>\n",
       "      <td id=\"T_1f296_row0_col0\" class=\"data row0 col0\" >2024-12-31</td>\n",
       "      <td id=\"T_1f296_row0_col1\" class=\"data row0 col1\" >1.8012</td>\n",
       "      <td id=\"T_1f296_row0_col2\" class=\"data row0 col2\" >1.5835</td>\n",
       "      <td id=\"T_1f296_row0_col3\" class=\"data row0 col3\" >6663.0285</td>\n",
       "      <td id=\"T_1f296_row0_col4\" class=\"data row0 col4\" >7793.6827</td>\n",
       "      <td id=\"T_1f296_row0_col5\" class=\"data row0 col5\" >0.0652</td>\n",
       "      <td id=\"T_1f296_row0_col6\" class=\"data row0 col6\" >0.0682</td>\n",
       "      <td id=\"T_1f296_row0_col7\" class=\"data row0 col7\" >-2.7832</td>\n",
       "    </tr>\n",
       "    <tr>\n",
       "      <th id=\"T_1f296_level0_row1\" class=\"row_heading level0 row1\" >1</th>\n",
       "      <td id=\"T_1f296_row1_col0\" class=\"data row1 col0\" >2025-01-30</td>\n",
       "      <td id=\"T_1f296_row1_col1\" class=\"data row1 col1\" >2.3759</td>\n",
       "      <td id=\"T_1f296_row1_col2\" class=\"data row1 col2\" >2.0217</td>\n",
       "      <td id=\"T_1f296_row1_col3\" class=\"data row1 col3\" >8921.9082</td>\n",
       "      <td id=\"T_1f296_row1_col4\" class=\"data row1 col4\" >10015.9759</td>\n",
       "      <td id=\"T_1f296_row1_col5\" class=\"data row1 col5\" >0.0965</td>\n",
       "      <td id=\"T_1f296_row1_col6\" class=\"data row1 col6\" >0.0907</td>\n",
       "      <td id=\"T_1f296_row1_col7\" class=\"data row1 col7\" >-3.4879</td>\n",
       "    </tr>\n",
       "    <tr>\n",
       "      <th id=\"T_1f296_level0_row2\" class=\"row_heading level0 row2\" >2</th>\n",
       "      <td id=\"T_1f296_row2_col0\" class=\"data row2 col0\" >2025-03-01</td>\n",
       "      <td id=\"T_1f296_row2_col1\" class=\"data row2 col1\" >0.7163</td>\n",
       "      <td id=\"T_1f296_row2_col2\" class=\"data row2 col2\" >0.6697</td>\n",
       "      <td id=\"T_1f296_row2_col3\" class=\"data row2 col3\" >2704.0493</td>\n",
       "      <td id=\"T_1f296_row2_col4\" class=\"data row2 col4\" >3358.3243</td>\n",
       "      <td id=\"T_1f296_row2_col5\" class=\"data row2 col5\" >0.0320</td>\n",
       "      <td id=\"T_1f296_row2_col6\" class=\"data row2 col6\" >0.0317</td>\n",
       "      <td id=\"T_1f296_row2_col7\" class=\"data row2 col7\" >-0.1432</td>\n",
       "    </tr>\n",
       "    <tr>\n",
       "      <th id=\"T_1f296_level0_row3\" class=\"row_heading level0 row3\" >Mean</th>\n",
       "      <td id=\"T_1f296_row3_col0\" class=\"data row3 col0\" >NaT</td>\n",
       "      <td id=\"T_1f296_row3_col1\" class=\"data row3 col1\" >1.6311</td>\n",
       "      <td id=\"T_1f296_row3_col2\" class=\"data row3 col2\" >1.4250</td>\n",
       "      <td id=\"T_1f296_row3_col3\" class=\"data row3 col3\" >6096.3287</td>\n",
       "      <td id=\"T_1f296_row3_col4\" class=\"data row3 col4\" >7055.9943</td>\n",
       "      <td id=\"T_1f296_row3_col5\" class=\"data row3 col5\" >0.0645</td>\n",
       "      <td id=\"T_1f296_row3_col6\" class=\"data row3 col6\" >0.0635</td>\n",
       "      <td id=\"T_1f296_row3_col7\" class=\"data row3 col7\" >-2.1381</td>\n",
       "    </tr>\n",
       "    <tr>\n",
       "      <th id=\"T_1f296_level0_row4\" class=\"row_heading level0 row4\" >SD</th>\n",
       "      <td id=\"T_1f296_row4_col0\" class=\"data row4 col0\" >NaT</td>\n",
       "      <td id=\"T_1f296_row4_col1\" class=\"data row4 col1\" >0.6881</td>\n",
       "      <td id=\"T_1f296_row4_col2\" class=\"data row4 col2\" >0.5632</td>\n",
       "      <td id=\"T_1f296_row4_col3\" class=\"data row4 col3\" >2569.8643</td>\n",
       "      <td id=\"T_1f296_row4_col4\" class=\"data row4 col4\" >2767.5765</td>\n",
       "      <td id=\"T_1f296_row4_col5\" class=\"data row4 col5\" >0.0263</td>\n",
       "      <td id=\"T_1f296_row4_col6\" class=\"data row4 col6\" >0.0243</td>\n",
       "      <td id=\"T_1f296_row4_col7\" class=\"data row4 col7\" >1.4397</td>\n",
       "    </tr>\n",
       "  </tbody>\n",
       "</table>\n"
      ],
      "text/plain": [
       "<pandas.io.formats.style.Styler at 0x1b9c675b310>"
      ]
     },
     "metadata": {},
     "output_type": "display_data"
    },
    {
     "data": {
      "text/html": [],
      "text/plain": [
       "<IPython.core.display.HTML object>"
      ]
     },
     "metadata": {},
     "output_type": "display_data"
    },
    {
     "name": "stdout",
     "output_type": "stream",
     "text": [
      "Fitting 3 folds for each of 10 candidates, totalling 30 fits\n"
     ]
    },
    {
     "name": "stderr",
     "output_type": "stream",
     "text": [
      "[Parallel(n_jobs=-1)]: Using backend LokyBackend with 8 concurrent workers.\n",
      "[Parallel(n_jobs=-1)]: Done  30 out of  30 | elapsed:   13.4s finished\n"
     ]
    }
   ],
   "source": [
    "tuned_arima = tune_model(arima)"
   ]
  },
  {
   "cell_type": "code",
   "execution_count": 243,
   "id": "e00f67dd",
   "metadata": {},
   "outputs": [],
   "source": [
    "final_arima = finalize_model(tuned_arima)\n",
    "#future_dates = pd.date_range(df.index[-1], periods=30, freq='D')\n",
    "arima_predictions = predict_model(final_arima)"
   ]
  },
  {
   "cell_type": "code",
   "execution_count": 244,
   "id": "295e488c",
   "metadata": {},
   "outputs": [
    {
     "data": {
      "application/vnd.plotly.v1+json": {
       "config": {
        "plotlyServerURL": "https://plot.ly"
       },
       "data": [
        {
         "line": {
          "color": "#1f77b4"
         },
         "marker": {
          "size": 5
         },
         "mode": "lines+markers",
         "name": "Forecast | ARIMA",
         "showlegend": true,
         "type": "scatter",
         "x": [
          "2025-05-01T00:00:00",
          "2025-05-02T00:00:00",
          "2025-05-03T00:00:00",
          "2025-05-04T00:00:00",
          "2025-05-05T00:00:00",
          "2025-05-06T00:00:00",
          "2025-05-07T00:00:00",
          "2025-05-08T00:00:00",
          "2025-05-09T00:00:00",
          "2025-05-10T00:00:00",
          "2025-05-11T00:00:00",
          "2025-05-12T00:00:00",
          "2025-05-13T00:00:00",
          "2025-05-14T00:00:00",
          "2025-05-15T00:00:00",
          "2025-05-16T00:00:00",
          "2025-05-17T00:00:00",
          "2025-05-18T00:00:00",
          "2025-05-19T00:00:00",
          "2025-05-20T00:00:00",
          "2025-05-21T00:00:00",
          "2025-05-22T00:00:00",
          "2025-05-23T00:00:00",
          "2025-05-24T00:00:00",
          "2025-05-25T00:00:00",
          "2025-05-26T00:00:00",
          "2025-05-27T00:00:00",
          "2025-05-28T00:00:00",
          "2025-05-29T00:00:00",
          "2025-05-30T00:00:00"
         ],
         "y": {
          "bdata": "WmQ73zMw90CP5PIfOjH3QJkqGJXzK/dA2c73U6op90Aj2/l+Ehr3QB4Wak0p9fZABcWPMQHy9kAeFmpN7O72QBrAWyCs6PZAE2HD03zn9kAX2c73Lev2QHbgnBFE4vZAwFsgQcfk9kAvbqMBCN72QOoENBFm3fZABcWPMa7b9kAE54wokNr2QHsUrkcp2fZAS1mGOAfZ9kA5tMh27dr2QI9TdCSc2fZApb3BF0nY9kCuR+F6Q9f2QJSHhVrC1fZAZapgVMrT9kBd3EYDBtP2QHS1Ffsq0fZAjNtoADLQ9kDQ1Vbso872QJayDHEwzfZA",
          "dtype": "f8"
         }
        },
        {
         "line": {
          "width": 0
         },
         "marker": {
          "color": "#68BBE3"
         },
         "mode": "lines",
         "name": "Lower Interval",
         "showlegend": false,
         "type": "scatter",
         "x": [
          "2025-05-01T00:00:00",
          "2025-05-02T00:00:00",
          "2025-05-03T00:00:00",
          "2025-05-04T00:00:00",
          "2025-05-05T00:00:00",
          "2025-05-06T00:00:00",
          "2025-05-07T00:00:00",
          "2025-05-08T00:00:00",
          "2025-05-09T00:00:00",
          "2025-05-10T00:00:00",
          "2025-05-11T00:00:00",
          "2025-05-12T00:00:00",
          "2025-05-13T00:00:00",
          "2025-05-14T00:00:00",
          "2025-05-15T00:00:00",
          "2025-05-16T00:00:00",
          "2025-05-17T00:00:00",
          "2025-05-18T00:00:00",
          "2025-05-19T00:00:00",
          "2025-05-20T00:00:00",
          "2025-05-21T00:00:00",
          "2025-05-22T00:00:00",
          "2025-05-23T00:00:00",
          "2025-05-24T00:00:00",
          "2025-05-25T00:00:00",
          "2025-05-26T00:00:00",
          "2025-05-27T00:00:00",
          "2025-05-28T00:00:00",
          "2025-05-29T00:00:00",
          "2025-05-30T00:00:00"
         ],
         "y": {
          "bdata": "nzws1N1b9kBhw9MrsA72QHBfB842zPVAF9nO9+yV9UCR7Xw/U1j1QLx0kxi3CfVA2V92Tybg9ECTGARWR7n0QDojSntjkfRAt9EA3l5w9ECSy39IxlX0QGHD0yvqL/RApSxDHKkW9ED7OnDOMfXzQEi/fR253/NAejarPm3J80DtnjwsRLTzQJHtfD9Rn/NAB84ZURmM80C7uI0GWHvzQFJJnYDGZ/NAe4MvTJRU80Ch+DHmCkLzQDSitDdcL/NAqFfKMogc80Cn6EguNQvzQPwYc9cU+fJA8WPMXRzo8kDuWkI+etbyQDtwzog6xfJA",
          "dtype": "f8"
         }
        },
        {
         "fill": "tonexty",
         "fillcolor": "rgba(104,187,227,0.5)",
         "line": {
          "width": 0
         },
         "marker": {
          "color": "#68BBE3"
         },
         "mode": "lines",
         "name": "Prediction Interval | ARIMA",
         "showlegend": true,
         "type": "scatter",
         "x": [
          "2025-05-01T00:00:00",
          "2025-05-02T00:00:00",
          "2025-05-03T00:00:00",
          "2025-05-04T00:00:00",
          "2025-05-05T00:00:00",
          "2025-05-06T00:00:00",
          "2025-05-07T00:00:00",
          "2025-05-08T00:00:00",
          "2025-05-09T00:00:00",
          "2025-05-10T00:00:00",
          "2025-05-11T00:00:00",
          "2025-05-12T00:00:00",
          "2025-05-13T00:00:00",
          "2025-05-14T00:00:00",
          "2025-05-15T00:00:00",
          "2025-05-16T00:00:00",
          "2025-05-17T00:00:00",
          "2025-05-18T00:00:00",
          "2025-05-19T00:00:00",
          "2025-05-20T00:00:00",
          "2025-05-21T00:00:00",
          "2025-05-22T00:00:00",
          "2025-05-23T00:00:00",
          "2025-05-24T00:00:00",
          "2025-05-25T00:00:00",
          "2025-05-26T00:00:00",
          "2025-05-27T00:00:00",
          "2025-05-28T00:00:00",
          "2025-05-29T00:00:00",
          "2025-05-30T00:00:00"
         ],
         "y": {
          "bdata": "FYxK6okE+EC8BRIUxFP4QE7RkVywi/hAEOm3r2e9+EBApN++0dv4QPXb14Gb4PhAMCqpE9wD+UAdOGdEkST5QPtcbcX0P/lAb/CFyZpe+UCb5h2nlYD5QIv9ZfedlPlA24r9ZeWy+UBiodY03sb5QABvgQQT2/lAGy/dJO/t+UAbL90k3AD6QGQ7308BE/pAj+TyH/Ul+kC4rwPngjr6QEGC4sdxS/pAz/dT4/1b+kC8lpAPfGz6QGiR7XwofPpAIv32dQyL+kCI9NvX1pr6QGB2Tx5BqfpAsi5uo0e4+kA9LNSazcb6QPH0Slkm1fpA",
          "dtype": "f8"
         }
        },
        {
         "marker": {
          "color": "#3f3f3f",
          "size": 5
         },
         "mode": "lines+markers",
         "name": "Original",
         "showlegend": true,
         "type": "scatter",
         "x": [
          "2024-05-01T00:00:00",
          "2024-05-02T00:00:00",
          "2024-05-03T00:00:00",
          "2024-05-04T00:00:00",
          "2024-05-05T00:00:00",
          "2024-05-06T00:00:00",
          "2024-05-07T00:00:00",
          "2024-05-08T00:00:00",
          "2024-05-09T00:00:00",
          "2024-05-10T00:00:00",
          "2024-05-11T00:00:00",
          "2024-05-12T00:00:00",
          "2024-05-13T00:00:00",
          "2024-05-14T00:00:00",
          "2024-05-15T00:00:00",
          "2024-05-16T00:00:00",
          "2024-05-17T00:00:00",
          "2024-05-18T00:00:00",
          "2024-05-19T00:00:00",
          "2024-05-20T00:00:00",
          "2024-05-21T00:00:00",
          "2024-05-22T00:00:00",
          "2024-05-23T00:00:00",
          "2024-05-24T00:00:00",
          "2024-05-25T00:00:00",
          "2024-05-26T00:00:00",
          "2024-05-27T00:00:00",
          "2024-05-28T00:00:00",
          "2024-05-29T00:00:00",
          "2024-05-30T00:00:00",
          "2024-05-31T00:00:00",
          "2024-06-01T00:00:00",
          "2024-06-02T00:00:00",
          "2024-06-03T00:00:00",
          "2024-06-04T00:00:00",
          "2024-06-05T00:00:00",
          "2024-06-06T00:00:00",
          "2024-06-07T00:00:00",
          "2024-06-08T00:00:00",
          "2024-06-09T00:00:00",
          "2024-06-10T00:00:00",
          "2024-06-11T00:00:00",
          "2024-06-12T00:00:00",
          "2024-06-13T00:00:00",
          "2024-06-14T00:00:00",
          "2024-06-15T00:00:00",
          "2024-06-16T00:00:00",
          "2024-06-17T00:00:00",
          "2024-06-18T00:00:00",
          "2024-06-19T00:00:00",
          "2024-06-20T00:00:00",
          "2024-06-21T00:00:00",
          "2024-06-22T00:00:00",
          "2024-06-23T00:00:00",
          "2024-06-24T00:00:00",
          "2024-06-25T00:00:00",
          "2024-06-26T00:00:00",
          "2024-06-27T00:00:00",
          "2024-06-28T00:00:00",
          "2024-06-29T00:00:00",
          "2024-06-30T00:00:00",
          "2024-07-01T00:00:00",
          "2024-07-02T00:00:00",
          "2024-07-03T00:00:00",
          "2024-07-04T00:00:00",
          "2024-07-05T00:00:00",
          "2024-07-06T00:00:00",
          "2024-07-07T00:00:00",
          "2024-07-08T00:00:00",
          "2024-07-09T00:00:00",
          "2024-07-10T00:00:00",
          "2024-07-11T00:00:00",
          "2024-07-12T00:00:00",
          "2024-07-13T00:00:00",
          "2024-07-14T00:00:00",
          "2024-07-15T00:00:00",
          "2024-07-16T00:00:00",
          "2024-07-17T00:00:00",
          "2024-07-18T00:00:00",
          "2024-07-19T00:00:00",
          "2024-07-20T00:00:00",
          "2024-07-21T00:00:00",
          "2024-07-22T00:00:00",
          "2024-07-23T00:00:00",
          "2024-07-24T00:00:00",
          "2024-07-25T00:00:00",
          "2024-07-26T00:00:00",
          "2024-07-27T00:00:00",
          "2024-07-28T00:00:00",
          "2024-07-29T00:00:00",
          "2024-07-30T00:00:00",
          "2024-07-31T00:00:00",
          "2024-08-01T00:00:00",
          "2024-08-02T00:00:00",
          "2024-08-03T00:00:00",
          "2024-08-04T00:00:00",
          "2024-08-05T00:00:00",
          "2024-08-06T00:00:00",
          "2024-08-07T00:00:00",
          "2024-08-08T00:00:00",
          "2024-08-09T00:00:00",
          "2024-08-10T00:00:00",
          "2024-08-11T00:00:00",
          "2024-08-12T00:00:00",
          "2024-08-13T00:00:00",
          "2024-08-14T00:00:00",
          "2024-08-15T00:00:00",
          "2024-08-16T00:00:00",
          "2024-08-17T00:00:00",
          "2024-08-18T00:00:00",
          "2024-08-19T00:00:00",
          "2024-08-20T00:00:00",
          "2024-08-21T00:00:00",
          "2024-08-22T00:00:00",
          "2024-08-23T00:00:00",
          "2024-08-24T00:00:00",
          "2024-08-25T00:00:00",
          "2024-08-26T00:00:00",
          "2024-08-27T00:00:00",
          "2024-08-28T00:00:00",
          "2024-08-29T00:00:00",
          "2024-08-30T00:00:00",
          "2024-08-31T00:00:00",
          "2024-09-01T00:00:00",
          "2024-09-02T00:00:00",
          "2024-09-03T00:00:00",
          "2024-09-04T00:00:00",
          "2024-09-05T00:00:00",
          "2024-09-06T00:00:00",
          "2024-09-07T00:00:00",
          "2024-09-08T00:00:00",
          "2024-09-09T00:00:00",
          "2024-09-10T00:00:00",
          "2024-09-11T00:00:00",
          "2024-09-12T00:00:00",
          "2024-09-13T00:00:00",
          "2024-09-14T00:00:00",
          "2024-09-15T00:00:00",
          "2024-09-16T00:00:00",
          "2024-09-17T00:00:00",
          "2024-09-18T00:00:00",
          "2024-09-19T00:00:00",
          "2024-09-20T00:00:00",
          "2024-09-21T00:00:00",
          "2024-09-22T00:00:00",
          "2024-09-23T00:00:00",
          "2024-09-24T00:00:00",
          "2024-09-25T00:00:00",
          "2024-09-26T00:00:00",
          "2024-09-27T00:00:00",
          "2024-09-28T00:00:00",
          "2024-09-29T00:00:00",
          "2024-09-30T00:00:00",
          "2024-10-01T00:00:00",
          "2024-10-02T00:00:00",
          "2024-10-03T00:00:00",
          "2024-10-04T00:00:00",
          "2024-10-05T00:00:00",
          "2024-10-06T00:00:00",
          "2024-10-07T00:00:00",
          "2024-10-08T00:00:00",
          "2024-10-09T00:00:00",
          "2024-10-10T00:00:00",
          "2024-10-11T00:00:00",
          "2024-10-12T00:00:00",
          "2024-10-13T00:00:00",
          "2024-10-14T00:00:00",
          "2024-10-15T00:00:00",
          "2024-10-16T00:00:00",
          "2024-10-17T00:00:00",
          "2024-10-18T00:00:00",
          "2024-10-19T00:00:00",
          "2024-10-20T00:00:00",
          "2024-10-21T00:00:00",
          "2024-10-22T00:00:00",
          "2024-10-23T00:00:00",
          "2024-10-24T00:00:00",
          "2024-10-25T00:00:00",
          "2024-10-26T00:00:00",
          "2024-10-27T00:00:00",
          "2024-10-28T00:00:00",
          "2024-10-29T00:00:00",
          "2024-10-30T00:00:00",
          "2024-10-31T00:00:00",
          "2024-11-01T00:00:00",
          "2024-11-02T00:00:00",
          "2024-11-03T00:00:00",
          "2024-11-04T00:00:00",
          "2024-11-05T00:00:00",
          "2024-11-06T00:00:00",
          "2024-11-07T00:00:00",
          "2024-11-08T00:00:00",
          "2024-11-09T00:00:00",
          "2024-11-10T00:00:00",
          "2024-11-11T00:00:00",
          "2024-11-12T00:00:00",
          "2024-11-13T00:00:00",
          "2024-11-14T00:00:00",
          "2024-11-15T00:00:00",
          "2024-11-16T00:00:00",
          "2024-11-17T00:00:00",
          "2024-11-18T00:00:00",
          "2024-11-19T00:00:00",
          "2024-11-20T00:00:00",
          "2024-11-21T00:00:00",
          "2024-11-22T00:00:00",
          "2024-11-23T00:00:00",
          "2024-11-24T00:00:00",
          "2024-11-25T00:00:00",
          "2024-11-26T00:00:00",
          "2024-11-27T00:00:00",
          "2024-11-28T00:00:00",
          "2024-11-29T00:00:00",
          "2024-11-30T00:00:00",
          "2024-12-01T00:00:00",
          "2024-12-02T00:00:00",
          "2024-12-03T00:00:00",
          "2024-12-04T00:00:00",
          "2024-12-05T00:00:00",
          "2024-12-06T00:00:00",
          "2024-12-07T00:00:00",
          "2024-12-08T00:00:00",
          "2024-12-09T00:00:00",
          "2024-12-10T00:00:00",
          "2024-12-11T00:00:00",
          "2024-12-12T00:00:00",
          "2024-12-13T00:00:00",
          "2024-12-14T00:00:00",
          "2024-12-15T00:00:00",
          "2024-12-16T00:00:00",
          "2024-12-17T00:00:00",
          "2024-12-18T00:00:00",
          "2024-12-19T00:00:00",
          "2024-12-20T00:00:00",
          "2024-12-21T00:00:00",
          "2024-12-22T00:00:00",
          "2024-12-23T00:00:00",
          "2024-12-24T00:00:00",
          "2024-12-25T00:00:00",
          "2024-12-26T00:00:00",
          "2024-12-27T00:00:00",
          "2024-12-28T00:00:00",
          "2024-12-29T00:00:00",
          "2024-12-30T00:00:00",
          "2024-12-31T00:00:00",
          "2025-01-01T00:00:00",
          "2025-01-02T00:00:00",
          "2025-01-03T00:00:00",
          "2025-01-04T00:00:00",
          "2025-01-05T00:00:00",
          "2025-01-06T00:00:00",
          "2025-01-07T00:00:00",
          "2025-01-08T00:00:00",
          "2025-01-09T00:00:00",
          "2025-01-10T00:00:00",
          "2025-01-11T00:00:00",
          "2025-01-12T00:00:00",
          "2025-01-13T00:00:00",
          "2025-01-14T00:00:00",
          "2025-01-15T00:00:00",
          "2025-01-16T00:00:00",
          "2025-01-17T00:00:00",
          "2025-01-18T00:00:00",
          "2025-01-19T00:00:00",
          "2025-01-20T00:00:00",
          "2025-01-21T00:00:00",
          "2025-01-22T00:00:00",
          "2025-01-23T00:00:00",
          "2025-01-24T00:00:00",
          "2025-01-25T00:00:00",
          "2025-01-26T00:00:00",
          "2025-01-27T00:00:00",
          "2025-01-28T00:00:00",
          "2025-01-29T00:00:00",
          "2025-01-30T00:00:00",
          "2025-01-31T00:00:00",
          "2025-02-01T00:00:00",
          "2025-02-02T00:00:00",
          "2025-02-03T00:00:00",
          "2025-02-04T00:00:00",
          "2025-02-05T00:00:00",
          "2025-02-06T00:00:00",
          "2025-02-07T00:00:00",
          "2025-02-08T00:00:00",
          "2025-02-09T00:00:00",
          "2025-02-10T00:00:00",
          "2025-02-11T00:00:00",
          "2025-02-12T00:00:00",
          "2025-02-13T00:00:00",
          "2025-02-14T00:00:00",
          "2025-02-15T00:00:00",
          "2025-02-16T00:00:00",
          "2025-02-17T00:00:00",
          "2025-02-18T00:00:00",
          "2025-02-19T00:00:00",
          "2025-02-20T00:00:00",
          "2025-02-21T00:00:00",
          "2025-02-22T00:00:00",
          "2025-02-23T00:00:00",
          "2025-02-24T00:00:00",
          "2025-02-25T00:00:00",
          "2025-02-26T00:00:00",
          "2025-02-27T00:00:00",
          "2025-02-28T00:00:00",
          "2025-03-01T00:00:00",
          "2025-03-02T00:00:00",
          "2025-03-03T00:00:00",
          "2025-03-04T00:00:00",
          "2025-03-05T00:00:00",
          "2025-03-06T00:00:00",
          "2025-03-07T00:00:00",
          "2025-03-08T00:00:00",
          "2025-03-09T00:00:00",
          "2025-03-10T00:00:00",
          "2025-03-11T00:00:00",
          "2025-03-12T00:00:00",
          "2025-03-13T00:00:00",
          "2025-03-14T00:00:00",
          "2025-03-15T00:00:00",
          "2025-03-16T00:00:00",
          "2025-03-17T00:00:00",
          "2025-03-18T00:00:00",
          "2025-03-19T00:00:00",
          "2025-03-20T00:00:00",
          "2025-03-21T00:00:00",
          "2025-03-22T00:00:00",
          "2025-03-23T00:00:00",
          "2025-03-24T00:00:00",
          "2025-03-25T00:00:00",
          "2025-03-26T00:00:00",
          "2025-03-27T00:00:00",
          "2025-03-28T00:00:00",
          "2025-03-29T00:00:00",
          "2025-03-30T00:00:00",
          "2025-03-31T00:00:00",
          "2025-04-01T00:00:00",
          "2025-04-02T00:00:00",
          "2025-04-03T00:00:00",
          "2025-04-04T00:00:00",
          "2025-04-05T00:00:00",
          "2025-04-06T00:00:00",
          "2025-04-07T00:00:00",
          "2025-04-08T00:00:00",
          "2025-04-09T00:00:00",
          "2025-04-10T00:00:00",
          "2025-04-11T00:00:00",
          "2025-04-12T00:00:00",
          "2025-04-13T00:00:00",
          "2025-04-14T00:00:00",
          "2025-04-15T00:00:00",
          "2025-04-16T00:00:00",
          "2025-04-17T00:00:00",
          "2025-04-18T00:00:00",
          "2025-04-19T00:00:00",
          "2025-04-20T00:00:00",
          "2025-04-21T00:00:00",
          "2025-04-22T00:00:00",
          "2025-04-23T00:00:00",
          "2025-04-24T00:00:00",
          "2025-04-25T00:00:00",
          "2025-04-26T00:00:00",
          "2025-04-27T00:00:00",
          "2025-04-28T00:00:00",
          "2025-04-29T00:00:00",
          "2025-04-30T00:00:00"
         ],
         "y": {
          "bdata": "AAAAYMBx7EAAAADgbd7sQAAAAMA6te5AAAAAIG8y70AAAABA5EPvQAAAAGA+1+5AAAAAINpv7kAAAAAgfuDtQAAAAMA+ye5AAAAA4Biv7UAAAADANq/tQAAAAKAMAe5AAAAAYK627kAAAABAGQ7uQAAAAOC3LfBAAAAAoPLZ70AAAAAAvl7wQAAAAODMV/BAAAAA4GUu8EAAAAAgg3HxQAAAAICIH/FAAAAAYCXg8EAAAAAAmZXwQAAAAKDhuvBAAAAAIB/p8EAAAACAYbrwQAAAAOAo8fBAAAAAgIOs8EAAAACAoX/wQAAAAODPsPBAAAAAoDZ68EAAAAAAr4fwQAAAAKB5ivBAAAAAgEzM8EAAAABAfDrxQAAAACCtWvFAAAAAoFJG8UAAAABg6e3wQAAAAGCc6/BAAAAA4P8A8UAAAACAhPjwQAAAAIBAcPBAAAAAABOp8EAAAABgRkzwQAAAAICxHfBAAAAAAPAo8EAAAADA8ETwQAAAAMCkO/BAAAAA4JfO70AAAACACbjvQAAAAACVp+9AAAAAYAZM70AAAACAkl/vQAAAAICZ2e5AAAAAQK1u7UAAAACAlC3uQAAAAOBose1AAAAAoJkU7kAAAABgBHTtQAAAACDsuu1AAAAAYMma7kAAAABgf7DuQAAAAICgSe5AAAAAgL1h7UAAAACANtLrQAAAAADMqutAAAAAQPF37EAAAACAI0XrQAAAACAjsOtAAAAAQCdT7EAAAADgzzHsQAAAAEAdAOxAAAAA4G5F7EAAAACA/uvsQAAAAGB5ru1AAAAA4MSs70AAAADAJMnvQAAAAGDZTu9AAAAAIMI870AAAACAYknwQAAAAGC6ZfBAAAAAYKij8EAAAAAAFIDwQAAAAMB6GPBAAAAAQITr70AAAACgEw/wQAAAAACBlPBAAAAAYFWO8EAAAADg/anwQAAAAKA+UPBAAAAAQJAp8EAAAAAAaI3vQAAAAACw6e9AAAAAIOL87UAAAAAAA6HtQAAAAECfYOxAAAAAoO5c6kAAAAAgSlzrQAAAAMBu3upAAAAAYMQh7kAAAACgA7rtQAAAAAA6wu1AAAAAgO+r7EAAAACAUPvsQAAAACAymO1AAAAAoCiu7EAAAAAgAxvsQAAAAGDDwexAAAAAIN8K7UAAAADgfo7sQAAAAICuDO1AAAAAYJnQ7EAAAAAg5t7tQAAAAEC9e+1AAAAAYMtL70AAAADAX1bvQAAAAGCxae9AAAAAIBW07kAAAABABA7tQAAAAAB00uxAAAAAwIX/7EAAAABA793sQAAAAMA8y+xAAAAAoK/960AAAABgD93sQAAAAMDgCuxAAAAAQHFO7EAAAACgD2zrQAAAACCYV+pAAAAAAHZv6kAAAAAgMsfqQAAAACBx1+tAAAAAwBYm7EAAAACA5f/rQAAAAGDgYexAAAAAoGmT7UAAAADgo0ztQAAAAMDa5exAAAAAQBBq7EAAAABAkXLtQAAAAMA1Gu5AAAAAoI677kAAAABAH9vuQAAAAOBa9O5AAAAAwBYU70AAAACgOezuQAAAAAC/Ze9AAAAAoOTU7kAAAACgoNPvQAAAAKDqD/BAAAAAYPoV8EAAAADgNAbwQAAAAAAw7O5AAAAAQKC07UAAAAAgGZvtQAAAAODsqu1AAAAAQG9O7kAAAABgPlHuQAAAAIBerO5AAAAAIJVj7kAAAAAAf1buQAAAAEDDlO1AAAAAAFBu7UAAAADgon3uQAAAAMAg2+5AAAAAAGyw7kAAAAAA4h/wQAAAAMARXvBAAAAAgMuB8EAAAABgfXTwQAAAAKAstPBAAAAAwKuw8EAAAABAm9jwQAAAAKB9cvBAAAAAgBZy8EAAAAAgAzjwQAAAAOAQpPBAAAAAoCZF8EAAAAAga1zwQAAAAMCUlfBAAAAAIDwR8UAAAADgB8HxQAAAAKA4qfFAAAAAAHMk8UAAAACAp/bwQAAAAGCU6vBAAAAA4FHI8EAAAAAgOI7wQAAAAAD57vBAAAAAQHF38kAAAADADYjyQAAAAKAXsPJAAAAA4K2+8kAAAAAAo6XzQAAAAMDXp/VAAAAAAD159UAAAACggh32QAAAAOAmTfVAAAAAIKA79kAAAACg5xv2QAAAAKBd7/VAAAAAQOoa9kAAAACgfIv2QAAAAOA3CPdAAAAAoIsM+EAAAACgWiv4QAAAAIAU3/dAAAAAIN3t90AAAADA5Lr2QAAAACAVdfZAAAAAgKht90AAAACAR1r3QAAAAGBYy/dAAAAA4BCM90AAAACg/L/3QAAAAOCUZ/dAAAAAoCJw90AAAACACB34QAAAACAZlfdAAAAAYAtl+EAAAABgNWX4QAAAAEBAt/hAAAAAgIvJ90AAAADgNpr3QAAAAIBQs/hAAAAAALBs+EAAAAAgNMX4QAAAAIDPv/hAAAAAIKt2+UAAAACA2+L5QAAAAKDJ6flAAAAAoJhs+EAAAABAL833QAAAAOC+3fdAAAAAoIu890AAAAAADzj3QAAAAODjHfdAAAAAgEEX+EAAAAAgMz74QAAAAEA4Y/dAAAAAwE399kAAAADgvjv3QAAAAKCj1fZAAAAAYDOe9kAAAABAU8/2QAAAACA8DfdAAAAAAG6n90AAAADgtvP3QAAAAKDD+/dAAAAAYK8A+EAAAABg4ev4QAAAAECrqfdAAAAAYDg090AAAACgQJT2QAAAAEDXHvdAAAAAgGkW90AAAAAAhxH3QAAAAGBIE/dAAAAAwGCR90AAAADgh4n4QAAAAIDOWvhAAAAAoOCA+UAAAAAggX35QAAAAMAZrvhAAAAAoAro+EAAAABAJOr5QAAAACBRTvlAAAAAwIJh+UAAAADAN5f5QAAAAGCqkPlAAAAAAKgR+UAAAAAAe+z4QAAAAKBHvfhAAAAAYHNR+UAAAADg9JH5QAAAAGBQAPlAAAAAgP6S+EAAAACgj9n3QAAAAMDWwfhAAAAAIP3k90AAAAAgd5b3QAAAAMAUlfdAAAAAYBGR90AAAABAJ473QAAAAIBBj/dAAAAA4NjJ90AAAADgNmD3QAAAAMDd5fdAAAAA4P2W90AAAACAT873QAAAAKDF0vdAAAAAgPB690AAAAAg1mH3QAAAAMA4U/dAAAAAwLmX90AAAAAA3wH4QAAAAMDYd/dAAAAAIByU90AAAADAHoH3QAAAAMCiUfZAAAAAwAKq9UAAAABgsJf0QAAAAKADrvRAAAAAIFCZ9EAAAACg/gD1QAAAAKCFAvdAAAAAwBoD9UAAAAAgY0v1QAAAAAD5H/ZAAAAAoJv29UAAAADAai31QAAAAICpCPVAAAAAoJCt80AAAAAAQCzzQAAAAGDjOvRAAAAAwKVw9EAAAABAq8rzQAAAAKARgPRAAAAAwHGX9EAAAAAAOyn0QAAAAAC7hvRAAAAAAOgx9EAAAACgYzT1QAAAACBzjPRAAAAA4LOE9EAAAADAh3f0QAAAAABmAvVAAAAAoK5c9UAAAABA+1r1QAAAACBON/VAAAAAoJFI9UAAAABgEpj0QAAAAGBZKvRAAAAAYOgZ9EAAAACgTif0QAAAAMASy/RAAAAAYFsj9EAAAABA7Un0QAAAAOA8ePRAAAAAwAxj9EAAAADAZxjzQAAAAGA1WPNAAAAAQP+e8kAAAABA3yj0QAAAAECicPNAAAAAYM1c9EAAAADAcdL0QAAAAKBPbvRAAAAAQOaj9EAAAADgT230QAAAAOAdhPRAAAAAAPy59EAAAADgLJ70QAAAAKB2xPRAAAAA4GTL9EAAAACA7l31QAAAAEAe0PZAAAAAwDHg9kAAAADAfO/2QAAAAAAIIPdAAAAA4G4b90AAAACAreP2QAAAAAAsMPdAAAAAoMwE90AAAACAkjr3QA==",
          "dtype": "f8"
         }
        }
       ],
       "layout": {
        "showlegend": true,
        "template": {
         "data": {
          "bar": [
           {
            "error_x": {
             "color": "rgb(51,51,51)"
            },
            "error_y": {
             "color": "rgb(51,51,51)"
            },
            "marker": {
             "line": {
              "color": "rgb(237,237,237)",
              "width": 0.5
             },
             "pattern": {
              "fillmode": "overlay",
              "size": 10,
              "solidity": 0.2
             }
            },
            "type": "bar"
           }
          ],
          "barpolar": [
           {
            "marker": {
             "line": {
              "color": "rgb(237,237,237)",
              "width": 0.5
             },
             "pattern": {
              "fillmode": "overlay",
              "size": 10,
              "solidity": 0.2
             }
            },
            "type": "barpolar"
           }
          ],
          "carpet": [
           {
            "aaxis": {
             "endlinecolor": "rgb(51,51,51)",
             "gridcolor": "white",
             "linecolor": "white",
             "minorgridcolor": "white",
             "startlinecolor": "rgb(51,51,51)"
            },
            "baxis": {
             "endlinecolor": "rgb(51,51,51)",
             "gridcolor": "white",
             "linecolor": "white",
             "minorgridcolor": "white",
             "startlinecolor": "rgb(51,51,51)"
            },
            "type": "carpet"
           }
          ],
          "choropleth": [
           {
            "colorbar": {
             "outlinewidth": 0,
             "tickcolor": "rgb(237,237,237)",
             "ticklen": 6,
             "ticks": "inside"
            },
            "type": "choropleth"
           }
          ],
          "contour": [
           {
            "colorbar": {
             "outlinewidth": 0,
             "tickcolor": "rgb(237,237,237)",
             "ticklen": 6,
             "ticks": "inside"
            },
            "colorscale": [
             [
              0,
              "rgb(20,44,66)"
             ],
             [
              1,
              "rgb(90,179,244)"
             ]
            ],
            "type": "contour"
           }
          ],
          "contourcarpet": [
           {
            "colorbar": {
             "outlinewidth": 0,
             "tickcolor": "rgb(237,237,237)",
             "ticklen": 6,
             "ticks": "inside"
            },
            "type": "contourcarpet"
           }
          ],
          "heatmap": [
           {
            "colorbar": {
             "outlinewidth": 0,
             "tickcolor": "rgb(237,237,237)",
             "ticklen": 6,
             "ticks": "inside"
            },
            "colorscale": [
             [
              0,
              "rgb(20,44,66)"
             ],
             [
              1,
              "rgb(90,179,244)"
             ]
            ],
            "type": "heatmap"
           }
          ],
          "histogram": [
           {
            "marker": {
             "pattern": {
              "fillmode": "overlay",
              "size": 10,
              "solidity": 0.2
             }
            },
            "type": "histogram"
           }
          ],
          "histogram2d": [
           {
            "colorbar": {
             "outlinewidth": 0,
             "tickcolor": "rgb(237,237,237)",
             "ticklen": 6,
             "ticks": "inside"
            },
            "colorscale": [
             [
              0,
              "rgb(20,44,66)"
             ],
             [
              1,
              "rgb(90,179,244)"
             ]
            ],
            "type": "histogram2d"
           }
          ],
          "histogram2dcontour": [
           {
            "colorbar": {
             "outlinewidth": 0,
             "tickcolor": "rgb(237,237,237)",
             "ticklen": 6,
             "ticks": "inside"
            },
            "colorscale": [
             [
              0,
              "rgb(20,44,66)"
             ],
             [
              1,
              "rgb(90,179,244)"
             ]
            ],
            "type": "histogram2dcontour"
           }
          ],
          "mesh3d": [
           {
            "colorbar": {
             "outlinewidth": 0,
             "tickcolor": "rgb(237,237,237)",
             "ticklen": 6,
             "ticks": "inside"
            },
            "type": "mesh3d"
           }
          ],
          "parcoords": [
           {
            "line": {
             "colorbar": {
              "outlinewidth": 0,
              "tickcolor": "rgb(237,237,237)",
              "ticklen": 6,
              "ticks": "inside"
             }
            },
            "type": "parcoords"
           }
          ],
          "pie": [
           {
            "automargin": true,
            "type": "pie"
           }
          ],
          "scatter": [
           {
            "fillpattern": {
             "fillmode": "overlay",
             "size": 10,
             "solidity": 0.2
            },
            "type": "scatter"
           }
          ],
          "scatter3d": [
           {
            "line": {
             "colorbar": {
              "outlinewidth": 0,
              "tickcolor": "rgb(237,237,237)",
              "ticklen": 6,
              "ticks": "inside"
             }
            },
            "marker": {
             "colorbar": {
              "outlinewidth": 0,
              "tickcolor": "rgb(237,237,237)",
              "ticklen": 6,
              "ticks": "inside"
             }
            },
            "type": "scatter3d"
           }
          ],
          "scattercarpet": [
           {
            "marker": {
             "colorbar": {
              "outlinewidth": 0,
              "tickcolor": "rgb(237,237,237)",
              "ticklen": 6,
              "ticks": "inside"
             }
            },
            "type": "scattercarpet"
           }
          ],
          "scattergeo": [
           {
            "marker": {
             "colorbar": {
              "outlinewidth": 0,
              "tickcolor": "rgb(237,237,237)",
              "ticklen": 6,
              "ticks": "inside"
             }
            },
            "type": "scattergeo"
           }
          ],
          "scattergl": [
           {
            "marker": {
             "colorbar": {
              "outlinewidth": 0,
              "tickcolor": "rgb(237,237,237)",
              "ticklen": 6,
              "ticks": "inside"
             }
            },
            "type": "scattergl"
           }
          ],
          "scattermap": [
           {
            "marker": {
             "colorbar": {
              "outlinewidth": 0,
              "tickcolor": "rgb(237,237,237)",
              "ticklen": 6,
              "ticks": "inside"
             }
            },
            "type": "scattermap"
           }
          ],
          "scattermapbox": [
           {
            "marker": {
             "colorbar": {
              "outlinewidth": 0,
              "tickcolor": "rgb(237,237,237)",
              "ticklen": 6,
              "ticks": "inside"
             }
            },
            "type": "scattermapbox"
           }
          ],
          "scatterpolar": [
           {
            "marker": {
             "colorbar": {
              "outlinewidth": 0,
              "tickcolor": "rgb(237,237,237)",
              "ticklen": 6,
              "ticks": "inside"
             }
            },
            "type": "scatterpolar"
           }
          ],
          "scatterpolargl": [
           {
            "marker": {
             "colorbar": {
              "outlinewidth": 0,
              "tickcolor": "rgb(237,237,237)",
              "ticklen": 6,
              "ticks": "inside"
             }
            },
            "type": "scatterpolargl"
           }
          ],
          "scatterternary": [
           {
            "marker": {
             "colorbar": {
              "outlinewidth": 0,
              "tickcolor": "rgb(237,237,237)",
              "ticklen": 6,
              "ticks": "inside"
             }
            },
            "type": "scatterternary"
           }
          ],
          "surface": [
           {
            "colorbar": {
             "outlinewidth": 0,
             "tickcolor": "rgb(237,237,237)",
             "ticklen": 6,
             "ticks": "inside"
            },
            "colorscale": [
             [
              0,
              "rgb(20,44,66)"
             ],
             [
              1,
              "rgb(90,179,244)"
             ]
            ],
            "type": "surface"
           }
          ],
          "table": [
           {
            "cells": {
             "fill": {
              "color": "rgb(237,237,237)"
             },
             "line": {
              "color": "white"
             }
            },
            "header": {
             "fill": {
              "color": "rgb(217,217,217)"
             },
             "line": {
              "color": "white"
             }
            },
            "type": "table"
           }
          ]
         },
         "layout": {
          "annotationdefaults": {
           "arrowhead": 0,
           "arrowwidth": 1
          },
          "autotypenumbers": "strict",
          "coloraxis": {
           "colorbar": {
            "outlinewidth": 0,
            "tickcolor": "rgb(237,237,237)",
            "ticklen": 6,
            "ticks": "inside"
           }
          },
          "colorscale": {
           "sequential": [
            [
             0,
             "rgb(20,44,66)"
            ],
            [
             1,
             "rgb(90,179,244)"
            ]
           ],
           "sequentialminus": [
            [
             0,
             "rgb(20,44,66)"
            ],
            [
             1,
             "rgb(90,179,244)"
            ]
           ]
          },
          "colorway": [
           "#F8766D",
           "#A3A500",
           "#00BF7D",
           "#00B0F6",
           "#E76BF3"
          ],
          "font": {
           "color": "rgb(51,51,51)"
          },
          "geo": {
           "bgcolor": "white",
           "lakecolor": "white",
           "landcolor": "rgb(237,237,237)",
           "showlakes": true,
           "showland": true,
           "subunitcolor": "white"
          },
          "hoverlabel": {
           "align": "left"
          },
          "hovermode": "closest",
          "paper_bgcolor": "white",
          "plot_bgcolor": "rgb(237,237,237)",
          "polar": {
           "angularaxis": {
            "gridcolor": "white",
            "linecolor": "white",
            "showgrid": true,
            "tickcolor": "rgb(51,51,51)",
            "ticks": "outside"
           },
           "bgcolor": "rgb(237,237,237)",
           "radialaxis": {
            "gridcolor": "white",
            "linecolor": "white",
            "showgrid": true,
            "tickcolor": "rgb(51,51,51)",
            "ticks": "outside"
           }
          },
          "scene": {
           "xaxis": {
            "backgroundcolor": "rgb(237,237,237)",
            "gridcolor": "white",
            "gridwidth": 2,
            "linecolor": "white",
            "showbackground": true,
            "showgrid": true,
            "tickcolor": "rgb(51,51,51)",
            "ticks": "outside",
            "zerolinecolor": "white"
           },
           "yaxis": {
            "backgroundcolor": "rgb(237,237,237)",
            "gridcolor": "white",
            "gridwidth": 2,
            "linecolor": "white",
            "showbackground": true,
            "showgrid": true,
            "tickcolor": "rgb(51,51,51)",
            "ticks": "outside",
            "zerolinecolor": "white"
           },
           "zaxis": {
            "backgroundcolor": "rgb(237,237,237)",
            "gridcolor": "white",
            "gridwidth": 2,
            "linecolor": "white",
            "showbackground": true,
            "showgrid": true,
            "tickcolor": "rgb(51,51,51)",
            "ticks": "outside",
            "zerolinecolor": "white"
           }
          },
          "shapedefaults": {
           "fillcolor": "black",
           "line": {
            "width": 0
           },
           "opacity": 0.3
          },
          "ternary": {
           "aaxis": {
            "gridcolor": "white",
            "linecolor": "white",
            "showgrid": true,
            "tickcolor": "rgb(51,51,51)",
            "ticks": "outside"
           },
           "baxis": {
            "gridcolor": "white",
            "linecolor": "white",
            "showgrid": true,
            "tickcolor": "rgb(51,51,51)",
            "ticks": "outside"
           },
           "bgcolor": "rgb(237,237,237)",
           "caxis": {
            "gridcolor": "white",
            "linecolor": "white",
            "showgrid": true,
            "tickcolor": "rgb(51,51,51)",
            "ticks": "outside"
           }
          },
          "xaxis": {
           "automargin": true,
           "gridcolor": "white",
           "linecolor": "white",
           "showgrid": true,
           "tickcolor": "rgb(51,51,51)",
           "ticks": "outside",
           "title": {
            "standoff": 15
           },
           "zerolinecolor": "white"
          },
          "yaxis": {
           "automargin": true,
           "gridcolor": "white",
           "linecolor": "white",
           "showgrid": true,
           "tickcolor": "rgb(51,51,51)",
           "ticks": "outside",
           "title": {
            "standoff": 15
           },
           "zerolinecolor": "white"
          }
         }
        },
        "title": {
         "text": "Actual vs. 'Out-of-Sample' Forecast | BTC-USD"
        },
        "xaxis": {
         "title": {
          "text": "Time"
         }
        },
        "yaxis": {
         "title": {
          "text": "Values"
         }
        }
       }
      }
     },
     "metadata": {},
     "output_type": "display_data"
    }
   ],
   "source": [
    "#Plot prophet model forecast\n",
    "plot_model(final_arima, plot='forecast')"
   ]
  },
  {
   "cell_type": "markdown",
   "id": "44456287",
   "metadata": {},
   "source": [
    "BNB-USD ARIMA Model"
   ]
  },
  {
   "cell_type": "code",
   "execution_count": 172,
   "id": "f37eb818",
   "metadata": {},
   "outputs": [
    {
     "data": {
      "text/html": [
       "<style type=\"text/css\">\n",
       "#T_e99c5_row25_col1, #T_e99c5_row31_col1 {\n",
       "  background-color: lightgreen;\n",
       "}\n",
       "</style>\n",
       "<table id=\"T_e99c5\">\n",
       "  <thead>\n",
       "    <tr>\n",
       "      <th class=\"blank level0\" >&nbsp;</th>\n",
       "      <th id=\"T_e99c5_level0_col0\" class=\"col_heading level0 col0\" >Description</th>\n",
       "      <th id=\"T_e99c5_level0_col1\" class=\"col_heading level0 col1\" >Value</th>\n",
       "    </tr>\n",
       "  </thead>\n",
       "  <tbody>\n",
       "    <tr>\n",
       "      <th id=\"T_e99c5_level0_row0\" class=\"row_heading level0 row0\" >0</th>\n",
       "      <td id=\"T_e99c5_row0_col0\" class=\"data row0 col0\" >session_id</td>\n",
       "      <td id=\"T_e99c5_row0_col1\" class=\"data row0 col1\" >123</td>\n",
       "    </tr>\n",
       "    <tr>\n",
       "      <th id=\"T_e99c5_level0_row1\" class=\"row_heading level0 row1\" >1</th>\n",
       "      <td id=\"T_e99c5_row1_col0\" class=\"data row1 col0\" >Target</td>\n",
       "      <td id=\"T_e99c5_row1_col1\" class=\"data row1 col1\" >BNB-USD</td>\n",
       "    </tr>\n",
       "    <tr>\n",
       "      <th id=\"T_e99c5_level0_row2\" class=\"row_heading level0 row2\" >2</th>\n",
       "      <td id=\"T_e99c5_row2_col0\" class=\"data row2 col0\" >Approach</td>\n",
       "      <td id=\"T_e99c5_row2_col1\" class=\"data row2 col1\" >Univariate</td>\n",
       "    </tr>\n",
       "    <tr>\n",
       "      <th id=\"T_e99c5_level0_row3\" class=\"row_heading level0 row3\" >3</th>\n",
       "      <td id=\"T_e99c5_row3_col0\" class=\"data row3 col0\" >Exogenous Variables</td>\n",
       "      <td id=\"T_e99c5_row3_col1\" class=\"data row3 col1\" >Not Present</td>\n",
       "    </tr>\n",
       "    <tr>\n",
       "      <th id=\"T_e99c5_level0_row4\" class=\"row_heading level0 row4\" >4</th>\n",
       "      <td id=\"T_e99c5_row4_col0\" class=\"data row4 col0\" >Original data shape</td>\n",
       "      <td id=\"T_e99c5_row4_col1\" class=\"data row4 col1\" >(365, 1)</td>\n",
       "    </tr>\n",
       "    <tr>\n",
       "      <th id=\"T_e99c5_level0_row5\" class=\"row_heading level0 row5\" >5</th>\n",
       "      <td id=\"T_e99c5_row5_col0\" class=\"data row5 col0\" >Transformed data shape</td>\n",
       "      <td id=\"T_e99c5_row5_col1\" class=\"data row5 col1\" >(365, 1)</td>\n",
       "    </tr>\n",
       "    <tr>\n",
       "      <th id=\"T_e99c5_level0_row6\" class=\"row_heading level0 row6\" >6</th>\n",
       "      <td id=\"T_e99c5_row6_col0\" class=\"data row6 col0\" >Transformed train set shape</td>\n",
       "      <td id=\"T_e99c5_row6_col1\" class=\"data row6 col1\" >(335, 1)</td>\n",
       "    </tr>\n",
       "    <tr>\n",
       "      <th id=\"T_e99c5_level0_row7\" class=\"row_heading level0 row7\" >7</th>\n",
       "      <td id=\"T_e99c5_row7_col0\" class=\"data row7 col0\" >Transformed test set shape</td>\n",
       "      <td id=\"T_e99c5_row7_col1\" class=\"data row7 col1\" >(30, 1)</td>\n",
       "    </tr>\n",
       "    <tr>\n",
       "      <th id=\"T_e99c5_level0_row8\" class=\"row_heading level0 row8\" >8</th>\n",
       "      <td id=\"T_e99c5_row8_col0\" class=\"data row8 col0\" >Rows with missing values</td>\n",
       "      <td id=\"T_e99c5_row8_col1\" class=\"data row8 col1\" >0.0%</td>\n",
       "    </tr>\n",
       "    <tr>\n",
       "      <th id=\"T_e99c5_level0_row9\" class=\"row_heading level0 row9\" >9</th>\n",
       "      <td id=\"T_e99c5_row9_col0\" class=\"data row9 col0\" >Fold Generator</td>\n",
       "      <td id=\"T_e99c5_row9_col1\" class=\"data row9 col1\" >ExpandingWindowSplitter</td>\n",
       "    </tr>\n",
       "    <tr>\n",
       "      <th id=\"T_e99c5_level0_row10\" class=\"row_heading level0 row10\" >10</th>\n",
       "      <td id=\"T_e99c5_row10_col0\" class=\"data row10 col0\" >Fold Number</td>\n",
       "      <td id=\"T_e99c5_row10_col1\" class=\"data row10 col1\" >3</td>\n",
       "    </tr>\n",
       "    <tr>\n",
       "      <th id=\"T_e99c5_level0_row11\" class=\"row_heading level0 row11\" >11</th>\n",
       "      <td id=\"T_e99c5_row11_col0\" class=\"data row11 col0\" >Enforce Prediction Interval</td>\n",
       "      <td id=\"T_e99c5_row11_col1\" class=\"data row11 col1\" >False</td>\n",
       "    </tr>\n",
       "    <tr>\n",
       "      <th id=\"T_e99c5_level0_row12\" class=\"row_heading level0 row12\" >12</th>\n",
       "      <td id=\"T_e99c5_row12_col0\" class=\"data row12 col0\" >Splits used for hyperparameters</td>\n",
       "      <td id=\"T_e99c5_row12_col1\" class=\"data row12 col1\" >all</td>\n",
       "    </tr>\n",
       "    <tr>\n",
       "      <th id=\"T_e99c5_level0_row13\" class=\"row_heading level0 row13\" >13</th>\n",
       "      <td id=\"T_e99c5_row13_col0\" class=\"data row13 col0\" >User Defined Seasonal Period(s)</td>\n",
       "      <td id=\"T_e99c5_row13_col1\" class=\"data row13 col1\" >D</td>\n",
       "    </tr>\n",
       "    <tr>\n",
       "      <th id=\"T_e99c5_level0_row14\" class=\"row_heading level0 row14\" >14</th>\n",
       "      <td id=\"T_e99c5_row14_col0\" class=\"data row14 col0\" >Ignore Seasonality Test</td>\n",
       "      <td id=\"T_e99c5_row14_col1\" class=\"data row14 col1\" >False</td>\n",
       "    </tr>\n",
       "    <tr>\n",
       "      <th id=\"T_e99c5_level0_row15\" class=\"row_heading level0 row15\" >15</th>\n",
       "      <td id=\"T_e99c5_row15_col0\" class=\"data row15 col0\" >Seasonality Detection Algo</td>\n",
       "      <td id=\"T_e99c5_row15_col1\" class=\"data row15 col1\" >user_defined</td>\n",
       "    </tr>\n",
       "    <tr>\n",
       "      <th id=\"T_e99c5_level0_row16\" class=\"row_heading level0 row16\" >16</th>\n",
       "      <td id=\"T_e99c5_row16_col0\" class=\"data row16 col0\" >Max Period to Consider</td>\n",
       "      <td id=\"T_e99c5_row16_col1\" class=\"data row16 col1\" >60</td>\n",
       "    </tr>\n",
       "    <tr>\n",
       "      <th id=\"T_e99c5_level0_row17\" class=\"row_heading level0 row17\" >17</th>\n",
       "      <td id=\"T_e99c5_row17_col0\" class=\"data row17 col0\" >Seasonal Period(s) Tested</td>\n",
       "      <td id=\"T_e99c5_row17_col1\" class=\"data row17 col1\" >[7]</td>\n",
       "    </tr>\n",
       "    <tr>\n",
       "      <th id=\"T_e99c5_level0_row18\" class=\"row_heading level0 row18\" >18</th>\n",
       "      <td id=\"T_e99c5_row18_col0\" class=\"data row18 col0\" >Significant Seasonal Period(s)</td>\n",
       "      <td id=\"T_e99c5_row18_col1\" class=\"data row18 col1\" >[7]</td>\n",
       "    </tr>\n",
       "    <tr>\n",
       "      <th id=\"T_e99c5_level0_row19\" class=\"row_heading level0 row19\" >19</th>\n",
       "      <td id=\"T_e99c5_row19_col0\" class=\"data row19 col0\" >Significant Seasonal Period(s) without Harmonics</td>\n",
       "      <td id=\"T_e99c5_row19_col1\" class=\"data row19 col1\" >[7]</td>\n",
       "    </tr>\n",
       "    <tr>\n",
       "      <th id=\"T_e99c5_level0_row20\" class=\"row_heading level0 row20\" >20</th>\n",
       "      <td id=\"T_e99c5_row20_col0\" class=\"data row20 col0\" >Remove Harmonics</td>\n",
       "      <td id=\"T_e99c5_row20_col1\" class=\"data row20 col1\" >False</td>\n",
       "    </tr>\n",
       "    <tr>\n",
       "      <th id=\"T_e99c5_level0_row21\" class=\"row_heading level0 row21\" >21</th>\n",
       "      <td id=\"T_e99c5_row21_col0\" class=\"data row21 col0\" >Harmonics Order Method</td>\n",
       "      <td id=\"T_e99c5_row21_col1\" class=\"data row21 col1\" >harmonic_max</td>\n",
       "    </tr>\n",
       "    <tr>\n",
       "      <th id=\"T_e99c5_level0_row22\" class=\"row_heading level0 row22\" >22</th>\n",
       "      <td id=\"T_e99c5_row22_col0\" class=\"data row22 col0\" >Num Seasonalities to Use</td>\n",
       "      <td id=\"T_e99c5_row22_col1\" class=\"data row22 col1\" >1</td>\n",
       "    </tr>\n",
       "    <tr>\n",
       "      <th id=\"T_e99c5_level0_row23\" class=\"row_heading level0 row23\" >23</th>\n",
       "      <td id=\"T_e99c5_row23_col0\" class=\"data row23 col0\" >All Seasonalities to Use</td>\n",
       "      <td id=\"T_e99c5_row23_col1\" class=\"data row23 col1\" >[7]</td>\n",
       "    </tr>\n",
       "    <tr>\n",
       "      <th id=\"T_e99c5_level0_row24\" class=\"row_heading level0 row24\" >24</th>\n",
       "      <td id=\"T_e99c5_row24_col0\" class=\"data row24 col0\" >Primary Seasonality</td>\n",
       "      <td id=\"T_e99c5_row24_col1\" class=\"data row24 col1\" >7</td>\n",
       "    </tr>\n",
       "    <tr>\n",
       "      <th id=\"T_e99c5_level0_row25\" class=\"row_heading level0 row25\" >25</th>\n",
       "      <td id=\"T_e99c5_row25_col0\" class=\"data row25 col0\" >Seasonality Present</td>\n",
       "      <td id=\"T_e99c5_row25_col1\" class=\"data row25 col1\" >True</td>\n",
       "    </tr>\n",
       "    <tr>\n",
       "      <th id=\"T_e99c5_level0_row26\" class=\"row_heading level0 row26\" >26</th>\n",
       "      <td id=\"T_e99c5_row26_col0\" class=\"data row26 col0\" >Seasonality Type</td>\n",
       "      <td id=\"T_e99c5_row26_col1\" class=\"data row26 col1\" >mul</td>\n",
       "    </tr>\n",
       "    <tr>\n",
       "      <th id=\"T_e99c5_level0_row27\" class=\"row_heading level0 row27\" >27</th>\n",
       "      <td id=\"T_e99c5_row27_col0\" class=\"data row27 col0\" >Target Strictly Positive</td>\n",
       "      <td id=\"T_e99c5_row27_col1\" class=\"data row27 col1\" >True</td>\n",
       "    </tr>\n",
       "    <tr>\n",
       "      <th id=\"T_e99c5_level0_row28\" class=\"row_heading level0 row28\" >28</th>\n",
       "      <td id=\"T_e99c5_row28_col0\" class=\"data row28 col0\" >Target White Noise</td>\n",
       "      <td id=\"T_e99c5_row28_col1\" class=\"data row28 col1\" >No</td>\n",
       "    </tr>\n",
       "    <tr>\n",
       "      <th id=\"T_e99c5_level0_row29\" class=\"row_heading level0 row29\" >29</th>\n",
       "      <td id=\"T_e99c5_row29_col0\" class=\"data row29 col0\" >Recommended d</td>\n",
       "      <td id=\"T_e99c5_row29_col1\" class=\"data row29 col1\" >1</td>\n",
       "    </tr>\n",
       "    <tr>\n",
       "      <th id=\"T_e99c5_level0_row30\" class=\"row_heading level0 row30\" >30</th>\n",
       "      <td id=\"T_e99c5_row30_col0\" class=\"data row30 col0\" >Recommended Seasonal D</td>\n",
       "      <td id=\"T_e99c5_row30_col1\" class=\"data row30 col1\" >0</td>\n",
       "    </tr>\n",
       "    <tr>\n",
       "      <th id=\"T_e99c5_level0_row31\" class=\"row_heading level0 row31\" >31</th>\n",
       "      <td id=\"T_e99c5_row31_col0\" class=\"data row31 col0\" >Preprocess</td>\n",
       "      <td id=\"T_e99c5_row31_col1\" class=\"data row31 col1\" >True</td>\n",
       "    </tr>\n",
       "    <tr>\n",
       "      <th id=\"T_e99c5_level0_row32\" class=\"row_heading level0 row32\" >32</th>\n",
       "      <td id=\"T_e99c5_row32_col0\" class=\"data row32 col0\" >Numerical Imputation (Target)</td>\n",
       "      <td id=\"T_e99c5_row32_col1\" class=\"data row32 col1\" >drift</td>\n",
       "    </tr>\n",
       "    <tr>\n",
       "      <th id=\"T_e99c5_level0_row33\" class=\"row_heading level0 row33\" >33</th>\n",
       "      <td id=\"T_e99c5_row33_col0\" class=\"data row33 col0\" >Transformation (Target)</td>\n",
       "      <td id=\"T_e99c5_row33_col1\" class=\"data row33 col1\" >log</td>\n",
       "    </tr>\n",
       "    <tr>\n",
       "      <th id=\"T_e99c5_level0_row34\" class=\"row_heading level0 row34\" >34</th>\n",
       "      <td id=\"T_e99c5_row34_col0\" class=\"data row34 col0\" >Scaling (Target)</td>\n",
       "      <td id=\"T_e99c5_row34_col1\" class=\"data row34 col1\" >None</td>\n",
       "    </tr>\n",
       "    <tr>\n",
       "      <th id=\"T_e99c5_level0_row35\" class=\"row_heading level0 row35\" >35</th>\n",
       "      <td id=\"T_e99c5_row35_col0\" class=\"data row35 col0\" >Feature Engineering (Target) - Reduced Regression</td>\n",
       "      <td id=\"T_e99c5_row35_col1\" class=\"data row35 col1\" >False</td>\n",
       "    </tr>\n",
       "    <tr>\n",
       "      <th id=\"T_e99c5_level0_row36\" class=\"row_heading level0 row36\" >36</th>\n",
       "      <td id=\"T_e99c5_row36_col0\" class=\"data row36 col0\" >CPU Jobs</td>\n",
       "      <td id=\"T_e99c5_row36_col1\" class=\"data row36 col1\" >-1</td>\n",
       "    </tr>\n",
       "    <tr>\n",
       "      <th id=\"T_e99c5_level0_row37\" class=\"row_heading level0 row37\" >37</th>\n",
       "      <td id=\"T_e99c5_row37_col0\" class=\"data row37 col0\" >Use GPU</td>\n",
       "      <td id=\"T_e99c5_row37_col1\" class=\"data row37 col1\" >False</td>\n",
       "    </tr>\n",
       "    <tr>\n",
       "      <th id=\"T_e99c5_level0_row38\" class=\"row_heading level0 row38\" >38</th>\n",
       "      <td id=\"T_e99c5_row38_col0\" class=\"data row38 col0\" >Log Experiment</td>\n",
       "      <td id=\"T_e99c5_row38_col1\" class=\"data row38 col1\" >False</td>\n",
       "    </tr>\n",
       "    <tr>\n",
       "      <th id=\"T_e99c5_level0_row39\" class=\"row_heading level0 row39\" >39</th>\n",
       "      <td id=\"T_e99c5_row39_col0\" class=\"data row39 col0\" >Experiment Name</td>\n",
       "      <td id=\"T_e99c5_row39_col1\" class=\"data row39 col1\" >ts-default-name</td>\n",
       "    </tr>\n",
       "    <tr>\n",
       "      <th id=\"T_e99c5_level0_row40\" class=\"row_heading level0 row40\" >40</th>\n",
       "      <td id=\"T_e99c5_row40_col0\" class=\"data row40 col0\" >USI</td>\n",
       "      <td id=\"T_e99c5_row40_col1\" class=\"data row40 col1\" >15e2</td>\n",
       "    </tr>\n",
       "  </tbody>\n",
       "</table>\n"
      ],
      "text/plain": [
       "<pandas.io.formats.style.Styler at 0x1b9cd1b6160>"
      ]
     },
     "metadata": {},
     "output_type": "display_data"
    }
   ],
   "source": [
    "bnb = df.loc[:,'BNB-USD']\n",
    "# Set up PyCaret environment\n",
    "s = setup(data=bnb, \n",
    "          target = 'BNB-USD',\n",
    "          transform_target='log',\n",
    "          fh=30,  # Forecast horizon\n",
    "          session_id=123,\n",
    "          fold_strategy='expanding',\n",
    "          seasonal_period='D',\n",
    "          #fold_spans=\"adaptive\",\n",
    "          numeric_imputation_target = 'drift')"
   ]
  },
  {
   "cell_type": "code",
   "execution_count": 40,
   "id": "dcc8a6d1",
   "metadata": {},
   "outputs": [
    {
     "data": {
      "text/html": [
       "<div>\n",
       "<style scoped>\n",
       "    .dataframe tbody tr th:only-of-type {\n",
       "        vertical-align: middle;\n",
       "    }\n",
       "\n",
       "    .dataframe tbody tr th {\n",
       "        vertical-align: top;\n",
       "    }\n",
       "\n",
       "    .dataframe thead th {\n",
       "        text-align: right;\n",
       "    }\n",
       "</style>\n",
       "<table border=\"1\" class=\"dataframe\">\n",
       "  <thead>\n",
       "    <tr style=\"text-align: right;\">\n",
       "      <th></th>\n",
       "      <th></th>\n",
       "      <th></th>\n",
       "    </tr>\n",
       "    <tr>\n",
       "      <th></th>\n",
       "      <th></th>\n",
       "      <th></th>\n",
       "    </tr>\n",
       "  </thead>\n",
       "  <tbody>\n",
       "    <tr>\n",
       "      <th>Initiated</th>\n",
       "      <td>. . . . . . . . . . . . . . . . . .</td>\n",
       "      <td>15:57:33</td>\n",
       "    </tr>\n",
       "    <tr>\n",
       "      <th>Status</th>\n",
       "      <td>. . . . . . . . . . . . . . . . . .</td>\n",
       "      <td>Loading Dependencies</td>\n",
       "    </tr>\n",
       "    <tr>\n",
       "      <th>Estimator</th>\n",
       "      <td>. . . . . . . . . . . . . . . . . .</td>\n",
       "      <td>Compiling Library</td>\n",
       "    </tr>\n",
       "  </tbody>\n",
       "</table>\n",
       "</div>"
      ],
      "text/plain": [
       "                                                                    \n",
       "                                                                    \n",
       "Initiated  . . . . . . . . . . . . . . . . . .              15:57:33\n",
       "Status     . . . . . . . . . . . . . . . . . .  Loading Dependencies\n",
       "Estimator  . . . . . . . . . . . . . . . . . .     Compiling Library"
      ]
     },
     "metadata": {},
     "output_type": "display_data"
    },
    {
     "data": {
      "text/html": [
       "<style type=\"text/css\">\n",
       "#T_ace99_row3_col0, #T_ace99_row3_col1, #T_ace99_row3_col2, #T_ace99_row3_col3, #T_ace99_row3_col4, #T_ace99_row3_col5, #T_ace99_row3_col6, #T_ace99_row3_col7 {\n",
       "  background: yellow;\n",
       "}\n",
       "</style>\n",
       "<table id=\"T_ace99\">\n",
       "  <thead>\n",
       "    <tr>\n",
       "      <th class=\"blank level0\" >&nbsp;</th>\n",
       "      <th id=\"T_ace99_level0_col0\" class=\"col_heading level0 col0\" >cutoff</th>\n",
       "      <th id=\"T_ace99_level0_col1\" class=\"col_heading level0 col1\" >MASE</th>\n",
       "      <th id=\"T_ace99_level0_col2\" class=\"col_heading level0 col2\" >RMSSE</th>\n",
       "      <th id=\"T_ace99_level0_col3\" class=\"col_heading level0 col3\" >MAE</th>\n",
       "      <th id=\"T_ace99_level0_col4\" class=\"col_heading level0 col4\" >RMSE</th>\n",
       "      <th id=\"T_ace99_level0_col5\" class=\"col_heading level0 col5\" >MAPE</th>\n",
       "      <th id=\"T_ace99_level0_col6\" class=\"col_heading level0 col6\" >SMAPE</th>\n",
       "      <th id=\"T_ace99_level0_col7\" class=\"col_heading level0 col7\" >R2</th>\n",
       "    </tr>\n",
       "  </thead>\n",
       "  <tbody>\n",
       "    <tr>\n",
       "      <th id=\"T_ace99_level0_row0\" class=\"row_heading level0 row0\" >0</th>\n",
       "      <td id=\"T_ace99_row0_col0\" class=\"data row0 col0\" >2024-12-29</td>\n",
       "      <td id=\"T_ace99_row0_col1\" class=\"data row0 col1\" >1.2888</td>\n",
       "      <td id=\"T_ace99_row0_col2\" class=\"data row0 col2\" >1.1544</td>\n",
       "      <td id=\"T_ace99_row0_col3\" class=\"data row0 col3\" >42.9714</td>\n",
       "      <td id=\"T_ace99_row0_col4\" class=\"data row0 col4\" >49.6914</td>\n",
       "      <td id=\"T_ace99_row0_col5\" class=\"data row0 col5\" >0.0623</td>\n",
       "      <td id=\"T_ace99_row0_col6\" class=\"data row0 col6\" >0.0598</td>\n",
       "      <td id=\"T_ace99_row0_col7\" class=\"data row0 col7\" >-9.8557</td>\n",
       "    </tr>\n",
       "    <tr>\n",
       "      <th id=\"T_ace99_level0_row1\" class=\"row_heading level0 row1\" >1</th>\n",
       "      <td id=\"T_ace99_row1_col0\" class=\"data row1 col0\" >2025-01-28</td>\n",
       "      <td id=\"T_ace99_row1_col1\" class=\"data row1 col1\" >1.0514</td>\n",
       "      <td id=\"T_ace99_row1_col2\" class=\"data row1 col2\" >1.0765</td>\n",
       "      <td id=\"T_ace99_row1_col3\" class=\"data row1 col3\" >33.0733</td>\n",
       "      <td id=\"T_ace99_row1_col4\" class=\"data row1 col4\" >44.2206</td>\n",
       "      <td id=\"T_ace99_row1_col5\" class=\"data row1 col5\" >0.0545</td>\n",
       "      <td id=\"T_ace99_row1_col6\" class=\"data row1 col6\" >0.0520</td>\n",
       "      <td id=\"T_ace99_row1_col7\" class=\"data row1 col7\" >-0.6437</td>\n",
       "    </tr>\n",
       "    <tr>\n",
       "      <th id=\"T_ace99_level0_row2\" class=\"row_heading level0 row2\" >2</th>\n",
       "      <td id=\"T_ace99_row2_col0\" class=\"data row2 col0\" >2025-02-27</td>\n",
       "      <td id=\"T_ace99_row2_col1\" class=\"data row2 col1\" >0.7666</td>\n",
       "      <td id=\"T_ace99_row2_col2\" class=\"data row2 col2\" >0.7247</td>\n",
       "      <td id=\"T_ace99_row2_col3\" class=\"data row2 col3\" >25.3279</td>\n",
       "      <td id=\"T_ace99_row2_col4\" class=\"data row2 col4\" >31.3005</td>\n",
       "      <td id=\"T_ace99_row2_col5\" class=\"data row2 col5\" >0.0421</td>\n",
       "      <td id=\"T_ace99_row2_col6\" class=\"data row2 col6\" >0.0423</td>\n",
       "      <td id=\"T_ace99_row2_col7\" class=\"data row2 col7\" >-0.3252</td>\n",
       "    </tr>\n",
       "    <tr>\n",
       "      <th id=\"T_ace99_level0_row3\" class=\"row_heading level0 row3\" >Mean</th>\n",
       "      <td id=\"T_ace99_row3_col0\" class=\"data row3 col0\" >NaT</td>\n",
       "      <td id=\"T_ace99_row3_col1\" class=\"data row3 col1\" >1.0356</td>\n",
       "      <td id=\"T_ace99_row3_col2\" class=\"data row3 col2\" >0.9852</td>\n",
       "      <td id=\"T_ace99_row3_col3\" class=\"data row3 col3\" >33.7909</td>\n",
       "      <td id=\"T_ace99_row3_col4\" class=\"data row3 col4\" >41.7375</td>\n",
       "      <td id=\"T_ace99_row3_col5\" class=\"data row3 col5\" >0.0530</td>\n",
       "      <td id=\"T_ace99_row3_col6\" class=\"data row3 col6\" >0.0513</td>\n",
       "      <td id=\"T_ace99_row3_col7\" class=\"data row3 col7\" >-3.6082</td>\n",
       "    </tr>\n",
       "    <tr>\n",
       "      <th id=\"T_ace99_level0_row4\" class=\"row_heading level0 row4\" >SD</th>\n",
       "      <td id=\"T_ace99_row4_col0\" class=\"data row4 col0\" >NaT</td>\n",
       "      <td id=\"T_ace99_row4_col1\" class=\"data row4 col1\" >0.2135</td>\n",
       "      <td id=\"T_ace99_row4_col2\" class=\"data row4 col2\" >0.1870</td>\n",
       "      <td id=\"T_ace99_row4_col3\" class=\"data row4 col3\" >7.2208</td>\n",
       "      <td id=\"T_ace99_row4_col4\" class=\"data row4 col4\" >7.7106</td>\n",
       "      <td id=\"T_ace99_row4_col5\" class=\"data row4 col5\" >0.0083</td>\n",
       "      <td id=\"T_ace99_row4_col6\" class=\"data row4 col6\" >0.0072</td>\n",
       "      <td id=\"T_ace99_row4_col7\" class=\"data row4 col7\" >4.4195</td>\n",
       "    </tr>\n",
       "  </tbody>\n",
       "</table>\n"
      ],
      "text/plain": [
       "<pandas.io.formats.style.Styler at 0x1b9c6ae2ee0>"
      ]
     },
     "metadata": {},
     "output_type": "display_data"
    },
    {
     "data": {
      "text/html": [],
      "text/plain": [
       "<IPython.core.display.HTML object>"
      ]
     },
     "metadata": {},
     "output_type": "display_data"
    },
    {
     "data": {
      "text/html": [],
      "text/plain": [
       "<IPython.core.display.HTML object>"
      ]
     },
     "metadata": {},
     "output_type": "display_data"
    },
    {
     "data": {
      "text/html": [
       "<style type=\"text/css\">\n",
       "#T_e0b17_row3_col0, #T_e0b17_row3_col1, #T_e0b17_row3_col2, #T_e0b17_row3_col3, #T_e0b17_row3_col4, #T_e0b17_row3_col5, #T_e0b17_row3_col6, #T_e0b17_row3_col7 {\n",
       "  background: yellow;\n",
       "}\n",
       "</style>\n",
       "<table id=\"T_e0b17\">\n",
       "  <thead>\n",
       "    <tr>\n",
       "      <th class=\"blank level0\" >&nbsp;</th>\n",
       "      <th id=\"T_e0b17_level0_col0\" class=\"col_heading level0 col0\" >cutoff</th>\n",
       "      <th id=\"T_e0b17_level0_col1\" class=\"col_heading level0 col1\" >MASE</th>\n",
       "      <th id=\"T_e0b17_level0_col2\" class=\"col_heading level0 col2\" >RMSSE</th>\n",
       "      <th id=\"T_e0b17_level0_col3\" class=\"col_heading level0 col3\" >MAE</th>\n",
       "      <th id=\"T_e0b17_level0_col4\" class=\"col_heading level0 col4\" >RMSE</th>\n",
       "      <th id=\"T_e0b17_level0_col5\" class=\"col_heading level0 col5\" >MAPE</th>\n",
       "      <th id=\"T_e0b17_level0_col6\" class=\"col_heading level0 col6\" >SMAPE</th>\n",
       "      <th id=\"T_e0b17_level0_col7\" class=\"col_heading level0 col7\" >R2</th>\n",
       "    </tr>\n",
       "  </thead>\n",
       "  <tbody>\n",
       "    <tr>\n",
       "      <th id=\"T_e0b17_level0_row0\" class=\"row_heading level0 row0\" >0</th>\n",
       "      <td id=\"T_e0b17_row0_col0\" class=\"data row0 col0\" >2024-12-29</td>\n",
       "      <td id=\"T_e0b17_row0_col1\" class=\"data row0 col1\" >0.3541</td>\n",
       "      <td id=\"T_e0b17_row0_col2\" class=\"data row0 col2\" >0.3469</td>\n",
       "      <td id=\"T_e0b17_row0_col3\" class=\"data row0 col3\" >11.8048</td>\n",
       "      <td id=\"T_e0b17_row0_col4\" class=\"data row0 col4\" >14.9315</td>\n",
       "      <td id=\"T_e0b17_row0_col5\" class=\"data row0 col5\" >0.0169</td>\n",
       "      <td id=\"T_e0b17_row0_col6\" class=\"data row0 col6\" >0.0170</td>\n",
       "      <td id=\"T_e0b17_row0_col7\" class=\"data row0 col7\" >0.0198</td>\n",
       "    </tr>\n",
       "    <tr>\n",
       "      <th id=\"T_e0b17_level0_row1\" class=\"row_heading level0 row1\" >1</th>\n",
       "      <td id=\"T_e0b17_row1_col0\" class=\"data row1 col0\" >2025-01-28</td>\n",
       "      <td id=\"T_e0b17_row1_col1\" class=\"data row1 col1\" >0.9938</td>\n",
       "      <td id=\"T_e0b17_row1_col2\" class=\"data row1 col2\" >1.0189</td>\n",
       "      <td id=\"T_e0b17_row1_col3\" class=\"data row1 col3\" >31.2594</td>\n",
       "      <td id=\"T_e0b17_row1_col4\" class=\"data row1 col4\" >41.8539</td>\n",
       "      <td id=\"T_e0b17_row1_col5\" class=\"data row1 col5\" >0.0514</td>\n",
       "      <td id=\"T_e0b17_row1_col6\" class=\"data row1 col6\" >0.0493</td>\n",
       "      <td id=\"T_e0b17_row1_col7\" class=\"data row1 col7\" >-0.4725</td>\n",
       "    </tr>\n",
       "    <tr>\n",
       "      <th id=\"T_e0b17_level0_row2\" class=\"row_heading level0 row2\" >2</th>\n",
       "      <td id=\"T_e0b17_row2_col0\" class=\"data row2 col0\" >2025-02-27</td>\n",
       "      <td id=\"T_e0b17_row2_col1\" class=\"data row2 col1\" >0.6840</td>\n",
       "      <td id=\"T_e0b17_row2_col2\" class=\"data row2 col2\" >0.6329</td>\n",
       "      <td id=\"T_e0b17_row2_col3\" class=\"data row2 col3\" >22.6008</td>\n",
       "      <td id=\"T_e0b17_row2_col4\" class=\"data row2 col4\" >27.3374</td>\n",
       "      <td id=\"T_e0b17_row2_col5\" class=\"data row2 col5\" >0.0382</td>\n",
       "      <td id=\"T_e0b17_row2_col6\" class=\"data row2 col6\" >0.0377</td>\n",
       "      <td id=\"T_e0b17_row2_col7\" class=\"data row2 col7\" >-0.0109</td>\n",
       "    </tr>\n",
       "    <tr>\n",
       "      <th id=\"T_e0b17_level0_row3\" class=\"row_heading level0 row3\" >Mean</th>\n",
       "      <td id=\"T_e0b17_row3_col0\" class=\"data row3 col0\" >NaT</td>\n",
       "      <td id=\"T_e0b17_row3_col1\" class=\"data row3 col1\" >0.6773</td>\n",
       "      <td id=\"T_e0b17_row3_col2\" class=\"data row3 col2\" >0.6662</td>\n",
       "      <td id=\"T_e0b17_row3_col3\" class=\"data row3 col3\" >21.8883</td>\n",
       "      <td id=\"T_e0b17_row3_col4\" class=\"data row3 col4\" >28.0409</td>\n",
       "      <td id=\"T_e0b17_row3_col5\" class=\"data row3 col5\" >0.0355</td>\n",
       "      <td id=\"T_e0b17_row3_col6\" class=\"data row3 col6\" >0.0347</td>\n",
       "      <td id=\"T_e0b17_row3_col7\" class=\"data row3 col7\" >-0.1545</td>\n",
       "    </tr>\n",
       "    <tr>\n",
       "      <th id=\"T_e0b17_level0_row4\" class=\"row_heading level0 row4\" >SD</th>\n",
       "      <td id=\"T_e0b17_row4_col0\" class=\"data row4 col0\" >NaT</td>\n",
       "      <td id=\"T_e0b17_row4_col1\" class=\"data row4 col1\" >0.2612</td>\n",
       "      <td id=\"T_e0b17_row4_col2\" class=\"data row4 col2\" >0.2753</td>\n",
       "      <td id=\"T_e0b17_row4_col3\" class=\"data row4 col3\" >7.9582</td>\n",
       "      <td id=\"T_e0b17_row4_col4\" class=\"data row4 col4\" >11.0023</td>\n",
       "      <td id=\"T_e0b17_row4_col5\" class=\"data row4 col5\" >0.0142</td>\n",
       "      <td id=\"T_e0b17_row4_col6\" class=\"data row4 col6\" >0.0134</td>\n",
       "      <td id=\"T_e0b17_row4_col7\" class=\"data row4 col7\" >0.2252</td>\n",
       "    </tr>\n",
       "  </tbody>\n",
       "</table>\n"
      ],
      "text/plain": [
       "<pandas.io.formats.style.Styler at 0x1b9c67bf880>"
      ]
     },
     "metadata": {},
     "output_type": "display_data"
    },
    {
     "data": {
      "text/html": [],
      "text/plain": [
       "<IPython.core.display.HTML object>"
      ]
     },
     "metadata": {},
     "output_type": "display_data"
    },
    {
     "name": "stdout",
     "output_type": "stream",
     "text": [
      "Fitting 3 folds for each of 10 candidates, totalling 30 fits\n"
     ]
    },
    {
     "name": "stderr",
     "output_type": "stream",
     "text": [
      "[Parallel(n_jobs=-1)]: Using backend LokyBackend with 8 concurrent workers.\n",
      "[Parallel(n_jobs=-1)]: Done  30 out of  30 | elapsed:   11.2s finished\n"
     ]
    },
    {
     "data": {
      "application/vnd.plotly.v1+json": {
       "config": {
        "plotlyServerURL": "https://plot.ly"
       },
       "data": [
        {
         "line": {
          "color": "#1f77b4"
         },
         "marker": {
          "size": 5
         },
         "mode": "lines+markers",
         "name": "Forecast | ARIMA",
         "showlegend": true,
         "type": "scatter",
         "x": [
          "2025-04-29T00:00:00",
          "2025-04-30T00:00:00",
          "2025-05-01T00:00:00",
          "2025-05-02T00:00:00",
          "2025-05-03T00:00:00",
          "2025-05-04T00:00:00",
          "2025-05-05T00:00:00",
          "2025-05-06T00:00:00",
          "2025-05-07T00:00:00",
          "2025-05-08T00:00:00",
          "2025-05-09T00:00:00",
          "2025-05-10T00:00:00",
          "2025-05-11T00:00:00",
          "2025-05-12T00:00:00",
          "2025-05-13T00:00:00",
          "2025-05-14T00:00:00",
          "2025-05-15T00:00:00",
          "2025-05-16T00:00:00",
          "2025-05-17T00:00:00",
          "2025-05-18T00:00:00",
          "2025-05-19T00:00:00",
          "2025-05-20T00:00:00",
          "2025-05-21T00:00:00",
          "2025-05-22T00:00:00",
          "2025-05-23T00:00:00",
          "2025-05-24T00:00:00",
          "2025-05-25T00:00:00",
          "2025-05-26T00:00:00",
          "2025-05-27T00:00:00",
          "2025-05-28T00:00:00"
         ],
         "y": {
          "bdata": "rthfds/pgkAIrBxaZOiCQGkAb4EE5oJATfOOU/TkgkA/V1uxP+SCQF8pyxBH44JAMZkqGJXhgkAEVg4tMtyCQI/k8h9S3oJAbqMBvIXegkAyVTAqKd6CQCbkg57N24JAKjqSy//bgkCmCkYl9dqCQDm0yHY+2oJAMZkqGJXZgkDvOEVH8tiCQNzXgXNG2IJAvjCZKpjXgkAofoy569aCQH4dOGdE1oJAGeJYF7fVgkDQRNjw9NSCQJhuEoNA1IJAb4EExY/TgkDarPpc7dKCQKHWNO840oJAjnVxG43RgkAdWmQ739CCQP+ye/Iw0IJA",
          "dtype": "f8"
         }
        },
        {
         "line": {
          "width": 0
         },
         "marker": {
          "color": "#68BBE3"
         },
         "mode": "lines",
         "name": "Lower Interval",
         "showlegend": false,
         "type": "scatter",
         "x": [
          "2025-04-29T00:00:00",
          "2025-04-30T00:00:00",
          "2025-05-01T00:00:00",
          "2025-05-02T00:00:00",
          "2025-05-03T00:00:00",
          "2025-05-04T00:00:00",
          "2025-05-05T00:00:00",
          "2025-05-06T00:00:00",
          "2025-05-07T00:00:00",
          "2025-05-08T00:00:00",
          "2025-05-09T00:00:00",
          "2025-05-10T00:00:00",
          "2025-05-11T00:00:00",
          "2025-05-12T00:00:00",
          "2025-05-13T00:00:00",
          "2025-05-14T00:00:00",
          "2025-05-15T00:00:00",
          "2025-05-16T00:00:00",
          "2025-05-17T00:00:00",
          "2025-05-18T00:00:00",
          "2025-05-19T00:00:00",
          "2025-05-20T00:00:00",
          "2025-05-21T00:00:00",
          "2025-05-22T00:00:00",
          "2025-05-23T00:00:00",
          "2025-05-24T00:00:00",
          "2025-05-25T00:00:00",
          "2025-05-26T00:00:00",
          "2025-05-27T00:00:00",
          "2025-05-28T00:00:00"
         ],
         "y": {
          "bdata": "7lpCPmgTgkAvbqMBvLqBQHo2qz7XdoFA1xLyQU8/gUAEVg4tMg+BQO58PzXe44BAYhBYObS7gECJQWDlUJOAQCSX/5D+c4BAmN2ThwVVgEB5WKg1TTeAQAMJih9jGYBA24r9Zff9f0BsCfmgZ8l/QPwYc9cSmn9AvVKWIY5sf0Bm9+RhoUB/QPd14JwRFn9AIEHxY8zsfkDr4jYawMR+QA1xrIvbnX5AGQRWDi14fkBCYOXQIlN+QBdIUPwYL35AGXPXEvILfkD/snvysOl9QGUZ4lgXyH1Afh04Z0SnfUD3deCcEYd9QOxRuB6FZ31A",
          "dtype": "f8"
         }
        },
        {
         "fill": "tonexty",
         "fillcolor": "rgba(104,187,227,0.5)",
         "line": {
          "width": 0
         },
         "marker": {
          "color": "#68BBE3"
         },
         "mode": "lines",
         "name": "Prediction Interval | ARIMA",
         "showlegend": true,
         "type": "scatter",
         "x": [
          "2025-04-29T00:00:00",
          "2025-04-30T00:00:00",
          "2025-05-01T00:00:00",
          "2025-05-02T00:00:00",
          "2025-05-03T00:00:00",
          "2025-05-04T00:00:00",
          "2025-05-05T00:00:00",
          "2025-05-06T00:00:00",
          "2025-05-07T00:00:00",
          "2025-05-08T00:00:00",
          "2025-05-09T00:00:00",
          "2025-05-10T00:00:00",
          "2025-05-11T00:00:00",
          "2025-05-12T00:00:00",
          "2025-05-13T00:00:00",
          "2025-05-14T00:00:00",
          "2025-05-15T00:00:00",
          "2025-05-16T00:00:00",
          "2025-05-17T00:00:00",
          "2025-05-18T00:00:00",
          "2025-05-19T00:00:00",
          "2025-05-20T00:00:00",
          "2025-05-21T00:00:00",
          "2025-05-22T00:00:00",
          "2025-05-23T00:00:00",
          "2025-05-24T00:00:00",
          "2025-05-25T00:00:00",
          "2025-05-26T00:00:00",
          "2025-05-27T00:00:00",
          "2025-05-28T00:00:00"
         ],
         "y": {
          "bdata": "z/dT4yXKg0DtDb4wGSqEQIV80LNZc4RAlWWIY92yhEBI4XoUruuEQEI+6NksH4VAidLe4AtOhUBYyjLEsXWFQHzysFBro4VAKH6MuevMhUD7OnDOCPSFQHlYqDVNF4ZAp3nHKTo8hkAbL90khl6GQOf7qfFSfoZANs07TlGdhkD3deCckbuGQJ5eKcsQ2YZADk+vlOX1hkASg8DKIRKHQJkqGJXULYdAEoPAyiFJh0Ap7Q2+sGOHQGDl0CLbfYdAeqUsQ5yXh0Ag0m9fB7GHQLyWkA/6yYdAdQKaCJvih0B88rBQ6/qHQGwJ+aDnEohA",
          "dtype": "f8"
         }
        },
        {
         "marker": {
          "color": "#3f3f3f",
          "size": 5
         },
         "mode": "lines+markers",
         "name": "Original",
         "showlegend": true,
         "type": "scatter",
         "x": [
          "2024-04-29T00:00:00",
          "2024-04-30T00:00:00",
          "2024-05-01T00:00:00",
          "2024-05-02T00:00:00",
          "2024-05-03T00:00:00",
          "2024-05-04T00:00:00",
          "2024-05-05T00:00:00",
          "2024-05-06T00:00:00",
          "2024-05-07T00:00:00",
          "2024-05-08T00:00:00",
          "2024-05-09T00:00:00",
          "2024-05-10T00:00:00",
          "2024-05-11T00:00:00",
          "2024-05-12T00:00:00",
          "2024-05-13T00:00:00",
          "2024-05-14T00:00:00",
          "2024-05-15T00:00:00",
          "2024-05-16T00:00:00",
          "2024-05-17T00:00:00",
          "2024-05-18T00:00:00",
          "2024-05-19T00:00:00",
          "2024-05-20T00:00:00",
          "2024-05-21T00:00:00",
          "2024-05-22T00:00:00",
          "2024-05-23T00:00:00",
          "2024-05-24T00:00:00",
          "2024-05-25T00:00:00",
          "2024-05-26T00:00:00",
          "2024-05-27T00:00:00",
          "2024-05-28T00:00:00",
          "2024-05-29T00:00:00",
          "2024-05-30T00:00:00",
          "2024-05-31T00:00:00",
          "2024-06-01T00:00:00",
          "2024-06-02T00:00:00",
          "2024-06-03T00:00:00",
          "2024-06-04T00:00:00",
          "2024-06-05T00:00:00",
          "2024-06-06T00:00:00",
          "2024-06-07T00:00:00",
          "2024-06-08T00:00:00",
          "2024-06-09T00:00:00",
          "2024-06-10T00:00:00",
          "2024-06-11T00:00:00",
          "2024-06-12T00:00:00",
          "2024-06-13T00:00:00",
          "2024-06-14T00:00:00",
          "2024-06-15T00:00:00",
          "2024-06-16T00:00:00",
          "2024-06-17T00:00:00",
          "2024-06-18T00:00:00",
          "2024-06-19T00:00:00",
          "2024-06-20T00:00:00",
          "2024-06-21T00:00:00",
          "2024-06-22T00:00:00",
          "2024-06-23T00:00:00",
          "2024-06-24T00:00:00",
          "2024-06-25T00:00:00",
          "2024-06-26T00:00:00",
          "2024-06-27T00:00:00",
          "2024-06-28T00:00:00",
          "2024-06-29T00:00:00",
          "2024-06-30T00:00:00",
          "2024-07-01T00:00:00",
          "2024-07-02T00:00:00",
          "2024-07-03T00:00:00",
          "2024-07-04T00:00:00",
          "2024-07-05T00:00:00",
          "2024-07-06T00:00:00",
          "2024-07-07T00:00:00",
          "2024-07-08T00:00:00",
          "2024-07-09T00:00:00",
          "2024-07-10T00:00:00",
          "2024-07-11T00:00:00",
          "2024-07-12T00:00:00",
          "2024-07-13T00:00:00",
          "2024-07-14T00:00:00",
          "2024-07-15T00:00:00",
          "2024-07-16T00:00:00",
          "2024-07-17T00:00:00",
          "2024-07-18T00:00:00",
          "2024-07-19T00:00:00",
          "2024-07-20T00:00:00",
          "2024-07-21T00:00:00",
          "2024-07-22T00:00:00",
          "2024-07-23T00:00:00",
          "2024-07-24T00:00:00",
          "2024-07-25T00:00:00",
          "2024-07-26T00:00:00",
          "2024-07-27T00:00:00",
          "2024-07-28T00:00:00",
          "2024-07-29T00:00:00",
          "2024-07-30T00:00:00",
          "2024-07-31T00:00:00",
          "2024-08-01T00:00:00",
          "2024-08-02T00:00:00",
          "2024-08-03T00:00:00",
          "2024-08-04T00:00:00",
          "2024-08-05T00:00:00",
          "2024-08-06T00:00:00",
          "2024-08-07T00:00:00",
          "2024-08-08T00:00:00",
          "2024-08-09T00:00:00",
          "2024-08-10T00:00:00",
          "2024-08-11T00:00:00",
          "2024-08-12T00:00:00",
          "2024-08-13T00:00:00",
          "2024-08-14T00:00:00",
          "2024-08-15T00:00:00",
          "2024-08-16T00:00:00",
          "2024-08-17T00:00:00",
          "2024-08-18T00:00:00",
          "2024-08-19T00:00:00",
          "2024-08-20T00:00:00",
          "2024-08-21T00:00:00",
          "2024-08-22T00:00:00",
          "2024-08-23T00:00:00",
          "2024-08-24T00:00:00",
          "2024-08-25T00:00:00",
          "2024-08-26T00:00:00",
          "2024-08-27T00:00:00",
          "2024-08-28T00:00:00",
          "2024-08-29T00:00:00",
          "2024-08-30T00:00:00",
          "2024-08-31T00:00:00",
          "2024-09-01T00:00:00",
          "2024-09-02T00:00:00",
          "2024-09-03T00:00:00",
          "2024-09-04T00:00:00",
          "2024-09-05T00:00:00",
          "2024-09-06T00:00:00",
          "2024-09-07T00:00:00",
          "2024-09-08T00:00:00",
          "2024-09-09T00:00:00",
          "2024-09-10T00:00:00",
          "2024-09-11T00:00:00",
          "2024-09-12T00:00:00",
          "2024-09-13T00:00:00",
          "2024-09-14T00:00:00",
          "2024-09-15T00:00:00",
          "2024-09-16T00:00:00",
          "2024-09-17T00:00:00",
          "2024-09-18T00:00:00",
          "2024-09-19T00:00:00",
          "2024-09-20T00:00:00",
          "2024-09-21T00:00:00",
          "2024-09-22T00:00:00",
          "2024-09-23T00:00:00",
          "2024-09-24T00:00:00",
          "2024-09-25T00:00:00",
          "2024-09-26T00:00:00",
          "2024-09-27T00:00:00",
          "2024-09-28T00:00:00",
          "2024-09-29T00:00:00",
          "2024-09-30T00:00:00",
          "2024-10-01T00:00:00",
          "2024-10-02T00:00:00",
          "2024-10-03T00:00:00",
          "2024-10-04T00:00:00",
          "2024-10-05T00:00:00",
          "2024-10-06T00:00:00",
          "2024-10-07T00:00:00",
          "2024-10-08T00:00:00",
          "2024-10-09T00:00:00",
          "2024-10-10T00:00:00",
          "2024-10-11T00:00:00",
          "2024-10-12T00:00:00",
          "2024-10-13T00:00:00",
          "2024-10-14T00:00:00",
          "2024-10-15T00:00:00",
          "2024-10-16T00:00:00",
          "2024-10-17T00:00:00",
          "2024-10-18T00:00:00",
          "2024-10-19T00:00:00",
          "2024-10-20T00:00:00",
          "2024-10-21T00:00:00",
          "2024-10-22T00:00:00",
          "2024-10-23T00:00:00",
          "2024-10-24T00:00:00",
          "2024-10-25T00:00:00",
          "2024-10-26T00:00:00",
          "2024-10-27T00:00:00",
          "2024-10-28T00:00:00",
          "2024-10-29T00:00:00",
          "2024-10-30T00:00:00",
          "2024-10-31T00:00:00",
          "2024-11-01T00:00:00",
          "2024-11-02T00:00:00",
          "2024-11-03T00:00:00",
          "2024-11-04T00:00:00",
          "2024-11-05T00:00:00",
          "2024-11-06T00:00:00",
          "2024-11-07T00:00:00",
          "2024-11-08T00:00:00",
          "2024-11-09T00:00:00",
          "2024-11-10T00:00:00",
          "2024-11-11T00:00:00",
          "2024-11-12T00:00:00",
          "2024-11-13T00:00:00",
          "2024-11-14T00:00:00",
          "2024-11-15T00:00:00",
          "2024-11-16T00:00:00",
          "2024-11-17T00:00:00",
          "2024-11-18T00:00:00",
          "2024-11-19T00:00:00",
          "2024-11-20T00:00:00",
          "2024-11-21T00:00:00",
          "2024-11-22T00:00:00",
          "2024-11-23T00:00:00",
          "2024-11-24T00:00:00",
          "2024-11-25T00:00:00",
          "2024-11-26T00:00:00",
          "2024-11-27T00:00:00",
          "2024-11-28T00:00:00",
          "2024-11-29T00:00:00",
          "2024-11-30T00:00:00",
          "2024-12-01T00:00:00",
          "2024-12-02T00:00:00",
          "2024-12-03T00:00:00",
          "2024-12-04T00:00:00",
          "2024-12-05T00:00:00",
          "2024-12-06T00:00:00",
          "2024-12-07T00:00:00",
          "2024-12-08T00:00:00",
          "2024-12-09T00:00:00",
          "2024-12-10T00:00:00",
          "2024-12-11T00:00:00",
          "2024-12-12T00:00:00",
          "2024-12-13T00:00:00",
          "2024-12-14T00:00:00",
          "2024-12-15T00:00:00",
          "2024-12-16T00:00:00",
          "2024-12-17T00:00:00",
          "2024-12-18T00:00:00",
          "2024-12-19T00:00:00",
          "2024-12-20T00:00:00",
          "2024-12-21T00:00:00",
          "2024-12-22T00:00:00",
          "2024-12-23T00:00:00",
          "2024-12-24T00:00:00",
          "2024-12-25T00:00:00",
          "2024-12-26T00:00:00",
          "2024-12-27T00:00:00",
          "2024-12-28T00:00:00",
          "2024-12-29T00:00:00",
          "2024-12-30T00:00:00",
          "2024-12-31T00:00:00",
          "2025-01-01T00:00:00",
          "2025-01-02T00:00:00",
          "2025-01-03T00:00:00",
          "2025-01-04T00:00:00",
          "2025-01-05T00:00:00",
          "2025-01-06T00:00:00",
          "2025-01-07T00:00:00",
          "2025-01-08T00:00:00",
          "2025-01-09T00:00:00",
          "2025-01-10T00:00:00",
          "2025-01-11T00:00:00",
          "2025-01-12T00:00:00",
          "2025-01-13T00:00:00",
          "2025-01-14T00:00:00",
          "2025-01-15T00:00:00",
          "2025-01-16T00:00:00",
          "2025-01-17T00:00:00",
          "2025-01-18T00:00:00",
          "2025-01-19T00:00:00",
          "2025-01-20T00:00:00",
          "2025-01-21T00:00:00",
          "2025-01-22T00:00:00",
          "2025-01-23T00:00:00",
          "2025-01-24T00:00:00",
          "2025-01-25T00:00:00",
          "2025-01-26T00:00:00",
          "2025-01-27T00:00:00",
          "2025-01-28T00:00:00",
          "2025-01-29T00:00:00",
          "2025-01-30T00:00:00",
          "2025-01-31T00:00:00",
          "2025-02-01T00:00:00",
          "2025-02-02T00:00:00",
          "2025-02-03T00:00:00",
          "2025-02-04T00:00:00",
          "2025-02-05T00:00:00",
          "2025-02-06T00:00:00",
          "2025-02-07T00:00:00",
          "2025-02-08T00:00:00",
          "2025-02-09T00:00:00",
          "2025-02-10T00:00:00",
          "2025-02-11T00:00:00",
          "2025-02-12T00:00:00",
          "2025-02-13T00:00:00",
          "2025-02-14T00:00:00",
          "2025-02-15T00:00:00",
          "2025-02-16T00:00:00",
          "2025-02-17T00:00:00",
          "2025-02-18T00:00:00",
          "2025-02-19T00:00:00",
          "2025-02-20T00:00:00",
          "2025-02-21T00:00:00",
          "2025-02-22T00:00:00",
          "2025-02-23T00:00:00",
          "2025-02-24T00:00:00",
          "2025-02-25T00:00:00",
          "2025-02-26T00:00:00",
          "2025-02-27T00:00:00",
          "2025-02-28T00:00:00",
          "2025-03-01T00:00:00",
          "2025-03-02T00:00:00",
          "2025-03-03T00:00:00",
          "2025-03-04T00:00:00",
          "2025-03-05T00:00:00",
          "2025-03-06T00:00:00",
          "2025-03-07T00:00:00",
          "2025-03-08T00:00:00",
          "2025-03-09T00:00:00",
          "2025-03-10T00:00:00",
          "2025-03-11T00:00:00",
          "2025-03-12T00:00:00",
          "2025-03-13T00:00:00",
          "2025-03-14T00:00:00",
          "2025-03-15T00:00:00",
          "2025-03-16T00:00:00",
          "2025-03-17T00:00:00",
          "2025-03-18T00:00:00",
          "2025-03-19T00:00:00",
          "2025-03-20T00:00:00",
          "2025-03-21T00:00:00",
          "2025-03-22T00:00:00",
          "2025-03-23T00:00:00",
          "2025-03-24T00:00:00",
          "2025-03-25T00:00:00",
          "2025-03-26T00:00:00",
          "2025-03-27T00:00:00",
          "2025-03-28T00:00:00",
          "2025-03-29T00:00:00",
          "2025-03-30T00:00:00",
          "2025-03-31T00:00:00",
          "2025-04-01T00:00:00",
          "2025-04-02T00:00:00",
          "2025-04-03T00:00:00",
          "2025-04-04T00:00:00",
          "2025-04-05T00:00:00",
          "2025-04-06T00:00:00",
          "2025-04-07T00:00:00",
          "2025-04-08T00:00:00",
          "2025-04-09T00:00:00",
          "2025-04-10T00:00:00",
          "2025-04-11T00:00:00",
          "2025-04-12T00:00:00",
          "2025-04-13T00:00:00",
          "2025-04-14T00:00:00",
          "2025-04-15T00:00:00",
          "2025-04-16T00:00:00",
          "2025-04-17T00:00:00",
          "2025-04-18T00:00:00",
          "2025-04-19T00:00:00",
          "2025-04-20T00:00:00",
          "2025-04-21T00:00:00",
          "2025-04-22T00:00:00",
          "2025-04-23T00:00:00",
          "2025-04-24T00:00:00",
          "2025-04-25T00:00:00",
          "2025-04-26T00:00:00",
          "2025-04-27T00:00:00",
          "2025-04-28T00:00:00"
         ],
         "y": {
          "bdata": "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",
          "dtype": "f8"
         }
        }
       ],
       "layout": {
        "showlegend": true,
        "template": {
         "data": {
          "bar": [
           {
            "error_x": {
             "color": "rgb(51,51,51)"
            },
            "error_y": {
             "color": "rgb(51,51,51)"
            },
            "marker": {
             "line": {
              "color": "rgb(237,237,237)",
              "width": 0.5
             },
             "pattern": {
              "fillmode": "overlay",
              "size": 10,
              "solidity": 0.2
             }
            },
            "type": "bar"
           }
          ],
          "barpolar": [
           {
            "marker": {
             "line": {
              "color": "rgb(237,237,237)",
              "width": 0.5
             },
             "pattern": {
              "fillmode": "overlay",
              "size": 10,
              "solidity": 0.2
             }
            },
            "type": "barpolar"
           }
          ],
          "carpet": [
           {
            "aaxis": {
             "endlinecolor": "rgb(51,51,51)",
             "gridcolor": "white",
             "linecolor": "white",
             "minorgridcolor": "white",
             "startlinecolor": "rgb(51,51,51)"
            },
            "baxis": {
             "endlinecolor": "rgb(51,51,51)",
             "gridcolor": "white",
             "linecolor": "white",
             "minorgridcolor": "white",
             "startlinecolor": "rgb(51,51,51)"
            },
            "type": "carpet"
           }
          ],
          "choropleth": [
           {
            "colorbar": {
             "outlinewidth": 0,
             "tickcolor": "rgb(237,237,237)",
             "ticklen": 6,
             "ticks": "inside"
            },
            "type": "choropleth"
           }
          ],
          "contour": [
           {
            "colorbar": {
             "outlinewidth": 0,
             "tickcolor": "rgb(237,237,237)",
             "ticklen": 6,
             "ticks": "inside"
            },
            "colorscale": [
             [
              0,
              "rgb(20,44,66)"
             ],
             [
              1,
              "rgb(90,179,244)"
             ]
            ],
            "type": "contour"
           }
          ],
          "contourcarpet": [
           {
            "colorbar": {
             "outlinewidth": 0,
             "tickcolor": "rgb(237,237,237)",
             "ticklen": 6,
             "ticks": "inside"
            },
            "type": "contourcarpet"
           }
          ],
          "heatmap": [
           {
            "colorbar": {
             "outlinewidth": 0,
             "tickcolor": "rgb(237,237,237)",
             "ticklen": 6,
             "ticks": "inside"
            },
            "colorscale": [
             [
              0,
              "rgb(20,44,66)"
             ],
             [
              1,
              "rgb(90,179,244)"
             ]
            ],
            "type": "heatmap"
           }
          ],
          "histogram": [
           {
            "marker": {
             "pattern": {
              "fillmode": "overlay",
              "size": 10,
              "solidity": 0.2
             }
            },
            "type": "histogram"
           }
          ],
          "histogram2d": [
           {
            "colorbar": {
             "outlinewidth": 0,
             "tickcolor": "rgb(237,237,237)",
             "ticklen": 6,
             "ticks": "inside"
            },
            "colorscale": [
             [
              0,
              "rgb(20,44,66)"
             ],
             [
              1,
              "rgb(90,179,244)"
             ]
            ],
            "type": "histogram2d"
           }
          ],
          "histogram2dcontour": [
           {
            "colorbar": {
             "outlinewidth": 0,
             "tickcolor": "rgb(237,237,237)",
             "ticklen": 6,
             "ticks": "inside"
            },
            "colorscale": [
             [
              0,
              "rgb(20,44,66)"
             ],
             [
              1,
              "rgb(90,179,244)"
             ]
            ],
            "type": "histogram2dcontour"
           }
          ],
          "mesh3d": [
           {
            "colorbar": {
             "outlinewidth": 0,
             "tickcolor": "rgb(237,237,237)",
             "ticklen": 6,
             "ticks": "inside"
            },
            "type": "mesh3d"
           }
          ],
          "parcoords": [
           {
            "line": {
             "colorbar": {
              "outlinewidth": 0,
              "tickcolor": "rgb(237,237,237)",
              "ticklen": 6,
              "ticks": "inside"
             }
            },
            "type": "parcoords"
           }
          ],
          "pie": [
           {
            "automargin": true,
            "type": "pie"
           }
          ],
          "scatter": [
           {
            "fillpattern": {
             "fillmode": "overlay",
             "size": 10,
             "solidity": 0.2
            },
            "type": "scatter"
           }
          ],
          "scatter3d": [
           {
            "line": {
             "colorbar": {
              "outlinewidth": 0,
              "tickcolor": "rgb(237,237,237)",
              "ticklen": 6,
              "ticks": "inside"
             }
            },
            "marker": {
             "colorbar": {
              "outlinewidth": 0,
              "tickcolor": "rgb(237,237,237)",
              "ticklen": 6,
              "ticks": "inside"
             }
            },
            "type": "scatter3d"
           }
          ],
          "scattercarpet": [
           {
            "marker": {
             "colorbar": {
              "outlinewidth": 0,
              "tickcolor": "rgb(237,237,237)",
              "ticklen": 6,
              "ticks": "inside"
             }
            },
            "type": "scattercarpet"
           }
          ],
          "scattergeo": [
           {
            "marker": {
             "colorbar": {
              "outlinewidth": 0,
              "tickcolor": "rgb(237,237,237)",
              "ticklen": 6,
              "ticks": "inside"
             }
            },
            "type": "scattergeo"
           }
          ],
          "scattergl": [
           {
            "marker": {
             "colorbar": {
              "outlinewidth": 0,
              "tickcolor": "rgb(237,237,237)",
              "ticklen": 6,
              "ticks": "inside"
             }
            },
            "type": "scattergl"
           }
          ],
          "scattermap": [
           {
            "marker": {
             "colorbar": {
              "outlinewidth": 0,
              "tickcolor": "rgb(237,237,237)",
              "ticklen": 6,
              "ticks": "inside"
             }
            },
            "type": "scattermap"
           }
          ],
          "scattermapbox": [
           {
            "marker": {
             "colorbar": {
              "outlinewidth": 0,
              "tickcolor": "rgb(237,237,237)",
              "ticklen": 6,
              "ticks": "inside"
             }
            },
            "type": "scattermapbox"
           }
          ],
          "scatterpolar": [
           {
            "marker": {
             "colorbar": {
              "outlinewidth": 0,
              "tickcolor": "rgb(237,237,237)",
              "ticklen": 6,
              "ticks": "inside"
             }
            },
            "type": "scatterpolar"
           }
          ],
          "scatterpolargl": [
           {
            "marker": {
             "colorbar": {
              "outlinewidth": 0,
              "tickcolor": "rgb(237,237,237)",
              "ticklen": 6,
              "ticks": "inside"
             }
            },
            "type": "scatterpolargl"
           }
          ],
          "scatterternary": [
           {
            "marker": {
             "colorbar": {
              "outlinewidth": 0,
              "tickcolor": "rgb(237,237,237)",
              "ticklen": 6,
              "ticks": "inside"
             }
            },
            "type": "scatterternary"
           }
          ],
          "surface": [
           {
            "colorbar": {
             "outlinewidth": 0,
             "tickcolor": "rgb(237,237,237)",
             "ticklen": 6,
             "ticks": "inside"
            },
            "colorscale": [
             [
              0,
              "rgb(20,44,66)"
             ],
             [
              1,
              "rgb(90,179,244)"
             ]
            ],
            "type": "surface"
           }
          ],
          "table": [
           {
            "cells": {
             "fill": {
              "color": "rgb(237,237,237)"
             },
             "line": {
              "color": "white"
             }
            },
            "header": {
             "fill": {
              "color": "rgb(217,217,217)"
             },
             "line": {
              "color": "white"
             }
            },
            "type": "table"
           }
          ]
         },
         "layout": {
          "annotationdefaults": {
           "arrowhead": 0,
           "arrowwidth": 1
          },
          "autotypenumbers": "strict",
          "coloraxis": {
           "colorbar": {
            "outlinewidth": 0,
            "tickcolor": "rgb(237,237,237)",
            "ticklen": 6,
            "ticks": "inside"
           }
          },
          "colorscale": {
           "sequential": [
            [
             0,
             "rgb(20,44,66)"
            ],
            [
             1,
             "rgb(90,179,244)"
            ]
           ],
           "sequentialminus": [
            [
             0,
             "rgb(20,44,66)"
            ],
            [
             1,
             "rgb(90,179,244)"
            ]
           ]
          },
          "colorway": [
           "#F8766D",
           "#A3A500",
           "#00BF7D",
           "#00B0F6",
           "#E76BF3"
          ],
          "font": {
           "color": "rgb(51,51,51)"
          },
          "geo": {
           "bgcolor": "white",
           "lakecolor": "white",
           "landcolor": "rgb(237,237,237)",
           "showlakes": true,
           "showland": true,
           "subunitcolor": "white"
          },
          "hoverlabel": {
           "align": "left"
          },
          "hovermode": "closest",
          "paper_bgcolor": "white",
          "plot_bgcolor": "rgb(237,237,237)",
          "polar": {
           "angularaxis": {
            "gridcolor": "white",
            "linecolor": "white",
            "showgrid": true,
            "tickcolor": "rgb(51,51,51)",
            "ticks": "outside"
           },
           "bgcolor": "rgb(237,237,237)",
           "radialaxis": {
            "gridcolor": "white",
            "linecolor": "white",
            "showgrid": true,
            "tickcolor": "rgb(51,51,51)",
            "ticks": "outside"
           }
          },
          "scene": {
           "xaxis": {
            "backgroundcolor": "rgb(237,237,237)",
            "gridcolor": "white",
            "gridwidth": 2,
            "linecolor": "white",
            "showbackground": true,
            "showgrid": true,
            "tickcolor": "rgb(51,51,51)",
            "ticks": "outside",
            "zerolinecolor": "white"
           },
           "yaxis": {
            "backgroundcolor": "rgb(237,237,237)",
            "gridcolor": "white",
            "gridwidth": 2,
            "linecolor": "white",
            "showbackground": true,
            "showgrid": true,
            "tickcolor": "rgb(51,51,51)",
            "ticks": "outside",
            "zerolinecolor": "white"
           },
           "zaxis": {
            "backgroundcolor": "rgb(237,237,237)",
            "gridcolor": "white",
            "gridwidth": 2,
            "linecolor": "white",
            "showbackground": true,
            "showgrid": true,
            "tickcolor": "rgb(51,51,51)",
            "ticks": "outside",
            "zerolinecolor": "white"
           }
          },
          "shapedefaults": {
           "fillcolor": "black",
           "line": {
            "width": 0
           },
           "opacity": 0.3
          },
          "ternary": {
           "aaxis": {
            "gridcolor": "white",
            "linecolor": "white",
            "showgrid": true,
            "tickcolor": "rgb(51,51,51)",
            "ticks": "outside"
           },
           "baxis": {
            "gridcolor": "white",
            "linecolor": "white",
            "showgrid": true,
            "tickcolor": "rgb(51,51,51)",
            "ticks": "outside"
           },
           "bgcolor": "rgb(237,237,237)",
           "caxis": {
            "gridcolor": "white",
            "linecolor": "white",
            "showgrid": true,
            "tickcolor": "rgb(51,51,51)",
            "ticks": "outside"
           }
          },
          "xaxis": {
           "automargin": true,
           "gridcolor": "white",
           "linecolor": "white",
           "showgrid": true,
           "tickcolor": "rgb(51,51,51)",
           "ticks": "outside",
           "title": {
            "standoff": 15
           },
           "zerolinecolor": "white"
          },
          "yaxis": {
           "automargin": true,
           "gridcolor": "white",
           "linecolor": "white",
           "showgrid": true,
           "tickcolor": "rgb(51,51,51)",
           "ticks": "outside",
           "title": {
            "standoff": 15
           },
           "zerolinecolor": "white"
          }
         }
        },
        "title": {
         "text": "Actual vs. 'Out-of-Sample' Forecast | BNB-USD"
        },
        "xaxis": {
         "title": {
          "text": "Time"
         }
        },
        "yaxis": {
         "title": {
          "text": "Values"
         }
        }
       }
      }
     },
     "metadata": {},
     "output_type": "display_data"
    }
   ],
   "source": [
    "arima = create_model('arima')\n",
    "tuned_arima = tune_model(arima)\n",
    "final_arima = finalize_model(tuned_arima)\n",
    "#future_dates = pd.date_range(df.index[-1], periods=30, freq='D')\n",
    "arima_predictions = predict_model(final_arima)\n",
    "#Plot prophet model forecast\n",
    "plot_model(final_arima, plot='forecast')"
   ]
  },
  {
   "cell_type": "markdown",
   "id": "7c14b049",
   "metadata": {},
   "source": [
    "BNB-USD Prophet Model - Using This one for GUI"
   ]
  },
  {
   "cell_type": "code",
   "execution_count": 259,
   "id": "4c793c0e",
   "metadata": {},
   "outputs": [
    {
     "data": {
      "text/html": [
       "<style type=\"text/css\">\n",
       "#T_a8147_row25_col1, #T_a8147_row31_col1 {\n",
       "  background-color: lightgreen;\n",
       "}\n",
       "</style>\n",
       "<table id=\"T_a8147\">\n",
       "  <thead>\n",
       "    <tr>\n",
       "      <th class=\"blank level0\" >&nbsp;</th>\n",
       "      <th id=\"T_a8147_level0_col0\" class=\"col_heading level0 col0\" >Description</th>\n",
       "      <th id=\"T_a8147_level0_col1\" class=\"col_heading level0 col1\" >Value</th>\n",
       "    </tr>\n",
       "  </thead>\n",
       "  <tbody>\n",
       "    <tr>\n",
       "      <th id=\"T_a8147_level0_row0\" class=\"row_heading level0 row0\" >0</th>\n",
       "      <td id=\"T_a8147_row0_col0\" class=\"data row0 col0\" >session_id</td>\n",
       "      <td id=\"T_a8147_row0_col1\" class=\"data row0 col1\" >123</td>\n",
       "    </tr>\n",
       "    <tr>\n",
       "      <th id=\"T_a8147_level0_row1\" class=\"row_heading level0 row1\" >1</th>\n",
       "      <td id=\"T_a8147_row1_col0\" class=\"data row1 col0\" >Target</td>\n",
       "      <td id=\"T_a8147_row1_col1\" class=\"data row1 col1\" >BNB-USD</td>\n",
       "    </tr>\n",
       "    <tr>\n",
       "      <th id=\"T_a8147_level0_row2\" class=\"row_heading level0 row2\" >2</th>\n",
       "      <td id=\"T_a8147_row2_col0\" class=\"data row2 col0\" >Approach</td>\n",
       "      <td id=\"T_a8147_row2_col1\" class=\"data row2 col1\" >Univariate</td>\n",
       "    </tr>\n",
       "    <tr>\n",
       "      <th id=\"T_a8147_level0_row3\" class=\"row_heading level0 row3\" >3</th>\n",
       "      <td id=\"T_a8147_row3_col0\" class=\"data row3 col0\" >Exogenous Variables</td>\n",
       "      <td id=\"T_a8147_row3_col1\" class=\"data row3 col1\" >Not Present</td>\n",
       "    </tr>\n",
       "    <tr>\n",
       "      <th id=\"T_a8147_level0_row4\" class=\"row_heading level0 row4\" >4</th>\n",
       "      <td id=\"T_a8147_row4_col0\" class=\"data row4 col0\" >Original data shape</td>\n",
       "      <td id=\"T_a8147_row4_col1\" class=\"data row4 col1\" >(365, 1)</td>\n",
       "    </tr>\n",
       "    <tr>\n",
       "      <th id=\"T_a8147_level0_row5\" class=\"row_heading level0 row5\" >5</th>\n",
       "      <td id=\"T_a8147_row5_col0\" class=\"data row5 col0\" >Transformed data shape</td>\n",
       "      <td id=\"T_a8147_row5_col1\" class=\"data row5 col1\" >(365, 1)</td>\n",
       "    </tr>\n",
       "    <tr>\n",
       "      <th id=\"T_a8147_level0_row6\" class=\"row_heading level0 row6\" >6</th>\n",
       "      <td id=\"T_a8147_row6_col0\" class=\"data row6 col0\" >Transformed train set shape</td>\n",
       "      <td id=\"T_a8147_row6_col1\" class=\"data row6 col1\" >(358, 1)</td>\n",
       "    </tr>\n",
       "    <tr>\n",
       "      <th id=\"T_a8147_level0_row7\" class=\"row_heading level0 row7\" >7</th>\n",
       "      <td id=\"T_a8147_row7_col0\" class=\"data row7 col0\" >Transformed test set shape</td>\n",
       "      <td id=\"T_a8147_row7_col1\" class=\"data row7 col1\" >(7, 1)</td>\n",
       "    </tr>\n",
       "    <tr>\n",
       "      <th id=\"T_a8147_level0_row8\" class=\"row_heading level0 row8\" >8</th>\n",
       "      <td id=\"T_a8147_row8_col0\" class=\"data row8 col0\" >Rows with missing values</td>\n",
       "      <td id=\"T_a8147_row8_col1\" class=\"data row8 col1\" >0.0%</td>\n",
       "    </tr>\n",
       "    <tr>\n",
       "      <th id=\"T_a8147_level0_row9\" class=\"row_heading level0 row9\" >9</th>\n",
       "      <td id=\"T_a8147_row9_col0\" class=\"data row9 col0\" >Fold Generator</td>\n",
       "      <td id=\"T_a8147_row9_col1\" class=\"data row9 col1\" >ExpandingWindowSplitter</td>\n",
       "    </tr>\n",
       "    <tr>\n",
       "      <th id=\"T_a8147_level0_row10\" class=\"row_heading level0 row10\" >10</th>\n",
       "      <td id=\"T_a8147_row10_col0\" class=\"data row10 col0\" >Fold Number</td>\n",
       "      <td id=\"T_a8147_row10_col1\" class=\"data row10 col1\" >3</td>\n",
       "    </tr>\n",
       "    <tr>\n",
       "      <th id=\"T_a8147_level0_row11\" class=\"row_heading level0 row11\" >11</th>\n",
       "      <td id=\"T_a8147_row11_col0\" class=\"data row11 col0\" >Enforce Prediction Interval</td>\n",
       "      <td id=\"T_a8147_row11_col1\" class=\"data row11 col1\" >False</td>\n",
       "    </tr>\n",
       "    <tr>\n",
       "      <th id=\"T_a8147_level0_row12\" class=\"row_heading level0 row12\" >12</th>\n",
       "      <td id=\"T_a8147_row12_col0\" class=\"data row12 col0\" >Splits used for hyperparameters</td>\n",
       "      <td id=\"T_a8147_row12_col1\" class=\"data row12 col1\" >all</td>\n",
       "    </tr>\n",
       "    <tr>\n",
       "      <th id=\"T_a8147_level0_row13\" class=\"row_heading level0 row13\" >13</th>\n",
       "      <td id=\"T_a8147_row13_col0\" class=\"data row13 col0\" >User Defined Seasonal Period(s)</td>\n",
       "      <td id=\"T_a8147_row13_col1\" class=\"data row13 col1\" >D</td>\n",
       "    </tr>\n",
       "    <tr>\n",
       "      <th id=\"T_a8147_level0_row14\" class=\"row_heading level0 row14\" >14</th>\n",
       "      <td id=\"T_a8147_row14_col0\" class=\"data row14 col0\" >Ignore Seasonality Test</td>\n",
       "      <td id=\"T_a8147_row14_col1\" class=\"data row14 col1\" >False</td>\n",
       "    </tr>\n",
       "    <tr>\n",
       "      <th id=\"T_a8147_level0_row15\" class=\"row_heading level0 row15\" >15</th>\n",
       "      <td id=\"T_a8147_row15_col0\" class=\"data row15 col0\" >Seasonality Detection Algo</td>\n",
       "      <td id=\"T_a8147_row15_col1\" class=\"data row15 col1\" >user_defined</td>\n",
       "    </tr>\n",
       "    <tr>\n",
       "      <th id=\"T_a8147_level0_row16\" class=\"row_heading level0 row16\" >16</th>\n",
       "      <td id=\"T_a8147_row16_col0\" class=\"data row16 col0\" >Max Period to Consider</td>\n",
       "      <td id=\"T_a8147_row16_col1\" class=\"data row16 col1\" >60</td>\n",
       "    </tr>\n",
       "    <tr>\n",
       "      <th id=\"T_a8147_level0_row17\" class=\"row_heading level0 row17\" >17</th>\n",
       "      <td id=\"T_a8147_row17_col0\" class=\"data row17 col0\" >Seasonal Period(s) Tested</td>\n",
       "      <td id=\"T_a8147_row17_col1\" class=\"data row17 col1\" >[7]</td>\n",
       "    </tr>\n",
       "    <tr>\n",
       "      <th id=\"T_a8147_level0_row18\" class=\"row_heading level0 row18\" >18</th>\n",
       "      <td id=\"T_a8147_row18_col0\" class=\"data row18 col0\" >Significant Seasonal Period(s)</td>\n",
       "      <td id=\"T_a8147_row18_col1\" class=\"data row18 col1\" >[7]</td>\n",
       "    </tr>\n",
       "    <tr>\n",
       "      <th id=\"T_a8147_level0_row19\" class=\"row_heading level0 row19\" >19</th>\n",
       "      <td id=\"T_a8147_row19_col0\" class=\"data row19 col0\" >Significant Seasonal Period(s) without Harmonics</td>\n",
       "      <td id=\"T_a8147_row19_col1\" class=\"data row19 col1\" >[7]</td>\n",
       "    </tr>\n",
       "    <tr>\n",
       "      <th id=\"T_a8147_level0_row20\" class=\"row_heading level0 row20\" >20</th>\n",
       "      <td id=\"T_a8147_row20_col0\" class=\"data row20 col0\" >Remove Harmonics</td>\n",
       "      <td id=\"T_a8147_row20_col1\" class=\"data row20 col1\" >False</td>\n",
       "    </tr>\n",
       "    <tr>\n",
       "      <th id=\"T_a8147_level0_row21\" class=\"row_heading level0 row21\" >21</th>\n",
       "      <td id=\"T_a8147_row21_col0\" class=\"data row21 col0\" >Harmonics Order Method</td>\n",
       "      <td id=\"T_a8147_row21_col1\" class=\"data row21 col1\" >harmonic_max</td>\n",
       "    </tr>\n",
       "    <tr>\n",
       "      <th id=\"T_a8147_level0_row22\" class=\"row_heading level0 row22\" >22</th>\n",
       "      <td id=\"T_a8147_row22_col0\" class=\"data row22 col0\" >Num Seasonalities to Use</td>\n",
       "      <td id=\"T_a8147_row22_col1\" class=\"data row22 col1\" >1</td>\n",
       "    </tr>\n",
       "    <tr>\n",
       "      <th id=\"T_a8147_level0_row23\" class=\"row_heading level0 row23\" >23</th>\n",
       "      <td id=\"T_a8147_row23_col0\" class=\"data row23 col0\" >All Seasonalities to Use</td>\n",
       "      <td id=\"T_a8147_row23_col1\" class=\"data row23 col1\" >[7]</td>\n",
       "    </tr>\n",
       "    <tr>\n",
       "      <th id=\"T_a8147_level0_row24\" class=\"row_heading level0 row24\" >24</th>\n",
       "      <td id=\"T_a8147_row24_col0\" class=\"data row24 col0\" >Primary Seasonality</td>\n",
       "      <td id=\"T_a8147_row24_col1\" class=\"data row24 col1\" >7</td>\n",
       "    </tr>\n",
       "    <tr>\n",
       "      <th id=\"T_a8147_level0_row25\" class=\"row_heading level0 row25\" >25</th>\n",
       "      <td id=\"T_a8147_row25_col0\" class=\"data row25 col0\" >Seasonality Present</td>\n",
       "      <td id=\"T_a8147_row25_col1\" class=\"data row25 col1\" >True</td>\n",
       "    </tr>\n",
       "    <tr>\n",
       "      <th id=\"T_a8147_level0_row26\" class=\"row_heading level0 row26\" >26</th>\n",
       "      <td id=\"T_a8147_row26_col0\" class=\"data row26 col0\" >Seasonality Type</td>\n",
       "      <td id=\"T_a8147_row26_col1\" class=\"data row26 col1\" >mul</td>\n",
       "    </tr>\n",
       "    <tr>\n",
       "      <th id=\"T_a8147_level0_row27\" class=\"row_heading level0 row27\" >27</th>\n",
       "      <td id=\"T_a8147_row27_col0\" class=\"data row27 col0\" >Target Strictly Positive</td>\n",
       "      <td id=\"T_a8147_row27_col1\" class=\"data row27 col1\" >True</td>\n",
       "    </tr>\n",
       "    <tr>\n",
       "      <th id=\"T_a8147_level0_row28\" class=\"row_heading level0 row28\" >28</th>\n",
       "      <td id=\"T_a8147_row28_col0\" class=\"data row28 col0\" >Target White Noise</td>\n",
       "      <td id=\"T_a8147_row28_col1\" class=\"data row28 col1\" >No</td>\n",
       "    </tr>\n",
       "    <tr>\n",
       "      <th id=\"T_a8147_level0_row29\" class=\"row_heading level0 row29\" >29</th>\n",
       "      <td id=\"T_a8147_row29_col0\" class=\"data row29 col0\" >Recommended d</td>\n",
       "      <td id=\"T_a8147_row29_col1\" class=\"data row29 col1\" >1</td>\n",
       "    </tr>\n",
       "    <tr>\n",
       "      <th id=\"T_a8147_level0_row30\" class=\"row_heading level0 row30\" >30</th>\n",
       "      <td id=\"T_a8147_row30_col0\" class=\"data row30 col0\" >Recommended Seasonal D</td>\n",
       "      <td id=\"T_a8147_row30_col1\" class=\"data row30 col1\" >0</td>\n",
       "    </tr>\n",
       "    <tr>\n",
       "      <th id=\"T_a8147_level0_row31\" class=\"row_heading level0 row31\" >31</th>\n",
       "      <td id=\"T_a8147_row31_col0\" class=\"data row31 col0\" >Preprocess</td>\n",
       "      <td id=\"T_a8147_row31_col1\" class=\"data row31 col1\" >True</td>\n",
       "    </tr>\n",
       "    <tr>\n",
       "      <th id=\"T_a8147_level0_row32\" class=\"row_heading level0 row32\" >32</th>\n",
       "      <td id=\"T_a8147_row32_col0\" class=\"data row32 col0\" >Numerical Imputation (Target)</td>\n",
       "      <td id=\"T_a8147_row32_col1\" class=\"data row32 col1\" >drift</td>\n",
       "    </tr>\n",
       "    <tr>\n",
       "      <th id=\"T_a8147_level0_row33\" class=\"row_heading level0 row33\" >33</th>\n",
       "      <td id=\"T_a8147_row33_col0\" class=\"data row33 col0\" >Transformation (Target)</td>\n",
       "      <td id=\"T_a8147_row33_col1\" class=\"data row33 col1\" >log</td>\n",
       "    </tr>\n",
       "    <tr>\n",
       "      <th id=\"T_a8147_level0_row34\" class=\"row_heading level0 row34\" >34</th>\n",
       "      <td id=\"T_a8147_row34_col0\" class=\"data row34 col0\" >Scaling (Target)</td>\n",
       "      <td id=\"T_a8147_row34_col1\" class=\"data row34 col1\" >None</td>\n",
       "    </tr>\n",
       "    <tr>\n",
       "      <th id=\"T_a8147_level0_row35\" class=\"row_heading level0 row35\" >35</th>\n",
       "      <td id=\"T_a8147_row35_col0\" class=\"data row35 col0\" >Feature Engineering (Target) - Reduced Regression</td>\n",
       "      <td id=\"T_a8147_row35_col1\" class=\"data row35 col1\" >False</td>\n",
       "    </tr>\n",
       "    <tr>\n",
       "      <th id=\"T_a8147_level0_row36\" class=\"row_heading level0 row36\" >36</th>\n",
       "      <td id=\"T_a8147_row36_col0\" class=\"data row36 col0\" >CPU Jobs</td>\n",
       "      <td id=\"T_a8147_row36_col1\" class=\"data row36 col1\" >-1</td>\n",
       "    </tr>\n",
       "    <tr>\n",
       "      <th id=\"T_a8147_level0_row37\" class=\"row_heading level0 row37\" >37</th>\n",
       "      <td id=\"T_a8147_row37_col0\" class=\"data row37 col0\" >Use GPU</td>\n",
       "      <td id=\"T_a8147_row37_col1\" class=\"data row37 col1\" >False</td>\n",
       "    </tr>\n",
       "    <tr>\n",
       "      <th id=\"T_a8147_level0_row38\" class=\"row_heading level0 row38\" >38</th>\n",
       "      <td id=\"T_a8147_row38_col0\" class=\"data row38 col0\" >Log Experiment</td>\n",
       "      <td id=\"T_a8147_row38_col1\" class=\"data row38 col1\" >False</td>\n",
       "    </tr>\n",
       "    <tr>\n",
       "      <th id=\"T_a8147_level0_row39\" class=\"row_heading level0 row39\" >39</th>\n",
       "      <td id=\"T_a8147_row39_col0\" class=\"data row39 col0\" >Experiment Name</td>\n",
       "      <td id=\"T_a8147_row39_col1\" class=\"data row39 col1\" >ts-default-name</td>\n",
       "    </tr>\n",
       "    <tr>\n",
       "      <th id=\"T_a8147_level0_row40\" class=\"row_heading level0 row40\" >40</th>\n",
       "      <td id=\"T_a8147_row40_col0\" class=\"data row40 col0\" >USI</td>\n",
       "      <td id=\"T_a8147_row40_col1\" class=\"data row40 col1\" >ab1b</td>\n",
       "    </tr>\n",
       "  </tbody>\n",
       "</table>\n"
      ],
      "text/plain": [
       "<pandas.io.formats.style.Styler at 0x1b9e4e74c70>"
      ]
     },
     "metadata": {},
     "output_type": "display_data"
    },
    {
     "data": {
      "text/html": [],
      "text/plain": [
       "<IPython.core.display.HTML object>"
      ]
     },
     "metadata": {},
     "output_type": "display_data"
    },
    {
     "data": {
      "text/html": [
       "<style type=\"text/css\">\n",
       "#T_e7eab_row3_col0, #T_e7eab_row3_col1, #T_e7eab_row3_col2, #T_e7eab_row3_col3, #T_e7eab_row3_col4, #T_e7eab_row3_col5, #T_e7eab_row3_col6, #T_e7eab_row3_col7 {\n",
       "  background: yellow;\n",
       "}\n",
       "</style>\n",
       "<table id=\"T_e7eab\">\n",
       "  <thead>\n",
       "    <tr>\n",
       "      <th class=\"blank level0\" >&nbsp;</th>\n",
       "      <th id=\"T_e7eab_level0_col0\" class=\"col_heading level0 col0\" >cutoff</th>\n",
       "      <th id=\"T_e7eab_level0_col1\" class=\"col_heading level0 col1\" >MASE</th>\n",
       "      <th id=\"T_e7eab_level0_col2\" class=\"col_heading level0 col2\" >RMSSE</th>\n",
       "      <th id=\"T_e7eab_level0_col3\" class=\"col_heading level0 col3\" >MAE</th>\n",
       "      <th id=\"T_e7eab_level0_col4\" class=\"col_heading level0 col4\" >RMSE</th>\n",
       "      <th id=\"T_e7eab_level0_col5\" class=\"col_heading level0 col5\" >MAPE</th>\n",
       "      <th id=\"T_e7eab_level0_col6\" class=\"col_heading level0 col6\" >SMAPE</th>\n",
       "      <th id=\"T_e7eab_level0_col7\" class=\"col_heading level0 col7\" >R2</th>\n",
       "    </tr>\n",
       "  </thead>\n",
       "  <tbody>\n",
       "    <tr>\n",
       "      <th id=\"T_e7eab_level0_row0\" class=\"row_heading level0 row0\" >0</th>\n",
       "      <td id=\"T_e7eab_row0_col0\" class=\"data row0 col0\" >2025-04-02</td>\n",
       "      <td id=\"T_e7eab_row0_col1\" class=\"data row0 col1\" >0.4597</td>\n",
       "      <td id=\"T_e7eab_row0_col2\" class=\"data row0 col2\" >0.4183</td>\n",
       "      <td id=\"T_e7eab_row0_col3\" class=\"data row0 col3\" >15.1715</td>\n",
       "      <td id=\"T_e7eab_row0_col4\" class=\"data row0 col4\" >17.9343</td>\n",
       "      <td id=\"T_e7eab_row0_col5\" class=\"data row0 col5\" >0.0269</td>\n",
       "      <td id=\"T_e7eab_row0_col6\" class=\"data row0 col6\" >0.0265</td>\n",
       "      <td id=\"T_e7eab_row0_col7\" class=\"data row0 col7\" >0.0941</td>\n",
       "    </tr>\n",
       "    <tr>\n",
       "      <th id=\"T_e7eab_level0_row1\" class=\"row_heading level0 row1\" >1</th>\n",
       "      <td id=\"T_e7eab_row1_col0\" class=\"data row1 col0\" >2025-04-09</td>\n",
       "      <td id=\"T_e7eab_row1_col1\" class=\"data row1 col1\" >0.2798</td>\n",
       "      <td id=\"T_e7eab_row1_col2\" class=\"data row1 col2\" >0.2379</td>\n",
       "      <td id=\"T_e7eab_row1_col3\" class=\"data row1 col3\" >9.2443</td>\n",
       "      <td id=\"T_e7eab_row1_col4\" class=\"data row1 col4\" >10.1831</td>\n",
       "      <td id=\"T_e7eab_row1_col5\" class=\"data row1 col5\" >0.0158</td>\n",
       "      <td id=\"T_e7eab_row1_col6\" class=\"data row1 col6\" >0.0159</td>\n",
       "      <td id=\"T_e7eab_row1_col7\" class=\"data row1 col7\" >-2.0438</td>\n",
       "    </tr>\n",
       "    <tr>\n",
       "      <th id=\"T_e7eab_level0_row2\" class=\"row_heading level0 row2\" >2</th>\n",
       "      <td id=\"T_e7eab_row2_col0\" class=\"data row2 col0\" >2025-04-16</td>\n",
       "      <td id=\"T_e7eab_row2_col1\" class=\"data row2 col1\" >0.7088</td>\n",
       "      <td id=\"T_e7eab_row2_col2\" class=\"data row2 col2\" >0.6142</td>\n",
       "      <td id=\"T_e7eab_row2_col3\" class=\"data row2 col3\" >23.1756</td>\n",
       "      <td id=\"T_e7eab_row2_col4\" class=\"data row2 col4\" >26.0799</td>\n",
       "      <td id=\"T_e7eab_row2_col5\" class=\"data row2 col5\" >0.0384</td>\n",
       "      <td id=\"T_e7eab_row2_col6\" class=\"data row2 col6\" >0.0394</td>\n",
       "      <td id=\"T_e7eab_row2_col7\" class=\"data row2 col7\" >-6.2309</td>\n",
       "    </tr>\n",
       "    <tr>\n",
       "      <th id=\"T_e7eab_level0_row3\" class=\"row_heading level0 row3\" >Mean</th>\n",
       "      <td id=\"T_e7eab_row3_col0\" class=\"data row3 col0\" >NaT</td>\n",
       "      <td id=\"T_e7eab_row3_col1\" class=\"data row3 col1\" >0.4828</td>\n",
       "      <td id=\"T_e7eab_row3_col2\" class=\"data row3 col2\" >0.4235</td>\n",
       "      <td id=\"T_e7eab_row3_col3\" class=\"data row3 col3\" >15.8638</td>\n",
       "      <td id=\"T_e7eab_row3_col4\" class=\"data row3 col4\" >18.0658</td>\n",
       "      <td id=\"T_e7eab_row3_col5\" class=\"data row3 col5\" >0.0270</td>\n",
       "      <td id=\"T_e7eab_row3_col6\" class=\"data row3 col6\" >0.0273</td>\n",
       "      <td id=\"T_e7eab_row3_col7\" class=\"data row3 col7\" >-2.7269</td>\n",
       "    </tr>\n",
       "    <tr>\n",
       "      <th id=\"T_e7eab_level0_row4\" class=\"row_heading level0 row4\" >SD</th>\n",
       "      <td id=\"T_e7eab_row4_col0\" class=\"data row4 col0\" >NaT</td>\n",
       "      <td id=\"T_e7eab_row4_col1\" class=\"data row4 col1\" >0.1759</td>\n",
       "      <td id=\"T_e7eab_row4_col2\" class=\"data row4 col2\" >0.1537</td>\n",
       "      <td id=\"T_e7eab_row4_col3\" class=\"data row4 col3\" >5.7085</td>\n",
       "      <td id=\"T_e7eab_row4_col4\" class=\"data row4 col4\" >6.4905</td>\n",
       "      <td id=\"T_e7eab_row4_col5\" class=\"data row4 col5\" >0.0093</td>\n",
       "      <td id=\"T_e7eab_row4_col6\" class=\"data row4 col6\" >0.0096</td>\n",
       "      <td id=\"T_e7eab_row4_col7\" class=\"data row4 col7\" >2.6270</td>\n",
       "    </tr>\n",
       "  </tbody>\n",
       "</table>\n"
      ],
      "text/plain": [
       "<pandas.io.formats.style.Styler at 0x1b9e5fc41c0>"
      ]
     },
     "metadata": {},
     "output_type": "display_data"
    },
    {
     "data": {
      "text/html": [],
      "text/plain": [
       "<IPython.core.display.HTML object>"
      ]
     },
     "metadata": {},
     "output_type": "display_data"
    },
    {
     "data": {
      "text/html": [],
      "text/plain": [
       "<IPython.core.display.HTML object>"
      ]
     },
     "metadata": {},
     "output_type": "display_data"
    },
    {
     "data": {
      "text/html": [
       "<style type=\"text/css\">\n",
       "#T_17797_row3_col0, #T_17797_row3_col1, #T_17797_row3_col2, #T_17797_row3_col3, #T_17797_row3_col4, #T_17797_row3_col5, #T_17797_row3_col6, #T_17797_row3_col7 {\n",
       "  background: yellow;\n",
       "}\n",
       "</style>\n",
       "<table id=\"T_17797\">\n",
       "  <thead>\n",
       "    <tr>\n",
       "      <th class=\"blank level0\" >&nbsp;</th>\n",
       "      <th id=\"T_17797_level0_col0\" class=\"col_heading level0 col0\" >cutoff</th>\n",
       "      <th id=\"T_17797_level0_col1\" class=\"col_heading level0 col1\" >MASE</th>\n",
       "      <th id=\"T_17797_level0_col2\" class=\"col_heading level0 col2\" >RMSSE</th>\n",
       "      <th id=\"T_17797_level0_col3\" class=\"col_heading level0 col3\" >MAE</th>\n",
       "      <th id=\"T_17797_level0_col4\" class=\"col_heading level0 col4\" >RMSE</th>\n",
       "      <th id=\"T_17797_level0_col5\" class=\"col_heading level0 col5\" >MAPE</th>\n",
       "      <th id=\"T_17797_level0_col6\" class=\"col_heading level0 col6\" >SMAPE</th>\n",
       "      <th id=\"T_17797_level0_col7\" class=\"col_heading level0 col7\" >R2</th>\n",
       "    </tr>\n",
       "  </thead>\n",
       "  <tbody>\n",
       "    <tr>\n",
       "      <th id=\"T_17797_level0_row0\" class=\"row_heading level0 row0\" >0</th>\n",
       "      <td id=\"T_17797_row0_col0\" class=\"data row0 col0\" >2025-04-02</td>\n",
       "      <td id=\"T_17797_row0_col1\" class=\"data row0 col1\" >0.4740</td>\n",
       "      <td id=\"T_17797_row0_col2\" class=\"data row0 col2\" >0.4939</td>\n",
       "      <td id=\"T_17797_row0_col3\" class=\"data row0 col3\" >15.6437</td>\n",
       "      <td id=\"T_17797_row0_col4\" class=\"data row0 col4\" >21.1762</td>\n",
       "      <td id=\"T_17797_row0_col5\" class=\"data row0 col5\" >0.0280</td>\n",
       "      <td id=\"T_17797_row0_col6\" class=\"data row0 col6\" >0.0273</td>\n",
       "      <td id=\"T_17797_row0_col7\" class=\"data row0 col7\" >-0.2630</td>\n",
       "    </tr>\n",
       "    <tr>\n",
       "      <th id=\"T_17797_level0_row1\" class=\"row_heading level0 row1\" >1</th>\n",
       "      <td id=\"T_17797_row1_col0\" class=\"data row1 col0\" >2025-04-09</td>\n",
       "      <td id=\"T_17797_row1_col1\" class=\"data row1 col1\" >0.1191</td>\n",
       "      <td id=\"T_17797_row1_col2\" class=\"data row1 col2\" >0.1158</td>\n",
       "      <td id=\"T_17797_row1_col3\" class=\"data row1 col3\" >3.9328</td>\n",
       "      <td id=\"T_17797_row1_col4\" class=\"data row1 col4\" >4.9564</td>\n",
       "      <td id=\"T_17797_row1_col5\" class=\"data row1 col5\" >0.0067</td>\n",
       "      <td id=\"T_17797_row1_col6\" class=\"data row1 col6\" >0.0067</td>\n",
       "      <td id=\"T_17797_row1_col7\" class=\"data row1 col7\" >0.2789</td>\n",
       "    </tr>\n",
       "    <tr>\n",
       "      <th id=\"T_17797_level0_row2\" class=\"row_heading level0 row2\" >2</th>\n",
       "      <td id=\"T_17797_row2_col0\" class=\"data row2 col0\" >2025-04-16</td>\n",
       "      <td id=\"T_17797_row2_col1\" class=\"data row2 col1\" >0.5200</td>\n",
       "      <td id=\"T_17797_row2_col2\" class=\"data row2 col2\" >0.4877</td>\n",
       "      <td id=\"T_17797_row2_col3\" class=\"data row2 col3\" >17.0021</td>\n",
       "      <td id=\"T_17797_row2_col4\" class=\"data row2 col4\" >20.7057</td>\n",
       "      <td id=\"T_17797_row2_col5\" class=\"data row2 col5\" >0.0281</td>\n",
       "      <td id=\"T_17797_row2_col6\" class=\"data row2 col6\" >0.0287</td>\n",
       "      <td id=\"T_17797_row2_col7\" class=\"data row2 col7\" >-3.5579</td>\n",
       "    </tr>\n",
       "    <tr>\n",
       "      <th id=\"T_17797_level0_row3\" class=\"row_heading level0 row3\" >Mean</th>\n",
       "      <td id=\"T_17797_row3_col0\" class=\"data row3 col0\" >NaT</td>\n",
       "      <td id=\"T_17797_row3_col1\" class=\"data row3 col1\" >0.3710</td>\n",
       "      <td id=\"T_17797_row3_col2\" class=\"data row3 col2\" >0.3658</td>\n",
       "      <td id=\"T_17797_row3_col3\" class=\"data row3 col3\" >12.1929</td>\n",
       "      <td id=\"T_17797_row3_col4\" class=\"data row3 col4\" >15.6128</td>\n",
       "      <td id=\"T_17797_row3_col5\" class=\"data row3 col5\" >0.0209</td>\n",
       "      <td id=\"T_17797_row3_col6\" class=\"data row3 col6\" >0.0209</td>\n",
       "      <td id=\"T_17797_row3_col7\" class=\"data row3 col7\" >-1.1807</td>\n",
       "    </tr>\n",
       "    <tr>\n",
       "      <th id=\"T_17797_level0_row4\" class=\"row_heading level0 row4\" >SD</th>\n",
       "      <td id=\"T_17797_row4_col0\" class=\"data row4 col0\" >NaT</td>\n",
       "      <td id=\"T_17797_row4_col1\" class=\"data row4 col1\" >0.1791</td>\n",
       "      <td id=\"T_17797_row4_col2\" class=\"data row4 col2\" >0.1768</td>\n",
       "      <td id=\"T_17797_row4_col3\" class=\"data row4 col3\" >5.8670</td>\n",
       "      <td id=\"T_17797_row4_col4\" class=\"data row4 col4\" >7.5376</td>\n",
       "      <td id=\"T_17797_row4_col5\" class=\"data row4 col5\" >0.0101</td>\n",
       "      <td id=\"T_17797_row4_col6\" class=\"data row4 col6\" >0.0101</td>\n",
       "      <td id=\"T_17797_row4_col7\" class=\"data row4 col7\" >1.6954</td>\n",
       "    </tr>\n",
       "  </tbody>\n",
       "</table>\n"
      ],
      "text/plain": [
       "<pandas.io.formats.style.Styler at 0x1b9e60300a0>"
      ]
     },
     "metadata": {},
     "output_type": "display_data"
    },
    {
     "data": {
      "text/html": [],
      "text/plain": [
       "<IPython.core.display.HTML object>"
      ]
     },
     "metadata": {},
     "output_type": "display_data"
    },
    {
     "name": "stdout",
     "output_type": "stream",
     "text": [
      "Fitting 3 folds for each of 10 candidates, totalling 30 fits\n"
     ]
    },
    {
     "name": "stderr",
     "output_type": "stream",
     "text": [
      "[Parallel(n_jobs=-1)]: Using backend LokyBackend with 8 concurrent workers.\n",
      "[Parallel(n_jobs=-1)]: Done  30 out of  30 | elapsed:   13.7s finished\n"
     ]
    }
   ],
   "source": [
    "bnb = df.loc[:,'BNB-USD']\n",
    "# Set up PyCaret environment\n",
    "s = setup(data=bnb, \n",
    "          target = 'BNB-USD',\n",
    "          transform_target='log',\n",
    "          fh=7,  # Forecast horizon\n",
    "          session_id=123,\n",
    "          fold_strategy='expanding',\n",
    "          seasonal_period='D',\n",
    "          #fold_spans=\"adaptive\",\n",
    "          numeric_imputation_target = 'drift')\n",
    "prophet = create_model('prophet')\n",
    "tuned_prophet = tune_model(prophet)\n",
    "# Predictions\n",
    "bnb_prophet = finalize_model(tuned_prophet)\n",
    "prophet_predictions = predict_model(bnb_prophet)\n",
    "#Plot prophet model forecast\n"
   ]
  },
  {
   "cell_type": "code",
   "execution_count": 255,
   "id": "a3c3fb75",
   "metadata": {},
   "outputs": [],
   "source": [
    "bnb = plot_model(bnb_prophet,plot = 'forecast', return_fig=True)\n",
    "# Save it as an HTML file\n",
    "pio.write_html(bnb, file='BNB_Prophet_7.html', auto_open=False)"
   ]
  },
  {
   "cell_type": "code",
   "execution_count": 254,
   "id": "22e37f82",
   "metadata": {},
   "outputs": [
    {
     "data": {
      "application/vnd.plotly.v1+json": {
       "config": {
        "plotlyServerURL": "https://plot.ly"
       },
       "data": [
        {
         "line": {
          "color": "#1f77b4"
         },
         "marker": {
          "size": 5
         },
         "mode": "lines+markers",
         "name": "Forecast | Prophet",
         "showlegend": true,
         "type": "scatter",
         "x": [
          "2025-05-01T00:00:00",
          "2025-05-02T00:00:00",
          "2025-05-03T00:00:00",
          "2025-05-04T00:00:00",
          "2025-05-05T00:00:00",
          "2025-05-06T00:00:00",
          "2025-05-07T00:00:00"
         ],
         "y": {
          "bdata": "OwFNhA04gkAdWmQ7XzmCQArXo3A9V4JAoWez6nMfgkCAt0CCYhmCQN21hHxQHYJANjy9UhYmgkA=",
          "dtype": "f8"
         }
        },
        {
         "line": {
          "width": 0
         },
         "marker": {
          "color": "#68BBE3"
         },
         "mode": "lines",
         "name": "Lower Interval",
         "showlegend": false,
         "type": "scatter",
         "x": [
          "2025-05-01T00:00:00",
          "2025-05-02T00:00:00",
          "2025-05-03T00:00:00",
          "2025-05-04T00:00:00",
          "2025-05-05T00:00:00",
          "2025-05-06T00:00:00",
          "2025-05-07T00:00:00"
         ],
         "y": {
          "bdata": "4lgXt9EwgUAQ6bevAyqBQFRSJ6CJQYFAmnecoqMOgUBU46WbxAyBQCGwcmiR9IBA8tJNYpDmgEA=",
          "dtype": "f8"
         }
        },
        {
         "fill": "tonexty",
         "fillcolor": "rgba(104,187,227,0.5)",
         "line": {
          "width": 0
         },
         "marker": {
          "color": "#68BBE3"
         },
         "mode": "lines",
         "name": "Prediction Interval | Prophet",
         "showlegend": true,
         "type": "scatter",
         "x": [
          "2025-05-01T00:00:00",
          "2025-05-02T00:00:00",
          "2025-05-03T00:00:00",
          "2025-05-04T00:00:00",
          "2025-05-05T00:00:00",
          "2025-05-06T00:00:00",
          "2025-05-07T00:00:00"
         ],
         "y": {
          "bdata": "JlMFo5JSg0Bq3nGKDluDQCxlGeJYf4NAswxxrItUg0AAkX77OjmDQLhAguJHaoNAXynLEEd8g0A=",
          "dtype": "f8"
         }
        },
        {
         "marker": {
          "color": "#3f3f3f",
          "size": 5
         },
         "mode": "lines+markers",
         "name": "Original",
         "showlegend": true,
         "type": "scatter",
         "x": [
          "2024-05-01T00:00:00",
          "2024-05-02T00:00:00",
          "2024-05-03T00:00:00",
          "2024-05-04T00:00:00",
          "2024-05-05T00:00:00",
          "2024-05-06T00:00:00",
          "2024-05-07T00:00:00",
          "2024-05-08T00:00:00",
          "2024-05-09T00:00:00",
          "2024-05-10T00:00:00",
          "2024-05-11T00:00:00",
          "2024-05-12T00:00:00",
          "2024-05-13T00:00:00",
          "2024-05-14T00:00:00",
          "2024-05-15T00:00:00",
          "2024-05-16T00:00:00",
          "2024-05-17T00:00:00",
          "2024-05-18T00:00:00",
          "2024-05-19T00:00:00",
          "2024-05-20T00:00:00",
          "2024-05-21T00:00:00",
          "2024-05-22T00:00:00",
          "2024-05-23T00:00:00",
          "2024-05-24T00:00:00",
          "2024-05-25T00:00:00",
          "2024-05-26T00:00:00",
          "2024-05-27T00:00:00",
          "2024-05-28T00:00:00",
          "2024-05-29T00:00:00",
          "2024-05-30T00:00:00",
          "2024-05-31T00:00:00",
          "2024-06-01T00:00:00",
          "2024-06-02T00:00:00",
          "2024-06-03T00:00:00",
          "2024-06-04T00:00:00",
          "2024-06-05T00:00:00",
          "2024-06-06T00:00:00",
          "2024-06-07T00:00:00",
          "2024-06-08T00:00:00",
          "2024-06-09T00:00:00",
          "2024-06-10T00:00:00",
          "2024-06-11T00:00:00",
          "2024-06-12T00:00:00",
          "2024-06-13T00:00:00",
          "2024-06-14T00:00:00",
          "2024-06-15T00:00:00",
          "2024-06-16T00:00:00",
          "2024-06-17T00:00:00",
          "2024-06-18T00:00:00",
          "2024-06-19T00:00:00",
          "2024-06-20T00:00:00",
          "2024-06-21T00:00:00",
          "2024-06-22T00:00:00",
          "2024-06-23T00:00:00",
          "2024-06-24T00:00:00",
          "2024-06-25T00:00:00",
          "2024-06-26T00:00:00",
          "2024-06-27T00:00:00",
          "2024-06-28T00:00:00",
          "2024-06-29T00:00:00",
          "2024-06-30T00:00:00",
          "2024-07-01T00:00:00",
          "2024-07-02T00:00:00",
          "2024-07-03T00:00:00",
          "2024-07-04T00:00:00",
          "2024-07-05T00:00:00",
          "2024-07-06T00:00:00",
          "2024-07-07T00:00:00",
          "2024-07-08T00:00:00",
          "2024-07-09T00:00:00",
          "2024-07-10T00:00:00",
          "2024-07-11T00:00:00",
          "2024-07-12T00:00:00",
          "2024-07-13T00:00:00",
          "2024-07-14T00:00:00",
          "2024-07-15T00:00:00",
          "2024-07-16T00:00:00",
          "2024-07-17T00:00:00",
          "2024-07-18T00:00:00",
          "2024-07-19T00:00:00",
          "2024-07-20T00:00:00",
          "2024-07-21T00:00:00",
          "2024-07-22T00:00:00",
          "2024-07-23T00:00:00",
          "2024-07-24T00:00:00",
          "2024-07-25T00:00:00",
          "2024-07-26T00:00:00",
          "2024-07-27T00:00:00",
          "2024-07-28T00:00:00",
          "2024-07-29T00:00:00",
          "2024-07-30T00:00:00",
          "2024-07-31T00:00:00",
          "2024-08-01T00:00:00",
          "2024-08-02T00:00:00",
          "2024-08-03T00:00:00",
          "2024-08-04T00:00:00",
          "2024-08-05T00:00:00",
          "2024-08-06T00:00:00",
          "2024-08-07T00:00:00",
          "2024-08-08T00:00:00",
          "2024-08-09T00:00:00",
          "2024-08-10T00:00:00",
          "2024-08-11T00:00:00",
          "2024-08-12T00:00:00",
          "2024-08-13T00:00:00",
          "2024-08-14T00:00:00",
          "2024-08-15T00:00:00",
          "2024-08-16T00:00:00",
          "2024-08-17T00:00:00",
          "2024-08-18T00:00:00",
          "2024-08-19T00:00:00",
          "2024-08-20T00:00:00",
          "2024-08-21T00:00:00",
          "2024-08-22T00:00:00",
          "2024-08-23T00:00:00",
          "2024-08-24T00:00:00",
          "2024-08-25T00:00:00",
          "2024-08-26T00:00:00",
          "2024-08-27T00:00:00",
          "2024-08-28T00:00:00",
          "2024-08-29T00:00:00",
          "2024-08-30T00:00:00",
          "2024-08-31T00:00:00",
          "2024-09-01T00:00:00",
          "2024-09-02T00:00:00",
          "2024-09-03T00:00:00",
          "2024-09-04T00:00:00",
          "2024-09-05T00:00:00",
          "2024-09-06T00:00:00",
          "2024-09-07T00:00:00",
          "2024-09-08T00:00:00",
          "2024-09-09T00:00:00",
          "2024-09-10T00:00:00",
          "2024-09-11T00:00:00",
          "2024-09-12T00:00:00",
          "2024-09-13T00:00:00",
          "2024-09-14T00:00:00",
          "2024-09-15T00:00:00",
          "2024-09-16T00:00:00",
          "2024-09-17T00:00:00",
          "2024-09-18T00:00:00",
          "2024-09-19T00:00:00",
          "2024-09-20T00:00:00",
          "2024-09-21T00:00:00",
          "2024-09-22T00:00:00",
          "2024-09-23T00:00:00",
          "2024-09-24T00:00:00",
          "2024-09-25T00:00:00",
          "2024-09-26T00:00:00",
          "2024-09-27T00:00:00",
          "2024-09-28T00:00:00",
          "2024-09-29T00:00:00",
          "2024-09-30T00:00:00",
          "2024-10-01T00:00:00",
          "2024-10-02T00:00:00",
          "2024-10-03T00:00:00",
          "2024-10-04T00:00:00",
          "2024-10-05T00:00:00",
          "2024-10-06T00:00:00",
          "2024-10-07T00:00:00",
          "2024-10-08T00:00:00",
          "2024-10-09T00:00:00",
          "2024-10-10T00:00:00",
          "2024-10-11T00:00:00",
          "2024-10-12T00:00:00",
          "2024-10-13T00:00:00",
          "2024-10-14T00:00:00",
          "2024-10-15T00:00:00",
          "2024-10-16T00:00:00",
          "2024-10-17T00:00:00",
          "2024-10-18T00:00:00",
          "2024-10-19T00:00:00",
          "2024-10-20T00:00:00",
          "2024-10-21T00:00:00",
          "2024-10-22T00:00:00",
          "2024-10-23T00:00:00",
          "2024-10-24T00:00:00",
          "2024-10-25T00:00:00",
          "2024-10-26T00:00:00",
          "2024-10-27T00:00:00",
          "2024-10-28T00:00:00",
          "2024-10-29T00:00:00",
          "2024-10-30T00:00:00",
          "2024-10-31T00:00:00",
          "2024-11-01T00:00:00",
          "2024-11-02T00:00:00",
          "2024-11-03T00:00:00",
          "2024-11-04T00:00:00",
          "2024-11-05T00:00:00",
          "2024-11-06T00:00:00",
          "2024-11-07T00:00:00",
          "2024-11-08T00:00:00",
          "2024-11-09T00:00:00",
          "2024-11-10T00:00:00",
          "2024-11-11T00:00:00",
          "2024-11-12T00:00:00",
          "2024-11-13T00:00:00",
          "2024-11-14T00:00:00",
          "2024-11-15T00:00:00",
          "2024-11-16T00:00:00",
          "2024-11-17T00:00:00",
          "2024-11-18T00:00:00",
          "2024-11-19T00:00:00",
          "2024-11-20T00:00:00",
          "2024-11-21T00:00:00",
          "2024-11-22T00:00:00",
          "2024-11-23T00:00:00",
          "2024-11-24T00:00:00",
          "2024-11-25T00:00:00",
          "2024-11-26T00:00:00",
          "2024-11-27T00:00:00",
          "2024-11-28T00:00:00",
          "2024-11-29T00:00:00",
          "2024-11-30T00:00:00",
          "2024-12-01T00:00:00",
          "2024-12-02T00:00:00",
          "2024-12-03T00:00:00",
          "2024-12-04T00:00:00",
          "2024-12-05T00:00:00",
          "2024-12-06T00:00:00",
          "2024-12-07T00:00:00",
          "2024-12-08T00:00:00",
          "2024-12-09T00:00:00",
          "2024-12-10T00:00:00",
          "2024-12-11T00:00:00",
          "2024-12-12T00:00:00",
          "2024-12-13T00:00:00",
          "2024-12-14T00:00:00",
          "2024-12-15T00:00:00",
          "2024-12-16T00:00:00",
          "2024-12-17T00:00:00",
          "2024-12-18T00:00:00",
          "2024-12-19T00:00:00",
          "2024-12-20T00:00:00",
          "2024-12-21T00:00:00",
          "2024-12-22T00:00:00",
          "2024-12-23T00:00:00",
          "2024-12-24T00:00:00",
          "2024-12-25T00:00:00",
          "2024-12-26T00:00:00",
          "2024-12-27T00:00:00",
          "2024-12-28T00:00:00",
          "2024-12-29T00:00:00",
          "2024-12-30T00:00:00",
          "2024-12-31T00:00:00",
          "2025-01-01T00:00:00",
          "2025-01-02T00:00:00",
          "2025-01-03T00:00:00",
          "2025-01-04T00:00:00",
          "2025-01-05T00:00:00",
          "2025-01-06T00:00:00",
          "2025-01-07T00:00:00",
          "2025-01-08T00:00:00",
          "2025-01-09T00:00:00",
          "2025-01-10T00:00:00",
          "2025-01-11T00:00:00",
          "2025-01-12T00:00:00",
          "2025-01-13T00:00:00",
          "2025-01-14T00:00:00",
          "2025-01-15T00:00:00",
          "2025-01-16T00:00:00",
          "2025-01-17T00:00:00",
          "2025-01-18T00:00:00",
          "2025-01-19T00:00:00",
          "2025-01-20T00:00:00",
          "2025-01-21T00:00:00",
          "2025-01-22T00:00:00",
          "2025-01-23T00:00:00",
          "2025-01-24T00:00:00",
          "2025-01-25T00:00:00",
          "2025-01-26T00:00:00",
          "2025-01-27T00:00:00",
          "2025-01-28T00:00:00",
          "2025-01-29T00:00:00",
          "2025-01-30T00:00:00",
          "2025-01-31T00:00:00",
          "2025-02-01T00:00:00",
          "2025-02-02T00:00:00",
          "2025-02-03T00:00:00",
          "2025-02-04T00:00:00",
          "2025-02-05T00:00:00",
          "2025-02-06T00:00:00",
          "2025-02-07T00:00:00",
          "2025-02-08T00:00:00",
          "2025-02-09T00:00:00",
          "2025-02-10T00:00:00",
          "2025-02-11T00:00:00",
          "2025-02-12T00:00:00",
          "2025-02-13T00:00:00",
          "2025-02-14T00:00:00",
          "2025-02-15T00:00:00",
          "2025-02-16T00:00:00",
          "2025-02-17T00:00:00",
          "2025-02-18T00:00:00",
          "2025-02-19T00:00:00",
          "2025-02-20T00:00:00",
          "2025-02-21T00:00:00",
          "2025-02-22T00:00:00",
          "2025-02-23T00:00:00",
          "2025-02-24T00:00:00",
          "2025-02-25T00:00:00",
          "2025-02-26T00:00:00",
          "2025-02-27T00:00:00",
          "2025-02-28T00:00:00",
          "2025-03-01T00:00:00",
          "2025-03-02T00:00:00",
          "2025-03-03T00:00:00",
          "2025-03-04T00:00:00",
          "2025-03-05T00:00:00",
          "2025-03-06T00:00:00",
          "2025-03-07T00:00:00",
          "2025-03-08T00:00:00",
          "2025-03-09T00:00:00",
          "2025-03-10T00:00:00",
          "2025-03-11T00:00:00",
          "2025-03-12T00:00:00",
          "2025-03-13T00:00:00",
          "2025-03-14T00:00:00",
          "2025-03-15T00:00:00",
          "2025-03-16T00:00:00",
          "2025-03-17T00:00:00",
          "2025-03-18T00:00:00",
          "2025-03-19T00:00:00",
          "2025-03-20T00:00:00",
          "2025-03-21T00:00:00",
          "2025-03-22T00:00:00",
          "2025-03-23T00:00:00",
          "2025-03-24T00:00:00",
          "2025-03-25T00:00:00",
          "2025-03-26T00:00:00",
          "2025-03-27T00:00:00",
          "2025-03-28T00:00:00",
          "2025-03-29T00:00:00",
          "2025-03-30T00:00:00",
          "2025-03-31T00:00:00",
          "2025-04-01T00:00:00",
          "2025-04-02T00:00:00",
          "2025-04-03T00:00:00",
          "2025-04-04T00:00:00",
          "2025-04-05T00:00:00",
          "2025-04-06T00:00:00",
          "2025-04-07T00:00:00",
          "2025-04-08T00:00:00",
          "2025-04-09T00:00:00",
          "2025-04-10T00:00:00",
          "2025-04-11T00:00:00",
          "2025-04-12T00:00:00",
          "2025-04-13T00:00:00",
          "2025-04-14T00:00:00",
          "2025-04-15T00:00:00",
          "2025-04-16T00:00:00",
          "2025-04-17T00:00:00",
          "2025-04-18T00:00:00",
          "2025-04-19T00:00:00",
          "2025-04-20T00:00:00",
          "2025-04-21T00:00:00",
          "2025-04-22T00:00:00",
          "2025-04-23T00:00:00",
          "2025-04-24T00:00:00",
          "2025-04-25T00:00:00",
          "2025-04-26T00:00:00",
          "2025-04-27T00:00:00",
          "2025-04-28T00:00:00",
          "2025-04-29T00:00:00",
          "2025-04-30T00:00:00"
         ],
         "y": {
          "bdata": "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",
          "dtype": "f8"
         }
        }
       ],
       "layout": {
        "showlegend": true,
        "template": {
         "data": {
          "bar": [
           {
            "error_x": {
             "color": "rgb(51,51,51)"
            },
            "error_y": {
             "color": "rgb(51,51,51)"
            },
            "marker": {
             "line": {
              "color": "rgb(237,237,237)",
              "width": 0.5
             },
             "pattern": {
              "fillmode": "overlay",
              "size": 10,
              "solidity": 0.2
             }
            },
            "type": "bar"
           }
          ],
          "barpolar": [
           {
            "marker": {
             "line": {
              "color": "rgb(237,237,237)",
              "width": 0.5
             },
             "pattern": {
              "fillmode": "overlay",
              "size": 10,
              "solidity": 0.2
             }
            },
            "type": "barpolar"
           }
          ],
          "carpet": [
           {
            "aaxis": {
             "endlinecolor": "rgb(51,51,51)",
             "gridcolor": "white",
             "linecolor": "white",
             "minorgridcolor": "white",
             "startlinecolor": "rgb(51,51,51)"
            },
            "baxis": {
             "endlinecolor": "rgb(51,51,51)",
             "gridcolor": "white",
             "linecolor": "white",
             "minorgridcolor": "white",
             "startlinecolor": "rgb(51,51,51)"
            },
            "type": "carpet"
           }
          ],
          "choropleth": [
           {
            "colorbar": {
             "outlinewidth": 0,
             "tickcolor": "rgb(237,237,237)",
             "ticklen": 6,
             "ticks": "inside"
            },
            "type": "choropleth"
           }
          ],
          "contour": [
           {
            "colorbar": {
             "outlinewidth": 0,
             "tickcolor": "rgb(237,237,237)",
             "ticklen": 6,
             "ticks": "inside"
            },
            "colorscale": [
             [
              0,
              "rgb(20,44,66)"
             ],
             [
              1,
              "rgb(90,179,244)"
             ]
            ],
            "type": "contour"
           }
          ],
          "contourcarpet": [
           {
            "colorbar": {
             "outlinewidth": 0,
             "tickcolor": "rgb(237,237,237)",
             "ticklen": 6,
             "ticks": "inside"
            },
            "type": "contourcarpet"
           }
          ],
          "heatmap": [
           {
            "colorbar": {
             "outlinewidth": 0,
             "tickcolor": "rgb(237,237,237)",
             "ticklen": 6,
             "ticks": "inside"
            },
            "colorscale": [
             [
              0,
              "rgb(20,44,66)"
             ],
             [
              1,
              "rgb(90,179,244)"
             ]
            ],
            "type": "heatmap"
           }
          ],
          "histogram": [
           {
            "marker": {
             "pattern": {
              "fillmode": "overlay",
              "size": 10,
              "solidity": 0.2
             }
            },
            "type": "histogram"
           }
          ],
          "histogram2d": [
           {
            "colorbar": {
             "outlinewidth": 0,
             "tickcolor": "rgb(237,237,237)",
             "ticklen": 6,
             "ticks": "inside"
            },
            "colorscale": [
             [
              0,
              "rgb(20,44,66)"
             ],
             [
              1,
              "rgb(90,179,244)"
             ]
            ],
            "type": "histogram2d"
           }
          ],
          "histogram2dcontour": [
           {
            "colorbar": {
             "outlinewidth": 0,
             "tickcolor": "rgb(237,237,237)",
             "ticklen": 6,
             "ticks": "inside"
            },
            "colorscale": [
             [
              0,
              "rgb(20,44,66)"
             ],
             [
              1,
              "rgb(90,179,244)"
             ]
            ],
            "type": "histogram2dcontour"
           }
          ],
          "mesh3d": [
           {
            "colorbar": {
             "outlinewidth": 0,
             "tickcolor": "rgb(237,237,237)",
             "ticklen": 6,
             "ticks": "inside"
            },
            "type": "mesh3d"
           }
          ],
          "parcoords": [
           {
            "line": {
             "colorbar": {
              "outlinewidth": 0,
              "tickcolor": "rgb(237,237,237)",
              "ticklen": 6,
              "ticks": "inside"
             }
            },
            "type": "parcoords"
           }
          ],
          "pie": [
           {
            "automargin": true,
            "type": "pie"
           }
          ],
          "scatter": [
           {
            "fillpattern": {
             "fillmode": "overlay",
             "size": 10,
             "solidity": 0.2
            },
            "type": "scatter"
           }
          ],
          "scatter3d": [
           {
            "line": {
             "colorbar": {
              "outlinewidth": 0,
              "tickcolor": "rgb(237,237,237)",
              "ticklen": 6,
              "ticks": "inside"
             }
            },
            "marker": {
             "colorbar": {
              "outlinewidth": 0,
              "tickcolor": "rgb(237,237,237)",
              "ticklen": 6,
              "ticks": "inside"
             }
            },
            "type": "scatter3d"
           }
          ],
          "scattercarpet": [
           {
            "marker": {
             "colorbar": {
              "outlinewidth": 0,
              "tickcolor": "rgb(237,237,237)",
              "ticklen": 6,
              "ticks": "inside"
             }
            },
            "type": "scattercarpet"
           }
          ],
          "scattergeo": [
           {
            "marker": {
             "colorbar": {
              "outlinewidth": 0,
              "tickcolor": "rgb(237,237,237)",
              "ticklen": 6,
              "ticks": "inside"
             }
            },
            "type": "scattergeo"
           }
          ],
          "scattergl": [
           {
            "marker": {
             "colorbar": {
              "outlinewidth": 0,
              "tickcolor": "rgb(237,237,237)",
              "ticklen": 6,
              "ticks": "inside"
             }
            },
            "type": "scattergl"
           }
          ],
          "scattermap": [
           {
            "marker": {
             "colorbar": {
              "outlinewidth": 0,
              "tickcolor": "rgb(237,237,237)",
              "ticklen": 6,
              "ticks": "inside"
             }
            },
            "type": "scattermap"
           }
          ],
          "scattermapbox": [
           {
            "marker": {
             "colorbar": {
              "outlinewidth": 0,
              "tickcolor": "rgb(237,237,237)",
              "ticklen": 6,
              "ticks": "inside"
             }
            },
            "type": "scattermapbox"
           }
          ],
          "scatterpolar": [
           {
            "marker": {
             "colorbar": {
              "outlinewidth": 0,
              "tickcolor": "rgb(237,237,237)",
              "ticklen": 6,
              "ticks": "inside"
             }
            },
            "type": "scatterpolar"
           }
          ],
          "scatterpolargl": [
           {
            "marker": {
             "colorbar": {
              "outlinewidth": 0,
              "tickcolor": "rgb(237,237,237)",
              "ticklen": 6,
              "ticks": "inside"
             }
            },
            "type": "scatterpolargl"
           }
          ],
          "scatterternary": [
           {
            "marker": {
             "colorbar": {
              "outlinewidth": 0,
              "tickcolor": "rgb(237,237,237)",
              "ticklen": 6,
              "ticks": "inside"
             }
            },
            "type": "scatterternary"
           }
          ],
          "surface": [
           {
            "colorbar": {
             "outlinewidth": 0,
             "tickcolor": "rgb(237,237,237)",
             "ticklen": 6,
             "ticks": "inside"
            },
            "colorscale": [
             [
              0,
              "rgb(20,44,66)"
             ],
             [
              1,
              "rgb(90,179,244)"
             ]
            ],
            "type": "surface"
           }
          ],
          "table": [
           {
            "cells": {
             "fill": {
              "color": "rgb(237,237,237)"
             },
             "line": {
              "color": "white"
             }
            },
            "header": {
             "fill": {
              "color": "rgb(217,217,217)"
             },
             "line": {
              "color": "white"
             }
            },
            "type": "table"
           }
          ]
         },
         "layout": {
          "annotationdefaults": {
           "arrowhead": 0,
           "arrowwidth": 1
          },
          "autotypenumbers": "strict",
          "coloraxis": {
           "colorbar": {
            "outlinewidth": 0,
            "tickcolor": "rgb(237,237,237)",
            "ticklen": 6,
            "ticks": "inside"
           }
          },
          "colorscale": {
           "sequential": [
            [
             0,
             "rgb(20,44,66)"
            ],
            [
             1,
             "rgb(90,179,244)"
            ]
           ],
           "sequentialminus": [
            [
             0,
             "rgb(20,44,66)"
            ],
            [
             1,
             "rgb(90,179,244)"
            ]
           ]
          },
          "colorway": [
           "#F8766D",
           "#A3A500",
           "#00BF7D",
           "#00B0F6",
           "#E76BF3"
          ],
          "font": {
           "color": "rgb(51,51,51)"
          },
          "geo": {
           "bgcolor": "white",
           "lakecolor": "white",
           "landcolor": "rgb(237,237,237)",
           "showlakes": true,
           "showland": true,
           "subunitcolor": "white"
          },
          "hoverlabel": {
           "align": "left"
          },
          "hovermode": "closest",
          "paper_bgcolor": "white",
          "plot_bgcolor": "rgb(237,237,237)",
          "polar": {
           "angularaxis": {
            "gridcolor": "white",
            "linecolor": "white",
            "showgrid": true,
            "tickcolor": "rgb(51,51,51)",
            "ticks": "outside"
           },
           "bgcolor": "rgb(237,237,237)",
           "radialaxis": {
            "gridcolor": "white",
            "linecolor": "white",
            "showgrid": true,
            "tickcolor": "rgb(51,51,51)",
            "ticks": "outside"
           }
          },
          "scene": {
           "xaxis": {
            "backgroundcolor": "rgb(237,237,237)",
            "gridcolor": "white",
            "gridwidth": 2,
            "linecolor": "white",
            "showbackground": true,
            "showgrid": true,
            "tickcolor": "rgb(51,51,51)",
            "ticks": "outside",
            "zerolinecolor": "white"
           },
           "yaxis": {
            "backgroundcolor": "rgb(237,237,237)",
            "gridcolor": "white",
            "gridwidth": 2,
            "linecolor": "white",
            "showbackground": true,
            "showgrid": true,
            "tickcolor": "rgb(51,51,51)",
            "ticks": "outside",
            "zerolinecolor": "white"
           },
           "zaxis": {
            "backgroundcolor": "rgb(237,237,237)",
            "gridcolor": "white",
            "gridwidth": 2,
            "linecolor": "white",
            "showbackground": true,
            "showgrid": true,
            "tickcolor": "rgb(51,51,51)",
            "ticks": "outside",
            "zerolinecolor": "white"
           }
          },
          "shapedefaults": {
           "fillcolor": "black",
           "line": {
            "width": 0
           },
           "opacity": 0.3
          },
          "ternary": {
           "aaxis": {
            "gridcolor": "white",
            "linecolor": "white",
            "showgrid": true,
            "tickcolor": "rgb(51,51,51)",
            "ticks": "outside"
           },
           "baxis": {
            "gridcolor": "white",
            "linecolor": "white",
            "showgrid": true,
            "tickcolor": "rgb(51,51,51)",
            "ticks": "outside"
           },
           "bgcolor": "rgb(237,237,237)",
           "caxis": {
            "gridcolor": "white",
            "linecolor": "white",
            "showgrid": true,
            "tickcolor": "rgb(51,51,51)",
            "ticks": "outside"
           }
          },
          "xaxis": {
           "automargin": true,
           "gridcolor": "white",
           "linecolor": "white",
           "showgrid": true,
           "tickcolor": "rgb(51,51,51)",
           "ticks": "outside",
           "title": {
            "standoff": 15
           },
           "zerolinecolor": "white"
          },
          "yaxis": {
           "automargin": true,
           "gridcolor": "white",
           "linecolor": "white",
           "showgrid": true,
           "tickcolor": "rgb(51,51,51)",
           "ticks": "outside",
           "title": {
            "standoff": 15
           },
           "zerolinecolor": "white"
          }
         }
        },
        "title": {
         "text": "Actual vs. 'Out-of-Sample' Forecast | BNB-USD"
        },
        "xaxis": {
         "title": {
          "text": "Time"
         }
        },
        "yaxis": {
         "title": {
          "text": "Values"
         }
        }
       }
      }
     },
     "metadata": {},
     "output_type": "display_data"
    }
   ],
   "source": [
    "plot_model(bnb_prophet,plot = 'forecast')"
   ]
  },
  {
   "cell_type": "code",
   "execution_count": 196,
   "id": "f12f4dfd",
   "metadata": {},
   "outputs": [],
   "source": [
    "forecast_df = predict_model(bnb_prophet)\n",
    "# Reset the index to get the datetime\n",
    "forecast_df = forecast_df.reset_index()\n",
    "\n",
    "# Rename the index column to 'ds' for clarity (optional)\n",
    "forecast_df.rename(columns={'index': 'ds'}, inplace=True)\n",
    "forecast_df['y_pred_ma'] = forecast_df['y_pred'].rolling(window=5).mean()\n"
   ]
  },
  {
   "cell_type": "code",
   "execution_count": 197,
   "id": "b2d8532c",
   "metadata": {},
   "outputs": [],
   "source": [
    "forecast_df['signal_ma'] = 0\n",
    "for i in range(1, len(forecast_df)):\n",
    "    if forecast_df['y_pred_ma'].iloc[i] > forecast_df['y_pred_ma'].iloc[i-1] + 20:\n",
    "        forecast_df.loc[i, 'signal_ma'] = 1\n",
    "    elif forecast_df['y_pred_ma'].iloc[i] < forecast_df['y_pred_ma'].iloc[i-1] - 20:\n",
    "        forecast_df.loc[i, 'signal_ma'] = -1\n"
   ]
  },
  {
   "cell_type": "code",
   "execution_count": 195,
   "id": "b044448e",
   "metadata": {},
   "outputs": [
    {
     "name": "stdout",
     "output_type": "stream",
     "text": [
      "Index(['y_pred', 'y_pred_ma', 'signal_ma'], dtype='object')\n"
     ]
    }
   ],
   "source": [
    "print(forecast_df.columns)"
   ]
  },
  {
   "cell_type": "code",
   "execution_count": 208,
   "id": "3b8f96af",
   "metadata": {},
   "outputs": [
    {
     "name": "stderr",
     "output_type": "stream",
     "text": [
      "[*********************100%***********************]  30 of 30 completed\n"
     ]
    }
   ],
   "source": [
    "from candlestick import fetch_all_data\n",
    "historical = fetch_all_data()\n",
    "historical.rename(columns={'index': 'ds','Clost_BTC-USD':'y'}, inplace=True)\n"
   ]
  },
  {
   "cell_type": "code",
   "execution_count": 218,
   "id": "81853891",
   "metadata": {},
   "outputs": [],
   "source": [
    "historical.rename(columns={'Date': 'ds','Close_BTC-USD':'y'}, inplace=True)\n"
   ]
  },
  {
   "cell_type": "code",
   "execution_count": 219,
   "id": "29a1d737",
   "metadata": {},
   "outputs": [
    {
     "data": {
      "text/html": [
       "<div>\n",
       "<style scoped>\n",
       "    .dataframe tbody tr th:only-of-type {\n",
       "        vertical-align: middle;\n",
       "    }\n",
       "\n",
       "    .dataframe tbody tr th {\n",
       "        vertical-align: top;\n",
       "    }\n",
       "\n",
       "    .dataframe thead th {\n",
       "        text-align: right;\n",
       "    }\n",
       "</style>\n",
       "<table border=\"1\" class=\"dataframe\">\n",
       "  <thead>\n",
       "    <tr style=\"text-align: right;\">\n",
       "      <th></th>\n",
       "      <th>ds</th>\n",
       "      <th>Close_AAVE-USD</th>\n",
       "      <th>Close_ADA-USD</th>\n",
       "      <th>Close_ALGO-USD</th>\n",
       "      <th>Close_ATOM-USD</th>\n",
       "      <th>Close_AVAX-USD</th>\n",
       "      <th>Close_BCH-USD</th>\n",
       "      <th>Close_BNB-USD</th>\n",
       "      <th>y</th>\n",
       "      <th>Close_CHR-USD</th>\n",
       "      <th>...</th>\n",
       "      <th>Volume_SOL-USD</th>\n",
       "      <th>Volume_THETA-USD</th>\n",
       "      <th>Volume_TRX-USD</th>\n",
       "      <th>Volume_UNI-USD</th>\n",
       "      <th>Volume_USDT-USD</th>\n",
       "      <th>Volume_VET-USD</th>\n",
       "      <th>Volume_WIF-USD</th>\n",
       "      <th>Volume_XLM-USD</th>\n",
       "      <th>Volume_XMR-USD</th>\n",
       "      <th>Volume_XRP-USD</th>\n",
       "    </tr>\n",
       "  </thead>\n",
       "  <tbody>\n",
       "    <tr>\n",
       "      <th>0</th>\n",
       "      <td>2024-05-01</td>\n",
       "      <td>83.748108</td>\n",
       "      <td>0.449866</td>\n",
       "      <td>0.180666</td>\n",
       "      <td>8.742611</td>\n",
       "      <td>33.288101</td>\n",
       "      <td>424.038635</td>\n",
       "      <td>561.408203</td>\n",
       "      <td>58254.011719</td>\n",
       "      <td>0.268329</td>\n",
       "      <td>...</td>\n",
       "      <td>4136407963</td>\n",
       "      <td>67062567</td>\n",
       "      <td>482118834</td>\n",
       "      <td>32.0</td>\n",
       "      <td>76859530069</td>\n",
       "      <td>77079462</td>\n",
       "      <td>539683830</td>\n",
       "      <td>99567176</td>\n",
       "      <td>44685650</td>\n",
       "      <td>1720060134</td>\n",
       "    </tr>\n",
       "    <tr>\n",
       "      <th>1</th>\n",
       "      <td>2024-05-02</td>\n",
       "      <td>84.980095</td>\n",
       "      <td>0.458282</td>\n",
       "      <td>0.181256</td>\n",
       "      <td>8.651612</td>\n",
       "      <td>33.612564</td>\n",
       "      <td>429.969849</td>\n",
       "      <td>560.526733</td>\n",
       "      <td>59123.433594</td>\n",
       "      <td>0.270306</td>\n",
       "      <td>...</td>\n",
       "      <td>3380078368</td>\n",
       "      <td>49140176</td>\n",
       "      <td>352230934</td>\n",
       "      <td>32.0</td>\n",
       "      <td>54769809487</td>\n",
       "      <td>47564282</td>\n",
       "      <td>431302208</td>\n",
       "      <td>74766755</td>\n",
       "      <td>47242005</td>\n",
       "      <td>1118497654</td>\n",
       "    </tr>\n",
       "    <tr>\n",
       "      <th>2</th>\n",
       "      <td>2024-05-03</td>\n",
       "      <td>88.814995</td>\n",
       "      <td>0.467544</td>\n",
       "      <td>0.191979</td>\n",
       "      <td>8.768824</td>\n",
       "      <td>35.584896</td>\n",
       "      <td>453.345551</td>\n",
       "      <td>587.010437</td>\n",
       "      <td>62889.835938</td>\n",
       "      <td>0.282321</td>\n",
       "      <td>...</td>\n",
       "      <td>3216962298</td>\n",
       "      <td>39098980</td>\n",
       "      <td>275034834</td>\n",
       "      <td>34.0</td>\n",
       "      <td>53871028495</td>\n",
       "      <td>56741257</td>\n",
       "      <td>444766260</td>\n",
       "      <td>62383004</td>\n",
       "      <td>52444310</td>\n",
       "      <td>1138445190</td>\n",
       "    </tr>\n",
       "    <tr>\n",
       "      <th>3</th>\n",
       "      <td>2024-05-04</td>\n",
       "      <td>89.053757</td>\n",
       "      <td>0.463577</td>\n",
       "      <td>0.192794</td>\n",
       "      <td>8.694795</td>\n",
       "      <td>37.361832</td>\n",
       "      <td>463.508820</td>\n",
       "      <td>585.846558</td>\n",
       "      <td>63891.472656</td>\n",
       "      <td>0.277544</td>\n",
       "      <td>...</td>\n",
       "      <td>3050187811</td>\n",
       "      <td>33466740</td>\n",
       "      <td>224837130</td>\n",
       "      <td>35.0</td>\n",
       "      <td>39527945715</td>\n",
       "      <td>44470807</td>\n",
       "      <td>546978472</td>\n",
       "      <td>49329923</td>\n",
       "      <td>59402585</td>\n",
       "      <td>686389982</td>\n",
       "    </tr>\n",
       "    <tr>\n",
       "      <th>4</th>\n",
       "      <td>2024-05-05</td>\n",
       "      <td>90.078110</td>\n",
       "      <td>0.458334</td>\n",
       "      <td>0.196579</td>\n",
       "      <td>9.336216</td>\n",
       "      <td>37.401939</td>\n",
       "      <td>469.264282</td>\n",
       "      <td>592.140381</td>\n",
       "      <td>64031.132812</td>\n",
       "      <td>0.276074</td>\n",
       "      <td>...</td>\n",
       "      <td>2034794725</td>\n",
       "      <td>35391257</td>\n",
       "      <td>196753191</td>\n",
       "      <td>35.0</td>\n",
       "      <td>36224596673</td>\n",
       "      <td>39574801</td>\n",
       "      <td>388774584</td>\n",
       "      <td>44733799</td>\n",
       "      <td>68420933</td>\n",
       "      <td>535784827</td>\n",
       "    </tr>\n",
       "  </tbody>\n",
       "</table>\n",
       "<p>5 rows × 151 columns</p>\n",
       "</div>"
      ],
      "text/plain": [
       "          ds  Close_AAVE-USD  Close_ADA-USD  Close_ALGO-USD  Close_ATOM-USD  \\\n",
       "0 2024-05-01       83.748108       0.449866        0.180666        8.742611   \n",
       "1 2024-05-02       84.980095       0.458282        0.181256        8.651612   \n",
       "2 2024-05-03       88.814995       0.467544        0.191979        8.768824   \n",
       "3 2024-05-04       89.053757       0.463577        0.192794        8.694795   \n",
       "4 2024-05-05       90.078110       0.458334        0.196579        9.336216   \n",
       "\n",
       "   Close_AVAX-USD  Close_BCH-USD  Close_BNB-USD             y  Close_CHR-USD  \\\n",
       "0       33.288101     424.038635     561.408203  58254.011719       0.268329   \n",
       "1       33.612564     429.969849     560.526733  59123.433594       0.270306   \n",
       "2       35.584896     453.345551     587.010437  62889.835938       0.282321   \n",
       "3       37.361832     463.508820     585.846558  63891.472656       0.277544   \n",
       "4       37.401939     469.264282     592.140381  64031.132812       0.276074   \n",
       "\n",
       "   ...  Volume_SOL-USD  Volume_THETA-USD  Volume_TRX-USD  Volume_UNI-USD  \\\n",
       "0  ...      4136407963          67062567       482118834            32.0   \n",
       "1  ...      3380078368          49140176       352230934            32.0   \n",
       "2  ...      3216962298          39098980       275034834            34.0   \n",
       "3  ...      3050187811          33466740       224837130            35.0   \n",
       "4  ...      2034794725          35391257       196753191            35.0   \n",
       "\n",
       "   Volume_USDT-USD  Volume_VET-USD  Volume_WIF-USD  Volume_XLM-USD  \\\n",
       "0      76859530069        77079462       539683830        99567176   \n",
       "1      54769809487        47564282       431302208        74766755   \n",
       "2      53871028495        56741257       444766260        62383004   \n",
       "3      39527945715        44470807       546978472        49329923   \n",
       "4      36224596673        39574801       388774584        44733799   \n",
       "\n",
       "   Volume_XMR-USD  Volume_XRP-USD  \n",
       "0        44685650      1720060134  \n",
       "1        47242005      1118497654  \n",
       "2        52444310      1138445190  \n",
       "3        59402585       686389982  \n",
       "4        68420933       535784827  \n",
       "\n",
       "[5 rows x 151 columns]"
      ]
     },
     "execution_count": 219,
     "metadata": {},
     "output_type": "execute_result"
    }
   ],
   "source": [
    "historical.head()"
   ]
  },
  {
   "cell_type": "code",
   "execution_count": 220,
   "id": "70a44903",
   "metadata": {},
   "outputs": [
    {
     "data": {
      "application/vnd.plotly.v1+json": {
       "config": {
        "plotlyServerURL": "https://plot.ly"
       },
       "data": [
        {
         "line": {
          "color": "black"
         },
         "mode": "lines",
         "name": "Historical Price",
         "type": "scatter",
         "x": [
          "2024-05-01T00:00:00",
          "2024-05-02T00:00:00",
          "2024-05-03T00:00:00",
          "2024-05-04T00:00:00",
          "2024-05-05T00:00:00",
          "2024-05-06T00:00:00",
          "2024-05-07T00:00:00",
          "2024-05-08T00:00:00",
          "2024-05-09T00:00:00",
          "2024-05-10T00:00:00",
          "2024-05-11T00:00:00",
          "2024-05-12T00:00:00",
          "2024-05-13T00:00:00",
          "2024-05-14T00:00:00",
          "2024-05-15T00:00:00",
          "2024-05-16T00:00:00",
          "2024-05-17T00:00:00",
          "2024-05-18T00:00:00",
          "2024-05-19T00:00:00",
          "2024-05-20T00:00:00",
          "2024-05-21T00:00:00",
          "2024-05-22T00:00:00",
          "2024-05-23T00:00:00",
          "2024-05-24T00:00:00",
          "2024-05-25T00:00:00",
          "2024-05-26T00:00:00",
          "2024-05-27T00:00:00",
          "2024-05-28T00:00:00",
          "2024-05-29T00:00:00",
          "2024-05-30T00:00:00",
          "2024-05-31T00:00:00",
          "2024-06-01T00:00:00",
          "2024-06-02T00:00:00",
          "2024-06-03T00:00:00",
          "2024-06-04T00:00:00",
          "2024-06-05T00:00:00",
          "2024-06-06T00:00:00",
          "2024-06-07T00:00:00",
          "2024-06-08T00:00:00",
          "2024-06-09T00:00:00",
          "2024-06-10T00:00:00",
          "2024-06-11T00:00:00",
          "2024-06-12T00:00:00",
          "2024-06-13T00:00:00",
          "2024-06-14T00:00:00",
          "2024-06-15T00:00:00",
          "2024-06-16T00:00:00",
          "2024-06-17T00:00:00",
          "2024-06-18T00:00:00",
          "2024-06-19T00:00:00",
          "2024-06-20T00:00:00",
          "2024-06-21T00:00:00",
          "2024-06-22T00:00:00",
          "2024-06-23T00:00:00",
          "2024-06-24T00:00:00",
          "2024-06-25T00:00:00",
          "2024-06-26T00:00:00",
          "2024-06-27T00:00:00",
          "2024-06-28T00:00:00",
          "2024-06-29T00:00:00",
          "2024-06-30T00:00:00",
          "2024-07-01T00:00:00",
          "2024-07-02T00:00:00",
          "2024-07-03T00:00:00",
          "2024-07-04T00:00:00",
          "2024-07-05T00:00:00",
          "2024-07-06T00:00:00",
          "2024-07-07T00:00:00",
          "2024-07-08T00:00:00",
          "2024-07-09T00:00:00",
          "2024-07-10T00:00:00",
          "2024-07-11T00:00:00",
          "2024-07-12T00:00:00",
          "2024-07-13T00:00:00",
          "2024-07-14T00:00:00",
          "2024-07-15T00:00:00",
          "2024-07-16T00:00:00",
          "2024-07-17T00:00:00",
          "2024-07-18T00:00:00",
          "2024-07-19T00:00:00",
          "2024-07-20T00:00:00",
          "2024-07-21T00:00:00",
          "2024-07-22T00:00:00",
          "2024-07-23T00:00:00",
          "2024-07-24T00:00:00",
          "2024-07-25T00:00:00",
          "2024-07-26T00:00:00",
          "2024-07-27T00:00:00",
          "2024-07-28T00:00:00",
          "2024-07-29T00:00:00",
          "2024-07-30T00:00:00",
          "2024-07-31T00:00:00",
          "2024-08-01T00:00:00",
          "2024-08-02T00:00:00",
          "2024-08-03T00:00:00",
          "2024-08-04T00:00:00",
          "2024-08-05T00:00:00",
          "2024-08-06T00:00:00",
          "2024-08-07T00:00:00",
          "2024-08-08T00:00:00",
          "2024-08-09T00:00:00",
          "2024-08-10T00:00:00",
          "2024-08-11T00:00:00",
          "2024-08-12T00:00:00",
          "2024-08-13T00:00:00",
          "2024-08-14T00:00:00",
          "2024-08-15T00:00:00",
          "2024-08-16T00:00:00",
          "2024-08-17T00:00:00",
          "2024-08-18T00:00:00",
          "2024-08-19T00:00:00",
          "2024-08-20T00:00:00",
          "2024-08-21T00:00:00",
          "2024-08-22T00:00:00",
          "2024-08-23T00:00:00",
          "2024-08-24T00:00:00",
          "2024-08-25T00:00:00",
          "2024-08-26T00:00:00",
          "2024-08-27T00:00:00",
          "2024-08-28T00:00:00",
          "2024-08-29T00:00:00",
          "2024-08-30T00:00:00",
          "2024-08-31T00:00:00",
          "2024-09-01T00:00:00",
          "2024-09-02T00:00:00",
          "2024-09-03T00:00:00",
          "2024-09-04T00:00:00",
          "2024-09-05T00:00:00",
          "2024-09-06T00:00:00",
          "2024-09-07T00:00:00",
          "2024-09-08T00:00:00",
          "2024-09-09T00:00:00",
          "2024-09-10T00:00:00",
          "2024-09-11T00:00:00",
          "2024-09-12T00:00:00",
          "2024-09-13T00:00:00",
          "2024-09-14T00:00:00",
          "2024-09-15T00:00:00",
          "2024-09-16T00:00:00",
          "2024-09-17T00:00:00",
          "2024-09-18T00:00:00",
          "2024-09-19T00:00:00",
          "2024-09-20T00:00:00",
          "2024-09-21T00:00:00",
          "2024-09-22T00:00:00",
          "2024-09-23T00:00:00",
          "2024-09-24T00:00:00",
          "2024-09-25T00:00:00",
          "2024-09-26T00:00:00",
          "2024-09-27T00:00:00",
          "2024-09-28T00:00:00",
          "2024-09-29T00:00:00",
          "2024-09-30T00:00:00",
          "2024-10-01T00:00:00",
          "2024-10-02T00:00:00",
          "2024-10-03T00:00:00",
          "2024-10-04T00:00:00",
          "2024-10-05T00:00:00",
          "2024-10-06T00:00:00",
          "2024-10-07T00:00:00",
          "2024-10-08T00:00:00",
          "2024-10-09T00:00:00",
          "2024-10-10T00:00:00",
          "2024-10-11T00:00:00",
          "2024-10-12T00:00:00",
          "2024-10-13T00:00:00",
          "2024-10-14T00:00:00",
          "2024-10-15T00:00:00",
          "2024-10-16T00:00:00",
          "2024-10-17T00:00:00",
          "2024-10-18T00:00:00",
          "2024-10-19T00:00:00",
          "2024-10-20T00:00:00",
          "2024-10-21T00:00:00",
          "2024-10-22T00:00:00",
          "2024-10-23T00:00:00",
          "2024-10-24T00:00:00",
          "2024-10-25T00:00:00",
          "2024-10-26T00:00:00",
          "2024-10-27T00:00:00",
          "2024-10-28T00:00:00",
          "2024-10-29T00:00:00",
          "2024-10-30T00:00:00",
          "2024-10-31T00:00:00",
          "2024-11-01T00:00:00",
          "2024-11-02T00:00:00",
          "2024-11-03T00:00:00",
          "2024-11-04T00:00:00",
          "2024-11-05T00:00:00",
          "2024-11-06T00:00:00",
          "2024-11-07T00:00:00",
          "2024-11-08T00:00:00",
          "2024-11-09T00:00:00",
          "2024-11-10T00:00:00",
          "2024-11-11T00:00:00",
          "2024-11-12T00:00:00",
          "2024-11-13T00:00:00",
          "2024-11-14T00:00:00",
          "2024-11-15T00:00:00",
          "2024-11-16T00:00:00",
          "2024-11-17T00:00:00",
          "2024-11-18T00:00:00",
          "2024-11-19T00:00:00",
          "2024-11-20T00:00:00",
          "2024-11-21T00:00:00",
          "2024-11-22T00:00:00",
          "2024-11-23T00:00:00",
          "2024-11-24T00:00:00",
          "2024-11-25T00:00:00",
          "2024-11-26T00:00:00",
          "2024-11-27T00:00:00",
          "2024-11-28T00:00:00",
          "2024-11-29T00:00:00",
          "2024-11-30T00:00:00",
          "2024-12-01T00:00:00",
          "2024-12-02T00:00:00",
          "2024-12-03T00:00:00",
          "2024-12-04T00:00:00",
          "2024-12-05T00:00:00",
          "2024-12-06T00:00:00",
          "2024-12-07T00:00:00",
          "2024-12-08T00:00:00",
          "2024-12-09T00:00:00",
          "2024-12-10T00:00:00",
          "2024-12-11T00:00:00",
          "2024-12-12T00:00:00",
          "2024-12-13T00:00:00",
          "2024-12-14T00:00:00",
          "2024-12-15T00:00:00",
          "2024-12-16T00:00:00",
          "2024-12-17T00:00:00",
          "2024-12-18T00:00:00",
          "2024-12-19T00:00:00",
          "2024-12-20T00:00:00",
          "2024-12-21T00:00:00",
          "2024-12-22T00:00:00",
          "2024-12-23T00:00:00",
          "2024-12-24T00:00:00",
          "2024-12-25T00:00:00",
          "2024-12-26T00:00:00",
          "2024-12-27T00:00:00",
          "2024-12-28T00:00:00",
          "2024-12-29T00:00:00",
          "2024-12-30T00:00:00",
          "2024-12-31T00:00:00",
          "2025-01-01T00:00:00",
          "2025-01-02T00:00:00",
          "2025-01-03T00:00:00",
          "2025-01-04T00:00:00",
          "2025-01-05T00:00:00",
          "2025-01-06T00:00:00",
          "2025-01-07T00:00:00",
          "2025-01-08T00:00:00",
          "2025-01-09T00:00:00",
          "2025-01-10T00:00:00",
          "2025-01-11T00:00:00",
          "2025-01-12T00:00:00",
          "2025-01-13T00:00:00",
          "2025-01-14T00:00:00",
          "2025-01-15T00:00:00",
          "2025-01-16T00:00:00",
          "2025-01-17T00:00:00",
          "2025-01-18T00:00:00",
          "2025-01-19T00:00:00",
          "2025-01-20T00:00:00",
          "2025-01-21T00:00:00",
          "2025-01-22T00:00:00",
          "2025-01-23T00:00:00",
          "2025-01-24T00:00:00",
          "2025-01-25T00:00:00",
          "2025-01-26T00:00:00",
          "2025-01-27T00:00:00",
          "2025-01-28T00:00:00",
          "2025-01-29T00:00:00",
          "2025-01-30T00:00:00",
          "2025-01-31T00:00:00",
          "2025-02-01T00:00:00",
          "2025-02-02T00:00:00",
          "2025-02-03T00:00:00",
          "2025-02-04T00:00:00",
          "2025-02-05T00:00:00",
          "2025-02-06T00:00:00",
          "2025-02-07T00:00:00",
          "2025-02-08T00:00:00",
          "2025-02-09T00:00:00",
          "2025-02-10T00:00:00",
          "2025-02-11T00:00:00",
          "2025-02-12T00:00:00",
          "2025-02-13T00:00:00",
          "2025-02-14T00:00:00",
          "2025-02-15T00:00:00",
          "2025-02-16T00:00:00",
          "2025-02-17T00:00:00",
          "2025-02-18T00:00:00",
          "2025-02-19T00:00:00",
          "2025-02-20T00:00:00",
          "2025-02-21T00:00:00",
          "2025-02-22T00:00:00",
          "2025-02-23T00:00:00",
          "2025-02-24T00:00:00",
          "2025-02-25T00:00:00",
          "2025-02-26T00:00:00",
          "2025-02-27T00:00:00",
          "2025-02-28T00:00:00",
          "2025-03-01T00:00:00",
          "2025-03-02T00:00:00",
          "2025-03-03T00:00:00",
          "2025-03-04T00:00:00",
          "2025-03-05T00:00:00",
          "2025-03-06T00:00:00",
          "2025-03-07T00:00:00",
          "2025-03-08T00:00:00",
          "2025-03-09T00:00:00",
          "2025-03-10T00:00:00",
          "2025-03-11T00:00:00",
          "2025-03-12T00:00:00",
          "2025-03-13T00:00:00",
          "2025-03-14T00:00:00",
          "2025-03-15T00:00:00",
          "2025-03-16T00:00:00",
          "2025-03-17T00:00:00",
          "2025-03-18T00:00:00",
          "2025-03-19T00:00:00",
          "2025-03-20T00:00:00",
          "2025-03-21T00:00:00",
          "2025-03-22T00:00:00",
          "2025-03-23T00:00:00",
          "2025-03-24T00:00:00",
          "2025-03-25T00:00:00",
          "2025-03-26T00:00:00",
          "2025-03-27T00:00:00",
          "2025-03-28T00:00:00",
          "2025-03-29T00:00:00",
          "2025-03-30T00:00:00",
          "2025-03-31T00:00:00",
          "2025-04-01T00:00:00",
          "2025-04-02T00:00:00",
          "2025-04-03T00:00:00",
          "2025-04-04T00:00:00",
          "2025-04-05T00:00:00",
          "2025-04-06T00:00:00",
          "2025-04-07T00:00:00",
          "2025-04-08T00:00:00",
          "2025-04-09T00:00:00",
          "2025-04-10T00:00:00",
          "2025-04-11T00:00:00",
          "2025-04-12T00:00:00",
          "2025-04-13T00:00:00",
          "2025-04-14T00:00:00",
          "2025-04-15T00:00:00",
          "2025-04-16T00:00:00",
          "2025-04-17T00:00:00",
          "2025-04-18T00:00:00",
          "2025-04-19T00:00:00",
          "2025-04-20T00:00:00",
          "2025-04-21T00:00:00",
          "2025-04-22T00:00:00",
          "2025-04-23T00:00:00",
          "2025-04-24T00:00:00",
          "2025-04-25T00:00:00",
          "2025-04-26T00:00:00",
          "2025-04-27T00:00:00",
          "2025-04-28T00:00:00",
          "2025-04-29T00:00:00",
          "2025-04-30T00:00:00"
         ],
         "y": {
          "bdata": "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",
          "dtype": "f8"
         }
        },
        {
         "line": {
          "color": "blue"
         },
         "mode": "lines",
         "name": "Predicted Price (y_pred)",
         "type": "scatter",
         "x": [
          "2025-05-01T00:00:00",
          "2025-05-02T00:00:00",
          "2025-05-03T00:00:00",
          "2025-05-04T00:00:00",
          "2025-05-05T00:00:00",
          "2025-05-06T00:00:00",
          "2025-05-07T00:00:00",
          "2025-05-08T00:00:00",
          "2025-05-09T00:00:00",
          "2025-05-10T00:00:00",
          "2025-05-11T00:00:00",
          "2025-05-12T00:00:00",
          "2025-05-13T00:00:00",
          "2025-05-14T00:00:00",
          "2025-05-15T00:00:00",
          "2025-05-16T00:00:00",
          "2025-05-17T00:00:00",
          "2025-05-18T00:00:00",
          "2025-05-19T00:00:00",
          "2025-05-20T00:00:00",
          "2025-05-21T00:00:00",
          "2025-05-22T00:00:00",
          "2025-05-23T00:00:00",
          "2025-05-24T00:00:00",
          "2025-05-25T00:00:00",
          "2025-05-26T00:00:00",
          "2025-05-27T00:00:00",
          "2025-05-28T00:00:00",
          "2025-05-29T00:00:00",
          "2025-05-30T00:00:00"
         ],
         "y": {
          "bdata": "V1uxv2w5gkAm5IOezTqCQMKGp1fKWIJAirDh6RUhgkAg0m9fBxuCQIy5awn5HoJA48eYu5YngkA7AU2EDRqCQP5D+u1rG4JAuycPCzU5gkAi/fZ14AGCQGaIY13c+4FANe84Rcf/gUB1kxgEVgiCQDLmriXk+oFAwaikTkD8gUB1kxgE1hmCQM6I0t7g4oFA6bevA+fcgUAbnl4py+CBQBueXilL6YFAZ0Rpb/DbgUDswDkjSt2BQBkEVg6t+oFADAIrhxbEgUD+1HjpJr6BQGkAb4EEwoFAKVyPwnXKgUAukKD4Mb2BQH6MuWuJvoFA",
          "dtype": "f8"
         }
        },
        {
         "line": {
          "color": "orange",
          "dash": "dash"
         },
         "mode": "lines",
         "name": "Forecast MA (5-day)",
         "type": "scatter",
         "x": [
          "2025-05-01T00:00:00",
          "2025-05-02T00:00:00",
          "2025-05-03T00:00:00",
          "2025-05-04T00:00:00",
          "2025-05-05T00:00:00",
          "2025-05-06T00:00:00",
          "2025-05-07T00:00:00",
          "2025-05-08T00:00:00",
          "2025-05-09T00:00:00",
          "2025-05-10T00:00:00",
          "2025-05-11T00:00:00",
          "2025-05-12T00:00:00",
          "2025-05-13T00:00:00",
          "2025-05-14T00:00:00",
          "2025-05-15T00:00:00",
          "2025-05-16T00:00:00",
          "2025-05-17T00:00:00",
          "2025-05-18T00:00:00",
          "2025-05-19T00:00:00",
          "2025-05-20T00:00:00",
          "2025-05-21T00:00:00",
          "2025-05-22T00:00:00",
          "2025-05-23T00:00:00",
          "2025-05-24T00:00:00",
          "2025-05-25T00:00:00",
          "2025-05-26T00:00:00",
          "2025-05-27T00:00:00",
          "2025-05-28T00:00:00",
          "2025-05-29T00:00:00",
          "2025-05-30T00:00:00"
         ],
         "y": {
          "bdata": "AAAAAAAA+H8AAAAAAAD4fwAAAAAAAPh/AAAAAAAA+H9i26LMBjWCQJ9U+3S8L4JALIL/reQrgkBENLqDWB+CQFvri4Q2HoJAevzepj8kgkCYo8fvbR6CQLJjIxCvFYJASpNS0G0QgkBj1ouhnAyCQOFiRQ0mAIJAzR5oBQb/gUADIVnABAWCQCKmRBI9/4FAoOBiRY32gUDOa+wSVfGBQK5p3nGK7YFARcAhVCnhgUB9y5wuC+CBQFR0JJf/5YFA6iEa3UHggUB+xoUDodeBQH5S7dNx0oFAJAuYwK3OgUDCwHPvYcKBQAx2w7ZFwYFA",
          "dtype": "f8"
         }
        },
        {
         "marker": {
          "color": "green",
          "size": 10,
          "symbol": "triangle-up"
         },
         "mode": "markers",
         "name": "Buy Signal (MA)",
         "type": "scatter",
         "x": [],
         "y": []
        },
        {
         "marker": {
          "color": "red",
          "size": 10,
          "symbol": "triangle-down"
         },
         "mode": "markers",
         "name": "Sell Signal (MA)",
         "type": "scatter",
         "x": [],
         "y": []
        }
       ],
       "layout": {
        "hovermode": "x unified",
        "template": {
         "data": {
          "bar": [
           {
            "error_x": {
             "color": "#2a3f5f"
            },
            "error_y": {
             "color": "#2a3f5f"
            },
            "marker": {
             "line": {
              "color": "white",
              "width": 0.5
             },
             "pattern": {
              "fillmode": "overlay",
              "size": 10,
              "solidity": 0.2
             }
            },
            "type": "bar"
           }
          ],
          "barpolar": [
           {
            "marker": {
             "line": {
              "color": "white",
              "width": 0.5
             },
             "pattern": {
              "fillmode": "overlay",
              "size": 10,
              "solidity": 0.2
             }
            },
            "type": "barpolar"
           }
          ],
          "carpet": [
           {
            "aaxis": {
             "endlinecolor": "#2a3f5f",
             "gridcolor": "#C8D4E3",
             "linecolor": "#C8D4E3",
             "minorgridcolor": "#C8D4E3",
             "startlinecolor": "#2a3f5f"
            },
            "baxis": {
             "endlinecolor": "#2a3f5f",
             "gridcolor": "#C8D4E3",
             "linecolor": "#C8D4E3",
             "minorgridcolor": "#C8D4E3",
             "startlinecolor": "#2a3f5f"
            },
            "type": "carpet"
           }
          ],
          "choropleth": [
           {
            "colorbar": {
             "outlinewidth": 0,
             "ticks": ""
            },
            "type": "choropleth"
           }
          ],
          "contour": [
           {
            "colorbar": {
             "outlinewidth": 0,
             "ticks": ""
            },
            "colorscale": [
             [
              0,
              "#0d0887"
             ],
             [
              0.1111111111111111,
              "#46039f"
             ],
             [
              0.2222222222222222,
              "#7201a8"
             ],
             [
              0.3333333333333333,
              "#9c179e"
             ],
             [
              0.4444444444444444,
              "#bd3786"
             ],
             [
              0.5555555555555556,
              "#d8576b"
             ],
             [
              0.6666666666666666,
              "#ed7953"
             ],
             [
              0.7777777777777778,
              "#fb9f3a"
             ],
             [
              0.8888888888888888,
              "#fdca26"
             ],
             [
              1,
              "#f0f921"
             ]
            ],
            "type": "contour"
           }
          ],
          "contourcarpet": [
           {
            "colorbar": {
             "outlinewidth": 0,
             "ticks": ""
            },
            "type": "contourcarpet"
           }
          ],
          "heatmap": [
           {
            "colorbar": {
             "outlinewidth": 0,
             "ticks": ""
            },
            "colorscale": [
             [
              0,
              "#0d0887"
             ],
             [
              0.1111111111111111,
              "#46039f"
             ],
             [
              0.2222222222222222,
              "#7201a8"
             ],
             [
              0.3333333333333333,
              "#9c179e"
             ],
             [
              0.4444444444444444,
              "#bd3786"
             ],
             [
              0.5555555555555556,
              "#d8576b"
             ],
             [
              0.6666666666666666,
              "#ed7953"
             ],
             [
              0.7777777777777778,
              "#fb9f3a"
             ],
             [
              0.8888888888888888,
              "#fdca26"
             ],
             [
              1,
              "#f0f921"
             ]
            ],
            "type": "heatmap"
           }
          ],
          "histogram": [
           {
            "marker": {
             "pattern": {
              "fillmode": "overlay",
              "size": 10,
              "solidity": 0.2
             }
            },
            "type": "histogram"
           }
          ],
          "histogram2d": [
           {
            "colorbar": {
             "outlinewidth": 0,
             "ticks": ""
            },
            "colorscale": [
             [
              0,
              "#0d0887"
             ],
             [
              0.1111111111111111,
              "#46039f"
             ],
             [
              0.2222222222222222,
              "#7201a8"
             ],
             [
              0.3333333333333333,
              "#9c179e"
             ],
             [
              0.4444444444444444,
              "#bd3786"
             ],
             [
              0.5555555555555556,
              "#d8576b"
             ],
             [
              0.6666666666666666,
              "#ed7953"
             ],
             [
              0.7777777777777778,
              "#fb9f3a"
             ],
             [
              0.8888888888888888,
              "#fdca26"
             ],
             [
              1,
              "#f0f921"
             ]
            ],
            "type": "histogram2d"
           }
          ],
          "histogram2dcontour": [
           {
            "colorbar": {
             "outlinewidth": 0,
             "ticks": ""
            },
            "colorscale": [
             [
              0,
              "#0d0887"
             ],
             [
              0.1111111111111111,
              "#46039f"
             ],
             [
              0.2222222222222222,
              "#7201a8"
             ],
             [
              0.3333333333333333,
              "#9c179e"
             ],
             [
              0.4444444444444444,
              "#bd3786"
             ],
             [
              0.5555555555555556,
              "#d8576b"
             ],
             [
              0.6666666666666666,
              "#ed7953"
             ],
             [
              0.7777777777777778,
              "#fb9f3a"
             ],
             [
              0.8888888888888888,
              "#fdca26"
             ],
             [
              1,
              "#f0f921"
             ]
            ],
            "type": "histogram2dcontour"
           }
          ],
          "mesh3d": [
           {
            "colorbar": {
             "outlinewidth": 0,
             "ticks": ""
            },
            "type": "mesh3d"
           }
          ],
          "parcoords": [
           {
            "line": {
             "colorbar": {
              "outlinewidth": 0,
              "ticks": ""
             }
            },
            "type": "parcoords"
           }
          ],
          "pie": [
           {
            "automargin": true,
            "type": "pie"
           }
          ],
          "scatter": [
           {
            "fillpattern": {
             "fillmode": "overlay",
             "size": 10,
             "solidity": 0.2
            },
            "type": "scatter"
           }
          ],
          "scatter3d": [
           {
            "line": {
             "colorbar": {
              "outlinewidth": 0,
              "ticks": ""
             }
            },
            "marker": {
             "colorbar": {
              "outlinewidth": 0,
              "ticks": ""
             }
            },
            "type": "scatter3d"
           }
          ],
          "scattercarpet": [
           {
            "marker": {
             "colorbar": {
              "outlinewidth": 0,
              "ticks": ""
             }
            },
            "type": "scattercarpet"
           }
          ],
          "scattergeo": [
           {
            "marker": {
             "colorbar": {
              "outlinewidth": 0,
              "ticks": ""
             }
            },
            "type": "scattergeo"
           }
          ],
          "scattergl": [
           {
            "marker": {
             "colorbar": {
              "outlinewidth": 0,
              "ticks": ""
             }
            },
            "type": "scattergl"
           }
          ],
          "scattermap": [
           {
            "marker": {
             "colorbar": {
              "outlinewidth": 0,
              "ticks": ""
             }
            },
            "type": "scattermap"
           }
          ],
          "scattermapbox": [
           {
            "marker": {
             "colorbar": {
              "outlinewidth": 0,
              "ticks": ""
             }
            },
            "type": "scattermapbox"
           }
          ],
          "scatterpolar": [
           {
            "marker": {
             "colorbar": {
              "outlinewidth": 0,
              "ticks": ""
             }
            },
            "type": "scatterpolar"
           }
          ],
          "scatterpolargl": [
           {
            "marker": {
             "colorbar": {
              "outlinewidth": 0,
              "ticks": ""
             }
            },
            "type": "scatterpolargl"
           }
          ],
          "scatterternary": [
           {
            "marker": {
             "colorbar": {
              "outlinewidth": 0,
              "ticks": ""
             }
            },
            "type": "scatterternary"
           }
          ],
          "surface": [
           {
            "colorbar": {
             "outlinewidth": 0,
             "ticks": ""
            },
            "colorscale": [
             [
              0,
              "#0d0887"
             ],
             [
              0.1111111111111111,
              "#46039f"
             ],
             [
              0.2222222222222222,
              "#7201a8"
             ],
             [
              0.3333333333333333,
              "#9c179e"
             ],
             [
              0.4444444444444444,
              "#bd3786"
             ],
             [
              0.5555555555555556,
              "#d8576b"
             ],
             [
              0.6666666666666666,
              "#ed7953"
             ],
             [
              0.7777777777777778,
              "#fb9f3a"
             ],
             [
              0.8888888888888888,
              "#fdca26"
             ],
             [
              1,
              "#f0f921"
             ]
            ],
            "type": "surface"
           }
          ],
          "table": [
           {
            "cells": {
             "fill": {
              "color": "#EBF0F8"
             },
             "line": {
              "color": "white"
             }
            },
            "header": {
             "fill": {
              "color": "#C8D4E3"
             },
             "line": {
              "color": "white"
             }
            },
            "type": "table"
           }
          ]
         },
         "layout": {
          "annotationdefaults": {
           "arrowcolor": "#2a3f5f",
           "arrowhead": 0,
           "arrowwidth": 1
          },
          "autotypenumbers": "strict",
          "coloraxis": {
           "colorbar": {
            "outlinewidth": 0,
            "ticks": ""
           }
          },
          "colorscale": {
           "diverging": [
            [
             0,
             "#8e0152"
            ],
            [
             0.1,
             "#c51b7d"
            ],
            [
             0.2,
             "#de77ae"
            ],
            [
             0.3,
             "#f1b6da"
            ],
            [
             0.4,
             "#fde0ef"
            ],
            [
             0.5,
             "#f7f7f7"
            ],
            [
             0.6,
             "#e6f5d0"
            ],
            [
             0.7,
             "#b8e186"
            ],
            [
             0.8,
             "#7fbc41"
            ],
            [
             0.9,
             "#4d9221"
            ],
            [
             1,
             "#276419"
            ]
           ],
           "sequential": [
            [
             0,
             "#0d0887"
            ],
            [
             0.1111111111111111,
             "#46039f"
            ],
            [
             0.2222222222222222,
             "#7201a8"
            ],
            [
             0.3333333333333333,
             "#9c179e"
            ],
            [
             0.4444444444444444,
             "#bd3786"
            ],
            [
             0.5555555555555556,
             "#d8576b"
            ],
            [
             0.6666666666666666,
             "#ed7953"
            ],
            [
             0.7777777777777778,
             "#fb9f3a"
            ],
            [
             0.8888888888888888,
             "#fdca26"
            ],
            [
             1,
             "#f0f921"
            ]
           ],
           "sequentialminus": [
            [
             0,
             "#0d0887"
            ],
            [
             0.1111111111111111,
             "#46039f"
            ],
            [
             0.2222222222222222,
             "#7201a8"
            ],
            [
             0.3333333333333333,
             "#9c179e"
            ],
            [
             0.4444444444444444,
             "#bd3786"
            ],
            [
             0.5555555555555556,
             "#d8576b"
            ],
            [
             0.6666666666666666,
             "#ed7953"
            ],
            [
             0.7777777777777778,
             "#fb9f3a"
            ],
            [
             0.8888888888888888,
             "#fdca26"
            ],
            [
             1,
             "#f0f921"
            ]
           ]
          },
          "colorway": [
           "#636efa",
           "#EF553B",
           "#00cc96",
           "#ab63fa",
           "#FFA15A",
           "#19d3f3",
           "#FF6692",
           "#B6E880",
           "#FF97FF",
           "#FECB52"
          ],
          "font": {
           "color": "#2a3f5f"
          },
          "geo": {
           "bgcolor": "white",
           "lakecolor": "white",
           "landcolor": "white",
           "showlakes": true,
           "showland": true,
           "subunitcolor": "#C8D4E3"
          },
          "hoverlabel": {
           "align": "left"
          },
          "hovermode": "closest",
          "mapbox": {
           "style": "light"
          },
          "paper_bgcolor": "white",
          "plot_bgcolor": "white",
          "polar": {
           "angularaxis": {
            "gridcolor": "#EBF0F8",
            "linecolor": "#EBF0F8",
            "ticks": ""
           },
           "bgcolor": "white",
           "radialaxis": {
            "gridcolor": "#EBF0F8",
            "linecolor": "#EBF0F8",
            "ticks": ""
           }
          },
          "scene": {
           "xaxis": {
            "backgroundcolor": "white",
            "gridcolor": "#DFE8F3",
            "gridwidth": 2,
            "linecolor": "#EBF0F8",
            "showbackground": true,
            "ticks": "",
            "zerolinecolor": "#EBF0F8"
           },
           "yaxis": {
            "backgroundcolor": "white",
            "gridcolor": "#DFE8F3",
            "gridwidth": 2,
            "linecolor": "#EBF0F8",
            "showbackground": true,
            "ticks": "",
            "zerolinecolor": "#EBF0F8"
           },
           "zaxis": {
            "backgroundcolor": "white",
            "gridcolor": "#DFE8F3",
            "gridwidth": 2,
            "linecolor": "#EBF0F8",
            "showbackground": true,
            "ticks": "",
            "zerolinecolor": "#EBF0F8"
           }
          },
          "shapedefaults": {
           "line": {
            "color": "#2a3f5f"
           }
          },
          "ternary": {
           "aaxis": {
            "gridcolor": "#DFE8F3",
            "linecolor": "#A2B1C6",
            "ticks": ""
           },
           "baxis": {
            "gridcolor": "#DFE8F3",
            "linecolor": "#A2B1C6",
            "ticks": ""
           },
           "bgcolor": "white",
           "caxis": {
            "gridcolor": "#DFE8F3",
            "linecolor": "#A2B1C6",
            "ticks": ""
           }
          },
          "title": {
           "x": 0.05
          },
          "xaxis": {
           "automargin": true,
           "gridcolor": "#EBF0F8",
           "linecolor": "#EBF0F8",
           "ticks": "",
           "title": {
            "standoff": 15
           },
           "zerolinecolor": "#EBF0F8",
           "zerolinewidth": 2
          },
          "yaxis": {
           "automargin": true,
           "gridcolor": "#EBF0F8",
           "linecolor": "#EBF0F8",
           "ticks": "",
           "title": {
            "standoff": 15
           },
           "zerolinecolor": "#EBF0F8",
           "zerolinewidth": 2
          }
         }
        },
        "title": {
         "text": "BNB-USD Forecast with Moving Average and Buy/Sell Signals"
        },
        "xaxis": {
         "title": {
          "text": "Date"
         }
        },
        "yaxis": {
         "title": {
          "text": "Price (USD)"
         }
        }
       }
      }
     },
     "metadata": {},
     "output_type": "display_data"
    }
   ],
   "source": [
    "import plotly.graph_objects as go\n",
    "\n",
    "forecast_df = predict_model(bnb_prophet)\n",
    "# Reset the index and add moving average and signals\n",
    "forecast_df = forecast_df.reset_index()\n",
    "\n",
    "\n",
    "\n",
    "# Rename columns for clarity\n",
    "forecast_df.rename(columns={'index': 'ds'}, inplace=True)\n",
    "forecast_df['y_pred_ma'] = forecast_df['y_pred'].rolling(window=5).mean()\n",
    "forecast_df['signal_ma'] = 0\n",
    "# Convert 'ds' column to datetime to avoid the Period type issue\n",
    "# Convert 'ds' column to timestamp from Period type\n",
    "forecast_df['ds'] = forecast_df['ds'].dt.to_timestamp()\n",
    "\n",
    "# Add buy and sell signals based on moving average\n",
    "for i in range(1, len(forecast_df)):\n",
    "    if forecast_df['y_pred_ma'].iloc[i] > forecast_df['y_pred_ma'].iloc[i-1] + 20:\n",
    "        forecast_df.loc[i, 'signal_ma'] = 1\n",
    "    elif forecast_df['y_pred_ma'].iloc[i] < forecast_df['y_pred_ma'].iloc[i-1] - 20:\n",
    "        forecast_df.loc[i, 'signal_ma'] = -1\n",
    "\n",
    "# Create the figure\n",
    "fig = go.Figure()\n",
    "\n",
    "# Plot actual price (historical data)\n",
    "if 'y' in forecast_df.columns:\n",
    "    fig.add_trace(go.Scatter(\n",
    "        x=forecast_df['ds'],\n",
    "        y=forecast_df['y'],\n",
    "        mode='lines',\n",
    "        name='Historical Price',\n",
    "        line=dict(color='gray')\n",
    "    ))\n",
    "fig.add_trace(go.Scatter(\n",
    "    x=historical['ds'],\n",
    "    y=historical['y'],\n",
    "    mode='lines',\n",
    "    name='Historical Price',\n",
    "    line=dict(color='black')\n",
    "))\n",
    "# Plot predicted price (forecast)\n",
    "fig.add_trace(go.Scatter(\n",
    "    x=forecast_df['ds'],\n",
    "    y=forecast_df['y_pred'],\n",
    "    mode='lines',\n",
    "    name='Predicted Price (y_pred)',\n",
    "    line=dict(color='blue')\n",
    "))\n",
    "\n",
    "# Plot moving average of forecasted price\n",
    "fig.add_trace(go.Scatter(\n",
    "    x=forecast_df['ds'],\n",
    "    y=forecast_df['y_pred_ma'],\n",
    "    mode='lines',\n",
    "    name='Forecast MA (5-day)',\n",
    "    line=dict(color='orange', dash='dash')\n",
    "))\n",
    "\n",
    "# Plot Buy signals based on moving average\n",
    "buy_signals_ma = forecast_df[forecast_df['signal_ma'] == 1]\n",
    "fig.add_trace(go.Scatter(\n",
    "    x=buy_signals_ma['ds'],\n",
    "    y=buy_signals_ma['y_pred_ma'],\n",
    "    mode='markers',\n",
    "    marker=dict(symbol='triangle-up', size=10, color='green'),\n",
    "    name='Buy Signal (MA)'\n",
    "))\n",
    "\n",
    "# Plot Sell signals based on moving average\n",
    "sell_signals_ma = forecast_df[forecast_df['signal_ma'] == -1]\n",
    "fig.add_trace(go.Scatter(\n",
    "    x=sell_signals_ma['ds'],\n",
    "    y=sell_signals_ma['y_pred_ma'],\n",
    "    mode='markers',\n",
    "    marker=dict(symbol='triangle-down', size=10, color='red'),\n",
    "    name='Sell Signal (MA)'\n",
    "))\n",
    "\n",
    "# Update layout and display the plot\n",
    "fig.update_layout(\n",
    "    title='BNB-USD Forecast with Moving Average and Buy/Sell Signals',\n",
    "    xaxis_title='Date',\n",
    "    yaxis_title='Price (USD)',\n",
    "    template='plotly_white',\n",
    "    hovermode='x unified'\n",
    ")\n",
    "\n",
    "fig.show()\n"
   ]
  },
  {
   "cell_type": "code",
   "execution_count": 284,
   "id": "13de79c8",
   "metadata": {},
   "outputs": [
    {
     "data": {
      "text/html": [
       "<style type=\"text/css\">\n",
       "#T_97bc3_row25_col1, #T_97bc3_row31_col1 {\n",
       "  background-color: lightgreen;\n",
       "}\n",
       "</style>\n",
       "<table id=\"T_97bc3\">\n",
       "  <thead>\n",
       "    <tr>\n",
       "      <th class=\"blank level0\" >&nbsp;</th>\n",
       "      <th id=\"T_97bc3_level0_col0\" class=\"col_heading level0 col0\" >Description</th>\n",
       "      <th id=\"T_97bc3_level0_col1\" class=\"col_heading level0 col1\" >Value</th>\n",
       "    </tr>\n",
       "  </thead>\n",
       "  <tbody>\n",
       "    <tr>\n",
       "      <th id=\"T_97bc3_level0_row0\" class=\"row_heading level0 row0\" >0</th>\n",
       "      <td id=\"T_97bc3_row0_col0\" class=\"data row0 col0\" >session_id</td>\n",
       "      <td id=\"T_97bc3_row0_col1\" class=\"data row0 col1\" >123</td>\n",
       "    </tr>\n",
       "    <tr>\n",
       "      <th id=\"T_97bc3_level0_row1\" class=\"row_heading level0 row1\" >1</th>\n",
       "      <td id=\"T_97bc3_row1_col0\" class=\"data row1 col0\" >Target</td>\n",
       "      <td id=\"T_97bc3_row1_col1\" class=\"data row1 col1\" >BNB-USD</td>\n",
       "    </tr>\n",
       "    <tr>\n",
       "      <th id=\"T_97bc3_level0_row2\" class=\"row_heading level0 row2\" >2</th>\n",
       "      <td id=\"T_97bc3_row2_col0\" class=\"data row2 col0\" >Approach</td>\n",
       "      <td id=\"T_97bc3_row2_col1\" class=\"data row2 col1\" >Univariate</td>\n",
       "    </tr>\n",
       "    <tr>\n",
       "      <th id=\"T_97bc3_level0_row3\" class=\"row_heading level0 row3\" >3</th>\n",
       "      <td id=\"T_97bc3_row3_col0\" class=\"data row3 col0\" >Exogenous Variables</td>\n",
       "      <td id=\"T_97bc3_row3_col1\" class=\"data row3 col1\" >Not Present</td>\n",
       "    </tr>\n",
       "    <tr>\n",
       "      <th id=\"T_97bc3_level0_row4\" class=\"row_heading level0 row4\" >4</th>\n",
       "      <td id=\"T_97bc3_row4_col0\" class=\"data row4 col0\" >Original data shape</td>\n",
       "      <td id=\"T_97bc3_row4_col1\" class=\"data row4 col1\" >(365, 1)</td>\n",
       "    </tr>\n",
       "    <tr>\n",
       "      <th id=\"T_97bc3_level0_row5\" class=\"row_heading level0 row5\" >5</th>\n",
       "      <td id=\"T_97bc3_row5_col0\" class=\"data row5 col0\" >Transformed data shape</td>\n",
       "      <td id=\"T_97bc3_row5_col1\" class=\"data row5 col1\" >(365, 1)</td>\n",
       "    </tr>\n",
       "    <tr>\n",
       "      <th id=\"T_97bc3_level0_row6\" class=\"row_heading level0 row6\" >6</th>\n",
       "      <td id=\"T_97bc3_row6_col0\" class=\"data row6 col0\" >Transformed train set shape</td>\n",
       "      <td id=\"T_97bc3_row6_col1\" class=\"data row6 col1\" >(364, 1)</td>\n",
       "    </tr>\n",
       "    <tr>\n",
       "      <th id=\"T_97bc3_level0_row7\" class=\"row_heading level0 row7\" >7</th>\n",
       "      <td id=\"T_97bc3_row7_col0\" class=\"data row7 col0\" >Transformed test set shape</td>\n",
       "      <td id=\"T_97bc3_row7_col1\" class=\"data row7 col1\" >(1, 1)</td>\n",
       "    </tr>\n",
       "    <tr>\n",
       "      <th id=\"T_97bc3_level0_row8\" class=\"row_heading level0 row8\" >8</th>\n",
       "      <td id=\"T_97bc3_row8_col0\" class=\"data row8 col0\" >Rows with missing values</td>\n",
       "      <td id=\"T_97bc3_row8_col1\" class=\"data row8 col1\" >0.0%</td>\n",
       "    </tr>\n",
       "    <tr>\n",
       "      <th id=\"T_97bc3_level0_row9\" class=\"row_heading level0 row9\" >9</th>\n",
       "      <td id=\"T_97bc3_row9_col0\" class=\"data row9 col0\" >Fold Generator</td>\n",
       "      <td id=\"T_97bc3_row9_col1\" class=\"data row9 col1\" >ExpandingWindowSplitter</td>\n",
       "    </tr>\n",
       "    <tr>\n",
       "      <th id=\"T_97bc3_level0_row10\" class=\"row_heading level0 row10\" >10</th>\n",
       "      <td id=\"T_97bc3_row10_col0\" class=\"data row10 col0\" >Fold Number</td>\n",
       "      <td id=\"T_97bc3_row10_col1\" class=\"data row10 col1\" >3</td>\n",
       "    </tr>\n",
       "    <tr>\n",
       "      <th id=\"T_97bc3_level0_row11\" class=\"row_heading level0 row11\" >11</th>\n",
       "      <td id=\"T_97bc3_row11_col0\" class=\"data row11 col0\" >Enforce Prediction Interval</td>\n",
       "      <td id=\"T_97bc3_row11_col1\" class=\"data row11 col1\" >False</td>\n",
       "    </tr>\n",
       "    <tr>\n",
       "      <th id=\"T_97bc3_level0_row12\" class=\"row_heading level0 row12\" >12</th>\n",
       "      <td id=\"T_97bc3_row12_col0\" class=\"data row12 col0\" >Splits used for hyperparameters</td>\n",
       "      <td id=\"T_97bc3_row12_col1\" class=\"data row12 col1\" >all</td>\n",
       "    </tr>\n",
       "    <tr>\n",
       "      <th id=\"T_97bc3_level0_row13\" class=\"row_heading level0 row13\" >13</th>\n",
       "      <td id=\"T_97bc3_row13_col0\" class=\"data row13 col0\" >User Defined Seasonal Period(s)</td>\n",
       "      <td id=\"T_97bc3_row13_col1\" class=\"data row13 col1\" >D</td>\n",
       "    </tr>\n",
       "    <tr>\n",
       "      <th id=\"T_97bc3_level0_row14\" class=\"row_heading level0 row14\" >14</th>\n",
       "      <td id=\"T_97bc3_row14_col0\" class=\"data row14 col0\" >Ignore Seasonality Test</td>\n",
       "      <td id=\"T_97bc3_row14_col1\" class=\"data row14 col1\" >False</td>\n",
       "    </tr>\n",
       "    <tr>\n",
       "      <th id=\"T_97bc3_level0_row15\" class=\"row_heading level0 row15\" >15</th>\n",
       "      <td id=\"T_97bc3_row15_col0\" class=\"data row15 col0\" >Seasonality Detection Algo</td>\n",
       "      <td id=\"T_97bc3_row15_col1\" class=\"data row15 col1\" >user_defined</td>\n",
       "    </tr>\n",
       "    <tr>\n",
       "      <th id=\"T_97bc3_level0_row16\" class=\"row_heading level0 row16\" >16</th>\n",
       "      <td id=\"T_97bc3_row16_col0\" class=\"data row16 col0\" >Max Period to Consider</td>\n",
       "      <td id=\"T_97bc3_row16_col1\" class=\"data row16 col1\" >60</td>\n",
       "    </tr>\n",
       "    <tr>\n",
       "      <th id=\"T_97bc3_level0_row17\" class=\"row_heading level0 row17\" >17</th>\n",
       "      <td id=\"T_97bc3_row17_col0\" class=\"data row17 col0\" >Seasonal Period(s) Tested</td>\n",
       "      <td id=\"T_97bc3_row17_col1\" class=\"data row17 col1\" >[7]</td>\n",
       "    </tr>\n",
       "    <tr>\n",
       "      <th id=\"T_97bc3_level0_row18\" class=\"row_heading level0 row18\" >18</th>\n",
       "      <td id=\"T_97bc3_row18_col0\" class=\"data row18 col0\" >Significant Seasonal Period(s)</td>\n",
       "      <td id=\"T_97bc3_row18_col1\" class=\"data row18 col1\" >[7]</td>\n",
       "    </tr>\n",
       "    <tr>\n",
       "      <th id=\"T_97bc3_level0_row19\" class=\"row_heading level0 row19\" >19</th>\n",
       "      <td id=\"T_97bc3_row19_col0\" class=\"data row19 col0\" >Significant Seasonal Period(s) without Harmonics</td>\n",
       "      <td id=\"T_97bc3_row19_col1\" class=\"data row19 col1\" >[7]</td>\n",
       "    </tr>\n",
       "    <tr>\n",
       "      <th id=\"T_97bc3_level0_row20\" class=\"row_heading level0 row20\" >20</th>\n",
       "      <td id=\"T_97bc3_row20_col0\" class=\"data row20 col0\" >Remove Harmonics</td>\n",
       "      <td id=\"T_97bc3_row20_col1\" class=\"data row20 col1\" >False</td>\n",
       "    </tr>\n",
       "    <tr>\n",
       "      <th id=\"T_97bc3_level0_row21\" class=\"row_heading level0 row21\" >21</th>\n",
       "      <td id=\"T_97bc3_row21_col0\" class=\"data row21 col0\" >Harmonics Order Method</td>\n",
       "      <td id=\"T_97bc3_row21_col1\" class=\"data row21 col1\" >harmonic_max</td>\n",
       "    </tr>\n",
       "    <tr>\n",
       "      <th id=\"T_97bc3_level0_row22\" class=\"row_heading level0 row22\" >22</th>\n",
       "      <td id=\"T_97bc3_row22_col0\" class=\"data row22 col0\" >Num Seasonalities to Use</td>\n",
       "      <td id=\"T_97bc3_row22_col1\" class=\"data row22 col1\" >1</td>\n",
       "    </tr>\n",
       "    <tr>\n",
       "      <th id=\"T_97bc3_level0_row23\" class=\"row_heading level0 row23\" >23</th>\n",
       "      <td id=\"T_97bc3_row23_col0\" class=\"data row23 col0\" >All Seasonalities to Use</td>\n",
       "      <td id=\"T_97bc3_row23_col1\" class=\"data row23 col1\" >[7]</td>\n",
       "    </tr>\n",
       "    <tr>\n",
       "      <th id=\"T_97bc3_level0_row24\" class=\"row_heading level0 row24\" >24</th>\n",
       "      <td id=\"T_97bc3_row24_col0\" class=\"data row24 col0\" >Primary Seasonality</td>\n",
       "      <td id=\"T_97bc3_row24_col1\" class=\"data row24 col1\" >7</td>\n",
       "    </tr>\n",
       "    <tr>\n",
       "      <th id=\"T_97bc3_level0_row25\" class=\"row_heading level0 row25\" >25</th>\n",
       "      <td id=\"T_97bc3_row25_col0\" class=\"data row25 col0\" >Seasonality Present</td>\n",
       "      <td id=\"T_97bc3_row25_col1\" class=\"data row25 col1\" >True</td>\n",
       "    </tr>\n",
       "    <tr>\n",
       "      <th id=\"T_97bc3_level0_row26\" class=\"row_heading level0 row26\" >26</th>\n",
       "      <td id=\"T_97bc3_row26_col0\" class=\"data row26 col0\" >Seasonality Type</td>\n",
       "      <td id=\"T_97bc3_row26_col1\" class=\"data row26 col1\" >mul</td>\n",
       "    </tr>\n",
       "    <tr>\n",
       "      <th id=\"T_97bc3_level0_row27\" class=\"row_heading level0 row27\" >27</th>\n",
       "      <td id=\"T_97bc3_row27_col0\" class=\"data row27 col0\" >Target Strictly Positive</td>\n",
       "      <td id=\"T_97bc3_row27_col1\" class=\"data row27 col1\" >True</td>\n",
       "    </tr>\n",
       "    <tr>\n",
       "      <th id=\"T_97bc3_level0_row28\" class=\"row_heading level0 row28\" >28</th>\n",
       "      <td id=\"T_97bc3_row28_col0\" class=\"data row28 col0\" >Target White Noise</td>\n",
       "      <td id=\"T_97bc3_row28_col1\" class=\"data row28 col1\" >No</td>\n",
       "    </tr>\n",
       "    <tr>\n",
       "      <th id=\"T_97bc3_level0_row29\" class=\"row_heading level0 row29\" >29</th>\n",
       "      <td id=\"T_97bc3_row29_col0\" class=\"data row29 col0\" >Recommended d</td>\n",
       "      <td id=\"T_97bc3_row29_col1\" class=\"data row29 col1\" >1</td>\n",
       "    </tr>\n",
       "    <tr>\n",
       "      <th id=\"T_97bc3_level0_row30\" class=\"row_heading level0 row30\" >30</th>\n",
       "      <td id=\"T_97bc3_row30_col0\" class=\"data row30 col0\" >Recommended Seasonal D</td>\n",
       "      <td id=\"T_97bc3_row30_col1\" class=\"data row30 col1\" >0</td>\n",
       "    </tr>\n",
       "    <tr>\n",
       "      <th id=\"T_97bc3_level0_row31\" class=\"row_heading level0 row31\" >31</th>\n",
       "      <td id=\"T_97bc3_row31_col0\" class=\"data row31 col0\" >Preprocess</td>\n",
       "      <td id=\"T_97bc3_row31_col1\" class=\"data row31 col1\" >True</td>\n",
       "    </tr>\n",
       "    <tr>\n",
       "      <th id=\"T_97bc3_level0_row32\" class=\"row_heading level0 row32\" >32</th>\n",
       "      <td id=\"T_97bc3_row32_col0\" class=\"data row32 col0\" >Numerical Imputation (Target)</td>\n",
       "      <td id=\"T_97bc3_row32_col1\" class=\"data row32 col1\" >drift</td>\n",
       "    </tr>\n",
       "    <tr>\n",
       "      <th id=\"T_97bc3_level0_row33\" class=\"row_heading level0 row33\" >33</th>\n",
       "      <td id=\"T_97bc3_row33_col0\" class=\"data row33 col0\" >Transformation (Target)</td>\n",
       "      <td id=\"T_97bc3_row33_col1\" class=\"data row33 col1\" >log</td>\n",
       "    </tr>\n",
       "    <tr>\n",
       "      <th id=\"T_97bc3_level0_row34\" class=\"row_heading level0 row34\" >34</th>\n",
       "      <td id=\"T_97bc3_row34_col0\" class=\"data row34 col0\" >Scaling (Target)</td>\n",
       "      <td id=\"T_97bc3_row34_col1\" class=\"data row34 col1\" >None</td>\n",
       "    </tr>\n",
       "    <tr>\n",
       "      <th id=\"T_97bc3_level0_row35\" class=\"row_heading level0 row35\" >35</th>\n",
       "      <td id=\"T_97bc3_row35_col0\" class=\"data row35 col0\" >Feature Engineering (Target) - Reduced Regression</td>\n",
       "      <td id=\"T_97bc3_row35_col1\" class=\"data row35 col1\" >False</td>\n",
       "    </tr>\n",
       "    <tr>\n",
       "      <th id=\"T_97bc3_level0_row36\" class=\"row_heading level0 row36\" >36</th>\n",
       "      <td id=\"T_97bc3_row36_col0\" class=\"data row36 col0\" >CPU Jobs</td>\n",
       "      <td id=\"T_97bc3_row36_col1\" class=\"data row36 col1\" >-1</td>\n",
       "    </tr>\n",
       "    <tr>\n",
       "      <th id=\"T_97bc3_level0_row37\" class=\"row_heading level0 row37\" >37</th>\n",
       "      <td id=\"T_97bc3_row37_col0\" class=\"data row37 col0\" >Use GPU</td>\n",
       "      <td id=\"T_97bc3_row37_col1\" class=\"data row37 col1\" >False</td>\n",
       "    </tr>\n",
       "    <tr>\n",
       "      <th id=\"T_97bc3_level0_row38\" class=\"row_heading level0 row38\" >38</th>\n",
       "      <td id=\"T_97bc3_row38_col0\" class=\"data row38 col0\" >Log Experiment</td>\n",
       "      <td id=\"T_97bc3_row38_col1\" class=\"data row38 col1\" >False</td>\n",
       "    </tr>\n",
       "    <tr>\n",
       "      <th id=\"T_97bc3_level0_row39\" class=\"row_heading level0 row39\" >39</th>\n",
       "      <td id=\"T_97bc3_row39_col0\" class=\"data row39 col0\" >Experiment Name</td>\n",
       "      <td id=\"T_97bc3_row39_col1\" class=\"data row39 col1\" >ts-default-name</td>\n",
       "    </tr>\n",
       "    <tr>\n",
       "      <th id=\"T_97bc3_level0_row40\" class=\"row_heading level0 row40\" >40</th>\n",
       "      <td id=\"T_97bc3_row40_col0\" class=\"data row40 col0\" >USI</td>\n",
       "      <td id=\"T_97bc3_row40_col1\" class=\"data row40 col1\" >748b</td>\n",
       "    </tr>\n",
       "  </tbody>\n",
       "</table>\n"
      ],
      "text/plain": [
       "<pandas.io.formats.style.Styler at 0x1b9e4ed6af0>"
      ]
     },
     "metadata": {},
     "output_type": "display_data"
    },
    {
     "data": {
      "text/html": [],
      "text/plain": [
       "<IPython.core.display.HTML object>"
      ]
     },
     "metadata": {},
     "output_type": "display_data"
    },
    {
     "data": {
      "text/html": [
       "<style type=\"text/css\">\n",
       "#T_8909c_row3_col0, #T_8909c_row3_col1, #T_8909c_row3_col2, #T_8909c_row3_col3, #T_8909c_row3_col4, #T_8909c_row3_col5, #T_8909c_row3_col6 {\n",
       "  background: yellow;\n",
       "}\n",
       "</style>\n",
       "<table id=\"T_8909c\">\n",
       "  <thead>\n",
       "    <tr>\n",
       "      <th class=\"blank level0\" >&nbsp;</th>\n",
       "      <th id=\"T_8909c_level0_col0\" class=\"col_heading level0 col0\" >cutoff</th>\n",
       "      <th id=\"T_8909c_level0_col1\" class=\"col_heading level0 col1\" >MASE</th>\n",
       "      <th id=\"T_8909c_level0_col2\" class=\"col_heading level0 col2\" >RMSSE</th>\n",
       "      <th id=\"T_8909c_level0_col3\" class=\"col_heading level0 col3\" >MAE</th>\n",
       "      <th id=\"T_8909c_level0_col4\" class=\"col_heading level0 col4\" >RMSE</th>\n",
       "      <th id=\"T_8909c_level0_col5\" class=\"col_heading level0 col5\" >MAPE</th>\n",
       "      <th id=\"T_8909c_level0_col6\" class=\"col_heading level0 col6\" >SMAPE</th>\n",
       "    </tr>\n",
       "  </thead>\n",
       "  <tbody>\n",
       "    <tr>\n",
       "      <th id=\"T_8909c_level0_row0\" class=\"row_heading level0 row0\" >0</th>\n",
       "      <td id=\"T_8909c_row0_col0\" class=\"data row0 col0\" >2025-04-26</td>\n",
       "      <td id=\"T_8909c_row0_col1\" class=\"data row0 col1\" >0.0686</td>\n",
       "      <td id=\"T_8909c_row0_col2\" class=\"data row0 col2\" >0.0526</td>\n",
       "      <td id=\"T_8909c_row0_col3\" class=\"data row0 col3\" >2.2089</td>\n",
       "      <td id=\"T_8909c_row0_col4\" class=\"data row0 col4\" >2.2089</td>\n",
       "      <td id=\"T_8909c_row0_col5\" class=\"data row0 col5\" >0.0037</td>\n",
       "      <td id=\"T_8909c_row0_col6\" class=\"data row0 col6\" >0.0037</td>\n",
       "    </tr>\n",
       "    <tr>\n",
       "      <th id=\"T_8909c_level0_row1\" class=\"row_heading level0 row1\" >1</th>\n",
       "      <td id=\"T_8909c_row1_col0\" class=\"data row1 col0\" >2025-04-27</td>\n",
       "      <td id=\"T_8909c_row1_col1\" class=\"data row1 col1\" >0.1021</td>\n",
       "      <td id=\"T_8909c_row1_col2\" class=\"data row1 col2\" >0.0782</td>\n",
       "      <td id=\"T_8909c_row1_col3\" class=\"data row1 col3\" >3.2785</td>\n",
       "      <td id=\"T_8909c_row1_col4\" class=\"data row1 col4\" >3.2785</td>\n",
       "      <td id=\"T_8909c_row1_col5\" class=\"data row1 col5\" >0.0054</td>\n",
       "      <td id=\"T_8909c_row1_col6\" class=\"data row1 col6\" >0.0054</td>\n",
       "    </tr>\n",
       "    <tr>\n",
       "      <th id=\"T_8909c_level0_row2\" class=\"row_heading level0 row2\" >2</th>\n",
       "      <td id=\"T_8909c_row2_col0\" class=\"data row2 col0\" >2025-04-28</td>\n",
       "      <td id=\"T_8909c_row2_col1\" class=\"data row2 col1\" >0.1968</td>\n",
       "      <td id=\"T_8909c_row2_col2\" class=\"data row2 col2\" >0.1508</td>\n",
       "      <td id=\"T_8909c_row2_col3\" class=\"data row2 col3\" >6.3084</td>\n",
       "      <td id=\"T_8909c_row2_col4\" class=\"data row2 col4\" >6.3084</td>\n",
       "      <td id=\"T_8909c_row2_col5\" class=\"data row2 col5\" >0.0105</td>\n",
       "      <td id=\"T_8909c_row2_col6\" class=\"data row2 col6\" >0.0104</td>\n",
       "    </tr>\n",
       "    <tr>\n",
       "      <th id=\"T_8909c_level0_row3\" class=\"row_heading level0 row3\" >Mean</th>\n",
       "      <td id=\"T_8909c_row3_col0\" class=\"data row3 col0\" >NaT</td>\n",
       "      <td id=\"T_8909c_row3_col1\" class=\"data row3 col1\" >0.1225</td>\n",
       "      <td id=\"T_8909c_row3_col2\" class=\"data row3 col2\" >0.0939</td>\n",
       "      <td id=\"T_8909c_row3_col3\" class=\"data row3 col3\" >3.9319</td>\n",
       "      <td id=\"T_8909c_row3_col4\" class=\"data row3 col4\" >3.9319</td>\n",
       "      <td id=\"T_8909c_row3_col5\" class=\"data row3 col5\" >0.0065</td>\n",
       "      <td id=\"T_8909c_row3_col6\" class=\"data row3 col6\" >0.0065</td>\n",
       "    </tr>\n",
       "    <tr>\n",
       "      <th id=\"T_8909c_level0_row4\" class=\"row_heading level0 row4\" >SD</th>\n",
       "      <td id=\"T_8909c_row4_col0\" class=\"data row4 col0\" >NaT</td>\n",
       "      <td id=\"T_8909c_row4_col1\" class=\"data row4 col1\" >0.0543</td>\n",
       "      <td id=\"T_8909c_row4_col2\" class=\"data row4 col2\" >0.0416</td>\n",
       "      <td id=\"T_8909c_row4_col3\" class=\"data row4 col3\" >1.7362</td>\n",
       "      <td id=\"T_8909c_row4_col4\" class=\"data row4 col4\" >1.7362</td>\n",
       "      <td id=\"T_8909c_row4_col5\" class=\"data row4 col5\" >0.0029</td>\n",
       "      <td id=\"T_8909c_row4_col6\" class=\"data row4 col6\" >0.0029</td>\n",
       "    </tr>\n",
       "  </tbody>\n",
       "</table>\n"
      ],
      "text/plain": [
       "<pandas.io.formats.style.Styler at 0x1b9e4d1f670>"
      ]
     },
     "metadata": {},
     "output_type": "display_data"
    },
    {
     "data": {
      "text/html": [],
      "text/plain": [
       "<IPython.core.display.HTML object>"
      ]
     },
     "metadata": {},
     "output_type": "display_data"
    },
    {
     "data": {
      "text/html": [],
      "text/plain": [
       "<IPython.core.display.HTML object>"
      ]
     },
     "metadata": {},
     "output_type": "display_data"
    },
    {
     "data": {
      "text/html": [
       "<style type=\"text/css\">\n",
       "#T_6acef_row3_col0, #T_6acef_row3_col1, #T_6acef_row3_col2, #T_6acef_row3_col3, #T_6acef_row3_col4, #T_6acef_row3_col5, #T_6acef_row3_col6 {\n",
       "  background: yellow;\n",
       "}\n",
       "</style>\n",
       "<table id=\"T_6acef\">\n",
       "  <thead>\n",
       "    <tr>\n",
       "      <th class=\"blank level0\" >&nbsp;</th>\n",
       "      <th id=\"T_6acef_level0_col0\" class=\"col_heading level0 col0\" >cutoff</th>\n",
       "      <th id=\"T_6acef_level0_col1\" class=\"col_heading level0 col1\" >MASE</th>\n",
       "      <th id=\"T_6acef_level0_col2\" class=\"col_heading level0 col2\" >RMSSE</th>\n",
       "      <th id=\"T_6acef_level0_col3\" class=\"col_heading level0 col3\" >MAE</th>\n",
       "      <th id=\"T_6acef_level0_col4\" class=\"col_heading level0 col4\" >RMSE</th>\n",
       "      <th id=\"T_6acef_level0_col5\" class=\"col_heading level0 col5\" >MAPE</th>\n",
       "      <th id=\"T_6acef_level0_col6\" class=\"col_heading level0 col6\" >SMAPE</th>\n",
       "    </tr>\n",
       "  </thead>\n",
       "  <tbody>\n",
       "    <tr>\n",
       "      <th id=\"T_6acef_level0_row0\" class=\"row_heading level0 row0\" >0</th>\n",
       "      <td id=\"T_6acef_row0_col0\" class=\"data row0 col0\" >2025-04-26</td>\n",
       "      <td id=\"T_6acef_row0_col1\" class=\"data row0 col1\" >0.1333</td>\n",
       "      <td id=\"T_6acef_row0_col2\" class=\"data row0 col2\" >0.1022</td>\n",
       "      <td id=\"T_6acef_row0_col3\" class=\"data row0 col3\" >4.2885</td>\n",
       "      <td id=\"T_6acef_row0_col4\" class=\"data row0 col4\" >4.2885</td>\n",
       "      <td id=\"T_6acef_row0_col5\" class=\"data row0 col5\" >0.0071</td>\n",
       "      <td id=\"T_6acef_row0_col6\" class=\"data row0 col6\" >0.0071</td>\n",
       "    </tr>\n",
       "    <tr>\n",
       "      <th id=\"T_6acef_level0_row1\" class=\"row_heading level0 row1\" >1</th>\n",
       "      <td id=\"T_6acef_row1_col0\" class=\"data row1 col0\" >2025-04-27</td>\n",
       "      <td id=\"T_6acef_row1_col1\" class=\"data row1 col1\" >0.1640</td>\n",
       "      <td id=\"T_6acef_row1_col2\" class=\"data row1 col2\" >0.1257</td>\n",
       "      <td id=\"T_6acef_row1_col3\" class=\"data row1 col3\" >5.2671</td>\n",
       "      <td id=\"T_6acef_row1_col4\" class=\"data row1 col4\" >5.2671</td>\n",
       "      <td id=\"T_6acef_row1_col5\" class=\"data row1 col5\" >0.0087</td>\n",
       "      <td id=\"T_6acef_row1_col6\" class=\"data row1 col6\" >0.0087</td>\n",
       "    </tr>\n",
       "    <tr>\n",
       "      <th id=\"T_6acef_level0_row2\" class=\"row_heading level0 row2\" >2</th>\n",
       "      <td id=\"T_6acef_row2_col0\" class=\"data row2 col0\" >2025-04-28</td>\n",
       "      <td id=\"T_6acef_row2_col1\" class=\"data row2 col1\" >0.0152</td>\n",
       "      <td id=\"T_6acef_row2_col2\" class=\"data row2 col2\" >0.0116</td>\n",
       "      <td id=\"T_6acef_row2_col3\" class=\"data row2 col3\" >0.4862</td>\n",
       "      <td id=\"T_6acef_row2_col4\" class=\"data row2 col4\" >0.4862</td>\n",
       "      <td id=\"T_6acef_row2_col5\" class=\"data row2 col5\" >0.0008</td>\n",
       "      <td id=\"T_6acef_row2_col6\" class=\"data row2 col6\" >0.0008</td>\n",
       "    </tr>\n",
       "    <tr>\n",
       "      <th id=\"T_6acef_level0_row3\" class=\"row_heading level0 row3\" >Mean</th>\n",
       "      <td id=\"T_6acef_row3_col0\" class=\"data row3 col0\" >NaT</td>\n",
       "      <td id=\"T_6acef_row3_col1\" class=\"data row3 col1\" >0.1041</td>\n",
       "      <td id=\"T_6acef_row3_col2\" class=\"data row3 col2\" >0.0798</td>\n",
       "      <td id=\"T_6acef_row3_col3\" class=\"data row3 col3\" >3.3473</td>\n",
       "      <td id=\"T_6acef_row3_col4\" class=\"data row3 col4\" >3.3473</td>\n",
       "      <td id=\"T_6acef_row3_col5\" class=\"data row3 col5\" >0.0055</td>\n",
       "      <td id=\"T_6acef_row3_col6\" class=\"data row3 col6\" >0.0056</td>\n",
       "    </tr>\n",
       "    <tr>\n",
       "      <th id=\"T_6acef_level0_row4\" class=\"row_heading level0 row4\" >SD</th>\n",
       "      <td id=\"T_6acef_row4_col0\" class=\"data row4 col0\" >NaT</td>\n",
       "      <td id=\"T_6acef_row4_col1\" class=\"data row4 col1\" >0.0641</td>\n",
       "      <td id=\"T_6acef_row4_col2\" class=\"data row4 col2\" >0.0492</td>\n",
       "      <td id=\"T_6acef_row4_col3\" class=\"data row4 col3\" >2.0621</td>\n",
       "      <td id=\"T_6acef_row4_col4\" class=\"data row4 col4\" >2.0621</td>\n",
       "      <td id=\"T_6acef_row4_col5\" class=\"data row4 col5\" >0.0034</td>\n",
       "      <td id=\"T_6acef_row4_col6\" class=\"data row4 col6\" >0.0034</td>\n",
       "    </tr>\n",
       "  </tbody>\n",
       "</table>\n"
      ],
      "text/plain": [
       "<pandas.io.formats.style.Styler at 0x1b9d1587700>"
      ]
     },
     "metadata": {},
     "output_type": "display_data"
    },
    {
     "data": {
      "text/html": [],
      "text/plain": [
       "<IPython.core.display.HTML object>"
      ]
     },
     "metadata": {},
     "output_type": "display_data"
    },
    {
     "name": "stdout",
     "output_type": "stream",
     "text": [
      "Fitting 3 folds for each of 10 candidates, totalling 30 fits\n"
     ]
    },
    {
     "name": "stderr",
     "output_type": "stream",
     "text": [
      "[Parallel(n_jobs=-1)]: Using backend LokyBackend with 8 concurrent workers.\n",
      "[Parallel(n_jobs=-1)]: Done  30 out of  30 | elapsed:    9.9s finished\n"
     ]
    },
    {
     "data": {
      "application/vnd.plotly.v1+json": {
       "config": {
        "plotlyServerURL": "https://plot.ly"
       },
       "data": [
        {
         "line": {
          "color": "rgb(31, 119, 180)",
          "width": 2
         },
         "marker": {
          "color": "rgb(31, 119, 180)",
          "size": 5
         },
         "mode": "lines+markers",
         "name": "BNB-USD",
         "type": "scattergl",
         "x": [
          "2024-05-01T00:00:00",
          "2024-05-02T00:00:00",
          "2024-05-03T00:00:00",
          "2024-05-04T00:00:00",
          "2024-05-05T00:00:00",
          "2024-05-06T00:00:00",
          "2024-05-07T00:00:00",
          "2024-05-08T00:00:00",
          "2024-05-09T00:00:00",
          "2024-05-10T00:00:00",
          "2024-05-11T00:00:00",
          "2024-05-12T00:00:00",
          "2024-05-13T00:00:00",
          "2024-05-14T00:00:00",
          "2024-05-15T00:00:00",
          "2024-05-16T00:00:00",
          "2024-05-17T00:00:00",
          "2024-05-18T00:00:00",
          "2024-05-19T00:00:00",
          "2024-05-20T00:00:00",
          "2024-05-21T00:00:00",
          "2024-05-22T00:00:00",
          "2024-05-23T00:00:00",
          "2024-05-24T00:00:00",
          "2024-05-25T00:00:00",
          "2024-05-26T00:00:00",
          "2024-05-27T00:00:00",
          "2024-05-28T00:00:00",
          "2024-05-29T00:00:00",
          "2024-05-30T00:00:00",
          "2024-05-31T00:00:00",
          "2024-06-01T00:00:00",
          "2024-06-02T00:00:00",
          "2024-06-03T00:00:00",
          "2024-06-04T00:00:00",
          "2024-06-05T00:00:00",
          "2024-06-06T00:00:00",
          "2024-06-07T00:00:00",
          "2024-06-08T00:00:00",
          "2024-06-09T00:00:00",
          "2024-06-10T00:00:00",
          "2024-06-11T00:00:00",
          "2024-06-12T00:00:00",
          "2024-06-13T00:00:00",
          "2024-06-14T00:00:00",
          "2024-06-15T00:00:00",
          "2024-06-16T00:00:00",
          "2024-06-17T00:00:00",
          "2024-06-18T00:00:00",
          "2024-06-19T00:00:00",
          "2024-06-20T00:00:00",
          "2024-06-21T00:00:00",
          "2024-06-22T00:00:00",
          "2024-06-23T00:00:00",
          "2024-06-24T00:00:00",
          "2024-06-25T00:00:00",
          "2024-06-26T00:00:00",
          "2024-06-27T00:00:00",
          "2024-06-28T00:00:00",
          "2024-06-29T00:00:00",
          "2024-06-30T00:00:00",
          "2024-07-01T00:00:00",
          "2024-07-02T00:00:00",
          "2024-07-03T00:00:00",
          "2024-07-04T00:00:00",
          "2024-07-05T00:00:00",
          "2024-07-06T00:00:00",
          "2024-07-07T00:00:00",
          "2024-07-08T00:00:00",
          "2024-07-09T00:00:00",
          "2024-07-10T00:00:00",
          "2024-07-11T00:00:00",
          "2024-07-12T00:00:00",
          "2024-07-13T00:00:00",
          "2024-07-14T00:00:00",
          "2024-07-15T00:00:00",
          "2024-07-16T00:00:00",
          "2024-07-17T00:00:00",
          "2024-07-18T00:00:00",
          "2024-07-19T00:00:00",
          "2024-07-20T00:00:00",
          "2024-07-21T00:00:00",
          "2024-07-22T00:00:00",
          "2024-07-23T00:00:00",
          "2024-07-24T00:00:00",
          "2024-07-25T00:00:00",
          "2024-07-26T00:00:00",
          "2024-07-27T00:00:00",
          "2024-07-28T00:00:00",
          "2024-07-29T00:00:00",
          "2024-07-30T00:00:00",
          "2024-07-31T00:00:00",
          "2024-08-01T00:00:00",
          "2024-08-02T00:00:00",
          "2024-08-03T00:00:00",
          "2024-08-04T00:00:00",
          "2024-08-05T00:00:00",
          "2024-08-06T00:00:00",
          "2024-08-07T00:00:00",
          "2024-08-08T00:00:00",
          "2024-08-09T00:00:00",
          "2024-08-10T00:00:00",
          "2024-08-11T00:00:00",
          "2024-08-12T00:00:00",
          "2024-08-13T00:00:00",
          "2024-08-14T00:00:00",
          "2024-08-15T00:00:00",
          "2024-08-16T00:00:00",
          "2024-08-17T00:00:00",
          "2024-08-18T00:00:00",
          "2024-08-19T00:00:00",
          "2024-08-20T00:00:00",
          "2024-08-21T00:00:00",
          "2024-08-22T00:00:00",
          "2024-08-23T00:00:00",
          "2024-08-24T00:00:00",
          "2024-08-25T00:00:00",
          "2024-08-26T00:00:00",
          "2024-08-27T00:00:00",
          "2024-08-28T00:00:00",
          "2024-08-29T00:00:00",
          "2024-08-30T00:00:00",
          "2024-08-31T00:00:00",
          "2024-09-01T00:00:00",
          "2024-09-02T00:00:00",
          "2024-09-03T00:00:00",
          "2024-09-04T00:00:00",
          "2024-09-05T00:00:00",
          "2024-09-06T00:00:00",
          "2024-09-07T00:00:00",
          "2024-09-08T00:00:00",
          "2024-09-09T00:00:00",
          "2024-09-10T00:00:00",
          "2024-09-11T00:00:00",
          "2024-09-12T00:00:00",
          "2024-09-13T00:00:00",
          "2024-09-14T00:00:00",
          "2024-09-15T00:00:00",
          "2024-09-16T00:00:00",
          "2024-09-17T00:00:00",
          "2024-09-18T00:00:00",
          "2024-09-19T00:00:00",
          "2024-09-20T00:00:00",
          "2024-09-21T00:00:00",
          "2024-09-22T00:00:00",
          "2024-09-23T00:00:00",
          "2024-09-24T00:00:00",
          "2024-09-25T00:00:00",
          "2024-09-26T00:00:00",
          "2024-09-27T00:00:00",
          "2024-09-28T00:00:00",
          "2024-09-29T00:00:00",
          "2024-09-30T00:00:00",
          "2024-10-01T00:00:00",
          "2024-10-02T00:00:00",
          "2024-10-03T00:00:00",
          "2024-10-04T00:00:00",
          "2024-10-05T00:00:00",
          "2024-10-06T00:00:00",
          "2024-10-07T00:00:00",
          "2024-10-08T00:00:00",
          "2024-10-09T00:00:00",
          "2024-10-10T00:00:00",
          "2024-10-11T00:00:00",
          "2024-10-12T00:00:00",
          "2024-10-13T00:00:00",
          "2024-10-14T00:00:00",
          "2024-10-15T00:00:00",
          "2024-10-16T00:00:00",
          "2024-10-17T00:00:00",
          "2024-10-18T00:00:00",
          "2024-10-19T00:00:00",
          "2024-10-20T00:00:00",
          "2024-10-21T00:00:00",
          "2024-10-22T00:00:00",
          "2024-10-23T00:00:00",
          "2024-10-24T00:00:00",
          "2024-10-25T00:00:00",
          "2024-10-26T00:00:00",
          "2024-10-27T00:00:00",
          "2024-10-28T00:00:00",
          "2024-10-29T00:00:00",
          "2024-10-30T00:00:00",
          "2024-10-31T00:00:00",
          "2024-11-01T00:00:00",
          "2024-11-02T00:00:00",
          "2024-11-03T00:00:00",
          "2024-11-04T00:00:00",
          "2024-11-05T00:00:00",
          "2024-11-06T00:00:00",
          "2024-11-07T00:00:00",
          "2024-11-08T00:00:00",
          "2024-11-09T00:00:00",
          "2024-11-10T00:00:00",
          "2024-11-11T00:00:00",
          "2024-11-12T00:00:00",
          "2024-11-13T00:00:00",
          "2024-11-14T00:00:00",
          "2024-11-15T00:00:00",
          "2024-11-16T00:00:00",
          "2024-11-17T00:00:00",
          "2024-11-18T00:00:00",
          "2024-11-19T00:00:00",
          "2024-11-20T00:00:00",
          "2024-11-21T00:00:00",
          "2024-11-22T00:00:00",
          "2024-11-23T00:00:00",
          "2024-11-24T00:00:00",
          "2024-11-25T00:00:00",
          "2024-11-26T00:00:00",
          "2024-11-27T00:00:00",
          "2024-11-28T00:00:00",
          "2024-11-29T00:00:00",
          "2024-11-30T00:00:00",
          "2024-12-01T00:00:00",
          "2024-12-02T00:00:00",
          "2024-12-03T00:00:00",
          "2024-12-04T00:00:00",
          "2024-12-05T00:00:00",
          "2024-12-06T00:00:00",
          "2024-12-07T00:00:00",
          "2024-12-08T00:00:00",
          "2024-12-09T00:00:00",
          "2024-12-10T00:00:00",
          "2024-12-11T00:00:00",
          "2024-12-12T00:00:00",
          "2024-12-13T00:00:00",
          "2024-12-14T00:00:00",
          "2024-12-15T00:00:00",
          "2024-12-16T00:00:00",
          "2024-12-17T00:00:00",
          "2024-12-18T00:00:00",
          "2024-12-19T00:00:00",
          "2024-12-20T00:00:00",
          "2024-12-21T00:00:00",
          "2024-12-22T00:00:00",
          "2024-12-23T00:00:00",
          "2024-12-24T00:00:00",
          "2024-12-25T00:00:00",
          "2024-12-26T00:00:00",
          "2024-12-27T00:00:00",
          "2024-12-28T00:00:00",
          "2024-12-29T00:00:00",
          "2024-12-30T00:00:00",
          "2024-12-31T00:00:00",
          "2025-01-01T00:00:00",
          "2025-01-02T00:00:00",
          "2025-01-03T00:00:00",
          "2025-01-04T00:00:00",
          "2025-01-05T00:00:00",
          "2025-01-06T00:00:00",
          "2025-01-07T00:00:00",
          "2025-01-08T00:00:00",
          "2025-01-09T00:00:00",
          "2025-01-10T00:00:00",
          "2025-01-11T00:00:00",
          "2025-01-12T00:00:00",
          "2025-01-13T00:00:00",
          "2025-01-14T00:00:00",
          "2025-01-15T00:00:00",
          "2025-01-16T00:00:00",
          "2025-01-17T00:00:00",
          "2025-01-18T00:00:00",
          "2025-01-19T00:00:00",
          "2025-01-20T00:00:00",
          "2025-01-21T00:00:00",
          "2025-01-22T00:00:00",
          "2025-01-23T00:00:00",
          "2025-01-24T00:00:00",
          "2025-01-25T00:00:00",
          "2025-01-26T00:00:00",
          "2025-01-27T00:00:00",
          "2025-01-28T00:00:00",
          "2025-01-29T00:00:00",
          "2025-01-30T00:00:00",
          "2025-01-31T00:00:00",
          "2025-02-01T00:00:00",
          "2025-02-02T00:00:00",
          "2025-02-03T00:00:00",
          "2025-02-04T00:00:00",
          "2025-02-05T00:00:00",
          "2025-02-06T00:00:00",
          "2025-02-07T00:00:00",
          "2025-02-08T00:00:00",
          "2025-02-09T00:00:00",
          "2025-02-10T00:00:00",
          "2025-02-11T00:00:00",
          "2025-02-12T00:00:00",
          "2025-02-13T00:00:00",
          "2025-02-14T00:00:00",
          "2025-02-15T00:00:00",
          "2025-02-16T00:00:00",
          "2025-02-17T00:00:00",
          "2025-02-18T00:00:00",
          "2025-02-19T00:00:00",
          "2025-02-20T00:00:00",
          "2025-02-21T00:00:00",
          "2025-02-22T00:00:00",
          "2025-02-23T00:00:00",
          "2025-02-24T00:00:00",
          "2025-02-25T00:00:00",
          "2025-02-26T00:00:00",
          "2025-02-27T00:00:00",
          "2025-02-28T00:00:00",
          "2025-03-01T00:00:00",
          "2025-03-02T00:00:00",
          "2025-03-03T00:00:00",
          "2025-03-04T00:00:00",
          "2025-03-05T00:00:00",
          "2025-03-06T00:00:00",
          "2025-03-07T00:00:00",
          "2025-03-08T00:00:00",
          "2025-03-09T00:00:00",
          "2025-03-10T00:00:00",
          "2025-03-11T00:00:00",
          "2025-03-12T00:00:00",
          "2025-03-13T00:00:00",
          "2025-03-14T00:00:00",
          "2025-03-15T00:00:00",
          "2025-03-16T00:00:00",
          "2025-03-17T00:00:00",
          "2025-03-18T00:00:00",
          "2025-03-19T00:00:00",
          "2025-03-20T00:00:00",
          "2025-03-21T00:00:00",
          "2025-03-22T00:00:00",
          "2025-03-23T00:00:00",
          "2025-03-24T00:00:00",
          "2025-03-25T00:00:00",
          "2025-03-26T00:00:00",
          "2025-03-27T00:00:00",
          "2025-03-28T00:00:00",
          "2025-03-29T00:00:00",
          "2025-03-30T00:00:00",
          "2025-03-31T00:00:00",
          "2025-04-01T00:00:00",
          "2025-04-02T00:00:00",
          "2025-04-03T00:00:00",
          "2025-04-04T00:00:00",
          "2025-04-05T00:00:00",
          "2025-04-06T00:00:00",
          "2025-04-07T00:00:00",
          "2025-04-08T00:00:00",
          "2025-04-09T00:00:00",
          "2025-04-10T00:00:00",
          "2025-04-11T00:00:00",
          "2025-04-12T00:00:00",
          "2025-04-13T00:00:00",
          "2025-04-14T00:00:00",
          "2025-04-15T00:00:00",
          "2025-04-16T00:00:00",
          "2025-04-17T00:00:00",
          "2025-04-18T00:00:00",
          "2025-04-19T00:00:00",
          "2025-04-20T00:00:00",
          "2025-04-21T00:00:00",
          "2025-04-22T00:00:00",
          "2025-04-23T00:00:00",
          "2025-04-24T00:00:00",
          "2025-04-25T00:00:00",
          "2025-04-26T00:00:00",
          "2025-04-27T00:00:00",
          "2025-04-28T00:00:00",
          "2025-04-29T00:00:00",
          "2025-04-30T00:00:00",
          "2025-05-01T00:00:00"
         ],
         "xaxis": "x",
         "y": {
          "bdata": "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",
          "dtype": "f8"
         },
         "yaxis": "y"
        },
        {
         "line": {
          "color": "rgb(255, 127, 14)",
          "width": 2
         },
         "marker": {
          "color": "rgb(255, 127, 14)",
          "size": 5
         },
         "mode": "lines+markers",
         "name": "Exponential Smoothing",
         "type": "scattergl",
         "x": [
          "2024-05-01T00:00:00",
          "2024-05-02T00:00:00",
          "2024-05-03T00:00:00",
          "2024-05-04T00:00:00",
          "2024-05-05T00:00:00",
          "2024-05-06T00:00:00",
          "2024-05-07T00:00:00",
          "2024-05-08T00:00:00",
          "2024-05-09T00:00:00",
          "2024-05-10T00:00:00",
          "2024-05-11T00:00:00",
          "2024-05-12T00:00:00",
          "2024-05-13T00:00:00",
          "2024-05-14T00:00:00",
          "2024-05-15T00:00:00",
          "2024-05-16T00:00:00",
          "2024-05-17T00:00:00",
          "2024-05-18T00:00:00",
          "2024-05-19T00:00:00",
          "2024-05-20T00:00:00",
          "2024-05-21T00:00:00",
          "2024-05-22T00:00:00",
          "2024-05-23T00:00:00",
          "2024-05-24T00:00:00",
          "2024-05-25T00:00:00",
          "2024-05-26T00:00:00",
          "2024-05-27T00:00:00",
          "2024-05-28T00:00:00",
          "2024-05-29T00:00:00",
          "2024-05-30T00:00:00",
          "2024-05-31T00:00:00",
          "2024-06-01T00:00:00",
          "2024-06-02T00:00:00",
          "2024-06-03T00:00:00",
          "2024-06-04T00:00:00",
          "2024-06-05T00:00:00",
          "2024-06-06T00:00:00",
          "2024-06-07T00:00:00",
          "2024-06-08T00:00:00",
          "2024-06-09T00:00:00",
          "2024-06-10T00:00:00",
          "2024-06-11T00:00:00",
          "2024-06-12T00:00:00",
          "2024-06-13T00:00:00",
          "2024-06-14T00:00:00",
          "2024-06-15T00:00:00",
          "2024-06-16T00:00:00",
          "2024-06-17T00:00:00",
          "2024-06-18T00:00:00",
          "2024-06-19T00:00:00",
          "2024-06-20T00:00:00",
          "2024-06-21T00:00:00",
          "2024-06-22T00:00:00",
          "2024-06-23T00:00:00",
          "2024-06-24T00:00:00",
          "2024-06-25T00:00:00",
          "2024-06-26T00:00:00",
          "2024-06-27T00:00:00",
          "2024-06-28T00:00:00",
          "2024-06-29T00:00:00",
          "2024-06-30T00:00:00",
          "2024-07-01T00:00:00",
          "2024-07-02T00:00:00",
          "2024-07-03T00:00:00",
          "2024-07-04T00:00:00",
          "2024-07-05T00:00:00",
          "2024-07-06T00:00:00",
          "2024-07-07T00:00:00",
          "2024-07-08T00:00:00",
          "2024-07-09T00:00:00",
          "2024-07-10T00:00:00",
          "2024-07-11T00:00:00",
          "2024-07-12T00:00:00",
          "2024-07-13T00:00:00",
          "2024-07-14T00:00:00",
          "2024-07-15T00:00:00",
          "2024-07-16T00:00:00",
          "2024-07-17T00:00:00",
          "2024-07-18T00:00:00",
          "2024-07-19T00:00:00",
          "2024-07-20T00:00:00",
          "2024-07-21T00:00:00",
          "2024-07-22T00:00:00",
          "2024-07-23T00:00:00",
          "2024-07-24T00:00:00",
          "2024-07-25T00:00:00",
          "2024-07-26T00:00:00",
          "2024-07-27T00:00:00",
          "2024-07-28T00:00:00",
          "2024-07-29T00:00:00",
          "2024-07-30T00:00:00",
          "2024-07-31T00:00:00",
          "2024-08-01T00:00:00",
          "2024-08-02T00:00:00",
          "2024-08-03T00:00:00",
          "2024-08-04T00:00:00",
          "2024-08-05T00:00:00",
          "2024-08-06T00:00:00",
          "2024-08-07T00:00:00",
          "2024-08-08T00:00:00",
          "2024-08-09T00:00:00",
          "2024-08-10T00:00:00",
          "2024-08-11T00:00:00",
          "2024-08-12T00:00:00",
          "2024-08-13T00:00:00",
          "2024-08-14T00:00:00",
          "2024-08-15T00:00:00",
          "2024-08-16T00:00:00",
          "2024-08-17T00:00:00",
          "2024-08-18T00:00:00",
          "2024-08-19T00:00:00",
          "2024-08-20T00:00:00",
          "2024-08-21T00:00:00",
          "2024-08-22T00:00:00",
          "2024-08-23T00:00:00",
          "2024-08-24T00:00:00",
          "2024-08-25T00:00:00",
          "2024-08-26T00:00:00",
          "2024-08-27T00:00:00",
          "2024-08-28T00:00:00",
          "2024-08-29T00:00:00",
          "2024-08-30T00:00:00",
          "2024-08-31T00:00:00",
          "2024-09-01T00:00:00",
          "2024-09-02T00:00:00",
          "2024-09-03T00:00:00",
          "2024-09-04T00:00:00",
          "2024-09-05T00:00:00",
          "2024-09-06T00:00:00",
          "2024-09-07T00:00:00",
          "2024-09-08T00:00:00",
          "2024-09-09T00:00:00",
          "2024-09-10T00:00:00",
          "2024-09-11T00:00:00",
          "2024-09-12T00:00:00",
          "2024-09-13T00:00:00",
          "2024-09-14T00:00:00",
          "2024-09-15T00:00:00",
          "2024-09-16T00:00:00",
          "2024-09-17T00:00:00",
          "2024-09-18T00:00:00",
          "2024-09-19T00:00:00",
          "2024-09-20T00:00:00",
          "2024-09-21T00:00:00",
          "2024-09-22T00:00:00",
          "2024-09-23T00:00:00",
          "2024-09-24T00:00:00",
          "2024-09-25T00:00:00",
          "2024-09-26T00:00:00",
          "2024-09-27T00:00:00",
          "2024-09-28T00:00:00",
          "2024-09-29T00:00:00",
          "2024-09-30T00:00:00",
          "2024-10-01T00:00:00",
          "2024-10-02T00:00:00",
          "2024-10-03T00:00:00",
          "2024-10-04T00:00:00",
          "2024-10-05T00:00:00",
          "2024-10-06T00:00:00",
          "2024-10-07T00:00:00",
          "2024-10-08T00:00:00",
          "2024-10-09T00:00:00",
          "2024-10-10T00:00:00",
          "2024-10-11T00:00:00",
          "2024-10-12T00:00:00",
          "2024-10-13T00:00:00",
          "2024-10-14T00:00:00",
          "2024-10-15T00:00:00",
          "2024-10-16T00:00:00",
          "2024-10-17T00:00:00",
          "2024-10-18T00:00:00",
          "2024-10-19T00:00:00",
          "2024-10-20T00:00:00",
          "2024-10-21T00:00:00",
          "2024-10-22T00:00:00",
          "2024-10-23T00:00:00",
          "2024-10-24T00:00:00",
          "2024-10-25T00:00:00",
          "2024-10-26T00:00:00",
          "2024-10-27T00:00:00",
          "2024-10-28T00:00:00",
          "2024-10-29T00:00:00",
          "2024-10-30T00:00:00",
          "2024-10-31T00:00:00",
          "2024-11-01T00:00:00",
          "2024-11-02T00:00:00",
          "2024-11-03T00:00:00",
          "2024-11-04T00:00:00",
          "2024-11-05T00:00:00",
          "2024-11-06T00:00:00",
          "2024-11-07T00:00:00",
          "2024-11-08T00:00:00",
          "2024-11-09T00:00:00",
          "2024-11-10T00:00:00",
          "2024-11-11T00:00:00",
          "2024-11-12T00:00:00",
          "2024-11-13T00:00:00",
          "2024-11-14T00:00:00",
          "2024-11-15T00:00:00",
          "2024-11-16T00:00:00",
          "2024-11-17T00:00:00",
          "2024-11-18T00:00:00",
          "2024-11-19T00:00:00",
          "2024-11-20T00:00:00",
          "2024-11-21T00:00:00",
          "2024-11-22T00:00:00",
          "2024-11-23T00:00:00",
          "2024-11-24T00:00:00",
          "2024-11-25T00:00:00",
          "2024-11-26T00:00:00",
          "2024-11-27T00:00:00",
          "2024-11-28T00:00:00",
          "2024-11-29T00:00:00",
          "2024-11-30T00:00:00",
          "2024-12-01T00:00:00",
          "2024-12-02T00:00:00",
          "2024-12-03T00:00:00",
          "2024-12-04T00:00:00",
          "2024-12-05T00:00:00",
          "2024-12-06T00:00:00",
          "2024-12-07T00:00:00",
          "2024-12-08T00:00:00",
          "2024-12-09T00:00:00",
          "2024-12-10T00:00:00",
          "2024-12-11T00:00:00",
          "2024-12-12T00:00:00",
          "2024-12-13T00:00:00",
          "2024-12-14T00:00:00",
          "2024-12-15T00:00:00",
          "2024-12-16T00:00:00",
          "2024-12-17T00:00:00",
          "2024-12-18T00:00:00",
          "2024-12-19T00:00:00",
          "2024-12-20T00:00:00",
          "2024-12-21T00:00:00",
          "2024-12-22T00:00:00",
          "2024-12-23T00:00:00",
          "2024-12-24T00:00:00",
          "2024-12-25T00:00:00",
          "2024-12-26T00:00:00",
          "2024-12-27T00:00:00",
          "2024-12-28T00:00:00",
          "2024-12-29T00:00:00",
          "2024-12-30T00:00:00",
          "2024-12-31T00:00:00",
          "2025-01-01T00:00:00",
          "2025-01-02T00:00:00",
          "2025-01-03T00:00:00",
          "2025-01-04T00:00:00",
          "2025-01-05T00:00:00",
          "2025-01-06T00:00:00",
          "2025-01-07T00:00:00",
          "2025-01-08T00:00:00",
          "2025-01-09T00:00:00",
          "2025-01-10T00:00:00",
          "2025-01-11T00:00:00",
          "2025-01-12T00:00:00",
          "2025-01-13T00:00:00",
          "2025-01-14T00:00:00",
          "2025-01-15T00:00:00",
          "2025-01-16T00:00:00",
          "2025-01-17T00:00:00",
          "2025-01-18T00:00:00",
          "2025-01-19T00:00:00",
          "2025-01-20T00:00:00",
          "2025-01-21T00:00:00",
          "2025-01-22T00:00:00",
          "2025-01-23T00:00:00",
          "2025-01-24T00:00:00",
          "2025-01-25T00:00:00",
          "2025-01-26T00:00:00",
          "2025-01-27T00:00:00",
          "2025-01-28T00:00:00",
          "2025-01-29T00:00:00",
          "2025-01-30T00:00:00",
          "2025-01-31T00:00:00",
          "2025-02-01T00:00:00",
          "2025-02-02T00:00:00",
          "2025-02-03T00:00:00",
          "2025-02-04T00:00:00",
          "2025-02-05T00:00:00",
          "2025-02-06T00:00:00",
          "2025-02-07T00:00:00",
          "2025-02-08T00:00:00",
          "2025-02-09T00:00:00",
          "2025-02-10T00:00:00",
          "2025-02-11T00:00:00",
          "2025-02-12T00:00:00",
          "2025-02-13T00:00:00",
          "2025-02-14T00:00:00",
          "2025-02-15T00:00:00",
          "2025-02-16T00:00:00",
          "2025-02-17T00:00:00",
          "2025-02-18T00:00:00",
          "2025-02-19T00:00:00",
          "2025-02-20T00:00:00",
          "2025-02-21T00:00:00",
          "2025-02-22T00:00:00",
          "2025-02-23T00:00:00",
          "2025-02-24T00:00:00",
          "2025-02-25T00:00:00",
          "2025-02-26T00:00:00",
          "2025-02-27T00:00:00",
          "2025-02-28T00:00:00",
          "2025-03-01T00:00:00",
          "2025-03-02T00:00:00",
          "2025-03-03T00:00:00",
          "2025-03-04T00:00:00",
          "2025-03-05T00:00:00",
          "2025-03-06T00:00:00",
          "2025-03-07T00:00:00",
          "2025-03-08T00:00:00",
          "2025-03-09T00:00:00",
          "2025-03-10T00:00:00",
          "2025-03-11T00:00:00",
          "2025-03-12T00:00:00",
          "2025-03-13T00:00:00",
          "2025-03-14T00:00:00",
          "2025-03-15T00:00:00",
          "2025-03-16T00:00:00",
          "2025-03-17T00:00:00",
          "2025-03-18T00:00:00",
          "2025-03-19T00:00:00",
          "2025-03-20T00:00:00",
          "2025-03-21T00:00:00",
          "2025-03-22T00:00:00",
          "2025-03-23T00:00:00",
          "2025-03-24T00:00:00",
          "2025-03-25T00:00:00",
          "2025-03-26T00:00:00",
          "2025-03-27T00:00:00",
          "2025-03-28T00:00:00",
          "2025-03-29T00:00:00",
          "2025-03-30T00:00:00",
          "2025-03-31T00:00:00",
          "2025-04-01T00:00:00",
          "2025-04-02T00:00:00",
          "2025-04-03T00:00:00",
          "2025-04-04T00:00:00",
          "2025-04-05T00:00:00",
          "2025-04-06T00:00:00",
          "2025-04-07T00:00:00",
          "2025-04-08T00:00:00",
          "2025-04-09T00:00:00",
          "2025-04-10T00:00:00",
          "2025-04-11T00:00:00",
          "2025-04-12T00:00:00",
          "2025-04-13T00:00:00",
          "2025-04-14T00:00:00",
          "2025-04-15T00:00:00",
          "2025-04-16T00:00:00",
          "2025-04-17T00:00:00",
          "2025-04-18T00:00:00",
          "2025-04-19T00:00:00",
          "2025-04-20T00:00:00",
          "2025-04-21T00:00:00",
          "2025-04-22T00:00:00",
          "2025-04-23T00:00:00",
          "2025-04-24T00:00:00",
          "2025-04-25T00:00:00",
          "2025-04-26T00:00:00",
          "2025-04-27T00:00:00",
          "2025-04-28T00:00:00",
          "2025-04-29T00:00:00",
          "2025-04-30T00:00:00",
          "2025-05-01T00:00:00"
         ],
         "xaxis": "x",
         "y": {
          "bdata": "AAAAAAAA+H8AAAAAAAD4fwAAAAAAAPh/AAAAAAAA+H8AAAAAAAD4fwAAAAAAAPh/AAAAAAAA+H8AAAAAAAD4fwAAAAAAAPh/AAAAAAAA+H8AAAAAAAD4fwAAAAAAAPh/AAAAAAAA+H8AAAAAAAD4fwAAAAAAAPh/AAAAAAAA+H8AAAAAAAD4fwAAAAAAAPh/AAAAAAAA+H8AAAAAAAD4fwAAAAAAAPh/AAAAAAAA+H8AAAAAAAD4fwAAAAAAAPh/AAAAAAAA+H8AAAAAAAD4fwAAAAAAAPh/AAAAAAAA+H8AAAAAAAD4fwAAAAAAAPh/AAAAAAAA+H8AAAAAAAD4fwAAAAAAAPh/AAAAAAAA+H8AAAAAAAD4fwAAAAAAAPh/AAAAAAAA+H8AAAAAAAD4fwAAAAAAAPh/AAAAAAAA+H8AAAAAAAD4fwAAAAAAAPh/AAAAAAAA+H8AAAAAAAD4fwAAAAAAAPh/AAAAAAAA+H8AAAAAAAD4fwAAAAAAAPh/AAAAAAAA+H8AAAAAAAD4fwAAAAAAAPh/AAAAAAAA+H8AAAAAAAD4fwAAAAAAAPh/AAAAAAAA+H8AAAAAAAD4fwAAAAAAAPh/AAAAAAAA+H8AAAAAAAD4fwAAAAAAAPh/AAAAAAAA+H8AAAAAAAD4fwAAAAAAAPh/AAAAAAAA+H8AAAAAAAD4fwAAAAAAAPh/AAAAAAAA+H8AAAAAAAD4fwAAAAAAAPh/AAAAAAAA+H8AAAAAAAD4fwAAAAAAAPh/AAAAAAAA+H8AAAAAAAD4fwAAAAAAAPh/AAAAAAAA+H8AAAAAAAD4fwAAAAAAAPh/AAAAAAAA+H8AAAAAAAD4fwAAAAAAAPh/AAAAAAAA+H8AAAAAAAD4fwAAAAAAAPh/AAAAAAAA+H8AAAAAAAD4fwAAAAAAAPh/AAAAAAAA+H8AAAAAAAD4fwAAAAAAAPh/AAAAAAAA+H8AAAAAAAD4fwAAAAAAAPh/AAAAAAAA+H8AAAAAAAD4fwAAAAAAAPh/AAAAAAAA+H8AAAAAAAD4fwAAAAAAAPh/AAAAAAAA+H8AAAAAAAD4fwAAAAAAAPh/AAAAAAAA+H8AAAAAAAD4fwAAAAAAAPh/AAAAAAAA+H8AAAAAAAD4fwAAAAAAAPh/AAAAAAAA+H8AAAAAAAD4fwAAAAAAAPh/AAAAAAAA+H8AAAAAAAD4fwAAAAAAAPh/AAAAAAAA+H8AAAAAAAD4fwAAAAAAAPh/AAAAAAAA+H8AAAAAAAD4fwAAAAAAAPh/AAAAAAAA+H8AAAAAAAD4fwAAAAAAAPh/AAAAAAAA+H8AAAAAAAD4fwAAAAAAAPh/AAAAAAAA+H8AAAAAAAD4fwAAAAAAAPh/AAAAAAAA+H8AAAAAAAD4fwAAAAAAAPh/AAAAAAAA+H8AAAAAAAD4fwAAAAAAAPh/AAAAAAAA+H8AAAAAAAD4fwAAAAAAAPh/AAAAAAAA+H8AAAAAAAD4fwAAAAAAAPh/AAAAAAAA+H8AAAAAAAD4fwAAAAAAAPh/AAAAAAAA+H8AAAAAAAD4fwAAAAAAAPh/AAAAAAAA+H8AAAAAAAD4fwAAAAAAAPh/AAAAAAAA+H8AAAAAAAD4fwAAAAAAAPh/AAAAAAAA+H8AAAAAAAD4fwAAAAAAAPh/AAAAAAAA+H8AAAAAAAD4fwAAAAAAAPh/AAAAAAAA+H8AAAAAAAD4fwAAAAAAAPh/AAAAAAAA+H8AAAAAAAD4fwAAAAAAAPh/AAAAAAAA+H8AAAAAAAD4fwAAAAAAAPh/AAAAAAAA+H8AAAAAAAD4fwAAAAAAAPh/AAAAAAAA+H8AAAAAAAD4fwAAAAAAAPh/AAAAAAAA+H8AAAAAAAD4fwAAAAAAAPh/AAAAAAAA+H8AAAAAAAD4fwAAAAAAAPh/AAAAAAAA+H8AAAAAAAD4fwAAAAAAAPh/AAAAAAAA+H8AAAAAAAD4fwAAAAAAAPh/AAAAAAAA+H8AAAAAAAD4fwAAAAAAAPh/AAAAAAAA+H8AAAAAAAD4fwAAAAAAAPh/AAAAAAAA+H8AAAAAAAD4fwAAAAAAAPh/AAAAAAAA+H8AAAAAAAD4fwAAAAAAAPh/AAAAAAAA+H8AAAAAAAD4fwAAAAAAAPh/AAAAAAAA+H8AAAAAAAD4fwAAAAAAAPh/AAAAAAAA+H8AAAAAAAD4fwAAAAAAAPh/AAAAAAAA+H8AAAAAAAD4fwAAAAAAAPh/AAAAAAAA+H8AAAAAAAD4fwAAAAAAAPh/AAAAAAAA+H8AAAAAAAD4fwAAAAAAAPh/AAAAAAAA+H8AAAAAAAD4fwAAAAAAAPh/AAAAAAAA+H8AAAAAAAD4fwAAAAAAAPh/AAAAAAAA+H8AAAAAAAD4fwAAAAAAAPh/AAAAAAAA+H8AAAAAAAD4fwAAAAAAAPh/AAAAAAAA+H8AAAAAAAD4fwAAAAAAAPh/AAAAAAAA+H8AAAAAAAD4fwAAAAAAAPh/AAAAAAAA+H8AAAAAAAD4fwAAAAAAAPh/AAAAAAAA+H8AAAAAAAD4fwAAAAAAAPh/AAAAAAAA+H8AAAAAAAD4fwAAAAAAAPh/AAAAAAAA+H8AAAAAAAD4fwAAAAAAAPh/AAAAAAAA+H8AAAAAAAD4fwAAAAAAAPh/AAAAAAAA+H8AAAAAAAD4fwAAAAAAAPh/AAAAAAAA+H8AAAAAAAD4fwAAAAAAAPh/AAAAAAAA+H8AAAAAAAD4fwAAAAAAAPh/AAAAAAAA+H8AAAAAAAD4fwAAAAAAAPh/AAAAAAAA+H8AAAAAAAD4fwAAAAAAAPh/AAAAAAAA+H8AAAAAAAD4fwAAAAAAAPh/AAAAAAAA+H8AAAAAAAD4fwAAAAAAAPh/AAAAAAAA+H8AAAAAAAD4fwAAAAAAAPh/AAAAAAAA+H8AAAAAAAD4fwAAAAAAAPh/AAAAAAAA+H8AAAAAAAD4fwAAAAAAAPh/AAAAAAAA+H8AAAAAAAD4fwAAAAAAAPh/AAAAAAAA+H8AAAAAAAD4fwAAAAAAAPh/AAAAAAAA+H8AAAAAAAD4fwAAAAAAAPh/AAAAAAAA+H8AAAAAAAD4fwAAAAAAAPh/AAAAAAAA+H8AAAAAAAD4fwAAAAAAAPh/AAAAAAAA+H8AAAAAAAD4fwAAAAAAAPh/AAAAAAAA+H8AAAAAAAD4fwAAAAAAAPh/AAAAAAAA+H8AAAAAAAD4fwAAAAAAAPh/AAAAAAAA+H8AAAAAAAD4fwAAAAAAAPh/AAAAAAAA+H8AAAAAAAD4fwAAAAAAAPh/AAAAAAAA+H8AAAAAAAD4fwAAAAAAAPh/AAAAAAAA+H8AAAAAAAD4fwAAAAAAAPh/AAAAAAAA+H8AAAAAAAD4fwAAAAAAAPh/AAAAAAAA+H8AAAAAAAD4fwAAAAAAAPh/AAAAAAAA+H8AAAAAAAD4fwAAAAAAAPh/AAAAAAAA+H8AAAAAAAD4fwAAAAAAAPh/AAAAAAAA+H8AAAAAAAD4fwAAAAAAAPh/AAAAAAAA+H8AAAAAAAD4fwAAAAAAAPh/AAAAAAAA+H8AAAAAAAD4fwAAAAAAAPh/AAAAAAAA+H8AAAAAAAD4fwAAAAAAAPh/AAAAAAAA+H8AAAAAAAD4fwAAAAAAAPh/AAAAAAAA+H8AAAAAAAD4fwAAAAAAAPh/AAAAAAAA+H8AAAAAAAD4fwAAAAAAAPh/AAAAAAAA+H8AAAAAAAD4fwAAAAAAAPh/AAAAAAAA+H8AAAAAAAD4fwAAAAAAAPh/AAAAAAAA+H8AAAAAAAD4fwAAAAAAAPh/AAAAAAAA+H8AAAAAAAD4fwAAAAAAAPh/AAAAAAAA+H8AAAAAAAD4fwAAAAAAAPh/AAAAAAAA+H8AAAAAAAD4f1dbsb9s1IJA",
          "dtype": "f8"
         },
         "yaxis": "y"
        }
       ],
       "layout": {
        "showlegend": true,
        "template": {
         "data": {
          "bar": [
           {
            "error_x": {
             "color": "rgb(51,51,51)"
            },
            "error_y": {
             "color": "rgb(51,51,51)"
            },
            "marker": {
             "line": {
              "color": "rgb(237,237,237)",
              "width": 0.5
             },
             "pattern": {
              "fillmode": "overlay",
              "size": 10,
              "solidity": 0.2
             }
            },
            "type": "bar"
           }
          ],
          "barpolar": [
           {
            "marker": {
             "line": {
              "color": "rgb(237,237,237)",
              "width": 0.5
             },
             "pattern": {
              "fillmode": "overlay",
              "size": 10,
              "solidity": 0.2
             }
            },
            "type": "barpolar"
           }
          ],
          "carpet": [
           {
            "aaxis": {
             "endlinecolor": "rgb(51,51,51)",
             "gridcolor": "white",
             "linecolor": "white",
             "minorgridcolor": "white",
             "startlinecolor": "rgb(51,51,51)"
            },
            "baxis": {
             "endlinecolor": "rgb(51,51,51)",
             "gridcolor": "white",
             "linecolor": "white",
             "minorgridcolor": "white",
             "startlinecolor": "rgb(51,51,51)"
            },
            "type": "carpet"
           }
          ],
          "choropleth": [
           {
            "colorbar": {
             "outlinewidth": 0,
             "tickcolor": "rgb(237,237,237)",
             "ticklen": 6,
             "ticks": "inside"
            },
            "type": "choropleth"
           }
          ],
          "contour": [
           {
            "colorbar": {
             "outlinewidth": 0,
             "tickcolor": "rgb(237,237,237)",
             "ticklen": 6,
             "ticks": "inside"
            },
            "colorscale": [
             [
              0,
              "rgb(20,44,66)"
             ],
             [
              1,
              "rgb(90,179,244)"
             ]
            ],
            "type": "contour"
           }
          ],
          "contourcarpet": [
           {
            "colorbar": {
             "outlinewidth": 0,
             "tickcolor": "rgb(237,237,237)",
             "ticklen": 6,
             "ticks": "inside"
            },
            "type": "contourcarpet"
           }
          ],
          "heatmap": [
           {
            "colorbar": {
             "outlinewidth": 0,
             "tickcolor": "rgb(237,237,237)",
             "ticklen": 6,
             "ticks": "inside"
            },
            "colorscale": [
             [
              0,
              "rgb(20,44,66)"
             ],
             [
              1,
              "rgb(90,179,244)"
             ]
            ],
            "type": "heatmap"
           }
          ],
          "histogram": [
           {
            "marker": {
             "pattern": {
              "fillmode": "overlay",
              "size": 10,
              "solidity": 0.2
             }
            },
            "type": "histogram"
           }
          ],
          "histogram2d": [
           {
            "colorbar": {
             "outlinewidth": 0,
             "tickcolor": "rgb(237,237,237)",
             "ticklen": 6,
             "ticks": "inside"
            },
            "colorscale": [
             [
              0,
              "rgb(20,44,66)"
             ],
             [
              1,
              "rgb(90,179,244)"
             ]
            ],
            "type": "histogram2d"
           }
          ],
          "histogram2dcontour": [
           {
            "colorbar": {
             "outlinewidth": 0,
             "tickcolor": "rgb(237,237,237)",
             "ticklen": 6,
             "ticks": "inside"
            },
            "colorscale": [
             [
              0,
              "rgb(20,44,66)"
             ],
             [
              1,
              "rgb(90,179,244)"
             ]
            ],
            "type": "histogram2dcontour"
           }
          ],
          "mesh3d": [
           {
            "colorbar": {
             "outlinewidth": 0,
             "tickcolor": "rgb(237,237,237)",
             "ticklen": 6,
             "ticks": "inside"
            },
            "type": "mesh3d"
           }
          ],
          "parcoords": [
           {
            "line": {
             "colorbar": {
              "outlinewidth": 0,
              "tickcolor": "rgb(237,237,237)",
              "ticklen": 6,
              "ticks": "inside"
             }
            },
            "type": "parcoords"
           }
          ],
          "pie": [
           {
            "automargin": true,
            "type": "pie"
           }
          ],
          "scatter": [
           {
            "fillpattern": {
             "fillmode": "overlay",
             "size": 10,
             "solidity": 0.2
            },
            "type": "scatter"
           }
          ],
          "scatter3d": [
           {
            "line": {
             "colorbar": {
              "outlinewidth": 0,
              "tickcolor": "rgb(237,237,237)",
              "ticklen": 6,
              "ticks": "inside"
             }
            },
            "marker": {
             "colorbar": {
              "outlinewidth": 0,
              "tickcolor": "rgb(237,237,237)",
              "ticklen": 6,
              "ticks": "inside"
             }
            },
            "type": "scatter3d"
           }
          ],
          "scattercarpet": [
           {
            "marker": {
             "colorbar": {
              "outlinewidth": 0,
              "tickcolor": "rgb(237,237,237)",
              "ticklen": 6,
              "ticks": "inside"
             }
            },
            "type": "scattercarpet"
           }
          ],
          "scattergeo": [
           {
            "marker": {
             "colorbar": {
              "outlinewidth": 0,
              "tickcolor": "rgb(237,237,237)",
              "ticklen": 6,
              "ticks": "inside"
             }
            },
            "type": "scattergeo"
           }
          ],
          "scattergl": [
           {
            "marker": {
             "colorbar": {
              "outlinewidth": 0,
              "tickcolor": "rgb(237,237,237)",
              "ticklen": 6,
              "ticks": "inside"
             }
            },
            "type": "scattergl"
           }
          ],
          "scattermap": [
           {
            "marker": {
             "colorbar": {
              "outlinewidth": 0,
              "tickcolor": "rgb(237,237,237)",
              "ticklen": 6,
              "ticks": "inside"
             }
            },
            "type": "scattermap"
           }
          ],
          "scattermapbox": [
           {
            "marker": {
             "colorbar": {
              "outlinewidth": 0,
              "tickcolor": "rgb(237,237,237)",
              "ticklen": 6,
              "ticks": "inside"
             }
            },
            "type": "scattermapbox"
           }
          ],
          "scatterpolar": [
           {
            "marker": {
             "colorbar": {
              "outlinewidth": 0,
              "tickcolor": "rgb(237,237,237)",
              "ticklen": 6,
              "ticks": "inside"
             }
            },
            "type": "scatterpolar"
           }
          ],
          "scatterpolargl": [
           {
            "marker": {
             "colorbar": {
              "outlinewidth": 0,
              "tickcolor": "rgb(237,237,237)",
              "ticklen": 6,
              "ticks": "inside"
             }
            },
            "type": "scatterpolargl"
           }
          ],
          "scatterternary": [
           {
            "marker": {
             "colorbar": {
              "outlinewidth": 0,
              "tickcolor": "rgb(237,237,237)",
              "ticklen": 6,
              "ticks": "inside"
             }
            },
            "type": "scatterternary"
           }
          ],
          "surface": [
           {
            "colorbar": {
             "outlinewidth": 0,
             "tickcolor": "rgb(237,237,237)",
             "ticklen": 6,
             "ticks": "inside"
            },
            "colorscale": [
             [
              0,
              "rgb(20,44,66)"
             ],
             [
              1,
              "rgb(90,179,244)"
             ]
            ],
            "type": "surface"
           }
          ],
          "table": [
           {
            "cells": {
             "fill": {
              "color": "rgb(237,237,237)"
             },
             "line": {
              "color": "white"
             }
            },
            "header": {
             "fill": {
              "color": "rgb(217,217,217)"
             },
             "line": {
              "color": "white"
             }
            },
            "type": "table"
           }
          ]
         },
         "layout": {
          "annotationdefaults": {
           "arrowhead": 0,
           "arrowwidth": 1
          },
          "autotypenumbers": "strict",
          "coloraxis": {
           "colorbar": {
            "outlinewidth": 0,
            "tickcolor": "rgb(237,237,237)",
            "ticklen": 6,
            "ticks": "inside"
           }
          },
          "colorscale": {
           "sequential": [
            [
             0,
             "rgb(20,44,66)"
            ],
            [
             1,
             "rgb(90,179,244)"
            ]
           ],
           "sequentialminus": [
            [
             0,
             "rgb(20,44,66)"
            ],
            [
             1,
             "rgb(90,179,244)"
            ]
           ]
          },
          "colorway": [
           "#F8766D",
           "#A3A500",
           "#00BF7D",
           "#00B0F6",
           "#E76BF3"
          ],
          "font": {
           "color": "rgb(51,51,51)"
          },
          "geo": {
           "bgcolor": "white",
           "lakecolor": "white",
           "landcolor": "rgb(237,237,237)",
           "showlakes": true,
           "showland": true,
           "subunitcolor": "white"
          },
          "hoverlabel": {
           "align": "left"
          },
          "hovermode": "closest",
          "paper_bgcolor": "white",
          "plot_bgcolor": "rgb(237,237,237)",
          "polar": {
           "angularaxis": {
            "gridcolor": "white",
            "linecolor": "white",
            "showgrid": true,
            "tickcolor": "rgb(51,51,51)",
            "ticks": "outside"
           },
           "bgcolor": "rgb(237,237,237)",
           "radialaxis": {
            "gridcolor": "white",
            "linecolor": "white",
            "showgrid": true,
            "tickcolor": "rgb(51,51,51)",
            "ticks": "outside"
           }
          },
          "scene": {
           "xaxis": {
            "backgroundcolor": "rgb(237,237,237)",
            "gridcolor": "white",
            "gridwidth": 2,
            "linecolor": "white",
            "showbackground": true,
            "showgrid": true,
            "tickcolor": "rgb(51,51,51)",
            "ticks": "outside",
            "zerolinecolor": "white"
           },
           "yaxis": {
            "backgroundcolor": "rgb(237,237,237)",
            "gridcolor": "white",
            "gridwidth": 2,
            "linecolor": "white",
            "showbackground": true,
            "showgrid": true,
            "tickcolor": "rgb(51,51,51)",
            "ticks": "outside",
            "zerolinecolor": "white"
           },
           "zaxis": {
            "backgroundcolor": "rgb(237,237,237)",
            "gridcolor": "white",
            "gridwidth": 2,
            "linecolor": "white",
            "showbackground": true,
            "showgrid": true,
            "tickcolor": "rgb(51,51,51)",
            "ticks": "outside",
            "zerolinecolor": "white"
           }
          },
          "shapedefaults": {
           "fillcolor": "black",
           "line": {
            "width": 0
           },
           "opacity": 0.3
          },
          "ternary": {
           "aaxis": {
            "gridcolor": "white",
            "linecolor": "white",
            "showgrid": true,
            "tickcolor": "rgb(51,51,51)",
            "ticks": "outside"
           },
           "baxis": {
            "gridcolor": "white",
            "linecolor": "white",
            "showgrid": true,
            "tickcolor": "rgb(51,51,51)",
            "ticks": "outside"
           },
           "bgcolor": "rgb(237,237,237)",
           "caxis": {
            "gridcolor": "white",
            "linecolor": "white",
            "showgrid": true,
            "tickcolor": "rgb(51,51,51)",
            "ticks": "outside"
           }
          },
          "xaxis": {
           "automargin": true,
           "gridcolor": "white",
           "linecolor": "white",
           "showgrid": true,
           "tickcolor": "rgb(51,51,51)",
           "ticks": "outside",
           "title": {
            "standoff": 15
           },
           "zerolinecolor": "white"
          },
          "yaxis": {
           "automargin": true,
           "gridcolor": "white",
           "linecolor": "white",
           "showgrid": true,
           "tickcolor": "rgb(51,51,51)",
           "ticks": "outside",
           "title": {
            "standoff": 15
           },
           "zerolinecolor": "white"
          }
         }
        },
        "title": {
         "text": "Actual vs. Forecast (Out-of-Sample)"
        },
        "xaxis": {
         "anchor": "y",
         "domain": [
          0,
          1
         ]
        },
        "yaxis": {
         "anchor": "x",
         "domain": [
          0,
          1
         ]
        }
       }
      }
     },
     "metadata": {},
     "output_type": "display_data"
    }
   ],
   "source": [
    "bnb = df.loc[:,'BNB-USD']\n",
    "# Set up PyCaret environment\n",
    "s = setup(data=bnb, \n",
    "          target = 'BNB-USD',\n",
    "          transform_target='log',\n",
    "          fh=1,  # Forecast horizon\n",
    "          session_id=123,\n",
    "          fold_strategy='expanding',\n",
    "          seasonal_period='D',\n",
    "          #fold_spans=\"adaptive\",\n",
    "          numeric_imputation_target = 'drift')\n",
    "exp = create_model('exp_smooth')\n",
    "tuned_exp = tune_model(exp)\n",
    "final_exp = finalize_model(tuned_exp)\n",
    "exp_predictions = predict_model(final_exp)\n",
    "plot_model(final_exp, plot='forecast')\n"
   ]
  },
  {
   "cell_type": "code",
   "execution_count": 285,
   "id": "60e0a83a",
   "metadata": {},
   "outputs": [],
   "source": [
    "#Plot prophet model forecast\n",
    "fig = plot_model(final_exp, plot='forecast', return_fig=True)\n",
    "\n",
    "# Save it as an HTML file\n",
    "pio.write_html(fig, file='BNB_EXP_1.html', auto_open=False)"
   ]
  },
  {
   "cell_type": "markdown",
   "id": "c900ee4e",
   "metadata": {},
   "source": [
    "WIF-USD ARIMA and Prophet Models"
   ]
  },
  {
   "cell_type": "code",
   "execution_count": 260,
   "id": "4460def1",
   "metadata": {},
   "outputs": [],
   "source": [
    "wif = df.loc[:,'WIF-USD']"
   ]
  },
  {
   "cell_type": "code",
   "execution_count": 265,
   "id": "211c46cb",
   "metadata": {},
   "outputs": [
    {
     "data": {
      "text/html": [
       "<style type=\"text/css\">\n",
       "#T_dd081_row25_col1, #T_dd081_row31_col1 {\n",
       "  background-color: lightgreen;\n",
       "}\n",
       "</style>\n",
       "<table id=\"T_dd081\">\n",
       "  <thead>\n",
       "    <tr>\n",
       "      <th class=\"blank level0\" >&nbsp;</th>\n",
       "      <th id=\"T_dd081_level0_col0\" class=\"col_heading level0 col0\" >Description</th>\n",
       "      <th id=\"T_dd081_level0_col1\" class=\"col_heading level0 col1\" >Value</th>\n",
       "    </tr>\n",
       "  </thead>\n",
       "  <tbody>\n",
       "    <tr>\n",
       "      <th id=\"T_dd081_level0_row0\" class=\"row_heading level0 row0\" >0</th>\n",
       "      <td id=\"T_dd081_row0_col0\" class=\"data row0 col0\" >session_id</td>\n",
       "      <td id=\"T_dd081_row0_col1\" class=\"data row0 col1\" >123</td>\n",
       "    </tr>\n",
       "    <tr>\n",
       "      <th id=\"T_dd081_level0_row1\" class=\"row_heading level0 row1\" >1</th>\n",
       "      <td id=\"T_dd081_row1_col0\" class=\"data row1 col0\" >Target</td>\n",
       "      <td id=\"T_dd081_row1_col1\" class=\"data row1 col1\" >WIF-USD</td>\n",
       "    </tr>\n",
       "    <tr>\n",
       "      <th id=\"T_dd081_level0_row2\" class=\"row_heading level0 row2\" >2</th>\n",
       "      <td id=\"T_dd081_row2_col0\" class=\"data row2 col0\" >Approach</td>\n",
       "      <td id=\"T_dd081_row2_col1\" class=\"data row2 col1\" >Univariate</td>\n",
       "    </tr>\n",
       "    <tr>\n",
       "      <th id=\"T_dd081_level0_row3\" class=\"row_heading level0 row3\" >3</th>\n",
       "      <td id=\"T_dd081_row3_col0\" class=\"data row3 col0\" >Exogenous Variables</td>\n",
       "      <td id=\"T_dd081_row3_col1\" class=\"data row3 col1\" >Not Present</td>\n",
       "    </tr>\n",
       "    <tr>\n",
       "      <th id=\"T_dd081_level0_row4\" class=\"row_heading level0 row4\" >4</th>\n",
       "      <td id=\"T_dd081_row4_col0\" class=\"data row4 col0\" >Original data shape</td>\n",
       "      <td id=\"T_dd081_row4_col1\" class=\"data row4 col1\" >(365, 1)</td>\n",
       "    </tr>\n",
       "    <tr>\n",
       "      <th id=\"T_dd081_level0_row5\" class=\"row_heading level0 row5\" >5</th>\n",
       "      <td id=\"T_dd081_row5_col0\" class=\"data row5 col0\" >Transformed data shape</td>\n",
       "      <td id=\"T_dd081_row5_col1\" class=\"data row5 col1\" >(365, 1)</td>\n",
       "    </tr>\n",
       "    <tr>\n",
       "      <th id=\"T_dd081_level0_row6\" class=\"row_heading level0 row6\" >6</th>\n",
       "      <td id=\"T_dd081_row6_col0\" class=\"data row6 col0\" >Transformed train set shape</td>\n",
       "      <td id=\"T_dd081_row6_col1\" class=\"data row6 col1\" >(364, 1)</td>\n",
       "    </tr>\n",
       "    <tr>\n",
       "      <th id=\"T_dd081_level0_row7\" class=\"row_heading level0 row7\" >7</th>\n",
       "      <td id=\"T_dd081_row7_col0\" class=\"data row7 col0\" >Transformed test set shape</td>\n",
       "      <td id=\"T_dd081_row7_col1\" class=\"data row7 col1\" >(1, 1)</td>\n",
       "    </tr>\n",
       "    <tr>\n",
       "      <th id=\"T_dd081_level0_row8\" class=\"row_heading level0 row8\" >8</th>\n",
       "      <td id=\"T_dd081_row8_col0\" class=\"data row8 col0\" >Rows with missing values</td>\n",
       "      <td id=\"T_dd081_row8_col1\" class=\"data row8 col1\" >0.0%</td>\n",
       "    </tr>\n",
       "    <tr>\n",
       "      <th id=\"T_dd081_level0_row9\" class=\"row_heading level0 row9\" >9</th>\n",
       "      <td id=\"T_dd081_row9_col0\" class=\"data row9 col0\" >Fold Generator</td>\n",
       "      <td id=\"T_dd081_row9_col1\" class=\"data row9 col1\" >ExpandingWindowSplitter</td>\n",
       "    </tr>\n",
       "    <tr>\n",
       "      <th id=\"T_dd081_level0_row10\" class=\"row_heading level0 row10\" >10</th>\n",
       "      <td id=\"T_dd081_row10_col0\" class=\"data row10 col0\" >Fold Number</td>\n",
       "      <td id=\"T_dd081_row10_col1\" class=\"data row10 col1\" >3</td>\n",
       "    </tr>\n",
       "    <tr>\n",
       "      <th id=\"T_dd081_level0_row11\" class=\"row_heading level0 row11\" >11</th>\n",
       "      <td id=\"T_dd081_row11_col0\" class=\"data row11 col0\" >Enforce Prediction Interval</td>\n",
       "      <td id=\"T_dd081_row11_col1\" class=\"data row11 col1\" >False</td>\n",
       "    </tr>\n",
       "    <tr>\n",
       "      <th id=\"T_dd081_level0_row12\" class=\"row_heading level0 row12\" >12</th>\n",
       "      <td id=\"T_dd081_row12_col0\" class=\"data row12 col0\" >Splits used for hyperparameters</td>\n",
       "      <td id=\"T_dd081_row12_col1\" class=\"data row12 col1\" >all</td>\n",
       "    </tr>\n",
       "    <tr>\n",
       "      <th id=\"T_dd081_level0_row13\" class=\"row_heading level0 row13\" >13</th>\n",
       "      <td id=\"T_dd081_row13_col0\" class=\"data row13 col0\" >User Defined Seasonal Period(s)</td>\n",
       "      <td id=\"T_dd081_row13_col1\" class=\"data row13 col1\" >D</td>\n",
       "    </tr>\n",
       "    <tr>\n",
       "      <th id=\"T_dd081_level0_row14\" class=\"row_heading level0 row14\" >14</th>\n",
       "      <td id=\"T_dd081_row14_col0\" class=\"data row14 col0\" >Ignore Seasonality Test</td>\n",
       "      <td id=\"T_dd081_row14_col1\" class=\"data row14 col1\" >False</td>\n",
       "    </tr>\n",
       "    <tr>\n",
       "      <th id=\"T_dd081_level0_row15\" class=\"row_heading level0 row15\" >15</th>\n",
       "      <td id=\"T_dd081_row15_col0\" class=\"data row15 col0\" >Seasonality Detection Algo</td>\n",
       "      <td id=\"T_dd081_row15_col1\" class=\"data row15 col1\" >user_defined</td>\n",
       "    </tr>\n",
       "    <tr>\n",
       "      <th id=\"T_dd081_level0_row16\" class=\"row_heading level0 row16\" >16</th>\n",
       "      <td id=\"T_dd081_row16_col0\" class=\"data row16 col0\" >Max Period to Consider</td>\n",
       "      <td id=\"T_dd081_row16_col1\" class=\"data row16 col1\" >60</td>\n",
       "    </tr>\n",
       "    <tr>\n",
       "      <th id=\"T_dd081_level0_row17\" class=\"row_heading level0 row17\" >17</th>\n",
       "      <td id=\"T_dd081_row17_col0\" class=\"data row17 col0\" >Seasonal Period(s) Tested</td>\n",
       "      <td id=\"T_dd081_row17_col1\" class=\"data row17 col1\" >[7]</td>\n",
       "    </tr>\n",
       "    <tr>\n",
       "      <th id=\"T_dd081_level0_row18\" class=\"row_heading level0 row18\" >18</th>\n",
       "      <td id=\"T_dd081_row18_col0\" class=\"data row18 col0\" >Significant Seasonal Period(s)</td>\n",
       "      <td id=\"T_dd081_row18_col1\" class=\"data row18 col1\" >[7]</td>\n",
       "    </tr>\n",
       "    <tr>\n",
       "      <th id=\"T_dd081_level0_row19\" class=\"row_heading level0 row19\" >19</th>\n",
       "      <td id=\"T_dd081_row19_col0\" class=\"data row19 col0\" >Significant Seasonal Period(s) without Harmonics</td>\n",
       "      <td id=\"T_dd081_row19_col1\" class=\"data row19 col1\" >[7]</td>\n",
       "    </tr>\n",
       "    <tr>\n",
       "      <th id=\"T_dd081_level0_row20\" class=\"row_heading level0 row20\" >20</th>\n",
       "      <td id=\"T_dd081_row20_col0\" class=\"data row20 col0\" >Remove Harmonics</td>\n",
       "      <td id=\"T_dd081_row20_col1\" class=\"data row20 col1\" >False</td>\n",
       "    </tr>\n",
       "    <tr>\n",
       "      <th id=\"T_dd081_level0_row21\" class=\"row_heading level0 row21\" >21</th>\n",
       "      <td id=\"T_dd081_row21_col0\" class=\"data row21 col0\" >Harmonics Order Method</td>\n",
       "      <td id=\"T_dd081_row21_col1\" class=\"data row21 col1\" >harmonic_max</td>\n",
       "    </tr>\n",
       "    <tr>\n",
       "      <th id=\"T_dd081_level0_row22\" class=\"row_heading level0 row22\" >22</th>\n",
       "      <td id=\"T_dd081_row22_col0\" class=\"data row22 col0\" >Num Seasonalities to Use</td>\n",
       "      <td id=\"T_dd081_row22_col1\" class=\"data row22 col1\" >1</td>\n",
       "    </tr>\n",
       "    <tr>\n",
       "      <th id=\"T_dd081_level0_row23\" class=\"row_heading level0 row23\" >23</th>\n",
       "      <td id=\"T_dd081_row23_col0\" class=\"data row23 col0\" >All Seasonalities to Use</td>\n",
       "      <td id=\"T_dd081_row23_col1\" class=\"data row23 col1\" >[7]</td>\n",
       "    </tr>\n",
       "    <tr>\n",
       "      <th id=\"T_dd081_level0_row24\" class=\"row_heading level0 row24\" >24</th>\n",
       "      <td id=\"T_dd081_row24_col0\" class=\"data row24 col0\" >Primary Seasonality</td>\n",
       "      <td id=\"T_dd081_row24_col1\" class=\"data row24 col1\" >7</td>\n",
       "    </tr>\n",
       "    <tr>\n",
       "      <th id=\"T_dd081_level0_row25\" class=\"row_heading level0 row25\" >25</th>\n",
       "      <td id=\"T_dd081_row25_col0\" class=\"data row25 col0\" >Seasonality Present</td>\n",
       "      <td id=\"T_dd081_row25_col1\" class=\"data row25 col1\" >True</td>\n",
       "    </tr>\n",
       "    <tr>\n",
       "      <th id=\"T_dd081_level0_row26\" class=\"row_heading level0 row26\" >26</th>\n",
       "      <td id=\"T_dd081_row26_col0\" class=\"data row26 col0\" >Seasonality Type</td>\n",
       "      <td id=\"T_dd081_row26_col1\" class=\"data row26 col1\" >add</td>\n",
       "    </tr>\n",
       "    <tr>\n",
       "      <th id=\"T_dd081_level0_row27\" class=\"row_heading level0 row27\" >27</th>\n",
       "      <td id=\"T_dd081_row27_col0\" class=\"data row27 col0\" >Target Strictly Positive</td>\n",
       "      <td id=\"T_dd081_row27_col1\" class=\"data row27 col1\" >False</td>\n",
       "    </tr>\n",
       "    <tr>\n",
       "      <th id=\"T_dd081_level0_row28\" class=\"row_heading level0 row28\" >28</th>\n",
       "      <td id=\"T_dd081_row28_col0\" class=\"data row28 col0\" >Target White Noise</td>\n",
       "      <td id=\"T_dd081_row28_col1\" class=\"data row28 col1\" >No</td>\n",
       "    </tr>\n",
       "    <tr>\n",
       "      <th id=\"T_dd081_level0_row29\" class=\"row_heading level0 row29\" >29</th>\n",
       "      <td id=\"T_dd081_row29_col0\" class=\"data row29 col0\" >Recommended d</td>\n",
       "      <td id=\"T_dd081_row29_col1\" class=\"data row29 col1\" >1</td>\n",
       "    </tr>\n",
       "    <tr>\n",
       "      <th id=\"T_dd081_level0_row30\" class=\"row_heading level0 row30\" >30</th>\n",
       "      <td id=\"T_dd081_row30_col0\" class=\"data row30 col0\" >Recommended Seasonal D</td>\n",
       "      <td id=\"T_dd081_row30_col1\" class=\"data row30 col1\" >0</td>\n",
       "    </tr>\n",
       "    <tr>\n",
       "      <th id=\"T_dd081_level0_row31\" class=\"row_heading level0 row31\" >31</th>\n",
       "      <td id=\"T_dd081_row31_col0\" class=\"data row31 col0\" >Preprocess</td>\n",
       "      <td id=\"T_dd081_row31_col1\" class=\"data row31 col1\" >True</td>\n",
       "    </tr>\n",
       "    <tr>\n",
       "      <th id=\"T_dd081_level0_row32\" class=\"row_heading level0 row32\" >32</th>\n",
       "      <td id=\"T_dd081_row32_col0\" class=\"data row32 col0\" >Numerical Imputation (Target)</td>\n",
       "      <td id=\"T_dd081_row32_col1\" class=\"data row32 col1\" >drift</td>\n",
       "    </tr>\n",
       "    <tr>\n",
       "      <th id=\"T_dd081_level0_row33\" class=\"row_heading level0 row33\" >33</th>\n",
       "      <td id=\"T_dd081_row33_col0\" class=\"data row33 col0\" >Transformation (Target)</td>\n",
       "      <td id=\"T_dd081_row33_col1\" class=\"data row33 col1\" >log</td>\n",
       "    </tr>\n",
       "    <tr>\n",
       "      <th id=\"T_dd081_level0_row34\" class=\"row_heading level0 row34\" >34</th>\n",
       "      <td id=\"T_dd081_row34_col0\" class=\"data row34 col0\" >Scaling (Target)</td>\n",
       "      <td id=\"T_dd081_row34_col1\" class=\"data row34 col1\" >None</td>\n",
       "    </tr>\n",
       "    <tr>\n",
       "      <th id=\"T_dd081_level0_row35\" class=\"row_heading level0 row35\" >35</th>\n",
       "      <td id=\"T_dd081_row35_col0\" class=\"data row35 col0\" >Feature Engineering (Target) - Reduced Regression</td>\n",
       "      <td id=\"T_dd081_row35_col1\" class=\"data row35 col1\" >False</td>\n",
       "    </tr>\n",
       "    <tr>\n",
       "      <th id=\"T_dd081_level0_row36\" class=\"row_heading level0 row36\" >36</th>\n",
       "      <td id=\"T_dd081_row36_col0\" class=\"data row36 col0\" >CPU Jobs</td>\n",
       "      <td id=\"T_dd081_row36_col1\" class=\"data row36 col1\" >-1</td>\n",
       "    </tr>\n",
       "    <tr>\n",
       "      <th id=\"T_dd081_level0_row37\" class=\"row_heading level0 row37\" >37</th>\n",
       "      <td id=\"T_dd081_row37_col0\" class=\"data row37 col0\" >Use GPU</td>\n",
       "      <td id=\"T_dd081_row37_col1\" class=\"data row37 col1\" >False</td>\n",
       "    </tr>\n",
       "    <tr>\n",
       "      <th id=\"T_dd081_level0_row38\" class=\"row_heading level0 row38\" >38</th>\n",
       "      <td id=\"T_dd081_row38_col0\" class=\"data row38 col0\" >Log Experiment</td>\n",
       "      <td id=\"T_dd081_row38_col1\" class=\"data row38 col1\" >False</td>\n",
       "    </tr>\n",
       "    <tr>\n",
       "      <th id=\"T_dd081_level0_row39\" class=\"row_heading level0 row39\" >39</th>\n",
       "      <td id=\"T_dd081_row39_col0\" class=\"data row39 col0\" >Experiment Name</td>\n",
       "      <td id=\"T_dd081_row39_col1\" class=\"data row39 col1\" >ts-default-name</td>\n",
       "    </tr>\n",
       "    <tr>\n",
       "      <th id=\"T_dd081_level0_row40\" class=\"row_heading level0 row40\" >40</th>\n",
       "      <td id=\"T_dd081_row40_col0\" class=\"data row40 col0\" >USI</td>\n",
       "      <td id=\"T_dd081_row40_col1\" class=\"data row40 col1\" >a7c0</td>\n",
       "    </tr>\n",
       "  </tbody>\n",
       "</table>\n"
      ],
      "text/plain": [
       "<pandas.io.formats.style.Styler at 0x1b9e3d79a60>"
      ]
     },
     "metadata": {},
     "output_type": "display_data"
    },
    {
     "data": {
      "text/html": [],
      "text/plain": [
       "<IPython.core.display.HTML object>"
      ]
     },
     "metadata": {},
     "output_type": "display_data"
    },
    {
     "data": {
      "text/html": [
       "<style type=\"text/css\">\n",
       "#T_5718c_row3_col0, #T_5718c_row3_col1, #T_5718c_row3_col2, #T_5718c_row3_col3, #T_5718c_row3_col4, #T_5718c_row3_col5, #T_5718c_row3_col6 {\n",
       "  background: yellow;\n",
       "}\n",
       "</style>\n",
       "<table id=\"T_5718c\">\n",
       "  <thead>\n",
       "    <tr>\n",
       "      <th class=\"blank level0\" >&nbsp;</th>\n",
       "      <th id=\"T_5718c_level0_col0\" class=\"col_heading level0 col0\" >cutoff</th>\n",
       "      <th id=\"T_5718c_level0_col1\" class=\"col_heading level0 col1\" >MASE</th>\n",
       "      <th id=\"T_5718c_level0_col2\" class=\"col_heading level0 col2\" >RMSSE</th>\n",
       "      <th id=\"T_5718c_level0_col3\" class=\"col_heading level0 col3\" >MAE</th>\n",
       "      <th id=\"T_5718c_level0_col4\" class=\"col_heading level0 col4\" >RMSE</th>\n",
       "      <th id=\"T_5718c_level0_col5\" class=\"col_heading level0 col5\" >MAPE</th>\n",
       "      <th id=\"T_5718c_level0_col6\" class=\"col_heading level0 col6\" >SMAPE</th>\n",
       "    </tr>\n",
       "  </thead>\n",
       "  <tbody>\n",
       "    <tr>\n",
       "      <th id=\"T_5718c_level0_row0\" class=\"row_heading level0 row0\" >0</th>\n",
       "      <td id=\"T_5718c_row0_col0\" class=\"data row0 col0\" >2025-04-26</td>\n",
       "      <td id=\"T_5718c_row0_col1\" class=\"data row0 col1\" >0.0468</td>\n",
       "      <td id=\"T_5718c_row0_col2\" class=\"data row0 col2\" >0.0338</td>\n",
       "      <td id=\"T_5718c_row0_col3\" class=\"data row0 col3\" >0.0139</td>\n",
       "      <td id=\"T_5718c_row0_col4\" class=\"data row0 col4\" >0.0139</td>\n",
       "      <td id=\"T_5718c_row0_col5\" class=\"data row0 col5\" >0.0227</td>\n",
       "      <td id=\"T_5718c_row0_col6\" class=\"data row0 col6\" >0.0224</td>\n",
       "    </tr>\n",
       "    <tr>\n",
       "      <th id=\"T_5718c_level0_row1\" class=\"row_heading level0 row1\" >1</th>\n",
       "      <td id=\"T_5718c_row1_col0\" class=\"data row1 col0\" >2025-04-27</td>\n",
       "      <td id=\"T_5718c_row1_col1\" class=\"data row1 col1\" >0.1361</td>\n",
       "      <td id=\"T_5718c_row1_col2\" class=\"data row1 col2\" >0.0982</td>\n",
       "      <td id=\"T_5718c_row1_col3\" class=\"data row1 col3\" >0.0404</td>\n",
       "      <td id=\"T_5718c_row1_col4\" class=\"data row1 col4\" >0.0404</td>\n",
       "      <td id=\"T_5718c_row1_col5\" class=\"data row1 col5\" >0.0654</td>\n",
       "      <td id=\"T_5718c_row1_col6\" class=\"data row1 col6\" >0.0676</td>\n",
       "    </tr>\n",
       "    <tr>\n",
       "      <th id=\"T_5718c_level0_row2\" class=\"row_heading level0 row2\" >2</th>\n",
       "      <td id=\"T_5718c_row2_col0\" class=\"data row2 col0\" >2025-04-28</td>\n",
       "      <td id=\"T_5718c_row2_col1\" class=\"data row2 col1\" >0.3078</td>\n",
       "      <td id=\"T_5718c_row2_col2\" class=\"data row2 col2\" >0.2221</td>\n",
       "      <td id=\"T_5718c_row2_col3\" class=\"data row2 col3\" >0.0914</td>\n",
       "      <td id=\"T_5718c_row2_col4\" class=\"data row2 col4\" >0.0914</td>\n",
       "      <td id=\"T_5718c_row2_col5\" class=\"data row2 col5\" >0.1518</td>\n",
       "      <td id=\"T_5718c_row2_col6\" class=\"data row2 col6\" >0.1411</td>\n",
       "    </tr>\n",
       "    <tr>\n",
       "      <th id=\"T_5718c_level0_row3\" class=\"row_heading level0 row3\" >Mean</th>\n",
       "      <td id=\"T_5718c_row3_col0\" class=\"data row3 col0\" >NaT</td>\n",
       "      <td id=\"T_5718c_row3_col1\" class=\"data row3 col1\" >0.1636</td>\n",
       "      <td id=\"T_5718c_row3_col2\" class=\"data row3 col2\" >0.1180</td>\n",
       "      <td id=\"T_5718c_row3_col3\" class=\"data row3 col3\" >0.0486</td>\n",
       "      <td id=\"T_5718c_row3_col4\" class=\"data row3 col4\" >0.0486</td>\n",
       "      <td id=\"T_5718c_row3_col5\" class=\"data row3 col5\" >0.0799</td>\n",
       "      <td id=\"T_5718c_row3_col6\" class=\"data row3 col6\" >0.0770</td>\n",
       "    </tr>\n",
       "    <tr>\n",
       "      <th id=\"T_5718c_level0_row4\" class=\"row_heading level0 row4\" >SD</th>\n",
       "      <td id=\"T_5718c_row4_col0\" class=\"data row4 col0\" >NaT</td>\n",
       "      <td id=\"T_5718c_row4_col1\" class=\"data row4 col1\" >0.1083</td>\n",
       "      <td id=\"T_5718c_row4_col2\" class=\"data row4 col2\" >0.0781</td>\n",
       "      <td id=\"T_5718c_row4_col3\" class=\"data row4 col3\" >0.0321</td>\n",
       "      <td id=\"T_5718c_row4_col4\" class=\"data row4 col4\" >0.0321</td>\n",
       "      <td id=\"T_5718c_row4_col5\" class=\"data row4 col5\" >0.0537</td>\n",
       "      <td id=\"T_5718c_row4_col6\" class=\"data row4 col6\" >0.0489</td>\n",
       "    </tr>\n",
       "  </tbody>\n",
       "</table>\n"
      ],
      "text/plain": [
       "<pandas.io.formats.style.Styler at 0x1b9e44a7250>"
      ]
     },
     "metadata": {},
     "output_type": "display_data"
    },
    {
     "data": {
      "text/html": [],
      "text/plain": [
       "<IPython.core.display.HTML object>"
      ]
     },
     "metadata": {},
     "output_type": "display_data"
    },
    {
     "data": {
      "text/html": [],
      "text/plain": [
       "<IPython.core.display.HTML object>"
      ]
     },
     "metadata": {},
     "output_type": "display_data"
    },
    {
     "data": {
      "text/html": [
       "<style type=\"text/css\">\n",
       "#T_753ef_row3_col0, #T_753ef_row3_col1, #T_753ef_row3_col2, #T_753ef_row3_col3, #T_753ef_row3_col4, #T_753ef_row3_col5, #T_753ef_row3_col6 {\n",
       "  background: yellow;\n",
       "}\n",
       "</style>\n",
       "<table id=\"T_753ef\">\n",
       "  <thead>\n",
       "    <tr>\n",
       "      <th class=\"blank level0\" >&nbsp;</th>\n",
       "      <th id=\"T_753ef_level0_col0\" class=\"col_heading level0 col0\" >cutoff</th>\n",
       "      <th id=\"T_753ef_level0_col1\" class=\"col_heading level0 col1\" >MASE</th>\n",
       "      <th id=\"T_753ef_level0_col2\" class=\"col_heading level0 col2\" >RMSSE</th>\n",
       "      <th id=\"T_753ef_level0_col3\" class=\"col_heading level0 col3\" >MAE</th>\n",
       "      <th id=\"T_753ef_level0_col4\" class=\"col_heading level0 col4\" >RMSE</th>\n",
       "      <th id=\"T_753ef_level0_col5\" class=\"col_heading level0 col5\" >MAPE</th>\n",
       "      <th id=\"T_753ef_level0_col6\" class=\"col_heading level0 col6\" >SMAPE</th>\n",
       "    </tr>\n",
       "  </thead>\n",
       "  <tbody>\n",
       "    <tr>\n",
       "      <th id=\"T_753ef_level0_row0\" class=\"row_heading level0 row0\" >0</th>\n",
       "      <td id=\"T_753ef_row0_col0\" class=\"data row0 col0\" >2025-04-26</td>\n",
       "      <td id=\"T_753ef_row0_col1\" class=\"data row0 col1\" >0.0912</td>\n",
       "      <td id=\"T_753ef_row0_col2\" class=\"data row0 col2\" >0.0658</td>\n",
       "      <td id=\"T_753ef_row0_col3\" class=\"data row0 col3\" >0.0271</td>\n",
       "      <td id=\"T_753ef_row0_col4\" class=\"data row0 col4\" >0.0271</td>\n",
       "      <td id=\"T_753ef_row0_col5\" class=\"data row0 col5\" >0.0442</td>\n",
       "      <td id=\"T_753ef_row0_col6\" class=\"data row0 col6\" >0.0432</td>\n",
       "    </tr>\n",
       "    <tr>\n",
       "      <th id=\"T_753ef_level0_row1\" class=\"row_heading level0 row1\" >1</th>\n",
       "      <td id=\"T_753ef_row1_col0\" class=\"data row1 col0\" >2025-04-27</td>\n",
       "      <td id=\"T_753ef_row1_col1\" class=\"data row1 col1\" >0.0188</td>\n",
       "      <td id=\"T_753ef_row1_col2\" class=\"data row1 col2\" >0.0136</td>\n",
       "      <td id=\"T_753ef_row1_col3\" class=\"data row1 col3\" >0.0056</td>\n",
       "      <td id=\"T_753ef_row1_col4\" class=\"data row1 col4\" >0.0056</td>\n",
       "      <td id=\"T_753ef_row1_col5\" class=\"data row1 col5\" >0.0090</td>\n",
       "      <td id=\"T_753ef_row1_col6\" class=\"data row1 col6\" >0.0091</td>\n",
       "    </tr>\n",
       "    <tr>\n",
       "      <th id=\"T_753ef_level0_row2\" class=\"row_heading level0 row2\" >2</th>\n",
       "      <td id=\"T_753ef_row2_col0\" class=\"data row2 col0\" >2025-04-28</td>\n",
       "      <td id=\"T_753ef_row2_col1\" class=\"data row2 col1\" >0.0003</td>\n",
       "      <td id=\"T_753ef_row2_col2\" class=\"data row2 col2\" >0.0002</td>\n",
       "      <td id=\"T_753ef_row2_col3\" class=\"data row2 col3\" >0.0001</td>\n",
       "      <td id=\"T_753ef_row2_col4\" class=\"data row2 col4\" >0.0001</td>\n",
       "      <td id=\"T_753ef_row2_col5\" class=\"data row2 col5\" >0.0002</td>\n",
       "      <td id=\"T_753ef_row2_col6\" class=\"data row2 col6\" >0.0002</td>\n",
       "    </tr>\n",
       "    <tr>\n",
       "      <th id=\"T_753ef_level0_row3\" class=\"row_heading level0 row3\" >Mean</th>\n",
       "      <td id=\"T_753ef_row3_col0\" class=\"data row3 col0\" >NaT</td>\n",
       "      <td id=\"T_753ef_row3_col1\" class=\"data row3 col1\" >0.0368</td>\n",
       "      <td id=\"T_753ef_row3_col2\" class=\"data row3 col2\" >0.0265</td>\n",
       "      <td id=\"T_753ef_row3_col3\" class=\"data row3 col3\" >0.0109</td>\n",
       "      <td id=\"T_753ef_row3_col4\" class=\"data row3 col4\" >0.0109</td>\n",
       "      <td id=\"T_753ef_row3_col5\" class=\"data row3 col5\" >0.0178</td>\n",
       "      <td id=\"T_753ef_row3_col6\" class=\"data row3 col6\" >0.0175</td>\n",
       "    </tr>\n",
       "    <tr>\n",
       "      <th id=\"T_753ef_level0_row4\" class=\"row_heading level0 row4\" >SD</th>\n",
       "      <td id=\"T_753ef_row4_col0\" class=\"data row4 col0\" >NaT</td>\n",
       "      <td id=\"T_753ef_row4_col1\" class=\"data row4 col1\" >0.0392</td>\n",
       "      <td id=\"T_753ef_row4_col2\" class=\"data row4 col2\" >0.0283</td>\n",
       "      <td id=\"T_753ef_row4_col3\" class=\"data row4 col3\" >0.0117</td>\n",
       "      <td id=\"T_753ef_row4_col4\" class=\"data row4 col4\" >0.0117</td>\n",
       "      <td id=\"T_753ef_row4_col5\" class=\"data row4 col5\" >0.0190</td>\n",
       "      <td id=\"T_753ef_row4_col6\" class=\"data row4 col6\" >0.0185</td>\n",
       "    </tr>\n",
       "  </tbody>\n",
       "</table>\n"
      ],
      "text/plain": [
       "<pandas.io.formats.style.Styler at 0x1b9d17400d0>"
      ]
     },
     "metadata": {},
     "output_type": "display_data"
    },
    {
     "data": {
      "text/html": [],
      "text/plain": [
       "<IPython.core.display.HTML object>"
      ]
     },
     "metadata": {},
     "output_type": "display_data"
    },
    {
     "name": "stdout",
     "output_type": "stream",
     "text": [
      "Fitting 3 folds for each of 10 candidates, totalling 30 fits\n"
     ]
    },
    {
     "name": "stderr",
     "output_type": "stream",
     "text": [
      "[Parallel(n_jobs=-1)]: Using backend LokyBackend with 8 concurrent workers.\n",
      "[Parallel(n_jobs=-1)]: Done  30 out of  30 | elapsed:    9.3s finished\n"
     ]
    },
    {
     "data": {
      "application/vnd.plotly.v1+json": {
       "config": {
        "plotlyServerURL": "https://plot.ly"
       },
       "data": [
        {
         "line": {
          "color": "#1f77b4"
         },
         "marker": {
          "size": 5
         },
         "mode": "lines+markers",
         "name": "Forecast | ARIMA",
         "showlegend": true,
         "type": "scatter",
         "x": [
          "2025-05-01T00:00:00"
         ],
         "y": {
          "bdata": "CtejcD0K4z8=",
          "dtype": "f8"
         }
        },
        {
         "line": {
          "width": 0
         },
         "marker": {
          "color": "#68BBE3"
         },
         "mode": "lines",
         "name": "Lower Interval",
         "showlegend": false,
         "type": "scatter",
         "x": [
          "2025-05-01T00:00:00"
         ],
         "y": {
          "bdata": "hJ7Nqs/V4D8=",
          "dtype": "f8"
         }
        },
        {
         "fill": "tonexty",
         "fillcolor": "rgba(104,187,227,0.5)",
         "line": {
          "width": 0
         },
         "marker": {
          "color": "#68BBE3"
         },
         "mode": "lines",
         "name": "Prediction Interval | ARIMA",
         "showlegend": true,
         "type": "scatter",
         "x": [
          "2025-05-01T00:00:00"
         ],
         "y": {
          "bdata": "8KfGSzeJ5T8=",
          "dtype": "f8"
         }
        },
        {
         "marker": {
          "color": "#3f3f3f",
          "size": 5
         },
         "mode": "lines+markers",
         "name": "Original",
         "showlegend": true,
         "type": "scatter",
         "x": [
          "2024-05-01T00:00:00",
          "2024-05-02T00:00:00",
          "2024-05-03T00:00:00",
          "2024-05-04T00:00:00",
          "2024-05-05T00:00:00",
          "2024-05-06T00:00:00",
          "2024-05-07T00:00:00",
          "2024-05-08T00:00:00",
          "2024-05-09T00:00:00",
          "2024-05-10T00:00:00",
          "2024-05-11T00:00:00",
          "2024-05-12T00:00:00",
          "2024-05-13T00:00:00",
          "2024-05-14T00:00:00",
          "2024-05-15T00:00:00",
          "2024-05-16T00:00:00",
          "2024-05-17T00:00:00",
          "2024-05-18T00:00:00",
          "2024-05-19T00:00:00",
          "2024-05-20T00:00:00",
          "2024-05-21T00:00:00",
          "2024-05-22T00:00:00",
          "2024-05-23T00:00:00",
          "2024-05-24T00:00:00",
          "2024-05-25T00:00:00",
          "2024-05-26T00:00:00",
          "2024-05-27T00:00:00",
          "2024-05-28T00:00:00",
          "2024-05-29T00:00:00",
          "2024-05-30T00:00:00",
          "2024-05-31T00:00:00",
          "2024-06-01T00:00:00",
          "2024-06-02T00:00:00",
          "2024-06-03T00:00:00",
          "2024-06-04T00:00:00",
          "2024-06-05T00:00:00",
          "2024-06-06T00:00:00",
          "2024-06-07T00:00:00",
          "2024-06-08T00:00:00",
          "2024-06-09T00:00:00",
          "2024-06-10T00:00:00",
          "2024-06-11T00:00:00",
          "2024-06-12T00:00:00",
          "2024-06-13T00:00:00",
          "2024-06-14T00:00:00",
          "2024-06-15T00:00:00",
          "2024-06-16T00:00:00",
          "2024-06-17T00:00:00",
          "2024-06-18T00:00:00",
          "2024-06-19T00:00:00",
          "2024-06-20T00:00:00",
          "2024-06-21T00:00:00",
          "2024-06-22T00:00:00",
          "2024-06-23T00:00:00",
          "2024-06-24T00:00:00",
          "2024-06-25T00:00:00",
          "2024-06-26T00:00:00",
          "2024-06-27T00:00:00",
          "2024-06-28T00:00:00",
          "2024-06-29T00:00:00",
          "2024-06-30T00:00:00",
          "2024-07-01T00:00:00",
          "2024-07-02T00:00:00",
          "2024-07-03T00:00:00",
          "2024-07-04T00:00:00",
          "2024-07-05T00:00:00",
          "2024-07-06T00:00:00",
          "2024-07-07T00:00:00",
          "2024-07-08T00:00:00",
          "2024-07-09T00:00:00",
          "2024-07-10T00:00:00",
          "2024-07-11T00:00:00",
          "2024-07-12T00:00:00",
          "2024-07-13T00:00:00",
          "2024-07-14T00:00:00",
          "2024-07-15T00:00:00",
          "2024-07-16T00:00:00",
          "2024-07-17T00:00:00",
          "2024-07-18T00:00:00",
          "2024-07-19T00:00:00",
          "2024-07-20T00:00:00",
          "2024-07-21T00:00:00",
          "2024-07-22T00:00:00",
          "2024-07-23T00:00:00",
          "2024-07-24T00:00:00",
          "2024-07-25T00:00:00",
          "2024-07-26T00:00:00",
          "2024-07-27T00:00:00",
          "2024-07-28T00:00:00",
          "2024-07-29T00:00:00",
          "2024-07-30T00:00:00",
          "2024-07-31T00:00:00",
          "2024-08-01T00:00:00",
          "2024-08-02T00:00:00",
          "2024-08-03T00:00:00",
          "2024-08-04T00:00:00",
          "2024-08-05T00:00:00",
          "2024-08-06T00:00:00",
          "2024-08-07T00:00:00",
          "2024-08-08T00:00:00",
          "2024-08-09T00:00:00",
          "2024-08-10T00:00:00",
          "2024-08-11T00:00:00",
          "2024-08-12T00:00:00",
          "2024-08-13T00:00:00",
          "2024-08-14T00:00:00",
          "2024-08-15T00:00:00",
          "2024-08-16T00:00:00",
          "2024-08-17T00:00:00",
          "2024-08-18T00:00:00",
          "2024-08-19T00:00:00",
          "2024-08-20T00:00:00",
          "2024-08-21T00:00:00",
          "2024-08-22T00:00:00",
          "2024-08-23T00:00:00",
          "2024-08-24T00:00:00",
          "2024-08-25T00:00:00",
          "2024-08-26T00:00:00",
          "2024-08-27T00:00:00",
          "2024-08-28T00:00:00",
          "2024-08-29T00:00:00",
          "2024-08-30T00:00:00",
          "2024-08-31T00:00:00",
          "2024-09-01T00:00:00",
          "2024-09-02T00:00:00",
          "2024-09-03T00:00:00",
          "2024-09-04T00:00:00",
          "2024-09-05T00:00:00",
          "2024-09-06T00:00:00",
          "2024-09-07T00:00:00",
          "2024-09-08T00:00:00",
          "2024-09-09T00:00:00",
          "2024-09-10T00:00:00",
          "2024-09-11T00:00:00",
          "2024-09-12T00:00:00",
          "2024-09-13T00:00:00",
          "2024-09-14T00:00:00",
          "2024-09-15T00:00:00",
          "2024-09-16T00:00:00",
          "2024-09-17T00:00:00",
          "2024-09-18T00:00:00",
          "2024-09-19T00:00:00",
          "2024-09-20T00:00:00",
          "2024-09-21T00:00:00",
          "2024-09-22T00:00:00",
          "2024-09-23T00:00:00",
          "2024-09-24T00:00:00",
          "2024-09-25T00:00:00",
          "2024-09-26T00:00:00",
          "2024-09-27T00:00:00",
          "2024-09-28T00:00:00",
          "2024-09-29T00:00:00",
          "2024-09-30T00:00:00",
          "2024-10-01T00:00:00",
          "2024-10-02T00:00:00",
          "2024-10-03T00:00:00",
          "2024-10-04T00:00:00",
          "2024-10-05T00:00:00",
          "2024-10-06T00:00:00",
          "2024-10-07T00:00:00",
          "2024-10-08T00:00:00",
          "2024-10-09T00:00:00",
          "2024-10-10T00:00:00",
          "2024-10-11T00:00:00",
          "2024-10-12T00:00:00",
          "2024-10-13T00:00:00",
          "2024-10-14T00:00:00",
          "2024-10-15T00:00:00",
          "2024-10-16T00:00:00",
          "2024-10-17T00:00:00",
          "2024-10-18T00:00:00",
          "2024-10-19T00:00:00",
          "2024-10-20T00:00:00",
          "2024-10-21T00:00:00",
          "2024-10-22T00:00:00",
          "2024-10-23T00:00:00",
          "2024-10-24T00:00:00",
          "2024-10-25T00:00:00",
          "2024-10-26T00:00:00",
          "2024-10-27T00:00:00",
          "2024-10-28T00:00:00",
          "2024-10-29T00:00:00",
          "2024-10-30T00:00:00",
          "2024-10-31T00:00:00",
          "2024-11-01T00:00:00",
          "2024-11-02T00:00:00",
          "2024-11-03T00:00:00",
          "2024-11-04T00:00:00",
          "2024-11-05T00:00:00",
          "2024-11-06T00:00:00",
          "2024-11-07T00:00:00",
          "2024-11-08T00:00:00",
          "2024-11-09T00:00:00",
          "2024-11-10T00:00:00",
          "2024-11-11T00:00:00",
          "2024-11-12T00:00:00",
          "2024-11-13T00:00:00",
          "2024-11-14T00:00:00",
          "2024-11-15T00:00:00",
          "2024-11-16T00:00:00",
          "2024-11-17T00:00:00",
          "2024-11-18T00:00:00",
          "2024-11-19T00:00:00",
          "2024-11-20T00:00:00",
          "2024-11-21T00:00:00",
          "2024-11-22T00:00:00",
          "2024-11-23T00:00:00",
          "2024-11-24T00:00:00",
          "2024-11-25T00:00:00",
          "2024-11-26T00:00:00",
          "2024-11-27T00:00:00",
          "2024-11-28T00:00:00",
          "2024-11-29T00:00:00",
          "2024-11-30T00:00:00",
          "2024-12-01T00:00:00",
          "2024-12-02T00:00:00",
          "2024-12-03T00:00:00",
          "2024-12-04T00:00:00",
          "2024-12-05T00:00:00",
          "2024-12-06T00:00:00",
          "2024-12-07T00:00:00",
          "2024-12-08T00:00:00",
          "2024-12-09T00:00:00",
          "2024-12-10T00:00:00",
          "2024-12-11T00:00:00",
          "2024-12-12T00:00:00",
          "2024-12-13T00:00:00",
          "2024-12-14T00:00:00",
          "2024-12-15T00:00:00",
          "2024-12-16T00:00:00",
          "2024-12-17T00:00:00",
          "2024-12-18T00:00:00",
          "2024-12-19T00:00:00",
          "2024-12-20T00:00:00",
          "2024-12-21T00:00:00",
          "2024-12-22T00:00:00",
          "2024-12-23T00:00:00",
          "2024-12-24T00:00:00",
          "2024-12-25T00:00:00",
          "2024-12-26T00:00:00",
          "2024-12-27T00:00:00",
          "2024-12-28T00:00:00",
          "2024-12-29T00:00:00",
          "2024-12-30T00:00:00",
          "2024-12-31T00:00:00",
          "2025-01-01T00:00:00",
          "2025-01-02T00:00:00",
          "2025-01-03T00:00:00",
          "2025-01-04T00:00:00",
          "2025-01-05T00:00:00",
          "2025-01-06T00:00:00",
          "2025-01-07T00:00:00",
          "2025-01-08T00:00:00",
          "2025-01-09T00:00:00",
          "2025-01-10T00:00:00",
          "2025-01-11T00:00:00",
          "2025-01-12T00:00:00",
          "2025-01-13T00:00:00",
          "2025-01-14T00:00:00",
          "2025-01-15T00:00:00",
          "2025-01-16T00:00:00",
          "2025-01-17T00:00:00",
          "2025-01-18T00:00:00",
          "2025-01-19T00:00:00",
          "2025-01-20T00:00:00",
          "2025-01-21T00:00:00",
          "2025-01-22T00:00:00",
          "2025-01-23T00:00:00",
          "2025-01-24T00:00:00",
          "2025-01-25T00:00:00",
          "2025-01-26T00:00:00",
          "2025-01-27T00:00:00",
          "2025-01-28T00:00:00",
          "2025-01-29T00:00:00",
          "2025-01-30T00:00:00",
          "2025-01-31T00:00:00",
          "2025-02-01T00:00:00",
          "2025-02-02T00:00:00",
          "2025-02-03T00:00:00",
          "2025-02-04T00:00:00",
          "2025-02-05T00:00:00",
          "2025-02-06T00:00:00",
          "2025-02-07T00:00:00",
          "2025-02-08T00:00:00",
          "2025-02-09T00:00:00",
          "2025-02-10T00:00:00",
          "2025-02-11T00:00:00",
          "2025-02-12T00:00:00",
          "2025-02-13T00:00:00",
          "2025-02-14T00:00:00",
          "2025-02-15T00:00:00",
          "2025-02-16T00:00:00",
          "2025-02-17T00:00:00",
          "2025-02-18T00:00:00",
          "2025-02-19T00:00:00",
          "2025-02-20T00:00:00",
          "2025-02-21T00:00:00",
          "2025-02-22T00:00:00",
          "2025-02-23T00:00:00",
          "2025-02-24T00:00:00",
          "2025-02-25T00:00:00",
          "2025-02-26T00:00:00",
          "2025-02-27T00:00:00",
          "2025-02-28T00:00:00",
          "2025-03-01T00:00:00",
          "2025-03-02T00:00:00",
          "2025-03-03T00:00:00",
          "2025-03-04T00:00:00",
          "2025-03-05T00:00:00",
          "2025-03-06T00:00:00",
          "2025-03-07T00:00:00",
          "2025-03-08T00:00:00",
          "2025-03-09T00:00:00",
          "2025-03-10T00:00:00",
          "2025-03-11T00:00:00",
          "2025-03-12T00:00:00",
          "2025-03-13T00:00:00",
          "2025-03-14T00:00:00",
          "2025-03-15T00:00:00",
          "2025-03-16T00:00:00",
          "2025-03-17T00:00:00",
          "2025-03-18T00:00:00",
          "2025-03-19T00:00:00",
          "2025-03-20T00:00:00",
          "2025-03-21T00:00:00",
          "2025-03-22T00:00:00",
          "2025-03-23T00:00:00",
          "2025-03-24T00:00:00",
          "2025-03-25T00:00:00",
          "2025-03-26T00:00:00",
          "2025-03-27T00:00:00",
          "2025-03-28T00:00:00",
          "2025-03-29T00:00:00",
          "2025-03-30T00:00:00",
          "2025-03-31T00:00:00",
          "2025-04-01T00:00:00",
          "2025-04-02T00:00:00",
          "2025-04-03T00:00:00",
          "2025-04-04T00:00:00",
          "2025-04-05T00:00:00",
          "2025-04-06T00:00:00",
          "2025-04-07T00:00:00",
          "2025-04-08T00:00:00",
          "2025-04-09T00:00:00",
          "2025-04-10T00:00:00",
          "2025-04-11T00:00:00",
          "2025-04-12T00:00:00",
          "2025-04-13T00:00:00",
          "2025-04-14T00:00:00",
          "2025-04-15T00:00:00",
          "2025-04-16T00:00:00",
          "2025-04-17T00:00:00",
          "2025-04-18T00:00:00",
          "2025-04-19T00:00:00",
          "2025-04-20T00:00:00",
          "2025-04-21T00:00:00",
          "2025-04-22T00:00:00",
          "2025-04-23T00:00:00",
          "2025-04-24T00:00:00",
          "2025-04-25T00:00:00",
          "2025-04-26T00:00:00",
          "2025-04-27T00:00:00",
          "2025-04-28T00:00:00",
          "2025-04-29T00:00:00",
          "2025-04-30T00:00:00"
         ],
         "y": {
          "bdata": "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",
          "dtype": "f8"
         }
        }
       ],
       "layout": {
        "showlegend": true,
        "template": {
         "data": {
          "bar": [
           {
            "error_x": {
             "color": "rgb(51,51,51)"
            },
            "error_y": {
             "color": "rgb(51,51,51)"
            },
            "marker": {
             "line": {
              "color": "rgb(237,237,237)",
              "width": 0.5
             },
             "pattern": {
              "fillmode": "overlay",
              "size": 10,
              "solidity": 0.2
             }
            },
            "type": "bar"
           }
          ],
          "barpolar": [
           {
            "marker": {
             "line": {
              "color": "rgb(237,237,237)",
              "width": 0.5
             },
             "pattern": {
              "fillmode": "overlay",
              "size": 10,
              "solidity": 0.2
             }
            },
            "type": "barpolar"
           }
          ],
          "carpet": [
           {
            "aaxis": {
             "endlinecolor": "rgb(51,51,51)",
             "gridcolor": "white",
             "linecolor": "white",
             "minorgridcolor": "white",
             "startlinecolor": "rgb(51,51,51)"
            },
            "baxis": {
             "endlinecolor": "rgb(51,51,51)",
             "gridcolor": "white",
             "linecolor": "white",
             "minorgridcolor": "white",
             "startlinecolor": "rgb(51,51,51)"
            },
            "type": "carpet"
           }
          ],
          "choropleth": [
           {
            "colorbar": {
             "outlinewidth": 0,
             "tickcolor": "rgb(237,237,237)",
             "ticklen": 6,
             "ticks": "inside"
            },
            "type": "choropleth"
           }
          ],
          "contour": [
           {
            "colorbar": {
             "outlinewidth": 0,
             "tickcolor": "rgb(237,237,237)",
             "ticklen": 6,
             "ticks": "inside"
            },
            "colorscale": [
             [
              0,
              "rgb(20,44,66)"
             ],
             [
              1,
              "rgb(90,179,244)"
             ]
            ],
            "type": "contour"
           }
          ],
          "contourcarpet": [
           {
            "colorbar": {
             "outlinewidth": 0,
             "tickcolor": "rgb(237,237,237)",
             "ticklen": 6,
             "ticks": "inside"
            },
            "type": "contourcarpet"
           }
          ],
          "heatmap": [
           {
            "colorbar": {
             "outlinewidth": 0,
             "tickcolor": "rgb(237,237,237)",
             "ticklen": 6,
             "ticks": "inside"
            },
            "colorscale": [
             [
              0,
              "rgb(20,44,66)"
             ],
             [
              1,
              "rgb(90,179,244)"
             ]
            ],
            "type": "heatmap"
           }
          ],
          "histogram": [
           {
            "marker": {
             "pattern": {
              "fillmode": "overlay",
              "size": 10,
              "solidity": 0.2
             }
            },
            "type": "histogram"
           }
          ],
          "histogram2d": [
           {
            "colorbar": {
             "outlinewidth": 0,
             "tickcolor": "rgb(237,237,237)",
             "ticklen": 6,
             "ticks": "inside"
            },
            "colorscale": [
             [
              0,
              "rgb(20,44,66)"
             ],
             [
              1,
              "rgb(90,179,244)"
             ]
            ],
            "type": "histogram2d"
           }
          ],
          "histogram2dcontour": [
           {
            "colorbar": {
             "outlinewidth": 0,
             "tickcolor": "rgb(237,237,237)",
             "ticklen": 6,
             "ticks": "inside"
            },
            "colorscale": [
             [
              0,
              "rgb(20,44,66)"
             ],
             [
              1,
              "rgb(90,179,244)"
             ]
            ],
            "type": "histogram2dcontour"
           }
          ],
          "mesh3d": [
           {
            "colorbar": {
             "outlinewidth": 0,
             "tickcolor": "rgb(237,237,237)",
             "ticklen": 6,
             "ticks": "inside"
            },
            "type": "mesh3d"
           }
          ],
          "parcoords": [
           {
            "line": {
             "colorbar": {
              "outlinewidth": 0,
              "tickcolor": "rgb(237,237,237)",
              "ticklen": 6,
              "ticks": "inside"
             }
            },
            "type": "parcoords"
           }
          ],
          "pie": [
           {
            "automargin": true,
            "type": "pie"
           }
          ],
          "scatter": [
           {
            "fillpattern": {
             "fillmode": "overlay",
             "size": 10,
             "solidity": 0.2
            },
            "type": "scatter"
           }
          ],
          "scatter3d": [
           {
            "line": {
             "colorbar": {
              "outlinewidth": 0,
              "tickcolor": "rgb(237,237,237)",
              "ticklen": 6,
              "ticks": "inside"
             }
            },
            "marker": {
             "colorbar": {
              "outlinewidth": 0,
              "tickcolor": "rgb(237,237,237)",
              "ticklen": 6,
              "ticks": "inside"
             }
            },
            "type": "scatter3d"
           }
          ],
          "scattercarpet": [
           {
            "marker": {
             "colorbar": {
              "outlinewidth": 0,
              "tickcolor": "rgb(237,237,237)",
              "ticklen": 6,
              "ticks": "inside"
             }
            },
            "type": "scattercarpet"
           }
          ],
          "scattergeo": [
           {
            "marker": {
             "colorbar": {
              "outlinewidth": 0,
              "tickcolor": "rgb(237,237,237)",
              "ticklen": 6,
              "ticks": "inside"
             }
            },
            "type": "scattergeo"
           }
          ],
          "scattergl": [
           {
            "marker": {
             "colorbar": {
              "outlinewidth": 0,
              "tickcolor": "rgb(237,237,237)",
              "ticklen": 6,
              "ticks": "inside"
             }
            },
            "type": "scattergl"
           }
          ],
          "scattermap": [
           {
            "marker": {
             "colorbar": {
              "outlinewidth": 0,
              "tickcolor": "rgb(237,237,237)",
              "ticklen": 6,
              "ticks": "inside"
             }
            },
            "type": "scattermap"
           }
          ],
          "scattermapbox": [
           {
            "marker": {
             "colorbar": {
              "outlinewidth": 0,
              "tickcolor": "rgb(237,237,237)",
              "ticklen": 6,
              "ticks": "inside"
             }
            },
            "type": "scattermapbox"
           }
          ],
          "scatterpolar": [
           {
            "marker": {
             "colorbar": {
              "outlinewidth": 0,
              "tickcolor": "rgb(237,237,237)",
              "ticklen": 6,
              "ticks": "inside"
             }
            },
            "type": "scatterpolar"
           }
          ],
          "scatterpolargl": [
           {
            "marker": {
             "colorbar": {
              "outlinewidth": 0,
              "tickcolor": "rgb(237,237,237)",
              "ticklen": 6,
              "ticks": "inside"
             }
            },
            "type": "scatterpolargl"
           }
          ],
          "scatterternary": [
           {
            "marker": {
             "colorbar": {
              "outlinewidth": 0,
              "tickcolor": "rgb(237,237,237)",
              "ticklen": 6,
              "ticks": "inside"
             }
            },
            "type": "scatterternary"
           }
          ],
          "surface": [
           {
            "colorbar": {
             "outlinewidth": 0,
             "tickcolor": "rgb(237,237,237)",
             "ticklen": 6,
             "ticks": "inside"
            },
            "colorscale": [
             [
              0,
              "rgb(20,44,66)"
             ],
             [
              1,
              "rgb(90,179,244)"
             ]
            ],
            "type": "surface"
           }
          ],
          "table": [
           {
            "cells": {
             "fill": {
              "color": "rgb(237,237,237)"
             },
             "line": {
              "color": "white"
             }
            },
            "header": {
             "fill": {
              "color": "rgb(217,217,217)"
             },
             "line": {
              "color": "white"
             }
            },
            "type": "table"
           }
          ]
         },
         "layout": {
          "annotationdefaults": {
           "arrowhead": 0,
           "arrowwidth": 1
          },
          "autotypenumbers": "strict",
          "coloraxis": {
           "colorbar": {
            "outlinewidth": 0,
            "tickcolor": "rgb(237,237,237)",
            "ticklen": 6,
            "ticks": "inside"
           }
          },
          "colorscale": {
           "sequential": [
            [
             0,
             "rgb(20,44,66)"
            ],
            [
             1,
             "rgb(90,179,244)"
            ]
           ],
           "sequentialminus": [
            [
             0,
             "rgb(20,44,66)"
            ],
            [
             1,
             "rgb(90,179,244)"
            ]
           ]
          },
          "colorway": [
           "#F8766D",
           "#A3A500",
           "#00BF7D",
           "#00B0F6",
           "#E76BF3"
          ],
          "font": {
           "color": "rgb(51,51,51)"
          },
          "geo": {
           "bgcolor": "white",
           "lakecolor": "white",
           "landcolor": "rgb(237,237,237)",
           "showlakes": true,
           "showland": true,
           "subunitcolor": "white"
          },
          "hoverlabel": {
           "align": "left"
          },
          "hovermode": "closest",
          "paper_bgcolor": "white",
          "plot_bgcolor": "rgb(237,237,237)",
          "polar": {
           "angularaxis": {
            "gridcolor": "white",
            "linecolor": "white",
            "showgrid": true,
            "tickcolor": "rgb(51,51,51)",
            "ticks": "outside"
           },
           "bgcolor": "rgb(237,237,237)",
           "radialaxis": {
            "gridcolor": "white",
            "linecolor": "white",
            "showgrid": true,
            "tickcolor": "rgb(51,51,51)",
            "ticks": "outside"
           }
          },
          "scene": {
           "xaxis": {
            "backgroundcolor": "rgb(237,237,237)",
            "gridcolor": "white",
            "gridwidth": 2,
            "linecolor": "white",
            "showbackground": true,
            "showgrid": true,
            "tickcolor": "rgb(51,51,51)",
            "ticks": "outside",
            "zerolinecolor": "white"
           },
           "yaxis": {
            "backgroundcolor": "rgb(237,237,237)",
            "gridcolor": "white",
            "gridwidth": 2,
            "linecolor": "white",
            "showbackground": true,
            "showgrid": true,
            "tickcolor": "rgb(51,51,51)",
            "ticks": "outside",
            "zerolinecolor": "white"
           },
           "zaxis": {
            "backgroundcolor": "rgb(237,237,237)",
            "gridcolor": "white",
            "gridwidth": 2,
            "linecolor": "white",
            "showbackground": true,
            "showgrid": true,
            "tickcolor": "rgb(51,51,51)",
            "ticks": "outside",
            "zerolinecolor": "white"
           }
          },
          "shapedefaults": {
           "fillcolor": "black",
           "line": {
            "width": 0
           },
           "opacity": 0.3
          },
          "ternary": {
           "aaxis": {
            "gridcolor": "white",
            "linecolor": "white",
            "showgrid": true,
            "tickcolor": "rgb(51,51,51)",
            "ticks": "outside"
           },
           "baxis": {
            "gridcolor": "white",
            "linecolor": "white",
            "showgrid": true,
            "tickcolor": "rgb(51,51,51)",
            "ticks": "outside"
           },
           "bgcolor": "rgb(237,237,237)",
           "caxis": {
            "gridcolor": "white",
            "linecolor": "white",
            "showgrid": true,
            "tickcolor": "rgb(51,51,51)",
            "ticks": "outside"
           }
          },
          "xaxis": {
           "automargin": true,
           "gridcolor": "white",
           "linecolor": "white",
           "showgrid": true,
           "tickcolor": "rgb(51,51,51)",
           "ticks": "outside",
           "title": {
            "standoff": 15
           },
           "zerolinecolor": "white"
          },
          "yaxis": {
           "automargin": true,
           "gridcolor": "white",
           "linecolor": "white",
           "showgrid": true,
           "tickcolor": "rgb(51,51,51)",
           "ticks": "outside",
           "title": {
            "standoff": 15
           },
           "zerolinecolor": "white"
          }
         }
        },
        "title": {
         "text": "Actual vs. 'Out-of-Sample' Forecast | WIF-USD"
        },
        "xaxis": {
         "title": {
          "text": "Time"
         }
        },
        "yaxis": {
         "title": {
          "text": "Values"
         }
        }
       }
      }
     },
     "metadata": {},
     "output_type": "display_data"
    }
   ],
   "source": [
    "wif = df.loc[:,'WIF-USD']\n",
    "# Set up PyCaret environment\n",
    "s = setup(data=wif, \n",
    "          target = 'WIF-USD',\n",
    "          transform_target='log',\n",
    "          fh=1,  # Forecast horizon\n",
    "          session_id=123,\n",
    "          fold_strategy='expanding',\n",
    "          seasonal_period='D',\n",
    "          #fold_spans=\"adaptive\",\n",
    "          numeric_imputation_target = 'drift')\n",
    "arima = create_model('arima')\n",
    "\n",
    "tuned_arima = tune_model(arima)\n",
    "\n",
    "final_arima = finalize_model(tuned_arima)\n",
    "\n",
    "#future_dates = pd.date_range(df.index[-1], periods=30, freq='D')\n",
    "arima_predictions = predict_model(final_arima)\n",
    "\n",
    "#Plot ARIMA model forecast\n",
    "plot_model(final_arima, plot='forecast')\n"
   ]
  },
  {
   "cell_type": "code",
   "execution_count": 266,
   "id": "ac3a0777",
   "metadata": {},
   "outputs": [],
   "source": [
    "#Plot prophet model forecast\n",
    "fig = plot_model(final_arima, plot='forecast', return_fig=True)\n",
    "\n",
    "# Save it as an HTML file\n",
    "pio.write_html(fig, file='WIF_ARIMA_1.html', auto_open=False)"
   ]
  },
  {
   "cell_type": "code",
   "execution_count": 53,
   "id": "343241de",
   "metadata": {},
   "outputs": [
    {
     "data": {
      "text/html": [],
      "text/plain": [
       "<IPython.core.display.HTML object>"
      ]
     },
     "metadata": {},
     "output_type": "display_data"
    },
    {
     "data": {
      "text/html": [
       "<style type=\"text/css\">\n",
       "#T_9adc3_row3_col0, #T_9adc3_row3_col1, #T_9adc3_row3_col2, #T_9adc3_row3_col3, #T_9adc3_row3_col4, #T_9adc3_row3_col5, #T_9adc3_row3_col6, #T_9adc3_row3_col7 {\n",
       "  background: yellow;\n",
       "}\n",
       "</style>\n",
       "<table id=\"T_9adc3\">\n",
       "  <thead>\n",
       "    <tr>\n",
       "      <th class=\"blank level0\" >&nbsp;</th>\n",
       "      <th id=\"T_9adc3_level0_col0\" class=\"col_heading level0 col0\" >cutoff</th>\n",
       "      <th id=\"T_9adc3_level0_col1\" class=\"col_heading level0 col1\" >MASE</th>\n",
       "      <th id=\"T_9adc3_level0_col2\" class=\"col_heading level0 col2\" >RMSSE</th>\n",
       "      <th id=\"T_9adc3_level0_col3\" class=\"col_heading level0 col3\" >MAE</th>\n",
       "      <th id=\"T_9adc3_level0_col4\" class=\"col_heading level0 col4\" >RMSE</th>\n",
       "      <th id=\"T_9adc3_level0_col5\" class=\"col_heading level0 col5\" >MAPE</th>\n",
       "      <th id=\"T_9adc3_level0_col6\" class=\"col_heading level0 col6\" >SMAPE</th>\n",
       "      <th id=\"T_9adc3_level0_col7\" class=\"col_heading level0 col7\" >R2</th>\n",
       "    </tr>\n",
       "  </thead>\n",
       "  <tbody>\n",
       "    <tr>\n",
       "      <th id=\"T_9adc3_level0_row0\" class=\"row_heading level0 row0\" >0</th>\n",
       "      <td id=\"T_9adc3_row0_col0\" class=\"data row0 col0\" >2024-12-30</td>\n",
       "      <td id=\"T_9adc3_row0_col1\" class=\"data row0 col1\" >4.2297</td>\n",
       "      <td id=\"T_9adc3_row0_col2\" class=\"data row0 col2\" >3.3594</td>\n",
       "      <td id=\"T_9adc3_row0_col3\" class=\"data row0 col3\" >1.5628</td>\n",
       "      <td id=\"T_9adc3_row0_col4\" class=\"data row0 col4\" >1.6151</td>\n",
       "      <td id=\"T_9adc3_row0_col5\" class=\"data row0 col5\" >1.0487</td>\n",
       "      <td id=\"T_9adc3_row0_col6\" class=\"data row0 col6\" >0.6583</td>\n",
       "      <td id=\"T_9adc3_row0_col7\" class=\"data row0 col7\" >-26.8765</td>\n",
       "    </tr>\n",
       "    <tr>\n",
       "      <th id=\"T_9adc3_level0_row1\" class=\"row_heading level0 row1\" >1</th>\n",
       "      <td id=\"T_9adc3_row1_col0\" class=\"data row1 col0\" >2025-01-29</td>\n",
       "      <td id=\"T_9adc3_row1_col1\" class=\"data row1 col1\" >1.4965</td>\n",
       "      <td id=\"T_9adc3_row1_col2\" class=\"data row1 col2\" >1.1735</td>\n",
       "      <td id=\"T_9adc3_row1_col3\" class=\"data row1 col3\" >0.5405</td>\n",
       "      <td id=\"T_9adc3_row1_col4\" class=\"data row1 col4\" >0.5485</td>\n",
       "      <td id=\"T_9adc3_row1_col5\" class=\"data row1 col5\" >0.8004</td>\n",
       "      <td id=\"T_9adc3_row1_col6\" class=\"data row1 col6\" >0.5621</td>\n",
       "      <td id=\"T_9adc3_row1_col7\" class=\"data row1 col7\" >-11.1651</td>\n",
       "    </tr>\n",
       "    <tr>\n",
       "      <th id=\"T_9adc3_level0_row2\" class=\"row_heading level0 row2\" >2</th>\n",
       "      <td id=\"T_9adc3_row2_col0\" class=\"data row2 col0\" >2025-02-28</td>\n",
       "      <td id=\"T_9adc3_row2_col1\" class=\"data row2 col1\" >0.2930</td>\n",
       "      <td id=\"T_9adc3_row2_col2\" class=\"data row2 col2\" >0.2597</td>\n",
       "      <td id=\"T_9adc3_row2_col3\" class=\"data row2 col3\" >0.0997</td>\n",
       "      <td id=\"T_9adc3_row2_col4\" class=\"data row2 col4\" >0.1164</td>\n",
       "      <td id=\"T_9adc3_row2_col5\" class=\"data row2 col5\" >0.1908</td>\n",
       "      <td id=\"T_9adc3_row2_col6\" class=\"data row2 col6\" >0.2187</td>\n",
       "      <td id=\"T_9adc3_row2_col7\" class=\"data row2 col7\" >-1.8435</td>\n",
       "    </tr>\n",
       "    <tr>\n",
       "      <th id=\"T_9adc3_level0_row3\" class=\"row_heading level0 row3\" >Mean</th>\n",
       "      <td id=\"T_9adc3_row3_col0\" class=\"data row3 col0\" >NaT</td>\n",
       "      <td id=\"T_9adc3_row3_col1\" class=\"data row3 col1\" >2.0064</td>\n",
       "      <td id=\"T_9adc3_row3_col2\" class=\"data row3 col2\" >1.5976</td>\n",
       "      <td id=\"T_9adc3_row3_col3\" class=\"data row3 col3\" >0.7343</td>\n",
       "      <td id=\"T_9adc3_row3_col4\" class=\"data row3 col4\" >0.7600</td>\n",
       "      <td id=\"T_9adc3_row3_col5\" class=\"data row3 col5\" >0.6800</td>\n",
       "      <td id=\"T_9adc3_row3_col6\" class=\"data row3 col6\" >0.4797</td>\n",
       "      <td id=\"T_9adc3_row3_col7\" class=\"data row3 col7\" >-13.2950</td>\n",
       "    </tr>\n",
       "    <tr>\n",
       "      <th id=\"T_9adc3_level0_row4\" class=\"row_heading level0 row4\" >SD</th>\n",
       "      <td id=\"T_9adc3_row4_col0\" class=\"data row4 col0\" >NaT</td>\n",
       "      <td id=\"T_9adc3_row4_col1\" class=\"data row4 col1\" >1.6471</td>\n",
       "      <td id=\"T_9adc3_row4_col2\" class=\"data row4 col2\" >1.3005</td>\n",
       "      <td id=\"T_9adc3_row4_col3\" class=\"data row4 col3\" >0.6128</td>\n",
       "      <td id=\"T_9adc3_row4_col4\" class=\"data row4 col4\" >0.6299</td>\n",
       "      <td id=\"T_9adc3_row4_col5\" class=\"data row4 col5\" >0.3605</td>\n",
       "      <td id=\"T_9adc3_row4_col6\" class=\"data row4 col6\" >0.1887</td>\n",
       "      <td id=\"T_9adc3_row4_col7\" class=\"data row4 col7\" >10.3301</td>\n",
       "    </tr>\n",
       "  </tbody>\n",
       "</table>\n"
      ],
      "text/plain": [
       "<pandas.io.formats.style.Styler at 0x1b9cd1e1850>"
      ]
     },
     "metadata": {},
     "output_type": "display_data"
    },
    {
     "data": {
      "text/html": [],
      "text/plain": [
       "<IPython.core.display.HTML object>"
      ]
     },
     "metadata": {},
     "output_type": "display_data"
    },
    {
     "data": {
      "text/html": [],
      "text/plain": [
       "<IPython.core.display.HTML object>"
      ]
     },
     "metadata": {},
     "output_type": "display_data"
    },
    {
     "data": {
      "text/html": [
       "<style type=\"text/css\">\n",
       "#T_748d6_row3_col0, #T_748d6_row3_col1, #T_748d6_row3_col2, #T_748d6_row3_col3, #T_748d6_row3_col4, #T_748d6_row3_col5, #T_748d6_row3_col6, #T_748d6_row3_col7 {\n",
       "  background: yellow;\n",
       "}\n",
       "</style>\n",
       "<table id=\"T_748d6\">\n",
       "  <thead>\n",
       "    <tr>\n",
       "      <th class=\"blank level0\" >&nbsp;</th>\n",
       "      <th id=\"T_748d6_level0_col0\" class=\"col_heading level0 col0\" >cutoff</th>\n",
       "      <th id=\"T_748d6_level0_col1\" class=\"col_heading level0 col1\" >MASE</th>\n",
       "      <th id=\"T_748d6_level0_col2\" class=\"col_heading level0 col2\" >RMSSE</th>\n",
       "      <th id=\"T_748d6_level0_col3\" class=\"col_heading level0 col3\" >MAE</th>\n",
       "      <th id=\"T_748d6_level0_col4\" class=\"col_heading level0 col4\" >RMSE</th>\n",
       "      <th id=\"T_748d6_level0_col5\" class=\"col_heading level0 col5\" >MAPE</th>\n",
       "      <th id=\"T_748d6_level0_col6\" class=\"col_heading level0 col6\" >SMAPE</th>\n",
       "      <th id=\"T_748d6_level0_col7\" class=\"col_heading level0 col7\" >R2</th>\n",
       "    </tr>\n",
       "  </thead>\n",
       "  <tbody>\n",
       "    <tr>\n",
       "      <th id=\"T_748d6_level0_row0\" class=\"row_heading level0 row0\" >0</th>\n",
       "      <td id=\"T_748d6_row0_col0\" class=\"data row0 col0\" >2024-12-30</td>\n",
       "      <td id=\"T_748d6_row0_col1\" class=\"data row0 col1\" >1.5518</td>\n",
       "      <td id=\"T_748d6_row0_col2\" class=\"data row0 col2\" >1.2833</td>\n",
       "      <td id=\"T_748d6_row0_col3\" class=\"data row0 col3\" >0.5734</td>\n",
       "      <td id=\"T_748d6_row0_col4\" class=\"data row0 col4\" >0.6170</td>\n",
       "      <td id=\"T_748d6_row0_col5\" class=\"data row0 col5\" >0.3933</td>\n",
       "      <td id=\"T_748d6_row0_col6\" class=\"data row0 col6\" >0.3152</td>\n",
       "      <td id=\"T_748d6_row0_col7\" class=\"data row0 col7\" >-3.0677</td>\n",
       "    </tr>\n",
       "    <tr>\n",
       "      <th id=\"T_748d6_level0_row1\" class=\"row_heading level0 row1\" >1</th>\n",
       "      <td id=\"T_748d6_row1_col0\" class=\"data row1 col0\" >2025-01-29</td>\n",
       "      <td id=\"T_748d6_row1_col1\" class=\"data row1 col1\" >0.7547</td>\n",
       "      <td id=\"T_748d6_row1_col2\" class=\"data row1 col2\" >0.6156</td>\n",
       "      <td id=\"T_748d6_row1_col3\" class=\"data row1 col3\" >0.2725</td>\n",
       "      <td id=\"T_748d6_row1_col4\" class=\"data row1 col4\" >0.2877</td>\n",
       "      <td id=\"T_748d6_row1_col5\" class=\"data row1 col5\" >0.4061</td>\n",
       "      <td id=\"T_748d6_row1_col6\" class=\"data row1 col6\" >0.3301</td>\n",
       "      <td id=\"T_748d6_row1_col7\" class=\"data row1 col7\" >-2.3474</td>\n",
       "    </tr>\n",
       "    <tr>\n",
       "      <th id=\"T_748d6_level0_row2\" class=\"row_heading level0 row2\" >2</th>\n",
       "      <td id=\"T_748d6_row2_col0\" class=\"data row2 col0\" >2025-02-28</td>\n",
       "      <td id=\"T_748d6_row2_col1\" class=\"data row2 col1\" >0.3754</td>\n",
       "      <td id=\"T_748d6_row2_col2\" class=\"data row2 col2\" >0.3214</td>\n",
       "      <td id=\"T_748d6_row2_col3\" class=\"data row2 col3\" >0.1278</td>\n",
       "      <td id=\"T_748d6_row2_col4\" class=\"data row2 col4\" >0.1440</td>\n",
       "      <td id=\"T_748d6_row2_col5\" class=\"data row2 col5\" >0.2440</td>\n",
       "      <td id=\"T_748d6_row2_col6\" class=\"data row2 col6\" >0.2890</td>\n",
       "      <td id=\"T_748d6_row2_col7\" class=\"data row2 col7\" >-3.3551</td>\n",
       "    </tr>\n",
       "    <tr>\n",
       "      <th id=\"T_748d6_level0_row3\" class=\"row_heading level0 row3\" >Mean</th>\n",
       "      <td id=\"T_748d6_row3_col0\" class=\"data row3 col0\" >NaT</td>\n",
       "      <td id=\"T_748d6_row3_col1\" class=\"data row3 col1\" >0.8940</td>\n",
       "      <td id=\"T_748d6_row3_col2\" class=\"data row3 col2\" >0.7401</td>\n",
       "      <td id=\"T_748d6_row3_col3\" class=\"data row3 col3\" >0.3246</td>\n",
       "      <td id=\"T_748d6_row3_col4\" class=\"data row3 col4\" >0.3496</td>\n",
       "      <td id=\"T_748d6_row3_col5\" class=\"data row3 col5\" >0.3478</td>\n",
       "      <td id=\"T_748d6_row3_col6\" class=\"data row3 col6\" >0.3114</td>\n",
       "      <td id=\"T_748d6_row3_col7\" class=\"data row3 col7\" >-2.9234</td>\n",
       "    </tr>\n",
       "    <tr>\n",
       "      <th id=\"T_748d6_level0_row4\" class=\"row_heading level0 row4\" >SD</th>\n",
       "      <td id=\"T_748d6_row4_col0\" class=\"data row4 col0\" >NaT</td>\n",
       "      <td id=\"T_748d6_row4_col1\" class=\"data row4 col1\" >0.4903</td>\n",
       "      <td id=\"T_748d6_row4_col2\" class=\"data row4 col2\" >0.4024</td>\n",
       "      <td id=\"T_748d6_row4_col3\" class=\"data row4 col3\" >0.1856</td>\n",
       "      <td id=\"T_748d6_row4_col4\" class=\"data row4 col4\" >0.1980</td>\n",
       "      <td id=\"T_748d6_row4_col5\" class=\"data row4 col5\" >0.0736</td>\n",
       "      <td id=\"T_748d6_row4_col6\" class=\"data row4 col6\" >0.0170</td>\n",
       "      <td id=\"T_748d6_row4_col7\" class=\"data row4 col7\" >0.4238</td>\n",
       "    </tr>\n",
       "  </tbody>\n",
       "</table>\n"
      ],
      "text/plain": [
       "<pandas.io.formats.style.Styler at 0x1b9ccc77d90>"
      ]
     },
     "metadata": {},
     "output_type": "display_data"
    },
    {
     "data": {
      "text/html": [],
      "text/plain": [
       "<IPython.core.display.HTML object>"
      ]
     },
     "metadata": {},
     "output_type": "display_data"
    },
    {
     "name": "stdout",
     "output_type": "stream",
     "text": [
      "Fitting 3 folds for each of 10 candidates, totalling 30 fits\n"
     ]
    },
    {
     "name": "stderr",
     "output_type": "stream",
     "text": [
      "[Parallel(n_jobs=-1)]: Using backend LokyBackend with 8 concurrent workers.\n",
      "[Parallel(n_jobs=-1)]: Done  30 out of  30 | elapsed:    6.6s finished\n"
     ]
    },
    {
     "data": {
      "application/vnd.plotly.v1+json": {
       "config": {
        "plotlyServerURL": "https://plot.ly"
       },
       "data": [
        {
         "line": {
          "color": "#1f77b4"
         },
         "marker": {
          "size": 5
         },
         "mode": "lines+markers",
         "name": "Forecast | Prophet",
         "showlegend": true,
         "type": "scatter",
         "x": [
          "2025-04-30T00:00:00",
          "2025-05-01T00:00:00",
          "2025-05-02T00:00:00",
          "2025-05-03T00:00:00",
          "2025-05-04T00:00:00",
          "2025-05-05T00:00:00",
          "2025-05-06T00:00:00",
          "2025-05-07T00:00:00",
          "2025-05-08T00:00:00",
          "2025-05-09T00:00:00",
          "2025-05-10T00:00:00",
          "2025-05-11T00:00:00",
          "2025-05-12T00:00:00",
          "2025-05-13T00:00:00",
          "2025-05-14T00:00:00",
          "2025-05-15T00:00:00",
          "2025-05-16T00:00:00",
          "2025-05-17T00:00:00",
          "2025-05-18T00:00:00",
          "2025-05-19T00:00:00",
          "2025-05-20T00:00:00",
          "2025-05-21T00:00:00",
          "2025-05-22T00:00:00",
          "2025-05-23T00:00:00",
          "2025-05-24T00:00:00",
          "2025-05-25T00:00:00",
          "2025-05-26T00:00:00",
          "2025-05-27T00:00:00",
          "2025-05-28T00:00:00",
          "2025-05-29T00:00:00"
         ],
         "y": {
          "bdata": "7Q2+MJkq2D8T8kHPZtXXP00VjErqBNg/5j+k374O2D9JnYAmwobXP9QrZRniWNc/P1dbsb/s1j/Qs1n1udrWP3/7OnDOiNY/9GxWfa621j+Nl24Sg8DWPwK8BRIUP9Y/UPwYc9cS1j/M7snDQq3VPyL99nXgnNU/HVpkO99P1T8KaCJseHrVP6OSOgFNhNU/KH6MuWsJ1T//If32deDUP8cpOpLLf9Q/HThnRGlv1D9lqmBUUifUP44G8BZIUNQ/Y3/ZPXlY1D/5MeauJeTTP1g5tMh2vtM/bVZ9rrZi0z+HFtnO91PTP1fsL7snD9M/",
          "dtype": "f8"
         }
        },
        {
         "line": {
          "width": 0
         },
         "marker": {
          "color": "#68BBE3"
         },
         "mode": "lines",
         "name": "Lower Interval",
         "showlegend": false,
         "type": "scatter",
         "x": [
          "2025-04-30T00:00:00",
          "2025-05-01T00:00:00",
          "2025-05-02T00:00:00",
          "2025-05-03T00:00:00",
          "2025-05-04T00:00:00",
          "2025-05-05T00:00:00",
          "2025-05-06T00:00:00",
          "2025-05-07T00:00:00",
          "2025-05-08T00:00:00",
          "2025-05-09T00:00:00",
          "2025-05-10T00:00:00",
          "2025-05-11T00:00:00",
          "2025-05-12T00:00:00",
          "2025-05-13T00:00:00",
          "2025-05-14T00:00:00",
          "2025-05-15T00:00:00",
          "2025-05-16T00:00:00",
          "2025-05-17T00:00:00",
          "2025-05-18T00:00:00",
          "2025-05-19T00:00:00",
          "2025-05-20T00:00:00",
          "2025-05-21T00:00:00",
          "2025-05-22T00:00:00",
          "2025-05-23T00:00:00",
          "2025-05-24T00:00:00",
          "2025-05-25T00:00:00",
          "2025-05-26T00:00:00",
          "2025-05-27T00:00:00",
          "2025-05-28T00:00:00",
          "2025-05-29T00:00:00"
         ],
         "y": {
          "bdata": "2qz6XG3F0j9UdCSX/5DSP/aX3ZOHhdI/IR/0bFZ90j8xmSoYldTRP2q8dJMYBNI/MZkqGJXU0T8E54wo7Q3SPyZTBaOSOtE/E2HD0ytl0T9NhA1Pr5TRP+wvuycPC9E/UdobfGEy0T/6fmq8dJPQPycxCKwcWtA/5BQdyeU/0D9Iv30dOGfQP5XUCWgibNA/jLlrCfmgzz9DHOviNhrQP9IA3gIJis8/vw6cM6K0zz8hH/RsVn3OPwwCK4cW2c4/P1dbsb/szj9a9bnaiv3NPwpoImx4es0/w/UoXI/CzT9AE2HD0yvNP+wvuycPC80/",
          "dtype": "f8"
         }
        },
        {
         "fill": "tonexty",
         "fillcolor": "rgba(104,187,227,0.5)",
         "line": {
          "width": 0
         },
         "marker": {
          "color": "#68BBE3"
         },
         "mode": "lines",
         "name": "Prediction Interval | Prophet",
         "showlegend": true,
         "type": "scatter",
         "x": [
          "2025-04-30T00:00:00",
          "2025-05-01T00:00:00",
          "2025-05-02T00:00:00",
          "2025-05-03T00:00:00",
          "2025-05-04T00:00:00",
          "2025-05-05T00:00:00",
          "2025-05-06T00:00:00",
          "2025-05-07T00:00:00",
          "2025-05-08T00:00:00",
          "2025-05-09T00:00:00",
          "2025-05-10T00:00:00",
          "2025-05-11T00:00:00",
          "2025-05-12T00:00:00",
          "2025-05-13T00:00:00",
          "2025-05-14T00:00:00",
          "2025-05-15T00:00:00",
          "2025-05-16T00:00:00",
          "2025-05-17T00:00:00",
          "2025-05-18T00:00:00",
          "2025-05-19T00:00:00",
          "2025-05-20T00:00:00",
          "2025-05-21T00:00:00",
          "2025-05-22T00:00:00",
          "2025-05-23T00:00:00",
          "2025-05-24T00:00:00",
          "2025-05-25T00:00:00",
          "2025-05-26T00:00:00",
          "2025-05-27T00:00:00",
          "2025-05-28T00:00:00",
          "2025-05-29T00:00:00"
         ],
         "y": {
          "bdata": "kQ96Nqs+3z+Cc0aU9gbfP1R0JJf/kN4/gEi/fR043z/yQc9m1efeP89m1edqK94/qDXNO07R3T8/NV66SQzeP8GopE5AE90/nu+nxks33T/XEvJBz2bdP799HThnRN0/XynLEMe63D8mUwWjkjrdPyBj7lpCPtw/xty1hHzQ2z9bsb/snjzcP18HzhlR2ts/TfOOU3Qk2z8CK4cW2c7bP8E5I0p7g9s/MzMzMzMz2z8dyeU/pN/aP9qs+lxtxdo/H/RsVn2u2j+1pnnHKTraPxBYObTIdto/KcsQx7q42T+5/If029fZP/Cnxks3idk/",
          "dtype": "f8"
         }
        },
        {
         "marker": {
          "color": "#3f3f3f",
          "size": 5
         },
         "mode": "lines+markers",
         "name": "Original",
         "showlegend": true,
         "type": "scatter",
         "x": [
          "2024-04-30T00:00:00",
          "2024-05-01T00:00:00",
          "2024-05-02T00:00:00",
          "2024-05-03T00:00:00",
          "2024-05-04T00:00:00",
          "2024-05-05T00:00:00",
          "2024-05-06T00:00:00",
          "2024-05-07T00:00:00",
          "2024-05-08T00:00:00",
          "2024-05-09T00:00:00",
          "2024-05-10T00:00:00",
          "2024-05-11T00:00:00",
          "2024-05-12T00:00:00",
          "2024-05-13T00:00:00",
          "2024-05-14T00:00:00",
          "2024-05-15T00:00:00",
          "2024-05-16T00:00:00",
          "2024-05-17T00:00:00",
          "2024-05-18T00:00:00",
          "2024-05-19T00:00:00",
          "2024-05-20T00:00:00",
          "2024-05-21T00:00:00",
          "2024-05-22T00:00:00",
          "2024-05-23T00:00:00",
          "2024-05-24T00:00:00",
          "2024-05-25T00:00:00",
          "2024-05-26T00:00:00",
          "2024-05-27T00:00:00",
          "2024-05-28T00:00:00",
          "2024-05-29T00:00:00",
          "2024-05-30T00:00:00",
          "2024-05-31T00:00:00",
          "2024-06-01T00:00:00",
          "2024-06-02T00:00:00",
          "2024-06-03T00:00:00",
          "2024-06-04T00:00:00",
          "2024-06-05T00:00:00",
          "2024-06-06T00:00:00",
          "2024-06-07T00:00:00",
          "2024-06-08T00:00:00",
          "2024-06-09T00:00:00",
          "2024-06-10T00:00:00",
          "2024-06-11T00:00:00",
          "2024-06-12T00:00:00",
          "2024-06-13T00:00:00",
          "2024-06-14T00:00:00",
          "2024-06-15T00:00:00",
          "2024-06-16T00:00:00",
          "2024-06-17T00:00:00",
          "2024-06-18T00:00:00",
          "2024-06-19T00:00:00",
          "2024-06-20T00:00:00",
          "2024-06-21T00:00:00",
          "2024-06-22T00:00:00",
          "2024-06-23T00:00:00",
          "2024-06-24T00:00:00",
          "2024-06-25T00:00:00",
          "2024-06-26T00:00:00",
          "2024-06-27T00:00:00",
          "2024-06-28T00:00:00",
          "2024-06-29T00:00:00",
          "2024-06-30T00:00:00",
          "2024-07-01T00:00:00",
          "2024-07-02T00:00:00",
          "2024-07-03T00:00:00",
          "2024-07-04T00:00:00",
          "2024-07-05T00:00:00",
          "2024-07-06T00:00:00",
          "2024-07-07T00:00:00",
          "2024-07-08T00:00:00",
          "2024-07-09T00:00:00",
          "2024-07-10T00:00:00",
          "2024-07-11T00:00:00",
          "2024-07-12T00:00:00",
          "2024-07-13T00:00:00",
          "2024-07-14T00:00:00",
          "2024-07-15T00:00:00",
          "2024-07-16T00:00:00",
          "2024-07-17T00:00:00",
          "2024-07-18T00:00:00",
          "2024-07-19T00:00:00",
          "2024-07-20T00:00:00",
          "2024-07-21T00:00:00",
          "2024-07-22T00:00:00",
          "2024-07-23T00:00:00",
          "2024-07-24T00:00:00",
          "2024-07-25T00:00:00",
          "2024-07-26T00:00:00",
          "2024-07-27T00:00:00",
          "2024-07-28T00:00:00",
          "2024-07-29T00:00:00",
          "2024-07-30T00:00:00",
          "2024-07-31T00:00:00",
          "2024-08-01T00:00:00",
          "2024-08-02T00:00:00",
          "2024-08-03T00:00:00",
          "2024-08-04T00:00:00",
          "2024-08-05T00:00:00",
          "2024-08-06T00:00:00",
          "2024-08-07T00:00:00",
          "2024-08-08T00:00:00",
          "2024-08-09T00:00:00",
          "2024-08-10T00:00:00",
          "2024-08-11T00:00:00",
          "2024-08-12T00:00:00",
          "2024-08-13T00:00:00",
          "2024-08-14T00:00:00",
          "2024-08-15T00:00:00",
          "2024-08-16T00:00:00",
          "2024-08-17T00:00:00",
          "2024-08-18T00:00:00",
          "2024-08-19T00:00:00",
          "2024-08-20T00:00:00",
          "2024-08-21T00:00:00",
          "2024-08-22T00:00:00",
          "2024-08-23T00:00:00",
          "2024-08-24T00:00:00",
          "2024-08-25T00:00:00",
          "2024-08-26T00:00:00",
          "2024-08-27T00:00:00",
          "2024-08-28T00:00:00",
          "2024-08-29T00:00:00",
          "2024-08-30T00:00:00",
          "2024-08-31T00:00:00",
          "2024-09-01T00:00:00",
          "2024-09-02T00:00:00",
          "2024-09-03T00:00:00",
          "2024-09-04T00:00:00",
          "2024-09-05T00:00:00",
          "2024-09-06T00:00:00",
          "2024-09-07T00:00:00",
          "2024-09-08T00:00:00",
          "2024-09-09T00:00:00",
          "2024-09-10T00:00:00",
          "2024-09-11T00:00:00",
          "2024-09-12T00:00:00",
          "2024-09-13T00:00:00",
          "2024-09-14T00:00:00",
          "2024-09-15T00:00:00",
          "2024-09-16T00:00:00",
          "2024-09-17T00:00:00",
          "2024-09-18T00:00:00",
          "2024-09-19T00:00:00",
          "2024-09-20T00:00:00",
          "2024-09-21T00:00:00",
          "2024-09-22T00:00:00",
          "2024-09-23T00:00:00",
          "2024-09-24T00:00:00",
          "2024-09-25T00:00:00",
          "2024-09-26T00:00:00",
          "2024-09-27T00:00:00",
          "2024-09-28T00:00:00",
          "2024-09-29T00:00:00",
          "2024-09-30T00:00:00",
          "2024-10-01T00:00:00",
          "2024-10-02T00:00:00",
          "2024-10-03T00:00:00",
          "2024-10-04T00:00:00",
          "2024-10-05T00:00:00",
          "2024-10-06T00:00:00",
          "2024-10-07T00:00:00",
          "2024-10-08T00:00:00",
          "2024-10-09T00:00:00",
          "2024-10-10T00:00:00",
          "2024-10-11T00:00:00",
          "2024-10-12T00:00:00",
          "2024-10-13T00:00:00",
          "2024-10-14T00:00:00",
          "2024-10-15T00:00:00",
          "2024-10-16T00:00:00",
          "2024-10-17T00:00:00",
          "2024-10-18T00:00:00",
          "2024-10-19T00:00:00",
          "2024-10-20T00:00:00",
          "2024-10-21T00:00:00",
          "2024-10-22T00:00:00",
          "2024-10-23T00:00:00",
          "2024-10-24T00:00:00",
          "2024-10-25T00:00:00",
          "2024-10-26T00:00:00",
          "2024-10-27T00:00:00",
          "2024-10-28T00:00:00",
          "2024-10-29T00:00:00",
          "2024-10-30T00:00:00",
          "2024-10-31T00:00:00",
          "2024-11-01T00:00:00",
          "2024-11-02T00:00:00",
          "2024-11-03T00:00:00",
          "2024-11-04T00:00:00",
          "2024-11-05T00:00:00",
          "2024-11-06T00:00:00",
          "2024-11-07T00:00:00",
          "2024-11-08T00:00:00",
          "2024-11-09T00:00:00",
          "2024-11-10T00:00:00",
          "2024-11-11T00:00:00",
          "2024-11-12T00:00:00",
          "2024-11-13T00:00:00",
          "2024-11-14T00:00:00",
          "2024-11-15T00:00:00",
          "2024-11-16T00:00:00",
          "2024-11-17T00:00:00",
          "2024-11-18T00:00:00",
          "2024-11-19T00:00:00",
          "2024-11-20T00:00:00",
          "2024-11-21T00:00:00",
          "2024-11-22T00:00:00",
          "2024-11-23T00:00:00",
          "2024-11-24T00:00:00",
          "2024-11-25T00:00:00",
          "2024-11-26T00:00:00",
          "2024-11-27T00:00:00",
          "2024-11-28T00:00:00",
          "2024-11-29T00:00:00",
          "2024-11-30T00:00:00",
          "2024-12-01T00:00:00",
          "2024-12-02T00:00:00",
          "2024-12-03T00:00:00",
          "2024-12-04T00:00:00",
          "2024-12-05T00:00:00",
          "2024-12-06T00:00:00",
          "2024-12-07T00:00:00",
          "2024-12-08T00:00:00",
          "2024-12-09T00:00:00",
          "2024-12-10T00:00:00",
          "2024-12-11T00:00:00",
          "2024-12-12T00:00:00",
          "2024-12-13T00:00:00",
          "2024-12-14T00:00:00",
          "2024-12-15T00:00:00",
          "2024-12-16T00:00:00",
          "2024-12-17T00:00:00",
          "2024-12-18T00:00:00",
          "2024-12-19T00:00:00",
          "2024-12-20T00:00:00",
          "2024-12-21T00:00:00",
          "2024-12-22T00:00:00",
          "2024-12-23T00:00:00",
          "2024-12-24T00:00:00",
          "2024-12-25T00:00:00",
          "2024-12-26T00:00:00",
          "2024-12-27T00:00:00",
          "2024-12-28T00:00:00",
          "2024-12-29T00:00:00",
          "2024-12-30T00:00:00",
          "2024-12-31T00:00:00",
          "2025-01-01T00:00:00",
          "2025-01-02T00:00:00",
          "2025-01-03T00:00:00",
          "2025-01-04T00:00:00",
          "2025-01-05T00:00:00",
          "2025-01-06T00:00:00",
          "2025-01-07T00:00:00",
          "2025-01-08T00:00:00",
          "2025-01-09T00:00:00",
          "2025-01-10T00:00:00",
          "2025-01-11T00:00:00",
          "2025-01-12T00:00:00",
          "2025-01-13T00:00:00",
          "2025-01-14T00:00:00",
          "2025-01-15T00:00:00",
          "2025-01-16T00:00:00",
          "2025-01-17T00:00:00",
          "2025-01-18T00:00:00",
          "2025-01-19T00:00:00",
          "2025-01-20T00:00:00",
          "2025-01-21T00:00:00",
          "2025-01-22T00:00:00",
          "2025-01-23T00:00:00",
          "2025-01-24T00:00:00",
          "2025-01-25T00:00:00",
          "2025-01-26T00:00:00",
          "2025-01-27T00:00:00",
          "2025-01-28T00:00:00",
          "2025-01-29T00:00:00",
          "2025-01-30T00:00:00",
          "2025-01-31T00:00:00",
          "2025-02-01T00:00:00",
          "2025-02-02T00:00:00",
          "2025-02-03T00:00:00",
          "2025-02-04T00:00:00",
          "2025-02-05T00:00:00",
          "2025-02-06T00:00:00",
          "2025-02-07T00:00:00",
          "2025-02-08T00:00:00",
          "2025-02-09T00:00:00",
          "2025-02-10T00:00:00",
          "2025-02-11T00:00:00",
          "2025-02-12T00:00:00",
          "2025-02-13T00:00:00",
          "2025-02-14T00:00:00",
          "2025-02-15T00:00:00",
          "2025-02-16T00:00:00",
          "2025-02-17T00:00:00",
          "2025-02-18T00:00:00",
          "2025-02-19T00:00:00",
          "2025-02-20T00:00:00",
          "2025-02-21T00:00:00",
          "2025-02-22T00:00:00",
          "2025-02-23T00:00:00",
          "2025-02-24T00:00:00",
          "2025-02-25T00:00:00",
          "2025-02-26T00:00:00",
          "2025-02-27T00:00:00",
          "2025-02-28T00:00:00",
          "2025-03-01T00:00:00",
          "2025-03-02T00:00:00",
          "2025-03-03T00:00:00",
          "2025-03-04T00:00:00",
          "2025-03-05T00:00:00",
          "2025-03-06T00:00:00",
          "2025-03-07T00:00:00",
          "2025-03-08T00:00:00",
          "2025-03-09T00:00:00",
          "2025-03-10T00:00:00",
          "2025-03-11T00:00:00",
          "2025-03-12T00:00:00",
          "2025-03-13T00:00:00",
          "2025-03-14T00:00:00",
          "2025-03-15T00:00:00",
          "2025-03-16T00:00:00",
          "2025-03-17T00:00:00",
          "2025-03-18T00:00:00",
          "2025-03-19T00:00:00",
          "2025-03-20T00:00:00",
          "2025-03-21T00:00:00",
          "2025-03-22T00:00:00",
          "2025-03-23T00:00:00",
          "2025-03-24T00:00:00",
          "2025-03-25T00:00:00",
          "2025-03-26T00:00:00",
          "2025-03-27T00:00:00",
          "2025-03-28T00:00:00",
          "2025-03-29T00:00:00",
          "2025-03-30T00:00:00",
          "2025-03-31T00:00:00",
          "2025-04-01T00:00:00",
          "2025-04-02T00:00:00",
          "2025-04-03T00:00:00",
          "2025-04-04T00:00:00",
          "2025-04-05T00:00:00",
          "2025-04-06T00:00:00",
          "2025-04-07T00:00:00",
          "2025-04-08T00:00:00",
          "2025-04-09T00:00:00",
          "2025-04-10T00:00:00",
          "2025-04-11T00:00:00",
          "2025-04-12T00:00:00",
          "2025-04-13T00:00:00",
          "2025-04-14T00:00:00",
          "2025-04-15T00:00:00",
          "2025-04-16T00:00:00",
          "2025-04-17T00:00:00",
          "2025-04-18T00:00:00",
          "2025-04-19T00:00:00",
          "2025-04-20T00:00:00",
          "2025-04-21T00:00:00",
          "2025-04-22T00:00:00",
          "2025-04-23T00:00:00",
          "2025-04-24T00:00:00",
          "2025-04-25T00:00:00",
          "2025-04-26T00:00:00",
          "2025-04-27T00:00:00",
          "2025-04-28T00:00:00",
          "2025-04-29T00:00:00"
         ],
         "y": {
          "bdata": "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",
          "dtype": "f8"
         }
        }
       ],
       "layout": {
        "showlegend": true,
        "template": {
         "data": {
          "bar": [
           {
            "error_x": {
             "color": "rgb(51,51,51)"
            },
            "error_y": {
             "color": "rgb(51,51,51)"
            },
            "marker": {
             "line": {
              "color": "rgb(237,237,237)",
              "width": 0.5
             },
             "pattern": {
              "fillmode": "overlay",
              "size": 10,
              "solidity": 0.2
             }
            },
            "type": "bar"
           }
          ],
          "barpolar": [
           {
            "marker": {
             "line": {
              "color": "rgb(237,237,237)",
              "width": 0.5
             },
             "pattern": {
              "fillmode": "overlay",
              "size": 10,
              "solidity": 0.2
             }
            },
            "type": "barpolar"
           }
          ],
          "carpet": [
           {
            "aaxis": {
             "endlinecolor": "rgb(51,51,51)",
             "gridcolor": "white",
             "linecolor": "white",
             "minorgridcolor": "white",
             "startlinecolor": "rgb(51,51,51)"
            },
            "baxis": {
             "endlinecolor": "rgb(51,51,51)",
             "gridcolor": "white",
             "linecolor": "white",
             "minorgridcolor": "white",
             "startlinecolor": "rgb(51,51,51)"
            },
            "type": "carpet"
           }
          ],
          "choropleth": [
           {
            "colorbar": {
             "outlinewidth": 0,
             "tickcolor": "rgb(237,237,237)",
             "ticklen": 6,
             "ticks": "inside"
            },
            "type": "choropleth"
           }
          ],
          "contour": [
           {
            "colorbar": {
             "outlinewidth": 0,
             "tickcolor": "rgb(237,237,237)",
             "ticklen": 6,
             "ticks": "inside"
            },
            "colorscale": [
             [
              0,
              "rgb(20,44,66)"
             ],
             [
              1,
              "rgb(90,179,244)"
             ]
            ],
            "type": "contour"
           }
          ],
          "contourcarpet": [
           {
            "colorbar": {
             "outlinewidth": 0,
             "tickcolor": "rgb(237,237,237)",
             "ticklen": 6,
             "ticks": "inside"
            },
            "type": "contourcarpet"
           }
          ],
          "heatmap": [
           {
            "colorbar": {
             "outlinewidth": 0,
             "tickcolor": "rgb(237,237,237)",
             "ticklen": 6,
             "ticks": "inside"
            },
            "colorscale": [
             [
              0,
              "rgb(20,44,66)"
             ],
             [
              1,
              "rgb(90,179,244)"
             ]
            ],
            "type": "heatmap"
           }
          ],
          "histogram": [
           {
            "marker": {
             "pattern": {
              "fillmode": "overlay",
              "size": 10,
              "solidity": 0.2
             }
            },
            "type": "histogram"
           }
          ],
          "histogram2d": [
           {
            "colorbar": {
             "outlinewidth": 0,
             "tickcolor": "rgb(237,237,237)",
             "ticklen": 6,
             "ticks": "inside"
            },
            "colorscale": [
             [
              0,
              "rgb(20,44,66)"
             ],
             [
              1,
              "rgb(90,179,244)"
             ]
            ],
            "type": "histogram2d"
           }
          ],
          "histogram2dcontour": [
           {
            "colorbar": {
             "outlinewidth": 0,
             "tickcolor": "rgb(237,237,237)",
             "ticklen": 6,
             "ticks": "inside"
            },
            "colorscale": [
             [
              0,
              "rgb(20,44,66)"
             ],
             [
              1,
              "rgb(90,179,244)"
             ]
            ],
            "type": "histogram2dcontour"
           }
          ],
          "mesh3d": [
           {
            "colorbar": {
             "outlinewidth": 0,
             "tickcolor": "rgb(237,237,237)",
             "ticklen": 6,
             "ticks": "inside"
            },
            "type": "mesh3d"
           }
          ],
          "parcoords": [
           {
            "line": {
             "colorbar": {
              "outlinewidth": 0,
              "tickcolor": "rgb(237,237,237)",
              "ticklen": 6,
              "ticks": "inside"
             }
            },
            "type": "parcoords"
           }
          ],
          "pie": [
           {
            "automargin": true,
            "type": "pie"
           }
          ],
          "scatter": [
           {
            "fillpattern": {
             "fillmode": "overlay",
             "size": 10,
             "solidity": 0.2
            },
            "type": "scatter"
           }
          ],
          "scatter3d": [
           {
            "line": {
             "colorbar": {
              "outlinewidth": 0,
              "tickcolor": "rgb(237,237,237)",
              "ticklen": 6,
              "ticks": "inside"
             }
            },
            "marker": {
             "colorbar": {
              "outlinewidth": 0,
              "tickcolor": "rgb(237,237,237)",
              "ticklen": 6,
              "ticks": "inside"
             }
            },
            "type": "scatter3d"
           }
          ],
          "scattercarpet": [
           {
            "marker": {
             "colorbar": {
              "outlinewidth": 0,
              "tickcolor": "rgb(237,237,237)",
              "ticklen": 6,
              "ticks": "inside"
             }
            },
            "type": "scattercarpet"
           }
          ],
          "scattergeo": [
           {
            "marker": {
             "colorbar": {
              "outlinewidth": 0,
              "tickcolor": "rgb(237,237,237)",
              "ticklen": 6,
              "ticks": "inside"
             }
            },
            "type": "scattergeo"
           }
          ],
          "scattergl": [
           {
            "marker": {
             "colorbar": {
              "outlinewidth": 0,
              "tickcolor": "rgb(237,237,237)",
              "ticklen": 6,
              "ticks": "inside"
             }
            },
            "type": "scattergl"
           }
          ],
          "scattermap": [
           {
            "marker": {
             "colorbar": {
              "outlinewidth": 0,
              "tickcolor": "rgb(237,237,237)",
              "ticklen": 6,
              "ticks": "inside"
             }
            },
            "type": "scattermap"
           }
          ],
          "scattermapbox": [
           {
            "marker": {
             "colorbar": {
              "outlinewidth": 0,
              "tickcolor": "rgb(237,237,237)",
              "ticklen": 6,
              "ticks": "inside"
             }
            },
            "type": "scattermapbox"
           }
          ],
          "scatterpolar": [
           {
            "marker": {
             "colorbar": {
              "outlinewidth": 0,
              "tickcolor": "rgb(237,237,237)",
              "ticklen": 6,
              "ticks": "inside"
             }
            },
            "type": "scatterpolar"
           }
          ],
          "scatterpolargl": [
           {
            "marker": {
             "colorbar": {
              "outlinewidth": 0,
              "tickcolor": "rgb(237,237,237)",
              "ticklen": 6,
              "ticks": "inside"
             }
            },
            "type": "scatterpolargl"
           }
          ],
          "scatterternary": [
           {
            "marker": {
             "colorbar": {
              "outlinewidth": 0,
              "tickcolor": "rgb(237,237,237)",
              "ticklen": 6,
              "ticks": "inside"
             }
            },
            "type": "scatterternary"
           }
          ],
          "surface": [
           {
            "colorbar": {
             "outlinewidth": 0,
             "tickcolor": "rgb(237,237,237)",
             "ticklen": 6,
             "ticks": "inside"
            },
            "colorscale": [
             [
              0,
              "rgb(20,44,66)"
             ],
             [
              1,
              "rgb(90,179,244)"
             ]
            ],
            "type": "surface"
           }
          ],
          "table": [
           {
            "cells": {
             "fill": {
              "color": "rgb(237,237,237)"
             },
             "line": {
              "color": "white"
             }
            },
            "header": {
             "fill": {
              "color": "rgb(217,217,217)"
             },
             "line": {
              "color": "white"
             }
            },
            "type": "table"
           }
          ]
         },
         "layout": {
          "annotationdefaults": {
           "arrowhead": 0,
           "arrowwidth": 1
          },
          "autotypenumbers": "strict",
          "coloraxis": {
           "colorbar": {
            "outlinewidth": 0,
            "tickcolor": "rgb(237,237,237)",
            "ticklen": 6,
            "ticks": "inside"
           }
          },
          "colorscale": {
           "sequential": [
            [
             0,
             "rgb(20,44,66)"
            ],
            [
             1,
             "rgb(90,179,244)"
            ]
           ],
           "sequentialminus": [
            [
             0,
             "rgb(20,44,66)"
            ],
            [
             1,
             "rgb(90,179,244)"
            ]
           ]
          },
          "colorway": [
           "#F8766D",
           "#A3A500",
           "#00BF7D",
           "#00B0F6",
           "#E76BF3"
          ],
          "font": {
           "color": "rgb(51,51,51)"
          },
          "geo": {
           "bgcolor": "white",
           "lakecolor": "white",
           "landcolor": "rgb(237,237,237)",
           "showlakes": true,
           "showland": true,
           "subunitcolor": "white"
          },
          "hoverlabel": {
           "align": "left"
          },
          "hovermode": "closest",
          "paper_bgcolor": "white",
          "plot_bgcolor": "rgb(237,237,237)",
          "polar": {
           "angularaxis": {
            "gridcolor": "white",
            "linecolor": "white",
            "showgrid": true,
            "tickcolor": "rgb(51,51,51)",
            "ticks": "outside"
           },
           "bgcolor": "rgb(237,237,237)",
           "radialaxis": {
            "gridcolor": "white",
            "linecolor": "white",
            "showgrid": true,
            "tickcolor": "rgb(51,51,51)",
            "ticks": "outside"
           }
          },
          "scene": {
           "xaxis": {
            "backgroundcolor": "rgb(237,237,237)",
            "gridcolor": "white",
            "gridwidth": 2,
            "linecolor": "white",
            "showbackground": true,
            "showgrid": true,
            "tickcolor": "rgb(51,51,51)",
            "ticks": "outside",
            "zerolinecolor": "white"
           },
           "yaxis": {
            "backgroundcolor": "rgb(237,237,237)",
            "gridcolor": "white",
            "gridwidth": 2,
            "linecolor": "white",
            "showbackground": true,
            "showgrid": true,
            "tickcolor": "rgb(51,51,51)",
            "ticks": "outside",
            "zerolinecolor": "white"
           },
           "zaxis": {
            "backgroundcolor": "rgb(237,237,237)",
            "gridcolor": "white",
            "gridwidth": 2,
            "linecolor": "white",
            "showbackground": true,
            "showgrid": true,
            "tickcolor": "rgb(51,51,51)",
            "ticks": "outside",
            "zerolinecolor": "white"
           }
          },
          "shapedefaults": {
           "fillcolor": "black",
           "line": {
            "width": 0
           },
           "opacity": 0.3
          },
          "ternary": {
           "aaxis": {
            "gridcolor": "white",
            "linecolor": "white",
            "showgrid": true,
            "tickcolor": "rgb(51,51,51)",
            "ticks": "outside"
           },
           "baxis": {
            "gridcolor": "white",
            "linecolor": "white",
            "showgrid": true,
            "tickcolor": "rgb(51,51,51)",
            "ticks": "outside"
           },
           "bgcolor": "rgb(237,237,237)",
           "caxis": {
            "gridcolor": "white",
            "linecolor": "white",
            "showgrid": true,
            "tickcolor": "rgb(51,51,51)",
            "ticks": "outside"
           }
          },
          "xaxis": {
           "automargin": true,
           "gridcolor": "white",
           "linecolor": "white",
           "showgrid": true,
           "tickcolor": "rgb(51,51,51)",
           "ticks": "outside",
           "title": {
            "standoff": 15
           },
           "zerolinecolor": "white"
          },
          "yaxis": {
           "automargin": true,
           "gridcolor": "white",
           "linecolor": "white",
           "showgrid": true,
           "tickcolor": "rgb(51,51,51)",
           "ticks": "outside",
           "title": {
            "standoff": 15
           },
           "zerolinecolor": "white"
          }
         }
        },
        "title": {
         "text": "Actual vs. 'Out-of-Sample' Forecast | WIF-USD"
        },
        "xaxis": {
         "title": {
          "text": "Time"
         }
        },
        "yaxis": {
         "title": {
          "text": "Values"
         }
        }
       }
      }
     },
     "metadata": {},
     "output_type": "display_data"
    }
   ],
   "source": [
    "prophet = create_model('prophet')\n",
    "tuned_prophet = tune_model(prophet)\n",
    "final_prophet = finalize_model(tuned_prophet)\n",
    "prophet_predictions = predict_model(final_prophet)\n",
    "#Plot prophet model forecast\n",
    "plot_model(final_prophet, plot='forecast')"
   ]
  },
  {
   "cell_type": "markdown",
   "id": "a2342d98",
   "metadata": {},
   "source": [
    "ETH Forecast with ARIMA (not working), Exponential Smoothing (best), and Prophet"
   ]
  },
  {
   "cell_type": "code",
   "execution_count": 267,
   "id": "b3c18ec9",
   "metadata": {},
   "outputs": [],
   "source": [
    "eth = df.loc[:,'ETH-USD']"
   ]
  },
  {
   "cell_type": "code",
   "execution_count": 281,
   "id": "cafa7875",
   "metadata": {},
   "outputs": [
    {
     "data": {
      "text/html": [
       "<style type=\"text/css\">\n",
       "#T_8d850_row25_col1, #T_8d850_row31_col1 {\n",
       "  background-color: lightgreen;\n",
       "}\n",
       "</style>\n",
       "<table id=\"T_8d850\">\n",
       "  <thead>\n",
       "    <tr>\n",
       "      <th class=\"blank level0\" >&nbsp;</th>\n",
       "      <th id=\"T_8d850_level0_col0\" class=\"col_heading level0 col0\" >Description</th>\n",
       "      <th id=\"T_8d850_level0_col1\" class=\"col_heading level0 col1\" >Value</th>\n",
       "    </tr>\n",
       "  </thead>\n",
       "  <tbody>\n",
       "    <tr>\n",
       "      <th id=\"T_8d850_level0_row0\" class=\"row_heading level0 row0\" >0</th>\n",
       "      <td id=\"T_8d850_row0_col0\" class=\"data row0 col0\" >session_id</td>\n",
       "      <td id=\"T_8d850_row0_col1\" class=\"data row0 col1\" >123</td>\n",
       "    </tr>\n",
       "    <tr>\n",
       "      <th id=\"T_8d850_level0_row1\" class=\"row_heading level0 row1\" >1</th>\n",
       "      <td id=\"T_8d850_row1_col0\" class=\"data row1 col0\" >Target</td>\n",
       "      <td id=\"T_8d850_row1_col1\" class=\"data row1 col1\" >ETH-USD</td>\n",
       "    </tr>\n",
       "    <tr>\n",
       "      <th id=\"T_8d850_level0_row2\" class=\"row_heading level0 row2\" >2</th>\n",
       "      <td id=\"T_8d850_row2_col0\" class=\"data row2 col0\" >Approach</td>\n",
       "      <td id=\"T_8d850_row2_col1\" class=\"data row2 col1\" >Univariate</td>\n",
       "    </tr>\n",
       "    <tr>\n",
       "      <th id=\"T_8d850_level0_row3\" class=\"row_heading level0 row3\" >3</th>\n",
       "      <td id=\"T_8d850_row3_col0\" class=\"data row3 col0\" >Exogenous Variables</td>\n",
       "      <td id=\"T_8d850_row3_col1\" class=\"data row3 col1\" >Not Present</td>\n",
       "    </tr>\n",
       "    <tr>\n",
       "      <th id=\"T_8d850_level0_row4\" class=\"row_heading level0 row4\" >4</th>\n",
       "      <td id=\"T_8d850_row4_col0\" class=\"data row4 col0\" >Original data shape</td>\n",
       "      <td id=\"T_8d850_row4_col1\" class=\"data row4 col1\" >(365, 1)</td>\n",
       "    </tr>\n",
       "    <tr>\n",
       "      <th id=\"T_8d850_level0_row5\" class=\"row_heading level0 row5\" >5</th>\n",
       "      <td id=\"T_8d850_row5_col0\" class=\"data row5 col0\" >Transformed data shape</td>\n",
       "      <td id=\"T_8d850_row5_col1\" class=\"data row5 col1\" >(365, 1)</td>\n",
       "    </tr>\n",
       "    <tr>\n",
       "      <th id=\"T_8d850_level0_row6\" class=\"row_heading level0 row6\" >6</th>\n",
       "      <td id=\"T_8d850_row6_col0\" class=\"data row6 col0\" >Transformed train set shape</td>\n",
       "      <td id=\"T_8d850_row6_col1\" class=\"data row6 col1\" >(335, 1)</td>\n",
       "    </tr>\n",
       "    <tr>\n",
       "      <th id=\"T_8d850_level0_row7\" class=\"row_heading level0 row7\" >7</th>\n",
       "      <td id=\"T_8d850_row7_col0\" class=\"data row7 col0\" >Transformed test set shape</td>\n",
       "      <td id=\"T_8d850_row7_col1\" class=\"data row7 col1\" >(30, 1)</td>\n",
       "    </tr>\n",
       "    <tr>\n",
       "      <th id=\"T_8d850_level0_row8\" class=\"row_heading level0 row8\" >8</th>\n",
       "      <td id=\"T_8d850_row8_col0\" class=\"data row8 col0\" >Rows with missing values</td>\n",
       "      <td id=\"T_8d850_row8_col1\" class=\"data row8 col1\" >0.0%</td>\n",
       "    </tr>\n",
       "    <tr>\n",
       "      <th id=\"T_8d850_level0_row9\" class=\"row_heading level0 row9\" >9</th>\n",
       "      <td id=\"T_8d850_row9_col0\" class=\"data row9 col0\" >Fold Generator</td>\n",
       "      <td id=\"T_8d850_row9_col1\" class=\"data row9 col1\" >ExpandingWindowSplitter</td>\n",
       "    </tr>\n",
       "    <tr>\n",
       "      <th id=\"T_8d850_level0_row10\" class=\"row_heading level0 row10\" >10</th>\n",
       "      <td id=\"T_8d850_row10_col0\" class=\"data row10 col0\" >Fold Number</td>\n",
       "      <td id=\"T_8d850_row10_col1\" class=\"data row10 col1\" >3</td>\n",
       "    </tr>\n",
       "    <tr>\n",
       "      <th id=\"T_8d850_level0_row11\" class=\"row_heading level0 row11\" >11</th>\n",
       "      <td id=\"T_8d850_row11_col0\" class=\"data row11 col0\" >Enforce Prediction Interval</td>\n",
       "      <td id=\"T_8d850_row11_col1\" class=\"data row11 col1\" >False</td>\n",
       "    </tr>\n",
       "    <tr>\n",
       "      <th id=\"T_8d850_level0_row12\" class=\"row_heading level0 row12\" >12</th>\n",
       "      <td id=\"T_8d850_row12_col0\" class=\"data row12 col0\" >Splits used for hyperparameters</td>\n",
       "      <td id=\"T_8d850_row12_col1\" class=\"data row12 col1\" >all</td>\n",
       "    </tr>\n",
       "    <tr>\n",
       "      <th id=\"T_8d850_level0_row13\" class=\"row_heading level0 row13\" >13</th>\n",
       "      <td id=\"T_8d850_row13_col0\" class=\"data row13 col0\" >User Defined Seasonal Period(s)</td>\n",
       "      <td id=\"T_8d850_row13_col1\" class=\"data row13 col1\" >D</td>\n",
       "    </tr>\n",
       "    <tr>\n",
       "      <th id=\"T_8d850_level0_row14\" class=\"row_heading level0 row14\" >14</th>\n",
       "      <td id=\"T_8d850_row14_col0\" class=\"data row14 col0\" >Ignore Seasonality Test</td>\n",
       "      <td id=\"T_8d850_row14_col1\" class=\"data row14 col1\" >False</td>\n",
       "    </tr>\n",
       "    <tr>\n",
       "      <th id=\"T_8d850_level0_row15\" class=\"row_heading level0 row15\" >15</th>\n",
       "      <td id=\"T_8d850_row15_col0\" class=\"data row15 col0\" >Seasonality Detection Algo</td>\n",
       "      <td id=\"T_8d850_row15_col1\" class=\"data row15 col1\" >user_defined</td>\n",
       "    </tr>\n",
       "    <tr>\n",
       "      <th id=\"T_8d850_level0_row16\" class=\"row_heading level0 row16\" >16</th>\n",
       "      <td id=\"T_8d850_row16_col0\" class=\"data row16 col0\" >Max Period to Consider</td>\n",
       "      <td id=\"T_8d850_row16_col1\" class=\"data row16 col1\" >60</td>\n",
       "    </tr>\n",
       "    <tr>\n",
       "      <th id=\"T_8d850_level0_row17\" class=\"row_heading level0 row17\" >17</th>\n",
       "      <td id=\"T_8d850_row17_col0\" class=\"data row17 col0\" >Seasonal Period(s) Tested</td>\n",
       "      <td id=\"T_8d850_row17_col1\" class=\"data row17 col1\" >[7]</td>\n",
       "    </tr>\n",
       "    <tr>\n",
       "      <th id=\"T_8d850_level0_row18\" class=\"row_heading level0 row18\" >18</th>\n",
       "      <td id=\"T_8d850_row18_col0\" class=\"data row18 col0\" >Significant Seasonal Period(s)</td>\n",
       "      <td id=\"T_8d850_row18_col1\" class=\"data row18 col1\" >[7]</td>\n",
       "    </tr>\n",
       "    <tr>\n",
       "      <th id=\"T_8d850_level0_row19\" class=\"row_heading level0 row19\" >19</th>\n",
       "      <td id=\"T_8d850_row19_col0\" class=\"data row19 col0\" >Significant Seasonal Period(s) without Harmonics</td>\n",
       "      <td id=\"T_8d850_row19_col1\" class=\"data row19 col1\" >[7]</td>\n",
       "    </tr>\n",
       "    <tr>\n",
       "      <th id=\"T_8d850_level0_row20\" class=\"row_heading level0 row20\" >20</th>\n",
       "      <td id=\"T_8d850_row20_col0\" class=\"data row20 col0\" >Remove Harmonics</td>\n",
       "      <td id=\"T_8d850_row20_col1\" class=\"data row20 col1\" >False</td>\n",
       "    </tr>\n",
       "    <tr>\n",
       "      <th id=\"T_8d850_level0_row21\" class=\"row_heading level0 row21\" >21</th>\n",
       "      <td id=\"T_8d850_row21_col0\" class=\"data row21 col0\" >Harmonics Order Method</td>\n",
       "      <td id=\"T_8d850_row21_col1\" class=\"data row21 col1\" >harmonic_max</td>\n",
       "    </tr>\n",
       "    <tr>\n",
       "      <th id=\"T_8d850_level0_row22\" class=\"row_heading level0 row22\" >22</th>\n",
       "      <td id=\"T_8d850_row22_col0\" class=\"data row22 col0\" >Num Seasonalities to Use</td>\n",
       "      <td id=\"T_8d850_row22_col1\" class=\"data row22 col1\" >1</td>\n",
       "    </tr>\n",
       "    <tr>\n",
       "      <th id=\"T_8d850_level0_row23\" class=\"row_heading level0 row23\" >23</th>\n",
       "      <td id=\"T_8d850_row23_col0\" class=\"data row23 col0\" >All Seasonalities to Use</td>\n",
       "      <td id=\"T_8d850_row23_col1\" class=\"data row23 col1\" >[7]</td>\n",
       "    </tr>\n",
       "    <tr>\n",
       "      <th id=\"T_8d850_level0_row24\" class=\"row_heading level0 row24\" >24</th>\n",
       "      <td id=\"T_8d850_row24_col0\" class=\"data row24 col0\" >Primary Seasonality</td>\n",
       "      <td id=\"T_8d850_row24_col1\" class=\"data row24 col1\" >7</td>\n",
       "    </tr>\n",
       "    <tr>\n",
       "      <th id=\"T_8d850_level0_row25\" class=\"row_heading level0 row25\" >25</th>\n",
       "      <td id=\"T_8d850_row25_col0\" class=\"data row25 col0\" >Seasonality Present</td>\n",
       "      <td id=\"T_8d850_row25_col1\" class=\"data row25 col1\" >True</td>\n",
       "    </tr>\n",
       "    <tr>\n",
       "      <th id=\"T_8d850_level0_row26\" class=\"row_heading level0 row26\" >26</th>\n",
       "      <td id=\"T_8d850_row26_col0\" class=\"data row26 col0\" >Seasonality Type</td>\n",
       "      <td id=\"T_8d850_row26_col1\" class=\"data row26 col1\" >mul</td>\n",
       "    </tr>\n",
       "    <tr>\n",
       "      <th id=\"T_8d850_level0_row27\" class=\"row_heading level0 row27\" >27</th>\n",
       "      <td id=\"T_8d850_row27_col0\" class=\"data row27 col0\" >Target Strictly Positive</td>\n",
       "      <td id=\"T_8d850_row27_col1\" class=\"data row27 col1\" >True</td>\n",
       "    </tr>\n",
       "    <tr>\n",
       "      <th id=\"T_8d850_level0_row28\" class=\"row_heading level0 row28\" >28</th>\n",
       "      <td id=\"T_8d850_row28_col0\" class=\"data row28 col0\" >Target White Noise</td>\n",
       "      <td id=\"T_8d850_row28_col1\" class=\"data row28 col1\" >No</td>\n",
       "    </tr>\n",
       "    <tr>\n",
       "      <th id=\"T_8d850_level0_row29\" class=\"row_heading level0 row29\" >29</th>\n",
       "      <td id=\"T_8d850_row29_col0\" class=\"data row29 col0\" >Recommended d</td>\n",
       "      <td id=\"T_8d850_row29_col1\" class=\"data row29 col1\" >1</td>\n",
       "    </tr>\n",
       "    <tr>\n",
       "      <th id=\"T_8d850_level0_row30\" class=\"row_heading level0 row30\" >30</th>\n",
       "      <td id=\"T_8d850_row30_col0\" class=\"data row30 col0\" >Recommended Seasonal D</td>\n",
       "      <td id=\"T_8d850_row30_col1\" class=\"data row30 col1\" >0</td>\n",
       "    </tr>\n",
       "    <tr>\n",
       "      <th id=\"T_8d850_level0_row31\" class=\"row_heading level0 row31\" >31</th>\n",
       "      <td id=\"T_8d850_row31_col0\" class=\"data row31 col0\" >Preprocess</td>\n",
       "      <td id=\"T_8d850_row31_col1\" class=\"data row31 col1\" >True</td>\n",
       "    </tr>\n",
       "    <tr>\n",
       "      <th id=\"T_8d850_level0_row32\" class=\"row_heading level0 row32\" >32</th>\n",
       "      <td id=\"T_8d850_row32_col0\" class=\"data row32 col0\" >Numerical Imputation (Target)</td>\n",
       "      <td id=\"T_8d850_row32_col1\" class=\"data row32 col1\" >drift</td>\n",
       "    </tr>\n",
       "    <tr>\n",
       "      <th id=\"T_8d850_level0_row33\" class=\"row_heading level0 row33\" >33</th>\n",
       "      <td id=\"T_8d850_row33_col0\" class=\"data row33 col0\" >Transformation (Target)</td>\n",
       "      <td id=\"T_8d850_row33_col1\" class=\"data row33 col1\" >None</td>\n",
       "    </tr>\n",
       "    <tr>\n",
       "      <th id=\"T_8d850_level0_row34\" class=\"row_heading level0 row34\" >34</th>\n",
       "      <td id=\"T_8d850_row34_col0\" class=\"data row34 col0\" >Scaling (Target)</td>\n",
       "      <td id=\"T_8d850_row34_col1\" class=\"data row34 col1\" >None</td>\n",
       "    </tr>\n",
       "    <tr>\n",
       "      <th id=\"T_8d850_level0_row35\" class=\"row_heading level0 row35\" >35</th>\n",
       "      <td id=\"T_8d850_row35_col0\" class=\"data row35 col0\" >Feature Engineering (Target) - Reduced Regression</td>\n",
       "      <td id=\"T_8d850_row35_col1\" class=\"data row35 col1\" >False</td>\n",
       "    </tr>\n",
       "    <tr>\n",
       "      <th id=\"T_8d850_level0_row36\" class=\"row_heading level0 row36\" >36</th>\n",
       "      <td id=\"T_8d850_row36_col0\" class=\"data row36 col0\" >CPU Jobs</td>\n",
       "      <td id=\"T_8d850_row36_col1\" class=\"data row36 col1\" >-1</td>\n",
       "    </tr>\n",
       "    <tr>\n",
       "      <th id=\"T_8d850_level0_row37\" class=\"row_heading level0 row37\" >37</th>\n",
       "      <td id=\"T_8d850_row37_col0\" class=\"data row37 col0\" >Use GPU</td>\n",
       "      <td id=\"T_8d850_row37_col1\" class=\"data row37 col1\" >False</td>\n",
       "    </tr>\n",
       "    <tr>\n",
       "      <th id=\"T_8d850_level0_row38\" class=\"row_heading level0 row38\" >38</th>\n",
       "      <td id=\"T_8d850_row38_col0\" class=\"data row38 col0\" >Log Experiment</td>\n",
       "      <td id=\"T_8d850_row38_col1\" class=\"data row38 col1\" >False</td>\n",
       "    </tr>\n",
       "    <tr>\n",
       "      <th id=\"T_8d850_level0_row39\" class=\"row_heading level0 row39\" >39</th>\n",
       "      <td id=\"T_8d850_row39_col0\" class=\"data row39 col0\" >Experiment Name</td>\n",
       "      <td id=\"T_8d850_row39_col1\" class=\"data row39 col1\" >ts-default-name</td>\n",
       "    </tr>\n",
       "    <tr>\n",
       "      <th id=\"T_8d850_level0_row40\" class=\"row_heading level0 row40\" >40</th>\n",
       "      <td id=\"T_8d850_row40_col0\" class=\"data row40 col0\" >USI</td>\n",
       "      <td id=\"T_8d850_row40_col1\" class=\"data row40 col1\" >be11</td>\n",
       "    </tr>\n",
       "  </tbody>\n",
       "</table>\n"
      ],
      "text/plain": [
       "<pandas.io.formats.style.Styler at 0x1b9e4f255b0>"
      ]
     },
     "metadata": {},
     "output_type": "display_data"
    },
    {
     "data": {
      "text/html": [],
      "text/plain": [
       "<IPython.core.display.HTML object>"
      ]
     },
     "metadata": {},
     "output_type": "display_data"
    },
    {
     "data": {
      "text/html": [
       "<style type=\"text/css\">\n",
       "#T_663bb_row3_col0, #T_663bb_row3_col1, #T_663bb_row3_col2, #T_663bb_row3_col3, #T_663bb_row3_col4, #T_663bb_row3_col5, #T_663bb_row3_col6, #T_663bb_row3_col7 {\n",
       "  background: yellow;\n",
       "}\n",
       "</style>\n",
       "<table id=\"T_663bb\">\n",
       "  <thead>\n",
       "    <tr>\n",
       "      <th class=\"blank level0\" >&nbsp;</th>\n",
       "      <th id=\"T_663bb_level0_col0\" class=\"col_heading level0 col0\" >cutoff</th>\n",
       "      <th id=\"T_663bb_level0_col1\" class=\"col_heading level0 col1\" >MASE</th>\n",
       "      <th id=\"T_663bb_level0_col2\" class=\"col_heading level0 col2\" >RMSSE</th>\n",
       "      <th id=\"T_663bb_level0_col3\" class=\"col_heading level0 col3\" >MAE</th>\n",
       "      <th id=\"T_663bb_level0_col4\" class=\"col_heading level0 col4\" >RMSE</th>\n",
       "      <th id=\"T_663bb_level0_col5\" class=\"col_heading level0 col5\" >MAPE</th>\n",
       "      <th id=\"T_663bb_level0_col6\" class=\"col_heading level0 col6\" >SMAPE</th>\n",
       "      <th id=\"T_663bb_level0_col7\" class=\"col_heading level0 col7\" >R2</th>\n",
       "    </tr>\n",
       "  </thead>\n",
       "  <tbody>\n",
       "    <tr>\n",
       "      <th id=\"T_663bb_level0_row0\" class=\"row_heading level0 row0\" >0</th>\n",
       "      <td id=\"T_663bb_row0_col0\" class=\"data row0 col0\" >2024-12-31</td>\n",
       "      <td id=\"T_663bb_row0_col1\" class=\"data row0 col1\" >0.6248</td>\n",
       "      <td id=\"T_663bb_row0_col2\" class=\"data row0 col2\" >0.6184</td>\n",
       "      <td id=\"T_663bb_row0_col3\" class=\"data row0 col3\" >133.0295</td>\n",
       "      <td id=\"T_663bb_row0_col4\" class=\"data row0 col4\" >178.4661</td>\n",
       "      <td id=\"T_663bb_row0_col5\" class=\"data row0 col5\" >0.0388</td>\n",
       "      <td id=\"T_663bb_row0_col6\" class=\"data row0 col6\" >0.0400</td>\n",
       "      <td id=\"T_663bb_row0_col7\" class=\"data row0 col7\" >-0.3543</td>\n",
       "    </tr>\n",
       "    <tr>\n",
       "      <th id=\"T_663bb_level0_row1\" class=\"row_heading level0 row1\" >1</th>\n",
       "      <td id=\"T_663bb_row1_col0\" class=\"data row1 col0\" >2025-01-30</td>\n",
       "      <td id=\"T_663bb_row1_col1\" class=\"data row1 col1\" >2.1903</td>\n",
       "      <td id=\"T_663bb_row1_col2\" class=\"data row1 col2\" >1.7721</td>\n",
       "      <td id=\"T_663bb_row1_col3\" class=\"data row1 col3\" >457.1580</td>\n",
       "      <td id=\"T_663bb_row1_col4\" class=\"data row1 col4\" >498.8720</td>\n",
       "      <td id=\"T_663bb_row1_col5\" class=\"data row1 col5\" >0.1780</td>\n",
       "      <td id=\"T_663bb_row1_col6\" class=\"data row1 col6\" >0.1602</td>\n",
       "      <td id=\"T_663bb_row1_col7\" class=\"data row1 col7\" >-4.1251</td>\n",
       "    </tr>\n",
       "    <tr>\n",
       "      <th id=\"T_663bb_level0_row2\" class=\"row_heading level0 row2\" >2</th>\n",
       "      <td id=\"T_663bb_row2_col0\" class=\"data row2 col0\" >2025-03-01</td>\n",
       "      <td id=\"T_663bb_row2_col1\" class=\"data row2 col1\" >0.5114</td>\n",
       "      <td id=\"T_663bb_row2_col2\" class=\"data row2 col2\" >0.4591</td>\n",
       "      <td id=\"T_663bb_row2_col3\" class=\"data row2 col3\" >107.7391</td>\n",
       "      <td id=\"T_663bb_row2_col4\" class=\"data row2 col4\" >129.7990</td>\n",
       "      <td id=\"T_663bb_row2_col5\" class=\"data row2 col5\" >0.0531</td>\n",
       "      <td id=\"T_663bb_row2_col6\" class=\"data row2 col6\" >0.0537</td>\n",
       "      <td id=\"T_663bb_row2_col7\" class=\"data row2 col7\" >0.2676</td>\n",
       "    </tr>\n",
       "    <tr>\n",
       "      <th id=\"T_663bb_level0_row3\" class=\"row_heading level0 row3\" >Mean</th>\n",
       "      <td id=\"T_663bb_row3_col0\" class=\"data row3 col0\" >NaT</td>\n",
       "      <td id=\"T_663bb_row3_col1\" class=\"data row3 col1\" >1.1088</td>\n",
       "      <td id=\"T_663bb_row3_col2\" class=\"data row3 col2\" >0.9498</td>\n",
       "      <td id=\"T_663bb_row3_col3\" class=\"data row3 col3\" >232.6422</td>\n",
       "      <td id=\"T_663bb_row3_col4\" class=\"data row3 col4\" >269.0457</td>\n",
       "      <td id=\"T_663bb_row3_col5\" class=\"data row3 col5\" >0.0900</td>\n",
       "      <td id=\"T_663bb_row3_col6\" class=\"data row3 col6\" >0.0846</td>\n",
       "      <td id=\"T_663bb_row3_col7\" class=\"data row3 col7\" >-1.4039</td>\n",
       "    </tr>\n",
       "    <tr>\n",
       "      <th id=\"T_663bb_level0_row4\" class=\"row_heading level0 row4\" >SD</th>\n",
       "      <td id=\"T_663bb_row4_col0\" class=\"data row4 col0\" >NaT</td>\n",
       "      <td id=\"T_663bb_row4_col1\" class=\"data row4 col1\" >0.7661</td>\n",
       "      <td id=\"T_663bb_row4_col2\" class=\"data row4 col2\" >0.5850</td>\n",
       "      <td id=\"T_663bb_row4_col3\" class=\"data row4 col3\" >159.0920</td>\n",
       "      <td id=\"T_663bb_row4_col4\" class=\"data row4 col4\" >163.7217</td>\n",
       "      <td id=\"T_663bb_row4_col5\" class=\"data row4 col5\" >0.0625</td>\n",
       "      <td id=\"T_663bb_row4_col6\" class=\"data row4 col6\" >0.0537</td>\n",
       "      <td id=\"T_663bb_row4_col7\" class=\"data row4 col7\" >1.9408</td>\n",
       "    </tr>\n",
       "  </tbody>\n",
       "</table>\n"
      ],
      "text/plain": [
       "<pandas.io.formats.style.Styler at 0x1b9e4d1f0a0>"
      ]
     },
     "metadata": {},
     "output_type": "display_data"
    },
    {
     "data": {
      "text/html": [],
      "text/plain": [
       "<IPython.core.display.HTML object>"
      ]
     },
     "metadata": {},
     "output_type": "display_data"
    }
   ],
   "source": [
    "eth = df.loc[:,'ETH-USD']\n",
    "# Set up PyCaret environment\n",
    "s = setup(data=eth, \n",
    "          target = 'ETH-USD',\n",
    "          #transform_target='log',\n",
    "          fh=30,  # Forecast horizon\n",
    "          session_id=123,\n",
    "          fold_strategy='expanding',\n",
    "          seasonal_period='D',\n",
    "          #fold_spans=\"adaptive\",\n",
    "          numeric_imputation_target = 'drift')\n",
    "\n",
    "arima_1 = create_model('arima')\n"
   ]
  },
  {
   "cell_type": "code",
   "execution_count": 283,
   "id": "6ecffab2",
   "metadata": {},
   "outputs": [
    {
     "data": {
      "text/html": [],
      "text/plain": [
       "<IPython.core.display.HTML object>"
      ]
     },
     "metadata": {},
     "output_type": "display_data"
    },
    {
     "data": {
      "text/html": [
       "<style type=\"text/css\">\n",
       "#T_5655e_row3_col0, #T_5655e_row3_col1, #T_5655e_row3_col2, #T_5655e_row3_col3, #T_5655e_row3_col4, #T_5655e_row3_col5, #T_5655e_row3_col6, #T_5655e_row3_col7 {\n",
       "  background: yellow;\n",
       "}\n",
       "</style>\n",
       "<table id=\"T_5655e\">\n",
       "  <thead>\n",
       "    <tr>\n",
       "      <th class=\"blank level0\" >&nbsp;</th>\n",
       "      <th id=\"T_5655e_level0_col0\" class=\"col_heading level0 col0\" >cutoff</th>\n",
       "      <th id=\"T_5655e_level0_col1\" class=\"col_heading level0 col1\" >MASE</th>\n",
       "      <th id=\"T_5655e_level0_col2\" class=\"col_heading level0 col2\" >RMSSE</th>\n",
       "      <th id=\"T_5655e_level0_col3\" class=\"col_heading level0 col3\" >MAE</th>\n",
       "      <th id=\"T_5655e_level0_col4\" class=\"col_heading level0 col4\" >RMSE</th>\n",
       "      <th id=\"T_5655e_level0_col5\" class=\"col_heading level0 col5\" >MAPE</th>\n",
       "      <th id=\"T_5655e_level0_col6\" class=\"col_heading level0 col6\" >SMAPE</th>\n",
       "      <th id=\"T_5655e_level0_col7\" class=\"col_heading level0 col7\" >R2</th>\n",
       "    </tr>\n",
       "  </thead>\n",
       "  <tbody>\n",
       "    <tr>\n",
       "      <th id=\"T_5655e_level0_row0\" class=\"row_heading level0 row0\" >0</th>\n",
       "      <td id=\"T_5655e_row0_col0\" class=\"data row0 col0\" >2024-12-31</td>\n",
       "      <td id=\"T_5655e_row0_col1\" class=\"data row0 col1\" >0.5346</td>\n",
       "      <td id=\"T_5655e_row0_col2\" class=\"data row0 col2\" >0.5136</td>\n",
       "      <td id=\"T_5655e_row0_col3\" class=\"data row0 col3\" >113.8343</td>\n",
       "      <td id=\"T_5655e_row0_col4\" class=\"data row0 col4\" >148.2274</td>\n",
       "      <td id=\"T_5655e_row0_col5\" class=\"data row0 col5\" >0.0338</td>\n",
       "      <td id=\"T_5655e_row0_col6\" class=\"data row0 col6\" >0.0339</td>\n",
       "      <td id=\"T_5655e_row0_col7\" class=\"data row0 col7\" >0.0657</td>\n",
       "    </tr>\n",
       "    <tr>\n",
       "      <th id=\"T_5655e_level0_row1\" class=\"row_heading level0 row1\" >1</th>\n",
       "      <td id=\"T_5655e_row1_col0\" class=\"data row1 col0\" >2025-01-30</td>\n",
       "      <td id=\"T_5655e_row1_col1\" class=\"data row1 col1\" >2.5629</td>\n",
       "      <td id=\"T_5655e_row1_col2\" class=\"data row1 col2\" >2.0252</td>\n",
       "      <td id=\"T_5655e_row1_col3\" class=\"data row1 col3\" >534.9346</td>\n",
       "      <td id=\"T_5655e_row1_col4\" class=\"data row1 col4\" >570.1375</td>\n",
       "      <td id=\"T_5655e_row1_col5\" class=\"data row1 col5\" >0.2075</td>\n",
       "      <td id=\"T_5655e_row1_col6\" class=\"data row1 col6\" >0.1849</td>\n",
       "      <td id=\"T_5655e_row1_col7\" class=\"data row1 col7\" >-5.6939</td>\n",
       "    </tr>\n",
       "    <tr>\n",
       "      <th id=\"T_5655e_level0_row2\" class=\"row_heading level0 row2\" >2</th>\n",
       "      <td id=\"T_5655e_row2_col0\" class=\"data row2 col0\" >2025-03-01</td>\n",
       "      <td id=\"T_5655e_row2_col1\" class=\"data row2 col1\" >1.0302</td>\n",
       "      <td id=\"T_5655e_row2_col2\" class=\"data row2 col2\" >0.8711</td>\n",
       "      <td id=\"T_5655e_row2_col3\" class=\"data row2 col3\" >217.0351</td>\n",
       "      <td id=\"T_5655e_row2_col4\" class=\"data row2 col4\" >246.2844</td>\n",
       "      <td id=\"T_5655e_row2_col5\" class=\"data row2 col5\" >0.1115</td>\n",
       "      <td id=\"T_5655e_row2_col6\" class=\"data row2 col6\" >0.1045</td>\n",
       "      <td id=\"T_5655e_row2_col7\" class=\"data row2 col7\" >-1.6367</td>\n",
       "    </tr>\n",
       "    <tr>\n",
       "      <th id=\"T_5655e_level0_row3\" class=\"row_heading level0 row3\" >Mean</th>\n",
       "      <td id=\"T_5655e_row3_col0\" class=\"data row3 col0\" >NaT</td>\n",
       "      <td id=\"T_5655e_row3_col1\" class=\"data row3 col1\" >1.3759</td>\n",
       "      <td id=\"T_5655e_row3_col2\" class=\"data row3 col2\" >1.1366</td>\n",
       "      <td id=\"T_5655e_row3_col3\" class=\"data row3 col3\" >288.6013</td>\n",
       "      <td id=\"T_5655e_row3_col4\" class=\"data row3 col4\" >321.5498</td>\n",
       "      <td id=\"T_5655e_row3_col5\" class=\"data row3 col5\" >0.1176</td>\n",
       "      <td id=\"T_5655e_row3_col6\" class=\"data row3 col6\" >0.1078</td>\n",
       "      <td id=\"T_5655e_row3_col7\" class=\"data row3 col7\" >-2.4216</td>\n",
       "    </tr>\n",
       "    <tr>\n",
       "      <th id=\"T_5655e_level0_row4\" class=\"row_heading level0 row4\" >SD</th>\n",
       "      <td id=\"T_5655e_row4_col0\" class=\"data row4 col0\" >NaT</td>\n",
       "      <td id=\"T_5655e_row4_col1\" class=\"data row4 col1\" >0.8634</td>\n",
       "      <td id=\"T_5655e_row4_col2\" class=\"data row4 col2\" >0.6450</td>\n",
       "      <td id=\"T_5655e_row4_col3\" class=\"data row4 col3\" >179.2069</td>\n",
       "      <td id=\"T_5655e_row4_col4\" class=\"data row4 col4\" >180.2789</td>\n",
       "      <td id=\"T_5655e_row4_col5\" class=\"data row4 col5\" >0.0711</td>\n",
       "      <td id=\"T_5655e_row4_col6\" class=\"data row4 col6\" >0.0617</td>\n",
       "      <td id=\"T_5655e_row4_col7\" class=\"data row4 col7\" >2.4160</td>\n",
       "    </tr>\n",
       "  </tbody>\n",
       "</table>\n"
      ],
      "text/plain": [
       "<pandas.io.formats.style.Styler at 0x1b9c86875b0>"
      ]
     },
     "metadata": {},
     "output_type": "display_data"
    },
    {
     "data": {
      "text/html": [],
      "text/plain": [
       "<IPython.core.display.HTML object>"
      ]
     },
     "metadata": {},
     "output_type": "display_data"
    },
    {
     "data": {
      "text/html": [],
      "text/plain": [
       "<IPython.core.display.HTML object>"
      ]
     },
     "metadata": {},
     "output_type": "display_data"
    },
    {
     "data": {
      "text/html": [
       "<style type=\"text/css\">\n",
       "#T_5e17a_row3_col0, #T_5e17a_row3_col1, #T_5e17a_row3_col2, #T_5e17a_row3_col3, #T_5e17a_row3_col4, #T_5e17a_row3_col5, #T_5e17a_row3_col6, #T_5e17a_row3_col7 {\n",
       "  background: yellow;\n",
       "}\n",
       "</style>\n",
       "<table id=\"T_5e17a\">\n",
       "  <thead>\n",
       "    <tr>\n",
       "      <th class=\"blank level0\" >&nbsp;</th>\n",
       "      <th id=\"T_5e17a_level0_col0\" class=\"col_heading level0 col0\" >cutoff</th>\n",
       "      <th id=\"T_5e17a_level0_col1\" class=\"col_heading level0 col1\" >MASE</th>\n",
       "      <th id=\"T_5e17a_level0_col2\" class=\"col_heading level0 col2\" >RMSSE</th>\n",
       "      <th id=\"T_5e17a_level0_col3\" class=\"col_heading level0 col3\" >MAE</th>\n",
       "      <th id=\"T_5e17a_level0_col4\" class=\"col_heading level0 col4\" >RMSE</th>\n",
       "      <th id=\"T_5e17a_level0_col5\" class=\"col_heading level0 col5\" >MAPE</th>\n",
       "      <th id=\"T_5e17a_level0_col6\" class=\"col_heading level0 col6\" >SMAPE</th>\n",
       "      <th id=\"T_5e17a_level0_col7\" class=\"col_heading level0 col7\" >R2</th>\n",
       "    </tr>\n",
       "  </thead>\n",
       "  <tbody>\n",
       "    <tr>\n",
       "      <th id=\"T_5e17a_level0_row0\" class=\"row_heading level0 row0\" >0</th>\n",
       "      <td id=\"T_5e17a_row0_col0\" class=\"data row0 col0\" >2024-12-31</td>\n",
       "      <td id=\"T_5e17a_row0_col1\" class=\"data row0 col1\" >0.5846</td>\n",
       "      <td id=\"T_5e17a_row0_col2\" class=\"data row0 col2\" >0.5753</td>\n",
       "      <td id=\"T_5e17a_row0_col3\" class=\"data row0 col3\" >124.4678</td>\n",
       "      <td id=\"T_5e17a_row0_col4\" class=\"data row0 col4\" >166.0340</td>\n",
       "      <td id=\"T_5e17a_row0_col5\" class=\"data row0 col5\" >0.0368</td>\n",
       "      <td id=\"T_5e17a_row0_col6\" class=\"data row0 col6\" >0.0371</td>\n",
       "      <td id=\"T_5e17a_row0_col7\" class=\"data row0 col7\" >-0.1722</td>\n",
       "    </tr>\n",
       "    <tr>\n",
       "      <th id=\"T_5e17a_level0_row1\" class=\"row_heading level0 row1\" >1</th>\n",
       "      <td id=\"T_5e17a_row1_col0\" class=\"data row1 col0\" >2025-01-30</td>\n",
       "      <td id=\"T_5e17a_row1_col1\" class=\"data row1 col1\" >2.0084</td>\n",
       "      <td id=\"T_5e17a_row1_col2\" class=\"data row1 col2\" >1.6608</td>\n",
       "      <td id=\"T_5e17a_row1_col3\" class=\"data row1 col3\" >419.1861</td>\n",
       "      <td id=\"T_5e17a_row1_col4\" class=\"data row1 col4\" >467.5588</td>\n",
       "      <td id=\"T_5e17a_row1_col5\" class=\"data row1 col5\" >0.1641</td>\n",
       "      <td id=\"T_5e17a_row1_col6\" class=\"data row1 col6\" >0.1482</td>\n",
       "      <td id=\"T_5e17a_row1_col7\" class=\"data row1 col7\" >-3.5019</td>\n",
       "    </tr>\n",
       "    <tr>\n",
       "      <th id=\"T_5e17a_level0_row2\" class=\"row_heading level0 row2\" >2</th>\n",
       "      <td id=\"T_5e17a_row2_col0\" class=\"data row2 col0\" >2025-03-01</td>\n",
       "      <td id=\"T_5e17a_row2_col1\" class=\"data row2 col1\" >0.8645</td>\n",
       "      <td id=\"T_5e17a_row2_col2\" class=\"data row2 col2\" >0.7412</td>\n",
       "      <td id=\"T_5e17a_row2_col3\" class=\"data row2 col3\" >182.1284</td>\n",
       "      <td id=\"T_5e17a_row2_col4\" class=\"data row2 col4\" >209.5703</td>\n",
       "      <td id=\"T_5e17a_row2_col5\" class=\"data row2 col5\" >0.0933</td>\n",
       "      <td id=\"T_5e17a_row2_col6\" class=\"data row2 col6\" >0.0885</td>\n",
       "      <td id=\"T_5e17a_row2_col7\" class=\"data row2 col7\" >-0.9092</td>\n",
       "    </tr>\n",
       "    <tr>\n",
       "      <th id=\"T_5e17a_level0_row3\" class=\"row_heading level0 row3\" >Mean</th>\n",
       "      <td id=\"T_5e17a_row3_col0\" class=\"data row3 col0\" >NaT</td>\n",
       "      <td id=\"T_5e17a_row3_col1\" class=\"data row3 col1\" >1.1525</td>\n",
       "      <td id=\"T_5e17a_row3_col2\" class=\"data row3 col2\" >0.9925</td>\n",
       "      <td id=\"T_5e17a_row3_col3\" class=\"data row3 col3\" >241.9274</td>\n",
       "      <td id=\"T_5e17a_row3_col4\" class=\"data row3 col4\" >281.0544</td>\n",
       "      <td id=\"T_5e17a_row3_col5\" class=\"data row3 col5\" >0.0981</td>\n",
       "      <td id=\"T_5e17a_row3_col6\" class=\"data row3 col6\" >0.0913</td>\n",
       "      <td id=\"T_5e17a_row3_col7\" class=\"data row3 col7\" >-1.5278</td>\n",
       "    </tr>\n",
       "    <tr>\n",
       "      <th id=\"T_5e17a_level0_row4\" class=\"row_heading level0 row4\" >SD</th>\n",
       "      <td id=\"T_5e17a_row4_col0\" class=\"data row4 col0\" >NaT</td>\n",
       "      <td id=\"T_5e17a_row4_col1\" class=\"data row4 col1\" >0.6159</td>\n",
       "      <td id=\"T_5e17a_row4_col2\" class=\"data row4 col2\" >0.4774</td>\n",
       "      <td id=\"T_5e17a_row4_col3\" class=\"data row4 col3\" >127.5321</td>\n",
       "      <td id=\"T_5e17a_row4_col4\" class=\"data row4 col4\" >133.0709</td>\n",
       "      <td id=\"T_5e17a_row4_col5\" class=\"data row4 col5\" >0.0521</td>\n",
       "      <td id=\"T_5e17a_row4_col6\" class=\"data row4 col6\" >0.0454</td>\n",
       "      <td id=\"T_5e17a_row4_col7\" class=\"data row4 col7\" >1.4280</td>\n",
       "    </tr>\n",
       "  </tbody>\n",
       "</table>\n"
      ],
      "text/plain": [
       "<pandas.io.formats.style.Styler at 0x1b9e4bb5790>"
      ]
     },
     "metadata": {},
     "output_type": "display_data"
    },
    {
     "data": {
      "text/html": [],
      "text/plain": [
       "<IPython.core.display.HTML object>"
      ]
     },
     "metadata": {},
     "output_type": "display_data"
    },
    {
     "name": "stdout",
     "output_type": "stream",
     "text": [
      "Fitting 3 folds for each of 10 candidates, totalling 30 fits\n"
     ]
    },
    {
     "name": "stderr",
     "output_type": "stream",
     "text": [
      "[Parallel(n_jobs=-1)]: Using backend LokyBackend with 8 concurrent workers.\n",
      "[Parallel(n_jobs=-1)]: Done  30 out of  30 | elapsed:    2.0s finished\n"
     ]
    },
    {
     "data": {
      "application/vnd.plotly.v1+json": {
       "config": {
        "plotlyServerURL": "https://plot.ly"
       },
       "data": [
        {
         "line": {
          "color": "rgb(31, 119, 180)",
          "width": 2
         },
         "marker": {
          "color": "rgb(31, 119, 180)",
          "size": 5
         },
         "mode": "lines+markers",
         "name": "ETH-USD",
         "type": "scattergl",
         "x": [
          "2024-05-01T00:00:00",
          "2024-05-02T00:00:00",
          "2024-05-03T00:00:00",
          "2024-05-04T00:00:00",
          "2024-05-05T00:00:00",
          "2024-05-06T00:00:00",
          "2024-05-07T00:00:00",
          "2024-05-08T00:00:00",
          "2024-05-09T00:00:00",
          "2024-05-10T00:00:00",
          "2024-05-11T00:00:00",
          "2024-05-12T00:00:00",
          "2024-05-13T00:00:00",
          "2024-05-14T00:00:00",
          "2024-05-15T00:00:00",
          "2024-05-16T00:00:00",
          "2024-05-17T00:00:00",
          "2024-05-18T00:00:00",
          "2024-05-19T00:00:00",
          "2024-05-20T00:00:00",
          "2024-05-21T00:00:00",
          "2024-05-22T00:00:00",
          "2024-05-23T00:00:00",
          "2024-05-24T00:00:00",
          "2024-05-25T00:00:00",
          "2024-05-26T00:00:00",
          "2024-05-27T00:00:00",
          "2024-05-28T00:00:00",
          "2024-05-29T00:00:00",
          "2024-05-30T00:00:00",
          "2024-05-31T00:00:00",
          "2024-06-01T00:00:00",
          "2024-06-02T00:00:00",
          "2024-06-03T00:00:00",
          "2024-06-04T00:00:00",
          "2024-06-05T00:00:00",
          "2024-06-06T00:00:00",
          "2024-06-07T00:00:00",
          "2024-06-08T00:00:00",
          "2024-06-09T00:00:00",
          "2024-06-10T00:00:00",
          "2024-06-11T00:00:00",
          "2024-06-12T00:00:00",
          "2024-06-13T00:00:00",
          "2024-06-14T00:00:00",
          "2024-06-15T00:00:00",
          "2024-06-16T00:00:00",
          "2024-06-17T00:00:00",
          "2024-06-18T00:00:00",
          "2024-06-19T00:00:00",
          "2024-06-20T00:00:00",
          "2024-06-21T00:00:00",
          "2024-06-22T00:00:00",
          "2024-06-23T00:00:00",
          "2024-06-24T00:00:00",
          "2024-06-25T00:00:00",
          "2024-06-26T00:00:00",
          "2024-06-27T00:00:00",
          "2024-06-28T00:00:00",
          "2024-06-29T00:00:00",
          "2024-06-30T00:00:00",
          "2024-07-01T00:00:00",
          "2024-07-02T00:00:00",
          "2024-07-03T00:00:00",
          "2024-07-04T00:00:00",
          "2024-07-05T00:00:00",
          "2024-07-06T00:00:00",
          "2024-07-07T00:00:00",
          "2024-07-08T00:00:00",
          "2024-07-09T00:00:00",
          "2024-07-10T00:00:00",
          "2024-07-11T00:00:00",
          "2024-07-12T00:00:00",
          "2024-07-13T00:00:00",
          "2024-07-14T00:00:00",
          "2024-07-15T00:00:00",
          "2024-07-16T00:00:00",
          "2024-07-17T00:00:00",
          "2024-07-18T00:00:00",
          "2024-07-19T00:00:00",
          "2024-07-20T00:00:00",
          "2024-07-21T00:00:00",
          "2024-07-22T00:00:00",
          "2024-07-23T00:00:00",
          "2024-07-24T00:00:00",
          "2024-07-25T00:00:00",
          "2024-07-26T00:00:00",
          "2024-07-27T00:00:00",
          "2024-07-28T00:00:00",
          "2024-07-29T00:00:00",
          "2024-07-30T00:00:00",
          "2024-07-31T00:00:00",
          "2024-08-01T00:00:00",
          "2024-08-02T00:00:00",
          "2024-08-03T00:00:00",
          "2024-08-04T00:00:00",
          "2024-08-05T00:00:00",
          "2024-08-06T00:00:00",
          "2024-08-07T00:00:00",
          "2024-08-08T00:00:00",
          "2024-08-09T00:00:00",
          "2024-08-10T00:00:00",
          "2024-08-11T00:00:00",
          "2024-08-12T00:00:00",
          "2024-08-13T00:00:00",
          "2024-08-14T00:00:00",
          "2024-08-15T00:00:00",
          "2024-08-16T00:00:00",
          "2024-08-17T00:00:00",
          "2024-08-18T00:00:00",
          "2024-08-19T00:00:00",
          "2024-08-20T00:00:00",
          "2024-08-21T00:00:00",
          "2024-08-22T00:00:00",
          "2024-08-23T00:00:00",
          "2024-08-24T00:00:00",
          "2024-08-25T00:00:00",
          "2024-08-26T00:00:00",
          "2024-08-27T00:00:00",
          "2024-08-28T00:00:00",
          "2024-08-29T00:00:00",
          "2024-08-30T00:00:00",
          "2024-08-31T00:00:00",
          "2024-09-01T00:00:00",
          "2024-09-02T00:00:00",
          "2024-09-03T00:00:00",
          "2024-09-04T00:00:00",
          "2024-09-05T00:00:00",
          "2024-09-06T00:00:00",
          "2024-09-07T00:00:00",
          "2024-09-08T00:00:00",
          "2024-09-09T00:00:00",
          "2024-09-10T00:00:00",
          "2024-09-11T00:00:00",
          "2024-09-12T00:00:00",
          "2024-09-13T00:00:00",
          "2024-09-14T00:00:00",
          "2024-09-15T00:00:00",
          "2024-09-16T00:00:00",
          "2024-09-17T00:00:00",
          "2024-09-18T00:00:00",
          "2024-09-19T00:00:00",
          "2024-09-20T00:00:00",
          "2024-09-21T00:00:00",
          "2024-09-22T00:00:00",
          "2024-09-23T00:00:00",
          "2024-09-24T00:00:00",
          "2024-09-25T00:00:00",
          "2024-09-26T00:00:00",
          "2024-09-27T00:00:00",
          "2024-09-28T00:00:00",
          "2024-09-29T00:00:00",
          "2024-09-30T00:00:00",
          "2024-10-01T00:00:00",
          "2024-10-02T00:00:00",
          "2024-10-03T00:00:00",
          "2024-10-04T00:00:00",
          "2024-10-05T00:00:00",
          "2024-10-06T00:00:00",
          "2024-10-07T00:00:00",
          "2024-10-08T00:00:00",
          "2024-10-09T00:00:00",
          "2024-10-10T00:00:00",
          "2024-10-11T00:00:00",
          "2024-10-12T00:00:00",
          "2024-10-13T00:00:00",
          "2024-10-14T00:00:00",
          "2024-10-15T00:00:00",
          "2024-10-16T00:00:00",
          "2024-10-17T00:00:00",
          "2024-10-18T00:00:00",
          "2024-10-19T00:00:00",
          "2024-10-20T00:00:00",
          "2024-10-21T00:00:00",
          "2024-10-22T00:00:00",
          "2024-10-23T00:00:00",
          "2024-10-24T00:00:00",
          "2024-10-25T00:00:00",
          "2024-10-26T00:00:00",
          "2024-10-27T00:00:00",
          "2024-10-28T00:00:00",
          "2024-10-29T00:00:00",
          "2024-10-30T00:00:00",
          "2024-10-31T00:00:00",
          "2024-11-01T00:00:00",
          "2024-11-02T00:00:00",
          "2024-11-03T00:00:00",
          "2024-11-04T00:00:00",
          "2024-11-05T00:00:00",
          "2024-11-06T00:00:00",
          "2024-11-07T00:00:00",
          "2024-11-08T00:00:00",
          "2024-11-09T00:00:00",
          "2024-11-10T00:00:00",
          "2024-11-11T00:00:00",
          "2024-11-12T00:00:00",
          "2024-11-13T00:00:00",
          "2024-11-14T00:00:00",
          "2024-11-15T00:00:00",
          "2024-11-16T00:00:00",
          "2024-11-17T00:00:00",
          "2024-11-18T00:00:00",
          "2024-11-19T00:00:00",
          "2024-11-20T00:00:00",
          "2024-11-21T00:00:00",
          "2024-11-22T00:00:00",
          "2024-11-23T00:00:00",
          "2024-11-24T00:00:00",
          "2024-11-25T00:00:00",
          "2024-11-26T00:00:00",
          "2024-11-27T00:00:00",
          "2024-11-28T00:00:00",
          "2024-11-29T00:00:00",
          "2024-11-30T00:00:00",
          "2024-12-01T00:00:00",
          "2024-12-02T00:00:00",
          "2024-12-03T00:00:00",
          "2024-12-04T00:00:00",
          "2024-12-05T00:00:00",
          "2024-12-06T00:00:00",
          "2024-12-07T00:00:00",
          "2024-12-08T00:00:00",
          "2024-12-09T00:00:00",
          "2024-12-10T00:00:00",
          "2024-12-11T00:00:00",
          "2024-12-12T00:00:00",
          "2024-12-13T00:00:00",
          "2024-12-14T00:00:00",
          "2024-12-15T00:00:00",
          "2024-12-16T00:00:00",
          "2024-12-17T00:00:00",
          "2024-12-18T00:00:00",
          "2024-12-19T00:00:00",
          "2024-12-20T00:00:00",
          "2024-12-21T00:00:00",
          "2024-12-22T00:00:00",
          "2024-12-23T00:00:00",
          "2024-12-24T00:00:00",
          "2024-12-25T00:00:00",
          "2024-12-26T00:00:00",
          "2024-12-27T00:00:00",
          "2024-12-28T00:00:00",
          "2024-12-29T00:00:00",
          "2024-12-30T00:00:00",
          "2024-12-31T00:00:00",
          "2025-01-01T00:00:00",
          "2025-01-02T00:00:00",
          "2025-01-03T00:00:00",
          "2025-01-04T00:00:00",
          "2025-01-05T00:00:00",
          "2025-01-06T00:00:00",
          "2025-01-07T00:00:00",
          "2025-01-08T00:00:00",
          "2025-01-09T00:00:00",
          "2025-01-10T00:00:00",
          "2025-01-11T00:00:00",
          "2025-01-12T00:00:00",
          "2025-01-13T00:00:00",
          "2025-01-14T00:00:00",
          "2025-01-15T00:00:00",
          "2025-01-16T00:00:00",
          "2025-01-17T00:00:00",
          "2025-01-18T00:00:00",
          "2025-01-19T00:00:00",
          "2025-01-20T00:00:00",
          "2025-01-21T00:00:00",
          "2025-01-22T00:00:00",
          "2025-01-23T00:00:00",
          "2025-01-24T00:00:00",
          "2025-01-25T00:00:00",
          "2025-01-26T00:00:00",
          "2025-01-27T00:00:00",
          "2025-01-28T00:00:00",
          "2025-01-29T00:00:00",
          "2025-01-30T00:00:00",
          "2025-01-31T00:00:00",
          "2025-02-01T00:00:00",
          "2025-02-02T00:00:00",
          "2025-02-03T00:00:00",
          "2025-02-04T00:00:00",
          "2025-02-05T00:00:00",
          "2025-02-06T00:00:00",
          "2025-02-07T00:00:00",
          "2025-02-08T00:00:00",
          "2025-02-09T00:00:00",
          "2025-02-10T00:00:00",
          "2025-02-11T00:00:00",
          "2025-02-12T00:00:00",
          "2025-02-13T00:00:00",
          "2025-02-14T00:00:00",
          "2025-02-15T00:00:00",
          "2025-02-16T00:00:00",
          "2025-02-17T00:00:00",
          "2025-02-18T00:00:00",
          "2025-02-19T00:00:00",
          "2025-02-20T00:00:00",
          "2025-02-21T00:00:00",
          "2025-02-22T00:00:00",
          "2025-02-23T00:00:00",
          "2025-02-24T00:00:00",
          "2025-02-25T00:00:00",
          "2025-02-26T00:00:00",
          "2025-02-27T00:00:00",
          "2025-02-28T00:00:00",
          "2025-03-01T00:00:00",
          "2025-03-02T00:00:00",
          "2025-03-03T00:00:00",
          "2025-03-04T00:00:00",
          "2025-03-05T00:00:00",
          "2025-03-06T00:00:00",
          "2025-03-07T00:00:00",
          "2025-03-08T00:00:00",
          "2025-03-09T00:00:00",
          "2025-03-10T00:00:00",
          "2025-03-11T00:00:00",
          "2025-03-12T00:00:00",
          "2025-03-13T00:00:00",
          "2025-03-14T00:00:00",
          "2025-03-15T00:00:00",
          "2025-03-16T00:00:00",
          "2025-03-17T00:00:00",
          "2025-03-18T00:00:00",
          "2025-03-19T00:00:00",
          "2025-03-20T00:00:00",
          "2025-03-21T00:00:00",
          "2025-03-22T00:00:00",
          "2025-03-23T00:00:00",
          "2025-03-24T00:00:00",
          "2025-03-25T00:00:00",
          "2025-03-26T00:00:00",
          "2025-03-27T00:00:00",
          "2025-03-28T00:00:00",
          "2025-03-29T00:00:00",
          "2025-03-30T00:00:00",
          "2025-03-31T00:00:00",
          "2025-04-01T00:00:00",
          "2025-04-02T00:00:00",
          "2025-04-03T00:00:00",
          "2025-04-04T00:00:00",
          "2025-04-05T00:00:00",
          "2025-04-06T00:00:00",
          "2025-04-07T00:00:00",
          "2025-04-08T00:00:00",
          "2025-04-09T00:00:00",
          "2025-04-10T00:00:00",
          "2025-04-11T00:00:00",
          "2025-04-12T00:00:00",
          "2025-04-13T00:00:00",
          "2025-04-14T00:00:00",
          "2025-04-15T00:00:00",
          "2025-04-16T00:00:00",
          "2025-04-17T00:00:00",
          "2025-04-18T00:00:00",
          "2025-04-19T00:00:00",
          "2025-04-20T00:00:00",
          "2025-04-21T00:00:00",
          "2025-04-22T00:00:00",
          "2025-04-23T00:00:00",
          "2025-04-24T00:00:00",
          "2025-04-25T00:00:00",
          "2025-04-26T00:00:00",
          "2025-04-27T00:00:00",
          "2025-04-28T00:00:00",
          "2025-04-29T00:00:00",
          "2025-04-30T00:00:00",
          "2025-05-01T00:00:00",
          "2025-05-02T00:00:00",
          "2025-05-03T00:00:00",
          "2025-05-04T00:00:00",
          "2025-05-05T00:00:00",
          "2025-05-06T00:00:00",
          "2025-05-07T00:00:00",
          "2025-05-08T00:00:00",
          "2025-05-09T00:00:00",
          "2025-05-10T00:00:00",
          "2025-05-11T00:00:00",
          "2025-05-12T00:00:00",
          "2025-05-13T00:00:00",
          "2025-05-14T00:00:00",
          "2025-05-15T00:00:00",
          "2025-05-16T00:00:00",
          "2025-05-17T00:00:00",
          "2025-05-18T00:00:00",
          "2025-05-19T00:00:00",
          "2025-05-20T00:00:00",
          "2025-05-21T00:00:00",
          "2025-05-22T00:00:00",
          "2025-05-23T00:00:00",
          "2025-05-24T00:00:00",
          "2025-05-25T00:00:00",
          "2025-05-26T00:00:00",
          "2025-05-27T00:00:00",
          "2025-05-28T00:00:00",
          "2025-05-29T00:00:00",
          "2025-05-30T00:00:00"
         ],
         "xaxis": "x",
         "y": {
          "bdata": "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",
          "dtype": "f8"
         },
         "yaxis": "y"
        },
        {
         "line": {
          "color": "rgb(255, 127, 14)",
          "width": 2
         },
         "marker": {
          "color": "rgb(255, 127, 14)",
          "size": 5
         },
         "mode": "lines+markers",
         "name": "Exponential Smoothing",
         "type": "scattergl",
         "x": [
          "2024-05-01T00:00:00",
          "2024-05-02T00:00:00",
          "2024-05-03T00:00:00",
          "2024-05-04T00:00:00",
          "2024-05-05T00:00:00",
          "2024-05-06T00:00:00",
          "2024-05-07T00:00:00",
          "2024-05-08T00:00:00",
          "2024-05-09T00:00:00",
          "2024-05-10T00:00:00",
          "2024-05-11T00:00:00",
          "2024-05-12T00:00:00",
          "2024-05-13T00:00:00",
          "2024-05-14T00:00:00",
          "2024-05-15T00:00:00",
          "2024-05-16T00:00:00",
          "2024-05-17T00:00:00",
          "2024-05-18T00:00:00",
          "2024-05-19T00:00:00",
          "2024-05-20T00:00:00",
          "2024-05-21T00:00:00",
          "2024-05-22T00:00:00",
          "2024-05-23T00:00:00",
          "2024-05-24T00:00:00",
          "2024-05-25T00:00:00",
          "2024-05-26T00:00:00",
          "2024-05-27T00:00:00",
          "2024-05-28T00:00:00",
          "2024-05-29T00:00:00",
          "2024-05-30T00:00:00",
          "2024-05-31T00:00:00",
          "2024-06-01T00:00:00",
          "2024-06-02T00:00:00",
          "2024-06-03T00:00:00",
          "2024-06-04T00:00:00",
          "2024-06-05T00:00:00",
          "2024-06-06T00:00:00",
          "2024-06-07T00:00:00",
          "2024-06-08T00:00:00",
          "2024-06-09T00:00:00",
          "2024-06-10T00:00:00",
          "2024-06-11T00:00:00",
          "2024-06-12T00:00:00",
          "2024-06-13T00:00:00",
          "2024-06-14T00:00:00",
          "2024-06-15T00:00:00",
          "2024-06-16T00:00:00",
          "2024-06-17T00:00:00",
          "2024-06-18T00:00:00",
          "2024-06-19T00:00:00",
          "2024-06-20T00:00:00",
          "2024-06-21T00:00:00",
          "2024-06-22T00:00:00",
          "2024-06-23T00:00:00",
          "2024-06-24T00:00:00",
          "2024-06-25T00:00:00",
          "2024-06-26T00:00:00",
          "2024-06-27T00:00:00",
          "2024-06-28T00:00:00",
          "2024-06-29T00:00:00",
          "2024-06-30T00:00:00",
          "2024-07-01T00:00:00",
          "2024-07-02T00:00:00",
          "2024-07-03T00:00:00",
          "2024-07-04T00:00:00",
          "2024-07-05T00:00:00",
          "2024-07-06T00:00:00",
          "2024-07-07T00:00:00",
          "2024-07-08T00:00:00",
          "2024-07-09T00:00:00",
          "2024-07-10T00:00:00",
          "2024-07-11T00:00:00",
          "2024-07-12T00:00:00",
          "2024-07-13T00:00:00",
          "2024-07-14T00:00:00",
          "2024-07-15T00:00:00",
          "2024-07-16T00:00:00",
          "2024-07-17T00:00:00",
          "2024-07-18T00:00:00",
          "2024-07-19T00:00:00",
          "2024-07-20T00:00:00",
          "2024-07-21T00:00:00",
          "2024-07-22T00:00:00",
          "2024-07-23T00:00:00",
          "2024-07-24T00:00:00",
          "2024-07-25T00:00:00",
          "2024-07-26T00:00:00",
          "2024-07-27T00:00:00",
          "2024-07-28T00:00:00",
          "2024-07-29T00:00:00",
          "2024-07-30T00:00:00",
          "2024-07-31T00:00:00",
          "2024-08-01T00:00:00",
          "2024-08-02T00:00:00",
          "2024-08-03T00:00:00",
          "2024-08-04T00:00:00",
          "2024-08-05T00:00:00",
          "2024-08-06T00:00:00",
          "2024-08-07T00:00:00",
          "2024-08-08T00:00:00",
          "2024-08-09T00:00:00",
          "2024-08-10T00:00:00",
          "2024-08-11T00:00:00",
          "2024-08-12T00:00:00",
          "2024-08-13T00:00:00",
          "2024-08-14T00:00:00",
          "2024-08-15T00:00:00",
          "2024-08-16T00:00:00",
          "2024-08-17T00:00:00",
          "2024-08-18T00:00:00",
          "2024-08-19T00:00:00",
          "2024-08-20T00:00:00",
          "2024-08-21T00:00:00",
          "2024-08-22T00:00:00",
          "2024-08-23T00:00:00",
          "2024-08-24T00:00:00",
          "2024-08-25T00:00:00",
          "2024-08-26T00:00:00",
          "2024-08-27T00:00:00",
          "2024-08-28T00:00:00",
          "2024-08-29T00:00:00",
          "2024-08-30T00:00:00",
          "2024-08-31T00:00:00",
          "2024-09-01T00:00:00",
          "2024-09-02T00:00:00",
          "2024-09-03T00:00:00",
          "2024-09-04T00:00:00",
          "2024-09-05T00:00:00",
          "2024-09-06T00:00:00",
          "2024-09-07T00:00:00",
          "2024-09-08T00:00:00",
          "2024-09-09T00:00:00",
          "2024-09-10T00:00:00",
          "2024-09-11T00:00:00",
          "2024-09-12T00:00:00",
          "2024-09-13T00:00:00",
          "2024-09-14T00:00:00",
          "2024-09-15T00:00:00",
          "2024-09-16T00:00:00",
          "2024-09-17T00:00:00",
          "2024-09-18T00:00:00",
          "2024-09-19T00:00:00",
          "2024-09-20T00:00:00",
          "2024-09-21T00:00:00",
          "2024-09-22T00:00:00",
          "2024-09-23T00:00:00",
          "2024-09-24T00:00:00",
          "2024-09-25T00:00:00",
          "2024-09-26T00:00:00",
          "2024-09-27T00:00:00",
          "2024-09-28T00:00:00",
          "2024-09-29T00:00:00",
          "2024-09-30T00:00:00",
          "2024-10-01T00:00:00",
          "2024-10-02T00:00:00",
          "2024-10-03T00:00:00",
          "2024-10-04T00:00:00",
          "2024-10-05T00:00:00",
          "2024-10-06T00:00:00",
          "2024-10-07T00:00:00",
          "2024-10-08T00:00:00",
          "2024-10-09T00:00:00",
          "2024-10-10T00:00:00",
          "2024-10-11T00:00:00",
          "2024-10-12T00:00:00",
          "2024-10-13T00:00:00",
          "2024-10-14T00:00:00",
          "2024-10-15T00:00:00",
          "2024-10-16T00:00:00",
          "2024-10-17T00:00:00",
          "2024-10-18T00:00:00",
          "2024-10-19T00:00:00",
          "2024-10-20T00:00:00",
          "2024-10-21T00:00:00",
          "2024-10-22T00:00:00",
          "2024-10-23T00:00:00",
          "2024-10-24T00:00:00",
          "2024-10-25T00:00:00",
          "2024-10-26T00:00:00",
          "2024-10-27T00:00:00",
          "2024-10-28T00:00:00",
          "2024-10-29T00:00:00",
          "2024-10-30T00:00:00",
          "2024-10-31T00:00:00",
          "2024-11-01T00:00:00",
          "2024-11-02T00:00:00",
          "2024-11-03T00:00:00",
          "2024-11-04T00:00:00",
          "2024-11-05T00:00:00",
          "2024-11-06T00:00:00",
          "2024-11-07T00:00:00",
          "2024-11-08T00:00:00",
          "2024-11-09T00:00:00",
          "2024-11-10T00:00:00",
          "2024-11-11T00:00:00",
          "2024-11-12T00:00:00",
          "2024-11-13T00:00:00",
          "2024-11-14T00:00:00",
          "2024-11-15T00:00:00",
          "2024-11-16T00:00:00",
          "2024-11-17T00:00:00",
          "2024-11-18T00:00:00",
          "2024-11-19T00:00:00",
          "2024-11-20T00:00:00",
          "2024-11-21T00:00:00",
          "2024-11-22T00:00:00",
          "2024-11-23T00:00:00",
          "2024-11-24T00:00:00",
          "2024-11-25T00:00:00",
          "2024-11-26T00:00:00",
          "2024-11-27T00:00:00",
          "2024-11-28T00:00:00",
          "2024-11-29T00:00:00",
          "2024-11-30T00:00:00",
          "2024-12-01T00:00:00",
          "2024-12-02T00:00:00",
          "2024-12-03T00:00:00",
          "2024-12-04T00:00:00",
          "2024-12-05T00:00:00",
          "2024-12-06T00:00:00",
          "2024-12-07T00:00:00",
          "2024-12-08T00:00:00",
          "2024-12-09T00:00:00",
          "2024-12-10T00:00:00",
          "2024-12-11T00:00:00",
          "2024-12-12T00:00:00",
          "2024-12-13T00:00:00",
          "2024-12-14T00:00:00",
          "2024-12-15T00:00:00",
          "2024-12-16T00:00:00",
          "2024-12-17T00:00:00",
          "2024-12-18T00:00:00",
          "2024-12-19T00:00:00",
          "2024-12-20T00:00:00",
          "2024-12-21T00:00:00",
          "2024-12-22T00:00:00",
          "2024-12-23T00:00:00",
          "2024-12-24T00:00:00",
          "2024-12-25T00:00:00",
          "2024-12-26T00:00:00",
          "2024-12-27T00:00:00",
          "2024-12-28T00:00:00",
          "2024-12-29T00:00:00",
          "2024-12-30T00:00:00",
          "2024-12-31T00:00:00",
          "2025-01-01T00:00:00",
          "2025-01-02T00:00:00",
          "2025-01-03T00:00:00",
          "2025-01-04T00:00:00",
          "2025-01-05T00:00:00",
          "2025-01-06T00:00:00",
          "2025-01-07T00:00:00",
          "2025-01-08T00:00:00",
          "2025-01-09T00:00:00",
          "2025-01-10T00:00:00",
          "2025-01-11T00:00:00",
          "2025-01-12T00:00:00",
          "2025-01-13T00:00:00",
          "2025-01-14T00:00:00",
          "2025-01-15T00:00:00",
          "2025-01-16T00:00:00",
          "2025-01-17T00:00:00",
          "2025-01-18T00:00:00",
          "2025-01-19T00:00:00",
          "2025-01-20T00:00:00",
          "2025-01-21T00:00:00",
          "2025-01-22T00:00:00",
          "2025-01-23T00:00:00",
          "2025-01-24T00:00:00",
          "2025-01-25T00:00:00",
          "2025-01-26T00:00:00",
          "2025-01-27T00:00:00",
          "2025-01-28T00:00:00",
          "2025-01-29T00:00:00",
          "2025-01-30T00:00:00",
          "2025-01-31T00:00:00",
          "2025-02-01T00:00:00",
          "2025-02-02T00:00:00",
          "2025-02-03T00:00:00",
          "2025-02-04T00:00:00",
          "2025-02-05T00:00:00",
          "2025-02-06T00:00:00",
          "2025-02-07T00:00:00",
          "2025-02-08T00:00:00",
          "2025-02-09T00:00:00",
          "2025-02-10T00:00:00",
          "2025-02-11T00:00:00",
          "2025-02-12T00:00:00",
          "2025-02-13T00:00:00",
          "2025-02-14T00:00:00",
          "2025-02-15T00:00:00",
          "2025-02-16T00:00:00",
          "2025-02-17T00:00:00",
          "2025-02-18T00:00:00",
          "2025-02-19T00:00:00",
          "2025-02-20T00:00:00",
          "2025-02-21T00:00:00",
          "2025-02-22T00:00:00",
          "2025-02-23T00:00:00",
          "2025-02-24T00:00:00",
          "2025-02-25T00:00:00",
          "2025-02-26T00:00:00",
          "2025-02-27T00:00:00",
          "2025-02-28T00:00:00",
          "2025-03-01T00:00:00",
          "2025-03-02T00:00:00",
          "2025-03-03T00:00:00",
          "2025-03-04T00:00:00",
          "2025-03-05T00:00:00",
          "2025-03-06T00:00:00",
          "2025-03-07T00:00:00",
          "2025-03-08T00:00:00",
          "2025-03-09T00:00:00",
          "2025-03-10T00:00:00",
          "2025-03-11T00:00:00",
          "2025-03-12T00:00:00",
          "2025-03-13T00:00:00",
          "2025-03-14T00:00:00",
          "2025-03-15T00:00:00",
          "2025-03-16T00:00:00",
          "2025-03-17T00:00:00",
          "2025-03-18T00:00:00",
          "2025-03-19T00:00:00",
          "2025-03-20T00:00:00",
          "2025-03-21T00:00:00",
          "2025-03-22T00:00:00",
          "2025-03-23T00:00:00",
          "2025-03-24T00:00:00",
          "2025-03-25T00:00:00",
          "2025-03-26T00:00:00",
          "2025-03-27T00:00:00",
          "2025-03-28T00:00:00",
          "2025-03-29T00:00:00",
          "2025-03-30T00:00:00",
          "2025-03-31T00:00:00",
          "2025-04-01T00:00:00",
          "2025-04-02T00:00:00",
          "2025-04-03T00:00:00",
          "2025-04-04T00:00:00",
          "2025-04-05T00:00:00",
          "2025-04-06T00:00:00",
          "2025-04-07T00:00:00",
          "2025-04-08T00:00:00",
          "2025-04-09T00:00:00",
          "2025-04-10T00:00:00",
          "2025-04-11T00:00:00",
          "2025-04-12T00:00:00",
          "2025-04-13T00:00:00",
          "2025-04-14T00:00:00",
          "2025-04-15T00:00:00",
          "2025-04-16T00:00:00",
          "2025-04-17T00:00:00",
          "2025-04-18T00:00:00",
          "2025-04-19T00:00:00",
          "2025-04-20T00:00:00",
          "2025-04-21T00:00:00",
          "2025-04-22T00:00:00",
          "2025-04-23T00:00:00",
          "2025-04-24T00:00:00",
          "2025-04-25T00:00:00",
          "2025-04-26T00:00:00",
          "2025-04-27T00:00:00",
          "2025-04-28T00:00:00",
          "2025-04-29T00:00:00",
          "2025-04-30T00:00:00",
          "2025-05-01T00:00:00",
          "2025-05-02T00:00:00",
          "2025-05-03T00:00:00",
          "2025-05-04T00:00:00",
          "2025-05-05T00:00:00",
          "2025-05-06T00:00:00",
          "2025-05-07T00:00:00",
          "2025-05-08T00:00:00",
          "2025-05-09T00:00:00",
          "2025-05-10T00:00:00",
          "2025-05-11T00:00:00",
          "2025-05-12T00:00:00",
          "2025-05-13T00:00:00",
          "2025-05-14T00:00:00",
          "2025-05-15T00:00:00",
          "2025-05-16T00:00:00",
          "2025-05-17T00:00:00",
          "2025-05-18T00:00:00",
          "2025-05-19T00:00:00",
          "2025-05-20T00:00:00",
          "2025-05-21T00:00:00",
          "2025-05-22T00:00:00",
          "2025-05-23T00:00:00",
          "2025-05-24T00:00:00",
          "2025-05-25T00:00:00",
          "2025-05-26T00:00:00",
          "2025-05-27T00:00:00",
          "2025-05-28T00:00:00",
          "2025-05-29T00:00:00",
          "2025-05-30T00:00:00"
         ],
         "xaxis": "x",
         "y": {
          "bdata": "AAAAAAAA+H8AAAAAAAD4fwAAAAAAAPh/AAAAAAAA+H8AAAAAAAD4fwAAAAAAAPh/AAAAAAAA+H8AAAAAAAD4fwAAAAAAAPh/AAAAAAAA+H8AAAAAAAD4fwAAAAAAAPh/AAAAAAAA+H8AAAAAAAD4fwAAAAAAAPh/AAAAAAAA+H8AAAAAAAD4fwAAAAAAAPh/AAAAAAAA+H8AAAAAAAD4fwAAAAAAAPh/AAAAAAAA+H8AAAAAAAD4fwAAAAAAAPh/AAAAAAAA+H8AAAAAAAD4fwAAAAAAAPh/AAAAAAAA+H8AAAAAAAD4fwAAAAAAAPh/AAAAAAAA+H8AAAAAAAD4fwAAAAAAAPh/AAAAAAAA+H8AAAAAAAD4fwAAAAAAAPh/AAAAAAAA+H8AAAAAAAD4fwAAAAAAAPh/AAAAAAAA+H8AAAAAAAD4fwAAAAAAAPh/AAAAAAAA+H8AAAAAAAD4fwAAAAAAAPh/AAAAAAAA+H8AAAAAAAD4fwAAAAAAAPh/AAAAAAAA+H8AAAAAAAD4fwAAAAAAAPh/AAAAAAAA+H8AAAAAAAD4fwAAAAAAAPh/AAAAAAAA+H8AAAAAAAD4fwAAAAAAAPh/AAAAAAAA+H8AAAAAAAD4fwAAAAAAAPh/AAAAAAAA+H8AAAAAAAD4fwAAAAAAAPh/AAAAAAAA+H8AAAAAAAD4fwAAAAAAAPh/AAAAAAAA+H8AAAAAAAD4fwAAAAAAAPh/AAAAAAAA+H8AAAAAAAD4fwAAAAAAAPh/AAAAAAAA+H8AAAAAAAD4fwAAAAAAAPh/AAAAAAAA+H8AAAAAAAD4fwAAAAAAAPh/AAAAAAAA+H8AAAAAAAD4fwAAAAAAAPh/AAAAAAAA+H8AAAAAAAD4fwAAAAAAAPh/AAAAAAAA+H8AAAAAAAD4fwAAAAAAAPh/AAAAAAAA+H8AAAAAAAD4fwAAAAAAAPh/AAAAAAAA+H8AAAAAAAD4fwAAAAAAAPh/AAAAAAAA+H8AAAAAAAD4fwAAAAAAAPh/AAAAAAAA+H8AAAAAAAD4fwAAAAAAAPh/AAAAAAAA+H8AAAAAAAD4fwAAAAAAAPh/AAAAAAAA+H8AAAAAAAD4fwAAAAAAAPh/AAAAAAAA+H8AAAAAAAD4fwAAAAAAAPh/AAAAAAAA+H8AAAAAAAD4fwAAAAAAAPh/AAAAAAAA+H8AAAAAAAD4fwAAAAAAAPh/AAAAAAAA+H8AAAAAAAD4fwAAAAAAAPh/AAAAAAAA+H8AAAAAAAD4fwAAAAAAAPh/AAAAAAAA+H8AAAAAAAD4fwAAAAAAAPh/AAAAAAAA+H8AAAAAAAD4fwAAAAAAAPh/AAAAAAAA+H8AAAAAAAD4fwAAAAAAAPh/AAAAAAAA+H8AAAAAAAD4fwAAAAAAAPh/AAAAAAAA+H8AAAAAAAD4fwAAAAAAAPh/AAAAAAAA+H8AAAAAAAD4fwAAAAAAAPh/AAAAAAAA+H8AAAAAAAD4fwAAAAAAAPh/AAAAAAAA+H8AAAAAAAD4fwAAAAAAAPh/AAAAAAAA+H8AAAAAAAD4fwAAAAAAAPh/AAAAAAAA+H8AAAAAAAD4fwAAAAAAAPh/AAAAAAAA+H8AAAAAAAD4fwAAAAAAAPh/AAAAAAAA+H8AAAAAAAD4fwAAAAAAAPh/AAAAAAAA+H8AAAAAAAD4fwAAAAAAAPh/AAAAAAAA+H8AAAAAAAD4fwAAAAAAAPh/AAAAAAAA+H8AAAAAAAD4fwAAAAAAAPh/AAAAAAAA+H8AAAAAAAD4fwAAAAAAAPh/AAAAAAAA+H8AAAAAAAD4fwAAAAAAAPh/AAAAAAAA+H8AAAAAAAD4fwAAAAAAAPh/AAAAAAAA+H8AAAAAAAD4fwAAAAAAAPh/AAAAAAAA+H8AAAAAAAD4fwAAAAAAAPh/AAAAAAAA+H8AAAAAAAD4fwAAAAAAAPh/AAAAAAAA+H8AAAAAAAD4fwAAAAAAAPh/AAAAAAAA+H8AAAAAAAD4fwAAAAAAAPh/AAAAAAAA+H8AAAAAAAD4fwAAAAAAAPh/AAAAAAAA+H8AAAAAAAD4fwAAAAAAAPh/AAAAAAAA+H8AAAAAAAD4fwAAAAAAAPh/AAAAAAAA+H8AAAAAAAD4fwAAAAAAAPh/AAAAAAAA+H8AAAAAAAD4fwAAAAAAAPh/AAAAAAAA+H8AAAAAAAD4fwAAAAAAAPh/AAAAAAAA+H8AAAAAAAD4fwAAAAAAAPh/AAAAAAAA+H8AAAAAAAD4fwAAAAAAAPh/AAAAAAAA+H8AAAAAAAD4fwAAAAAAAPh/AAAAAAAA+H8AAAAAAAD4fwAAAAAAAPh/AAAAAAAA+H8AAAAAAAD4fwAAAAAAAPh/AAAAAAAA+H8AAAAAAAD4fwAAAAAAAPh/AAAAAAAA+H8AAAAAAAD4fwAAAAAAAPh/AAAAAAAA+H8AAAAAAAD4fwAAAAAAAPh/AAAAAAAA+H8AAAAAAAD4fwAAAAAAAPh/AAAAAAAA+H8AAAAAAAD4fwAAAAAAAPh/AAAAAAAA+H8AAAAAAAD4fwAAAAAAAPh/AAAAAAAA+H8AAAAAAAD4fwAAAAAAAPh/AAAAAAAA+H8AAAAAAAD4fwAAAAAAAPh/AAAAAAAA+H8AAAAAAAD4fwAAAAAAAPh/AAAAAAAA+H8AAAAAAAD4fwAAAAAAAPh/AAAAAAAA+H8AAAAAAAD4fwAAAAAAAPh/AAAAAAAA+H8AAAAAAAD4fwAAAAAAAPh/AAAAAAAA+H8AAAAAAAD4fwAAAAAAAPh/AAAAAAAA+H8AAAAAAAD4fwAAAAAAAPh/AAAAAAAA+H8AAAAAAAD4fwAAAAAAAPh/AAAAAAAA+H8AAAAAAAD4fwAAAAAAAPh/AAAAAAAA+H8AAAAAAAD4fwAAAAAAAPh/AAAAAAAA+H8AAAAAAAD4fwAAAAAAAPh/AAAAAAAA+H8AAAAAAAD4fwAAAAAAAPh/AAAAAAAA+H8AAAAAAAD4fwAAAAAAAPh/AAAAAAAA+H8AAAAAAAD4fwAAAAAAAPh/AAAAAAAA+H8AAAAAAAD4fwAAAAAAAPh/AAAAAAAA+H8AAAAAAAD4fwAAAAAAAPh/AAAAAAAA+H8AAAAAAAD4fwAAAAAAAPh/AAAAAAAA+H8AAAAAAAD4fwAAAAAAAPh/AAAAAAAA+H8AAAAAAAD4fwAAAAAAAPh/AAAAAAAA+H8AAAAAAAD4fwAAAAAAAPh/AAAAAAAA+H8AAAAAAAD4fwAAAAAAAPh/AAAAAAAA+H8AAAAAAAD4fwAAAAAAAPh/AAAAAAAA+H8AAAAAAAD4fwAAAAAAAPh/AAAAAAAA+H8AAAAAAAD4fwAAAAAAAPh/AAAAAAAA+H8AAAAAAAD4fwAAAAAAAPh/AAAAAAAA+H8AAAAAAAD4fwAAAAAAAPh/AAAAAAAA+H8AAAAAAAD4fwAAAAAAAPh/AAAAAAAA+H8AAAAAAAD4fwAAAAAAAPh/AAAAAAAA+H8AAAAAAAD4fwAAAAAAAPh/AAAAAAAA+H8AAAAAAAD4fwAAAAAAAPh/AAAAAAAA+H8AAAAAAAD4fwAAAAAAAPh/AAAAAAAA+H8AAAAAAAD4fwAAAAAAAPh/AAAAAAAA+H8AAAAAAAD4fwAAAAAAAPh/AAAAAAAA+H8AAAAAAAD4fwAAAAAAAPh/AAAAAAAA+H8AAAAAAAD4fwAAAAAAAPh/AAAAAAAA+H8AAAAAAAD4fwAAAAAAAPh/AAAAAAAA+H8AAAAAAAD4fwAAAAAAAPh/AAAAAAAA+H8AAAAAAAD4fwAAAAAAAPh/AAAAAAAA+H8AAAAAAAD4fwAAAAAAAPh/AAAAAAAA+H8AAAAAAAD4fwAAAAAAAPh/AAAAAAAA+H8AAAAAAAD4f0ATYcPTu5tAHOviNtqmm0D7y+7Jg3icQH4dOGdEPpxAvsEXJpO9nEA4Z0Rpr+GdQO58PzWe9J5ANe84RYcBn0BLWYY4lm2fQNzXgXPGmp5AZvfkYSGonUA2zTtOEWedQEdy+Q9ptpxA6gQ0ETbanEBeukkMAkCcQD0s1JpmK5xA/Yf029f7nEAUP8bcNcKcQM6I0t7gQJ1Af/s6cE5jnkDWxW00wHSfQF+YTBXMgZ9AE2HD02vtn0Ac6+I2GhyfQJHtfD81K55APzVeusnqnUBfKcsQhzudQAFNhA1PX51AldQJaGLGnEB24JwRJbKcQA==",
          "dtype": "f8"
         },
         "yaxis": "y"
        }
       ],
       "layout": {
        "showlegend": true,
        "template": {
         "data": {
          "bar": [
           {
            "error_x": {
             "color": "rgb(51,51,51)"
            },
            "error_y": {
             "color": "rgb(51,51,51)"
            },
            "marker": {
             "line": {
              "color": "rgb(237,237,237)",
              "width": 0.5
             },
             "pattern": {
              "fillmode": "overlay",
              "size": 10,
              "solidity": 0.2
             }
            },
            "type": "bar"
           }
          ],
          "barpolar": [
           {
            "marker": {
             "line": {
              "color": "rgb(237,237,237)",
              "width": 0.5
             },
             "pattern": {
              "fillmode": "overlay",
              "size": 10,
              "solidity": 0.2
             }
            },
            "type": "barpolar"
           }
          ],
          "carpet": [
           {
            "aaxis": {
             "endlinecolor": "rgb(51,51,51)",
             "gridcolor": "white",
             "linecolor": "white",
             "minorgridcolor": "white",
             "startlinecolor": "rgb(51,51,51)"
            },
            "baxis": {
             "endlinecolor": "rgb(51,51,51)",
             "gridcolor": "white",
             "linecolor": "white",
             "minorgridcolor": "white",
             "startlinecolor": "rgb(51,51,51)"
            },
            "type": "carpet"
           }
          ],
          "choropleth": [
           {
            "colorbar": {
             "outlinewidth": 0,
             "tickcolor": "rgb(237,237,237)",
             "ticklen": 6,
             "ticks": "inside"
            },
            "type": "choropleth"
           }
          ],
          "contour": [
           {
            "colorbar": {
             "outlinewidth": 0,
             "tickcolor": "rgb(237,237,237)",
             "ticklen": 6,
             "ticks": "inside"
            },
            "colorscale": [
             [
              0,
              "rgb(20,44,66)"
             ],
             [
              1,
              "rgb(90,179,244)"
             ]
            ],
            "type": "contour"
           }
          ],
          "contourcarpet": [
           {
            "colorbar": {
             "outlinewidth": 0,
             "tickcolor": "rgb(237,237,237)",
             "ticklen": 6,
             "ticks": "inside"
            },
            "type": "contourcarpet"
           }
          ],
          "heatmap": [
           {
            "colorbar": {
             "outlinewidth": 0,
             "tickcolor": "rgb(237,237,237)",
             "ticklen": 6,
             "ticks": "inside"
            },
            "colorscale": [
             [
              0,
              "rgb(20,44,66)"
             ],
             [
              1,
              "rgb(90,179,244)"
             ]
            ],
            "type": "heatmap"
           }
          ],
          "histogram": [
           {
            "marker": {
             "pattern": {
              "fillmode": "overlay",
              "size": 10,
              "solidity": 0.2
             }
            },
            "type": "histogram"
           }
          ],
          "histogram2d": [
           {
            "colorbar": {
             "outlinewidth": 0,
             "tickcolor": "rgb(237,237,237)",
             "ticklen": 6,
             "ticks": "inside"
            },
            "colorscale": [
             [
              0,
              "rgb(20,44,66)"
             ],
             [
              1,
              "rgb(90,179,244)"
             ]
            ],
            "type": "histogram2d"
           }
          ],
          "histogram2dcontour": [
           {
            "colorbar": {
             "outlinewidth": 0,
             "tickcolor": "rgb(237,237,237)",
             "ticklen": 6,
             "ticks": "inside"
            },
            "colorscale": [
             [
              0,
              "rgb(20,44,66)"
             ],
             [
              1,
              "rgb(90,179,244)"
             ]
            ],
            "type": "histogram2dcontour"
           }
          ],
          "mesh3d": [
           {
            "colorbar": {
             "outlinewidth": 0,
             "tickcolor": "rgb(237,237,237)",
             "ticklen": 6,
             "ticks": "inside"
            },
            "type": "mesh3d"
           }
          ],
          "parcoords": [
           {
            "line": {
             "colorbar": {
              "outlinewidth": 0,
              "tickcolor": "rgb(237,237,237)",
              "ticklen": 6,
              "ticks": "inside"
             }
            },
            "type": "parcoords"
           }
          ],
          "pie": [
           {
            "automargin": true,
            "type": "pie"
           }
          ],
          "scatter": [
           {
            "fillpattern": {
             "fillmode": "overlay",
             "size": 10,
             "solidity": 0.2
            },
            "type": "scatter"
           }
          ],
          "scatter3d": [
           {
            "line": {
             "colorbar": {
              "outlinewidth": 0,
              "tickcolor": "rgb(237,237,237)",
              "ticklen": 6,
              "ticks": "inside"
             }
            },
            "marker": {
             "colorbar": {
              "outlinewidth": 0,
              "tickcolor": "rgb(237,237,237)",
              "ticklen": 6,
              "ticks": "inside"
             }
            },
            "type": "scatter3d"
           }
          ],
          "scattercarpet": [
           {
            "marker": {
             "colorbar": {
              "outlinewidth": 0,
              "tickcolor": "rgb(237,237,237)",
              "ticklen": 6,
              "ticks": "inside"
             }
            },
            "type": "scattercarpet"
           }
          ],
          "scattergeo": [
           {
            "marker": {
             "colorbar": {
              "outlinewidth": 0,
              "tickcolor": "rgb(237,237,237)",
              "ticklen": 6,
              "ticks": "inside"
             }
            },
            "type": "scattergeo"
           }
          ],
          "scattergl": [
           {
            "marker": {
             "colorbar": {
              "outlinewidth": 0,
              "tickcolor": "rgb(237,237,237)",
              "ticklen": 6,
              "ticks": "inside"
             }
            },
            "type": "scattergl"
           }
          ],
          "scattermap": [
           {
            "marker": {
             "colorbar": {
              "outlinewidth": 0,
              "tickcolor": "rgb(237,237,237)",
              "ticklen": 6,
              "ticks": "inside"
             }
            },
            "type": "scattermap"
           }
          ],
          "scattermapbox": [
           {
            "marker": {
             "colorbar": {
              "outlinewidth": 0,
              "tickcolor": "rgb(237,237,237)",
              "ticklen": 6,
              "ticks": "inside"
             }
            },
            "type": "scattermapbox"
           }
          ],
          "scatterpolar": [
           {
            "marker": {
             "colorbar": {
              "outlinewidth": 0,
              "tickcolor": "rgb(237,237,237)",
              "ticklen": 6,
              "ticks": "inside"
             }
            },
            "type": "scatterpolar"
           }
          ],
          "scatterpolargl": [
           {
            "marker": {
             "colorbar": {
              "outlinewidth": 0,
              "tickcolor": "rgb(237,237,237)",
              "ticklen": 6,
              "ticks": "inside"
             }
            },
            "type": "scatterpolargl"
           }
          ],
          "scatterternary": [
           {
            "marker": {
             "colorbar": {
              "outlinewidth": 0,
              "tickcolor": "rgb(237,237,237)",
              "ticklen": 6,
              "ticks": "inside"
             }
            },
            "type": "scatterternary"
           }
          ],
          "surface": [
           {
            "colorbar": {
             "outlinewidth": 0,
             "tickcolor": "rgb(237,237,237)",
             "ticklen": 6,
             "ticks": "inside"
            },
            "colorscale": [
             [
              0,
              "rgb(20,44,66)"
             ],
             [
              1,
              "rgb(90,179,244)"
             ]
            ],
            "type": "surface"
           }
          ],
          "table": [
           {
            "cells": {
             "fill": {
              "color": "rgb(237,237,237)"
             },
             "line": {
              "color": "white"
             }
            },
            "header": {
             "fill": {
              "color": "rgb(217,217,217)"
             },
             "line": {
              "color": "white"
             }
            },
            "type": "table"
           }
          ]
         },
         "layout": {
          "annotationdefaults": {
           "arrowhead": 0,
           "arrowwidth": 1
          },
          "autotypenumbers": "strict",
          "coloraxis": {
           "colorbar": {
            "outlinewidth": 0,
            "tickcolor": "rgb(237,237,237)",
            "ticklen": 6,
            "ticks": "inside"
           }
          },
          "colorscale": {
           "sequential": [
            [
             0,
             "rgb(20,44,66)"
            ],
            [
             1,
             "rgb(90,179,244)"
            ]
           ],
           "sequentialminus": [
            [
             0,
             "rgb(20,44,66)"
            ],
            [
             1,
             "rgb(90,179,244)"
            ]
           ]
          },
          "colorway": [
           "#F8766D",
           "#A3A500",
           "#00BF7D",
           "#00B0F6",
           "#E76BF3"
          ],
          "font": {
           "color": "rgb(51,51,51)"
          },
          "geo": {
           "bgcolor": "white",
           "lakecolor": "white",
           "landcolor": "rgb(237,237,237)",
           "showlakes": true,
           "showland": true,
           "subunitcolor": "white"
          },
          "hoverlabel": {
           "align": "left"
          },
          "hovermode": "closest",
          "paper_bgcolor": "white",
          "plot_bgcolor": "rgb(237,237,237)",
          "polar": {
           "angularaxis": {
            "gridcolor": "white",
            "linecolor": "white",
            "showgrid": true,
            "tickcolor": "rgb(51,51,51)",
            "ticks": "outside"
           },
           "bgcolor": "rgb(237,237,237)",
           "radialaxis": {
            "gridcolor": "white",
            "linecolor": "white",
            "showgrid": true,
            "tickcolor": "rgb(51,51,51)",
            "ticks": "outside"
           }
          },
          "scene": {
           "xaxis": {
            "backgroundcolor": "rgb(237,237,237)",
            "gridcolor": "white",
            "gridwidth": 2,
            "linecolor": "white",
            "showbackground": true,
            "showgrid": true,
            "tickcolor": "rgb(51,51,51)",
            "ticks": "outside",
            "zerolinecolor": "white"
           },
           "yaxis": {
            "backgroundcolor": "rgb(237,237,237)",
            "gridcolor": "white",
            "gridwidth": 2,
            "linecolor": "white",
            "showbackground": true,
            "showgrid": true,
            "tickcolor": "rgb(51,51,51)",
            "ticks": "outside",
            "zerolinecolor": "white"
           },
           "zaxis": {
            "backgroundcolor": "rgb(237,237,237)",
            "gridcolor": "white",
            "gridwidth": 2,
            "linecolor": "white",
            "showbackground": true,
            "showgrid": true,
            "tickcolor": "rgb(51,51,51)",
            "ticks": "outside",
            "zerolinecolor": "white"
           }
          },
          "shapedefaults": {
           "fillcolor": "black",
           "line": {
            "width": 0
           },
           "opacity": 0.3
          },
          "ternary": {
           "aaxis": {
            "gridcolor": "white",
            "linecolor": "white",
            "showgrid": true,
            "tickcolor": "rgb(51,51,51)",
            "ticks": "outside"
           },
           "baxis": {
            "gridcolor": "white",
            "linecolor": "white",
            "showgrid": true,
            "tickcolor": "rgb(51,51,51)",
            "ticks": "outside"
           },
           "bgcolor": "rgb(237,237,237)",
           "caxis": {
            "gridcolor": "white",
            "linecolor": "white",
            "showgrid": true,
            "tickcolor": "rgb(51,51,51)",
            "ticks": "outside"
           }
          },
          "xaxis": {
           "automargin": true,
           "gridcolor": "white",
           "linecolor": "white",
           "showgrid": true,
           "tickcolor": "rgb(51,51,51)",
           "ticks": "outside",
           "title": {
            "standoff": 15
           },
           "zerolinecolor": "white"
          },
          "yaxis": {
           "automargin": true,
           "gridcolor": "white",
           "linecolor": "white",
           "showgrid": true,
           "tickcolor": "rgb(51,51,51)",
           "ticks": "outside",
           "title": {
            "standoff": 15
           },
           "zerolinecolor": "white"
          }
         }
        },
        "title": {
         "text": "Actual vs. Forecast (Out-of-Sample)"
        },
        "xaxis": {
         "anchor": "y",
         "domain": [
          0,
          1
         ]
        },
        "yaxis": {
         "anchor": "x",
         "domain": [
          0,
          1
         ]
        }
       }
      }
     },
     "metadata": {},
     "output_type": "display_data"
    }
   ],
   "source": [
    "exp = create_model('exp_smooth')\n",
    "tuned_exp = tune_model(exp)\n",
    "final_exp = finalize_model(tuned_exp)\n",
    "exp_predictions = predict_model(final_exp)\n",
    "plot_model(final_exp, plot='forecast')"
   ]
  },
  {
   "cell_type": "code",
   "execution_count": 279,
   "id": "322c9408",
   "metadata": {},
   "outputs": [],
   "source": [
    "#Plot prophet model forecast\n",
    "fig = plot_model(final_exp, plot='forecast', return_fig=True)\n",
    "\n",
    "# Save it as an HTML file\n",
    "pio.write_html(fig, file='ETH_EXP_1.html', auto_open=False)"
   ]
  },
  {
   "cell_type": "code",
   "execution_count": 282,
   "id": "658aaf3a",
   "metadata": {},
   "outputs": [
    {
     "data": {
      "text/html": [],
      "text/plain": [
       "<IPython.core.display.HTML object>"
      ]
     },
     "metadata": {},
     "output_type": "display_data"
    },
    {
     "data": {
      "text/html": [
       "<style type=\"text/css\">\n",
       "#T_bad1c_row3_col0, #T_bad1c_row3_col1, #T_bad1c_row3_col2, #T_bad1c_row3_col3, #T_bad1c_row3_col4, #T_bad1c_row3_col5, #T_bad1c_row3_col6, #T_bad1c_row3_col7 {\n",
       "  background: yellow;\n",
       "}\n",
       "</style>\n",
       "<table id=\"T_bad1c\">\n",
       "  <thead>\n",
       "    <tr>\n",
       "      <th class=\"blank level0\" >&nbsp;</th>\n",
       "      <th id=\"T_bad1c_level0_col0\" class=\"col_heading level0 col0\" >cutoff</th>\n",
       "      <th id=\"T_bad1c_level0_col1\" class=\"col_heading level0 col1\" >MASE</th>\n",
       "      <th id=\"T_bad1c_level0_col2\" class=\"col_heading level0 col2\" >RMSSE</th>\n",
       "      <th id=\"T_bad1c_level0_col3\" class=\"col_heading level0 col3\" >MAE</th>\n",
       "      <th id=\"T_bad1c_level0_col4\" class=\"col_heading level0 col4\" >RMSE</th>\n",
       "      <th id=\"T_bad1c_level0_col5\" class=\"col_heading level0 col5\" >MAPE</th>\n",
       "      <th id=\"T_bad1c_level0_col6\" class=\"col_heading level0 col6\" >SMAPE</th>\n",
       "      <th id=\"T_bad1c_level0_col7\" class=\"col_heading level0 col7\" >R2</th>\n",
       "    </tr>\n",
       "  </thead>\n",
       "  <tbody>\n",
       "    <tr>\n",
       "      <th id=\"T_bad1c_level0_row0\" class=\"row_heading level0 row0\" >0</th>\n",
       "      <td id=\"T_bad1c_row0_col0\" class=\"data row0 col0\" >2024-12-31</td>\n",
       "      <td id=\"T_bad1c_row0_col1\" class=\"data row0 col1\" >3.4084</td>\n",
       "      <td id=\"T_bad1c_row0_col2\" class=\"data row0 col2\" >2.6734</td>\n",
       "      <td id=\"T_bad1c_row0_col3\" class=\"data row0 col3\" >725.7074</td>\n",
       "      <td id=\"T_bad1c_row0_col4\" class=\"data row0 col4\" >771.5440</td>\n",
       "      <td id=\"T_bad1c_row0_col5\" class=\"data row0 col5\" >0.2216</td>\n",
       "      <td id=\"T_bad1c_row0_col6\" class=\"data row0 col6\" >0.1967</td>\n",
       "      <td id=\"T_bad1c_row0_col7\" class=\"data row0 col7\" >-24.3122</td>\n",
       "    </tr>\n",
       "    <tr>\n",
       "      <th id=\"T_bad1c_level0_row1\" class=\"row_heading level0 row1\" >1</th>\n",
       "      <td id=\"T_bad1c_row1_col0\" class=\"data row1 col0\" >2025-01-30</td>\n",
       "      <td id=\"T_bad1c_row1_col1\" class=\"data row1 col1\" >2.8315</td>\n",
       "      <td id=\"T_bad1c_row1_col2\" class=\"data row1 col2\" >2.2104</td>\n",
       "      <td id=\"T_bad1c_row1_col3\" class=\"data row1 col3\" >590.9944</td>\n",
       "      <td id=\"T_bad1c_row1_col4\" class=\"data row1 col4\" >622.2817</td>\n",
       "      <td id=\"T_bad1c_row1_col5\" class=\"data row1 col5\" >0.2285</td>\n",
       "      <td id=\"T_bad1c_row1_col6\" class=\"data row1 col6\" >0.2020</td>\n",
       "      <td id=\"T_bad1c_row1_col7\" class=\"data row1 col7\" >-6.9743</td>\n",
       "    </tr>\n",
       "    <tr>\n",
       "      <th id=\"T_bad1c_level0_row2\" class=\"row_heading level0 row2\" >2</th>\n",
       "      <td id=\"T_bad1c_row2_col0\" class=\"data row2 col0\" >2025-03-01</td>\n",
       "      <td id=\"T_bad1c_row2_col1\" class=\"data row2 col1\" >1.3263</td>\n",
       "      <td id=\"T_bad1c_row2_col2\" class=\"data row2 col2\" >1.0849</td>\n",
       "      <td id=\"T_bad1c_row2_col3\" class=\"data row2 col3\" >279.4033</td>\n",
       "      <td id=\"T_bad1c_row2_col4\" class=\"data row2 col4\" >306.7483</td>\n",
       "      <td id=\"T_bad1c_row2_col5\" class=\"data row2 col5\" >0.1422</td>\n",
       "      <td id=\"T_bad1c_row2_col6\" class=\"data row2 col6\" >0.1308</td>\n",
       "      <td id=\"T_bad1c_row2_col7\" class=\"data row2 col7\" >-3.0903</td>\n",
       "    </tr>\n",
       "    <tr>\n",
       "      <th id=\"T_bad1c_level0_row3\" class=\"row_heading level0 row3\" >Mean</th>\n",
       "      <td id=\"T_bad1c_row3_col0\" class=\"data row3 col0\" >NaT</td>\n",
       "      <td id=\"T_bad1c_row3_col1\" class=\"data row3 col1\" >2.5221</td>\n",
       "      <td id=\"T_bad1c_row3_col2\" class=\"data row3 col2\" >1.9896</td>\n",
       "      <td id=\"T_bad1c_row3_col3\" class=\"data row3 col3\" >532.0350</td>\n",
       "      <td id=\"T_bad1c_row3_col4\" class=\"data row3 col4\" >566.8580</td>\n",
       "      <td id=\"T_bad1c_row3_col5\" class=\"data row3 col5\" >0.1974</td>\n",
       "      <td id=\"T_bad1c_row3_col6\" class=\"data row3 col6\" >0.1765</td>\n",
       "      <td id=\"T_bad1c_row3_col7\" class=\"data row3 col7\" >-11.4590</td>\n",
       "    </tr>\n",
       "    <tr>\n",
       "      <th id=\"T_bad1c_level0_row4\" class=\"row_heading level0 row4\" >SD</th>\n",
       "      <td id=\"T_bad1c_row4_col0\" class=\"data row4 col0\" >NaT</td>\n",
       "      <td id=\"T_bad1c_row4_col1\" class=\"data row4 col1\" >0.8777</td>\n",
       "      <td id=\"T_bad1c_row4_col2\" class=\"data row4 col2\" >0.6670</td>\n",
       "      <td id=\"T_bad1c_row4_col3\" class=\"data row4 col3\" >186.9117</td>\n",
       "      <td id=\"T_bad1c_row4_col4\" class=\"data row4 col4\" >193.7569</td>\n",
       "      <td id=\"T_bad1c_row4_col5\" class=\"data row4 col5\" >0.0392</td>\n",
       "      <td id=\"T_bad1c_row4_col6\" class=\"data row4 col6\" >0.0324</td>\n",
       "      <td id=\"T_bad1c_row4_col7\" class=\"data row4 col7\" >9.2259</td>\n",
       "    </tr>\n",
       "  </tbody>\n",
       "</table>\n"
      ],
      "text/plain": [
       "<pandas.io.formats.style.Styler at 0x1b9e5fca730>"
      ]
     },
     "metadata": {},
     "output_type": "display_data"
    },
    {
     "data": {
      "text/html": [],
      "text/plain": [
       "<IPython.core.display.HTML object>"
      ]
     },
     "metadata": {},
     "output_type": "display_data"
    },
    {
     "data": {
      "text/html": [],
      "text/plain": [
       "<IPython.core.display.HTML object>"
      ]
     },
     "metadata": {},
     "output_type": "display_data"
    },
    {
     "data": {
      "text/html": [
       "<style type=\"text/css\">\n",
       "#T_49c66_row3_col0, #T_49c66_row3_col1, #T_49c66_row3_col2, #T_49c66_row3_col3, #T_49c66_row3_col4, #T_49c66_row3_col5, #T_49c66_row3_col6, #T_49c66_row3_col7 {\n",
       "  background: yellow;\n",
       "}\n",
       "</style>\n",
       "<table id=\"T_49c66\">\n",
       "  <thead>\n",
       "    <tr>\n",
       "      <th class=\"blank level0\" >&nbsp;</th>\n",
       "      <th id=\"T_49c66_level0_col0\" class=\"col_heading level0 col0\" >cutoff</th>\n",
       "      <th id=\"T_49c66_level0_col1\" class=\"col_heading level0 col1\" >MASE</th>\n",
       "      <th id=\"T_49c66_level0_col2\" class=\"col_heading level0 col2\" >RMSSE</th>\n",
       "      <th id=\"T_49c66_level0_col3\" class=\"col_heading level0 col3\" >MAE</th>\n",
       "      <th id=\"T_49c66_level0_col4\" class=\"col_heading level0 col4\" >RMSE</th>\n",
       "      <th id=\"T_49c66_level0_col5\" class=\"col_heading level0 col5\" >MAPE</th>\n",
       "      <th id=\"T_49c66_level0_col6\" class=\"col_heading level0 col6\" >SMAPE</th>\n",
       "      <th id=\"T_49c66_level0_col7\" class=\"col_heading level0 col7\" >R2</th>\n",
       "    </tr>\n",
       "  </thead>\n",
       "  <tbody>\n",
       "    <tr>\n",
       "      <th id=\"T_49c66_level0_row0\" class=\"row_heading level0 row0\" >0</th>\n",
       "      <td id=\"T_49c66_row0_col0\" class=\"data row0 col0\" >2024-12-31</td>\n",
       "      <td id=\"T_49c66_row0_col1\" class=\"data row0 col1\" >3.3738</td>\n",
       "      <td id=\"T_49c66_row0_col2\" class=\"data row0 col2\" >2.6402</td>\n",
       "      <td id=\"T_49c66_row0_col3\" class=\"data row0 col3\" >718.3341</td>\n",
       "      <td id=\"T_49c66_row0_col4\" class=\"data row0 col4\" >761.9439</td>\n",
       "      <td id=\"T_49c66_row0_col5\" class=\"data row0 col5\" >0.2193</td>\n",
       "      <td id=\"T_49c66_row0_col6\" class=\"data row0 col6\" >0.1950</td>\n",
       "      <td id=\"T_49c66_row0_col7\" class=\"data row0 col7\" >-23.6862</td>\n",
       "    </tr>\n",
       "    <tr>\n",
       "      <th id=\"T_49c66_level0_row1\" class=\"row_heading level0 row1\" >1</th>\n",
       "      <td id=\"T_49c66_row1_col0\" class=\"data row1 col0\" >2025-01-30</td>\n",
       "      <td id=\"T_49c66_row1_col1\" class=\"data row1 col1\" >1.4367</td>\n",
       "      <td id=\"T_49c66_row1_col2\" class=\"data row1 col2\" >1.1707</td>\n",
       "      <td id=\"T_49c66_row1_col3\" class=\"data row1 col3\" >299.8675</td>\n",
       "      <td id=\"T_49c66_row1_col4\" class=\"data row1 col4\" >329.5651</td>\n",
       "      <td id=\"T_49c66_row1_col5\" class=\"data row1 col5\" >0.1165</td>\n",
       "      <td id=\"T_49c66_row1_col6\" class=\"data row1 col6\" >0.1086</td>\n",
       "      <td id=\"T_49c66_row1_col7\" class=\"data row1 col7\" >-1.2367</td>\n",
       "    </tr>\n",
       "    <tr>\n",
       "      <th id=\"T_49c66_level0_row2\" class=\"row_heading level0 row2\" >2</th>\n",
       "      <td id=\"T_49c66_row2_col0\" class=\"data row2 col0\" >2025-03-01</td>\n",
       "      <td id=\"T_49c66_row2_col1\" class=\"data row2 col1\" >1.0021</td>\n",
       "      <td id=\"T_49c66_row2_col2\" class=\"data row2 col2\" >0.8627</td>\n",
       "      <td id=\"T_49c66_row2_col3\" class=\"data row2 col3\" >211.1220</td>\n",
       "      <td id=\"T_49c66_row2_col4\" class=\"data row2 col4\" >243.9258</td>\n",
       "      <td id=\"T_49c66_row2_col5\" class=\"data row2 col5\" >0.1074</td>\n",
       "      <td id=\"T_49c66_row2_col6\" class=\"data row2 col6\" >0.1001</td>\n",
       "      <td id=\"T_49c66_row2_col7\" class=\"data row2 col7\" >-1.5865</td>\n",
       "    </tr>\n",
       "    <tr>\n",
       "      <th id=\"T_49c66_level0_row3\" class=\"row_heading level0 row3\" >Mean</th>\n",
       "      <td id=\"T_49c66_row3_col0\" class=\"data row3 col0\" >NaT</td>\n",
       "      <td id=\"T_49c66_row3_col1\" class=\"data row3 col1\" >1.9375</td>\n",
       "      <td id=\"T_49c66_row3_col2\" class=\"data row3 col2\" >1.5579</td>\n",
       "      <td id=\"T_49c66_row3_col3\" class=\"data row3 col3\" >409.7745</td>\n",
       "      <td id=\"T_49c66_row3_col4\" class=\"data row3 col4\" >445.1450</td>\n",
       "      <td id=\"T_49c66_row3_col5\" class=\"data row3 col5\" >0.1477</td>\n",
       "      <td id=\"T_49c66_row3_col6\" class=\"data row3 col6\" >0.1346</td>\n",
       "      <td id=\"T_49c66_row3_col7\" class=\"data row3 col7\" >-8.8365</td>\n",
       "    </tr>\n",
       "    <tr>\n",
       "      <th id=\"T_49c66_level0_row4\" class=\"row_heading level0 row4\" >SD</th>\n",
       "      <td id=\"T_49c66_row4_col0\" class=\"data row4 col0\" >NaT</td>\n",
       "      <td id=\"T_49c66_row4_col1\" class=\"data row4 col1\" >1.0309</td>\n",
       "      <td id=\"T_49c66_row4_col2\" class=\"data row4 col2\" >0.7756</td>\n",
       "      <td id=\"T_49c66_row4_col3\" class=\"data row4 col3\" >221.1722</td>\n",
       "      <td id=\"T_49c66_row4_col4\" class=\"data row4 col4\" >226.7226</td>\n",
       "      <td id=\"T_49c66_row4_col5\" class=\"data row4 col5\" >0.0507</td>\n",
       "      <td id=\"T_49c66_row4_col6\" class=\"data row4 col6\" >0.0429</td>\n",
       "      <td id=\"T_49c66_row4_col7\" class=\"data row4 col7\" >10.5014</td>\n",
       "    </tr>\n",
       "  </tbody>\n",
       "</table>\n"
      ],
      "text/plain": [
       "<pandas.io.formats.style.Styler at 0x1b9d1601130>"
      ]
     },
     "metadata": {},
     "output_type": "display_data"
    },
    {
     "data": {
      "text/html": [],
      "text/plain": [
       "<IPython.core.display.HTML object>"
      ]
     },
     "metadata": {},
     "output_type": "display_data"
    },
    {
     "name": "stdout",
     "output_type": "stream",
     "text": [
      "Fitting 3 folds for each of 10 candidates, totalling 30 fits\n"
     ]
    },
    {
     "name": "stderr",
     "output_type": "stream",
     "text": [
      "[Parallel(n_jobs=-1)]: Using backend LokyBackend with 8 concurrent workers.\n",
      "[Parallel(n_jobs=-1)]: Done  30 out of  30 | elapsed:   11.5s finished\n"
     ]
    },
    {
     "data": {
      "application/vnd.plotly.v1+json": {
       "config": {
        "plotlyServerURL": "https://plot.ly"
       },
       "data": [
        {
         "line": {
          "color": "#1f77b4"
         },
         "marker": {
          "size": 5
         },
         "mode": "lines+markers",
         "name": "Forecast | Prophet",
         "showlegend": true,
         "type": "scatter",
         "x": [
          "2025-05-01T00:00:00",
          "2025-05-02T00:00:00",
          "2025-05-03T00:00:00",
          "2025-05-04T00:00:00",
          "2025-05-05T00:00:00",
          "2025-05-06T00:00:00",
          "2025-05-07T00:00:00",
          "2025-05-08T00:00:00",
          "2025-05-09T00:00:00",
          "2025-05-10T00:00:00",
          "2025-05-11T00:00:00",
          "2025-05-12T00:00:00",
          "2025-05-13T00:00:00",
          "2025-05-14T00:00:00",
          "2025-05-15T00:00:00",
          "2025-05-16T00:00:00",
          "2025-05-17T00:00:00",
          "2025-05-18T00:00:00",
          "2025-05-19T00:00:00",
          "2025-05-20T00:00:00",
          "2025-05-21T00:00:00",
          "2025-05-22T00:00:00",
          "2025-05-23T00:00:00",
          "2025-05-24T00:00:00",
          "2025-05-25T00:00:00",
          "2025-05-26T00:00:00",
          "2025-05-27T00:00:00",
          "2025-05-28T00:00:00",
          "2025-05-29T00:00:00",
          "2025-05-30T00:00:00"
         ],
         "y": {
          "bdata": "+Q/pt+/PlUAPnDOidM2VQAyTqYKRy5VA5IOezWpIlUBmiGNdnDGVQBSuR+G6l5RAM8SxLm6hlECyLm6jARiUQMe6uI2GFZRAxLEubqMTlECcoiO5fJCTQAmKH2OueZNAzczMzMzfkkDr4jYagOmSQGpN844TYJJAf9k9eZhdkkB90LNZtVuSQECk376O2JFAwaikTsDBkUCF61G43ieRQKMBvAWSMZFAImx4eiWokEAj2/l+qqWQQDXvOEXHo5BA+MJkqqAgkEB6xyk60gmQQHsUrkfh345AuECC4kfzjkCM22gAb+CNQLbz/dR4241A",
          "dtype": "f8"
         }
        },
        {
         "line": {
          "width": 0
         },
         "marker": {
          "color": "#68BBE3"
         },
         "mode": "lines",
         "name": "Lower Interval",
         "showlegend": false,
         "type": "scatter",
         "x": [
          "2025-05-01T00:00:00",
          "2025-05-02T00:00:00",
          "2025-05-03T00:00:00",
          "2025-05-04T00:00:00",
          "2025-05-05T00:00:00",
          "2025-05-06T00:00:00",
          "2025-05-07T00:00:00",
          "2025-05-08T00:00:00",
          "2025-05-09T00:00:00",
          "2025-05-10T00:00:00",
          "2025-05-11T00:00:00",
          "2025-05-12T00:00:00",
          "2025-05-13T00:00:00",
          "2025-05-14T00:00:00",
          "2025-05-15T00:00:00",
          "2025-05-16T00:00:00",
          "2025-05-17T00:00:00",
          "2025-05-18T00:00:00",
          "2025-05-19T00:00:00",
          "2025-05-20T00:00:00",
          "2025-05-21T00:00:00",
          "2025-05-22T00:00:00",
          "2025-05-23T00:00:00",
          "2025-05-24T00:00:00",
          "2025-05-25T00:00:00",
          "2025-05-26T00:00:00",
          "2025-05-27T00:00:00",
          "2025-05-28T00:00:00",
          "2025-05-29T00:00:00",
          "2025-05-30T00:00:00"
         ],
         "y": {
          "bdata": "hA1Pr9SEkUC0yHa+34mRQIEmwoYnYZFAxLEubiPDkEAUrkfh+oiQQGZmZmYmMpBAKVyPwrVUkEArGJXUSRSQQPRsVn2uno5AY+5aQr4Gj0ArhxbZzt+NQMxdS8gHvY1AQmDl0CJYjEA3iUFg5WyMQKTfvg6c8opAVn2utuJ1ikDy0k1iEBqLQAIrhxZZYolAvVKWIY5ciEApyxDHuj6IQM/3U+Ol1odAMnctIZ/ihkDxY8xdS4+FQG40gLdAzYVA2PD0Slndg0BHA3gLJHSDQCBB8WNMGYJAmggbnl6wgkBN845T9NuAQLN78rDQjYBA",
          "dtype": "f8"
         }
        },
        {
         "fill": "tonexty",
         "fillcolor": "rgba(104,187,227,0.5)",
         "line": {
          "width": 0
         },
         "marker": {
          "color": "#68BBE3"
         },
         "mode": "lines",
         "name": "Prediction Interval | Prophet",
         "showlegend": true,
         "type": "scatter",
         "x": [
          "2025-05-01T00:00:00",
          "2025-05-02T00:00:00",
          "2025-05-03T00:00:00",
          "2025-05-04T00:00:00",
          "2025-05-05T00:00:00",
          "2025-05-06T00:00:00",
          "2025-05-07T00:00:00",
          "2025-05-08T00:00:00",
          "2025-05-09T00:00:00",
          "2025-05-10T00:00:00",
          "2025-05-11T00:00:00",
          "2025-05-12T00:00:00",
          "2025-05-13T00:00:00",
          "2025-05-14T00:00:00",
          "2025-05-15T00:00:00",
          "2025-05-16T00:00:00",
          "2025-05-17T00:00:00",
          "2025-05-18T00:00:00",
          "2025-05-19T00:00:00",
          "2025-05-20T00:00:00",
          "2025-05-21T00:00:00",
          "2025-05-22T00:00:00",
          "2025-05-23T00:00:00",
          "2025-05-24T00:00:00",
          "2025-05-25T00:00:00",
          "2025-05-26T00:00:00",
          "2025-05-27T00:00:00",
          "2025-05-28T00:00:00",
          "2025-05-29T00:00:00",
          "2025-05-30T00:00:00"
         ],
         "y": {
          "bdata": "sb/snjwtmkAMAiuHVkmaQG/whclU4JlAlkOLbCe2mUAFxY8xN9GZQLWmecdp9ZhA+MJkqiAkmUA9LNSa5tOYQGPuWkK+aphAObTIdr6DmEDHuriNRgWYQC2yne8nSJhAGQRWDq14l0APnDOitDGYQAfOGVFaQpdAO99PjRdjl0D8qfHSDUOXQNNNYhCYx5ZAQj7o2azIlkDY8PRK2ZuWQGq8dJMYCpdAYqHWNG9/lkDl8h/Sr2+WQO0NvjCZiZZAHOviNhrflUBPQBNhQ+yVQCbkg54N3pVAJ8KGp5f2lUAvbqMBfOuVQOVhodb0opVA",
          "dtype": "f8"
         }
        },
        {
         "marker": {
          "color": "#3f3f3f",
          "size": 5
         },
         "mode": "lines+markers",
         "name": "Original",
         "showlegend": true,
         "type": "scatter",
         "x": [
          "2024-05-01T00:00:00",
          "2024-05-02T00:00:00",
          "2024-05-03T00:00:00",
          "2024-05-04T00:00:00",
          "2024-05-05T00:00:00",
          "2024-05-06T00:00:00",
          "2024-05-07T00:00:00",
          "2024-05-08T00:00:00",
          "2024-05-09T00:00:00",
          "2024-05-10T00:00:00",
          "2024-05-11T00:00:00",
          "2024-05-12T00:00:00",
          "2024-05-13T00:00:00",
          "2024-05-14T00:00:00",
          "2024-05-15T00:00:00",
          "2024-05-16T00:00:00",
          "2024-05-17T00:00:00",
          "2024-05-18T00:00:00",
          "2024-05-19T00:00:00",
          "2024-05-20T00:00:00",
          "2024-05-21T00:00:00",
          "2024-05-22T00:00:00",
          "2024-05-23T00:00:00",
          "2024-05-24T00:00:00",
          "2024-05-25T00:00:00",
          "2024-05-26T00:00:00",
          "2024-05-27T00:00:00",
          "2024-05-28T00:00:00",
          "2024-05-29T00:00:00",
          "2024-05-30T00:00:00",
          "2024-05-31T00:00:00",
          "2024-06-01T00:00:00",
          "2024-06-02T00:00:00",
          "2024-06-03T00:00:00",
          "2024-06-04T00:00:00",
          "2024-06-05T00:00:00",
          "2024-06-06T00:00:00",
          "2024-06-07T00:00:00",
          "2024-06-08T00:00:00",
          "2024-06-09T00:00:00",
          "2024-06-10T00:00:00",
          "2024-06-11T00:00:00",
          "2024-06-12T00:00:00",
          "2024-06-13T00:00:00",
          "2024-06-14T00:00:00",
          "2024-06-15T00:00:00",
          "2024-06-16T00:00:00",
          "2024-06-17T00:00:00",
          "2024-06-18T00:00:00",
          "2024-06-19T00:00:00",
          "2024-06-20T00:00:00",
          "2024-06-21T00:00:00",
          "2024-06-22T00:00:00",
          "2024-06-23T00:00:00",
          "2024-06-24T00:00:00",
          "2024-06-25T00:00:00",
          "2024-06-26T00:00:00",
          "2024-06-27T00:00:00",
          "2024-06-28T00:00:00",
          "2024-06-29T00:00:00",
          "2024-06-30T00:00:00",
          "2024-07-01T00:00:00",
          "2024-07-02T00:00:00",
          "2024-07-03T00:00:00",
          "2024-07-04T00:00:00",
          "2024-07-05T00:00:00",
          "2024-07-06T00:00:00",
          "2024-07-07T00:00:00",
          "2024-07-08T00:00:00",
          "2024-07-09T00:00:00",
          "2024-07-10T00:00:00",
          "2024-07-11T00:00:00",
          "2024-07-12T00:00:00",
          "2024-07-13T00:00:00",
          "2024-07-14T00:00:00",
          "2024-07-15T00:00:00",
          "2024-07-16T00:00:00",
          "2024-07-17T00:00:00",
          "2024-07-18T00:00:00",
          "2024-07-19T00:00:00",
          "2024-07-20T00:00:00",
          "2024-07-21T00:00:00",
          "2024-07-22T00:00:00",
          "2024-07-23T00:00:00",
          "2024-07-24T00:00:00",
          "2024-07-25T00:00:00",
          "2024-07-26T00:00:00",
          "2024-07-27T00:00:00",
          "2024-07-28T00:00:00",
          "2024-07-29T00:00:00",
          "2024-07-30T00:00:00",
          "2024-07-31T00:00:00",
          "2024-08-01T00:00:00",
          "2024-08-02T00:00:00",
          "2024-08-03T00:00:00",
          "2024-08-04T00:00:00",
          "2024-08-05T00:00:00",
          "2024-08-06T00:00:00",
          "2024-08-07T00:00:00",
          "2024-08-08T00:00:00",
          "2024-08-09T00:00:00",
          "2024-08-10T00:00:00",
          "2024-08-11T00:00:00",
          "2024-08-12T00:00:00",
          "2024-08-13T00:00:00",
          "2024-08-14T00:00:00",
          "2024-08-15T00:00:00",
          "2024-08-16T00:00:00",
          "2024-08-17T00:00:00",
          "2024-08-18T00:00:00",
          "2024-08-19T00:00:00",
          "2024-08-20T00:00:00",
          "2024-08-21T00:00:00",
          "2024-08-22T00:00:00",
          "2024-08-23T00:00:00",
          "2024-08-24T00:00:00",
          "2024-08-25T00:00:00",
          "2024-08-26T00:00:00",
          "2024-08-27T00:00:00",
          "2024-08-28T00:00:00",
          "2024-08-29T00:00:00",
          "2024-08-30T00:00:00",
          "2024-08-31T00:00:00",
          "2024-09-01T00:00:00",
          "2024-09-02T00:00:00",
          "2024-09-03T00:00:00",
          "2024-09-04T00:00:00",
          "2024-09-05T00:00:00",
          "2024-09-06T00:00:00",
          "2024-09-07T00:00:00",
          "2024-09-08T00:00:00",
          "2024-09-09T00:00:00",
          "2024-09-10T00:00:00",
          "2024-09-11T00:00:00",
          "2024-09-12T00:00:00",
          "2024-09-13T00:00:00",
          "2024-09-14T00:00:00",
          "2024-09-15T00:00:00",
          "2024-09-16T00:00:00",
          "2024-09-17T00:00:00",
          "2024-09-18T00:00:00",
          "2024-09-19T00:00:00",
          "2024-09-20T00:00:00",
          "2024-09-21T00:00:00",
          "2024-09-22T00:00:00",
          "2024-09-23T00:00:00",
          "2024-09-24T00:00:00",
          "2024-09-25T00:00:00",
          "2024-09-26T00:00:00",
          "2024-09-27T00:00:00",
          "2024-09-28T00:00:00",
          "2024-09-29T00:00:00",
          "2024-09-30T00:00:00",
          "2024-10-01T00:00:00",
          "2024-10-02T00:00:00",
          "2024-10-03T00:00:00",
          "2024-10-04T00:00:00",
          "2024-10-05T00:00:00",
          "2024-10-06T00:00:00",
          "2024-10-07T00:00:00",
          "2024-10-08T00:00:00",
          "2024-10-09T00:00:00",
          "2024-10-10T00:00:00",
          "2024-10-11T00:00:00",
          "2024-10-12T00:00:00",
          "2024-10-13T00:00:00",
          "2024-10-14T00:00:00",
          "2024-10-15T00:00:00",
          "2024-10-16T00:00:00",
          "2024-10-17T00:00:00",
          "2024-10-18T00:00:00",
          "2024-10-19T00:00:00",
          "2024-10-20T00:00:00",
          "2024-10-21T00:00:00",
          "2024-10-22T00:00:00",
          "2024-10-23T00:00:00",
          "2024-10-24T00:00:00",
          "2024-10-25T00:00:00",
          "2024-10-26T00:00:00",
          "2024-10-27T00:00:00",
          "2024-10-28T00:00:00",
          "2024-10-29T00:00:00",
          "2024-10-30T00:00:00",
          "2024-10-31T00:00:00",
          "2024-11-01T00:00:00",
          "2024-11-02T00:00:00",
          "2024-11-03T00:00:00",
          "2024-11-04T00:00:00",
          "2024-11-05T00:00:00",
          "2024-11-06T00:00:00",
          "2024-11-07T00:00:00",
          "2024-11-08T00:00:00",
          "2024-11-09T00:00:00",
          "2024-11-10T00:00:00",
          "2024-11-11T00:00:00",
          "2024-11-12T00:00:00",
          "2024-11-13T00:00:00",
          "2024-11-14T00:00:00",
          "2024-11-15T00:00:00",
          "2024-11-16T00:00:00",
          "2024-11-17T00:00:00",
          "2024-11-18T00:00:00",
          "2024-11-19T00:00:00",
          "2024-11-20T00:00:00",
          "2024-11-21T00:00:00",
          "2024-11-22T00:00:00",
          "2024-11-23T00:00:00",
          "2024-11-24T00:00:00",
          "2024-11-25T00:00:00",
          "2024-11-26T00:00:00",
          "2024-11-27T00:00:00",
          "2024-11-28T00:00:00",
          "2024-11-29T00:00:00",
          "2024-11-30T00:00:00",
          "2024-12-01T00:00:00",
          "2024-12-02T00:00:00",
          "2024-12-03T00:00:00",
          "2024-12-04T00:00:00",
          "2024-12-05T00:00:00",
          "2024-12-06T00:00:00",
          "2024-12-07T00:00:00",
          "2024-12-08T00:00:00",
          "2024-12-09T00:00:00",
          "2024-12-10T00:00:00",
          "2024-12-11T00:00:00",
          "2024-12-12T00:00:00",
          "2024-12-13T00:00:00",
          "2024-12-14T00:00:00",
          "2024-12-15T00:00:00",
          "2024-12-16T00:00:00",
          "2024-12-17T00:00:00",
          "2024-12-18T00:00:00",
          "2024-12-19T00:00:00",
          "2024-12-20T00:00:00",
          "2024-12-21T00:00:00",
          "2024-12-22T00:00:00",
          "2024-12-23T00:00:00",
          "2024-12-24T00:00:00",
          "2024-12-25T00:00:00",
          "2024-12-26T00:00:00",
          "2024-12-27T00:00:00",
          "2024-12-28T00:00:00",
          "2024-12-29T00:00:00",
          "2024-12-30T00:00:00",
          "2024-12-31T00:00:00",
          "2025-01-01T00:00:00",
          "2025-01-02T00:00:00",
          "2025-01-03T00:00:00",
          "2025-01-04T00:00:00",
          "2025-01-05T00:00:00",
          "2025-01-06T00:00:00",
          "2025-01-07T00:00:00",
          "2025-01-08T00:00:00",
          "2025-01-09T00:00:00",
          "2025-01-10T00:00:00",
          "2025-01-11T00:00:00",
          "2025-01-12T00:00:00",
          "2025-01-13T00:00:00",
          "2025-01-14T00:00:00",
          "2025-01-15T00:00:00",
          "2025-01-16T00:00:00",
          "2025-01-17T00:00:00",
          "2025-01-18T00:00:00",
          "2025-01-19T00:00:00",
          "2025-01-20T00:00:00",
          "2025-01-21T00:00:00",
          "2025-01-22T00:00:00",
          "2025-01-23T00:00:00",
          "2025-01-24T00:00:00",
          "2025-01-25T00:00:00",
          "2025-01-26T00:00:00",
          "2025-01-27T00:00:00",
          "2025-01-28T00:00:00",
          "2025-01-29T00:00:00",
          "2025-01-30T00:00:00",
          "2025-01-31T00:00:00",
          "2025-02-01T00:00:00",
          "2025-02-02T00:00:00",
          "2025-02-03T00:00:00",
          "2025-02-04T00:00:00",
          "2025-02-05T00:00:00",
          "2025-02-06T00:00:00",
          "2025-02-07T00:00:00",
          "2025-02-08T00:00:00",
          "2025-02-09T00:00:00",
          "2025-02-10T00:00:00",
          "2025-02-11T00:00:00",
          "2025-02-12T00:00:00",
          "2025-02-13T00:00:00",
          "2025-02-14T00:00:00",
          "2025-02-15T00:00:00",
          "2025-02-16T00:00:00",
          "2025-02-17T00:00:00",
          "2025-02-18T00:00:00",
          "2025-02-19T00:00:00",
          "2025-02-20T00:00:00",
          "2025-02-21T00:00:00",
          "2025-02-22T00:00:00",
          "2025-02-23T00:00:00",
          "2025-02-24T00:00:00",
          "2025-02-25T00:00:00",
          "2025-02-26T00:00:00",
          "2025-02-27T00:00:00",
          "2025-02-28T00:00:00",
          "2025-03-01T00:00:00",
          "2025-03-02T00:00:00",
          "2025-03-03T00:00:00",
          "2025-03-04T00:00:00",
          "2025-03-05T00:00:00",
          "2025-03-06T00:00:00",
          "2025-03-07T00:00:00",
          "2025-03-08T00:00:00",
          "2025-03-09T00:00:00",
          "2025-03-10T00:00:00",
          "2025-03-11T00:00:00",
          "2025-03-12T00:00:00",
          "2025-03-13T00:00:00",
          "2025-03-14T00:00:00",
          "2025-03-15T00:00:00",
          "2025-03-16T00:00:00",
          "2025-03-17T00:00:00",
          "2025-03-18T00:00:00",
          "2025-03-19T00:00:00",
          "2025-03-20T00:00:00",
          "2025-03-21T00:00:00",
          "2025-03-22T00:00:00",
          "2025-03-23T00:00:00",
          "2025-03-24T00:00:00",
          "2025-03-25T00:00:00",
          "2025-03-26T00:00:00",
          "2025-03-27T00:00:00",
          "2025-03-28T00:00:00",
          "2025-03-29T00:00:00",
          "2025-03-30T00:00:00",
          "2025-03-31T00:00:00",
          "2025-04-01T00:00:00",
          "2025-04-02T00:00:00",
          "2025-04-03T00:00:00",
          "2025-04-04T00:00:00",
          "2025-04-05T00:00:00",
          "2025-04-06T00:00:00",
          "2025-04-07T00:00:00",
          "2025-04-08T00:00:00",
          "2025-04-09T00:00:00",
          "2025-04-10T00:00:00",
          "2025-04-11T00:00:00",
          "2025-04-12T00:00:00",
          "2025-04-13T00:00:00",
          "2025-04-14T00:00:00",
          "2025-04-15T00:00:00",
          "2025-04-16T00:00:00",
          "2025-04-17T00:00:00",
          "2025-04-18T00:00:00",
          "2025-04-19T00:00:00",
          "2025-04-20T00:00:00",
          "2025-04-21T00:00:00",
          "2025-04-22T00:00:00",
          "2025-04-23T00:00:00",
          "2025-04-24T00:00:00",
          "2025-04-25T00:00:00",
          "2025-04-26T00:00:00",
          "2025-04-27T00:00:00",
          "2025-04-28T00:00:00",
          "2025-04-29T00:00:00",
          "2025-04-30T00:00:00"
         ],
         "y": {
          "bdata": "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",
          "dtype": "f8"
         }
        }
       ],
       "layout": {
        "showlegend": true,
        "template": {
         "data": {
          "bar": [
           {
            "error_x": {
             "color": "rgb(51,51,51)"
            },
            "error_y": {
             "color": "rgb(51,51,51)"
            },
            "marker": {
             "line": {
              "color": "rgb(237,237,237)",
              "width": 0.5
             },
             "pattern": {
              "fillmode": "overlay",
              "size": 10,
              "solidity": 0.2
             }
            },
            "type": "bar"
           }
          ],
          "barpolar": [
           {
            "marker": {
             "line": {
              "color": "rgb(237,237,237)",
              "width": 0.5
             },
             "pattern": {
              "fillmode": "overlay",
              "size": 10,
              "solidity": 0.2
             }
            },
            "type": "barpolar"
           }
          ],
          "carpet": [
           {
            "aaxis": {
             "endlinecolor": "rgb(51,51,51)",
             "gridcolor": "white",
             "linecolor": "white",
             "minorgridcolor": "white",
             "startlinecolor": "rgb(51,51,51)"
            },
            "baxis": {
             "endlinecolor": "rgb(51,51,51)",
             "gridcolor": "white",
             "linecolor": "white",
             "minorgridcolor": "white",
             "startlinecolor": "rgb(51,51,51)"
            },
            "type": "carpet"
           }
          ],
          "choropleth": [
           {
            "colorbar": {
             "outlinewidth": 0,
             "tickcolor": "rgb(237,237,237)",
             "ticklen": 6,
             "ticks": "inside"
            },
            "type": "choropleth"
           }
          ],
          "contour": [
           {
            "colorbar": {
             "outlinewidth": 0,
             "tickcolor": "rgb(237,237,237)",
             "ticklen": 6,
             "ticks": "inside"
            },
            "colorscale": [
             [
              0,
              "rgb(20,44,66)"
             ],
             [
              1,
              "rgb(90,179,244)"
             ]
            ],
            "type": "contour"
           }
          ],
          "contourcarpet": [
           {
            "colorbar": {
             "outlinewidth": 0,
             "tickcolor": "rgb(237,237,237)",
             "ticklen": 6,
             "ticks": "inside"
            },
            "type": "contourcarpet"
           }
          ],
          "heatmap": [
           {
            "colorbar": {
             "outlinewidth": 0,
             "tickcolor": "rgb(237,237,237)",
             "ticklen": 6,
             "ticks": "inside"
            },
            "colorscale": [
             [
              0,
              "rgb(20,44,66)"
             ],
             [
              1,
              "rgb(90,179,244)"
             ]
            ],
            "type": "heatmap"
           }
          ],
          "histogram": [
           {
            "marker": {
             "pattern": {
              "fillmode": "overlay",
              "size": 10,
              "solidity": 0.2
             }
            },
            "type": "histogram"
           }
          ],
          "histogram2d": [
           {
            "colorbar": {
             "outlinewidth": 0,
             "tickcolor": "rgb(237,237,237)",
             "ticklen": 6,
             "ticks": "inside"
            },
            "colorscale": [
             [
              0,
              "rgb(20,44,66)"
             ],
             [
              1,
              "rgb(90,179,244)"
             ]
            ],
            "type": "histogram2d"
           }
          ],
          "histogram2dcontour": [
           {
            "colorbar": {
             "outlinewidth": 0,
             "tickcolor": "rgb(237,237,237)",
             "ticklen": 6,
             "ticks": "inside"
            },
            "colorscale": [
             [
              0,
              "rgb(20,44,66)"
             ],
             [
              1,
              "rgb(90,179,244)"
             ]
            ],
            "type": "histogram2dcontour"
           }
          ],
          "mesh3d": [
           {
            "colorbar": {
             "outlinewidth": 0,
             "tickcolor": "rgb(237,237,237)",
             "ticklen": 6,
             "ticks": "inside"
            },
            "type": "mesh3d"
           }
          ],
          "parcoords": [
           {
            "line": {
             "colorbar": {
              "outlinewidth": 0,
              "tickcolor": "rgb(237,237,237)",
              "ticklen": 6,
              "ticks": "inside"
             }
            },
            "type": "parcoords"
           }
          ],
          "pie": [
           {
            "automargin": true,
            "type": "pie"
           }
          ],
          "scatter": [
           {
            "fillpattern": {
             "fillmode": "overlay",
             "size": 10,
             "solidity": 0.2
            },
            "type": "scatter"
           }
          ],
          "scatter3d": [
           {
            "line": {
             "colorbar": {
              "outlinewidth": 0,
              "tickcolor": "rgb(237,237,237)",
              "ticklen": 6,
              "ticks": "inside"
             }
            },
            "marker": {
             "colorbar": {
              "outlinewidth": 0,
              "tickcolor": "rgb(237,237,237)",
              "ticklen": 6,
              "ticks": "inside"
             }
            },
            "type": "scatter3d"
           }
          ],
          "scattercarpet": [
           {
            "marker": {
             "colorbar": {
              "outlinewidth": 0,
              "tickcolor": "rgb(237,237,237)",
              "ticklen": 6,
              "ticks": "inside"
             }
            },
            "type": "scattercarpet"
           }
          ],
          "scattergeo": [
           {
            "marker": {
             "colorbar": {
              "outlinewidth": 0,
              "tickcolor": "rgb(237,237,237)",
              "ticklen": 6,
              "ticks": "inside"
             }
            },
            "type": "scattergeo"
           }
          ],
          "scattergl": [
           {
            "marker": {
             "colorbar": {
              "outlinewidth": 0,
              "tickcolor": "rgb(237,237,237)",
              "ticklen": 6,
              "ticks": "inside"
             }
            },
            "type": "scattergl"
           }
          ],
          "scattermap": [
           {
            "marker": {
             "colorbar": {
              "outlinewidth": 0,
              "tickcolor": "rgb(237,237,237)",
              "ticklen": 6,
              "ticks": "inside"
             }
            },
            "type": "scattermap"
           }
          ],
          "scattermapbox": [
           {
            "marker": {
             "colorbar": {
              "outlinewidth": 0,
              "tickcolor": "rgb(237,237,237)",
              "ticklen": 6,
              "ticks": "inside"
             }
            },
            "type": "scattermapbox"
           }
          ],
          "scatterpolar": [
           {
            "marker": {
             "colorbar": {
              "outlinewidth": 0,
              "tickcolor": "rgb(237,237,237)",
              "ticklen": 6,
              "ticks": "inside"
             }
            },
            "type": "scatterpolar"
           }
          ],
          "scatterpolargl": [
           {
            "marker": {
             "colorbar": {
              "outlinewidth": 0,
              "tickcolor": "rgb(237,237,237)",
              "ticklen": 6,
              "ticks": "inside"
             }
            },
            "type": "scatterpolargl"
           }
          ],
          "scatterternary": [
           {
            "marker": {
             "colorbar": {
              "outlinewidth": 0,
              "tickcolor": "rgb(237,237,237)",
              "ticklen": 6,
              "ticks": "inside"
             }
            },
            "type": "scatterternary"
           }
          ],
          "surface": [
           {
            "colorbar": {
             "outlinewidth": 0,
             "tickcolor": "rgb(237,237,237)",
             "ticklen": 6,
             "ticks": "inside"
            },
            "colorscale": [
             [
              0,
              "rgb(20,44,66)"
             ],
             [
              1,
              "rgb(90,179,244)"
             ]
            ],
            "type": "surface"
           }
          ],
          "table": [
           {
            "cells": {
             "fill": {
              "color": "rgb(237,237,237)"
             },
             "line": {
              "color": "white"
             }
            },
            "header": {
             "fill": {
              "color": "rgb(217,217,217)"
             },
             "line": {
              "color": "white"
             }
            },
            "type": "table"
           }
          ]
         },
         "layout": {
          "annotationdefaults": {
           "arrowhead": 0,
           "arrowwidth": 1
          },
          "autotypenumbers": "strict",
          "coloraxis": {
           "colorbar": {
            "outlinewidth": 0,
            "tickcolor": "rgb(237,237,237)",
            "ticklen": 6,
            "ticks": "inside"
           }
          },
          "colorscale": {
           "sequential": [
            [
             0,
             "rgb(20,44,66)"
            ],
            [
             1,
             "rgb(90,179,244)"
            ]
           ],
           "sequentialminus": [
            [
             0,
             "rgb(20,44,66)"
            ],
            [
             1,
             "rgb(90,179,244)"
            ]
           ]
          },
          "colorway": [
           "#F8766D",
           "#A3A500",
           "#00BF7D",
           "#00B0F6",
           "#E76BF3"
          ],
          "font": {
           "color": "rgb(51,51,51)"
          },
          "geo": {
           "bgcolor": "white",
           "lakecolor": "white",
           "landcolor": "rgb(237,237,237)",
           "showlakes": true,
           "showland": true,
           "subunitcolor": "white"
          },
          "hoverlabel": {
           "align": "left"
          },
          "hovermode": "closest",
          "paper_bgcolor": "white",
          "plot_bgcolor": "rgb(237,237,237)",
          "polar": {
           "angularaxis": {
            "gridcolor": "white",
            "linecolor": "white",
            "showgrid": true,
            "tickcolor": "rgb(51,51,51)",
            "ticks": "outside"
           },
           "bgcolor": "rgb(237,237,237)",
           "radialaxis": {
            "gridcolor": "white",
            "linecolor": "white",
            "showgrid": true,
            "tickcolor": "rgb(51,51,51)",
            "ticks": "outside"
           }
          },
          "scene": {
           "xaxis": {
            "backgroundcolor": "rgb(237,237,237)",
            "gridcolor": "white",
            "gridwidth": 2,
            "linecolor": "white",
            "showbackground": true,
            "showgrid": true,
            "tickcolor": "rgb(51,51,51)",
            "ticks": "outside",
            "zerolinecolor": "white"
           },
           "yaxis": {
            "backgroundcolor": "rgb(237,237,237)",
            "gridcolor": "white",
            "gridwidth": 2,
            "linecolor": "white",
            "showbackground": true,
            "showgrid": true,
            "tickcolor": "rgb(51,51,51)",
            "ticks": "outside",
            "zerolinecolor": "white"
           },
           "zaxis": {
            "backgroundcolor": "rgb(237,237,237)",
            "gridcolor": "white",
            "gridwidth": 2,
            "linecolor": "white",
            "showbackground": true,
            "showgrid": true,
            "tickcolor": "rgb(51,51,51)",
            "ticks": "outside",
            "zerolinecolor": "white"
           }
          },
          "shapedefaults": {
           "fillcolor": "black",
           "line": {
            "width": 0
           },
           "opacity": 0.3
          },
          "ternary": {
           "aaxis": {
            "gridcolor": "white",
            "linecolor": "white",
            "showgrid": true,
            "tickcolor": "rgb(51,51,51)",
            "ticks": "outside"
           },
           "baxis": {
            "gridcolor": "white",
            "linecolor": "white",
            "showgrid": true,
            "tickcolor": "rgb(51,51,51)",
            "ticks": "outside"
           },
           "bgcolor": "rgb(237,237,237)",
           "caxis": {
            "gridcolor": "white",
            "linecolor": "white",
            "showgrid": true,
            "tickcolor": "rgb(51,51,51)",
            "ticks": "outside"
           }
          },
          "xaxis": {
           "automargin": true,
           "gridcolor": "white",
           "linecolor": "white",
           "showgrid": true,
           "tickcolor": "rgb(51,51,51)",
           "ticks": "outside",
           "title": {
            "standoff": 15
           },
           "zerolinecolor": "white"
          },
          "yaxis": {
           "automargin": true,
           "gridcolor": "white",
           "linecolor": "white",
           "showgrid": true,
           "tickcolor": "rgb(51,51,51)",
           "ticks": "outside",
           "title": {
            "standoff": 15
           },
           "zerolinecolor": "white"
          }
         }
        },
        "title": {
         "text": "Actual vs. 'Out-of-Sample' Forecast | ETH-USD"
        },
        "xaxis": {
         "title": {
          "text": "Time"
         }
        },
        "yaxis": {
         "title": {
          "text": "Values"
         }
        }
       }
      }
     },
     "metadata": {},
     "output_type": "display_data"
    }
   ],
   "source": [
    "prophet = create_model('prophet')\n",
    "tuned_prophet = tune_model(prophet)\n",
    "final_prophet = finalize_model(tuned_prophet)\n",
    "prophet_predictions = predict_model(final_prophet)\n",
    "plot_model(final_prophet, plot='forecast')\n"
   ]
  },
  {
   "cell_type": "markdown",
   "id": "20f4c692",
   "metadata": {},
   "source": [
    "Forecast BTC-USD using XGBOOST"
   ]
  },
  {
   "cell_type": "code",
   "execution_count": 145,
   "id": "15523e09",
   "metadata": {},
   "outputs": [],
   "source": [
    "import xgboost\n",
    "from pycaret.regression import *\n",
    "\n"
   ]
  },
  {
   "cell_type": "markdown",
   "id": "57a323eb",
   "metadata": {},
   "source": [
    "Forecast BTC-USD using LSTM"
   ]
  },
  {
   "cell_type": "code",
   "execution_count": 104,
   "id": "6772fd18",
   "metadata": {},
   "outputs": [],
   "source": [
    "import pandas as pd\n",
    "from neuralforecast import NeuralForecast\n",
    "from neuralforecast.models import LSTM\n",
    "from neuralforecast.losses.pytorch import MAE\n",
    "import matplotlib.pyplot as plt\n",
    "from candlestick import fetch_all_data"
   ]
  },
  {
   "cell_type": "code",
   "execution_count": 146,
   "id": "5ac40427",
   "metadata": {},
   "outputs": [
    {
     "name": "stderr",
     "output_type": "stream",
     "text": [
      "[*********************100%***********************]  30 of 30 completed\n"
     ]
    }
   ],
   "source": [
    "df_full = fetch_data()"
   ]
  },
  {
   "cell_type": "code",
   "execution_count": 147,
   "id": "fdb656f0",
   "metadata": {},
   "outputs": [],
   "source": [
    "# Clean BTC-only data for LSTM\n",
    "df_btc = df_full[['BTC-USD']].copy()\n",
    "df_btc = df_btc.dropna()  # Drop rows with missing BTC prices"
   ]
  },
  {
   "cell_type": "code",
   "execution_count": 148,
   "id": "b94a1081",
   "metadata": {},
   "outputs": [],
   "source": [
    "# Prepare for NeuralForecast\n",
    "df_btc['ds'] = pd.to_datetime(df_btc.index)\n",
    "df_btc['y'] = df_btc['BTC-USD']\n",
    "df_btc['unique_id'] = 'BTC-USD'"
   ]
  },
  {
   "cell_type": "code",
   "execution_count": 149,
   "id": "3536c937",
   "metadata": {},
   "outputs": [],
   "source": [
    "# Only keep required columns\n",
    "df_btc = df_btc[['unique_id', 'ds', 'y']]"
   ]
  },
  {
   "cell_type": "code",
   "execution_count": 150,
   "id": "6359e831",
   "metadata": {},
   "outputs": [
    {
     "name": "stderr",
     "output_type": "stream",
     "text": [
      "Seed set to 1\n"
     ]
    }
   ],
   "source": [
    "# Train LSTM\n",
    "lstm_model = LSTM(\n",
    "    h=30,\n",
    "    input_size=60,\n",
    "    max_steps=500,\n",
    "    loss=MAE(),\n",
    "    scaler_type='standard'\n",
    ")"
   ]
  },
  {
   "cell_type": "code",
   "execution_count": 151,
   "id": "ef379bc1",
   "metadata": {},
   "outputs": [
    {
     "name": "stderr",
     "output_type": "stream",
     "text": [
      "GPU available: False, used: False\n",
      "TPU available: False, using: 0 TPU cores\n",
      "HPU available: False, using: 0 HPUs\n",
      "\n",
      "  | Name         | Type          | Params | Mode \n",
      "-------------------------------------------------------\n",
      "0 | loss         | MAE           | 0      | train\n",
      "1 | padder_train | ConstantPad1d | 0      | train\n",
      "2 | scaler       | TemporalNorm  | 0      | train\n",
      "3 | hist_encoder | LSTM          | 199 K  | train\n",
      "4 | mlp_decoder  | MLP           | 16.6 K | train\n",
      "-------------------------------------------------------\n",
      "215 K     Trainable params\n",
      "0         Non-trainable params\n",
      "215 K     Total params\n",
      "0.863     Total estimated model params size (MB)\n",
      "10        Modules in train mode\n",
      "0         Modules in eval mode\n"
     ]
    },
    {
     "data": {
      "application/vnd.jupyter.widget-view+json": {
       "model_id": "90347d2c2cf14e0684c5c9fdc22486a8",
       "version_major": 2,
       "version_minor": 0
      },
      "text/plain": [
       "Sanity Checking: |          | 0/? [00:00<?, ?it/s]"
      ]
     },
     "metadata": {},
     "output_type": "display_data"
    },
    {
     "data": {
      "application/vnd.jupyter.widget-view+json": {
       "model_id": "05a4fff2fd994bba833f655f1b09e53a",
       "version_major": 2,
       "version_minor": 0
      },
      "text/plain": [
       "Training: |          | 0/? [00:00<?, ?it/s]"
      ]
     },
     "metadata": {},
     "output_type": "display_data"
    },
    {
     "data": {
      "application/vnd.jupyter.widget-view+json": {
       "model_id": "a32cf7a378994cf2a9efa679019ac87c",
       "version_major": 2,
       "version_minor": 0
      },
      "text/plain": [
       "Validation: |          | 0/? [00:00<?, ?it/s]"
      ]
     },
     "metadata": {},
     "output_type": "display_data"
    },
    {
     "data": {
      "application/vnd.jupyter.widget-view+json": {
       "model_id": "f9834ce59b3140298a6b105f0b0c8b0e",
       "version_major": 2,
       "version_minor": 0
      },
      "text/plain": [
       "Validation: |          | 0/? [00:00<?, ?it/s]"
      ]
     },
     "metadata": {},
     "output_type": "display_data"
    },
    {
     "data": {
      "application/vnd.jupyter.widget-view+json": {
       "model_id": "39a6987e310744ffb652bf3617bf48f2",
       "version_major": 2,
       "version_minor": 0
      },
      "text/plain": [
       "Validation: |          | 0/? [00:00<?, ?it/s]"
      ]
     },
     "metadata": {},
     "output_type": "display_data"
    },
    {
     "data": {
      "application/vnd.jupyter.widget-view+json": {
       "model_id": "47bef374e1e04b74b3e271a5a3cba252",
       "version_major": 2,
       "version_minor": 0
      },
      "text/plain": [
       "Validation: |          | 0/? [00:00<?, ?it/s]"
      ]
     },
     "metadata": {},
     "output_type": "display_data"
    },
    {
     "data": {
      "application/vnd.jupyter.widget-view+json": {
       "model_id": "be43f6d2dc3a49ef90ea039bf16ce3a3",
       "version_major": 2,
       "version_minor": 0
      },
      "text/plain": [
       "Validation: |          | 0/? [00:00<?, ?it/s]"
      ]
     },
     "metadata": {},
     "output_type": "display_data"
    },
    {
     "name": "stderr",
     "output_type": "stream",
     "text": [
      "`Trainer.fit` stopped: `max_steps=500` reached.\n",
      "GPU available: False, used: False\n",
      "TPU available: False, using: 0 TPU cores\n",
      "HPU available: False, using: 0 HPUs\n"
     ]
    },
    {
     "data": {
      "application/vnd.jupyter.widget-view+json": {
       "model_id": "f7e5122c4d7c4f2bb155365aaed371b9",
       "version_major": 2,
       "version_minor": 0
      },
      "text/plain": [
       "Predicting: |          | 0/? [00:00<?, ?it/s]"
      ]
     },
     "metadata": {},
     "output_type": "display_data"
    }
   ],
   "source": [
    "\n",
    "nf = NeuralForecast(models=[lstm_model], freq='D')\n",
    "nf.fit(df=df_btc)\n",
    "forecast = nf.predict()"
   ]
  },
  {
   "cell_type": "code",
   "execution_count": 152,
   "id": "b998759c",
   "metadata": {},
   "outputs": [
    {
     "data": {
      "image/png": "[encoded data removed]",
      "text/plain": [
       "<Figure size 1400x600 with 1 Axes>"
      ]
     },
     "metadata": {},
     "output_type": "display_data"
    }
   ],
   "source": [
    "# 4. Plot results\n",
    "plt.figure(figsize=(14, 6))\n",
    "plt.plot(df_btc['ds'], df_btc['y'], label='Historical')\n",
    "plt.plot(forecast['ds'], forecast['LSTM'], label='LSTM Forecast', color='red')\n",
    "plt.title('BTC-USD 30-Day LSTM Forecast')\n",
    "plt.legend()\n",
    "plt.grid()\n",
    "plt.show()"
   ]
  },
  {
   "cell_type": "code",
   "execution_count": 153,
   "id": "2f22d41e",
   "metadata": {},
   "outputs": [],
   "source": [
    "# Rebuild the signal column\n",
    "df_btc['signal'] = 0\n",
    "for i in range(1, len(df_btc)):\n",
    "    if df_btc['y'].iloc[i] > df_btc['y'].iloc[i-1] + 2000:\n",
    "        df_btc.loc[df_btc.index[i], 'signal'] = 1\n",
    "    elif df_btc['y'].iloc[i] < df_btc['y'].iloc[i-1] - 2000:\n",
    "        df_btc.loc[df_btc.index[i], 'signal'] = -1\n"
   ]
  },
  {
   "cell_type": "code",
   "execution_count": 125,
   "id": "b5ebdd4a",
   "metadata": {},
   "outputs": [],
   "source": [
    "import plotly.graph_objects as go"
   ]
  },
  {
   "cell_type": "code",
   "execution_count": 154,
   "id": "46b070cf",
   "metadata": {},
   "outputs": [
    {
     "data": {
      "application/vnd.plotly.v1+json": {
       "config": {
        "plotlyServerURL": "https://plot.ly"
       },
       "data": [
        {
         "mode": "lines",
         "name": "Historical BTC Price",
         "type": "scatter",
         "x": [
          "2024-05-01T00:00:00",
          "2024-05-02T00:00:00",
          "2024-05-03T00:00:00",
          "2024-05-04T00:00:00",
          "2024-05-05T00:00:00",
          "2024-05-06T00:00:00",
          "2024-05-07T00:00:00",
          "2024-05-08T00:00:00",
          "2024-05-09T00:00:00",
          "2024-05-10T00:00:00",
          "2024-05-11T00:00:00",
          "2024-05-12T00:00:00",
          "2024-05-13T00:00:00",
          "2024-05-14T00:00:00",
          "2024-05-15T00:00:00",
          "2024-05-16T00:00:00",
          "2024-05-17T00:00:00",
          "2024-05-18T00:00:00",
          "2024-05-19T00:00:00",
          "2024-05-20T00:00:00",
          "2024-05-21T00:00:00",
          "2024-05-22T00:00:00",
          "2024-05-23T00:00:00",
          "2024-05-24T00:00:00",
          "2024-05-25T00:00:00",
          "2024-05-26T00:00:00",
          "2024-05-27T00:00:00",
          "2024-05-28T00:00:00",
          "2024-05-29T00:00:00",
          "2024-05-30T00:00:00",
          "2024-05-31T00:00:00",
          "2024-06-01T00:00:00",
          "2024-06-02T00:00:00",
          "2024-06-03T00:00:00",
          "2024-06-04T00:00:00",
          "2024-06-05T00:00:00",
          "2024-06-06T00:00:00",
          "2024-06-07T00:00:00",
          "2024-06-08T00:00:00",
          "2024-06-09T00:00:00",
          "2024-06-10T00:00:00",
          "2024-06-11T00:00:00",
          "2024-06-12T00:00:00",
          "2024-06-13T00:00:00",
          "2024-06-14T00:00:00",
          "2024-06-15T00:00:00",
          "2024-06-16T00:00:00",
          "2024-06-17T00:00:00",
          "2024-06-18T00:00:00",
          "2024-06-19T00:00:00",
          "2024-06-20T00:00:00",
          "2024-06-21T00:00:00",
          "2024-06-22T00:00:00",
          "2024-06-23T00:00:00",
          "2024-06-24T00:00:00",
          "2024-06-25T00:00:00",
          "2024-06-26T00:00:00",
          "2024-06-27T00:00:00",
          "2024-06-28T00:00:00",
          "2024-06-29T00:00:00",
          "2024-06-30T00:00:00",
          "2024-07-01T00:00:00",
          "2024-07-02T00:00:00",
          "2024-07-03T00:00:00",
          "2024-07-04T00:00:00",
          "2024-07-05T00:00:00",
          "2024-07-06T00:00:00",
          "2024-07-07T00:00:00",
          "2024-07-08T00:00:00",
          "2024-07-09T00:00:00",
          "2024-07-10T00:00:00",
          "2024-07-11T00:00:00",
          "2024-07-12T00:00:00",
          "2024-07-13T00:00:00",
          "2024-07-14T00:00:00",
          "2024-07-15T00:00:00",
          "2024-07-16T00:00:00",
          "2024-07-17T00:00:00",
          "2024-07-18T00:00:00",
          "2024-07-19T00:00:00",
          "2024-07-20T00:00:00",
          "2024-07-21T00:00:00",
          "2024-07-22T00:00:00",
          "2024-07-23T00:00:00",
          "2024-07-24T00:00:00",
          "2024-07-25T00:00:00",
          "2024-07-26T00:00:00",
          "2024-07-27T00:00:00",
          "2024-07-28T00:00:00",
          "2024-07-29T00:00:00",
          "2024-07-30T00:00:00",
          "2024-07-31T00:00:00",
          "2024-08-01T00:00:00",
          "2024-08-02T00:00:00",
          "2024-08-03T00:00:00",
          "2024-08-04T00:00:00",
          "2024-08-05T00:00:00",
          "2024-08-06T00:00:00",
          "2024-08-07T00:00:00",
          "2024-08-08T00:00:00",
          "2024-08-09T00:00:00",
          "2024-08-10T00:00:00",
          "2024-08-11T00:00:00",
          "2024-08-12T00:00:00",
          "2024-08-13T00:00:00",
          "2024-08-14T00:00:00",
          "2024-08-15T00:00:00",
          "2024-08-16T00:00:00",
          "2024-08-17T00:00:00",
          "2024-08-18T00:00:00",
          "2024-08-19T00:00:00",
          "2024-08-20T00:00:00",
          "2024-08-21T00:00:00",
          "2024-08-22T00:00:00",
          "2024-08-23T00:00:00",
          "2024-08-24T00:00:00",
          "2024-08-25T00:00:00",
          "2024-08-26T00:00:00",
          "2024-08-27T00:00:00",
          "2024-08-28T00:00:00",
          "2024-08-29T00:00:00",
          "2024-08-30T00:00:00",
          "2024-08-31T00:00:00",
          "2024-09-01T00:00:00",
          "2024-09-02T00:00:00",
          "2024-09-03T00:00:00",
          "2024-09-04T00:00:00",
          "2024-09-05T00:00:00",
          "2024-09-06T00:00:00",
          "2024-09-07T00:00:00",
          "2024-09-08T00:00:00",
          "2024-09-09T00:00:00",
          "2024-09-10T00:00:00",
          "2024-09-11T00:00:00",
          "2024-09-12T00:00:00",
          "2024-09-13T00:00:00",
          "2024-09-14T00:00:00",
          "2024-09-15T00:00:00",
          "2024-09-16T00:00:00",
          "2024-09-17T00:00:00",
          "2024-09-18T00:00:00",
          "2024-09-19T00:00:00",
          "2024-09-20T00:00:00",
          "2024-09-21T00:00:00",
          "2024-09-22T00:00:00",
          "2024-09-23T00:00:00",
          "2024-09-24T00:00:00",
          "2024-09-25T00:00:00",
          "2024-09-26T00:00:00",
          "2024-09-27T00:00:00",
          "2024-09-28T00:00:00",
          "2024-09-29T00:00:00",
          "2024-09-30T00:00:00",
          "2024-10-01T00:00:00",
          "2024-10-02T00:00:00",
          "2024-10-03T00:00:00",
          "2024-10-04T00:00:00",
          "2024-10-05T00:00:00",
          "2024-10-06T00:00:00",
          "2024-10-07T00:00:00",
          "2024-10-08T00:00:00",
          "2024-10-09T00:00:00",
          "2024-10-10T00:00:00",
          "2024-10-11T00:00:00",
          "2024-10-12T00:00:00",
          "2024-10-13T00:00:00",
          "2024-10-14T00:00:00",
          "2024-10-15T00:00:00",
          "2024-10-16T00:00:00",
          "2024-10-17T00:00:00",
          "2024-10-18T00:00:00",
          "2024-10-19T00:00:00",
          "2024-10-20T00:00:00",
          "2024-10-21T00:00:00",
          "2024-10-22T00:00:00",
          "2024-10-23T00:00:00",
          "2024-10-24T00:00:00",
          "2024-10-25T00:00:00",
          "2024-10-26T00:00:00",
          "2024-10-27T00:00:00",
          "2024-10-28T00:00:00",
          "2024-10-29T00:00:00",
          "2024-10-30T00:00:00",
          "2024-10-31T00:00:00",
          "2024-11-01T00:00:00",
          "2024-11-02T00:00:00",
          "2024-11-03T00:00:00",
          "2024-11-04T00:00:00",
          "2024-11-05T00:00:00",
          "2024-11-06T00:00:00",
          "2024-11-07T00:00:00",
          "2024-11-08T00:00:00",
          "2024-11-09T00:00:00",
          "2024-11-10T00:00:00",
          "2024-11-11T00:00:00",
          "2024-11-12T00:00:00",
          "2024-11-13T00:00:00",
          "2024-11-14T00:00:00",
          "2024-11-15T00:00:00",
          "2024-11-16T00:00:00",
          "2024-11-17T00:00:00",
          "2024-11-18T00:00:00",
          "2024-11-19T00:00:00",
          "2024-11-20T00:00:00",
          "2024-11-21T00:00:00",
          "2024-11-22T00:00:00",
          "2024-11-23T00:00:00",
          "2024-11-24T00:00:00",
          "2024-11-25T00:00:00",
          "2024-11-26T00:00:00",
          "2024-11-27T00:00:00",
          "2024-11-28T00:00:00",
          "2024-11-29T00:00:00",
          "2024-11-30T00:00:00",
          "2024-12-01T00:00:00",
          "2024-12-02T00:00:00",
          "2024-12-03T00:00:00",
          "2024-12-04T00:00:00",
          "2024-12-05T00:00:00",
          "2024-12-06T00:00:00",
          "2024-12-07T00:00:00",
          "2024-12-08T00:00:00",
          "2024-12-09T00:00:00",
          "2024-12-10T00:00:00",
          "2024-12-11T00:00:00",
          "2024-12-12T00:00:00",
          "2024-12-13T00:00:00",
          "2024-12-14T00:00:00",
          "2024-12-15T00:00:00",
          "2024-12-16T00:00:00",
          "2024-12-17T00:00:00",
          "2024-12-18T00:00:00",
          "2024-12-19T00:00:00",
          "2024-12-20T00:00:00",
          "2024-12-21T00:00:00",
          "2024-12-22T00:00:00",
          "2024-12-23T00:00:00",
          "2024-12-24T00:00:00",
          "2024-12-25T00:00:00",
          "2024-12-26T00:00:00",
          "2024-12-27T00:00:00",
          "2024-12-28T00:00:00",
          "2024-12-29T00:00:00",
          "2024-12-30T00:00:00",
          "2024-12-31T00:00:00",
          "2025-01-01T00:00:00",
          "2025-01-02T00:00:00",
          "2025-01-03T00:00:00",
          "2025-01-04T00:00:00",
          "2025-01-05T00:00:00",
          "2025-01-06T00:00:00",
          "2025-01-07T00:00:00",
          "2025-01-08T00:00:00",
          "2025-01-09T00:00:00",
          "2025-01-10T00:00:00",
          "2025-01-11T00:00:00",
          "2025-01-12T00:00:00",
          "2025-01-13T00:00:00",
          "2025-01-14T00:00:00",
          "2025-01-15T00:00:00",
          "2025-01-16T00:00:00",
          "2025-01-17T00:00:00",
          "2025-01-18T00:00:00",
          "2025-01-19T00:00:00",
          "2025-01-20T00:00:00",
          "2025-01-21T00:00:00",
          "2025-01-22T00:00:00",
          "2025-01-23T00:00:00",
          "2025-01-24T00:00:00",
          "2025-01-25T00:00:00",
          "2025-01-26T00:00:00",
          "2025-01-27T00:00:00",
          "2025-01-28T00:00:00",
          "2025-01-29T00:00:00",
          "2025-01-30T00:00:00",
          "2025-01-31T00:00:00",
          "2025-02-01T00:00:00",
          "2025-02-02T00:00:00",
          "2025-02-03T00:00:00",
          "2025-02-04T00:00:00",
          "2025-02-05T00:00:00",
          "2025-02-06T00:00:00",
          "2025-02-07T00:00:00",
          "2025-02-08T00:00:00",
          "2025-02-09T00:00:00",
          "2025-02-10T00:00:00",
          "2025-02-11T00:00:00",
          "2025-02-12T00:00:00",
          "2025-02-13T00:00:00",
          "2025-02-14T00:00:00",
          "2025-02-15T00:00:00",
          "2025-02-16T00:00:00",
          "2025-02-17T00:00:00",
          "2025-02-18T00:00:00",
          "2025-02-19T00:00:00",
          "2025-02-20T00:00:00",
          "2025-02-21T00:00:00",
          "2025-02-22T00:00:00",
          "2025-02-23T00:00:00",
          "2025-02-24T00:00:00",
          "2025-02-25T00:00:00",
          "2025-02-26T00:00:00",
          "2025-02-27T00:00:00",
          "2025-02-28T00:00:00",
          "2025-03-01T00:00:00",
          "2025-03-02T00:00:00",
          "2025-03-03T00:00:00",
          "2025-03-04T00:00:00",
          "2025-03-05T00:00:00",
          "2025-03-06T00:00:00",
          "2025-03-07T00:00:00",
          "2025-03-08T00:00:00",
          "2025-03-09T00:00:00",
          "2025-03-10T00:00:00",
          "2025-03-11T00:00:00",
          "2025-03-12T00:00:00",
          "2025-03-13T00:00:00",
          "2025-03-14T00:00:00",
          "2025-03-15T00:00:00",
          "2025-03-16T00:00:00",
          "2025-03-17T00:00:00",
          "2025-03-18T00:00:00",
          "2025-03-19T00:00:00",
          "2025-03-20T00:00:00",
          "2025-03-21T00:00:00",
          "2025-03-22T00:00:00",
          "2025-03-23T00:00:00",
          "2025-03-24T00:00:00",
          "2025-03-25T00:00:00",
          "2025-03-26T00:00:00",
          "2025-03-27T00:00:00",
          "2025-03-28T00:00:00",
          "2025-03-29T00:00:00",
          "2025-03-30T00:00:00",
          "2025-03-31T00:00:00",
          "2025-04-01T00:00:00",
          "2025-04-02T00:00:00",
          "2025-04-03T00:00:00",
          "2025-04-04T00:00:00",
          "2025-04-05T00:00:00",
          "2025-04-06T00:00:00",
          "2025-04-07T00:00:00",
          "2025-04-08T00:00:00",
          "2025-04-09T00:00:00",
          "2025-04-10T00:00:00",
          "2025-04-11T00:00:00",
          "2025-04-12T00:00:00",
          "2025-04-13T00:00:00",
          "2025-04-14T00:00:00",
          "2025-04-15T00:00:00",
          "2025-04-16T00:00:00",
          "2025-04-17T00:00:00",
          "2025-04-18T00:00:00",
          "2025-04-19T00:00:00",
          "2025-04-20T00:00:00",
          "2025-04-21T00:00:00",
          "2025-04-22T00:00:00",
          "2025-04-23T00:00:00",
          "2025-04-24T00:00:00",
          "2025-04-25T00:00:00",
          "2025-04-26T00:00:00",
          "2025-04-27T00:00:00",
          "2025-04-28T00:00:00",
          "2025-04-29T00:00:00",
          "2025-04-30T00:00:00"
         ],
         "y": {
          "bdata": "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",
          "dtype": "f8"
         }
        },
        {
         "name": "LSTM Forecast",
         "type": "scatter",
         "x": [
          "2025-05-01T00:00:00",
          "2025-05-02T00:00:00",
          "2025-05-03T00:00:00",
          "2025-05-04T00:00:00",
          "2025-05-05T00:00:00",
          "2025-05-06T00:00:00",
          "2025-05-07T00:00:00",
          "2025-05-08T00:00:00",
          "2025-05-09T00:00:00",
          "2025-05-10T00:00:00",
          "2025-05-11T00:00:00",
          "2025-05-12T00:00:00",
          "2025-05-13T00:00:00",
          "2025-05-14T00:00:00",
          "2025-05-15T00:00:00",
          "2025-05-16T00:00:00",
          "2025-05-17T00:00:00",
          "2025-05-18T00:00:00",
          "2025-05-19T00:00:00",
          "2025-05-20T00:00:00",
          "2025-05-21T00:00:00",
          "2025-05-22T00:00:00",
          "2025-05-23T00:00:00",
          "2025-05-24T00:00:00",
          "2025-05-25T00:00:00",
          "2025-05-26T00:00:00",
          "2025-05-27T00:00:00",
          "2025-05-28T00:00:00",
          "2025-05-29T00:00:00",
          "2025-05-30T00:00:00"
         ],
         "y": {
          "bdata": "8WS1R2M9tUdXQrdH3/y6R0oxv0daKMFH0gfBR/t0vUfL8blH+m+2R+15tkd0bbxHZVPCR5oGxUcbksVHI1/FR8ztxEcXa8RHgvXDR8Ccw0f1kcNH+GPDR5Rswkc2LL9Hps26R3czuEfIkrdH2Pm3RyYyuUfF37lH",
          "dtype": "f4"
         }
        },
        {
         "marker": {
          "color": "green",
          "size": 6,
          "symbol": "circle"
         },
         "mode": "markers",
         "name": "Buy Signal",
         "type": "scatter",
         "x": [
          "2024-05-03T00:00:00",
          "2024-05-15T00:00:00",
          "2024-05-20T00:00:00",
          "2024-07-15T00:00:00",
          "2024-07-19T00:00:00",
          "2024-07-26T00:00:00",
          "2024-08-06T00:00:00",
          "2024-08-08T00:00:00",
          "2024-08-21T00:00:00",
          "2024-08-23T00:00:00",
          "2024-09-09T00:00:00",
          "2024-09-13T00:00:00",
          "2024-09-17T00:00:00",
          "2024-09-26T00:00:00",
          "2024-10-11T00:00:00",
          "2024-10-14T00:00:00",
          "2024-10-29T00:00:00",
          "2024-11-06T00:00:00",
          "2024-11-10T00:00:00",
          "2024-11-11T00:00:00",
          "2024-11-13T00:00:00",
          "2024-11-15T00:00:00",
          "2024-11-21T00:00:00",
          "2024-11-27T00:00:00",
          "2024-12-04T00:00:00",
          "2024-12-06T00:00:00",
          "2024-12-11T00:00:00",
          "2024-12-15T00:00:00",
          "2024-12-24T00:00:00",
          "2025-01-02T00:00:00",
          "2025-01-06T00:00:00",
          "2025-01-10T00:00:00",
          "2025-01-14T00:00:00",
          "2025-01-15T00:00:00",
          "2025-01-17T00:00:00",
          "2025-01-21T00:00:00",
          "2025-01-29T00:00:00",
          "2025-02-03T00:00:00",
          "2025-02-12T00:00:00",
          "2025-03-02T00:00:00",
          "2025-03-05T00:00:00",
          "2025-03-11T00:00:00",
          "2025-03-14T00:00:00",
          "2025-03-19T00:00:00",
          "2025-03-23T00:00:00",
          "2025-04-01T00:00:00",
          "2025-04-09T00:00:00",
          "2025-04-11T00:00:00",
          "2025-04-21T00:00:00",
          "2025-04-22T00:00:00"
         ],
         "y": {
          "bdata": "AAAAwDq17kAAAADgty3wQAAAACCDcfFAAAAA4MSs70AAAACAYknwQAAAAACBlPBAAAAAIEpc60AAAABgxCHuQAAAACDm3u1AAAAAYMtL70AAAAAgcdfrQAAAAKBpk+1AAAAAQJFy7UAAAACgoNPvQAAAAOCife5AAAAAAOIf8EAAAADgB8HxQAAAAEBxd/JAAAAAAKOl80AAAADA16f1QAAAAKCCHfZAAAAAIKA79kAAAACgiwz4QAAAAICobfdAAAAAgAgd+EAAAABgC2X4QAAAAIBQs/hAAAAAIKt2+UAAAACAQRf4QAAAAABup/dAAAAAYOHr+EAAAABA1x73QAAAAMBgkfdAAAAA4IeJ+EAAAACg4ID5QAAAAEAk6vlAAAAAYHNR+UAAAADA1sH4QAAAAMDd5fdAAAAAoIUC90AAAAAA+R/2QAAAAGDjOvRAAAAAoBGA9EAAAACgYzT1QAAAAABmAvVAAAAAwBLL9EAAAABA3yj0QAAAAGDNXPRAAAAAgO5d9UAAAABAHtD2QA==",
          "dtype": "f8"
         }
        },
        {
         "marker": {
          "color": "red",
          "size": 6,
          "symbol": "circle"
         },
         "mode": "markers",
         "name": "Sell Signal",
         "type": "scatter",
         "x": [
          "2024-05-10T00:00:00",
          "2024-06-11T00:00:00",
          "2024-06-24T00:00:00",
          "2024-07-04T00:00:00",
          "2024-07-07T00:00:00",
          "2024-08-02T00:00:00",
          "2024-08-04T00:00:00",
          "2024-08-05T00:00:00",
          "2024-08-11T00:00:00",
          "2024-08-27T00:00:00",
          "2024-09-06T00:00:00",
          "2024-09-30T00:00:00",
          "2024-10-01T00:00:00",
          "2024-10-31T00:00:00",
          "2024-11-14T00:00:00",
          "2024-11-25T00:00:00",
          "2024-12-05T00:00:00",
          "2024-12-09T00:00:00",
          "2024-12-18T00:00:00",
          "2024-12-19T00:00:00",
          "2024-12-22T00:00:00",
          "2024-12-26T00:00:00",
          "2025-01-07T00:00:00",
          "2025-01-09T00:00:00",
          "2025-01-19T00:00:00",
          "2025-01-22T00:00:00",
          "2025-01-26T00:00:00",
          "2025-01-31T00:00:00",
          "2025-02-02T00:00:00",
          "2025-02-04T00:00:00",
          "2025-02-21T00:00:00",
          "2025-02-24T00:00:00",
          "2025-02-25T00:00:00",
          "2025-02-26T00:00:00",
          "2025-03-03T00:00:00",
          "2025-03-07T00:00:00",
          "2025-03-09T00:00:00",
          "2025-03-10T00:00:00",
          "2025-03-13T00:00:00",
          "2025-03-20T00:00:00",
          "2025-03-28T00:00:00",
          "2025-04-02T00:00:00",
          "2025-04-06T00:00:00",
          "2025-04-08T00:00:00",
          "2025-04-10T00:00:00"
         ],
         "y": {
          "bdata": "AAAA4Biv7UAAAACAQHDwQAAAAECtbu1AAAAAgDbS60AAAACAI0XrQAAAACDi/O1AAAAAQJ9g7EAAAACg7lzqQAAAAIDvq+xAAAAAQAQO7UAAAAAgmFfqQAAAAAAw7O5AAAAAQKC07UAAAAAAcyTxQAAAAOAmTfVAAAAAwOS69kAAAAAgGZX3QAAAAICLyfdAAAAAoJhs+EAAAABAL833QAAAAAAPOPdAAAAAQDhj90AAAABAq6n3QAAAAKBAlPZAAAAAwBmu+EAAAAAgUU75QAAAAACoEflAAAAAYFAA+UAAAACgj9n3QAAAACD95PdAAAAAwNh390AAAADAolH2QAAAAMACqvVAAAAAYLCX9EAAAADAGgP1QAAAAMBqLfVAAAAAoJCt80AAAAAAQCzzQAAAAECryvNAAAAAIHOM9EAAAABgEpj0QAAAAGBbI/RAAAAAwGcY80AAAABA/57yQAAAAECicPNA",
          "dtype": "f8"
         }
        }
       ],
       "layout": {
        "template": {
         "data": {
          "bar": [
           {
            "error_x": {
             "color": "#2a3f5f"
            },
            "error_y": {
             "color": "#2a3f5f"
            },
            "marker": {
             "line": {
              "color": "white",
              "width": 0.5
             },
             "pattern": {
              "fillmode": "overlay",
              "size": 10,
              "solidity": 0.2
             }
            },
            "type": "bar"
           }
          ],
          "barpolar": [
           {
            "marker": {
             "line": {
              "color": "white",
              "width": 0.5
             },
             "pattern": {
              "fillmode": "overlay",
              "size": 10,
              "solidity": 0.2
             }
            },
            "type": "barpolar"
           }
          ],
          "carpet": [
           {
            "aaxis": {
             "endlinecolor": "#2a3f5f",
             "gridcolor": "#C8D4E3",
             "linecolor": "#C8D4E3",
             "minorgridcolor": "#C8D4E3",
             "startlinecolor": "#2a3f5f"
            },
            "baxis": {
             "endlinecolor": "#2a3f5f",
             "gridcolor": "#C8D4E3",
             "linecolor": "#C8D4E3",
             "minorgridcolor": "#C8D4E3",
             "startlinecolor": "#2a3f5f"
            },
            "type": "carpet"
           }
          ],
          "choropleth": [
           {
            "colorbar": {
             "outlinewidth": 0,
             "ticks": ""
            },
            "type": "choropleth"
           }
          ],
          "contour": [
           {
            "colorbar": {
             "outlinewidth": 0,
             "ticks": ""
            },
            "colorscale": [
             [
              0,
              "#0d0887"
             ],
             [
              0.1111111111111111,
              "#46039f"
             ],
             [
              0.2222222222222222,
              "#7201a8"
             ],
             [
              0.3333333333333333,
              "#9c179e"
             ],
             [
              0.4444444444444444,
              "#bd3786"
             ],
             [
              0.5555555555555556,
              "#d8576b"
             ],
             [
              0.6666666666666666,
              "#ed7953"
             ],
             [
              0.7777777777777778,
              "#fb9f3a"
             ],
             [
              0.8888888888888888,
              "#fdca26"
             ],
             [
              1,
              "#f0f921"
             ]
            ],
            "type": "contour"
           }
          ],
          "contourcarpet": [
           {
            "colorbar": {
             "outlinewidth": 0,
             "ticks": ""
            },
            "type": "contourcarpet"
           }
          ],
          "heatmap": [
           {
            "colorbar": {
             "outlinewidth": 0,
             "ticks": ""
            },
            "colorscale": [
             [
              0,
              "#0d0887"
             ],
             [
              0.1111111111111111,
              "#46039f"
             ],
             [
              0.2222222222222222,
              "#7201a8"
             ],
             [
              0.3333333333333333,
              "#9c179e"
             ],
             [
              0.4444444444444444,
              "#bd3786"
             ],
             [
              0.5555555555555556,
              "#d8576b"
             ],
             [
              0.6666666666666666,
              "#ed7953"
             ],
             [
              0.7777777777777778,
              "#fb9f3a"
             ],
             [
              0.8888888888888888,
              "#fdca26"
             ],
             [
              1,
              "#f0f921"
             ]
            ],
            "type": "heatmap"
           }
          ],
          "histogram": [
           {
            "marker": {
             "pattern": {
              "fillmode": "overlay",
              "size": 10,
              "solidity": 0.2
             }
            },
            "type": "histogram"
           }
          ],
          "histogram2d": [
           {
            "colorbar": {
             "outlinewidth": 0,
             "ticks": ""
            },
            "colorscale": [
             [
              0,
              "#0d0887"
             ],
             [
              0.1111111111111111,
              "#46039f"
             ],
             [
              0.2222222222222222,
              "#7201a8"
             ],
             [
              0.3333333333333333,
              "#9c179e"
             ],
             [
              0.4444444444444444,
              "#bd3786"
             ],
             [
              0.5555555555555556,
              "#d8576b"
             ],
             [
              0.6666666666666666,
              "#ed7953"
             ],
             [
              0.7777777777777778,
              "#fb9f3a"
             ],
             [
              0.8888888888888888,
              "#fdca26"
             ],
             [
              1,
              "#f0f921"
             ]
            ],
            "type": "histogram2d"
           }
          ],
          "histogram2dcontour": [
           {
            "colorbar": {
             "outlinewidth": 0,
             "ticks": ""
            },
            "colorscale": [
             [
              0,
              "#0d0887"
             ],
             [
              0.1111111111111111,
              "#46039f"
             ],
             [
              0.2222222222222222,
              "#7201a8"
             ],
             [
              0.3333333333333333,
              "#9c179e"
             ],
             [
              0.4444444444444444,
              "#bd3786"
             ],
             [
              0.5555555555555556,
              "#d8576b"
             ],
             [
              0.6666666666666666,
              "#ed7953"
             ],
             [
              0.7777777777777778,
              "#fb9f3a"
             ],
             [
              0.8888888888888888,
              "#fdca26"
             ],
             [
              1,
              "#f0f921"
             ]
            ],
            "type": "histogram2dcontour"
           }
          ],
          "mesh3d": [
           {
            "colorbar": {
             "outlinewidth": 0,
             "ticks": ""
            },
            "type": "mesh3d"
           }
          ],
          "parcoords": [
           {
            "line": {
             "colorbar": {
              "outlinewidth": 0,
              "ticks": ""
             }
            },
            "type": "parcoords"
           }
          ],
          "pie": [
           {
            "automargin": true,
            "type": "pie"
           }
          ],
          "scatter": [
           {
            "fillpattern": {
             "fillmode": "overlay",
             "size": 10,
             "solidity": 0.2
            },
            "type": "scatter"
           }
          ],
          "scatter3d": [
           {
            "line": {
             "colorbar": {
              "outlinewidth": 0,
              "ticks": ""
             }
            },
            "marker": {
             "colorbar": {
              "outlinewidth": 0,
              "ticks": ""
             }
            },
            "type": "scatter3d"
           }
          ],
          "scattercarpet": [
           {
            "marker": {
             "colorbar": {
              "outlinewidth": 0,
              "ticks": ""
             }
            },
            "type": "scattercarpet"
           }
          ],
          "scattergeo": [
           {
            "marker": {
             "colorbar": {
              "outlinewidth": 0,
              "ticks": ""
             }
            },
            "type": "scattergeo"
           }
          ],
          "scattergl": [
           {
            "marker": {
             "colorbar": {
              "outlinewidth": 0,
              "ticks": ""
             }
            },
            "type": "scattergl"
           }
          ],
          "scattermap": [
           {
            "marker": {
             "colorbar": {
              "outlinewidth": 0,
              "ticks": ""
             }
            },
            "type": "scattermap"
           }
          ],
          "scattermapbox": [
           {
            "marker": {
             "colorbar": {
              "outlinewidth": 0,
              "ticks": ""
             }
            },
            "type": "scattermapbox"
           }
          ],
          "scatterpolar": [
           {
            "marker": {
             "colorbar": {
              "outlinewidth": 0,
              "ticks": ""
             }
            },
            "type": "scatterpolar"
           }
          ],
          "scatterpolargl": [
           {
            "marker": {
             "colorbar": {
              "outlinewidth": 0,
              "ticks": ""
             }
            },
            "type": "scatterpolargl"
           }
          ],
          "scatterternary": [
           {
            "marker": {
             "colorbar": {
              "outlinewidth": 0,
              "ticks": ""
             }
            },
            "type": "scatterternary"
           }
          ],
          "surface": [
           {
            "colorbar": {
             "outlinewidth": 0,
             "ticks": ""
            },
            "colorscale": [
             [
              0,
              "#0d0887"
             ],
             [
              0.1111111111111111,
              "#46039f"
             ],
             [
              0.2222222222222222,
              "#7201a8"
             ],
             [
              0.3333333333333333,
              "#9c179e"
             ],
             [
              0.4444444444444444,
              "#bd3786"
             ],
             [
              0.5555555555555556,
              "#d8576b"
             ],
             [
              0.6666666666666666,
              "#ed7953"
             ],
             [
              0.7777777777777778,
              "#fb9f3a"
             ],
             [
              0.8888888888888888,
              "#fdca26"
             ],
             [
              1,
              "#f0f921"
             ]
            ],
            "type": "surface"
           }
          ],
          "table": [
           {
            "cells": {
             "fill": {
              "color": "#EBF0F8"
             },
             "line": {
              "color": "white"
             }
            },
            "header": {
             "fill": {
              "color": "#C8D4E3"
             },
             "line": {
              "color": "white"
             }
            },
            "type": "table"
           }
          ]
         },
         "layout": {
          "annotationdefaults": {
           "arrowcolor": "#2a3f5f",
           "arrowhead": 0,
           "arrowwidth": 1
          },
          "autotypenumbers": "strict",
          "coloraxis": {
           "colorbar": {
            "outlinewidth": 0,
            "ticks": ""
           }
          },
          "colorscale": {
           "diverging": [
            [
             0,
             "#8e0152"
            ],
            [
             0.1,
             "#c51b7d"
            ],
            [
             0.2,
             "#de77ae"
            ],
            [
             0.3,
             "#f1b6da"
            ],
            [
             0.4,
             "#fde0ef"
            ],
            [
             0.5,
             "#f7f7f7"
            ],
            [
             0.6,
             "#e6f5d0"
            ],
            [
             0.7,
             "#b8e186"
            ],
            [
             0.8,
             "#7fbc41"
            ],
            [
             0.9,
             "#4d9221"
            ],
            [
             1,
             "#276419"
            ]
           ],
           "sequential": [
            [
             0,
             "#0d0887"
            ],
            [
             0.1111111111111111,
             "#46039f"
            ],
            [
             0.2222222222222222,
             "#7201a8"
            ],
            [
             0.3333333333333333,
             "#9c179e"
            ],
            [
             0.4444444444444444,
             "#bd3786"
            ],
            [
             0.5555555555555556,
             "#d8576b"
            ],
            [
             0.6666666666666666,
             "#ed7953"
            ],
            [
             0.7777777777777778,
             "#fb9f3a"
            ],
            [
             0.8888888888888888,
             "#fdca26"
            ],
            [
             1,
             "#f0f921"
            ]
           ],
           "sequentialminus": [
            [
             0,
             "#0d0887"
            ],
            [
             0.1111111111111111,
             "#46039f"
            ],
            [
             0.2222222222222222,
             "#7201a8"
            ],
            [
             0.3333333333333333,
             "#9c179e"
            ],
            [
             0.4444444444444444,
             "#bd3786"
            ],
            [
             0.5555555555555556,
             "#d8576b"
            ],
            [
             0.6666666666666666,
             "#ed7953"
            ],
            [
             0.7777777777777778,
             "#fb9f3a"
            ],
            [
             0.8888888888888888,
             "#fdca26"
            ],
            [
             1,
             "#f0f921"
            ]
           ]
          },
          "colorway": [
           "#636efa",
           "#EF553B",
           "#00cc96",
           "#ab63fa",
           "#FFA15A",
           "#19d3f3",
           "#FF6692",
           "#B6E880",
           "#FF97FF",
           "#FECB52"
          ],
          "font": {
           "color": "#2a3f5f"
          },
          "geo": {
           "bgcolor": "white",
           "lakecolor": "white",
           "landcolor": "white",
           "showlakes": true,
           "showland": true,
           "subunitcolor": "#C8D4E3"
          },
          "hoverlabel": {
           "align": "left"
          },
          "hovermode": "closest",
          "mapbox": {
           "style": "light"
          },
          "paper_bgcolor": "white",
          "plot_bgcolor": "white",
          "polar": {
           "angularaxis": {
            "gridcolor": "#EBF0F8",
            "linecolor": "#EBF0F8",
            "ticks": ""
           },
           "bgcolor": "white",
           "radialaxis": {
            "gridcolor": "#EBF0F8",
            "linecolor": "#EBF0F8",
            "ticks": ""
           }
          },
          "scene": {
           "xaxis": {
            "backgroundcolor": "white",
            "gridcolor": "#DFE8F3",
            "gridwidth": 2,
            "linecolor": "#EBF0F8",
            "showbackground": true,
            "ticks": "",
            "zerolinecolor": "#EBF0F8"
           },
           "yaxis": {
            "backgroundcolor": "white",
            "gridcolor": "#DFE8F3",
            "gridwidth": 2,
            "linecolor": "#EBF0F8",
            "showbackground": true,
            "ticks": "",
            "zerolinecolor": "#EBF0F8"
           },
           "zaxis": {
            "backgroundcolor": "white",
            "gridcolor": "#DFE8F3",
            "gridwidth": 2,
            "linecolor": "#EBF0F8",
            "showbackground": true,
            "ticks": "",
            "zerolinecolor": "#EBF0F8"
           }
          },
          "shapedefaults": {
           "line": {
            "color": "#2a3f5f"
           }
          },
          "ternary": {
           "aaxis": {
            "gridcolor": "#DFE8F3",
            "linecolor": "#A2B1C6",
            "ticks": ""
           },
           "baxis": {
            "gridcolor": "#DFE8F3",
            "linecolor": "#A2B1C6",
            "ticks": ""
           },
           "bgcolor": "white",
           "caxis": {
            "gridcolor": "#DFE8F3",
            "linecolor": "#A2B1C6",
            "ticks": ""
           }
          },
          "title": {
           "x": 0.05
          },
          "xaxis": {
           "automargin": true,
           "gridcolor": "#EBF0F8",
           "linecolor": "#EBF0F8",
           "ticks": "",
           "title": {
            "standoff": 15
           },
           "zerolinecolor": "#EBF0F8",
           "zerolinewidth": 2
          },
          "yaxis": {
           "automargin": true,
           "gridcolor": "#EBF0F8",
           "linecolor": "#EBF0F8",
           "ticks": "",
           "title": {
            "standoff": 15
           },
           "zerolinecolor": "#EBF0F8",
           "zerolinewidth": 2
          }
         }
        },
        "title": {
         "text": "BTC-USD Price Forecast with LSTM"
        },
        "xaxis": {
         "rangeselector": {
          "buttons": [
           {
            "count": 7,
            "label": "1w",
            "step": "day",
            "stepmode": "backward"
           },
           {
            "count": 1,
            "label": "1m",
            "step": "month",
            "stepmode": "backward"
           },
           {
            "count": 3,
            "label": "3m",
            "step": "month",
            "stepmode": "backward"
           },
           {
            "step": "all"
           }
          ]
         },
         "rangeslider": {
          "visible": true
         },
         "title": {
          "text": "Date"
         }
        },
        "yaxis": {
         "title": {
          "text": "Price (USD)"
         }
        }
       }
      }
     },
     "metadata": {},
     "output_type": "display_data"
    }
   ],
   "source": [
    "fig = go.Figure()\n",
    "\n",
    "# Add historical data trace\n",
    "fig.add_trace(go.Scatter(\n",
    "    x=df_btc['ds'],\n",
    "    y=df_btc['y'],\n",
    "    mode='lines',\n",
    "    name='Historical BTC Price'\n",
    "))\n",
    "fig.add_trace(go.Scatter(\n",
    "    x=forecast['ds'], \n",
    "    y = forecast['LSTM'], \n",
    "    name ='LSTM Forecast'\n",
    "))\n",
    "# Add Buy Signal Markers\n",
    "buy_signals = df_btc[df_btc['signal'] == 1]\n",
    "fig.add_trace(go.Scatter(\n",
    "    x=buy_signals['ds'],\n",
    "    y=buy_signals['y'],\n",
    "    mode='markers',\n",
    "    marker=dict(symbol='circle', size=6, color='green'),\n",
    "    name='Buy Signal'\n",
    "))\n",
    "\n",
    "# Add Sell Signal Markers\n",
    "sell_signals = df_btc[df_btc['signal'] == -1]\n",
    "fig.add_trace(go.Scatter(\n",
    "    x=sell_signals['ds'],\n",
    "    y=sell_signals['y'],\n",
    "    mode='markers',\n",
    "    marker=dict(symbol='circle', size=6, color='red'),\n",
    "    name='Sell Signal'\n",
    "))\n",
    "# Customize the layout\n",
    "fig.update_layout(\n",
    "    title='BTC-USD Price Forecast with LSTM',\n",
    "    xaxis_title='Date',\n",
    "    yaxis_title='Price (USD)',\n",
    "    template='plotly_white'  # Optional: Use a clean template\n",
    "\n",
    ")\n",
    "fig.update_xaxes(\n",
    "    rangeslider_visible=True,\n",
    "    rangeselector=dict(\n",
    "        buttons=list([\n",
    "            dict(count=7, label=\"1w\", step=\"day\", stepmode=\"backward\"),\n",
    "            dict(count=1, label=\"1m\", step=\"month\", stepmode=\"backward\"),\n",
    "            dict(count=3, label=\"3m\", step=\"month\", stepmode=\"backward\"),\n",
    "            dict(step=\"all\")\n",
    "        ])\n",
    "    )\n",
    ")\n",
    "# Show the plot\n",
    "fig.show()"
   ]
  },
  {
   "cell_type": "code",
   "execution_count": null,
   "id": "dc1e315f",
   "metadata": {},
   "outputs": [],
   "source": [
    "# Save it as an HTML file\n",
    "pio.write_html(fig, file='btc_LSTM_30.html', auto_open=False)"
   ]
  },
  {
   "cell_type": "code",
   "execution_count": 156,
   "id": "ebed9dc6",
   "metadata": {},
   "outputs": [
    {
     "name": "stderr",
     "output_type": "stream",
     "text": [
      "[*********************100%***********************]  30 of 30 completed\n"
     ]
    }
   ],
   "source": [
    "df_full = fetch_data()\n",
    "# Clean BTC-only data for LSTM\n",
    "df_btc = df_full[['BTC-USD']].copy()\n",
    "df_btc = df_btc.dropna()  # Drop rows with missing BTC prices\n",
    "# Prepare for NeuralForecast\n",
    "df_btc['ds'] = pd.to_datetime(df_btc.index)\n",
    "df_btc['y'] = df_btc['BTC-USD']\n",
    "df_btc['unique_id'] = 'BTC-USD'\n",
    "# Only keep required columns\n",
    "df_btc = df_btc[['unique_id', 'ds', 'y']]"
   ]
  },
  {
   "cell_type": "code",
   "execution_count": null,
   "id": "534ddbbc",
   "metadata": {},
   "outputs": [
    {
     "name": "stderr",
     "output_type": "stream",
     "text": [
      "Seed set to 1\n"
     ]
    }
   ],
   "source": [
    "# Train LSTM\n",
    "lstm_model = LSTM(\n",
    "    h=1,\n",
    "    input_size=60,\n",
    "    max_steps=500,\n",
    "    loss=MAE(),\n",
    "    scaler_type='standard'\n",
    ")"
   ]
  },
  {
   "cell_type": "code",
   "execution_count": 159,
   "id": "4a2ad4fd",
   "metadata": {},
   "outputs": [
    {
     "name": "stderr",
     "output_type": "stream",
     "text": [
      "GPU available: False, used: False\n",
      "TPU available: False, using: 0 TPU cores\n",
      "HPU available: False, using: 0 HPUs\n",
      "\n",
      "  | Name         | Type          | Params | Mode \n",
      "-------------------------------------------------------\n",
      "0 | loss         | MAE           | 0      | train\n",
      "1 | padder_train | ConstantPad1d | 0      | train\n",
      "2 | scaler       | TemporalNorm  | 0      | train\n",
      "3 | hist_encoder | LSTM          | 199 K  | train\n",
      "4 | mlp_decoder  | MLP           | 16.6 K | train\n",
      "-------------------------------------------------------\n",
      "215 K     Trainable params\n",
      "0         Non-trainable params\n",
      "215 K     Total params\n",
      "0.863     Total estimated model params size (MB)\n",
      "10        Modules in train mode\n",
      "0         Modules in eval mode\n"
     ]
    },
    {
     "data": {
      "application/vnd.jupyter.widget-view+json": {
       "model_id": "82d4d3ef64814bb39596289caf9d22fe",
       "version_major": 2,
       "version_minor": 0
      },
      "text/plain": [
       "Sanity Checking: |          | 0/? [00:00<?, ?it/s]"
      ]
     },
     "metadata": {},
     "output_type": "display_data"
    },
    {
     "data": {
      "application/vnd.jupyter.widget-view+json": {
       "model_id": "5032fbc3bc8d45aaaa7bb3726a8ad5ec",
       "version_major": 2,
       "version_minor": 0
      },
      "text/plain": [
       "Training: |          | 0/? [00:00<?, ?it/s]"
      ]
     },
     "metadata": {},
     "output_type": "display_data"
    },
    {
     "data": {
      "application/vnd.jupyter.widget-view+json": {
       "model_id": "25517e21eaf24944bdab4b0eec60eb02",
       "version_major": 2,
       "version_minor": 0
      },
      "text/plain": [
       "Validation: |          | 0/? [00:00<?, ?it/s]"
      ]
     },
     "metadata": {},
     "output_type": "display_data"
    },
    {
     "data": {
      "application/vnd.jupyter.widget-view+json": {
       "model_id": "b06fdfecd7c84dc186147bac7092fedf",
       "version_major": 2,
       "version_minor": 0
      },
      "text/plain": [
       "Validation: |          | 0/? [00:00<?, ?it/s]"
      ]
     },
     "metadata": {},
     "output_type": "display_data"
    },
    {
     "data": {
      "application/vnd.jupyter.widget-view+json": {
       "model_id": "1005c9f71bc24c6ab07fd5454da28516",
       "version_major": 2,
       "version_minor": 0
      },
      "text/plain": [
       "Validation: |          | 0/? [00:00<?, ?it/s]"
      ]
     },
     "metadata": {},
     "output_type": "display_data"
    },
    {
     "data": {
      "application/vnd.jupyter.widget-view+json": {
       "model_id": "46278df202b64eeb8a93c726c023a52d",
       "version_major": 2,
       "version_minor": 0
      },
      "text/plain": [
       "Validation: |          | 0/? [00:00<?, ?it/s]"
      ]
     },
     "metadata": {},
     "output_type": "display_data"
    },
    {
     "data": {
      "application/vnd.jupyter.widget-view+json": {
       "model_id": "c65e6c5131204fbf935a46efdb6d9d75",
       "version_major": 2,
       "version_minor": 0
      },
      "text/plain": [
       "Validation: |          | 0/? [00:00<?, ?it/s]"
      ]
     },
     "metadata": {},
     "output_type": "display_data"
    },
    {
     "name": "stderr",
     "output_type": "stream",
     "text": [
      "`Trainer.fit` stopped: `max_steps=500` reached.\n",
      "GPU available: False, used: False\n",
      "TPU available: False, using: 0 TPU cores\n",
      "HPU available: False, using: 0 HPUs\n"
     ]
    },
    {
     "data": {
      "application/vnd.jupyter.widget-view+json": {
       "model_id": "2dd058d23a3d4c28be27a50a02d381e1",
       "version_major": 2,
       "version_minor": 0
      },
      "text/plain": [
       "Predicting: |          | 0/? [00:00<?, ?it/s]"
      ]
     },
     "metadata": {},
     "output_type": "display_data"
    }
   ],
   "source": [
    "nf = NeuralForecast(models=[lstm_model], freq='D')\n",
    "nf.fit(df=df_btc)\n",
    "forecast = nf.predict()"
   ]
  },
  {
   "cell_type": "code",
   "execution_count": 160,
   "id": "038f02fc",
   "metadata": {},
   "outputs": [
    {
     "data": {
      "application/vnd.plotly.v1+json": {
       "config": {
        "plotlyServerURL": "https://plot.ly"
       },
       "data": [
        {
         "mode": "lines",
         "name": "Historical BTC Price",
         "type": "scatter",
         "x": [
          "2024-05-01T00:00:00",
          "2024-05-02T00:00:00",
          "2024-05-03T00:00:00",
          "2024-05-04T00:00:00",
          "2024-05-05T00:00:00",
          "2024-05-06T00:00:00",
          "2024-05-07T00:00:00",
          "2024-05-08T00:00:00",
          "2024-05-09T00:00:00",
          "2024-05-10T00:00:00",
          "2024-05-11T00:00:00",
          "2024-05-12T00:00:00",
          "2024-05-13T00:00:00",
          "2024-05-14T00:00:00",
          "2024-05-15T00:00:00",
          "2024-05-16T00:00:00",
          "2024-05-17T00:00:00",
          "2024-05-18T00:00:00",
          "2024-05-19T00:00:00",
          "2024-05-20T00:00:00",
          "2024-05-21T00:00:00",
          "2024-05-22T00:00:00",
          "2024-05-23T00:00:00",
          "2024-05-24T00:00:00",
          "2024-05-25T00:00:00",
          "2024-05-26T00:00:00",
          "2024-05-27T00:00:00",
          "2024-05-28T00:00:00",
          "2024-05-29T00:00:00",
          "2024-05-30T00:00:00",
          "2024-05-31T00:00:00",
          "2024-06-01T00:00:00",
          "2024-06-02T00:00:00",
          "2024-06-03T00:00:00",
          "2024-06-04T00:00:00",
          "2024-06-05T00:00:00",
          "2024-06-06T00:00:00",
          "2024-06-07T00:00:00",
          "2024-06-08T00:00:00",
          "2024-06-09T00:00:00",
          "2024-06-10T00:00:00",
          "2024-06-11T00:00:00",
          "2024-06-12T00:00:00",
          "2024-06-13T00:00:00",
          "2024-06-14T00:00:00",
          "2024-06-15T00:00:00",
          "2024-06-16T00:00:00",
          "2024-06-17T00:00:00",
          "2024-06-18T00:00:00",
          "2024-06-19T00:00:00",
          "2024-06-20T00:00:00",
          "2024-06-21T00:00:00",
          "2024-06-22T00:00:00",
          "2024-06-23T00:00:00",
          "2024-06-24T00:00:00",
          "2024-06-25T00:00:00",
          "2024-06-26T00:00:00",
          "2024-06-27T00:00:00",
          "2024-06-28T00:00:00",
          "2024-06-29T00:00:00",
          "2024-06-30T00:00:00",
          "2024-07-01T00:00:00",
          "2024-07-02T00:00:00",
          "2024-07-03T00:00:00",
          "2024-07-04T00:00:00",
          "2024-07-05T00:00:00",
          "2024-07-06T00:00:00",
          "2024-07-07T00:00:00",
          "2024-07-08T00:00:00",
          "2024-07-09T00:00:00",
          "2024-07-10T00:00:00",
          "2024-07-11T00:00:00",
          "2024-07-12T00:00:00",
          "2024-07-13T00:00:00",
          "2024-07-14T00:00:00",
          "2024-07-15T00:00:00",
          "2024-07-16T00:00:00",
          "2024-07-17T00:00:00",
          "2024-07-18T00:00:00",
          "2024-07-19T00:00:00",
          "2024-07-20T00:00:00",
          "2024-07-21T00:00:00",
          "2024-07-22T00:00:00",
          "2024-07-23T00:00:00",
          "2024-07-24T00:00:00",
          "2024-07-25T00:00:00",
          "2024-07-26T00:00:00",
          "2024-07-27T00:00:00",
          "2024-07-28T00:00:00",
          "2024-07-29T00:00:00",
          "2024-07-30T00:00:00",
          "2024-07-31T00:00:00",
          "2024-08-01T00:00:00",
          "2024-08-02T00:00:00",
          "2024-08-03T00:00:00",
          "2024-08-04T00:00:00",
          "2024-08-05T00:00:00",
          "2024-08-06T00:00:00",
          "2024-08-07T00:00:00",
          "2024-08-08T00:00:00",
          "2024-08-09T00:00:00",
          "2024-08-10T00:00:00",
          "2024-08-11T00:00:00",
          "2024-08-12T00:00:00",
          "2024-08-13T00:00:00",
          "2024-08-14T00:00:00",
          "2024-08-15T00:00:00",
          "2024-08-16T00:00:00",
          "2024-08-17T00:00:00",
          "2024-08-18T00:00:00",
          "2024-08-19T00:00:00",
          "2024-08-20T00:00:00",
          "2024-08-21T00:00:00",
          "2024-08-22T00:00:00",
          "2024-08-23T00:00:00",
          "2024-08-24T00:00:00",
          "2024-08-25T00:00:00",
          "2024-08-26T00:00:00",
          "2024-08-27T00:00:00",
          "2024-08-28T00:00:00",
          "2024-08-29T00:00:00",
          "2024-08-30T00:00:00",
          "2024-08-31T00:00:00",
          "2024-09-01T00:00:00",
          "2024-09-02T00:00:00",
          "2024-09-03T00:00:00",
          "2024-09-04T00:00:00",
          "2024-09-05T00:00:00",
          "2024-09-06T00:00:00",
          "2024-09-07T00:00:00",
          "2024-09-08T00:00:00",
          "2024-09-09T00:00:00",
          "2024-09-10T00:00:00",
          "2024-09-11T00:00:00",
          "2024-09-12T00:00:00",
          "2024-09-13T00:00:00",
          "2024-09-14T00:00:00",
          "2024-09-15T00:00:00",
          "2024-09-16T00:00:00",
          "2024-09-17T00:00:00",
          "2024-09-18T00:00:00",
          "2024-09-19T00:00:00",
          "2024-09-20T00:00:00",
          "2024-09-21T00:00:00",
          "2024-09-22T00:00:00",
          "2024-09-23T00:00:00",
          "2024-09-24T00:00:00",
          "2024-09-25T00:00:00",
          "2024-09-26T00:00:00",
          "2024-09-27T00:00:00",
          "2024-09-28T00:00:00",
          "2024-09-29T00:00:00",
          "2024-09-30T00:00:00",
          "2024-10-01T00:00:00",
          "2024-10-02T00:00:00",
          "2024-10-03T00:00:00",
          "2024-10-04T00:00:00",
          "2024-10-05T00:00:00",
          "2024-10-06T00:00:00",
          "2024-10-07T00:00:00",
          "2024-10-08T00:00:00",
          "2024-10-09T00:00:00",
          "2024-10-10T00:00:00",
          "2024-10-11T00:00:00",
          "2024-10-12T00:00:00",
          "2024-10-13T00:00:00",
          "2024-10-14T00:00:00",
          "2024-10-15T00:00:00",
          "2024-10-16T00:00:00",
          "2024-10-17T00:00:00",
          "2024-10-18T00:00:00",
          "2024-10-19T00:00:00",
          "2024-10-20T00:00:00",
          "2024-10-21T00:00:00",
          "2024-10-22T00:00:00",
          "2024-10-23T00:00:00",
          "2024-10-24T00:00:00",
          "2024-10-25T00:00:00",
          "2024-10-26T00:00:00",
          "2024-10-27T00:00:00",
          "2024-10-28T00:00:00",
          "2024-10-29T00:00:00",
          "2024-10-30T00:00:00",
          "2024-10-31T00:00:00",
          "2024-11-01T00:00:00",
          "2024-11-02T00:00:00",
          "2024-11-03T00:00:00",
          "2024-11-04T00:00:00",
          "2024-11-05T00:00:00",
          "2024-11-06T00:00:00",
          "2024-11-07T00:00:00",
          "2024-11-08T00:00:00",
          "2024-11-09T00:00:00",
          "2024-11-10T00:00:00",
          "2024-11-11T00:00:00",
          "2024-11-12T00:00:00",
          "2024-11-13T00:00:00",
          "2024-11-14T00:00:00",
          "2024-11-15T00:00:00",
          "2024-11-16T00:00:00",
          "2024-11-17T00:00:00",
          "2024-11-18T00:00:00",
          "2024-11-19T00:00:00",
          "2024-11-20T00:00:00",
          "2024-11-21T00:00:00",
          "2024-11-22T00:00:00",
          "2024-11-23T00:00:00",
          "2024-11-24T00:00:00",
          "2024-11-25T00:00:00",
          "2024-11-26T00:00:00",
          "2024-11-27T00:00:00",
          "2024-11-28T00:00:00",
          "2024-11-29T00:00:00",
          "2024-11-30T00:00:00",
          "2024-12-01T00:00:00",
          "2024-12-02T00:00:00",
          "2024-12-03T00:00:00",
          "2024-12-04T00:00:00",
          "2024-12-05T00:00:00",
          "2024-12-06T00:00:00",
          "2024-12-07T00:00:00",
          "2024-12-08T00:00:00",
          "2024-12-09T00:00:00",
          "2024-12-10T00:00:00",
          "2024-12-11T00:00:00",
          "2024-12-12T00:00:00",
          "2024-12-13T00:00:00",
          "2024-12-14T00:00:00",
          "2024-12-15T00:00:00",
          "2024-12-16T00:00:00",
          "2024-12-17T00:00:00",
          "2024-12-18T00:00:00",
          "2024-12-19T00:00:00",
          "2024-12-20T00:00:00",
          "2024-12-21T00:00:00",
          "2024-12-22T00:00:00",
          "2024-12-23T00:00:00",
          "2024-12-24T00:00:00",
          "2024-12-25T00:00:00",
          "2024-12-26T00:00:00",
          "2024-12-27T00:00:00",
          "2024-12-28T00:00:00",
          "2024-12-29T00:00:00",
          "2024-12-30T00:00:00",
          "2024-12-31T00:00:00",
          "2025-01-01T00:00:00",
          "2025-01-02T00:00:00",
          "2025-01-03T00:00:00",
          "2025-01-04T00:00:00",
          "2025-01-05T00:00:00",
          "2025-01-06T00:00:00",
          "2025-01-07T00:00:00",
          "2025-01-08T00:00:00",
          "2025-01-09T00:00:00",
          "2025-01-10T00:00:00",
          "2025-01-11T00:00:00",
          "2025-01-12T00:00:00",
          "2025-01-13T00:00:00",
          "2025-01-14T00:00:00",
          "2025-01-15T00:00:00",
          "2025-01-16T00:00:00",
          "2025-01-17T00:00:00",
          "2025-01-18T00:00:00",
          "2025-01-19T00:00:00",
          "2025-01-20T00:00:00",
          "2025-01-21T00:00:00",
          "2025-01-22T00:00:00",
          "2025-01-23T00:00:00",
          "2025-01-24T00:00:00",
          "2025-01-25T00:00:00",
          "2025-01-26T00:00:00",
          "2025-01-27T00:00:00",
          "2025-01-28T00:00:00",
          "2025-01-29T00:00:00",
          "2025-01-30T00:00:00",
          "2025-01-31T00:00:00",
          "2025-02-01T00:00:00",
          "2025-02-02T00:00:00",
          "2025-02-03T00:00:00",
          "2025-02-04T00:00:00",
          "2025-02-05T00:00:00",
          "2025-02-06T00:00:00",
          "2025-02-07T00:00:00",
          "2025-02-08T00:00:00",
          "2025-02-09T00:00:00",
          "2025-02-10T00:00:00",
          "2025-02-11T00:00:00",
          "2025-02-12T00:00:00",
          "2025-02-13T00:00:00",
          "2025-02-14T00:00:00",
          "2025-02-15T00:00:00",
          "2025-02-16T00:00:00",
          "2025-02-17T00:00:00",
          "2025-02-18T00:00:00",
          "2025-02-19T00:00:00",
          "2025-02-20T00:00:00",
          "2025-02-21T00:00:00",
          "2025-02-22T00:00:00",
          "2025-02-23T00:00:00",
          "2025-02-24T00:00:00",
          "2025-02-25T00:00:00",
          "2025-02-26T00:00:00",
          "2025-02-27T00:00:00",
          "2025-02-28T00:00:00",
          "2025-03-01T00:00:00",
          "2025-03-02T00:00:00",
          "2025-03-03T00:00:00",
          "2025-03-04T00:00:00",
          "2025-03-05T00:00:00",
          "2025-03-06T00:00:00",
          "2025-03-07T00:00:00",
          "2025-03-08T00:00:00",
          "2025-03-09T00:00:00",
          "2025-03-10T00:00:00",
          "2025-03-11T00:00:00",
          "2025-03-12T00:00:00",
          "2025-03-13T00:00:00",
          "2025-03-14T00:00:00",
          "2025-03-15T00:00:00",
          "2025-03-16T00:00:00",
          "2025-03-17T00:00:00",
          "2025-03-18T00:00:00",
          "2025-03-19T00:00:00",
          "2025-03-20T00:00:00",
          "2025-03-21T00:00:00",
          "2025-03-22T00:00:00",
          "2025-03-23T00:00:00",
          "2025-03-24T00:00:00",
          "2025-03-25T00:00:00",
          "2025-03-26T00:00:00",
          "2025-03-27T00:00:00",
          "2025-03-28T00:00:00",
          "2025-03-29T00:00:00",
          "2025-03-30T00:00:00",
          "2025-03-31T00:00:00",
          "2025-04-01T00:00:00",
          "2025-04-02T00:00:00",
          "2025-04-03T00:00:00",
          "2025-04-04T00:00:00",
          "2025-04-05T00:00:00",
          "2025-04-06T00:00:00",
          "2025-04-07T00:00:00",
          "2025-04-08T00:00:00",
          "2025-04-09T00:00:00",
          "2025-04-10T00:00:00",
          "2025-04-11T00:00:00",
          "2025-04-12T00:00:00",
          "2025-04-13T00:00:00",
          "2025-04-14T00:00:00",
          "2025-04-15T00:00:00",
          "2025-04-16T00:00:00",
          "2025-04-17T00:00:00",
          "2025-04-18T00:00:00",
          "2025-04-19T00:00:00",
          "2025-04-20T00:00:00",
          "2025-04-21T00:00:00",
          "2025-04-22T00:00:00",
          "2025-04-23T00:00:00",
          "2025-04-24T00:00:00",
          "2025-04-25T00:00:00",
          "2025-04-26T00:00:00",
          "2025-04-27T00:00:00",
          "2025-04-28T00:00:00",
          "2025-04-29T00:00:00",
          "2025-04-30T00:00:00"
         ],
         "y": {
          "bdata": "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",
          "dtype": "f8"
         }
        },
        {
         "name": "LSTM Forecast",
         "type": "scatter",
         "x": [
          "2025-05-01T00:00:00"
         ],
         "y": {
          "bdata": "FXe5Rw==",
          "dtype": "f4"
         }
        },
        {
         "marker": {
          "color": "green",
          "size": 6,
          "symbol": "circle"
         },
         "mode": "markers",
         "name": "Buy Signal",
         "type": "scatter",
         "x": [
          "2024-05-03T00:00:00",
          "2024-05-15T00:00:00",
          "2024-05-20T00:00:00",
          "2024-07-15T00:00:00",
          "2024-07-19T00:00:00",
          "2024-07-26T00:00:00",
          "2024-08-06T00:00:00",
          "2024-08-08T00:00:00",
          "2024-08-21T00:00:00",
          "2024-08-23T00:00:00",
          "2024-09-09T00:00:00",
          "2024-09-13T00:00:00",
          "2024-09-17T00:00:00",
          "2024-09-26T00:00:00",
          "2024-10-11T00:00:00",
          "2024-10-14T00:00:00",
          "2024-10-29T00:00:00",
          "2024-11-06T00:00:00",
          "2024-11-10T00:00:00",
          "2024-11-11T00:00:00",
          "2024-11-13T00:00:00",
          "2024-11-15T00:00:00",
          "2024-11-21T00:00:00",
          "2024-11-27T00:00:00",
          "2024-12-04T00:00:00",
          "2024-12-06T00:00:00",
          "2024-12-11T00:00:00",
          "2024-12-15T00:00:00",
          "2024-12-24T00:00:00",
          "2025-01-02T00:00:00",
          "2025-01-06T00:00:00",
          "2025-01-10T00:00:00",
          "2025-01-14T00:00:00",
          "2025-01-15T00:00:00",
          "2025-01-17T00:00:00",
          "2025-01-21T00:00:00",
          "2025-01-29T00:00:00",
          "2025-02-03T00:00:00",
          "2025-02-12T00:00:00",
          "2025-03-02T00:00:00",
          "2025-03-05T00:00:00",
          "2025-03-11T00:00:00",
          "2025-03-14T00:00:00",
          "2025-03-19T00:00:00",
          "2025-03-23T00:00:00",
          "2025-04-01T00:00:00",
          "2025-04-09T00:00:00",
          "2025-04-11T00:00:00",
          "2025-04-21T00:00:00",
          "2025-04-22T00:00:00"
         ],
         "y": {
          "bdata": "AAAAwDq17kAAAADgty3wQAAAACCDcfFAAAAA4MSs70AAAACAYknwQAAAAACBlPBAAAAAIEpc60AAAABgxCHuQAAAACDm3u1AAAAAYMtL70AAAAAgcdfrQAAAAKBpk+1AAAAAQJFy7UAAAACgoNPvQAAAAOCife5AAAAAAOIf8EAAAADgB8HxQAAAAEBxd/JAAAAAAKOl80AAAADA16f1QAAAAKCCHfZAAAAAIKA79kAAAACgiwz4QAAAAICobfdAAAAAgAgd+EAAAABgC2X4QAAAAIBQs/hAAAAAIKt2+UAAAACAQRf4QAAAAABup/dAAAAAYOHr+EAAAABA1x73QAAAAMBgkfdAAAAA4IeJ+EAAAACg4ID5QAAAAEAk6vlAAAAAYHNR+UAAAADA1sH4QAAAAMDd5fdAAAAAoIUC90AAAAAA+R/2QAAAAGDjOvRAAAAAoBGA9EAAAACgYzT1QAAAAABmAvVAAAAAwBLL9EAAAABA3yj0QAAAAGDNXPRAAAAAgO5d9UAAAABAHtD2QA==",
          "dtype": "f8"
         }
        },
        {
         "marker": {
          "color": "red",
          "size": 6,
          "symbol": "circle"
         },
         "mode": "markers",
         "name": "Sell Signal",
         "type": "scatter",
         "x": [
          "2024-05-10T00:00:00",
          "2024-06-11T00:00:00",
          "2024-06-24T00:00:00",
          "2024-07-04T00:00:00",
          "2024-07-07T00:00:00",
          "2024-08-02T00:00:00",
          "2024-08-04T00:00:00",
          "2024-08-05T00:00:00",
          "2024-08-11T00:00:00",
          "2024-08-27T00:00:00",
          "2024-09-06T00:00:00",
          "2024-09-30T00:00:00",
          "2024-10-01T00:00:00",
          "2024-10-31T00:00:00",
          "2024-11-14T00:00:00",
          "2024-11-25T00:00:00",
          "2024-12-05T00:00:00",
          "2024-12-09T00:00:00",
          "2024-12-18T00:00:00",
          "2024-12-19T00:00:00",
          "2024-12-22T00:00:00",
          "2024-12-26T00:00:00",
          "2025-01-07T00:00:00",
          "2025-01-09T00:00:00",
          "2025-01-19T00:00:00",
          "2025-01-22T00:00:00",
          "2025-01-26T00:00:00",
          "2025-01-31T00:00:00",
          "2025-02-02T00:00:00",
          "2025-02-04T00:00:00",
          "2025-02-21T00:00:00",
          "2025-02-24T00:00:00",
          "2025-02-25T00:00:00",
          "2025-02-26T00:00:00",
          "2025-03-03T00:00:00",
          "2025-03-07T00:00:00",
          "2025-03-09T00:00:00",
          "2025-03-10T00:00:00",
          "2025-03-13T00:00:00",
          "2025-03-20T00:00:00",
          "2025-03-28T00:00:00",
          "2025-04-02T00:00:00",
          "2025-04-06T00:00:00",
          "2025-04-08T00:00:00",
          "2025-04-10T00:00:00"
         ],
         "y": {
          "bdata": "AAAA4Biv7UAAAACAQHDwQAAAAECtbu1AAAAAgDbS60AAAACAI0XrQAAAACDi/O1AAAAAQJ9g7EAAAACg7lzqQAAAAIDvq+xAAAAAQAQO7UAAAAAgmFfqQAAAAAAw7O5AAAAAQKC07UAAAAAAcyTxQAAAAOAmTfVAAAAAwOS69kAAAAAgGZX3QAAAAICLyfdAAAAAoJhs+EAAAABAL833QAAAAAAPOPdAAAAAQDhj90AAAABAq6n3QAAAAKBAlPZAAAAAwBmu+EAAAAAgUU75QAAAAACoEflAAAAAYFAA+UAAAACgj9n3QAAAACD95PdAAAAAwNh390AAAADAolH2QAAAAMACqvVAAAAAYLCX9EAAAADAGgP1QAAAAMBqLfVAAAAAoJCt80AAAAAAQCzzQAAAAECryvNAAAAAIHOM9EAAAABgEpj0QAAAAGBbI/RAAAAAwGcY80AAAABA/57yQAAAAECicPNA",
          "dtype": "f8"
         }
        }
       ],
       "layout": {
        "template": {
         "data": {
          "bar": [
           {
            "error_x": {
             "color": "#2a3f5f"
            },
            "error_y": {
             "color": "#2a3f5f"
            },
            "marker": {
             "line": {
              "color": "white",
              "width": 0.5
             },
             "pattern": {
              "fillmode": "overlay",
              "size": 10,
              "solidity": 0.2
             }
            },
            "type": "bar"
           }
          ],
          "barpolar": [
           {
            "marker": {
             "line": {
              "color": "white",
              "width": 0.5
             },
             "pattern": {
              "fillmode": "overlay",
              "size": 10,
              "solidity": 0.2
             }
            },
            "type": "barpolar"
           }
          ],
          "carpet": [
           {
            "aaxis": {
             "endlinecolor": "#2a3f5f",
             "gridcolor": "#C8D4E3",
             "linecolor": "#C8D4E3",
             "minorgridcolor": "#C8D4E3",
             "startlinecolor": "#2a3f5f"
            },
            "baxis": {
             "endlinecolor": "#2a3f5f",
             "gridcolor": "#C8D4E3",
             "linecolor": "#C8D4E3",
             "minorgridcolor": "#C8D4E3",
             "startlinecolor": "#2a3f5f"
            },
            "type": "carpet"
           }
          ],
          "choropleth": [
           {
            "colorbar": {
             "outlinewidth": 0,
             "ticks": ""
            },
            "type": "choropleth"
           }
          ],
          "contour": [
           {
            "colorbar": {
             "outlinewidth": 0,
             "ticks": ""
            },
            "colorscale": [
             [
              0,
              "#0d0887"
             ],
             [
              0.1111111111111111,
              "#46039f"
             ],
             [
              0.2222222222222222,
              "#7201a8"
             ],
             [
              0.3333333333333333,
              "#9c179e"
             ],
             [
              0.4444444444444444,
              "#bd3786"
             ],
             [
              0.5555555555555556,
              "#d8576b"
             ],
             [
              0.6666666666666666,
              "#ed7953"
             ],
             [
              0.7777777777777778,
              "#fb9f3a"
             ],
             [
              0.8888888888888888,
              "#fdca26"
             ],
             [
              1,
              "#f0f921"
             ]
            ],
            "type": "contour"
           }
          ],
          "contourcarpet": [
           {
            "colorbar": {
             "outlinewidth": 0,
             "ticks": ""
            },
            "type": "contourcarpet"
           }
          ],
          "heatmap": [
           {
            "colorbar": {
             "outlinewidth": 0,
             "ticks": ""
            },
            "colorscale": [
             [
              0,
              "#0d0887"
             ],
             [
              0.1111111111111111,
              "#46039f"
             ],
             [
              0.2222222222222222,
              "#7201a8"
             ],
             [
              0.3333333333333333,
              "#9c179e"
             ],
             [
              0.4444444444444444,
              "#bd3786"
             ],
             [
              0.5555555555555556,
              "#d8576b"
             ],
             [
              0.6666666666666666,
              "#ed7953"
             ],
             [
              0.7777777777777778,
              "#fb9f3a"
             ],
             [
              0.8888888888888888,
              "#fdca26"
             ],
             [
              1,
              "#f0f921"
             ]
            ],
            "type": "heatmap"
           }
          ],
          "histogram": [
           {
            "marker": {
             "pattern": {
              "fillmode": "overlay",
              "size": 10,
              "solidity": 0.2
             }
            },
            "type": "histogram"
           }
          ],
          "histogram2d": [
           {
            "colorbar": {
             "outlinewidth": 0,
             "ticks": ""
            },
            "colorscale": [
             [
              0,
              "#0d0887"
             ],
             [
              0.1111111111111111,
              "#46039f"
             ],
             [
              0.2222222222222222,
              "#7201a8"
             ],
             [
              0.3333333333333333,
              "#9c179e"
             ],
             [
              0.4444444444444444,
              "#bd3786"
             ],
             [
              0.5555555555555556,
              "#d8576b"
             ],
             [
              0.6666666666666666,
              "#ed7953"
             ],
             [
              0.7777777777777778,
              "#fb9f3a"
             ],
             [
              0.8888888888888888,
              "#fdca26"
             ],
             [
              1,
              "#f0f921"
             ]
            ],
            "type": "histogram2d"
           }
          ],
          "histogram2dcontour": [
           {
            "colorbar": {
             "outlinewidth": 0,
             "ticks": ""
            },
            "colorscale": [
             [
              0,
              "#0d0887"
             ],
             [
              0.1111111111111111,
              "#46039f"
             ],
             [
              0.2222222222222222,
              "#7201a8"
             ],
             [
              0.3333333333333333,
              "#9c179e"
             ],
             [
              0.4444444444444444,
              "#bd3786"
             ],
             [
              0.5555555555555556,
              "#d8576b"
             ],
             [
              0.6666666666666666,
              "#ed7953"
             ],
             [
              0.7777777777777778,
              "#fb9f3a"
             ],
             [
              0.8888888888888888,
              "#fdca26"
             ],
             [
              1,
              "#f0f921"
             ]
            ],
            "type": "histogram2dcontour"
           }
          ],
          "mesh3d": [
           {
            "colorbar": {
             "outlinewidth": 0,
             "ticks": ""
            },
            "type": "mesh3d"
           }
          ],
          "parcoords": [
           {
            "line": {
             "colorbar": {
              "outlinewidth": 0,
              "ticks": ""
             }
            },
            "type": "parcoords"
           }
          ],
          "pie": [
           {
            "automargin": true,
            "type": "pie"
           }
          ],
          "scatter": [
           {
            "fillpattern": {
             "fillmode": "overlay",
             "size": 10,
             "solidity": 0.2
            },
            "type": "scatter"
           }
          ],
          "scatter3d": [
           {
            "line": {
             "colorbar": {
              "outlinewidth": 0,
              "ticks": ""
             }
            },
            "marker": {
             "colorbar": {
              "outlinewidth": 0,
              "ticks": ""
             }
            },
            "type": "scatter3d"
           }
          ],
          "scattercarpet": [
           {
            "marker": {
             "colorbar": {
              "outlinewidth": 0,
              "ticks": ""
             }
            },
            "type": "scattercarpet"
           }
          ],
          "scattergeo": [
           {
            "marker": {
             "colorbar": {
              "outlinewidth": 0,
              "ticks": ""
             }
            },
            "type": "scattergeo"
           }
          ],
          "scattergl": [
           {
            "marker": {
             "colorbar": {
              "outlinewidth": 0,
              "ticks": ""
             }
            },
            "type": "scattergl"
           }
          ],
          "scattermap": [
           {
            "marker": {
             "colorbar": {
              "outlinewidth": 0,
              "ticks": ""
             }
            },
            "type": "scattermap"
           }
          ],
          "scattermapbox": [
           {
            "marker": {
             "colorbar": {
              "outlinewidth": 0,
              "ticks": ""
             }
            },
            "type": "scattermapbox"
           }
          ],
          "scatterpolar": [
           {
            "marker": {
             "colorbar": {
              "outlinewidth": 0,
              "ticks": ""
             }
            },
            "type": "scatterpolar"
           }
          ],
          "scatterpolargl": [
           {
            "marker": {
             "colorbar": {
              "outlinewidth": 0,
              "ticks": ""
             }
            },
            "type": "scatterpolargl"
           }
          ],
          "scatterternary": [
           {
            "marker": {
             "colorbar": {
              "outlinewidth": 0,
              "ticks": ""
             }
            },
            "type": "scatterternary"
           }
          ],
          "surface": [
           {
            "colorbar": {
             "outlinewidth": 0,
             "ticks": ""
            },
            "colorscale": [
             [
              0,
              "#0d0887"
             ],
             [
              0.1111111111111111,
              "#46039f"
             ],
             [
              0.2222222222222222,
              "#7201a8"
             ],
             [
              0.3333333333333333,
              "#9c179e"
             ],
             [
              0.4444444444444444,
              "#bd3786"
             ],
             [
              0.5555555555555556,
              "#d8576b"
             ],
             [
              0.6666666666666666,
              "#ed7953"
             ],
             [
              0.7777777777777778,
              "#fb9f3a"
             ],
             [
              0.8888888888888888,
              "#fdca26"
             ],
             [
              1,
              "#f0f921"
             ]
            ],
            "type": "surface"
           }
          ],
          "table": [
           {
            "cells": {
             "fill": {
              "color": "#EBF0F8"
             },
             "line": {
              "color": "white"
             }
            },
            "header": {
             "fill": {
              "color": "#C8D4E3"
             },
             "line": {
              "color": "white"
             }
            },
            "type": "table"
           }
          ]
         },
         "layout": {
          "annotationdefaults": {
           "arrowcolor": "#2a3f5f",
           "arrowhead": 0,
           "arrowwidth": 1
          },
          "autotypenumbers": "strict",
          "coloraxis": {
           "colorbar": {
            "outlinewidth": 0,
            "ticks": ""
           }
          },
          "colorscale": {
           "diverging": [
            [
             0,
             "#8e0152"
            ],
            [
             0.1,
             "#c51b7d"
            ],
            [
             0.2,
             "#de77ae"
            ],
            [
             0.3,
             "#f1b6da"
            ],
            [
             0.4,
             "#fde0ef"
            ],
            [
             0.5,
             "#f7f7f7"
            ],
            [
             0.6,
             "#e6f5d0"
            ],
            [
             0.7,
             "#b8e186"
            ],
            [
             0.8,
             "#7fbc41"
            ],
            [
             0.9,
             "#4d9221"
            ],
            [
             1,
             "#276419"
            ]
           ],
           "sequential": [
            [
             0,
             "#0d0887"
            ],
            [
             0.1111111111111111,
             "#46039f"
            ],
            [
             0.2222222222222222,
             "#7201a8"
            ],
            [
             0.3333333333333333,
             "#9c179e"
            ],
            [
             0.4444444444444444,
             "#bd3786"
            ],
            [
             0.5555555555555556,
             "#d8576b"
            ],
            [
             0.6666666666666666,
             "#ed7953"
            ],
            [
             0.7777777777777778,
             "#fb9f3a"
            ],
            [
             0.8888888888888888,
             "#fdca26"
            ],
            [
             1,
             "#f0f921"
            ]
           ],
           "sequentialminus": [
            [
             0,
             "#0d0887"
            ],
            [
             0.1111111111111111,
             "#46039f"
            ],
            [
             0.2222222222222222,
             "#7201a8"
            ],
            [
             0.3333333333333333,
             "#9c179e"
            ],
            [
             0.4444444444444444,
             "#bd3786"
            ],
            [
             0.5555555555555556,
             "#d8576b"
            ],
            [
             0.6666666666666666,
             "#ed7953"
            ],
            [
             0.7777777777777778,
             "#fb9f3a"
            ],
            [
             0.8888888888888888,
             "#fdca26"
            ],
            [
             1,
             "#f0f921"
            ]
           ]
          },
          "colorway": [
           "#636efa",
           "#EF553B",
           "#00cc96",
           "#ab63fa",
           "#FFA15A",
           "#19d3f3",
           "#FF6692",
           "#B6E880",
           "#FF97FF",
           "#FECB52"
          ],
          "font": {
           "color": "#2a3f5f"
          },
          "geo": {
           "bgcolor": "white",
           "lakecolor": "white",
           "landcolor": "white",
           "showlakes": true,
           "showland": true,
           "subunitcolor": "#C8D4E3"
          },
          "hoverlabel": {
           "align": "left"
          },
          "hovermode": "closest",
          "mapbox": {
           "style": "light"
          },
          "paper_bgcolor": "white",
          "plot_bgcolor": "white",
          "polar": {
           "angularaxis": {
            "gridcolor": "#EBF0F8",
            "linecolor": "#EBF0F8",
            "ticks": ""
           },
           "bgcolor": "white",
           "radialaxis": {
            "gridcolor": "#EBF0F8",
            "linecolor": "#EBF0F8",
            "ticks": ""
           }
          },
          "scene": {
           "xaxis": {
            "backgroundcolor": "white",
            "gridcolor": "#DFE8F3",
            "gridwidth": 2,
            "linecolor": "#EBF0F8",
            "showbackground": true,
            "ticks": "",
            "zerolinecolor": "#EBF0F8"
           },
           "yaxis": {
            "backgroundcolor": "white",
            "gridcolor": "#DFE8F3",
            "gridwidth": 2,
            "linecolor": "#EBF0F8",
            "showbackground": true,
            "ticks": "",
            "zerolinecolor": "#EBF0F8"
           },
           "zaxis": {
            "backgroundcolor": "white",
            "gridcolor": "#DFE8F3",
            "gridwidth": 2,
            "linecolor": "#EBF0F8",
            "showbackground": true,
            "ticks": "",
            "zerolinecolor": "#EBF0F8"
           }
          },
          "shapedefaults": {
           "line": {
            "color": "#2a3f5f"
           }
          },
          "ternary": {
           "aaxis": {
            "gridcolor": "#DFE8F3",
            "linecolor": "#A2B1C6",
            "ticks": ""
           },
           "baxis": {
            "gridcolor": "#DFE8F3",
            "linecolor": "#A2B1C6",
            "ticks": ""
           },
           "bgcolor": "white",
           "caxis": {
            "gridcolor": "#DFE8F3",
            "linecolor": "#A2B1C6",
            "ticks": ""
           }
          },
          "title": {
           "x": 0.05
          },
          "xaxis": {
           "automargin": true,
           "gridcolor": "#EBF0F8",
           "linecolor": "#EBF0F8",
           "ticks": "",
           "title": {
            "standoff": 15
           },
           "zerolinecolor": "#EBF0F8",
           "zerolinewidth": 2
          },
          "yaxis": {
           "automargin": true,
           "gridcolor": "#EBF0F8",
           "linecolor": "#EBF0F8",
           "ticks": "",
           "title": {
            "standoff": 15
           },
           "zerolinecolor": "#EBF0F8",
           "zerolinewidth": 2
          }
         }
        },
        "title": {
         "text": "BTC-USD Price Forecast with LSTM"
        },
        "xaxis": {
         "rangeselector": {
          "buttons": [
           {
            "count": 7,
            "label": "1w",
            "step": "day",
            "stepmode": "backward"
           },
           {
            "count": 1,
            "label": "1m",
            "step": "month",
            "stepmode": "backward"
           },
           {
            "count": 3,
            "label": "3m",
            "step": "month",
            "stepmode": "backward"
           },
           {
            "step": "all"
           }
          ]
         },
         "rangeslider": {
          "visible": true
         },
         "title": {
          "text": "Date"
         }
        },
        "yaxis": {
         "title": {
          "text": "Price (USD)"
         }
        }
       }
      }
     },
     "metadata": {},
     "output_type": "display_data"
    }
   ],
   "source": [
    "# Rebuild the signal column\n",
    "df_btc['signal'] = 0\n",
    "for i in range(1, len(df_btc)):\n",
    "    if df_btc['y'].iloc[i] > df_btc['y'].iloc[i-1] + 2000:\n",
    "        df_btc.loc[df_btc.index[i], 'signal'] = 1\n",
    "    elif df_btc['y'].iloc[i] < df_btc['y'].iloc[i-1] - 2000:\n",
    "        df_btc.loc[df_btc.index[i], 'signal'] = -1\n",
    "\n",
    "fig = go.Figure()\n",
    "\n",
    "# Add historical data trace\n",
    "fig.add_trace(go.Scatter(\n",
    "    x=df_btc['ds'],\n",
    "    y=df_btc['y'],\n",
    "    mode='lines',\n",
    "    name='Historical BTC Price'\n",
    "))\n",
    "fig.add_trace(go.Scatter(\n",
    "    x=forecast['ds'], \n",
    "    y = forecast['LSTM'], \n",
    "    name ='LSTM Forecast'\n",
    "))\n",
    "# Add Buy Signal Markers\n",
    "buy_signals = df_btc[df_btc['signal'] == 1]\n",
    "fig.add_trace(go.Scatter(\n",
    "    x=buy_signals['ds'],\n",
    "    y=buy_signals['y'],\n",
    "    mode='markers',\n",
    "    marker=dict(symbol='circle', size=6, color='green'),\n",
    "    name='Buy Signal'\n",
    "))\n",
    "\n",
    "# Add Sell Signal Markers\n",
    "sell_signals = df_btc[df_btc['signal'] == -1]\n",
    "fig.add_trace(go.Scatter(\n",
    "    x=sell_signals['ds'],\n",
    "    y=sell_signals['y'],\n",
    "    mode='markers',\n",
    "    marker=dict(symbol='circle', size=6, color='red'),\n",
    "    name='Sell Signal'\n",
    "))\n",
    "# Customize the layout\n",
    "fig.update_layout(\n",
    "    title='BTC-USD Price Forecast with LSTM',\n",
    "    xaxis_title='Date',\n",
    "    yaxis_title='Price (USD)',\n",
    "    template='plotly_white'  # Optional: Use a clean template\n",
    "\n",
    ")\n",
    "fig.update_xaxes(\n",
    "    rangeslider_visible=True,\n",
    "    rangeselector=dict(\n",
    "        buttons=list([\n",
    "            dict(count=7, label=\"1w\", step=\"day\", stepmode=\"backward\"),\n",
    "            dict(count=1, label=\"1m\", step=\"month\", stepmode=\"backward\"),\n",
    "            dict(count=3, label=\"3m\", step=\"month\", stepmode=\"backward\"),\n",
    "            dict(step=\"all\")\n",
    "        ])\n",
    "    )\n",
    ")\n",
    "# Show the plot\n",
    "fig.show()"
   ]
  },
  {
   "cell_type": "code",
   "execution_count": 161,
   "id": "1f40fd0f",
   "metadata": {},
   "outputs": [],
   "source": [
    "# Save it as an HTML file\n",
    "pio.write_html(fig, file='btc_LSTM_1.html', auto_open=False)"
   ]
  },
  {
   "cell_type": "code",
   "execution_count": 162,
   "id": "d02a23fd",
   "metadata": {},
   "outputs": [
    {
     "name": "stderr",
     "output_type": "stream",
     "text": [
      "[*********************100%***********************]  30 of 30 completed\n"
     ]
    }
   ],
   "source": [
    "df_full = fetch_data()\n",
    "# Clean BTC-only data for LSTM\n",
    "df_btc = df_full[['BTC-USD']].copy()\n",
    "df_btc = df_btc.dropna()  # Drop rows with missing BTC prices\n",
    "# Prepare for NeuralForecast\n",
    "df_btc['ds'] = pd.to_datetime(df_btc.index)\n",
    "df_btc['y'] = df_btc['BTC-USD']\n",
    "df_btc['unique_id'] = 'BTC-USD'\n",
    "# Only keep required columns\n",
    "df_btc = df_btc[['unique_id', 'ds', 'y']]"
   ]
  },
  {
   "cell_type": "code",
   "execution_count": 163,
   "id": "f96144bf",
   "metadata": {},
   "outputs": [
    {
     "name": "stderr",
     "output_type": "stream",
     "text": [
      "Seed set to 1\n"
     ]
    }
   ],
   "source": [
    "# Train LSTM\n",
    "lstm_model = LSTM(\n",
    "    h=7,\n",
    "    input_size=60,\n",
    "    max_steps=500,\n",
    "    loss=MAE(),\n",
    "    scaler_type='standard'\n",
    ")"
   ]
  },
  {
   "cell_type": "code",
   "execution_count": 164,
   "id": "7dfd2dba",
   "metadata": {},
   "outputs": [
    {
     "name": "stderr",
     "output_type": "stream",
     "text": [
      "GPU available: False, used: False\n",
      "TPU available: False, using: 0 TPU cores\n",
      "HPU available: False, using: 0 HPUs\n",
      "\n",
      "  | Name         | Type          | Params | Mode \n",
      "-------------------------------------------------------\n",
      "0 | loss         | MAE           | 0      | train\n",
      "1 | padder_train | ConstantPad1d | 0      | train\n",
      "2 | scaler       | TemporalNorm  | 0      | train\n",
      "3 | hist_encoder | LSTM          | 199 K  | train\n",
      "4 | mlp_decoder  | MLP           | 16.6 K | train\n",
      "-------------------------------------------------------\n",
      "215 K     Trainable params\n",
      "0         Non-trainable params\n",
      "215 K     Total params\n",
      "0.863     Total estimated model params size (MB)\n",
      "10        Modules in train mode\n",
      "0         Modules in eval mode\n"
     ]
    },
    {
     "data": {
      "application/vnd.jupyter.widget-view+json": {
       "model_id": "2bf8c6562e1d46b584f34112d24e9740",
       "version_major": 2,
       "version_minor": 0
      },
      "text/plain": [
       "Sanity Checking: |          | 0/? [00:00<?, ?it/s]"
      ]
     },
     "metadata": {},
     "output_type": "display_data"
    },
    {
     "data": {
      "application/vnd.jupyter.widget-view+json": {
       "model_id": "d05e27783eec4ff7b0c041d5668fa1d1",
       "version_major": 2,
       "version_minor": 0
      },
      "text/plain": [
       "Training: |          | 0/? [00:00<?, ?it/s]"
      ]
     },
     "metadata": {},
     "output_type": "display_data"
    },
    {
     "data": {
      "application/vnd.jupyter.widget-view+json": {
       "model_id": "f32bd3d6c8f241bda594eaf7db55c022",
       "version_major": 2,
       "version_minor": 0
      },
      "text/plain": [
       "Validation: |          | 0/? [00:00<?, ?it/s]"
      ]
     },
     "metadata": {},
     "output_type": "display_data"
    },
    {
     "data": {
      "application/vnd.jupyter.widget-view+json": {
       "model_id": "a9c95d4ce2b3442f9562b32c5a068305",
       "version_major": 2,
       "version_minor": 0
      },
      "text/plain": [
       "Validation: |          | 0/? [00:00<?, ?it/s]"
      ]
     },
     "metadata": {},
     "output_type": "display_data"
    },
    {
     "data": {
      "application/vnd.jupyter.widget-view+json": {
       "model_id": "8821f7a4b3434e4fa4f278ad97b76a1c",
       "version_major": 2,
       "version_minor": 0
      },
      "text/plain": [
       "Validation: |          | 0/? [00:00<?, ?it/s]"
      ]
     },
     "metadata": {},
     "output_type": "display_data"
    },
    {
     "data": {
      "application/vnd.jupyter.widget-view+json": {
       "model_id": "93e43c60ee134386847b401ddc9836ce",
       "version_major": 2,
       "version_minor": 0
      },
      "text/plain": [
       "Validation: |          | 0/? [00:00<?, ?it/s]"
      ]
     },
     "metadata": {},
     "output_type": "display_data"
    },
    {
     "data": {
      "application/vnd.jupyter.widget-view+json": {
       "model_id": "d9783abc707c47ca95dfd49e19c6f7ef",
       "version_major": 2,
       "version_minor": 0
      },
      "text/plain": [
       "Validation: |          | 0/? [00:00<?, ?it/s]"
      ]
     },
     "metadata": {},
     "output_type": "display_data"
    },
    {
     "name": "stderr",
     "output_type": "stream",
     "text": [
      "`Trainer.fit` stopped: `max_steps=500` reached.\n",
      "GPU available: False, used: False\n",
      "TPU available: False, using: 0 TPU cores\n",
      "HPU available: False, using: 0 HPUs\n"
     ]
    },
    {
     "data": {
      "application/vnd.jupyter.widget-view+json": {
       "model_id": "d0788253c47e447f9bed5e2f03bb23f6",
       "version_major": 2,
       "version_minor": 0
      },
      "text/plain": [
       "Predicting: |          | 0/? [00:00<?, ?it/s]"
      ]
     },
     "metadata": {},
     "output_type": "display_data"
    }
   ],
   "source": [
    "nf = NeuralForecast(models=[lstm_model], freq='D')\n",
    "nf.fit(df=df_btc)\n",
    "forecast = nf.predict()"
   ]
  },
  {
   "cell_type": "code",
   "execution_count": 165,
   "id": "9592a318",
   "metadata": {},
   "outputs": [
    {
     "data": {
      "application/vnd.plotly.v1+json": {
       "config": {
        "plotlyServerURL": "https://plot.ly"
       },
       "data": [
        {
         "mode": "lines",
         "name": "Historical BTC Price",
         "type": "scatter",
         "x": [
          "2024-05-01T00:00:00",
          "2024-05-02T00:00:00",
          "2024-05-03T00:00:00",
          "2024-05-04T00:00:00",
          "2024-05-05T00:00:00",
          "2024-05-06T00:00:00",
          "2024-05-07T00:00:00",
          "2024-05-08T00:00:00",
          "2024-05-09T00:00:00",
          "2024-05-10T00:00:00",
          "2024-05-11T00:00:00",
          "2024-05-12T00:00:00",
          "2024-05-13T00:00:00",
          "2024-05-14T00:00:00",
          "2024-05-15T00:00:00",
          "2024-05-16T00:00:00",
          "2024-05-17T00:00:00",
          "2024-05-18T00:00:00",
          "2024-05-19T00:00:00",
          "2024-05-20T00:00:00",
          "2024-05-21T00:00:00",
          "2024-05-22T00:00:00",
          "2024-05-23T00:00:00",
          "2024-05-24T00:00:00",
          "2024-05-25T00:00:00",
          "2024-05-26T00:00:00",
          "2024-05-27T00:00:00",
          "2024-05-28T00:00:00",
          "2024-05-29T00:00:00",
          "2024-05-30T00:00:00",
          "2024-05-31T00:00:00",
          "2024-06-01T00:00:00",
          "2024-06-02T00:00:00",
          "2024-06-03T00:00:00",
          "2024-06-04T00:00:00",
          "2024-06-05T00:00:00",
          "2024-06-06T00:00:00",
          "2024-06-07T00:00:00",
          "2024-06-08T00:00:00",
          "2024-06-09T00:00:00",
          "2024-06-10T00:00:00",
          "2024-06-11T00:00:00",
          "2024-06-12T00:00:00",
          "2024-06-13T00:00:00",
          "2024-06-14T00:00:00",
          "2024-06-15T00:00:00",
          "2024-06-16T00:00:00",
          "2024-06-17T00:00:00",
          "2024-06-18T00:00:00",
          "2024-06-19T00:00:00",
          "2024-06-20T00:00:00",
          "2024-06-21T00:00:00",
          "2024-06-22T00:00:00",
          "2024-06-23T00:00:00",
          "2024-06-24T00:00:00",
          "2024-06-25T00:00:00",
          "2024-06-26T00:00:00",
          "2024-06-27T00:00:00",
          "2024-06-28T00:00:00",
          "2024-06-29T00:00:00",
          "2024-06-30T00:00:00",
          "2024-07-01T00:00:00",
          "2024-07-02T00:00:00",
          "2024-07-03T00:00:00",
          "2024-07-04T00:00:00",
          "2024-07-05T00:00:00",
          "2024-07-06T00:00:00",
          "2024-07-07T00:00:00",
          "2024-07-08T00:00:00",
          "2024-07-09T00:00:00",
          "2024-07-10T00:00:00",
          "2024-07-11T00:00:00",
          "2024-07-12T00:00:00",
          "2024-07-13T00:00:00",
          "2024-07-14T00:00:00",
          "2024-07-15T00:00:00",
          "2024-07-16T00:00:00",
          "2024-07-17T00:00:00",
          "2024-07-18T00:00:00",
          "2024-07-19T00:00:00",
          "2024-07-20T00:00:00",
          "2024-07-21T00:00:00",
          "2024-07-22T00:00:00",
          "2024-07-23T00:00:00",
          "2024-07-24T00:00:00",
          "2024-07-25T00:00:00",
          "2024-07-26T00:00:00",
          "2024-07-27T00:00:00",
          "2024-07-28T00:00:00",
          "2024-07-29T00:00:00",
          "2024-07-30T00:00:00",
          "2024-07-31T00:00:00",
          "2024-08-01T00:00:00",
          "2024-08-02T00:00:00",
          "2024-08-03T00:00:00",
          "2024-08-04T00:00:00",
          "2024-08-05T00:00:00",
          "2024-08-06T00:00:00",
          "2024-08-07T00:00:00",
          "2024-08-08T00:00:00",
          "2024-08-09T00:00:00",
          "2024-08-10T00:00:00",
          "2024-08-11T00:00:00",
          "2024-08-12T00:00:00",
          "2024-08-13T00:00:00",
          "2024-08-14T00:00:00",
          "2024-08-15T00:00:00",
          "2024-08-16T00:00:00",
          "2024-08-17T00:00:00",
          "2024-08-18T00:00:00",
          "2024-08-19T00:00:00",
          "2024-08-20T00:00:00",
          "2024-08-21T00:00:00",
          "2024-08-22T00:00:00",
          "2024-08-23T00:00:00",
          "2024-08-24T00:00:00",
          "2024-08-25T00:00:00",
          "2024-08-26T00:00:00",
          "2024-08-27T00:00:00",
          "2024-08-28T00:00:00",
          "2024-08-29T00:00:00",
          "2024-08-30T00:00:00",
          "2024-08-31T00:00:00",
          "2024-09-01T00:00:00",
          "2024-09-02T00:00:00",
          "2024-09-03T00:00:00",
          "2024-09-04T00:00:00",
          "2024-09-05T00:00:00",
          "2024-09-06T00:00:00",
          "2024-09-07T00:00:00",
          "2024-09-08T00:00:00",
          "2024-09-09T00:00:00",
          "2024-09-10T00:00:00",
          "2024-09-11T00:00:00",
          "2024-09-12T00:00:00",
          "2024-09-13T00:00:00",
          "2024-09-14T00:00:00",
          "2024-09-15T00:00:00",
          "2024-09-16T00:00:00",
          "2024-09-17T00:00:00",
          "2024-09-18T00:00:00",
          "2024-09-19T00:00:00",
          "2024-09-20T00:00:00",
          "2024-09-21T00:00:00",
          "2024-09-22T00:00:00",
          "2024-09-23T00:00:00",
          "2024-09-24T00:00:00",
          "2024-09-25T00:00:00",
          "2024-09-26T00:00:00",
          "2024-09-27T00:00:00",
          "2024-09-28T00:00:00",
          "2024-09-29T00:00:00",
          "2024-09-30T00:00:00",
          "2024-10-01T00:00:00",
          "2024-10-02T00:00:00",
          "2024-10-03T00:00:00",
          "2024-10-04T00:00:00",
          "2024-10-05T00:00:00",
          "2024-10-06T00:00:00",
          "2024-10-07T00:00:00",
          "2024-10-08T00:00:00",
          "2024-10-09T00:00:00",
          "2024-10-10T00:00:00",
          "2024-10-11T00:00:00",
          "2024-10-12T00:00:00",
          "2024-10-13T00:00:00",
          "2024-10-14T00:00:00",
          "2024-10-15T00:00:00",
          "2024-10-16T00:00:00",
          "2024-10-17T00:00:00",
          "2024-10-18T00:00:00",
          "2024-10-19T00:00:00",
          "2024-10-20T00:00:00",
          "2024-10-21T00:00:00",
          "2024-10-22T00:00:00",
          "2024-10-23T00:00:00",
          "2024-10-24T00:00:00",
          "2024-10-25T00:00:00",
          "2024-10-26T00:00:00",
          "2024-10-27T00:00:00",
          "2024-10-28T00:00:00",
          "2024-10-29T00:00:00",
          "2024-10-30T00:00:00",
          "2024-10-31T00:00:00",
          "2024-11-01T00:00:00",
          "2024-11-02T00:00:00",
          "2024-11-03T00:00:00",
          "2024-11-04T00:00:00",
          "2024-11-05T00:00:00",
          "2024-11-06T00:00:00",
          "2024-11-07T00:00:00",
          "2024-11-08T00:00:00",
          "2024-11-09T00:00:00",
          "2024-11-10T00:00:00",
          "2024-11-11T00:00:00",
          "2024-11-12T00:00:00",
          "2024-11-13T00:00:00",
          "2024-11-14T00:00:00",
          "2024-11-15T00:00:00",
          "2024-11-16T00:00:00",
          "2024-11-17T00:00:00",
          "2024-11-18T00:00:00",
          "2024-11-19T00:00:00",
          "2024-11-20T00:00:00",
          "2024-11-21T00:00:00",
          "2024-11-22T00:00:00",
          "2024-11-23T00:00:00",
          "2024-11-24T00:00:00",
          "2024-11-25T00:00:00",
          "2024-11-26T00:00:00",
          "2024-11-27T00:00:00",
          "2024-11-28T00:00:00",
          "2024-11-29T00:00:00",
          "2024-11-30T00:00:00",
          "2024-12-01T00:00:00",
          "2024-12-02T00:00:00",
          "2024-12-03T00:00:00",
          "2024-12-04T00:00:00",
          "2024-12-05T00:00:00",
          "2024-12-06T00:00:00",
          "2024-12-07T00:00:00",
          "2024-12-08T00:00:00",
          "2024-12-09T00:00:00",
          "2024-12-10T00:00:00",
          "2024-12-11T00:00:00",
          "2024-12-12T00:00:00",
          "2024-12-13T00:00:00",
          "2024-12-14T00:00:00",
          "2024-12-15T00:00:00",
          "2024-12-16T00:00:00",
          "2024-12-17T00:00:00",
          "2024-12-18T00:00:00",
          "2024-12-19T00:00:00",
          "2024-12-20T00:00:00",
          "2024-12-21T00:00:00",
          "2024-12-22T00:00:00",
          "2024-12-23T00:00:00",
          "2024-12-24T00:00:00",
          "2024-12-25T00:00:00",
          "2024-12-26T00:00:00",
          "2024-12-27T00:00:00",
          "2024-12-28T00:00:00",
          "2024-12-29T00:00:00",
          "2024-12-30T00:00:00",
          "2024-12-31T00:00:00",
          "2025-01-01T00:00:00",
          "2025-01-02T00:00:00",
          "2025-01-03T00:00:00",
          "2025-01-04T00:00:00",
          "2025-01-05T00:00:00",
          "2025-01-06T00:00:00",
          "2025-01-07T00:00:00",
          "2025-01-08T00:00:00",
          "2025-01-09T00:00:00",
          "2025-01-10T00:00:00",
          "2025-01-11T00:00:00",
          "2025-01-12T00:00:00",
          "2025-01-13T00:00:00",
          "2025-01-14T00:00:00",
          "2025-01-15T00:00:00",
          "2025-01-16T00:00:00",
          "2025-01-17T00:00:00",
          "2025-01-18T00:00:00",
          "2025-01-19T00:00:00",
          "2025-01-20T00:00:00",
          "2025-01-21T00:00:00",
          "2025-01-22T00:00:00",
          "2025-01-23T00:00:00",
          "2025-01-24T00:00:00",
          "2025-01-25T00:00:00",
          "2025-01-26T00:00:00",
          "2025-01-27T00:00:00",
          "2025-01-28T00:00:00",
          "2025-01-29T00:00:00",
          "2025-01-30T00:00:00",
          "2025-01-31T00:00:00",
          "2025-02-01T00:00:00",
          "2025-02-02T00:00:00",
          "2025-02-03T00:00:00",
          "2025-02-04T00:00:00",
          "2025-02-05T00:00:00",
          "2025-02-06T00:00:00",
          "2025-02-07T00:00:00",
          "2025-02-08T00:00:00",
          "2025-02-09T00:00:00",
          "2025-02-10T00:00:00",
          "2025-02-11T00:00:00",
          "2025-02-12T00:00:00",
          "2025-02-13T00:00:00",
          "2025-02-14T00:00:00",
          "2025-02-15T00:00:00",
          "2025-02-16T00:00:00",
          "2025-02-17T00:00:00",
          "2025-02-18T00:00:00",
          "2025-02-19T00:00:00",
          "2025-02-20T00:00:00",
          "2025-02-21T00:00:00",
          "2025-02-22T00:00:00",
          "2025-02-23T00:00:00",
          "2025-02-24T00:00:00",
          "2025-02-25T00:00:00",
          "2025-02-26T00:00:00",
          "2025-02-27T00:00:00",
          "2025-02-28T00:00:00",
          "2025-03-01T00:00:00",
          "2025-03-02T00:00:00",
          "2025-03-03T00:00:00",
          "2025-03-04T00:00:00",
          "2025-03-05T00:00:00",
          "2025-03-06T00:00:00",
          "2025-03-07T00:00:00",
          "2025-03-08T00:00:00",
          "2025-03-09T00:00:00",
          "2025-03-10T00:00:00",
          "2025-03-11T00:00:00",
          "2025-03-12T00:00:00",
          "2025-03-13T00:00:00",
          "2025-03-14T00:00:00",
          "2025-03-15T00:00:00",
          "2025-03-16T00:00:00",
          "2025-03-17T00:00:00",
          "2025-03-18T00:00:00",
          "2025-03-19T00:00:00",
          "2025-03-20T00:00:00",
          "2025-03-21T00:00:00",
          "2025-03-22T00:00:00",
          "2025-03-23T00:00:00",
          "2025-03-24T00:00:00",
          "2025-03-25T00:00:00",
          "2025-03-26T00:00:00",
          "2025-03-27T00:00:00",
          "2025-03-28T00:00:00",
          "2025-03-29T00:00:00",
          "2025-03-30T00:00:00",
          "2025-03-31T00:00:00",
          "2025-04-01T00:00:00",
          "2025-04-02T00:00:00",
          "2025-04-03T00:00:00",
          "2025-04-04T00:00:00",
          "2025-04-05T00:00:00",
          "2025-04-06T00:00:00",
          "2025-04-07T00:00:00",
          "2025-04-08T00:00:00",
          "2025-04-09T00:00:00",
          "2025-04-10T00:00:00",
          "2025-04-11T00:00:00",
          "2025-04-12T00:00:00",
          "2025-04-13T00:00:00",
          "2025-04-14T00:00:00",
          "2025-04-15T00:00:00",
          "2025-04-16T00:00:00",
          "2025-04-17T00:00:00",
          "2025-04-18T00:00:00",
          "2025-04-19T00:00:00",
          "2025-04-20T00:00:00",
          "2025-04-21T00:00:00",
          "2025-04-22T00:00:00",
          "2025-04-23T00:00:00",
          "2025-04-24T00:00:00",
          "2025-04-25T00:00:00",
          "2025-04-26T00:00:00",
          "2025-04-27T00:00:00",
          "2025-04-28T00:00:00",
          "2025-04-29T00:00:00",
          "2025-04-30T00:00:00"
         ],
         "y": {
          "bdata": "AAAAYMBx7EAAAADgbd7sQAAAAMA6te5AAAAAIG8y70AAAABA5EPvQAAAAGA+1+5AAAAAINpv7kAAAAAgfuDtQAAAAMA+ye5AAAAA4Biv7UAAAADANq/tQAAAAKAMAe5AAAAAYK627kAAAABAGQ7uQAAAAOC3LfBAAAAAoPLZ70AAAAAAvl7wQAAAAODMV/BAAAAA4GUu8EAAAAAgg3HxQAAAAICIH/FAAAAAYCXg8EAAAAAAmZXwQAAAAKDhuvBAAAAAIB/p8EAAAACAYbrwQAAAAOAo8fBAAAAAgIOs8EAAAACAoX/wQAAAAODPsPBAAAAAoDZ68EAAAAAAr4fwQAAAAKB5ivBAAAAAgEzM8EAAAABAfDrxQAAAACCtWvFAAAAAoFJG8UAAAABg6e3wQAAAAGCc6/BAAAAA4P8A8UAAAACAhPjwQAAAAIBAcPBAAAAAABOp8EAAAABgRkzwQAAAAICxHfBAAAAAAPAo8EAAAADA8ETwQAAAAMCkO/BAAAAA4JfO70AAAACACbjvQAAAAACVp+9AAAAAYAZM70AAAACAkl/vQAAAAICZ2e5AAAAAQK1u7UAAAACAlC3uQAAAAOBose1AAAAAoJkU7kAAAABgBHTtQAAAACDsuu1AAAAAYMma7kAAAABgf7DuQAAAAICgSe5AAAAAgL1h7UAAAACANtLrQAAAAADMqutAAAAAQPF37EAAAACAI0XrQAAAACAjsOtAAAAAQCdT7EAAAADgzzHsQAAAAEAdAOxAAAAA4G5F7EAAAACA/uvsQAAAAGB5ru1AAAAA4MSs70AAAADAJMnvQAAAAGDZTu9AAAAAIMI870AAAACAYknwQAAAAGC6ZfBAAAAAYKij8EAAAAAAFIDwQAAAAMB6GPBAAAAAQITr70AAAACgEw/wQAAAAACBlPBAAAAAYFWO8EAAAADg/anwQAAAAKA+UPBAAAAAQJAp8EAAAAAAaI3vQAAAAACw6e9AAAAAIOL87UAAAAAAA6HtQAAAAECfYOxAAAAAoO5c6kAAAAAgSlzrQAAAAMBu3upAAAAAYMQh7kAAAACgA7rtQAAAAAA6wu1AAAAAgO+r7EAAAACAUPvsQAAAACAymO1AAAAAoCiu7EAAAAAgAxvsQAAAAGDDwexAAAAAIN8K7UAAAADgfo7sQAAAAICuDO1AAAAAYJnQ7EAAAAAg5t7tQAAAAEC9e+1AAAAAYMtL70AAAADAX1bvQAAAAGCxae9AAAAAIBW07kAAAABABA7tQAAAAAB00uxAAAAAwIX/7EAAAABA793sQAAAAMA8y+xAAAAAoK/960AAAABgD93sQAAAAMDgCuxAAAAAQHFO7EAAAACgD2zrQAAAACCYV+pAAAAAAHZv6kAAAAAgMsfqQAAAACBx1+tAAAAAwBYm7EAAAACA5f/rQAAAAGDgYexAAAAAoGmT7UAAAADgo0ztQAAAAMDa5exAAAAAQBBq7EAAAABAkXLtQAAAAMA1Gu5AAAAAoI677kAAAABAH9vuQAAAAOBa9O5AAAAAwBYU70AAAACgOezuQAAAAAC/Ze9AAAAAoOTU7kAAAACgoNPvQAAAAKDqD/BAAAAAYPoV8EAAAADgNAbwQAAAAAAw7O5AAAAAQKC07UAAAAAgGZvtQAAAAODsqu1AAAAAQG9O7kAAAABgPlHuQAAAAIBerO5AAAAAIJVj7kAAAAAAf1buQAAAAEDDlO1AAAAAAFBu7UAAAADgon3uQAAAAMAg2+5AAAAAAGyw7kAAAAAA4h/wQAAAAMARXvBAAAAAgMuB8EAAAABgfXTwQAAAAKAstPBAAAAAwKuw8EAAAABAm9jwQAAAAKB9cvBAAAAAgBZy8EAAAAAgAzjwQAAAAOAQpPBAAAAAoCZF8EAAAAAga1zwQAAAAMCUlfBAAAAAIDwR8UAAAADgB8HxQAAAAKA4qfFAAAAAAHMk8UAAAACAp/bwQAAAAGCU6vBAAAAA4FHI8EAAAAAgOI7wQAAAAAD57vBAAAAAQHF38kAAAADADYjyQAAAAKAXsPJAAAAA4K2+8kAAAAAAo6XzQAAAAMDXp/VAAAAAAD159UAAAACggh32QAAAAOAmTfVAAAAAIKA79kAAAACg5xv2QAAAAKBd7/VAAAAAQOoa9kAAAACgfIv2QAAAAOA3CPdAAAAAoIsM+EAAAACgWiv4QAAAAIAU3/dAAAAAIN3t90AAAADA5Lr2QAAAACAVdfZAAAAAgKht90AAAACAR1r3QAAAAGBYy/dAAAAA4BCM90AAAACg/L/3QAAAAOCUZ/dAAAAAoCJw90AAAACACB34QAAAACAZlfdAAAAAYAtl+EAAAABgNWX4QAAAAEBAt/hAAAAAgIvJ90AAAADgNpr3QAAAAIBQs/hAAAAAALBs+EAAAAAgNMX4QAAAAIDPv/hAAAAAIKt2+UAAAACA2+L5QAAAAKDJ6flAAAAAoJhs+EAAAABAL833QAAAAOC+3fdAAAAAoIu890AAAAAADzj3QAAAAODjHfdAAAAAgEEX+EAAAAAgMz74QAAAAEA4Y/dAAAAAwE399kAAAADgvjv3QAAAAKCj1fZAAAAAYDOe9kAAAABAU8/2QAAAACA8DfdAAAAAAG6n90AAAADgtvP3QAAAAKDD+/dAAAAAYK8A+EAAAABg4ev4QAAAAECrqfdAAAAAYDg090AAAACgQJT2QAAAAEDXHvdAAAAAgGkW90AAAAAAhxH3QAAAAGBIE/dAAAAAwGCR90AAAADgh4n4QAAAAIDOWvhAAAAAoOCA+UAAAAAggX35QAAAAMAZrvhAAAAAoAro+EAAAABAJOr5QAAAACBRTvlAAAAAwIJh+UAAAADAN5f5QAAAAGCqkPlAAAAAAKgR+UAAAAAAe+z4QAAAAKBHvfhAAAAAYHNR+UAAAADg9JH5QAAAAGBQAPlAAAAAgP6S+EAAAACgj9n3QAAAAMDWwfhAAAAAIP3k90AAAAAgd5b3QAAAAMAUlfdAAAAAYBGR90AAAABAJ473QAAAAIBBj/dAAAAA4NjJ90AAAADgNmD3QAAAAMDd5fdAAAAA4P2W90AAAACAT873QAAAAKDF0vdAAAAAgPB690AAAAAg1mH3QAAAAMA4U/dAAAAAwLmX90AAAAAA3wH4QAAAAMDYd/dAAAAAIByU90AAAADAHoH3QAAAAMCiUfZAAAAAwAKq9UAAAABgsJf0QAAAAKADrvRAAAAAIFCZ9EAAAACg/gD1QAAAAKCFAvdAAAAAwBoD9UAAAAAgY0v1QAAAAAD5H/ZAAAAAoJv29UAAAADAai31QAAAAICpCPVAAAAAoJCt80AAAAAAQCzzQAAAAGDjOvRAAAAAwKVw9EAAAABAq8rzQAAAAKARgPRAAAAAwHGX9EAAAAAAOyn0QAAAAAC7hvRAAAAAAOgx9EAAAACgYzT1QAAAACBzjPRAAAAA4LOE9EAAAADAh3f0QAAAAABmAvVAAAAAoK5c9UAAAABA+1r1QAAAACBON/VAAAAAoJFI9UAAAABgEpj0QAAAAGBZKvRAAAAAYOgZ9EAAAACgTif0QAAAAMASy/RAAAAAYFsj9EAAAABA7Un0QAAAAOA8ePRAAAAAwAxj9EAAAADAZxjzQAAAAGA1WPNAAAAAQP+e8kAAAABA3yj0QAAAAECicPNAAAAAYM1c9EAAAADAcdL0QAAAAKBPbvRAAAAAQOaj9EAAAADgT230QAAAAOAdhPRAAAAAAPy59EAAAADgLJ70QAAAAKB2xPRAAAAA4GTL9EAAAACA7l31QAAAAEAe0PZAAAAAwDHg9kAAAADAfO/2QAAAAAAIIPdAAAAA4G4b90AAAACAreP2QAAAAAAsMPdAAAAAoMwE90AAAACANCz3QA==",
          "dtype": "f8"
         }
        },
        {
         "name": "LSTM Forecast",
         "type": "scatter",
         "x": [
          "2025-05-01T00:00:00",
          "2025-05-02T00:00:00",
          "2025-05-03T00:00:00",
          "2025-05-04T00:00:00",
          "2025-05-05T00:00:00",
          "2025-05-06T00:00:00",
          "2025-05-07T00:00:00"
         ],
         "y": {
          "bdata": "l6C6R9nfvEcDhb9HxKy/R9lXv0eD+75HA3i+Rw==",
          "dtype": "f4"
         }
        },
        {
         "marker": {
          "color": "green",
          "size": 6,
          "symbol": "circle"
         },
         "mode": "markers",
         "name": "Buy Signal",
         "type": "scatter",
         "x": [
          "2024-05-03T00:00:00",
          "2024-05-15T00:00:00",
          "2024-05-20T00:00:00",
          "2024-07-15T00:00:00",
          "2024-07-19T00:00:00",
          "2024-07-26T00:00:00",
          "2024-08-06T00:00:00",
          "2024-08-08T00:00:00",
          "2024-08-21T00:00:00",
          "2024-08-23T00:00:00",
          "2024-09-09T00:00:00",
          "2024-09-13T00:00:00",
          "2024-09-17T00:00:00",
          "2024-09-26T00:00:00",
          "2024-10-11T00:00:00",
          "2024-10-14T00:00:00",
          "2024-10-29T00:00:00",
          "2024-11-06T00:00:00",
          "2024-11-10T00:00:00",
          "2024-11-11T00:00:00",
          "2024-11-13T00:00:00",
          "2024-11-15T00:00:00",
          "2024-11-21T00:00:00",
          "2024-11-27T00:00:00",
          "2024-12-04T00:00:00",
          "2024-12-06T00:00:00",
          "2024-12-11T00:00:00",
          "2024-12-15T00:00:00",
          "2024-12-24T00:00:00",
          "2025-01-02T00:00:00",
          "2025-01-06T00:00:00",
          "2025-01-10T00:00:00",
          "2025-01-14T00:00:00",
          "2025-01-15T00:00:00",
          "2025-01-17T00:00:00",
          "2025-01-21T00:00:00",
          "2025-01-29T00:00:00",
          "2025-02-03T00:00:00",
          "2025-02-12T00:00:00",
          "2025-03-02T00:00:00",
          "2025-03-05T00:00:00",
          "2025-03-11T00:00:00",
          "2025-03-14T00:00:00",
          "2025-03-19T00:00:00",
          "2025-03-23T00:00:00",
          "2025-04-01T00:00:00",
          "2025-04-09T00:00:00",
          "2025-04-11T00:00:00",
          "2025-04-21T00:00:00",
          "2025-04-22T00:00:00"
         ],
         "y": {
          "bdata": "AAAAwDq17kAAAADgty3wQAAAACCDcfFAAAAA4MSs70AAAACAYknwQAAAAACBlPBAAAAAIEpc60AAAABgxCHuQAAAACDm3u1AAAAAYMtL70AAAAAgcdfrQAAAAKBpk+1AAAAAQJFy7UAAAACgoNPvQAAAAOCife5AAAAAAOIf8EAAAADgB8HxQAAAAEBxd/JAAAAAAKOl80AAAADA16f1QAAAAKCCHfZAAAAAIKA79kAAAACgiwz4QAAAAICobfdAAAAAgAgd+EAAAABgC2X4QAAAAIBQs/hAAAAAIKt2+UAAAACAQRf4QAAAAABup/dAAAAAYOHr+EAAAABA1x73QAAAAMBgkfdAAAAA4IeJ+EAAAACg4ID5QAAAAEAk6vlAAAAAYHNR+UAAAADA1sH4QAAAAMDd5fdAAAAAoIUC90AAAAAA+R/2QAAAAGDjOvRAAAAAoBGA9EAAAACgYzT1QAAAAABmAvVAAAAAwBLL9EAAAABA3yj0QAAAAGDNXPRAAAAAgO5d9UAAAABAHtD2QA==",
          "dtype": "f8"
         }
        },
        {
         "marker": {
          "color": "red",
          "size": 6,
          "symbol": "circle"
         },
         "mode": "markers",
         "name": "Sell Signal",
         "type": "scatter",
         "x": [
          "2024-05-10T00:00:00",
          "2024-06-11T00:00:00",
          "2024-06-24T00:00:00",
          "2024-07-04T00:00:00",
          "2024-07-07T00:00:00",
          "2024-08-02T00:00:00",
          "2024-08-04T00:00:00",
          "2024-08-05T00:00:00",
          "2024-08-11T00:00:00",
          "2024-08-27T00:00:00",
          "2024-09-06T00:00:00",
          "2024-09-30T00:00:00",
          "2024-10-01T00:00:00",
          "2024-10-31T00:00:00",
          "2024-11-14T00:00:00",
          "2024-11-25T00:00:00",
          "2024-12-05T00:00:00",
          "2024-12-09T00:00:00",
          "2024-12-18T00:00:00",
          "2024-12-19T00:00:00",
          "2024-12-22T00:00:00",
          "2024-12-26T00:00:00",
          "2025-01-07T00:00:00",
          "2025-01-09T00:00:00",
          "2025-01-19T00:00:00",
          "2025-01-22T00:00:00",
          "2025-01-26T00:00:00",
          "2025-01-31T00:00:00",
          "2025-02-02T00:00:00",
          "2025-02-04T00:00:00",
          "2025-02-21T00:00:00",
          "2025-02-24T00:00:00",
          "2025-02-25T00:00:00",
          "2025-02-26T00:00:00",
          "2025-03-03T00:00:00",
          "2025-03-07T00:00:00",
          "2025-03-09T00:00:00",
          "2025-03-10T00:00:00",
          "2025-03-13T00:00:00",
          "2025-03-20T00:00:00",
          "2025-03-28T00:00:00",
          "2025-04-02T00:00:00",
          "2025-04-06T00:00:00",
          "2025-04-08T00:00:00",
          "2025-04-10T00:00:00"
         ],
         "y": {
          "bdata": "AAAA4Biv7UAAAACAQHDwQAAAAECtbu1AAAAAgDbS60AAAACAI0XrQAAAACDi/O1AAAAAQJ9g7EAAAACg7lzqQAAAAIDvq+xAAAAAQAQO7UAAAAAgmFfqQAAAAAAw7O5AAAAAQKC07UAAAAAAcyTxQAAAAOAmTfVAAAAAwOS69kAAAAAgGZX3QAAAAICLyfdAAAAAoJhs+EAAAABAL833QAAAAAAPOPdAAAAAQDhj90AAAABAq6n3QAAAAKBAlPZAAAAAwBmu+EAAAAAgUU75QAAAAACoEflAAAAAYFAA+UAAAACgj9n3QAAAACD95PdAAAAAwNh390AAAADAolH2QAAAAMACqvVAAAAAYLCX9EAAAADAGgP1QAAAAMBqLfVAAAAAoJCt80AAAAAAQCzzQAAAAECryvNAAAAAIHOM9EAAAABgEpj0QAAAAGBbI/RAAAAAwGcY80AAAABA/57yQAAAAECicPNA",
          "dtype": "f8"
         }
        }
       ],
       "layout": {
        "template": {
         "data": {
          "bar": [
           {
            "error_x": {
             "color": "#2a3f5f"
            },
            "error_y": {
             "color": "#2a3f5f"
            },
            "marker": {
             "line": {
              "color": "white",
              "width": 0.5
             },
             "pattern": {
              "fillmode": "overlay",
              "size": 10,
              "solidity": 0.2
             }
            },
            "type": "bar"
           }
          ],
          "barpolar": [
           {
            "marker": {
             "line": {
              "color": "white",
              "width": 0.5
             },
             "pattern": {
              "fillmode": "overlay",
              "size": 10,
              "solidity": 0.2
             }
            },
            "type": "barpolar"
           }
          ],
          "carpet": [
           {
            "aaxis": {
             "endlinecolor": "#2a3f5f",
             "gridcolor": "#C8D4E3",
             "linecolor": "#C8D4E3",
             "minorgridcolor": "#C8D4E3",
             "startlinecolor": "#2a3f5f"
            },
            "baxis": {
             "endlinecolor": "#2a3f5f",
             "gridcolor": "#C8D4E3",
             "linecolor": "#C8D4E3",
             "minorgridcolor": "#C8D4E3",
             "startlinecolor": "#2a3f5f"
            },
            "type": "carpet"
           }
          ],
          "choropleth": [
           {
            "colorbar": {
             "outlinewidth": 0,
             "ticks": ""
            },
            "type": "choropleth"
           }
          ],
          "contour": [
           {
            "colorbar": {
             "outlinewidth": 0,
             "ticks": ""
            },
            "colorscale": [
             [
              0,
              "#0d0887"
             ],
             [
              0.1111111111111111,
              "#46039f"
             ],
             [
              0.2222222222222222,
              "#7201a8"
             ],
             [
              0.3333333333333333,
              "#9c179e"
             ],
             [
              0.4444444444444444,
              "#bd3786"
             ],
             [
              0.5555555555555556,
              "#d8576b"
             ],
             [
              0.6666666666666666,
              "#ed7953"
             ],
             [
              0.7777777777777778,
              "#fb9f3a"
             ],
             [
              0.8888888888888888,
              "#fdca26"
             ],
             [
              1,
              "#f0f921"
             ]
            ],
            "type": "contour"
           }
          ],
          "contourcarpet": [
           {
            "colorbar": {
             "outlinewidth": 0,
             "ticks": ""
            },
            "type": "contourcarpet"
           }
          ],
          "heatmap": [
           {
            "colorbar": {
             "outlinewidth": 0,
             "ticks": ""
            },
            "colorscale": [
             [
              0,
              "#0d0887"
             ],
             [
              0.1111111111111111,
              "#46039f"
             ],
             [
              0.2222222222222222,
              "#7201a8"
             ],
             [
              0.3333333333333333,
              "#9c179e"
             ],
             [
              0.4444444444444444,
              "#bd3786"
             ],
             [
              0.5555555555555556,
              "#d8576b"
             ],
             [
              0.6666666666666666,
              "#ed7953"
             ],
             [
              0.7777777777777778,
              "#fb9f3a"
             ],
             [
              0.8888888888888888,
              "#fdca26"
             ],
             [
              1,
              "#f0f921"
             ]
            ],
            "type": "heatmap"
           }
          ],
          "histogram": [
           {
            "marker": {
             "pattern": {
              "fillmode": "overlay",
              "size": 10,
              "solidity": 0.2
             }
            },
            "type": "histogram"
           }
          ],
          "histogram2d": [
           {
            "colorbar": {
             "outlinewidth": 0,
             "ticks": ""
            },
            "colorscale": [
             [
              0,
              "#0d0887"
             ],
             [
              0.1111111111111111,
              "#46039f"
             ],
             [
              0.2222222222222222,
              "#7201a8"
             ],
             [
              0.3333333333333333,
              "#9c179e"
             ],
             [
              0.4444444444444444,
              "#bd3786"
             ],
             [
              0.5555555555555556,
              "#d8576b"
             ],
             [
              0.6666666666666666,
              "#ed7953"
             ],
             [
              0.7777777777777778,
              "#fb9f3a"
             ],
             [
              0.8888888888888888,
              "#fdca26"
             ],
             [
              1,
              "#f0f921"
             ]
            ],
            "type": "histogram2d"
           }
          ],
          "histogram2dcontour": [
           {
            "colorbar": {
             "outlinewidth": 0,
             "ticks": ""
            },
            "colorscale": [
             [
              0,
              "#0d0887"
             ],
             [
              0.1111111111111111,
              "#46039f"
             ],
             [
              0.2222222222222222,
              "#7201a8"
             ],
             [
              0.3333333333333333,
              "#9c179e"
             ],
             [
              0.4444444444444444,
              "#bd3786"
             ],
             [
              0.5555555555555556,
              "#d8576b"
             ],
             [
              0.6666666666666666,
              "#ed7953"
             ],
             [
              0.7777777777777778,
              "#fb9f3a"
             ],
             [
              0.8888888888888888,
              "#fdca26"
             ],
             [
              1,
              "#f0f921"
             ]
            ],
            "type": "histogram2dcontour"
           }
          ],
          "mesh3d": [
           {
            "colorbar": {
             "outlinewidth": 0,
             "ticks": ""
            },
            "type": "mesh3d"
           }
          ],
          "parcoords": [
           {
            "line": {
             "colorbar": {
              "outlinewidth": 0,
              "ticks": ""
             }
            },
            "type": "parcoords"
           }
          ],
          "pie": [
           {
            "automargin": true,
            "type": "pie"
           }
          ],
          "scatter": [
           {
            "fillpattern": {
             "fillmode": "overlay",
             "size": 10,
             "solidity": 0.2
            },
            "type": "scatter"
           }
          ],
          "scatter3d": [
           {
            "line": {
             "colorbar": {
              "outlinewidth": 0,
              "ticks": ""
             }
            },
            "marker": {
             "colorbar": {
              "outlinewidth": 0,
              "ticks": ""
             }
            },
            "type": "scatter3d"
           }
          ],
          "scattercarpet": [
           {
            "marker": {
             "colorbar": {
              "outlinewidth": 0,
              "ticks": ""
             }
            },
            "type": "scattercarpet"
           }
          ],
          "scattergeo": [
           {
            "marker": {
             "colorbar": {
              "outlinewidth": 0,
              "ticks": ""
             }
            },
            "type": "scattergeo"
           }
          ],
          "scattergl": [
           {
            "marker": {
             "colorbar": {
              "outlinewidth": 0,
              "ticks": ""
             }
            },
            "type": "scattergl"
           }
          ],
          "scattermap": [
           {
            "marker": {
             "colorbar": {
              "outlinewidth": 0,
              "ticks": ""
             }
            },
            "type": "scattermap"
           }
          ],
          "scattermapbox": [
           {
            "marker": {
             "colorbar": {
              "outlinewidth": 0,
              "ticks": ""
             }
            },
            "type": "scattermapbox"
           }
          ],
          "scatterpolar": [
           {
            "marker": {
             "colorbar": {
              "outlinewidth": 0,
              "ticks": ""
             }
            },
            "type": "scatterpolar"
           }
          ],
          "scatterpolargl": [
           {
            "marker": {
             "colorbar": {
              "outlinewidth": 0,
              "ticks": ""
             }
            },
            "type": "scatterpolargl"
           }
          ],
          "scatterternary": [
           {
            "marker": {
             "colorbar": {
              "outlinewidth": 0,
              "ticks": ""
             }
            },
            "type": "scatterternary"
           }
          ],
          "surface": [
           {
            "colorbar": {
             "outlinewidth": 0,
             "ticks": ""
            },
            "colorscale": [
             [
              0,
              "#0d0887"
             ],
             [
              0.1111111111111111,
              "#46039f"
             ],
             [
              0.2222222222222222,
              "#7201a8"
             ],
             [
              0.3333333333333333,
              "#9c179e"
             ],
             [
              0.4444444444444444,
              "#bd3786"
             ],
             [
              0.5555555555555556,
              "#d8576b"
             ],
             [
              0.6666666666666666,
              "#ed7953"
             ],
             [
              0.7777777777777778,
              "#fb9f3a"
             ],
             [
              0.8888888888888888,
              "#fdca26"
             ],
             [
              1,
              "#f0f921"
             ]
            ],
            "type": "surface"
           }
          ],
          "table": [
           {
            "cells": {
             "fill": {
              "color": "#EBF0F8"
             },
             "line": {
              "color": "white"
             }
            },
            "header": {
             "fill": {
              "color": "#C8D4E3"
             },
             "line": {
              "color": "white"
             }
            },
            "type": "table"
           }
          ]
         },
         "layout": {
          "annotationdefaults": {
           "arrowcolor": "#2a3f5f",
           "arrowhead": 0,
           "arrowwidth": 1
          },
          "autotypenumbers": "strict",
          "coloraxis": {
           "colorbar": {
            "outlinewidth": 0,
            "ticks": ""
           }
          },
          "colorscale": {
           "diverging": [
            [
             0,
             "#8e0152"
            ],
            [
             0.1,
             "#c51b7d"
            ],
            [
             0.2,
             "#de77ae"
            ],
            [
             0.3,
             "#f1b6da"
            ],
            [
             0.4,
             "#fde0ef"
            ],
            [
             0.5,
             "#f7f7f7"
            ],
            [
             0.6,
             "#e6f5d0"
            ],
            [
             0.7,
             "#b8e186"
            ],
            [
             0.8,
             "#7fbc41"
            ],
            [
             0.9,
             "#4d9221"
            ],
            [
             1,
             "#276419"
            ]
           ],
           "sequential": [
            [
             0,
             "#0d0887"
            ],
            [
             0.1111111111111111,
             "#46039f"
            ],
            [
             0.2222222222222222,
             "#7201a8"
            ],
            [
             0.3333333333333333,
             "#9c179e"
            ],
            [
             0.4444444444444444,
             "#bd3786"
            ],
            [
             0.5555555555555556,
             "#d8576b"
            ],
            [
             0.6666666666666666,
             "#ed7953"
            ],
            [
             0.7777777777777778,
             "#fb9f3a"
            ],
            [
             0.8888888888888888,
             "#fdca26"
            ],
            [
             1,
             "#f0f921"
            ]
           ],
           "sequentialminus": [
            [
             0,
             "#0d0887"
            ],
            [
             0.1111111111111111,
             "#46039f"
            ],
            [
             0.2222222222222222,
             "#7201a8"
            ],
            [
             0.3333333333333333,
             "#9c179e"
            ],
            [
             0.4444444444444444,
             "#bd3786"
            ],
            [
             0.5555555555555556,
             "#d8576b"
            ],
            [
             0.6666666666666666,
             "#ed7953"
            ],
            [
             0.7777777777777778,
             "#fb9f3a"
            ],
            [
             0.8888888888888888,
             "#fdca26"
            ],
            [
             1,
             "#f0f921"
            ]
           ]
          },
          "colorway": [
           "#636efa",
           "#EF553B",
           "#00cc96",
           "#ab63fa",
           "#FFA15A",
           "#19d3f3",
           "#FF6692",
           "#B6E880",
           "#FF97FF",
           "#FECB52"
          ],
          "font": {
           "color": "#2a3f5f"
          },
          "geo": {
           "bgcolor": "white",
           "lakecolor": "white",
           "landcolor": "white",
           "showlakes": true,
           "showland": true,
           "subunitcolor": "#C8D4E3"
          },
          "hoverlabel": {
           "align": "left"
          },
          "hovermode": "closest",
          "mapbox": {
           "style": "light"
          },
          "paper_bgcolor": "white",
          "plot_bgcolor": "white",
          "polar": {
           "angularaxis": {
            "gridcolor": "#EBF0F8",
            "linecolor": "#EBF0F8",
            "ticks": ""
           },
           "bgcolor": "white",
           "radialaxis": {
            "gridcolor": "#EBF0F8",
            "linecolor": "#EBF0F8",
            "ticks": ""
           }
          },
          "scene": {
           "xaxis": {
            "backgroundcolor": "white",
            "gridcolor": "#DFE8F3",
            "gridwidth": 2,
            "linecolor": "#EBF0F8",
            "showbackground": true,
            "ticks": "",
            "zerolinecolor": "#EBF0F8"
           },
           "yaxis": {
            "backgroundcolor": "white",
            "gridcolor": "#DFE8F3",
            "gridwidth": 2,
            "linecolor": "#EBF0F8",
            "showbackground": true,
            "ticks": "",
            "zerolinecolor": "#EBF0F8"
           },
           "zaxis": {
            "backgroundcolor": "white",
            "gridcolor": "#DFE8F3",
            "gridwidth": 2,
            "linecolor": "#EBF0F8",
            "showbackground": true,
            "ticks": "",
            "zerolinecolor": "#EBF0F8"
           }
          },
          "shapedefaults": {
           "line": {
            "color": "#2a3f5f"
           }
          },
          "ternary": {
           "aaxis": {
            "gridcolor": "#DFE8F3",
            "linecolor": "#A2B1C6",
            "ticks": ""
           },
           "baxis": {
            "gridcolor": "#DFE8F3",
            "linecolor": "#A2B1C6",
            "ticks": ""
           },
           "bgcolor": "white",
           "caxis": {
            "gridcolor": "#DFE8F3",
            "linecolor": "#A2B1C6",
            "ticks": ""
           }
          },
          "title": {
           "x": 0.05
          },
          "xaxis": {
           "automargin": true,
           "gridcolor": "#EBF0F8",
           "linecolor": "#EBF0F8",
           "ticks": "",
           "title": {
            "standoff": 15
           },
           "zerolinecolor": "#EBF0F8",
           "zerolinewidth": 2
          },
          "yaxis": {
           "automargin": true,
           "gridcolor": "#EBF0F8",
           "linecolor": "#EBF0F8",
           "ticks": "",
           "title": {
            "standoff": 15
           },
           "zerolinecolor": "#EBF0F8",
           "zerolinewidth": 2
          }
         }
        },
        "title": {
         "text": "BTC-USD Price Forecast with LSTM"
        },
        "xaxis": {
         "rangeselector": {
          "buttons": [
           {
            "count": 7,
            "label": "1w",
            "step": "day",
            "stepmode": "backward"
           },
           {
            "count": 1,
            "label": "1m",
            "step": "month",
            "stepmode": "backward"
           },
           {
            "count": 3,
            "label": "3m",
            "step": "month",
            "stepmode": "backward"
           },
           {
            "step": "all"
           }
          ]
         },
         "rangeslider": {
          "visible": true
         },
         "title": {
          "text": "Date"
         }
        },
        "yaxis": {
         "title": {
          "text": "Price (USD)"
         }
        }
       }
      }
     },
     "metadata": {},
     "output_type": "display_data"
    }
   ],
   "source": [
    "# Rebuild the signal column\n",
    "df_btc['signal'] = 0\n",
    "for i in range(1, len(df_btc)):\n",
    "    if df_btc['y'].iloc[i] > df_btc['y'].iloc[i-1] + 2000:\n",
    "        df_btc.loc[df_btc.index[i], 'signal'] = 1\n",
    "    elif df_btc['y'].iloc[i] < df_btc['y'].iloc[i-1] - 2000:\n",
    "        df_btc.loc[df_btc.index[i], 'signal'] = -1\n",
    "\n",
    "fig = go.Figure()\n",
    "\n",
    "# Add historical data trace\n",
    "fig.add_trace(go.Scatter(\n",
    "    x=df_btc['ds'],\n",
    "    y=df_btc['y'],\n",
    "    mode='lines',\n",
    "    name='Historical BTC Price'\n",
    "))\n",
    "fig.add_trace(go.Scatter(\n",
    "    x=forecast['ds'], \n",
    "    y = forecast['LSTM'], \n",
    "    name ='LSTM Forecast'\n",
    "))\n",
    "# Add Buy Signal Markers\n",
    "buy_signals = df_btc[df_btc['signal'] == 1]\n",
    "fig.add_trace(go.Scatter(\n",
    "    x=buy_signals['ds'],\n",
    "    y=buy_signals['y'],\n",
    "    mode='markers',\n",
    "    marker=dict(symbol='circle', size=6, color='green'),\n",
    "    name='Buy Signal'\n",
    "))\n",
    "\n",
    "# Add Sell Signal Markers\n",
    "sell_signals = df_btc[df_btc['signal'] == -1]\n",
    "fig.add_trace(go.Scatter(\n",
    "    x=sell_signals['ds'],\n",
    "    y=sell_signals['y'],\n",
    "    mode='markers',\n",
    "    marker=dict(symbol='circle', size=6, color='red'),\n",
    "    name='Sell Signal'\n",
    "))\n",
    "# Customize the layout\n",
    "fig.update_layout(\n",
    "    title='BTC-USD Price Forecast with LSTM',\n",
    "    xaxis_title='Date',\n",
    "    yaxis_title='Price (USD)',\n",
    "    template='plotly_white'  # Optional: Use a clean template\n",
    "\n",
    ")\n",
    "fig.update_xaxes(\n",
    "    rangeslider_visible=True,\n",
    "    rangeselector=dict(\n",
    "        buttons=list([\n",
    "            dict(count=7, label=\"1w\", step=\"day\", stepmode=\"backward\"),\n",
    "            dict(count=1, label=\"1m\", step=\"month\", stepmode=\"backward\"),\n",
    "            dict(count=3, label=\"3m\", step=\"month\", stepmode=\"backward\"),\n",
    "            dict(step=\"all\")\n",
    "        ])\n",
    "    )\n",
    ")\n",
    "# Show the plot\n",
    "fig.show()"
   ]
  },
  {
   "cell_type": "code",
   "execution_count": 166,
   "id": "2fa69ce4",
   "metadata": {},
   "outputs": [],
   "source": [
    "# Save it as an HTML file\n",
    "pio.write_html(fig, file='btc_LSTM_7.html', auto_open=False)"
   ]
  }
 ],
 "metadata": {
  "kernelspec": {
   "display_name": "crypto",
   "language": "python",
   "name": "python3"
  },
  "language_info": {
   "codemirror_mode": {
    "name": "ipython",
    "version": 3
   },
   "file_extension": ".py",
   "mimetype": "text/x-python",
   "name": "python",
   "nbconvert_exporter": "python",
   "pygments_lexer": "ipython3",
   "version": "3.9.21"
  }
 },
 "nbformat": 4,
 "nbformat_minor": 5
}
